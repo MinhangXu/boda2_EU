{
 "cells": [
  {
   "cell_type": "code",
   "execution_count": 116,
   "metadata": {
    "scrolled": true
   },
   "outputs": [
    {
     "name": "stdout",
     "output_type": "stream",
     "text": [
      "Requirement already satisfied: imageio in /opt/conda/lib/python3.7/site-packages (2.9.0)\n",
      "Requirement already satisfied: numpy in /opt/conda/lib/python3.7/site-packages (from imageio) (1.19.2)\n",
      "Requirement already satisfied: pillow in /opt/conda/lib/python3.7/site-packages (from imageio) (8.1.0)\n",
      "\u001b[33mWARNING: You are using pip version 20.2.3; however, version 21.0.1 is available.\n",
      "You should consider upgrading via the '/opt/conda/bin/python3.7 -m pip install --upgrade pip' command.\u001b[0m\n",
      "Requirement already satisfied: imageio-ffmpeg in /opt/conda/lib/python3.7/site-packages (0.4.3)\n",
      "\u001b[33mWARNING: You are using pip version 20.2.3; however, version 21.0.1 is available.\n",
      "You should consider upgrading via the '/opt/conda/bin/python3.7 -m pip install --upgrade pip' command.\u001b[0m\n",
      "Requirement already satisfied: dmslogo in /opt/conda/lib/python3.7/site-packages (0.6.2)\n",
      "Requirement already satisfied: palettable in /opt/conda/lib/python3.7/site-packages (from dmslogo) (3.3.0)\n",
      "Requirement already satisfied: matplotlib>=3.0.0 in /opt/conda/lib/python3.7/site-packages (from dmslogo) (3.3.3)\n",
      "Requirement already satisfied: pandas>=0.23 in /opt/conda/lib/python3.7/site-packages (from dmslogo) (1.1.3)\n",
      "Requirement already satisfied: setuptools in /opt/conda/lib/python3.7/site-packages (from dmslogo) (49.6.0.post20201009)\n",
      "Requirement already satisfied: numpy>=1.17 in /opt/conda/lib/python3.7/site-packages (from dmslogo) (1.19.2)\n",
      "Requirement already satisfied: python-dateutil>=2.1 in /opt/conda/lib/python3.7/site-packages (from matplotlib>=3.0.0->dmslogo) (2.8.1)\n",
      "Requirement already satisfied: pillow>=6.2.0 in /opt/conda/lib/python3.7/site-packages (from matplotlib>=3.0.0->dmslogo) (8.1.0)\n",
      "Requirement already satisfied: pyparsing!=2.0.4,!=2.1.2,!=2.1.6,>=2.0.3 in /opt/conda/lib/python3.7/site-packages (from matplotlib>=3.0.0->dmslogo) (2.4.7)\n",
      "Requirement already satisfied: kiwisolver>=1.0.1 in /opt/conda/lib/python3.7/site-packages (from matplotlib>=3.0.0->dmslogo) (1.3.1)\n",
      "Requirement already satisfied: cycler>=0.10 in /opt/conda/lib/python3.7/site-packages (from matplotlib>=3.0.0->dmslogo) (0.10.0)\n",
      "Requirement already satisfied: pytz>=2017.2 in /opt/conda/lib/python3.7/site-packages (from pandas>=0.23->dmslogo) (2020.5)\n",
      "Requirement already satisfied: six>=1.5 in /opt/conda/lib/python3.7/site-packages (from python-dateutil>=2.1->matplotlib>=3.0.0->dmslogo) (1.15.0)\n",
      "\u001b[33mWARNING: You are using pip version 20.2.3; however, version 21.0.1 is available.\n",
      "You should consider upgrading via the '/opt/conda/bin/python3.7 -m pip install --upgrade pip' command.\u001b[0m\n",
      "Requirement already satisfied: palettable in /opt/conda/lib/python3.7/site-packages (3.3.0)\n",
      "\u001b[33mWARNING: You are using pip version 20.2.3; however, version 21.0.1 is available.\n",
      "You should consider upgrading via the '/opt/conda/bin/python3.7 -m pip install --upgrade pip' command.\u001b[0m\n"
     ]
    }
   ],
   "source": [
    "!pip install imageio\n",
    "!pip install imageio-ffmpeg\n",
    "!pip install dmslogo\n",
    "!pip install palettable"
   ]
  },
  {
   "cell_type": "code",
   "execution_count": 2,
   "metadata": {},
   "outputs": [],
   "source": [
    "import sys\n",
    "import time\n",
    "import warnings\n",
    "\n",
    "import numpy as np\n",
    "import pandas as pd\n",
    "import torch\n",
    "import torch.nn as nn\n",
    "import torch.nn.functional as F\n",
    "import torch.autograd as ag\n",
    "from torch.distributions.categorical import Categorical\n",
    "\n",
    "from matplotlib import pyplot as plt\n",
    "import matplotlib.gridspec as gridspec\n",
    "import seaborn as sns\n"
   ]
  },
  {
   "cell_type": "code",
   "execution_count": 3,
   "metadata": {},
   "outputs": [],
   "source": [
    "class ParamsBase(nn.Module):\n",
    "    def __init__(self):\n",
    "        super().__init__()\n",
    "        \n",
    "    @property\n",
    "    def shape(self):\n",
    "        return self().shape\n",
    "    \n",
    "    def forward(self):\n",
    "        raise NotImplementedError(\"Params forward call not implemented.\")\n",
    "        return None\n",
    "        \n",
    "    def rebatch(self, input):\n",
    "        raise NotImplementedError(\"Rebatch function not implemented.\")\n",
    "        return None\n",
    "    \n",
    "    def prior_nll(self):\n",
    "        raise NotImplementedError(\"Prior Negative Log-Likelihood not implemented.\")\n",
    "        return None"
   ]
  },
  {
   "cell_type": "code",
   "execution_count": 4,
   "metadata": {},
   "outputs": [],
   "source": [
    "class BasicParameters(ParamsBase):\n",
    "    def __init__(self,\n",
    "                 data,\n",
    "                 left_flank=None,\n",
    "                 right_flank=None,\n",
    "                 batch_dim=0,\n",
    "                 cat_axis=-1\n",
    "                ):\n",
    "        \n",
    "        super().__init__()\n",
    "        \n",
    "        self.register_parameter('theta', data)\n",
    "        self.register_buffer('left_flank', left_flank)\n",
    "        self.register_buffer('right_flank', right_flank)\n",
    "        \n",
    "        self.cat_axis = cat_axis\n",
    "        self.batch_dim = batch_dim\n",
    "        \n",
    "    @property\n",
    "    def shape(self):\n",
    "        return self().shape\n",
    "\n",
    "    def forward(self):\n",
    "        my_attr = [ getattr(self, x) for x in ['theta', 'left_flank', 'right_flank'] ]\n",
    "        return torch.cat( [ x for x in my_attr if x is not None ], axis=self.cat_axis )\n",
    "    \n",
    "    def rebatch(self, input):\n",
    "        return input\n"
   ]
  },
  {
   "cell_type": "code",
   "execution_count": 5,
   "metadata": {},
   "outputs": [],
   "source": [
    "my_params = BasicParameters(\n",
    "    nn.Parameter(torch.randn([3,4,1])), \n",
    "    left_flank=None, \n",
    "    right_flank=None\n",
    ")"
   ]
  },
  {
   "cell_type": "code",
   "execution_count": 6,
   "metadata": {},
   "outputs": [],
   "source": [
    "class StraightThroughParameters(ParamsBase):\n",
    "    def __init__(self,\n",
    "                 data,\n",
    "                 left_flank=None,\n",
    "                 right_flank=None,\n",
    "                 batch_dim=0,\n",
    "                 cat_axis=-1,\n",
    "                 n_samples=1,\n",
    "                 temperature=1.,\n",
    "                ):\n",
    "        \n",
    "        super().__init__()\n",
    "        \n",
    "        self.register_parameter('theta', data)\n",
    "        self.register_buffer('left_flank', left_flank)\n",
    "        self.register_buffer('right_flank', right_flank)\n",
    "        \n",
    "        self.cat_axis = cat_axis\n",
    "        self.batch_dim = batch_dim\n",
    "        self.n_samples = n_samples\n",
    "        self.temperature = temperature\n",
    "        \n",
    "        self.softmax    = nn.Softmax(dim=-1)\n",
    "        self.num_classes= self.theta.shape[1]\n",
    "        self.n_dims     = len(self.theta.shape)\n",
    "        self.batch_size = self.theta.shape[batch_dim]\n",
    "        \n",
    "        self.perm_order   = [0] + list(range(2,self.n_dims)) + [1]\n",
    "        self.reverse_perm = [0,self.n_dims-1] + list(range(1,self.n_dims-1))\n",
    "                \n",
    "    @property\n",
    "    def shape(self):\n",
    "        return get_logits().shape\n",
    "    \n",
    "    def get_logits(self):\n",
    "        my_attr = [ getattr(self, x) for x in ['theta', 'left_flank', 'right_flank'] ]\n",
    "        return torch.cat( [ x for x in my_attr if x is not None ], axis=self.cat_axis )\n",
    "    \n",
    "    def get_probs_and_dist(self):\n",
    "        logits = self.get_logits()\n",
    "        logits = logits.permute( *self.perm_order ) \\\n",
    "                   .div(self.temperature)\n",
    "        probs  = self.softmax(logits)\n",
    "        dist   = Categorical(probs=probs)\n",
    "        return probs, dist\n",
    "    \n",
    "    def sample(self):\n",
    "        probs, dist = self.get_probs_and_dist()\n",
    "        sample = dist.sample((self.n_samples,))\n",
    "        sample = F.one_hot(sample, self.num_classes)\n",
    "        sample = sample - probs.detach() + probs\n",
    "        sample = sample.flatten(0,1)\n",
    "        sample = sample.permute( *self.reverse_perm )\n",
    "        return sample\n",
    "    \n",
    "    def forward(self):\n",
    "        return self.sample()\n",
    "    \n",
    "    def rebatch(self, input):\n",
    "        return input.unflatten(0, (self.n_samples, self.batch_size)).mean(dim=0)\n",
    "    \n",
    "class GumbelSoftmaxParameters(ParamsBase):\n",
    "    def __init__(self,\n",
    "                 data, \n",
    "                 left_flank=None,\n",
    "                 right_flank=None,\n",
    "                 batch_dim=0,\n",
    "                 cat_axis=-1,\n",
    "                 n_samples=1,\n",
    "                 tau=1.,\n",
    "                 prior_var=1.\n",
    "                ):\n",
    "        \n",
    "        super().__init__()\n",
    "        self.register_parameter('theta', data)\n",
    "        self.register_buffer('left_flank', left_flank)\n",
    "        self.register_buffer('right_flank', right_flank)\n",
    "        \n",
    "        self.cat_axis = cat_axis\n",
    "        self.batch_dim = batch_dim\n",
    "        self.n_samples = n_samples\n",
    "        self.tau = tau\n",
    "        self.prior_var = prior_var\n",
    "        \n",
    "        self.softmax    = nn.Softmax(dim=-1)\n",
    "        self.num_classes= self.theta.shape[1]\n",
    "        self.n_dims     = len(self.theta.shape)\n",
    "        self.batch_size = self.theta.shape[batch_dim]\n",
    "        \n",
    "    @property\n",
    "    def shape(self):\n",
    "        return get_logits().shape\n",
    "    \n",
    "    def get_logits(self):\n",
    "        my_attr = [ getattr(self, x) for x in ['theta', 'left_flank', 'right_flank'] ]\n",
    "        return torch.cat( [ x for x in my_attr if x is not None ], axis=self.cat_axis )\n",
    "    \n",
    "    def get_sample(self):\n",
    "        logits = self.get_logits()\n",
    "        samples= [ F.gumbel_softmax(logits, tau=self.tau, hard=True, dim=1) \n",
    "                   for i in range(self.n_samples) ]\n",
    "        return torch.stack(samples, dim=0)\n",
    "    \n",
    "    def forward(self):\n",
    "        sample = self.get_sample()\n",
    "        return sample.flatten(0,1)\n",
    "        \n",
    "    def rebatch(self, input):\n",
    "        return input.unflatten(0, (self.n_samples, self.batch_size)).mean(dim=0)\n",
    "    \n",
    "    def prior_nll(self):\n",
    "        return self.theta.transpose(self.batch_dim, 0).flatten(1).pow(2).div(2*self.prior_var).mean(1)"
   ]
  },
  {
   "cell_type": "code",
   "execution_count": 7,
   "metadata": {},
   "outputs": [],
   "source": [
    "class NUTS3(nn.Module):\n",
    "    def __init__(self,\n",
    "                 params,\n",
    "                 energy_fn,\n",
    "                 max_tree_depth=10\n",
    "                ):\n",
    "        \n",
    "        super().__init__()\n",
    "        self.params = params\n",
    "        self.energy_fn  = energy_fn\n",
    "        self.max_tree_depth = max_tree_depth\n",
    "        \n",
    "        self.d_max = 1000.\n",
    "        \n",
    "    def calc_energy(self):\n",
    "        energy = self.energy_fn(self.params())\n",
    "        energy = self.params.rebatch( energy )\n",
    "        try:\n",
    "            prior = self.params.prior_nll()\n",
    "            energy= energy + prior\n",
    "        except NotImplementedError:\n",
    "            warnings.warn(\"Prior Negative Log-Likelihood Not Implemented.\", RuntimeWarning)\n",
    "            pass\n",
    "        return energy\n",
    "\n",
    "    def leapfrog(self, theta, r, epsilon):\n",
    "        \n",
    "        self.params.theta.data = theta\n",
    "        energy = self.calc_energy()\n",
    "        grad_U = ag.grad( energy.sum(), self.params.theta )[0]\n",
    "        \n",
    "        with torch.no_grad():\n",
    "            r = r - grad_U.mul(epsilon).div(2.)\n",
    "            \n",
    "            theta = theta + r.mul(epsilon)\n",
    "            \n",
    "        self.params.theta.data = theta\n",
    "        energy = self.calc_energy()\n",
    "        grad_U = ag.grad( energy.sum(), self.params.theta )[0]\n",
    "        \n",
    "        with torch.no_grad():\n",
    "            r = r - grad_U.mul(epsilon).div(2.)\n",
    "            \n",
    "        return theta, r, energy\n",
    "        \n",
    "    def buildtree(self, theta, r, u, v, j, epsilon):\n",
    "        #print(f'current j: {j}')\n",
    "        if j == 0:\n",
    "            theta_p, r_p, energy_p = self.leapfrog(theta, r, v*epsilon)\n",
    "            batch_dot = torch.einsum('bs,bs->b', r_p.flatten(1), r_p.flatten(1))\n",
    "            hamilton  = energy_p + batch_dot.div(2.)\n",
    "            n_p = (u <= torch.exp(-hamilton)).type(torch.long)\n",
    "            s_p = (torch.log(u).add(-self.d_max) < -hamilton).type(torch.long)\n",
    "            #print(f'inner j: {j}')\n",
    "            #print(f'log u: {u.log()}, -H: {-hamilton}')\n",
    "            #print(theta_p, r_p, theta_p, r_p, theta_p, n_p, s_p, sep='\\n')\n",
    "            return theta_p, r_p, theta_p, r_p, theta_p, n_p, s_p\n",
    "        \n",
    "        else:\n",
    "            #print(f'inner j: {j}')\n",
    "            bt_pack = self.buildtree(theta, r, u, v, j-1, epsilon)\n",
    "            theta_r, r_r, theta_f, r_f, theta_p, n_p, s_p = bt_pack\n",
    "            #[print(a) for a in bt_pack]\n",
    "            if s_p.sum() > 0:\n",
    "                if v == -1:\n",
    "                    bt_pack = self.buildtree(theta_r, r_r, u, v, j-1, epsilon)\n",
    "                    theta_r, r_r, _, _, theta_pp, n_pp, s_pp = bt_pack\n",
    "                    \n",
    "                else:\n",
    "                    bt_pack = self.buildtree(theta_f, r_f, u, v, j-1, epsilon)\n",
    "                    _, _, theta_f, r_f, theta_pp, n_pp, s_pp = bt_pack\n",
    "                \n",
    "                update_flag = torch.rand(n_pp.size(), dtype=torch.float, \n",
    "                                         layout=n_pp.layout, device=n_pp.device)\n",
    "                update_flag = update_flag < n_pp.div( n_p + n_pp )\n",
    "                update_flag = torch.logical_and(update_flag, s_p.ge(1) )\n",
    "                theta_p[ update_flag ] = theta_pp[ update_flag ]\n",
    "                s_p = s_p * s_pp * \\\n",
    "                      torch.einsum('bs,bs->b', (theta_f - theta_r).flatten(1), r_r.flatten(1)) \\\n",
    "                        .ge(0.).type(torch.long) * \\\n",
    "                      torch.einsum('bs,bs->b', (theta_f - theta_r).flatten(1), r_f.flatten(1)) \\\n",
    "                        .ge(0.).type(torch.long)\n",
    "                n_p = n_p + n_pp\n",
    "            #print(theta_r, r_r, theta_f, r_f, theta_p, n_p, s_p)\n",
    "            return theta_r, r_r, theta_f, r_f, theta_p, n_p, s_p\n",
    "        \n",
    "    def init_trajectory(self, theta):\n",
    "        with torch.no_grad():\n",
    "            r_0 = torch.randn_like( theta )\n",
    "            energy_0 = self.calc_energy()\n",
    "            batch_dot= torch.einsum('bs,bs->b', r_0.flatten(1), r_0.flatten(1))\n",
    "            hamilton = energy_0 + batch_dot.div(2.)\n",
    "            u   = torch.rand_like( hamilton ).mul( torch.exp(-hamilton) )\n",
    "            \n",
    "            theta_r, theta_f = theta, theta\n",
    "            r_r, r_f = r_0, r_0\n",
    "            j = 0\n",
    "            theta_m = theta\n",
    "            n = torch.ones(batch_dot.size(), dtype=torch.long, layout=batch_dot.layout, device=batch_dot.device)\n",
    "            s = torch.ones(batch_dot.size(), dtype=torch.long, layout=batch_dot.layout, device=batch_dot.device)\n",
    "        return u, theta_r, r_r, theta_f, r_f, j, theta_m, n, s\n",
    "    \n",
    "    def sample_trajectory(self, theta, epsilon):\n",
    "        u, theta_r, r_r, theta_f, r_f, j, theta_m, n, s = self.init_trajectory(theta)\n",
    "        while (s.sum() >= 1) and (j < self.max_tree_depth):\n",
    "            v = torch.randn([1], dtype=torch.float, layout=theta.layout, device=theta.device) \\\n",
    "                  .ge(0.).mul(2.).add(-1.)\n",
    "            if v < 0:\n",
    "                theta_r, r_r, _, _, theta_p, n_p, s_p = self.buildtree(theta_r, r_r, u, v, j, epsilon)\n",
    "            else:\n",
    "                _, _, theta_f, r_f, theta_p, n_p, s_p = self.buildtree(theta_f, r_f, u, v, j, epsilon)\n",
    "            \n",
    "            #print('traj results:')\n",
    "            #print(theta_r, r_r, theta_f, r_f, theta_p, n_p, s_p, sep='\\n')\n",
    "            update_flag = torch.rand_like(n.type(torch.float))\n",
    "            update_flag = update_flag <= torch.minimum( n / n_p, torch.ones_like(n.type(torch.float)) )\n",
    "            update_flag = torch.logical_and( update_flag, s.ge(1) )\n",
    "            update_flag = torch.logical_and( update_flag, s_p.ge(1) )\n",
    "            #print(f'update_flag: {update_flag}')\n",
    "            theta_m[ update_flag ] = theta_p[ update_flag ]\n",
    "            \n",
    "            n = n + n_p\n",
    "            s = s * s_p * \\\n",
    "                torch.einsum('bs,bs->b', (theta_f - theta_r).flatten(1), r_r.flatten(1)) \\\n",
    "                  .ge(0.).type(torch.long) * \\\n",
    "                torch.einsum('bs,bs->b', (theta_f - theta_r).flatten(1), r_f.flatten(1)) \\\n",
    "                  .ge(0.).type(torch.long)\n",
    "            j = j + 1\n",
    "        \n",
    "        return theta_m.detach().clone()\n",
    "    \n",
    "    def collect_samples(self, epsilon, n_samples=1):\n",
    "        samples = []\n",
    "        theta_m = self.params.theta.clone().detach()\n",
    "        for m in range(n_samples):\n",
    "            theta_m = self.sample_trajectory( theta_m, epsilon )\n",
    "            with torch.no_grad():\n",
    "                self.params.theta.data = theta_m\n",
    "                samples.append( [theta_m, self.calc_energy()] )\n",
    "        return samples\n"
   ]
  },
  {
   "cell_type": "code",
   "execution_count": 80,
   "metadata": {},
   "outputs": [],
   "source": [
    "class a_frac(nn.Module):\n",
    "    def __init__(self, frac=0.2):\n",
    "        super().__init__()\n",
    "        self.frac = frac\n",
    "        self.energy = nn.KLDivLoss(reduction='none')\n",
    "        \n",
    "    def forward(self, in_tensor):\n",
    "        score = in_tensor[:,0,:].mean(1).add(1e-5).log()\n",
    "        labs  = torch.full_like(score, self.frac)\n",
    "        return self.energy(score, labs)\n",
    "\n",
    "class a_frac(nn.Module):\n",
    "    def __init__(self, frac=0.2):\n",
    "        super().__init__()\n",
    "        self.frac = frac\n",
    "        self.energy = nn.KLDivLoss(reduction='none')\n",
    "        \n",
    "    def forward(self, in_tensor):\n",
    "        score = in_tensor[:,0,:].mean(1).add(-self.frac).pow(2)\n",
    "        return score\n",
    "\n",
    "class a_only(nn.Module):\n",
    "    def __init__(self):\n",
    "        super().__init__()\n",
    "        self.loss = nn.CrossEntropyLoss(reduction='none')\n",
    "        \n",
    "    def forward(self, in_tensor):\n",
    "        score = in_tensor.sum(-1)\n",
    "        targs = torch.zeros(in_tensor.shape[0],\n",
    "                            layout=in_tensor.layout,\n",
    "                            device=in_tensor.device).long()\n",
    "        return self.loss(score, targs)\n",
    "        \n",
    "class hard_motif(nn.Module):\n",
    "    def __init__(self, motif):\n",
    "        super().__init__()\n",
    "        self.motif = motif\n",
    "        self.loss  = nn.KLDivLoss(reduction='none', log_target=True)\n",
    "        \n",
    "    def forward(self, in_tensor):\n",
    "        return self.loss( in_tensor, self.motif ).sum(-1).mean(-1)\n",
    "    \n",
    "class scan_motif(nn.Module):\n",
    "    def __init__(self, motif):\n",
    "        super().__init__()\n",
    "        self.motif = motif\n",
    "        self.filter= nn.Conv1d(motif.shape[1], motif.shape[0], motif.shape[2], \n",
    "                               bias=False)\n",
    "        self.filter.weight.data = motif\n",
    "        self.filter.weight.requires_grad = False\n",
    "        self.activation = nn.LogSigmoid()\n",
    "        \n",
    "    def forward(self, in_tensor):\n",
    "        hook = self.filter(in_tensor)\n",
    "        hook = hook.max(-1)[0]\n",
    "        #hook = self.activation(hook)\n",
    "        hook = hook.mul(-1).sum(-1)\n",
    "        return hook\n",
    "    \n",
    "class run_filter(nn.Module):\n",
    "    def __init__(self, motif):\n",
    "        super().__init__()\n",
    "        self.motif = motif\n",
    "        self.filter= nn.Conv1d(motif.shape[1], motif.shape[0], motif.shape[2], \n",
    "                               bias=False)\n",
    "        self.pad = nn.ConstantPad1d((0,self.filter.weight.shape[-1]-1),motif.min())\n",
    "        self.filter.weight.data = motif\n",
    "        self.filter.weight.requires_grad = False\n",
    "\n",
    "    def forward(self, in_tensor):\n",
    "        hook = self.filter(in_tensor)\n",
    "        return self.pad( hook )\n"
   ]
  },
  {
   "cell_type": "code",
   "execution_count": null,
   "metadata": {},
   "outputs": [],
   "source": [
    "tensor_to_dmsheat(sampled_theta, run_filter(motif_filter))"
   ]
  },
  {
   "cell_type": "code",
   "execution_count": 9,
   "metadata": {},
   "outputs": [],
   "source": [
    "my_params = StraightThroughParameters(\n",
    "    nn.Parameter(torch.randn([1,4,1])), \n",
    "    left_flank=None, \n",
    "    right_flank=None,\n",
    "    n_samples=2\n",
    ")\n",
    "\n",
    "my_params = GumbelSoftmaxParameters(\n",
    "    nn.Parameter(torch.randn([1,4,1])), \n",
    "    left_flank=None, \n",
    "    right_flank=None,\n",
    "    n_samples=100\n",
    ")"
   ]
  },
  {
   "cell_type": "code",
   "execution_count": 10,
   "metadata": {},
   "outputs": [],
   "source": [
    "my_energy = a_only()\n"
   ]
  },
  {
   "cell_type": "code",
   "execution_count": 11,
   "metadata": {
    "scrolled": true
   },
   "outputs": [
    {
     "name": "stdout",
     "output_type": "stream",
     "text": [
      "tensor([[0., 0., 1., 0.],\n",
      "        [0., 0., 1., 0.],\n",
      "        [0., 0., 1., 0.],\n",
      "        [0., 0., 1., 0.],\n",
      "        [0., 0., 1., 0.],\n",
      "        [0., 0., 1., 0.],\n",
      "        [0., 1., 0., 0.],\n",
      "        [0., 1., 0., 0.],\n",
      "        [0., 0., 1., 0.],\n",
      "        [0., 1., 0., 0.],\n",
      "        [0., 0., 1., 0.],\n",
      "        [0., 0., 1., 0.],\n",
      "        [0., 0., 0., 1.],\n",
      "        [0., 1., 0., 0.],\n",
      "        [0., 0., 1., 0.],\n",
      "        [0., 0., 1., 0.],\n",
      "        [0., 0., 1., 0.],\n",
      "        [0., 0., 1., 0.],\n",
      "        [0., 0., 1., 0.],\n",
      "        [0., 0., 1., 0.],\n",
      "        [0., 1., 0., 0.],\n",
      "        [0., 1., 0., 0.],\n",
      "        [0., 0., 1., 0.],\n",
      "        [0., 1., 0., 0.],\n",
      "        [0., 1., 0., 0.],\n",
      "        [0., 0., 1., 0.],\n",
      "        [0., 0., 1., 0.],\n",
      "        [0., 1., 0., 0.],\n",
      "        [0., 0., 1., 0.],\n",
      "        [0., 0., 1., 0.],\n",
      "        [0., 0., 1., 0.],\n",
      "        [0., 0., 1., 0.],\n",
      "        [0., 1., 0., 0.],\n",
      "        [0., 1., 0., 0.],\n",
      "        [0., 0., 1., 0.],\n",
      "        [0., 0., 1., 0.],\n",
      "        [0., 1., 0., 0.],\n",
      "        [0., 0., 1., 0.],\n",
      "        [0., 0., 1., 0.],\n",
      "        [0., 1., 0., 0.],\n",
      "        [0., 0., 1., 0.],\n",
      "        [0., 0., 0., 1.],\n",
      "        [0., 1., 0., 0.],\n",
      "        [0., 0., 1., 0.],\n",
      "        [0., 1., 0., 0.],\n",
      "        [0., 1., 0., 0.],\n",
      "        [0., 0., 1., 0.],\n",
      "        [0., 0., 1., 0.],\n",
      "        [0., 1., 0., 0.],\n",
      "        [0., 0., 1., 0.],\n",
      "        [0., 1., 0., 0.],\n",
      "        [0., 0., 1., 0.],\n",
      "        [0., 1., 0., 0.],\n",
      "        [0., 0., 1., 0.],\n",
      "        [0., 0., 1., 0.],\n",
      "        [0., 0., 1., 0.],\n",
      "        [0., 1., 0., 0.],\n",
      "        [1., 0., 0., 0.],\n",
      "        [0., 1., 0., 0.],\n",
      "        [0., 0., 1., 0.],\n",
      "        [0., 0., 1., 0.],\n",
      "        [0., 1., 0., 0.],\n",
      "        [0., 0., 1., 0.],\n",
      "        [0., 1., 0., 0.],\n",
      "        [0., 1., 0., 0.],\n",
      "        [0., 0., 1., 0.],\n",
      "        [0., 1., 0., 0.],\n",
      "        [1., 0., 0., 0.],\n",
      "        [0., 0., 1., 0.],\n",
      "        [0., 0., 1., 0.],\n",
      "        [0., 1., 0., 0.],\n",
      "        [0., 0., 1., 0.],\n",
      "        [0., 1., 0., 0.],\n",
      "        [0., 1., 0., 0.],\n",
      "        [0., 0., 1., 0.],\n",
      "        [0., 1., 0., 0.],\n",
      "        [0., 0., 1., 0.],\n",
      "        [0., 0., 1., 0.],\n",
      "        [0., 1., 0., 0.],\n",
      "        [0., 1., 0., 0.],\n",
      "        [0., 0., 1., 0.],\n",
      "        [0., 1., 0., 0.],\n",
      "        [0., 1., 0., 0.],\n",
      "        [0., 0., 1., 0.],\n",
      "        [0., 1., 0., 0.],\n",
      "        [1., 0., 0., 0.],\n",
      "        [0., 1., 0., 0.],\n",
      "        [0., 0., 1., 0.],\n",
      "        [0., 0., 1., 0.],\n",
      "        [0., 1., 0., 0.],\n",
      "        [1., 0., 0., 0.],\n",
      "        [0., 0., 0., 1.],\n",
      "        [0., 1., 0., 0.],\n",
      "        [0., 0., 1., 0.],\n",
      "        [0., 1., 0., 0.],\n",
      "        [0., 1., 0., 0.],\n",
      "        [0., 1., 0., 0.],\n",
      "        [0., 0., 1., 0.],\n",
      "        [0., 1., 0., 0.],\n",
      "        [0., 0., 1., 0.]], grad_fn=<SumBackward1>)\n",
      "tensor([0., 0., 0., 0., 0., 0., 0., 0., 0., 0., 0., 0., 0., 0., 0., 0., 0., 0.,\n",
      "        0., 0., 0., 0., 0., 0., 0., 0., 0., 0., 0., 0., 0., 0., 0., 0., 0., 0.,\n",
      "        0., 0., 0., 0., 0., 0., 0., 0., 0., 0., 0., 0., 0., 0., 0., 0., 0., 0.,\n",
      "        0., 0., 0., 1., 0., 0., 0., 0., 0., 0., 0., 0., 0., 1., 0., 0., 0., 0.,\n",
      "        0., 0., 0., 0., 0., 0., 0., 0., 0., 0., 0., 0., 0., 1., 0., 0., 0., 0.,\n",
      "        1., 0., 0., 0., 0., 0., 0., 0., 0., 0.], grad_fn=<SelectBackward>)\n",
      "tensor(0.7437, grad_fn=<SelectBackward>)\n",
      "tensor([[1.],\n",
      "        [0.],\n",
      "        [0.],\n",
      "        [0.]], grad_fn=<SelectBackward>)\n",
      "tensor(0.7437, grad_fn=<MinBackward1>)\n",
      "tensor(1.7437, grad_fn=<MaxBackward1>)\n",
      "tensor([[1.],\n",
      "        [0.],\n",
      "        [0.],\n",
      "        [0.]], grad_fn=<SelectBackward>)\n",
      "tensor([[0.],\n",
      "        [0.],\n",
      "        [1.],\n",
      "        [0.]], grad_fn=<SelectBackward>)\n"
     ]
    },
    {
     "data": {
      "text/plain": [
       "tensor([1.7437, 1.7437, 1.7437, 1.7437, 1.7437, 1.7437, 1.7437, 1.7437, 1.7437,\n",
       "        1.7437, 1.7437, 1.7437, 1.7437, 1.7437, 1.7437, 1.7437, 1.7437, 1.7437,\n",
       "        1.7437, 1.7437, 1.7437, 1.7437, 1.7437, 1.7437, 1.7437, 1.7437, 1.7437,\n",
       "        1.7437, 1.7437, 1.7437, 1.7437, 1.7437, 1.7437, 1.7437, 1.7437, 1.7437,\n",
       "        1.7437, 1.7437, 1.7437, 1.7437, 1.7437, 1.7437, 1.7437, 1.7437, 1.7437,\n",
       "        1.7437, 1.7437, 1.7437, 1.7437, 1.7437, 1.7437, 1.7437, 1.7437, 1.7437,\n",
       "        1.7437, 1.7437, 1.7437, 0.7437, 1.7437, 1.7437, 1.7437, 1.7437, 1.7437,\n",
       "        1.7437, 1.7437, 1.7437, 1.7437, 0.7437, 1.7437, 1.7437, 1.7437, 1.7437,\n",
       "        1.7437, 1.7437, 1.7437, 1.7437, 1.7437, 1.7437, 1.7437, 1.7437, 1.7437,\n",
       "        1.7437, 1.7437, 1.7437, 1.7437, 0.7437, 1.7437, 1.7437, 1.7437, 1.7437,\n",
       "        0.7437, 1.7437, 1.7437, 1.7437, 1.7437, 1.7437, 1.7437, 1.7437, 1.7437,\n",
       "        1.7437], grad_fn=<NllLossBackward>)"
      ]
     },
     "execution_count": 11,
     "metadata": {},
     "output_type": "execute_result"
    }
   ],
   "source": [
    "test = my_params()\n",
    "print(test.sum(-1))\n",
    "print(test.sum(-1)[:,0])\n",
    "print( my_energy(test)[torch.argmax(test.sum(-1)[:,0])] )\n",
    "print( test[torch.argmax(test.sum(-1)[:,0])] )\n",
    "print( my_energy( test ).min() )\n",
    "print( my_energy( test ).max() )\n",
    "print( test[my_energy( test ).argmin()] )\n",
    "print( test[my_energy( test ).argmax()] )\n",
    "my_energy( test )"
   ]
  },
  {
   "cell_type": "code",
   "execution_count": 12,
   "metadata": {},
   "outputs": [
    {
     "data": {
      "text/plain": [
       "tensor([1.7037], grad_fn=<MeanBackward1>)"
      ]
     },
     "execution_count": 12,
     "metadata": {},
     "output_type": "execute_result"
    }
   ],
   "source": [
    "my_params.rebatch( my_energy( test ) )"
   ]
  },
  {
   "cell_type": "code",
   "execution_count": 13,
   "metadata": {},
   "outputs": [],
   "source": [
    "my_sampler = NUTS3( my_params, my_energy, max_tree_depth=5 )"
   ]
  },
  {
   "cell_type": "code",
   "execution_count": 14,
   "metadata": {},
   "outputs": [
    {
     "data": {
      "text/plain": [
       "tensor([2.9568], grad_fn=<AddBackward0>)"
      ]
     },
     "execution_count": 14,
     "metadata": {},
     "output_type": "execute_result"
    }
   ],
   "source": [
    "my_sampler.calc_energy()"
   ]
  },
  {
   "cell_type": "code",
   "execution_count": 15,
   "metadata": {},
   "outputs": [
    {
     "data": {
      "text/plain": [
       "Parameter containing:\n",
       "tensor([[[-0.4599],\n",
       "         [ 1.2651],\n",
       "         [ 1.1355],\n",
       "         [-2.7210]]], requires_grad=True)"
      ]
     },
     "execution_count": 15,
     "metadata": {},
     "output_type": "execute_result"
    }
   ],
   "source": [
    "my_sampler.params.theta"
   ]
  },
  {
   "cell_type": "code",
   "execution_count": 16,
   "metadata": {},
   "outputs": [
    {
     "data": {
      "text/plain": [
       "tensor([[1]])"
      ]
     },
     "execution_count": 16,
     "metadata": {},
     "output_type": "execute_result"
    }
   ],
   "source": [
    "my_sampler.params.theta.argmax(1)"
   ]
  },
  {
   "cell_type": "code",
   "execution_count": 17,
   "metadata": {},
   "outputs": [
    {
     "name": "stderr",
     "output_type": "stream",
     "text": [
      "/opt/conda/lib/python3.7/site-packages/torch/autograd/__init__.py:204: UserWarning: CUDA initialization: Found no NVIDIA driver on your system. Please check that you have an NVIDIA GPU and installed a driver from http://www.nvidia.com/Download/index.aspx (Triggered internally at  /opt/conda/conda-bld/pytorch_1607370156314/work/c10/cuda/CUDAFunctions.cpp:100.)\n",
      "  inputs, allow_unused)\n"
     ]
    },
    {
     "name": "stdout",
     "output_type": "stream",
     "text": [
      "1242.592767715454\n"
     ]
    }
   ],
   "source": [
    "start = time.time()\n",
    "my_samples = my_sampler.collect_samples(1e-1,1000)\n",
    "print(time.time() - start)"
   ]
  },
  {
   "cell_type": "code",
   "execution_count": 33,
   "metadata": {},
   "outputs": [],
   "source": [
    "sampled_theta, sampled_energy = [ torch.stack(x, dim=0) for x in zip(*my_samples) ]"
   ]
  },
  {
   "cell_type": "code",
   "execution_count": 19,
   "metadata": {},
   "outputs": [
    {
     "name": "stdout",
     "output_type": "stream",
     "text": [
      "torch.Size([1000, 1, 4, 1])\n",
      "torch.Size([1000, 1])\n"
     ]
    }
   ],
   "source": [
    "print(sampled_theta.shape)\n",
    "print(sampled_energy.shape)"
   ]
  },
  {
   "cell_type": "code",
   "execution_count": 20,
   "metadata": {},
   "outputs": [],
   "source": [
    "b_dim = 0\n",
    "cpu_theta = sampled_theta.mean(-1)[-200:,b_dim,0].cpu().numpy()\n",
    "cpu_energy= sampled_energy[-200:,b_dim].cpu().numpy()"
   ]
  },
  {
   "cell_type": "code",
   "execution_count": 21,
   "metadata": {},
   "outputs": [
    {
     "data": {
      "text/plain": [
       "array([ 9.6656990e-01, -4.5952031e-01,  1.3175269e+00,  1.0837963e+00,\n",
       "        1.3887939e+00,  1.9131925e+00,  1.6904452e+00,  8.6935654e-02,\n",
       "        1.2728255e+00,  4.5032017e-02, -8.7228373e-02, -4.6234420e-01,\n",
       "       -1.4636239e+00, -3.1705377e+00, -2.8481970e+00,  5.7336181e-01,\n",
       "       -2.5337303e-01, -1.1356335e+00,  1.3514887e-01, -4.5133236e-01,\n",
       "        1.3287396e+00,  5.0243419e-01, -2.1349692e-01,  2.8751936e+00,\n",
       "        1.5708934e+00,  6.0324305e-01, -1.6261281e+00, -1.1138576e+00,\n",
       "        2.7282047e-01,  2.6310246e+00,  2.4270847e+00,  1.8574253e+00,\n",
       "        1.1382709e+00,  3.2439032e+00,  2.7429719e+00, -1.7463335e-01,\n",
       "        2.0923831e+00, -2.2617383e+00, -2.0980105e+00, -1.9261410e+00,\n",
       "       -1.8147626e+00,  1.7648700e+00,  3.2563555e+00,  1.9735677e+00,\n",
       "        1.6182250e+00,  4.0755215e+00,  2.1036532e+00,  7.7162498e-01,\n",
       "        1.5571843e+00,  1.9114064e+00, -5.5311018e-01,  5.3107888e-01,\n",
       "        3.5383618e-01,  7.5543392e-01, -5.1923847e-01,  8.8705099e-01,\n",
       "       -2.8188050e+00, -1.0589428e+00,  2.2433238e+00, -5.2219421e-01,\n",
       "       -6.4707768e-01, -1.5630790e+00, -2.9735177e+00, -3.9973931e+00,\n",
       "       -1.0830486e+00,  1.1307828e+00,  1.5119619e+00,  2.5034304e+00,\n",
       "        3.1129320e+00,  2.6278837e+00,  7.9637825e-01, -7.5034660e-01,\n",
       "       -9.4855744e-01, -1.8855530e+00, -1.0390720e+00,  2.4882239e-01,\n",
       "        9.3355829e-01,  1.9957210e+00,  6.2259829e-01,  7.8013861e-01,\n",
       "        1.7422299e+00,  1.9496987e+00, -2.1175358e+00, -3.4077084e+00,\n",
       "        6.0288787e-01,  1.7877575e+00,  1.9348949e+00,  7.5544620e-01,\n",
       "        7.1438408e-01, -1.0229268e+00, -9.1828060e-01, -9.8559302e-01,\n",
       "        1.9053025e+00,  2.8048577e+00,  1.9492470e+00,  1.9420944e+00,\n",
       "        1.3207147e+00,  1.0429237e+00,  2.9707937e+00,  6.4694202e-01,\n",
       "        4.9655908e-01,  1.2561908e-01,  2.9046628e-01,  2.5520494e+00,\n",
       "        2.7448428e+00, -1.0495828e+00, -9.7911102e-01,  2.1610622e+00,\n",
       "        2.8627727e+00,  3.7635884e+00, -8.1253344e-01, -2.6387343e-01,\n",
       "       -3.1543869e-01, -5.4051691e-01,  3.5620294e+00,  3.9142642e+00,\n",
       "        5.7491407e+00,  8.0210483e-01, -2.4594411e-01,  5.3859204e-02,\n",
       "        8.6832441e-02, -2.9926622e-01, -4.1863054e-02,  1.3925891e+00,\n",
       "        2.2510365e-03,  1.8724856e+00,  8.2611716e-01,  5.5335319e-01,\n",
       "        9.1413659e-01,  7.9730368e-01,  1.2771437e+00,  1.1719570e+00,\n",
       "       -3.0358297e-01, -2.5866768e-01, -7.2946179e-01, -1.6364043e+00,\n",
       "       -2.0489352e+00,  1.9483891e+00,  1.2667723e+00,  1.3084533e+00,\n",
       "        1.0372980e+00,  1.2879856e+00,  9.4180065e-01,  9.1815513e-01,\n",
       "        1.6765451e+00,  1.0535704e+00,  2.7598774e+00,  3.8858380e+00,\n",
       "        2.6666083e+00,  1.6994393e+00,  2.2048676e+00,  1.5858790e+00,\n",
       "        1.1975238e+00,  1.6071873e+00,  6.8608010e-01,  3.2820685e+00,\n",
       "        2.9179432e+00,  2.9184849e+00,  4.0508547e+00,  1.3888435e+00,\n",
       "       -9.0979725e-01, -1.9689389e+00, -1.1269989e+00,  5.2591577e-02,\n",
       "        1.9515681e-01, -4.4849312e-01, -3.8464305e-01, -3.6468491e-01,\n",
       "       -2.4925952e+00, -2.1204083e+00, -5.1177949e-01, -2.5834107e+00,\n",
       "       -1.7068001e+00,  6.8785095e-01,  1.4092335e+00,  2.8286042e+00,\n",
       "        2.3252950e+00,  2.6285424e+00,  2.4691589e+00,  2.3998160e+00,\n",
       "        1.0280564e+00, -2.1191435e+00, -1.0126254e-01,  2.1664612e-01,\n",
       "        1.1927711e+00,  2.0415857e+00,  5.9476829e+00, -7.3697591e-01,\n",
       "        2.8249304e+00,  2.7031789e+00,  2.4707851e+00, -9.2735308e-01,\n",
       "       -1.1091086e+00, -2.4841231e-01, -1.0634669e+00, -1.7077731e+00,\n",
       "       -1.0214794e+00,  4.8471490e-01,  4.1330263e-02,  4.1330263e-02],\n",
       "      dtype=float32)"
      ]
     },
     "execution_count": 21,
     "metadata": {},
     "output_type": "execute_result"
    }
   ],
   "source": [
    "cpu_theta"
   ]
  },
  {
   "cell_type": "code",
   "execution_count": 22,
   "metadata": {},
   "outputs": [
    {
     "data": {
      "image/png": "[encoded data removed]",
      "text/plain": [
       "<Figure size 432x432 with 3 Axes>"
      ]
     },
     "metadata": {
      "needs_background": "light"
     },
     "output_type": "display_data"
    }
   ],
   "source": [
    "g = sns.jointplot(x = cpu_theta, \n",
    "                  y = cpu_energy,\n",
    "                  kind='kde'\n",
    "                 )\n",
    "plt.show()"
   ]
  },
  {
   "cell_type": "markdown",
   "metadata": {},
   "source": [
    "# Sample directly from GATA1 motif"
   ]
  },
  {
   "cell_type": "code",
   "execution_count": 9,
   "metadata": {},
   "outputs": [],
   "source": [
    "motif = \"\"\"1114.00 206.00 318.00 4955.00   0.00   0.00 2049.00 658.00 963.00 1191.00 1778.00 1038.00 1352.00 1885.00 1381.00 110.00 4659.00 160.00\n",
    "2038.00 807.00   0.00   0.00   0.00 4955.00  63.00 1331.00 1214.00 1127.00 1130.00 1237.00 1142.00 1033.00 1237.00 4822.00   0.00 890.00\n",
    "967.00 159.00   0.00   0.00   0.00   0.00  55.00 2214.00 1244.00 1520.00 990.00 1712.00 1466.00 820.00 1884.00  23.00   0.00 3544.00\n",
    "836.00 3783.00 4637.00   0.00 4955.00   0.00 2788.00 752.00 1534.00 1117.00 1057.00 968.00 995.00 1217.00 453.00   0.00 296.00 361.00\"\"\""
   ]
  },
  {
   "cell_type": "code",
   "execution_count": 10,
   "metadata": {},
   "outputs": [],
   "source": [
    "def motif_str_to_counts(motif_str, pseudocounts=1.0):\n",
    "    motif = torch.tensor( [ list([ float(y) for y in x.split() ]) for x in motif_str.split('\\n') ] )\n",
    "    return motif.add(pseudocounts)\n",
    "\n",
    "def counts_to_ppm(in_tensor):\n",
    "    motif = in_tensor.div( in_tensor.sum(0) )\n",
    "    return motif\n",
    "\n",
    "def ppm_to_pwm(in_tensor,bkg=[0.25,0.25,0.25,0.25]):\n",
    "    motif = in_tensor.div(torch.tensor(bkg).unsqueeze(1)).log2()\n",
    "    return motif\n",
    "\n",
    "def ppm_to_U(in_tensor):\n",
    "    return (in_tensor.log2() * in_tensor).sum(0).mul(-1.)\n",
    "\n",
    "def ppm_to_IC(in_tensor):\n",
    "    return in_tensor * ppm_to_U( in_tensor ).mul(-1.).add(2.)\n",
    "\n",
    "def PWM_to_filter(motif_str):\n",
    "    motif = torch.tensor( [ list([ float(y) for y in x.split() ]) for x in motif_str.split('\\n') ] )\n",
    "    motif = motif.add(1.).div( motif.add(1.).sum(0) )\n",
    "    motif = motif.div( motif.add(-1).mul(-1) ).log().clamp(-5,5)\n",
    "    motif = torch.randn_like(motif).mul(1e-3).add(motif)\n",
    "    motif = motif.add(-motif.mean(0))\n",
    "    return motif\n",
    "\n",
    "def counts_to_filter(in_tensor):\n",
    "    motif = ppm_to_pwm( counts_to_ppm( in_tensor ) )\n",
    "    return motif.unsqueeze(0)"
   ]
  },
  {
   "cell_type": "code",
   "execution_count": 11,
   "metadata": {},
   "outputs": [
    {
     "data": {
      "text/plain": [
       "tensor([[-1.5301e-01, -2.5823e+00, -1.9584e+00,  1.9991e+00, -1.0276e+01,\n",
       "         -1.0276e+01,  7.2557e-01, -9.1170e-01, -3.6294e-01, -5.6665e-02,\n",
       "          5.2102e-01, -2.5485e-01,  1.2611e-01,  6.0528e-01,  1.5671e-01,\n",
       "         -3.4814e+00,  1.9103e+00, -2.9449e+00],\n",
       "        [ 7.1781e-01, -6.1762e-01, -1.0276e+01, -1.0276e+01, -1.0276e+01,\n",
       "          1.9991e+00, -4.2758e+00,  1.0354e-01, -2.9093e-02, -1.3628e-01,\n",
       "         -1.3245e-01, -2.0379e-03, -1.1722e-01, -2.6181e-01, -2.0379e-03,\n",
       "          1.9599e+00, -1.0276e+01, -4.7655e-01],\n",
       "        [-3.5697e-01, -2.9539e+00, -1.0276e+01, -1.0276e+01, -1.0276e+01,\n",
       "         -1.0276e+01, -4.4685e+00,  8.3726e-01,  6.0964e-03,  2.9497e-01,\n",
       "         -3.2309e-01,  4.6648e-01,  2.4282e-01, -5.9460e-01,  6.0452e-01,\n",
       "         -5.6909e+00, -1.0276e+01,  1.5157e+00],\n",
       "        [-5.6675e-01,  1.6099e+00,  1.9035e+00, -1.0276e+01,  1.9991e+00,\n",
       "         -1.0276e+01,  1.1697e+00, -7.1933e-01,  3.0819e-01, -1.4913e-01,\n",
       "         -2.2871e-01, -3.5548e-01, -3.1583e-01, -2.5535e-02, -1.4493e+00,\n",
       "         -1.0276e+01, -2.0615e+00, -1.7760e+00]])"
      ]
     },
     "execution_count": 11,
     "metadata": {},
     "output_type": "execute_result"
    }
   ],
   "source": [
    "ppm_to_pwm( counts_to_ppm( motif_str_to_counts(motif) ) )"
   ]
  },
  {
   "cell_type": "code",
   "execution_count": 12,
   "metadata": {},
   "outputs": [
    {
     "data": {
      "text/plain": [
       "tensor([[2.1451e-02, 3.8598e-02, 1.0615e-01, 1.9905e+00, 4.0163e-04, 4.0163e-04,\n",
       "         3.5227e-01, 2.2778e-02, 3.7411e-03, 2.9400e-03, 1.5548e-02, 7.9133e-03,\n",
       "         4.3075e-03, 2.6964e-02, 3.9090e-02, 4.0259e-02, 1.5670e+00, 2.5085e-02],\n",
       "        [3.9227e-02, 1.5066e-01, 3.3275e-04, 4.0163e-04, 4.0163e-04, 1.9905e+00,\n",
       "         1.0998e-02, 4.6039e-02, 4.7152e-03, 2.7822e-03, 9.8849e-03, 9.4289e-03,\n",
       "         3.6389e-03, 1.4783e-02, 3.5017e-02, 1.7493e+00, 3.3626e-04, 1.3883e-01],\n",
       "        [1.8623e-02, 2.9835e-02, 3.3275e-04, 4.0163e-04, 4.0163e-04, 4.0163e-04,\n",
       "         9.6230e-03, 7.6559e-02, 4.8316e-03, 3.7515e-03, 8.6613e-03, 1.3047e-02,\n",
       "         4.6704e-03, 1.1738e-02, 5.3318e-02, 8.7046e-03, 3.3626e-04, 5.5235e-01],\n",
       "        [1.6102e-02, 7.0559e-01, 1.5433e+00, 4.0163e-04, 1.9905e+00, 4.0163e-04,\n",
       "         4.7926e-01, 2.6027e-02, 5.9570e-03, 2.7575e-03, 9.2468e-03, 7.3802e-03,\n",
       "         3.1709e-03, 1.7413e-02, 1.2842e-02, 3.6269e-04, 9.9868e-02, 5.6403e-02]])"
      ]
     },
     "execution_count": 12,
     "metadata": {},
     "output_type": "execute_result"
    }
   ],
   "source": [
    "ppm_to_IC( counts_to_ppm( motif_str_to_counts(motif) ) )"
   ]
  },
  {
   "cell_type": "code",
   "execution_count": 54,
   "metadata": {},
   "outputs": [],
   "source": [
    "from Bio.Seq import Seq\n",
    "from Bio import motifs\n",
    "\n",
    "import imageio\n",
    "\n",
    "def two_pngs(png1,png2,target='compound_image.png',dpi=200):\n",
    "    img1 = plt.imread(png1)\n",
    "    img2 = plt.imread(png2)\n",
    "\n",
    "    plt.figure(1,figsize=(12,6),dpi=dpi)\n",
    "    plt.subplot(211)\n",
    "    plt.imshow(img1)\n",
    "    plt.axis('off')\n",
    "\n",
    "    plt.subplot(212)\n",
    "    plt.imshow(img2)\n",
    "    plt.axis('off')\n",
    "    plt.savefig(target)\n",
    "    plt.close()\n",
    "\n",
    "def seqs_from_tensor(in_tensor):\n",
    "    n_samples = 100\n",
    "    samples = [ F.gumbel_softmax(in_tensor, tau=1., hard=True, dim=0) \n",
    "                for i in range(n_samples) ]\n",
    "    samples = torch.stack(samples, dim=0).argmax(1)\n",
    "    seqs = []\n",
    "    for i in range(samples.shape[0]):\n",
    "        seqs.append(Seq(\"\".join([ ['A','C','G','T'][x.item()] for x in samples[i] ])))\n",
    "    return seqs\n",
    "\n",
    "def logo_from_batch(in_tensor, target='my_motif.png'):\n",
    "    token_tensor = F.gumbel_softmax(in_tensor, tau=1., hard=True, dim=1).argmax(1)\n",
    "    seqs = []\n",
    "    for sample in token_tensor:\n",
    "        seqs.append(Seq(''.join([ ['A','C','G','T'][x.item()] for x in sample ])))\n",
    "    m = motifs.create(seqs)\n",
    "    m.weblogo(target,**{'color_scheme': 'color_classic'})\n",
    "    return m\n",
    "\n",
    "def logo_from_tensor(in_tensor, target='my_motif.png'):\n",
    "    instance = seqs_from_tensor(in_tensor)\n",
    "    m        = motifs.create(instance)\n",
    "    m.weblogo(target, **{'color_scheme': 'color_classic'})\n",
    "    return m\n",
    "\n",
    "def logo_gif(in_tensor, target='my_motif.gif'):\n",
    "    images = []\n",
    "    for an_instance in in_tensor:\n",
    "        _ = logo_from_tensor(an_instance, target='temp_motif.png')\n",
    "        images.append( imageio.imread('temp_motif.png') )\n",
    "    imageio.mimsave(target, images, duration=0.01)\n",
    "    return images\n",
    "\n",
    "def logo_video(in_tensor, target='my_motif.mp4'):\n",
    "    images = []\n",
    "    writer = imageio.get_writer(target, fps=20)\n",
    "    for an_instance in in_tensor:\n",
    "        _ = logo_from_tensor(an_instance, target='temp_motif.png')\n",
    "        images.append( imageio.imread('temp_motif.png') )\n",
    "    for an_image in images:\n",
    "        writer.append_data(an_image)\n",
    "    writer.close()\n",
    "    return images\n",
    "\n",
    "def combo_video(theta_tensor, energy_tensor, target='my_motif.mp4'):\n",
    "    images = []\n",
    "    writer = imageio.get_writer(target, fps=20)\n",
    "    hold_range = torch.arange(energy_tensor.shape[0])\n",
    "    min_e = energy_tensor.min()\n",
    "    max_e = energy_tensor.max()\n",
    "    for i, a_theta in enumerate([ x for x in theta_tensor ]):\n",
    "        _ = logo_from_tensor(a_theta, target='temp_motif.png')\n",
    "        \n",
    "        fig = plt.figure(figsize=(12,4))\n",
    "        ax  = plt.axes()\n",
    "        ax.plot(hold_range[:i].cpu().numpy(), energy_tensor[:i].cpu().numpy())\n",
    "        ax.set_xlim(0, energy_tensor.shape[0])\n",
    "        ax.set_ylim(min_e, max_e)\n",
    "        ax.set_ylabel('Potential Energy')\n",
    "        ax.set_xlabel('Iteration')\n",
    "        fig.savefig('temp_line.png')\n",
    "        plt.close()\n",
    "        \n",
    "        two_pngs('temp_motif.png','temp_line.png','compound_image.png')\n",
    "        \n",
    "        images.append( imageio.imread('compound_image.png') )\n",
    "    for an_image in images:\n",
    "        writer.append_data(an_image)\n",
    "    writer.close()\n",
    "    return images\n",
    "    \n",
    "def pssm_to_bits(in_pssm):\n",
    "    bits_mat = {}\n",
    "    for NT, scores in in_pssm.items():\n",
    "        bits_mat[NT] = [ 1. / (1 + (2**(-x))) for x in scores ]\n",
    "    return bits_mat"
   ]
  },
  {
   "cell_type": "code",
   "execution_count": 180,
   "metadata": {},
   "outputs": [],
   "source": [
    "import dmslogo\n",
    "import palettable\n",
    "import dmslogo.colorschemes\n",
    "from dmslogo.colorschemes import CBPALETTE\n",
    "\n",
    "def tensor_to_pandas(in_tensor):\n",
    "    data = []\n",
    "    my_array = in_tensor.cpu().numpy()\n",
    "    for nt, score_vec,color in zip(['A','C','G','T'],[ sub_a for sub_a in my_array ],['green','blue','orange','red']):\n",
    "         _ = [ data.append([j,nt,score,color]) for j,score in enumerate(score_vec) ]\n",
    "    return pd.DataFrame(data=data,columns=['site', 'letter', 'height','color'])\n",
    "\n",
    "def counts_to_dms(in_tensor, ax=None):\n",
    "    motif = counts_to_ppm( in_tensor )\n",
    "    motif = ppm_to_IC( motif )\n",
    "    motif = tensor_to_pandas( motif )\n",
    "    fig, ax = dmslogo.draw_logo(data=motif,\n",
    "                                x_col='site',\n",
    "                                letter_col='letter',\n",
    "                                letter_height_col='height',\n",
    "                                color_col='color',\n",
    "                                ax=ax)\n",
    "    return fig, ax\n",
    "\n",
    "def tensor_to_dms(in_tensor, target='dms_motif.png', ax=None):\n",
    "    n_samples = 100\n",
    "    samples = [ F.gumbel_softmax(in_tensor, tau=1., hard=True, dim=0) \n",
    "                for i in range(n_samples) ]\n",
    "    samples = torch.stack(samples, dim=0).sum(0).add(0.1)\n",
    "    fig, ax = counts_to_dms(samples, ax=ax)\n",
    "    if target is not None:\n",
    "        fig.savefig(target,dpi=400)\n",
    "    return fig, ax\n",
    "    \n",
    "    \n",
    "def batch_to_dms(in_tensor, target='dms_motif.png'):\n",
    "    count_tensor = F.gumbel_softmax(in_tensor, tau=1., hard=True, dim=1).sum(0).add(1.0)\n",
    "    fig, ax = counts_to_dms(count_tensor)\n",
    "    fig.savefig(target)\n",
    "\n",
    "def dms_video(theta_tensor, energy_tensor, target='my_motif.mp4'):\n",
    "    images = []\n",
    "    writer = imageio.get_writer(target, fps=25)\n",
    "    hold_range = torch.arange(energy_tensor.shape[0])\n",
    "    min_e = energy_tensor.min()\n",
    "    max_e = energy_tensor.max()\n",
    "    for i, a_theta in enumerate([ x for x in theta_tensor ]):\n",
    "        #_ = tensor_to_dms(a_theta, target='dms_motif.png')\n",
    "        \n",
    "        fig = plt.figure(figsize=(12,8))\n",
    "        axes = fig.subplots(nrows=2)\n",
    "        axes[1].plot(hold_range[:i].cpu().numpy(), energy_tensor[:i].cpu().numpy())\n",
    "        axes[1].set_xlim(0, energy_tensor.shape[0])\n",
    "        axes[1].set_ylim(min_e, max_e)\n",
    "        axes[1].set_ylabel('Potential Energy')\n",
    "        axes[1].set_xlabel('Iteration')\n",
    "        _ = tensor_to_dms(a_theta, target=None,ax=axes[0])\n",
    "        fig.savefig('temp_line.png',dpi=100)\n",
    "        plt.close()\n",
    "        \n",
    "        #two_pngs('dms_motif.png','temp_line.png','compound_image.png',dpi=400)\n",
    "        \n",
    "        images.append( imageio.imread('temp_line.png') )\n",
    "    for an_image in images:\n",
    "        writer.append_data(an_image)\n",
    "    writer.close()\n",
    "    return images\n",
    "\n",
    "def dmsheat_video(theta_tensor, energy_tensor, scorer, target='my_motif.mp4'):\n",
    "    images = []\n",
    "    writer = imageio.get_writer(target, fps=25)\n",
    "    hold_range = torch.arange(energy_tensor.shape[0])\n",
    "    min_e = energy_tensor.min()\n",
    "    max_e = energy_tensor.max()\n",
    "    scores = scorer(theta_tensor)\n",
    "    for i, a_theta in enumerate([ x for x in theta_tensor ]):\n",
    "        #_ = tensor_to_dms(a_theta, target='dms_motif.png')\n",
    "        \n",
    "        fig = plt.figure(figsize=(12,8))\n",
    "        axes = fig.subplots(nrows=3)\n",
    "        axes[0].imshow(scores[i].cpu().numpy(),vmin=scores.min(),vmax=scores.max())\n",
    "        axes[2].plot(hold_range[:i].cpu().numpy(), energy_tensor[:i].cpu().numpy())\n",
    "        axes[2].set_xlim(0, energy_tensor.shape[0])\n",
    "        axes[2].set_ylim(min_e, max_e)\n",
    "        axes[2].set_ylabel('Potential Energy')\n",
    "        axes[2].set_xlabel('Iteration')\n",
    "        _ = tensor_to_dms(a_theta, target=None,ax=axes[1])\n",
    "        fig.savefig('temp_line.png',dpi=100)\n",
    "        plt.close()\n",
    "        \n",
    "        #two_pngs('dms_motif.png','temp_line.png','compound_image.png',dpi=400)\n",
    "        \n",
    "        images.append( imageio.imread('temp_line.png') )\n",
    "    for an_image in images:\n",
    "        writer.append_data(an_image)\n",
    "    writer.close()\n",
    "    return images\n",
    "\n"
   ]
  },
  {
   "cell_type": "code",
   "execution_count": 15,
   "metadata": {},
   "outputs": [],
   "source": [
    "motif_filter = PWM_to_filter(motif).unsqueeze(0)\n",
    "motif_filter = counts_to_filter( motif_str_to_counts(motif) )"
   ]
  },
  {
   "cell_type": "code",
   "execution_count": 16,
   "metadata": {},
   "outputs": [
    {
     "data": {
      "text/plain": [
       "torch.Size([4, 18])"
      ]
     },
     "execution_count": 16,
     "metadata": {},
     "output_type": "execute_result"
    }
   ],
   "source": [
    "ppm_to_IC( counts_to_ppm( motif_str_to_counts(motif) ) ).shape"
   ]
  },
  {
   "cell_type": "code",
   "execution_count": 17,
   "metadata": {},
   "outputs": [],
   "source": [
    "hold_dms = tensor_to_pandas(ppm_to_IC( counts_to_ppm( motif_str_to_counts(motif) ) ))"
   ]
  },
  {
   "cell_type": "code",
   "execution_count": 18,
   "metadata": {},
   "outputs": [
    {
     "data": {
      "image/png": "[encoded data removed]",
      "text/plain": [
       "<Figure size 478.8x180 with 1 Axes>"
      ]
     },
     "metadata": {
      "needs_background": "light"
     },
     "output_type": "display_data"
    }
   ],
   "source": [
    "fig, ax = counts_to_dms( motif_str_to_counts(motif) )\n"
   ]
  },
  {
   "cell_type": "code",
   "execution_count": 169,
   "metadata": {
    "scrolled": true
   },
   "outputs": [],
   "source": [
    "hold = motifs.create(seqs_from_tensor(motif_filter.squeeze()))\n",
    "hold.weblogo('testmotif.png',**{'color_scheme': 'color_classic'})"
   ]
  },
  {
   "cell_type": "code",
   "execution_count": 115,
   "metadata": {},
   "outputs": [],
   "source": [
    "hold.pseudocounts = { x: .01 for x in hold.pseudocounts.keys()}"
   ]
  },
  {
   "cell_type": "code",
   "execution_count": 16,
   "metadata": {},
   "outputs": [
    {
     "data": {
      "text/plain": [
       "tensor([[-0.0850,  0.7939, -0.2652, -0.4436],\n",
       "        [-1.3832,  0.1127, -1.6507,  2.9211],\n",
       "        [-0.1755, -2.4977, -2.4983,  5.1715],\n",
       "        [ 7.4999, -2.4999, -2.4988, -2.5013],\n",
       "        [-2.5001, -2.4992, -2.5011,  7.5004],\n",
       "        [-2.5004,  7.4997, -2.5004, -2.4989],\n",
       "        [ 1.8768, -2.1098, -2.2449,  2.4779],\n",
       "        [-0.6726,  0.2007,  0.9888, -0.5169],\n",
       "        [-0.3125, -0.0142,  0.0172,  0.3095],\n",
       "        [-0.0448, -0.1171,  0.2904, -0.1286],\n",
       "        [ 0.5430, -0.0954, -0.2637, -0.1839],\n",
       "        [-0.2082,  0.0193,  0.4815, -0.2927],\n",
       "        [ 0.1284, -0.0969,  0.2418, -0.2733],\n",
       "        [ 0.6512, -0.1940, -0.4761,  0.0190],\n",
       "        [ 0.2566,  0.1092,  0.7204, -1.0862],\n",
       "        [-1.2263,  6.1236, -2.4489, -2.4485],\n",
       "        [ 5.2476, -2.4987, -2.4987, -0.2502],\n",
       "        [-1.7614,  0.1168,  2.5532, -0.9086]])"
      ]
     },
     "execution_count": 16,
     "metadata": {},
     "output_type": "execute_result"
    }
   ],
   "source": [
    "motif_filter.squeeze().t()"
   ]
  },
  {
   "cell_type": "code",
   "execution_count": 19,
   "metadata": {},
   "outputs": [],
   "source": [
    "my_params = GumbelSoftmaxParameters(\n",
    "    nn.Parameter(torch.randn([3,4,18])), \n",
    "    left_flank=None, \n",
    "    right_flank=None,\n",
    "    n_samples=20,\n",
    "    prior_var=4.\n",
    ")\n",
    "\n",
    "my_energy = hard_motif(motif_filter)"
   ]
  },
  {
   "cell_type": "code",
   "execution_count": 20,
   "metadata": {},
   "outputs": [
    {
     "data": {
      "text/plain": [
       "tensor([11372.9004, 11213.5537, 11372.4297, 11324.8604, 10354.3301, 10465.8320,\n",
       "        10465.6572, 11255.9922, 10467.7568, 11371.4990, 10918.6230, 10472.9131,\n",
       "        10920.7363, 11257.0967, 10875.6641, 10917.0869, 10870.2510, 11374.0898,\n",
       "        11254.5020, 11376.6113, 10924.1660, 10460.4023, 11208.5400, 11374.3281,\n",
       "        10012.9131, 11257.1250, 11373.9941, 11373.0342, 11210.2920, 11373.3477,\n",
       "        10822.0352, 10832.6113, 10922.4375, 10347.0293, 10919.6191, 10922.6982,\n",
       "        10878.4287, 10918.2988, 11372.7861, 11258.7520, 11371.1631, 10472.1348,\n",
       "        10354.6240, 11321.3730, 10924.3223, 10917.6309, 11373.2773, 10875.4473,\n",
       "        10874.4492, 11258.3945, 10920.8770,  9969.7754, 10872.1367, 10874.8691,\n",
       "        10865.1133, 10418.2354, 11255.6494, 10357.6123, 11376.1133, 10470.0488],\n",
       "       grad_fn=<MeanBackward1>)"
      ]
     },
     "execution_count": 20,
     "metadata": {},
     "output_type": "execute_result"
    }
   ],
   "source": [
    "my_energy( my_params() )"
   ]
  },
  {
   "cell_type": "code",
   "execution_count": 22,
   "metadata": {},
   "outputs": [],
   "source": [
    "my_sampler = NUTS3( my_params, my_energy, max_tree_depth=6 )"
   ]
  },
  {
   "cell_type": "code",
   "execution_count": 23,
   "metadata": {},
   "outputs": [
    {
     "data": {
      "text/plain": [
       "tensor([10791.6133, 11020.5801, 10941.3760], grad_fn=<AddBackward0>)"
      ]
     },
     "execution_count": 23,
     "metadata": {},
     "output_type": "execute_result"
    }
   ],
   "source": [
    "my_sampler.calc_energy()"
   ]
  },
  {
   "cell_type": "code",
   "execution_count": 24,
   "metadata": {},
   "outputs": [
    {
     "data": {
      "text/plain": [
       "Parameter containing:\n",
       "tensor([[[-1.0924e+00, -1.9324e-01,  5.8821e-01,  7.8947e-01, -1.7907e-01,\n",
       "          -4.7468e-01, -7.6319e-01,  2.2669e-01, -1.3266e+00, -1.1737e-02,\n",
       "          -5.4966e-03, -1.0026e+00, -1.8968e+00,  8.0738e-02, -1.3361e+00,\n",
       "           1.0855e+00, -4.6178e-01, -2.8308e-01],\n",
       "         [-1.7114e+00,  5.1480e-01, -1.0188e-01, -2.1512e-01, -7.8062e-01,\n",
       "           6.2006e-01,  1.4228e-01,  1.5512e+00, -5.5406e-01, -2.2320e+00,\n",
       "          -4.5096e-01, -1.7633e-01,  1.0681e+00,  8.1987e-01, -5.8756e-01,\n",
       "           9.3440e-02, -1.8784e+00,  7.3087e-01],\n",
       "         [ 1.5716e+00,  8.6451e-01, -8.2917e-01,  6.7918e-01, -1.2456e+00,\n",
       "           9.8825e-01, -1.0072e+00,  9.1816e-01,  8.8858e-01,  6.6659e-01,\n",
       "           9.3008e-01,  1.8613e-01,  6.4460e-01, -5.3661e-01,  3.7945e-03,\n",
       "           7.4825e-02,  3.9406e-01,  1.0099e+00],\n",
       "         [ 6.1838e-01,  1.1324e+00, -1.3725e+00,  1.0428e+00,  6.0976e-01,\n",
       "          -1.4978e+00,  1.2676e+00, -5.6250e-01,  1.5820e-01, -7.7142e-01,\n",
       "          -7.3296e-01, -2.0826e-01,  5.4418e-01, -1.0814e+00, -1.7763e+00,\n",
       "           5.4137e-01,  5.3693e-02, -1.8044e+00]],\n",
       "\n",
       "        [[-7.4905e-01, -1.1219e+00,  3.8357e-01, -6.5304e-01, -4.9026e-01,\n",
       "          -4.6838e-01,  6.3472e-02, -3.6226e-01, -8.2750e-01,  2.6340e-01,\n",
       "           2.2495e-01, -1.9150e-01,  2.5050e-01, -2.3476e+00,  5.9674e-01,\n",
       "           5.8726e-01,  1.0835e+00, -2.3619e-02],\n",
       "         [-1.8941e-01, -2.9306e-01, -2.8955e-01,  4.6515e-01, -5.4649e-01,\n",
       "          -1.0284e+00,  1.5691e+00,  1.3875e+00, -2.0214e+00,  2.9904e-02,\n",
       "          -8.6556e-01, -3.1422e-01,  6.0922e-03, -9.8203e-01, -7.1761e-01,\n",
       "           7.2218e-01, -1.1640e+00, -5.8161e-01],\n",
       "         [-9.8861e-03,  1.5839e+00,  1.6316e+00, -1.6846e+00,  1.2766e+00,\n",
       "           8.2100e-01,  3.6891e-01, -6.1936e-01, -1.3341e+00, -5.8303e-01,\n",
       "          -6.1263e-01,  4.3958e-01,  3.6390e-01,  2.6867e-01, -2.2958e-01,\n",
       "           1.1025e-01,  4.2480e-01, -1.1693e+00],\n",
       "         [ 1.9915e-01,  2.1881e+00, -3.8673e-01, -1.1440e-01,  6.2011e-01,\n",
       "           7.1297e-01, -3.7051e-01,  8.7893e-01,  2.5911e-01,  9.4348e-01,\n",
       "           1.7553e-01, -6.2691e-02, -7.2937e-01,  7.7984e-01, -5.1519e-01,\n",
       "          -1.1490e-01,  3.5926e-01, -1.3533e+00]],\n",
       "\n",
       "        [[-2.0065e+00,  8.8678e-01,  1.8431e+00, -1.1938e+00, -6.1659e-01,\n",
       "           1.5576e+00,  7.9698e-01, -1.7024e-01,  1.6333e+00, -1.0701e+00,\n",
       "          -1.1271e+00, -4.7422e-01, -4.6252e-01, -9.7677e-01,  1.5868e+00,\n",
       "           2.5476e-01, -1.3466e+00,  6.7208e-01],\n",
       "         [-2.8467e-01,  6.1091e-01, -8.4418e-01,  2.2099e+00,  7.9675e-01,\n",
       "           1.8902e+00, -1.3484e+00,  3.9048e-01,  1.5560e+00,  8.7572e-02,\n",
       "           1.6645e+00,  1.0122e+00, -3.0089e-01, -3.1705e+00, -1.6700e+00,\n",
       "          -6.2138e-01, -7.5667e-01,  1.5837e-01],\n",
       "         [ 1.6878e-01,  2.9796e+00, -4.6766e-01, -9.9254e-01, -8.5601e-01,\n",
       "          -5.4929e-01,  5.4435e-01,  8.2263e-01, -5.3584e-01, -9.3250e-01,\n",
       "          -8.6590e-01, -4.0122e-01,  1.1685e+00, -9.0594e-02,  1.2553e+00,\n",
       "           1.1498e+00, -7.8579e-01, -4.5206e-01],\n",
       "         [-1.0059e+00,  1.4198e-03, -1.8227e+00, -7.6011e-01, -1.3142e-01,\n",
       "          -1.1031e+00, -3.9322e-01,  4.6449e-01, -1.1447e-01, -1.2375e+00,\n",
       "           2.9777e-01,  1.1040e+00,  2.9179e-01, -2.0213e+00, -3.9397e-02,\n",
       "           5.9674e-01, -3.8496e-01, -1.9053e-01]]], requires_grad=True)"
      ]
     },
     "execution_count": 24,
     "metadata": {},
     "output_type": "execute_result"
    }
   ],
   "source": [
    "my_sampler.params.theta"
   ]
  },
  {
   "cell_type": "code",
   "execution_count": 25,
   "metadata": {},
   "outputs": [
    {
     "data": {
      "text/plain": [
       "tensor([[2, 3, 0, 3, 3, 2, 3, 1, 2, 2, 2, 2, 1, 1, 2, 0, 2, 2],\n",
       "        [3, 3, 2, 1, 2, 2, 1, 1, 3, 3, 0, 2, 2, 3, 0, 1, 0, 0],\n",
       "        [2, 2, 0, 1, 1, 1, 0, 2, 0, 1, 1, 3, 2, 2, 0, 2, 3, 0]])"
      ]
     },
     "execution_count": 25,
     "metadata": {},
     "output_type": "execute_result"
    }
   ],
   "source": [
    "my_sampler.params.theta.argmax(1)"
   ]
  },
  {
   "cell_type": "code",
   "execution_count": 26,
   "metadata": {},
   "outputs": [
    {
     "name": "stderr",
     "output_type": "stream",
     "text": [
      "/opt/conda/lib/python3.7/site-packages/torch/autograd/__init__.py:204: UserWarning: CUDA initialization: Found no NVIDIA driver on your system. Please check that you have an NVIDIA GPU and installed a driver from http://www.nvidia.com/Download/index.aspx (Triggered internally at  /opt/conda/conda-bld/pytorch_1607370156314/work/c10/cuda/CUDAFunctions.cpp:100.)\n",
      "  inputs, allow_unused)\n"
     ]
    },
    {
     "name": "stdout",
     "output_type": "stream",
     "text": [
      "753.5387241840363\n"
     ]
    }
   ],
   "source": [
    "start = time.time()\n",
    "my_samples = my_sampler.collect_samples(1e-1,1000)\n",
    "print(time.time() - start)"
   ]
  },
  {
   "cell_type": "code",
   "execution_count": 27,
   "metadata": {},
   "outputs": [],
   "source": [
    "sampled_theta, sampled_energy = [ torch.stack(x, dim=0) for x in zip(*my_samples) ]"
   ]
  },
  {
   "cell_type": "code",
   "execution_count": 28,
   "metadata": {},
   "outputs": [
    {
     "name": "stdout",
     "output_type": "stream",
     "text": [
      "torch.Size([1000, 3, 4, 18])\n",
      "torch.Size([1000, 3])\n"
     ]
    }
   ],
   "source": [
    "print(sampled_theta.shape)\n",
    "print(sampled_energy.shape)"
   ]
  },
  {
   "cell_type": "code",
   "execution_count": 29,
   "metadata": {},
   "outputs": [
    {
     "data": {
      "text/plain": [
       "tensor([[[2.4573e-03, 9.9172e-01, 4.1682e-03, 1.6584e-03],\n",
       "         [3.6904e-02, 8.3082e-01, 6.4147e-02, 6.8129e-02],\n",
       "         [2.0652e-03, 9.9586e-01, 1.2742e-03, 8.0013e-04]],\n",
       "\n",
       "        [[6.1265e-06, 9.9998e-01, 3.6980e-06, 1.3997e-05],\n",
       "         [1.0742e-03, 9.9365e-01, 3.2965e-03, 1.9777e-03],\n",
       "         [4.8899e-04, 9.9875e-01, 3.8921e-04, 3.7567e-04]],\n",
       "\n",
       "        [[3.9430e-06, 9.9997e-01, 9.5161e-07, 2.8114e-05],\n",
       "         [8.1450e-09, 1.0000e+00, 1.8291e-09, 3.1550e-10],\n",
       "         [1.4775e-08, 9.9999e-01, 1.4072e-05, 1.6007e-08]],\n",
       "\n",
       "        ...,\n",
       "\n",
       "        [[2.3343e-04, 9.9975e-01, 1.7569e-05, 9.9654e-12],\n",
       "         [7.0182e-14, 1.0000e+00, 1.8263e-06, 3.3551e-16],\n",
       "         [3.3287e-09, 1.0000e+00, 7.4537e-14, 1.5852e-18]],\n",
       "\n",
       "        [[1.2441e-05, 9.9998e-01, 5.4667e-06, 1.0135e-08],\n",
       "         [1.7145e-14, 1.0000e+00, 6.2470e-08, 7.3344e-17],\n",
       "         [1.9588e-11, 1.0000e+00, 4.3945e-12, 1.9640e-18]],\n",
       "\n",
       "        [[1.2441e-05, 9.9998e-01, 5.4667e-06, 1.0135e-08],\n",
       "         [1.7145e-14, 1.0000e+00, 6.2470e-08, 7.3344e-17],\n",
       "         [1.9588e-11, 1.0000e+00, 4.3945e-12, 1.9640e-18]]])"
      ]
     },
     "execution_count": 29,
     "metadata": {},
     "output_type": "execute_result"
    }
   ],
   "source": [
    "sampled_theta[:,:,:,5].softmax(-1)"
   ]
  },
  {
   "cell_type": "code",
   "execution_count": 30,
   "metadata": {
    "scrolled": true
   },
   "outputs": [
    {
     "name": "stderr",
     "output_type": "stream",
     "text": [
      "IMAGEIO FFMPEG_WRITER WARNING: input image is not divisible by macro_block_size=16, resizing from (324, 107) to (336, 112) to ensure video compatibility with most codecs and players. To prevent resizing, make your input image divisible by the macro_block_size or set the macro_block_size to 1 (risking incompatibility).\n",
      "IMAGEIO FFMPEG_WRITER WARNING: input image is not divisible by macro_block_size=16, resizing from (324, 107) to (336, 112) to ensure video compatibility with most codecs and players. To prevent resizing, make your input image divisible by the macro_block_size or set the macro_block_size to 1 (risking incompatibility).\n",
      "IMAGEIO FFMPEG_WRITER WARNING: input image is not divisible by macro_block_size=16, resizing from (324, 107) to (336, 112) to ensure video compatibility with most codecs and players. To prevent resizing, make your input image divisible by the macro_block_size or set the macro_block_size to 1 (risking incompatibility).\n"
     ]
    }
   ],
   "source": [
    "hold1 = logo_video(sampled_theta[:,0],'traj_1b.mp4')\n",
    "hold2 = logo_video(sampled_theta[:,1],'traj_2b.mp4')\n",
    "hold3 = logo_video(sampled_theta[:,2],'traj_3b.mp4')"
   ]
  },
  {
   "cell_type": "markdown",
   "metadata": {},
   "source": [
    "# Scan for motif"
   ]
  },
  {
   "cell_type": "code",
   "execution_count": 20,
   "metadata": {},
   "outputs": [],
   "source": [
    "motif_filter = counts_to_filter( motif_str_to_counts(motif) )"
   ]
  },
  {
   "cell_type": "code",
   "execution_count": 21,
   "metadata": {},
   "outputs": [
    {
     "data": {
      "text/plain": [
       "torch.Size([1, 4, 18])"
      ]
     },
     "execution_count": 21,
     "metadata": {},
     "output_type": "execute_result"
    }
   ],
   "source": [
    "motif_filter.shape\n"
   ]
  },
  {
   "cell_type": "code",
   "execution_count": 22,
   "metadata": {},
   "outputs": [
    {
     "data": {
      "text/plain": [
       "tensor([[-1.5301e-01,  7.1781e-01, -3.5697e-01, -5.6675e-01],\n",
       "        [-2.5823e+00, -6.1762e-01, -2.9539e+00,  1.6099e+00],\n",
       "        [-1.9584e+00, -1.0276e+01, -1.0276e+01,  1.9035e+00],\n",
       "        [ 1.9991e+00, -1.0276e+01, -1.0276e+01, -1.0276e+01],\n",
       "        [-1.0276e+01, -1.0276e+01, -1.0276e+01,  1.9991e+00],\n",
       "        [-1.0276e+01,  1.9991e+00, -1.0276e+01, -1.0276e+01],\n",
       "        [ 7.2557e-01, -4.2758e+00, -4.4685e+00,  1.1697e+00],\n",
       "        [-9.1170e-01,  1.0354e-01,  8.3726e-01, -7.1933e-01],\n",
       "        [-3.6294e-01, -2.9093e-02,  6.0964e-03,  3.0819e-01],\n",
       "        [-5.6665e-02, -1.3628e-01,  2.9497e-01, -1.4913e-01],\n",
       "        [ 5.2102e-01, -1.3245e-01, -3.2309e-01, -2.2871e-01],\n",
       "        [-2.5485e-01, -2.0379e-03,  4.6648e-01, -3.5548e-01],\n",
       "        [ 1.2611e-01, -1.1722e-01,  2.4282e-01, -3.1583e-01],\n",
       "        [ 6.0528e-01, -2.6181e-01, -5.9460e-01, -2.5535e-02],\n",
       "        [ 1.5671e-01, -2.0379e-03,  6.0452e-01, -1.4493e+00],\n",
       "        [-3.4814e+00,  1.9599e+00, -5.6909e+00, -1.0276e+01],\n",
       "        [ 1.9103e+00, -1.0276e+01, -1.0276e+01, -2.0615e+00],\n",
       "        [-2.9449e+00, -4.7655e-01,  1.5157e+00, -1.7760e+00]])"
      ]
     },
     "execution_count": 22,
     "metadata": {},
     "output_type": "execute_result"
    }
   ],
   "source": [
    "motif_filter.squeeze().t()"
   ]
  },
  {
   "cell_type": "code",
   "execution_count": 167,
   "metadata": {},
   "outputs": [],
   "source": [
    "my_params = GumbelSoftmaxParameters(\n",
    "    nn.Parameter(torch.randn([2,4,64])), \n",
    "    left_flank=None, \n",
    "    right_flank=None,\n",
    "    n_samples=10,\n",
    "    prior_var=1.\n",
    ")\n",
    "\n",
    "my_energy = scan_motif(motif_filter)"
   ]
  },
  {
   "cell_type": "code",
   "execution_count": 168,
   "metadata": {},
   "outputs": [
    {
     "data": {
      "text/plain": [
       "tensor([ 9.0329,  9.3846, 16.7568, 13.3772, 14.2326,  2.8304, 15.6578, 11.1030,\n",
       "         0.6123, 12.0747,  9.0053, 14.3593,  8.8486, 15.2581,  6.4535, 13.2768,\n",
       "        12.1341,  3.3800, -1.7584,  5.3329], grad_fn=<SumBackward1>)"
      ]
     },
     "execution_count": 168,
     "metadata": {},
     "output_type": "execute_result"
    }
   ],
   "source": [
    "my_energy( my_params() )"
   ]
  },
  {
   "cell_type": "code",
   "execution_count": 169,
   "metadata": {
    "scrolled": true
   },
   "outputs": [
    {
     "data": {
      "text/plain": [
       "tensor([[[0., 0., 0.,  ..., 1., 1., 0.],\n",
       "         [1., 0., 1.,  ..., 0., 0., 0.],\n",
       "         [0., 0., 0.,  ..., 0., 0., 0.],\n",
       "         [0., 1., 0.,  ..., 0., 0., 1.]],\n",
       "\n",
       "        [[0., 0., 1.,  ..., 0., 0., 1.],\n",
       "         [1., 1., 0.,  ..., 0., 0., 0.],\n",
       "         [0., 0., 0.,  ..., 1., 1., 0.],\n",
       "         [0., 0., 0.,  ..., 0., 0., 0.]],\n",
       "\n",
       "        [[1., 0., 0.,  ..., 1., 0., 0.],\n",
       "         [0., 0., 0.,  ..., 0., 0., 1.],\n",
       "         [0., 0., 1.,  ..., 0., 1., 0.],\n",
       "         [0., 1., 0.,  ..., 0., 0., 0.]],\n",
       "\n",
       "        ...,\n",
       "\n",
       "        [[0., 0., 0.,  ..., 1., 0., 0.],\n",
       "         [1., 0., 0.,  ..., 0., 0., 0.],\n",
       "         [0., 0., 0.,  ..., 0., 1., 0.],\n",
       "         [0., 1., 1.,  ..., 0., 0., 1.]],\n",
       "\n",
       "        [[0., 0., 1.,  ..., 0., 0., 1.],\n",
       "         [1., 0., 0.,  ..., 1., 1., 0.],\n",
       "         [0., 0., 0.,  ..., 0., 0., 0.],\n",
       "         [0., 1., 0.,  ..., 0., 0., 0.]],\n",
       "\n",
       "        [[1., 1., 1.,  ..., 0., 0., 0.],\n",
       "         [0., 0., 0.,  ..., 0., 0., 0.],\n",
       "         [0., 0., 0.,  ..., 0., 1., 1.],\n",
       "         [0., 0., 0.,  ..., 1., 0., 0.]]], grad_fn=<ViewBackward>)"
      ]
     },
     "execution_count": 169,
     "metadata": {},
     "output_type": "execute_result"
    }
   ],
   "source": [
    "my_params()"
   ]
  },
  {
   "cell_type": "code",
   "execution_count": 170,
   "metadata": {},
   "outputs": [],
   "source": [
    "my_sampler = NUTS3( my_params, my_energy, max_tree_depth=6 )"
   ]
  },
  {
   "cell_type": "code",
   "execution_count": 171,
   "metadata": {},
   "outputs": [
    {
     "data": {
      "text/plain": [
       "tensor([ 5.9082, 12.6035], grad_fn=<AddBackward0>)"
      ]
     },
     "execution_count": 171,
     "metadata": {},
     "output_type": "execute_result"
    }
   ],
   "source": [
    "my_sampler.calc_energy()"
   ]
  },
  {
   "cell_type": "code",
   "execution_count": 172,
   "metadata": {},
   "outputs": [
    {
     "data": {
      "text/plain": [
       "Parameter containing:\n",
       "tensor([[[-5.7725e-01, -1.0197e+00, -6.3054e-01, -1.1220e+00, -8.8846e-01,\n",
       "           1.3736e-01,  9.7661e-02, -7.7257e-01, -6.6848e-01, -9.5081e-01,\n",
       "          -5.2030e-01,  7.5917e-01,  1.6620e-01, -9.8203e-01,  1.6878e+00,\n",
       "          -2.3338e+00,  6.3845e-01, -3.8993e-01,  1.0111e+00,  7.7997e-01,\n",
       "          -6.6986e-01, -1.0734e+00,  2.3608e+00,  1.2794e+00,  2.3926e-01,\n",
       "           1.1404e+00, -7.0897e-01,  2.0386e-01,  1.9870e+00,  7.8842e-01,\n",
       "           9.8383e-01,  1.5171e+00,  1.7796e-01, -7.6739e-01, -1.3240e+00,\n",
       "          -1.9862e+00, -2.5025e-01,  3.5615e-01,  9.6171e-01,  6.2176e-01,\n",
       "           9.6275e-02, -5.5354e-01,  8.6532e-01,  2.1201e-01,  2.5441e-01,\n",
       "           9.4630e-02,  1.2847e+00, -1.2760e+00, -1.1595e+00,  5.8098e-02,\n",
       "           2.5456e+00, -2.7425e-01, -4.2419e-01,  4.7987e-01, -8.3526e-01,\n",
       "           4.6043e-01,  1.5412e+00,  1.4404e+00,  1.2150e+00, -1.0898e+00,\n",
       "          -4.4887e-01,  1.2537e+00,  2.6399e-01,  5.0639e-01],\n",
       "         [-7.5257e-01,  2.0565e-01, -1.6289e+00,  3.8010e-01, -5.7000e-01,\n",
       "          -3.9576e-01,  6.8927e-01,  8.2611e-02,  1.8968e+00, -1.7718e-02,\n",
       "          -1.5947e+00,  2.9211e-02,  6.1995e-02, -8.8915e-01, -4.5911e-01,\n",
       "          -1.0474e-01,  1.0163e+00, -2.2655e+00, -1.0119e+00,  1.6471e+00,\n",
       "           4.5729e-01, -1.8291e+00,  5.3131e-01, -1.0939e+00, -1.8281e+00,\n",
       "           4.5079e-01,  3.0394e-01, -1.5523e-01,  1.1353e+00, -1.0946e+00,\n",
       "          -9.3363e-01, -6.7653e-01,  5.0787e-01,  2.3972e-01, -6.4430e-01,\n",
       "           8.5521e-01, -1.6291e-01,  8.0600e-01,  1.3533e+00,  4.3957e-01,\n",
       "           5.6202e-01,  7.7038e-01,  3.7604e-01, -5.0915e-01, -7.1003e-01,\n",
       "          -1.0055e+00,  7.2177e-01, -2.5046e-01, -7.6145e-01, -1.0373e+00,\n",
       "           2.2102e-01, -1.2510e-01, -8.8465e-02, -1.9445e+00,  7.4920e-01,\n",
       "           1.4924e+00, -1.0923e+00,  1.3899e-02, -1.2433e-02, -1.2164e+00,\n",
       "           4.7446e-01,  1.2424e+00, -4.5688e-01,  1.6055e+00],\n",
       "         [ 6.2287e-01, -1.9360e+00, -3.6266e-02,  2.0906e+00,  5.0889e-01,\n",
       "          -4.7955e-01, -1.9868e-01, -1.5277e-01, -1.7675e+00, -9.8834e-01,\n",
       "          -8.4066e-01, -3.5790e-01,  4.8288e-01, -5.0368e-01,  1.4122e+00,\n",
       "          -1.1691e+00,  2.2066e+00,  5.7524e-01, -1.2640e+00, -2.9073e-01,\n",
       "          -2.1173e+00, -4.4804e-01, -1.2000e+00,  2.8010e-01, -1.2062e+00,\n",
       "          -2.4960e-01,  2.1924e-01, -2.9936e-01,  7.0874e-01,  1.0945e+00,\n",
       "           3.3997e-01, -9.0326e-01, -9.8308e-01,  1.3118e+00,  1.6715e-01,\n",
       "          -1.1637e-01, -4.9457e-01,  6.6050e-01,  5.9945e-02, -1.4105e-01,\n",
       "           7.9382e-01, -1.1178e+00, -1.5132e+00,  4.0553e-01,  2.4363e-01,\n",
       "          -3.0335e+00, -1.2857e+00, -3.2637e-02,  1.9413e-02,  4.5928e-01,\n",
       "          -1.4763e+00,  2.6870e-01, -5.3499e-01,  1.2653e+00, -1.8246e-01,\n",
       "           7.5670e-01,  1.0520e-01, -1.1032e+00, -7.5727e-01,  9.7151e-01,\n",
       "           2.9037e-01,  1.3629e-01,  3.6237e-02, -2.3404e-01],\n",
       "         [-3.8310e-01,  1.8041e+00, -7.1456e-04, -5.9597e-02,  1.9208e+00,\n",
       "           5.3180e-01, -7.1232e-01,  3.7543e-01,  5.5961e-01, -2.8122e-01,\n",
       "           3.5215e-01,  9.4528e-01,  1.4028e+00, -6.5694e-01, -9.9727e-02,\n",
       "          -3.5516e-01,  6.1350e-02, -8.7064e-01,  2.2072e-02, -9.3089e-01,\n",
       "          -8.7618e-02, -2.3289e-01, -6.3344e-01,  5.0754e-01,  1.5618e-01,\n",
       "           3.5717e-01, -1.4483e+00,  9.1593e-01,  1.0958e+00, -1.1891e+00,\n",
       "           4.8766e-01, -5.2252e-01,  1.0448e+00, -5.0444e-01, -2.0055e-01,\n",
       "           1.2880e+00,  6.3084e-01,  3.4741e-01, -7.0151e-01,  1.5015e-01,\n",
       "           1.1637e+00,  1.3289e+00,  1.0199e+00,  8.7723e-01, -4.5821e-01,\n",
       "           7.5320e-01, -1.6043e-01, -7.6856e-02, -9.2357e-01, -1.1043e-01,\n",
       "           1.6008e+00,  1.3675e+00, -2.1527e+00,  3.7846e-01, -2.4295e+00,\n",
       "           1.5157e+00, -8.1304e-01, -1.1494e-01, -3.6197e-02,  2.7492e-01,\n",
       "          -3.0343e-01, -9.8880e-02, -2.0053e-01,  2.0718e+00]],\n",
       "\n",
       "        [[-7.1132e-02,  1.0278e+00, -9.9449e-01,  6.7100e-01, -1.5376e-01,\n",
       "           1.1683e+00, -4.9644e-01, -6.1048e-01,  2.5703e-01,  2.8664e+00,\n",
       "           8.7581e-01, -6.1086e-01,  7.6580e-01,  6.4477e-02, -5.6734e-01,\n",
       "          -1.3039e+00,  1.1924e+00,  7.1617e-01, -5.2417e-01, -1.3071e+00,\n",
       "           8.0852e-01, -1.3697e+00,  1.4324e+00,  8.6838e-01,  1.1015e+00,\n",
       "           6.7268e-01, -9.2170e-01,  4.3644e-01, -4.9840e-01, -5.2000e-01,\n",
       "          -4.1119e-01,  3.8000e-01, -1.9921e+00,  1.0398e+00, -7.3806e-01,\n",
       "           2.4639e-02, -9.6314e-01,  9.4768e-01,  7.9585e-01,  2.3317e+00,\n",
       "           9.8173e-01,  7.7986e-01,  3.3351e-01, -5.9296e-01, -4.4050e-01,\n",
       "          -1.7062e+00,  8.5218e-02, -1.4328e-01,  1.4286e+00,  1.7764e+00,\n",
       "           1.4760e-01, -1.2328e+00,  4.6441e-01, -6.5927e-01, -2.3306e-01,\n",
       "          -9.5440e-02, -1.8635e-02,  1.6063e+00,  3.7784e-01,  2.1844e-01,\n",
       "           5.7493e-01, -2.0656e-01,  1.1313e+00,  1.7274e+00],\n",
       "         [ 5.6528e-01, -1.6459e-01, -3.4119e-01, -4.9031e-01,  2.4618e-01,\n",
       "           1.9189e-01, -1.0539e+00,  1.6121e+00, -2.7568e-01,  9.2841e-01,\n",
       "          -4.0550e-02, -2.2180e-01, -1.4458e-01,  6.3864e-02, -1.5206e+00,\n",
       "          -1.0375e+00,  5.7433e-01, -1.5232e+00, -1.2739e+00, -7.7041e-01,\n",
       "           1.5926e+00, -1.2597e+00, -7.8963e-01, -2.6137e+00,  5.5159e-01,\n",
       "          -1.1440e+00, -3.8738e-01,  2.6237e-01, -1.6257e+00,  4.3674e-01,\n",
       "           1.3248e+00,  3.6006e-01,  1.6201e+00,  1.3593e+00,  9.8537e-01,\n",
       "           6.6644e-01, -8.7291e-01,  6.8091e-01, -2.5612e-01,  6.4425e-01,\n",
       "          -6.0907e-01,  5.1934e-01, -8.0859e-01, -2.1238e-01,  8.7636e-01,\n",
       "           4.8519e-01,  1.0342e+00,  1.0573e+00,  9.9092e-01,  8.8372e-01,\n",
       "           2.4481e+00, -3.9669e-01,  5.4852e-01, -2.3152e-02, -2.3226e-01,\n",
       "           3.6453e-01,  6.2757e-01, -9.2927e-01,  1.8332e+00,  6.3978e-02,\n",
       "          -9.2695e-01,  4.9558e-01, -8.0207e-01, -8.0909e-01],\n",
       "         [ 2.3061e-01, -1.6545e+00,  1.9469e-03, -5.2841e-01, -1.2737e-01,\n",
       "           1.4071e+00, -1.2678e+00, -1.6632e+00, -6.7248e-01, -2.4512e-01,\n",
       "          -1.3230e+00,  2.3594e-01, -7.2845e-01,  2.5856e+00, -5.3837e-01,\n",
       "           7.2120e-01,  1.5989e+00,  1.8050e+00,  2.4812e-01,  9.8608e-01,\n",
       "           6.0937e-01, -2.8729e-01, -7.6228e-01, -5.0752e-01,  2.0032e+00,\n",
       "          -7.3474e-01,  1.6726e-01, -1.6148e+00,  1.6027e+00, -4.8965e-02,\n",
       "           5.6784e-01, -7.6233e-01, -1.1051e+00, -6.0450e-01, -7.3971e-01,\n",
       "          -1.7381e+00,  1.5722e+00,  1.6380e+00, -1.0530e+00, -8.9410e-01,\n",
       "           3.1936e-01, -4.8340e-01,  1.2985e+00,  4.3745e-01, -1.4455e+00,\n",
       "           6.6691e-02,  1.8474e-03,  1.5254e-01,  3.5598e-01, -5.4313e-01,\n",
       "           3.2275e-01,  9.5033e-02, -9.6985e-01, -4.7115e-01,  1.9190e-01,\n",
       "           1.3936e+00, -3.6059e-01, -5.4216e-02, -4.9831e-01, -1.1159e+00,\n",
       "           1.0375e+00, -1.6476e+00,  7.0972e-01,  6.2790e-01],\n",
       "         [-9.4878e-01, -7.6216e-01, -7.7165e-01,  2.5714e-01, -3.1239e-01,\n",
       "           1.0829e+00,  8.7574e-01,  1.5740e-01, -1.5419e+00, -6.0126e-02,\n",
       "          -1.2241e-01,  9.7704e-01, -4.1485e-02, -1.0301e+00,  1.5850e-02,\n",
       "          -1.5844e+00,  9.2035e-01, -2.6280e-01,  5.5072e-02, -9.7980e-01,\n",
       "          -5.5465e-02, -5.2413e-01, -1.6076e+00, -8.7843e-01, -2.5771e-01,\n",
       "           7.6557e-01,  1.8265e-01, -1.8646e+00,  5.6118e-03,  5.2803e-01,\n",
       "           8.9499e-01,  1.0048e+00,  7.2514e-01, -5.5579e-02, -6.3125e-01,\n",
       "          -2.2039e+00,  2.0690e+00,  9.1661e-01,  4.2106e-01,  2.6532e-01,\n",
       "           7.4301e-01,  1.4525e+00,  1.8129e-01,  1.1346e+00, -3.5867e-01,\n",
       "           2.6454e-01, -1.9387e-01, -6.2993e-01, -1.8163e+00, -1.3786e+00,\n",
       "           2.2227e-01, -3.3757e-02, -3.1614e-01, -4.6180e-02,  4.1437e-01,\n",
       "          -7.8145e-01,  8.7269e-01,  7.7020e-01, -1.7147e+00, -6.1912e-01,\n",
       "          -2.1425e+00,  1.5920e-01, -1.9891e-01,  1.1889e+00]]],\n",
       "       requires_grad=True)"
      ]
     },
     "execution_count": 172,
     "metadata": {},
     "output_type": "execute_result"
    }
   ],
   "source": [
    "my_sampler.params.theta"
   ]
  },
  {
   "cell_type": "code",
   "execution_count": 173,
   "metadata": {},
   "outputs": [
    {
     "data": {
      "text/plain": [
       "tensor([[2, 3, 3, 2, 3, 3, 1, 3, 1, 1, 3, 3, 3, 2, 0, 1, 2, 2, 0, 1, 1, 3, 0, 0,\n",
       "         0, 0, 1, 3, 0, 2, 0, 0, 3, 2, 2, 3, 3, 1, 1, 0, 3, 3, 3, 3, 0, 3, 0, 2,\n",
       "         2, 2, 0, 3, 1, 2, 1, 3, 0, 0, 0, 2, 1, 0, 0, 3],\n",
       "        [1, 0, 2, 0, 1, 2, 3, 1, 0, 0, 0, 3, 0, 2, 3, 2, 2, 2, 2, 2, 1, 2, 0, 0,\n",
       "         2, 3, 3, 0, 2, 3, 1, 3, 1, 1, 1, 1, 3, 2, 0, 0, 0, 3, 2, 3, 1, 1, 1, 1,\n",
       "         0, 0, 1, 2, 1, 1, 3, 2, 3, 0, 1, 0, 2, 1, 0, 0]])"
      ]
     },
     "execution_count": 173,
     "metadata": {},
     "output_type": "execute_result"
    }
   ],
   "source": [
    "my_sampler.params.theta.argmax(1)"
   ]
  },
  {
   "cell_type": "code",
   "execution_count": 174,
   "metadata": {},
   "outputs": [
    {
     "name": "stdout",
     "output_type": "stream",
     "text": [
      "575.2988314628601\n"
     ]
    }
   ],
   "source": [
    "start = time.time()\n",
    "my_samples = my_sampler.collect_samples(1.,1000)\n",
    "print(time.time() - start)"
   ]
  },
  {
   "cell_type": "code",
   "execution_count": 175,
   "metadata": {},
   "outputs": [],
   "source": [
    "sampled_theta, sampled_energy = [ torch.stack(x, dim=0) for x in zip(*my_samples) ]"
   ]
  },
  {
   "cell_type": "code",
   "execution_count": 176,
   "metadata": {},
   "outputs": [
    {
     "name": "stdout",
     "output_type": "stream",
     "text": [
      "torch.Size([1000, 2, 4, 64])\n",
      "torch.Size([1000, 2])\n"
     ]
    }
   ],
   "source": [
    "print(sampled_theta.shape)\n",
    "print(sampled_energy.shape)"
   ]
  },
  {
   "cell_type": "code",
   "execution_count": 177,
   "metadata": {},
   "outputs": [
    {
     "data": {
      "text/plain": [
       "<Bio.motifs.Motif at 0x7fc79d7e2450>"
      ]
     },
     "execution_count": 177,
     "metadata": {},
     "output_type": "execute_result"
    }
   ],
   "source": [
    "logo_from_tensor(motif_filter.squeeze(), 'filter_motif.png')\n",
    "logo_from_batch(sampled_theta[:,0], 'sampled_motif.png')"
   ]
  },
  {
   "cell_type": "code",
   "execution_count": 34,
   "metadata": {},
   "outputs": [
    {
     "data": {
      "text/plain": [
       "tensor([[[2.0401e-01, 4.6788e-05, 1.7998e-04, 7.9577e-01]],\n",
       "\n",
       "        [[6.0407e-01, 1.0756e-04, 1.6521e-03, 3.9417e-01]],\n",
       "\n",
       "        [[2.8294e-01, 1.7738e-04, 2.4236e-04, 7.1664e-01]],\n",
       "\n",
       "        ...,\n",
       "\n",
       "        [[9.9995e-01, 3.7975e-08, 2.8649e-06, 4.4767e-05]],\n",
       "\n",
       "        [[9.7953e-01, 3.3782e-06, 2.3413e-04, 2.0235e-02]],\n",
       "\n",
       "        [[9.7953e-01, 3.3782e-06, 2.3413e-04, 2.0235e-02]]])"
      ]
     },
     "execution_count": 34,
     "metadata": {},
     "output_type": "execute_result"
    }
   ],
   "source": [
    "sampled_theta[:,:,:,6].softmax(-1)"
   ]
  },
  {
   "cell_type": "code",
   "execution_count": 91,
   "metadata": {
    "scrolled": true
   },
   "outputs": [
    {
     "name": "stderr",
     "output_type": "stream",
     "text": [
      "IMAGEIO FFMPEG_WRITER WARNING: input image is not divisible by macro_block_size=16, resizing from (324, 107) to (336, 112) to ensure video compatibility with most codecs and players. To prevent resizing, make your input image divisible by the macro_block_size or set the macro_block_size to 1 (risking incompatibility).\n"
     ]
    }
   ],
   "source": [
    "hold_s_1 = logo_video(sampled_theta[:,0],'traj_1d.mp4')\n",
    "#hold2 = logo_video(sampled_theta[:,1],'traj_2b.mp4')\n",
    "#hold3 = logo_video(sampled_theta[:,2],'traj_3b.mp4')"
   ]
  },
  {
   "cell_type": "code",
   "execution_count": 55,
   "metadata": {
    "scrolled": true
   },
   "outputs": [],
   "source": [
    "hold_e = combo_video(sampled_theta[:20,0], sampled_energy[:20,0])"
   ]
  },
  {
   "cell_type": "code",
   "execution_count": 178,
   "metadata": {},
   "outputs": [
    {
     "ename": "KeyboardInterrupt",
     "evalue": "",
     "output_type": "error",
     "traceback": [
      "\u001b[0;31m---------------------------------------------------------------------------\u001b[0m",
      "\u001b[0;31mKeyboardInterrupt\u001b[0m                         Traceback (most recent call last)",
      "\u001b[0;32m<ipython-input-178-4e42d8f9c248>\u001b[0m in \u001b[0;36m<module>\u001b[0;34m\u001b[0m\n\u001b[0;32m----> 1\u001b[0;31m \u001b[0mhold_d\u001b[0m \u001b[0;34m=\u001b[0m \u001b[0mdms_video\u001b[0m\u001b[0;34m(\u001b[0m\u001b[0msampled_theta\u001b[0m\u001b[0;34m[\u001b[0m\u001b[0;34m:\u001b[0m\u001b[0;34m,\u001b[0m\u001b[0;36m0\u001b[0m\u001b[0;34m]\u001b[0m\u001b[0;34m,\u001b[0m \u001b[0msampled_energy\u001b[0m\u001b[0;34m[\u001b[0m\u001b[0;34m:\u001b[0m\u001b[0;34m,\u001b[0m\u001b[0;36m0\u001b[0m\u001b[0;34m]\u001b[0m\u001b[0;34m)\u001b[0m\u001b[0;34m\u001b[0m\u001b[0;34m\u001b[0m\u001b[0m\n\u001b[0m",
      "\u001b[0;32m<ipython-input-127-8ada3ee479f6>\u001b[0m in \u001b[0;36mdms_video\u001b[0;34m(theta_tensor, energy_tensor, target)\u001b[0m\n\u001b[1;32m     55\u001b[0m         \u001b[0maxes\u001b[0m\u001b[0;34m[\u001b[0m\u001b[0;36m1\u001b[0m\u001b[0;34m]\u001b[0m\u001b[0;34m.\u001b[0m\u001b[0mset_ylabel\u001b[0m\u001b[0;34m(\u001b[0m\u001b[0;34m'Potential Energy'\u001b[0m\u001b[0;34m)\u001b[0m\u001b[0;34m\u001b[0m\u001b[0;34m\u001b[0m\u001b[0m\n\u001b[1;32m     56\u001b[0m         \u001b[0maxes\u001b[0m\u001b[0;34m[\u001b[0m\u001b[0;36m1\u001b[0m\u001b[0;34m]\u001b[0m\u001b[0;34m.\u001b[0m\u001b[0mset_xlabel\u001b[0m\u001b[0;34m(\u001b[0m\u001b[0;34m'Iteration'\u001b[0m\u001b[0;34m)\u001b[0m\u001b[0;34m\u001b[0m\u001b[0;34m\u001b[0m\u001b[0m\n\u001b[0;32m---> 57\u001b[0;31m         \u001b[0m_\u001b[0m \u001b[0;34m=\u001b[0m \u001b[0mtensor_to_dms\u001b[0m\u001b[0;34m(\u001b[0m\u001b[0ma_theta\u001b[0m\u001b[0;34m,\u001b[0m \u001b[0mtarget\u001b[0m\u001b[0;34m=\u001b[0m\u001b[0;32mNone\u001b[0m\u001b[0;34m,\u001b[0m\u001b[0max\u001b[0m\u001b[0;34m=\u001b[0m\u001b[0maxes\u001b[0m\u001b[0;34m[\u001b[0m\u001b[0;36m0\u001b[0m\u001b[0;34m]\u001b[0m\u001b[0;34m)\u001b[0m\u001b[0;34m\u001b[0m\u001b[0;34m\u001b[0m\u001b[0m\n\u001b[0m\u001b[1;32m     58\u001b[0m         \u001b[0mfig\u001b[0m\u001b[0;34m.\u001b[0m\u001b[0msavefig\u001b[0m\u001b[0;34m(\u001b[0m\u001b[0;34m'temp_line.png'\u001b[0m\u001b[0;34m,\u001b[0m\u001b[0mdpi\u001b[0m\u001b[0;34m=\u001b[0m\u001b[0;36m100\u001b[0m\u001b[0;34m)\u001b[0m\u001b[0;34m\u001b[0m\u001b[0;34m\u001b[0m\u001b[0m\n\u001b[1;32m     59\u001b[0m         \u001b[0mplt\u001b[0m\u001b[0;34m.\u001b[0m\u001b[0mclose\u001b[0m\u001b[0;34m(\u001b[0m\u001b[0;34m)\u001b[0m\u001b[0;34m\u001b[0m\u001b[0;34m\u001b[0m\u001b[0m\n",
      "\u001b[0;32m<ipython-input-127-8ada3ee479f6>\u001b[0m in \u001b[0;36mtensor_to_dms\u001b[0;34m(in_tensor, target, ax)\u001b[0m\n\u001b[1;32m     28\u001b[0m                 for i in range(n_samples) ]\n\u001b[1;32m     29\u001b[0m     \u001b[0msamples\u001b[0m \u001b[0;34m=\u001b[0m \u001b[0mtorch\u001b[0m\u001b[0;34m.\u001b[0m\u001b[0mstack\u001b[0m\u001b[0;34m(\u001b[0m\u001b[0msamples\u001b[0m\u001b[0;34m,\u001b[0m \u001b[0mdim\u001b[0m\u001b[0;34m=\u001b[0m\u001b[0;36m0\u001b[0m\u001b[0;34m)\u001b[0m\u001b[0;34m.\u001b[0m\u001b[0msum\u001b[0m\u001b[0;34m(\u001b[0m\u001b[0;36m0\u001b[0m\u001b[0;34m)\u001b[0m\u001b[0;34m.\u001b[0m\u001b[0madd\u001b[0m\u001b[0;34m(\u001b[0m\u001b[0;36m0.1\u001b[0m\u001b[0;34m)\u001b[0m\u001b[0;34m\u001b[0m\u001b[0;34m\u001b[0m\u001b[0m\n\u001b[0;32m---> 30\u001b[0;31m     \u001b[0mfig\u001b[0m\u001b[0;34m,\u001b[0m \u001b[0max\u001b[0m \u001b[0;34m=\u001b[0m \u001b[0mcounts_to_dms\u001b[0m\u001b[0;34m(\u001b[0m\u001b[0msamples\u001b[0m\u001b[0;34m,\u001b[0m \u001b[0max\u001b[0m\u001b[0;34m=\u001b[0m\u001b[0max\u001b[0m\u001b[0;34m)\u001b[0m\u001b[0;34m\u001b[0m\u001b[0;34m\u001b[0m\u001b[0m\n\u001b[0m\u001b[1;32m     31\u001b[0m     \u001b[0;32mif\u001b[0m \u001b[0mtarget\u001b[0m \u001b[0;32mis\u001b[0m \u001b[0;32mnot\u001b[0m \u001b[0;32mNone\u001b[0m\u001b[0;34m:\u001b[0m\u001b[0;34m\u001b[0m\u001b[0;34m\u001b[0m\u001b[0m\n\u001b[1;32m     32\u001b[0m         \u001b[0mfig\u001b[0m\u001b[0;34m.\u001b[0m\u001b[0msavefig\u001b[0m\u001b[0;34m(\u001b[0m\u001b[0mtarget\u001b[0m\u001b[0;34m,\u001b[0m\u001b[0mdpi\u001b[0m\u001b[0;34m=\u001b[0m\u001b[0;36m400\u001b[0m\u001b[0;34m)\u001b[0m\u001b[0;34m\u001b[0m\u001b[0;34m\u001b[0m\u001b[0m\n",
      "\u001b[0;32m<ipython-input-127-8ada3ee479f6>\u001b[0m in \u001b[0;36mcounts_to_dms\u001b[0;34m(in_tensor, ax)\u001b[0m\n\u001b[1;32m     20\u001b[0m                                 \u001b[0mletter_height_col\u001b[0m\u001b[0;34m=\u001b[0m\u001b[0;34m'height'\u001b[0m\u001b[0;34m,\u001b[0m\u001b[0;34m\u001b[0m\u001b[0;34m\u001b[0m\u001b[0m\n\u001b[1;32m     21\u001b[0m                                 \u001b[0mcolor_col\u001b[0m\u001b[0;34m=\u001b[0m\u001b[0;34m'color'\u001b[0m\u001b[0;34m,\u001b[0m\u001b[0;34m\u001b[0m\u001b[0;34m\u001b[0m\u001b[0m\n\u001b[0;32m---> 22\u001b[0;31m                                 ax=ax)\n\u001b[0m\u001b[1;32m     23\u001b[0m     \u001b[0;32mreturn\u001b[0m \u001b[0mfig\u001b[0m\u001b[0;34m,\u001b[0m \u001b[0max\u001b[0m\u001b[0;34m\u001b[0m\u001b[0;34m\u001b[0m\u001b[0m\n\u001b[1;32m     24\u001b[0m \u001b[0;34m\u001b[0m\u001b[0m\n",
      "\u001b[0;32m/opt/conda/lib/python3.7/site-packages/dmslogo/logo.py\u001b[0m in \u001b[0;36mdraw_logo\u001b[0;34m(data, x_col, letter_col, letter_height_col, xtick_col, color_col, shade_color_col, shade_alpha_col, heatmap_overlays, xlabel, ylabel, title, colorscheme, missing_color, addbreaks, widthscale, heightscale, heatmap_overlay_height, axisfontscale, hide_axis, fontfamily, fontaspect, letterpad, letterheightscale, ax, ylim_setter, fixed_ymin, fixed_ymax, clip_negative_heights, drop_na_letter_heights, draw_line_at_zero)\u001b[0m\n\u001b[1;32m    555\u001b[0m \u001b[0;34m\u001b[0m\u001b[0m\n\u001b[1;32m    556\u001b[0m     \u001b[0;32mif\u001b[0m \u001b[0;32mnot\u001b[0m \u001b[0mhide_axis\u001b[0m\u001b[0;34m:\u001b[0m\u001b[0;34m\u001b[0m\u001b[0;34m\u001b[0m\u001b[0m\n\u001b[0;32m--> 557\u001b[0;31m         \u001b[0max\u001b[0m\u001b[0;34m.\u001b[0m\u001b[0mset_xticks\u001b[0m\u001b[0;34m(\u001b[0m\u001b[0mxticks\u001b[0m\u001b[0;34m)\u001b[0m\u001b[0;34m\u001b[0m\u001b[0;34m\u001b[0m\u001b[0m\n\u001b[0m\u001b[1;32m    558\u001b[0m         \u001b[0max\u001b[0m\u001b[0;34m.\u001b[0m\u001b[0mtick_params\u001b[0m\u001b[0;34m(\u001b[0m\u001b[0mlength\u001b[0m\u001b[0;34m=\u001b[0m\u001b[0;36m5\u001b[0m\u001b[0;34m,\u001b[0m \u001b[0mwidth\u001b[0m\u001b[0;34m=\u001b[0m\u001b[0;36m1\u001b[0m\u001b[0;34m)\u001b[0m\u001b[0;34m\u001b[0m\u001b[0;34m\u001b[0m\u001b[0m\n\u001b[1;32m    559\u001b[0m         \u001b[0max\u001b[0m\u001b[0;34m.\u001b[0m\u001b[0mset_xticklabels\u001b[0m\u001b[0;34m(\u001b[0m\u001b[0mxticklabels\u001b[0m\u001b[0;34m,\u001b[0m \u001b[0mrotation\u001b[0m\u001b[0;34m=\u001b[0m\u001b[0;36m90\u001b[0m\u001b[0;34m,\u001b[0m \u001b[0mha\u001b[0m\u001b[0;34m=\u001b[0m\u001b[0;34m'center'\u001b[0m\u001b[0;34m,\u001b[0m \u001b[0mva\u001b[0m\u001b[0;34m=\u001b[0m\u001b[0;34m'top'\u001b[0m\u001b[0;34m)\u001b[0m\u001b[0;34m\u001b[0m\u001b[0;34m\u001b[0m\u001b[0m\n",
      "\u001b[0;32m/opt/conda/lib/python3.7/site-packages/matplotlib/axes/_base.py\u001b[0m in \u001b[0;36mwrapper\u001b[0;34m(self, *args, **kwargs)\u001b[0m\n\u001b[1;32m     61\u001b[0m \u001b[0;34m\u001b[0m\u001b[0m\n\u001b[1;32m     62\u001b[0m         \u001b[0;32mdef\u001b[0m \u001b[0mwrapper\u001b[0m\u001b[0;34m(\u001b[0m\u001b[0mself\u001b[0m\u001b[0;34m,\u001b[0m \u001b[0;34m*\u001b[0m\u001b[0margs\u001b[0m\u001b[0;34m,\u001b[0m \u001b[0;34m**\u001b[0m\u001b[0mkwargs\u001b[0m\u001b[0;34m)\u001b[0m\u001b[0;34m:\u001b[0m\u001b[0;34m\u001b[0m\u001b[0;34m\u001b[0m\u001b[0m\n\u001b[0;32m---> 63\u001b[0;31m             \u001b[0;32mreturn\u001b[0m \u001b[0mget_method\u001b[0m\u001b[0;34m(\u001b[0m\u001b[0mself\u001b[0m\u001b[0;34m)\u001b[0m\u001b[0;34m(\u001b[0m\u001b[0;34m*\u001b[0m\u001b[0margs\u001b[0m\u001b[0;34m,\u001b[0m \u001b[0;34m**\u001b[0m\u001b[0mkwargs\u001b[0m\u001b[0;34m)\u001b[0m\u001b[0;34m\u001b[0m\u001b[0;34m\u001b[0m\u001b[0m\n\u001b[0m\u001b[1;32m     64\u001b[0m \u001b[0;34m\u001b[0m\u001b[0m\n\u001b[1;32m     65\u001b[0m         \u001b[0mwrapper\u001b[0m\u001b[0;34m.\u001b[0m\u001b[0m__module__\u001b[0m \u001b[0;34m=\u001b[0m \u001b[0mowner\u001b[0m\u001b[0;34m.\u001b[0m\u001b[0m__module__\u001b[0m\u001b[0;34m\u001b[0m\u001b[0;34m\u001b[0m\u001b[0m\n",
      "\u001b[0;32m/opt/conda/lib/python3.7/site-packages/matplotlib/cbook/deprecation.py\u001b[0m in \u001b[0;36mwrapper\u001b[0;34m(*args, **kwargs)\u001b[0m\n\u001b[1;32m    449\u001b[0m                 \u001b[0;34m\"parameter will become keyword-only %(removal)s.\"\u001b[0m\u001b[0;34m,\u001b[0m\u001b[0;34m\u001b[0m\u001b[0;34m\u001b[0m\u001b[0m\n\u001b[1;32m    450\u001b[0m                 name=name, obj_type=f\"parameter of {func.__name__}()\")\n\u001b[0;32m--> 451\u001b[0;31m         \u001b[0;32mreturn\u001b[0m \u001b[0mfunc\u001b[0m\u001b[0;34m(\u001b[0m\u001b[0;34m*\u001b[0m\u001b[0margs\u001b[0m\u001b[0;34m,\u001b[0m \u001b[0;34m**\u001b[0m\u001b[0mkwargs\u001b[0m\u001b[0;34m)\u001b[0m\u001b[0;34m\u001b[0m\u001b[0;34m\u001b[0m\u001b[0m\n\u001b[0m\u001b[1;32m    452\u001b[0m \u001b[0;34m\u001b[0m\u001b[0m\n\u001b[1;32m    453\u001b[0m     \u001b[0;32mreturn\u001b[0m \u001b[0mwrapper\u001b[0m\u001b[0;34m\u001b[0m\u001b[0;34m\u001b[0m\u001b[0m\n",
      "\u001b[0;32m/opt/conda/lib/python3.7/site-packages/matplotlib/axis.py\u001b[0m in \u001b[0;36mset_ticks\u001b[0;34m(self, ticks, minor)\u001b[0m\n\u001b[1;32m   1822\u001b[0m         \u001b[0;32melse\u001b[0m\u001b[0;34m:\u001b[0m\u001b[0;34m\u001b[0m\u001b[0;34m\u001b[0m\u001b[0m\n\u001b[1;32m   1823\u001b[0m             \u001b[0mself\u001b[0m\u001b[0;34m.\u001b[0m\u001b[0mset_major_locator\u001b[0m\u001b[0;34m(\u001b[0m\u001b[0mmticker\u001b[0m\u001b[0;34m.\u001b[0m\u001b[0mFixedLocator\u001b[0m\u001b[0;34m(\u001b[0m\u001b[0mticks\u001b[0m\u001b[0;34m)\u001b[0m\u001b[0;34m)\u001b[0m\u001b[0;34m\u001b[0m\u001b[0;34m\u001b[0m\u001b[0m\n\u001b[0;32m-> 1824\u001b[0;31m             \u001b[0;32mreturn\u001b[0m \u001b[0mself\u001b[0m\u001b[0;34m.\u001b[0m\u001b[0mget_major_ticks\u001b[0m\u001b[0;34m(\u001b[0m\u001b[0mlen\u001b[0m\u001b[0;34m(\u001b[0m\u001b[0mticks\u001b[0m\u001b[0;34m)\u001b[0m\u001b[0;34m)\u001b[0m\u001b[0;34m\u001b[0m\u001b[0;34m\u001b[0m\u001b[0m\n\u001b[0m\u001b[1;32m   1825\u001b[0m \u001b[0;34m\u001b[0m\u001b[0m\n\u001b[1;32m   1826\u001b[0m     \u001b[0;32mdef\u001b[0m \u001b[0m_get_tick_boxes_siblings\u001b[0m\u001b[0;34m(\u001b[0m\u001b[0mself\u001b[0m\u001b[0;34m,\u001b[0m \u001b[0mxdir\u001b[0m\u001b[0;34m,\u001b[0m \u001b[0mrenderer\u001b[0m\u001b[0;34m)\u001b[0m\u001b[0;34m:\u001b[0m\u001b[0;34m\u001b[0m\u001b[0;34m\u001b[0m\u001b[0m\n",
      "\u001b[0;32m/opt/conda/lib/python3.7/site-packages/matplotlib/axis.py\u001b[0m in \u001b[0;36mget_major_ticks\u001b[0;34m(self, numticks)\u001b[0m\n\u001b[1;32m   1380\u001b[0m         \u001b[0;32mwhile\u001b[0m \u001b[0mlen\u001b[0m\u001b[0;34m(\u001b[0m\u001b[0mself\u001b[0m\u001b[0;34m.\u001b[0m\u001b[0mmajorTicks\u001b[0m\u001b[0;34m)\u001b[0m \u001b[0;34m<\u001b[0m \u001b[0mnumticks\u001b[0m\u001b[0;34m:\u001b[0m\u001b[0;34m\u001b[0m\u001b[0;34m\u001b[0m\u001b[0m\n\u001b[1;32m   1381\u001b[0m             \u001b[0;31m# Update the new tick label properties from the old.\u001b[0m\u001b[0;34m\u001b[0m\u001b[0;34m\u001b[0m\u001b[0;34m\u001b[0m\u001b[0m\n\u001b[0;32m-> 1382\u001b[0;31m             \u001b[0mtick\u001b[0m \u001b[0;34m=\u001b[0m \u001b[0mself\u001b[0m\u001b[0;34m.\u001b[0m\u001b[0m_get_tick\u001b[0m\u001b[0;34m(\u001b[0m\u001b[0mmajor\u001b[0m\u001b[0;34m=\u001b[0m\u001b[0;32mTrue\u001b[0m\u001b[0;34m)\u001b[0m\u001b[0;34m\u001b[0m\u001b[0;34m\u001b[0m\u001b[0m\n\u001b[0m\u001b[1;32m   1383\u001b[0m             \u001b[0mself\u001b[0m\u001b[0;34m.\u001b[0m\u001b[0mmajorTicks\u001b[0m\u001b[0;34m.\u001b[0m\u001b[0mappend\u001b[0m\u001b[0;34m(\u001b[0m\u001b[0mtick\u001b[0m\u001b[0;34m)\u001b[0m\u001b[0;34m\u001b[0m\u001b[0;34m\u001b[0m\u001b[0m\n\u001b[1;32m   1384\u001b[0m             \u001b[0mself\u001b[0m\u001b[0;34m.\u001b[0m\u001b[0m_copy_tick_props\u001b[0m\u001b[0;34m(\u001b[0m\u001b[0mself\u001b[0m\u001b[0;34m.\u001b[0m\u001b[0mmajorTicks\u001b[0m\u001b[0;34m[\u001b[0m\u001b[0;36m0\u001b[0m\u001b[0;34m]\u001b[0m\u001b[0;34m,\u001b[0m \u001b[0mtick\u001b[0m\u001b[0;34m)\u001b[0m\u001b[0;34m\u001b[0m\u001b[0;34m\u001b[0m\u001b[0m\n",
      "\u001b[0;32m/opt/conda/lib/python3.7/site-packages/matplotlib/axis.py\u001b[0m in \u001b[0;36m_get_tick\u001b[0;34m(self, major)\u001b[0m\n\u001b[1;32m   2014\u001b[0m         \u001b[0;32melse\u001b[0m\u001b[0;34m:\u001b[0m\u001b[0;34m\u001b[0m\u001b[0;34m\u001b[0m\u001b[0m\n\u001b[1;32m   2015\u001b[0m             \u001b[0mtick_kw\u001b[0m \u001b[0;34m=\u001b[0m \u001b[0mself\u001b[0m\u001b[0;34m.\u001b[0m\u001b[0m_minor_tick_kw\u001b[0m\u001b[0;34m\u001b[0m\u001b[0;34m\u001b[0m\u001b[0m\n\u001b[0;32m-> 2016\u001b[0;31m         \u001b[0;32mreturn\u001b[0m \u001b[0mXTick\u001b[0m\u001b[0;34m(\u001b[0m\u001b[0mself\u001b[0m\u001b[0;34m.\u001b[0m\u001b[0maxes\u001b[0m\u001b[0;34m,\u001b[0m \u001b[0;36m0\u001b[0m\u001b[0;34m,\u001b[0m \u001b[0mmajor\u001b[0m\u001b[0;34m=\u001b[0m\u001b[0mmajor\u001b[0m\u001b[0;34m,\u001b[0m \u001b[0;34m**\u001b[0m\u001b[0mtick_kw\u001b[0m\u001b[0;34m)\u001b[0m\u001b[0;34m\u001b[0m\u001b[0;34m\u001b[0m\u001b[0m\n\u001b[0m\u001b[1;32m   2017\u001b[0m \u001b[0;34m\u001b[0m\u001b[0m\n\u001b[1;32m   2018\u001b[0m     \u001b[0;32mdef\u001b[0m \u001b[0mset_label_position\u001b[0m\u001b[0;34m(\u001b[0m\u001b[0mself\u001b[0m\u001b[0;34m,\u001b[0m \u001b[0mposition\u001b[0m\u001b[0;34m)\u001b[0m\u001b[0;34m:\u001b[0m\u001b[0;34m\u001b[0m\u001b[0;34m\u001b[0m\u001b[0m\n",
      "\u001b[0;32m/opt/conda/lib/python3.7/site-packages/matplotlib/axis.py\u001b[0m in \u001b[0;36m__init__\u001b[0;34m(self, *args, **kwargs)\u001b[0m\n\u001b[1;32m    429\u001b[0m         self.gridline.set(\n\u001b[1;32m    430\u001b[0m             \u001b[0mxdata\u001b[0m\u001b[0;34m=\u001b[0m\u001b[0;34m[\u001b[0m\u001b[0;36m0\u001b[0m\u001b[0;34m,\u001b[0m \u001b[0;36m0\u001b[0m\u001b[0;34m]\u001b[0m\u001b[0;34m,\u001b[0m \u001b[0mydata\u001b[0m\u001b[0;34m=\u001b[0m\u001b[0;34m[\u001b[0m\u001b[0;36m0\u001b[0m\u001b[0;34m,\u001b[0m \u001b[0;36m1\u001b[0m\u001b[0;34m]\u001b[0m\u001b[0;34m,\u001b[0m\u001b[0;34m\u001b[0m\u001b[0;34m\u001b[0m\u001b[0m\n\u001b[0;32m--> 431\u001b[0;31m             \u001b[0mtransform\u001b[0m\u001b[0;34m=\u001b[0m\u001b[0mself\u001b[0m\u001b[0;34m.\u001b[0m\u001b[0maxes\u001b[0m\u001b[0;34m.\u001b[0m\u001b[0mget_xaxis_transform\u001b[0m\u001b[0;34m(\u001b[0m\u001b[0mwhich\u001b[0m\u001b[0;34m=\u001b[0m\u001b[0;34m\"grid\"\u001b[0m\u001b[0;34m)\u001b[0m\u001b[0;34m,\u001b[0m\u001b[0;34m\u001b[0m\u001b[0;34m\u001b[0m\u001b[0m\n\u001b[0m\u001b[1;32m    432\u001b[0m         )\n\u001b[1;32m    433\u001b[0m         \u001b[0;31m# the y loc is 3 points below the min of y axis\u001b[0m\u001b[0;34m\u001b[0m\u001b[0;34m\u001b[0m\u001b[0;34m\u001b[0m\u001b[0m\n",
      "\u001b[0;32m/opt/conda/lib/python3.7/site-packages/matplotlib/artist.py\u001b[0m in \u001b[0;36mset\u001b[0;34m(self, **kwargs)\u001b[0m\n\u001b[1;32m   1086\u001b[0m     \u001b[0;32mdef\u001b[0m \u001b[0mset\u001b[0m\u001b[0;34m(\u001b[0m\u001b[0mself\u001b[0m\u001b[0;34m,\u001b[0m \u001b[0;34m**\u001b[0m\u001b[0mkwargs\u001b[0m\u001b[0;34m)\u001b[0m\u001b[0;34m:\u001b[0m\u001b[0;34m\u001b[0m\u001b[0;34m\u001b[0m\u001b[0m\n\u001b[1;32m   1087\u001b[0m         \u001b[0;34m\"\"\"A property batch setter.  Pass *kwargs* to set properties.\"\"\"\u001b[0m\u001b[0;34m\u001b[0m\u001b[0;34m\u001b[0m\u001b[0m\n\u001b[0;32m-> 1088\u001b[0;31m         \u001b[0mkwargs\u001b[0m \u001b[0;34m=\u001b[0m \u001b[0mcbook\u001b[0m\u001b[0;34m.\u001b[0m\u001b[0mnormalize_kwargs\u001b[0m\u001b[0;34m(\u001b[0m\u001b[0mkwargs\u001b[0m\u001b[0;34m,\u001b[0m \u001b[0mself\u001b[0m\u001b[0;34m)\u001b[0m\u001b[0;34m\u001b[0m\u001b[0;34m\u001b[0m\u001b[0m\n\u001b[0m\u001b[1;32m   1089\u001b[0m         \u001b[0mmove_color_to_start\u001b[0m \u001b[0;34m=\u001b[0m \u001b[0;32mFalse\u001b[0m\u001b[0;34m\u001b[0m\u001b[0;34m\u001b[0m\u001b[0m\n\u001b[1;32m   1090\u001b[0m         \u001b[0;32mif\u001b[0m \u001b[0;34m\"color\"\u001b[0m \u001b[0;32min\u001b[0m \u001b[0mkwargs\u001b[0m\u001b[0;34m:\u001b[0m\u001b[0;34m\u001b[0m\u001b[0;34m\u001b[0m\u001b[0m\n",
      "\u001b[0;32m/opt/conda/lib/python3.7/site-packages/matplotlib/cbook/deprecation.py\u001b[0m in \u001b[0;36mwrapper\u001b[0;34m(*inner_args, **inner_kwargs)\u001b[0m\n\u001b[1;32m    409\u001b[0m                          \u001b[0;32melse\u001b[0m \u001b[0mdeprecation_addendum\u001b[0m\u001b[0;34m,\u001b[0m\u001b[0;34m\u001b[0m\u001b[0;34m\u001b[0m\u001b[0m\n\u001b[1;32m    410\u001b[0m                 **kwargs)\n\u001b[0;32m--> 411\u001b[0;31m         \u001b[0;32mreturn\u001b[0m \u001b[0mfunc\u001b[0m\u001b[0;34m(\u001b[0m\u001b[0;34m*\u001b[0m\u001b[0minner_args\u001b[0m\u001b[0;34m,\u001b[0m \u001b[0;34m**\u001b[0m\u001b[0minner_kwargs\u001b[0m\u001b[0;34m)\u001b[0m\u001b[0;34m\u001b[0m\u001b[0;34m\u001b[0m\u001b[0m\n\u001b[0m\u001b[1;32m    412\u001b[0m \u001b[0;34m\u001b[0m\u001b[0m\n\u001b[1;32m    413\u001b[0m     \u001b[0;32mreturn\u001b[0m \u001b[0mwrapper\u001b[0m\u001b[0;34m\u001b[0m\u001b[0;34m\u001b[0m\u001b[0m\n",
      "\u001b[0;32m/opt/conda/lib/python3.7/site-packages/matplotlib/cbook/deprecation.py\u001b[0m in \u001b[0;36mwrapper\u001b[0;34m(*inner_args, **inner_kwargs)\u001b[0m\n\u001b[1;32m    409\u001b[0m                          \u001b[0;32melse\u001b[0m \u001b[0mdeprecation_addendum\u001b[0m\u001b[0;34m,\u001b[0m\u001b[0;34m\u001b[0m\u001b[0;34m\u001b[0m\u001b[0m\n\u001b[1;32m    410\u001b[0m                 **kwargs)\n\u001b[0;32m--> 411\u001b[0;31m         \u001b[0;32mreturn\u001b[0m \u001b[0mfunc\u001b[0m\u001b[0;34m(\u001b[0m\u001b[0;34m*\u001b[0m\u001b[0minner_args\u001b[0m\u001b[0;34m,\u001b[0m \u001b[0;34m**\u001b[0m\u001b[0minner_kwargs\u001b[0m\u001b[0;34m)\u001b[0m\u001b[0;34m\u001b[0m\u001b[0;34m\u001b[0m\u001b[0m\n\u001b[0m\u001b[1;32m    412\u001b[0m \u001b[0;34m\u001b[0m\u001b[0m\n\u001b[1;32m    413\u001b[0m     \u001b[0;32mreturn\u001b[0m \u001b[0mwrapper\u001b[0m\u001b[0;34m\u001b[0m\u001b[0;34m\u001b[0m\u001b[0m\n",
      "\u001b[0;32m/opt/conda/lib/python3.7/site-packages/matplotlib/cbook/deprecation.py\u001b[0m in \u001b[0;36mwrapper\u001b[0;34m(*inner_args, **inner_kwargs)\u001b[0m\n\u001b[1;32m    409\u001b[0m                          \u001b[0;32melse\u001b[0m \u001b[0mdeprecation_addendum\u001b[0m\u001b[0;34m,\u001b[0m\u001b[0;34m\u001b[0m\u001b[0;34m\u001b[0m\u001b[0m\n\u001b[1;32m    410\u001b[0m                 **kwargs)\n\u001b[0;32m--> 411\u001b[0;31m         \u001b[0;32mreturn\u001b[0m \u001b[0mfunc\u001b[0m\u001b[0;34m(\u001b[0m\u001b[0;34m*\u001b[0m\u001b[0minner_args\u001b[0m\u001b[0;34m,\u001b[0m \u001b[0;34m**\u001b[0m\u001b[0minner_kwargs\u001b[0m\u001b[0;34m)\u001b[0m\u001b[0;34m\u001b[0m\u001b[0;34m\u001b[0m\u001b[0m\n\u001b[0m\u001b[1;32m    412\u001b[0m \u001b[0;34m\u001b[0m\u001b[0m\n\u001b[1;32m    413\u001b[0m     \u001b[0;32mreturn\u001b[0m \u001b[0mwrapper\u001b[0m\u001b[0;34m\u001b[0m\u001b[0;34m\u001b[0m\u001b[0m\n",
      "\u001b[0;32m/opt/conda/lib/python3.7/site-packages/matplotlib/cbook/__init__.py\u001b[0m in \u001b[0;36mnormalize_kwargs\u001b[0;34m(kw, alias_mapping, required, forbidden, allowed)\u001b[0m\n\u001b[1;32m   1731\u001b[0m         \u001b[0ma\u001b[0m \u001b[0mcallable\u001b[0m\u001b[0;34m.\u001b[0m\u001b[0;34m\u001b[0m\u001b[0;34m\u001b[0m\u001b[0m\n\u001b[1;32m   1732\u001b[0m     \"\"\"\n\u001b[0;32m-> 1733\u001b[0;31m     \u001b[0;32mfrom\u001b[0m \u001b[0mmatplotlib\u001b[0m\u001b[0;34m.\u001b[0m\u001b[0martist\u001b[0m \u001b[0;32mimport\u001b[0m \u001b[0mArtist\u001b[0m\u001b[0;34m\u001b[0m\u001b[0;34m\u001b[0m\u001b[0m\n\u001b[0m\u001b[1;32m   1734\u001b[0m \u001b[0;34m\u001b[0m\u001b[0m\n\u001b[1;32m   1735\u001b[0m     \u001b[0;31m# deal with default value of alias_mapping\u001b[0m\u001b[0;34m\u001b[0m\u001b[0;34m\u001b[0m\u001b[0;34m\u001b[0m\u001b[0m\n",
      "\u001b[0;32m/opt/conda/lib/python3.7/importlib/_bootstrap.py\u001b[0m in \u001b[0;36m_handle_fromlist\u001b[0;34m(module, fromlist, import_, recursive)\u001b[0m\n",
      "\u001b[0;31mKeyboardInterrupt\u001b[0m: "
     ]
    },
    {
     "data": {
      "image/png": "[encoded data removed]",
      "text/plain": [
       "<Figure size 864x576 with 2 Axes>"
      ]
     },
     "metadata": {
      "needs_background": "light"
     },
     "output_type": "display_data"
    }
   ],
   "source": [
    "hold_d = dms_video(sampled_theta[:,0], sampled_energy[:,0])"
   ]
  },
  {
   "cell_type": "code",
   "execution_count": null,
   "metadata": {},
   "outputs": [],
   "source": []
  },
  {
   "cell_type": "code",
   "execution_count": 81,
   "metadata": {},
   "outputs": [],
   "source": [
    "check_me = run_filter(motif_filter)"
   ]
  },
  {
   "cell_type": "code",
   "execution_count": 84,
   "metadata": {},
   "outputs": [
    {
     "data": {
      "text/plain": [
       "tensor([[676.8059,   0.0000,   0.0000,   0.0000,   0.0000,   0.0000,   0.0000,\n",
       "           0.0000,   0.0000,   0.0000,   0.0000,   0.0000,   0.0000,   0.0000,\n",
       "           0.0000,   0.0000,   0.0000,   0.0000]])"
      ]
     },
     "execution_count": 84,
     "metadata": {},
     "output_type": "execute_result"
    }
   ],
   "source": [
    "check_me(sampled_theta[:,0])[10]"
   ]
  },
  {
   "cell_type": "code",
   "execution_count": 181,
   "metadata": {},
   "outputs": [],
   "source": [
    "hold_h = dmsheat_video(sampled_theta[:,0], sampled_energy[:,0], check_me, target='test_motif.mp4')"
   ]
  },
  {
   "cell_type": "code",
   "execution_count": 105,
   "metadata": {},
   "outputs": [
    {
     "data": {
      "text/html": [
       "<div>\n",
       "<style scoped>\n",
       "    .dataframe tbody tr th:only-of-type {\n",
       "        vertical-align: middle;\n",
       "    }\n",
       "\n",
       "    .dataframe tbody tr th {\n",
       "        vertical-align: top;\n",
       "    }\n",
       "\n",
       "    .dataframe thead th {\n",
       "        text-align: right;\n",
       "    }\n",
       "</style>\n",
       "<table border=\"1\" class=\"dataframe\">\n",
       "  <thead>\n",
       "    <tr style=\"text-align: right;\">\n",
       "      <th></th>\n",
       "      <th>site</th>\n",
       "      <th>letter</th>\n",
       "      <th>height</th>\n",
       "      <th>color</th>\n",
       "    </tr>\n",
       "  </thead>\n",
       "  <tbody>\n",
       "    <tr>\n",
       "      <th>0</th>\n",
       "      <td>0</td>\n",
       "      <td>A</td>\n",
       "      <td>3.172076</td>\n",
       "      <td>green</td>\n",
       "    </tr>\n",
       "    <tr>\n",
       "      <th>1</th>\n",
       "      <td>1</td>\n",
       "      <td>A</td>\n",
       "      <td>4.757751</td>\n",
       "      <td>green</td>\n",
       "    </tr>\n",
       "    <tr>\n",
       "      <th>2</th>\n",
       "      <td>2</td>\n",
       "      <td>A</td>\n",
       "      <td>0.349964</td>\n",
       "      <td>green</td>\n",
       "    </tr>\n",
       "    <tr>\n",
       "      <th>3</th>\n",
       "      <td>3</td>\n",
       "      <td>A</td>\n",
       "      <td>3.829386</td>\n",
       "      <td>green</td>\n",
       "    </tr>\n",
       "    <tr>\n",
       "      <th>4</th>\n",
       "      <td>4</td>\n",
       "      <td>A</td>\n",
       "      <td>0.130407</td>\n",
       "      <td>green</td>\n",
       "    </tr>\n",
       "    <tr>\n",
       "      <th>...</th>\n",
       "      <td>...</td>\n",
       "      <td>...</td>\n",
       "      <td>...</td>\n",
       "      <td>...</td>\n",
       "    </tr>\n",
       "    <tr>\n",
       "      <th>67</th>\n",
       "      <td>13</td>\n",
       "      <td>T</td>\n",
       "      <td>2.188555</td>\n",
       "      <td>red</td>\n",
       "    </tr>\n",
       "    <tr>\n",
       "      <th>68</th>\n",
       "      <td>14</td>\n",
       "      <td>T</td>\n",
       "      <td>-2.300737</td>\n",
       "      <td>red</td>\n",
       "    </tr>\n",
       "    <tr>\n",
       "      <th>69</th>\n",
       "      <td>15</td>\n",
       "      <td>T</td>\n",
       "      <td>0.316460</td>\n",
       "      <td>red</td>\n",
       "    </tr>\n",
       "    <tr>\n",
       "      <th>70</th>\n",
       "      <td>16</td>\n",
       "      <td>T</td>\n",
       "      <td>2.774472</td>\n",
       "      <td>red</td>\n",
       "    </tr>\n",
       "    <tr>\n",
       "      <th>71</th>\n",
       "      <td>17</td>\n",
       "      <td>T</td>\n",
       "      <td>-1.574843</td>\n",
       "      <td>red</td>\n",
       "    </tr>\n",
       "  </tbody>\n",
       "</table>\n",
       "<p>72 rows × 4 columns</p>\n",
       "</div>"
      ],
      "text/plain": [
       "    site letter    height  color\n",
       "0      0      A  3.172076  green\n",
       "1      1      A  4.757751  green\n",
       "2      2      A  0.349964  green\n",
       "3      3      A  3.829386  green\n",
       "4      4      A  0.130407  green\n",
       "..   ...    ...       ...    ...\n",
       "67    13      T  2.188555    red\n",
       "68    14      T -2.300737    red\n",
       "69    15      T  0.316460    red\n",
       "70    16      T  2.774472    red\n",
       "71    17      T -1.574843    red\n",
       "\n",
       "[72 rows x 4 columns]"
      ]
     },
     "execution_count": 105,
     "metadata": {},
     "output_type": "execute_result"
    }
   ],
   "source": [
    "tensor_to_pandas(sampled_theta[0,0])"
   ]
  },
  {
   "cell_type": "code",
   "execution_count": 118,
   "metadata": {},
   "outputs": [
    {
     "name": "stdout",
     "output_type": "stream",
     "text": [
      "    site letter    height  color\n",
      "0      0      A  1.598555  green\n",
      "1      1      A  0.305983  green\n",
      "2      2      A  0.001958  green\n",
      "3      3      A  1.865755  green\n",
      "4      4      A  0.054917  green\n",
      "..   ...    ...       ...    ...\n",
      "67    13      T  0.170156    red\n",
      "68    14      T  0.014739    red\n",
      "69    15      T  0.036716    red\n",
      "70    16      T  1.148593    red\n",
      "71    17      T  0.000892    red\n",
      "\n",
      "[72 rows x 4 columns]\n",
      "    site letter    height  color overlay_0\n",
      "0      0      A  1.598555  green   #360e24\n",
      "1      1      A  0.305983  green   #e6f1f1\n",
      "2      2      A  0.001958  green   #e6f1f1\n",
      "3      3      A  1.865755  green   #e6f1f1\n",
      "4      4      A  0.054917  green   #e6f1f1\n",
      "..   ...    ...       ...    ...       ...\n",
      "67    13      T  0.170156    red   #e6f1f1\n",
      "68    14      T  0.014739    red   #e6f1f1\n",
      "69    15      T  0.036716    red   #e6f1f1\n",
      "70    16      T  1.148593    red   #e6f1f1\n",
      "71    17      T  0.000892    red   #e6f1f1\n",
      "\n",
      "[72 rows x 5 columns]\n"
     ]
    },
    {
     "data": {
      "text/plain": [
       "(<Figure size 478.8x201.6 with 2 Axes>,\n",
       " array([<AxesSubplot:>, <AxesSubplot:xlabel='site', ylabel='height'>],\n",
       "       dtype=object))"
      ]
     },
     "execution_count": 118,
     "metadata": {},
     "output_type": "execute_result"
    },
    {
     "data": {
      "image/png": "[encoded data removed]",
      "text/plain": [
       "<Figure size 478.8x201.6 with 2 Axes>"
      ]
     },
     "metadata": {
      "needs_background": "light"
     },
     "output_type": "display_data"
    }
   ],
   "source": [
    "tensor_to_dmsheat(sampled_theta[0,0], check_me)"
   ]
  },
  {
   "cell_type": "code",
   "execution_count": 138,
   "metadata": {},
   "outputs": [
    {
     "data": {
      "text/plain": [
       "tensor([ -773.4883,  -817.0892,  -737.0864,  -569.4933,  -572.2421,  -584.5511,\n",
       "         -609.8351,  -757.9335,  -754.5117,  -882.7224,  -852.3984,  -805.4769,\n",
       "         -866.3014,  -848.2695, -1006.5487, -1124.1703, -1241.8026, -1245.3708,\n",
       "        -1261.7209, -1261.7209])"
      ]
     },
     "execution_count": 138,
     "metadata": {},
     "output_type": "execute_result"
    }
   ],
   "source": [
    "my_energy(sampled_theta[-20:,0])"
   ]
  },
  {
   "cell_type": "code",
   "execution_count": 137,
   "metadata": {},
   "outputs": [
    {
     "data": {
      "text/plain": [
       "tensor([18.1644, 22.0910, 19.1911, 16.2472, 16.0655, 13.0726, 18.5254, 18.9793,\n",
       "        15.7457, 15.8033, 15.3670,  8.0069,  9.1533, 13.7020, 12.5001, 13.8310,\n",
       "        14.6548, 15.2760, 15.9075, 13.2945])"
      ]
     },
     "execution_count": 137,
     "metadata": {},
     "output_type": "execute_result"
    }
   ],
   "source": [
    "sampled_energy[-20:,0]"
   ]
  },
  {
   "cell_type": "code",
   "execution_count": 136,
   "metadata": {},
   "outputs": [
    {
     "data": {
      "text/plain": [
       "tensor([28.6396], grad_fn=<MeanBackward1>)"
      ]
     },
     "execution_count": 136,
     "metadata": {},
     "output_type": "execute_result"
    }
   ],
   "source": [
    "my_sampler.params.prior_nll()"
   ]
  },
  {
   "cell_type": "code",
   "execution_count": 148,
   "metadata": {},
   "outputs": [],
   "source": [
    "my_sampler.params.theta.data = sampled_theta[-1,]"
   ]
  },
  {
   "cell_type": "code",
   "execution_count": 149,
   "metadata": {},
   "outputs": [
    {
     "data": {
      "text/plain": [
       "torch.Size([1, 4, 18])"
      ]
     },
     "execution_count": 149,
     "metadata": {},
     "output_type": "execute_result"
    }
   ],
   "source": [
    "my_sampler.params.theta.shape"
   ]
  },
  {
   "cell_type": "code",
   "execution_count": 151,
   "metadata": {},
   "outputs": [
    {
     "data": {
      "text/plain": [
       "tensor([-1261.7211], grad_fn=<SumBackward1>)"
      ]
     },
     "execution_count": 151,
     "metadata": {},
     "output_type": "execute_result"
    }
   ],
   "source": [
    "my_energy( my_sampler.params.theta )"
   ]
  },
  {
   "cell_type": "code",
   "execution_count": 150,
   "metadata": {},
   "outputs": [
    {
     "data": {
      "text/plain": [
       "tensor([-17.0434], grad_fn=<MeanBackward1>)"
      ]
     },
     "execution_count": 150,
     "metadata": {},
     "output_type": "execute_result"
    }
   ],
   "source": [
    "my_sampler.params.rebatch( my_energy( my_sampler.params() ) )"
   ]
  }
 ],
 "metadata": {
  "kernelspec": {
   "display_name": "Python 3",
   "language": "python",
   "name": "python3"
  },
  "language_info": {
   "codemirror_mode": {
    "name": "ipython",
    "version": 3
   },
   "file_extension": ".py",
   "mimetype": "text/x-python",
   "name": "python",
   "nbconvert_exporter": "python",
   "pygments_lexer": "ipython3",
   "version": "3.7.8"
  }
 },
 "nbformat": 4,
 "nbformat_minor": 4
}
