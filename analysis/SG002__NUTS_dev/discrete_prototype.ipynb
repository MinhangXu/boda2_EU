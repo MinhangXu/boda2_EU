{
 "cells": [
  {
   "cell_type": "code",
   "execution_count": 70,
   "metadata": {
    "scrolled": true
   },
   "outputs": [
    {
     "name": "stdout",
     "output_type": "stream",
     "text": [
      "Requirement already satisfied: imageio in /opt/conda/lib/python3.7/site-packages (2.9.0)\n",
      "Requirement already satisfied: numpy in /opt/conda/lib/python3.7/site-packages (from imageio) (1.19.2)\n",
      "Requirement already satisfied: pillow in /opt/conda/lib/python3.7/site-packages (from imageio) (8.1.0)\n",
      "\u001b[33mWARNING: You are using pip version 20.2.3; however, version 21.0.1 is available.\n",
      "You should consider upgrading via the '/opt/conda/bin/python3.7 -m pip install --upgrade pip' command.\u001b[0m\n",
      "Requirement already satisfied: imageio-ffmpeg in /opt/conda/lib/python3.7/site-packages (0.4.3)\n",
      "\u001b[33mWARNING: You are using pip version 20.2.3; however, version 21.0.1 is available.\n",
      "You should consider upgrading via the '/opt/conda/bin/python3.7 -m pip install --upgrade pip' command.\u001b[0m\n",
      "Requirement already satisfied: dmslogo in /opt/conda/lib/python3.7/site-packages (0.6.2)\n",
      "Requirement already satisfied: matplotlib>=3.0.0 in /opt/conda/lib/python3.7/site-packages (from dmslogo) (3.3.3)\n",
      "Requirement already satisfied: numpy>=1.17 in /opt/conda/lib/python3.7/site-packages (from dmslogo) (1.19.2)\n",
      "Requirement already satisfied: pandas>=0.23 in /opt/conda/lib/python3.7/site-packages (from dmslogo) (1.1.3)\n",
      "Requirement already satisfied: palettable in /opt/conda/lib/python3.7/site-packages (from dmslogo) (3.3.0)\n",
      "Requirement already satisfied: setuptools in /opt/conda/lib/python3.7/site-packages (from dmslogo) (49.6.0.post20201009)\n",
      "Requirement already satisfied: kiwisolver>=1.0.1 in /opt/conda/lib/python3.7/site-packages (from matplotlib>=3.0.0->dmslogo) (1.3.1)\n",
      "Requirement already satisfied: pyparsing!=2.0.4,!=2.1.2,!=2.1.6,>=2.0.3 in /opt/conda/lib/python3.7/site-packages (from matplotlib>=3.0.0->dmslogo) (2.4.7)\n",
      "Requirement already satisfied: python-dateutil>=2.1 in /opt/conda/lib/python3.7/site-packages (from matplotlib>=3.0.0->dmslogo) (2.8.1)\n",
      "Requirement already satisfied: pillow>=6.2.0 in /opt/conda/lib/python3.7/site-packages (from matplotlib>=3.0.0->dmslogo) (8.1.0)\n",
      "Requirement already satisfied: cycler>=0.10 in /opt/conda/lib/python3.7/site-packages (from matplotlib>=3.0.0->dmslogo) (0.10.0)\n",
      "Requirement already satisfied: pytz>=2017.2 in /opt/conda/lib/python3.7/site-packages (from pandas>=0.23->dmslogo) (2020.5)\n",
      "Requirement already satisfied: six>=1.5 in /opt/conda/lib/python3.7/site-packages (from python-dateutil>=2.1->matplotlib>=3.0.0->dmslogo) (1.15.0)\n",
      "\u001b[33mWARNING: You are using pip version 20.2.3; however, version 21.0.1 is available.\n",
      "You should consider upgrading via the '/opt/conda/bin/python3.7 -m pip install --upgrade pip' command.\u001b[0m\n",
      "Requirement already satisfied: palettable in /opt/conda/lib/python3.7/site-packages (3.3.0)\n",
      "\u001b[33mWARNING: You are using pip version 20.2.3; however, version 21.0.1 is available.\n",
      "You should consider upgrading via the '/opt/conda/bin/python3.7 -m pip install --upgrade pip' command.\u001b[0m\n",
      "Collecting array_to_latex\n",
      "  Downloading array_to_latex-0.82-py3-none-any.whl (5.3 kB)\n",
      "Collecting clipboard\n",
      "  Downloading clipboard-0.0.4.tar.gz (1.7 kB)\n",
      "Requirement already satisfied: pandas in /opt/conda/lib/python3.7/site-packages (from array_to_latex) (1.1.3)\n",
      "Requirement already satisfied: numpy in /opt/conda/lib/python3.7/site-packages (from array_to_latex) (1.19.2)\n",
      "Collecting pyperclip>=1.3\n",
      "  Downloading pyperclip-1.8.2.tar.gz (20 kB)\n",
      "Requirement already satisfied: pytz>=2017.2 in /opt/conda/lib/python3.7/site-packages (from pandas->array_to_latex) (2020.5)\n",
      "Requirement already satisfied: python-dateutil>=2.7.3 in /opt/conda/lib/python3.7/site-packages (from pandas->array_to_latex) (2.8.1)\n",
      "Requirement already satisfied: six>=1.5 in /opt/conda/lib/python3.7/site-packages (from python-dateutil>=2.7.3->pandas->array_to_latex) (1.15.0)\n",
      "Building wheels for collected packages: clipboard, pyperclip\n",
      "  Building wheel for clipboard (setup.py) ... \u001b[?25ldone\n",
      "\u001b[?25h  Created wheel for clipboard: filename=clipboard-0.0.4-py3-none-any.whl size=1848 sha256=933762945cffef23623d6631c18b3840b6c7b543ade4df3efada4bdfad14db8d\n",
      "  Stored in directory: /root/.cache/pip/wheels/76/06/fa/282b51f270aaab0f9141d8eec9016e29bce0e081861fabd4c8\n",
      "  Building wheel for pyperclip (setup.py) ... \u001b[?25ldone\n",
      "\u001b[?25h  Created wheel for pyperclip: filename=pyperclip-1.8.2-py3-none-any.whl size=11107 sha256=bc9af08b4ea18f98574c0fb2d5e2531fd1ca78b5e2fb98d2912b7c2a6bb3f668\n",
      "  Stored in directory: /root/.cache/pip/wheels/9f/18/84/8f69f8b08169c7bae2dde6bd7daf0c19fca8c8e500ee620a28\n",
      "Successfully built clipboard pyperclip\n",
      "Installing collected packages: pyperclip, clipboard, array-to-latex\n",
      "Successfully installed array-to-latex-0.82 clipboard-0.0.4 pyperclip-1.8.2\n",
      "\u001b[33mWARNING: You are using pip version 20.2.3; however, version 21.0.1 is available.\n",
      "You should consider upgrading via the '/opt/conda/bin/python3.7 -m pip install --upgrade pip' command.\u001b[0m\n"
     ]
    }
   ],
   "source": [
    "!pip install imageio\n",
    "!pip install imageio-ffmpeg\n",
    "!pip install dmslogo\n",
    "!pip install palettable\n",
    "!pip install array_to_latex"
   ]
  },
  {
   "cell_type": "code",
   "execution_count": 2,
   "metadata": {},
   "outputs": [],
   "source": [
    "import sys\n",
    "import time\n",
    "import warnings\n",
    "\n",
    "import numpy as np\n",
    "import pandas as pd\n",
    "import torch\n",
    "import torch.nn as nn\n",
    "import torch.nn.functional as F\n",
    "import torch.autograd as ag\n",
    "from torch.distributions.categorical import Categorical\n",
    "\n",
    "from matplotlib import pyplot as plt\n",
    "import matplotlib.gridspec as gridspec\n",
    "import matplotlib.image as mpimg\n",
    "import seaborn as sns\n"
   ]
  },
  {
   "cell_type": "code",
   "execution_count": 3,
   "metadata": {},
   "outputs": [],
   "source": [
    "class ParamsBase(nn.Module):\n",
    "    def __init__(self):\n",
    "        super().__init__()\n",
    "        \n",
    "    @property\n",
    "    def shape(self):\n",
    "        return self().shape\n",
    "    \n",
    "    def forward(self):\n",
    "        raise NotImplementedError(\"Params forward call not implemented.\")\n",
    "        return None\n",
    "        \n",
    "    def rebatch(self, input):\n",
    "        raise NotImplementedError(\"Rebatch function not implemented.\")\n",
    "        return None\n",
    "    \n",
    "    def prior_nll(self):\n",
    "        raise NotImplementedError(\"Prior Negative Log-Likelihood not implemented.\")\n",
    "        return None"
   ]
  },
  {
   "cell_type": "code",
   "execution_count": 4,
   "metadata": {},
   "outputs": [],
   "source": [
    "class BasicParameters(ParamsBase):\n",
    "    def __init__(self,\n",
    "                 data,\n",
    "                 left_flank=None,\n",
    "                 right_flank=None,\n",
    "                 batch_dim=0,\n",
    "                 cat_axis=-1\n",
    "                ):\n",
    "        \n",
    "        super().__init__()\n",
    "        \n",
    "        self.register_parameter('theta', data)\n",
    "        self.register_buffer('left_flank', left_flank)\n",
    "        self.register_buffer('right_flank', right_flank)\n",
    "        \n",
    "        self.cat_axis = cat_axis\n",
    "        self.batch_dim = batch_dim\n",
    "        \n",
    "    @property\n",
    "    def shape(self):\n",
    "        return self().shape\n",
    "\n",
    "    def forward(self):\n",
    "        my_attr = [ getattr(self, x) for x in ['theta', 'left_flank', 'right_flank'] ]\n",
    "        return torch.cat( [ x for x in my_attr if x is not None ], axis=self.cat_axis )\n",
    "    \n",
    "    def rebatch(self, input):\n",
    "        return input\n"
   ]
  },
  {
   "cell_type": "code",
   "execution_count": 5,
   "metadata": {},
   "outputs": [],
   "source": [
    "my_params = BasicParameters(\n",
    "    nn.Parameter(torch.randn([3,4,1])), \n",
    "    left_flank=None, \n",
    "    right_flank=None\n",
    ")"
   ]
  },
  {
   "cell_type": "code",
   "execution_count": 6,
   "metadata": {},
   "outputs": [],
   "source": [
    "class StraightThroughParameters(ParamsBase):\n",
    "    def __init__(self,\n",
    "                 data,\n",
    "                 left_flank=None,\n",
    "                 right_flank=None,\n",
    "                 batch_dim=0,\n",
    "                 cat_axis=-1,\n",
    "                 n_samples=1,\n",
    "                 temperature=1.,\n",
    "                ):\n",
    "        \n",
    "        super().__init__()\n",
    "        \n",
    "        self.register_parameter('theta', data)\n",
    "        self.register_buffer('left_flank', left_flank)\n",
    "        self.register_buffer('right_flank', right_flank)\n",
    "        \n",
    "        self.cat_axis = cat_axis\n",
    "        self.batch_dim = batch_dim\n",
    "        self.n_samples = n_samples\n",
    "        self.temperature = temperature\n",
    "        \n",
    "        self.softmax    = nn.Softmax(dim=-1)\n",
    "        self.num_classes= self.theta.shape[1]\n",
    "        self.n_dims     = len(self.theta.shape)\n",
    "        self.batch_size = self.theta.shape[batch_dim]\n",
    "        \n",
    "        self.perm_order   = [0] + list(range(2,self.n_dims)) + [1]\n",
    "        self.reverse_perm = [0,self.n_dims-1] + list(range(1,self.n_dims-1))\n",
    "                \n",
    "    @property\n",
    "    def shape(self):\n",
    "        return get_logits().shape\n",
    "    \n",
    "    def get_logits(self):\n",
    "        my_attr = [ getattr(self, x) for x in ['theta', 'left_flank', 'right_flank'] ]\n",
    "        return torch.cat( [ x for x in my_attr if x is not None ], axis=self.cat_axis )\n",
    "    \n",
    "    def get_probs_and_dist(self):\n",
    "        logits = self.get_logits()\n",
    "        logits = logits.permute( *self.perm_order ) \\\n",
    "                   .div(self.temperature)\n",
    "        probs  = self.softmax(logits)\n",
    "        dist   = Categorical(probs=probs)\n",
    "        return probs, dist\n",
    "    \n",
    "    def sample(self):\n",
    "        probs, dist = self.get_probs_and_dist()\n",
    "        sample = dist.sample((self.n_samples,))\n",
    "        sample = F.one_hot(sample, self.num_classes)\n",
    "        sample = sample - probs.detach() + probs\n",
    "        sample = sample.flatten(0,1)\n",
    "        sample = sample.permute( *self.reverse_perm )\n",
    "        return sample\n",
    "    \n",
    "    def forward(self):\n",
    "        return self.sample()\n",
    "    \n",
    "    def rebatch(self, input):\n",
    "        return input.unflatten(0, (self.n_samples, self.batch_size)).mean(dim=0)\n",
    "    \n",
    "class GumbelSoftmaxParameters(ParamsBase):\n",
    "    def __init__(self,\n",
    "                 data, \n",
    "                 left_flank=None,\n",
    "                 right_flank=None,\n",
    "                 batch_dim=0,\n",
    "                 cat_axis=-1,\n",
    "                 n_samples=1,\n",
    "                 tau=1.,\n",
    "                 prior_var=1.\n",
    "                ):\n",
    "        \n",
    "        super().__init__()\n",
    "        self.register_parameter('theta', data)\n",
    "        self.register_buffer('left_flank', left_flank)\n",
    "        self.register_buffer('right_flank', right_flank)\n",
    "        \n",
    "        self.cat_axis = cat_axis\n",
    "        self.batch_dim = batch_dim\n",
    "        self.n_samples = n_samples\n",
    "        self.tau = tau\n",
    "        self.prior_var = prior_var\n",
    "        \n",
    "        self.softmax    = nn.Softmax(dim=-1)\n",
    "        self.num_classes= self.theta.shape[1]\n",
    "        self.n_dims     = len(self.theta.shape)\n",
    "        self.batch_size = self.theta.shape[batch_dim]\n",
    "        \n",
    "    @property\n",
    "    def shape(self):\n",
    "        return get_logits().shape\n",
    "    \n",
    "    def get_logits(self):\n",
    "        my_attr = [ getattr(self, x) for x in ['theta', 'left_flank', 'right_flank'] ]\n",
    "        return torch.cat( [ x for x in my_attr if x is not None ], axis=self.cat_axis )\n",
    "    \n",
    "    def get_sample(self):\n",
    "        logits = self.get_logits()\n",
    "        samples= [ F.gumbel_softmax(logits, tau=self.tau, hard=True, dim=1) \n",
    "                   for i in range(self.n_samples) ]\n",
    "        return torch.stack(samples, dim=0)\n",
    "    \n",
    "    def forward(self):\n",
    "        sample = self.get_sample()\n",
    "        return sample.flatten(0,1)\n",
    "        \n",
    "    def rebatch(self, input):\n",
    "        return input.unflatten(0, (self.n_samples, self.batch_size)).mean(dim=0)\n",
    "    \n",
    "    def prior_nll(self):\n",
    "        return self.theta.transpose(self.batch_dim, 0).flatten(1).pow(2).div(2*self.prior_var).mean(1)"
   ]
  },
  {
   "cell_type": "code",
   "execution_count": 7,
   "metadata": {},
   "outputs": [],
   "source": [
    "class NUTS3(nn.Module):\n",
    "    def __init__(self,\n",
    "                 params,\n",
    "                 energy_fn,\n",
    "                 max_tree_depth=10\n",
    "                ):\n",
    "        \n",
    "        super().__init__()\n",
    "        self.params = params\n",
    "        self.energy_fn  = energy_fn\n",
    "        self.max_tree_depth = max_tree_depth\n",
    "        \n",
    "        self.d_max = 1000.\n",
    "        \n",
    "    def calc_energy(self):\n",
    "        energy = self.energy_fn(self.params())\n",
    "        energy = self.params.rebatch( energy )\n",
    "        try:\n",
    "            prior = self.params.prior_nll()\n",
    "            energy= energy + prior\n",
    "        except NotImplementedError:\n",
    "            warnings.warn(\"Prior Negative Log-Likelihood Not Implemented.\", RuntimeWarning)\n",
    "            pass\n",
    "        return energy\n",
    "\n",
    "    def leapfrog(self, theta, r, epsilon):\n",
    "        \n",
    "        self.params.theta.data = theta\n",
    "        energy = self.calc_energy()\n",
    "        grad_U = ag.grad( energy.sum(), self.params.theta )[0]\n",
    "        \n",
    "        with torch.no_grad():\n",
    "            r = r - grad_U.mul(epsilon).div(2.)\n",
    "            \n",
    "            theta = theta + r.mul(epsilon)\n",
    "            \n",
    "        self.params.theta.data = theta\n",
    "        energy = self.calc_energy()\n",
    "        grad_U = ag.grad( energy.sum(), self.params.theta )[0]\n",
    "        \n",
    "        with torch.no_grad():\n",
    "            r = r - grad_U.mul(epsilon).div(2.)\n",
    "            \n",
    "        return theta, r, energy\n",
    "        \n",
    "    def buildtree(self, theta, r, u, v, j, epsilon):\n",
    "        #print(f'current j: {j}')\n",
    "        if j == 0:\n",
    "            theta_p, r_p, energy_p = self.leapfrog(theta, r, v*epsilon)\n",
    "            batch_dot = torch.einsum('bs,bs->b', r_p.flatten(1), r_p.flatten(1))\n",
    "            hamilton  = energy_p + batch_dot.div(2.)\n",
    "            n_p = (u <= torch.exp(-hamilton)).type(torch.long)\n",
    "            s_p = (torch.log(u).add(-self.d_max) < -hamilton).type(torch.long)\n",
    "            #print(f'inner j: {j}')\n",
    "            #print(f'log u: {u.log()}, -H: {-hamilton}')\n",
    "            #print(theta_p, r_p, theta_p, r_p, theta_p, n_p, s_p, sep='\\n')\n",
    "            return theta_p, r_p, theta_p, r_p, theta_p, n_p, s_p\n",
    "        \n",
    "        else:\n",
    "            #print(f'inner j: {j}')\n",
    "            bt_pack = self.buildtree(theta, r, u, v, j-1, epsilon)\n",
    "            theta_r, r_r, theta_f, r_f, theta_p, n_p, s_p = bt_pack\n",
    "            #[print(a) for a in bt_pack]\n",
    "            if s_p.sum() > 0:\n",
    "                if v == -1:\n",
    "                    bt_pack = self.buildtree(theta_r, r_r, u, v, j-1, epsilon)\n",
    "                    theta_r, r_r, _, _, theta_pp, n_pp, s_pp = bt_pack\n",
    "                    \n",
    "                else:\n",
    "                    bt_pack = self.buildtree(theta_f, r_f, u, v, j-1, epsilon)\n",
    "                    _, _, theta_f, r_f, theta_pp, n_pp, s_pp = bt_pack\n",
    "                \n",
    "                update_flag = torch.rand(n_pp.size(), dtype=torch.float, \n",
    "                                         layout=n_pp.layout, device=n_pp.device)\n",
    "                update_flag = update_flag < n_pp.div( n_p + n_pp )\n",
    "                update_flag = torch.logical_and(update_flag, s_p.ge(1) )\n",
    "                theta_p[ update_flag ] = theta_pp[ update_flag ]\n",
    "                s_p = s_p * s_pp * \\\n",
    "                      torch.einsum('bs,bs->b', (theta_f - theta_r).flatten(1), r_r.flatten(1)) \\\n",
    "                        .ge(0.).type(torch.long) * \\\n",
    "                      torch.einsum('bs,bs->b', (theta_f - theta_r).flatten(1), r_f.flatten(1)) \\\n",
    "                        .ge(0.).type(torch.long)\n",
    "                n_p = n_p + n_pp\n",
    "            #print(theta_r, r_r, theta_f, r_f, theta_p, n_p, s_p)\n",
    "            return theta_r, r_r, theta_f, r_f, theta_p, n_p, s_p\n",
    "        \n",
    "    def init_trajectory(self, theta):\n",
    "        with torch.no_grad():\n",
    "            r_0 = torch.randn_like( theta )\n",
    "            energy_0 = self.calc_energy()\n",
    "            batch_dot= torch.einsum('bs,bs->b', r_0.flatten(1), r_0.flatten(1))\n",
    "            hamilton = energy_0 + batch_dot.div(2.)\n",
    "            u   = torch.rand_like( hamilton ).mul( torch.exp(-hamilton) )\n",
    "            \n",
    "            theta_r, theta_f = theta, theta\n",
    "            r_r, r_f = r_0, r_0\n",
    "            j = 0\n",
    "            theta_m = theta\n",
    "            n = torch.ones(batch_dot.size(), dtype=torch.long, layout=batch_dot.layout, device=batch_dot.device)\n",
    "            s = torch.ones(batch_dot.size(), dtype=torch.long, layout=batch_dot.layout, device=batch_dot.device)\n",
    "        return u, theta_r, r_r, theta_f, r_f, j, theta_m, n, s\n",
    "    \n",
    "    def sample_trajectory(self, theta, epsilon):\n",
    "        u, theta_r, r_r, theta_f, r_f, j, theta_m, n, s = self.init_trajectory(theta)\n",
    "        while (s.sum() >= 1) and (j < self.max_tree_depth):\n",
    "            v = torch.randn([1], dtype=torch.float, layout=theta.layout, device=theta.device) \\\n",
    "                  .ge(0.).mul(2.).add(-1.)\n",
    "            if v < 0:\n",
    "                theta_r, r_r, _, _, theta_p, n_p, s_p = self.buildtree(theta_r, r_r, u, v, j, epsilon)\n",
    "            else:\n",
    "                _, _, theta_f, r_f, theta_p, n_p, s_p = self.buildtree(theta_f, r_f, u, v, j, epsilon)\n",
    "            \n",
    "            #print('traj results:')\n",
    "            #print(theta_r, r_r, theta_f, r_f, theta_p, n_p, s_p, sep='\\n')\n",
    "            update_flag = torch.rand_like(n.type(torch.float))\n",
    "            update_flag = update_flag <= torch.minimum( n / n_p, torch.ones_like(n.type(torch.float)) )\n",
    "            update_flag = torch.logical_and( update_flag, s.ge(1) )\n",
    "            update_flag = torch.logical_and( update_flag, s_p.ge(1) )\n",
    "            #print(f'update_flag: {update_flag}')\n",
    "            theta_m[ update_flag ] = theta_p[ update_flag ]\n",
    "            \n",
    "            n = n + n_p\n",
    "            s = s * s_p * \\\n",
    "                torch.einsum('bs,bs->b', (theta_f - theta_r).flatten(1), r_r.flatten(1)) \\\n",
    "                  .ge(0.).type(torch.long) * \\\n",
    "                torch.einsum('bs,bs->b', (theta_f - theta_r).flatten(1), r_f.flatten(1)) \\\n",
    "                  .ge(0.).type(torch.long)\n",
    "            j = j + 1\n",
    "        \n",
    "        return theta_m.detach().clone()\n",
    "    \n",
    "    def collect_samples(self, epsilon, n_samples=1):\n",
    "        samples = []\n",
    "        theta_m = self.params.theta.clone().detach()\n",
    "        for m in range(n_samples):\n",
    "            theta_m = self.sample_trajectory( theta_m, epsilon )\n",
    "            with torch.no_grad():\n",
    "                self.params.theta.data = theta_m\n",
    "                samples.append( [theta_m, self.calc_energy()] )\n",
    "        return samples\n"
   ]
  },
  {
   "cell_type": "code",
   "execution_count": 66,
   "metadata": {},
   "outputs": [],
   "source": [
    "class a_frac(nn.Module):\n",
    "    def __init__(self, frac=0.2):\n",
    "        super().__init__()\n",
    "        self.frac = frac\n",
    "        self.energy = nn.KLDivLoss(reduction='none')\n",
    "        \n",
    "    def forward(self, in_tensor):\n",
    "        score = in_tensor[:,0,:].mean(1).add(1e-5).log()\n",
    "        labs  = torch.full_like(score, self.frac)\n",
    "        return self.energy(score, labs)\n",
    "\n",
    "class a_frac(nn.Module):\n",
    "    def __init__(self, frac=0.2):\n",
    "        super().__init__()\n",
    "        self.frac = frac\n",
    "        self.energy = nn.KLDivLoss(reduction='none')\n",
    "        \n",
    "    def forward(self, in_tensor):\n",
    "        score = in_tensor[:,0,:].mean(1).add(-self.frac).pow(2)\n",
    "        return score\n",
    "\n",
    "class a_only(nn.Module):\n",
    "    def __init__(self):\n",
    "        super().__init__()\n",
    "        self.loss = nn.CrossEntropyLoss(reduction='none')\n",
    "        \n",
    "    def forward(self, in_tensor):\n",
    "        score = in_tensor.sum(-1)\n",
    "        targs = torch.zeros(in_tensor.shape[0],\n",
    "                            layout=in_tensor.layout,\n",
    "                            device=in_tensor.device).long()\n",
    "        return self.loss(score, targs)\n",
    "        \n",
    "class hard_motif(nn.Module):\n",
    "    def __init__(self, motif):\n",
    "        super().__init__()\n",
    "        self.motif = motif\n",
    "        self.loss  = nn.KLDivLoss(reduction='none', log_target=True)\n",
    "        \n",
    "    def forward(self, in_tensor):\n",
    "        return self.loss( in_tensor, self.motif ).sum(-1).mean(-1)\n",
    "    \n",
    "class scan_motif(nn.Module):\n",
    "    def __init__(self, motif):\n",
    "        super().__init__()\n",
    "        self.motif = motif\n",
    "        self.filter= nn.Conv1d(motif.shape[1], motif.shape[0], motif.shape[2], \n",
    "                               bias=False)\n",
    "        self.filter.weight.data = motif\n",
    "        self.filter.weight.requires_grad = False\n",
    "        self.activation = nn.LogSigmoid()\n",
    "        \n",
    "    def forward(self, in_tensor):\n",
    "        hook = self.filter(in_tensor)\n",
    "        hook = hook.max(-1)[0]\n",
    "        #hook = self.activation(hook)\n",
    "        hook = hook.mul(-1).sum(-1)\n",
    "        return hook\n",
    "    \n",
    "class run_filter(nn.Module):\n",
    "    def __init__(self, motif):\n",
    "        super().__init__()\n",
    "        self.motif = motif\n",
    "        self.filter= nn.Conv1d(motif.shape[1], motif.shape[0], motif.shape[2], \n",
    "                               bias=False)\n",
    "        self.pad = nn.ConstantPad1d((0,self.filter.weight.shape[-1]-1),motif.min())\n",
    "        self.filter.weight.data = motif\n",
    "        self.filter.weight.requires_grad = False\n",
    "\n",
    "    def forward(self, in_tensor):\n",
    "        hook = self.filter(in_tensor)\n",
    "        return self.pad( hook )\n",
    "\n",
    "class run_filter(nn.Module):\n",
    "    def __init__(self, motif):\n",
    "        super().__init__()\n",
    "        self.motif = motif\n",
    "        self.filter= nn.Conv1d(motif.shape[1], motif.shape[0], motif.shape[2], \n",
    "                               bias=False)\n",
    "        self.padding = self.filter.weight.shape[-1]\n",
    "        self.filter.weight.data = motif\n",
    "        self.filter.weight.requires_grad = False\n",
    "\n",
    "    def forward(self, in_tensor):\n",
    "        new_shape = (in_tensor.shape[0], in_tensor.shape[1],)\n",
    "        hook = self.filter(in_tensor)\n",
    "        hold = []\n",
    "        for i in range(self.padding):\n",
    "            left_shape = (hook.shape[0], hook.shape[1],i)\n",
    "            left_pad   = torch.zeros(size=left_shape, dtype=in_tensor.dtype, \n",
    "                                     layout=in_tensor.layout, device=in_tensor.device)\n",
    "            right_shape= (hook.shape[0], hook.shape[1],self.padding-i-1)\n",
    "            right_pad  = torch.zeros(size=right_shape, dtype=in_tensor.dtype, \n",
    "                                     layout=in_tensor.layout, device=in_tensor.device)\n",
    "            hold.append( torch.cat([left_pad, hook, right_pad], dim=-1) )\n",
    "        hook = torch.stack(hold,dim=-1)\n",
    "        hook = hook.max(dim=-1)[0]#.clamp(0.01).log()\n",
    "        return hook\n"
   ]
  },
  {
   "cell_type": "code",
   "execution_count": 9,
   "metadata": {},
   "outputs": [],
   "source": [
    "my_params = StraightThroughParameters(\n",
    "    nn.Parameter(torch.randn([1,4,1])), \n",
    "    left_flank=None, \n",
    "    right_flank=None,\n",
    "    n_samples=2\n",
    ")\n",
    "\n",
    "my_params = GumbelSoftmaxParameters(\n",
    "    nn.Parameter(torch.randn([1,4,1])), \n",
    "    left_flank=None, \n",
    "    right_flank=None,\n",
    "    n_samples=100\n",
    ")"
   ]
  },
  {
   "cell_type": "code",
   "execution_count": 10,
   "metadata": {},
   "outputs": [],
   "source": [
    "my_energy = a_only()\n"
   ]
  },
  {
   "cell_type": "code",
   "execution_count": 11,
   "metadata": {
    "scrolled": true
   },
   "outputs": [
    {
     "name": "stdout",
     "output_type": "stream",
     "text": [
      "tensor([[0., 0., 1., 0.],\n",
      "        [0., 0., 1., 0.],\n",
      "        [0., 0., 1., 0.],\n",
      "        [0., 0., 1., 0.],\n",
      "        [0., 0., 1., 0.],\n",
      "        [0., 0., 1., 0.],\n",
      "        [0., 1., 0., 0.],\n",
      "        [0., 1., 0., 0.],\n",
      "        [0., 0., 1., 0.],\n",
      "        [0., 1., 0., 0.],\n",
      "        [0., 0., 1., 0.],\n",
      "        [0., 0., 1., 0.],\n",
      "        [0., 0., 0., 1.],\n",
      "        [0., 1., 0., 0.],\n",
      "        [0., 0., 1., 0.],\n",
      "        [0., 0., 1., 0.],\n",
      "        [0., 0., 1., 0.],\n",
      "        [0., 0., 1., 0.],\n",
      "        [0., 0., 1., 0.],\n",
      "        [0., 0., 1., 0.],\n",
      "        [0., 1., 0., 0.],\n",
      "        [0., 1., 0., 0.],\n",
      "        [0., 0., 1., 0.],\n",
      "        [0., 1., 0., 0.],\n",
      "        [0., 1., 0., 0.],\n",
      "        [0., 0., 1., 0.],\n",
      "        [0., 0., 1., 0.],\n",
      "        [0., 1., 0., 0.],\n",
      "        [0., 0., 1., 0.],\n",
      "        [0., 0., 1., 0.],\n",
      "        [0., 0., 1., 0.],\n",
      "        [0., 0., 1., 0.],\n",
      "        [0., 1., 0., 0.],\n",
      "        [0., 1., 0., 0.],\n",
      "        [0., 0., 1., 0.],\n",
      "        [0., 0., 1., 0.],\n",
      "        [0., 1., 0., 0.],\n",
      "        [0., 0., 1., 0.],\n",
      "        [0., 0., 1., 0.],\n",
      "        [0., 1., 0., 0.],\n",
      "        [0., 0., 1., 0.],\n",
      "        [0., 0., 0., 1.],\n",
      "        [0., 1., 0., 0.],\n",
      "        [0., 0., 1., 0.],\n",
      "        [0., 1., 0., 0.],\n",
      "        [0., 1., 0., 0.],\n",
      "        [0., 0., 1., 0.],\n",
      "        [0., 0., 1., 0.],\n",
      "        [0., 1., 0., 0.],\n",
      "        [0., 0., 1., 0.],\n",
      "        [0., 1., 0., 0.],\n",
      "        [0., 0., 1., 0.],\n",
      "        [0., 1., 0., 0.],\n",
      "        [0., 0., 1., 0.],\n",
      "        [0., 0., 1., 0.],\n",
      "        [0., 0., 1., 0.],\n",
      "        [0., 1., 0., 0.],\n",
      "        [1., 0., 0., 0.],\n",
      "        [0., 1., 0., 0.],\n",
      "        [0., 0., 1., 0.],\n",
      "        [0., 0., 1., 0.],\n",
      "        [0., 1., 0., 0.],\n",
      "        [0., 0., 1., 0.],\n",
      "        [0., 1., 0., 0.],\n",
      "        [0., 1., 0., 0.],\n",
      "        [0., 0., 1., 0.],\n",
      "        [0., 1., 0., 0.],\n",
      "        [1., 0., 0., 0.],\n",
      "        [0., 0., 1., 0.],\n",
      "        [0., 0., 1., 0.],\n",
      "        [0., 1., 0., 0.],\n",
      "        [0., 0., 1., 0.],\n",
      "        [0., 1., 0., 0.],\n",
      "        [0., 1., 0., 0.],\n",
      "        [0., 0., 1., 0.],\n",
      "        [0., 1., 0., 0.],\n",
      "        [0., 0., 1., 0.],\n",
      "        [0., 0., 1., 0.],\n",
      "        [0., 1., 0., 0.],\n",
      "        [0., 1., 0., 0.],\n",
      "        [0., 0., 1., 0.],\n",
      "        [0., 1., 0., 0.],\n",
      "        [0., 1., 0., 0.],\n",
      "        [0., 0., 1., 0.],\n",
      "        [0., 1., 0., 0.],\n",
      "        [1., 0., 0., 0.],\n",
      "        [0., 1., 0., 0.],\n",
      "        [0., 0., 1., 0.],\n",
      "        [0., 0., 1., 0.],\n",
      "        [0., 1., 0., 0.],\n",
      "        [1., 0., 0., 0.],\n",
      "        [0., 0., 0., 1.],\n",
      "        [0., 1., 0., 0.],\n",
      "        [0., 0., 1., 0.],\n",
      "        [0., 1., 0., 0.],\n",
      "        [0., 1., 0., 0.],\n",
      "        [0., 1., 0., 0.],\n",
      "        [0., 0., 1., 0.],\n",
      "        [0., 1., 0., 0.],\n",
      "        [0., 0., 1., 0.]], grad_fn=<SumBackward1>)\n",
      "tensor([0., 0., 0., 0., 0., 0., 0., 0., 0., 0., 0., 0., 0., 0., 0., 0., 0., 0.,\n",
      "        0., 0., 0., 0., 0., 0., 0., 0., 0., 0., 0., 0., 0., 0., 0., 0., 0., 0.,\n",
      "        0., 0., 0., 0., 0., 0., 0., 0., 0., 0., 0., 0., 0., 0., 0., 0., 0., 0.,\n",
      "        0., 0., 0., 1., 0., 0., 0., 0., 0., 0., 0., 0., 0., 1., 0., 0., 0., 0.,\n",
      "        0., 0., 0., 0., 0., 0., 0., 0., 0., 0., 0., 0., 0., 1., 0., 0., 0., 0.,\n",
      "        1., 0., 0., 0., 0., 0., 0., 0., 0., 0.], grad_fn=<SelectBackward>)\n",
      "tensor(0.7437, grad_fn=<SelectBackward>)\n",
      "tensor([[1.],\n",
      "        [0.],\n",
      "        [0.],\n",
      "        [0.]], grad_fn=<SelectBackward>)\n",
      "tensor(0.7437, grad_fn=<MinBackward1>)\n",
      "tensor(1.7437, grad_fn=<MaxBackward1>)\n",
      "tensor([[1.],\n",
      "        [0.],\n",
      "        [0.],\n",
      "        [0.]], grad_fn=<SelectBackward>)\n",
      "tensor([[0.],\n",
      "        [0.],\n",
      "        [1.],\n",
      "        [0.]], grad_fn=<SelectBackward>)\n"
     ]
    },
    {
     "data": {
      "text/plain": [
       "tensor([1.7437, 1.7437, 1.7437, 1.7437, 1.7437, 1.7437, 1.7437, 1.7437, 1.7437,\n",
       "        1.7437, 1.7437, 1.7437, 1.7437, 1.7437, 1.7437, 1.7437, 1.7437, 1.7437,\n",
       "        1.7437, 1.7437, 1.7437, 1.7437, 1.7437, 1.7437, 1.7437, 1.7437, 1.7437,\n",
       "        1.7437, 1.7437, 1.7437, 1.7437, 1.7437, 1.7437, 1.7437, 1.7437, 1.7437,\n",
       "        1.7437, 1.7437, 1.7437, 1.7437, 1.7437, 1.7437, 1.7437, 1.7437, 1.7437,\n",
       "        1.7437, 1.7437, 1.7437, 1.7437, 1.7437, 1.7437, 1.7437, 1.7437, 1.7437,\n",
       "        1.7437, 1.7437, 1.7437, 0.7437, 1.7437, 1.7437, 1.7437, 1.7437, 1.7437,\n",
       "        1.7437, 1.7437, 1.7437, 1.7437, 0.7437, 1.7437, 1.7437, 1.7437, 1.7437,\n",
       "        1.7437, 1.7437, 1.7437, 1.7437, 1.7437, 1.7437, 1.7437, 1.7437, 1.7437,\n",
       "        1.7437, 1.7437, 1.7437, 1.7437, 0.7437, 1.7437, 1.7437, 1.7437, 1.7437,\n",
       "        0.7437, 1.7437, 1.7437, 1.7437, 1.7437, 1.7437, 1.7437, 1.7437, 1.7437,\n",
       "        1.7437], grad_fn=<NllLossBackward>)"
      ]
     },
     "execution_count": 11,
     "metadata": {},
     "output_type": "execute_result"
    }
   ],
   "source": [
    "test = my_params()\n",
    "print(test.sum(-1))\n",
    "print(test.sum(-1)[:,0])\n",
    "print( my_energy(test)[torch.argmax(test.sum(-1)[:,0])] )\n",
    "print( test[torch.argmax(test.sum(-1)[:,0])] )\n",
    "print( my_energy( test ).min() )\n",
    "print( my_energy( test ).max() )\n",
    "print( test[my_energy( test ).argmin()] )\n",
    "print( test[my_energy( test ).argmax()] )\n",
    "my_energy( test )"
   ]
  },
  {
   "cell_type": "code",
   "execution_count": 12,
   "metadata": {},
   "outputs": [
    {
     "data": {
      "text/plain": [
       "tensor([1.7037], grad_fn=<MeanBackward1>)"
      ]
     },
     "execution_count": 12,
     "metadata": {},
     "output_type": "execute_result"
    }
   ],
   "source": [
    "my_params.rebatch( my_energy( test ) )"
   ]
  },
  {
   "cell_type": "code",
   "execution_count": 13,
   "metadata": {},
   "outputs": [],
   "source": [
    "my_sampler = NUTS3( my_params, my_energy, max_tree_depth=5 )"
   ]
  },
  {
   "cell_type": "code",
   "execution_count": 14,
   "metadata": {},
   "outputs": [
    {
     "data": {
      "text/plain": [
       "tensor([2.9568], grad_fn=<AddBackward0>)"
      ]
     },
     "execution_count": 14,
     "metadata": {},
     "output_type": "execute_result"
    }
   ],
   "source": [
    "my_sampler.calc_energy()"
   ]
  },
  {
   "cell_type": "code",
   "execution_count": 15,
   "metadata": {},
   "outputs": [
    {
     "data": {
      "text/plain": [
       "Parameter containing:\n",
       "tensor([[[-0.4599],\n",
       "         [ 1.2651],\n",
       "         [ 1.1355],\n",
       "         [-2.7210]]], requires_grad=True)"
      ]
     },
     "execution_count": 15,
     "metadata": {},
     "output_type": "execute_result"
    }
   ],
   "source": [
    "my_sampler.params.theta"
   ]
  },
  {
   "cell_type": "code",
   "execution_count": 16,
   "metadata": {},
   "outputs": [
    {
     "data": {
      "text/plain": [
       "tensor([[1]])"
      ]
     },
     "execution_count": 16,
     "metadata": {},
     "output_type": "execute_result"
    }
   ],
   "source": [
    "my_sampler.params.theta.argmax(1)"
   ]
  },
  {
   "cell_type": "code",
   "execution_count": 17,
   "metadata": {},
   "outputs": [
    {
     "name": "stderr",
     "output_type": "stream",
     "text": [
      "/opt/conda/lib/python3.7/site-packages/torch/autograd/__init__.py:204: UserWarning: CUDA initialization: Found no NVIDIA driver on your system. Please check that you have an NVIDIA GPU and installed a driver from http://www.nvidia.com/Download/index.aspx (Triggered internally at  /opt/conda/conda-bld/pytorch_1607370156314/work/c10/cuda/CUDAFunctions.cpp:100.)\n",
      "  inputs, allow_unused)\n"
     ]
    },
    {
     "name": "stdout",
     "output_type": "stream",
     "text": [
      "1242.592767715454\n"
     ]
    }
   ],
   "source": [
    "start = time.time()\n",
    "my_samples = my_sampler.collect_samples(1e-1,1000)\n",
    "print(time.time() - start)"
   ]
  },
  {
   "cell_type": "code",
   "execution_count": 33,
   "metadata": {},
   "outputs": [],
   "source": [
    "sampled_theta, sampled_energy = [ torch.stack(x, dim=0) for x in zip(*my_samples) ]"
   ]
  },
  {
   "cell_type": "code",
   "execution_count": 19,
   "metadata": {},
   "outputs": [
    {
     "name": "stdout",
     "output_type": "stream",
     "text": [
      "torch.Size([1000, 1, 4, 1])\n",
      "torch.Size([1000, 1])\n"
     ]
    }
   ],
   "source": [
    "print(sampled_theta.shape)\n",
    "print(sampled_energy.shape)"
   ]
  },
  {
   "cell_type": "code",
   "execution_count": 20,
   "metadata": {},
   "outputs": [],
   "source": [
    "b_dim = 0\n",
    "cpu_theta = sampled_theta.mean(-1)[-200:,b_dim,0].cpu().numpy()\n",
    "cpu_energy= sampled_energy[-200:,b_dim].cpu().numpy()"
   ]
  },
  {
   "cell_type": "code",
   "execution_count": 21,
   "metadata": {},
   "outputs": [
    {
     "data": {
      "text/plain": [
       "array([ 9.6656990e-01, -4.5952031e-01,  1.3175269e+00,  1.0837963e+00,\n",
       "        1.3887939e+00,  1.9131925e+00,  1.6904452e+00,  8.6935654e-02,\n",
       "        1.2728255e+00,  4.5032017e-02, -8.7228373e-02, -4.6234420e-01,\n",
       "       -1.4636239e+00, -3.1705377e+00, -2.8481970e+00,  5.7336181e-01,\n",
       "       -2.5337303e-01, -1.1356335e+00,  1.3514887e-01, -4.5133236e-01,\n",
       "        1.3287396e+00,  5.0243419e-01, -2.1349692e-01,  2.8751936e+00,\n",
       "        1.5708934e+00,  6.0324305e-01, -1.6261281e+00, -1.1138576e+00,\n",
       "        2.7282047e-01,  2.6310246e+00,  2.4270847e+00,  1.8574253e+00,\n",
       "        1.1382709e+00,  3.2439032e+00,  2.7429719e+00, -1.7463335e-01,\n",
       "        2.0923831e+00, -2.2617383e+00, -2.0980105e+00, -1.9261410e+00,\n",
       "       -1.8147626e+00,  1.7648700e+00,  3.2563555e+00,  1.9735677e+00,\n",
       "        1.6182250e+00,  4.0755215e+00,  2.1036532e+00,  7.7162498e-01,\n",
       "        1.5571843e+00,  1.9114064e+00, -5.5311018e-01,  5.3107888e-01,\n",
       "        3.5383618e-01,  7.5543392e-01, -5.1923847e-01,  8.8705099e-01,\n",
       "       -2.8188050e+00, -1.0589428e+00,  2.2433238e+00, -5.2219421e-01,\n",
       "       -6.4707768e-01, -1.5630790e+00, -2.9735177e+00, -3.9973931e+00,\n",
       "       -1.0830486e+00,  1.1307828e+00,  1.5119619e+00,  2.5034304e+00,\n",
       "        3.1129320e+00,  2.6278837e+00,  7.9637825e-01, -7.5034660e-01,\n",
       "       -9.4855744e-01, -1.8855530e+00, -1.0390720e+00,  2.4882239e-01,\n",
       "        9.3355829e-01,  1.9957210e+00,  6.2259829e-01,  7.8013861e-01,\n",
       "        1.7422299e+00,  1.9496987e+00, -2.1175358e+00, -3.4077084e+00,\n",
       "        6.0288787e-01,  1.7877575e+00,  1.9348949e+00,  7.5544620e-01,\n",
       "        7.1438408e-01, -1.0229268e+00, -9.1828060e-01, -9.8559302e-01,\n",
       "        1.9053025e+00,  2.8048577e+00,  1.9492470e+00,  1.9420944e+00,\n",
       "        1.3207147e+00,  1.0429237e+00,  2.9707937e+00,  6.4694202e-01,\n",
       "        4.9655908e-01,  1.2561908e-01,  2.9046628e-01,  2.5520494e+00,\n",
       "        2.7448428e+00, -1.0495828e+00, -9.7911102e-01,  2.1610622e+00,\n",
       "        2.8627727e+00,  3.7635884e+00, -8.1253344e-01, -2.6387343e-01,\n",
       "       -3.1543869e-01, -5.4051691e-01,  3.5620294e+00,  3.9142642e+00,\n",
       "        5.7491407e+00,  8.0210483e-01, -2.4594411e-01,  5.3859204e-02,\n",
       "        8.6832441e-02, -2.9926622e-01, -4.1863054e-02,  1.3925891e+00,\n",
       "        2.2510365e-03,  1.8724856e+00,  8.2611716e-01,  5.5335319e-01,\n",
       "        9.1413659e-01,  7.9730368e-01,  1.2771437e+00,  1.1719570e+00,\n",
       "       -3.0358297e-01, -2.5866768e-01, -7.2946179e-01, -1.6364043e+00,\n",
       "       -2.0489352e+00,  1.9483891e+00,  1.2667723e+00,  1.3084533e+00,\n",
       "        1.0372980e+00,  1.2879856e+00,  9.4180065e-01,  9.1815513e-01,\n",
       "        1.6765451e+00,  1.0535704e+00,  2.7598774e+00,  3.8858380e+00,\n",
       "        2.6666083e+00,  1.6994393e+00,  2.2048676e+00,  1.5858790e+00,\n",
       "        1.1975238e+00,  1.6071873e+00,  6.8608010e-01,  3.2820685e+00,\n",
       "        2.9179432e+00,  2.9184849e+00,  4.0508547e+00,  1.3888435e+00,\n",
       "       -9.0979725e-01, -1.9689389e+00, -1.1269989e+00,  5.2591577e-02,\n",
       "        1.9515681e-01, -4.4849312e-01, -3.8464305e-01, -3.6468491e-01,\n",
       "       -2.4925952e+00, -2.1204083e+00, -5.1177949e-01, -2.5834107e+00,\n",
       "       -1.7068001e+00,  6.8785095e-01,  1.4092335e+00,  2.8286042e+00,\n",
       "        2.3252950e+00,  2.6285424e+00,  2.4691589e+00,  2.3998160e+00,\n",
       "        1.0280564e+00, -2.1191435e+00, -1.0126254e-01,  2.1664612e-01,\n",
       "        1.1927711e+00,  2.0415857e+00,  5.9476829e+00, -7.3697591e-01,\n",
       "        2.8249304e+00,  2.7031789e+00,  2.4707851e+00, -9.2735308e-01,\n",
       "       -1.1091086e+00, -2.4841231e-01, -1.0634669e+00, -1.7077731e+00,\n",
       "       -1.0214794e+00,  4.8471490e-01,  4.1330263e-02,  4.1330263e-02],\n",
       "      dtype=float32)"
      ]
     },
     "execution_count": 21,
     "metadata": {},
     "output_type": "execute_result"
    }
   ],
   "source": [
    "cpu_theta"
   ]
  },
  {
   "cell_type": "code",
   "execution_count": 22,
   "metadata": {},
   "outputs": [
    {
     "data": {
      "image/png": "[encoded data removed]",
      "text/plain": [
       "<Figure size 432x432 with 3 Axes>"
      ]
     },
     "metadata": {
      "needs_background": "light"
     },
     "output_type": "display_data"
    }
   ],
   "source": [
    "g = sns.jointplot(x = cpu_theta, \n",
    "                  y = cpu_energy,\n",
    "                  kind='kde'\n",
    "                 )\n",
    "plt.show()"
   ]
  },
  {
   "cell_type": "markdown",
   "metadata": {},
   "source": [
    "# Sample directly from GATA1 motif"
   ]
  },
  {
   "cell_type": "code",
   "execution_count": 11,
   "metadata": {},
   "outputs": [],
   "source": [
    "motif = \"\"\"1114.00 206.00 318.00 4955.00   0.00   0.00 2049.00 658.00 963.00 1191.00 1778.00 1038.00 1352.00 1885.00 1381.00 110.00 4659.00 160.00\n",
    "2038.00 807.00   0.00   0.00   0.00 4955.00  63.00 1331.00 1214.00 1127.00 1130.00 1237.00 1142.00 1033.00 1237.00 4822.00   0.00 890.00\n",
    "967.00 159.00   0.00   0.00   0.00   0.00  55.00 2214.00 1244.00 1520.00 990.00 1712.00 1466.00 820.00 1884.00  23.00   0.00 3544.00\n",
    "836.00 3783.00 4637.00   0.00 4955.00   0.00 2788.00 752.00 1534.00 1117.00 1057.00 968.00 995.00 1217.00 453.00   0.00 296.00 361.00\"\"\""
   ]
  },
  {
   "cell_type": "code",
   "execution_count": 12,
   "metadata": {},
   "outputs": [],
   "source": [
    "def motif_str_to_counts(motif_str, pseudocounts=1.0):\n",
    "    motif = torch.tensor( [ list([ float(y) for y in x.split() ]) for x in motif_str.split('\\n') ] )\n",
    "    return motif.add(pseudocounts)\n",
    "\n",
    "def counts_to_ppm(in_tensor):\n",
    "    motif = in_tensor.div( in_tensor.sum(0) )\n",
    "    return motif\n",
    "\n",
    "def ppm_to_pwm(in_tensor,bkg=[0.25,0.25,0.25,0.25]):\n",
    "    motif = in_tensor.div(torch.tensor(bkg).unsqueeze(1)).log2()\n",
    "    return motif\n",
    "\n",
    "def ppm_to_U(in_tensor):\n",
    "    return (in_tensor.log2() * in_tensor).sum(0).mul(-1.)\n",
    "\n",
    "def ppm_to_IC(in_tensor):\n",
    "    return in_tensor * ppm_to_U( in_tensor ).mul(-1.).add(2.)\n",
    "\n",
    "def PWM_to_filter(motif_str):\n",
    "    motif = torch.tensor( [ list([ float(y) for y in x.split() ]) for x in motif_str.split('\\n') ] )\n",
    "    motif = motif.add(1.).div( motif.add(1.).sum(0) )\n",
    "    motif = motif.div( motif.add(-1).mul(-1) ).log().clamp(-5,5)\n",
    "    motif = torch.randn_like(motif).mul(1e-3).add(motif)\n",
    "    motif = motif.add(-motif.mean(0))\n",
    "    return motif\n",
    "\n",
    "def counts_to_filter(in_tensor):\n",
    "    motif = ppm_to_pwm( counts_to_ppm( in_tensor ) )\n",
    "    return motif.unsqueeze(0)"
   ]
  },
  {
   "cell_type": "code",
   "execution_count": 13,
   "metadata": {},
   "outputs": [
    {
     "data": {
      "text/plain": [
       "tensor([[-1.5301e-01, -2.5823e+00, -1.9584e+00,  1.9991e+00, -1.0276e+01,\n",
       "         -1.0276e+01,  7.2557e-01, -9.1170e-01, -3.6294e-01, -5.6665e-02,\n",
       "          5.2102e-01, -2.5485e-01,  1.2611e-01,  6.0528e-01,  1.5671e-01,\n",
       "         -3.4814e+00,  1.9103e+00, -2.9449e+00],\n",
       "        [ 7.1781e-01, -6.1762e-01, -1.0276e+01, -1.0276e+01, -1.0276e+01,\n",
       "          1.9991e+00, -4.2758e+00,  1.0354e-01, -2.9093e-02, -1.3628e-01,\n",
       "         -1.3245e-01, -2.0379e-03, -1.1722e-01, -2.6181e-01, -2.0379e-03,\n",
       "          1.9599e+00, -1.0276e+01, -4.7655e-01],\n",
       "        [-3.5697e-01, -2.9539e+00, -1.0276e+01, -1.0276e+01, -1.0276e+01,\n",
       "         -1.0276e+01, -4.4685e+00,  8.3726e-01,  6.0964e-03,  2.9497e-01,\n",
       "         -3.2309e-01,  4.6648e-01,  2.4282e-01, -5.9460e-01,  6.0452e-01,\n",
       "         -5.6909e+00, -1.0276e+01,  1.5157e+00],\n",
       "        [-5.6675e-01,  1.6099e+00,  1.9035e+00, -1.0276e+01,  1.9991e+00,\n",
       "         -1.0276e+01,  1.1697e+00, -7.1933e-01,  3.0819e-01, -1.4913e-01,\n",
       "         -2.2871e-01, -3.5548e-01, -3.1583e-01, -2.5535e-02, -1.4493e+00,\n",
       "         -1.0276e+01, -2.0615e+00, -1.7760e+00]])"
      ]
     },
     "execution_count": 13,
     "metadata": {},
     "output_type": "execute_result"
    }
   ],
   "source": [
    "ppm_to_pwm( counts_to_ppm( motif_str_to_counts(motif) ) )"
   ]
  },
  {
   "cell_type": "code",
   "execution_count": 14,
   "metadata": {},
   "outputs": [
    {
     "data": {
      "text/plain": [
       "tensor([[2.1451e-02, 3.8598e-02, 1.0615e-01, 1.9905e+00, 4.0163e-04, 4.0163e-04,\n",
       "         3.5227e-01, 2.2778e-02, 3.7411e-03, 2.9400e-03, 1.5548e-02, 7.9133e-03,\n",
       "         4.3075e-03, 2.6964e-02, 3.9090e-02, 4.0259e-02, 1.5670e+00, 2.5085e-02],\n",
       "        [3.9227e-02, 1.5066e-01, 3.3275e-04, 4.0163e-04, 4.0163e-04, 1.9905e+00,\n",
       "         1.0998e-02, 4.6039e-02, 4.7152e-03, 2.7822e-03, 9.8849e-03, 9.4289e-03,\n",
       "         3.6389e-03, 1.4783e-02, 3.5017e-02, 1.7493e+00, 3.3626e-04, 1.3883e-01],\n",
       "        [1.8623e-02, 2.9835e-02, 3.3275e-04, 4.0163e-04, 4.0163e-04, 4.0163e-04,\n",
       "         9.6230e-03, 7.6559e-02, 4.8316e-03, 3.7515e-03, 8.6613e-03, 1.3047e-02,\n",
       "         4.6704e-03, 1.1738e-02, 5.3318e-02, 8.7046e-03, 3.3626e-04, 5.5235e-01],\n",
       "        [1.6102e-02, 7.0559e-01, 1.5433e+00, 4.0163e-04, 1.9905e+00, 4.0163e-04,\n",
       "         4.7926e-01, 2.6027e-02, 5.9570e-03, 2.7575e-03, 9.2468e-03, 7.3802e-03,\n",
       "         3.1709e-03, 1.7413e-02, 1.2842e-02, 3.6269e-04, 9.9868e-02, 5.6403e-02]])"
      ]
     },
     "execution_count": 14,
     "metadata": {},
     "output_type": "execute_result"
    }
   ],
   "source": [
    "ppm_to_IC( counts_to_ppm( motif_str_to_counts(motif) ) )"
   ]
  },
  {
   "cell_type": "code",
   "execution_count": 15,
   "metadata": {},
   "outputs": [],
   "source": [
    "from Bio.Seq import Seq\n",
    "from Bio import motifs\n",
    "\n",
    "import imageio\n",
    "\n",
    "def two_pngs(png1,png2,target='compound_image.png',dpi=200):\n",
    "    img1 = plt.imread(png1)\n",
    "    img2 = plt.imread(png2)\n",
    "\n",
    "    plt.figure(1,figsize=(12,6),dpi=dpi)\n",
    "    plt.subplot(211)\n",
    "    plt.imshow(img1)\n",
    "    plt.axis('off')\n",
    "\n",
    "    plt.subplot(212)\n",
    "    plt.imshow(img2)\n",
    "    plt.axis('off')\n",
    "    plt.savefig(target)\n",
    "    plt.close()\n",
    "\n",
    "def seqs_from_tensor(in_tensor):\n",
    "    n_samples = 100\n",
    "    samples = [ F.gumbel_softmax(in_tensor, tau=1., hard=True, dim=0) \n",
    "                for i in range(n_samples) ]\n",
    "    samples = torch.stack(samples, dim=0).argmax(1)\n",
    "    seqs = []\n",
    "    for i in range(samples.shape[0]):\n",
    "        seqs.append(Seq(\"\".join([ ['A','C','G','T'][x.item()] for x in samples[i] ])))\n",
    "    return seqs\n",
    "\n",
    "def logo_from_batch(in_tensor, target='my_motif.png'):\n",
    "    token_tensor = F.gumbel_softmax(in_tensor, tau=1., hard=True, dim=1).argmax(1)\n",
    "    seqs = []\n",
    "    for sample in token_tensor:\n",
    "        seqs.append(Seq(''.join([ ['A','C','G','T'][x.item()] for x in sample ])))\n",
    "    m = motifs.create(seqs)\n",
    "    m.weblogo(target,**{'color_scheme': 'color_classic'})\n",
    "    return m\n",
    "\n",
    "def logo_from_tensor(in_tensor, target='my_motif.png'):\n",
    "    instance = seqs_from_tensor(in_tensor)\n",
    "    m        = motifs.create(instance)\n",
    "    m.weblogo(target, **{'color_scheme': 'color_classic'})\n",
    "    return m\n",
    "\n",
    "def logo_gif(in_tensor, target='my_motif.gif'):\n",
    "    images = []\n",
    "    for an_instance in in_tensor:\n",
    "        _ = logo_from_tensor(an_instance, target='temp_motif.png')\n",
    "        images.append( imageio.imread('temp_motif.png') )\n",
    "    imageio.mimsave(target, images, duration=0.01)\n",
    "    return images\n",
    "\n",
    "def logo_video(in_tensor, target='my_motif.mp4'):\n",
    "    images = []\n",
    "    writer = imageio.get_writer(target, fps=20)\n",
    "    for an_instance in in_tensor:\n",
    "        _ = logo_from_tensor(an_instance, target='temp_motif.png')\n",
    "        images.append( imageio.imread('temp_motif.png') )\n",
    "    for an_image in images:\n",
    "        writer.append_data(an_image)\n",
    "    writer.close()\n",
    "    return images\n",
    "\n",
    "def combo_video(theta_tensor, energy_tensor, target='my_motif.mp4'):\n",
    "    images = []\n",
    "    writer = imageio.get_writer(target, fps=20)\n",
    "    hold_range = torch.arange(energy_tensor.shape[0])\n",
    "    min_e = energy_tensor.min()\n",
    "    max_e = energy_tensor.max()\n",
    "    for i, a_theta in enumerate([ x for x in theta_tensor ]):\n",
    "        _ = logo_from_tensor(a_theta, target='temp_motif.png')\n",
    "        \n",
    "        fig = plt.figure(figsize=(12,4))\n",
    "        ax  = plt.axes()\n",
    "        ax.plot(hold_range[:i].cpu().numpy(), energy_tensor[:i].cpu().numpy())\n",
    "        ax.set_xlim(0, energy_tensor.shape[0])\n",
    "        ax.set_ylim(min_e, max_e)\n",
    "        ax.set_ylabel('Potential Energy')\n",
    "        ax.set_xlabel('Iteration')\n",
    "        fig.savefig('temp_line.png')\n",
    "        plt.close()\n",
    "        \n",
    "        two_pngs('temp_motif.png','temp_line.png','compound_image.png')\n",
    "        \n",
    "        images.append( imageio.imread('compound_image.png') )\n",
    "    for an_image in images:\n",
    "        writer.append_data(an_image)\n",
    "    writer.close()\n",
    "    return images\n",
    "    \n",
    "def pssm_to_bits(in_pssm):\n",
    "    bits_mat = {}\n",
    "    for NT, scores in in_pssm.items():\n",
    "        bits_mat[NT] = [ 1. / (1 + (2**(-x))) for x in scores ]\n",
    "    return bits_mat"
   ]
  },
  {
   "cell_type": "code",
   "execution_count": 184,
   "metadata": {},
   "outputs": [],
   "source": [
    "import dmslogo\n",
    "import palettable\n",
    "import dmslogo.colorschemes\n",
    "from dmslogo.colorschemes import CBPALETTE\n",
    "\n",
    "def tensor_to_pandas(in_tensor):\n",
    "    data = []\n",
    "    my_array = in_tensor.cpu().numpy()\n",
    "    for nt, score_vec,color in zip(['A','C','G','T'],[ sub_a for sub_a in my_array ],['green','blue','orange','red']):\n",
    "         _ = [ data.append([j,nt,score,color]) for j,score in enumerate(score_vec) ]\n",
    "    return pd.DataFrame(data=data,columns=['site', 'letter', 'height','color'])\n",
    "\n",
    "def counts_to_dms(in_tensor, ax=None):\n",
    "    motif = counts_to_ppm( in_tensor )\n",
    "    motif = ppm_to_IC( motif )\n",
    "    motif = tensor_to_pandas( motif )\n",
    "    fig, ax = dmslogo.draw_logo(data=motif,\n",
    "                                x_col='site',\n",
    "                                letter_col='letter',\n",
    "                                letter_height_col='height',\n",
    "                                color_col='color',\n",
    "                                fixed_ymax=2.0,\n",
    "                                ax=ax)\n",
    "    return fig, ax\n",
    "\n",
    "def tensor_to_dms(in_tensor, target='dms_motif.png', ax=None):\n",
    "    n_samples = 1\n",
    "    samples = [ F.gumbel_softmax(in_tensor, tau=1., hard=True, dim=0) \n",
    "                for i in range(n_samples) ]\n",
    "    samples = torch.stack(samples, dim=0).sum(0).add(0.01)\n",
    "    fig, ax = counts_to_dms(samples, ax=ax)\n",
    "    if target is not None:\n",
    "        fig.savefig(target,dpi=400)\n",
    "    return fig, ax\n",
    "    \n",
    "    \n",
    "def batch_to_dms(in_tensor, target='dms_motif.png'):\n",
    "    count_tensor = F.gumbel_softmax(in_tensor, tau=1., hard=True, dim=1).sum(0).add(1.0)\n",
    "    fig, ax = counts_to_dms(count_tensor)\n",
    "    fig.savefig(target)\n",
    "    return fig, ax\n",
    "\n",
    "def dms_video(theta_tensor, energy_tensor, target='my_motif.mp4'):\n",
    "    images = []\n",
    "    writer = imageio.get_writer(target, fps=25)\n",
    "    hold_range = torch.arange(energy_tensor.shape[0])\n",
    "    min_e = energy_tensor.min()\n",
    "    max_e = energy_tensor.max()\n",
    "    for i, a_theta in enumerate([ x for x in theta_tensor ]):\n",
    "        #_ = tensor_to_dms(a_theta, target='dms_motif.png')\n",
    "        \n",
    "        fig = plt.figure(figsize=(12,8))\n",
    "        axes = fig.subplots(nrows=2)\n",
    "        axes[1].plot(hold_range[:i].cpu().numpy(), energy_tensor[:i].cpu().numpy())\n",
    "        axes[1].set_xlim(0, energy_tensor.shape[0])\n",
    "        axes[1].set_ylim(min_e, max_e)\n",
    "        axes[1].set_ylabel('Potential Energy')\n",
    "        axes[1].set_xlabel('Iteration')\n",
    "        _ = tensor_to_dms(a_theta, target=None,ax=axes[0])\n",
    "        fig.savefig('temp_line.png',dpi=100)\n",
    "        plt.close()\n",
    "        \n",
    "        #two_pngs('dms_motif.png','temp_line.png','compound_image.png',dpi=400)\n",
    "        \n",
    "        images.append( imageio.imread('temp_line.png') )\n",
    "    for an_image in images:\n",
    "        writer.append_data(an_image)\n",
    "    writer.close()\n",
    "    return images\n",
    "\n",
    "def dmsheat_video(theta_tensor, energy_tensor, scorer, target='my_motif.mp4'):\n",
    "    images = []\n",
    "    writer = imageio.get_writer(target, fps=15)\n",
    "    hold_range = torch.arange(energy_tensor.shape[0])\n",
    "    min_e = energy_tensor.min()\n",
    "    max_e = energy_tensor.max()\n",
    "    scores = scorer(theta_tensor)\n",
    "    for i, a_theta in enumerate([ x for x in theta_tensor ]):\n",
    "        #_ = tensor_to_dms(a_theta, target='dms_motif.png')\n",
    "        \n",
    "        fig = plt.figure(figsize=(12,8))\n",
    "        axes = fig.subplots(nrows=3)\n",
    "        axes[0].imshow(scores[i].cpu().numpy(),vmin=scores.min(),vmax=scores.max())\n",
    "        axes[2].plot(hold_range[:i].cpu().numpy(), energy_tensor[:i].cpu().numpy())\n",
    "        axes[2].set_xlim(0, energy_tensor.shape[0])\n",
    "        axes[2].set_ylim(min_e, max_e)\n",
    "        axes[2].set_ylabel('Potential Energy')\n",
    "        axes[2].set_xlabel('Iteration')\n",
    "        _ = tensor_to_dms(a_theta, target=None,ax=axes[1])\n",
    "        fig.savefig('temp_line.png',dpi=100)\n",
    "        plt.close()\n",
    "        \n",
    "        #two_pngs('dms_motif.png','temp_line.png','compound_image.png',dpi=400)\n",
    "        \n",
    "        images.append( imageio.imread('temp_line.png') )\n",
    "    for an_image in images:\n",
    "        writer.append_data(an_image)\n",
    "    writer.close()\n",
    "    return images\n",
    "\n"
   ]
  },
  {
   "cell_type": "code",
   "execution_count": 185,
   "metadata": {},
   "outputs": [],
   "source": [
    "motif_filter = PWM_to_filter(motif).unsqueeze(0)\n",
    "motif_filter = counts_to_filter( motif_str_to_counts(motif) )"
   ]
  },
  {
   "cell_type": "code",
   "execution_count": 186,
   "metadata": {},
   "outputs": [
    {
     "data": {
      "text/plain": [
       "torch.Size([4, 18])"
      ]
     },
     "execution_count": 186,
     "metadata": {},
     "output_type": "execute_result"
    }
   ],
   "source": [
    "ppm_to_IC( counts_to_ppm( motif_str_to_counts(motif) ) ).shape"
   ]
  },
  {
   "cell_type": "code",
   "execution_count": 187,
   "metadata": {},
   "outputs": [],
   "source": [
    "hold_dms = tensor_to_pandas(ppm_to_IC( counts_to_ppm( motif_str_to_counts(motif) ) ))"
   ]
  },
  {
   "cell_type": "code",
   "execution_count": 188,
   "metadata": {},
   "outputs": [
    {
     "data": {
      "image/png": "[encoded data removed]",
      "text/plain": [
       "<Figure size 478.8x180 with 1 Axes>"
      ]
     },
     "metadata": {
      "needs_background": "light"
     },
     "output_type": "display_data"
    }
   ],
   "source": [
    "fig, ax = counts_to_dms( motif_str_to_counts(motif) )\n"
   ]
  },
  {
   "cell_type": "code",
   "execution_count": 189,
   "metadata": {
    "scrolled": true
   },
   "outputs": [],
   "source": [
    "hold = motifs.create(seqs_from_tensor(motif_filter.squeeze()))\n",
    "hold.weblogo('testmotif.png',**{'color_scheme': 'color_classic'})"
   ]
  },
  {
   "cell_type": "code",
   "execution_count": 190,
   "metadata": {},
   "outputs": [],
   "source": [
    "hold.pseudocounts = { x: .01 for x in hold.pseudocounts.keys()}"
   ]
  },
  {
   "cell_type": "code",
   "execution_count": 191,
   "metadata": {},
   "outputs": [
    {
     "data": {
      "text/plain": [
       "tensor([[-1.5301e-01,  7.1781e-01, -3.5697e-01, -5.6675e-01],\n",
       "        [-2.5823e+00, -6.1762e-01, -2.9539e+00,  1.6099e+00],\n",
       "        [-1.9584e+00, -1.0276e+01, -1.0276e+01,  1.9035e+00],\n",
       "        [ 1.9991e+00, -1.0276e+01, -1.0276e+01, -1.0276e+01],\n",
       "        [-1.0276e+01, -1.0276e+01, -1.0276e+01,  1.9991e+00],\n",
       "        [-1.0276e+01,  1.9991e+00, -1.0276e+01, -1.0276e+01],\n",
       "        [ 7.2557e-01, -4.2758e+00, -4.4685e+00,  1.1697e+00],\n",
       "        [-9.1170e-01,  1.0354e-01,  8.3726e-01, -7.1933e-01],\n",
       "        [-3.6294e-01, -2.9093e-02,  6.0964e-03,  3.0819e-01],\n",
       "        [-5.6665e-02, -1.3628e-01,  2.9497e-01, -1.4913e-01],\n",
       "        [ 5.2102e-01, -1.3245e-01, -3.2309e-01, -2.2871e-01],\n",
       "        [-2.5485e-01, -2.0379e-03,  4.6648e-01, -3.5548e-01],\n",
       "        [ 1.2611e-01, -1.1722e-01,  2.4282e-01, -3.1583e-01],\n",
       "        [ 6.0528e-01, -2.6181e-01, -5.9460e-01, -2.5535e-02],\n",
       "        [ 1.5671e-01, -2.0379e-03,  6.0452e-01, -1.4493e+00],\n",
       "        [-3.4814e+00,  1.9599e+00, -5.6909e+00, -1.0276e+01],\n",
       "        [ 1.9103e+00, -1.0276e+01, -1.0276e+01, -2.0615e+00],\n",
       "        [-2.9449e+00, -4.7655e-01,  1.5157e+00, -1.7760e+00]])"
      ]
     },
     "execution_count": 191,
     "metadata": {},
     "output_type": "execute_result"
    }
   ],
   "source": [
    "motif_filter.squeeze().t()"
   ]
  },
  {
   "cell_type": "code",
   "execution_count": 192,
   "metadata": {},
   "outputs": [],
   "source": [
    "my_params = GumbelSoftmaxParameters(\n",
    "    nn.Parameter(torch.randn([3,4,18])), \n",
    "    left_flank=None, \n",
    "    right_flank=None,\n",
    "    n_samples=10,\n",
    "    prior_var=1.\n",
    ")\n",
    "\n",
    "my_energy = scan_motif(motif_filter)"
   ]
  },
  {
   "cell_type": "code",
   "execution_count": 193,
   "metadata": {},
   "outputs": [
    {
     "data": {
      "text/plain": [
       "tensor([35.0541, 36.7017, 40.5954, 47.7570, 31.3747, 47.5499, 57.5149, 55.1234,\n",
       "        51.6811, 42.5707, 40.4266, -1.3925, 63.6484, 57.7815, 41.8285, 33.6583,\n",
       "        52.0162, 56.4080, 51.3270, 45.5494, 29.7917, 46.3371, 45.1636, 28.4850,\n",
       "        44.3203, 34.8853, 21.0947, 58.4068, 27.0781, 29.4389],\n",
       "       grad_fn=<SumBackward1>)"
      ]
     },
     "execution_count": 193,
     "metadata": {},
     "output_type": "execute_result"
    }
   ],
   "source": [
    "my_energy( my_params() )"
   ]
  },
  {
   "cell_type": "code",
   "execution_count": 194,
   "metadata": {},
   "outputs": [],
   "source": [
    "my_sampler = NUTS3( my_params, my_energy, max_tree_depth=6 )"
   ]
  },
  {
   "cell_type": "code",
   "execution_count": 195,
   "metadata": {},
   "outputs": [
    {
     "data": {
      "text/plain": [
       "tensor([37.8916, 38.7041, 29.9810], grad_fn=<AddBackward0>)"
      ]
     },
     "execution_count": 195,
     "metadata": {},
     "output_type": "execute_result"
    }
   ],
   "source": [
    "my_sampler.calc_energy()"
   ]
  },
  {
   "cell_type": "code",
   "execution_count": 196,
   "metadata": {},
   "outputs": [
    {
     "data": {
      "text/plain": [
       "Parameter containing:\n",
       "tensor([[[-0.5094,  0.7442, -0.0908,  0.0422,  1.2567, -2.3554, -1.1805,\n",
       "           0.5317, -0.0640,  0.7314,  0.2950,  0.0412,  0.3949,  1.1852,\n",
       "           0.6757, -0.1353,  0.5646, -0.6569],\n",
       "         [ 0.1311,  0.1408, -0.9476, -0.7136,  0.2275, -1.4664, -1.2800,\n",
       "           0.1827,  0.8680,  1.4181, -0.6523,  0.3473, -1.7558, -1.2598,\n",
       "           0.0818, -0.4607, -0.3258, -0.4645],\n",
       "         [ 1.1676, -0.0964,  0.1595, -0.0400,  0.9846, -0.2110,  0.1665,\n",
       "          -1.2278, -0.4162,  0.5921,  0.4968, -0.5539, -1.8082, -0.2955,\n",
       "          -1.0786, -0.0716, -0.5290,  2.5844],\n",
       "         [ 1.9067,  1.1437, -0.4106,  0.1652, -0.1246, -0.9072, -0.4927,\n",
       "          -0.4405, -1.3996, -1.2982,  1.3340, -1.3067, -0.6499, -0.6082,\n",
       "           0.4475, -1.0456, -0.2530, -0.7913]],\n",
       "\n",
       "        [[ 1.2336, -0.3167,  2.5896, -0.8872,  1.0455, -0.4919,  0.3327,\n",
       "           0.1934, -0.2706,  0.5810, -0.1595, -1.6715,  2.2630, -2.3504,\n",
       "          -0.0117,  0.1257, -0.0587, -0.6206],\n",
       "         [-0.5422,  0.3003,  2.2834, -0.2552,  0.8073,  1.0458, -1.3150,\n",
       "           0.4236, -1.2195, -2.7045, -0.4462,  0.2431,  0.6445,  1.6641,\n",
       "           0.8527, -1.3644, -0.2520,  1.0023],\n",
       "         [-0.7824, -0.5062, -1.0284,  0.8733,  0.3687,  0.4939,  1.1499,\n",
       "           0.7316,  0.0621,  0.8180, -0.6789,  0.2243,  1.2937,  1.6739,\n",
       "          -1.7617, -0.3815,  1.6070,  0.6262],\n",
       "         [-0.3732, -0.0587, -1.2857, -1.6311,  1.6173, -1.2614, -2.1389,\n",
       "          -0.7305,  0.3058, -0.4221,  1.5789,  1.5963, -2.3950, -0.2573,\n",
       "          -1.2940,  0.2593, -0.4401, -1.2483]],\n",
       "\n",
       "        [[ 0.7549,  0.4056, -0.3579,  0.3606,  0.0875, -2.7122,  0.5086,\n",
       "           0.5895, -0.3798,  0.5212,  1.5430, -0.4695,  0.9053,  1.1115,\n",
       "          -0.6533, -0.8287,  0.1055, -0.1144],\n",
       "         [-0.7146,  0.2999,  1.0538,  1.2140, -0.3526,  1.8623,  0.5864,\n",
       "          -0.1660,  0.2372,  0.6475, -2.0707,  1.8609,  1.4843, -0.5882,\n",
       "           0.7133,  1.1129,  0.5300,  1.5634],\n",
       "         [-0.6943, -0.7515, -1.0717, -0.8945,  0.8552,  0.2339, -0.1201,\n",
       "          -0.8819,  0.9986, -0.6329,  0.7257,  2.3252, -0.4639,  0.8832,\n",
       "          -0.3795,  0.6330, -0.4559, -0.1972],\n",
       "         [ 3.3035, -1.0687,  0.0182,  0.0870,  0.1372, -0.1815,  0.3818,\n",
       "           0.8620, -0.1783,  1.8128,  0.1050, -0.8955, -1.0758, -0.0485,\n",
       "           0.2249,  0.0271, -0.7457,  1.3167]]], requires_grad=True)"
      ]
     },
     "execution_count": 196,
     "metadata": {},
     "output_type": "execute_result"
    }
   ],
   "source": [
    "my_sampler.params.theta"
   ]
  },
  {
   "cell_type": "code",
   "execution_count": 197,
   "metadata": {},
   "outputs": [
    {
     "data": {
      "text/plain": [
       "tensor([[3, 3, 2, 3, 0, 2, 2, 0, 1, 1, 3, 1, 0, 0, 0, 2, 0, 2],\n",
       "        [0, 1, 0, 2, 3, 1, 2, 2, 3, 2, 3, 3, 0, 2, 1, 3, 2, 1],\n",
       "        [3, 0, 1, 1, 2, 1, 1, 3, 2, 3, 0, 2, 1, 0, 1, 1, 1, 1]])"
      ]
     },
     "execution_count": 197,
     "metadata": {},
     "output_type": "execute_result"
    }
   ],
   "source": [
    "my_sampler.params.theta.argmax(1)"
   ]
  },
  {
   "cell_type": "code",
   "execution_count": 198,
   "metadata": {},
   "outputs": [
    {
     "name": "stdout",
     "output_type": "stream",
     "text": [
      "456.06550645828247\n"
     ]
    }
   ],
   "source": [
    "start = time.time()\n",
    "my_samples = my_sampler.collect_samples(1e-1,1000)\n",
    "print(time.time() - start)"
   ]
  },
  {
   "cell_type": "code",
   "execution_count": 199,
   "metadata": {},
   "outputs": [],
   "source": [
    "sampled_theta, sampled_energy = [ torch.stack(x, dim=0) for x in zip(*my_samples) ]"
   ]
  },
  {
   "cell_type": "code",
   "execution_count": 200,
   "metadata": {},
   "outputs": [
    {
     "name": "stdout",
     "output_type": "stream",
     "text": [
      "torch.Size([1000, 3, 4, 18])\n",
      "torch.Size([1000, 3])\n"
     ]
    }
   ],
   "source": [
    "print(sampled_theta.shape)\n",
    "print(sampled_energy.shape)"
   ]
  },
  {
   "cell_type": "code",
   "execution_count": 201,
   "metadata": {},
   "outputs": [
    {
     "data": {
      "text/plain": [
       "tensor([[[3.4784e-04, 9.9959e-01, 1.9188e-05, 4.4770e-05],\n",
       "         [6.5425e-06, 9.9999e-01, 7.5202e-07, 9.5789e-09],\n",
       "         [2.2905e-08, 9.9987e-01, 6.5777e-05, 6.0500e-05]],\n",
       "\n",
       "        [[2.3422e-06, 1.0000e+00, 9.6390e-08, 8.7794e-08],\n",
       "         [1.0317e-05, 9.9999e-01, 1.3099e-06, 2.4265e-08],\n",
       "         [1.3339e-08, 9.9982e-01, 1.8433e-05, 1.5900e-04]],\n",
       "\n",
       "        [[2.1076e-04, 9.9941e-01, 8.2561e-05, 2.9643e-04],\n",
       "         [8.2474e-08, 9.9999e-01, 8.3595e-06, 2.0501e-07],\n",
       "         [2.2805e-08, 9.9779e-01, 3.0478e-07, 2.2131e-03]],\n",
       "\n",
       "        ...,\n",
       "\n",
       "        [[1.3362e-08, 1.0000e+00, 4.7239e-11, 2.3383e-07],\n",
       "         [9.3001e-11, 9.9977e-01, 3.2032e-09, 2.2795e-04],\n",
       "         [7.3244e-07, 9.9712e-01, 2.8757e-03, 5.4664e-09]],\n",
       "\n",
       "        [[2.3113e-04, 9.9568e-01, 8.1595e-07, 4.0910e-03],\n",
       "         [1.1511e-07, 9.9182e-01, 2.1317e-04, 7.9699e-03],\n",
       "         [1.1479e-07, 9.9999e-01, 7.6645e-06, 8.1524e-10]],\n",
       "\n",
       "        [[2.3113e-04, 9.9568e-01, 8.1595e-07, 4.0910e-03],\n",
       "         [1.1511e-07, 9.9182e-01, 2.1317e-04, 7.9699e-03],\n",
       "         [1.1479e-07, 9.9999e-01, 7.6645e-06, 8.1524e-10]]])"
      ]
     },
     "execution_count": 201,
     "metadata": {},
     "output_type": "execute_result"
    }
   ],
   "source": [
    "sampled_theta[:,:,:,5].softmax(-1)"
   ]
  },
  {
   "cell_type": "code",
   "execution_count": 202,
   "metadata": {},
   "outputs": [
    {
     "data": {
      "text/plain": [
       "(<Figure size 478.8x180 with 1 Axes>,\n",
       " <AxesSubplot:xlabel='site', ylabel='height'>)"
      ]
     },
     "execution_count": 202,
     "metadata": {},
     "output_type": "execute_result"
    },
    {
     "data": {
      "image/png": "[encoded data removed]",
      "text/plain": [
       "<Figure size 478.8x180 with 1 Axes>"
      ]
     },
     "metadata": {
      "needs_background": "light"
     },
     "output_type": "display_data"
    },
    {
     "data": {
      "image/png": "[encoded data removed]",
      "text/plain": [
       "<Figure size 478.8x180 with 1 Axes>"
      ]
     },
     "metadata": {
      "needs_background": "light"
     },
     "output_type": "display_data"
    }
   ],
   "source": [
    "tensor_to_dms(motif_filter.squeeze())\n",
    "batch_to_dms(sampled_theta[:,2])"
   ]
  },
  {
   "cell_type": "code",
   "execution_count": 207,
   "metadata": {},
   "outputs": [
    {
     "data": {
      "image/png": "[encoded data removed]",
      "text/plain": [
       "<Figure size 432x288 with 1 Axes>"
      ]
     },
     "metadata": {
      "needs_background": "light"
     },
     "output_type": "display_data"
    },
    {
     "data": {
      "image/png": "[encoded data removed]",
      "text/plain": [
       "<Figure size 432x288 with 1 Axes>"
      ]
     },
     "metadata": {
      "needs_background": "light"
     },
     "output_type": "display_data"
    }
   ],
   "source": [
    "logo_from_tensor(motif_filter.squeeze(), 'filter_motif.png')\n",
    "logo_from_batch(sampled_theta[:,0], 'sampled_motif.png')\n",
    "\n",
    "img = mpimg.imread('filter_motif.png')\n",
    "imgplot = plt.imshow(img)\n",
    "plt.show()\n",
    "\n",
    "img = mpimg.imread('sampled_motif.png')\n",
    "imgplot = plt.imshow(img)\n",
    "plt.show()"
   ]
  },
  {
   "cell_type": "code",
   "execution_count": 204,
   "metadata": {
    "scrolled": true
   },
   "outputs": [
    {
     "name": "stderr",
     "output_type": "stream",
     "text": [
      "IMAGEIO FFMPEG_WRITER WARNING: input image is not divisible by macro_block_size=16, resizing from (324, 107) to (336, 112) to ensure video compatibility with most codecs and players. To prevent resizing, make your input image divisible by the macro_block_size or set the macro_block_size to 1 (risking incompatibility).\n",
      "IMAGEIO FFMPEG_WRITER WARNING: input image is not divisible by macro_block_size=16, resizing from (324, 107) to (336, 112) to ensure video compatibility with most codecs and players. To prevent resizing, make your input image divisible by the macro_block_size or set the macro_block_size to 1 (risking incompatibility).\n"
     ]
    },
    {
     "ename": "KeyboardInterrupt",
     "evalue": "",
     "output_type": "error",
     "traceback": [
      "\u001b[0;31m---------------------------------------------------------------------------\u001b[0m",
      "\u001b[0;31mKeyboardInterrupt\u001b[0m                         Traceback (most recent call last)",
      "\u001b[0;32m<ipython-input-204-b67e6f5cd2ed>\u001b[0m in \u001b[0;36m<module>\u001b[0;34m\u001b[0m\n\u001b[1;32m      1\u001b[0m \u001b[0mhold1\u001b[0m \u001b[0;34m=\u001b[0m \u001b[0mlogo_video\u001b[0m\u001b[0;34m(\u001b[0m\u001b[0msampled_theta\u001b[0m\u001b[0;34m[\u001b[0m\u001b[0;34m:\u001b[0m\u001b[0;34m,\u001b[0m\u001b[0;36m0\u001b[0m\u001b[0;34m]\u001b[0m\u001b[0;34m,\u001b[0m\u001b[0;34m'traj_1b.mp4'\u001b[0m\u001b[0;34m)\u001b[0m\u001b[0;34m\u001b[0m\u001b[0;34m\u001b[0m\u001b[0m\n\u001b[1;32m      2\u001b[0m \u001b[0mhold2\u001b[0m \u001b[0;34m=\u001b[0m \u001b[0mlogo_video\u001b[0m\u001b[0;34m(\u001b[0m\u001b[0msampled_theta\u001b[0m\u001b[0;34m[\u001b[0m\u001b[0;34m:\u001b[0m\u001b[0;34m,\u001b[0m\u001b[0;36m1\u001b[0m\u001b[0;34m]\u001b[0m\u001b[0;34m,\u001b[0m\u001b[0;34m'traj_2b.mp4'\u001b[0m\u001b[0;34m)\u001b[0m\u001b[0;34m\u001b[0m\u001b[0;34m\u001b[0m\u001b[0m\n\u001b[0;32m----> 3\u001b[0;31m \u001b[0mhold3\u001b[0m \u001b[0;34m=\u001b[0m \u001b[0mlogo_video\u001b[0m\u001b[0;34m(\u001b[0m\u001b[0msampled_theta\u001b[0m\u001b[0;34m[\u001b[0m\u001b[0;34m:\u001b[0m\u001b[0;34m,\u001b[0m\u001b[0;36m2\u001b[0m\u001b[0;34m]\u001b[0m\u001b[0;34m,\u001b[0m\u001b[0;34m'traj_3b.mp4'\u001b[0m\u001b[0;34m)\u001b[0m\u001b[0;34m\u001b[0m\u001b[0;34m\u001b[0m\u001b[0m\n\u001b[0m",
      "\u001b[0;32m<ipython-input-15-437c75e879a6>\u001b[0m in \u001b[0;36mlogo_video\u001b[0;34m(in_tensor, target)\u001b[0m\n\u001b[1;32m     56\u001b[0m     \u001b[0mwriter\u001b[0m \u001b[0;34m=\u001b[0m \u001b[0mimageio\u001b[0m\u001b[0;34m.\u001b[0m\u001b[0mget_writer\u001b[0m\u001b[0;34m(\u001b[0m\u001b[0mtarget\u001b[0m\u001b[0;34m,\u001b[0m \u001b[0mfps\u001b[0m\u001b[0;34m=\u001b[0m\u001b[0;36m20\u001b[0m\u001b[0;34m)\u001b[0m\u001b[0;34m\u001b[0m\u001b[0;34m\u001b[0m\u001b[0m\n\u001b[1;32m     57\u001b[0m     \u001b[0;32mfor\u001b[0m \u001b[0man_instance\u001b[0m \u001b[0;32min\u001b[0m \u001b[0min_tensor\u001b[0m\u001b[0;34m:\u001b[0m\u001b[0;34m\u001b[0m\u001b[0;34m\u001b[0m\u001b[0m\n\u001b[0;32m---> 58\u001b[0;31m         \u001b[0m_\u001b[0m \u001b[0;34m=\u001b[0m \u001b[0mlogo_from_tensor\u001b[0m\u001b[0;34m(\u001b[0m\u001b[0man_instance\u001b[0m\u001b[0;34m,\u001b[0m \u001b[0mtarget\u001b[0m\u001b[0;34m=\u001b[0m\u001b[0;34m'temp_motif.png'\u001b[0m\u001b[0;34m)\u001b[0m\u001b[0;34m\u001b[0m\u001b[0;34m\u001b[0m\u001b[0m\n\u001b[0m\u001b[1;32m     59\u001b[0m         \u001b[0mimages\u001b[0m\u001b[0;34m.\u001b[0m\u001b[0mappend\u001b[0m\u001b[0;34m(\u001b[0m \u001b[0mimageio\u001b[0m\u001b[0;34m.\u001b[0m\u001b[0mimread\u001b[0m\u001b[0;34m(\u001b[0m\u001b[0;34m'temp_motif.png'\u001b[0m\u001b[0;34m)\u001b[0m \u001b[0;34m)\u001b[0m\u001b[0;34m\u001b[0m\u001b[0;34m\u001b[0m\u001b[0m\n\u001b[1;32m     60\u001b[0m     \u001b[0;32mfor\u001b[0m \u001b[0man_image\u001b[0m \u001b[0;32min\u001b[0m \u001b[0mimages\u001b[0m\u001b[0;34m:\u001b[0m\u001b[0;34m\u001b[0m\u001b[0;34m\u001b[0m\u001b[0m\n",
      "\u001b[0;32m<ipython-input-15-437c75e879a6>\u001b[0m in \u001b[0;36mlogo_from_tensor\u001b[0;34m(in_tensor, target)\u001b[0m\n\u001b[1;32m     41\u001b[0m     \u001b[0minstance\u001b[0m \u001b[0;34m=\u001b[0m \u001b[0mseqs_from_tensor\u001b[0m\u001b[0;34m(\u001b[0m\u001b[0min_tensor\u001b[0m\u001b[0;34m)\u001b[0m\u001b[0;34m\u001b[0m\u001b[0;34m\u001b[0m\u001b[0m\n\u001b[1;32m     42\u001b[0m     \u001b[0mm\u001b[0m        \u001b[0;34m=\u001b[0m \u001b[0mmotifs\u001b[0m\u001b[0;34m.\u001b[0m\u001b[0mcreate\u001b[0m\u001b[0;34m(\u001b[0m\u001b[0minstance\u001b[0m\u001b[0;34m)\u001b[0m\u001b[0;34m\u001b[0m\u001b[0;34m\u001b[0m\u001b[0m\n\u001b[0;32m---> 43\u001b[0;31m     \u001b[0mm\u001b[0m\u001b[0;34m.\u001b[0m\u001b[0mweblogo\u001b[0m\u001b[0;34m(\u001b[0m\u001b[0mtarget\u001b[0m\u001b[0;34m,\u001b[0m \u001b[0;34m**\u001b[0m\u001b[0;34m{\u001b[0m\u001b[0;34m'color_scheme'\u001b[0m\u001b[0;34m:\u001b[0m \u001b[0;34m'color_classic'\u001b[0m\u001b[0;34m}\u001b[0m\u001b[0;34m)\u001b[0m\u001b[0;34m\u001b[0m\u001b[0;34m\u001b[0m\u001b[0m\n\u001b[0m\u001b[1;32m     44\u001b[0m     \u001b[0;32mreturn\u001b[0m \u001b[0mm\u001b[0m\u001b[0;34m\u001b[0m\u001b[0;34m\u001b[0m\u001b[0m\n\u001b[1;32m     45\u001b[0m \u001b[0;34m\u001b[0m\u001b[0m\n",
      "\u001b[0;32m/opt/conda/lib/python3.7/site-packages/Bio/motifs/__init__.py\u001b[0m in \u001b[0;36mweblogo\u001b[0;34m(self, fname, fmt, version, **kwds)\u001b[0m\n\u001b[1;32m    533\u001b[0m         \u001b[0mdata\u001b[0m \u001b[0;34m=\u001b[0m \u001b[0murlencode\u001b[0m\u001b[0;34m(\u001b[0m\u001b[0mvalues\u001b[0m\u001b[0;34m)\u001b[0m\u001b[0;34m.\u001b[0m\u001b[0mencode\u001b[0m\u001b[0;34m(\u001b[0m\u001b[0;34m\"utf-8\"\u001b[0m\u001b[0;34m)\u001b[0m\u001b[0;34m\u001b[0m\u001b[0;34m\u001b[0m\u001b[0m\n\u001b[1;32m    534\u001b[0m         \u001b[0mreq\u001b[0m \u001b[0;34m=\u001b[0m \u001b[0mRequest\u001b[0m\u001b[0;34m(\u001b[0m\u001b[0murl\u001b[0m\u001b[0;34m,\u001b[0m \u001b[0mdata\u001b[0m\u001b[0;34m)\u001b[0m\u001b[0;34m\u001b[0m\u001b[0;34m\u001b[0m\u001b[0m\n\u001b[0;32m--> 535\u001b[0;31m         \u001b[0mresponse\u001b[0m \u001b[0;34m=\u001b[0m \u001b[0murlopen\u001b[0m\u001b[0;34m(\u001b[0m\u001b[0mreq\u001b[0m\u001b[0;34m)\u001b[0m\u001b[0;34m\u001b[0m\u001b[0;34m\u001b[0m\u001b[0m\n\u001b[0m\u001b[1;32m    536\u001b[0m         \u001b[0;32mwith\u001b[0m \u001b[0mopen\u001b[0m\u001b[0;34m(\u001b[0m\u001b[0mfname\u001b[0m\u001b[0;34m,\u001b[0m \u001b[0;34m\"wb\"\u001b[0m\u001b[0;34m)\u001b[0m \u001b[0;32mas\u001b[0m \u001b[0mf\u001b[0m\u001b[0;34m:\u001b[0m\u001b[0;34m\u001b[0m\u001b[0;34m\u001b[0m\u001b[0m\n\u001b[1;32m    537\u001b[0m             \u001b[0mim\u001b[0m \u001b[0;34m=\u001b[0m \u001b[0mresponse\u001b[0m\u001b[0;34m.\u001b[0m\u001b[0mread\u001b[0m\u001b[0;34m(\u001b[0m\u001b[0;34m)\u001b[0m\u001b[0;34m\u001b[0m\u001b[0;34m\u001b[0m\u001b[0m\n",
      "\u001b[0;32m/opt/conda/lib/python3.7/urllib/request.py\u001b[0m in \u001b[0;36murlopen\u001b[0;34m(url, data, timeout, cafile, capath, cadefault, context)\u001b[0m\n\u001b[1;32m    220\u001b[0m     \u001b[0;32melse\u001b[0m\u001b[0;34m:\u001b[0m\u001b[0;34m\u001b[0m\u001b[0;34m\u001b[0m\u001b[0m\n\u001b[1;32m    221\u001b[0m         \u001b[0mopener\u001b[0m \u001b[0;34m=\u001b[0m \u001b[0m_opener\u001b[0m\u001b[0;34m\u001b[0m\u001b[0;34m\u001b[0m\u001b[0m\n\u001b[0;32m--> 222\u001b[0;31m     \u001b[0;32mreturn\u001b[0m \u001b[0mopener\u001b[0m\u001b[0;34m.\u001b[0m\u001b[0mopen\u001b[0m\u001b[0;34m(\u001b[0m\u001b[0murl\u001b[0m\u001b[0;34m,\u001b[0m \u001b[0mdata\u001b[0m\u001b[0;34m,\u001b[0m \u001b[0mtimeout\u001b[0m\u001b[0;34m)\u001b[0m\u001b[0;34m\u001b[0m\u001b[0;34m\u001b[0m\u001b[0m\n\u001b[0m\u001b[1;32m    223\u001b[0m \u001b[0;34m\u001b[0m\u001b[0m\n\u001b[1;32m    224\u001b[0m \u001b[0;32mdef\u001b[0m \u001b[0minstall_opener\u001b[0m\u001b[0;34m(\u001b[0m\u001b[0mopener\u001b[0m\u001b[0;34m)\u001b[0m\u001b[0;34m:\u001b[0m\u001b[0;34m\u001b[0m\u001b[0;34m\u001b[0m\u001b[0m\n",
      "\u001b[0;32m/opt/conda/lib/python3.7/urllib/request.py\u001b[0m in \u001b[0;36mopen\u001b[0;34m(self, fullurl, data, timeout)\u001b[0m\n\u001b[1;32m    523\u001b[0m             \u001b[0mreq\u001b[0m \u001b[0;34m=\u001b[0m \u001b[0mmeth\u001b[0m\u001b[0;34m(\u001b[0m\u001b[0mreq\u001b[0m\u001b[0;34m)\u001b[0m\u001b[0;34m\u001b[0m\u001b[0;34m\u001b[0m\u001b[0m\n\u001b[1;32m    524\u001b[0m \u001b[0;34m\u001b[0m\u001b[0m\n\u001b[0;32m--> 525\u001b[0;31m         \u001b[0mresponse\u001b[0m \u001b[0;34m=\u001b[0m \u001b[0mself\u001b[0m\u001b[0;34m.\u001b[0m\u001b[0m_open\u001b[0m\u001b[0;34m(\u001b[0m\u001b[0mreq\u001b[0m\u001b[0;34m,\u001b[0m \u001b[0mdata\u001b[0m\u001b[0;34m)\u001b[0m\u001b[0;34m\u001b[0m\u001b[0;34m\u001b[0m\u001b[0m\n\u001b[0m\u001b[1;32m    526\u001b[0m \u001b[0;34m\u001b[0m\u001b[0m\n\u001b[1;32m    527\u001b[0m         \u001b[0;31m# post-process response\u001b[0m\u001b[0;34m\u001b[0m\u001b[0;34m\u001b[0m\u001b[0;34m\u001b[0m\u001b[0m\n",
      "\u001b[0;32m/opt/conda/lib/python3.7/urllib/request.py\u001b[0m in \u001b[0;36m_open\u001b[0;34m(self, req, data)\u001b[0m\n\u001b[1;32m    541\u001b[0m         \u001b[0mprotocol\u001b[0m \u001b[0;34m=\u001b[0m \u001b[0mreq\u001b[0m\u001b[0;34m.\u001b[0m\u001b[0mtype\u001b[0m\u001b[0;34m\u001b[0m\u001b[0;34m\u001b[0m\u001b[0m\n\u001b[1;32m    542\u001b[0m         result = self._call_chain(self.handle_open, protocol, protocol +\n\u001b[0;32m--> 543\u001b[0;31m                                   '_open', req)\n\u001b[0m\u001b[1;32m    544\u001b[0m         \u001b[0;32mif\u001b[0m \u001b[0mresult\u001b[0m\u001b[0;34m:\u001b[0m\u001b[0;34m\u001b[0m\u001b[0;34m\u001b[0m\u001b[0m\n\u001b[1;32m    545\u001b[0m             \u001b[0;32mreturn\u001b[0m \u001b[0mresult\u001b[0m\u001b[0;34m\u001b[0m\u001b[0;34m\u001b[0m\u001b[0m\n",
      "\u001b[0;32m/opt/conda/lib/python3.7/urllib/request.py\u001b[0m in \u001b[0;36m_call_chain\u001b[0;34m(self, chain, kind, meth_name, *args)\u001b[0m\n\u001b[1;32m    501\u001b[0m         \u001b[0;32mfor\u001b[0m \u001b[0mhandler\u001b[0m \u001b[0;32min\u001b[0m \u001b[0mhandlers\u001b[0m\u001b[0;34m:\u001b[0m\u001b[0;34m\u001b[0m\u001b[0;34m\u001b[0m\u001b[0m\n\u001b[1;32m    502\u001b[0m             \u001b[0mfunc\u001b[0m \u001b[0;34m=\u001b[0m \u001b[0mgetattr\u001b[0m\u001b[0;34m(\u001b[0m\u001b[0mhandler\u001b[0m\u001b[0;34m,\u001b[0m \u001b[0mmeth_name\u001b[0m\u001b[0;34m)\u001b[0m\u001b[0;34m\u001b[0m\u001b[0;34m\u001b[0m\u001b[0m\n\u001b[0;32m--> 503\u001b[0;31m             \u001b[0mresult\u001b[0m \u001b[0;34m=\u001b[0m \u001b[0mfunc\u001b[0m\u001b[0;34m(\u001b[0m\u001b[0;34m*\u001b[0m\u001b[0margs\u001b[0m\u001b[0;34m)\u001b[0m\u001b[0;34m\u001b[0m\u001b[0;34m\u001b[0m\u001b[0m\n\u001b[0m\u001b[1;32m    504\u001b[0m             \u001b[0;32mif\u001b[0m \u001b[0mresult\u001b[0m \u001b[0;32mis\u001b[0m \u001b[0;32mnot\u001b[0m \u001b[0;32mNone\u001b[0m\u001b[0;34m:\u001b[0m\u001b[0;34m\u001b[0m\u001b[0;34m\u001b[0m\u001b[0m\n\u001b[1;32m    505\u001b[0m                 \u001b[0;32mreturn\u001b[0m \u001b[0mresult\u001b[0m\u001b[0;34m\u001b[0m\u001b[0;34m\u001b[0m\u001b[0m\n",
      "\u001b[0;32m/opt/conda/lib/python3.7/urllib/request.py\u001b[0m in \u001b[0;36mhttp_open\u001b[0;34m(self, req)\u001b[0m\n\u001b[1;32m   1376\u001b[0m \u001b[0;34m\u001b[0m\u001b[0m\n\u001b[1;32m   1377\u001b[0m     \u001b[0;32mdef\u001b[0m \u001b[0mhttp_open\u001b[0m\u001b[0;34m(\u001b[0m\u001b[0mself\u001b[0m\u001b[0;34m,\u001b[0m \u001b[0mreq\u001b[0m\u001b[0;34m)\u001b[0m\u001b[0;34m:\u001b[0m\u001b[0;34m\u001b[0m\u001b[0;34m\u001b[0m\u001b[0m\n\u001b[0;32m-> 1378\u001b[0;31m         \u001b[0;32mreturn\u001b[0m \u001b[0mself\u001b[0m\u001b[0;34m.\u001b[0m\u001b[0mdo_open\u001b[0m\u001b[0;34m(\u001b[0m\u001b[0mhttp\u001b[0m\u001b[0;34m.\u001b[0m\u001b[0mclient\u001b[0m\u001b[0;34m.\u001b[0m\u001b[0mHTTPConnection\u001b[0m\u001b[0;34m,\u001b[0m \u001b[0mreq\u001b[0m\u001b[0;34m)\u001b[0m\u001b[0;34m\u001b[0m\u001b[0;34m\u001b[0m\u001b[0m\n\u001b[0m\u001b[1;32m   1379\u001b[0m \u001b[0;34m\u001b[0m\u001b[0m\n\u001b[1;32m   1380\u001b[0m     \u001b[0mhttp_request\u001b[0m \u001b[0;34m=\u001b[0m \u001b[0mAbstractHTTPHandler\u001b[0m\u001b[0;34m.\u001b[0m\u001b[0mdo_request_\u001b[0m\u001b[0;34m\u001b[0m\u001b[0;34m\u001b[0m\u001b[0m\n",
      "\u001b[0;32m/opt/conda/lib/python3.7/urllib/request.py\u001b[0m in \u001b[0;36mdo_open\u001b[0;34m(self, http_class, req, **http_conn_args)\u001b[0m\n\u001b[1;32m   1351\u001b[0m             \u001b[0;32mexcept\u001b[0m \u001b[0mOSError\u001b[0m \u001b[0;32mas\u001b[0m \u001b[0merr\u001b[0m\u001b[0;34m:\u001b[0m \u001b[0;31m# timeout error\u001b[0m\u001b[0;34m\u001b[0m\u001b[0;34m\u001b[0m\u001b[0m\n\u001b[1;32m   1352\u001b[0m                 \u001b[0;32mraise\u001b[0m \u001b[0mURLError\u001b[0m\u001b[0;34m(\u001b[0m\u001b[0merr\u001b[0m\u001b[0;34m)\u001b[0m\u001b[0;34m\u001b[0m\u001b[0;34m\u001b[0m\u001b[0m\n\u001b[0;32m-> 1353\u001b[0;31m             \u001b[0mr\u001b[0m \u001b[0;34m=\u001b[0m \u001b[0mh\u001b[0m\u001b[0;34m.\u001b[0m\u001b[0mgetresponse\u001b[0m\u001b[0;34m(\u001b[0m\u001b[0;34m)\u001b[0m\u001b[0;34m\u001b[0m\u001b[0;34m\u001b[0m\u001b[0m\n\u001b[0m\u001b[1;32m   1354\u001b[0m         \u001b[0;32mexcept\u001b[0m\u001b[0;34m:\u001b[0m\u001b[0;34m\u001b[0m\u001b[0;34m\u001b[0m\u001b[0m\n\u001b[1;32m   1355\u001b[0m             \u001b[0mh\u001b[0m\u001b[0;34m.\u001b[0m\u001b[0mclose\u001b[0m\u001b[0;34m(\u001b[0m\u001b[0;34m)\u001b[0m\u001b[0;34m\u001b[0m\u001b[0;34m\u001b[0m\u001b[0m\n",
      "\u001b[0;32m/opt/conda/lib/python3.7/http/client.py\u001b[0m in \u001b[0;36mgetresponse\u001b[0;34m(self)\u001b[0m\n\u001b[1;32m   1352\u001b[0m         \u001b[0;32mtry\u001b[0m\u001b[0;34m:\u001b[0m\u001b[0;34m\u001b[0m\u001b[0;34m\u001b[0m\u001b[0m\n\u001b[1;32m   1353\u001b[0m             \u001b[0;32mtry\u001b[0m\u001b[0;34m:\u001b[0m\u001b[0;34m\u001b[0m\u001b[0;34m\u001b[0m\u001b[0m\n\u001b[0;32m-> 1354\u001b[0;31m                 \u001b[0mresponse\u001b[0m\u001b[0;34m.\u001b[0m\u001b[0mbegin\u001b[0m\u001b[0;34m(\u001b[0m\u001b[0;34m)\u001b[0m\u001b[0;34m\u001b[0m\u001b[0;34m\u001b[0m\u001b[0m\n\u001b[0m\u001b[1;32m   1355\u001b[0m             \u001b[0;32mexcept\u001b[0m \u001b[0mConnectionError\u001b[0m\u001b[0;34m:\u001b[0m\u001b[0;34m\u001b[0m\u001b[0;34m\u001b[0m\u001b[0m\n\u001b[1;32m   1356\u001b[0m                 \u001b[0mself\u001b[0m\u001b[0;34m.\u001b[0m\u001b[0mclose\u001b[0m\u001b[0;34m(\u001b[0m\u001b[0;34m)\u001b[0m\u001b[0;34m\u001b[0m\u001b[0;34m\u001b[0m\u001b[0m\n",
      "\u001b[0;32m/opt/conda/lib/python3.7/http/client.py\u001b[0m in \u001b[0;36mbegin\u001b[0;34m(self)\u001b[0m\n\u001b[1;32m    304\u001b[0m         \u001b[0;31m# read until we get a non-100 response\u001b[0m\u001b[0;34m\u001b[0m\u001b[0;34m\u001b[0m\u001b[0;34m\u001b[0m\u001b[0m\n\u001b[1;32m    305\u001b[0m         \u001b[0;32mwhile\u001b[0m \u001b[0;32mTrue\u001b[0m\u001b[0;34m:\u001b[0m\u001b[0;34m\u001b[0m\u001b[0;34m\u001b[0m\u001b[0m\n\u001b[0;32m--> 306\u001b[0;31m             \u001b[0mversion\u001b[0m\u001b[0;34m,\u001b[0m \u001b[0mstatus\u001b[0m\u001b[0;34m,\u001b[0m \u001b[0mreason\u001b[0m \u001b[0;34m=\u001b[0m \u001b[0mself\u001b[0m\u001b[0;34m.\u001b[0m\u001b[0m_read_status\u001b[0m\u001b[0;34m(\u001b[0m\u001b[0;34m)\u001b[0m\u001b[0;34m\u001b[0m\u001b[0;34m\u001b[0m\u001b[0m\n\u001b[0m\u001b[1;32m    307\u001b[0m             \u001b[0;32mif\u001b[0m \u001b[0mstatus\u001b[0m \u001b[0;34m!=\u001b[0m \u001b[0mCONTINUE\u001b[0m\u001b[0;34m:\u001b[0m\u001b[0;34m\u001b[0m\u001b[0;34m\u001b[0m\u001b[0m\n\u001b[1;32m    308\u001b[0m                 \u001b[0;32mbreak\u001b[0m\u001b[0;34m\u001b[0m\u001b[0;34m\u001b[0m\u001b[0m\n",
      "\u001b[0;32m/opt/conda/lib/python3.7/http/client.py\u001b[0m in \u001b[0;36m_read_status\u001b[0;34m(self)\u001b[0m\n\u001b[1;32m    265\u001b[0m \u001b[0;34m\u001b[0m\u001b[0m\n\u001b[1;32m    266\u001b[0m     \u001b[0;32mdef\u001b[0m \u001b[0m_read_status\u001b[0m\u001b[0;34m(\u001b[0m\u001b[0mself\u001b[0m\u001b[0;34m)\u001b[0m\u001b[0;34m:\u001b[0m\u001b[0;34m\u001b[0m\u001b[0;34m\u001b[0m\u001b[0m\n\u001b[0;32m--> 267\u001b[0;31m         \u001b[0mline\u001b[0m \u001b[0;34m=\u001b[0m \u001b[0mstr\u001b[0m\u001b[0;34m(\u001b[0m\u001b[0mself\u001b[0m\u001b[0;34m.\u001b[0m\u001b[0mfp\u001b[0m\u001b[0;34m.\u001b[0m\u001b[0mreadline\u001b[0m\u001b[0;34m(\u001b[0m\u001b[0m_MAXLINE\u001b[0m \u001b[0;34m+\u001b[0m \u001b[0;36m1\u001b[0m\u001b[0;34m)\u001b[0m\u001b[0;34m,\u001b[0m \u001b[0;34m\"iso-8859-1\"\u001b[0m\u001b[0;34m)\u001b[0m\u001b[0;34m\u001b[0m\u001b[0;34m\u001b[0m\u001b[0m\n\u001b[0m\u001b[1;32m    268\u001b[0m         \u001b[0;32mif\u001b[0m \u001b[0mlen\u001b[0m\u001b[0;34m(\u001b[0m\u001b[0mline\u001b[0m\u001b[0;34m)\u001b[0m \u001b[0;34m>\u001b[0m \u001b[0m_MAXLINE\u001b[0m\u001b[0;34m:\u001b[0m\u001b[0;34m\u001b[0m\u001b[0;34m\u001b[0m\u001b[0m\n\u001b[1;32m    269\u001b[0m             \u001b[0;32mraise\u001b[0m \u001b[0mLineTooLong\u001b[0m\u001b[0;34m(\u001b[0m\u001b[0;34m\"status line\"\u001b[0m\u001b[0;34m)\u001b[0m\u001b[0;34m\u001b[0m\u001b[0;34m\u001b[0m\u001b[0m\n",
      "\u001b[0;32m/opt/conda/lib/python3.7/socket.py\u001b[0m in \u001b[0;36mreadinto\u001b[0;34m(self, b)\u001b[0m\n\u001b[1;32m    587\u001b[0m         \u001b[0;32mwhile\u001b[0m \u001b[0;32mTrue\u001b[0m\u001b[0;34m:\u001b[0m\u001b[0;34m\u001b[0m\u001b[0;34m\u001b[0m\u001b[0m\n\u001b[1;32m    588\u001b[0m             \u001b[0;32mtry\u001b[0m\u001b[0;34m:\u001b[0m\u001b[0;34m\u001b[0m\u001b[0;34m\u001b[0m\u001b[0m\n\u001b[0;32m--> 589\u001b[0;31m                 \u001b[0;32mreturn\u001b[0m \u001b[0mself\u001b[0m\u001b[0;34m.\u001b[0m\u001b[0m_sock\u001b[0m\u001b[0;34m.\u001b[0m\u001b[0mrecv_into\u001b[0m\u001b[0;34m(\u001b[0m\u001b[0mb\u001b[0m\u001b[0;34m)\u001b[0m\u001b[0;34m\u001b[0m\u001b[0;34m\u001b[0m\u001b[0m\n\u001b[0m\u001b[1;32m    590\u001b[0m             \u001b[0;32mexcept\u001b[0m \u001b[0mtimeout\u001b[0m\u001b[0;34m:\u001b[0m\u001b[0;34m\u001b[0m\u001b[0;34m\u001b[0m\u001b[0m\n\u001b[1;32m    591\u001b[0m                 \u001b[0mself\u001b[0m\u001b[0;34m.\u001b[0m\u001b[0m_timeout_occurred\u001b[0m \u001b[0;34m=\u001b[0m \u001b[0;32mTrue\u001b[0m\u001b[0;34m\u001b[0m\u001b[0;34m\u001b[0m\u001b[0m\n",
      "\u001b[0;31mKeyboardInterrupt\u001b[0m: "
     ]
    }
   ],
   "source": [
    "hold1 = logo_video(sampled_theta[:,0],'traj_1b.mp4')\n",
    "hold2 = logo_video(sampled_theta[:,1],'traj_2b.mp4')\n",
    "hold3 = logo_video(sampled_theta[:,2],'traj_3b.mp4')"
   ]
  },
  {
   "cell_type": "code",
   "execution_count": 206,
   "metadata": {},
   "outputs": [],
   "source": [
    "hold1 = dms_video(sampled_theta[:,0], sampled_energy[:,0])"
   ]
  },
  {
   "cell_type": "markdown",
   "metadata": {},
   "source": [
    "# Scan for motif"
   ]
  },
  {
   "cell_type": "code",
   "execution_count": 17,
   "metadata": {},
   "outputs": [],
   "source": [
    "motif_filter = counts_to_filter( motif_str_to_counts(motif) )"
   ]
  },
  {
   "cell_type": "code",
   "execution_count": 18,
   "metadata": {},
   "outputs": [
    {
     "data": {
      "text/plain": [
       "torch.Size([1, 4, 18])"
      ]
     },
     "execution_count": 18,
     "metadata": {},
     "output_type": "execute_result"
    }
   ],
   "source": [
    "motif_filter.shape\n"
   ]
  },
  {
   "cell_type": "code",
   "execution_count": 19,
   "metadata": {},
   "outputs": [
    {
     "data": {
      "text/plain": [
       "tensor([[-1.5301e-01,  7.1781e-01, -3.5697e-01, -5.6675e-01],\n",
       "        [-2.5823e+00, -6.1762e-01, -2.9539e+00,  1.6099e+00],\n",
       "        [-1.9584e+00, -1.0276e+01, -1.0276e+01,  1.9035e+00],\n",
       "        [ 1.9991e+00, -1.0276e+01, -1.0276e+01, -1.0276e+01],\n",
       "        [-1.0276e+01, -1.0276e+01, -1.0276e+01,  1.9991e+00],\n",
       "        [-1.0276e+01,  1.9991e+00, -1.0276e+01, -1.0276e+01],\n",
       "        [ 7.2557e-01, -4.2758e+00, -4.4685e+00,  1.1697e+00],\n",
       "        [-9.1170e-01,  1.0354e-01,  8.3726e-01, -7.1933e-01],\n",
       "        [-3.6294e-01, -2.9093e-02,  6.0964e-03,  3.0819e-01],\n",
       "        [-5.6665e-02, -1.3628e-01,  2.9497e-01, -1.4913e-01],\n",
       "        [ 5.2102e-01, -1.3245e-01, -3.2309e-01, -2.2871e-01],\n",
       "        [-2.5485e-01, -2.0379e-03,  4.6648e-01, -3.5548e-01],\n",
       "        [ 1.2611e-01, -1.1722e-01,  2.4282e-01, -3.1583e-01],\n",
       "        [ 6.0528e-01, -2.6181e-01, -5.9460e-01, -2.5535e-02],\n",
       "        [ 1.5671e-01, -2.0379e-03,  6.0452e-01, -1.4493e+00],\n",
       "        [-3.4814e+00,  1.9599e+00, -5.6909e+00, -1.0276e+01],\n",
       "        [ 1.9103e+00, -1.0276e+01, -1.0276e+01, -2.0615e+00],\n",
       "        [-2.9449e+00, -4.7655e-01,  1.5157e+00, -1.7760e+00]])"
      ]
     },
     "execution_count": 19,
     "metadata": {},
     "output_type": "execute_result"
    }
   ],
   "source": [
    "motif_filter.squeeze().t()"
   ]
  },
  {
   "cell_type": "code",
   "execution_count": 166,
   "metadata": {},
   "outputs": [],
   "source": [
    "my_params = GumbelSoftmaxParameters(\n",
    "    nn.Parameter(torch.randn([4,4,64])), \n",
    "    left_flank=None, \n",
    "    right_flank=None,\n",
    "    n_samples=1,\n",
    "    prior_var=1.\n",
    ")\n",
    "\n",
    "my_energy = scan_motif(motif_filter)"
   ]
  },
  {
   "cell_type": "code",
   "execution_count": 167,
   "metadata": {},
   "outputs": [
    {
     "data": {
      "text/plain": [
       "tensor([12.0811, 15.1788,  3.5198,  9.8733], grad_fn=<SumBackward1>)"
      ]
     },
     "execution_count": 167,
     "metadata": {},
     "output_type": "execute_result"
    }
   ],
   "source": [
    "my_energy( my_params() )"
   ]
  },
  {
   "cell_type": "code",
   "execution_count": 168,
   "metadata": {
    "scrolled": true
   },
   "outputs": [
    {
     "data": {
      "text/plain": [
       "tensor([[[0., 1., 0.,  ..., 0., 0., 0.],\n",
       "         [0., 0., 1.,  ..., 1., 0., 0.],\n",
       "         [1., 0., 0.,  ..., 0., 1., 1.],\n",
       "         [0., 0., 0.,  ..., 0., 0., 0.]],\n",
       "\n",
       "        [[0., 0., 0.,  ..., 0., 1., 1.],\n",
       "         [0., 1., 0.,  ..., 0., 0., 0.],\n",
       "         [0., 0., 1.,  ..., 0., 0., 0.],\n",
       "         [1., 0., 0.,  ..., 1., 0., 0.]],\n",
       "\n",
       "        [[1., 1., 0.,  ..., 0., 1., 1.],\n",
       "         [0., 0., 0.,  ..., 0., 0., 0.],\n",
       "         [0., 0., 0.,  ..., 0., 0., 0.],\n",
       "         [0., 0., 1.,  ..., 1., 0., 0.]],\n",
       "\n",
       "        [[0., 0., 1.,  ..., 0., 0., 1.],\n",
       "         [1., 1., 0.,  ..., 1., 0., 0.],\n",
       "         [0., 0., 0.,  ..., 0., 0., 0.],\n",
       "         [0., 0., 0.,  ..., 0., 1., 0.]]], grad_fn=<ViewBackward>)"
      ]
     },
     "execution_count": 168,
     "metadata": {},
     "output_type": "execute_result"
    }
   ],
   "source": [
    "my_params()"
   ]
  },
  {
   "cell_type": "code",
   "execution_count": 169,
   "metadata": {},
   "outputs": [],
   "source": [
    "my_sampler = NUTS3( my_params, my_energy, max_tree_depth=6 )"
   ]
  },
  {
   "cell_type": "code",
   "execution_count": 170,
   "metadata": {},
   "outputs": [
    {
     "data": {
      "text/plain": [
       "tensor([ 3.3071,  2.9615, 10.6279,  2.7180], grad_fn=<AddBackward0>)"
      ]
     },
     "execution_count": 170,
     "metadata": {},
     "output_type": "execute_result"
    }
   ],
   "source": [
    "my_sampler.calc_energy()"
   ]
  },
  {
   "cell_type": "code",
   "execution_count": 171,
   "metadata": {},
   "outputs": [
    {
     "data": {
      "text/plain": [
       "Parameter containing:\n",
       "tensor([[[ 2.2816e+00,  8.4139e-01, -7.1625e-01,  ..., -2.9962e-01,\n",
       "          -2.8876e-01, -1.4201e+00],\n",
       "         [ 3.5305e-01,  2.3895e-03,  2.1923e+00,  ..., -1.5723e+00,\n",
       "           6.7207e-01, -4.2886e-01],\n",
       "         [ 9.9655e-01,  1.4501e+00,  3.7687e-01,  ...,  1.0208e-01,\n",
       "           8.7017e-01, -5.8295e-01],\n",
       "         [ 8.1939e-02, -5.0062e-01, -2.3940e+00,  ..., -1.0890e+00,\n",
       "           8.5724e-01, -8.4424e-01]],\n",
       "\n",
       "        [[-1.1404e+00,  8.4586e-01, -6.2984e-01,  ..., -1.9226e-01,\n",
       "           1.2909e+00,  1.1769e+00],\n",
       "         [-8.2393e-01,  5.8254e-02, -3.1235e-01,  ...,  7.5915e-01,\n",
       "          -4.9882e-01, -1.1347e+00],\n",
       "         [ 1.6008e-01,  5.9664e-01,  1.3900e+00,  ..., -1.6575e-01,\n",
       "          -3.7885e-01,  8.5395e-01],\n",
       "         [ 7.6023e-01,  4.3126e-01, -3.4187e-01,  ..., -4.8191e-01,\n",
       "           1.4458e-01, -6.0549e-01]],\n",
       "\n",
       "        [[ 7.2101e-01,  4.3527e-01, -1.6421e-01,  ..., -1.8536e+00,\n",
       "           8.9701e-01, -9.2736e-01],\n",
       "         [ 1.6045e-01,  1.4959e+00, -1.0066e+00,  ..., -1.2231e-01,\n",
       "          -1.6023e+00, -1.2300e+00],\n",
       "         [-1.2048e+00,  7.5606e-02, -7.4301e-01,  ..., -9.8686e-01,\n",
       "           6.7604e-01, -3.1043e-02],\n",
       "         [-1.6601e+00,  1.1308e+00,  9.5163e-01,  ...,  1.2870e+00,\n",
       "          -9.3179e-01,  1.5532e-01]],\n",
       "\n",
       "        [[-2.6585e-02,  8.4809e-02,  8.0965e-01,  ..., -6.2958e-02,\n",
       "           1.9114e+00,  2.2232e-01],\n",
       "         [ 7.1616e-01,  6.0720e-01, -4.4473e-01,  ...,  4.9987e-01,\n",
       "          -4.1045e-01, -1.9778e-02],\n",
       "         [-8.3310e-01, -1.2769e+00,  2.6272e+00,  ..., -6.3824e-01,\n",
       "          -2.2372e+00,  4.0712e-01],\n",
       "         [ 4.2017e-01, -7.0337e-01,  7.8351e-01,  ..., -1.1531e+00,\n",
       "           1.1666e+00,  7.0599e-02]]], requires_grad=True)"
      ]
     },
     "execution_count": 171,
     "metadata": {},
     "output_type": "execute_result"
    }
   ],
   "source": [
    "my_sampler.params.theta"
   ]
  },
  {
   "cell_type": "code",
   "execution_count": 172,
   "metadata": {},
   "outputs": [
    {
     "data": {
      "text/plain": [
       "tensor([[0, 2, 1, 1, 0, 0, 1, 2, 1, 0, 2, 2, 0, 3, 1, 3, 1, 0, 0, 2, 2, 3, 1, 3,\n",
       "         0, 0, 1, 0, 0, 2, 1, 1, 3, 0, 3, 3, 0, 2, 2, 3, 2, 0, 1, 2, 0, 3, 1, 0,\n",
       "         1, 2, 0, 0, 3, 3, 3, 3, 0, 1, 3, 2, 3, 2, 2, 1],\n",
       "        [3, 0, 2, 1, 0, 2, 3, 0, 2, 0, 3, 2, 3, 0, 0, 1, 1, 1, 1, 1, 1, 2, 1, 1,\n",
       "         1, 0, 3, 0, 1, 3, 3, 3, 1, 1, 1, 1, 0, 1, 2, 1, 2, 3, 0, 1, 2, 0, 0, 2,\n",
       "         2, 2, 3, 0, 1, 3, 2, 1, 1, 1, 3, 0, 0, 1, 0, 0],\n",
       "        [0, 1, 3, 0, 0, 3, 2, 2, 2, 3, 0, 0, 1, 0, 2, 1, 0, 0, 3, 1, 2, 2, 2, 1,\n",
       "         2, 0, 2, 2, 2, 2, 2, 2, 1, 0, 0, 2, 0, 3, 2, 3, 2, 0, 1, 0, 2, 3, 1, 2,\n",
       "         2, 2, 2, 2, 3, 2, 1, 0, 3, 3, 1, 1, 0, 3, 0, 3],\n",
       "        [1, 1, 2, 2, 0, 0, 1, 2, 1, 0, 1, 0, 0, 2, 2, 0, 0, 3, 1, 0, 0, 2, 0, 0,\n",
       "         2, 3, 2, 0, 0, 3, 2, 1, 0, 3, 2, 3, 2, 0, 2, 0, 3, 2, 3, 1, 2, 1, 1, 2,\n",
       "         2, 1, 3, 2, 1, 2, 2, 2, 3, 0, 2, 3, 2, 1, 0, 2]])"
      ]
     },
     "execution_count": 172,
     "metadata": {},
     "output_type": "execute_result"
    }
   ],
   "source": [
    "my_sampler.params.theta.argmax(1)"
   ]
  },
  {
   "cell_type": "code",
   "execution_count": 173,
   "metadata": {},
   "outputs": [
    {
     "name": "stdout",
     "output_type": "stream",
     "text": [
      "234.52646207809448\n"
     ]
    }
   ],
   "source": [
    "start = time.time()\n",
    "my_samples = my_sampler.collect_samples(1.,1000)\n",
    "print(time.time() - start)"
   ]
  },
  {
   "cell_type": "code",
   "execution_count": 174,
   "metadata": {},
   "outputs": [],
   "source": [
    "sampled_theta, sampled_energy = [ torch.stack(x, dim=0) for x in zip(*my_samples) ]"
   ]
  },
  {
   "cell_type": "code",
   "execution_count": 175,
   "metadata": {},
   "outputs": [
    {
     "name": "stdout",
     "output_type": "stream",
     "text": [
      "torch.Size([1000, 4, 4, 64])\n",
      "torch.Size([1000, 4])\n"
     ]
    }
   ],
   "source": [
    "print(sampled_theta.shape)\n",
    "print(sampled_energy.shape)"
   ]
  },
  {
   "cell_type": "code",
   "execution_count": 30,
   "metadata": {},
   "outputs": [
    {
     "data": {
      "text/plain": [
       "<Bio.motifs.Motif at 0x7f0acde16c50>"
      ]
     },
     "execution_count": 30,
     "metadata": {},
     "output_type": "execute_result"
    }
   ],
   "source": [
    "logo_from_tensor(motif_filter.squeeze(), 'filter_motif.png')\n",
    "logo_from_batch(sampled_theta[:,0], 'sampled_motif.png')"
   ]
  },
  {
   "cell_type": "code",
   "execution_count": 31,
   "metadata": {},
   "outputs": [
    {
     "data": {
      "text/plain": [
       "tensor([[[4.5425e-04, 2.3058e-02, 9.5408e-01, 2.2404e-02],\n",
       "         [1.1708e-08, 1.0000e+00, 1.1984e-10, 8.1960e-14]],\n",
       "\n",
       "        [[3.0449e-16, 1.0000e+00, 1.4940e-18, 5.1500e-19],\n",
       "         [3.5367e-11, 1.0000e+00, 1.4782e-06, 2.4617e-09]],\n",
       "\n",
       "        [[2.4324e-08, 1.0000e+00, 4.1084e-08, 2.2348e-12],\n",
       "         [5.6381e-21, 1.0000e+00, 4.7708e-16, 1.7942e-11]],\n",
       "\n",
       "        ...,\n",
       "\n",
       "        [[9.9997e-01, 2.6086e-05, 8.7557e-21, 2.4433e-23],\n",
       "         [2.6958e-01, 5.4155e-01, 3.9425e-02, 1.4945e-01]],\n",
       "\n",
       "        [[9.7161e-01, 2.8388e-02, 2.5353e-12, 6.6854e-08],\n",
       "         [1.3767e-01, 6.0684e-01, 2.5469e-03, 2.5294e-01]],\n",
       "\n",
       "        [[9.7161e-01, 2.8388e-02, 2.5353e-12, 6.6854e-08],\n",
       "         [1.3767e-01, 6.0684e-01, 2.5469e-03, 2.5294e-01]]])"
      ]
     },
     "execution_count": 31,
     "metadata": {},
     "output_type": "execute_result"
    }
   ],
   "source": [
    "sampled_theta[:,:,:,6].softmax(-1)"
   ]
  },
  {
   "cell_type": "code",
   "execution_count": 91,
   "metadata": {
    "scrolled": true
   },
   "outputs": [
    {
     "name": "stderr",
     "output_type": "stream",
     "text": [
      "IMAGEIO FFMPEG_WRITER WARNING: input image is not divisible by macro_block_size=16, resizing from (324, 107) to (336, 112) to ensure video compatibility with most codecs and players. To prevent resizing, make your input image divisible by the macro_block_size or set the macro_block_size to 1 (risking incompatibility).\n"
     ]
    }
   ],
   "source": [
    "hold_s_1 = logo_video(sampled_theta[:,0],'traj_1d.mp4')\n",
    "#hold2 = logo_video(sampled_theta[:,1],'traj_2b.mp4')\n",
    "#hold3 = logo_video(sampled_theta[:,2],'traj_3b.mp4')"
   ]
  },
  {
   "cell_type": "code",
   "execution_count": 55,
   "metadata": {
    "scrolled": true
   },
   "outputs": [],
   "source": [
    "hold_e = combo_video(sampled_theta[:20,0], sampled_energy[:20,0])"
   ]
  },
  {
   "cell_type": "code",
   "execution_count": 178,
   "metadata": {},
   "outputs": [
    {
     "ename": "KeyboardInterrupt",
     "evalue": "",
     "output_type": "error",
     "traceback": [
      "\u001b[0;31m---------------------------------------------------------------------------\u001b[0m",
      "\u001b[0;31mKeyboardInterrupt\u001b[0m                         Traceback (most recent call last)",
      "\u001b[0;32m<ipython-input-178-4e42d8f9c248>\u001b[0m in \u001b[0;36m<module>\u001b[0;34m\u001b[0m\n\u001b[0;32m----> 1\u001b[0;31m \u001b[0mhold_d\u001b[0m \u001b[0;34m=\u001b[0m \u001b[0mdms_video\u001b[0m\u001b[0;34m(\u001b[0m\u001b[0msampled_theta\u001b[0m\u001b[0;34m[\u001b[0m\u001b[0;34m:\u001b[0m\u001b[0;34m,\u001b[0m\u001b[0;36m0\u001b[0m\u001b[0;34m]\u001b[0m\u001b[0;34m,\u001b[0m \u001b[0msampled_energy\u001b[0m\u001b[0;34m[\u001b[0m\u001b[0;34m:\u001b[0m\u001b[0;34m,\u001b[0m\u001b[0;36m0\u001b[0m\u001b[0;34m]\u001b[0m\u001b[0;34m)\u001b[0m\u001b[0;34m\u001b[0m\u001b[0;34m\u001b[0m\u001b[0m\n\u001b[0m",
      "\u001b[0;32m<ipython-input-127-8ada3ee479f6>\u001b[0m in \u001b[0;36mdms_video\u001b[0;34m(theta_tensor, energy_tensor, target)\u001b[0m\n\u001b[1;32m     55\u001b[0m         \u001b[0maxes\u001b[0m\u001b[0;34m[\u001b[0m\u001b[0;36m1\u001b[0m\u001b[0;34m]\u001b[0m\u001b[0;34m.\u001b[0m\u001b[0mset_ylabel\u001b[0m\u001b[0;34m(\u001b[0m\u001b[0;34m'Potential Energy'\u001b[0m\u001b[0;34m)\u001b[0m\u001b[0;34m\u001b[0m\u001b[0;34m\u001b[0m\u001b[0m\n\u001b[1;32m     56\u001b[0m         \u001b[0maxes\u001b[0m\u001b[0;34m[\u001b[0m\u001b[0;36m1\u001b[0m\u001b[0;34m]\u001b[0m\u001b[0;34m.\u001b[0m\u001b[0mset_xlabel\u001b[0m\u001b[0;34m(\u001b[0m\u001b[0;34m'Iteration'\u001b[0m\u001b[0;34m)\u001b[0m\u001b[0;34m\u001b[0m\u001b[0;34m\u001b[0m\u001b[0m\n\u001b[0;32m---> 57\u001b[0;31m         \u001b[0m_\u001b[0m \u001b[0;34m=\u001b[0m \u001b[0mtensor_to_dms\u001b[0m\u001b[0;34m(\u001b[0m\u001b[0ma_theta\u001b[0m\u001b[0;34m,\u001b[0m \u001b[0mtarget\u001b[0m\u001b[0;34m=\u001b[0m\u001b[0;32mNone\u001b[0m\u001b[0;34m,\u001b[0m\u001b[0max\u001b[0m\u001b[0;34m=\u001b[0m\u001b[0maxes\u001b[0m\u001b[0;34m[\u001b[0m\u001b[0;36m0\u001b[0m\u001b[0;34m]\u001b[0m\u001b[0;34m)\u001b[0m\u001b[0;34m\u001b[0m\u001b[0;34m\u001b[0m\u001b[0m\n\u001b[0m\u001b[1;32m     58\u001b[0m         \u001b[0mfig\u001b[0m\u001b[0;34m.\u001b[0m\u001b[0msavefig\u001b[0m\u001b[0;34m(\u001b[0m\u001b[0;34m'temp_line.png'\u001b[0m\u001b[0;34m,\u001b[0m\u001b[0mdpi\u001b[0m\u001b[0;34m=\u001b[0m\u001b[0;36m100\u001b[0m\u001b[0;34m)\u001b[0m\u001b[0;34m\u001b[0m\u001b[0;34m\u001b[0m\u001b[0m\n\u001b[1;32m     59\u001b[0m         \u001b[0mplt\u001b[0m\u001b[0;34m.\u001b[0m\u001b[0mclose\u001b[0m\u001b[0;34m(\u001b[0m\u001b[0;34m)\u001b[0m\u001b[0;34m\u001b[0m\u001b[0;34m\u001b[0m\u001b[0m\n",
      "\u001b[0;32m<ipython-input-127-8ada3ee479f6>\u001b[0m in \u001b[0;36mtensor_to_dms\u001b[0;34m(in_tensor, target, ax)\u001b[0m\n\u001b[1;32m     28\u001b[0m                 for i in range(n_samples) ]\n\u001b[1;32m     29\u001b[0m     \u001b[0msamples\u001b[0m \u001b[0;34m=\u001b[0m \u001b[0mtorch\u001b[0m\u001b[0;34m.\u001b[0m\u001b[0mstack\u001b[0m\u001b[0;34m(\u001b[0m\u001b[0msamples\u001b[0m\u001b[0;34m,\u001b[0m \u001b[0mdim\u001b[0m\u001b[0;34m=\u001b[0m\u001b[0;36m0\u001b[0m\u001b[0;34m)\u001b[0m\u001b[0;34m.\u001b[0m\u001b[0msum\u001b[0m\u001b[0;34m(\u001b[0m\u001b[0;36m0\u001b[0m\u001b[0;34m)\u001b[0m\u001b[0;34m.\u001b[0m\u001b[0madd\u001b[0m\u001b[0;34m(\u001b[0m\u001b[0;36m0.1\u001b[0m\u001b[0;34m)\u001b[0m\u001b[0;34m\u001b[0m\u001b[0;34m\u001b[0m\u001b[0m\n\u001b[0;32m---> 30\u001b[0;31m     \u001b[0mfig\u001b[0m\u001b[0;34m,\u001b[0m \u001b[0max\u001b[0m \u001b[0;34m=\u001b[0m \u001b[0mcounts_to_dms\u001b[0m\u001b[0;34m(\u001b[0m\u001b[0msamples\u001b[0m\u001b[0;34m,\u001b[0m \u001b[0max\u001b[0m\u001b[0;34m=\u001b[0m\u001b[0max\u001b[0m\u001b[0;34m)\u001b[0m\u001b[0;34m\u001b[0m\u001b[0;34m\u001b[0m\u001b[0m\n\u001b[0m\u001b[1;32m     31\u001b[0m     \u001b[0;32mif\u001b[0m \u001b[0mtarget\u001b[0m \u001b[0;32mis\u001b[0m \u001b[0;32mnot\u001b[0m \u001b[0;32mNone\u001b[0m\u001b[0;34m:\u001b[0m\u001b[0;34m\u001b[0m\u001b[0;34m\u001b[0m\u001b[0m\n\u001b[1;32m     32\u001b[0m         \u001b[0mfig\u001b[0m\u001b[0;34m.\u001b[0m\u001b[0msavefig\u001b[0m\u001b[0;34m(\u001b[0m\u001b[0mtarget\u001b[0m\u001b[0;34m,\u001b[0m\u001b[0mdpi\u001b[0m\u001b[0;34m=\u001b[0m\u001b[0;36m400\u001b[0m\u001b[0;34m)\u001b[0m\u001b[0;34m\u001b[0m\u001b[0;34m\u001b[0m\u001b[0m\n",
      "\u001b[0;32m<ipython-input-127-8ada3ee479f6>\u001b[0m in \u001b[0;36mcounts_to_dms\u001b[0;34m(in_tensor, ax)\u001b[0m\n\u001b[1;32m     20\u001b[0m                                 \u001b[0mletter_height_col\u001b[0m\u001b[0;34m=\u001b[0m\u001b[0;34m'height'\u001b[0m\u001b[0;34m,\u001b[0m\u001b[0;34m\u001b[0m\u001b[0;34m\u001b[0m\u001b[0m\n\u001b[1;32m     21\u001b[0m                                 \u001b[0mcolor_col\u001b[0m\u001b[0;34m=\u001b[0m\u001b[0;34m'color'\u001b[0m\u001b[0;34m,\u001b[0m\u001b[0;34m\u001b[0m\u001b[0;34m\u001b[0m\u001b[0m\n\u001b[0;32m---> 22\u001b[0;31m                                 ax=ax)\n\u001b[0m\u001b[1;32m     23\u001b[0m     \u001b[0;32mreturn\u001b[0m \u001b[0mfig\u001b[0m\u001b[0;34m,\u001b[0m \u001b[0max\u001b[0m\u001b[0;34m\u001b[0m\u001b[0;34m\u001b[0m\u001b[0m\n\u001b[1;32m     24\u001b[0m \u001b[0;34m\u001b[0m\u001b[0m\n",
      "\u001b[0;32m/opt/conda/lib/python3.7/site-packages/dmslogo/logo.py\u001b[0m in \u001b[0;36mdraw_logo\u001b[0;34m(data, x_col, letter_col, letter_height_col, xtick_col, color_col, shade_color_col, shade_alpha_col, heatmap_overlays, xlabel, ylabel, title, colorscheme, missing_color, addbreaks, widthscale, heightscale, heatmap_overlay_height, axisfontscale, hide_axis, fontfamily, fontaspect, letterpad, letterheightscale, ax, ylim_setter, fixed_ymin, fixed_ymax, clip_negative_heights, drop_na_letter_heights, draw_line_at_zero)\u001b[0m\n\u001b[1;32m    555\u001b[0m \u001b[0;34m\u001b[0m\u001b[0m\n\u001b[1;32m    556\u001b[0m     \u001b[0;32mif\u001b[0m \u001b[0;32mnot\u001b[0m \u001b[0mhide_axis\u001b[0m\u001b[0;34m:\u001b[0m\u001b[0;34m\u001b[0m\u001b[0;34m\u001b[0m\u001b[0m\n\u001b[0;32m--> 557\u001b[0;31m         \u001b[0max\u001b[0m\u001b[0;34m.\u001b[0m\u001b[0mset_xticks\u001b[0m\u001b[0;34m(\u001b[0m\u001b[0mxticks\u001b[0m\u001b[0;34m)\u001b[0m\u001b[0;34m\u001b[0m\u001b[0;34m\u001b[0m\u001b[0m\n\u001b[0m\u001b[1;32m    558\u001b[0m         \u001b[0max\u001b[0m\u001b[0;34m.\u001b[0m\u001b[0mtick_params\u001b[0m\u001b[0;34m(\u001b[0m\u001b[0mlength\u001b[0m\u001b[0;34m=\u001b[0m\u001b[0;36m5\u001b[0m\u001b[0;34m,\u001b[0m \u001b[0mwidth\u001b[0m\u001b[0;34m=\u001b[0m\u001b[0;36m1\u001b[0m\u001b[0;34m)\u001b[0m\u001b[0;34m\u001b[0m\u001b[0;34m\u001b[0m\u001b[0m\n\u001b[1;32m    559\u001b[0m         \u001b[0max\u001b[0m\u001b[0;34m.\u001b[0m\u001b[0mset_xticklabels\u001b[0m\u001b[0;34m(\u001b[0m\u001b[0mxticklabels\u001b[0m\u001b[0;34m,\u001b[0m \u001b[0mrotation\u001b[0m\u001b[0;34m=\u001b[0m\u001b[0;36m90\u001b[0m\u001b[0;34m,\u001b[0m \u001b[0mha\u001b[0m\u001b[0;34m=\u001b[0m\u001b[0;34m'center'\u001b[0m\u001b[0;34m,\u001b[0m \u001b[0mva\u001b[0m\u001b[0;34m=\u001b[0m\u001b[0;34m'top'\u001b[0m\u001b[0;34m)\u001b[0m\u001b[0;34m\u001b[0m\u001b[0;34m\u001b[0m\u001b[0m\n",
      "\u001b[0;32m/opt/conda/lib/python3.7/site-packages/matplotlib/axes/_base.py\u001b[0m in \u001b[0;36mwrapper\u001b[0;34m(self, *args, **kwargs)\u001b[0m\n\u001b[1;32m     61\u001b[0m \u001b[0;34m\u001b[0m\u001b[0m\n\u001b[1;32m     62\u001b[0m         \u001b[0;32mdef\u001b[0m \u001b[0mwrapper\u001b[0m\u001b[0;34m(\u001b[0m\u001b[0mself\u001b[0m\u001b[0;34m,\u001b[0m \u001b[0;34m*\u001b[0m\u001b[0margs\u001b[0m\u001b[0;34m,\u001b[0m \u001b[0;34m**\u001b[0m\u001b[0mkwargs\u001b[0m\u001b[0;34m)\u001b[0m\u001b[0;34m:\u001b[0m\u001b[0;34m\u001b[0m\u001b[0;34m\u001b[0m\u001b[0m\n\u001b[0;32m---> 63\u001b[0;31m             \u001b[0;32mreturn\u001b[0m \u001b[0mget_method\u001b[0m\u001b[0;34m(\u001b[0m\u001b[0mself\u001b[0m\u001b[0;34m)\u001b[0m\u001b[0;34m(\u001b[0m\u001b[0;34m*\u001b[0m\u001b[0margs\u001b[0m\u001b[0;34m,\u001b[0m \u001b[0;34m**\u001b[0m\u001b[0mkwargs\u001b[0m\u001b[0;34m)\u001b[0m\u001b[0;34m\u001b[0m\u001b[0;34m\u001b[0m\u001b[0m\n\u001b[0m\u001b[1;32m     64\u001b[0m \u001b[0;34m\u001b[0m\u001b[0m\n\u001b[1;32m     65\u001b[0m         \u001b[0mwrapper\u001b[0m\u001b[0;34m.\u001b[0m\u001b[0m__module__\u001b[0m \u001b[0;34m=\u001b[0m \u001b[0mowner\u001b[0m\u001b[0;34m.\u001b[0m\u001b[0m__module__\u001b[0m\u001b[0;34m\u001b[0m\u001b[0;34m\u001b[0m\u001b[0m\n",
      "\u001b[0;32m/opt/conda/lib/python3.7/site-packages/matplotlib/cbook/deprecation.py\u001b[0m in \u001b[0;36mwrapper\u001b[0;34m(*args, **kwargs)\u001b[0m\n\u001b[1;32m    449\u001b[0m                 \u001b[0;34m\"parameter will become keyword-only %(removal)s.\"\u001b[0m\u001b[0;34m,\u001b[0m\u001b[0;34m\u001b[0m\u001b[0;34m\u001b[0m\u001b[0m\n\u001b[1;32m    450\u001b[0m                 name=name, obj_type=f\"parameter of {func.__name__}()\")\n\u001b[0;32m--> 451\u001b[0;31m         \u001b[0;32mreturn\u001b[0m \u001b[0mfunc\u001b[0m\u001b[0;34m(\u001b[0m\u001b[0;34m*\u001b[0m\u001b[0margs\u001b[0m\u001b[0;34m,\u001b[0m \u001b[0;34m**\u001b[0m\u001b[0mkwargs\u001b[0m\u001b[0;34m)\u001b[0m\u001b[0;34m\u001b[0m\u001b[0;34m\u001b[0m\u001b[0m\n\u001b[0m\u001b[1;32m    452\u001b[0m \u001b[0;34m\u001b[0m\u001b[0m\n\u001b[1;32m    453\u001b[0m     \u001b[0;32mreturn\u001b[0m \u001b[0mwrapper\u001b[0m\u001b[0;34m\u001b[0m\u001b[0;34m\u001b[0m\u001b[0m\n",
      "\u001b[0;32m/opt/conda/lib/python3.7/site-packages/matplotlib/axis.py\u001b[0m in \u001b[0;36mset_ticks\u001b[0;34m(self, ticks, minor)\u001b[0m\n\u001b[1;32m   1822\u001b[0m         \u001b[0;32melse\u001b[0m\u001b[0;34m:\u001b[0m\u001b[0;34m\u001b[0m\u001b[0;34m\u001b[0m\u001b[0m\n\u001b[1;32m   1823\u001b[0m             \u001b[0mself\u001b[0m\u001b[0;34m.\u001b[0m\u001b[0mset_major_locator\u001b[0m\u001b[0;34m(\u001b[0m\u001b[0mmticker\u001b[0m\u001b[0;34m.\u001b[0m\u001b[0mFixedLocator\u001b[0m\u001b[0;34m(\u001b[0m\u001b[0mticks\u001b[0m\u001b[0;34m)\u001b[0m\u001b[0;34m)\u001b[0m\u001b[0;34m\u001b[0m\u001b[0;34m\u001b[0m\u001b[0m\n\u001b[0;32m-> 1824\u001b[0;31m             \u001b[0;32mreturn\u001b[0m \u001b[0mself\u001b[0m\u001b[0;34m.\u001b[0m\u001b[0mget_major_ticks\u001b[0m\u001b[0;34m(\u001b[0m\u001b[0mlen\u001b[0m\u001b[0;34m(\u001b[0m\u001b[0mticks\u001b[0m\u001b[0;34m)\u001b[0m\u001b[0;34m)\u001b[0m\u001b[0;34m\u001b[0m\u001b[0;34m\u001b[0m\u001b[0m\n\u001b[0m\u001b[1;32m   1825\u001b[0m \u001b[0;34m\u001b[0m\u001b[0m\n\u001b[1;32m   1826\u001b[0m     \u001b[0;32mdef\u001b[0m \u001b[0m_get_tick_boxes_siblings\u001b[0m\u001b[0;34m(\u001b[0m\u001b[0mself\u001b[0m\u001b[0;34m,\u001b[0m \u001b[0mxdir\u001b[0m\u001b[0;34m,\u001b[0m \u001b[0mrenderer\u001b[0m\u001b[0;34m)\u001b[0m\u001b[0;34m:\u001b[0m\u001b[0;34m\u001b[0m\u001b[0;34m\u001b[0m\u001b[0m\n",
      "\u001b[0;32m/opt/conda/lib/python3.7/site-packages/matplotlib/axis.py\u001b[0m in \u001b[0;36mget_major_ticks\u001b[0;34m(self, numticks)\u001b[0m\n\u001b[1;32m   1380\u001b[0m         \u001b[0;32mwhile\u001b[0m \u001b[0mlen\u001b[0m\u001b[0;34m(\u001b[0m\u001b[0mself\u001b[0m\u001b[0;34m.\u001b[0m\u001b[0mmajorTicks\u001b[0m\u001b[0;34m)\u001b[0m \u001b[0;34m<\u001b[0m \u001b[0mnumticks\u001b[0m\u001b[0;34m:\u001b[0m\u001b[0;34m\u001b[0m\u001b[0;34m\u001b[0m\u001b[0m\n\u001b[1;32m   1381\u001b[0m             \u001b[0;31m# Update the new tick label properties from the old.\u001b[0m\u001b[0;34m\u001b[0m\u001b[0;34m\u001b[0m\u001b[0;34m\u001b[0m\u001b[0m\n\u001b[0;32m-> 1382\u001b[0;31m             \u001b[0mtick\u001b[0m \u001b[0;34m=\u001b[0m \u001b[0mself\u001b[0m\u001b[0;34m.\u001b[0m\u001b[0m_get_tick\u001b[0m\u001b[0;34m(\u001b[0m\u001b[0mmajor\u001b[0m\u001b[0;34m=\u001b[0m\u001b[0;32mTrue\u001b[0m\u001b[0;34m)\u001b[0m\u001b[0;34m\u001b[0m\u001b[0;34m\u001b[0m\u001b[0m\n\u001b[0m\u001b[1;32m   1383\u001b[0m             \u001b[0mself\u001b[0m\u001b[0;34m.\u001b[0m\u001b[0mmajorTicks\u001b[0m\u001b[0;34m.\u001b[0m\u001b[0mappend\u001b[0m\u001b[0;34m(\u001b[0m\u001b[0mtick\u001b[0m\u001b[0;34m)\u001b[0m\u001b[0;34m\u001b[0m\u001b[0;34m\u001b[0m\u001b[0m\n\u001b[1;32m   1384\u001b[0m             \u001b[0mself\u001b[0m\u001b[0;34m.\u001b[0m\u001b[0m_copy_tick_props\u001b[0m\u001b[0;34m(\u001b[0m\u001b[0mself\u001b[0m\u001b[0;34m.\u001b[0m\u001b[0mmajorTicks\u001b[0m\u001b[0;34m[\u001b[0m\u001b[0;36m0\u001b[0m\u001b[0;34m]\u001b[0m\u001b[0;34m,\u001b[0m \u001b[0mtick\u001b[0m\u001b[0;34m)\u001b[0m\u001b[0;34m\u001b[0m\u001b[0;34m\u001b[0m\u001b[0m\n",
      "\u001b[0;32m/opt/conda/lib/python3.7/site-packages/matplotlib/axis.py\u001b[0m in \u001b[0;36m_get_tick\u001b[0;34m(self, major)\u001b[0m\n\u001b[1;32m   2014\u001b[0m         \u001b[0;32melse\u001b[0m\u001b[0;34m:\u001b[0m\u001b[0;34m\u001b[0m\u001b[0;34m\u001b[0m\u001b[0m\n\u001b[1;32m   2015\u001b[0m             \u001b[0mtick_kw\u001b[0m \u001b[0;34m=\u001b[0m \u001b[0mself\u001b[0m\u001b[0;34m.\u001b[0m\u001b[0m_minor_tick_kw\u001b[0m\u001b[0;34m\u001b[0m\u001b[0;34m\u001b[0m\u001b[0m\n\u001b[0;32m-> 2016\u001b[0;31m         \u001b[0;32mreturn\u001b[0m \u001b[0mXTick\u001b[0m\u001b[0;34m(\u001b[0m\u001b[0mself\u001b[0m\u001b[0;34m.\u001b[0m\u001b[0maxes\u001b[0m\u001b[0;34m,\u001b[0m \u001b[0;36m0\u001b[0m\u001b[0;34m,\u001b[0m \u001b[0mmajor\u001b[0m\u001b[0;34m=\u001b[0m\u001b[0mmajor\u001b[0m\u001b[0;34m,\u001b[0m \u001b[0;34m**\u001b[0m\u001b[0mtick_kw\u001b[0m\u001b[0;34m)\u001b[0m\u001b[0;34m\u001b[0m\u001b[0;34m\u001b[0m\u001b[0m\n\u001b[0m\u001b[1;32m   2017\u001b[0m \u001b[0;34m\u001b[0m\u001b[0m\n\u001b[1;32m   2018\u001b[0m     \u001b[0;32mdef\u001b[0m \u001b[0mset_label_position\u001b[0m\u001b[0;34m(\u001b[0m\u001b[0mself\u001b[0m\u001b[0;34m,\u001b[0m \u001b[0mposition\u001b[0m\u001b[0;34m)\u001b[0m\u001b[0;34m:\u001b[0m\u001b[0;34m\u001b[0m\u001b[0;34m\u001b[0m\u001b[0m\n",
      "\u001b[0;32m/opt/conda/lib/python3.7/site-packages/matplotlib/axis.py\u001b[0m in \u001b[0;36m__init__\u001b[0;34m(self, *args, **kwargs)\u001b[0m\n\u001b[1;32m    429\u001b[0m         self.gridline.set(\n\u001b[1;32m    430\u001b[0m             \u001b[0mxdata\u001b[0m\u001b[0;34m=\u001b[0m\u001b[0;34m[\u001b[0m\u001b[0;36m0\u001b[0m\u001b[0;34m,\u001b[0m \u001b[0;36m0\u001b[0m\u001b[0;34m]\u001b[0m\u001b[0;34m,\u001b[0m \u001b[0mydata\u001b[0m\u001b[0;34m=\u001b[0m\u001b[0;34m[\u001b[0m\u001b[0;36m0\u001b[0m\u001b[0;34m,\u001b[0m \u001b[0;36m1\u001b[0m\u001b[0;34m]\u001b[0m\u001b[0;34m,\u001b[0m\u001b[0;34m\u001b[0m\u001b[0;34m\u001b[0m\u001b[0m\n\u001b[0;32m--> 431\u001b[0;31m             \u001b[0mtransform\u001b[0m\u001b[0;34m=\u001b[0m\u001b[0mself\u001b[0m\u001b[0;34m.\u001b[0m\u001b[0maxes\u001b[0m\u001b[0;34m.\u001b[0m\u001b[0mget_xaxis_transform\u001b[0m\u001b[0;34m(\u001b[0m\u001b[0mwhich\u001b[0m\u001b[0;34m=\u001b[0m\u001b[0;34m\"grid\"\u001b[0m\u001b[0;34m)\u001b[0m\u001b[0;34m,\u001b[0m\u001b[0;34m\u001b[0m\u001b[0;34m\u001b[0m\u001b[0m\n\u001b[0m\u001b[1;32m    432\u001b[0m         )\n\u001b[1;32m    433\u001b[0m         \u001b[0;31m# the y loc is 3 points below the min of y axis\u001b[0m\u001b[0;34m\u001b[0m\u001b[0;34m\u001b[0m\u001b[0;34m\u001b[0m\u001b[0m\n",
      "\u001b[0;32m/opt/conda/lib/python3.7/site-packages/matplotlib/artist.py\u001b[0m in \u001b[0;36mset\u001b[0;34m(self, **kwargs)\u001b[0m\n\u001b[1;32m   1086\u001b[0m     \u001b[0;32mdef\u001b[0m \u001b[0mset\u001b[0m\u001b[0;34m(\u001b[0m\u001b[0mself\u001b[0m\u001b[0;34m,\u001b[0m \u001b[0;34m**\u001b[0m\u001b[0mkwargs\u001b[0m\u001b[0;34m)\u001b[0m\u001b[0;34m:\u001b[0m\u001b[0;34m\u001b[0m\u001b[0;34m\u001b[0m\u001b[0m\n\u001b[1;32m   1087\u001b[0m         \u001b[0;34m\"\"\"A property batch setter.  Pass *kwargs* to set properties.\"\"\"\u001b[0m\u001b[0;34m\u001b[0m\u001b[0;34m\u001b[0m\u001b[0m\n\u001b[0;32m-> 1088\u001b[0;31m         \u001b[0mkwargs\u001b[0m \u001b[0;34m=\u001b[0m \u001b[0mcbook\u001b[0m\u001b[0;34m.\u001b[0m\u001b[0mnormalize_kwargs\u001b[0m\u001b[0;34m(\u001b[0m\u001b[0mkwargs\u001b[0m\u001b[0;34m,\u001b[0m \u001b[0mself\u001b[0m\u001b[0;34m)\u001b[0m\u001b[0;34m\u001b[0m\u001b[0;34m\u001b[0m\u001b[0m\n\u001b[0m\u001b[1;32m   1089\u001b[0m         \u001b[0mmove_color_to_start\u001b[0m \u001b[0;34m=\u001b[0m \u001b[0;32mFalse\u001b[0m\u001b[0;34m\u001b[0m\u001b[0;34m\u001b[0m\u001b[0m\n\u001b[1;32m   1090\u001b[0m         \u001b[0;32mif\u001b[0m \u001b[0;34m\"color\"\u001b[0m \u001b[0;32min\u001b[0m \u001b[0mkwargs\u001b[0m\u001b[0;34m:\u001b[0m\u001b[0;34m\u001b[0m\u001b[0;34m\u001b[0m\u001b[0m\n",
      "\u001b[0;32m/opt/conda/lib/python3.7/site-packages/matplotlib/cbook/deprecation.py\u001b[0m in \u001b[0;36mwrapper\u001b[0;34m(*inner_args, **inner_kwargs)\u001b[0m\n\u001b[1;32m    409\u001b[0m                          \u001b[0;32melse\u001b[0m \u001b[0mdeprecation_addendum\u001b[0m\u001b[0;34m,\u001b[0m\u001b[0;34m\u001b[0m\u001b[0;34m\u001b[0m\u001b[0m\n\u001b[1;32m    410\u001b[0m                 **kwargs)\n\u001b[0;32m--> 411\u001b[0;31m         \u001b[0;32mreturn\u001b[0m \u001b[0mfunc\u001b[0m\u001b[0;34m(\u001b[0m\u001b[0;34m*\u001b[0m\u001b[0minner_args\u001b[0m\u001b[0;34m,\u001b[0m \u001b[0;34m**\u001b[0m\u001b[0minner_kwargs\u001b[0m\u001b[0;34m)\u001b[0m\u001b[0;34m\u001b[0m\u001b[0;34m\u001b[0m\u001b[0m\n\u001b[0m\u001b[1;32m    412\u001b[0m \u001b[0;34m\u001b[0m\u001b[0m\n\u001b[1;32m    413\u001b[0m     \u001b[0;32mreturn\u001b[0m \u001b[0mwrapper\u001b[0m\u001b[0;34m\u001b[0m\u001b[0;34m\u001b[0m\u001b[0m\n",
      "\u001b[0;32m/opt/conda/lib/python3.7/site-packages/matplotlib/cbook/deprecation.py\u001b[0m in \u001b[0;36mwrapper\u001b[0;34m(*inner_args, **inner_kwargs)\u001b[0m\n\u001b[1;32m    409\u001b[0m                          \u001b[0;32melse\u001b[0m \u001b[0mdeprecation_addendum\u001b[0m\u001b[0;34m,\u001b[0m\u001b[0;34m\u001b[0m\u001b[0;34m\u001b[0m\u001b[0m\n\u001b[1;32m    410\u001b[0m                 **kwargs)\n\u001b[0;32m--> 411\u001b[0;31m         \u001b[0;32mreturn\u001b[0m \u001b[0mfunc\u001b[0m\u001b[0;34m(\u001b[0m\u001b[0;34m*\u001b[0m\u001b[0minner_args\u001b[0m\u001b[0;34m,\u001b[0m \u001b[0;34m**\u001b[0m\u001b[0minner_kwargs\u001b[0m\u001b[0;34m)\u001b[0m\u001b[0;34m\u001b[0m\u001b[0;34m\u001b[0m\u001b[0m\n\u001b[0m\u001b[1;32m    412\u001b[0m \u001b[0;34m\u001b[0m\u001b[0m\n\u001b[1;32m    413\u001b[0m     \u001b[0;32mreturn\u001b[0m \u001b[0mwrapper\u001b[0m\u001b[0;34m\u001b[0m\u001b[0;34m\u001b[0m\u001b[0m\n",
      "\u001b[0;32m/opt/conda/lib/python3.7/site-packages/matplotlib/cbook/deprecation.py\u001b[0m in \u001b[0;36mwrapper\u001b[0;34m(*inner_args, **inner_kwargs)\u001b[0m\n\u001b[1;32m    409\u001b[0m                          \u001b[0;32melse\u001b[0m \u001b[0mdeprecation_addendum\u001b[0m\u001b[0;34m,\u001b[0m\u001b[0;34m\u001b[0m\u001b[0;34m\u001b[0m\u001b[0m\n\u001b[1;32m    410\u001b[0m                 **kwargs)\n\u001b[0;32m--> 411\u001b[0;31m         \u001b[0;32mreturn\u001b[0m \u001b[0mfunc\u001b[0m\u001b[0;34m(\u001b[0m\u001b[0;34m*\u001b[0m\u001b[0minner_args\u001b[0m\u001b[0;34m,\u001b[0m \u001b[0;34m**\u001b[0m\u001b[0minner_kwargs\u001b[0m\u001b[0;34m)\u001b[0m\u001b[0;34m\u001b[0m\u001b[0;34m\u001b[0m\u001b[0m\n\u001b[0m\u001b[1;32m    412\u001b[0m \u001b[0;34m\u001b[0m\u001b[0m\n\u001b[1;32m    413\u001b[0m     \u001b[0;32mreturn\u001b[0m \u001b[0mwrapper\u001b[0m\u001b[0;34m\u001b[0m\u001b[0;34m\u001b[0m\u001b[0m\n",
      "\u001b[0;32m/opt/conda/lib/python3.7/site-packages/matplotlib/cbook/__init__.py\u001b[0m in \u001b[0;36mnormalize_kwargs\u001b[0;34m(kw, alias_mapping, required, forbidden, allowed)\u001b[0m\n\u001b[1;32m   1731\u001b[0m         \u001b[0ma\u001b[0m \u001b[0mcallable\u001b[0m\u001b[0;34m.\u001b[0m\u001b[0;34m\u001b[0m\u001b[0;34m\u001b[0m\u001b[0m\n\u001b[1;32m   1732\u001b[0m     \"\"\"\n\u001b[0;32m-> 1733\u001b[0;31m     \u001b[0;32mfrom\u001b[0m \u001b[0mmatplotlib\u001b[0m\u001b[0;34m.\u001b[0m\u001b[0martist\u001b[0m \u001b[0;32mimport\u001b[0m \u001b[0mArtist\u001b[0m\u001b[0;34m\u001b[0m\u001b[0;34m\u001b[0m\u001b[0m\n\u001b[0m\u001b[1;32m   1734\u001b[0m \u001b[0;34m\u001b[0m\u001b[0m\n\u001b[1;32m   1735\u001b[0m     \u001b[0;31m# deal with default value of alias_mapping\u001b[0m\u001b[0;34m\u001b[0m\u001b[0;34m\u001b[0m\u001b[0;34m\u001b[0m\u001b[0m\n",
      "\u001b[0;32m/opt/conda/lib/python3.7/importlib/_bootstrap.py\u001b[0m in \u001b[0;36m_handle_fromlist\u001b[0;34m(module, fromlist, import_, recursive)\u001b[0m\n",
      "\u001b[0;31mKeyboardInterrupt\u001b[0m: "
     ]
    },
    {
     "data": {
      "image/png": "[encoded data removed]",
      "text/plain": [
       "<Figure size 864x576 with 2 Axes>"
      ]
     },
     "metadata": {
      "needs_background": "light"
     },
     "output_type": "display_data"
    }
   ],
   "source": [
    "hold_d = dms_video(sampled_theta[:,0], sampled_energy[:,0])"
   ]
  },
  {
   "cell_type": "code",
   "execution_count": null,
   "metadata": {},
   "outputs": [],
   "source": []
  },
  {
   "cell_type": "code",
   "execution_count": 67,
   "metadata": {},
   "outputs": [],
   "source": [
    "check_me = run_filter(motif_filter)"
   ]
  },
  {
   "cell_type": "code",
   "execution_count": 84,
   "metadata": {},
   "outputs": [
    {
     "data": {
      "text/plain": [
       "tensor([   0.0000, 1095.7001, 1095.7001, 1095.7001, 1095.7001, 1095.7001,\n",
       "        3408.0442, 3408.0442, 3408.0442, 3408.0442, 3408.0442, 3408.0442,\n",
       "        3408.0442, 3408.0442, 3408.0442, 3408.0442, 3408.0442, 3408.0442,\n",
       "        3408.0442, 3408.0442, 3408.0442, 3408.0442, 3408.0442, 3408.0442,\n",
       "        1021.7402, 1021.7402, 1021.7402, 1021.7402, 1021.7402, 1021.7402,\n",
       "        1021.7402, 1021.7402, 1021.7402, 1021.7402, 1021.7402, 1021.7402,\n",
       "        1021.7402, 1021.7402, 1021.7402, 1021.7402, 1021.7402, 1021.7402,\n",
       "         919.1064,  919.1064,  919.1064,  919.1064,  919.1064,  919.1064,\n",
       "         919.1064,  919.1064,  919.1064,  919.1064,  919.1064,  919.1064,\n",
       "         919.1064,  919.1064,  919.1064,  919.1064,  919.1064,  919.1064,\n",
       "           0.0000,    0.0000,    0.0000,    0.0000])"
      ]
     },
     "execution_count": 84,
     "metadata": {},
     "output_type": "execute_result"
    }
   ],
   "source": [
    "check_me(sampled_theta[:,0]).squeeze()[908]"
   ]
  },
  {
   "cell_type": "code",
   "execution_count": 183,
   "metadata": {},
   "outputs": [
    {
     "data": {
      "text/plain": [
       "(<Figure size 1638x180 with 1 Axes>,\n",
       " <AxesSubplot:xlabel='site', ylabel='height'>)"
      ]
     },
     "execution_count": 183,
     "metadata": {},
     "output_type": "execute_result"
    },
    {
     "data": {
      "image/png": "[encoded data removed]",
      "text/plain": [
       "<Figure size 1638x180 with 1 Axes>"
      ]
     },
     "metadata": {
      "needs_background": "light"
     },
     "output_type": "display_data"
    }
   ],
   "source": [
    "batch_to_dms(sampled_theta[:,1], target='dms_motif_1.png')\n"
   ]
  },
  {
   "cell_type": "code",
   "execution_count": 180,
   "metadata": {},
   "outputs": [],
   "source": [
    "hold_h = dmsheat_video(sampled_theta[:,1], sampled_energy[:,0], check_me, target='test_motif_0.mp4')"
   ]
  },
  {
   "cell_type": "code",
   "execution_count": 181,
   "metadata": {},
   "outputs": [],
   "source": [
    "hold_h = dmsheat_video(sampled_theta[:,1], sampled_energy[:,1], check_me, target='test_motif_1.mp4')"
   ]
  },
  {
   "cell_type": "code",
   "execution_count": 105,
   "metadata": {},
   "outputs": [
    {
     "data": {
      "text/html": [
       "<div>\n",
       "<style scoped>\n",
       "    .dataframe tbody tr th:only-of-type {\n",
       "        vertical-align: middle;\n",
       "    }\n",
       "\n",
       "    .dataframe tbody tr th {\n",
       "        vertical-align: top;\n",
       "    }\n",
       "\n",
       "    .dataframe thead th {\n",
       "        text-align: right;\n",
       "    }\n",
       "</style>\n",
       "<table border=\"1\" class=\"dataframe\">\n",
       "  <thead>\n",
       "    <tr style=\"text-align: right;\">\n",
       "      <th></th>\n",
       "      <th>site</th>\n",
       "      <th>letter</th>\n",
       "      <th>height</th>\n",
       "      <th>color</th>\n",
       "    </tr>\n",
       "  </thead>\n",
       "  <tbody>\n",
       "    <tr>\n",
       "      <th>0</th>\n",
       "      <td>0</td>\n",
       "      <td>A</td>\n",
       "      <td>3.172076</td>\n",
       "      <td>green</td>\n",
       "    </tr>\n",
       "    <tr>\n",
       "      <th>1</th>\n",
       "      <td>1</td>\n",
       "      <td>A</td>\n",
       "      <td>4.757751</td>\n",
       "      <td>green</td>\n",
       "    </tr>\n",
       "    <tr>\n",
       "      <th>2</th>\n",
       "      <td>2</td>\n",
       "      <td>A</td>\n",
       "      <td>0.349964</td>\n",
       "      <td>green</td>\n",
       "    </tr>\n",
       "    <tr>\n",
       "      <th>3</th>\n",
       "      <td>3</td>\n",
       "      <td>A</td>\n",
       "      <td>3.829386</td>\n",
       "      <td>green</td>\n",
       "    </tr>\n",
       "    <tr>\n",
       "      <th>4</th>\n",
       "      <td>4</td>\n",
       "      <td>A</td>\n",
       "      <td>0.130407</td>\n",
       "      <td>green</td>\n",
       "    </tr>\n",
       "    <tr>\n",
       "      <th>...</th>\n",
       "      <td>...</td>\n",
       "      <td>...</td>\n",
       "      <td>...</td>\n",
       "      <td>...</td>\n",
       "    </tr>\n",
       "    <tr>\n",
       "      <th>67</th>\n",
       "      <td>13</td>\n",
       "      <td>T</td>\n",
       "      <td>2.188555</td>\n",
       "      <td>red</td>\n",
       "    </tr>\n",
       "    <tr>\n",
       "      <th>68</th>\n",
       "      <td>14</td>\n",
       "      <td>T</td>\n",
       "      <td>-2.300737</td>\n",
       "      <td>red</td>\n",
       "    </tr>\n",
       "    <tr>\n",
       "      <th>69</th>\n",
       "      <td>15</td>\n",
       "      <td>T</td>\n",
       "      <td>0.316460</td>\n",
       "      <td>red</td>\n",
       "    </tr>\n",
       "    <tr>\n",
       "      <th>70</th>\n",
       "      <td>16</td>\n",
       "      <td>T</td>\n",
       "      <td>2.774472</td>\n",
       "      <td>red</td>\n",
       "    </tr>\n",
       "    <tr>\n",
       "      <th>71</th>\n",
       "      <td>17</td>\n",
       "      <td>T</td>\n",
       "      <td>-1.574843</td>\n",
       "      <td>red</td>\n",
       "    </tr>\n",
       "  </tbody>\n",
       "</table>\n",
       "<p>72 rows × 4 columns</p>\n",
       "</div>"
      ],
      "text/plain": [
       "    site letter    height  color\n",
       "0      0      A  3.172076  green\n",
       "1      1      A  4.757751  green\n",
       "2      2      A  0.349964  green\n",
       "3      3      A  3.829386  green\n",
       "4      4      A  0.130407  green\n",
       "..   ...    ...       ...    ...\n",
       "67    13      T  2.188555    red\n",
       "68    14      T -2.300737    red\n",
       "69    15      T  0.316460    red\n",
       "70    16      T  2.774472    red\n",
       "71    17      T -1.574843    red\n",
       "\n",
       "[72 rows x 4 columns]"
      ]
     },
     "execution_count": 105,
     "metadata": {},
     "output_type": "execute_result"
    }
   ],
   "source": [
    "tensor_to_pandas(sampled_theta[0,0])"
   ]
  },
  {
   "cell_type": "code",
   "execution_count": 118,
   "metadata": {},
   "outputs": [
    {
     "name": "stdout",
     "output_type": "stream",
     "text": [
      "    site letter    height  color\n",
      "0      0      A  1.598555  green\n",
      "1      1      A  0.305983  green\n",
      "2      2      A  0.001958  green\n",
      "3      3      A  1.865755  green\n",
      "4      4      A  0.054917  green\n",
      "..   ...    ...       ...    ...\n",
      "67    13      T  0.170156    red\n",
      "68    14      T  0.014739    red\n",
      "69    15      T  0.036716    red\n",
      "70    16      T  1.148593    red\n",
      "71    17      T  0.000892    red\n",
      "\n",
      "[72 rows x 4 columns]\n",
      "    site letter    height  color overlay_0\n",
      "0      0      A  1.598555  green   #360e24\n",
      "1      1      A  0.305983  green   #e6f1f1\n",
      "2      2      A  0.001958  green   #e6f1f1\n",
      "3      3      A  1.865755  green   #e6f1f1\n",
      "4      4      A  0.054917  green   #e6f1f1\n",
      "..   ...    ...       ...    ...       ...\n",
      "67    13      T  0.170156    red   #e6f1f1\n",
      "68    14      T  0.014739    red   #e6f1f1\n",
      "69    15      T  0.036716    red   #e6f1f1\n",
      "70    16      T  1.148593    red   #e6f1f1\n",
      "71    17      T  0.000892    red   #e6f1f1\n",
      "\n",
      "[72 rows x 5 columns]\n"
     ]
    },
    {
     "data": {
      "text/plain": [
       "(<Figure size 478.8x201.6 with 2 Axes>,\n",
       " array([<AxesSubplot:>, <AxesSubplot:xlabel='site', ylabel='height'>],\n",
       "       dtype=object))"
      ]
     },
     "execution_count": 118,
     "metadata": {},
     "output_type": "execute_result"
    },
    {
     "data": {
      "image/png": "[encoded data removed]",
      "text/plain": [
       "<Figure size 478.8x201.6 with 2 Axes>"
      ]
     },
     "metadata": {
      "needs_background": "light"
     },
     "output_type": "display_data"
    }
   ],
   "source": [
    "tensor_to_dmsheat(sampled_theta[0,0], check_me)"
   ]
  },
  {
   "cell_type": "code",
   "execution_count": 78,
   "metadata": {},
   "outputs": [
    {
     "data": {
      "text/plain": [
       "tensor([-1449.7720, -1014.8062, -1508.8818, -1223.4364, -1630.4927, -1245.1487,\n",
       "        -1757.7891, -1311.7988, -1199.5558, -1089.8500, -1341.6520,  -659.6882,\n",
       "        -1078.9451, -1132.5225, -1309.1886, -1712.2198, -1548.0505, -1213.5634,\n",
       "        -1353.2111, -1427.6747, -1346.4075, -1292.9281, -1485.9589, -1280.0656,\n",
       "        -1415.1898, -1297.0605, -2485.5437, -1664.9291, -1155.6711, -1056.0938,\n",
       "        -1532.5862, -2440.9524, -1828.5396, -2359.3958, -1881.5723, -1565.9161,\n",
       "        -1222.3993, -1295.4130, -1495.6587, -1287.8323, -1310.8466, -1477.5900,\n",
       "        -1755.6389, -1256.7096, -1133.5085, -2289.1780, -1780.7738, -1286.2808,\n",
       "        -1492.7518, -1538.2177, -2198.0750, -1777.4636, -1738.0500, -1704.3945,\n",
       "        -1950.1134, -1931.5438, -1945.4028, -2061.3599, -1626.6545, -1667.6465,\n",
       "        -1074.5869, -1353.9261, -2385.3208, -1271.0945, -1980.7155, -1481.4163,\n",
       "         -995.0934, -2385.1008, -2197.8855, -1213.6226, -1341.3950, -1744.7661,\n",
       "        -1437.4288, -2829.3362, -2354.5164, -1614.8267, -1603.2446, -2171.4707,\n",
       "        -1569.2375, -1138.6824, -1618.2880, -1106.2706, -2353.6062, -3174.3298,\n",
       "        -2885.3796, -1334.0138, -1299.3510, -2346.5088, -1873.2944, -1840.6722,\n",
       "        -1377.4783, -1986.6313, -1681.8632, -1444.6863, -1953.4727, -1044.1732,\n",
       "        -1243.3947, -2118.3108, -1196.3184, -1250.5170, -1895.4785, -1716.4658,\n",
       "        -1592.8060, -2078.1372, -2119.5171, -1920.8547, -1452.7518, -1260.3744,\n",
       "        -1629.5732, -1329.1080, -1445.5962, -1919.6140, -1756.2015, -1821.9305,\n",
       "        -2417.6794,  -788.6951, -1917.5038, -1317.8884, -1732.5548, -1778.3790,\n",
       "        -1412.0334, -1545.9209, -1548.9205, -1417.9755, -1816.0886, -2362.6489,\n",
       "        -1928.8420, -1595.7096, -1565.6825, -2484.0271, -2257.4893, -1622.2571,\n",
       "        -2227.3877, -1657.3574, -1534.0665, -1916.5027, -2028.6880, -1237.7606,\n",
       "        -2363.8752, -1308.3094, -1019.1011, -1880.3186, -1638.2706, -1241.4005,\n",
       "        -2296.2415, -1940.8844,  -705.6834, -1507.0958, -1531.1477, -1577.6677,\n",
       "        -1854.5872, -1838.3132, -2089.3137, -1690.6907, -1762.8582, -2503.0042,\n",
       "        -3042.8816, -1511.9760, -1580.7484, -1646.8774, -1496.3992, -1822.0070,\n",
       "        -1930.2545, -1454.2975, -1571.0040, -1943.6316, -1307.6682, -1331.9403,\n",
       "        -1512.6979, -1577.3645, -1944.6064, -2007.5520, -2306.5781, -1956.8397,\n",
       "        -1150.5637, -1302.9667, -1533.5507, -1288.5184, -1329.9055, -1292.2371,\n",
       "        -1227.5660, -1441.0127, -1535.5621, -1343.3066, -1509.5560, -1478.0811,\n",
       "        -2163.6685, -1501.6703, -1045.2219, -1783.9491, -1712.9850, -2573.2046,\n",
       "        -2023.4369, -1305.8669,  -803.0648, -1364.2303, -2687.8926, -2383.0239,\n",
       "        -2362.0376, -1955.4989, -1721.0258, -1426.7092, -1545.9689, -1837.6129,\n",
       "        -1821.4664, -2035.0576,  -949.1909, -1806.6707, -1258.2103, -1789.6851,\n",
       "        -1515.4608, -2580.2048, -2094.4265, -2223.2026, -2150.8413, -2571.1152,\n",
       "        -1294.3492, -2494.0581, -2105.1033, -1845.9767, -1827.9956, -1123.5630,\n",
       "        -1173.6022, -1441.3828, -1032.5175, -1272.8282, -2654.7893, -1887.0603,\n",
       "        -1842.3865, -1858.1224, -1682.3236, -1797.2803, -1552.0417, -1949.1295,\n",
       "        -1797.0750, -1425.4828, -1281.9385, -1587.4984, -1189.0575, -1752.1029,\n",
       "        -2781.7727, -1487.9554, -1200.4507, -1281.1019, -2308.7571, -1046.1844,\n",
       "        -1369.4548, -1536.2000, -1523.4100, -1689.1892, -1739.6724, -1893.0419,\n",
       "        -1463.1614, -1461.8440, -1480.1003, -2299.4448, -2448.0659, -2311.2542,\n",
       "        -1402.4061, -1474.7290, -2054.1055, -1788.0358, -2359.0181, -2643.6895,\n",
       "        -1970.1118, -2288.4536, -1050.1532,  -940.6792, -1380.9658, -1679.3981,\n",
       "        -1166.1400, -1400.4077, -1446.9504, -1702.7383, -1208.9429, -2559.0625,\n",
       "        -2151.2173, -1454.4768, -1302.6813, -1344.6926, -2517.2717, -2309.4338,\n",
       "        -2125.5359, -2167.1726, -1590.0076, -1364.4805, -1086.1554, -1627.7679,\n",
       "        -1743.5311, -1379.2406, -1615.6680, -1784.1697, -1250.8855, -2157.2515,\n",
       "        -1980.1173, -1697.8602, -2018.1736, -1029.6748, -1544.3383, -1743.8503,\n",
       "        -1283.3323, -1294.2601, -1404.7950, -2002.2169,  -928.5316, -1119.9177,\n",
       "        -1784.7783, -2001.6740, -1464.9596, -2200.8376, -1895.4246, -1622.8782,\n",
       "        -1278.8389, -1161.5647, -2079.6377, -1349.8827, -1629.3323, -1360.3688,\n",
       "        -1549.9692, -1857.4257,  -905.2251, -1454.2195, -1833.0304, -2008.1454,\n",
       "        -1916.7346, -2192.6777, -1754.1066, -1380.8163, -1315.8423, -1497.9393,\n",
       "        -1501.3516, -1360.5225, -1470.7015, -1221.7554, -1664.6681, -2245.8420,\n",
       "        -1814.1238, -2237.1890, -1828.0527, -1661.2542, -1068.8000, -1248.7454,\n",
       "        -1665.5773, -1221.6421, -1509.0958, -1341.1664, -1759.0604, -2086.0154,\n",
       "        -1716.4340, -1599.1481, -1534.7214,  -702.7454, -1694.5702, -1883.8663,\n",
       "        -1569.0836, -1720.2493, -1832.0365, -1177.3270, -1830.0918, -2000.9066,\n",
       "        -1227.6714,  -798.0491, -2012.2817, -1507.6230, -1054.7721, -1154.3094,\n",
       "        -1458.4039, -1471.6273, -1135.8302, -1670.7340, -1973.1179, -1831.0093,\n",
       "        -1317.0094, -1707.2817, -1778.1711, -1610.1362, -1046.6680, -2287.7039,\n",
       "        -1757.5027, -1178.9506, -1569.3003, -1959.7424, -1669.6765, -2071.3037,\n",
       "        -1657.0797, -2565.1194, -1076.8959, -1547.5688, -1231.2369, -1500.6824,\n",
       "        -2065.7561, -1837.3973, -1753.0428, -1180.2184, -1259.5470, -2154.3792,\n",
       "        -1736.2902, -1433.7047, -1877.1951, -1749.0284, -1263.6752, -1323.7131,\n",
       "        -1731.1595, -1133.9326, -1213.6826, -1697.7009, -1686.2522, -1963.7643,\n",
       "        -2207.8516, -2058.6606, -1261.9673, -1871.2253, -1692.6949, -1672.9884,\n",
       "        -1232.7518, -3101.2986, -2615.8203, -1359.7231, -1993.0612, -1582.6262,\n",
       "        -2030.0619, -1401.9182, -1464.4884, -1684.9344, -2224.8088, -1919.5304,\n",
       "        -1393.6230, -1657.5186, -1462.3058, -1463.5096, -1291.9542, -1079.7356,\n",
       "        -1449.5676, -1098.8127, -1526.6550, -2275.7715, -1279.0815, -1395.8466,\n",
       "        -1678.6184, -1605.4088, -1373.4827, -1149.4640, -1621.6122, -1472.3629,\n",
       "        -2121.1753, -1736.7875, -1856.8269, -1386.6313, -1496.9788, -1536.2823,\n",
       "        -1821.0571, -1544.5112, -1759.5983, -1463.2716, -1964.0889, -1772.9451,\n",
       "        -1858.6542, -1186.5311, -1556.9095, -1688.0114, -1371.3445, -2322.4629,\n",
       "        -2084.5728, -2241.5361, -1957.8920, -1658.6056, -1385.0048, -2163.3750,\n",
       "        -1581.8478, -2738.0579, -2026.9775, -1894.6854, -1540.5654, -1316.2229,\n",
       "        -1387.3322, -1558.3677, -1314.1382, -1554.2133, -2518.7942, -2808.8528,\n",
       "        -1457.5765, -1809.6672, -1378.8761, -1731.7090, -1003.8781,  -976.1335,\n",
       "        -1932.6335, -1984.4939, -1625.9885, -2116.9451, -1413.3553, -1158.8689,\n",
       "        -1362.0771, -1764.8198, -1973.3687, -2514.7007, -2111.4614, -1607.3322,\n",
       "        -1661.7538, -1707.9946, -1684.3025, -1872.8170, -1593.8772, -1829.6470,\n",
       "        -2359.6531, -2060.4124, -1235.9813, -1589.6396, -1898.9463, -1736.2598,\n",
       "        -1996.0609, -2807.4644, -1994.0389, -1343.7821, -1344.1018, -1638.1858,\n",
       "        -1183.9113, -2111.9026, -1813.9755, -1396.6323, -2301.7778, -1383.1232,\n",
       "        -1320.6694, -1331.6353, -1876.2665, -2354.7039, -1955.3053, -1586.8834,\n",
       "        -1834.3737, -1491.1537, -1006.3521,  -900.2347, -1971.2660, -1800.1869,\n",
       "        -1708.2345, -1521.8915, -2815.4341, -2500.9790, -1670.6964, -2063.4358,\n",
       "        -1993.8633, -2247.5388, -1976.8156, -1266.0840, -1233.3488, -1729.6290,\n",
       "        -1849.8408, -1500.6353, -1941.9238, -1927.0140, -2073.5925, -1808.3212,\n",
       "        -1673.6063, -1326.4351, -1781.8314, -1690.6954, -1017.0201,  -641.3608,\n",
       "        -1343.7273, -2155.0884, -1486.3937, -1557.8619, -2582.2625, -2507.1499,\n",
       "        -2705.6133, -1991.4905, -1941.5892, -1684.5483, -2086.6941, -1758.1719,\n",
       "        -1610.3462, -1578.7051, -1830.5999, -1784.2449, -1530.4977,  -987.4708,\n",
       "        -1180.9464, -1399.3450, -1494.8291, -2296.8391, -1546.8585, -1525.6010,\n",
       "        -1186.0988, -1030.1427, -1490.5261, -1290.2653, -1453.1798, -1194.0731,\n",
       "        -1198.0435, -2046.8059, -1708.9875, -1958.6039, -1520.4204, -2622.1206,\n",
       "        -3105.6130, -1600.6084, -2046.9552, -1523.7279, -1432.8215, -1399.5358,\n",
       "        -1570.8770, -1327.0498, -1430.8158, -2028.9720, -1201.6240, -2012.9031,\n",
       "        -1585.2017, -1385.4423, -2411.1777,  -897.5361, -2972.8574, -2432.8013,\n",
       "        -1410.4329, -1645.1578, -1235.5706, -1158.3296, -1285.4032, -1118.0026,\n",
       "        -1167.7502, -2359.4861, -2055.6528, -1650.5085, -1150.7202, -2067.2844,\n",
       "        -1481.1901,  -992.1423, -2219.9390, -1741.7673, -1940.6718, -1307.4722,\n",
       "        -1644.8568, -1548.5428, -1629.4607, -2236.6323, -1648.6296, -1406.2167,\n",
       "        -1359.3929, -1751.4083, -1378.6547, -1782.6195, -1500.5419, -1444.6432,\n",
       "        -2077.1516, -1177.4923, -1067.1949, -2055.6248, -1250.9656, -2271.9316,\n",
       "        -1492.5560,  -848.6684,  -811.6008, -1246.4922, -1353.4496, -1767.4117,\n",
       "        -2060.7520, -1795.5911, -1670.9299, -1838.8997, -2871.2332, -1533.5282,\n",
       "        -1492.4620, -1654.9335, -1492.5334, -2474.2244, -1401.8336, -1282.8632,\n",
       "        -1329.8441, -1306.5757, -2244.3284, -1511.7405, -1067.0829, -1450.2617,\n",
       "        -1528.2825, -1629.8942, -1609.7952, -1745.1133, -1241.6592, -1942.2136,\n",
       "        -1035.2579, -1839.2120, -1569.4524, -1697.6034, -1902.3341, -1894.8295,\n",
       "        -1189.4880,  -822.1711, -1237.4524, -1947.9950, -1945.5651, -2099.5183,\n",
       "        -2548.1013,  -952.9203,  -793.7881,  -875.0613, -2243.9509, -1232.6021,\n",
       "        -1083.1163,  -923.0940, -1508.1182, -1206.6306, -1516.2853, -2312.2278,\n",
       "        -1842.8854,  -937.7925,  -927.9197, -1224.4150, -1859.5712, -1865.7223,\n",
       "        -1758.2657, -2460.2117, -1659.9600, -1275.6295, -2013.8895, -2683.1082,\n",
       "         -770.6702, -1215.1368, -1915.9797, -2003.8126, -1791.7720, -1618.2867,\n",
       "        -1537.2761, -1239.0533, -1997.9366, -1347.5800, -1208.0372, -1389.7445,\n",
       "        -1638.2053, -2048.2498, -1543.4042, -1497.7816, -1217.8801, -1282.7943,\n",
       "        -1261.2684, -1255.5361, -1238.7928, -1582.8817, -2048.9988, -1968.1189,\n",
       "        -1807.1257, -1852.5898, -1963.1764, -1213.8000, -1610.3472, -1819.3147,\n",
       "        -1927.6830, -2000.9045, -1499.8883, -1207.9696, -1865.4481, -1991.3167,\n",
       "        -1416.5112, -1181.7844, -1883.2926, -1329.7072, -1710.5968, -1953.1924,\n",
       "        -1644.3186, -1921.1881, -1828.9788, -1666.7144, -1366.5239, -1895.2400,\n",
       "        -2084.1826, -1489.7937, -1201.2147, -1199.8826, -1689.3960, -1449.7539,\n",
       "        -1190.3831, -1737.7042, -2500.0376, -1103.6649, -2579.3611, -1629.8113,\n",
       "         -878.8424, -1324.4501, -1917.3099, -1507.4595, -1868.9484, -1265.0096,\n",
       "        -1539.6669, -1539.5887, -2302.6584, -1842.4690, -1772.2485, -1475.8691,\n",
       "        -1584.6254, -1573.0118, -1154.7734, -1771.5026, -1419.3185, -1642.6724,\n",
       "        -2341.0720, -2052.3865, -1758.3334, -1915.3488, -1662.6422, -1885.0015,\n",
       "        -2139.0957, -1970.1239, -2348.3779, -2088.3530, -1798.7734, -1426.7747,\n",
       "        -1487.4465, -2957.0002, -1738.6245, -1915.1818, -1759.6238, -1172.9041,\n",
       "        -1012.9205, -1458.4850, -1278.9301, -1937.7244, -1588.6609, -1883.7832,\n",
       "        -1205.2816, -1488.5154, -2484.0112, -1665.5558, -1948.3257, -2268.8032,\n",
       "        -1297.3641, -2129.9844, -1176.0430, -1649.4371, -2556.9822, -1915.6227,\n",
       "        -1586.9423, -2155.8721, -2055.6841, -1804.9518, -1778.6232, -1731.8434,\n",
       "        -1412.0891, -1501.2562, -2376.8813, -2248.1550, -1328.2264, -1663.9333,\n",
       "        -1288.7521, -1261.8068, -1272.5314, -1472.1488, -2017.2084, -1252.7260,\n",
       "        -1119.3186, -1423.7782, -1337.4967, -1669.8912, -1735.3665, -2058.4312,\n",
       "        -2300.7168, -1495.2078, -1877.6678, -1260.3361, -1472.9781, -1523.9305,\n",
       "        -1540.3840, -2294.4565, -1350.0026, -1103.7982, -1951.8440, -1923.6974,\n",
       "        -1912.6934, -1481.7673, -1731.3567, -2093.2244,  -868.0358,  -818.5761,\n",
       "        -1331.1390, -1538.5710, -1715.9432, -1844.6989, -2798.8469, -2188.8521,\n",
       "        -1658.9203, -1528.5311, -1817.0466, -1354.8451, -1495.2357, -2121.1331,\n",
       "        -1871.4675, -2426.3081, -2517.9473, -1672.1415, -1812.4935, -1478.1583,\n",
       "        -1888.7362, -1506.7051, -2182.0251, -1132.7189, -1682.6287, -1665.4767,\n",
       "        -1286.2186, -1557.8561, -1742.6554, -1213.3279, -2277.6938, -1573.2570,\n",
       "        -1274.7789, -1826.2633, -1575.4861, -1868.3494, -1550.5425, -1301.6029,\n",
       "        -1851.8699, -1924.3146, -3408.0442, -2647.4294, -1557.0994, -1460.3533,\n",
       "        -1437.7253, -1173.3192, -1710.5116, -2027.3442, -1501.1298, -1323.1451,\n",
       "        -1284.5416, -1455.7993, -1440.8406, -1481.6460, -1424.3036,  -994.0727,\n",
       "        -1192.7283,  -695.2896, -1653.2322, -1844.4331, -1646.1919, -1291.1475,\n",
       "        -1086.8345, -1498.0686, -1338.8743, -2432.9448, -1558.1515, -1512.4037,\n",
       "        -1501.3102, -1834.5781, -1686.9805, -1618.5114, -1446.4060,  -804.9476,\n",
       "         -888.4244, -1640.0352, -1476.1957, -1960.6464, -1145.3364, -3159.2642,\n",
       "        -2197.0549, -2584.9355, -1269.1075, -1388.1217, -1088.4327, -1151.6964,\n",
       "        -2105.7935, -1117.2687, -2402.4609, -2316.1069, -1860.0502, -2284.6721,\n",
       "        -1867.4506, -1700.0771, -2616.5293, -2199.2180, -2121.6401, -1363.9045,\n",
       "        -1196.9989,  -928.3294, -2088.9658, -1930.9301, -1568.8486, -1631.4644,\n",
       "        -1479.0691, -1301.9652, -2073.9961, -1085.1942, -1285.9453, -1389.0485,\n",
       "        -1369.1252, -1539.0278, -1055.6541, -1285.9469, -1414.4630, -2686.2847,\n",
       "        -1405.1018, -1839.7490, -1162.6125,  -997.0185, -1372.0931, -1196.8689,\n",
       "        -1274.7924, -1814.9247, -1641.5472, -1254.1898, -1653.9114, -1042.5829,\n",
       "        -1655.7854, -1340.9111, -1363.7460, -1363.7460])"
      ]
     },
     "execution_count": 78,
     "metadata": {},
     "output_type": "execute_result"
    }
   ],
   "source": [
    "my_energy(sampled_theta[:,0])"
   ]
  },
  {
   "cell_type": "code",
   "execution_count": 137,
   "metadata": {},
   "outputs": [
    {
     "data": {
      "text/plain": [
       "tensor([18.1644, 22.0910, 19.1911, 16.2472, 16.0655, 13.0726, 18.5254, 18.9793,\n",
       "        15.7457, 15.8033, 15.3670,  8.0069,  9.1533, 13.7020, 12.5001, 13.8310,\n",
       "        14.6548, 15.2760, 15.9075, 13.2945])"
      ]
     },
     "execution_count": 137,
     "metadata": {},
     "output_type": "execute_result"
    }
   ],
   "source": [
    "sampled_energy[-20:,0]"
   ]
  },
  {
   "cell_type": "code",
   "execution_count": 136,
   "metadata": {},
   "outputs": [
    {
     "data": {
      "text/plain": [
       "tensor([28.6396], grad_fn=<MeanBackward1>)"
      ]
     },
     "execution_count": 136,
     "metadata": {},
     "output_type": "execute_result"
    }
   ],
   "source": [
    "my_sampler.params.prior_nll()"
   ]
  },
  {
   "cell_type": "code",
   "execution_count": 148,
   "metadata": {},
   "outputs": [],
   "source": [
    "my_sampler.params.theta.data = sampled_theta[-1,]"
   ]
  },
  {
   "cell_type": "code",
   "execution_count": 149,
   "metadata": {},
   "outputs": [
    {
     "data": {
      "text/plain": [
       "torch.Size([1, 4, 18])"
      ]
     },
     "execution_count": 149,
     "metadata": {},
     "output_type": "execute_result"
    }
   ],
   "source": [
    "my_sampler.params.theta.shape"
   ]
  },
  {
   "cell_type": "code",
   "execution_count": 151,
   "metadata": {},
   "outputs": [
    {
     "data": {
      "text/plain": [
       "tensor([-1261.7211], grad_fn=<SumBackward1>)"
      ]
     },
     "execution_count": 151,
     "metadata": {},
     "output_type": "execute_result"
    }
   ],
   "source": [
    "my_energy( my_sampler.params.theta )"
   ]
  },
  {
   "cell_type": "code",
   "execution_count": 150,
   "metadata": {},
   "outputs": [
    {
     "data": {
      "text/plain": [
       "tensor([-17.0434], grad_fn=<MeanBackward1>)"
      ]
     },
     "execution_count": 150,
     "metadata": {},
     "output_type": "execute_result"
    }
   ],
   "source": [
    "my_sampler.params.rebatch( my_energy( my_sampler.params() ) )"
   ]
  },
  {
   "cell_type": "code",
   "execution_count": 276,
   "metadata": {},
   "outputs": [
    {
     "data": {
      "text/plain": [
       "'Jumper, John and Evans, Richard and Pritzel, Alexander and Green, Tim and Figurnov, Michael and Tunyasuvunakool, Kathryn and Ronneberger, Olaf and Bates, Russ and Žídek, Augustin and Bridgland, Alex and Meyer, Clemens and Kohl, Simon and Potapenko, Anna and Ballard, Andrew and Cowie, Andrew and Romera-Paredes, Bernardino and Nikolov, Stanislav and Jain, Rishub and Adler, Jonas and Back, Trevor and Petersen, Stig and Reiman, David and Steinegger, Martin and Pacholska, Michalina and Silver, David and Vinyals, Oriol and Senior, Andrew and Kavukcuoglu, Koray and Kohli, Pushmeet and Hassabis, Demis'"
      ]
     },
     "execution_count": 276,
     "metadata": {},
     "output_type": "execute_result"
    }
   ],
   "source": [
    "af2_auth = '''John Jumper, Richard Evans, Alexander Pritzel, Tim Green, Michael Figurnov, Kathryn Tunyasuvunakool, Olaf Ronneberger, Russ Bates, Augustin Žídek, Alex Bridgland, Clemens Meyer, Simon A A Kohl, Anna Potapenko, Andrew J Ballard, Andrew Cowie, Bernardino Romera-Paredes, Stanislav Nikolov, Rishub Jain, Jonas Adler, Trevor Back, Stig Petersen, David Reiman, Martin Steinegger, Michalina Pacholska, David Silver, Oriol Vinyals, Andrew W Senior, Koray Kavukcuoglu, Pushmeet Kohli, Demis Hassabis'''\n",
    "\n",
    "\" and \".join([ f'{x.split()[-1]}, {x.split()[0]}' for x in af2_auth.split(', ') ])"
   ]
  },
  {
   "cell_type": "code",
   "execution_count": 92,
   "metadata": {},
   "outputs": [],
   "source": [
    "seq_example = F.gumbel_softmax( sampled_theta[906,0], dim=0, hard=True ).t()[6:6+18].long().cpu().numpy()"
   ]
  },
  {
   "cell_type": "code",
   "execution_count": 91,
   "metadata": {},
   "outputs": [],
   "source": [
    "filter_example = motif_filter.squeeze().cpu().numpy()"
   ]
  },
  {
   "cell_type": "code",
   "execution_count": 96,
   "metadata": {},
   "outputs": [
    {
     "name": "stdout",
     "output_type": "stream",
     "text": [
      "\\begin{array}\n",
      "  0  &  1  &  0  &  0 \\\\\n",
      "  0  &  0  &  0  &  1 \\\\\n",
      "  0  &  0  &  0  &  1 \\\\\n",
      "  1  &  0  &  0  &  0 \\\\\n",
      "  0  &  0  &  0  &  1 \\\\\n",
      "  0  &  1  &  0  &  0 \\\\\n",
      "  0  &  0  &  0  &  1 \\\\\n",
      "  1  &  0  &  0  &  0 \\\\\n",
      "  1  &  0  &  0  &  0 \\\\\n",
      "  1  &  0  &  0  &  0 \\\\\n",
      "  0  &  0  &  0  &  1 \\\\\n",
      "  0  &  1  &  0  &  0 \\\\\n",
      "  0  &  1  &  0  &  0 \\\\\n",
      "  0  &  0  &  0  &  1 \\\\\n",
      "  0  &  0  &  1  &  0 \\\\\n",
      "  0  &  1  &  0  &  0 \\\\\n",
      "  1  &  0  &  0  &  0 \\\\\n",
      "  0  &  0  &  1  &  0 \n",
      "\\end{array}\n"
     ]
    }
   ],
   "source": [
    "import array_to_latex as a2l\n",
    "A = seq_example\n",
    "a2l.to_ltx(A, frmt = '{}', arraytype = 'array')"
   ]
  },
  {
   "cell_type": "code",
   "execution_count": 100,
   "metadata": {},
   "outputs": [
    {
     "name": "stdout",
     "output_type": "stream",
     "text": [
      "\\begin{array}\n",
      "  -0.15 &    0.72 &  -0.36 &  -0.57\\\\\n",
      "  -2.58 &  -0.62 &  -2.95 &    1.61\\\\\n",
      "  -1.96 & -10.28 & -10.28 &    1.90\\\\\n",
      "    2.00 & -10.28 & -10.28 & -10.28\\\\\n",
      " -10.28 & -10.28 & -10.28 &    2.00\\\\\n",
      " -10.28 &    2.00 & -10.28 & -10.28\\\\\n",
      "    0.73 &  -4.28 &  -4.47 &    1.17\\\\\n",
      "  -0.91 &    0.10 &    0.84 &  -0.72\\\\\n",
      "  -0.36 &  -0.03 &    0.01 &    0.31\\\\\n",
      "  -0.06 &  -0.14 &    0.29 &  -0.15\\\\\n",
      "    0.52 &  -0.13 &  -0.32 &  -0.23\\\\\n",
      "  -0.25 &  -0.00 &    0.47 &  -0.36\\\\\n",
      "    0.13 &  -0.12 &    0.24 &  -0.32\\\\\n",
      "    0.61 &  -0.26 &  -0.59 &  -0.03\\\\\n",
      "    0.16 &  -0.00 &    0.60 &  -1.45\\\\\n",
      "  -3.48 &    1.96 &  -5.69 & -10.28\\\\\n",
      "    1.91 & -10.28 & -10.28 &  -2.06\\\\\n",
      "  -2.94 &  -0.48 &    1.52 &  -1.78\n",
      "\\end{array}\n"
     ]
    }
   ],
   "source": [
    "import array_to_latex as a2l\n",
    "A = filter_example.T\n",
    "a2l.to_ltx(A, frmt = '{:6.2f}', arraytype = 'array')"
   ]
  },
  {
   "cell_type": "code",
   "execution_count": 107,
   "metadata": {},
   "outputs": [
    {
     "data": {
      "text/plain": [
       "tensor(15.6838)"
      ]
     },
     "execution_count": 107,
     "metadata": {},
     "output_type": "execute_result"
    }
   ],
   "source": [
    "(F.gumbel_softmax( sampled_theta[906,0], dim=0, hard=True )[:,6:6+18] * motif_filter.squeeze()).sum()"
   ]
  },
  {
   "cell_type": "code",
   "execution_count": 151,
   "metadata": {},
   "outputs": [
    {
     "name": "stdout",
     "output_type": "stream",
     "text": [
      "tensor(15.6838)\n"
     ]
    },
    {
     "data": {
      "text/plain": [
       "(<Figure size 478.8x180 with 1 Axes>,\n",
       " <AxesSubplot:xlabel='site', ylabel='height'>)"
      ]
     },
     "execution_count": 151,
     "metadata": {},
     "output_type": "execute_result"
    },
    {
     "data": {
      "image/png": "[encoded data removed]",
      "text/plain": [
       "<Figure size 478.8x180 with 1 Axes>"
      ]
     },
     "metadata": {
      "needs_background": "light"
     },
     "output_type": "display_data"
    }
   ],
   "source": [
    "i=6\n",
    "print((F.gumbel_softmax( sampled_theta[906,0], dim=0, hard=True )[:,i:i+18] * motif_filter.squeeze()).sum())\n",
    "tensor_to_dms(sampled_theta[906,0,:,i:i+18].add(2).mul(80), target='example_hit.png')"
   ]
  },
  {
   "cell_type": "code",
   "execution_count": 152,
   "metadata": {},
   "outputs": [
    {
     "name": "stdout",
     "output_type": "stream",
     "text": [
      "tensor(-15.5759)\n"
     ]
    },
    {
     "data": {
      "text/plain": [
       "(<Figure size 478.8x180 with 1 Axes>,\n",
       " <AxesSubplot:xlabel='site', ylabel='height'>)"
      ]
     },
     "execution_count": 152,
     "metadata": {},
     "output_type": "execute_result"
    },
    {
     "data": {
      "image/png": "[encoded data removed]",
      "text/plain": [
       "<Figure size 478.8x180 with 1 Axes>"
      ]
     },
     "metadata": {
      "needs_background": "light"
     },
     "output_type": "display_data"
    }
   ],
   "source": [
    "i=12\n",
    "print((F.gumbel_softmax( sampled_theta[906,0], dim=0, hard=True )[:,i:i+18] * motif_filter.squeeze()).sum())\n",
    "tensor_to_dms(sampled_theta[906,0,:,i:i+18].add(2).mul(80), target='example_miss.png')"
   ]
  }
 ],
 "metadata": {
  "kernelspec": {
   "display_name": "Python 3",
   "language": "python",
   "name": "python3"
  },
  "language_info": {
   "codemirror_mode": {
    "name": "ipython",
    "version": 3
   },
   "file_extension": ".py",
   "mimetype": "text/x-python",
   "name": "python",
   "nbconvert_exporter": "python",
   "pygments_lexer": "ipython3",
   "version": "3.7.10"
  }
 },
 "nbformat": 4,
 "nbformat_minor": 4
}
