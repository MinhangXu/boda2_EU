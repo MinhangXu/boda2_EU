{
 "cells": [
  {
   "cell_type": "code",
   "execution_count": 1,
   "metadata": {},
   "outputs": [],
   "source": [
    "import sys\n",
    "\n",
    "import numpy as np\n",
    "import torch\n",
    "import torch.nn as nn\n",
    "import torch.nn.functional as F\n",
    "import torch.autograd as ag\n",
    "from torch.distributions.categorical import Categorical\n"
   ]
  },
  {
   "cell_type": "code",
   "execution_count": 2,
   "metadata": {},
   "outputs": [],
   "source": [
    "from parameters import BasicParameters\n",
    "from nuts import NUTS3"
   ]
  },
  {
   "cell_type": "code",
   "execution_count": 3,
   "metadata": {},
   "outputs": [],
   "source": [
    "my_params = BasicParameters(\n",
    "    nn.Parameter(torch.randn([3,2,1])),\n",
    "    left_flank=torch.randn([3,2,2]),\n",
    "    right_flank=torch.randn([3,2,2]) \n",
    ")"
   ]
  },
  {
   "cell_type": "code",
   "execution_count": 4,
   "metadata": {},
   "outputs": [
    {
     "data": {
      "text/plain": [
       "tensor([[[-0.1142, -0.4008, -0.1074,  0.4499, -0.4895],\n",
       "         [-0.0029,  0.8730, -2.8936,  0.5281, -1.0204]],\n",
       "\n",
       "        [[ 1.5358,  1.3369,  0.1343, -0.5221,  0.2896],\n",
       "         [ 1.0553, -0.2518,  0.1042,  0.8339, -0.8317]],\n",
       "\n",
       "        [[-0.6116, -0.5087, -0.5341, -0.1156, -0.7292],\n",
       "         [ 1.3639,  1.3699, -2.0414, -0.3959,  1.5372]]],\n",
       "       grad_fn=<CatBackward>)"
      ]
     },
     "execution_count": 4,
     "metadata": {},
     "output_type": "execute_result"
    }
   ],
   "source": [
    "my_params.forward()"
   ]
  },
  {
   "cell_type": "code",
   "execution_count": 5,
   "metadata": {},
   "outputs": [],
   "source": [
    "def my_energy(in_tensor):\n",
    "    return in_tensor.pow(2).mean(dim=(1,2))"
   ]
  },
  {
   "cell_type": "code",
   "execution_count": 6,
   "metadata": {},
   "outputs": [
    {
     "data": {
      "text/plain": [
       "tensor([1.1083, 0.7096, 1.1887], grad_fn=<MeanBackward1>)"
      ]
     },
     "execution_count": 6,
     "metadata": {},
     "output_type": "execute_result"
    }
   ],
   "source": [
    "my_energy( my_params.forward() )"
   ]
  },
  {
   "cell_type": "code",
   "execution_count": 7,
   "metadata": {},
   "outputs": [],
   "source": [
    "my_sampler = NUTS3( my_params, my_energy )"
   ]
  },
  {
   "cell_type": "code",
   "execution_count": 8,
   "metadata": {},
   "outputs": [
    {
     "name": "stdout",
     "output_type": "stream",
     "text": [
      "tensor([[[-0.2118],\n",
      "         [-0.5361]],\n",
      "\n",
      "        [[-0.4070],\n",
      "         [-0.7517]],\n",
      "\n",
      "        [[-2.0998],\n",
      "         [-0.1409]]])\n",
      "tensor([[[-1.8698],\n",
      "         [-0.5579]],\n",
      "\n",
      "        [[-0.0570],\n",
      "         [ 0.5207]],\n",
      "\n",
      "        [[-0.0685],\n",
      "         [ 1.4281]]])\n",
      "Parameter containing:\n",
      "tensor([[[-0.1142],\n",
      "         [-0.0029]],\n",
      "\n",
      "        [[ 1.5358],\n",
      "         [ 1.0553]],\n",
      "\n",
      "        [[-0.6116],\n",
      "         [ 1.3639]]], requires_grad=True)\n"
     ]
    }
   ],
   "source": [
    "test_theta = torch.randn([3,2,1])\n",
    "test_r     = torch.randn([3,2,1])\n",
    "print(test_theta)\n",
    "print(test_r)\n",
    "print(my_sampler.params.theta)"
   ]
  },
  {
   "cell_type": "code",
   "execution_count": 9,
   "metadata": {},
   "outputs": [],
   "source": [
    "result = my_sampler.leapfrog(test_theta, test_r, 1e-3)"
   ]
  },
  {
   "cell_type": "code",
   "execution_count": 10,
   "metadata": {},
   "outputs": [
    {
     "name": "stdout",
     "output_type": "stream",
     "text": [
      "(tensor([[[-0.2137],\n",
      "         [-0.5367]],\n",
      "\n",
      "        [[-0.4071],\n",
      "         [-0.7512]],\n",
      "\n",
      "        [[-2.0998],\n",
      "         [-0.1395]]]), tensor([[[-1.8698],\n",
      "         [-0.5578]],\n",
      "\n",
      "        [[-0.0569],\n",
      "         [ 0.5208]],\n",
      "\n",
      "        [[-0.0681],\n",
      "         [ 1.4282]]]), tensor([1.1403, 0.4353, 1.4082], grad_fn=<MeanBackward1>))\n",
      "tensor([[[-0.2118],\n",
      "         [-0.5361]],\n",
      "\n",
      "        [[-0.4070],\n",
      "         [-0.7517]],\n",
      "\n",
      "        [[-2.0998],\n",
      "         [-0.1409]]])\n",
      "tensor([[[-1.8698],\n",
      "         [-0.5579]],\n",
      "\n",
      "        [[-0.0570],\n",
      "         [ 0.5207]],\n",
      "\n",
      "        [[-0.0685],\n",
      "         [ 1.4281]]])\n",
      "Parameter containing:\n",
      "tensor([[[-0.2137],\n",
      "         [-0.5367]],\n",
      "\n",
      "        [[-0.4071],\n",
      "         [-0.7512]],\n",
      "\n",
      "        [[-2.0998],\n",
      "         [-0.1395]]], requires_grad=True)\n"
     ]
    }
   ],
   "source": [
    "print(result)\n",
    "print(test_theta)\n",
    "print(test_r)\n",
    "print(my_sampler.params.theta)"
   ]
  },
  {
   "cell_type": "code",
   "execution_count": 11,
   "metadata": {},
   "outputs": [
    {
     "data": {
      "text/plain": [
       "(tensor([0.0023, 0.0806, 0.1081]),\n",
       " tensor([[[-0.2118],\n",
       "          [-0.5361]],\n",
       " \n",
       "         [[-0.4070],\n",
       "          [-0.7517]],\n",
       " \n",
       "         [[-2.0998],\n",
       "          [-0.1409]]]),\n",
       " tensor([[[ 3.0937],\n",
       "          [-0.3521]],\n",
       " \n",
       "         [[ 0.3903],\n",
       "          [-0.0836]],\n",
       " \n",
       "         [[-0.3162],\n",
       "          [-0.8425]]]),\n",
       " tensor([[[-0.2118],\n",
       "          [-0.5361]],\n",
       " \n",
       "         [[-0.4070],\n",
       "          [-0.7517]],\n",
       " \n",
       "         [[-2.0998],\n",
       "          [-0.1409]]]),\n",
       " tensor([[[ 3.0937],\n",
       "          [-0.3521]],\n",
       " \n",
       "         [[ 0.3903],\n",
       "          [-0.0836]],\n",
       " \n",
       "         [[-0.3162],\n",
       "          [-0.8425]]]),\n",
       " 0,\n",
       " tensor([[[-0.2118],\n",
       "          [-0.5361]],\n",
       " \n",
       "         [[-0.4070],\n",
       "          [-0.7517]],\n",
       " \n",
       "         [[-2.0998],\n",
       "          [-0.1409]]]),\n",
       " tensor([1, 1, 1]),\n",
       " tensor([1, 1, 1]))"
      ]
     },
     "execution_count": 11,
     "metadata": {},
     "output_type": "execute_result"
    }
   ],
   "source": [
    "init_vals = my_sampler.init_trajectory(test_theta)\n",
    "check_u, check_theta_r, check_r_r, check_theta_f, check_r_f, check_j, check_theta_m, check_n, check_s = init_vals\n",
    "init_vals"
   ]
  },
  {
   "cell_type": "code",
   "execution_count": 12,
   "metadata": {},
   "outputs": [
    {
     "data": {
      "text/plain": [
       "tensor([-1.])"
      ]
     },
     "execution_count": 12,
     "metadata": {},
     "output_type": "execute_result"
    }
   ],
   "source": [
    "v = torch.randn([1], dtype=torch.float, layout=test_theta.layout, device=test_theta.device) \\\n",
    "                  .ge(0.).mul(2.).add(-1.)\n",
    "v"
   ]
  },
  {
   "cell_type": "code",
   "execution_count": 13,
   "metadata": {},
   "outputs": [
    {
     "data": {
      "text/plain": [
       "torch.Size([3, 2, 1])"
      ]
     },
     "execution_count": 13,
     "metadata": {},
     "output_type": "execute_result"
    }
   ],
   "source": [
    "(check_theta_f - check_theta_r).shape"
   ]
  },
  {
   "cell_type": "code",
   "execution_count": 14,
   "metadata": {},
   "outputs": [
    {
     "data": {
      "text/plain": [
       "torch.Size([3, 2, 1])"
      ]
     },
     "execution_count": 14,
     "metadata": {},
     "output_type": "execute_result"
    }
   ],
   "source": [
    "check_r_r.shape"
   ]
  },
  {
   "cell_type": "code",
   "execution_count": 15,
   "metadata": {},
   "outputs": [
    {
     "data": {
      "text/plain": [
       "tensor([0., 0., 0.])"
      ]
     },
     "execution_count": 15,
     "metadata": {},
     "output_type": "execute_result"
    }
   ],
   "source": [
    "torch.einsum('bs,bs->b', (check_theta_f - check_theta_r).flatten(1), check_r_r.flatten(1))"
   ]
  },
  {
   "cell_type": "code",
   "execution_count": 16,
   "metadata": {},
   "outputs": [
    {
     "name": "stdout",
     "output_type": "stream",
     "text": [
      "tensor([[[-0.2118],\n",
      "         [-0.5361]],\n",
      "\n",
      "        [[-0.4070],\n",
      "         [-0.7517]],\n",
      "\n",
      "        [[-2.0998],\n",
      "         [-0.1409]]])\n"
     ]
    }
   ],
   "source": [
    "print(test_theta)"
   ]
  },
  {
   "cell_type": "code",
   "execution_count": 17,
   "metadata": {},
   "outputs": [
    {
     "data": {
      "text/plain": [
       "(tensor([[[-0.3239],\n",
       "          [-0.5694]],\n",
       " \n",
       "         [[-0.4103],\n",
       "          [-0.7202]],\n",
       " \n",
       "         [[-2.1031],\n",
       "          [-0.0552]]]),\n",
       " tensor([[[-1.8666],\n",
       "          [-0.5513]],\n",
       " \n",
       "         [[-0.0521],\n",
       "          [ 0.5295]],\n",
       " \n",
       "         [[-0.0433],\n",
       "          [ 1.4293]]]),\n",
       " tensor([[[-0.2866],\n",
       "          [-0.5583]],\n",
       " \n",
       "         [[-0.4087],\n",
       "          [-0.7360]],\n",
       " \n",
       "         [[-2.1004],\n",
       "          [-0.1266]]]),\n",
       " tensor([[[-1.8694],\n",
       "          [-0.5568]],\n",
       " \n",
       "         [[-0.0561],\n",
       "          [ 0.5222]],\n",
       " \n",
       "         [[-0.0643],\n",
       "          [ 1.4284]]]),\n",
       " tensor([[[-0.2866],\n",
       "          [-0.5583]],\n",
       " \n",
       "         [[-0.4087],\n",
       "          [-0.7360]],\n",
       " \n",
       "         [[-2.1004],\n",
       "          [-0.1266]]]),\n",
       " tensor([6, 6, 0]),\n",
       " tensor([0, 0, 0]))"
      ]
     },
     "execution_count": 17,
     "metadata": {},
     "output_type": "execute_result"
    }
   ],
   "source": [
    "my_sampler.buildtree(test_theta, test_r, init_vals[0], v, 3, 1e-2)"
   ]
  },
  {
   "cell_type": "code",
   "execution_count": 18,
   "metadata": {},
   "outputs": [
    {
     "name": "stdout",
     "output_type": "stream",
     "text": [
      "tensor([[[-0.2118],\n",
      "         [-0.5361]],\n",
      "\n",
      "        [[-0.4070],\n",
      "         [-0.7517]],\n",
      "\n",
      "        [[-2.0998],\n",
      "         [-0.1409]]])\n"
     ]
    }
   ],
   "source": [
    "print(test_theta)"
   ]
  },
  {
   "cell_type": "code",
   "execution_count": 19,
   "metadata": {},
   "outputs": [],
   "source": [
    "my_samples = my_sampler.collect_samples(1e-3, 10)"
   ]
  },
  {
   "cell_type": "code",
   "execution_count": 20,
   "metadata": {},
   "outputs": [
    {
     "data": {
      "text/plain": [
       "[tensor([[[-0.3239],\n",
       "          [-0.5694]],\n",
       " \n",
       "         [[-0.4103],\n",
       "          [-0.7202]],\n",
       " \n",
       "         [[-2.1031],\n",
       "          [-0.0552]]]),\n",
       " tensor([[[-0.3239],\n",
       "          [-0.5694]],\n",
       " \n",
       "         [[-0.4103],\n",
       "          [-0.7202]],\n",
       " \n",
       "         [[-2.1031],\n",
       "          [-0.0552]]]),\n",
       " tensor([[[-0.3239],\n",
       "          [-0.5694]],\n",
       " \n",
       "         [[-0.4103],\n",
       "          [-0.7202]],\n",
       " \n",
       "         [[-2.1031],\n",
       "          [-0.0552]]]),\n",
       " tensor([[[-0.3239],\n",
       "          [-0.5694]],\n",
       " \n",
       "         [[-0.4103],\n",
       "          [-0.7202]],\n",
       " \n",
       "         [[-2.1031],\n",
       "          [-0.0552]]]),\n",
       " tensor([[[-0.3239],\n",
       "          [-0.5694]],\n",
       " \n",
       "         [[-0.4103],\n",
       "          [-0.7202]],\n",
       " \n",
       "         [[-2.1031],\n",
       "          [-0.0552]]]),\n",
       " tensor([[[-0.3239],\n",
       "          [-0.5694]],\n",
       " \n",
       "         [[-0.4103],\n",
       "          [-0.7202]],\n",
       " \n",
       "         [[-2.1031],\n",
       "          [-0.0552]]]),\n",
       " tensor([[[-0.3239],\n",
       "          [-0.5694]],\n",
       " \n",
       "         [[-0.4103],\n",
       "          [-0.7202]],\n",
       " \n",
       "         [[-2.1031],\n",
       "          [-0.0552]]]),\n",
       " tensor([[[-0.3239],\n",
       "          [-0.5694]],\n",
       " \n",
       "         [[-0.4103],\n",
       "          [-0.7202]],\n",
       " \n",
       "         [[-2.1031],\n",
       "          [-0.0552]]]),\n",
       " tensor([[[-0.3239],\n",
       "          [-0.5694]],\n",
       " \n",
       "         [[-0.4103],\n",
       "          [-0.7202]],\n",
       " \n",
       "         [[-2.1031],\n",
       "          [-0.0552]]]),\n",
       " tensor([[[-0.3239],\n",
       "          [-0.5694]],\n",
       " \n",
       "         [[-0.4103],\n",
       "          [-0.7202]],\n",
       " \n",
       "         [[-2.1031],\n",
       "          [-0.0552]]])]"
      ]
     },
     "execution_count": 20,
     "metadata": {},
     "output_type": "execute_result"
    }
   ],
   "source": [
    "my_samples"
   ]
  },
  {
   "cell_type": "code",
   "execution_count": 21,
   "metadata": {},
   "outputs": [
    {
     "data": {
      "text/plain": [
       "BasicParameters()"
      ]
     },
     "execution_count": 21,
     "metadata": {},
     "output_type": "execute_result"
    }
   ],
   "source": [
    "my_sampler.params.cuda()"
   ]
  },
  {
   "cell_type": "code",
   "execution_count": 22,
   "metadata": {},
   "outputs": [
    {
     "data": {
      "text/plain": [
       "(tensor([[[-0.2492],\n",
       "          [-0.5472]],\n",
       " \n",
       "         [[-0.4082],\n",
       "          [-0.7412]],\n",
       " \n",
       "         [[-2.1011],\n",
       "          [-0.1123]]], device='cuda:0'),\n",
       " tensor([[[-1.8689],\n",
       "          [-0.5558]],\n",
       " \n",
       "         [[-0.0553],\n",
       "          [ 0.5237]],\n",
       " \n",
       "         [[-0.0601],\n",
       "          [ 1.4286]]], device='cuda:0'),\n",
       " tensor([[[-0.2305],\n",
       "          [-0.5417]],\n",
       " \n",
       "         [[-0.4076],\n",
       "          [-0.7465]],\n",
       " \n",
       "         [[-2.1004],\n",
       "          [-0.1266]]], device='cuda:0'),\n",
       " tensor([[[-1.8694],\n",
       "          [-0.5568]],\n",
       " \n",
       "         [[-0.0561],\n",
       "          [ 0.5222]],\n",
       " \n",
       "         [[-0.0643],\n",
       "          [ 1.4284]]], device='cuda:0'),\n",
       " tensor([[[-0.2305],\n",
       "          [-0.5417]],\n",
       " \n",
       "         [[-0.4076],\n",
       "          [-0.7465]],\n",
       " \n",
       "         [[-2.1004],\n",
       "          [-0.1266]]], device='cuda:0'),\n",
       " tensor([2, 2, 0], device='cuda:0'),\n",
       " tensor([0, 0, 0], device='cuda:0'))"
      ]
     },
     "execution_count": 22,
     "metadata": {},
     "output_type": "execute_result"
    }
   ],
   "source": [
    "my_sampler.buildtree(test_theta.cuda(), test_r.cuda(), init_vals[0].cuda(), v.cuda(), 3, 1e-2)"
   ]
  },
  {
   "cell_type": "code",
   "execution_count": null,
   "metadata": {},
   "outputs": [],
   "source": []
  },
  {
   "cell_type": "code",
   "execution_count": null,
   "metadata": {},
   "outputs": [],
   "source": []
  },
  {
   "cell_type": "code",
   "execution_count": null,
   "metadata": {},
   "outputs": [],
   "source": []
  },
  {
   "cell_type": "code",
   "execution_count": null,
   "metadata": {},
   "outputs": [],
   "source": []
  },
  {
   "cell_type": "code",
   "execution_count": null,
   "metadata": {},
   "outputs": [],
   "source": []
  },
  {
   "cell_type": "code",
   "execution_count": null,
   "metadata": {},
   "outputs": [],
   "source": []
  },
  {
   "cell_type": "code",
   "execution_count": null,
   "metadata": {},
   "outputs": [],
   "source": []
  },
  {
   "cell_type": "code",
   "execution_count": null,
   "metadata": {},
   "outputs": [],
   "source": []
  },
  {
   "cell_type": "code",
   "execution_count": null,
   "metadata": {},
   "outputs": [],
   "source": []
  },
  {
   "cell_type": "code",
   "execution_count": null,
   "metadata": {},
   "outputs": [],
   "source": []
  },
  {
   "cell_type": "code",
   "execution_count": null,
   "metadata": {},
   "outputs": [],
   "source": []
  },
  {
   "cell_type": "code",
   "execution_count": null,
   "metadata": {},
   "outputs": [],
   "source": []
  },
  {
   "cell_type": "code",
   "execution_count": null,
   "metadata": {},
   "outputs": [],
   "source": []
  },
  {
   "cell_type": "code",
   "execution_count": null,
   "metadata": {},
   "outputs": [],
   "source": []
  },
  {
   "cell_type": "code",
   "execution_count": null,
   "metadata": {},
   "outputs": [],
   "source": []
  },
  {
   "cell_type": "code",
   "execution_count": null,
   "metadata": {},
   "outputs": [],
   "source": []
  },
  {
   "cell_type": "code",
   "execution_count": null,
   "metadata": {},
   "outputs": [],
   "source": []
  }
 ],
 "metadata": {
  "kernelspec": {
   "display_name": "Python 3",
   "language": "python",
   "name": "python3"
  },
  "language_info": {
   "codemirror_mode": {
    "name": "ipython",
    "version": 3
   },
   "file_extension": ".py",
   "mimetype": "text/x-python",
   "name": "python",
   "nbconvert_exporter": "python",
   "pygments_lexer": "ipython3",
   "version": "3.7.8"
  }
 },
 "nbformat": 4,
 "nbformat_minor": 4
}
