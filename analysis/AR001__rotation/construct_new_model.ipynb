{
 "cells": [
  {
   "cell_type": "code",
   "execution_count": 2,
   "id": "ec118925-12e7-4808-9e5f-4c7c0a875812",
   "metadata": {},
   "outputs": [],
   "source": [
    "import torch\n",
    "import lightning.pytorch as ptl\n",
    "from lightning.pytorch.callbacks import ModelCheckpoint, LearningRateMonitor\n",
    "from lightning.pytorch.callbacks.early_stopping import EarlyStopping\n",
    "\n",
    "import boda"
   ]
  },
  {
   "cell_type": "markdown",
   "id": "99c19de6-c871-4378-8144-f6580c3850c2",
   "metadata": {},
   "source": [
    "# Set up"
   ]
  },
  {
   "cell_type": "markdown",
   "id": "1ca67283-514e-40a6-a673-2f15665d61b8",
   "metadata": {
    "tags": []
   },
   "source": [
    "## Pick modules\n",
    "Pick modules to define:\n",
    "1. The data, how it's preprocessed and train/val/test split\n",
    "2. The model, the architecture setup, loss function, etc.\n",
    "3. The graph, how the data is used to train the model (i.e. training loop)"
   ]
  },
  {
   "cell_type": "code",
   "execution_count": 3,
   "id": "bd28d039-763d-4e2f-a89e-8246d1d96dc6",
   "metadata": {},
   "outputs": [],
   "source": [
    "data_module = boda.data.SeqDataModule\n",
    "model_module= boda.model.BassetBranched\n",
    "graph_module= boda.graph.CNNBasicTraining"
   ]
  },
  {
   "cell_type": "markdown",
   "id": "914404be-3b63-4930-898a-7bc91c8bbf9e",
   "metadata": {
    "tags": []
   },
   "source": [
    "## Dummy dataset generation for testing purposes"
   ]
  },
  {
   "cell_type": "code",
   "execution_count": 4,
   "id": "73b4d496-8f80-4ec1-a0d2-4ef769f6003a",
   "metadata": {},
   "outputs": [
    {
     "name": "stdout",
     "output_type": "stream",
     "text": [
      "Dummy train with 200 sequences saved to 'dummy_train.tsv'.\n",
      "Dummy test with 200 sequences saved to 'dummy_test.tsv'.\n",
      "Dummy val with 200 sequences saved to 'dummy_val.tsv'.\n"
     ]
    }
   ],
   "source": [
    "import random\n",
    "import csv\n",
    "\n",
    "random.seed(42)\n",
    "\n",
    "# Function to generate random DNA sequence\n",
    "def generate_dna_sequence(length):\n",
    "    return ''.join(random.choice('ACGT') for _ in range(length))\n",
    "\n",
    "# Function to generate fake numerical score\n",
    "def generate_numerical_score():\n",
    "    return random.uniform(-10, 10)\n",
    "\n",
    "# Number of sequences in the dataset\n",
    "num_sequences = 200\n",
    "\n",
    "# Length of DNA sequences\n",
    "sequence_length = 200\n",
    "\n",
    "header = [\"Sequence\", \"Random/Fake Score\"]  # Define the header\n",
    "\n",
    "## TRAIN\n",
    "# Generating dummy dataset\n",
    "dummy_train = []\n",
    "for _ in range(num_sequences):\n",
    "    sequence = generate_dna_sequence(sequence_length)\n",
    "    score = generate_numerical_score()\n",
    "    dummy_train.append((sequence, score))\n",
    "\n",
    "traintsv_file = \"dummy_train.tsv\"\n",
    "with open(traintsv_file, 'w', newline='') as file:\n",
    "    writer = csv.writer(file, delimiter='\\t')\n",
    "    writer.writerow(header)  # Write the header row\n",
    "    for sequence, score in dummy_train:\n",
    "        writer.writerow([sequence, score])\n",
    "\n",
    "## TEST\n",
    "# Generating dummy dataset\n",
    "dummy_test = []\n",
    "for _ in range(num_sequences):\n",
    "    sequence = generate_dna_sequence(sequence_length)\n",
    "    score = generate_numerical_score()\n",
    "    dummy_test.append((sequence, score))\n",
    "\n",
    "testtsv_file = \"dummy_test.tsv\"\n",
    "with open(testtsv_file, 'w', newline='') as file:\n",
    "    writer = csv.writer(file, delimiter='\\t')\n",
    "    writer.writerow(header)  # Write the header row\n",
    "    for sequence, score in dummy_test:\n",
    "        writer.writerow([sequence, score])\n",
    "\n",
    "## VALIDATE\n",
    "# Generating dummy dataset\n",
    "dummy_val = []\n",
    "for _ in range(num_sequences):\n",
    "    sequence = generate_dna_sequence(sequence_length)\n",
    "    score = generate_numerical_score()\n",
    "    dummy_val.append((sequence, score))\n",
    "\n",
    "valtsv_file = \"dummy_val.tsv\"\n",
    "with open(valtsv_file, 'w', newline='') as file:\n",
    "    writer = csv.writer(file, delimiter='\\t')\n",
    "    writer.writerow(header)  # Write the header row\n",
    "    for sequence, score in dummy_val:\n",
    "        writer.writerow([sequence, score])\n",
    "\n",
    "print(f\"Dummy train with {num_sequences} sequences saved to '{traintsv_file}'.\")\n",
    "print(f\"Dummy test with {num_sequences} sequences saved to '{testtsv_file}'.\")\n",
    "print(f\"Dummy val with {num_sequences} sequences saved to '{valtsv_file}'.\")"
   ]
  },
  {
   "cell_type": "markdown",
   "id": "2aae98f7-b611-4502-96af-437b481457c8",
   "metadata": {},
   "source": [
    "## Initalize Data and Model\n",
    "I added chr1 to test and chr2 to val to speed up this example. I also removed the reverse complmentat data augmentation."
   ]
  },
  {
   "cell_type": "code",
   "execution_count": 5,
   "id": "624f6e3b-f87a-43eb-a9e5-be5d735cba8e",
   "metadata": {},
   "outputs": [
    {
     "ename": "TypeError",
     "evalue": "__init__() got an unexpected keyword argument 'use_revcomp'",
     "output_type": "error",
     "traceback": [
      "\u001b[0;31m---------------------------------------------------------------------------\u001b[0m",
      "\u001b[0;31mTypeError\u001b[0m                                 Traceback (most recent call last)",
      "\u001b[0;32m/tmp/ipykernel_73/299551170.py\u001b[0m in \u001b[0;36m<module>\u001b[0;34m\u001b[0m\n\u001b[1;32m      5\u001b[0m     \u001b[0mright_flank\u001b[0m \u001b[0;34m=\u001b[0m \u001b[0mboda\u001b[0m\u001b[0;34m.\u001b[0m\u001b[0mcommon\u001b[0m\u001b[0;34m.\u001b[0m\u001b[0mconstants\u001b[0m\u001b[0;34m.\u001b[0m\u001b[0mMPRA_DOWNSTREAM\u001b[0m\u001b[0;34m[\u001b[0m\u001b[0;34m:\u001b[0m\u001b[0;36m200\u001b[0m\u001b[0;34m]\u001b[0m\u001b[0;34m,\u001b[0m\u001b[0;34m\u001b[0m\u001b[0;34m\u001b[0m\u001b[0m\n\u001b[1;32m      6\u001b[0m     \u001b[0mleft_flank\u001b[0m \u001b[0;34m=\u001b[0m \u001b[0mboda\u001b[0m\u001b[0;34m.\u001b[0m\u001b[0mcommon\u001b[0m\u001b[0;34m.\u001b[0m\u001b[0mconstants\u001b[0m\u001b[0;34m.\u001b[0m\u001b[0mMPRA_UPSTREAM\u001b[0m\u001b[0;34m[\u001b[0m\u001b[0;34m-\u001b[0m\u001b[0;36m200\u001b[0m\u001b[0;34m:\u001b[0m\u001b[0;34m]\u001b[0m\u001b[0;34m,\u001b[0m\u001b[0;34m\u001b[0m\u001b[0;34m\u001b[0m\u001b[0m\n\u001b[0;32m----> 7\u001b[0;31m     \u001b[0muse_revcomp\u001b[0m \u001b[0;34m=\u001b[0m \u001b[0;32mTrue\u001b[0m\u001b[0;34m\u001b[0m\u001b[0;34m\u001b[0m\u001b[0m\n\u001b[0m\u001b[1;32m      8\u001b[0m )\n\u001b[1;32m      9\u001b[0m \u001b[0;34m\u001b[0m\u001b[0m\n",
      "\u001b[0;31mTypeError\u001b[0m: __init__() got an unexpected keyword argument 'use_revcomp'"
     ]
    }
   ],
   "source": [
    "data = data_module(\n",
    "    train_file = \"/home/ubuntu/boda2/analysis/AR001__rotation/dummy_train.tsv\",\n",
    "    test_file = \"/home/ubuntu/boda2/analysis/AR001__rotation/dummy_test.tsv\",\n",
    "    val_file = \"/home/ubuntu/boda2/analysis/AR001__rotation/dummy_val.tsv\",\n",
    "    right_flank = boda.common.constants.MPRA_DOWNSTREAM[:200],\n",
    "    left_flank = boda.common.constants.MPRA_UPSTREAM[-200:],\n",
    "    use_revcomp = True\n",
    ")\n",
    "\n",
    "model = model_module(\n",
    "    n_outputs=2, \n",
    "    n_linear_layers=1, linear_channels=1000,\n",
    "    linear_activation='ReLU', linear_dropout_p=0.12, \n",
    "    n_branched_layers=3, branched_channels=140, \n",
    "    branched_activation='ReLU', branched_dropout_p=0.56, \n",
    "    loss_criterion='L1KLmixed', kl_scale=5.0\n",
    ")"
   ]
  },
  {
   "cell_type": "markdown",
   "id": "4893e23c-e199-4785-99fc-fe9931585968",
   "metadata": {},
   "source": [
    "## Append Graph to Model\n",
    "Augment the model class to append functions from the graph module. A downside to this structure is that you need to make sure all relevent Graph args are defined (even if None is an acceptable default). This is because the `__init__` block in the Graph class doesn't run."
   ]
  },
  {
   "cell_type": "code",
   "execution_count": null,
   "id": "31ebbdf8-c962-4287-b460-c9da88e93114",
   "metadata": {},
   "outputs": [],
   "source": [
    "graph_args = {\n",
    "    'optimizer': 'Adam', \n",
    "    'optimizer_args': {\n",
    "        'lr': 0.0033, 'betas':[0.9, 0.999], \n",
    "        'weight_decay': 3.43e-4, 'amsgrad': True\n",
    "    },\n",
    "    'scheduler': 'CosineAnnealingWarmRestarts', \n",
    "    'scheduler_monitor': None, \n",
    "    'scheduler_interval': 'step',\n",
    "    'scheduler_args': {\n",
    "        'T_0': 4096,\n",
    "    }\n",
    "}\n",
    "\n",
    "model.__class__ = type(\n",
    "    'BODA_module',\n",
    "    (model_module,graph_module),\n",
    "    graph_args\n",
    ")"
   ]
  },
  {
   "cell_type": "code",
   "execution_count": null,
   "id": "cad28b57-8f50-4389-8a84-e646c07792ee",
   "metadata": {},
   "outputs": [],
   "source": [
    "graph = graph_module(**graph_args)\n",
    "graph.training_step"
   ]
  },
  {
   "cell_type": "code",
   "execution_count": null,
   "id": "960cce4f-5f60-40ce-a9f6-db792bb05a7d",
   "metadata": {},
   "outputs": [],
   "source": [
    "model.training_step"
   ]
  },
  {
   "cell_type": "code",
   "execution_count": null,
   "id": "e22d5c9c-9f8d-4361-a190-85444aa6c492",
   "metadata": {},
   "outputs": [],
   "source": [
    "ptl.__version__"
   ]
  },
  {
   "cell_type": "code",
   "execution_count": null,
   "id": "efdf630f-7581-4135-a4e9-24cdc433ff0f",
   "metadata": {},
   "outputs": [],
   "source": [
    "model(torch.randn(10,4,600))"
   ]
  },
  {
   "cell_type": "code",
   "execution_count": null,
   "id": "d239baf3-528a-40f6-9fd1-53b5082d3989",
   "metadata": {},
   "outputs": [],
   "source": [
    "boda.data.__file__"
   ]
  },
  {
   "cell_type": "markdown",
   "id": "90002f10-7e19-43d0-a065-af48622cc594",
   "metadata": {},
   "source": [
    "## Lightning trainer\n",
    "Normally we train for more epochs, but reduced in this example"
   ]
  },
  {
   "cell_type": "code",
   "execution_count": null,
   "id": "7eeaabe9-cd76-4c96-b27d-c9d7e7774f23",
   "metadata": {},
   "outputs": [],
   "source": [
    "checkpoint_callback = ModelCheckpoint(\n",
    "    save_top_k=1, \n",
    "    monitor='prediction_mean_spearman', \n",
    "    mode='max'\n",
    ")\n",
    "\n",
    "stopping_callback = EarlyStopping(\n",
    "    monitor='prediction_mean_spearman', \n",
    "    patience=5,\n",
    "    mode='max'\n",
    ")\n",
    "\n",
    "trainer = ptl.Trainer(\n",
    "    accelerator='gpu', devices=1, \n",
    "    min_epochs=5, max_epochs=20, \n",
    "    precision=16, callbacks= [\n",
    "        checkpoint_callback,\n",
    "        stopping_callback\n",
    "    ]\n",
    ")"
   ]
  },
  {
   "cell_type": "markdown",
   "id": "ed051228-22c9-428f-a50e-6cadaecf5d66",
   "metadata": {},
   "source": [
    "## Train model"
   ]
  },
  {
   "cell_type": "code",
   "execution_count": null,
   "id": "13d673c3-38bf-47a6-82dd-79683e8198b6",
   "metadata": {},
   "outputs": [],
   "source": [
    "trainer.fit(model, data)"
   ]
  },
  {
   "cell_type": "code",
   "execution_count": null,
   "id": "b1bf75a6-1237-410f-9da0-7650c58cf327",
   "metadata": {},
   "outputs": [],
   "source": [
    "import tempfile\n",
    "import re\n",
    "import sys\n",
    "import os\n",
    "\n",
    "def set_best(my_model, callbacks):\n",
    "    \"\"\"\n",
    "    Set the best model checkpoint for the provided model.\n",
    "\n",
    "    This function sets the state of the provided model to the state of the best checkpoint,\n",
    "    as determined by the `ModelCheckpoint` callback.\n",
    "\n",
    "    Args:\n",
    "        my_model (nn.Module): The model to be updated.\n",
    "        callbacks (dict): Dictionary of callbacks, including 'model_checkpoint'.\n",
    "\n",
    "    Returns:\n",
    "        nn.Module: The updated model.\n",
    "    \"\"\"\n",
    "    with tempfile.TemporaryDirectory() as tmpdirname:\n",
    "        try:\n",
    "            best_path = callbacks['model_checkpoint'].best_model_path\n",
    "            get_epoch = re.search('epoch=(\\d*)', best_path).group(1)\n",
    "            if 'gs://' in best_path:\n",
    "                subprocess.call(['gsutil','cp',best_path,tmpdirname])\n",
    "                best_path = os.path.join( tmpdirname, os.path.basename(best_path) )\n",
    "            print(f'Best model stashed at: {best_path}', file=sys.stderr)\n",
    "            print(f'Exists: {os.path.isfile(best_path)}', file=sys.stderr)\n",
    "            ckpt = torch.load( best_path )\n",
    "            my_model.load_state_dict( ckpt['state_dict'] )\n",
    "            print(f'Setting model from epoch: {get_epoch}', file=sys.stderr)\n",
    "        except KeyError:\n",
    "            print('Setting most recent model', file=sys.stderr)\n",
    "    return my_model\n",
    "\n",
    "model = set_best(model, {'model_checkpoint': checkpoint_callback})"
   ]
  },
  {
   "cell_type": "markdown",
   "id": "548346c6-110a-4f1e-9b20-30cccd1b8177",
   "metadata": {},
   "source": [
    "## Test model"
   ]
  },
  {
   "cell_type": "code",
   "execution_count": null,
   "id": "8a2a9fde-fc16-4fd8-952b-184d4adcfe64",
   "metadata": {},
   "outputs": [],
   "source": [
    "test_path = data.test_file"
   ]
  },
  {
   "cell_type": "code",
   "execution_count": null,
   "id": "925a4341-aaf7-455f-8891-e515aba903f2",
   "metadata": {},
   "outputs": [],
   "source": [
    "with open(fn_in,'r') as f:\n",
    "    seq_tensor = torch.stack([ boda.common.utils.dna2tensor(line.split()[0]) for line in f ])"
   ]
  },
  {
   "cell_type": "code",
   "execution_count": null,
   "id": "fb54b70c-c336-4627-9222-e3b1b366cac5",
   "metadata": {},
   "outputs": [],
   "source": []
  }
 ],
 "metadata": {
  "kernelspec": {
   "display_name": "Python 3 (ipykernel)",
   "language": "python",
   "name": "python3"
  },
  "language_info": {
   "codemirror_mode": {
    "name": "ipython",
    "version": 3
   },
   "file_extension": ".py",
   "mimetype": "text/x-python",
   "name": "python",
   "nbconvert_exporter": "python",
   "pygments_lexer": "ipython3",
   "version": "3.7.12"
  }
 },
 "nbformat": 4,
 "nbformat_minor": 5
}
