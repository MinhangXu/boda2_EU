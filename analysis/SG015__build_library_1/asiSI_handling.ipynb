{
 "cells": [
  {
   "cell_type": "code",
   "execution_count": 1,
   "id": "ba8f112e-8eca-48a6-b83b-e4e80b416953",
   "metadata": {},
   "outputs": [],
   "source": [
    "import os\n",
    "import sys\n",
    "import re\n",
    "import time\n",
    "import yaml\n",
    "import shutil\n",
    "import argparse\n",
    "import tarfile\n",
    "import tempfile\n",
    "import random\n",
    "import subprocess\n",
    "import copy\n",
    "import functools\n",
    "\n",
    "import re\n",
    "\n",
    "import numpy as np\n",
    "import pandas as pd\n",
    "\n",
    "from tqdm import tqdm\n",
    "\n",
    "import torch\n",
    "\n",
    "import boda\n",
    "from boda.generator.parameters import BasicParameters\n",
    "from boda.common import utils\n",
    "from boda.common.utils import set_best, save_model, unpack_artifact, model_fn\n",
    "\n",
    "import hypertune\n",
    "\n",
    "import matplotlib.pyplot as plt\n",
    "import seaborn as sns\n",
    "\n",
    "from statsmodels.graphics.tsaplots import plot_acf\n",
    "\n",
    "from scipy import spatial\n",
    "from scipy.cluster import hierarchy"
   ]
  },
  {
   "cell_type": "code",
   "execution_count": 2,
   "id": "fabc1938-6966-4ee7-892e-6ca62acf0a8e",
   "metadata": {},
   "outputs": [],
   "source": [
    "def cloud_load(func):\n",
    "    @functools.wraps(func)\n",
    "    def wrapper_decorator(*args, **kwargs):\n",
    "        print(f'loading file from {args[0]}', file=sys.stderr)\n",
    "        if 'gs://' == args[0][:5]:\n",
    "            args = copy.deepcopy(list(args))\n",
    "            with tempfile.TemporaryDirectory() as tempdir:\n",
    "                temp_loc = os.path.join(tempdir, os.path.basename(args[0]))\n",
    "                subprocess.check_call(['gsutil','cp',args[0], temp_loc])\n",
    "                args[0] = temp_loc\n",
    "                value = func(*args, **kwargs)\n",
    "        else:\n",
    "            value = func(*args, **kwargs)\n",
    "        print('Success', file=sys.stderr)\n",
    "        return value\n",
    "    return wrapper_decorator\n",
    "\n",
    "def cloud_dump(func):\n",
    "    @functools.wraps(func)\n",
    "    def wrapper_decorator(*args, **kwargs):\n",
    "        print(f'dumping file to {args[0]}', file=sys.stderr)\n",
    "        if 'gs://' == args[0][:5]:\n",
    "            args = copy.deepcopy(list(args))\n",
    "            remote_loc = copy.deepcopy(args[0])\n",
    "            with tempfile.TemporaryDirectory() as tempdir:\n",
    "                temp_loc = os.path.join(tempdir, os.path.basename(args[0]))\n",
    "                args[0] = temp_loc\n",
    "                value = func(*args, **kwargs)\n",
    "                subprocess.check_call(['gsutil','cp',temp_loc,remote_loc])\n",
    "        else:\n",
    "            value = func(*args, **kwargs)\n",
    "        print('Success', file=sys.stderr)\n",
    "        return value\n",
    "    return wrapper_decorator\n",
    "\n",
    "@cloud_load\n",
    "def load_fasta(fasta_fn):\n",
    "    data = {'id': [], 'sequence': []}\n",
    "    with open(fasta_fn, 'r') as f:\n",
    "        for i, line in enumerate(f):\n",
    "            if i % 2 == 0:\n",
    "                data['id'].append(line.rstrip())\n",
    "            else:\n",
    "                data['sequence'].append(line.rstrip())\n",
    "    return pd.DataFrame(data)\n",
    "\n",
    "@cloud_dump\n",
    "def pandas_to_fasta(fasta_fn, data, carat_field='id', sequence_field='sequence'):\n",
    "    with open(fasta_fn, 'w') as f:\n",
    "        for idx, line in data.iterrows():\n",
    "            print(line[carat_field], file=f)\n",
    "            print(line[sequence_field], file=f)\n",
    "    return None"
   ]
  },
  {
   "cell_type": "code",
   "execution_count": 3,
   "id": "ed41c8a0-5b8e-4492-ae84-6be8a7d2cd63",
   "metadata": {},
   "outputs": [],
   "source": [
    "def check_asiSI(sequence):\n",
    "    asiSI = 'GCGATCGC'\n",
    "    if asiSI[1:] == sequence[:7].upper():\n",
    "        return True\n",
    "    elif asiSI[:-1] == sequence[-7:].upper():\n",
    "        return True\n",
    "    elif asiSI in sequence.upper():\n",
    "        return True\n",
    "    else:\n",
    "        return False\n"
   ]
  },
  {
   "cell_type": "markdown",
   "id": "94144b05-7adc-42e9-811a-fa027bb7f629",
   "metadata": {},
   "source": [
    "# DHS FASTAs"
   ]
  },
  {
   "cell_type": "code",
   "execution_count": 4,
   "id": "8036f488-4937-41a6-a961-d3f06649f3c6",
   "metadata": {},
   "outputs": [],
   "source": [
    "K562_update = [\n",
    "    {'id': '>control_DHS_K_11088::chr11:65508340-65508520', 'sequence': 'TCTCTACTACACACACACACACACACACACACACACACACACACACACACACAATTTGCTGGGCGTGGTGGAGGGCGCCTGTAGTCCTAGCTACTCGTGAGGCTGAGGCAGGAGAATGGCGTGAACCTGGGAGGCGGAGCTTGCCGTGAGGTGAGATCGGGCCACTGCACTCCAGCCTGGGCGACAGAGCGAGACTCCGT'}\n",
    "]\n",
    "\n",
    "HEPG2_update=[]\n",
    "\n",
    "SKNSH_update=[\n",
    "    {'id': '>control_DHS_S_42234::chrX:13377400-13377428', 'sequence': 'CCTTCGTATCACGCCTTTCCAGTGAGTAAGATCATCTAGATAGATTCTCCAAAAGAAATAACCCAGTAAGGGAGGGGCAACCAGCATGACCACAATGCTAGTTGTTGTGTGCGAATGGTAAACAGAATGAAATTATGAATGTGTGTGCGGGTCATTATATGCATGCAGACACATACATATGCATATGTAGTATAAATCTC'},\n",
    "    {'id': '>control_DHS_S_17598::chr17:50038379-50038620', 'sequence': 'GCATCCCCTCCTGGAGAGCTTCTGCCTGCTGTCACCCTGTCCAAGGGCCCAACCCTGGTGGATATCCCTAAACTTCTTGGGGTCCCCTTCCCTGCCTTAGCAGAAGCCTGGAGCAGGCATGGCCTCTCTACCTTTCCTGACATTTCCCCCTCTCCTGTGGCCTTAGATTGAGACAAGGATGTCGTTTGAAAGAAGTCTCT'},\n",
    "    {'id': '>control_DHS_S_9972::chr12:102120782-102120918', 'sequence': 'TGTTTCACTAACGTCTCATTCTGTGAGGTAGGAATTCCCTTCCTGGTTTTGCAGGTGAAGAAACTTATGCTCATTAGAGATTTTAAATACCGAAGGACTACAGGTCATAAAGGGGGAGCCTGGAAGTGATATCTGACTCGGAAGTGTAGTTCTTTCAACCATTTCACACTGCCTGCCCAGTGACAATTTTCTGTCTCACA'}\n",
    "]"
   ]
  },
  {
   "cell_type": "code",
   "execution_count": 5,
   "id": "bd8d6a2a-df20-4b12-a98d-52588ed63019",
   "metadata": {},
   "outputs": [
    {
     "name": "stderr",
     "output_type": "stream",
     "text": [
      "loading file from gs://syrgoth/boda_library_design_202112/fastas/control_DHS_K562.fa\n",
      "Success\n",
      "dropping 1 lines\n",
      "replacing with 1 lines\n"
     ]
    }
   ],
   "source": [
    "k562_fasta = load_fasta('gs://syrgoth/boda_library_design_202112/fastas/control_DHS_K562.fa')\n",
    "\n",
    "print(f\"dropping {sum([ check_asiSI(seq) for seq in k562_fasta['sequence'] ])} lines\", file=sys.stderr)\n",
    "print(f\"replacing with {len(K562_update)} lines\", file=sys.stderr)\n",
    "\n",
    "k562_fasta = k562_fasta.loc[ [ check_asiSI(seq)==False for seq in k562_fasta['sequence'] ] ].reset_index(drop=True)\n",
    "for update in K562_update:\n",
    "    k562_fasta = k562_fasta.append(\n",
    "        update, \n",
    "        ignore_index=True\n",
    "    )"
   ]
  },
  {
   "cell_type": "code",
   "execution_count": 6,
   "id": "0bbf27bb-5615-4b90-958e-a8c212b0f2f6",
   "metadata": {},
   "outputs": [
    {
     "data": {
      "text/html": [
       "<div>\n",
       "<style scoped>\n",
       "    .dataframe tbody tr th:only-of-type {\n",
       "        vertical-align: middle;\n",
       "    }\n",
       "\n",
       "    .dataframe tbody tr th {\n",
       "        vertical-align: top;\n",
       "    }\n",
       "\n",
       "    .dataframe thead th {\n",
       "        text-align: right;\n",
       "    }\n",
       "</style>\n",
       "<table border=\"1\" class=\"dataframe\">\n",
       "  <thead>\n",
       "    <tr style=\"text-align: right;\">\n",
       "      <th></th>\n",
       "      <th>id</th>\n",
       "      <th>sequence</th>\n",
       "    </tr>\n",
       "  </thead>\n",
       "  <tbody>\n",
       "    <tr>\n",
       "      <th>0</th>\n",
       "      <td>&gt;control_DHS_K_3832::chr1:146934470-146934670</td>\n",
       "      <td>ttttctcctcttcctggggctgcctaatctctacccaccatgtgcc...</td>\n",
       "    </tr>\n",
       "    <tr>\n",
       "      <th>1</th>\n",
       "      <td>&gt;control_DHS_K_27285::chr18:77990220-77990420</td>\n",
       "      <td>aacagctcactacaaggtgccgcccgccccatgcggcttaggtgag...</td>\n",
       "    </tr>\n",
       "    <tr>\n",
       "      <th>2</th>\n",
       "      <td>&gt;control_DHS_K_27286::chr18:77993720-77993920</td>\n",
       "      <td>aagagcctatgcagcgaaactcccgtttttataaccatcagatctc...</td>\n",
       "    </tr>\n",
       "    <tr>\n",
       "      <th>3</th>\n",
       "      <td>&gt;control_DHS_K_45124::chr5:43038298-43038498</td>\n",
       "      <td>CCGCTTAAGTCCGAACTTGCTATGCAGAGAAACCACAATCAGGGCT...</td>\n",
       "    </tr>\n",
       "    <tr>\n",
       "      <th>4</th>\n",
       "      <td>&gt;control_DHS_K_55475::chr8:41798719-41798919</td>\n",
       "      <td>AAGGTGGGGGCTGTCTCCCTCCATGGTTTCCTCTAGGGGTGGGTGT...</td>\n",
       "    </tr>\n",
       "    <tr>\n",
       "      <th>...</th>\n",
       "      <td>...</td>\n",
       "      <td>...</td>\n",
       "    </tr>\n",
       "    <tr>\n",
       "      <th>3995</th>\n",
       "      <td>&gt;control_DHS_K_53715::chr7:106862701-106862901</td>\n",
       "      <td>acgtatgggaagcacACACTTGTCTGGCCATGTCTCTCCCTGTCTC...</td>\n",
       "    </tr>\n",
       "    <tr>\n",
       "      <th>3996</th>\n",
       "      <td>&gt;control_DHS_K_31402::chr2:16646208-16646408</td>\n",
       "      <td>AGTTGGTAGAATCAAGATGTCTAGAGTTCATCCTCCCccaccaggc...</td>\n",
       "    </tr>\n",
       "    <tr>\n",
       "      <th>3997</th>\n",
       "      <td>&gt;control_DHS_K_3547::chr1:113659150-113659350</td>\n",
       "      <td>GATCATATCTCTGCAGTGAATGGGCAGTCCATTGTTGAACTGTCTC...</td>\n",
       "    </tr>\n",
       "    <tr>\n",
       "      <th>3998</th>\n",
       "      <td>&gt;control_DHS_K_55299::chr8:30811759-30811959</td>\n",
       "      <td>ccgagtagctgtggccacaggcgtgagccaccacgcccggcTTGAG...</td>\n",
       "    </tr>\n",
       "    <tr>\n",
       "      <th>3999</th>\n",
       "      <td>&gt;control_DHS_K_11088::chr11:65508340-65508520</td>\n",
       "      <td>TCTCTACTACACACACACACACACACACACACACACACACACACAC...</td>\n",
       "    </tr>\n",
       "  </tbody>\n",
       "</table>\n",
       "<p>4000 rows × 2 columns</p>\n",
       "</div>"
      ],
      "text/plain": [
       "                                                  id  \\\n",
       "0      >control_DHS_K_3832::chr1:146934470-146934670   \n",
       "1      >control_DHS_K_27285::chr18:77990220-77990420   \n",
       "2      >control_DHS_K_27286::chr18:77993720-77993920   \n",
       "3       >control_DHS_K_45124::chr5:43038298-43038498   \n",
       "4       >control_DHS_K_55475::chr8:41798719-41798919   \n",
       "...                                              ...   \n",
       "3995  >control_DHS_K_53715::chr7:106862701-106862901   \n",
       "3996    >control_DHS_K_31402::chr2:16646208-16646408   \n",
       "3997   >control_DHS_K_3547::chr1:113659150-113659350   \n",
       "3998    >control_DHS_K_55299::chr8:30811759-30811959   \n",
       "3999   >control_DHS_K_11088::chr11:65508340-65508520   \n",
       "\n",
       "                                               sequence  \n",
       "0     ttttctcctcttcctggggctgcctaatctctacccaccatgtgcc...  \n",
       "1     aacagctcactacaaggtgccgcccgccccatgcggcttaggtgag...  \n",
       "2     aagagcctatgcagcgaaactcccgtttttataaccatcagatctc...  \n",
       "3     CCGCTTAAGTCCGAACTTGCTATGCAGAGAAACCACAATCAGGGCT...  \n",
       "4     AAGGTGGGGGCTGTCTCCCTCCATGGTTTCCTCTAGGGGTGGGTGT...  \n",
       "...                                                 ...  \n",
       "3995  acgtatgggaagcacACACTTGTCTGGCCATGTCTCTCCCTGTCTC...  \n",
       "3996  AGTTGGTAGAATCAAGATGTCTAGAGTTCATCCTCCCccaccaggc...  \n",
       "3997  GATCATATCTCTGCAGTGAATGGGCAGTCCATTGTTGAACTGTCTC...  \n",
       "3998  ccgagtagctgtggccacaggcgtgagccaccacgcccggcTTGAG...  \n",
       "3999  TCTCTACTACACACACACACACACACACACACACACACACACACAC...  \n",
       "\n",
       "[4000 rows x 2 columns]"
      ]
     },
     "execution_count": 6,
     "metadata": {},
     "output_type": "execute_result"
    }
   ],
   "source": [
    "k562_fasta"
   ]
  },
  {
   "cell_type": "code",
   "execution_count": 7,
   "id": "d41a1231-3cc8-458e-837d-eb165f888c14",
   "metadata": {},
   "outputs": [
    {
     "name": "stderr",
     "output_type": "stream",
     "text": [
      "dumping file to gs://syrgoth/boda_library_design_202112/fastas_2/control_DHS_K562__asiSI_filtered.fa\n",
      "Success\n"
     ]
    }
   ],
   "source": [
    "pandas_to_fasta('gs://syrgoth/boda_library_design_202112/fastas_2/control_DHS_K562__asiSI_filtered.fa', k562_fasta)"
   ]
  },
  {
   "cell_type": "code",
   "execution_count": 8,
   "id": "d90667a2-51ac-43bb-ae30-9378c3960b63",
   "metadata": {},
   "outputs": [
    {
     "name": "stderr",
     "output_type": "stream",
     "text": [
      "loading file from gs://syrgoth/boda_library_design_202112/fastas/control_DHS_HEPG2.fa\n",
      "Success\n",
      "dropping 0 lines\n",
      "replacing with 0 lines\n"
     ]
    }
   ],
   "source": [
    "hepg2_fasta = load_fasta('gs://syrgoth/boda_library_design_202112/fastas/control_DHS_HEPG2.fa')\n",
    "\n",
    "print(f\"dropping {sum([ check_asiSI(seq) for seq in hepg2_fasta['sequence'] ])} lines\", file=sys.stderr)\n",
    "print(f\"replacing with {len(HEPG2_update)} lines\", file=sys.stderr)\n",
    "\n",
    "hepg2_fasta = hepg2_fasta.loc[ [ check_asiSI(seq)==False for seq in hepg2_fasta['sequence'] ] ].reset_index(drop=True)\n",
    "for update in HEPG2_update:\n",
    "    hepg2_fasta = hepg2_fasta.append(\n",
    "        update, \n",
    "        ignore_index=True\n",
    "    )"
   ]
  },
  {
   "cell_type": "code",
   "execution_count": 9,
   "id": "0ffbc6e7-0608-4749-91c2-01bbe87acca1",
   "metadata": {},
   "outputs": [
    {
     "data": {
      "text/html": [
       "<div>\n",
       "<style scoped>\n",
       "    .dataframe tbody tr th:only-of-type {\n",
       "        vertical-align: middle;\n",
       "    }\n",
       "\n",
       "    .dataframe tbody tr th {\n",
       "        vertical-align: top;\n",
       "    }\n",
       "\n",
       "    .dataframe thead th {\n",
       "        text-align: right;\n",
       "    }\n",
       "</style>\n",
       "<table border=\"1\" class=\"dataframe\">\n",
       "  <thead>\n",
       "    <tr style=\"text-align: right;\">\n",
       "      <th></th>\n",
       "      <th>id</th>\n",
       "      <th>sequence</th>\n",
       "    </tr>\n",
       "  </thead>\n",
       "  <tbody>\n",
       "    <tr>\n",
       "      <th>0</th>\n",
       "      <td>&gt;control_DHS_H_34251::chr3:194496600-194496800</td>\n",
       "      <td>aaagtccaagctcttagggccccacaccaaagctagctgcctgttt...</td>\n",
       "    </tr>\n",
       "    <tr>\n",
       "      <th>1</th>\n",
       "      <td>&gt;control_DHS_H_34252::chr3:194497831-194498031</td>\n",
       "      <td>GGCAGCTCCTCCATGTGCCTGTTTCAGATGCCAAGAAGAGAAGCTC...</td>\n",
       "    </tr>\n",
       "    <tr>\n",
       "      <th>2</th>\n",
       "      <td>&gt;control_DHS_H_49049::chrY:2824580-2824780</td>\n",
       "      <td>aagtttacgaagcccctcatatcgtgatggaatgcagccctccgga...</td>\n",
       "    </tr>\n",
       "    <tr>\n",
       "      <th>3</th>\n",
       "      <td>&gt;control_DHS_H_49051::chrY:2841470-2841670</td>\n",
       "      <td>TGCTAAGAAATTCAGTTCCAGGATATGAACTCTACAGCGGAAGAAT...</td>\n",
       "    </tr>\n",
       "    <tr>\n",
       "      <th>4</th>\n",
       "      <td>&gt;control_DHS_H_49054::chrY:6996030-6996230</td>\n",
       "      <td>TTTTTCCATGTGATGGGACAGGGGAATGCTGTGTACATGGCCGCTG...</td>\n",
       "    </tr>\n",
       "    <tr>\n",
       "      <th>...</th>\n",
       "      <td>...</td>\n",
       "      <td>...</td>\n",
       "    </tr>\n",
       "    <tr>\n",
       "      <th>3995</th>\n",
       "      <td>&gt;control_DHS_H_13826::chr14:73996010-73996210</td>\n",
       "      <td>TTCCCAGAACGTCACACTCTGGCTTCCCTTCTTCCATGTCCCCGGA...</td>\n",
       "    </tr>\n",
       "    <tr>\n",
       "      <th>3996</th>\n",
       "      <td>&gt;control_DHS_H_42716::chr7:76304235-76304435</td>\n",
       "      <td>TGTTCTTTTGATACATTTATCTTCTGTTTTTCTCAAATAAAGTTCA...</td>\n",
       "    </tr>\n",
       "    <tr>\n",
       "      <th>3997</th>\n",
       "      <td>&gt;control_DHS_H_22806::chr19:18478620-18478820</td>\n",
       "      <td>GCCTGGTAGGGCCGCCACAGCTGGCCTGACACAGTCAGCAGGTCAG...</td>\n",
       "    </tr>\n",
       "    <tr>\n",
       "      <th>3998</th>\n",
       "      <td>&gt;control_DHS_H_14485::chr15:25773340-25773540</td>\n",
       "      <td>TCTGCGGAGGTGCTCTGACAGGTCTTGCATTGTGCTCTGTGGACAC...</td>\n",
       "    </tr>\n",
       "    <tr>\n",
       "      <th>3999</th>\n",
       "      <td>&gt;control_DHS_H_13513::chr14:59481966-59482166</td>\n",
       "      <td>GGTTTCTCAAGAGGACCAGATGTTTACATTTGTCAATCAGCATATT...</td>\n",
       "    </tr>\n",
       "  </tbody>\n",
       "</table>\n",
       "<p>4000 rows × 2 columns</p>\n",
       "</div>"
      ],
      "text/plain": [
       "                                                  id  \\\n",
       "0     >control_DHS_H_34251::chr3:194496600-194496800   \n",
       "1     >control_DHS_H_34252::chr3:194497831-194498031   \n",
       "2         >control_DHS_H_49049::chrY:2824580-2824780   \n",
       "3         >control_DHS_H_49051::chrY:2841470-2841670   \n",
       "4         >control_DHS_H_49054::chrY:6996030-6996230   \n",
       "...                                              ...   \n",
       "3995   >control_DHS_H_13826::chr14:73996010-73996210   \n",
       "3996    >control_DHS_H_42716::chr7:76304235-76304435   \n",
       "3997   >control_DHS_H_22806::chr19:18478620-18478820   \n",
       "3998   >control_DHS_H_14485::chr15:25773340-25773540   \n",
       "3999   >control_DHS_H_13513::chr14:59481966-59482166   \n",
       "\n",
       "                                               sequence  \n",
       "0     aaagtccaagctcttagggccccacaccaaagctagctgcctgttt...  \n",
       "1     GGCAGCTCCTCCATGTGCCTGTTTCAGATGCCAAGAAGAGAAGCTC...  \n",
       "2     aagtttacgaagcccctcatatcgtgatggaatgcagccctccgga...  \n",
       "3     TGCTAAGAAATTCAGTTCCAGGATATGAACTCTACAGCGGAAGAAT...  \n",
       "4     TTTTTCCATGTGATGGGACAGGGGAATGCTGTGTACATGGCCGCTG...  \n",
       "...                                                 ...  \n",
       "3995  TTCCCAGAACGTCACACTCTGGCTTCCCTTCTTCCATGTCCCCGGA...  \n",
       "3996  TGTTCTTTTGATACATTTATCTTCTGTTTTTCTCAAATAAAGTTCA...  \n",
       "3997  GCCTGGTAGGGCCGCCACAGCTGGCCTGACACAGTCAGCAGGTCAG...  \n",
       "3998  TCTGCGGAGGTGCTCTGACAGGTCTTGCATTGTGCTCTGTGGACAC...  \n",
       "3999  GGTTTCTCAAGAGGACCAGATGTTTACATTTGTCAATCAGCATATT...  \n",
       "\n",
       "[4000 rows x 2 columns]"
      ]
     },
     "execution_count": 9,
     "metadata": {},
     "output_type": "execute_result"
    }
   ],
   "source": [
    "hepg2_fasta"
   ]
  },
  {
   "cell_type": "code",
   "execution_count": 10,
   "id": "2a460911-b8cf-4f76-9dc0-b64ed068fc17",
   "metadata": {},
   "outputs": [
    {
     "name": "stderr",
     "output_type": "stream",
     "text": [
      "dumping file to gs://syrgoth/boda_library_design_202112/fastas_2/control_DHS_HEPG2__asiSI_filtered.fa\n",
      "Success\n"
     ]
    }
   ],
   "source": [
    "pandas_to_fasta('gs://syrgoth/boda_library_design_202112/fastas_2/control_DHS_HEPG2__asiSI_filtered.fa', hepg2_fasta)"
   ]
  },
  {
   "cell_type": "code",
   "execution_count": 11,
   "id": "ddd6e1bb-5346-4c11-85a8-c9b2dfe60e72",
   "metadata": {},
   "outputs": [
    {
     "name": "stderr",
     "output_type": "stream",
     "text": [
      "loading file from gs://syrgoth/boda_library_design_202112/fastas/control_DHS_SKNSH.fa\n",
      "Success\n",
      "dropping 3 lines\n",
      "replacing with 3 lines\n"
     ]
    }
   ],
   "source": [
    "sknsh_fasta = load_fasta('gs://syrgoth/boda_library_design_202112/fastas/control_DHS_SKNSH.fa')\n",
    "\n",
    "print(f\"dropping {sum([ check_asiSI(seq) for seq in sknsh_fasta['sequence'] ])} lines\", file=sys.stderr)\n",
    "print(f\"replacing with {len(SKNSH_update)} lines\", file=sys.stderr)\n",
    "\n",
    "sknsh_fasta = sknsh_fasta.loc[ [ check_asiSI(seq)==False for seq in sknsh_fasta['sequence'] ] ].reset_index(drop=True)\n",
    "for update in SKNSH_update:\n",
    "    sknsh_fasta = sknsh_fasta.append(\n",
    "        update, \n",
    "        ignore_index=True\n",
    "    )"
   ]
  },
  {
   "cell_type": "code",
   "execution_count": 12,
   "id": "383895e8-13eb-4c21-98f5-8c41daf11d30",
   "metadata": {},
   "outputs": [
    {
     "data": {
      "text/html": [
       "<div>\n",
       "<style scoped>\n",
       "    .dataframe tbody tr th:only-of-type {\n",
       "        vertical-align: middle;\n",
       "    }\n",
       "\n",
       "    .dataframe tbody tr th {\n",
       "        vertical-align: top;\n",
       "    }\n",
       "\n",
       "    .dataframe thead th {\n",
       "        text-align: right;\n",
       "    }\n",
       "</style>\n",
       "<table border=\"1\" class=\"dataframe\">\n",
       "  <thead>\n",
       "    <tr style=\"text-align: right;\">\n",
       "      <th></th>\n",
       "      <th>id</th>\n",
       "      <th>sequence</th>\n",
       "    </tr>\n",
       "  </thead>\n",
       "  <tbody>\n",
       "    <tr>\n",
       "      <th>0</th>\n",
       "      <td>&gt;control_DHS_S_7829::chr11:96341553-96341753</td>\n",
       "      <td>CGCAGGAGGGGCAGCAGGGGGCGGTGGAGGGGCTGTAGTGGTGGCA...</td>\n",
       "    </tr>\n",
       "    <tr>\n",
       "      <th>1</th>\n",
       "      <td>&gt;control_DHS_S_18572::chr17:78317157-78317357</td>\n",
       "      <td>GCAGGGAAGTATAACTGATCTGAAGGGTGGGGTGGGGGTTCTGCTC...</td>\n",
       "    </tr>\n",
       "    <tr>\n",
       "      <th>2</th>\n",
       "      <td>&gt;control_DHS_S_42077::chr9:134709683-134709883</td>\n",
       "      <td>CAGGTTTGTTCCATGGAAAATGTGAGCCACAGACCCATCTCCCAGC...</td>\n",
       "    </tr>\n",
       "    <tr>\n",
       "      <th>3</th>\n",
       "      <td>&gt;control_DHS_S_42554::chrX:49073970-49074170</td>\n",
       "      <td>AGCCGCACCTCCGACATCCTGCCGGTTAATGTGGCTGGACCAGCCA...</td>\n",
       "    </tr>\n",
       "    <tr>\n",
       "      <th>4</th>\n",
       "      <td>&gt;control_DHS_S_13632::chr15:60661160-60661360</td>\n",
       "      <td>TCATTAGCTACCTTTATATAAAAAAATCACTGTAATTTGTACTAAC...</td>\n",
       "    </tr>\n",
       "    <tr>\n",
       "      <th>...</th>\n",
       "      <td>...</td>\n",
       "      <td>...</td>\n",
       "    </tr>\n",
       "    <tr>\n",
       "      <th>3995</th>\n",
       "      <td>&gt;control_DHS_S_26860::chr22:26512753-26512953</td>\n",
       "      <td>tgtaaatctgtaaaatagagatgtaggattagcccatacggtagtt...</td>\n",
       "    </tr>\n",
       "    <tr>\n",
       "      <th>3996</th>\n",
       "      <td>&gt;control_DHS_S_26893::chr22:28329310-28329510</td>\n",
       "      <td>ACAAGTACAGTTGAAATACACTGTTTCtctgtcagtgtacatccca...</td>\n",
       "    </tr>\n",
       "    <tr>\n",
       "      <th>3997</th>\n",
       "      <td>&gt;control_DHS_S_42234::chrX:13377400-13377428</td>\n",
       "      <td>CCTTCGTATCACGCCTTTCCAGTGAGTAAGATCATCTAGATAGATT...</td>\n",
       "    </tr>\n",
       "    <tr>\n",
       "      <th>3998</th>\n",
       "      <td>&gt;control_DHS_S_17598::chr17:50038379-50038620</td>\n",
       "      <td>GCATCCCCTCCTGGAGAGCTTCTGCCTGCTGTCACCCTGTCCAAGG...</td>\n",
       "    </tr>\n",
       "    <tr>\n",
       "      <th>3999</th>\n",
       "      <td>&gt;control_DHS_S_9972::chr12:102120782-102120918</td>\n",
       "      <td>TGTTTCACTAACGTCTCATTCTGTGAGGTAGGAATTCCCTTCCTGG...</td>\n",
       "    </tr>\n",
       "  </tbody>\n",
       "</table>\n",
       "<p>4000 rows × 2 columns</p>\n",
       "</div>"
      ],
      "text/plain": [
       "                                                  id  \\\n",
       "0       >control_DHS_S_7829::chr11:96341553-96341753   \n",
       "1      >control_DHS_S_18572::chr17:78317157-78317357   \n",
       "2     >control_DHS_S_42077::chr9:134709683-134709883   \n",
       "3       >control_DHS_S_42554::chrX:49073970-49074170   \n",
       "4      >control_DHS_S_13632::chr15:60661160-60661360   \n",
       "...                                              ...   \n",
       "3995   >control_DHS_S_26860::chr22:26512753-26512953   \n",
       "3996   >control_DHS_S_26893::chr22:28329310-28329510   \n",
       "3997    >control_DHS_S_42234::chrX:13377400-13377428   \n",
       "3998   >control_DHS_S_17598::chr17:50038379-50038620   \n",
       "3999  >control_DHS_S_9972::chr12:102120782-102120918   \n",
       "\n",
       "                                               sequence  \n",
       "0     CGCAGGAGGGGCAGCAGGGGGCGGTGGAGGGGCTGTAGTGGTGGCA...  \n",
       "1     GCAGGGAAGTATAACTGATCTGAAGGGTGGGGTGGGGGTTCTGCTC...  \n",
       "2     CAGGTTTGTTCCATGGAAAATGTGAGCCACAGACCCATCTCCCAGC...  \n",
       "3     AGCCGCACCTCCGACATCCTGCCGGTTAATGTGGCTGGACCAGCCA...  \n",
       "4     TCATTAGCTACCTTTATATAAAAAAATCACTGTAATTTGTACTAAC...  \n",
       "...                                                 ...  \n",
       "3995  tgtaaatctgtaaaatagagatgtaggattagcccatacggtagtt...  \n",
       "3996  ACAAGTACAGTTGAAATACACTGTTTCtctgtcagtgtacatccca...  \n",
       "3997  CCTTCGTATCACGCCTTTCCAGTGAGTAAGATCATCTAGATAGATT...  \n",
       "3998  GCATCCCCTCCTGGAGAGCTTCTGCCTGCTGTCACCCTGTCCAAGG...  \n",
       "3999  TGTTTCACTAACGTCTCATTCTGTGAGGTAGGAATTCCCTTCCTGG...  \n",
       "\n",
       "[4000 rows x 2 columns]"
      ]
     },
     "execution_count": 12,
     "metadata": {},
     "output_type": "execute_result"
    }
   ],
   "source": [
    "sknsh_fasta"
   ]
  },
  {
   "cell_type": "code",
   "execution_count": 13,
   "id": "e2e9bc46-4f48-4d1e-8a85-d16a33e55285",
   "metadata": {},
   "outputs": [
    {
     "name": "stderr",
     "output_type": "stream",
     "text": [
      "dumping file to gs://syrgoth/boda_library_design_202112/fastas_2/control_DHS_SKNSH__asiSI_filtered.fa\n",
      "Success\n"
     ]
    }
   ],
   "source": [
    "pandas_to_fasta('gs://syrgoth/boda_library_design_202112/fastas_2/control_DHS_SKNSH__asiSI_filtered.fa', sknsh_fasta)"
   ]
  },
  {
   "cell_type": "markdown",
   "id": "bc2d3bea-0f57-4188-9138-8255e9db7fc1",
   "metadata": {},
   "source": [
    "# GW FASTA"
   ]
  },
  {
   "cell_type": "code",
   "execution_count": 14,
   "id": "fc2c785c-56b0-419f-9b50-ea60074c16dc",
   "metadata": {},
   "outputs": [],
   "source": [
    "GW_update=[\n",
    "    {'id': '>chr3:84759100-84759300', 'sequence': 'GCAGCTGGAAGAGCCTGATAAGCATTCCCAGTCTCCAATGTGAACCCAGGAAAGTCATCCCTGACTGTGTCTCACAGGGGCCCTCAGGAAAGGCCGCCAGCAAACTCAAGGAGGGGTCAAAGGGTGAAAGAAGGTCCCGGTTAAAATTTGTGATATAATTTTGAGTGGGCACCGACTCCCTTGAACAGCATCTGGTGGGT'},\n",
    "    {'id': '>chr2:112069700-112069900', 'sequence': 'CTGTGTCAAACGGTAGTTCTCTTTTCAGCTCTTTGAGGAATTGCCACACCGCTTTCCACAATGGGTGAACCAATTTGTACTCCCACCAGCAGTGTATAAGCATTCCCTTTTCTCCACAACCTTGCCAGCATCTGTTATTTTTTGACTTTTTAATAATAGCCATTCTGACTGGTGTGAGATGGTATCTCATTGTGGTTTTG'},\n",
    "]"
   ]
  },
  {
   "cell_type": "code",
   "execution_count": 15,
   "id": "ce311919-7f2c-4d66-bb91-46f0bd2826ba",
   "metadata": {},
   "outputs": [
    {
     "name": "stderr",
     "output_type": "stream",
     "text": [
      "loading file from gs://syrgoth/boda_library_design_202112/fastas/rc__k562__gw__track_000__round_0__20211210_203441__47591334.fa\n",
      "Success\n",
      "dropping 2 lines\n",
      "replacing with 2 lines\n"
     ]
    }
   ],
   "source": [
    "gw_fasta = load_fasta('gs://syrgoth/boda_library_design_202112/fastas/rc__k562__gw__track_000__round_0__20211210_203441__47591334.fa')\n",
    "\n",
    "print(f\"dropping {sum([ check_asiSI(seq) for seq in gw_fasta['sequence'] ])} lines\", file=sys.stderr)\n",
    "print(f\"replacing with {len(GW_update)} lines\", file=sys.stderr)\n",
    "\n",
    "gw_fasta = gw_fasta.loc[ [ check_asiSI(seq)==False for seq in gw_fasta['sequence'] ] ].reset_index(drop=True)\n",
    "for update in GW_update:\n",
    "    gw_fasta = gw_fasta.append(\n",
    "        update, \n",
    "        ignore_index=True\n",
    "    )"
   ]
  },
  {
   "cell_type": "code",
   "execution_count": 16,
   "id": "3b16e5d8-18e3-40a3-beab-5829e1e31885",
   "metadata": {},
   "outputs": [
    {
     "name": "stderr",
     "output_type": "stream",
     "text": [
      "dumping file to gs://syrgoth/boda_library_design_202112/fastas_2/rc__k562__gw__track_000__round_0__20211210_203441__47591334.fa\n",
      "Success\n"
     ]
    }
   ],
   "source": [
    "pandas_to_fasta('gs://syrgoth/boda_library_design_202112/fastas_2/rc__k562__gw__track_000__round_0__20211210_203441__47591334.fa', gw_fasta)"
   ]
  },
  {
   "cell_type": "code",
   "execution_count": 18,
   "id": "418d9723-949f-421f-9cd9-184df99606f1",
   "metadata": {},
   "outputs": [
    {
     "data": {
      "text/plain": [
       "0"
      ]
     },
     "execution_count": 18,
     "metadata": {},
     "output_type": "execute_result"
    }
   ],
   "source": [
    "subprocess.check_call([\n",
    "    'gsutil','cp',\n",
    "    'gs://syrgoth/boda_library_design_202112/fastas/rc__hepg2__gw__track_000__round_0__20211210_203441__37997823.fa', \n",
    "    'gs://syrgoth/boda_library_design_202112/fastas_2/rc__hepg2__gw__track_000__round_0__20211210_203441__37997823.fa'\n",
    "])\n",
    "subprocess.check_call([\n",
    "    'gsutil','cp',\n",
    "    'gs://syrgoth/boda_library_design_202112/fastas/rc__sknsh__gw__track_000__round_0__20211210_203441__82237643.fa', \n",
    "    'gs://syrgoth/boda_library_design_202112/fastas_2/rc__sknsh__gw__track_000__round_0__20211210_203441__82237643.fa'\n",
    "])"
   ]
  }
 ],
 "metadata": {
  "kernelspec": {
   "display_name": "Python 3",
   "language": "python",
   "name": "python3"
  },
  "language_info": {
   "codemirror_mode": {
    "name": "ipython",
    "version": 3
   },
   "file_extension": ".py",
   "mimetype": "text/x-python",
   "name": "python",
   "nbconvert_exporter": "python",
   "pygments_lexer": "ipython3",
   "version": "3.7.12"
  }
 },
 "nbformat": 4,
 "nbformat_minor": 5
}
