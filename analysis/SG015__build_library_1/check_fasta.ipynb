{
 "cells": [
  {
   "cell_type": "code",
   "execution_count": 1,
   "id": "d5e1d398-5131-4f5b-adff-9c47e661cca7",
   "metadata": {},
   "outputs": [],
   "source": [
    "import os\n",
    "import sys\n",
    "import re\n",
    "import time\n",
    "import yaml\n",
    "import shutil\n",
    "import argparse\n",
    "import tarfile\n",
    "import tempfile\n",
    "import random\n",
    "import subprocess\n",
    "import copy\n",
    "import functools\n",
    "\n",
    "import numpy as np\n",
    "import pandas as pd\n",
    "\n",
    "from tqdm import tqdm\n",
    "\n",
    "import torch\n",
    "\n",
    "import boda\n",
    "from boda.generator.parameters import BasicParameters\n",
    "from boda.common import utils\n",
    "from boda.common.utils import set_best, save_model, unpack_artifact, model_fn\n",
    "\n",
    "import hypertune\n",
    "\n",
    "import matplotlib.pyplot as plt\n",
    "import seaborn as sns\n",
    "\n",
    "from statsmodels.graphics.tsaplots import plot_acf\n",
    "\n",
    "from scipy import spatial\n",
    "from scipy.cluster import hierarchy"
   ]
  },
  {
   "cell_type": "code",
   "execution_count": 2,
   "id": "b50485ab-b52f-4c93-938b-8e2fa394d897",
   "metadata": {},
   "outputs": [],
   "source": [
    "fasta_fn = 'gs://syrgoth/boda_library_design_202112/test_design__20211215.fa'"
   ]
  },
  {
   "cell_type": "code",
   "execution_count": 3,
   "id": "cdc33e12-f0c1-453b-b7ca-66adacc26088",
   "metadata": {},
   "outputs": [],
   "source": [
    "def cloud_load(func):\n",
    "    @functools.wraps(func)\n",
    "    def wrapper_decorator(*args, **kwargs):\n",
    "        print(f'loading file from {args[0]}', file=sys.stderr)\n",
    "        if 'gs://' == args[0][:5]:\n",
    "            args = copy.deepcopy(list(args))\n",
    "            with tempfile.TemporaryDirectory() as tempdir:\n",
    "                temp_loc = os.path.join(tempdir, os.path.basename(args[0]))\n",
    "                subprocess.check_call(['gsutil','cp',args[0], temp_loc])\n",
    "                args[0] = temp_loc\n",
    "                value = func(*args, **kwargs)\n",
    "        else:\n",
    "            value = func(*args, **kwargs)\n",
    "        print('Success', file=sys.stderr)\n",
    "        return value\n",
    "    return wrapper_decorator\n",
    "\n",
    "def cloud_dump(func):\n",
    "    @functools.wraps(func)\n",
    "    def wrapper_decorator(*args, **kwargs):\n",
    "        print(f'dumping file to {args[0]}', file=sys.stderr)\n",
    "        if 'gs://' == args[0][:5]:\n",
    "            args = copy.deepcopy(list(args))\n",
    "            remote_loc = copy.deepcopy(args[0])\n",
    "            with tempfile.TemporaryDirectory() as tempdir:\n",
    "                temp_loc = os.path.join(tempdir, os.path.basename(args[0]))\n",
    "                args[0] = temp_loc\n",
    "                value = func(*args, **kwargs)\n",
    "                subprocess.check_call(['gsutil','cp',temp_loc,remote_loc])\n",
    "        else:\n",
    "            value = func(*args, **kwargs)\n",
    "        print('Success', file=sys.stderr)\n",
    "        return value\n",
    "    return wrapper_decorator\n",
    "\n",
    "@cloud_load\n",
    "def load_fasta(fasta_fn):\n",
    "    data = {'id': [], 'sequence': []}\n",
    "    with open(fasta_fn, 'r') as f:\n",
    "        for i, line in enumerate(f):\n",
    "            if i % 2 == 0:\n",
    "                data['id'].append(line.rstrip())\n",
    "            else:\n",
    "                data['sequence'].append(line.rstrip())\n",
    "    return pd.DataFrame(data)\n",
    "\n",
    "@cloud_dump\n",
    "def pandas_to_fasta(fasta_fn, data, carat_field='id', sequence_field='sequence'):\n",
    "    with open(fasta_fn, 'w') as f:\n",
    "        for idx, line in data.iterrows():\n",
    "            print(line[carat_field], file=f)\n",
    "            print(line[sequence_field], file=f)\n",
    "    return None"
   ]
  },
  {
   "cell_type": "code",
   "execution_count": 4,
   "id": "7663b73d-08f2-4b97-9c09-1f645a73da01",
   "metadata": {},
   "outputs": [
    {
     "name": "stderr",
     "output_type": "stream",
     "text": [
      "loading file from gs://syrgoth/boda_library_design_202112/test_design__20211215.fa\n"
     ]
    },
    {
     "name": "stdout",
     "output_type": "stream",
     "text": [
      "found 57/117900 duplicated sequences\n"
     ]
    },
    {
     "name": "stderr",
     "output_type": "stream",
     "text": [
      "Success\n"
     ]
    }
   ],
   "source": [
    "check_seqs = load_fasta(fasta_fn)\n",
    "print( f\"found {check_seqs.shape[0] - check_seqs['sequence'].unique().shape[0]}/{check_seqs.shape[0]} duplicated sequences\" )\n"
   ]
  },
  {
   "cell_type": "code",
   "execution_count": 5,
   "id": "43edd5bf-4574-4b33-9473-eb583ad41cbd",
   "metadata": {},
   "outputs": [
    {
     "data": {
      "text/html": [
       "<div>\n",
       "<style scoped>\n",
       "    .dataframe tbody tr th:only-of-type {\n",
       "        vertical-align: middle;\n",
       "    }\n",
       "\n",
       "    .dataframe tbody tr th {\n",
       "        vertical-align: top;\n",
       "    }\n",
       "\n",
       "    .dataframe thead th {\n",
       "        text-align: right;\n",
       "    }\n",
       "</style>\n",
       "<table border=\"1\" class=\"dataframe\">\n",
       "  <thead>\n",
       "    <tr style=\"text-align: right;\">\n",
       "      <th></th>\n",
       "      <th>id</th>\n",
       "      <th>sequence</th>\n",
       "    </tr>\n",
       "  </thead>\n",
       "  <tbody>\n",
       "    <tr>\n",
       "      <th>0</th>\n",
       "      <td>&gt;20211210_200256__612928__61::fsp_uc__hepg2__0</td>\n",
       "      <td>GTCGCTATAGAAGTAGGAGGCCTCACCGTTCGATTGCGTGCACAAG...</td>\n",
       "    </tr>\n",
       "    <tr>\n",
       "      <th>1</th>\n",
       "      <td>&gt;20211210_200256__612928__83::fsp_uc__hepg2__0</td>\n",
       "      <td>ACGTGGATTGTCTATCACCTACTCGGGAAGACCTCGGCTTGGGACC...</td>\n",
       "    </tr>\n",
       "    <tr>\n",
       "      <th>2</th>\n",
       "      <td>&gt;20211210_200256__612928__126::fsp_uc__hepg2__0</td>\n",
       "      <td>CGCTCTACAACAACCTATTGTTGGGGGGTTGTTGTCAGTGTTCACC...</td>\n",
       "    </tr>\n",
       "    <tr>\n",
       "      <th>3</th>\n",
       "      <td>&gt;20211210_200256__612928__190::fsp_uc__hepg2__0</td>\n",
       "      <td>AGAGGGCACATTGGATAACTGGTTAATTATTAACCAGTGCCCCAGT...</td>\n",
       "    </tr>\n",
       "    <tr>\n",
       "      <th>4</th>\n",
       "      <td>&gt;20211210_200256__612928__195::fsp_uc__hepg2__0</td>\n",
       "      <td>CGGTTGGTATCCACCGCTGGTTACCCAAGCTCCACTGGTTAATCAT...</td>\n",
       "    </tr>\n",
       "    <tr>\n",
       "      <th>...</th>\n",
       "      <td>...</td>\n",
       "      <td>...</td>\n",
       "    </tr>\n",
       "    <tr>\n",
       "      <th>117895</th>\n",
       "      <td>&gt;control_DHS_S_26860::chr22:26512753-26512953</td>\n",
       "      <td>TGTAAATCTGTAAAATAGAGATGTAGGATTAGCCCATACGGTAGTT...</td>\n",
       "    </tr>\n",
       "    <tr>\n",
       "      <th>117896</th>\n",
       "      <td>&gt;control_DHS_S_26893::chr22:28329310-28329510</td>\n",
       "      <td>ACAAGTACAGTTGAAATACACTGTTTCTCTGTCAGTGTACATCCCA...</td>\n",
       "    </tr>\n",
       "    <tr>\n",
       "      <th>117897</th>\n",
       "      <td>&gt;peakS_42234</td>\n",
       "      <td>CCTTCGTATCACGCCTTTCCAGTGAGTAAGATCATCTAGATAGATT...</td>\n",
       "    </tr>\n",
       "    <tr>\n",
       "      <th>117898</th>\n",
       "      <td>&gt;peakS_17598</td>\n",
       "      <td>GCATCCCCTCCTGGAGAGCTTCTGCCTGCTGTCACCCTGTCCAAGG...</td>\n",
       "    </tr>\n",
       "    <tr>\n",
       "      <th>117899</th>\n",
       "      <td>&gt;peakS_9972</td>\n",
       "      <td>TGTTTCACTAACGTCTCATTCTGTGAGGTAGGAATTCCCTTCCTGG...</td>\n",
       "    </tr>\n",
       "  </tbody>\n",
       "</table>\n",
       "<p>117900 rows × 2 columns</p>\n",
       "</div>"
      ],
      "text/plain": [
       "                                                     id  \\\n",
       "0        >20211210_200256__612928__61::fsp_uc__hepg2__0   \n",
       "1        >20211210_200256__612928__83::fsp_uc__hepg2__0   \n",
       "2       >20211210_200256__612928__126::fsp_uc__hepg2__0   \n",
       "3       >20211210_200256__612928__190::fsp_uc__hepg2__0   \n",
       "4       >20211210_200256__612928__195::fsp_uc__hepg2__0   \n",
       "...                                                 ...   \n",
       "117895    >control_DHS_S_26860::chr22:26512753-26512953   \n",
       "117896    >control_DHS_S_26893::chr22:28329310-28329510   \n",
       "117897                                     >peakS_42234   \n",
       "117898                                     >peakS_17598   \n",
       "117899                                      >peakS_9972   \n",
       "\n",
       "                                                 sequence  \n",
       "0       GTCGCTATAGAAGTAGGAGGCCTCACCGTTCGATTGCGTGCACAAG...  \n",
       "1       ACGTGGATTGTCTATCACCTACTCGGGAAGACCTCGGCTTGGGACC...  \n",
       "2       CGCTCTACAACAACCTATTGTTGGGGGGTTGTTGTCAGTGTTCACC...  \n",
       "3       AGAGGGCACATTGGATAACTGGTTAATTATTAACCAGTGCCCCAGT...  \n",
       "4       CGGTTGGTATCCACCGCTGGTTACCCAAGCTCCACTGGTTAATCAT...  \n",
       "...                                                   ...  \n",
       "117895  TGTAAATCTGTAAAATAGAGATGTAGGATTAGCCCATACGGTAGTT...  \n",
       "117896  ACAAGTACAGTTGAAATACACTGTTTCTCTGTCAGTGTACATCCCA...  \n",
       "117897  CCTTCGTATCACGCCTTTCCAGTGAGTAAGATCATCTAGATAGATT...  \n",
       "117898  GCATCCCCTCCTGGAGAGCTTCTGCCTGCTGTCACCCTGTCCAAGG...  \n",
       "117899  TGTTTCACTAACGTCTCATTCTGTGAGGTAGGAATTCCCTTCCTGG...  \n",
       "\n",
       "[117900 rows x 2 columns]"
      ]
     },
     "execution_count": 5,
     "metadata": {},
     "output_type": "execute_result"
    }
   ],
   "source": [
    "check_seqs"
   ]
  },
  {
   "cell_type": "code",
   "execution_count": 4,
   "id": "8fc9641a-15a7-43a0-93e7-0bab15ce8f89",
   "metadata": {},
   "outputs": [
    {
     "name": "stderr",
     "output_type": "stream",
     "text": [
      "loading file from gs://syrgoth/boda_library_design_202112/boda_design__round_1__20211213.fa\n",
      "Success\n",
      "loading file from gs://syrgoth/boda_library_design_202112/boda_design__round_1__20211214.fa\n"
     ]
    },
    {
     "name": "stdout",
     "output_type": "stream",
     "text": [
      "key: id has 117900 items\n",
      "key: sequence has 117900 items\n",
      "key: id has 117900 items\n",
      "key: sequence has 117900 items\n"
     ]
    },
    {
     "name": "stderr",
     "output_type": "stream",
     "text": [
      "Success\n"
     ]
    }
   ],
   "source": [
    "old_seqs = load_fasta('gs://syrgoth/boda_library_design_202112/boda_design__round_1__20211213.fa')\n",
    "_ = [ print(f'key: {key} has {len(old_seqs[key])} items') for key in old_seqs.keys() ]\n",
    "\n",
    "new_seqs = load_fasta('gs://syrgoth/boda_library_design_202112/boda_design__round_1__20211214.fa')\n",
    "_ = [ print(f'key: {key} has {len(new_seqs[key])} items') for key in new_seqs.keys() ]\n"
   ]
  },
  {
   "cell_type": "code",
   "execution_count": 5,
   "id": "e263b236-cf62-488c-85df-9f17a955900c",
   "metadata": {},
   "outputs": [
    {
     "data": {
      "text/plain": [
       "0         CAATCTGTTCCCACCATCAGGTTACTGGTTAATCATTAACCAGGGC...\n",
       "1         GGAGCTCTTTCAATGCCAGGCAGGCCCGTGGTGCAGTAAAGGCCTG...\n",
       "2         GGTTCAAAGTCCAGTCACAGTCCAAAGTCCACTCTTTGTCCAAGAG...\n",
       "3         TAATAGTATGTCATCGTAATATGCGGACTTTGAACCGTGTACCAGG...\n",
       "4         AACACGGGCACGGGGGGGCGCTGTTTGAGTTTAAAAACGATCTAGG...\n",
       "                                ...                        \n",
       "117895    CACTTAGTTTCATTTGCTGTGGGACACATGTACACAGGAAGAGGCC...\n",
       "117896    AACTGAGCCCGACAGATTCCATCAGCGACTGGGGTCATCAGCCCGC...\n",
       "117897    GAAAATACCCTCTCACTCCTTTTACAGTGGGTCATGCACTAAGATC...\n",
       "117898    TGTAAATCTGTAAAATAGAGATGTAGGATTAGCCCATACGGTAGTT...\n",
       "117899    ACAAGTACAGTTGAAATACACTGTTTCTCTGTCAGTGTACATCCCA...\n",
       "Name: sequence, Length: 117900, dtype: object"
      ]
     },
     "execution_count": 5,
     "metadata": {},
     "output_type": "execute_result"
    }
   ],
   "source": [
    "old_seqs['sequence']"
   ]
  },
  {
   "cell_type": "code",
   "execution_count": 6,
   "id": "4fa775bd-adbc-4f0b-bcd6-74c80661a01d",
   "metadata": {},
   "outputs": [
    {
     "name": "stdout",
     "output_type": "stream",
     "text": [
      "found 57/117900 duplicated sequences\n",
      "found 57/117900 duplicated sequences\n"
     ]
    }
   ],
   "source": [
    "print( f\"found {old_seqs.shape[0] - old_seqs['sequence'].unique().shape[0]}/{old_seqs.shape[0]} duplicated sequences\" )\n",
    "\n",
    "print( f\"found {new_seqs.shape[0] - new_seqs['sequence'].unique().shape[0]}/{new_seqs.shape[0]} duplicated sequences\" )\n",
    "\n"
   ]
  },
  {
   "cell_type": "code",
   "execution_count": 7,
   "id": "5d2e846b-eba6-4d02-98c7-cedddb11194d",
   "metadata": {},
   "outputs": [
    {
     "data": {
      "text/plain": [
       "0         ATCCACAGACCGGATTCGTCAACTAAATGGACTGAAGCCTTCGGTG...\n",
       "1         TCGTGCTCCGCTGTGATTTCCCGCGACGCAAGATTCTGAGGAACTT...\n",
       "2         CCTGGATACGCCATACAGCGCCTGCTGTGAAGGTAGCCTTATTTCA...\n",
       "3         CGATGCTCCGCATCCTTGGCATCATTCGAGCCGGAACCTTAAGAGC...\n",
       "4         TCTATCCGCCCGGGGTCTGAGGAAGTTGTTGAAGGGGCACTCGATA...\n",
       "                                ...                        \n",
       "105838    ATTCTACTACTGCGCTAAGTTCTCACCGGCAGGGCGACTTAGAATC...\n",
       "105839    GCACTGGGCAAGTTAACCATTAACCAGGCATTGCGCAAATCATAGC...\n",
       "105840    GAGCCGGGTATCGGGACGGGTACTTAGTTTTTTGAGCATTCCTGGC...\n",
       "105841    TTTAGCGGCTGGATGCCCAGTTAGGGGTTGGTGGCGGAAGATGCTG...\n",
       "105842    GTGCTCGGATTGTTTTTGTTGAGGAGACGCGCGTCATGCATCACCA...\n",
       "Length: 105843, dtype: object"
      ]
     },
     "execution_count": 7,
     "metadata": {},
     "output_type": "execute_result"
    }
   ],
   "source": [
    "pd.Series(list(set(new_seqs['sequence']) & set(old_seqs['sequence'])))"
   ]
  }
 ],
 "metadata": {
  "kernelspec": {
   "display_name": "Python 3",
   "language": "python",
   "name": "python3"
  },
  "language_info": {
   "codemirror_mode": {
    "name": "ipython",
    "version": 3
   },
   "file_extension": ".py",
   "mimetype": "text/x-python",
   "name": "python",
   "nbconvert_exporter": "python",
   "pygments_lexer": "ipython3",
   "version": "3.7.12"
  }
 },
 "nbformat": 4,
 "nbformat_minor": 5
}
