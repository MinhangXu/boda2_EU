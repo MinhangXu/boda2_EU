{
 "cells": [
  {
   "cell_type": "code",
   "execution_count": 1,
   "id": "74877e48-ceea-4ada-97f8-c03d4cb3a268",
   "metadata": {},
   "outputs": [],
   "source": [
    "import os\n",
    "import sys\n",
    "import re\n",
    "import time\n",
    "import yaml\n",
    "import shutil\n",
    "import argparse\n",
    "import tarfile\n",
    "import tempfile\n",
    "import random\n",
    "import subprocess\n",
    "import copy\n",
    "\n",
    "import numpy as np\n",
    "import pandas as pd\n",
    "\n",
    "import torch\n",
    "\n",
    "import boda\n",
    "from boda.generator.parameters import BasicParameters\n",
    "from boda.common import utils\n",
    "from boda.common.utils import set_best, save_model, unpack_artifact, model_fn\n",
    "\n",
    "import hypertune\n",
    "\n",
    "import matplotlib.pyplot as plt\n",
    "import seaborn as sns\n"
   ]
  },
  {
   "cell_type": "code",
   "execution_count": 2,
   "id": "c78d9bc1-d69c-4acd-9381-fda3f02748fa",
   "metadata": {},
   "outputs": [],
   "source": [
    "test_path = 'gs://syrgoth/boda_library_design_202112/pickles/sg__hepg2__fsp__track_001__round_5__20211207_194303__533151.pt'\n",
    "model_paths = [\n",
    "    'gs://syrgoth/aip_ui_test/model_artifacts__20211113_021200__287348.tar.gz',\n",
    "    'gs://syrgoth/aip_ui_test/model_artifacts__20211112_154705__841131.tar.gz',\n",
    "    'gs://syrgoth/aip_ui_test/model_artifacts__20211113_205602__613479.tar.gz'\n",
    "]\n",
    "\n",
    "model_paths = ['gs://syrgoth/aip_ui_test/model_artifacts__20211113_021200__287348.tar.gz',\n",
    "               'gs://syrgoth/aip_ui_test/model_artifacts__20211110_194934__672830.tar.gz',\n",
    "               'gs://syrgoth/aip_ui_test/model_artifacts__20211119_011437__338420.tar.gz']"
   ]
  },
  {
   "cell_type": "code",
   "execution_count": 7,
   "id": "3d045ee3-7e11-4e04-ac93-67e72712ce65",
   "metadata": {},
   "outputs": [],
   "source": [
    "all_pickle_paths = !gsutil ls $'gs://syrgoth/boda_library_design_202112/pickles'"
   ]
  },
  {
   "cell_type": "code",
   "execution_count": 9,
   "id": "01e60576-1e6f-4fdd-8ffb-5f41e16fa16a",
   "metadata": {},
   "outputs": [],
   "source": [
    "all_pickle_paths = [ path for path in all_pickle_paths if 'sg__' in path ]"
   ]
  },
  {
   "cell_type": "code",
   "execution_count": 3,
   "id": "e61b4dac-5eb5-48e6-b5ec-8c8898bc6cdd",
   "metadata": {},
   "outputs": [],
   "source": [
    "def load_stash(filepath):\n",
    "    if 'gs://' == filepath[:5]:\n",
    "        with tempfile.TemporaryDirectory() as tmpdir:\n",
    "            temp_loc = os.path.join( tmpdir, os.path.basename(filepath) )\n",
    "            subprocess.check_call(\n",
    "                ['gsutil', 'cp', filepath, temp_loc]\n",
    "            )\n",
    "            stash = torch.load(temp_loc)\n",
    "    else:\n",
    "        stash = torch.load(filepath)\n",
    "    return stash"
   ]
  },
  {
   "cell_type": "code",
   "execution_count": 16,
   "id": "4b9fd6a6-e2cc-428e-804f-cd6dc40447c6",
   "metadata": {},
   "outputs": [],
   "source": [
    "left_flank = boda.common.utils.dna2tensor( \n",
    "    boda.common.constants.MPRA_UPSTREAM[-200:] \n",
    ").unsqueeze(0)\n",
    "\n",
    "right_flank= boda.common.utils.dna2tensor( \n",
    "    boda.common.constants.MPRA_DOWNSTREAM[:200] \n",
    ").unsqueeze(0)\n",
    "\n",
    "\n",
    "def run_model(model, x):\n",
    "    with torch.no_grad():\n",
    "        bsz = x.shape[0]\n",
    "        expander = [bsz, -1, -1]\n",
    "        passthrough = BasicParameters(\n",
    "            torch.randn_like(x), \n",
    "            left_flank = left_flank.expand(*expander), \n",
    "            right_flank = right_flank.expand(*expander)\n",
    "        )\n",
    "        passthrough.to(model.device)\n",
    "\n",
    "        return model( passthrough(x.to(model.device)) ).cpu()\n",
    "\n",
    "def load_stash_to_df(filepath, *model_paths, round_override=False):\n",
    "    models = []\n",
    "    if len(model_paths) > 0:\n",
    "        print(f'loading {len(model_paths)} model(s)')\n",
    "        for i, model_path in enumerate(model_paths):\n",
    "            with tempfile.TemporaryDirectory() as tmpdirname:\n",
    "                unpack_artifact(model_path, tmpdirname)\n",
    "                _hold = model_fn(os.path.join(tmpdirname,'artifacts'))\n",
    "                _hold.cuda()\n",
    "                _hold.eval()\n",
    "                models.append( _hold )            \n",
    "    \n",
    "    user, cell, gen, track_id, round_id, date_time, rand_id = os.path.basename(filepath).split('__')\n",
    "    track_id = int(track_id.split('_')[1])\n",
    "    date, time = [int(x) for x in date_time.split('_')]\n",
    "    round_id = int(round_id.split('_')[1])\n",
    "    rand_id = int(rand_id.split('.')[0])\n",
    "    \n",
    "    stash = load_stash(filepath)\n",
    "    \n",
    "    seq_list = []\n",
    "    round_list = []\n",
    "    \n",
    "    model_results = { i: [] for i in range(len(models)) }\n",
    "    \n",
    "    for idx, proposal_round in enumerate(stash['proposals']):\n",
    "        tensors = proposal_round['proposals']\n",
    "        \n",
    "        for j, model in enumerate(models):\n",
    "            model_results[j].append( run_model(model, tensors) )\n",
    "        \n",
    "        seqs = list( utils.batch2list(tensors) )\n",
    "        \n",
    "        seq_list += seqs\n",
    "        if round_override:\n",
    "            round_list += [round_id] * len(seqs)\n",
    "        else:\n",
    "            round_list += [idx] * len(seqs)\n",
    "        \n",
    "    line_count = len(seq_list)\n",
    "    \n",
    "    data_dict =  {\n",
    "        'sequence': seq_list,\n",
    "        'penalty_round': round_list,\n",
    "        'user': [ user ] * line_count,\n",
    "        'generator':[ gen ] * line_count,\n",
    "        'cell':[ cell ] * line_count,\n",
    "        'track':[ track_id ] * line_count,\n",
    "        'date':[ date ] * line_count,\n",
    "        'time':[ time ] * line_count,\n",
    "        'random_tag':[ rand_id ] * line_count,\n",
    "    }\n",
    "\n",
    "    relist_preds = []\n",
    "    for i in range(len(models)):\n",
    "        pred_set = model_results[i]\n",
    "        cat_preds= torch.cat(pred_set, dim=0)\n",
    "        n_preds, n_feats = cat_preds.shape\n",
    "        relist_preds.append(cat_preds)\n",
    "    avg_pred = torch.stack(relist_preds, dim=0).mean(0)\n",
    "    for j in range(n_feats):\n",
    "        data_dict[f'preds_cell_{j}'] = avg_pred[:,j].numpy()\n",
    "    \n",
    "    data = pd.DataFrame( data_dict )\n",
    "    \n",
    "    return data"
   ]
  },
  {
   "cell_type": "code",
   "execution_count": 5,
   "id": "6defb56e-b9de-4447-a6c1-c87d15e911e3",
   "metadata": {
    "collapsed": true,
    "jupyter": {
     "outputs_hidden": true
    },
    "tags": []
   },
   "outputs": [
    {
     "name": "stdout",
     "output_type": "stream",
     "text": [
      "loading 3 model(s)\n"
     ]
    },
    {
     "name": "stderr",
     "output_type": "stream",
     "text": [
      "archive unpacked in /tmp/tmpugtzdzt0\n"
     ]
    },
    {
     "name": "stdout",
     "output_type": "stream",
     "text": [
      "Loaded model from 20211113_021200 in eval mode\n"
     ]
    },
    {
     "name": "stderr",
     "output_type": "stream",
     "text": [
      "archive unpacked in /tmp/tmpz1l86koe\n"
     ]
    },
    {
     "name": "stdout",
     "output_type": "stream",
     "text": [
      "Loaded model from 20211110_194934 in eval mode\n"
     ]
    },
    {
     "name": "stderr",
     "output_type": "stream",
     "text": [
      "archive unpacked in /tmp/tmpk9ozuxu_\n"
     ]
    },
    {
     "name": "stdout",
     "output_type": "stream",
     "text": [
      "Loaded model from 20211119_011437 in eval mode\n"
     ]
    }
   ],
   "source": [
    "my_data = load_stash_to_df(test_path, *model_paths)"
   ]
  },
  {
   "cell_type": "code",
   "execution_count": 6,
   "id": "e7b136c6-19c8-4cac-adbb-54e800cf28e4",
   "metadata": {
    "collapsed": true,
    "jupyter": {
     "outputs_hidden": true
    },
    "tags": []
   },
   "outputs": [
    {
     "data": {
      "text/html": [
       "<div>\n",
       "<style scoped>\n",
       "    .dataframe tbody tr th:only-of-type {\n",
       "        vertical-align: middle;\n",
       "    }\n",
       "\n",
       "    .dataframe tbody tr th {\n",
       "        vertical-align: top;\n",
       "    }\n",
       "\n",
       "    .dataframe thead th {\n",
       "        text-align: right;\n",
       "    }\n",
       "</style>\n",
       "<table border=\"1\" class=\"dataframe\">\n",
       "  <thead>\n",
       "    <tr style=\"text-align: right;\">\n",
       "      <th></th>\n",
       "      <th>sequence</th>\n",
       "      <th>penalty_round</th>\n",
       "      <th>user</th>\n",
       "      <th>generator</th>\n",
       "      <th>cell</th>\n",
       "      <th>track</th>\n",
       "      <th>date</th>\n",
       "      <th>time</th>\n",
       "      <th>random_tag</th>\n",
       "      <th>preds_cell_0</th>\n",
       "      <th>preds_cell_1</th>\n",
       "      <th>preds_cell_2</th>\n",
       "    </tr>\n",
       "  </thead>\n",
       "  <tbody>\n",
       "    <tr>\n",
       "      <th>0</th>\n",
       "      <td>GATCTTGGACAGTGTTCAGAGCGCAGTAGTTATCCCGCTCTCCGAA...</td>\n",
       "      <td>0</td>\n",
       "      <td>sg</td>\n",
       "      <td>fsp</td>\n",
       "      <td>hepg2</td>\n",
       "      <td>1</td>\n",
       "      <td>20211207</td>\n",
       "      <td>194303</td>\n",
       "      <td>533151</td>\n",
       "      <td>-0.215762</td>\n",
       "      <td>6.250153</td>\n",
       "      <td>-0.540798</td>\n",
       "    </tr>\n",
       "    <tr>\n",
       "      <th>1</th>\n",
       "      <td>GGTGCAATTCCGTCGGGGGCCGTCGTGAGAATAGCTTGTATGCGGG...</td>\n",
       "      <td>0</td>\n",
       "      <td>sg</td>\n",
       "      <td>fsp</td>\n",
       "      <td>hepg2</td>\n",
       "      <td>1</td>\n",
       "      <td>20211207</td>\n",
       "      <td>194303</td>\n",
       "      <td>533151</td>\n",
       "      <td>-0.323467</td>\n",
       "      <td>6.939346</td>\n",
       "      <td>-0.773942</td>\n",
       "    </tr>\n",
       "    <tr>\n",
       "      <th>2</th>\n",
       "      <td>CTTCCCAAAGGCGTGAAGCAAGTGCATTGATTTAGGGTTGACGCAT...</td>\n",
       "      <td>0</td>\n",
       "      <td>sg</td>\n",
       "      <td>fsp</td>\n",
       "      <td>hepg2</td>\n",
       "      <td>1</td>\n",
       "      <td>20211207</td>\n",
       "      <td>194303</td>\n",
       "      <td>533151</td>\n",
       "      <td>-0.488120</td>\n",
       "      <td>4.720260</td>\n",
       "      <td>-0.777049</td>\n",
       "    </tr>\n",
       "    <tr>\n",
       "      <th>3</th>\n",
       "      <td>GGGTGCCCGCTGACCTGGTTAATGATTAACCAGGGGATTCTCAGCA...</td>\n",
       "      <td>0</td>\n",
       "      <td>sg</td>\n",
       "      <td>fsp</td>\n",
       "      <td>hepg2</td>\n",
       "      <td>1</td>\n",
       "      <td>20211207</td>\n",
       "      <td>194303</td>\n",
       "      <td>533151</td>\n",
       "      <td>-0.344566</td>\n",
       "      <td>11.012416</td>\n",
       "      <td>-0.617590</td>\n",
       "    </tr>\n",
       "    <tr>\n",
       "      <th>4</th>\n",
       "      <td>GGCTGGTTAATCATTAACCAGAAGACTCGCGCAACGGTCCAAAGTC...</td>\n",
       "      <td>0</td>\n",
       "      <td>sg</td>\n",
       "      <td>fsp</td>\n",
       "      <td>hepg2</td>\n",
       "      <td>1</td>\n",
       "      <td>20211207</td>\n",
       "      <td>194303</td>\n",
       "      <td>533151</td>\n",
       "      <td>-0.398559</td>\n",
       "      <td>8.773662</td>\n",
       "      <td>-0.538248</td>\n",
       "    </tr>\n",
       "    <tr>\n",
       "      <th>...</th>\n",
       "      <td>...</td>\n",
       "      <td>...</td>\n",
       "      <td>...</td>\n",
       "      <td>...</td>\n",
       "      <td>...</td>\n",
       "      <td>...</td>\n",
       "      <td>...</td>\n",
       "      <td>...</td>\n",
       "      <td>...</td>\n",
       "      <td>...</td>\n",
       "      <td>...</td>\n",
       "      <td>...</td>\n",
       "    </tr>\n",
       "    <tr>\n",
       "      <th>4495</th>\n",
       "      <td>CAATCCCAAACATTAGTGATATGGCTCAGGTAGGTGACAGGAATAT...</td>\n",
       "      <td>5</td>\n",
       "      <td>sg</td>\n",
       "      <td>fsp</td>\n",
       "      <td>hepg2</td>\n",
       "      <td>1</td>\n",
       "      <td>20211207</td>\n",
       "      <td>194303</td>\n",
       "      <td>533151</td>\n",
       "      <td>0.834062</td>\n",
       "      <td>4.443956</td>\n",
       "      <td>0.797322</td>\n",
       "    </tr>\n",
       "    <tr>\n",
       "      <th>4496</th>\n",
       "      <td>TGCTAGCGCGGTTGAAAGATTGTAACCCAGATTTTCATGTTGGTGC...</td>\n",
       "      <td>5</td>\n",
       "      <td>sg</td>\n",
       "      <td>fsp</td>\n",
       "      <td>hepg2</td>\n",
       "      <td>1</td>\n",
       "      <td>20211207</td>\n",
       "      <td>194303</td>\n",
       "      <td>533151</td>\n",
       "      <td>0.062626</td>\n",
       "      <td>4.028974</td>\n",
       "      <td>1.139594</td>\n",
       "    </tr>\n",
       "    <tr>\n",
       "      <th>4497</th>\n",
       "      <td>CGTTACGACATGAACTGGCAATGCGTTTACCTCAGTAGTATAAGTT...</td>\n",
       "      <td>5</td>\n",
       "      <td>sg</td>\n",
       "      <td>fsp</td>\n",
       "      <td>hepg2</td>\n",
       "      <td>1</td>\n",
       "      <td>20211207</td>\n",
       "      <td>194303</td>\n",
       "      <td>533151</td>\n",
       "      <td>0.107993</td>\n",
       "      <td>2.329361</td>\n",
       "      <td>0.771194</td>\n",
       "    </tr>\n",
       "    <tr>\n",
       "      <th>4498</th>\n",
       "      <td>CATTACGGGTGCCGGGAAGGTGCGTGTGAATCCAGGGCATACAGCA...</td>\n",
       "      <td>5</td>\n",
       "      <td>sg</td>\n",
       "      <td>fsp</td>\n",
       "      <td>hepg2</td>\n",
       "      <td>1</td>\n",
       "      <td>20211207</td>\n",
       "      <td>194303</td>\n",
       "      <td>533151</td>\n",
       "      <td>0.052138</td>\n",
       "      <td>1.782599</td>\n",
       "      <td>0.179298</td>\n",
       "    </tr>\n",
       "    <tr>\n",
       "      <th>4499</th>\n",
       "      <td>TAAACAGCGAGGTATCTGGCCTAGTCCTAGTTAATATTTAACAGAT...</td>\n",
       "      <td>5</td>\n",
       "      <td>sg</td>\n",
       "      <td>fsp</td>\n",
       "      <td>hepg2</td>\n",
       "      <td>1</td>\n",
       "      <td>20211207</td>\n",
       "      <td>194303</td>\n",
       "      <td>533151</td>\n",
       "      <td>1.090227</td>\n",
       "      <td>5.603910</td>\n",
       "      <td>0.636452</td>\n",
       "    </tr>\n",
       "  </tbody>\n",
       "</table>\n",
       "<p>4500 rows × 12 columns</p>\n",
       "</div>"
      ],
      "text/plain": [
       "                                               sequence  penalty_round user  \\\n",
       "0     GATCTTGGACAGTGTTCAGAGCGCAGTAGTTATCCCGCTCTCCGAA...              0   sg   \n",
       "1     GGTGCAATTCCGTCGGGGGCCGTCGTGAGAATAGCTTGTATGCGGG...              0   sg   \n",
       "2     CTTCCCAAAGGCGTGAAGCAAGTGCATTGATTTAGGGTTGACGCAT...              0   sg   \n",
       "3     GGGTGCCCGCTGACCTGGTTAATGATTAACCAGGGGATTCTCAGCA...              0   sg   \n",
       "4     GGCTGGTTAATCATTAACCAGAAGACTCGCGCAACGGTCCAAAGTC...              0   sg   \n",
       "...                                                 ...            ...  ...   \n",
       "4495  CAATCCCAAACATTAGTGATATGGCTCAGGTAGGTGACAGGAATAT...              5   sg   \n",
       "4496  TGCTAGCGCGGTTGAAAGATTGTAACCCAGATTTTCATGTTGGTGC...              5   sg   \n",
       "4497  CGTTACGACATGAACTGGCAATGCGTTTACCTCAGTAGTATAAGTT...              5   sg   \n",
       "4498  CATTACGGGTGCCGGGAAGGTGCGTGTGAATCCAGGGCATACAGCA...              5   sg   \n",
       "4499  TAAACAGCGAGGTATCTGGCCTAGTCCTAGTTAATATTTAACAGAT...              5   sg   \n",
       "\n",
       "     generator   cell  track      date    time  random_tag  preds_cell_0  \\\n",
       "0          fsp  hepg2      1  20211207  194303      533151     -0.215762   \n",
       "1          fsp  hepg2      1  20211207  194303      533151     -0.323467   \n",
       "2          fsp  hepg2      1  20211207  194303      533151     -0.488120   \n",
       "3          fsp  hepg2      1  20211207  194303      533151     -0.344566   \n",
       "4          fsp  hepg2      1  20211207  194303      533151     -0.398559   \n",
       "...        ...    ...    ...       ...     ...         ...           ...   \n",
       "4495       fsp  hepg2      1  20211207  194303      533151      0.834062   \n",
       "4496       fsp  hepg2      1  20211207  194303      533151      0.062626   \n",
       "4497       fsp  hepg2      1  20211207  194303      533151      0.107993   \n",
       "4498       fsp  hepg2      1  20211207  194303      533151      0.052138   \n",
       "4499       fsp  hepg2      1  20211207  194303      533151      1.090227   \n",
       "\n",
       "      preds_cell_1  preds_cell_2  \n",
       "0         6.250153     -0.540798  \n",
       "1         6.939346     -0.773942  \n",
       "2         4.720260     -0.777049  \n",
       "3        11.012416     -0.617590  \n",
       "4         8.773662     -0.538248  \n",
       "...            ...           ...  \n",
       "4495      4.443956      0.797322  \n",
       "4496      4.028974      1.139594  \n",
       "4497      2.329361      0.771194  \n",
       "4498      1.782599      0.179298  \n",
       "4499      5.603910      0.636452  \n",
       "\n",
       "[4500 rows x 12 columns]"
      ]
     },
     "execution_count": 6,
     "metadata": {},
     "output_type": "execute_result"
    }
   ],
   "source": [
    "my_data"
   ]
  },
  {
   "cell_type": "code",
   "execution_count": 10,
   "id": "c66fb15a-09b0-43f3-b074-2593ff613081",
   "metadata": {
    "scrolled": true,
    "tags": []
   },
   "outputs": [
    {
     "name": "stdout",
     "output_type": "stream",
     "text": [
      "loading 3 model(s)\n"
     ]
    },
    {
     "name": "stderr",
     "output_type": "stream",
     "text": [
      "archive unpacked in /tmp/tmpjeq8wszb\n"
     ]
    },
    {
     "name": "stdout",
     "output_type": "stream",
     "text": [
      "Loaded model from 20211113_021200 in eval mode\n"
     ]
    },
    {
     "name": "stderr",
     "output_type": "stream",
     "text": [
      "archive unpacked in /tmp/tmpihqvxuj_\n"
     ]
    },
    {
     "name": "stdout",
     "output_type": "stream",
     "text": [
      "Loaded model from 20211110_194934 in eval mode\n"
     ]
    },
    {
     "name": "stderr",
     "output_type": "stream",
     "text": [
      "archive unpacked in /tmp/tmpg7y09msw\n"
     ]
    },
    {
     "name": "stdout",
     "output_type": "stream",
     "text": [
      "Loaded model from 20211119_011437 in eval mode\n",
      "loading 3 model(s)\n"
     ]
    },
    {
     "name": "stderr",
     "output_type": "stream",
     "text": [
      "archive unpacked in /tmp/tmp59th0o12\n"
     ]
    },
    {
     "name": "stdout",
     "output_type": "stream",
     "text": [
      "Loaded model from 20211113_021200 in eval mode\n"
     ]
    },
    {
     "name": "stderr",
     "output_type": "stream",
     "text": [
      "archive unpacked in /tmp/tmp0sn1sdyx\n"
     ]
    },
    {
     "name": "stdout",
     "output_type": "stream",
     "text": [
      "Loaded model from 20211110_194934 in eval mode\n"
     ]
    },
    {
     "name": "stderr",
     "output_type": "stream",
     "text": [
      "archive unpacked in /tmp/tmp2b2co6bx\n"
     ]
    },
    {
     "name": "stdout",
     "output_type": "stream",
     "text": [
      "Loaded model from 20211119_011437 in eval mode\n",
      "loading 3 model(s)\n"
     ]
    },
    {
     "name": "stderr",
     "output_type": "stream",
     "text": [
      "archive unpacked in /tmp/tmpu833rduy\n"
     ]
    },
    {
     "name": "stdout",
     "output_type": "stream",
     "text": [
      "Loaded model from 20211113_021200 in eval mode\n"
     ]
    },
    {
     "name": "stderr",
     "output_type": "stream",
     "text": [
      "archive unpacked in /tmp/tmpxq6y_bnh\n"
     ]
    },
    {
     "name": "stdout",
     "output_type": "stream",
     "text": [
      "Loaded model from 20211110_194934 in eval mode\n"
     ]
    },
    {
     "name": "stderr",
     "output_type": "stream",
     "text": [
      "archive unpacked in /tmp/tmp81aftmkk\n"
     ]
    },
    {
     "name": "stdout",
     "output_type": "stream",
     "text": [
      "Loaded model from 20211119_011437 in eval mode\n",
      "loading 3 model(s)\n"
     ]
    },
    {
     "name": "stderr",
     "output_type": "stream",
     "text": [
      "archive unpacked in /tmp/tmps11qheae\n"
     ]
    },
    {
     "name": "stdout",
     "output_type": "stream",
     "text": [
      "Loaded model from 20211113_021200 in eval mode\n"
     ]
    },
    {
     "name": "stderr",
     "output_type": "stream",
     "text": [
      "archive unpacked in /tmp/tmp19dgl65i\n"
     ]
    },
    {
     "name": "stdout",
     "output_type": "stream",
     "text": [
      "Loaded model from 20211110_194934 in eval mode\n"
     ]
    },
    {
     "name": "stderr",
     "output_type": "stream",
     "text": [
      "archive unpacked in /tmp/tmpg5gkxxud\n"
     ]
    },
    {
     "name": "stdout",
     "output_type": "stream",
     "text": [
      "Loaded model from 20211119_011437 in eval mode\n",
      "loading 3 model(s)\n"
     ]
    },
    {
     "name": "stderr",
     "output_type": "stream",
     "text": [
      "archive unpacked in /tmp/tmpga_iloh8\n"
     ]
    },
    {
     "name": "stdout",
     "output_type": "stream",
     "text": [
      "Loaded model from 20211113_021200 in eval mode\n"
     ]
    },
    {
     "name": "stderr",
     "output_type": "stream",
     "text": [
      "archive unpacked in /tmp/tmphg1sr10r\n"
     ]
    },
    {
     "name": "stdout",
     "output_type": "stream",
     "text": [
      "Loaded model from 20211110_194934 in eval mode\n"
     ]
    },
    {
     "name": "stderr",
     "output_type": "stream",
     "text": [
      "archive unpacked in /tmp/tmp0j5mfcyl\n"
     ]
    },
    {
     "name": "stdout",
     "output_type": "stream",
     "text": [
      "Loaded model from 20211119_011437 in eval mode\n",
      "loading 3 model(s)\n"
     ]
    },
    {
     "name": "stderr",
     "output_type": "stream",
     "text": [
      "archive unpacked in /tmp/tmpiui60tzv\n"
     ]
    },
    {
     "name": "stdout",
     "output_type": "stream",
     "text": [
      "Loaded model from 20211113_021200 in eval mode\n"
     ]
    },
    {
     "name": "stderr",
     "output_type": "stream",
     "text": [
      "archive unpacked in /tmp/tmp40a5322g\n"
     ]
    },
    {
     "name": "stdout",
     "output_type": "stream",
     "text": [
      "Loaded model from 20211110_194934 in eval mode\n"
     ]
    },
    {
     "name": "stderr",
     "output_type": "stream",
     "text": [
      "archive unpacked in /tmp/tmp2ap3a8mm\n"
     ]
    },
    {
     "name": "stdout",
     "output_type": "stream",
     "text": [
      "Loaded model from 20211119_011437 in eval mode\n",
      "loading 3 model(s)\n"
     ]
    },
    {
     "name": "stderr",
     "output_type": "stream",
     "text": [
      "archive unpacked in /tmp/tmpcfdqzxqq\n"
     ]
    },
    {
     "name": "stdout",
     "output_type": "stream",
     "text": [
      "Loaded model from 20211113_021200 in eval mode\n"
     ]
    },
    {
     "name": "stderr",
     "output_type": "stream",
     "text": [
      "archive unpacked in /tmp/tmphxmvb060\n"
     ]
    },
    {
     "name": "stdout",
     "output_type": "stream",
     "text": [
      "Loaded model from 20211110_194934 in eval mode\n"
     ]
    },
    {
     "name": "stderr",
     "output_type": "stream",
     "text": [
      "archive unpacked in /tmp/tmp630gs19x\n"
     ]
    },
    {
     "name": "stdout",
     "output_type": "stream",
     "text": [
      "Loaded model from 20211119_011437 in eval mode\n",
      "loading 3 model(s)\n"
     ]
    },
    {
     "name": "stderr",
     "output_type": "stream",
     "text": [
      "archive unpacked in /tmp/tmpbuua8cha\n"
     ]
    },
    {
     "name": "stdout",
     "output_type": "stream",
     "text": [
      "Loaded model from 20211113_021200 in eval mode\n"
     ]
    },
    {
     "name": "stderr",
     "output_type": "stream",
     "text": [
      "archive unpacked in /tmp/tmppqhov1jt\n"
     ]
    },
    {
     "name": "stdout",
     "output_type": "stream",
     "text": [
      "Loaded model from 20211110_194934 in eval mode\n"
     ]
    },
    {
     "name": "stderr",
     "output_type": "stream",
     "text": [
      "archive unpacked in /tmp/tmp0h43_wmt\n"
     ]
    },
    {
     "name": "stdout",
     "output_type": "stream",
     "text": [
      "Loaded model from 20211119_011437 in eval mode\n",
      "loading 3 model(s)\n"
     ]
    },
    {
     "name": "stderr",
     "output_type": "stream",
     "text": [
      "archive unpacked in /tmp/tmp95ybiwsu\n"
     ]
    },
    {
     "name": "stdout",
     "output_type": "stream",
     "text": [
      "Loaded model from 20211113_021200 in eval mode\n"
     ]
    },
    {
     "name": "stderr",
     "output_type": "stream",
     "text": [
      "archive unpacked in /tmp/tmp37_ec3hk\n"
     ]
    },
    {
     "name": "stdout",
     "output_type": "stream",
     "text": [
      "Loaded model from 20211110_194934 in eval mode\n"
     ]
    },
    {
     "name": "stderr",
     "output_type": "stream",
     "text": [
      "archive unpacked in /tmp/tmpdt1e9yzu\n"
     ]
    },
    {
     "name": "stdout",
     "output_type": "stream",
     "text": [
      "Loaded model from 20211119_011437 in eval mode\n",
      "loading 3 model(s)\n"
     ]
    },
    {
     "name": "stderr",
     "output_type": "stream",
     "text": [
      "archive unpacked in /tmp/tmpa6pqsr1v\n"
     ]
    },
    {
     "name": "stdout",
     "output_type": "stream",
     "text": [
      "Loaded model from 20211113_021200 in eval mode\n"
     ]
    },
    {
     "name": "stderr",
     "output_type": "stream",
     "text": [
      "archive unpacked in /tmp/tmpcb_qccer\n"
     ]
    },
    {
     "name": "stdout",
     "output_type": "stream",
     "text": [
      "Loaded model from 20211110_194934 in eval mode\n"
     ]
    },
    {
     "name": "stderr",
     "output_type": "stream",
     "text": [
      "archive unpacked in /tmp/tmpo2n0f8ww\n"
     ]
    },
    {
     "name": "stdout",
     "output_type": "stream",
     "text": [
      "Loaded model from 20211119_011437 in eval mode\n",
      "loading 3 model(s)\n"
     ]
    },
    {
     "name": "stderr",
     "output_type": "stream",
     "text": [
      "archive unpacked in /tmp/tmp2a_q2qo4\n"
     ]
    },
    {
     "name": "stdout",
     "output_type": "stream",
     "text": [
      "Loaded model from 20211113_021200 in eval mode\n"
     ]
    },
    {
     "name": "stderr",
     "output_type": "stream",
     "text": [
      "archive unpacked in /tmp/tmp4lfehjlk\n"
     ]
    },
    {
     "name": "stdout",
     "output_type": "stream",
     "text": [
      "Loaded model from 20211110_194934 in eval mode\n"
     ]
    },
    {
     "name": "stderr",
     "output_type": "stream",
     "text": [
      "archive unpacked in /tmp/tmpyshdo40z\n"
     ]
    },
    {
     "name": "stdout",
     "output_type": "stream",
     "text": [
      "Loaded model from 20211119_011437 in eval mode\n",
      "loading 3 model(s)\n"
     ]
    },
    {
     "name": "stderr",
     "output_type": "stream",
     "text": [
      "archive unpacked in /tmp/tmpj5la2uy_\n"
     ]
    },
    {
     "name": "stdout",
     "output_type": "stream",
     "text": [
      "Loaded model from 20211113_021200 in eval mode\n"
     ]
    },
    {
     "name": "stderr",
     "output_type": "stream",
     "text": [
      "archive unpacked in /tmp/tmpxw1dotr0\n"
     ]
    },
    {
     "name": "stdout",
     "output_type": "stream",
     "text": [
      "Loaded model from 20211110_194934 in eval mode\n"
     ]
    },
    {
     "name": "stderr",
     "output_type": "stream",
     "text": [
      "archive unpacked in /tmp/tmpgf4hqfvg\n"
     ]
    },
    {
     "name": "stdout",
     "output_type": "stream",
     "text": [
      "Loaded model from 20211119_011437 in eval mode\n",
      "loading 3 model(s)\n"
     ]
    },
    {
     "name": "stderr",
     "output_type": "stream",
     "text": [
      "archive unpacked in /tmp/tmpp9aturjo\n"
     ]
    },
    {
     "name": "stdout",
     "output_type": "stream",
     "text": [
      "Loaded model from 20211113_021200 in eval mode\n"
     ]
    },
    {
     "name": "stderr",
     "output_type": "stream",
     "text": [
      "archive unpacked in /tmp/tmp6gg0o9bh\n"
     ]
    },
    {
     "name": "stdout",
     "output_type": "stream",
     "text": [
      "Loaded model from 20211110_194934 in eval mode\n"
     ]
    },
    {
     "name": "stderr",
     "output_type": "stream",
     "text": [
      "archive unpacked in /tmp/tmpjwcrtt6r\n"
     ]
    },
    {
     "name": "stdout",
     "output_type": "stream",
     "text": [
      "Loaded model from 20211119_011437 in eval mode\n",
      "loading 3 model(s)\n"
     ]
    },
    {
     "name": "stderr",
     "output_type": "stream",
     "text": [
      "archive unpacked in /tmp/tmpxh8pfuh6\n"
     ]
    },
    {
     "name": "stdout",
     "output_type": "stream",
     "text": [
      "Loaded model from 20211113_021200 in eval mode\n"
     ]
    },
    {
     "name": "stderr",
     "output_type": "stream",
     "text": [
      "archive unpacked in /tmp/tmp8ksmqnti\n"
     ]
    },
    {
     "name": "stdout",
     "output_type": "stream",
     "text": [
      "Loaded model from 20211110_194934 in eval mode\n"
     ]
    },
    {
     "name": "stderr",
     "output_type": "stream",
     "text": [
      "archive unpacked in /tmp/tmpgbj0476z\n"
     ]
    },
    {
     "name": "stdout",
     "output_type": "stream",
     "text": [
      "Loaded model from 20211119_011437 in eval mode\n",
      "loading 3 model(s)\n"
     ]
    },
    {
     "name": "stderr",
     "output_type": "stream",
     "text": [
      "archive unpacked in /tmp/tmp0pe1z8cr\n"
     ]
    },
    {
     "name": "stdout",
     "output_type": "stream",
     "text": [
      "Loaded model from 20211113_021200 in eval mode\n"
     ]
    },
    {
     "name": "stderr",
     "output_type": "stream",
     "text": [
      "archive unpacked in /tmp/tmpwvwan3gf\n"
     ]
    },
    {
     "name": "stdout",
     "output_type": "stream",
     "text": [
      "Loaded model from 20211110_194934 in eval mode\n"
     ]
    },
    {
     "name": "stderr",
     "output_type": "stream",
     "text": [
      "archive unpacked in /tmp/tmp5dskgzse\n"
     ]
    },
    {
     "name": "stdout",
     "output_type": "stream",
     "text": [
      "Loaded model from 20211119_011437 in eval mode\n",
      "loading 3 model(s)\n"
     ]
    },
    {
     "name": "stderr",
     "output_type": "stream",
     "text": [
      "archive unpacked in /tmp/tmp9oz7hqcg\n"
     ]
    },
    {
     "name": "stdout",
     "output_type": "stream",
     "text": [
      "Loaded model from 20211113_021200 in eval mode\n"
     ]
    },
    {
     "name": "stderr",
     "output_type": "stream",
     "text": [
      "archive unpacked in /tmp/tmpo8_cgh8_\n"
     ]
    },
    {
     "name": "stdout",
     "output_type": "stream",
     "text": [
      "Loaded model from 20211110_194934 in eval mode\n"
     ]
    },
    {
     "name": "stderr",
     "output_type": "stream",
     "text": [
      "archive unpacked in /tmp/tmp00w8691o\n"
     ]
    },
    {
     "name": "stdout",
     "output_type": "stream",
     "text": [
      "Loaded model from 20211119_011437 in eval mode\n",
      "loading 3 model(s)\n"
     ]
    },
    {
     "name": "stderr",
     "output_type": "stream",
     "text": [
      "archive unpacked in /tmp/tmp9qip74g3\n"
     ]
    },
    {
     "name": "stdout",
     "output_type": "stream",
     "text": [
      "Loaded model from 20211113_021200 in eval mode\n"
     ]
    },
    {
     "name": "stderr",
     "output_type": "stream",
     "text": [
      "archive unpacked in /tmp/tmpavwjd5nn\n"
     ]
    },
    {
     "name": "stdout",
     "output_type": "stream",
     "text": [
      "Loaded model from 20211110_194934 in eval mode\n"
     ]
    },
    {
     "name": "stderr",
     "output_type": "stream",
     "text": [
      "archive unpacked in /tmp/tmp40spp8eh\n"
     ]
    },
    {
     "name": "stdout",
     "output_type": "stream",
     "text": [
      "Loaded model from 20211119_011437 in eval mode\n",
      "loading 3 model(s)\n"
     ]
    },
    {
     "name": "stderr",
     "output_type": "stream",
     "text": [
      "archive unpacked in /tmp/tmpyoen224x\n"
     ]
    },
    {
     "name": "stdout",
     "output_type": "stream",
     "text": [
      "Loaded model from 20211113_021200 in eval mode\n"
     ]
    },
    {
     "name": "stderr",
     "output_type": "stream",
     "text": [
      "archive unpacked in /tmp/tmplebja3u0\n"
     ]
    },
    {
     "name": "stdout",
     "output_type": "stream",
     "text": [
      "Loaded model from 20211110_194934 in eval mode\n"
     ]
    },
    {
     "name": "stderr",
     "output_type": "stream",
     "text": [
      "archive unpacked in /tmp/tmpcdxd1cl0\n"
     ]
    },
    {
     "name": "stdout",
     "output_type": "stream",
     "text": [
      "Loaded model from 20211119_011437 in eval mode\n",
      "loading 3 model(s)\n"
     ]
    },
    {
     "name": "stderr",
     "output_type": "stream",
     "text": [
      "archive unpacked in /tmp/tmp5hhx8vxn\n"
     ]
    },
    {
     "name": "stdout",
     "output_type": "stream",
     "text": [
      "Loaded model from 20211113_021200 in eval mode\n"
     ]
    },
    {
     "name": "stderr",
     "output_type": "stream",
     "text": [
      "archive unpacked in /tmp/tmpywzc144v\n"
     ]
    },
    {
     "name": "stdout",
     "output_type": "stream",
     "text": [
      "Loaded model from 20211110_194934 in eval mode\n"
     ]
    },
    {
     "name": "stderr",
     "output_type": "stream",
     "text": [
      "archive unpacked in /tmp/tmp_fabpms_\n"
     ]
    },
    {
     "name": "stdout",
     "output_type": "stream",
     "text": [
      "Loaded model from 20211119_011437 in eval mode\n",
      "loading 3 model(s)\n"
     ]
    },
    {
     "name": "stderr",
     "output_type": "stream",
     "text": [
      "archive unpacked in /tmp/tmpfugxj76i\n"
     ]
    },
    {
     "name": "stdout",
     "output_type": "stream",
     "text": [
      "Loaded model from 20211113_021200 in eval mode\n"
     ]
    },
    {
     "name": "stderr",
     "output_type": "stream",
     "text": [
      "archive unpacked in /tmp/tmp_9ogj0gj\n"
     ]
    },
    {
     "name": "stdout",
     "output_type": "stream",
     "text": [
      "Loaded model from 20211110_194934 in eval mode\n"
     ]
    },
    {
     "name": "stderr",
     "output_type": "stream",
     "text": [
      "archive unpacked in /tmp/tmpo5ee23mp\n"
     ]
    },
    {
     "name": "stdout",
     "output_type": "stream",
     "text": [
      "Loaded model from 20211119_011437 in eval mode\n",
      "loading 3 model(s)\n"
     ]
    },
    {
     "name": "stderr",
     "output_type": "stream",
     "text": [
      "archive unpacked in /tmp/tmp4qoq4os0\n"
     ]
    },
    {
     "name": "stdout",
     "output_type": "stream",
     "text": [
      "Loaded model from 20211113_021200 in eval mode\n"
     ]
    },
    {
     "name": "stderr",
     "output_type": "stream",
     "text": [
      "archive unpacked in /tmp/tmpzwpoba7c\n"
     ]
    },
    {
     "name": "stdout",
     "output_type": "stream",
     "text": [
      "Loaded model from 20211110_194934 in eval mode\n"
     ]
    },
    {
     "name": "stderr",
     "output_type": "stream",
     "text": [
      "archive unpacked in /tmp/tmpirvitjom\n"
     ]
    },
    {
     "name": "stdout",
     "output_type": "stream",
     "text": [
      "Loaded model from 20211119_011437 in eval mode\n",
      "loading 3 model(s)\n"
     ]
    },
    {
     "name": "stderr",
     "output_type": "stream",
     "text": [
      "archive unpacked in /tmp/tmpuf3mvhex\n"
     ]
    },
    {
     "name": "stdout",
     "output_type": "stream",
     "text": [
      "Loaded model from 20211113_021200 in eval mode\n"
     ]
    },
    {
     "name": "stderr",
     "output_type": "stream",
     "text": [
      "archive unpacked in /tmp/tmpwhje95eh\n"
     ]
    },
    {
     "name": "stdout",
     "output_type": "stream",
     "text": [
      "Loaded model from 20211110_194934 in eval mode\n"
     ]
    },
    {
     "name": "stderr",
     "output_type": "stream",
     "text": [
      "archive unpacked in /tmp/tmpcg0km5hs\n"
     ]
    },
    {
     "name": "stdout",
     "output_type": "stream",
     "text": [
      "Loaded model from 20211119_011437 in eval mode\n",
      "loading 3 model(s)\n"
     ]
    },
    {
     "name": "stderr",
     "output_type": "stream",
     "text": [
      "archive unpacked in /tmp/tmpqvohly2e\n"
     ]
    },
    {
     "name": "stdout",
     "output_type": "stream",
     "text": [
      "Loaded model from 20211113_021200 in eval mode\n"
     ]
    },
    {
     "name": "stderr",
     "output_type": "stream",
     "text": [
      "archive unpacked in /tmp/tmp6s9byapf\n"
     ]
    },
    {
     "name": "stdout",
     "output_type": "stream",
     "text": [
      "Loaded model from 20211110_194934 in eval mode\n"
     ]
    },
    {
     "name": "stderr",
     "output_type": "stream",
     "text": [
      "archive unpacked in /tmp/tmpqbzet_89\n"
     ]
    },
    {
     "name": "stdout",
     "output_type": "stream",
     "text": [
      "Loaded model from 20211119_011437 in eval mode\n",
      "loading 3 model(s)\n"
     ]
    },
    {
     "name": "stderr",
     "output_type": "stream",
     "text": [
      "archive unpacked in /tmp/tmp2px_fvqa\n"
     ]
    },
    {
     "name": "stdout",
     "output_type": "stream",
     "text": [
      "Loaded model from 20211113_021200 in eval mode\n"
     ]
    },
    {
     "name": "stderr",
     "output_type": "stream",
     "text": [
      "archive unpacked in /tmp/tmpj4_sj8as\n"
     ]
    },
    {
     "name": "stdout",
     "output_type": "stream",
     "text": [
      "Loaded model from 20211110_194934 in eval mode\n"
     ]
    },
    {
     "name": "stderr",
     "output_type": "stream",
     "text": [
      "archive unpacked in /tmp/tmpsvehlexp\n"
     ]
    },
    {
     "name": "stdout",
     "output_type": "stream",
     "text": [
      "Loaded model from 20211119_011437 in eval mode\n",
      "loading 3 model(s)\n"
     ]
    },
    {
     "name": "stderr",
     "output_type": "stream",
     "text": [
      "archive unpacked in /tmp/tmpkpr97y8w\n"
     ]
    },
    {
     "name": "stdout",
     "output_type": "stream",
     "text": [
      "Loaded model from 20211113_021200 in eval mode\n"
     ]
    },
    {
     "name": "stderr",
     "output_type": "stream",
     "text": [
      "archive unpacked in /tmp/tmppcp9d9wy\n"
     ]
    },
    {
     "name": "stdout",
     "output_type": "stream",
     "text": [
      "Loaded model from 20211110_194934 in eval mode\n"
     ]
    },
    {
     "name": "stderr",
     "output_type": "stream",
     "text": [
      "archive unpacked in /tmp/tmp35g4bzv_\n"
     ]
    },
    {
     "name": "stdout",
     "output_type": "stream",
     "text": [
      "Loaded model from 20211119_011437 in eval mode\n",
      "loading 3 model(s)\n"
     ]
    },
    {
     "name": "stderr",
     "output_type": "stream",
     "text": [
      "archive unpacked in /tmp/tmpmavs84ce\n"
     ]
    },
    {
     "name": "stdout",
     "output_type": "stream",
     "text": [
      "Loaded model from 20211113_021200 in eval mode\n"
     ]
    },
    {
     "name": "stderr",
     "output_type": "stream",
     "text": [
      "archive unpacked in /tmp/tmpji3mkw_7\n"
     ]
    },
    {
     "name": "stdout",
     "output_type": "stream",
     "text": [
      "Loaded model from 20211110_194934 in eval mode\n"
     ]
    },
    {
     "name": "stderr",
     "output_type": "stream",
     "text": [
      "archive unpacked in /tmp/tmpypokns4f\n"
     ]
    },
    {
     "name": "stdout",
     "output_type": "stream",
     "text": [
      "Loaded model from 20211119_011437 in eval mode\n",
      "loading 3 model(s)\n"
     ]
    },
    {
     "name": "stderr",
     "output_type": "stream",
     "text": [
      "archive unpacked in /tmp/tmppyiprn_j\n"
     ]
    },
    {
     "name": "stdout",
     "output_type": "stream",
     "text": [
      "Loaded model from 20211113_021200 in eval mode\n"
     ]
    },
    {
     "name": "stderr",
     "output_type": "stream",
     "text": [
      "archive unpacked in /tmp/tmpwzal_r2e\n"
     ]
    },
    {
     "name": "stdout",
     "output_type": "stream",
     "text": [
      "Loaded model from 20211110_194934 in eval mode\n"
     ]
    },
    {
     "name": "stderr",
     "output_type": "stream",
     "text": [
      "archive unpacked in /tmp/tmpfd03tv36\n"
     ]
    },
    {
     "name": "stdout",
     "output_type": "stream",
     "text": [
      "Loaded model from 20211119_011437 in eval mode\n",
      "loading 3 model(s)\n"
     ]
    },
    {
     "name": "stderr",
     "output_type": "stream",
     "text": [
      "archive unpacked in /tmp/tmppaeam1c4\n"
     ]
    },
    {
     "name": "stdout",
     "output_type": "stream",
     "text": [
      "Loaded model from 20211113_021200 in eval mode\n"
     ]
    },
    {
     "name": "stderr",
     "output_type": "stream",
     "text": [
      "archive unpacked in /tmp/tmpiyjrwo24\n"
     ]
    },
    {
     "name": "stdout",
     "output_type": "stream",
     "text": [
      "Loaded model from 20211110_194934 in eval mode\n"
     ]
    },
    {
     "name": "stderr",
     "output_type": "stream",
     "text": [
      "archive unpacked in /tmp/tmpd_wusnkm\n"
     ]
    },
    {
     "name": "stdout",
     "output_type": "stream",
     "text": [
      "Loaded model from 20211119_011437 in eval mode\n",
      "loading 3 model(s)\n"
     ]
    },
    {
     "name": "stderr",
     "output_type": "stream",
     "text": [
      "archive unpacked in /tmp/tmp26x9gtjk\n"
     ]
    },
    {
     "name": "stdout",
     "output_type": "stream",
     "text": [
      "Loaded model from 20211113_021200 in eval mode\n"
     ]
    },
    {
     "name": "stderr",
     "output_type": "stream",
     "text": [
      "archive unpacked in /tmp/tmpg2hkwqhg\n"
     ]
    },
    {
     "name": "stdout",
     "output_type": "stream",
     "text": [
      "Loaded model from 20211110_194934 in eval mode\n"
     ]
    },
    {
     "name": "stderr",
     "output_type": "stream",
     "text": [
      "archive unpacked in /tmp/tmp2wblph6w\n"
     ]
    },
    {
     "name": "stdout",
     "output_type": "stream",
     "text": [
      "Loaded model from 20211119_011437 in eval mode\n",
      "loading 3 model(s)\n"
     ]
    },
    {
     "name": "stderr",
     "output_type": "stream",
     "text": [
      "archive unpacked in /tmp/tmp7i57_j92\n"
     ]
    },
    {
     "name": "stdout",
     "output_type": "stream",
     "text": [
      "Loaded model from 20211113_021200 in eval mode\n"
     ]
    },
    {
     "name": "stderr",
     "output_type": "stream",
     "text": [
      "archive unpacked in /tmp/tmpqqtytor0\n"
     ]
    },
    {
     "name": "stdout",
     "output_type": "stream",
     "text": [
      "Loaded model from 20211110_194934 in eval mode\n"
     ]
    },
    {
     "name": "stderr",
     "output_type": "stream",
     "text": [
      "archive unpacked in /tmp/tmpmwzxb9jh\n"
     ]
    },
    {
     "name": "stdout",
     "output_type": "stream",
     "text": [
      "Loaded model from 20211119_011437 in eval mode\n",
      "loading 3 model(s)\n"
     ]
    },
    {
     "name": "stderr",
     "output_type": "stream",
     "text": [
      "archive unpacked in /tmp/tmpse73ve9j\n"
     ]
    },
    {
     "name": "stdout",
     "output_type": "stream",
     "text": [
      "Loaded model from 20211113_021200 in eval mode\n"
     ]
    },
    {
     "name": "stderr",
     "output_type": "stream",
     "text": [
      "archive unpacked in /tmp/tmpt13s065_\n"
     ]
    },
    {
     "name": "stdout",
     "output_type": "stream",
     "text": [
      "Loaded model from 20211110_194934 in eval mode\n"
     ]
    },
    {
     "name": "stderr",
     "output_type": "stream",
     "text": [
      "archive unpacked in /tmp/tmpfd4q9p04\n"
     ]
    },
    {
     "name": "stdout",
     "output_type": "stream",
     "text": [
      "Loaded model from 20211119_011437 in eval mode\n",
      "loading 3 model(s)\n"
     ]
    },
    {
     "name": "stderr",
     "output_type": "stream",
     "text": [
      "archive unpacked in /tmp/tmpvwn44pq7\n"
     ]
    },
    {
     "name": "stdout",
     "output_type": "stream",
     "text": [
      "Loaded model from 20211113_021200 in eval mode\n"
     ]
    },
    {
     "name": "stderr",
     "output_type": "stream",
     "text": [
      "archive unpacked in /tmp/tmp4crvr40d\n"
     ]
    },
    {
     "name": "stdout",
     "output_type": "stream",
     "text": [
      "Loaded model from 20211110_194934 in eval mode\n"
     ]
    },
    {
     "name": "stderr",
     "output_type": "stream",
     "text": [
      "archive unpacked in /tmp/tmptcyx7cfi\n"
     ]
    },
    {
     "name": "stdout",
     "output_type": "stream",
     "text": [
      "Loaded model from 20211119_011437 in eval mode\n"
     ]
    }
   ],
   "source": [
    "all_pickle_paths = !gsutil ls $'gs://syrgoth/boda_library_design_202112/pickles'\n",
    "all_pickle_paths = [ path for path in all_pickle_paths if 'sg__' in path ]\n",
    "\n",
    "sg_data = pd.concat([ load_stash_to_df(path, *model_paths) for path in all_pickle_paths ]).reset_index(drop=True)"
   ]
  },
  {
   "cell_type": "code",
   "execution_count": 28,
   "id": "b30d28c2-4079-469d-a705-8d610201173f",
   "metadata": {},
   "outputs": [],
   "source": [
    "sg_data"
   ]
  },
  {
   "cell_type": "code",
   "execution_count": 22,
   "id": "7fb14893-7aef-4d87-9236-1bc4d223bfb8",
   "metadata": {
    "collapsed": true,
    "jupyter": {
     "outputs_hidden": true
    },
    "tags": []
   },
   "outputs": [
    {
     "name": "stdout",
     "output_type": "stream",
     "text": [
      "loading 3 model(s)\n"
     ]
    },
    {
     "name": "stderr",
     "output_type": "stream",
     "text": [
      "archive unpacked in /tmp/tmp3eu3e7yw\n"
     ]
    },
    {
     "name": "stdout",
     "output_type": "stream",
     "text": [
      "Loaded model from 20211113_021200 in eval mode\n"
     ]
    },
    {
     "name": "stderr",
     "output_type": "stream",
     "text": [
      "archive unpacked in /tmp/tmpkakpjruc\n"
     ]
    },
    {
     "name": "stdout",
     "output_type": "stream",
     "text": [
      "Loaded model from 20211110_194934 in eval mode\n"
     ]
    },
    {
     "name": "stderr",
     "output_type": "stream",
     "text": [
      "archive unpacked in /tmp/tmpxmo7iwa_\n"
     ]
    },
    {
     "name": "stdout",
     "output_type": "stream",
     "text": [
      "Loaded model from 20211119_011437 in eval mode\n",
      "loading 3 model(s)\n"
     ]
    },
    {
     "name": "stderr",
     "output_type": "stream",
     "text": [
      "archive unpacked in /tmp/tmpe_b94d8p\n"
     ]
    },
    {
     "name": "stdout",
     "output_type": "stream",
     "text": [
      "Loaded model from 20211113_021200 in eval mode\n"
     ]
    },
    {
     "name": "stderr",
     "output_type": "stream",
     "text": [
      "archive unpacked in /tmp/tmpbglsgapm\n"
     ]
    },
    {
     "name": "stdout",
     "output_type": "stream",
     "text": [
      "Loaded model from 20211110_194934 in eval mode\n"
     ]
    },
    {
     "name": "stderr",
     "output_type": "stream",
     "text": [
      "archive unpacked in /tmp/tmpfl_zdxo0\n"
     ]
    },
    {
     "name": "stdout",
     "output_type": "stream",
     "text": [
      "Loaded model from 20211119_011437 in eval mode\n",
      "loading 3 model(s)\n"
     ]
    },
    {
     "name": "stderr",
     "output_type": "stream",
     "text": [
      "archive unpacked in /tmp/tmpnfu84pxe\n"
     ]
    },
    {
     "name": "stdout",
     "output_type": "stream",
     "text": [
      "Loaded model from 20211113_021200 in eval mode\n"
     ]
    },
    {
     "name": "stderr",
     "output_type": "stream",
     "text": [
      "archive unpacked in /tmp/tmprjsrth5q\n"
     ]
    },
    {
     "name": "stdout",
     "output_type": "stream",
     "text": [
      "Loaded model from 20211110_194934 in eval mode\n"
     ]
    },
    {
     "name": "stderr",
     "output_type": "stream",
     "text": [
      "archive unpacked in /tmp/tmputu5be57\n"
     ]
    },
    {
     "name": "stdout",
     "output_type": "stream",
     "text": [
      "Loaded model from 20211119_011437 in eval mode\n",
      "loading 3 model(s)\n"
     ]
    },
    {
     "name": "stderr",
     "output_type": "stream",
     "text": [
      "archive unpacked in /tmp/tmppqnlfwoy\n"
     ]
    },
    {
     "name": "stdout",
     "output_type": "stream",
     "text": [
      "Loaded model from 20211113_021200 in eval mode\n"
     ]
    },
    {
     "name": "stderr",
     "output_type": "stream",
     "text": [
      "archive unpacked in /tmp/tmprkhqhflt\n"
     ]
    },
    {
     "name": "stdout",
     "output_type": "stream",
     "text": [
      "Loaded model from 20211110_194934 in eval mode\n"
     ]
    },
    {
     "name": "stderr",
     "output_type": "stream",
     "text": [
      "archive unpacked in /tmp/tmp49k0at9t\n"
     ]
    },
    {
     "name": "stdout",
     "output_type": "stream",
     "text": [
      "Loaded model from 20211119_011437 in eval mode\n",
      "loading 3 model(s)\n"
     ]
    },
    {
     "name": "stderr",
     "output_type": "stream",
     "text": [
      "archive unpacked in /tmp/tmpd0pcmixk\n"
     ]
    },
    {
     "name": "stdout",
     "output_type": "stream",
     "text": [
      "Loaded model from 20211113_021200 in eval mode\n"
     ]
    },
    {
     "name": "stderr",
     "output_type": "stream",
     "text": [
      "archive unpacked in /tmp/tmpb8g063hb\n"
     ]
    },
    {
     "name": "stdout",
     "output_type": "stream",
     "text": [
      "Loaded model from 20211110_194934 in eval mode\n"
     ]
    },
    {
     "name": "stderr",
     "output_type": "stream",
     "text": [
      "archive unpacked in /tmp/tmpytb0276k\n"
     ]
    },
    {
     "name": "stdout",
     "output_type": "stream",
     "text": [
      "Loaded model from 20211119_011437 in eval mode\n",
      "loading 3 model(s)\n"
     ]
    },
    {
     "name": "stderr",
     "output_type": "stream",
     "text": [
      "archive unpacked in /tmp/tmpw7v8_p0w\n"
     ]
    },
    {
     "name": "stdout",
     "output_type": "stream",
     "text": [
      "Loaded model from 20211113_021200 in eval mode\n"
     ]
    },
    {
     "name": "stderr",
     "output_type": "stream",
     "text": [
      "archive unpacked in /tmp/tmp5hcl6y37\n"
     ]
    },
    {
     "name": "stdout",
     "output_type": "stream",
     "text": [
      "Loaded model from 20211110_194934 in eval mode\n"
     ]
    },
    {
     "name": "stderr",
     "output_type": "stream",
     "text": [
      "archive unpacked in /tmp/tmp15nv24d4\n"
     ]
    },
    {
     "name": "stdout",
     "output_type": "stream",
     "text": [
      "Loaded model from 20211119_011437 in eval mode\n",
      "loading 3 model(s)\n"
     ]
    },
    {
     "name": "stderr",
     "output_type": "stream",
     "text": [
      "archive unpacked in /tmp/tmpl6sct3s3\n"
     ]
    },
    {
     "name": "stdout",
     "output_type": "stream",
     "text": [
      "Loaded model from 20211113_021200 in eval mode\n"
     ]
    },
    {
     "name": "stderr",
     "output_type": "stream",
     "text": [
      "archive unpacked in /tmp/tmprv2d66sv\n"
     ]
    },
    {
     "name": "stdout",
     "output_type": "stream",
     "text": [
      "Loaded model from 20211110_194934 in eval mode\n"
     ]
    },
    {
     "name": "stderr",
     "output_type": "stream",
     "text": [
      "archive unpacked in /tmp/tmppbkxb3uv\n"
     ]
    },
    {
     "name": "stdout",
     "output_type": "stream",
     "text": [
      "Loaded model from 20211119_011437 in eval mode\n",
      "loading 3 model(s)\n"
     ]
    },
    {
     "name": "stderr",
     "output_type": "stream",
     "text": [
      "archive unpacked in /tmp/tmpt6uxcio2\n"
     ]
    },
    {
     "name": "stdout",
     "output_type": "stream",
     "text": [
      "Loaded model from 20211113_021200 in eval mode\n"
     ]
    },
    {
     "name": "stderr",
     "output_type": "stream",
     "text": [
      "archive unpacked in /tmp/tmp6747v5xd\n"
     ]
    },
    {
     "name": "stdout",
     "output_type": "stream",
     "text": [
      "Loaded model from 20211110_194934 in eval mode\n"
     ]
    },
    {
     "name": "stderr",
     "output_type": "stream",
     "text": [
      "archive unpacked in /tmp/tmp0n2_6r5m\n"
     ]
    },
    {
     "name": "stdout",
     "output_type": "stream",
     "text": [
      "Loaded model from 20211119_011437 in eval mode\n",
      "loading 3 model(s)\n"
     ]
    },
    {
     "name": "stderr",
     "output_type": "stream",
     "text": [
      "archive unpacked in /tmp/tmp3sppk6v5\n"
     ]
    },
    {
     "name": "stdout",
     "output_type": "stream",
     "text": [
      "Loaded model from 20211113_021200 in eval mode\n"
     ]
    },
    {
     "name": "stderr",
     "output_type": "stream",
     "text": [
      "archive unpacked in /tmp/tmp7ob9fjwh\n"
     ]
    },
    {
     "name": "stdout",
     "output_type": "stream",
     "text": [
      "Loaded model from 20211110_194934 in eval mode\n"
     ]
    },
    {
     "name": "stderr",
     "output_type": "stream",
     "text": [
      "archive unpacked in /tmp/tmpsjwko8jx\n"
     ]
    },
    {
     "name": "stdout",
     "output_type": "stream",
     "text": [
      "Loaded model from 20211119_011437 in eval mode\n",
      "loading 3 model(s)\n"
     ]
    },
    {
     "name": "stderr",
     "output_type": "stream",
     "text": [
      "archive unpacked in /tmp/tmpvw4tr9_i\n"
     ]
    },
    {
     "name": "stdout",
     "output_type": "stream",
     "text": [
      "Loaded model from 20211113_021200 in eval mode\n"
     ]
    },
    {
     "name": "stderr",
     "output_type": "stream",
     "text": [
      "archive unpacked in /tmp/tmpz4bjuovv\n"
     ]
    },
    {
     "name": "stdout",
     "output_type": "stream",
     "text": [
      "Loaded model from 20211110_194934 in eval mode\n"
     ]
    },
    {
     "name": "stderr",
     "output_type": "stream",
     "text": [
      "archive unpacked in /tmp/tmpbdkqv2d3\n"
     ]
    },
    {
     "name": "stdout",
     "output_type": "stream",
     "text": [
      "Loaded model from 20211119_011437 in eval mode\n",
      "loading 3 model(s)\n"
     ]
    },
    {
     "name": "stderr",
     "output_type": "stream",
     "text": [
      "archive unpacked in /tmp/tmpxxyr_3zj\n"
     ]
    },
    {
     "name": "stdout",
     "output_type": "stream",
     "text": [
      "Loaded model from 20211113_021200 in eval mode\n"
     ]
    },
    {
     "name": "stderr",
     "output_type": "stream",
     "text": [
      "archive unpacked in /tmp/tmpclviqhvg\n"
     ]
    },
    {
     "name": "stdout",
     "output_type": "stream",
     "text": [
      "Loaded model from 20211110_194934 in eval mode\n"
     ]
    },
    {
     "name": "stderr",
     "output_type": "stream",
     "text": [
      "archive unpacked in /tmp/tmplqw6id9i\n"
     ]
    },
    {
     "name": "stdout",
     "output_type": "stream",
     "text": [
      "Loaded model from 20211119_011437 in eval mode\n",
      "loading 3 model(s)\n"
     ]
    },
    {
     "name": "stderr",
     "output_type": "stream",
     "text": [
      "archive unpacked in /tmp/tmpe7f9m85_\n"
     ]
    },
    {
     "name": "stdout",
     "output_type": "stream",
     "text": [
      "Loaded model from 20211113_021200 in eval mode\n"
     ]
    },
    {
     "name": "stderr",
     "output_type": "stream",
     "text": [
      "archive unpacked in /tmp/tmpt1oh8mqq\n"
     ]
    },
    {
     "name": "stdout",
     "output_type": "stream",
     "text": [
      "Loaded model from 20211110_194934 in eval mode\n"
     ]
    },
    {
     "name": "stderr",
     "output_type": "stream",
     "text": [
      "archive unpacked in /tmp/tmp71hl98k8\n"
     ]
    },
    {
     "name": "stdout",
     "output_type": "stream",
     "text": [
      "Loaded model from 20211119_011437 in eval mode\n",
      "loading 3 model(s)\n"
     ]
    },
    {
     "name": "stderr",
     "output_type": "stream",
     "text": [
      "archive unpacked in /tmp/tmp71yuqj27\n"
     ]
    },
    {
     "name": "stdout",
     "output_type": "stream",
     "text": [
      "Loaded model from 20211113_021200 in eval mode\n"
     ]
    },
    {
     "name": "stderr",
     "output_type": "stream",
     "text": [
      "archive unpacked in /tmp/tmpwvq5vbtv\n"
     ]
    },
    {
     "name": "stdout",
     "output_type": "stream",
     "text": [
      "Loaded model from 20211110_194934 in eval mode\n"
     ]
    },
    {
     "name": "stderr",
     "output_type": "stream",
     "text": [
      "archive unpacked in /tmp/tmpts46ls3g\n"
     ]
    },
    {
     "name": "stdout",
     "output_type": "stream",
     "text": [
      "Loaded model from 20211119_011437 in eval mode\n",
      "loading 3 model(s)\n"
     ]
    },
    {
     "name": "stderr",
     "output_type": "stream",
     "text": [
      "archive unpacked in /tmp/tmpevpc7cxo\n"
     ]
    },
    {
     "name": "stdout",
     "output_type": "stream",
     "text": [
      "Loaded model from 20211113_021200 in eval mode\n"
     ]
    },
    {
     "name": "stderr",
     "output_type": "stream",
     "text": [
      "archive unpacked in /tmp/tmpu8v8m42b\n"
     ]
    },
    {
     "name": "stdout",
     "output_type": "stream",
     "text": [
      "Loaded model from 20211110_194934 in eval mode\n"
     ]
    },
    {
     "name": "stderr",
     "output_type": "stream",
     "text": [
      "archive unpacked in /tmp/tmpq9erpndv\n"
     ]
    },
    {
     "name": "stdout",
     "output_type": "stream",
     "text": [
      "Loaded model from 20211119_011437 in eval mode\n",
      "loading 3 model(s)\n"
     ]
    },
    {
     "name": "stderr",
     "output_type": "stream",
     "text": [
      "archive unpacked in /tmp/tmp8babq_qz\n"
     ]
    },
    {
     "name": "stdout",
     "output_type": "stream",
     "text": [
      "Loaded model from 20211113_021200 in eval mode\n"
     ]
    },
    {
     "name": "stderr",
     "output_type": "stream",
     "text": [
      "archive unpacked in /tmp/tmp684w37_a\n"
     ]
    },
    {
     "name": "stdout",
     "output_type": "stream",
     "text": [
      "Loaded model from 20211110_194934 in eval mode\n"
     ]
    },
    {
     "name": "stderr",
     "output_type": "stream",
     "text": [
      "archive unpacked in /tmp/tmp7b2saqsw\n"
     ]
    },
    {
     "name": "stdout",
     "output_type": "stream",
     "text": [
      "Loaded model from 20211119_011437 in eval mode\n",
      "loading 3 model(s)\n"
     ]
    },
    {
     "name": "stderr",
     "output_type": "stream",
     "text": [
      "archive unpacked in /tmp/tmpmev943w8\n"
     ]
    },
    {
     "name": "stdout",
     "output_type": "stream",
     "text": [
      "Loaded model from 20211113_021200 in eval mode\n"
     ]
    },
    {
     "name": "stderr",
     "output_type": "stream",
     "text": [
      "archive unpacked in /tmp/tmpb2r2dxc3\n"
     ]
    },
    {
     "name": "stdout",
     "output_type": "stream",
     "text": [
      "Loaded model from 20211110_194934 in eval mode\n"
     ]
    },
    {
     "name": "stderr",
     "output_type": "stream",
     "text": [
      "archive unpacked in /tmp/tmpy38p6079\n"
     ]
    },
    {
     "name": "stdout",
     "output_type": "stream",
     "text": [
      "Loaded model from 20211119_011437 in eval mode\n",
      "loading 3 model(s)\n"
     ]
    },
    {
     "name": "stderr",
     "output_type": "stream",
     "text": [
      "archive unpacked in /tmp/tmp1mj_giz_\n"
     ]
    },
    {
     "name": "stdout",
     "output_type": "stream",
     "text": [
      "Loaded model from 20211113_021200 in eval mode\n"
     ]
    },
    {
     "name": "stderr",
     "output_type": "stream",
     "text": [
      "archive unpacked in /tmp/tmp0q2qfsk5\n"
     ]
    },
    {
     "name": "stdout",
     "output_type": "stream",
     "text": [
      "Loaded model from 20211110_194934 in eval mode\n"
     ]
    },
    {
     "name": "stderr",
     "output_type": "stream",
     "text": [
      "archive unpacked in /tmp/tmpzlbg87ao\n"
     ]
    },
    {
     "name": "stdout",
     "output_type": "stream",
     "text": [
      "Loaded model from 20211119_011437 in eval mode\n",
      "loading 3 model(s)\n"
     ]
    },
    {
     "name": "stderr",
     "output_type": "stream",
     "text": [
      "archive unpacked in /tmp/tmpsdd87gw3\n"
     ]
    },
    {
     "name": "stdout",
     "output_type": "stream",
     "text": [
      "Loaded model from 20211113_021200 in eval mode\n"
     ]
    },
    {
     "name": "stderr",
     "output_type": "stream",
     "text": [
      "archive unpacked in /tmp/tmpu5_u3_id\n"
     ]
    },
    {
     "name": "stdout",
     "output_type": "stream",
     "text": [
      "Loaded model from 20211110_194934 in eval mode\n"
     ]
    },
    {
     "name": "stderr",
     "output_type": "stream",
     "text": [
      "archive unpacked in /tmp/tmpecifd8d8\n"
     ]
    },
    {
     "name": "stdout",
     "output_type": "stream",
     "text": [
      "Loaded model from 20211119_011437 in eval mode\n",
      "loading 3 model(s)\n"
     ]
    },
    {
     "name": "stderr",
     "output_type": "stream",
     "text": [
      "archive unpacked in /tmp/tmpln6nj7t0\n"
     ]
    },
    {
     "name": "stdout",
     "output_type": "stream",
     "text": [
      "Loaded model from 20211113_021200 in eval mode\n"
     ]
    },
    {
     "name": "stderr",
     "output_type": "stream",
     "text": [
      "archive unpacked in /tmp/tmpiktq9jfu\n"
     ]
    },
    {
     "name": "stdout",
     "output_type": "stream",
     "text": [
      "Loaded model from 20211110_194934 in eval mode\n"
     ]
    },
    {
     "name": "stderr",
     "output_type": "stream",
     "text": [
      "archive unpacked in /tmp/tmpc2i_qj2i\n"
     ]
    },
    {
     "name": "stdout",
     "output_type": "stream",
     "text": [
      "Loaded model from 20211119_011437 in eval mode\n",
      "loading 3 model(s)\n"
     ]
    },
    {
     "name": "stderr",
     "output_type": "stream",
     "text": [
      "archive unpacked in /tmp/tmpj1k88j4i\n"
     ]
    },
    {
     "name": "stdout",
     "output_type": "stream",
     "text": [
      "Loaded model from 20211113_021200 in eval mode\n"
     ]
    },
    {
     "name": "stderr",
     "output_type": "stream",
     "text": [
      "archive unpacked in /tmp/tmp37enfod8\n"
     ]
    },
    {
     "name": "stdout",
     "output_type": "stream",
     "text": [
      "Loaded model from 20211110_194934 in eval mode\n"
     ]
    },
    {
     "name": "stderr",
     "output_type": "stream",
     "text": [
      "archive unpacked in /tmp/tmp2ul_xcqb\n"
     ]
    },
    {
     "name": "stdout",
     "output_type": "stream",
     "text": [
      "Loaded model from 20211119_011437 in eval mode\n",
      "loading 3 model(s)\n"
     ]
    },
    {
     "name": "stderr",
     "output_type": "stream",
     "text": [
      "archive unpacked in /tmp/tmper_0uw76\n"
     ]
    },
    {
     "name": "stdout",
     "output_type": "stream",
     "text": [
      "Loaded model from 20211113_021200 in eval mode\n"
     ]
    },
    {
     "name": "stderr",
     "output_type": "stream",
     "text": [
      "archive unpacked in /tmp/tmp0lhrljy1\n"
     ]
    },
    {
     "name": "stdout",
     "output_type": "stream",
     "text": [
      "Loaded model from 20211110_194934 in eval mode\n"
     ]
    },
    {
     "name": "stderr",
     "output_type": "stream",
     "text": [
      "archive unpacked in /tmp/tmpecq9lqmx\n"
     ]
    },
    {
     "name": "stdout",
     "output_type": "stream",
     "text": [
      "Loaded model from 20211119_011437 in eval mode\n",
      "loading 3 model(s)\n"
     ]
    },
    {
     "name": "stderr",
     "output_type": "stream",
     "text": [
      "archive unpacked in /tmp/tmponfm3oft\n"
     ]
    },
    {
     "name": "stdout",
     "output_type": "stream",
     "text": [
      "Loaded model from 20211113_021200 in eval mode\n"
     ]
    },
    {
     "name": "stderr",
     "output_type": "stream",
     "text": [
      "archive unpacked in /tmp/tmpzyfn87nb\n"
     ]
    },
    {
     "name": "stdout",
     "output_type": "stream",
     "text": [
      "Loaded model from 20211110_194934 in eval mode\n"
     ]
    },
    {
     "name": "stderr",
     "output_type": "stream",
     "text": [
      "archive unpacked in /tmp/tmp1y5c3hfd\n"
     ]
    },
    {
     "name": "stdout",
     "output_type": "stream",
     "text": [
      "Loaded model from 20211119_011437 in eval mode\n",
      "loading 3 model(s)\n"
     ]
    },
    {
     "name": "stderr",
     "output_type": "stream",
     "text": [
      "archive unpacked in /tmp/tmpd8ug1t1q\n"
     ]
    },
    {
     "name": "stdout",
     "output_type": "stream",
     "text": [
      "Loaded model from 20211113_021200 in eval mode\n"
     ]
    },
    {
     "name": "stderr",
     "output_type": "stream",
     "text": [
      "archive unpacked in /tmp/tmp6_v_je46\n"
     ]
    },
    {
     "name": "stdout",
     "output_type": "stream",
     "text": [
      "Loaded model from 20211110_194934 in eval mode\n"
     ]
    },
    {
     "name": "stderr",
     "output_type": "stream",
     "text": [
      "archive unpacked in /tmp/tmpjl83fuwh\n"
     ]
    },
    {
     "name": "stdout",
     "output_type": "stream",
     "text": [
      "Loaded model from 20211119_011437 in eval mode\n",
      "loading 3 model(s)\n"
     ]
    },
    {
     "name": "stderr",
     "output_type": "stream",
     "text": [
      "archive unpacked in /tmp/tmp8f4xzivw\n"
     ]
    },
    {
     "name": "stdout",
     "output_type": "stream",
     "text": [
      "Loaded model from 20211113_021200 in eval mode\n"
     ]
    },
    {
     "name": "stderr",
     "output_type": "stream",
     "text": [
      "archive unpacked in /tmp/tmpdbi5d7cy\n"
     ]
    },
    {
     "name": "stdout",
     "output_type": "stream",
     "text": [
      "Loaded model from 20211110_194934 in eval mode\n"
     ]
    },
    {
     "name": "stderr",
     "output_type": "stream",
     "text": [
      "archive unpacked in /tmp/tmp2f9f6d95\n"
     ]
    },
    {
     "name": "stdout",
     "output_type": "stream",
     "text": [
      "Loaded model from 20211119_011437 in eval mode\n",
      "loading 3 model(s)\n"
     ]
    },
    {
     "name": "stderr",
     "output_type": "stream",
     "text": [
      "archive unpacked in /tmp/tmpjtxw4_4s\n"
     ]
    },
    {
     "name": "stdout",
     "output_type": "stream",
     "text": [
      "Loaded model from 20211113_021200 in eval mode\n"
     ]
    },
    {
     "name": "stderr",
     "output_type": "stream",
     "text": [
      "archive unpacked in /tmp/tmpkdd8_1w9\n"
     ]
    },
    {
     "name": "stdout",
     "output_type": "stream",
     "text": [
      "Loaded model from 20211110_194934 in eval mode\n"
     ]
    },
    {
     "name": "stderr",
     "output_type": "stream",
     "text": [
      "archive unpacked in /tmp/tmpn9a9v_9w\n"
     ]
    },
    {
     "name": "stdout",
     "output_type": "stream",
     "text": [
      "Loaded model from 20211119_011437 in eval mode\n",
      "loading 3 model(s)\n"
     ]
    },
    {
     "name": "stderr",
     "output_type": "stream",
     "text": [
      "archive unpacked in /tmp/tmp30yusyrm\n"
     ]
    },
    {
     "name": "stdout",
     "output_type": "stream",
     "text": [
      "Loaded model from 20211113_021200 in eval mode\n"
     ]
    },
    {
     "name": "stderr",
     "output_type": "stream",
     "text": [
      "archive unpacked in /tmp/tmprhttxr6q\n"
     ]
    },
    {
     "name": "stdout",
     "output_type": "stream",
     "text": [
      "Loaded model from 20211110_194934 in eval mode\n"
     ]
    },
    {
     "name": "stderr",
     "output_type": "stream",
     "text": [
      "archive unpacked in /tmp/tmp8sif8c54\n"
     ]
    },
    {
     "name": "stdout",
     "output_type": "stream",
     "text": [
      "Loaded model from 20211119_011437 in eval mode\n",
      "loading 3 model(s)\n"
     ]
    },
    {
     "name": "stderr",
     "output_type": "stream",
     "text": [
      "archive unpacked in /tmp/tmpdup6jjij\n"
     ]
    },
    {
     "name": "stdout",
     "output_type": "stream",
     "text": [
      "Loaded model from 20211113_021200 in eval mode\n"
     ]
    },
    {
     "name": "stderr",
     "output_type": "stream",
     "text": [
      "archive unpacked in /tmp/tmp5slin43m\n"
     ]
    },
    {
     "name": "stdout",
     "output_type": "stream",
     "text": [
      "Loaded model from 20211110_194934 in eval mode\n"
     ]
    },
    {
     "name": "stderr",
     "output_type": "stream",
     "text": [
      "archive unpacked in /tmp/tmphmeyjz19\n"
     ]
    },
    {
     "name": "stdout",
     "output_type": "stream",
     "text": [
      "Loaded model from 20211119_011437 in eval mode\n",
      "loading 3 model(s)\n"
     ]
    },
    {
     "name": "stderr",
     "output_type": "stream",
     "text": [
      "archive unpacked in /tmp/tmpsbyaekyb\n"
     ]
    },
    {
     "name": "stdout",
     "output_type": "stream",
     "text": [
      "Loaded model from 20211113_021200 in eval mode\n"
     ]
    },
    {
     "name": "stderr",
     "output_type": "stream",
     "text": [
      "archive unpacked in /tmp/tmpbukfh9sk\n"
     ]
    },
    {
     "name": "stdout",
     "output_type": "stream",
     "text": [
      "Loaded model from 20211110_194934 in eval mode\n"
     ]
    },
    {
     "name": "stderr",
     "output_type": "stream",
     "text": [
      "archive unpacked in /tmp/tmpvwxa0rs0\n"
     ]
    },
    {
     "name": "stdout",
     "output_type": "stream",
     "text": [
      "Loaded model from 20211119_011437 in eval mode\n",
      "loading 3 model(s)\n"
     ]
    },
    {
     "name": "stderr",
     "output_type": "stream",
     "text": [
      "archive unpacked in /tmp/tmp90kzmqrs\n"
     ]
    },
    {
     "name": "stdout",
     "output_type": "stream",
     "text": [
      "Loaded model from 20211113_021200 in eval mode\n"
     ]
    },
    {
     "name": "stderr",
     "output_type": "stream",
     "text": [
      "archive unpacked in /tmp/tmpywd_xf03\n"
     ]
    },
    {
     "name": "stdout",
     "output_type": "stream",
     "text": [
      "Loaded model from 20211110_194934 in eval mode\n"
     ]
    },
    {
     "name": "stderr",
     "output_type": "stream",
     "text": [
      "archive unpacked in /tmp/tmpjmb2u93k\n"
     ]
    },
    {
     "name": "stdout",
     "output_type": "stream",
     "text": [
      "Loaded model from 20211119_011437 in eval mode\n",
      "loading 3 model(s)\n"
     ]
    },
    {
     "name": "stderr",
     "output_type": "stream",
     "text": [
      "archive unpacked in /tmp/tmp_uihwaw1\n"
     ]
    },
    {
     "name": "stdout",
     "output_type": "stream",
     "text": [
      "Loaded model from 20211113_021200 in eval mode\n"
     ]
    },
    {
     "name": "stderr",
     "output_type": "stream",
     "text": [
      "archive unpacked in /tmp/tmp5dgzhbsf\n"
     ]
    },
    {
     "name": "stdout",
     "output_type": "stream",
     "text": [
      "Loaded model from 20211110_194934 in eval mode\n"
     ]
    },
    {
     "name": "stderr",
     "output_type": "stream",
     "text": [
      "archive unpacked in /tmp/tmpq3enczq3\n"
     ]
    },
    {
     "name": "stdout",
     "output_type": "stream",
     "text": [
      "Loaded model from 20211119_011437 in eval mode\n",
      "loading 3 model(s)\n"
     ]
    },
    {
     "name": "stderr",
     "output_type": "stream",
     "text": [
      "archive unpacked in /tmp/tmp930_fsn5\n"
     ]
    },
    {
     "name": "stdout",
     "output_type": "stream",
     "text": [
      "Loaded model from 20211113_021200 in eval mode\n"
     ]
    },
    {
     "name": "stderr",
     "output_type": "stream",
     "text": [
      "archive unpacked in /tmp/tmpzojcdi8y\n"
     ]
    },
    {
     "name": "stdout",
     "output_type": "stream",
     "text": [
      "Loaded model from 20211110_194934 in eval mode\n"
     ]
    },
    {
     "name": "stderr",
     "output_type": "stream",
     "text": [
      "archive unpacked in /tmp/tmpecwii00k\n"
     ]
    },
    {
     "name": "stdout",
     "output_type": "stream",
     "text": [
      "Loaded model from 20211119_011437 in eval mode\n",
      "loading 3 model(s)\n"
     ]
    },
    {
     "name": "stderr",
     "output_type": "stream",
     "text": [
      "archive unpacked in /tmp/tmp3yy6gf6h\n"
     ]
    },
    {
     "name": "stdout",
     "output_type": "stream",
     "text": [
      "Loaded model from 20211113_021200 in eval mode\n"
     ]
    },
    {
     "name": "stderr",
     "output_type": "stream",
     "text": [
      "archive unpacked in /tmp/tmpax4np6cf\n"
     ]
    },
    {
     "name": "stdout",
     "output_type": "stream",
     "text": [
      "Loaded model from 20211110_194934 in eval mode\n"
     ]
    },
    {
     "name": "stderr",
     "output_type": "stream",
     "text": [
      "archive unpacked in /tmp/tmprsyuz211\n"
     ]
    },
    {
     "name": "stdout",
     "output_type": "stream",
     "text": [
      "Loaded model from 20211119_011437 in eval mode\n",
      "loading 3 model(s)\n"
     ]
    },
    {
     "name": "stderr",
     "output_type": "stream",
     "text": [
      "archive unpacked in /tmp/tmpv1y7jfxz\n"
     ]
    },
    {
     "name": "stdout",
     "output_type": "stream",
     "text": [
      "Loaded model from 20211113_021200 in eval mode\n"
     ]
    },
    {
     "name": "stderr",
     "output_type": "stream",
     "text": [
      "archive unpacked in /tmp/tmp8a_5hzdh\n"
     ]
    },
    {
     "name": "stdout",
     "output_type": "stream",
     "text": [
      "Loaded model from 20211110_194934 in eval mode\n"
     ]
    },
    {
     "name": "stderr",
     "output_type": "stream",
     "text": [
      "archive unpacked in /tmp/tmpf853c8li\n"
     ]
    },
    {
     "name": "stdout",
     "output_type": "stream",
     "text": [
      "Loaded model from 20211119_011437 in eval mode\n"
     ]
    }
   ],
   "source": [
    "all_pickle_paths = !gsutil ls $'gs://syrgoth/boda_library_design_202112/pickles'\n",
    "all_pickle_paths = [ path for path in all_pickle_paths if 'rc__' in path ]\n",
    "\n",
    "rc_data = pd.concat([ load_stash_to_df(path, *model_paths, round_override=True) for path in all_pickle_paths ]).reset_index(drop=True)"
   ]
  },
  {
   "cell_type": "code",
   "execution_count": 26,
   "id": "c2d90cd6-3c30-4bfc-93f0-0daf85bf1a00",
   "metadata": {},
   "outputs": [
    {
     "data": {
      "text/html": [
       "<div>\n",
       "<style scoped>\n",
       "    .dataframe tbody tr th:only-of-type {\n",
       "        vertical-align: middle;\n",
       "    }\n",
       "\n",
       "    .dataframe tbody tr th {\n",
       "        vertical-align: top;\n",
       "    }\n",
       "\n",
       "    .dataframe thead th {\n",
       "        text-align: right;\n",
       "    }\n",
       "</style>\n",
       "<table border=\"1\" class=\"dataframe\">\n",
       "  <thead>\n",
       "    <tr style=\"text-align: right;\">\n",
       "      <th></th>\n",
       "      <th>sequence</th>\n",
       "      <th>penalty_round</th>\n",
       "      <th>user</th>\n",
       "      <th>generator</th>\n",
       "      <th>cell</th>\n",
       "      <th>track</th>\n",
       "      <th>date</th>\n",
       "      <th>time</th>\n",
       "      <th>random_tag</th>\n",
       "      <th>preds_cell_0</th>\n",
       "      <th>preds_cell_1</th>\n",
       "      <th>preds_cell_2</th>\n",
       "    </tr>\n",
       "  </thead>\n",
       "  <tbody>\n",
       "    <tr>\n",
       "      <th>0</th>\n",
       "      <td>CATCTCACCTGTAAATCTCAATCAGTGCTTCGACAGATAACGGTCA...</td>\n",
       "      <td>0</td>\n",
       "      <td>rc</td>\n",
       "      <td>al</td>\n",
       "      <td>hepg2</td>\n",
       "      <td>2</td>\n",
       "      <td>20211206</td>\n",
       "      <td>25443</td>\n",
       "      <td>72806280</td>\n",
       "      <td>-1.299868</td>\n",
       "      <td>5.195824</td>\n",
       "      <td>-1.572185</td>\n",
       "    </tr>\n",
       "    <tr>\n",
       "      <th>1</th>\n",
       "      <td>TTAGCTCATCCTCTCCGTAGGGCGCACCTGCACAATCTGATGCTAG...</td>\n",
       "      <td>0</td>\n",
       "      <td>rc</td>\n",
       "      <td>al</td>\n",
       "      <td>hepg2</td>\n",
       "      <td>2</td>\n",
       "      <td>20211206</td>\n",
       "      <td>25443</td>\n",
       "      <td>72806280</td>\n",
       "      <td>-1.417148</td>\n",
       "      <td>5.089907</td>\n",
       "      <td>-1.658575</td>\n",
       "    </tr>\n",
       "    <tr>\n",
       "      <th>2</th>\n",
       "      <td>GCTCGATGCCAACGAGCCTATGACTAACATTCGATGCATACAGGTG...</td>\n",
       "      <td>0</td>\n",
       "      <td>rc</td>\n",
       "      <td>al</td>\n",
       "      <td>hepg2</td>\n",
       "      <td>2</td>\n",
       "      <td>20211206</td>\n",
       "      <td>25443</td>\n",
       "      <td>72806280</td>\n",
       "      <td>-1.393966</td>\n",
       "      <td>4.574755</td>\n",
       "      <td>-1.673908</td>\n",
       "    </tr>\n",
       "    <tr>\n",
       "      <th>3</th>\n",
       "      <td>GGCGCGACTCATTGTCATTGCCCAGTGCCATTCTATGTCAATATTT...</td>\n",
       "      <td>0</td>\n",
       "      <td>rc</td>\n",
       "      <td>al</td>\n",
       "      <td>hepg2</td>\n",
       "      <td>2</td>\n",
       "      <td>20211206</td>\n",
       "      <td>25443</td>\n",
       "      <td>72806280</td>\n",
       "      <td>-0.964659</td>\n",
       "      <td>3.159708</td>\n",
       "      <td>-1.039740</td>\n",
       "    </tr>\n",
       "    <tr>\n",
       "      <th>4</th>\n",
       "      <td>GCTCGCGCTGCGCACCTGTGCAAACAACCTTTGCCCGCCGAAGGCT...</td>\n",
       "      <td>0</td>\n",
       "      <td>rc</td>\n",
       "      <td>al</td>\n",
       "      <td>hepg2</td>\n",
       "      <td>2</td>\n",
       "      <td>20211206</td>\n",
       "      <td>25443</td>\n",
       "      <td>72806280</td>\n",
       "      <td>-1.539611</td>\n",
       "      <td>3.938985</td>\n",
       "      <td>-1.419131</td>\n",
       "    </tr>\n",
       "    <tr>\n",
       "      <th>...</th>\n",
       "      <td>...</td>\n",
       "      <td>...</td>\n",
       "      <td>...</td>\n",
       "      <td>...</td>\n",
       "      <td>...</td>\n",
       "      <td>...</td>\n",
       "      <td>...</td>\n",
       "      <td>...</td>\n",
       "      <td>...</td>\n",
       "      <td>...</td>\n",
       "      <td>...</td>\n",
       "      <td>...</td>\n",
       "    </tr>\n",
       "    <tr>\n",
       "      <th>14995</th>\n",
       "      <td>CCCTTGGTCCACGACGAGTCAAACCATCTTTCGGTACCCTGGCATC...</td>\n",
       "      <td>0</td>\n",
       "      <td>rc</td>\n",
       "      <td>al</td>\n",
       "      <td>sknsh</td>\n",
       "      <td>7</td>\n",
       "      <td>20211207</td>\n",
       "      <td>212124</td>\n",
       "      <td>46481152</td>\n",
       "      <td>-1.001719</td>\n",
       "      <td>-1.032117</td>\n",
       "      <td>4.660513</td>\n",
       "    </tr>\n",
       "    <tr>\n",
       "      <th>14996</th>\n",
       "      <td>TAGAAGGAAATTACTAAGATGCGAGTGGTACCAGAGCTAACTTAAG...</td>\n",
       "      <td>0</td>\n",
       "      <td>rc</td>\n",
       "      <td>al</td>\n",
       "      <td>sknsh</td>\n",
       "      <td>7</td>\n",
       "      <td>20211207</td>\n",
       "      <td>212124</td>\n",
       "      <td>46481152</td>\n",
       "      <td>-0.452778</td>\n",
       "      <td>-0.416581</td>\n",
       "      <td>4.058228</td>\n",
       "    </tr>\n",
       "    <tr>\n",
       "      <th>14997</th>\n",
       "      <td>CCTGGCACCGAGTGATGGGCATACGCTCCATCATACACGGAAGGGC...</td>\n",
       "      <td>0</td>\n",
       "      <td>rc</td>\n",
       "      <td>al</td>\n",
       "      <td>sknsh</td>\n",
       "      <td>7</td>\n",
       "      <td>20211207</td>\n",
       "      <td>212124</td>\n",
       "      <td>46481152</td>\n",
       "      <td>-1.136951</td>\n",
       "      <td>-1.119118</td>\n",
       "      <td>5.341090</td>\n",
       "    </tr>\n",
       "    <tr>\n",
       "      <th>14998</th>\n",
       "      <td>GCTCGAATCTGGCCCGGATGCTGATTTAAGTATGAGTCAAGGAATC...</td>\n",
       "      <td>0</td>\n",
       "      <td>rc</td>\n",
       "      <td>al</td>\n",
       "      <td>sknsh</td>\n",
       "      <td>7</td>\n",
       "      <td>20211207</td>\n",
       "      <td>212124</td>\n",
       "      <td>46481152</td>\n",
       "      <td>-0.705151</td>\n",
       "      <td>-0.815807</td>\n",
       "      <td>4.297011</td>\n",
       "    </tr>\n",
       "    <tr>\n",
       "      <th>14999</th>\n",
       "      <td>AGCATCCTTAAGAAGATGCTCAATCTCAGATTCCAATCTTACGACG...</td>\n",
       "      <td>0</td>\n",
       "      <td>rc</td>\n",
       "      <td>al</td>\n",
       "      <td>sknsh</td>\n",
       "      <td>7</td>\n",
       "      <td>20211207</td>\n",
       "      <td>212124</td>\n",
       "      <td>46481152</td>\n",
       "      <td>-1.410447</td>\n",
       "      <td>-1.505026</td>\n",
       "      <td>4.223493</td>\n",
       "    </tr>\n",
       "  </tbody>\n",
       "</table>\n",
       "<p>15000 rows × 12 columns</p>\n",
       "</div>"
      ],
      "text/plain": [
       "                                                sequence  penalty_round user  \\\n",
       "0      CATCTCACCTGTAAATCTCAATCAGTGCTTCGACAGATAACGGTCA...              0   rc   \n",
       "1      TTAGCTCATCCTCTCCGTAGGGCGCACCTGCACAATCTGATGCTAG...              0   rc   \n",
       "2      GCTCGATGCCAACGAGCCTATGACTAACATTCGATGCATACAGGTG...              0   rc   \n",
       "3      GGCGCGACTCATTGTCATTGCCCAGTGCCATTCTATGTCAATATTT...              0   rc   \n",
       "4      GCTCGCGCTGCGCACCTGTGCAAACAACCTTTGCCCGCCGAAGGCT...              0   rc   \n",
       "...                                                  ...            ...  ...   \n",
       "14995  CCCTTGGTCCACGACGAGTCAAACCATCTTTCGGTACCCTGGCATC...              0   rc   \n",
       "14996  TAGAAGGAAATTACTAAGATGCGAGTGGTACCAGAGCTAACTTAAG...              0   rc   \n",
       "14997  CCTGGCACCGAGTGATGGGCATACGCTCCATCATACACGGAAGGGC...              0   rc   \n",
       "14998  GCTCGAATCTGGCCCGGATGCTGATTTAAGTATGAGTCAAGGAATC...              0   rc   \n",
       "14999  AGCATCCTTAAGAAGATGCTCAATCTCAGATTCCAATCTTACGACG...              0   rc   \n",
       "\n",
       "      generator   cell  track      date    time  random_tag  preds_cell_0  \\\n",
       "0            al  hepg2      2  20211206   25443    72806280     -1.299868   \n",
       "1            al  hepg2      2  20211206   25443    72806280     -1.417148   \n",
       "2            al  hepg2      2  20211206   25443    72806280     -1.393966   \n",
       "3            al  hepg2      2  20211206   25443    72806280     -0.964659   \n",
       "4            al  hepg2      2  20211206   25443    72806280     -1.539611   \n",
       "...         ...    ...    ...       ...     ...         ...           ...   \n",
       "14995        al  sknsh      7  20211207  212124    46481152     -1.001719   \n",
       "14996        al  sknsh      7  20211207  212124    46481152     -0.452778   \n",
       "14997        al  sknsh      7  20211207  212124    46481152     -1.136951   \n",
       "14998        al  sknsh      7  20211207  212124    46481152     -0.705151   \n",
       "14999        al  sknsh      7  20211207  212124    46481152     -1.410447   \n",
       "\n",
       "       preds_cell_1  preds_cell_2  \n",
       "0          5.195824     -1.572185  \n",
       "1          5.089907     -1.658575  \n",
       "2          4.574755     -1.673908  \n",
       "3          3.159708     -1.039740  \n",
       "4          3.938985     -1.419131  \n",
       "...             ...           ...  \n",
       "14995     -1.032117      4.660513  \n",
       "14996     -0.416581      4.058228  \n",
       "14997     -1.119118      5.341090  \n",
       "14998     -0.815807      4.297011  \n",
       "14999     -1.505026      4.223493  \n",
       "\n",
       "[15000 rows x 12 columns]"
      ]
     },
     "execution_count": 26,
     "metadata": {},
     "output_type": "execute_result"
    }
   ],
   "source": [
    "rc_data"
   ]
  },
  {
   "cell_type": "code",
   "execution_count": 29,
   "id": "30df2639-5108-4f0e-97b1-bcd0940d6921",
   "metadata": {},
   "outputs": [],
   "source": [
    "all_data = pd.concat([sg_data,rc_data]).reset_index(drop=True)"
   ]
  },
  {
   "cell_type": "code",
   "execution_count": 30,
   "id": "e595b011-706a-4599-aed5-84f4a59edbcd",
   "metadata": {},
   "outputs": [
    {
     "data": {
      "text/html": [
       "<div>\n",
       "<style scoped>\n",
       "    .dataframe tbody tr th:only-of-type {\n",
       "        vertical-align: middle;\n",
       "    }\n",
       "\n",
       "    .dataframe tbody tr th {\n",
       "        vertical-align: top;\n",
       "    }\n",
       "\n",
       "    .dataframe thead th {\n",
       "        text-align: right;\n",
       "    }\n",
       "</style>\n",
       "<table border=\"1\" class=\"dataframe\">\n",
       "  <thead>\n",
       "    <tr style=\"text-align: right;\">\n",
       "      <th></th>\n",
       "      <th>sequence</th>\n",
       "      <th>penalty_round</th>\n",
       "      <th>user</th>\n",
       "      <th>generator</th>\n",
       "      <th>cell</th>\n",
       "      <th>track</th>\n",
       "      <th>date</th>\n",
       "      <th>time</th>\n",
       "      <th>random_tag</th>\n",
       "      <th>preds_cell_0</th>\n",
       "      <th>preds_cell_1</th>\n",
       "      <th>preds_cell_2</th>\n",
       "    </tr>\n",
       "  </thead>\n",
       "  <tbody>\n",
       "    <tr>\n",
       "      <th>0</th>\n",
       "      <td>GATCTTGGACAGTGTTCAGAGCGCAGTAGTTATCCCGCTCTCCGAA...</td>\n",
       "      <td>0</td>\n",
       "      <td>sg</td>\n",
       "      <td>fsp</td>\n",
       "      <td>hepg2</td>\n",
       "      <td>1</td>\n",
       "      <td>20211207</td>\n",
       "      <td>194303</td>\n",
       "      <td>533151</td>\n",
       "      <td>-0.215762</td>\n",
       "      <td>6.250153</td>\n",
       "      <td>-0.540798</td>\n",
       "    </tr>\n",
       "    <tr>\n",
       "      <th>1</th>\n",
       "      <td>GGTGCAATTCCGTCGGGGGCCGTCGTGAGAATAGCTTGTATGCGGG...</td>\n",
       "      <td>0</td>\n",
       "      <td>sg</td>\n",
       "      <td>fsp</td>\n",
       "      <td>hepg2</td>\n",
       "      <td>1</td>\n",
       "      <td>20211207</td>\n",
       "      <td>194303</td>\n",
       "      <td>533151</td>\n",
       "      <td>-0.323467</td>\n",
       "      <td>6.939346</td>\n",
       "      <td>-0.773942</td>\n",
       "    </tr>\n",
       "    <tr>\n",
       "      <th>2</th>\n",
       "      <td>CTTCCCAAAGGCGTGAAGCAAGTGCATTGATTTAGGGTTGACGCAT...</td>\n",
       "      <td>0</td>\n",
       "      <td>sg</td>\n",
       "      <td>fsp</td>\n",
       "      <td>hepg2</td>\n",
       "      <td>1</td>\n",
       "      <td>20211207</td>\n",
       "      <td>194303</td>\n",
       "      <td>533151</td>\n",
       "      <td>-0.488120</td>\n",
       "      <td>4.720260</td>\n",
       "      <td>-0.777049</td>\n",
       "    </tr>\n",
       "    <tr>\n",
       "      <th>3</th>\n",
       "      <td>GGGTGCCCGCTGACCTGGTTAATGATTAACCAGGGGATTCTCAGCA...</td>\n",
       "      <td>0</td>\n",
       "      <td>sg</td>\n",
       "      <td>fsp</td>\n",
       "      <td>hepg2</td>\n",
       "      <td>1</td>\n",
       "      <td>20211207</td>\n",
       "      <td>194303</td>\n",
       "      <td>533151</td>\n",
       "      <td>-0.344566</td>\n",
       "      <td>11.012416</td>\n",
       "      <td>-0.617590</td>\n",
       "    </tr>\n",
       "    <tr>\n",
       "      <th>4</th>\n",
       "      <td>GGCTGGTTAATCATTAACCAGAAGACTCGCGCAACGGTCCAAAGTC...</td>\n",
       "      <td>0</td>\n",
       "      <td>sg</td>\n",
       "      <td>fsp</td>\n",
       "      <td>hepg2</td>\n",
       "      <td>1</td>\n",
       "      <td>20211207</td>\n",
       "      <td>194303</td>\n",
       "      <td>533151</td>\n",
       "      <td>-0.398559</td>\n",
       "      <td>8.773662</td>\n",
       "      <td>-0.538248</td>\n",
       "    </tr>\n",
       "    <tr>\n",
       "      <th>...</th>\n",
       "      <td>...</td>\n",
       "      <td>...</td>\n",
       "      <td>...</td>\n",
       "      <td>...</td>\n",
       "      <td>...</td>\n",
       "      <td>...</td>\n",
       "      <td>...</td>\n",
       "      <td>...</td>\n",
       "      <td>...</td>\n",
       "      <td>...</td>\n",
       "      <td>...</td>\n",
       "      <td>...</td>\n",
       "    </tr>\n",
       "    <tr>\n",
       "      <th>195784</th>\n",
       "      <td>CCCTTGGTCCACGACGAGTCAAACCATCTTTCGGTACCCTGGCATC...</td>\n",
       "      <td>0</td>\n",
       "      <td>rc</td>\n",
       "      <td>al</td>\n",
       "      <td>sknsh</td>\n",
       "      <td>7</td>\n",
       "      <td>20211207</td>\n",
       "      <td>212124</td>\n",
       "      <td>46481152</td>\n",
       "      <td>-1.001719</td>\n",
       "      <td>-1.032117</td>\n",
       "      <td>4.660513</td>\n",
       "    </tr>\n",
       "    <tr>\n",
       "      <th>195785</th>\n",
       "      <td>TAGAAGGAAATTACTAAGATGCGAGTGGTACCAGAGCTAACTTAAG...</td>\n",
       "      <td>0</td>\n",
       "      <td>rc</td>\n",
       "      <td>al</td>\n",
       "      <td>sknsh</td>\n",
       "      <td>7</td>\n",
       "      <td>20211207</td>\n",
       "      <td>212124</td>\n",
       "      <td>46481152</td>\n",
       "      <td>-0.452778</td>\n",
       "      <td>-0.416581</td>\n",
       "      <td>4.058228</td>\n",
       "    </tr>\n",
       "    <tr>\n",
       "      <th>195786</th>\n",
       "      <td>CCTGGCACCGAGTGATGGGCATACGCTCCATCATACACGGAAGGGC...</td>\n",
       "      <td>0</td>\n",
       "      <td>rc</td>\n",
       "      <td>al</td>\n",
       "      <td>sknsh</td>\n",
       "      <td>7</td>\n",
       "      <td>20211207</td>\n",
       "      <td>212124</td>\n",
       "      <td>46481152</td>\n",
       "      <td>-1.136951</td>\n",
       "      <td>-1.119118</td>\n",
       "      <td>5.341090</td>\n",
       "    </tr>\n",
       "    <tr>\n",
       "      <th>195787</th>\n",
       "      <td>GCTCGAATCTGGCCCGGATGCTGATTTAAGTATGAGTCAAGGAATC...</td>\n",
       "      <td>0</td>\n",
       "      <td>rc</td>\n",
       "      <td>al</td>\n",
       "      <td>sknsh</td>\n",
       "      <td>7</td>\n",
       "      <td>20211207</td>\n",
       "      <td>212124</td>\n",
       "      <td>46481152</td>\n",
       "      <td>-0.705151</td>\n",
       "      <td>-0.815807</td>\n",
       "      <td>4.297011</td>\n",
       "    </tr>\n",
       "    <tr>\n",
       "      <th>195788</th>\n",
       "      <td>AGCATCCTTAAGAAGATGCTCAATCTCAGATTCCAATCTTACGACG...</td>\n",
       "      <td>0</td>\n",
       "      <td>rc</td>\n",
       "      <td>al</td>\n",
       "      <td>sknsh</td>\n",
       "      <td>7</td>\n",
       "      <td>20211207</td>\n",
       "      <td>212124</td>\n",
       "      <td>46481152</td>\n",
       "      <td>-1.410447</td>\n",
       "      <td>-1.505026</td>\n",
       "      <td>4.223493</td>\n",
       "    </tr>\n",
       "  </tbody>\n",
       "</table>\n",
       "<p>195789 rows × 12 columns</p>\n",
       "</div>"
      ],
      "text/plain": [
       "                                                 sequence  penalty_round user  \\\n",
       "0       GATCTTGGACAGTGTTCAGAGCGCAGTAGTTATCCCGCTCTCCGAA...              0   sg   \n",
       "1       GGTGCAATTCCGTCGGGGGCCGTCGTGAGAATAGCTTGTATGCGGG...              0   sg   \n",
       "2       CTTCCCAAAGGCGTGAAGCAAGTGCATTGATTTAGGGTTGACGCAT...              0   sg   \n",
       "3       GGGTGCCCGCTGACCTGGTTAATGATTAACCAGGGGATTCTCAGCA...              0   sg   \n",
       "4       GGCTGGTTAATCATTAACCAGAAGACTCGCGCAACGGTCCAAAGTC...              0   sg   \n",
       "...                                                   ...            ...  ...   \n",
       "195784  CCCTTGGTCCACGACGAGTCAAACCATCTTTCGGTACCCTGGCATC...              0   rc   \n",
       "195785  TAGAAGGAAATTACTAAGATGCGAGTGGTACCAGAGCTAACTTAAG...              0   rc   \n",
       "195786  CCTGGCACCGAGTGATGGGCATACGCTCCATCATACACGGAAGGGC...              0   rc   \n",
       "195787  GCTCGAATCTGGCCCGGATGCTGATTTAAGTATGAGTCAAGGAATC...              0   rc   \n",
       "195788  AGCATCCTTAAGAAGATGCTCAATCTCAGATTCCAATCTTACGACG...              0   rc   \n",
       "\n",
       "       generator   cell  track      date    time  random_tag  preds_cell_0  \\\n",
       "0            fsp  hepg2      1  20211207  194303      533151     -0.215762   \n",
       "1            fsp  hepg2      1  20211207  194303      533151     -0.323467   \n",
       "2            fsp  hepg2      1  20211207  194303      533151     -0.488120   \n",
       "3            fsp  hepg2      1  20211207  194303      533151     -0.344566   \n",
       "4            fsp  hepg2      1  20211207  194303      533151     -0.398559   \n",
       "...          ...    ...    ...       ...     ...         ...           ...   \n",
       "195784        al  sknsh      7  20211207  212124    46481152     -1.001719   \n",
       "195785        al  sknsh      7  20211207  212124    46481152     -0.452778   \n",
       "195786        al  sknsh      7  20211207  212124    46481152     -1.136951   \n",
       "195787        al  sknsh      7  20211207  212124    46481152     -0.705151   \n",
       "195788        al  sknsh      7  20211207  212124    46481152     -1.410447   \n",
       "\n",
       "        preds_cell_1  preds_cell_2  \n",
       "0           6.250153     -0.540798  \n",
       "1           6.939346     -0.773942  \n",
       "2           4.720260     -0.777049  \n",
       "3          11.012416     -0.617590  \n",
       "4           8.773662     -0.538248  \n",
       "...              ...           ...  \n",
       "195784     -1.032117      4.660513  \n",
       "195785     -0.416581      4.058228  \n",
       "195786     -1.119118      5.341090  \n",
       "195787     -0.815807      4.297011  \n",
       "195788     -1.505026      4.223493  \n",
       "\n",
       "[195789 rows x 12 columns]"
      ]
     },
     "execution_count": 30,
     "metadata": {},
     "output_type": "execute_result"
    }
   ],
   "source": [
    "all_data"
   ]
  }
 ],
 "metadata": {
  "kernelspec": {
   "display_name": "Python 3",
   "language": "python",
   "name": "python3"
  },
  "language_info": {
   "codemirror_mode": {
    "name": "ipython",
    "version": 3
   },
   "file_extension": ".py",
   "mimetype": "text/x-python",
   "name": "python",
   "nbconvert_exporter": "python",
   "pygments_lexer": "ipython3",
   "version": "3.7.12"
  }
 },
 "nbformat": 4,
 "nbformat_minor": 5
}
