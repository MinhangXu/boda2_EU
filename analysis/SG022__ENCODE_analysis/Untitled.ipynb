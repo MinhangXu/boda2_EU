{
 "cells": [
  {
   "cell_type": "markdown",
   "id": "31452f1d-ee6c-4ab0-8051-f7636b5cce50",
   "metadata": {},
   "source": [
    "# Setup"
   ]
  },
  {
   "cell_type": "markdown",
   "id": "27509d8a-0258-4775-8039-d8d3cd737995",
   "metadata": {},
   "source": [
    "## Download binaries"
   ]
  },
  {
   "cell_type": "code",
   "execution_count": null,
   "id": "010fddaf-6f6d-4751-bc02-aa466b118ad0",
   "metadata": {},
   "outputs": [],
   "source": [
    "!wget -nc http://hgdownload.soe.ucsc.edu/admin/exe/linux.x86_64/bigWigToBedGraph\n",
    "!wget -nc http://hgdownload.soe.ucsc.edu/admin/exe/linux.x86_64/bedGraphToBigWig\n",
    "\n",
    "!chmod 744 bigWigToBedGraph\n",
    "!chmod 744 bedGraphToBigWig"
   ]
  },
  {
   "cell_type": "markdown",
   "id": "ca6ef7f8-8a57-4a23-aaaa-483c5099aff4",
   "metadata": {},
   "source": [
    "## Download ENCODE data"
   ]
  },
  {
   "cell_type": "code",
   "execution_count": null,
   "id": "fade52bc-2284-4b77-8870-a9181f2c5ce0",
   "metadata": {},
   "outputs": [],
   "source": []
  }
 ],
 "metadata": {
  "kernelspec": {
   "display_name": "Python 3 (ipykernel)",
   "language": "python",
   "name": "python3"
  },
  "language_info": {
   "codemirror_mode": {
    "name": "ipython",
    "version": 3
   },
   "file_extension": ".py",
   "mimetype": "text/x-python",
   "name": "python",
   "nbconvert_exporter": "python",
   "pygments_lexer": "ipython3",
   "version": "3.7.12"
  }
 },
 "nbformat": 4,
 "nbformat_minor": 5
}
