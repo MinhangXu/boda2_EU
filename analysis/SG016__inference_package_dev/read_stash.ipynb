{
 "cells": [
  {
   "cell_type": "code",
   "execution_count": 1,
   "id": "a18e49d3-c6f8-4369-9c85-c2952e413dfe",
   "metadata": {},
   "outputs": [
    {
     "name": "stdout",
     "output_type": "stream",
     "text": [
      "Copying gs://syrgoth/chunked_genome/hg38_200bpWindows_50bpStep.txt...\n",
      "==> NOTE: You are downloading one or more large file(s), which would            \n",
      "run significantly faster if you enabled sliced object downloads. This\n",
      "feature is enabled by default but requires that compiled crcmod be\n",
      "installed (see \"gsutil help crcmod\").\n",
      "\n",
      "/ [1 files][ 13.1 GiB/ 13.1 GiB]  123.9 MiB/s                                   \n",
      "Operation completed over 1 objects/13.1 GiB.                                     \n"
     ]
    }
   ],
   "source": [
    "!gsutil cp gs://syrgoth/chunked_genome/hg38_200bpWindows_50bpStep.txt ./"
   ]
  },
  {
   "cell_type": "code",
   "execution_count": null,
   "id": "4d41a964-d122-43ac-897d-fb7dc994618f",
   "metadata": {},
   "outputs": [],
   "source": []
  }
 ],
 "metadata": {
  "kernelspec": {
   "display_name": "Python 3",
   "language": "python",
   "name": "python3"
  },
  "language_info": {
   "codemirror_mode": {
    "name": "ipython",
    "version": 3
   },
   "file_extension": ".py",
   "mimetype": "text/x-python",
   "name": "python",
   "nbconvert_exporter": "python",
   "pygments_lexer": "ipython3",
   "version": "3.7.12"
  }
 },
 "nbformat": 4,
 "nbformat_minor": 5
}
