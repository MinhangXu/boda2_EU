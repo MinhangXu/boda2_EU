{
 "cells": [
  {
   "cell_type": "code",
   "execution_count": 1,
   "id": "b03ed90f-b26b-466f-924a-7214e6a9e320",
   "metadata": {},
   "outputs": [],
   "source": [
    "import sys\n",
    "import os\n",
    "import shutil\n",
    "import gzip\n",
    "import multiprocessing\n",
    "\n",
    "import tqdm\n",
    "\n",
    "import torch\n",
    "import torch.nn as nn\n",
    "import torch.nn.functional as F\n",
    "import numpy as np\n",
    "import pandas as pd\n",
    "import boda"
   ]
  },
  {
   "cell_type": "code",
   "execution_count": 2,
   "id": "e6fbd3f3-5db9-400e-bd9f-9970090fba3d",
   "metadata": {},
   "outputs": [],
   "source": [
    "boda_src = os.path.join( os.path.dirname( os.path.dirname( os.getcwd() ) ), 'src' )\n",
    "sys.path.insert(0, boda_src)\n",
    "\n",
    "from main import unpack_artifact, model_fn"
   ]
  },
  {
   "cell_type": "markdown",
   "id": "1a79f830-dc0c-49ab-b1df-237e1fd26401",
   "metadata": {
    "tags": []
   },
   "source": [
    "# Set files and variables\n",
    "\n",
    "## Files\n",
    "1. BODA model artifacts\n",
    "2. ENCODE's preferred FASTA reference\n",
    "3. A GRCh38 clinvar VCF (or other VCF in GRCh38)\n",
    "\n",
    "## Variables\n",
    "These control input augmentation\n",
    "1. Size of MPRA insert\n",
    "2. First position where tested variant is places within insert\n",
    "3. Last position where tested variant is placed within insert\n",
    "4. Flag to specify if averaging predictions over reverse complement\n",
    "5. Loader batch size"
   ]
  },
  {
   "cell_type": "code",
   "execution_count": 3,
   "id": "e02a578d-1736-4f44-841c-26f0fd8e31b4",
   "metadata": {},
   "outputs": [],
   "source": [
    "hpo_rec = 'gs://syrgoth/aip_ui_test/model_artifacts__20211113_021200__287348.tar.gz' # Model\n",
    "fasta_fn = 'GRCh38_no_alt_analysis_set_GCA_000001405.15.fasta' # Genome reference\n",
    "vcf_fn = 'clinvar.vcf.gz' # VCF example\n",
    "vcf_fn = 'quicker_vars.vcf.gz'"
   ]
  },
  {
   "cell_type": "code",
   "execution_count": 4,
   "id": "05346c82-743a-4ff8-a368-0ac9f5f4d919",
   "metadata": {},
   "outputs": [],
   "source": [
    "WINDOW_SIZE = 200\n",
    "RELATIVE_START = 95\n",
    "RELATIVE_END = 105\n",
    "REVERSE_COMPLEMENTS = True\n",
    "\n",
    "BATCH_SIZE = 500"
   ]
  },
  {
   "cell_type": "markdown",
   "id": "5b786cf0-4242-4361-961d-1b263b07cd95",
   "metadata": {},
   "source": [
    "# Simple helper classes\n",
    "\n",
    "1. One class to add MPRA vector flanks to input sequences\n",
    "2. Another to predict skews from pairs of ref and alt alleles and"
   ]
  },
  {
   "cell_type": "code",
   "execution_count": 5,
   "id": "e029ac15-b849-46cf-b08a-5dd4f2fd325b",
   "metadata": {},
   "outputs": [],
   "source": [
    "class FlankBuilder(nn.Module):\n",
    "    def __init__(self,\n",
    "                 left_flank=None,\n",
    "                 right_flank=None,\n",
    "                 batch_dim=0,\n",
    "                 cat_axis=-1\n",
    "                ):\n",
    "        \n",
    "        super().__init__()\n",
    "        \n",
    "        self.register_buffer('left_flank', left_flank.detach().clone())\n",
    "        self.register_buffer('right_flank', right_flank.detach().clone())\n",
    "        \n",
    "        self.batch_dim = batch_dim\n",
    "        self.cat_axis  = cat_axis\n",
    "        \n",
    "    def add_flanks(self, my_sample):\n",
    "        *batch_dims, channels, length = my_sample.shape\n",
    "        \n",
    "        pieces = []\n",
    "        \n",
    "        if self.left_flank is not None:\n",
    "            pieces.append( self.left_flank.expand(*batch_dims, -1, -1) )\n",
    "            \n",
    "        pieces.append( my_sample )\n",
    "        \n",
    "        if self.right_flank is not None:\n",
    "            pieces.append( self.right_flank.expand(*batch_dims, -1, -1) )\n",
    "            \n",
    "        return torch.cat( pieces, axis=self.cat_axis )\n",
    "    \n",
    "    def forward(self, my_sample):\n",
    "        return self.add_flanks(my_sample)\n",
    "\n",
    "class VepTester(nn.Module):\n",
    "    \n",
    "    def __init__(self,\n",
    "                  model\n",
    "                 ):\n",
    "        \n",
    "        super().__init__()\n",
    "        self.model = model\n",
    "        \n",
    "    def forward(self, ref_batch, alt_batch):\n",
    "        \n",
    "        ref_shape, alt_shape = ref_batch.shape, alt_batch.shape\n",
    "        assert ref_shape == alt_shape\n",
    "        \n",
    "        ref_batch = ref_batch.flatten(0,1).to(self.model.device)\n",
    "        alt_batch = alt_batch.flatten(0,1).to(self.model.device)\n",
    "        \n",
    "        ref_preds = self.model(ref_batch)\n",
    "        alt_preds = self.model(alt_batch)\n",
    "\n",
    "        skew_preds = alt_preds - ref_preds\n",
    "        skew_preds = skew_preds.unflatten(0, ref_shape[0:2]).mean(1)\n",
    "\n",
    "        return skew_preds"
   ]
  },
  {
   "cell_type": "markdown",
   "id": "92f8422e-be61-4b04-ba80-94cc47003f22",
   "metadata": {},
   "source": [
    "# Load model"
   ]
  },
  {
   "cell_type": "code",
   "execution_count": 6,
   "id": "9c88bba6-66f7-4679-a103-02f52214846a",
   "metadata": {},
   "outputs": [
    {
     "name": "stderr",
     "output_type": "stream",
     "text": [
      "archive unpacked in ./\n"
     ]
    },
    {
     "name": "stdout",
     "output_type": "stream",
     "text": [
      "Loaded model from 20211113_021200 in eval mode\n"
     ]
    },
    {
     "data": {
      "text/plain": [
       "BassetBranched(\n",
       "  (pad1): ConstantPad1d(padding=(9, 9), value=0.0)\n",
       "  (conv1): Conv1dNorm(\n",
       "    (conv): Conv1d(4, 300, kernel_size=(19,), stride=(1,))\n",
       "    (bn_layer): BatchNorm1d(300, eps=1e-05, momentum=0.1, affine=True, track_running_stats=True)\n",
       "  )\n",
       "  (pad2): ConstantPad1d(padding=(5, 5), value=0.0)\n",
       "  (conv2): Conv1dNorm(\n",
       "    (conv): Conv1d(300, 200, kernel_size=(11,), stride=(1,))\n",
       "    (bn_layer): BatchNorm1d(200, eps=1e-05, momentum=0.1, affine=True, track_running_stats=True)\n",
       "  )\n",
       "  (pad3): ConstantPad1d(padding=(3, 3), value=0.0)\n",
       "  (conv3): Conv1dNorm(\n",
       "    (conv): Conv1d(200, 200, kernel_size=(7,), stride=(1,))\n",
       "    (bn_layer): BatchNorm1d(200, eps=1e-05, momentum=0.1, affine=True, track_running_stats=True)\n",
       "  )\n",
       "  (pad4): ConstantPad1d(padding=(1, 1), value=0.0)\n",
       "  (maxpool_3): MaxPool1d(kernel_size=3, stride=3, padding=0, dilation=1, ceil_mode=False)\n",
       "  (maxpool_4): MaxPool1d(kernel_size=4, stride=4, padding=0, dilation=1, ceil_mode=False)\n",
       "  (linear1): LinearNorm(\n",
       "    (linear): Linear(in_features=2600, out_features=1000, bias=True)\n",
       "    (bn_layer): BatchNorm1d(1000, eps=1e-05, momentum=0.1, affine=True, track_running_stats=True)\n",
       "  )\n",
       "  (branched): BranchedLinear(\n",
       "    (nonlin): ReLU()\n",
       "    (dropout): Dropout(p=0.5757068086404574, inplace=False)\n",
       "    (intake): RepeatLayer()\n",
       "    (branched_layer_1): GroupedLinear()\n",
       "    (branched_layer_2): GroupedLinear()\n",
       "    (branched_layer_3): GroupedLinear()\n",
       "  )\n",
       "  (output): GroupedLinear()\n",
       "  (nonlin): ReLU()\n",
       "  (dropout): Dropout(p=0.11625456877954289, inplace=False)\n",
       "  (criterion): L1KLmixed(\n",
       "    (MSE): L1Loss()\n",
       "    (KL): KLDivLoss()\n",
       "  )\n",
       ")"
      ]
     },
     "execution_count": 6,
     "metadata": {},
     "output_type": "execute_result"
    }
   ],
   "source": [
    "if os.path.isdir('./artifacts'):\n",
    "    shutil.rmtree('./artifacts')\n",
    "\n",
    "unpack_artifact(hpo_rec)\n",
    "\n",
    "model_dir = './artifacts'\n",
    "\n",
    "my_model = model_fn(model_dir)\n",
    "my_model.cuda()"
   ]
  },
  {
   "cell_type": "markdown",
   "id": "cf846dbd-edcd-45bc-8995-75870bb937f9",
   "metadata": {},
   "source": [
    "# Read VCF and FASTA\n",
    "Parsing the FASTA file takes about 8.5 minutes, so fear not. `tqdm` sees 195 contigs and calculates remaining time based on the size of the last contig. As you know, contig size is highly variable, so the timing estimates are bad."
   ]
  },
  {
   "cell_type": "code",
   "execution_count": 7,
   "id": "31151a22-58b9-4f2a-b591-825f8392bf48",
   "metadata": {
    "scrolled": true,
    "tags": []
   },
   "outputs": [
    {
     "name": "stderr",
     "output_type": "stream",
     "text": [
      "pre-reading fasta into memory\n",
      "100%|██████████| 44284892/44284892 [00:15<00:00, 2832350.11it/s]\n",
      "finding keys\n",
      "parsing\n",
      "100%|██████████| 195/195 [08:06<00:00,  2.49s/it] \n",
      "done\n",
      "66it [00:02, 23.79it/s]skipping large indel at line 611, id: 13:107222934:GTCCCAGCAGCCCCACCTCCTCATACCGTCATC:G:R:wC\n",
      "skipping large allele at line 686, id: 13:108910495:TATATATATAC:T:R:wC\n",
      "skipping large indel at line 1080, id: 13:110940361:T:TGGGAGGCTGAG:R:wC\n",
      "skipping large indel at line 1331, id: 13:111359129:T:TCCCAATACAGTGTGCAC:R:wC\n",
      "skipping large indel at line 1515, id: 13:112552087:ACAACAGCCGGGG:A:R:wC\n",
      "skipping large indel at line 1617, id: 13:113592551:GGGGTTGGTTCAGGTGAGCGCTGAT:G:R:wC\n",
      "skipping large indel at line 1684, id: 13:113641625:C:CATGCAGCCCCCGGTGGGGGGCAGGG:R:wC\n",
      "skipping large allele at line 1733, id: 13:113759830:T:TTCCTATATCC:R:wC\n",
      "skipping large indel at line 1941, id: 13:114202200:TCCACCAGCTCTTAGCTACTCGGCCCAAAGACACA:T:R:wC\n",
      "skipping large indel at line 1979, id: 13:114514584:G:GGGGGCCCTGTGTGA:R:wC\n",
      "2016it [00:02, 977.69it/s]skipping large indel at line 2028, id: 13:114562575:ATGTGTGTGCCTG:A:R:wC\n",
      "skipping large indel at line 2142, id: 13:114916023:T:TCACCTGGGGATCA:R:wC\n",
      "skipping large allele at line 2307, id: 13:20767573:AAGGACTGAAG:A:R:wC\n",
      "skipping large allele at line 3359, id: 13:27984135:ATAGAATATTT:A:R:wC\n",
      "skipping large indel at line 3406, id: 13:28024687:GTACAGCGGATCTGCGGCGAGTCCCC:G:R:wC\n",
      "skipping large indel at line 3434, id: 13:28193375:TGTTATTCATGGCTCAACAAAGCTTTGACAAGCCAAAAAG:T:R:wC\n",
      "skipping large indel at line 3703, id: 13:28995720:AGTTTTGTATCACAGAGTTT:A:R:wC\n",
      "4010it [00:02, 2217.53it/s]skipping large indel at line 4177, id: 13:33015072:CTGCCTCCCAGGCA:C:R:wC\n",
      "skipping large indel at line 4349, id: 13:35621954:A:AACAGATTAATTTTAAAATCATAATGGGTAAT:R:wC\n",
      "skipping large indel at line 4421, id: 13:36827497:ATGGAGTCTTGCTCTATCAGCCAGGC:A:R:wC\n",
      "skipping large indel at line 4458, id: 13:37004902:TCCTTTCATTCACCTTTCGAAGCAGAGCATTTGGTCCCCGTTGG:T:R:wC\n",
      "skipping large indel at line 5132, id: 13:42965473:CTTTTTCCTCTTGAGGAACTATTTTTCA:C:R:wC\n",
      "skipping large indel at line 5282, id: 13:44387870:G:GGCACAACTGGGTGCGAGAT:R:wC\n",
      "skipping large indel at line 5361, id: 13:44706478:A:ACAAAAAATCACATTTCC:R:wC\n",
      "skipping large indel at line 5520, id: 13:46058506:GAGGGATGAAGTACT:G:R:wC\n",
      "skipping large indel at line 5794, id: 13:47371659:CGTGTCACTTAT:C:R:wC\n",
      "5933it [00:03, 3670.88it/s]skipping large indel at line 6502, id: 13:50956227:CAGAAGTGCTTT:C:R:wC\n",
      "skipping large indel at line 6858, id: 13:52333955:TTTAACCCAAATCA:T:R:wC\n",
      "skipping large indel at line 6943, id: 13:52637807:A:ACCTCTGCCCTGCCGCCCCGTCTGGGATGTGGGGAGCG:R:wC\n",
      "skipping large allele at line 7075, id: 13:53682392:CACTCATGGAA:C:R:wC\n",
      "skipping large allele at line 7691, id: 13:72386896:G:GAAAAAAAGGA:R:wC\n",
      "skipping large indel at line 7800, id: 13:73704757:C:CTTTTTTTTTTT:R:wC\n",
      "7932it [00:03, 5445.18it/s]skipping large indel at line 8247, id: 13:77597260:TTCATTCATTCATTCCGTTCAC:T:R:wC\n",
      "skipping large allele at line 9076, id: 13:95418134:CGCAATCAACT:C:R:wC\n",
      "skipping large indel at line 9173, id: 13:96445617:CAGCCTGGGTGTGTAAAGAGAT:C:R:wC\n",
      "skipping large indel at line 9190, id: 13:96580604:CTCCCGGACAGGACGGCTGCCGGGCGGAGACGCTCCTCACT:C:R:wC\n",
      "skipping large indel at line 9624, id: 7:100295010:A:AAGGACAAGGTTGTGTACTCC:R:wC\n",
      "skipping large indel at line 9658, id: 7:100315894:AGCCTGTGATGTGCTTCC:A:R:wC\n",
      "9854it [00:03, 7296.99it/s]skipping large indel at line 9910, id: 7:100951944:AGGAGCCCACGT:A:R:wC\n",
      "skipping large allele at line 9938, id: 7:101000822:C:CGTGGAAGGCA:R:wC\n",
      "skipping large indel at line 9963, id: 7:10113870:CAAGGCTACTTT:C:R:wC\n",
      "skipping large allele at line 10048, id: 7:101824189:TTATTTTATTG:T:R:wC\n",
      "skipping large indel at line 10176, id: 7:102113953:G:GACACGTCGGTGTCAGGGTGAGGGGTGGCCA:R:wC\n",
      "skipping large indel at line 10507, id: 7:1044103:AGCACTGCTGGCCCACG:A:R:wC\n",
      "skipping large allele at line 11003, id: 7:108457359:AAATTACATAG:A:R:wC\n",
      "skipping large indel at line 11291, id: 7:113867592:TGAATACCTGTCTTTCTA:T:R:wC\n",
      "skipping large indel at line 11607, id: 7:116899189:CTGTGTGTGTGTGTGTGTGTGTG:C:R:wC\n",
      "11806it [00:03, 9266.49it/s]skipping large allele at line 12039, id: 7:12388090:TACATGAAAAA:T:R:wC\n",
      "skipping large indel at line 12114, id: 7:124171912:T:TAGAGTAACCAACTTTTAAAGTCA:R:wC\n",
      "skipping large indel at line 12128, id: 7:124177014:T:TTATCTTTGGAGAAGGAATC:R:wC\n",
      "skipping large indel at line 12393, id: 7:128169358:G:GATTTAAGACATTAAATC:R:wC\n",
      "skipping large indel at line 12576, id: 7:128451353:C:CAGAGAGCCTGGGA:R:wC\n",
      "skipping large indel at line 12622, id: 7:128516423:A:ATGTGTGTTTCTG:R:wC\n",
      "skipping large indel at line 12651, id: 7:128575797:TCTTAGCTATTGCTC:T:R:wC\n",
      "skipping large indel at line 12823, id: 7:129583948:GCACTTTGGGAGGC:G:R:wC\n",
      "skipping large indel at line 13300, id: 7:132559334:AGAATATTCTGGT:A:R:wC\n",
      "skipping large indel at line 13489, id: 7:134553564:TTCAAATCCTAGCTC:T:R:wC\n",
      "13683it [00:03, 8640.70it/s]skipping large allele at line 13683, id: 7:135378179:G:GTGTTAACATT:R:wC\n",
      "skipping large indel at line 13741, id: 7:135656953:ACACACGCGCACACG:A:R:wC\n",
      "skipping large indel at line 13940, id: 7:138759817:CTGGTGGGGGGG:C:R:wC\n",
      "skipping large indel at line 13956, id: 7:138781695:A:ATGACGAAAACT:R:wC\n",
      "skipping large indel at line 13989, id: 7:138796849:GGAAGGGAAAGGAAA:G:R:wC\n",
      "skipping large allele at line 14038, id: 7:139344499:TCTCTTTTCTG:T:R:wC\n",
      "skipping large allele at line 14081, id: 7:139760540:TCCCTGCTCTC:T:R:wC\n",
      "skipping large indel at line 14211, id: 7:140397307:GGGGTGCGAGGTAGGGAGC:G:R:wC\n",
      "skipping large indel at line 14225, id: 7:140411350:TCTAAAAACCAG:T:R:wC\n",
      "skipping large indel at line 14346, id: 7:141484323:CCTAACAGAAAGCTAT:C:R:wC\n",
      "skipping large allele at line 14461, id: 7:142559100:ATCCTATAGTT:A:R:wC\n",
      "skipping large indel at line 14502, id: 7:142981716:C:CAAGGTAAATTACCCAAATAG:R:wC\n",
      "skipping large indel at line 14642, id: 7:143875589:A:AGGATAATGCTGG:R:wC\n",
      "skipping large indel at line 14663, id: 7:144049836:CTACTAGTTGAA:C:R:wC\n",
      "skipping large indel at line 14824, id: 7:14773346:GAGAAAGAAATAAAGA:G:R:wC\n",
      "skipping large indel at line 14960, id: 7:148847783:TCCCCGCCTCCCGCGCCC:T:R:wC\n",
      "skipping large indel at line 15100, id: 7:148988180:AGAGCGTGGCTCTTGTGGTGTCACT:A:R:wC\n",
      "skipping large indel at line 15222, id: 7:149574170:G:GGGTCTTGTCAAGACCCCT:R:wC\n",
      "skipping large indel at line 15298, id: 7:149824348:AGGACTAGAGATGGATTCAT:A:R:wC\n",
      "skipping large indel at line 15326, id: 7:149986926:AAAATGATTTCATTAGG:A:R:wC\n",
      "skipping large indel at line 15346, id: 7:150007578:T:TCCCATCCATCCTGTTG:R:wC\n",
      "15584it [00:03, 10433.84it/s]skipping large indel at line 15706, id: 7:150727597:C:CAAATAAATAAAT:R:wC\n",
      "skipping large indel at line 15972, id: 7:151575728:T:TAGCAACCAAGCAGCCATCCTGGCCCCACAGGTGTGGGACC:R:wC\n",
      "skipping large indel at line 15973, id: 7:1516129:G:GCCTCTCCCGGATGGGCCACCC:R:wC\n",
      "skipping large indel at line 16040, id: 7:152163400:ATAGTAAATGCTATTAACATT:A:R:wC\n",
      "skipping large allele at line 16169, id: 7:1543476:T:TCCCCAAAGAC:R:wC\n",
      "skipping large indel at line 16267, id: 7:154979135:C:CTGCCTCATTGG:R:wC\n",
      "skipping large indel at line 16482, id: 7:156261476:TCTCCCTTTTCAG:T:R:wC\n",
      "skipping large indel at line 16680, id: 7:157734829:GCACAGGGGTCCTCGGCCCACCCTCCACACACAGGGGTCCTCGGCCCACCCTCCACA:G:R:wC\n",
      "skipping large indel at line 16850, id: 7:158947189:TGGTGTCGGAATGTGGGCGAC:T:R:wC\n",
      "skipping large indel at line 16942, id: 7:1603991:TTAGACAGGCATGTATGTATG:T:R:wC\n",
      "skipping large allele at line 17172, id: 7:17452873:TCATAAGGAAA:T:R:wC\n",
      "skipping large indel at line 17265, id: 7:18016420:AAAGCGTTTCCCTAACAACTCACAGATACACTGTTGGG:A:R:wC\n",
      "17470it [00:03, 12102.41it/s]skipping large indel at line 17529, id: 7:20098716:CAGCCCAGGCTGGATCTGT:C:R:wC\n",
      "skipping large indel at line 17616, id: 7:20412153:GAGAGAGAGAGACTT:G:R:wC\n",
      "skipping large indel at line 17641, id: 7:20423923:G:GTCTGAACCAAGAT:R:wC\n",
      "skipping large indel at line 17771, id: 7:21536903:TCTAGTGGCTGCCAGATGGTG:T:R:wC\n",
      "skipping large indel at line 18048, id: 7:22784486:TTATATATAAATATATATATATATATA:T:R:wC\n",
      "skipping large indel at line 18069, id: 7:22809455:A:AAAAAAGAATTTT:R:wC\n",
      "skipping large indel at line 18111, id: 7:22876441:GCCCCTATGCTCAGT:G:R:wC\n",
      "skipping large allele at line 18144, id: 7:22910822:T:TAAATAAAATA:R:wC\n",
      "skipping large indel at line 18499, id: 7:24086592:C:CATATATATATATATATATATATATATATATATATATAT:R:wC\n",
      "skipping large indel at line 18577, id: 7:24781443:GTAACAAGAATGT:G:R:wC\n",
      "skipping large indel at line 18825, id: 7:2652206:TGAGCTGTGGGCGGGGC:T:R:wC\n",
      "skipping large indel at line 19223, id: 7:28292398:C:CCTCAAGGAGCCT:R:wC\n",
      "19422it [00:03, 13738.32it/s]skipping large indel at line 19676, id: 7:30601422:TTGCATGGGAACACTGTCTA:T:R:wC\n",
      "skipping large indel at line 19684, id: 7:30602853:TGGCTAAGGGCAGAGGG:T:R:wC\n",
      "skipping large indel at line 19931, id: 7:32367417:GTGGCTTCTTTTGTGTC:G:R:wC\n",
      "skipping large indel at line 20020, id: 7:32552565:T:TGGGATCCATGAGGAGGCATGGA:R:wC\n",
      "skipping large indel at line 20186, id: 7:33925376:TGGAGGAAGAAATA:T:R:wC\n",
      "skipping large indel at line 20243, id: 7:34700457:TTGACTCATCCCTCCC:T:R:wC\n",
      "skipping large indel at line 20336, id: 7:35669337:T:TATGTCACCAAAGTATGATGTGA:R:wC\n",
      "skipping large allele at line 20411, id: 7:36086496:ATTTTATTATG:A:R:wC\n",
      "skipping large indel at line 20539, id: 7:36689709:ATCTTGGAAGCGGCCCACCACCG:A:R:wC\n",
      "skipping large indel at line 20734, id: 7:37960262:AAGGCAGTGGCAGC:A:R:wC\n",
      "skipping large allele at line 20799, id: 7:38080502:T:TTCGTCCTGTG:R:wC\n",
      "skipping large indel at line 20901, id: 7:38272807:C:CTCCACCACCACCACTG:R:wC\n",
      "21365it [00:04, 15100.48it/s]skipping large indel at line 21528, id: 7:43983601:AGGAAACTGCCC:A:R:wC\n",
      "skipping large indel at line 21625, id: 7:44082315:CCACTTAGCTGATTATTCACACATATCACA:C:R:wC\n",
      "skipping large indel at line 21627, id: 7:44083370:GTCGATCTCGTGACCCCTTGAT:G:R:wC\n",
      "skipping large allele at line 22018, id: 7:45119872:GGGGCACCAGA:G:R:wC\n",
      "skipping large indel at line 22331, id: 7:48111432:AGTGTATATTACATATTACACC:A:R:wC\n",
      "skipping large indel at line 22418, id: 7:4901465:G:GCACGTCCCCCACCACCGCGACCTT:R:wC\n",
      "skipping large indel at line 22803, id: 7:50825692:CCATCATCACTT:C:R:wC\n",
      "skipping large indel at line 22869, id: 7:5255793:A:ATGGTGTTCTAGAAGGAACTAAGATT:R:wC\n",
      "skipping large indel at line 23097, id: 7:5538960:CCTCTGAACCGACTGCTCTCTGAAACGACTGCT:C:R:wC\n",
      "skipping large allele at line 23132, id: 7:5555091:A:AAAAATAAAAT:R:wC\n",
      "skipping large indel at line 23177, id: 7:5570100:GGCCGCCTGCGGCCGGGCCGTGA:G:R:wC\n",
      "skipping large allele at line 23180, id: 7:55741330:TAAGGACACAG:T:R:wC\n",
      "skipping large indel at line 23265, id: 7:55956436:A:ATGCGTACATACG:R:wC\n",
      "23285it [00:04, 16144.86it/s]skipping large indel at line 23536, id: 7:5870739:CCTGAGATGGAATTAATATCTGTTTGTTG:C:R:wC\n",
      "skipping large indel at line 23884, id: 7:63924202:AGCTGGAGCGGACAGGACG:A:R:wC\n",
      "skipping large indel at line 24055, id: 7:64324419:T:TGCTGCGGGAGGAGCG:R:wC\n",
      "skipping large indel at line 24158, id: 7:6444731:TCCACCAGCCTCGACCTCCCAAAGTGCTGGGACTCCAGGTGTGAG:T:R:wC\n",
      "skipping large indel at line 24499, id: 7:65428557:AAGTCTCACTCTGTTGTCCAGG:A:R:wC\n",
      "skipping large indel at line 24724, id: 7:66831274:T:TGGTCCCATACTCCCAAG:R:wC\n",
      "skipping large indel at line 24735, id: 7:6712074:G:GGGGAGAGGGAGA:R:wC\n",
      "skipping large indel at line 24903, id: 7:69743566:AACATACATACAT:A:R:wC\n",
      "skipping large indel at line 24983, id: 7:7069568:TCCATCTTGATTTCATTGTTGAC:T:R:wC\n",
      "skipping large indel at line 25151, id: 7:72289018:GTGTGGTGGCATATACC:G:R:wC\n",
      "25243it [00:04, 17060.21it/s]skipping large indel at line 25529, id: 7:73242292:T:TTAGTCACTTCTG:R:wC\n",
      "skipping large indel at line 25602, id: 7:73429170:TGGGAAGGGGGTGTCTG:T:R:wC\n",
      "skipping large indel at line 25619, id: 7:73440916:CTTTGACCAATGCCTGCA:C:R:wC\n",
      "skipping large allele at line 25811, id: 7:74303582:AACAGAAAGAG:A:R:wC\n",
      "skipping large indel at line 26613, id: 7:76256625:GTCGCGTCATCGC:G:R:wC\n",
      "skipping large indel at line 26942, id: 7:77318769:A:ACAAAGCCTAAAATATTTACAAATATTTTAGGTCTG:R:wC\n",
      "skipping large indel at line 27120, id: 7:785975:TGTGACGCCCTCCTTACCGTCCTGCTGCCCCCCACCCAACATGCCC:T:R:wC\n",
      "27207it [00:04, 17772.18it/s]skipping large indel at line 27279, id: 7:80303700:AGCACAAATAAAGCACT:A:R:wC\n",
      "skipping large indel at line 27383, id: 7:81591114:GTAATGATTATAACAGTATATACAATTTCT:G:R:wC\n",
      "skipping large indel at line 27449, id: 7:8279839:A:AGCAATATTTGCTGTTCT:R:wC\n",
      "skipping large indel at line 27622, id: 7:83476278:GATGGCTTAAAGCCCC:G:R:wC\n",
      "skipping large indel at line 27940, id: 7:873473:TGCTGCTTCCTTCA:T:R:wC\n",
      "skipping large allele at line 28147, id: 7:90524618:A:ATTCTTTCCTC:R:wC\n",
      "skipping large indel at line 28576, id: 7:958549:GGAGTTGGGGACTGCTGGGGGGCA:G:R:wC\n",
      "skipping large indel at line 29037, id: 7:97942436:CCACCCCACCCCCAACTGT:C:R:wC\n",
      "29119it [00:04, 17809.51it/s]skipping large indel at line 29135, id: 7:98874653:TGAGAGAGACACAGAGAGA:T:R:wC\n",
      "skipping large allele at line 29178, id: 7:989424:TCCACACCCGG:T:R:wC\n",
      "skipping large indel at line 29244, id: 7:99044878:CTTTCTTTTTTTT:C:R:wC\n",
      "29612it [00:04, 6644.46it/s] \n"
     ]
    }
   ],
   "source": [
    "fasta_dict = boda.data.Fasta(fasta_fn)\n",
    "test_vcf = boda.data.fasta_datamodule.VCF(vcf_fn, chr_prefix='chr', max_allele_size=10, max_indel_size=10)"
   ]
  },
  {
   "cell_type": "code",
   "execution_count": 8,
   "id": "75d73655-a4ec-4faa-a65d-16967f024c23",
   "metadata": {},
   "outputs": [
    {
     "name": "stderr",
     "output_type": "stream",
     "text": [
      "filtering vcf by contig keys\n",
      "100%|██████████| 29457/29457 [00:00<00:00, 1614019.95it/s]\n",
      "returned 29457/29457 records\n"
     ]
    }
   ],
   "source": [
    "vcf_data = boda.data.fasta_datamodule.VcfDataset(test_vcf.vcf, fasta_dict.fasta, \n",
    "                                                 WINDOW_SIZE, RELATIVE_START, RELATIVE_END, \n",
    "                                                 reverse_complements=REVERSE_COMPLEMENTS)\n",
    "vcf_loader = torch.utils.data.DataLoader(vcf_data, batch_size=BATCH_SIZE, num_workers=4)"
   ]
  },
  {
   "cell_type": "markdown",
   "id": "7c883b70-1347-4372-a8b0-8ac7afc57816",
   "metadata": {},
   "source": [
    "# Prepare MPRA flanks and VEP function"
   ]
  },
  {
   "cell_type": "code",
   "execution_count": 9,
   "id": "e56c526c-022e-49ce-8284-cffde8bca997",
   "metadata": {},
   "outputs": [
    {
     "data": {
      "text/plain": [
       "torch.Size([1, 1, 4, 200])"
      ]
     },
     "execution_count": 9,
     "metadata": {},
     "output_type": "execute_result"
    }
   ],
   "source": [
    "left_flank = boda.common.utils.dna2tensor( \n",
    "    boda.common.constants.MPRA_UPSTREAM[-200:] \n",
    ").unsqueeze(0).unsqueeze(0)\n",
    "left_flank.shape\n",
    "\n",
    "right_flank= boda.common.utils.dna2tensor( \n",
    "    boda.common.constants.MPRA_DOWNSTREAM[:200] \n",
    ").unsqueeze(0).unsqueeze(0)\n",
    "right_flank.shape"
   ]
  },
  {
   "cell_type": "code",
   "execution_count": 10,
   "id": "40837570-7da6-4b33-a71e-1d9cf7475883",
   "metadata": {},
   "outputs": [],
   "source": [
    "flank_builder = FlankBuilder(\n",
    "    left_flank=left_flank,\n",
    "    right_flank=right_flank,\n",
    ")\n",
    "\n",
    "vep_tester = VepTester(my_model)"
   ]
  },
  {
   "cell_type": "markdown",
   "id": "275636f7-7f54-42e9-8ada-c82758d0beed",
   "metadata": {},
   "source": [
    "# Run VEP"
   ]
  },
  {
   "cell_type": "code",
   "execution_count": 11,
   "id": "2b8e3e7e-2640-4e11-a4d3-3d79f9079355",
   "metadata": {},
   "outputs": [
    {
     "name": "stderr",
     "output_type": "stream",
     "text": [
      "  5%|▌         | 3/59 [00:03<01:12,  1.29s/it]\n"
     ]
    },
    {
     "ename": "RuntimeError",
     "evalue": "Caught RuntimeError in DataLoader worker process 3.\nOriginal Traceback (most recent call last):\n  File \"/opt/conda/lib/python3.7/site-packages/torch/utils/data/_utils/worker.py\", line 287, in _worker_loop\n    data = fetcher.fetch(index)\n  File \"/opt/conda/lib/python3.7/site-packages/torch/utils/data/_utils/fetch.py\", line 49, in fetch\n    data = [self.dataset[idx] for idx in possibly_batched_index]\n  File \"/opt/conda/lib/python3.7/site-packages/torch/utils/data/_utils/fetch.py\", line 49, in <listcomp>\n    data = [self.dataset[idx] for idx in possibly_batched_index]\n  File \"/home/ubuntu/boda2/boda/data/fasta_datamodule.py\", line 366, in __getitem__\n    ref_slices = self.window_slicer(ref_segments)\n  File \"/opt/conda/lib/python3.7/site-packages/torch/nn/modules/module.py\", line 1102, in _call_impl\n    return forward_call(*input, **kwargs)\n  File \"/home/ubuntu/boda2/boda/data/fasta_datamodule.py\", line 46, in forward\n    hook = F.conv1d(input, self.weight)\nRuntimeError: Calculated padded input size per channel: (1). Kernel size: (200). Kernel size can't be greater than actual input size\n",
     "output_type": "error",
     "traceback": [
      "\u001b[0;31m---------------------------------------------------------------------------\u001b[0m",
      "\u001b[0;31mRuntimeError\u001b[0m                              Traceback (most recent call last)",
      "\u001b[0;32m<ipython-input-11-9251b4394c33>\u001b[0m in \u001b[0;36m<module>\u001b[0;34m\u001b[0m\n\u001b[1;32m      2\u001b[0m \u001b[0;34m\u001b[0m\u001b[0m\n\u001b[1;32m      3\u001b[0m \u001b[0;32mwith\u001b[0m \u001b[0mtorch\u001b[0m\u001b[0;34m.\u001b[0m\u001b[0mno_grad\u001b[0m\u001b[0;34m(\u001b[0m\u001b[0;34m)\u001b[0m\u001b[0;34m:\u001b[0m\u001b[0;34m\u001b[0m\u001b[0;34m\u001b[0m\u001b[0m\n\u001b[0;32m----> 4\u001b[0;31m     \u001b[0;32mfor\u001b[0m \u001b[0mi\u001b[0m\u001b[0;34m,\u001b[0m \u001b[0mbatch\u001b[0m \u001b[0;32min\u001b[0m \u001b[0menumerate\u001b[0m\u001b[0;34m(\u001b[0m\u001b[0mtqdm\u001b[0m\u001b[0;34m.\u001b[0m\u001b[0mtqdm\u001b[0m\u001b[0;34m(\u001b[0m\u001b[0mvcf_loader\u001b[0m\u001b[0;34m)\u001b[0m\u001b[0;34m)\u001b[0m\u001b[0;34m:\u001b[0m\u001b[0;34m\u001b[0m\u001b[0;34m\u001b[0m\u001b[0m\n\u001b[0m\u001b[1;32m      5\u001b[0m         \u001b[0mref_allele\u001b[0m\u001b[0;34m,\u001b[0m \u001b[0malt_allele\u001b[0m \u001b[0;34m=\u001b[0m \u001b[0mbatch\u001b[0m\u001b[0;34m[\u001b[0m\u001b[0;34m'ref'\u001b[0m\u001b[0;34m]\u001b[0m\u001b[0;34m,\u001b[0m \u001b[0mbatch\u001b[0m\u001b[0;34m[\u001b[0m\u001b[0;34m'alt'\u001b[0m\u001b[0;34m]\u001b[0m\u001b[0;34m\u001b[0m\u001b[0;34m\u001b[0m\u001b[0m\n\u001b[1;32m      6\u001b[0m \u001b[0;34m\u001b[0m\u001b[0m\n",
      "\u001b[0;32m/opt/conda/lib/python3.7/site-packages/tqdm/std.py\u001b[0m in \u001b[0;36m__iter__\u001b[0;34m(self)\u001b[0m\n\u001b[1;32m   1176\u001b[0m \u001b[0;34m\u001b[0m\u001b[0m\n\u001b[1;32m   1177\u001b[0m         \u001b[0;32mtry\u001b[0m\u001b[0;34m:\u001b[0m\u001b[0;34m\u001b[0m\u001b[0;34m\u001b[0m\u001b[0m\n\u001b[0;32m-> 1178\u001b[0;31m             \u001b[0;32mfor\u001b[0m \u001b[0mobj\u001b[0m \u001b[0;32min\u001b[0m \u001b[0miterable\u001b[0m\u001b[0;34m:\u001b[0m\u001b[0;34m\u001b[0m\u001b[0;34m\u001b[0m\u001b[0m\n\u001b[0m\u001b[1;32m   1179\u001b[0m                 \u001b[0;32myield\u001b[0m \u001b[0mobj\u001b[0m\u001b[0;34m\u001b[0m\u001b[0;34m\u001b[0m\u001b[0m\n\u001b[1;32m   1180\u001b[0m                 \u001b[0;31m# Update and possibly print the progressbar.\u001b[0m\u001b[0;34m\u001b[0m\u001b[0;34m\u001b[0m\u001b[0;34m\u001b[0m\u001b[0m\n",
      "\u001b[0;32m/opt/conda/lib/python3.7/site-packages/torch/utils/data/dataloader.py\u001b[0m in \u001b[0;36m__next__\u001b[0;34m(self)\u001b[0m\n\u001b[1;32m    519\u001b[0m             \u001b[0;32mif\u001b[0m \u001b[0mself\u001b[0m\u001b[0;34m.\u001b[0m\u001b[0m_sampler_iter\u001b[0m \u001b[0;32mis\u001b[0m \u001b[0;32mNone\u001b[0m\u001b[0;34m:\u001b[0m\u001b[0;34m\u001b[0m\u001b[0;34m\u001b[0m\u001b[0m\n\u001b[1;32m    520\u001b[0m                 \u001b[0mself\u001b[0m\u001b[0;34m.\u001b[0m\u001b[0m_reset\u001b[0m\u001b[0;34m(\u001b[0m\u001b[0;34m)\u001b[0m\u001b[0;34m\u001b[0m\u001b[0;34m\u001b[0m\u001b[0m\n\u001b[0;32m--> 521\u001b[0;31m             \u001b[0mdata\u001b[0m \u001b[0;34m=\u001b[0m \u001b[0mself\u001b[0m\u001b[0;34m.\u001b[0m\u001b[0m_next_data\u001b[0m\u001b[0;34m(\u001b[0m\u001b[0;34m)\u001b[0m\u001b[0;34m\u001b[0m\u001b[0;34m\u001b[0m\u001b[0m\n\u001b[0m\u001b[1;32m    522\u001b[0m             \u001b[0mself\u001b[0m\u001b[0;34m.\u001b[0m\u001b[0m_num_yielded\u001b[0m \u001b[0;34m+=\u001b[0m \u001b[0;36m1\u001b[0m\u001b[0;34m\u001b[0m\u001b[0;34m\u001b[0m\u001b[0m\n\u001b[1;32m    523\u001b[0m             \u001b[0;32mif\u001b[0m \u001b[0mself\u001b[0m\u001b[0;34m.\u001b[0m\u001b[0m_dataset_kind\u001b[0m \u001b[0;34m==\u001b[0m \u001b[0m_DatasetKind\u001b[0m\u001b[0;34m.\u001b[0m\u001b[0mIterable\u001b[0m \u001b[0;32mand\u001b[0m\u001b[0;31m \u001b[0m\u001b[0;31m\\\u001b[0m\u001b[0;34m\u001b[0m\u001b[0;34m\u001b[0m\u001b[0m\n",
      "\u001b[0;32m/opt/conda/lib/python3.7/site-packages/torch/utils/data/dataloader.py\u001b[0m in \u001b[0;36m_next_data\u001b[0;34m(self)\u001b[0m\n\u001b[1;32m   1181\u001b[0m             \u001b[0;32mif\u001b[0m \u001b[0mlen\u001b[0m\u001b[0;34m(\u001b[0m\u001b[0mself\u001b[0m\u001b[0;34m.\u001b[0m\u001b[0m_task_info\u001b[0m\u001b[0;34m[\u001b[0m\u001b[0mself\u001b[0m\u001b[0;34m.\u001b[0m\u001b[0m_rcvd_idx\u001b[0m\u001b[0;34m]\u001b[0m\u001b[0;34m)\u001b[0m \u001b[0;34m==\u001b[0m \u001b[0;36m2\u001b[0m\u001b[0;34m:\u001b[0m\u001b[0;34m\u001b[0m\u001b[0;34m\u001b[0m\u001b[0m\n\u001b[1;32m   1182\u001b[0m                 \u001b[0mdata\u001b[0m \u001b[0;34m=\u001b[0m \u001b[0mself\u001b[0m\u001b[0;34m.\u001b[0m\u001b[0m_task_info\u001b[0m\u001b[0;34m.\u001b[0m\u001b[0mpop\u001b[0m\u001b[0;34m(\u001b[0m\u001b[0mself\u001b[0m\u001b[0;34m.\u001b[0m\u001b[0m_rcvd_idx\u001b[0m\u001b[0;34m)\u001b[0m\u001b[0;34m[\u001b[0m\u001b[0;36m1\u001b[0m\u001b[0;34m]\u001b[0m\u001b[0;34m\u001b[0m\u001b[0;34m\u001b[0m\u001b[0m\n\u001b[0;32m-> 1183\u001b[0;31m                 \u001b[0;32mreturn\u001b[0m \u001b[0mself\u001b[0m\u001b[0;34m.\u001b[0m\u001b[0m_process_data\u001b[0m\u001b[0;34m(\u001b[0m\u001b[0mdata\u001b[0m\u001b[0;34m)\u001b[0m\u001b[0;34m\u001b[0m\u001b[0;34m\u001b[0m\u001b[0m\n\u001b[0m\u001b[1;32m   1184\u001b[0m \u001b[0;34m\u001b[0m\u001b[0m\n\u001b[1;32m   1185\u001b[0m             \u001b[0;32massert\u001b[0m \u001b[0;32mnot\u001b[0m \u001b[0mself\u001b[0m\u001b[0;34m.\u001b[0m\u001b[0m_shutdown\u001b[0m \u001b[0;32mand\u001b[0m \u001b[0mself\u001b[0m\u001b[0;34m.\u001b[0m\u001b[0m_tasks_outstanding\u001b[0m \u001b[0;34m>\u001b[0m \u001b[0;36m0\u001b[0m\u001b[0;34m\u001b[0m\u001b[0;34m\u001b[0m\u001b[0m\n",
      "\u001b[0;32m/opt/conda/lib/python3.7/site-packages/torch/utils/data/dataloader.py\u001b[0m in \u001b[0;36m_process_data\u001b[0;34m(self, data)\u001b[0m\n\u001b[1;32m   1227\u001b[0m         \u001b[0mself\u001b[0m\u001b[0;34m.\u001b[0m\u001b[0m_try_put_index\u001b[0m\u001b[0;34m(\u001b[0m\u001b[0;34m)\u001b[0m\u001b[0;34m\u001b[0m\u001b[0;34m\u001b[0m\u001b[0m\n\u001b[1;32m   1228\u001b[0m         \u001b[0;32mif\u001b[0m \u001b[0misinstance\u001b[0m\u001b[0;34m(\u001b[0m\u001b[0mdata\u001b[0m\u001b[0;34m,\u001b[0m \u001b[0mExceptionWrapper\u001b[0m\u001b[0;34m)\u001b[0m\u001b[0;34m:\u001b[0m\u001b[0;34m\u001b[0m\u001b[0;34m\u001b[0m\u001b[0m\n\u001b[0;32m-> 1229\u001b[0;31m             \u001b[0mdata\u001b[0m\u001b[0;34m.\u001b[0m\u001b[0mreraise\u001b[0m\u001b[0;34m(\u001b[0m\u001b[0;34m)\u001b[0m\u001b[0;34m\u001b[0m\u001b[0;34m\u001b[0m\u001b[0m\n\u001b[0m\u001b[1;32m   1230\u001b[0m         \u001b[0;32mreturn\u001b[0m \u001b[0mdata\u001b[0m\u001b[0;34m\u001b[0m\u001b[0;34m\u001b[0m\u001b[0m\n\u001b[1;32m   1231\u001b[0m \u001b[0;34m\u001b[0m\u001b[0m\n",
      "\u001b[0;32m/opt/conda/lib/python3.7/site-packages/torch/_utils.py\u001b[0m in \u001b[0;36mreraise\u001b[0;34m(self)\u001b[0m\n\u001b[1;32m    432\u001b[0m             \u001b[0;31m# instantiate since we don't know how to\u001b[0m\u001b[0;34m\u001b[0m\u001b[0;34m\u001b[0m\u001b[0;34m\u001b[0m\u001b[0m\n\u001b[1;32m    433\u001b[0m             \u001b[0;32mraise\u001b[0m \u001b[0mRuntimeError\u001b[0m\u001b[0;34m(\u001b[0m\u001b[0mmsg\u001b[0m\u001b[0;34m)\u001b[0m \u001b[0;32mfrom\u001b[0m \u001b[0;32mNone\u001b[0m\u001b[0;34m\u001b[0m\u001b[0;34m\u001b[0m\u001b[0m\n\u001b[0;32m--> 434\u001b[0;31m         \u001b[0;32mraise\u001b[0m \u001b[0mexception\u001b[0m\u001b[0;34m\u001b[0m\u001b[0;34m\u001b[0m\u001b[0m\n\u001b[0m\u001b[1;32m    435\u001b[0m \u001b[0;34m\u001b[0m\u001b[0m\n\u001b[1;32m    436\u001b[0m \u001b[0;34m\u001b[0m\u001b[0m\n",
      "\u001b[0;31mRuntimeError\u001b[0m: Caught RuntimeError in DataLoader worker process 3.\nOriginal Traceback (most recent call last):\n  File \"/opt/conda/lib/python3.7/site-packages/torch/utils/data/_utils/worker.py\", line 287, in _worker_loop\n    data = fetcher.fetch(index)\n  File \"/opt/conda/lib/python3.7/site-packages/torch/utils/data/_utils/fetch.py\", line 49, in fetch\n    data = [self.dataset[idx] for idx in possibly_batched_index]\n  File \"/opt/conda/lib/python3.7/site-packages/torch/utils/data/_utils/fetch.py\", line 49, in <listcomp>\n    data = [self.dataset[idx] for idx in possibly_batched_index]\n  File \"/home/ubuntu/boda2/boda/data/fasta_datamodule.py\", line 366, in __getitem__\n    ref_slices = self.window_slicer(ref_segments)\n  File \"/opt/conda/lib/python3.7/site-packages/torch/nn/modules/module.py\", line 1102, in _call_impl\n    return forward_call(*input, **kwargs)\n  File \"/home/ubuntu/boda2/boda/data/fasta_datamodule.py\", line 46, in forward\n    hook = F.conv1d(input, self.weight)\nRuntimeError: Calculated padded input size per channel: (1). Kernel size: (200). Kernel size can't be greater than actual input size\n"
     ]
    }
   ],
   "source": [
    "predictions = torch.empty(size=(0,3))\n",
    "\n",
    "with torch.no_grad():\n",
    "    for i, batch in enumerate(tqdm.tqdm(vcf_loader)):\n",
    "        ref_allele, alt_allele = batch['ref'], batch['alt']\n",
    "        \n",
    "        ref_allele = flank_builder(ref_allele)\n",
    "        alt_allele = flank_builder(alt_allele)\n",
    "        \n",
    "        skew_preds = vep_tester(ref_allele, alt_allele)\n",
    "        \n",
    "        predictions = torch.cat([predictions, skew_preds.cpu()], dim=0)\n",
    "                "
   ]
  },
  {
   "cell_type": "markdown",
   "id": "e25682b2-a47c-43a1-93b8-1130c8c6809e",
   "metadata": {},
   "source": [
    "# Assemble DataFrame"
   ]
  },
  {
   "cell_type": "code",
   "execution_count": null,
   "id": "be98dee0-0f89-43bd-a196-d0500a143188",
   "metadata": {},
   "outputs": [],
   "source": [
    "vcf_df = pd.concat([\n",
    "    pd.DataFrame(vcf_data.vcf),\n",
    "    pd.DataFrame(data=predictions.numpy(), columns=['K562_skew_pred','HepG2_skew_pred','SKNSH_skew_pred'])\n",
    "], axis=1)\n",
    "\n",
    "vcf_df['ref'] = [ \"\".join([ boda.common.constants.STANDARD_NT[ x[:,i].argmax() ] if x[:,i].sum() == 1 else 'N' for i in range( x.shape[-1] ) ]) \n",
    "                  for x in vcf_df['ref'] ]\n",
    "\n",
    "vcf_df['alt'] = [ \"\".join([ boda.common.constants.STANDARD_NT[ x[:,i].argmax() ] if x[:,i].sum() == 1 else 'N' for i in range( x.shape[-1] ) ]) \n",
    "                  for x in vcf_df['alt'] ]\n",
    "\n"
   ]
  },
  {
   "cell_type": "code",
   "execution_count": null,
   "id": "a8e23860-ed68-483b-9a9f-e105a265a7e2",
   "metadata": {},
   "outputs": [],
   "source": [
    "vcf_df"
   ]
  }
 ],
 "metadata": {
  "kernelspec": {
   "display_name": "Python 3",
   "language": "python",
   "name": "python3"
  },
  "language_info": {
   "codemirror_mode": {
    "name": "ipython",
    "version": 3
   },
   "file_extension": ".py",
   "mimetype": "text/x-python",
   "name": "python",
   "nbconvert_exporter": "python",
   "pygments_lexer": "ipython3",
   "version": "3.7.12"
  }
 },
 "nbformat": 4,
 "nbformat_minor": 5
}
