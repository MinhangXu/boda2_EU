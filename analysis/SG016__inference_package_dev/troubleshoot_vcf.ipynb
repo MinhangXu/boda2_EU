{
 "cells": [
  {
   "cell_type": "code",
   "execution_count": 1,
   "id": "532dc9a3-4e6f-44e3-984b-c6f191ca221b",
   "metadata": {},
   "outputs": [],
   "source": [
    "import numpy as np\n",
    "import pandas as pd\n",
    "import torch\n",
    "\n",
    "import boda\n",
    "\n",
    "import tqdm.notebook as tqdm\n",
    "\n",
    "import matplotlib.pyplot as plt\n",
    "from scipy.stats import pearsonr"
   ]
  },
  {
   "cell_type": "markdown",
   "id": "d6044106-4b0e-4cbd-9981-b2bc6331337b",
   "metadata": {},
   "source": [
    "# Convert reference MPRA to VCF"
   ]
  },
  {
   "cell_type": "code",
   "execution_count": 2,
   "id": "9695d7f0-fd69-46d4-805e-4d2774912fde",
   "metadata": {},
   "outputs": [
    {
     "name": "stderr",
     "output_type": "stream",
     "text": [
      "/opt/conda/lib/python3.7/site-packages/IPython/core/interactiveshell.py:3553: DtypeWarning: Columns (6,10) have mixed types.Specify dtype option on import or set low_memory=False.\n",
      "  exec(code_obj, self.user_global_ns, self.user_ns)\n"
     ]
    }
   ],
   "source": [
    "mpra_19 = pd.read_table('MPRA_ALL_v3.txt', sep=' ', header=0)"
   ]
  },
  {
   "cell_type": "code",
   "execution_count": 3,
   "id": "861541e7-94f8-4b24-a4aa-e4366d5e18b1",
   "metadata": {},
   "outputs": [],
   "source": [
    "with open('troubleshoot.vcf', 'w') as f:\n",
    "    print('#CHROM\\tPOS\\tID\\tREF\\tALT', file=f)\n",
    "    for i, x in mpra_19.iterrows():\n",
    "        if len(x['IDs'].split(':')) > 5:\n",
    "            chrom, pos, ref, alt, *stuff = x['IDs'].split(':')\n",
    "            if len(stuff) > 0:\n",
    "                if (stuff[-1] == 'wC') and (stuff[-2] == 'R'):\n",
    "                    print(f'chr{chrom}\\t{int(pos)+1-1}\\t{x[\"IDs\"]}\\t{ref}\\t{alt}', file=f)\n"
   ]
  },
  {
   "cell_type": "markdown",
   "id": "a9e1c826-0bb3-4862-b028-a9c3f377a8d7",
   "metadata": {},
   "source": [
    "# Setup VCF dataset"
   ]
  },
  {
   "cell_type": "code",
   "execution_count": 4,
   "id": "70418aa1-5f3d-434d-8301-0b2f3c946684",
   "metadata": {},
   "outputs": [
    {
     "name": "stderr",
     "output_type": "stream",
     "text": [
      "pre-reading fasta into memory\n",
      "100%|██████████████████████████| 61913917/61913917 [00:21<00:00, 2863952.17it/s]\n",
      "finding keys\n",
      "parsing\n",
      "100%|███████████████████████████████████████████| 25/25 [12:00<00:00, 28.83s/it]\n",
      "done\n"
     ]
    }
   ],
   "source": [
    "fasta_data = boda.data.Fasta('male.hg19.fasta')\n"
   ]
  },
  {
   "cell_type": "code",
   "execution_count": 5,
   "id": "f325addb-062e-4efe-b938-818b7ca4e518",
   "metadata": {},
   "outputs": [
    {
     "name": "stderr",
     "output_type": "stream",
     "text": [
      "loading DataFrame\n",
      "Checking and filtering tokens\n",
      "Allele length checks\n",
      "Done\n",
      "343562/343562 records have matching contig in FASTA\n",
      "returned 343562/343562 records\n"
     ]
    }
   ],
   "source": [
    "vcf = boda.data.VCF(\n",
    "    'troubleshoot.vcf', chr_prefix='', \n",
    "    max_allele_size=20, max_indel_size=20,\n",
    ")\n",
    "\n",
    "WINDOW_SIZE = 200\n",
    "RELATIVE_START = 99\n",
    "RELATIVE_END = 100\n",
    "\n",
    "vcf_data = boda.data.VcfDataset(\n",
    "    vcf.vcf, fasta_data.fasta, WINDOW_SIZE, \n",
    "    RELATIVE_START, RELATIVE_END, step_size=1, \n",
    "    left_flank='', right_flank=''\n",
    ")\n"
   ]
  },
  {
   "cell_type": "markdown",
   "id": "f23025fc-424d-464b-9596-d52d1586ac6a",
   "metadata": {},
   "source": [
    "# Check if sequences are identical matches"
   ]
  },
  {
   "cell_type": "code",
   "execution_count": 6,
   "id": "ae329aba-5ba2-4502-a78c-31718f55f66e",
   "metadata": {},
   "outputs": [],
   "source": [
    "def vec2nt(vec):\n",
    "    hold = torch.cat([ vec, torch.ones((1,vec.shape[1])) ], axis=0)\n",
    "    return \"\".join([ ['A','C','G','T','N'][x] for x in torch.argmax(hold, axis=0) ])"
   ]
  },
  {
   "cell_type": "code",
   "execution_count": 7,
   "id": "faf4d2b2-2887-4b8e-8444-7aff7370cfec",
   "metadata": {},
   "outputs": [
    {
     "data": {
      "text/plain": [
       "'AAAAAAAAAAAAAAAAAAAAAAAGTCTTTCCTCTCATCAACCCCCTACCCCCTGCCCCCGAACGTCCTCAACCCAAAGTAGCCAAGTTGGCTAATCTAACGCAAAGGGTGGGAGGCCACACCAAATGCACTGGTTACATAGCAAACACAAAGTCTGGCTGGGTTTTAAAGCAGCCTTCGTCTAAATCACGCAAGCACACA'"
      ]
     },
     "execution_count": 7,
     "metadata": {},
     "output_type": "execute_result"
    }
   ],
   "source": [
    "vec2nt(vcf_data[0]['ref'][0])"
   ]
  },
  {
   "cell_type": "code",
   "execution_count": 8,
   "id": "875ec5ea-e734-4aa4-a90b-e88578c4f1ba",
   "metadata": {},
   "outputs": [
    {
     "data": {
      "text/plain": [
       "'AAAAAAAAAAAAAAAAAAAAAAAGTCTTTCCTCTCATCAACCCCCTACCCCCTGCCCCCGAACGTCCTCAACCCAAAGTAGCCAAGTTGGCTAATCTAACGCAAAGGGTGGGAGGCCACACCAAATGCACTGGTTACATAGCAAACACAAAGTCTGGCTGGGTTTTAAAGCAGCCTTCGTCTAAATCACGCAAGCACACA'"
      ]
     },
     "execution_count": 8,
     "metadata": {},
     "output_type": "execute_result"
    }
   ],
   "source": [
    "mpra_19.set_index('IDs').loc[ vcf.vcf.loc[0,'id'], 'nt_sequence' ]"
   ]
  },
  {
   "cell_type": "code",
   "execution_count": 9,
   "id": "03e50a69-f145-4198-977d-92b3155651d4",
   "metadata": {},
   "outputs": [
    {
     "data": {
      "text/plain": [
       "True"
      ]
     },
     "execution_count": 9,
     "metadata": {},
     "output_type": "execute_result"
    }
   ],
   "source": [
    "vec2nt(vcf_data[0]['ref'][0]) == mpra_19.set_index('IDs').loc[ vcf.vcf.loc[0,'id'], 'nt_sequence' ]"
   ]
  },
  {
   "cell_type": "code",
   "execution_count": 10,
   "id": "8fe0ed0e-9433-4374-8461-9baaded233c3",
   "metadata": {},
   "outputs": [
    {
     "data": {
      "application/vnd.jupyter.widget-view+json": {
       "model_id": "af6ffc1653a146f0a8b3d40bc3dedb08",
       "version_major": 2,
       "version_minor": 0
      },
      "text/plain": [
       "  0%|          | 0/343562 [00:00<?, ?it/s]"
      ]
     },
     "metadata": {},
     "output_type": "display_data"
    }
   ],
   "source": [
    "loader_dict = {}\n",
    "\n",
    "for i in tqdm.tqdm(range(vcf.vcf.shape[0])):\n",
    "    row_id =  vcf.vcf.loc[i,'id']\n",
    "    loader_seq = vec2nt(vcf_data[i]['ref'][0])\n",
    "    loader_dict[row_id] = loader_seq\n"
   ]
  },
  {
   "cell_type": "code",
   "execution_count": 11,
   "id": "64515ae9-2d2c-48d7-a637-257bc39e0f5b",
   "metadata": {},
   "outputs": [],
   "source": [
    "extract_seqs = pd.DataFrame(zip(*loader_dict.items())).T\n",
    "extract_seqs.columns=['IDs','nt_sequence']\n",
    "extract_seqs = extract_seqs.set_index('IDs', drop=True)"
   ]
  },
  {
   "cell_type": "code",
   "execution_count": 12,
   "id": "e9658bf2-1f8c-4a0b-a9a0-01f74fbe3a94",
   "metadata": {},
   "outputs": [],
   "source": [
    "mismatch_filter = mpra_19.set_index('IDs').loc[extract_seqs.index, 'nt_sequence'] == extract_seqs.loc[extract_seqs.index,'nt_sequence']"
   ]
  },
  {
   "cell_type": "code",
   "execution_count": 13,
   "id": "adcbd17f-2d8a-4fdb-93ee-58487fc05f27",
   "metadata": {},
   "outputs": [
    {
     "data": {
      "text/plain": [
       "0.9234199358485513"
      ]
     },
     "execution_count": 13,
     "metadata": {},
     "output_type": "execute_result"
    }
   ],
   "source": [
    "mismatch_filter.mean()"
   ]
  },
  {
   "cell_type": "markdown",
   "id": "e72642ba-2f79-4d6f-ae35-729ad98bce76",
   "metadata": {},
   "source": [
    "## result\n",
    "about 92% of extracted sequences based on VCF coordinates are exact matches to the known sequence in the MPRA"
   ]
  },
  {
   "cell_type": "markdown",
   "id": "2178ad72-9932-4dab-80fe-ef352a1fef9c",
   "metadata": {},
   "source": [
    "# Check mismatches\n",
    "checking if mismatches are indels"
   ]
  },
  {
   "cell_type": "code",
   "execution_count": 14,
   "id": "e1168685-3ae7-433c-997b-fe58ad28a95c",
   "metadata": {},
   "outputs": [
    {
     "data": {
      "text/html": [
       "<div>\n",
       "<style scoped>\n",
       "    .dataframe tbody tr th:only-of-type {\n",
       "        vertical-align: middle;\n",
       "    }\n",
       "\n",
       "    .dataframe tbody tr th {\n",
       "        vertical-align: top;\n",
       "    }\n",
       "\n",
       "    .dataframe thead th {\n",
       "        text-align: right;\n",
       "    }\n",
       "</style>\n",
       "<table border=\"1\" class=\"dataframe\">\n",
       "  <thead>\n",
       "    <tr style=\"text-align: right;\">\n",
       "      <th></th>\n",
       "      <th>nt_sequence</th>\n",
       "    </tr>\n",
       "    <tr>\n",
       "      <th>IDs</th>\n",
       "      <th></th>\n",
       "    </tr>\n",
       "  </thead>\n",
       "  <tbody>\n",
       "    <tr>\n",
       "      <th>1:26878979:A:AT:R:wC</th>\n",
       "      <td>AAAAAAAAAAAAAAAAAAAAAGGATTTGAGCTAGAAAATGGGACCA...</td>\n",
       "    </tr>\n",
       "    <tr>\n",
       "      <th>13:72497708:AT:A:R:wC</th>\n",
       "      <td>AAAAAAAAAAAAAAAAAAACTTCCCTCTAAATACACACATTAATAA...</td>\n",
       "    </tr>\n",
       "    <tr>\n",
       "      <th>3:70506530:CA:C:R:wC</th>\n",
       "      <td>CAAAAAAAAAAAAAAAAAAAAGAAAGAAAAAAAGAAAGAAAGAAAG...</td>\n",
       "    </tr>\n",
       "    <tr>\n",
       "      <th>3:53801691:AT:A:R:wC</th>\n",
       "      <td>CAAAAAAAAAAAAAAAACAACAAAATAAAATTCCCAACATGCAGAT...</td>\n",
       "    </tr>\n",
       "    <tr>\n",
       "      <th>14:102751522:CA:C:R:wC</th>\n",
       "      <td>AAAAAAAAAAAAAAAGAAAATGCAGGCTTGAGAACTAGATCTAGAA...</td>\n",
       "    </tr>\n",
       "    <tr>\n",
       "      <th>...</th>\n",
       "      <td>...</td>\n",
       "    </tr>\n",
       "    <tr>\n",
       "      <th>7:4810197:CTCT:C:R:wC</th>\n",
       "      <td>GTTGCAGTGAGCCGAGATCATGCCACTGCACTCCAGCCTGGGCAAC...</td>\n",
       "    </tr>\n",
       "    <tr>\n",
       "      <th>18:12438917:TGGA:T:R:wC</th>\n",
       "      <td>CCTGCAGCGGTGCTCGCTATCCTTGACCAAGCTGGAGAACAAGAGT...</td>\n",
       "    </tr>\n",
       "    <tr>\n",
       "      <th>22:27697920:GT:G:R:wC</th>\n",
       "      <td>CTGCAGCCTTGACCTCCCCAGCTCAAGCAATCCTCCCACCTCAGCC...</td>\n",
       "    </tr>\n",
       "    <tr>\n",
       "      <th>4:106276362:A:AT:R:wC</th>\n",
       "      <td>CTGCAGCCTTGATTTCCTGGGTTCAGGTGATTCTCCCACCTCAGCC...</td>\n",
       "    </tr>\n",
       "    <tr>\n",
       "      <th>19:9542806:AT:A:R:wC</th>\n",
       "      <td>CTGCAGCCTTCACCTCCCTGGTTCAAGTGATTCTCCTGCCTCAGTC...</td>\n",
       "    </tr>\n",
       "  </tbody>\n",
       "</table>\n",
       "<p>26310 rows × 1 columns</p>\n",
       "</div>"
      ],
      "text/plain": [
       "                                                               nt_sequence\n",
       "IDs                                                                       \n",
       "1:26878979:A:AT:R:wC     AAAAAAAAAAAAAAAAAAAAAGGATTTGAGCTAGAAAATGGGACCA...\n",
       "13:72497708:AT:A:R:wC    AAAAAAAAAAAAAAAAAAACTTCCCTCTAAATACACACATTAATAA...\n",
       "3:70506530:CA:C:R:wC     CAAAAAAAAAAAAAAAAAAAAGAAAGAAAAAAAGAAAGAAAGAAAG...\n",
       "3:53801691:AT:A:R:wC     CAAAAAAAAAAAAAAAACAACAAAATAAAATTCCCAACATGCAGAT...\n",
       "14:102751522:CA:C:R:wC   AAAAAAAAAAAAAAAGAAAATGCAGGCTTGAGAACTAGATCTAGAA...\n",
       "...                                                                    ...\n",
       "7:4810197:CTCT:C:R:wC    GTTGCAGTGAGCCGAGATCATGCCACTGCACTCCAGCCTGGGCAAC...\n",
       "18:12438917:TGGA:T:R:wC  CCTGCAGCGGTGCTCGCTATCCTTGACCAAGCTGGAGAACAAGAGT...\n",
       "22:27697920:GT:G:R:wC    CTGCAGCCTTGACCTCCCCAGCTCAAGCAATCCTCCCACCTCAGCC...\n",
       "4:106276362:A:AT:R:wC    CTGCAGCCTTGATTTCCTGGGTTCAGGTGATTCTCCCACCTCAGCC...\n",
       "19:9542806:AT:A:R:wC     CTGCAGCCTTCACCTCCCTGGTTCAAGTGATTCTCCTGCCTCAGTC...\n",
       "\n",
       "[26310 rows x 1 columns]"
      ]
     },
     "execution_count": 14,
     "metadata": {},
     "output_type": "execute_result"
    }
   ],
   "source": [
    "extract_seqs.loc[~mismatch_filter]"
   ]
  },
  {
   "cell_type": "code",
   "execution_count": 15,
   "id": "db82ef0e-b257-43ef-a810-2c95ad214a71",
   "metadata": {},
   "outputs": [
    {
     "data": {
      "text/plain": [
       "0.00011402508551881414"
      ]
     },
     "execution_count": 15,
     "metadata": {},
     "output_type": "execute_result"
    }
   ],
   "source": [
    "var_len_match = np.array([ len(seq_id.split(':')[2]) == len(seq_id.split(':')[3]) for seq_id in extract_seqs.loc[~mismatch_filter].index ])\n",
    "var_len_match.mean()"
   ]
  },
  {
   "cell_type": "code",
   "execution_count": 16,
   "id": "903d54d2-1a25-4ef6-868c-04d5c93fb23f",
   "metadata": {},
   "outputs": [
    {
     "data": {
      "text/html": [
       "<div>\n",
       "<style scoped>\n",
       "    .dataframe tbody tr th:only-of-type {\n",
       "        vertical-align: middle;\n",
       "    }\n",
       "\n",
       "    .dataframe tbody tr th {\n",
       "        vertical-align: top;\n",
       "    }\n",
       "\n",
       "    .dataframe thead th {\n",
       "        text-align: right;\n",
       "    }\n",
       "</style>\n",
       "<table border=\"1\" class=\"dataframe\">\n",
       "  <thead>\n",
       "    <tr style=\"text-align: right;\">\n",
       "      <th></th>\n",
       "      <th>nt_sequence</th>\n",
       "    </tr>\n",
       "    <tr>\n",
       "      <th>IDs</th>\n",
       "      <th></th>\n",
       "    </tr>\n",
       "  </thead>\n",
       "  <tbody>\n",
       "    <tr>\n",
       "      <th>9:139217089:C:T:R:wC</th>\n",
       "      <td>NNNNNNNNGATCTTCTTGGGTCTCAGGTTCCAACATATGAAGGCTG...</td>\n",
       "    </tr>\n",
       "    <tr>\n",
       "      <th>11:69139893:T:G:R:wC</th>\n",
       "      <td>NNNNNNNNTGATGGTTTTGGTGATGGCGGTGGTGGTGGTGATGGTG...</td>\n",
       "    </tr>\n",
       "    <tr>\n",
       "      <th>19:20523319:G:T:R:wC</th>\n",
       "      <td>TTGAGACCCTCATACCTGATTCTGGCCTCCCCTTAGAGTCACGTGA...</td>\n",
       "    </tr>\n",
       "  </tbody>\n",
       "</table>\n",
       "</div>"
      ],
      "text/plain": [
       "                                                            nt_sequence\n",
       "IDs                                                                    \n",
       "9:139217089:C:T:R:wC  NNNNNNNNGATCTTCTTGGGTCTCAGGTTCCAACATATGAAGGCTG...\n",
       "11:69139893:T:G:R:wC  NNNNNNNNTGATGGTTTTGGTGATGGCGGTGGTGGTGGTGATGGTG...\n",
       "19:20523319:G:T:R:wC  TTGAGACCCTCATACCTGATTCTGGCCTCCCCTTAGAGTCACGTGA..."
      ]
     },
     "execution_count": 16,
     "metadata": {},
     "output_type": "execute_result"
    }
   ],
   "source": [
    "extract_seqs.loc[~mismatch_filter].loc[var_len_match]"
   ]
  },
  {
   "cell_type": "code",
   "execution_count": 17,
   "id": "bb9830ae-2252-4b7f-a4e8-abecf064fa98",
   "metadata": {},
   "outputs": [
    {
     "data": {
      "text/plain": [
       "'TTGAGACCCTCATACCTGATTCTGGCCTCCCCTTAGAGTCACGTGAAGCCCTTCATTAAAACAACATGGATACTTCCACCCAGAACAATAAACAGAACCGGTGGGGAAGGCACAAGAGATTTCTGCAAATTGGCCATGTGATCCTAATGAGAAGCCTGGGCTGATAACCACTAAGCTAAGCATTGCCTCTCAAGCTNNNN'"
      ]
     },
     "execution_count": 17,
     "metadata": {},
     "output_type": "execute_result"
    }
   ],
   "source": [
    "extract_seqs.loc['19:20523319:G:T:R:wC', 'nt_sequence']"
   ]
  },
  {
   "cell_type": "markdown",
   "id": "31ba91fe-ae37-4212-a4d3-491e94fee874",
   "metadata": {},
   "source": [
    "## result\n",
    "All but 3 sequences are indels, the rest have N's in the reference"
   ]
  }
 ],
 "metadata": {
  "kernelspec": {
   "display_name": "Python 3 (ipykernel)",
   "language": "python",
   "name": "python3"
  },
  "language_info": {
   "codemirror_mode": {
    "name": "ipython",
    "version": 3
   },
   "file_extension": ".py",
   "mimetype": "text/x-python",
   "name": "python",
   "nbconvert_exporter": "python",
   "pygments_lexer": "ipython3",
   "version": "3.7.12"
  }
 },
 "nbformat": 4,
 "nbformat_minor": 5
}
