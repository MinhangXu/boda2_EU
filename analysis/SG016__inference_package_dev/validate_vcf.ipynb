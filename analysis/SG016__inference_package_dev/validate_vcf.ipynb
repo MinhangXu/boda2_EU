{
 "cells": [
  {
   "cell_type": "code",
   "execution_count": 40,
   "id": "532dc9a3-4e6f-44e3-984b-c6f191ca221b",
   "metadata": {},
   "outputs": [],
   "source": [
    "import sys\n",
    "\n",
    "import numpy as np\n",
    "import pandas as pd\n",
    "import torch\n",
    "import torch.nn as nn\n",
    "import torch.nn.functional as F\n",
    "\n",
    "import boda\n",
    "\n",
    "import tqdm.notebook as tqdm\n",
    "\n",
    "import matplotlib.pyplot as plt\n",
    "from scipy.stats import pearsonr"
   ]
  },
  {
   "cell_type": "markdown",
   "id": "d6044106-4b0e-4cbd-9981-b2bc6331337b",
   "metadata": {},
   "source": [
    "# Convert reference MPRA to VCF"
   ]
  },
  {
   "cell_type": "code",
   "execution_count": 2,
   "id": "9695d7f0-fd69-46d4-805e-4d2774912fde",
   "metadata": {},
   "outputs": [
    {
     "name": "stderr",
     "output_type": "stream",
     "text": [
      "/opt/conda/lib/python3.7/site-packages/IPython/core/interactiveshell.py:3553: DtypeWarning: Columns (6,10) have mixed types.Specify dtype option on import or set low_memory=False.\n",
      "  exec(code_obj, self.user_global_ns, self.user_ns)\n"
     ]
    }
   ],
   "source": [
    "mpra_19 = pd.read_table('MPRA_ALL_v3.txt', sep=' ', header=0)"
   ]
  },
  {
   "cell_type": "code",
   "execution_count": 110,
   "id": "861541e7-94f8-4b24-a4aa-e4366d5e18b1",
   "metadata": {},
   "outputs": [],
   "source": [
    "with open('troubleshoot.vcf', 'w') as f:\n",
    "    print('#CHROM\\tPOS\\tID\\tREF\\tALT', file=f)\n",
    "    for i, x in mpra_19.iterrows():\n",
    "        if len(x['IDs'].split(':')) > 5:\n",
    "            chrom, pos, ref, alt, *stuff = x['IDs'].split(':')\n",
    "            if len(stuff) > 0:\n",
    "                if (stuff[-1] == 'wC') and (stuff[-2] == 'R'):\n",
    "                    print(f'chr{chrom}\\t{int(pos)+1-1}\\t{x[\"IDs\"]}\\t{ref}\\t{alt}', file=f)\n"
   ]
  },
  {
   "cell_type": "markdown",
   "id": "a9e1c826-0bb3-4862-b028-a9c3f377a8d7",
   "metadata": {},
   "source": [
    "# Setup VCF dataset"
   ]
  },
  {
   "cell_type": "code",
   "execution_count": 4,
   "id": "70418aa1-5f3d-434d-8301-0b2f3c946684",
   "metadata": {},
   "outputs": [
    {
     "name": "stderr",
     "output_type": "stream",
     "text": [
      "pre-reading fasta into memory\n",
      "100%|██████████████████████████| 61913917/61913917 [00:21<00:00, 2840868.13it/s]\n",
      "finding keys\n",
      "parsing\n",
      "100%|███████████████████████████████████████████| 25/25 [11:56<00:00, 28.67s/it]\n",
      "done\n"
     ]
    }
   ],
   "source": [
    "fasta_data = boda.data.Fasta('male.hg19.fasta')\n"
   ]
  },
  {
   "cell_type": "code",
   "execution_count": 111,
   "id": "f325addb-062e-4efe-b938-818b7ca4e518",
   "metadata": {},
   "outputs": [
    {
     "name": "stderr",
     "output_type": "stream",
     "text": [
      "loading DataFrame\n",
      "Checking and filtering tokens\n",
      "Allele length checks\n",
      "Done\n",
      "343562/343562 records have matching contig in FASTA\n",
      "returned 343562/343562 records\n"
     ]
    }
   ],
   "source": [
    "vcf = boda.data.VCF(\n",
    "    'troubleshoot.vcf', chr_prefix='', \n",
    "    max_allele_size=20, max_indel_size=20,\n",
    ")\n",
    "\n",
    "WINDOW_SIZE = 200\n",
    "RELATIVE_START = 99\n",
    "RELATIVE_END = 100\n",
    "\n",
    "vcf_data = boda.data.VcfDataset(\n",
    "    vcf.vcf, fasta_data.fasta, WINDOW_SIZE, \n",
    "    RELATIVE_START, RELATIVE_END, step_size=1, \n",
    "    left_flank='', right_flank=''\n",
    ")\n"
   ]
  },
  {
   "cell_type": "markdown",
   "id": "f23025fc-424d-464b-9596-d52d1586ac6a",
   "metadata": {},
   "source": [
    "# Check if sequences are identical matches"
   ]
  },
  {
   "cell_type": "code",
   "execution_count": 112,
   "id": "ae329aba-5ba2-4502-a78c-31718f55f66e",
   "metadata": {},
   "outputs": [],
   "source": [
    "def vec2nt(vec):\n",
    "    hold = torch.cat([ vec, torch.ones((1,vec.shape[1])) ], axis=0)\n",
    "    return \"\".join([ ['A','C','G','T','N'][x] for x in torch.argmax(hold, axis=0) ])"
   ]
  },
  {
   "cell_type": "code",
   "execution_count": 113,
   "id": "faf4d2b2-2887-4b8e-8444-7aff7370cfec",
   "metadata": {},
   "outputs": [
    {
     "data": {
      "text/plain": [
       "'AAAAAAAAAAAAAAAAAAAAAAAGTCTTTCCTCTCATCAACCCCCTACCCCCTGCCCCCGAACGTCCTCAACCCAAAGTAGCCAAGTTGGCTAATCTAACGCAAAGGGTGGGAGGCCACACCAAATGCACTGGTTACATAGCAAACACAAAGTCTGGCTGGGTTTTAAAGCAGCCTTCGTCTAAATCACGCAAGCACACA'"
      ]
     },
     "execution_count": 113,
     "metadata": {},
     "output_type": "execute_result"
    }
   ],
   "source": [
    "vec2nt(vcf_data[0]['ref'][0])"
   ]
  },
  {
   "cell_type": "code",
   "execution_count": 114,
   "id": "875ec5ea-e734-4aa4-a90b-e88578c4f1ba",
   "metadata": {},
   "outputs": [
    {
     "data": {
      "text/plain": [
       "'AAAAAAAAAAAAAAAAAAAAAAAGTCTTTCCTCTCATCAACCCCCTACCCCCTGCCCCCGAACGTCCTCAACCCAAAGTAGCCAAGTTGGCTAATCTAACGCAAAGGGTGGGAGGCCACACCAAATGCACTGGTTACATAGCAAACACAAAGTCTGGCTGGGTTTTAAAGCAGCCTTCGTCTAAATCACGCAAGCACACA'"
      ]
     },
     "execution_count": 114,
     "metadata": {},
     "output_type": "execute_result"
    }
   ],
   "source": [
    "mpra_19.set_index('IDs').loc[ vcf.vcf.loc[0,'id'], 'nt_sequence' ]"
   ]
  },
  {
   "cell_type": "code",
   "execution_count": 115,
   "id": "03e50a69-f145-4198-977d-92b3155651d4",
   "metadata": {},
   "outputs": [
    {
     "data": {
      "text/plain": [
       "True"
      ]
     },
     "execution_count": 115,
     "metadata": {},
     "output_type": "execute_result"
    }
   ],
   "source": [
    "vec2nt(vcf_data[0]['ref'][0]) == mpra_19.set_index('IDs').loc[ vcf.vcf.loc[0,'id'], 'nt_sequence' ]"
   ]
  },
  {
   "cell_type": "code",
   "execution_count": 116,
   "id": "8fe0ed0e-9433-4374-8461-9baaded233c3",
   "metadata": {},
   "outputs": [
    {
     "data": {
      "application/vnd.jupyter.widget-view+json": {
       "model_id": "64fe1839428a4de281b0ad06a57ed903",
       "version_major": 2,
       "version_minor": 0
      },
      "text/plain": [
       "  0%|          | 0/343562 [00:00<?, ?it/s]"
      ]
     },
     "metadata": {},
     "output_type": "display_data"
    }
   ],
   "source": [
    "loader_dict = {}\n",
    "\n",
    "for i in tqdm.tqdm(range(vcf.vcf.shape[0])):\n",
    "    row_id =  vcf.vcf.loc[i,'id']\n",
    "    loader_seq = vec2nt(vcf_data[i]['ref'][0])\n",
    "    loader_dict[row_id] = loader_seq\n"
   ]
  },
  {
   "cell_type": "code",
   "execution_count": 117,
   "id": "64515ae9-2d2c-48d7-a637-257bc39e0f5b",
   "metadata": {},
   "outputs": [],
   "source": [
    "extract_seqs = pd.DataFrame(zip(*loader_dict.items())).T\n",
    "extract_seqs.columns=['IDs','nt_sequence']\n",
    "extract_seqs = extract_seqs.set_index('IDs', drop=True)"
   ]
  },
  {
   "cell_type": "code",
   "execution_count": 118,
   "id": "e9658bf2-1f8c-4a0b-a9a0-01f74fbe3a94",
   "metadata": {},
   "outputs": [],
   "source": [
    "mismatch_filter = mpra_19.set_index('IDs').loc[extract_seqs.index, 'nt_sequence'] == extract_seqs.loc[extract_seqs.index,'nt_sequence']"
   ]
  },
  {
   "cell_type": "code",
   "execution_count": 119,
   "id": "adcbd17f-2d8a-4fdb-93ee-58487fc05f27",
   "metadata": {},
   "outputs": [
    {
     "data": {
      "text/plain": [
       "0.9234199358485513"
      ]
     },
     "execution_count": 119,
     "metadata": {},
     "output_type": "execute_result"
    }
   ],
   "source": [
    "mismatch_filter.mean()"
   ]
  },
  {
   "cell_type": "markdown",
   "id": "e72642ba-2f79-4d6f-ae35-729ad98bce76",
   "metadata": {},
   "source": [
    "## result\n",
    "about 92% of extracted sequences based on VCF coordinates are exact matches to the known sequence in the MPRA"
   ]
  },
  {
   "cell_type": "markdown",
   "id": "2178ad72-9932-4dab-80fe-ef352a1fef9c",
   "metadata": {},
   "source": [
    "# Check mismatches\n",
    "checking if mismatches are indels"
   ]
  },
  {
   "cell_type": "code",
   "execution_count": 120,
   "id": "e1168685-3ae7-433c-997b-fe58ad28a95c",
   "metadata": {},
   "outputs": [
    {
     "data": {
      "text/html": [
       "<div>\n",
       "<style scoped>\n",
       "    .dataframe tbody tr th:only-of-type {\n",
       "        vertical-align: middle;\n",
       "    }\n",
       "\n",
       "    .dataframe tbody tr th {\n",
       "        vertical-align: top;\n",
       "    }\n",
       "\n",
       "    .dataframe thead th {\n",
       "        text-align: right;\n",
       "    }\n",
       "</style>\n",
       "<table border=\"1\" class=\"dataframe\">\n",
       "  <thead>\n",
       "    <tr style=\"text-align: right;\">\n",
       "      <th></th>\n",
       "      <th>nt_sequence</th>\n",
       "    </tr>\n",
       "    <tr>\n",
       "      <th>IDs</th>\n",
       "      <th></th>\n",
       "    </tr>\n",
       "  </thead>\n",
       "  <tbody>\n",
       "    <tr>\n",
       "      <th>1:26878979:A:AT:R:wC</th>\n",
       "      <td>AAAAAAAAAAAAAAAAAAAAAGGATTTGAGCTAGAAAATGGGACCA...</td>\n",
       "    </tr>\n",
       "    <tr>\n",
       "      <th>13:72497708:AT:A:R:wC</th>\n",
       "      <td>AAAAAAAAAAAAAAAAAAACTTCCCTCTAAATACACACATTAATAA...</td>\n",
       "    </tr>\n",
       "    <tr>\n",
       "      <th>3:70506530:CA:C:R:wC</th>\n",
       "      <td>CAAAAAAAAAAAAAAAAAAAAGAAAGAAAAAAAGAAAGAAAGAAAG...</td>\n",
       "    </tr>\n",
       "    <tr>\n",
       "      <th>3:53801691:AT:A:R:wC</th>\n",
       "      <td>CAAAAAAAAAAAAAAAACAACAAAATAAAATTCCCAACATGCAGAT...</td>\n",
       "    </tr>\n",
       "    <tr>\n",
       "      <th>14:102751522:CA:C:R:wC</th>\n",
       "      <td>AAAAAAAAAAAAAAAGAAAATGCAGGCTTGAGAACTAGATCTAGAA...</td>\n",
       "    </tr>\n",
       "    <tr>\n",
       "      <th>...</th>\n",
       "      <td>...</td>\n",
       "    </tr>\n",
       "    <tr>\n",
       "      <th>7:4810197:CTCT:C:R:wC</th>\n",
       "      <td>GTTGCAGTGAGCCGAGATCATGCCACTGCACTCCAGCCTGGGCAAC...</td>\n",
       "    </tr>\n",
       "    <tr>\n",
       "      <th>18:12438917:TGGA:T:R:wC</th>\n",
       "      <td>CCTGCAGCGGTGCTCGCTATCCTTGACCAAGCTGGAGAACAAGAGT...</td>\n",
       "    </tr>\n",
       "    <tr>\n",
       "      <th>22:27697920:GT:G:R:wC</th>\n",
       "      <td>CTGCAGCCTTGACCTCCCCAGCTCAAGCAATCCTCCCACCTCAGCC...</td>\n",
       "    </tr>\n",
       "    <tr>\n",
       "      <th>4:106276362:A:AT:R:wC</th>\n",
       "      <td>CTGCAGCCTTGATTTCCTGGGTTCAGGTGATTCTCCCACCTCAGCC...</td>\n",
       "    </tr>\n",
       "    <tr>\n",
       "      <th>19:9542806:AT:A:R:wC</th>\n",
       "      <td>CTGCAGCCTTCACCTCCCTGGTTCAAGTGATTCTCCTGCCTCAGTC...</td>\n",
       "    </tr>\n",
       "  </tbody>\n",
       "</table>\n",
       "<p>26310 rows × 1 columns</p>\n",
       "</div>"
      ],
      "text/plain": [
       "                                                               nt_sequence\n",
       "IDs                                                                       \n",
       "1:26878979:A:AT:R:wC     AAAAAAAAAAAAAAAAAAAAAGGATTTGAGCTAGAAAATGGGACCA...\n",
       "13:72497708:AT:A:R:wC    AAAAAAAAAAAAAAAAAAACTTCCCTCTAAATACACACATTAATAA...\n",
       "3:70506530:CA:C:R:wC     CAAAAAAAAAAAAAAAAAAAAGAAAGAAAAAAAGAAAGAAAGAAAG...\n",
       "3:53801691:AT:A:R:wC     CAAAAAAAAAAAAAAAACAACAAAATAAAATTCCCAACATGCAGAT...\n",
       "14:102751522:CA:C:R:wC   AAAAAAAAAAAAAAAGAAAATGCAGGCTTGAGAACTAGATCTAGAA...\n",
       "...                                                                    ...\n",
       "7:4810197:CTCT:C:R:wC    GTTGCAGTGAGCCGAGATCATGCCACTGCACTCCAGCCTGGGCAAC...\n",
       "18:12438917:TGGA:T:R:wC  CCTGCAGCGGTGCTCGCTATCCTTGACCAAGCTGGAGAACAAGAGT...\n",
       "22:27697920:GT:G:R:wC    CTGCAGCCTTGACCTCCCCAGCTCAAGCAATCCTCCCACCTCAGCC...\n",
       "4:106276362:A:AT:R:wC    CTGCAGCCTTGATTTCCTGGGTTCAGGTGATTCTCCCACCTCAGCC...\n",
       "19:9542806:AT:A:R:wC     CTGCAGCCTTCACCTCCCTGGTTCAAGTGATTCTCCTGCCTCAGTC...\n",
       "\n",
       "[26310 rows x 1 columns]"
      ]
     },
     "execution_count": 120,
     "metadata": {},
     "output_type": "execute_result"
    }
   ],
   "source": [
    "extract_seqs.loc[~mismatch_filter]"
   ]
  },
  {
   "cell_type": "code",
   "execution_count": 123,
   "id": "f2ed9163-900d-45b6-b6c7-2c8143ee6556",
   "metadata": {},
   "outputs": [
    {
     "data": {
      "text/plain": [
       "IDs\n",
       "1:26878979:A:AT:R:wC          AAAAAAAAAAAAAAAAAAAAGGATTTGAGCTAGAAAATGGGACCAT...\n",
       "13:72497708:AT:A:R:wC         AAAAAAAAAAAAAAAAAACTTCCCTCTAAATACACACATTAATAAT...\n",
       "3:70506530:CA:C:R:wC          AAAAAAAAAAAAAAAAAAAAGAAAGAAAAAAAGAAAGAAAGAAAGA...\n",
       "3:53801691:AT:A:R:wC          AAAAAAAAAAAAAAAACAACAAAATAAAATTCCCAACATGCAGATA...\n",
       "14:102751522:CA:C:R:wC        AAAAAAAAAAAAAAGAAAATGCAGGCTTGAGAACTAGATCTAGAAG...\n",
       "21:37562412:TC:T:R:wC         AAAAAAAAAAAATGATTTTCAGCTGGGCACAGTGGCTTACACCTGT...\n",
       "9:73060384:A:ATTTTC:R:wC      AAAAAAAAAAAAAAGTATTGTAGAGGAAAGAAGTTCTAGCTAATGC...\n",
       "1:165583188:T:TAA:R:wC        AAAAAAAGATATTTGCAATATATATGATAGCAAAAGCCTAATTTCT...\n",
       "15:41533058:C:CTT:R:wC        AAAAAAAAAAAAGATCTATGAAGAAATGAAAATGGCAGTGTTGGGA...\n",
       "1:11075825:C:CAG:R:wC         AAAAAAAAAAAATTATCTCCCCTTCTCTTCTAAATAACCTAAGGTT...\n",
       "19:4135623:CT:C:R:wC          AAAAAAAAAAAGGAATAAGGAAATATTTTCCAGTATTCAGAAATGA...\n",
       "1:203688453:A:ATTGCCT:R:wC    AAAAAAAAAAAAAAAAAGCAAGAGAGATAAAATACATGGTTCTAAA...\n",
       "5:74639544:CTTGTA:C:R:wC      AAAAAAAAAAATTGTGGTGATGTATTGGCTTACCACAGTGGTTTGA...\n",
       "14:70874251:CA:C:R:wC         AAAAAAAAAAATGGCAAAAACCACAATTACTTCTGCACCAACTTAG...\n",
       "21:37567748:C:CT:R:wC         AAAAAAAAAAATCCCCCCAAAACAAAAAAAAAATCAGCAGGGTGTG...\n",
       "3:172348906:A:ACCTC:R:wC      AAAAAAAAAAATCAATCTGCAGAGTGTAAACATTTTTTATAAGAAT...\n",
       "11:69002211:AG:A:R:wC         AAAAAAAAAACCCAACCAAAAAAAACCCCCAAAAAAACCCCAACTT...\n",
       "2:85869140:GCTGT:G:R:wC       AAAAAAAAAAGAAAGAAAGAAAGAAAATAGTGTCAGTTTTAAATTC...\n",
       "6:131936324:GTTT:G:R:wC       AAAAAAAAAGAAAAAAGAATATTAAAATAACAAACACCAAAAAAAC...\n",
       "6:31800648:T:TA:R:wC          AAAAAAAAAGAGGAACTAAAGCCTCTGACCATAGCACTTAGTAAAG...\n",
       "Name: nt_sequence, dtype: object"
      ]
     },
     "execution_count": 123,
     "metadata": {},
     "output_type": "execute_result"
    }
   ],
   "source": [
    "mpra_19.set_index('IDs').loc[extract_seqs.index, 'nt_sequence'].loc[~mismatch_filter].iloc[:20]"
   ]
  },
  {
   "cell_type": "code",
   "execution_count": 107,
   "id": "880625c7-e41d-4f54-999c-2da21fd54f18",
   "metadata": {},
   "outputs": [
    {
     "data": {
      "text/plain": [
       "'AGGTTGCAGTGAGCCGAGATCATGCCACTGCACTCCAGCCTGGGCAACAGAGGGAGACTCTGTCTCAAAAATAATAATCAAATCAAGTATTTTAAGTTTGGCTCTTTTTTTCAAGAAAGGCTTTTTGGATACCTAGAATACCTTCATGTATGTGGCTTGATTTCTGTTTCAGGAAAAGGGGGGCGGGAGGAGAGACAACA'"
      ]
     },
     "execution_count": 107,
     "metadata": {},
     "output_type": "execute_result"
    }
   ],
   "source": [
    "extract_seqs.loc['7:4810197:CTCT:C:A:wC', 'nt_sequence']"
   ]
  },
  {
   "cell_type": "code",
   "execution_count": 122,
   "id": "afbb05ab-a5cb-4cb1-9ebc-957d4b7db8b7",
   "metadata": {},
   "outputs": [
    {
     "data": {
      "text/plain": [
       "'GTTGCAGTGAGCCGAGATCATGCCACTGCACTCCAGCCTGGGCAACAGAGGGAGACTCTGTCTCAAAAATAATAATCAAATCAAGTATTTTAAGTTTGGCTCTTCTTTTTTTCAAGAAAGGCTTTTTGGATACCTAGAATACCTTCATGTATGTGGCTTGATTTCTGTTTCAGGAAAAGGGGGGCGGGAGGAGAGACAAC'"
      ]
     },
     "execution_count": 122,
     "metadata": {},
     "output_type": "execute_result"
    }
   ],
   "source": [
    "extract_seqs.loc['7:4810197:CTCT:C:R:wC', 'nt_sequence']"
   ]
  },
  {
   "cell_type": "code",
   "execution_count": 109,
   "id": "0ee192bf-9fd7-4302-af2a-5f800a50a77f",
   "metadata": {},
   "outputs": [
    {
     "data": {
      "text/plain": [
       "'TGCAGTGAGCCGAGATCATGCCACTGCACTCCAGCCTGGGCAACAGAGGGAGACTCTGTCTCAAAAATAATAATCAAATCAAGTATTTTAAGTTTGGCTCTTTTTTTCAAGAAAGGCTTTTTGGATACCTAGAATACCTTCATGTATGTGGCTTGATTTCTGTTTCAGGAAAAGGGGGGCGGGAGGAGAGACAACAG'"
      ]
     },
     "execution_count": 109,
     "metadata": {},
     "output_type": "execute_result"
    }
   ],
   "source": [
    "mpra_19.set_index('IDs').loc['7:4810197:CTCT:C:R:wC', 'nt_sequence']"
   ]
  },
  {
   "cell_type": "code",
   "execution_count": null,
   "id": "2d3aeca7-1f61-42bc-8464-711d3911fab9",
   "metadata": {},
   "outputs": [],
   "source": []
  },
  {
   "cell_type": "code",
   "execution_count": 100,
   "id": "db82ef0e-b257-43ef-a810-2c95ad214a71",
   "metadata": {},
   "outputs": [
    {
     "data": {
      "text/plain": [
       "0.00013016313779937522"
      ]
     },
     "execution_count": 100,
     "metadata": {},
     "output_type": "execute_result"
    }
   ],
   "source": [
    "var_len_match = np.array([ len(seq_id.split(':')[2]) == len(seq_id.split(':')[3]) for seq_id in extract_seqs.loc[~mismatch_filter].index ])\n",
    "var_len_match.mean()"
   ]
  },
  {
   "cell_type": "code",
   "execution_count": 101,
   "id": "903d54d2-1a25-4ef6-868c-04d5c93fb23f",
   "metadata": {},
   "outputs": [
    {
     "data": {
      "text/html": [
       "<div>\n",
       "<style scoped>\n",
       "    .dataframe tbody tr th:only-of-type {\n",
       "        vertical-align: middle;\n",
       "    }\n",
       "\n",
       "    .dataframe tbody tr th {\n",
       "        vertical-align: top;\n",
       "    }\n",
       "\n",
       "    .dataframe thead th {\n",
       "        text-align: right;\n",
       "    }\n",
       "</style>\n",
       "<table border=\"1\" class=\"dataframe\">\n",
       "  <thead>\n",
       "    <tr style=\"text-align: right;\">\n",
       "      <th></th>\n",
       "      <th>nt_sequence</th>\n",
       "    </tr>\n",
       "    <tr>\n",
       "      <th>IDs</th>\n",
       "      <th></th>\n",
       "    </tr>\n",
       "  </thead>\n",
       "  <tbody>\n",
       "    <tr>\n",
       "      <th>9:139217089:C:T:A:wC</th>\n",
       "      <td>NNNNNNNNGATCTTCTTGGGTCTCAGGTTCCAACATATGAAGGCTG...</td>\n",
       "    </tr>\n",
       "    <tr>\n",
       "      <th>11:69139893:T:G:A:wC</th>\n",
       "      <td>NNNNNNNNTGATGGTTTTGGTGATGGCGGTGGTGGTGGTGATGGTG...</td>\n",
       "    </tr>\n",
       "    <tr>\n",
       "      <th>19:20523319:G:T:A:wC</th>\n",
       "      <td>TTGAGACCCTCATACCTGATTCTGGCCTCCCCTTAGAGTCACGTGA...</td>\n",
       "    </tr>\n",
       "  </tbody>\n",
       "</table>\n",
       "</div>"
      ],
      "text/plain": [
       "                                                            nt_sequence\n",
       "IDs                                                                    \n",
       "9:139217089:C:T:A:wC  NNNNNNNNGATCTTCTTGGGTCTCAGGTTCCAACATATGAAGGCTG...\n",
       "11:69139893:T:G:A:wC  NNNNNNNNTGATGGTTTTGGTGATGGCGGTGGTGGTGGTGATGGTG...\n",
       "19:20523319:G:T:A:wC  TTGAGACCCTCATACCTGATTCTGGCCTCCCCTTAGAGTCACGTGA..."
      ]
     },
     "execution_count": 101,
     "metadata": {},
     "output_type": "execute_result"
    }
   ],
   "source": [
    "extract_seqs.loc[~mismatch_filter].loc[var_len_match]"
   ]
  },
  {
   "cell_type": "code",
   "execution_count": 17,
   "id": "bb9830ae-2252-4b7f-a4e8-abecf064fa98",
   "metadata": {},
   "outputs": [
    {
     "data": {
      "text/plain": [
       "'TTGAGACCCTCATACCTGATTCTGGCCTCCCCTTAGAGTCACGTGAAGCCCTTCATTAAAACAACATGGATACTTCCACCCAGAACAATAAACAGAACCGGTGGGGAAGGCACAAGAGATTTCTGCAAATTGGCCATGTGATCCTAATGAGAAGCCTGGGCTGATAACCACTAAGCTAAGCATTGCCTCTCAAGCTNNNN'"
      ]
     },
     "execution_count": 17,
     "metadata": {},
     "output_type": "execute_result"
    }
   ],
   "source": [
    "extract_seqs.loc['19:20523319:G:T:R:wC', 'nt_sequence']"
   ]
  },
  {
   "cell_type": "markdown",
   "id": "31ba91fe-ae37-4212-a4d3-491e94fee874",
   "metadata": {},
   "source": [
    "## result\n",
    "All but 3 sequences are indels, the rest have N's in the reference"
   ]
  },
  {
   "cell_type": "markdown",
   "id": "21da1871-656e-4d65-997a-de3cbb397d45",
   "metadata": {},
   "source": [
    "# Test liftover"
   ]
  },
  {
   "cell_type": "code",
   "execution_count": 77,
   "id": "2767170c-b84b-428c-a737-14279f7012f6",
   "metadata": {},
   "outputs": [
    {
     "name": "stderr",
     "output_type": "stream",
     "text": [
      "pre-reading fasta into memory\n",
      "100%|██████████████████████████| 44284892/44284892 [00:16<00:00, 2742527.68it/s]\n",
      "finding keys\n",
      "parsing\n",
      "100%|█████████████████████████████████████████| 195/195 [11:44<00:00,  3.61s/it]\n",
      "done\n"
     ]
    }
   ],
   "source": [
    "fasta_38 = boda.data.Fasta('GRCh38_no_alt_analysis_set_GCA_000001405.15.fasta')"
   ]
  },
  {
   "cell_type": "code",
   "execution_count": 78,
   "id": "563c257e-c129-4168-866b-9f51d5c7e654",
   "metadata": {},
   "outputs": [
    {
     "name": "stderr",
     "output_type": "stream",
     "text": [
      "loading DataFrame\n",
      "Checking and filtering tokens\n",
      "Allele length checks\n",
      "Done\n",
      "210121/210121 records have matching contig in FASTA\n",
      "returned 210121/210121 records\n"
     ]
    }
   ],
   "source": [
    "vcf = boda.data.VCF(\n",
    "    'gtex_hg38_coord_hg19_ID.vcf', chr_prefix='', \n",
    "    max_allele_size=20, max_indel_size=20,\n",
    ")\n",
    "\n",
    "WINDOW_SIZE = 200\n",
    "RELATIVE_START = 99\n",
    "RELATIVE_END = 100\n",
    "\n",
    "vcf_data = boda.data.VcfDataset(\n",
    "    vcf.vcf, fasta_38.fasta, WINDOW_SIZE, \n",
    "    RELATIVE_START, RELATIVE_END, step_size=1, \n",
    "    left_flank='', right_flank=''\n",
    ")\n"
   ]
  },
  {
   "cell_type": "code",
   "execution_count": 79,
   "id": "2a3f3858-db17-4244-9e4a-dd8d2844ed6a",
   "metadata": {},
   "outputs": [
    {
     "data": {
      "text/plain": [
       "{'ref': tensor([[[1., 1., 1.,  ..., 0., 0., 1.],\n",
       "          [0., 0., 0.,  ..., 0., 0., 0.],\n",
       "          [0., 0., 0.,  ..., 1., 0., 0.],\n",
       "          [0., 0., 0.,  ..., 0., 1., 0.]],\n",
       " \n",
       "         [[0., 1., 0.,  ..., 0., 0., 0.],\n",
       "          [0., 0., 1.,  ..., 0., 0., 0.],\n",
       "          [0., 0., 0.,  ..., 0., 0., 0.],\n",
       "          [1., 0., 0.,  ..., 1., 1., 1.]]]),\n",
       " 'alt': tensor([[[1., 1., 1.,  ..., 0., 0., 0.],\n",
       "          [0., 0., 0.,  ..., 0., 0., 0.],\n",
       "          [0., 0., 0.,  ..., 0., 1., 0.],\n",
       "          [0., 0., 0.,  ..., 1., 0., 1.]],\n",
       " \n",
       "         [[1., 0., 1.,  ..., 0., 0., 0.],\n",
       "          [0., 1., 0.,  ..., 0., 0., 0.],\n",
       "          [0., 0., 0.,  ..., 0., 0., 0.],\n",
       "          [0., 0., 0.,  ..., 1., 1., 1.]]])}"
      ]
     },
     "execution_count": 79,
     "metadata": {},
     "output_type": "execute_result"
    }
   ],
   "source": [
    "vcf_data[1]"
   ]
  },
  {
   "cell_type": "code",
   "execution_count": 82,
   "id": "849aadb8-77d5-470d-bcae-2aa463479bd2",
   "metadata": {},
   "outputs": [
    {
     "data": {
      "application/vnd.jupyter.widget-view+json": {
       "model_id": "7d1654a8bf464a2ab6aa0385494b1a6f",
       "version_major": 2,
       "version_minor": 0
      },
      "text/plain": [
       "  0%|          | 0/210121 [00:00<?, ?it/s]"
      ]
     },
     "metadata": {},
     "output_type": "display_data"
    }
   ],
   "source": [
    "loader_dict = {}\n",
    "chrom_key = {}\n",
    "\n",
    "for i in tqdm.tqdm(range(vcf.vcf.shape[0])):\n",
    "    row_id =  vcf.vcf.loc[i,'id']\n",
    "    chrom = vcf.vcf.loc[i,'chrom']\n",
    "    loader_seq = vec2nt(vcf_data[i]['ref'][0])\n",
    "    loader_dict[row_id] = loader_seq\n",
    "    chrom_key[row_id] = chrom\n"
   ]
  },
  {
   "cell_type": "code",
   "execution_count": 83,
   "id": "e6abcddf-479a-4dd0-9062-45faf8f2ede1",
   "metadata": {},
   "outputs": [],
   "source": [
    "liftover_seqs = pd.DataFrame(zip(*loader_dict.items())).T\n",
    "liftover_seqs.columns=['IDs','nt_sequence']\n",
    "liftover_seqs = liftover_seqs.set_index('IDs', drop=True)\n",
    "\n",
    "liftover_chrom= pd.DataFrame(zip(*chrom_key.items())).T\n",
    "liftover_chrom.columns=['IDs','chrom']\n",
    "liftover_chrom= liftover_chrom.set_index('IDs', drop=True)"
   ]
  },
  {
   "cell_type": "code",
   "execution_count": null,
   "id": "3c681b4d-4b80-401e-9dde-06b547704863",
   "metadata": {},
   "outputs": [],
   "source": [
    "liftover_seqs"
   ]
  },
  {
   "cell_type": "code",
   "execution_count": 84,
   "id": "644da767-c76d-4fa5-b03d-1c73bb2a3464",
   "metadata": {},
   "outputs": [
    {
     "data": {
      "text/plain": [
       "199935"
      ]
     },
     "execution_count": 84,
     "metadata": {},
     "output_type": "execute_result"
    }
   ],
   "source": [
    "intersect_ids = set(extract_seqs.index).intersection(set(liftover_seqs.index))\n",
    "len(intersect_ids)"
   ]
  },
  {
   "cell_type": "code",
   "execution_count": 85,
   "id": "e138de4f-46e1-4052-8eda-42710c5b3f93",
   "metadata": {},
   "outputs": [],
   "source": [
    "concord = extract_seqs.loc[intersect_ids, 'nt_sequence'] == liftover_seqs.loc[intersect_ids, 'nt_sequence']"
   ]
  },
  {
   "cell_type": "code",
   "execution_count": 86,
   "id": "5d53b767-48c6-4aa5-95ff-248a19537e2a",
   "metadata": {},
   "outputs": [],
   "source": [
    "mismatch_contig_source_19 = [ x.split(':')[0] for x in liftover_seqs.loc[intersect_ids].loc[~concord].index ]\n",
    "mismatch_contig_source_38 = [ liftover_chrom.loc[x, 'chrom'] for x in liftover_seqs.loc[intersect_ids].loc[~concord].index ]\n",
    "\n",
    "with open('liftover_fails.txt', 'w') as f:\n",
    "    [ print(x, file=f) for x in liftover_seqs.loc[intersect_ids].loc[~concord].index ]"
   ]
  },
  {
   "cell_type": "code",
   "execution_count": 88,
   "id": "eeb0cb1d-da2e-4d6e-b5f5-7ba6f69d46a5",
   "metadata": {},
   "outputs": [
    {
     "name": "stdout",
     "output_type": "stream",
     "text": [
      "in hg19\n",
      "chr10: 419\n",
      "chr8: 102\n",
      "chr17: 222\n",
      "chr1: 826\n",
      "chr11: 26\n",
      "chr22: 211\n",
      "chr19: 290\n",
      "chr9: 463\n",
      "chrX: 300\n",
      "chr20: 52\n",
      "chr12: 43\n",
      "chr14: 218\n",
      "chr7: 310\n",
      "chr18: 23\n",
      "chr2: 84\n",
      "chr15: 244\n",
      "chr4: 56\n",
      "chr21: 16\n",
      "chr3: 65\n",
      "chr6: 17\n",
      "chr5: 22\n",
      "chr16: 14\n",
      "chr13: 3\n",
      "\n",
      "in hg38\n",
      "chr10: 420\n",
      "chr8: 101\n",
      "chr17: 222\n",
      "chr1: 828\n",
      "chr11: 28\n",
      "chr22: 225\n",
      "chr19: 290\n",
      "chr9: 458\n",
      "chrX: 299\n",
      "chr20: 69\n",
      "chr12: 42\n",
      "chr14: 205\n",
      "chr7: 309\n",
      "chr18: 23\n",
      "chr2: 86\n",
      "chr15: 241\n",
      "chr4: 51\n",
      "chr21: 17\n",
      "chr3: 62\n",
      "chr6: 17\n",
      "chr5: 19\n",
      "chr16: 11\n",
      "chr13: 3\n"
     ]
    }
   ],
   "source": [
    "from collections import Counter\n",
    "\n",
    "print(\"in hg19\")\n",
    "_ = [ print(f\"chr{k}: {v}\") for k,v in Counter(mismatch_contig_source_19).items() ]\n",
    "\n",
    "print(\"\")\n",
    "\n",
    "print(\"in hg38\")\n",
    "_ = [ print(f\"{k}: {v}\") for k,v in Counter(mismatch_contig_source_38).items() ]"
   ]
  },
  {
   "cell_type": "code",
   "execution_count": 89,
   "id": "dbe9b8be-3ccf-483b-aeda-dc08c0a7910e",
   "metadata": {},
   "outputs": [
    {
     "data": {
      "text/plain": [
       "(4, 50818468)"
      ]
     },
     "execution_count": 89,
     "metadata": {},
     "output_type": "execute_result"
    }
   ],
   "source": [
    "fasta_38.fasta['chr22'].shape"
   ]
  },
  {
   "cell_type": "code",
   "execution_count": null,
   "id": "fae22728-0f88-4a21-bedb-a8ec0bc90a89",
   "metadata": {},
   "outputs": [],
   "source": [
    "print(mismatch_contig_source.mean())"
   ]
  }
 ],
 "metadata": {
  "kernelspec": {
   "display_name": "Python 3 (ipykernel)",
   "language": "python",
   "name": "python3"
  },
  "language_info": {
   "codemirror_mode": {
    "name": "ipython",
    "version": 3
   },
   "file_extension": ".py",
   "mimetype": "text/x-python",
   "name": "python",
   "nbconvert_exporter": "python",
   "pygments_lexer": "ipython3",
   "version": "3.7.12"
  }
 },
 "nbformat": 4,
 "nbformat_minor": 5
}
