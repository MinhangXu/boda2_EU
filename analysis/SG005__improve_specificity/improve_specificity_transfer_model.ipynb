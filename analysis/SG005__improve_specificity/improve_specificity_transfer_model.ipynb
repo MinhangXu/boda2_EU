{
 "cells": [
  {
   "cell_type": "code",
   "execution_count": 1,
   "metadata": {},
   "outputs": [],
   "source": [
    "import os\n",
    "import sys\n",
    "import time\n",
    "import yaml\n",
    "import shutil\n",
    "import argparse\n",
    "import tarfile\n",
    "import random\n",
    "import tempfile\n",
    "import subprocess\n",
    "\n",
    "import torch\n",
    "import pytorch_lightning as ptl\n",
    "from pytorch_lightning import Trainer\n",
    "\n",
    "import hypertune\n",
    "\n",
    "import boda\n"
   ]
  },
  {
   "cell_type": "code",
   "execution_count": 2,
   "metadata": {},
   "outputs": [
    {
     "name": "stdout",
     "output_type": "stream",
     "text": [
      "1.7.1\n",
      "1.3.0\n"
     ]
    }
   ],
   "source": [
    "print(torch.__version__)\n",
    "print(ptl.__version__)"
   ]
  },
  {
   "cell_type": "code",
   "execution_count": 3,
   "metadata": {},
   "outputs": [],
   "source": [
    "def main(args):\n",
    "    data_module = getattr(boda.data, args['Main args'].data_module)\n",
    "    model_module= getattr(boda.model, args['Main args'].model_module)\n",
    "    graph_module= getattr(boda.graph, args['Main args'].graph_module)\n",
    "\n",
    "    data = data_module(**vars(data_module.process_args(args)))\n",
    "    model= model_module(**vars(model_module.process_args(args)))\n",
    "\n",
    "    model.__class__ = type(\n",
    "        'BODA_module',\n",
    "        (model_module,graph_module),\n",
    "        vars(graph_module.process_args(args))\n",
    "    )\n",
    "\n",
    "    trainer = Trainer.from_argparse_args(args['pl.Trainer'])\n",
    "    os.makedirs(trainer.default_root_dir, exist_ok=True)\n",
    "    \n",
    "    trainer.fit(model, data)\n",
    "    \n",
    "    #_save_model(data_module, model_module, graph_module, \n",
    "    #            model, trainer, args)\n",
    "    \n",
    "    return data_module, model_module, graph_module, model, trainer, args"
   ]
  },
  {
   "cell_type": "code",
   "execution_count": 4,
   "metadata": {},
   "outputs": [],
   "source": [
    "def _save_model(data_module, model_module, graph_module, \n",
    "                model, trainer, args):\n",
    "    local_dir = args['pl.Trainer'].default_root_dir\n",
    "    save_dict = {\n",
    "        'data_module'  : data_module.__name__,\n",
    "        'data_hparams' : data_module.process_args(args),\n",
    "        'model_module' : model_module.__name__,\n",
    "        'model_hparams': model_module.process_args(args),\n",
    "        'graph_module' : graph_module.__name__,\n",
    "        'graph_hparams': graph_module.process_args(args),\n",
    "        'model_state_dict': model.state_dict(),\n",
    "        'timestamp'    : time.strftime(\"%Y%m%d_%H%M%S\"),\n",
    "        'random_tag'   : random.randint(100000,999999)\n",
    "    }\n",
    "    torch.save(save_dict, os.path.join(local_dir,'torch_checkpoint.pt'))\n",
    "    \n",
    "    filename=f'model_artifacts__{save_dict[\"timestamp\"]}__{save_dict[\"random_tag\"]}.tar.gz'\n",
    "    with tempfile.TemporaryDirectory() as tmpdirname:\n",
    "        tmpdirname = '/tmp/output'\n",
    "        with tarfile.open(os.path.join(tmpdirname,filename), 'w:gz') as tar:\n",
    "            tar.add(local_dir,arcname='artifacts')\n",
    "\n",
    "        if 'gs://' in args['Main args'].artifact_path:\n",
    "            clound_target = os.path.join(args['Main args'].artifact_path,filename)\n",
    "            subprocess.check_call(\n",
    "                ['gsutil', 'cp', os.path.join(tmpdirname,filename), clound_target]\n",
    "            )\n",
    "        else:\n",
    "            os.makedirs(args['Main args'].artifact_path, exist_ok=True)\n",
    "            shutil.copy(os.path.join(tmpdirname,filename), args['Main args'].artifact_path)\n"
   ]
  },
  {
   "cell_type": "code",
   "execution_count": 5,
   "metadata": {},
   "outputs": [],
   "source": [
    "def model_fn(model_dir):\n",
    "    checkpoint = torch.load(os.path.join(model_dir,'torch_checkpoint.pt'))\n",
    "    model_module = getattr(boda, checkpoint['model_module'])\n",
    "    model        = model_module(**checkpoint['model_hparams'])\n",
    "    model.load_state_dict(checkpoint['model_state_dict'])\n",
    "    print(f'Loaded model from {checkpoint[\"timestamp\"]}')\n",
    "    return model\n"
   ]
  },
  {
   "cell_type": "markdown",
   "metadata": {},
   "source": [
    "# Process runtime arguments"
   ]
  },
  {
   "cell_type": "markdown",
   "metadata": {},
   "source": [
    "## Command line args to use for testing"
   ]
  },
  {
   "cell_type": "code",
   "execution_count": 6,
   "metadata": {},
   "outputs": [
    {
     "data": {
      "text/plain": [
       "'python /home/ubuntu/boda2/src/main.py --data_module BODA2_DataModule --datafile_path  gs://syrgoth/data/BODA.MPRA.txt --valid_pct  10 --test_pct  10 --batch_size  1024 --padded_seq_len 600 --num_workers 1 --model_module BassetEntropyVL --n_linear_layers 3 --linear_channels 1000 --n_outputs 3 --kl_scale 3.0 --graph_module CNNTransferLearning --optimizer Adam --lr 3e-4 --weight_decay 7e-6 --amsgrad True --parent_weights gs://syrgoth/my-model.epoch_5-step_19885.pkl --frozen_epochs 170 --gpus 1 --min_epochs 280 --max_epochs 280 --precision 16 --default_root_dir /tmp/output/artifacts --artifact_path gs://syrgoth/aip_ui_test '"
      ]
     },
     "execution_count": 6,
     "metadata": {},
     "output_type": "execute_result"
    }
   ],
   "source": [
    "cmd_str = '--data_module BODA2_DataModule ' +\\\n",
    "            '--datafile_path  gs://syrgoth/data/BODA.MPRA.txt ' +\\\n",
    "            '--valid_pct  10 --test_pct  10 ' +\\\n",
    "            '--batch_size  1024 --padded_seq_len 600 --num_workers 1 ' +\\\n",
    "          '--model_module BassetEntropyVL ' +\\\n",
    "            '--n_linear_layers 3 --linear_channels 1000 ' +\\\n",
    "            '--n_outputs 3 ' +\\\n",
    "            '--kl_scale 3.0 ' +\\\n",
    "          '--graph_module CNNTransferLearning ' +\\\n",
    "            '--optimizer Adam ' +\\\n",
    "              '--lr 3e-4 --weight_decay 7e-6 --amsgrad True ' +\\\n",
    "            '--parent_weights gs://syrgoth/my-model.epoch_5-step_19885.pkl ' +\\\n",
    "            '--frozen_epochs 170 ' +\\\n",
    "          '--gpus 1 --min_epochs 280 --max_epochs 280 --precision 16 --default_root_dir /tmp/output/artifacts ' +\\\n",
    "          '--artifact_path gs://syrgoth/aip_ui_test '\n",
    "\n",
    "'python /home/ubuntu/boda2/src/main.py ' + cmd_str"
   ]
  },
  {
   "cell_type": "code",
   "execution_count": 7,
   "metadata": {},
   "outputs": [
    {
     "name": "stdout",
     "output_type": "stream",
     "text": [
      "--data_module=BODA2_DataModule\n",
      "--datafile_path=gs://syrgoth/data/BODA.MPRA.txt\n",
      "--valid_pct=10\n",
      "--test_pct=10\n",
      "--batch_size=1024\n",
      "--padded_seq_len=600\n",
      "--num_workers=1\n",
      "--model_module=BassetEntropyVL\n",
      "--n_linear_layers=3\n",
      "--linear_channels=1000\n",
      "--n_outputs=3\n",
      "--kl_scale=3.0\n",
      "--graph_module=CNNTransferLearning\n",
      "--optimizer=Adam\n",
      "--lr=3e-4\n",
      "--weight_decay=7e-6\n",
      "--amsgrad=True\n",
      "--parent_weights=gs://syrgoth/my-model.epoch_5-step_19885.pkl\n",
      "--frozen_epochs=170\n",
      "--gpus=1\n",
      "--min_epochs=280\n",
      "--max_epochs=280\n",
      "--precision=16\n",
      "--default_root_dir=/tmp/output/artifacts\n",
      "--artifact_path=gs://syrgoth/aip_ui_test\n"
     ]
    }
   ],
   "source": [
    "for i, value in enumerate(cmd_str.split()):\n",
    "    if i % 2:\n",
    "        print(\"=\"+value)\n",
    "    else:\n",
    "        print(value, end='')"
   ]
  },
  {
   "cell_type": "markdown",
   "metadata": {},
   "source": [
    "## Set base args for script\n",
    "\n",
    "Basic arguments to identify which submodules are used and where data will be saved"
   ]
  },
  {
   "cell_type": "code",
   "execution_count": 8,
   "metadata": {},
   "outputs": [
    {
     "data": {
      "text/plain": [
       "_StoreAction(option_strings=['--pretrained_weights'], dest='pretrained_weights', nargs=None, const=None, default=None, type=<class 'str'>, choices=None, help='Pretrained weights.', metavar=None)"
      ]
     },
     "execution_count": 8,
     "metadata": {},
     "output_type": "execute_result"
    }
   ],
   "source": [
    "parser = argparse.ArgumentParser(description=\"BODA trainer\", add_help=False)\n",
    "group = parser.add_argument_group('Main args')\n",
    "group.add_argument('--data_module', type=str, required=True, help='BODA data module to process dataset.')\n",
    "group.add_argument('--model_module',type=str, required=True, help='BODA model module to fit dataset.')\n",
    "group.add_argument('--graph_module',type=str, required=True, help='BODA graph module to define computations.')\n",
    "group.add_argument('--artifact_path', type=str, default='/opt/ml/checkpoints/', help='Path where model artifacts are deposited.')\n",
    "group.add_argument('--pretrained_weights', type=str, help='Pretrained weights.')\n",
    "\n"
   ]
  },
  {
   "cell_type": "code",
   "execution_count": 9,
   "metadata": {},
   "outputs": [],
   "source": [
    "known_args, leftover_args = parser.parse_known_args(\n",
    "    cmd_str.rstrip().split()\n",
    ")"
   ]
  },
  {
   "cell_type": "code",
   "execution_count": 10,
   "metadata": {},
   "outputs": [
    {
     "data": {
      "text/plain": [
       "Namespace(artifact_path='gs://syrgoth/aip_ui_test', data_module='BODA2_DataModule', graph_module='CNNTransferLearning', model_module='BassetEntropyVL', pretrained_weights=None)"
      ]
     },
     "execution_count": 10,
     "metadata": {},
     "output_type": "execute_result"
    }
   ],
   "source": [
    "known_args"
   ]
  },
  {
   "cell_type": "markdown",
   "metadata": {},
   "source": [
    "## Extract first-order submodule args\n",
    "\n",
    "Get submodule specific arguments."
   ]
  },
  {
   "cell_type": "code",
   "execution_count": 11,
   "metadata": {},
   "outputs": [],
   "source": [
    "Data  = getattr(boda.data,  known_args.data_module)\n",
    "Model = getattr(boda.model, known_args.model_module)\n",
    "Graph = getattr(boda.graph, known_args.graph_module)\n",
    "\n",
    "parser = Data.add_data_specific_args(parser)\n",
    "parser = Model.add_model_specific_args(parser)\n",
    "parser = Graph.add_graph_specific_args(parser)\n",
    "\n",
    "known_args, leftover_args = parser.parse_known_args(\n",
    "    cmd_str.rstrip().split()\n",
    ")\n"
   ]
  },
  {
   "cell_type": "code",
   "execution_count": 12,
   "metadata": {},
   "outputs": [
    {
     "data": {
      "text/plain": [
       "Namespace(activity_columns=['K562', 'HepG2.neon', 'SKNSH'], artifact_path='gs://syrgoth/aip_ui_test', batch_size=1024, conv1_channels=300, conv1_kernel_size=19, conv2_channels=200, conv2_kernel_size=11, conv3_channels=200, conv3_kernel_size=7, criterion_reduction='mean', data_module='BODA2_DataModule', datafile_path='gs://syrgoth/data/BODA.MPRA.txt', dropout_p=0.3, frozen_epochs=170, graph_module='CNNTransferLearning', kl_scale=3.0, linear_channels=1000, model_module='BassetEntropyVL', mse_scale=1.0, n_linear_layers=3, n_outputs=3, num_workers=1, optimizer='Adam', padded_seq_len=600, parent_weights='gs://syrgoth/my-model.epoch_5-step_19885.pkl', pretrained_weights=None, scheduler=None, scheduler_interval='epoch', scheduler_monitor=None, sequence_column='nt.sequence', test_pct=10.0, use_batch_norm=True, use_weight_norm=False, valid_pct=10.0)"
      ]
     },
     "execution_count": 12,
     "metadata": {},
     "output_type": "execute_result"
    }
   ],
   "source": [
    "known_args"
   ]
  },
  {
   "cell_type": "markdown",
   "metadata": {},
   "source": [
    "## Extract second-order submodule args\n",
    "\n",
    "Get another set of submodule specific arguments based preliminary choices. (i.e., optional arguments for optimizer of choice)"
   ]
  },
  {
   "cell_type": "code",
   "execution_count": 13,
   "metadata": {},
   "outputs": [],
   "source": [
    "parser = Data.add_conditional_args(parser, known_args)\n",
    "parser = Model.add_conditional_args(parser, known_args)\n",
    "parser = Graph.add_conditional_args(parser, known_args)\n",
    "\n",
    "parser = Trainer.add_argparse_args(parser)\n",
    "parser.add_argument('--help', '-h', action='help')\n",
    "args = parser.parse_args(\n",
    "    cmd_str.rstrip().split()\n",
    ")\n",
    "\n",
    "args = boda.common.utils.organize_args(parser, args)\n",
    "\n"
   ]
  },
  {
   "cell_type": "code",
   "execution_count": 14,
   "metadata": {},
   "outputs": [
    {
     "data": {
      "text/plain": [
       "{'positional arguments': Namespace(),\n",
       " 'optional arguments': Namespace(help=None),\n",
       " 'Main args': Namespace(artifact_path='gs://syrgoth/aip_ui_test', data_module='BODA2_DataModule', graph_module='CNNTransferLearning', model_module='BassetEntropyVL', pretrained_weights=None),\n",
       " 'Data Module args': Namespace(activity_columns=['K562', 'HepG2.neon', 'SKNSH'], batch_size=1024, datafile_path='gs://syrgoth/data/BODA.MPRA.txt', num_workers=1, padded_seq_len=600, sequence_column='nt.sequence', test_pct=10.0, valid_pct=10.0),\n",
       " 'Model Module args': Namespace(conv1_channels=300, conv1_kernel_size=19, conv2_channels=200, conv2_kernel_size=11, conv3_channels=200, conv3_kernel_size=7, criterion_reduction='mean', dropout_p=0.3, kl_scale=3.0, linear_channels=1000, mse_scale=1.0, n_linear_layers=3, n_outputs=3, use_batch_norm=True, use_weight_norm=False),\n",
       " 'Graph Module args': Namespace(frozen_epochs=170, optimizer='Adam', parent_weights='gs://syrgoth/my-model.epoch_5-step_19885.pkl', scheduler=None, scheduler_interval='epoch', scheduler_monitor=None),\n",
       " 'Optimizer args': Namespace(amsgrad=True, beta1=0.9, beta2=0.999, eps=1e-08, lr=0.0003, weight_decay=7e-06),\n",
       " 'pl.Trainer': Namespace(accelerator=None, accumulate_grad_batches=1, amp_backend='native', amp_level='O2', auto_lr_find=False, auto_scale_batch_size=False, auto_select_gpus=False, benchmark=False, check_val_every_n_epoch=1, checkpoint_callback=True, default_root_dir='/tmp/output/artifacts', deterministic=False, distributed_backend=None, fast_dev_run=False, flush_logs_every_n_steps=100, gpus=1, gradient_clip_algorithm='norm', gradient_clip_val=0.0, limit_predict_batches=1.0, limit_test_batches=1.0, limit_train_batches=1.0, limit_val_batches=1.0, log_every_n_steps=50, log_gpu_memory=None, logger=True, max_epochs=280, max_steps=None, max_time=None, min_epochs=280, min_steps=None, move_metrics_to_cpu=False, multiple_trainloader_mode='max_size_cycle', num_nodes=1, num_processes=1, num_sanity_val_steps=2, overfit_batches=0.0, plugins=None, precision=16, prepare_data_per_node=True, process_position=0, profiler=None, progress_bar_refresh_rate=None, reload_dataloaders_every_epoch=False, replace_sampler_ddp=True, resume_from_checkpoint=None, stochastic_weight_avg=False, sync_batchnorm=False, terminate_on_nan=False, tpu_cores=None, track_grad_norm=-1, truncated_bptt_steps=None, val_check_interval=1.0, weights_save_path=None, weights_summary='top')}"
      ]
     },
     "execution_count": 14,
     "metadata": {},
     "output_type": "execute_result"
    }
   ],
   "source": [
    "args"
   ]
  },
  {
   "cell_type": "markdown",
   "metadata": {},
   "source": [
    "# Run training\n",
    "use modified `main` runner."
   ]
  },
  {
   "cell_type": "code",
   "execution_count": 15,
   "metadata": {
    "scrolled": true
   },
   "outputs": [
    {
     "name": "stderr",
     "output_type": "stream",
     "text": [
      "GPU available: True, used: True\n",
      "TPU available: False, using: 0 TPU cores\n",
      "Using native 16bit precision.\n"
     ]
    },
    {
     "name": "stdout",
     "output_type": "stream",
     "text": [
      "Padding sequences and converting to one-hot tensors...\n",
      "10000/27719 sequences padded and tokenized...\n",
      "20000/27719 sequences padded and tokenized...\n"
     ]
    },
    {
     "name": "stderr",
     "output_type": "stream",
     "text": [
      "Key conv1.conv.weight successfully matched\n",
      "Key conv1.conv.bias successfully matched\n",
      "Key conv1.bn_layer.weight successfully matched\n",
      "Key conv1.bn_layer.bias successfully matched\n",
      "Key conv1.bn_layer.running_mean successfully matched\n",
      "Key conv1.bn_layer.running_var successfully matched\n",
      "Key conv1.bn_layer.num_batches_tracked successfully matched\n",
      "Key conv2.conv.weight successfully matched\n",
      "Key conv2.conv.bias successfully matched\n",
      "Key conv2.bn_layer.weight successfully matched\n",
      "Key conv2.bn_layer.bias successfully matched\n",
      "Key conv2.bn_layer.running_mean successfully matched\n",
      "Key conv2.bn_layer.running_var successfully matched\n",
      "Key conv2.bn_layer.num_batches_tracked successfully matched\n",
      "Key conv3.conv.weight successfully matched\n",
      "Key conv3.conv.bias successfully matched\n",
      "Key conv3.bn_layer.weight successfully matched\n",
      "Key conv3.bn_layer.bias successfully matched\n",
      "Key conv3.bn_layer.running_mean successfully matched\n",
      "Key conv3.bn_layer.running_var successfully matched\n",
      "Key conv3.bn_layer.num_batches_tracked successfully matched\n",
      "Key linear1.linear.weight successfully matched\n",
      "Key linear1.linear.bias successfully matched\n",
      "Key linear1.bn_layer.weight successfully matched\n",
      "Key linear1.bn_layer.bias successfully matched\n",
      "Key linear1.bn_layer.running_mean successfully matched\n",
      "Key linear1.bn_layer.running_var successfully matched\n",
      "Key linear1.bn_layer.num_batches_tracked successfully matched\n",
      "Key linear2.linear.weight successfully matched\n",
      "Key linear2.linear.bias successfully matched\n",
      "Key linear2.bn_layer.weight successfully matched\n",
      "Key linear2.bn_layer.bias successfully matched\n",
      "Key linear2.bn_layer.running_mean successfully matched\n",
      "Key linear2.bn_layer.running_var successfully matched\n",
      "Key linear2.bn_layer.num_batches_tracked successfully matched\n",
      "Missing key in dict: linear3.linear.weight\n",
      "Missing key in dict: linear3.linear.bias\n",
      "Missing key in dict: linear3.bn_layer.weight\n",
      "Missing key in dict: linear3.bn_layer.bias\n",
      "Missing key in dict: linear3.bn_layer.running_mean\n",
      "Missing key in dict: linear3.bn_layer.running_var\n",
      "Missing key in dict: linear3.bn_layer.num_batches_tracked\n",
      "Size mismatch for key: output.weight, expected size torch.Size([3, 1000]), got torch.Size([280, 1000])\n",
      "Size mismatch for key: output.bias, expected size torch.Size([3]), got torch.Size([280])\n",
      "LOCAL_RANK: 0 - CUDA_VISIBLE_DEVICES: [0]\n",
      "\n",
      "   | Name      | Type          | Params\n",
      "---------------------------------------------\n",
      "0  | pad1      | ConstantPad1d | 0     \n",
      "1  | conv1     | Conv1dNorm    | 23.7 K\n",
      "2  | pad2      | ConstantPad1d | 0     \n",
      "3  | conv2     | Conv1dNorm    | 660 K \n",
      "4  | pad3      | ConstantPad1d | 0     \n",
      "5  | conv3     | Conv1dNorm    | 280 K \n",
      "6  | pad4      | ConstantPad1d | 0     \n",
      "7  | maxpool_3 | MaxPool1d     | 0     \n",
      "8  | maxpool_4 | MaxPool1d     | 0     \n",
      "9  | linear1   | LinearNorm    | 2.6 M \n",
      "10 | linear2   | LinearNorm    | 1.0 M \n",
      "11 | linear3   | LinearNorm    | 1.0 M \n",
      "12 | output    | Linear        | 3.0 K \n",
      "13 | nonlin    | ReLU          | 0     \n",
      "14 | dropout   | Dropout       | 0     \n",
      "15 | criterion | MSEKLmixed    | 0     \n",
      "---------------------------------------------\n",
      "5.6 M     Trainable params\n",
      "0         Non-trainable params\n",
      "5.6 M     Total params\n",
      "22.308    Total estimated model params size (MB)\n"
     ]
    },
    {
     "name": "stdout",
     "output_type": "stream",
     "text": [
      "Found 5576903 parameters\n"
     ]
    },
    {
     "data": {
      "application/vnd.jupyter.widget-view+json": {
       "model_id": "",
       "version_major": 2,
       "version_minor": 0
      },
      "text/plain": [
       "Validation sanity check: 0it [00:00, ?it/s]"
      ]
     },
     "metadata": {},
     "output_type": "display_data"
    },
    {
     "name": "stderr",
     "output_type": "stream",
     "text": [
      "/opt/conda/lib/python3.7/site-packages/pytorch_lightning/utilities/distributed.py:69: UserWarning: The dataloader, val dataloader 0, does not have many workers which may be a bottleneck. Consider increasing the value of the `num_workers` argument` (try 8 which is the number of cpus on this machine) in the `DataLoader` init to improve performance.\n",
      "  warnings.warn(*args, **kwargs)\n"
     ]
    },
    {
     "name": "stdout",
     "output_type": "stream",
     "text": [
      "\n",
      "-----------------------------------------------------------------------------------------------------------------------------------\n",
      "| arithmetic_mean_loss: 0.40580 | harmonic_mean_loss: 1.42788 | prediction_mean_pearson: -0.03301 | entropy_mean_pearson: 0.01991 |\n",
      "-----------------------------------------------------------------------------------------------------------------------------------\n",
      "\n"
     ]
    },
    {
     "name": "stderr",
     "output_type": "stream",
     "text": [
      "/opt/conda/lib/python3.7/site-packages/torch/nn/functional.py:2398: UserWarning: reduction: 'mean' divides the total loss by both the batch size and the support size.'batchmean' divides only by the batch size, and aligns with the KL div math definition.'mean' will be changed to behave the same as 'batchmean' in the next major release.\n",
      "  warnings.warn(\"reduction: 'mean' divides the total loss by both the batch size and the support size.\"\n",
      "/opt/conda/lib/python3.7/site-packages/pytorch_lightning/utilities/distributed.py:69: UserWarning: The dataloader, train dataloader, does not have many workers which may be a bottleneck. Consider increasing the value of the `num_workers` argument` (try 8 which is the number of cpus on this machine) in the `DataLoader` init to improve performance.\n",
      "  warnings.warn(*args, **kwargs)\n"
     ]
    },
    {
     "data": {
      "application/vnd.jupyter.widget-view+json": {
       "model_id": "83adeb749e98445bad349ba24eef9e86",
       "version_major": 2,
       "version_minor": 0
      },
      "text/plain": [
       "Training: 0it [00:00, ?it/s]"
      ]
     },
     "metadata": {},
     "output_type": "display_data"
    },
    {
     "name": "stdout",
     "output_type": "stream",
     "text": [
      "starting epoch 0\n"
     ]
    },
    {
     "data": {
      "application/vnd.jupyter.widget-view+json": {
       "model_id": "",
       "version_major": 2,
       "version_minor": 0
      },
      "text/plain": [
       "Validating: 0it [00:00, ?it/s]"
      ]
     },
     "metadata": {},
     "output_type": "display_data"
    },
    {
     "name": "stdout",
     "output_type": "stream",
     "text": [
      "\n",
      "----------------------------------------------------------------------------------------------------------------------------------\n",
      "| arithmetic_mean_loss: 0.37587 | harmonic_mean_loss: 1.32888 | prediction_mean_pearson: 0.22992 | entropy_mean_pearson: 0.01460 |\n",
      "----------------------------------------------------------------------------------------------------------------------------------\n",
      "\n",
      "starting epoch 1\n"
     ]
    },
    {
     "data": {
      "application/vnd.jupyter.widget-view+json": {
       "model_id": "",
       "version_major": 2,
       "version_minor": 0
      },
      "text/plain": [
       "Validating: 0it [00:00, ?it/s]"
      ]
     },
     "metadata": {},
     "output_type": "display_data"
    },
    {
     "name": "stdout",
     "output_type": "stream",
     "text": [
      "\n",
      "----------------------------------------------------------------------------------------------------------------------------------\n",
      "| arithmetic_mean_loss: 0.35490 | harmonic_mean_loss: 1.24659 | prediction_mean_pearson: 0.26655 | entropy_mean_pearson: 0.03945 |\n",
      "----------------------------------------------------------------------------------------------------------------------------------\n",
      "\n",
      "starting epoch 2\n"
     ]
    },
    {
     "data": {
      "application/vnd.jupyter.widget-view+json": {
       "model_id": "",
       "version_major": 2,
       "version_minor": 0
      },
      "text/plain": [
       "Validating: 0it [00:00, ?it/s]"
      ]
     },
     "metadata": {},
     "output_type": "display_data"
    },
    {
     "name": "stdout",
     "output_type": "stream",
     "text": [
      "\n",
      "----------------------------------------------------------------------------------------------------------------------------------\n",
      "| arithmetic_mean_loss: 0.32811 | harmonic_mean_loss: 1.15059 | prediction_mean_pearson: 0.28153 | entropy_mean_pearson: 0.05474 |\n",
      "----------------------------------------------------------------------------------------------------------------------------------\n",
      "\n",
      "starting epoch 3\n"
     ]
    },
    {
     "data": {
      "application/vnd.jupyter.widget-view+json": {
       "model_id": "",
       "version_major": 2,
       "version_minor": 0
      },
      "text/plain": [
       "Validating: 0it [00:00, ?it/s]"
      ]
     },
     "metadata": {},
     "output_type": "display_data"
    },
    {
     "name": "stdout",
     "output_type": "stream",
     "text": [
      "\n",
      "----------------------------------------------------------------------------------------------------------------------------------\n",
      "| arithmetic_mean_loss: 0.33206 | harmonic_mean_loss: 1.16740 | prediction_mean_pearson: 0.28041 | entropy_mean_pearson: 0.04745 |\n",
      "----------------------------------------------------------------------------------------------------------------------------------\n",
      "\n",
      "starting epoch 4\n"
     ]
    },
    {
     "data": {
      "application/vnd.jupyter.widget-view+json": {
       "model_id": "",
       "version_major": 2,
       "version_minor": 0
      },
      "text/plain": [
       "Validating: 0it [00:00, ?it/s]"
      ]
     },
     "metadata": {},
     "output_type": "display_data"
    },
    {
     "name": "stdout",
     "output_type": "stream",
     "text": [
      "\n",
      "----------------------------------------------------------------------------------------------------------------------------------\n",
      "| arithmetic_mean_loss: 0.32165 | harmonic_mean_loss: 1.11914 | prediction_mean_pearson: 0.28781 | entropy_mean_pearson: 0.01277 |\n",
      "----------------------------------------------------------------------------------------------------------------------------------\n",
      "\n",
      "starting epoch 5\n"
     ]
    },
    {
     "data": {
      "application/vnd.jupyter.widget-view+json": {
       "model_id": "",
       "version_major": 2,
       "version_minor": 0
      },
      "text/plain": [
       "Validating: 0it [00:00, ?it/s]"
      ]
     },
     "metadata": {},
     "output_type": "display_data"
    },
    {
     "name": "stdout",
     "output_type": "stream",
     "text": [
      "\n",
      "----------------------------------------------------------------------------------------------------------------------------------\n",
      "| arithmetic_mean_loss: 0.32079 | harmonic_mean_loss: 1.11819 | prediction_mean_pearson: 0.29213 | entropy_mean_pearson: 0.04152 |\n",
      "----------------------------------------------------------------------------------------------------------------------------------\n",
      "\n",
      "starting epoch 6\n"
     ]
    },
    {
     "data": {
      "application/vnd.jupyter.widget-view+json": {
       "model_id": "",
       "version_major": 2,
       "version_minor": 0
      },
      "text/plain": [
       "Validating: 0it [00:00, ?it/s]"
      ]
     },
     "metadata": {},
     "output_type": "display_data"
    },
    {
     "name": "stdout",
     "output_type": "stream",
     "text": [
      "\n",
      "----------------------------------------------------------------------------------------------------------------------------------\n",
      "| arithmetic_mean_loss: 0.32040 | harmonic_mean_loss: 1.11363 | prediction_mean_pearson: 0.29951 | entropy_mean_pearson: 0.01674 |\n",
      "----------------------------------------------------------------------------------------------------------------------------------\n",
      "\n",
      "starting epoch 7\n"
     ]
    },
    {
     "data": {
      "application/vnd.jupyter.widget-view+json": {
       "model_id": "",
       "version_major": 2,
       "version_minor": 0
      },
      "text/plain": [
       "Validating: 0it [00:00, ?it/s]"
      ]
     },
     "metadata": {},
     "output_type": "display_data"
    },
    {
     "name": "stdout",
     "output_type": "stream",
     "text": [
      "\n",
      "----------------------------------------------------------------------------------------------------------------------------------\n",
      "| arithmetic_mean_loss: 0.32148 | harmonic_mean_loss: 1.11791 | prediction_mean_pearson: 0.30145 | entropy_mean_pearson: 0.03567 |\n",
      "----------------------------------------------------------------------------------------------------------------------------------\n",
      "\n",
      "starting epoch 8\n"
     ]
    },
    {
     "data": {
      "application/vnd.jupyter.widget-view+json": {
       "model_id": "",
       "version_major": 2,
       "version_minor": 0
      },
      "text/plain": [
       "Validating: 0it [00:00, ?it/s]"
      ]
     },
     "metadata": {},
     "output_type": "display_data"
    },
    {
     "name": "stdout",
     "output_type": "stream",
     "text": [
      "\n",
      "----------------------------------------------------------------------------------------------------------------------------------\n",
      "| arithmetic_mean_loss: 0.32070 | harmonic_mean_loss: 1.12480 | prediction_mean_pearson: 0.29717 | entropy_mean_pearson: 0.05400 |\n",
      "----------------------------------------------------------------------------------------------------------------------------------\n",
      "\n",
      "starting epoch 9\n"
     ]
    },
    {
     "data": {
      "application/vnd.jupyter.widget-view+json": {
       "model_id": "",
       "version_major": 2,
       "version_minor": 0
      },
      "text/plain": [
       "Validating: 0it [00:00, ?it/s]"
      ]
     },
     "metadata": {},
     "output_type": "display_data"
    },
    {
     "name": "stdout",
     "output_type": "stream",
     "text": [
      "\n",
      "----------------------------------------------------------------------------------------------------------------------------------\n",
      "| arithmetic_mean_loss: 0.32163 | harmonic_mean_loss: 1.12287 | prediction_mean_pearson: 0.29636 | entropy_mean_pearson: 0.06036 |\n",
      "----------------------------------------------------------------------------------------------------------------------------------\n",
      "\n",
      "starting epoch 10\n"
     ]
    },
    {
     "data": {
      "application/vnd.jupyter.widget-view+json": {
       "model_id": "",
       "version_major": 2,
       "version_minor": 0
      },
      "text/plain": [
       "Validating: 0it [00:00, ?it/s]"
      ]
     },
     "metadata": {},
     "output_type": "display_data"
    },
    {
     "name": "stdout",
     "output_type": "stream",
     "text": [
      "\n",
      "----------------------------------------------------------------------------------------------------------------------------------\n",
      "| arithmetic_mean_loss: 0.32008 | harmonic_mean_loss: 1.11594 | prediction_mean_pearson: 0.30138 | entropy_mean_pearson: 0.05481 |\n",
      "----------------------------------------------------------------------------------------------------------------------------------\n",
      "\n",
      "starting epoch 11\n"
     ]
    },
    {
     "data": {
      "application/vnd.jupyter.widget-view+json": {
       "model_id": "",
       "version_major": 2,
       "version_minor": 0
      },
      "text/plain": [
       "Validating: 0it [00:00, ?it/s]"
      ]
     },
     "metadata": {},
     "output_type": "display_data"
    },
    {
     "name": "stdout",
     "output_type": "stream",
     "text": [
      "\n",
      "----------------------------------------------------------------------------------------------------------------------------------\n",
      "| arithmetic_mean_loss: 0.31684 | harmonic_mean_loss: 1.10539 | prediction_mean_pearson: 0.30699 | entropy_mean_pearson: 0.04782 |\n",
      "----------------------------------------------------------------------------------------------------------------------------------\n",
      "\n",
      "starting epoch 12\n"
     ]
    },
    {
     "data": {
      "application/vnd.jupyter.widget-view+json": {
       "model_id": "",
       "version_major": 2,
       "version_minor": 0
      },
      "text/plain": [
       "Validating: 0it [00:00, ?it/s]"
      ]
     },
     "metadata": {},
     "output_type": "display_data"
    },
    {
     "name": "stdout",
     "output_type": "stream",
     "text": [
      "\n",
      "----------------------------------------------------------------------------------------------------------------------------------\n",
      "| arithmetic_mean_loss: 0.31891 | harmonic_mean_loss: 1.11140 | prediction_mean_pearson: 0.30026 | entropy_mean_pearson: 0.04903 |\n",
      "----------------------------------------------------------------------------------------------------------------------------------\n",
      "\n",
      "starting epoch 13\n"
     ]
    },
    {
     "data": {
      "application/vnd.jupyter.widget-view+json": {
       "model_id": "",
       "version_major": 2,
       "version_minor": 0
      },
      "text/plain": [
       "Validating: 0it [00:00, ?it/s]"
      ]
     },
     "metadata": {},
     "output_type": "display_data"
    },
    {
     "name": "stdout",
     "output_type": "stream",
     "text": [
      "\n",
      "----------------------------------------------------------------------------------------------------------------------------------\n",
      "| arithmetic_mean_loss: 0.31776 | harmonic_mean_loss: 1.10915 | prediction_mean_pearson: 0.30885 | entropy_mean_pearson: 0.06064 |\n",
      "----------------------------------------------------------------------------------------------------------------------------------\n",
      "\n",
      "starting epoch 14\n"
     ]
    },
    {
     "data": {
      "application/vnd.jupyter.widget-view+json": {
       "model_id": "",
       "version_major": 2,
       "version_minor": 0
      },
      "text/plain": [
       "Validating: 0it [00:00, ?it/s]"
      ]
     },
     "metadata": {},
     "output_type": "display_data"
    },
    {
     "name": "stdout",
     "output_type": "stream",
     "text": [
      "\n",
      "----------------------------------------------------------------------------------------------------------------------------------\n",
      "| arithmetic_mean_loss: 0.31498 | harmonic_mean_loss: 1.09747 | prediction_mean_pearson: 0.30998 | entropy_mean_pearson: 0.06163 |\n",
      "----------------------------------------------------------------------------------------------------------------------------------\n",
      "\n",
      "starting epoch 15\n"
     ]
    },
    {
     "data": {
      "application/vnd.jupyter.widget-view+json": {
       "model_id": "",
       "version_major": 2,
       "version_minor": 0
      },
      "text/plain": [
       "Validating: 0it [00:00, ?it/s]"
      ]
     },
     "metadata": {},
     "output_type": "display_data"
    },
    {
     "name": "stdout",
     "output_type": "stream",
     "text": [
      "\n",
      "----------------------------------------------------------------------------------------------------------------------------------\n",
      "| arithmetic_mean_loss: 0.32081 | harmonic_mean_loss: 1.12009 | prediction_mean_pearson: 0.30740 | entropy_mean_pearson: 0.06595 |\n",
      "----------------------------------------------------------------------------------------------------------------------------------\n",
      "\n",
      "starting epoch 16\n"
     ]
    },
    {
     "data": {
      "application/vnd.jupyter.widget-view+json": {
       "model_id": "",
       "version_major": 2,
       "version_minor": 0
      },
      "text/plain": [
       "Validating: 0it [00:00, ?it/s]"
      ]
     },
     "metadata": {},
     "output_type": "display_data"
    },
    {
     "name": "stdout",
     "output_type": "stream",
     "text": [
      "\n",
      "----------------------------------------------------------------------------------------------------------------------------------\n",
      "| arithmetic_mean_loss: 0.31744 | harmonic_mean_loss: 1.10657 | prediction_mean_pearson: 0.30663 | entropy_mean_pearson: 0.07465 |\n",
      "----------------------------------------------------------------------------------------------------------------------------------\n",
      "\n",
      "starting epoch 17\n"
     ]
    },
    {
     "data": {
      "application/vnd.jupyter.widget-view+json": {
       "model_id": "",
       "version_major": 2,
       "version_minor": 0
      },
      "text/plain": [
       "Validating: 0it [00:00, ?it/s]"
      ]
     },
     "metadata": {},
     "output_type": "display_data"
    },
    {
     "name": "stdout",
     "output_type": "stream",
     "text": [
      "\n",
      "----------------------------------------------------------------------------------------------------------------------------------\n",
      "| arithmetic_mean_loss: 0.31590 | harmonic_mean_loss: 1.10005 | prediction_mean_pearson: 0.31085 | entropy_mean_pearson: 0.07308 |\n",
      "----------------------------------------------------------------------------------------------------------------------------------\n",
      "\n",
      "starting epoch 18\n"
     ]
    },
    {
     "data": {
      "application/vnd.jupyter.widget-view+json": {
       "model_id": "",
       "version_major": 2,
       "version_minor": 0
      },
      "text/plain": [
       "Validating: 0it [00:00, ?it/s]"
      ]
     },
     "metadata": {},
     "output_type": "display_data"
    },
    {
     "name": "stdout",
     "output_type": "stream",
     "text": [
      "\n",
      "----------------------------------------------------------------------------------------------------------------------------------\n",
      "| arithmetic_mean_loss: 0.31598 | harmonic_mean_loss: 1.09956 | prediction_mean_pearson: 0.30987 | entropy_mean_pearson: 0.06451 |\n",
      "----------------------------------------------------------------------------------------------------------------------------------\n",
      "\n",
      "starting epoch 19\n"
     ]
    },
    {
     "data": {
      "application/vnd.jupyter.widget-view+json": {
       "model_id": "",
       "version_major": 2,
       "version_minor": 0
      },
      "text/plain": [
       "Validating: 0it [00:00, ?it/s]"
      ]
     },
     "metadata": {},
     "output_type": "display_data"
    },
    {
     "name": "stdout",
     "output_type": "stream",
     "text": [
      "\n",
      "----------------------------------------------------------------------------------------------------------------------------------\n",
      "| arithmetic_mean_loss: 0.31866 | harmonic_mean_loss: 1.11173 | prediction_mean_pearson: 0.31146 | entropy_mean_pearson: 0.06809 |\n",
      "----------------------------------------------------------------------------------------------------------------------------------\n",
      "\n",
      "starting epoch 20\n"
     ]
    },
    {
     "data": {
      "application/vnd.jupyter.widget-view+json": {
       "model_id": "",
       "version_major": 2,
       "version_minor": 0
      },
      "text/plain": [
       "Validating: 0it [00:00, ?it/s]"
      ]
     },
     "metadata": {},
     "output_type": "display_data"
    },
    {
     "name": "stdout",
     "output_type": "stream",
     "text": [
      "\n",
      "----------------------------------------------------------------------------------------------------------------------------------\n",
      "| arithmetic_mean_loss: 0.31822 | harmonic_mean_loss: 1.10251 | prediction_mean_pearson: 0.31465 | entropy_mean_pearson: 0.04950 |\n",
      "----------------------------------------------------------------------------------------------------------------------------------\n",
      "\n",
      "starting epoch 21\n"
     ]
    },
    {
     "data": {
      "application/vnd.jupyter.widget-view+json": {
       "model_id": "",
       "version_major": 2,
       "version_minor": 0
      },
      "text/plain": [
       "Validating: 0it [00:00, ?it/s]"
      ]
     },
     "metadata": {},
     "output_type": "display_data"
    },
    {
     "name": "stdout",
     "output_type": "stream",
     "text": [
      "\n",
      "----------------------------------------------------------------------------------------------------------------------------------\n",
      "| arithmetic_mean_loss: 0.31697 | harmonic_mean_loss: 1.10362 | prediction_mean_pearson: 0.30575 | entropy_mean_pearson: 0.05547 |\n",
      "----------------------------------------------------------------------------------------------------------------------------------\n",
      "\n",
      "starting epoch 22\n"
     ]
    },
    {
     "data": {
      "application/vnd.jupyter.widget-view+json": {
       "model_id": "",
       "version_major": 2,
       "version_minor": 0
      },
      "text/plain": [
       "Validating: 0it [00:00, ?it/s]"
      ]
     },
     "metadata": {},
     "output_type": "display_data"
    },
    {
     "name": "stdout",
     "output_type": "stream",
     "text": [
      "\n",
      "----------------------------------------------------------------------------------------------------------------------------------\n",
      "| arithmetic_mean_loss: 0.32080 | harmonic_mean_loss: 1.11650 | prediction_mean_pearson: 0.30811 | entropy_mean_pearson: 0.07330 |\n",
      "----------------------------------------------------------------------------------------------------------------------------------\n",
      "\n",
      "starting epoch 23\n"
     ]
    },
    {
     "data": {
      "application/vnd.jupyter.widget-view+json": {
       "model_id": "",
       "version_major": 2,
       "version_minor": 0
      },
      "text/plain": [
       "Validating: 0it [00:00, ?it/s]"
      ]
     },
     "metadata": {},
     "output_type": "display_data"
    },
    {
     "name": "stdout",
     "output_type": "stream",
     "text": [
      "\n",
      "----------------------------------------------------------------------------------------------------------------------------------\n",
      "| arithmetic_mean_loss: 0.31478 | harmonic_mean_loss: 1.09725 | prediction_mean_pearson: 0.30809 | entropy_mean_pearson: 0.06584 |\n",
      "----------------------------------------------------------------------------------------------------------------------------------\n",
      "\n",
      "starting epoch 24\n"
     ]
    },
    {
     "data": {
      "application/vnd.jupyter.widget-view+json": {
       "model_id": "",
       "version_major": 2,
       "version_minor": 0
      },
      "text/plain": [
       "Validating: 0it [00:00, ?it/s]"
      ]
     },
     "metadata": {},
     "output_type": "display_data"
    },
    {
     "name": "stdout",
     "output_type": "stream",
     "text": [
      "\n",
      "----------------------------------------------------------------------------------------------------------------------------------\n",
      "| arithmetic_mean_loss: 0.31408 | harmonic_mean_loss: 1.09455 | prediction_mean_pearson: 0.31340 | entropy_mean_pearson: 0.07044 |\n",
      "----------------------------------------------------------------------------------------------------------------------------------\n",
      "\n",
      "starting epoch 25\n"
     ]
    },
    {
     "data": {
      "application/vnd.jupyter.widget-view+json": {
       "model_id": "",
       "version_major": 2,
       "version_minor": 0
      },
      "text/plain": [
       "Validating: 0it [00:00, ?it/s]"
      ]
     },
     "metadata": {},
     "output_type": "display_data"
    },
    {
     "name": "stdout",
     "output_type": "stream",
     "text": [
      "\n",
      "----------------------------------------------------------------------------------------------------------------------------------\n",
      "| arithmetic_mean_loss: 0.31365 | harmonic_mean_loss: 1.09275 | prediction_mean_pearson: 0.31500 | entropy_mean_pearson: 0.06681 |\n",
      "----------------------------------------------------------------------------------------------------------------------------------\n",
      "\n",
      "starting epoch 26\n"
     ]
    },
    {
     "data": {
      "application/vnd.jupyter.widget-view+json": {
       "model_id": "",
       "version_major": 2,
       "version_minor": 0
      },
      "text/plain": [
       "Validating: 0it [00:00, ?it/s]"
      ]
     },
     "metadata": {},
     "output_type": "display_data"
    },
    {
     "name": "stdout",
     "output_type": "stream",
     "text": [
      "\n",
      "----------------------------------------------------------------------------------------------------------------------------------\n",
      "| arithmetic_mean_loss: 0.31526 | harmonic_mean_loss: 1.09612 | prediction_mean_pearson: 0.31342 | entropy_mean_pearson: 0.06335 |\n",
      "----------------------------------------------------------------------------------------------------------------------------------\n",
      "\n",
      "starting epoch 27\n"
     ]
    },
    {
     "data": {
      "application/vnd.jupyter.widget-view+json": {
       "model_id": "",
       "version_major": 2,
       "version_minor": 0
      },
      "text/plain": [
       "Validating: 0it [00:00, ?it/s]"
      ]
     },
     "metadata": {},
     "output_type": "display_data"
    },
    {
     "name": "stdout",
     "output_type": "stream",
     "text": [
      "\n",
      "----------------------------------------------------------------------------------------------------------------------------------\n",
      "| arithmetic_mean_loss: 0.31465 | harmonic_mean_loss: 1.09732 | prediction_mean_pearson: 0.31435 | entropy_mean_pearson: 0.06928 |\n",
      "----------------------------------------------------------------------------------------------------------------------------------\n",
      "\n",
      "starting epoch 28\n"
     ]
    },
    {
     "data": {
      "application/vnd.jupyter.widget-view+json": {
       "model_id": "",
       "version_major": 2,
       "version_minor": 0
      },
      "text/plain": [
       "Validating: 0it [00:00, ?it/s]"
      ]
     },
     "metadata": {},
     "output_type": "display_data"
    },
    {
     "name": "stdout",
     "output_type": "stream",
     "text": [
      "\n",
      "----------------------------------------------------------------------------------------------------------------------------------\n",
      "| arithmetic_mean_loss: 0.31411 | harmonic_mean_loss: 1.09352 | prediction_mean_pearson: 0.31477 | entropy_mean_pearson: 0.06339 |\n",
      "----------------------------------------------------------------------------------------------------------------------------------\n",
      "\n",
      "starting epoch 29\n"
     ]
    },
    {
     "data": {
      "application/vnd.jupyter.widget-view+json": {
       "model_id": "",
       "version_major": 2,
       "version_minor": 0
      },
      "text/plain": [
       "Validating: 0it [00:00, ?it/s]"
      ]
     },
     "metadata": {},
     "output_type": "display_data"
    },
    {
     "name": "stdout",
     "output_type": "stream",
     "text": [
      "\n",
      "----------------------------------------------------------------------------------------------------------------------------------\n",
      "| arithmetic_mean_loss: 0.31404 | harmonic_mean_loss: 1.09282 | prediction_mean_pearson: 0.31283 | entropy_mean_pearson: 0.05815 |\n",
      "----------------------------------------------------------------------------------------------------------------------------------\n",
      "\n",
      "starting epoch 30\n"
     ]
    },
    {
     "data": {
      "application/vnd.jupyter.widget-view+json": {
       "model_id": "",
       "version_major": 2,
       "version_minor": 0
      },
      "text/plain": [
       "Validating: 0it [00:00, ?it/s]"
      ]
     },
     "metadata": {},
     "output_type": "display_data"
    },
    {
     "name": "stdout",
     "output_type": "stream",
     "text": [
      "\n",
      "----------------------------------------------------------------------------------------------------------------------------------\n",
      "| arithmetic_mean_loss: 0.31426 | harmonic_mean_loss: 1.09520 | prediction_mean_pearson: 0.31175 | entropy_mean_pearson: 0.07089 |\n",
      "----------------------------------------------------------------------------------------------------------------------------------\n",
      "\n",
      "starting epoch 31\n"
     ]
    },
    {
     "data": {
      "application/vnd.jupyter.widget-view+json": {
       "model_id": "",
       "version_major": 2,
       "version_minor": 0
      },
      "text/plain": [
       "Validating: 0it [00:00, ?it/s]"
      ]
     },
     "metadata": {},
     "output_type": "display_data"
    },
    {
     "name": "stdout",
     "output_type": "stream",
     "text": [
      "\n",
      "----------------------------------------------------------------------------------------------------------------------------------\n",
      "| arithmetic_mean_loss: 0.31548 | harmonic_mean_loss: 1.09906 | prediction_mean_pearson: 0.31398 | entropy_mean_pearson: 0.07365 |\n",
      "----------------------------------------------------------------------------------------------------------------------------------\n",
      "\n",
      "starting epoch 32\n"
     ]
    },
    {
     "data": {
      "application/vnd.jupyter.widget-view+json": {
       "model_id": "",
       "version_major": 2,
       "version_minor": 0
      },
      "text/plain": [
       "Validating: 0it [00:00, ?it/s]"
      ]
     },
     "metadata": {},
     "output_type": "display_data"
    },
    {
     "name": "stdout",
     "output_type": "stream",
     "text": [
      "\n",
      "----------------------------------------------------------------------------------------------------------------------------------\n",
      "| arithmetic_mean_loss: 0.31439 | harmonic_mean_loss: 1.09537 | prediction_mean_pearson: 0.31246 | entropy_mean_pearson: 0.07154 |\n",
      "----------------------------------------------------------------------------------------------------------------------------------\n",
      "\n",
      "starting epoch 33\n"
     ]
    },
    {
     "data": {
      "application/vnd.jupyter.widget-view+json": {
       "model_id": "",
       "version_major": 2,
       "version_minor": 0
      },
      "text/plain": [
       "Validating: 0it [00:00, ?it/s]"
      ]
     },
     "metadata": {},
     "output_type": "display_data"
    },
    {
     "name": "stdout",
     "output_type": "stream",
     "text": [
      "\n",
      "----------------------------------------------------------------------------------------------------------------------------------\n",
      "| arithmetic_mean_loss: 0.31439 | harmonic_mean_loss: 1.09583 | prediction_mean_pearson: 0.30980 | entropy_mean_pearson: 0.07750 |\n",
      "----------------------------------------------------------------------------------------------------------------------------------\n",
      "\n",
      "starting epoch 34\n"
     ]
    },
    {
     "data": {
      "application/vnd.jupyter.widget-view+json": {
       "model_id": "",
       "version_major": 2,
       "version_minor": 0
      },
      "text/plain": [
       "Validating: 0it [00:00, ?it/s]"
      ]
     },
     "metadata": {},
     "output_type": "display_data"
    },
    {
     "name": "stdout",
     "output_type": "stream",
     "text": [
      "\n",
      "----------------------------------------------------------------------------------------------------------------------------------\n",
      "| arithmetic_mean_loss: 0.31432 | harmonic_mean_loss: 1.09669 | prediction_mean_pearson: 0.31387 | entropy_mean_pearson: 0.07641 |\n",
      "----------------------------------------------------------------------------------------------------------------------------------\n",
      "\n",
      "starting epoch 35\n"
     ]
    },
    {
     "data": {
      "application/vnd.jupyter.widget-view+json": {
       "model_id": "",
       "version_major": 2,
       "version_minor": 0
      },
      "text/plain": [
       "Validating: 0it [00:00, ?it/s]"
      ]
     },
     "metadata": {},
     "output_type": "display_data"
    },
    {
     "name": "stdout",
     "output_type": "stream",
     "text": [
      "\n",
      "----------------------------------------------------------------------------------------------------------------------------------\n",
      "| arithmetic_mean_loss: 0.31781 | harmonic_mean_loss: 1.10338 | prediction_mean_pearson: 0.31230 | entropy_mean_pearson: 0.05751 |\n",
      "----------------------------------------------------------------------------------------------------------------------------------\n",
      "\n",
      "starting epoch 36\n"
     ]
    },
    {
     "data": {
      "application/vnd.jupyter.widget-view+json": {
       "model_id": "",
       "version_major": 2,
       "version_minor": 0
      },
      "text/plain": [
       "Validating: 0it [00:00, ?it/s]"
      ]
     },
     "metadata": {},
     "output_type": "display_data"
    },
    {
     "name": "stdout",
     "output_type": "stream",
     "text": [
      "\n",
      "----------------------------------------------------------------------------------------------------------------------------------\n",
      "| arithmetic_mean_loss: 0.31376 | harmonic_mean_loss: 1.09303 | prediction_mean_pearson: 0.31555 | entropy_mean_pearson: 0.06504 |\n",
      "----------------------------------------------------------------------------------------------------------------------------------\n",
      "\n",
      "starting epoch 37\n"
     ]
    },
    {
     "data": {
      "application/vnd.jupyter.widget-view+json": {
       "model_id": "",
       "version_major": 2,
       "version_minor": 0
      },
      "text/plain": [
       "Validating: 0it [00:00, ?it/s]"
      ]
     },
     "metadata": {},
     "output_type": "display_data"
    },
    {
     "name": "stdout",
     "output_type": "stream",
     "text": [
      "\n",
      "----------------------------------------------------------------------------------------------------------------------------------\n",
      "| arithmetic_mean_loss: 0.32219 | harmonic_mean_loss: 1.12652 | prediction_mean_pearson: 0.30414 | entropy_mean_pearson: 0.08075 |\n",
      "----------------------------------------------------------------------------------------------------------------------------------\n",
      "\n",
      "starting epoch 38\n"
     ]
    },
    {
     "data": {
      "application/vnd.jupyter.widget-view+json": {
       "model_id": "",
       "version_major": 2,
       "version_minor": 0
      },
      "text/plain": [
       "Validating: 0it [00:00, ?it/s]"
      ]
     },
     "metadata": {},
     "output_type": "display_data"
    },
    {
     "name": "stdout",
     "output_type": "stream",
     "text": [
      "\n",
      "----------------------------------------------------------------------------------------------------------------------------------\n",
      "| arithmetic_mean_loss: 0.31339 | harmonic_mean_loss: 1.09111 | prediction_mean_pearson: 0.31565 | entropy_mean_pearson: 0.08076 |\n",
      "----------------------------------------------------------------------------------------------------------------------------------\n",
      "\n",
      "starting epoch 39\n"
     ]
    },
    {
     "data": {
      "application/vnd.jupyter.widget-view+json": {
       "model_id": "",
       "version_major": 2,
       "version_minor": 0
      },
      "text/plain": [
       "Validating: 0it [00:00, ?it/s]"
      ]
     },
     "metadata": {},
     "output_type": "display_data"
    },
    {
     "name": "stdout",
     "output_type": "stream",
     "text": [
      "\n",
      "----------------------------------------------------------------------------------------------------------------------------------\n",
      "| arithmetic_mean_loss: 0.31328 | harmonic_mean_loss: 1.09160 | prediction_mean_pearson: 0.31457 | entropy_mean_pearson: 0.07622 |\n",
      "----------------------------------------------------------------------------------------------------------------------------------\n",
      "\n",
      "starting epoch 40\n"
     ]
    },
    {
     "data": {
      "application/vnd.jupyter.widget-view+json": {
       "model_id": "",
       "version_major": 2,
       "version_minor": 0
      },
      "text/plain": [
       "Validating: 0it [00:00, ?it/s]"
      ]
     },
     "metadata": {},
     "output_type": "display_data"
    },
    {
     "name": "stdout",
     "output_type": "stream",
     "text": [
      "\n",
      "----------------------------------------------------------------------------------------------------------------------------------\n",
      "| arithmetic_mean_loss: 0.31439 | harmonic_mean_loss: 1.09304 | prediction_mean_pearson: 0.31516 | entropy_mean_pearson: 0.07001 |\n",
      "----------------------------------------------------------------------------------------------------------------------------------\n",
      "\n",
      "starting epoch 41\n"
     ]
    },
    {
     "data": {
      "application/vnd.jupyter.widget-view+json": {
       "model_id": "",
       "version_major": 2,
       "version_minor": 0
      },
      "text/plain": [
       "Validating: 0it [00:00, ?it/s]"
      ]
     },
     "metadata": {},
     "output_type": "display_data"
    },
    {
     "name": "stdout",
     "output_type": "stream",
     "text": [
      "\n",
      "----------------------------------------------------------------------------------------------------------------------------------\n",
      "| arithmetic_mean_loss: 0.31506 | harmonic_mean_loss: 1.09680 | prediction_mean_pearson: 0.31220 | entropy_mean_pearson: 0.08227 |\n",
      "----------------------------------------------------------------------------------------------------------------------------------\n",
      "\n",
      "starting epoch 42\n"
     ]
    },
    {
     "data": {
      "application/vnd.jupyter.widget-view+json": {
       "model_id": "",
       "version_major": 2,
       "version_minor": 0
      },
      "text/plain": [
       "Validating: 0it [00:00, ?it/s]"
      ]
     },
     "metadata": {},
     "output_type": "display_data"
    },
    {
     "name": "stdout",
     "output_type": "stream",
     "text": [
      "\n",
      "----------------------------------------------------------------------------------------------------------------------------------\n",
      "| arithmetic_mean_loss: 0.31497 | harmonic_mean_loss: 1.09825 | prediction_mean_pearson: 0.31487 | entropy_mean_pearson: 0.07580 |\n",
      "----------------------------------------------------------------------------------------------------------------------------------\n",
      "\n",
      "starting epoch 43\n"
     ]
    },
    {
     "data": {
      "application/vnd.jupyter.widget-view+json": {
       "model_id": "",
       "version_major": 2,
       "version_minor": 0
      },
      "text/plain": [
       "Validating: 0it [00:00, ?it/s]"
      ]
     },
     "metadata": {},
     "output_type": "display_data"
    },
    {
     "name": "stdout",
     "output_type": "stream",
     "text": [
      "\n",
      "----------------------------------------------------------------------------------------------------------------------------------\n",
      "| arithmetic_mean_loss: 0.31600 | harmonic_mean_loss: 1.10096 | prediction_mean_pearson: 0.31218 | entropy_mean_pearson: 0.07708 |\n",
      "----------------------------------------------------------------------------------------------------------------------------------\n",
      "\n",
      "starting epoch 44\n"
     ]
    },
    {
     "data": {
      "application/vnd.jupyter.widget-view+json": {
       "model_id": "",
       "version_major": 2,
       "version_minor": 0
      },
      "text/plain": [
       "Validating: 0it [00:00, ?it/s]"
      ]
     },
     "metadata": {},
     "output_type": "display_data"
    },
    {
     "name": "stdout",
     "output_type": "stream",
     "text": [
      "\n",
      "----------------------------------------------------------------------------------------------------------------------------------\n",
      "| arithmetic_mean_loss: 0.31443 | harmonic_mean_loss: 1.09494 | prediction_mean_pearson: 0.31752 | entropy_mean_pearson: 0.07450 |\n",
      "----------------------------------------------------------------------------------------------------------------------------------\n",
      "\n",
      "starting epoch 45\n"
     ]
    },
    {
     "data": {
      "application/vnd.jupyter.widget-view+json": {
       "model_id": "",
       "version_major": 2,
       "version_minor": 0
      },
      "text/plain": [
       "Validating: 0it [00:00, ?it/s]"
      ]
     },
     "metadata": {},
     "output_type": "display_data"
    },
    {
     "name": "stdout",
     "output_type": "stream",
     "text": [
      "\n",
      "----------------------------------------------------------------------------------------------------------------------------------\n",
      "| arithmetic_mean_loss: 0.31301 | harmonic_mean_loss: 1.08939 | prediction_mean_pearson: 0.31723 | entropy_mean_pearson: 0.07804 |\n",
      "----------------------------------------------------------------------------------------------------------------------------------\n",
      "\n",
      "starting epoch 46\n"
     ]
    },
    {
     "data": {
      "application/vnd.jupyter.widget-view+json": {
       "model_id": "",
       "version_major": 2,
       "version_minor": 0
      },
      "text/plain": [
       "Validating: 0it [00:00, ?it/s]"
      ]
     },
     "metadata": {},
     "output_type": "display_data"
    },
    {
     "name": "stdout",
     "output_type": "stream",
     "text": [
      "\n",
      "----------------------------------------------------------------------------------------------------------------------------------\n",
      "| arithmetic_mean_loss: 0.31496 | harmonic_mean_loss: 1.09690 | prediction_mean_pearson: 0.31151 | entropy_mean_pearson: 0.08038 |\n",
      "----------------------------------------------------------------------------------------------------------------------------------\n",
      "\n",
      "starting epoch 47\n"
     ]
    },
    {
     "data": {
      "application/vnd.jupyter.widget-view+json": {
       "model_id": "",
       "version_major": 2,
       "version_minor": 0
      },
      "text/plain": [
       "Validating: 0it [00:00, ?it/s]"
      ]
     },
     "metadata": {},
     "output_type": "display_data"
    },
    {
     "name": "stdout",
     "output_type": "stream",
     "text": [
      "\n",
      "----------------------------------------------------------------------------------------------------------------------------------\n",
      "| arithmetic_mean_loss: 0.31350 | harmonic_mean_loss: 1.09105 | prediction_mean_pearson: 0.31656 | entropy_mean_pearson: 0.08008 |\n",
      "----------------------------------------------------------------------------------------------------------------------------------\n",
      "\n",
      "starting epoch 48\n"
     ]
    },
    {
     "data": {
      "application/vnd.jupyter.widget-view+json": {
       "model_id": "",
       "version_major": 2,
       "version_minor": 0
      },
      "text/plain": [
       "Validating: 0it [00:00, ?it/s]"
      ]
     },
     "metadata": {},
     "output_type": "display_data"
    },
    {
     "name": "stdout",
     "output_type": "stream",
     "text": [
      "\n",
      "----------------------------------------------------------------------------------------------------------------------------------\n",
      "| arithmetic_mean_loss: 0.31334 | harmonic_mean_loss: 1.09046 | prediction_mean_pearson: 0.31653 | entropy_mean_pearson: 0.07650 |\n",
      "----------------------------------------------------------------------------------------------------------------------------------\n",
      "\n",
      "starting epoch 49\n"
     ]
    },
    {
     "data": {
      "application/vnd.jupyter.widget-view+json": {
       "model_id": "",
       "version_major": 2,
       "version_minor": 0
      },
      "text/plain": [
       "Validating: 0it [00:00, ?it/s]"
      ]
     },
     "metadata": {},
     "output_type": "display_data"
    },
    {
     "name": "stdout",
     "output_type": "stream",
     "text": [
      "\n",
      "----------------------------------------------------------------------------------------------------------------------------------\n",
      "| arithmetic_mean_loss: 0.31709 | harmonic_mean_loss: 1.10459 | prediction_mean_pearson: 0.31471 | entropy_mean_pearson: 0.08238 |\n",
      "----------------------------------------------------------------------------------------------------------------------------------\n",
      "\n",
      "starting epoch 50\n"
     ]
    },
    {
     "data": {
      "application/vnd.jupyter.widget-view+json": {
       "model_id": "",
       "version_major": 2,
       "version_minor": 0
      },
      "text/plain": [
       "Validating: 0it [00:00, ?it/s]"
      ]
     },
     "metadata": {},
     "output_type": "display_data"
    },
    {
     "name": "stdout",
     "output_type": "stream",
     "text": [
      "\n",
      "----------------------------------------------------------------------------------------------------------------------------------\n",
      "| arithmetic_mean_loss: 0.31394 | harmonic_mean_loss: 1.09273 | prediction_mean_pearson: 0.31565 | entropy_mean_pearson: 0.08206 |\n",
      "----------------------------------------------------------------------------------------------------------------------------------\n",
      "\n",
      "starting epoch 51\n"
     ]
    },
    {
     "data": {
      "application/vnd.jupyter.widget-view+json": {
       "model_id": "",
       "version_major": 2,
       "version_minor": 0
      },
      "text/plain": [
       "Validating: 0it [00:00, ?it/s]"
      ]
     },
     "metadata": {},
     "output_type": "display_data"
    },
    {
     "name": "stdout",
     "output_type": "stream",
     "text": [
      "\n",
      "----------------------------------------------------------------------------------------------------------------------------------\n",
      "| arithmetic_mean_loss: 0.31276 | harmonic_mean_loss: 1.08897 | prediction_mean_pearson: 0.31843 | entropy_mean_pearson: 0.08470 |\n",
      "----------------------------------------------------------------------------------------------------------------------------------\n",
      "\n",
      "starting epoch 52\n"
     ]
    },
    {
     "data": {
      "application/vnd.jupyter.widget-view+json": {
       "model_id": "",
       "version_major": 2,
       "version_minor": 0
      },
      "text/plain": [
       "Validating: 0it [00:00, ?it/s]"
      ]
     },
     "metadata": {},
     "output_type": "display_data"
    },
    {
     "name": "stdout",
     "output_type": "stream",
     "text": [
      "\n",
      "----------------------------------------------------------------------------------------------------------------------------------\n",
      "| arithmetic_mean_loss: 0.31699 | harmonic_mean_loss: 1.10266 | prediction_mean_pearson: 0.31604 | entropy_mean_pearson: 0.08070 |\n",
      "----------------------------------------------------------------------------------------------------------------------------------\n",
      "\n",
      "starting epoch 53\n"
     ]
    },
    {
     "data": {
      "application/vnd.jupyter.widget-view+json": {
       "model_id": "",
       "version_major": 2,
       "version_minor": 0
      },
      "text/plain": [
       "Validating: 0it [00:00, ?it/s]"
      ]
     },
     "metadata": {},
     "output_type": "display_data"
    },
    {
     "name": "stdout",
     "output_type": "stream",
     "text": [
      "\n",
      "----------------------------------------------------------------------------------------------------------------------------------\n",
      "| arithmetic_mean_loss: 0.31435 | harmonic_mean_loss: 1.09431 | prediction_mean_pearson: 0.31380 | entropy_mean_pearson: 0.08482 |\n",
      "----------------------------------------------------------------------------------------------------------------------------------\n",
      "\n",
      "starting epoch 54\n"
     ]
    },
    {
     "data": {
      "application/vnd.jupyter.widget-view+json": {
       "model_id": "",
       "version_major": 2,
       "version_minor": 0
      },
      "text/plain": [
       "Validating: 0it [00:00, ?it/s]"
      ]
     },
     "metadata": {},
     "output_type": "display_data"
    },
    {
     "name": "stdout",
     "output_type": "stream",
     "text": [
      "\n",
      "----------------------------------------------------------------------------------------------------------------------------------\n",
      "| arithmetic_mean_loss: 0.31531 | harmonic_mean_loss: 1.09922 | prediction_mean_pearson: 0.31558 | entropy_mean_pearson: 0.08232 |\n",
      "----------------------------------------------------------------------------------------------------------------------------------\n",
      "\n",
      "starting epoch 55\n"
     ]
    },
    {
     "data": {
      "application/vnd.jupyter.widget-view+json": {
       "model_id": "",
       "version_major": 2,
       "version_minor": 0
      },
      "text/plain": [
       "Validating: 0it [00:00, ?it/s]"
      ]
     },
     "metadata": {},
     "output_type": "display_data"
    },
    {
     "name": "stdout",
     "output_type": "stream",
     "text": [
      "\n",
      "----------------------------------------------------------------------------------------------------------------------------------\n",
      "| arithmetic_mean_loss: 0.31409 | harmonic_mean_loss: 1.09319 | prediction_mean_pearson: 0.31175 | entropy_mean_pearson: 0.08247 |\n",
      "----------------------------------------------------------------------------------------------------------------------------------\n",
      "\n",
      "starting epoch 56\n"
     ]
    },
    {
     "data": {
      "application/vnd.jupyter.widget-view+json": {
       "model_id": "",
       "version_major": 2,
       "version_minor": 0
      },
      "text/plain": [
       "Validating: 0it [00:00, ?it/s]"
      ]
     },
     "metadata": {},
     "output_type": "display_data"
    },
    {
     "name": "stdout",
     "output_type": "stream",
     "text": [
      "\n",
      "----------------------------------------------------------------------------------------------------------------------------------\n",
      "| arithmetic_mean_loss: 0.31776 | harmonic_mean_loss: 1.10543 | prediction_mean_pearson: 0.31166 | entropy_mean_pearson: 0.07916 |\n",
      "----------------------------------------------------------------------------------------------------------------------------------\n",
      "\n",
      "starting epoch 57\n"
     ]
    },
    {
     "data": {
      "application/vnd.jupyter.widget-view+json": {
       "model_id": "",
       "version_major": 2,
       "version_minor": 0
      },
      "text/plain": [
       "Validating: 0it [00:00, ?it/s]"
      ]
     },
     "metadata": {},
     "output_type": "display_data"
    },
    {
     "name": "stdout",
     "output_type": "stream",
     "text": [
      "\n",
      "----------------------------------------------------------------------------------------------------------------------------------\n",
      "| arithmetic_mean_loss: 0.31703 | harmonic_mean_loss: 1.10143 | prediction_mean_pearson: 0.31030 | entropy_mean_pearson: 0.07857 |\n",
      "----------------------------------------------------------------------------------------------------------------------------------\n",
      "\n",
      "starting epoch 58\n"
     ]
    },
    {
     "data": {
      "application/vnd.jupyter.widget-view+json": {
       "model_id": "",
       "version_major": 2,
       "version_minor": 0
      },
      "text/plain": [
       "Validating: 0it [00:00, ?it/s]"
      ]
     },
     "metadata": {},
     "output_type": "display_data"
    },
    {
     "name": "stdout",
     "output_type": "stream",
     "text": [
      "\n",
      "----------------------------------------------------------------------------------------------------------------------------------\n",
      "| arithmetic_mean_loss: 0.31423 | harmonic_mean_loss: 1.09376 | prediction_mean_pearson: 0.31246 | entropy_mean_pearson: 0.07434 |\n",
      "----------------------------------------------------------------------------------------------------------------------------------\n",
      "\n",
      "starting epoch 59\n"
     ]
    },
    {
     "data": {
      "application/vnd.jupyter.widget-view+json": {
       "model_id": "",
       "version_major": 2,
       "version_minor": 0
      },
      "text/plain": [
       "Validating: 0it [00:00, ?it/s]"
      ]
     },
     "metadata": {},
     "output_type": "display_data"
    },
    {
     "name": "stdout",
     "output_type": "stream",
     "text": [
      "\n",
      "----------------------------------------------------------------------------------------------------------------------------------\n",
      "| arithmetic_mean_loss: 0.31396 | harmonic_mean_loss: 1.09427 | prediction_mean_pearson: 0.31379 | entropy_mean_pearson: 0.08373 |\n",
      "----------------------------------------------------------------------------------------------------------------------------------\n",
      "\n",
      "starting epoch 60\n"
     ]
    },
    {
     "data": {
      "application/vnd.jupyter.widget-view+json": {
       "model_id": "",
       "version_major": 2,
       "version_minor": 0
      },
      "text/plain": [
       "Validating: 0it [00:00, ?it/s]"
      ]
     },
     "metadata": {},
     "output_type": "display_data"
    },
    {
     "name": "stdout",
     "output_type": "stream",
     "text": [
      "\n",
      "----------------------------------------------------------------------------------------------------------------------------------\n",
      "| arithmetic_mean_loss: 0.31402 | harmonic_mean_loss: 1.09272 | prediction_mean_pearson: 0.31349 | entropy_mean_pearson: 0.06769 |\n",
      "----------------------------------------------------------------------------------------------------------------------------------\n",
      "\n",
      "starting epoch 61\n"
     ]
    },
    {
     "data": {
      "application/vnd.jupyter.widget-view+json": {
       "model_id": "",
       "version_major": 2,
       "version_minor": 0
      },
      "text/plain": [
       "Validating: 0it [00:00, ?it/s]"
      ]
     },
     "metadata": {},
     "output_type": "display_data"
    },
    {
     "name": "stdout",
     "output_type": "stream",
     "text": [
      "\n",
      "----------------------------------------------------------------------------------------------------------------------------------\n",
      "| arithmetic_mean_loss: 0.31549 | harmonic_mean_loss: 1.09860 | prediction_mean_pearson: 0.31040 | entropy_mean_pearson: 0.07601 |\n",
      "----------------------------------------------------------------------------------------------------------------------------------\n",
      "\n",
      "starting epoch 62\n"
     ]
    },
    {
     "data": {
      "application/vnd.jupyter.widget-view+json": {
       "model_id": "",
       "version_major": 2,
       "version_minor": 0
      },
      "text/plain": [
       "Validating: 0it [00:00, ?it/s]"
      ]
     },
     "metadata": {},
     "output_type": "display_data"
    },
    {
     "name": "stdout",
     "output_type": "stream",
     "text": [
      "\n",
      "----------------------------------------------------------------------------------------------------------------------------------\n",
      "| arithmetic_mean_loss: 0.31529 | harmonic_mean_loss: 1.09826 | prediction_mean_pearson: 0.30639 | entropy_mean_pearson: 0.08205 |\n",
      "----------------------------------------------------------------------------------------------------------------------------------\n",
      "\n",
      "starting epoch 63\n"
     ]
    },
    {
     "data": {
      "application/vnd.jupyter.widget-view+json": {
       "model_id": "",
       "version_major": 2,
       "version_minor": 0
      },
      "text/plain": [
       "Validating: 0it [00:00, ?it/s]"
      ]
     },
     "metadata": {},
     "output_type": "display_data"
    },
    {
     "name": "stdout",
     "output_type": "stream",
     "text": [
      "\n",
      "----------------------------------------------------------------------------------------------------------------------------------\n",
      "| arithmetic_mean_loss: 0.32099 | harmonic_mean_loss: 1.12059 | prediction_mean_pearson: 0.29975 | entropy_mean_pearson: 0.06932 |\n",
      "----------------------------------------------------------------------------------------------------------------------------------\n",
      "\n",
      "starting epoch 64\n"
     ]
    },
    {
     "data": {
      "application/vnd.jupyter.widget-view+json": {
       "model_id": "",
       "version_major": 2,
       "version_minor": 0
      },
      "text/plain": [
       "Validating: 0it [00:00, ?it/s]"
      ]
     },
     "metadata": {},
     "output_type": "display_data"
    },
    {
     "name": "stdout",
     "output_type": "stream",
     "text": [
      "\n",
      "----------------------------------------------------------------------------------------------------------------------------------\n",
      "| arithmetic_mean_loss: 0.31484 | harmonic_mean_loss: 1.09630 | prediction_mean_pearson: 0.31560 | entropy_mean_pearson: 0.07511 |\n",
      "----------------------------------------------------------------------------------------------------------------------------------\n",
      "\n",
      "starting epoch 65\n"
     ]
    },
    {
     "data": {
      "application/vnd.jupyter.widget-view+json": {
       "model_id": "",
       "version_major": 2,
       "version_minor": 0
      },
      "text/plain": [
       "Validating: 0it [00:00, ?it/s]"
      ]
     },
     "metadata": {},
     "output_type": "display_data"
    },
    {
     "name": "stdout",
     "output_type": "stream",
     "text": [
      "\n",
      "----------------------------------------------------------------------------------------------------------------------------------\n",
      "| arithmetic_mean_loss: 0.31423 | harmonic_mean_loss: 1.09447 | prediction_mean_pearson: 0.31562 | entropy_mean_pearson: 0.07530 |\n",
      "----------------------------------------------------------------------------------------------------------------------------------\n",
      "\n",
      "starting epoch 66\n"
     ]
    },
    {
     "data": {
      "application/vnd.jupyter.widget-view+json": {
       "model_id": "",
       "version_major": 2,
       "version_minor": 0
      },
      "text/plain": [
       "Validating: 0it [00:00, ?it/s]"
      ]
     },
     "metadata": {},
     "output_type": "display_data"
    },
    {
     "name": "stdout",
     "output_type": "stream",
     "text": [
      "\n",
      "----------------------------------------------------------------------------------------------------------------------------------\n",
      "| arithmetic_mean_loss: 0.32296 | harmonic_mean_loss: 1.12308 | prediction_mean_pearson: 0.30629 | entropy_mean_pearson: 0.06686 |\n",
      "----------------------------------------------------------------------------------------------------------------------------------\n",
      "\n",
      "starting epoch 67\n"
     ]
    },
    {
     "data": {
      "application/vnd.jupyter.widget-view+json": {
       "model_id": "",
       "version_major": 2,
       "version_minor": 0
      },
      "text/plain": [
       "Validating: 0it [00:00, ?it/s]"
      ]
     },
     "metadata": {},
     "output_type": "display_data"
    },
    {
     "name": "stdout",
     "output_type": "stream",
     "text": [
      "\n",
      "----------------------------------------------------------------------------------------------------------------------------------\n",
      "| arithmetic_mean_loss: 0.31498 | harmonic_mean_loss: 1.09592 | prediction_mean_pearson: 0.31330 | entropy_mean_pearson: 0.07026 |\n",
      "----------------------------------------------------------------------------------------------------------------------------------\n",
      "\n",
      "starting epoch 68\n"
     ]
    },
    {
     "data": {
      "application/vnd.jupyter.widget-view+json": {
       "model_id": "",
       "version_major": 2,
       "version_minor": 0
      },
      "text/plain": [
       "Validating: 0it [00:00, ?it/s]"
      ]
     },
     "metadata": {},
     "output_type": "display_data"
    },
    {
     "name": "stdout",
     "output_type": "stream",
     "text": [
      "\n",
      "----------------------------------------------------------------------------------------------------------------------------------\n",
      "| arithmetic_mean_loss: 0.31344 | harmonic_mean_loss: 1.09113 | prediction_mean_pearson: 0.31806 | entropy_mean_pearson: 0.06988 |\n",
      "----------------------------------------------------------------------------------------------------------------------------------\n",
      "\n",
      "starting epoch 69\n"
     ]
    },
    {
     "data": {
      "application/vnd.jupyter.widget-view+json": {
       "model_id": "",
       "version_major": 2,
       "version_minor": 0
      },
      "text/plain": [
       "Validating: 0it [00:00, ?it/s]"
      ]
     },
     "metadata": {},
     "output_type": "display_data"
    },
    {
     "name": "stdout",
     "output_type": "stream",
     "text": [
      "\n",
      "----------------------------------------------------------------------------------------------------------------------------------\n",
      "| arithmetic_mean_loss: 0.31430 | harmonic_mean_loss: 1.09316 | prediction_mean_pearson: 0.31104 | entropy_mean_pearson: 0.07244 |\n",
      "----------------------------------------------------------------------------------------------------------------------------------\n",
      "\n",
      "starting epoch 70\n"
     ]
    },
    {
     "data": {
      "application/vnd.jupyter.widget-view+json": {
       "model_id": "",
       "version_major": 2,
       "version_minor": 0
      },
      "text/plain": [
       "Validating: 0it [00:00, ?it/s]"
      ]
     },
     "metadata": {},
     "output_type": "display_data"
    },
    {
     "name": "stdout",
     "output_type": "stream",
     "text": [
      "\n",
      "----------------------------------------------------------------------------------------------------------------------------------\n",
      "| arithmetic_mean_loss: 0.31334 | harmonic_mean_loss: 1.08975 | prediction_mean_pearson: 0.31669 | entropy_mean_pearson: 0.07052 |\n",
      "----------------------------------------------------------------------------------------------------------------------------------\n",
      "\n",
      "starting epoch 71\n"
     ]
    },
    {
     "data": {
      "application/vnd.jupyter.widget-view+json": {
       "model_id": "",
       "version_major": 2,
       "version_minor": 0
      },
      "text/plain": [
       "Validating: 0it [00:00, ?it/s]"
      ]
     },
     "metadata": {},
     "output_type": "display_data"
    },
    {
     "name": "stdout",
     "output_type": "stream",
     "text": [
      "\n",
      "----------------------------------------------------------------------------------------------------------------------------------\n",
      "| arithmetic_mean_loss: 0.31461 | harmonic_mean_loss: 1.09605 | prediction_mean_pearson: 0.31264 | entropy_mean_pearson: 0.07209 |\n",
      "----------------------------------------------------------------------------------------------------------------------------------\n",
      "\n",
      "starting epoch 72\n"
     ]
    },
    {
     "data": {
      "application/vnd.jupyter.widget-view+json": {
       "model_id": "",
       "version_major": 2,
       "version_minor": 0
      },
      "text/plain": [
       "Validating: 0it [00:00, ?it/s]"
      ]
     },
     "metadata": {},
     "output_type": "display_data"
    },
    {
     "name": "stdout",
     "output_type": "stream",
     "text": [
      "\n",
      "----------------------------------------------------------------------------------------------------------------------------------\n",
      "| arithmetic_mean_loss: 0.31352 | harmonic_mean_loss: 1.09144 | prediction_mean_pearson: 0.31583 | entropy_mean_pearson: 0.07639 |\n",
      "----------------------------------------------------------------------------------------------------------------------------------\n",
      "\n",
      "starting epoch 73\n"
     ]
    },
    {
     "data": {
      "application/vnd.jupyter.widget-view+json": {
       "model_id": "",
       "version_major": 2,
       "version_minor": 0
      },
      "text/plain": [
       "Validating: 0it [00:00, ?it/s]"
      ]
     },
     "metadata": {},
     "output_type": "display_data"
    },
    {
     "name": "stdout",
     "output_type": "stream",
     "text": [
      "\n",
      "----------------------------------------------------------------------------------------------------------------------------------\n",
      "| arithmetic_mean_loss: 0.31621 | harmonic_mean_loss: 1.09992 | prediction_mean_pearson: 0.30822 | entropy_mean_pearson: 0.07028 |\n",
      "----------------------------------------------------------------------------------------------------------------------------------\n",
      "\n",
      "starting epoch 74\n"
     ]
    },
    {
     "data": {
      "application/vnd.jupyter.widget-view+json": {
       "model_id": "",
       "version_major": 2,
       "version_minor": 0
      },
      "text/plain": [
       "Validating: 0it [00:00, ?it/s]"
      ]
     },
     "metadata": {},
     "output_type": "display_data"
    },
    {
     "name": "stdout",
     "output_type": "stream",
     "text": [
      "\n",
      "----------------------------------------------------------------------------------------------------------------------------------\n",
      "| arithmetic_mean_loss: 0.31558 | harmonic_mean_loss: 1.09965 | prediction_mean_pearson: 0.30926 | entropy_mean_pearson: 0.07370 |\n",
      "----------------------------------------------------------------------------------------------------------------------------------\n",
      "\n",
      "starting epoch 75\n"
     ]
    },
    {
     "data": {
      "application/vnd.jupyter.widget-view+json": {
       "model_id": "",
       "version_major": 2,
       "version_minor": 0
      },
      "text/plain": [
       "Validating: 0it [00:00, ?it/s]"
      ]
     },
     "metadata": {},
     "output_type": "display_data"
    },
    {
     "name": "stdout",
     "output_type": "stream",
     "text": [
      "\n",
      "----------------------------------------------------------------------------------------------------------------------------------\n",
      "| arithmetic_mean_loss: 0.31923 | harmonic_mean_loss: 1.11367 | prediction_mean_pearson: 0.30925 | entropy_mean_pearson: 0.07476 |\n",
      "----------------------------------------------------------------------------------------------------------------------------------\n",
      "\n",
      "starting epoch 76\n"
     ]
    },
    {
     "data": {
      "application/vnd.jupyter.widget-view+json": {
       "model_id": "",
       "version_major": 2,
       "version_minor": 0
      },
      "text/plain": [
       "Validating: 0it [00:00, ?it/s]"
      ]
     },
     "metadata": {},
     "output_type": "display_data"
    },
    {
     "name": "stdout",
     "output_type": "stream",
     "text": [
      "\n",
      "----------------------------------------------------------------------------------------------------------------------------------\n",
      "| arithmetic_mean_loss: 0.31479 | harmonic_mean_loss: 1.09525 | prediction_mean_pearson: 0.31145 | entropy_mean_pearson: 0.07488 |\n",
      "----------------------------------------------------------------------------------------------------------------------------------\n",
      "\n",
      "starting epoch 77\n"
     ]
    },
    {
     "data": {
      "application/vnd.jupyter.widget-view+json": {
       "model_id": "",
       "version_major": 2,
       "version_minor": 0
      },
      "text/plain": [
       "Validating: 0it [00:00, ?it/s]"
      ]
     },
     "metadata": {},
     "output_type": "display_data"
    },
    {
     "name": "stdout",
     "output_type": "stream",
     "text": [
      "\n",
      "----------------------------------------------------------------------------------------------------------------------------------\n",
      "| arithmetic_mean_loss: 0.32056 | harmonic_mean_loss: 1.11657 | prediction_mean_pearson: 0.31012 | entropy_mean_pearson: 0.07946 |\n",
      "----------------------------------------------------------------------------------------------------------------------------------\n",
      "\n",
      "starting epoch 78\n"
     ]
    },
    {
     "data": {
      "application/vnd.jupyter.widget-view+json": {
       "model_id": "",
       "version_major": 2,
       "version_minor": 0
      },
      "text/plain": [
       "Validating: 0it [00:00, ?it/s]"
      ]
     },
     "metadata": {},
     "output_type": "display_data"
    },
    {
     "name": "stdout",
     "output_type": "stream",
     "text": [
      "\n",
      "----------------------------------------------------------------------------------------------------------------------------------\n",
      "| arithmetic_mean_loss: 0.31553 | harmonic_mean_loss: 1.09845 | prediction_mean_pearson: 0.31769 | entropy_mean_pearson: 0.07363 |\n",
      "----------------------------------------------------------------------------------------------------------------------------------\n",
      "\n",
      "starting epoch 79\n"
     ]
    },
    {
     "data": {
      "application/vnd.jupyter.widget-view+json": {
       "model_id": "",
       "version_major": 2,
       "version_minor": 0
      },
      "text/plain": [
       "Validating: 0it [00:00, ?it/s]"
      ]
     },
     "metadata": {},
     "output_type": "display_data"
    },
    {
     "name": "stdout",
     "output_type": "stream",
     "text": [
      "\n",
      "----------------------------------------------------------------------------------------------------------------------------------\n",
      "| arithmetic_mean_loss: 0.31880 | harmonic_mean_loss: 1.10884 | prediction_mean_pearson: 0.30776 | entropy_mean_pearson: 0.07209 |\n",
      "----------------------------------------------------------------------------------------------------------------------------------\n",
      "\n",
      "starting epoch 80\n"
     ]
    },
    {
     "data": {
      "application/vnd.jupyter.widget-view+json": {
       "model_id": "",
       "version_major": 2,
       "version_minor": 0
      },
      "text/plain": [
       "Validating: 0it [00:00, ?it/s]"
      ]
     },
     "metadata": {},
     "output_type": "display_data"
    },
    {
     "name": "stdout",
     "output_type": "stream",
     "text": [
      "\n",
      "----------------------------------------------------------------------------------------------------------------------------------\n",
      "| arithmetic_mean_loss: 0.31492 | harmonic_mean_loss: 1.09523 | prediction_mean_pearson: 0.31495 | entropy_mean_pearson: 0.07539 |\n",
      "----------------------------------------------------------------------------------------------------------------------------------\n",
      "\n",
      "starting epoch 81\n"
     ]
    },
    {
     "data": {
      "application/vnd.jupyter.widget-view+json": {
       "model_id": "",
       "version_major": 2,
       "version_minor": 0
      },
      "text/plain": [
       "Validating: 0it [00:00, ?it/s]"
      ]
     },
     "metadata": {},
     "output_type": "display_data"
    },
    {
     "name": "stdout",
     "output_type": "stream",
     "text": [
      "\n",
      "----------------------------------------------------------------------------------------------------------------------------------\n",
      "| arithmetic_mean_loss: 0.31371 | harmonic_mean_loss: 1.09175 | prediction_mean_pearson: 0.31407 | entropy_mean_pearson: 0.07437 |\n",
      "----------------------------------------------------------------------------------------------------------------------------------\n",
      "\n",
      "starting epoch 82\n"
     ]
    },
    {
     "data": {
      "application/vnd.jupyter.widget-view+json": {
       "model_id": "",
       "version_major": 2,
       "version_minor": 0
      },
      "text/plain": [
       "Validating: 0it [00:00, ?it/s]"
      ]
     },
     "metadata": {},
     "output_type": "display_data"
    },
    {
     "name": "stdout",
     "output_type": "stream",
     "text": [
      "\n",
      "----------------------------------------------------------------------------------------------------------------------------------\n",
      "| arithmetic_mean_loss: 0.31556 | harmonic_mean_loss: 1.09889 | prediction_mean_pearson: 0.31199 | entropy_mean_pearson: 0.07809 |\n",
      "----------------------------------------------------------------------------------------------------------------------------------\n",
      "\n",
      "starting epoch 83\n"
     ]
    },
    {
     "data": {
      "application/vnd.jupyter.widget-view+json": {
       "model_id": "",
       "version_major": 2,
       "version_minor": 0
      },
      "text/plain": [
       "Validating: 0it [00:00, ?it/s]"
      ]
     },
     "metadata": {},
     "output_type": "display_data"
    },
    {
     "name": "stdout",
     "output_type": "stream",
     "text": [
      "\n",
      "----------------------------------------------------------------------------------------------------------------------------------\n",
      "| arithmetic_mean_loss: 0.31592 | harmonic_mean_loss: 1.10017 | prediction_mean_pearson: 0.30998 | entropy_mean_pearson: 0.06801 |\n",
      "----------------------------------------------------------------------------------------------------------------------------------\n",
      "\n",
      "starting epoch 84\n"
     ]
    },
    {
     "data": {
      "application/vnd.jupyter.widget-view+json": {
       "model_id": "",
       "version_major": 2,
       "version_minor": 0
      },
      "text/plain": [
       "Validating: 0it [00:00, ?it/s]"
      ]
     },
     "metadata": {},
     "output_type": "display_data"
    },
    {
     "name": "stdout",
     "output_type": "stream",
     "text": [
      "\n",
      "----------------------------------------------------------------------------------------------------------------------------------\n",
      "| arithmetic_mean_loss: 0.31367 | harmonic_mean_loss: 1.09106 | prediction_mean_pearson: 0.31433 | entropy_mean_pearson: 0.07139 |\n",
      "----------------------------------------------------------------------------------------------------------------------------------\n",
      "\n",
      "starting epoch 85\n"
     ]
    },
    {
     "data": {
      "application/vnd.jupyter.widget-view+json": {
       "model_id": "",
       "version_major": 2,
       "version_minor": 0
      },
      "text/plain": [
       "Validating: 0it [00:00, ?it/s]"
      ]
     },
     "metadata": {},
     "output_type": "display_data"
    },
    {
     "name": "stdout",
     "output_type": "stream",
     "text": [
      "\n",
      "----------------------------------------------------------------------------------------------------------------------------------\n",
      "| arithmetic_mean_loss: 0.31791 | harmonic_mean_loss: 1.10646 | prediction_mean_pearson: 0.31100 | entropy_mean_pearson: 0.07370 |\n",
      "----------------------------------------------------------------------------------------------------------------------------------\n",
      "\n",
      "starting epoch 86\n"
     ]
    },
    {
     "data": {
      "application/vnd.jupyter.widget-view+json": {
       "model_id": "",
       "version_major": 2,
       "version_minor": 0
      },
      "text/plain": [
       "Validating: 0it [00:00, ?it/s]"
      ]
     },
     "metadata": {},
     "output_type": "display_data"
    },
    {
     "name": "stdout",
     "output_type": "stream",
     "text": [
      "\n",
      "----------------------------------------------------------------------------------------------------------------------------------\n",
      "| arithmetic_mean_loss: 0.31289 | harmonic_mean_loss: 1.08894 | prediction_mean_pearson: 0.31664 | entropy_mean_pearson: 0.08157 |\n",
      "----------------------------------------------------------------------------------------------------------------------------------\n",
      "\n",
      "starting epoch 87\n"
     ]
    },
    {
     "data": {
      "application/vnd.jupyter.widget-view+json": {
       "model_id": "",
       "version_major": 2,
       "version_minor": 0
      },
      "text/plain": [
       "Validating: 0it [00:00, ?it/s]"
      ]
     },
     "metadata": {},
     "output_type": "display_data"
    },
    {
     "name": "stdout",
     "output_type": "stream",
     "text": [
      "\n",
      "----------------------------------------------------------------------------------------------------------------------------------\n",
      "| arithmetic_mean_loss: 0.31502 | harmonic_mean_loss: 1.09588 | prediction_mean_pearson: 0.30891 | entropy_mean_pearson: 0.07168 |\n",
      "----------------------------------------------------------------------------------------------------------------------------------\n",
      "\n",
      "starting epoch 88\n"
     ]
    },
    {
     "data": {
      "application/vnd.jupyter.widget-view+json": {
       "model_id": "",
       "version_major": 2,
       "version_minor": 0
      },
      "text/plain": [
       "Validating: 0it [00:00, ?it/s]"
      ]
     },
     "metadata": {},
     "output_type": "display_data"
    },
    {
     "name": "stdout",
     "output_type": "stream",
     "text": [
      "\n",
      "----------------------------------------------------------------------------------------------------------------------------------\n",
      "| arithmetic_mean_loss: 0.31464 | harmonic_mean_loss: 1.09465 | prediction_mean_pearson: 0.31099 | entropy_mean_pearson: 0.06729 |\n",
      "----------------------------------------------------------------------------------------------------------------------------------\n",
      "\n",
      "starting epoch 89\n"
     ]
    },
    {
     "data": {
      "application/vnd.jupyter.widget-view+json": {
       "model_id": "",
       "version_major": 2,
       "version_minor": 0
      },
      "text/plain": [
       "Validating: 0it [00:00, ?it/s]"
      ]
     },
     "metadata": {},
     "output_type": "display_data"
    },
    {
     "name": "stdout",
     "output_type": "stream",
     "text": [
      "\n",
      "----------------------------------------------------------------------------------------------------------------------------------\n",
      "| arithmetic_mean_loss: 0.31727 | harmonic_mean_loss: 1.10331 | prediction_mean_pearson: 0.30621 | entropy_mean_pearson: 0.07066 |\n",
      "----------------------------------------------------------------------------------------------------------------------------------\n",
      "\n",
      "starting epoch 90\n"
     ]
    },
    {
     "data": {
      "application/vnd.jupyter.widget-view+json": {
       "model_id": "",
       "version_major": 2,
       "version_minor": 0
      },
      "text/plain": [
       "Validating: 0it [00:00, ?it/s]"
      ]
     },
     "metadata": {},
     "output_type": "display_data"
    },
    {
     "name": "stdout",
     "output_type": "stream",
     "text": [
      "\n",
      "----------------------------------------------------------------------------------------------------------------------------------\n",
      "| arithmetic_mean_loss: 0.31409 | harmonic_mean_loss: 1.09260 | prediction_mean_pearson: 0.31135 | entropy_mean_pearson: 0.07346 |\n",
      "----------------------------------------------------------------------------------------------------------------------------------\n",
      "\n",
      "starting epoch 91\n"
     ]
    },
    {
     "data": {
      "application/vnd.jupyter.widget-view+json": {
       "model_id": "",
       "version_major": 2,
       "version_minor": 0
      },
      "text/plain": [
       "Validating: 0it [00:00, ?it/s]"
      ]
     },
     "metadata": {},
     "output_type": "display_data"
    },
    {
     "name": "stdout",
     "output_type": "stream",
     "text": [
      "\n",
      "----------------------------------------------------------------------------------------------------------------------------------\n",
      "| arithmetic_mean_loss: 0.31849 | harmonic_mean_loss: 1.10976 | prediction_mean_pearson: 0.30505 | entropy_mean_pearson: 0.07491 |\n",
      "----------------------------------------------------------------------------------------------------------------------------------\n",
      "\n",
      "starting epoch 92\n"
     ]
    },
    {
     "data": {
      "application/vnd.jupyter.widget-view+json": {
       "model_id": "",
       "version_major": 2,
       "version_minor": 0
      },
      "text/plain": [
       "Validating: 0it [00:00, ?it/s]"
      ]
     },
     "metadata": {},
     "output_type": "display_data"
    },
    {
     "name": "stdout",
     "output_type": "stream",
     "text": [
      "\n",
      "----------------------------------------------------------------------------------------------------------------------------------\n",
      "| arithmetic_mean_loss: 0.31495 | harmonic_mean_loss: 1.09531 | prediction_mean_pearson: 0.30639 | entropy_mean_pearson: 0.07916 |\n",
      "----------------------------------------------------------------------------------------------------------------------------------\n",
      "\n",
      "starting epoch 93\n"
     ]
    },
    {
     "data": {
      "application/vnd.jupyter.widget-view+json": {
       "model_id": "",
       "version_major": 2,
       "version_minor": 0
      },
      "text/plain": [
       "Validating: 0it [00:00, ?it/s]"
      ]
     },
     "metadata": {},
     "output_type": "display_data"
    },
    {
     "name": "stdout",
     "output_type": "stream",
     "text": [
      "\n",
      "----------------------------------------------------------------------------------------------------------------------------------\n",
      "| arithmetic_mean_loss: 0.31436 | harmonic_mean_loss: 1.09331 | prediction_mean_pearson: 0.31087 | entropy_mean_pearson: 0.07386 |\n",
      "----------------------------------------------------------------------------------------------------------------------------------\n",
      "\n",
      "starting epoch 94\n"
     ]
    },
    {
     "data": {
      "application/vnd.jupyter.widget-view+json": {
       "model_id": "",
       "version_major": 2,
       "version_minor": 0
      },
      "text/plain": [
       "Validating: 0it [00:00, ?it/s]"
      ]
     },
     "metadata": {},
     "output_type": "display_data"
    },
    {
     "name": "stdout",
     "output_type": "stream",
     "text": [
      "\n",
      "----------------------------------------------------------------------------------------------------------------------------------\n",
      "| arithmetic_mean_loss: 0.31442 | harmonic_mean_loss: 1.09427 | prediction_mean_pearson: 0.30941 | entropy_mean_pearson: 0.06691 |\n",
      "----------------------------------------------------------------------------------------------------------------------------------\n",
      "\n",
      "starting epoch 95\n"
     ]
    },
    {
     "data": {
      "application/vnd.jupyter.widget-view+json": {
       "model_id": "",
       "version_major": 2,
       "version_minor": 0
      },
      "text/plain": [
       "Validating: 0it [00:00, ?it/s]"
      ]
     },
     "metadata": {},
     "output_type": "display_data"
    },
    {
     "name": "stdout",
     "output_type": "stream",
     "text": [
      "\n",
      "----------------------------------------------------------------------------------------------------------------------------------\n",
      "| arithmetic_mean_loss: 0.31685 | harmonic_mean_loss: 1.10202 | prediction_mean_pearson: 0.30596 | entropy_mean_pearson: 0.07322 |\n",
      "----------------------------------------------------------------------------------------------------------------------------------\n",
      "\n",
      "starting epoch 96\n"
     ]
    },
    {
     "data": {
      "application/vnd.jupyter.widget-view+json": {
       "model_id": "",
       "version_major": 2,
       "version_minor": 0
      },
      "text/plain": [
       "Validating: 0it [00:00, ?it/s]"
      ]
     },
     "metadata": {},
     "output_type": "display_data"
    },
    {
     "name": "stdout",
     "output_type": "stream",
     "text": [
      "\n",
      "----------------------------------------------------------------------------------------------------------------------------------\n",
      "| arithmetic_mean_loss: 0.31594 | harmonic_mean_loss: 1.09906 | prediction_mean_pearson: 0.30317 | entropy_mean_pearson: 0.06917 |\n",
      "----------------------------------------------------------------------------------------------------------------------------------\n",
      "\n",
      "starting epoch 97\n"
     ]
    },
    {
     "data": {
      "application/vnd.jupyter.widget-view+json": {
       "model_id": "",
       "version_major": 2,
       "version_minor": 0
      },
      "text/plain": [
       "Validating: 0it [00:00, ?it/s]"
      ]
     },
     "metadata": {},
     "output_type": "display_data"
    },
    {
     "name": "stdout",
     "output_type": "stream",
     "text": [
      "\n",
      "----------------------------------------------------------------------------------------------------------------------------------\n",
      "| arithmetic_mean_loss: 0.31448 | harmonic_mean_loss: 1.09477 | prediction_mean_pearson: 0.30829 | entropy_mean_pearson: 0.07105 |\n",
      "----------------------------------------------------------------------------------------------------------------------------------\n",
      "\n",
      "starting epoch 98\n"
     ]
    },
    {
     "data": {
      "application/vnd.jupyter.widget-view+json": {
       "model_id": "",
       "version_major": 2,
       "version_minor": 0
      },
      "text/plain": [
       "Validating: 0it [00:00, ?it/s]"
      ]
     },
     "metadata": {},
     "output_type": "display_data"
    },
    {
     "name": "stdout",
     "output_type": "stream",
     "text": [
      "\n",
      "----------------------------------------------------------------------------------------------------------------------------------\n",
      "| arithmetic_mean_loss: 0.31712 | harmonic_mean_loss: 1.10479 | prediction_mean_pearson: 0.30763 | entropy_mean_pearson: 0.07109 |\n",
      "----------------------------------------------------------------------------------------------------------------------------------\n",
      "\n",
      "starting epoch 99\n"
     ]
    },
    {
     "data": {
      "application/vnd.jupyter.widget-view+json": {
       "model_id": "",
       "version_major": 2,
       "version_minor": 0
      },
      "text/plain": [
       "Validating: 0it [00:00, ?it/s]"
      ]
     },
     "metadata": {},
     "output_type": "display_data"
    },
    {
     "name": "stdout",
     "output_type": "stream",
     "text": [
      "\n",
      "----------------------------------------------------------------------------------------------------------------------------------\n",
      "| arithmetic_mean_loss: 0.31843 | harmonic_mean_loss: 1.10769 | prediction_mean_pearson: 0.30619 | entropy_mean_pearson: 0.07269 |\n",
      "----------------------------------------------------------------------------------------------------------------------------------\n",
      "\n",
      "starting epoch 100\n"
     ]
    },
    {
     "data": {
      "application/vnd.jupyter.widget-view+json": {
       "model_id": "",
       "version_major": 2,
       "version_minor": 0
      },
      "text/plain": [
       "Validating: 0it [00:00, ?it/s]"
      ]
     },
     "metadata": {},
     "output_type": "display_data"
    },
    {
     "name": "stdout",
     "output_type": "stream",
     "text": [
      "\n",
      "----------------------------------------------------------------------------------------------------------------------------------\n",
      "| arithmetic_mean_loss: 0.31374 | harmonic_mean_loss: 1.09080 | prediction_mean_pearson: 0.31346 | entropy_mean_pearson: 0.07667 |\n",
      "----------------------------------------------------------------------------------------------------------------------------------\n",
      "\n",
      "starting epoch 101\n"
     ]
    },
    {
     "data": {
      "application/vnd.jupyter.widget-view+json": {
       "model_id": "",
       "version_major": 2,
       "version_minor": 0
      },
      "text/plain": [
       "Validating: 0it [00:00, ?it/s]"
      ]
     },
     "metadata": {},
     "output_type": "display_data"
    },
    {
     "name": "stdout",
     "output_type": "stream",
     "text": [
      "\n",
      "----------------------------------------------------------------------------------------------------------------------------------\n",
      "| arithmetic_mean_loss: 0.31442 | harmonic_mean_loss: 1.09343 | prediction_mean_pearson: 0.31399 | entropy_mean_pearson: 0.07739 |\n",
      "----------------------------------------------------------------------------------------------------------------------------------\n",
      "\n",
      "starting epoch 102\n"
     ]
    },
    {
     "data": {
      "application/vnd.jupyter.widget-view+json": {
       "model_id": "",
       "version_major": 2,
       "version_minor": 0
      },
      "text/plain": [
       "Validating: 0it [00:00, ?it/s]"
      ]
     },
     "metadata": {},
     "output_type": "display_data"
    },
    {
     "name": "stdout",
     "output_type": "stream",
     "text": [
      "\n",
      "----------------------------------------------------------------------------------------------------------------------------------\n",
      "| arithmetic_mean_loss: 0.31484 | harmonic_mean_loss: 1.09511 | prediction_mean_pearson: 0.30938 | entropy_mean_pearson: 0.06868 |\n",
      "----------------------------------------------------------------------------------------------------------------------------------\n",
      "\n",
      "starting epoch 103\n"
     ]
    },
    {
     "data": {
      "application/vnd.jupyter.widget-view+json": {
       "model_id": "",
       "version_major": 2,
       "version_minor": 0
      },
      "text/plain": [
       "Validating: 0it [00:00, ?it/s]"
      ]
     },
     "metadata": {},
     "output_type": "display_data"
    },
    {
     "name": "stdout",
     "output_type": "stream",
     "text": [
      "\n",
      "----------------------------------------------------------------------------------------------------------------------------------\n",
      "| arithmetic_mean_loss: 0.31509 | harmonic_mean_loss: 1.09791 | prediction_mean_pearson: 0.31091 | entropy_mean_pearson: 0.07449 |\n",
      "----------------------------------------------------------------------------------------------------------------------------------\n",
      "\n",
      "starting epoch 104\n"
     ]
    },
    {
     "data": {
      "application/vnd.jupyter.widget-view+json": {
       "model_id": "",
       "version_major": 2,
       "version_minor": 0
      },
      "text/plain": [
       "Validating: 0it [00:00, ?it/s]"
      ]
     },
     "metadata": {},
     "output_type": "display_data"
    },
    {
     "name": "stdout",
     "output_type": "stream",
     "text": [
      "\n",
      "----------------------------------------------------------------------------------------------------------------------------------\n",
      "| arithmetic_mean_loss: 0.31482 | harmonic_mean_loss: 1.09505 | prediction_mean_pearson: 0.31070 | entropy_mean_pearson: 0.06999 |\n",
      "----------------------------------------------------------------------------------------------------------------------------------\n",
      "\n",
      "starting epoch 105\n"
     ]
    },
    {
     "data": {
      "application/vnd.jupyter.widget-view+json": {
       "model_id": "",
       "version_major": 2,
       "version_minor": 0
      },
      "text/plain": [
       "Validating: 0it [00:00, ?it/s]"
      ]
     },
     "metadata": {},
     "output_type": "display_data"
    },
    {
     "name": "stdout",
     "output_type": "stream",
     "text": [
      "\n",
      "----------------------------------------------------------------------------------------------------------------------------------\n",
      "| arithmetic_mean_loss: 0.31934 | harmonic_mean_loss: 1.11164 | prediction_mean_pearson: 0.30247 | entropy_mean_pearson: 0.07232 |\n",
      "----------------------------------------------------------------------------------------------------------------------------------\n",
      "\n",
      "starting epoch 106\n"
     ]
    },
    {
     "data": {
      "application/vnd.jupyter.widget-view+json": {
       "model_id": "",
       "version_major": 2,
       "version_minor": 0
      },
      "text/plain": [
       "Validating: 0it [00:00, ?it/s]"
      ]
     },
     "metadata": {},
     "output_type": "display_data"
    },
    {
     "name": "stdout",
     "output_type": "stream",
     "text": [
      "\n",
      "----------------------------------------------------------------------------------------------------------------------------------\n",
      "| arithmetic_mean_loss: 0.31471 | harmonic_mean_loss: 1.09547 | prediction_mean_pearson: 0.30782 | entropy_mean_pearson: 0.07551 |\n",
      "----------------------------------------------------------------------------------------------------------------------------------\n",
      "\n",
      "starting epoch 107\n"
     ]
    },
    {
     "data": {
      "application/vnd.jupyter.widget-view+json": {
       "model_id": "",
       "version_major": 2,
       "version_minor": 0
      },
      "text/plain": [
       "Validating: 0it [00:00, ?it/s]"
      ]
     },
     "metadata": {},
     "output_type": "display_data"
    },
    {
     "name": "stdout",
     "output_type": "stream",
     "text": [
      "\n",
      "----------------------------------------------------------------------------------------------------------------------------------\n",
      "| arithmetic_mean_loss: 0.31362 | harmonic_mean_loss: 1.09040 | prediction_mean_pearson: 0.31374 | entropy_mean_pearson: 0.06396 |\n",
      "----------------------------------------------------------------------------------------------------------------------------------\n",
      "\n",
      "starting epoch 108\n"
     ]
    },
    {
     "data": {
      "application/vnd.jupyter.widget-view+json": {
       "model_id": "",
       "version_major": 2,
       "version_minor": 0
      },
      "text/plain": [
       "Validating: 0it [00:00, ?it/s]"
      ]
     },
     "metadata": {},
     "output_type": "display_data"
    },
    {
     "name": "stdout",
     "output_type": "stream",
     "text": [
      "\n",
      "----------------------------------------------------------------------------------------------------------------------------------\n",
      "| arithmetic_mean_loss: 0.31573 | harmonic_mean_loss: 1.09756 | prediction_mean_pearson: 0.30484 | entropy_mean_pearson: 0.06982 |\n",
      "----------------------------------------------------------------------------------------------------------------------------------\n",
      "\n",
      "starting epoch 109\n"
     ]
    },
    {
     "data": {
      "application/vnd.jupyter.widget-view+json": {
       "model_id": "",
       "version_major": 2,
       "version_minor": 0
      },
      "text/plain": [
       "Validating: 0it [00:00, ?it/s]"
      ]
     },
     "metadata": {},
     "output_type": "display_data"
    },
    {
     "name": "stdout",
     "output_type": "stream",
     "text": [
      "\n",
      "----------------------------------------------------------------------------------------------------------------------------------\n",
      "| arithmetic_mean_loss: 0.31852 | harmonic_mean_loss: 1.10806 | prediction_mean_pearson: 0.30731 | entropy_mean_pearson: 0.06616 |\n",
      "----------------------------------------------------------------------------------------------------------------------------------\n",
      "\n",
      "starting epoch 110\n"
     ]
    },
    {
     "data": {
      "application/vnd.jupyter.widget-view+json": {
       "model_id": "",
       "version_major": 2,
       "version_minor": 0
      },
      "text/plain": [
       "Validating: 0it [00:00, ?it/s]"
      ]
     },
     "metadata": {},
     "output_type": "display_data"
    },
    {
     "name": "stdout",
     "output_type": "stream",
     "text": [
      "\n",
      "----------------------------------------------------------------------------------------------------------------------------------\n",
      "| arithmetic_mean_loss: 0.31514 | harmonic_mean_loss: 1.09573 | prediction_mean_pearson: 0.30917 | entropy_mean_pearson: 0.07028 |\n",
      "----------------------------------------------------------------------------------------------------------------------------------\n",
      "\n",
      "starting epoch 111\n"
     ]
    },
    {
     "data": {
      "application/vnd.jupyter.widget-view+json": {
       "model_id": "",
       "version_major": 2,
       "version_minor": 0
      },
      "text/plain": [
       "Validating: 0it [00:00, ?it/s]"
      ]
     },
     "metadata": {},
     "output_type": "display_data"
    },
    {
     "name": "stdout",
     "output_type": "stream",
     "text": [
      "\n",
      "----------------------------------------------------------------------------------------------------------------------------------\n",
      "| arithmetic_mean_loss: 0.31517 | harmonic_mean_loss: 1.09553 | prediction_mean_pearson: 0.30624 | entropy_mean_pearson: 0.06521 |\n",
      "----------------------------------------------------------------------------------------------------------------------------------\n",
      "\n",
      "starting epoch 112\n"
     ]
    },
    {
     "data": {
      "application/vnd.jupyter.widget-view+json": {
       "model_id": "",
       "version_major": 2,
       "version_minor": 0
      },
      "text/plain": [
       "Validating: 0it [00:00, ?it/s]"
      ]
     },
     "metadata": {},
     "output_type": "display_data"
    },
    {
     "name": "stdout",
     "output_type": "stream",
     "text": [
      "\n",
      "----------------------------------------------------------------------------------------------------------------------------------\n",
      "| arithmetic_mean_loss: 0.31858 | harmonic_mean_loss: 1.10693 | prediction_mean_pearson: 0.30529 | entropy_mean_pearson: 0.06654 |\n",
      "----------------------------------------------------------------------------------------------------------------------------------\n",
      "\n",
      "starting epoch 113\n"
     ]
    },
    {
     "data": {
      "application/vnd.jupyter.widget-view+json": {
       "model_id": "",
       "version_major": 2,
       "version_minor": 0
      },
      "text/plain": [
       "Validating: 0it [00:00, ?it/s]"
      ]
     },
     "metadata": {},
     "output_type": "display_data"
    },
    {
     "name": "stdout",
     "output_type": "stream",
     "text": [
      "\n",
      "----------------------------------------------------------------------------------------------------------------------------------\n",
      "| arithmetic_mean_loss: 0.31550 | harmonic_mean_loss: 1.09794 | prediction_mean_pearson: 0.31012 | entropy_mean_pearson: 0.06970 |\n",
      "----------------------------------------------------------------------------------------------------------------------------------\n",
      "\n",
      "starting epoch 114\n"
     ]
    },
    {
     "data": {
      "application/vnd.jupyter.widget-view+json": {
       "model_id": "",
       "version_major": 2,
       "version_minor": 0
      },
      "text/plain": [
       "Validating: 0it [00:00, ?it/s]"
      ]
     },
     "metadata": {},
     "output_type": "display_data"
    },
    {
     "name": "stdout",
     "output_type": "stream",
     "text": [
      "\n",
      "----------------------------------------------------------------------------------------------------------------------------------\n",
      "| arithmetic_mean_loss: 0.31408 | harmonic_mean_loss: 1.09190 | prediction_mean_pearson: 0.31649 | entropy_mean_pearson: 0.07321 |\n",
      "----------------------------------------------------------------------------------------------------------------------------------\n",
      "\n",
      "starting epoch 115\n"
     ]
    },
    {
     "data": {
      "application/vnd.jupyter.widget-view+json": {
       "model_id": "",
       "version_major": 2,
       "version_minor": 0
      },
      "text/plain": [
       "Validating: 0it [00:00, ?it/s]"
      ]
     },
     "metadata": {},
     "output_type": "display_data"
    },
    {
     "name": "stdout",
     "output_type": "stream",
     "text": [
      "\n",
      "----------------------------------------------------------------------------------------------------------------------------------\n",
      "| arithmetic_mean_loss: 0.31551 | harmonic_mean_loss: 1.09693 | prediction_mean_pearson: 0.30597 | entropy_mean_pearson: 0.07011 |\n",
      "----------------------------------------------------------------------------------------------------------------------------------\n",
      "\n",
      "starting epoch 116\n"
     ]
    },
    {
     "data": {
      "application/vnd.jupyter.widget-view+json": {
       "model_id": "",
       "version_major": 2,
       "version_minor": 0
      },
      "text/plain": [
       "Validating: 0it [00:00, ?it/s]"
      ]
     },
     "metadata": {},
     "output_type": "display_data"
    },
    {
     "name": "stdout",
     "output_type": "stream",
     "text": [
      "\n",
      "----------------------------------------------------------------------------------------------------------------------------------\n",
      "| arithmetic_mean_loss: 0.31332 | harmonic_mean_loss: 1.08981 | prediction_mean_pearson: 0.31604 | entropy_mean_pearson: 0.07219 |\n",
      "----------------------------------------------------------------------------------------------------------------------------------\n",
      "\n",
      "starting epoch 117\n"
     ]
    },
    {
     "data": {
      "application/vnd.jupyter.widget-view+json": {
       "model_id": "",
       "version_major": 2,
       "version_minor": 0
      },
      "text/plain": [
       "Validating: 0it [00:00, ?it/s]"
      ]
     },
     "metadata": {},
     "output_type": "display_data"
    },
    {
     "name": "stdout",
     "output_type": "stream",
     "text": [
      "\n",
      "----------------------------------------------------------------------------------------------------------------------------------\n",
      "| arithmetic_mean_loss: 0.31547 | harmonic_mean_loss: 1.09619 | prediction_mean_pearson: 0.30992 | entropy_mean_pearson: 0.06953 |\n",
      "----------------------------------------------------------------------------------------------------------------------------------\n",
      "\n",
      "starting epoch 118\n"
     ]
    },
    {
     "data": {
      "application/vnd.jupyter.widget-view+json": {
       "model_id": "",
       "version_major": 2,
       "version_minor": 0
      },
      "text/plain": [
       "Validating: 0it [00:00, ?it/s]"
      ]
     },
     "metadata": {},
     "output_type": "display_data"
    },
    {
     "name": "stdout",
     "output_type": "stream",
     "text": [
      "\n",
      "----------------------------------------------------------------------------------------------------------------------------------\n",
      "| arithmetic_mean_loss: 0.31320 | harmonic_mean_loss: 1.08948 | prediction_mean_pearson: 0.31456 | entropy_mean_pearson: 0.06865 |\n",
      "----------------------------------------------------------------------------------------------------------------------------------\n",
      "\n",
      "starting epoch 119\n"
     ]
    },
    {
     "data": {
      "application/vnd.jupyter.widget-view+json": {
       "model_id": "",
       "version_major": 2,
       "version_minor": 0
      },
      "text/plain": [
       "Validating: 0it [00:00, ?it/s]"
      ]
     },
     "metadata": {},
     "output_type": "display_data"
    },
    {
     "name": "stdout",
     "output_type": "stream",
     "text": [
      "\n",
      "----------------------------------------------------------------------------------------------------------------------------------\n",
      "| arithmetic_mean_loss: 0.31545 | harmonic_mean_loss: 1.09714 | prediction_mean_pearson: 0.30964 | entropy_mean_pearson: 0.07388 |\n",
      "----------------------------------------------------------------------------------------------------------------------------------\n",
      "\n",
      "starting epoch 120\n"
     ]
    },
    {
     "data": {
      "application/vnd.jupyter.widget-view+json": {
       "model_id": "",
       "version_major": 2,
       "version_minor": 0
      },
      "text/plain": [
       "Validating: 0it [00:00, ?it/s]"
      ]
     },
     "metadata": {},
     "output_type": "display_data"
    },
    {
     "name": "stdout",
     "output_type": "stream",
     "text": [
      "\n",
      "----------------------------------------------------------------------------------------------------------------------------------\n",
      "| arithmetic_mean_loss: 0.31592 | harmonic_mean_loss: 1.09877 | prediction_mean_pearson: 0.30943 | entropy_mean_pearson: 0.06647 |\n",
      "----------------------------------------------------------------------------------------------------------------------------------\n",
      "\n",
      "starting epoch 121\n"
     ]
    },
    {
     "data": {
      "application/vnd.jupyter.widget-view+json": {
       "model_id": "",
       "version_major": 2,
       "version_minor": 0
      },
      "text/plain": [
       "Validating: 0it [00:00, ?it/s]"
      ]
     },
     "metadata": {},
     "output_type": "display_data"
    },
    {
     "name": "stdout",
     "output_type": "stream",
     "text": [
      "\n",
      "----------------------------------------------------------------------------------------------------------------------------------\n",
      "| arithmetic_mean_loss: 0.31387 | harmonic_mean_loss: 1.09139 | prediction_mean_pearson: 0.31291 | entropy_mean_pearson: 0.07144 |\n",
      "----------------------------------------------------------------------------------------------------------------------------------\n",
      "\n",
      "starting epoch 122\n"
     ]
    },
    {
     "data": {
      "application/vnd.jupyter.widget-view+json": {
       "model_id": "",
       "version_major": 2,
       "version_minor": 0
      },
      "text/plain": [
       "Validating: 0it [00:00, ?it/s]"
      ]
     },
     "metadata": {},
     "output_type": "display_data"
    },
    {
     "name": "stdout",
     "output_type": "stream",
     "text": [
      "\n",
      "----------------------------------------------------------------------------------------------------------------------------------\n",
      "| arithmetic_mean_loss: 0.32055 | harmonic_mean_loss: 1.11492 | prediction_mean_pearson: 0.30207 | entropy_mean_pearson: 0.05364 |\n",
      "----------------------------------------------------------------------------------------------------------------------------------\n",
      "\n",
      "starting epoch 123\n"
     ]
    },
    {
     "data": {
      "application/vnd.jupyter.widget-view+json": {
       "model_id": "",
       "version_major": 2,
       "version_minor": 0
      },
      "text/plain": [
       "Validating: 0it [00:00, ?it/s]"
      ]
     },
     "metadata": {},
     "output_type": "display_data"
    },
    {
     "name": "stdout",
     "output_type": "stream",
     "text": [
      "\n",
      "----------------------------------------------------------------------------------------------------------------------------------\n",
      "| arithmetic_mean_loss: 0.31319 | harmonic_mean_loss: 1.08934 | prediction_mean_pearson: 0.31665 | entropy_mean_pearson: 0.06938 |\n",
      "----------------------------------------------------------------------------------------------------------------------------------\n",
      "\n",
      "starting epoch 124\n"
     ]
    },
    {
     "data": {
      "application/vnd.jupyter.widget-view+json": {
       "model_id": "",
       "version_major": 2,
       "version_minor": 0
      },
      "text/plain": [
       "Validating: 0it [00:00, ?it/s]"
      ]
     },
     "metadata": {},
     "output_type": "display_data"
    },
    {
     "name": "stdout",
     "output_type": "stream",
     "text": [
      "\n",
      "----------------------------------------------------------------------------------------------------------------------------------\n",
      "| arithmetic_mean_loss: 0.31721 | harmonic_mean_loss: 1.10400 | prediction_mean_pearson: 0.30828 | entropy_mean_pearson: 0.06419 |\n",
      "----------------------------------------------------------------------------------------------------------------------------------\n",
      "\n",
      "starting epoch 125\n"
     ]
    },
    {
     "data": {
      "application/vnd.jupyter.widget-view+json": {
       "model_id": "",
       "version_major": 2,
       "version_minor": 0
      },
      "text/plain": [
       "Validating: 0it [00:00, ?it/s]"
      ]
     },
     "metadata": {},
     "output_type": "display_data"
    },
    {
     "name": "stdout",
     "output_type": "stream",
     "text": [
      "\n",
      "----------------------------------------------------------------------------------------------------------------------------------\n",
      "| arithmetic_mean_loss: 0.32094 | harmonic_mean_loss: 1.11903 | prediction_mean_pearson: 0.30449 | entropy_mean_pearson: 0.06912 |\n",
      "----------------------------------------------------------------------------------------------------------------------------------\n",
      "\n",
      "starting epoch 126\n"
     ]
    },
    {
     "data": {
      "application/vnd.jupyter.widget-view+json": {
       "model_id": "",
       "version_major": 2,
       "version_minor": 0
      },
      "text/plain": [
       "Validating: 0it [00:00, ?it/s]"
      ]
     },
     "metadata": {},
     "output_type": "display_data"
    },
    {
     "name": "stdout",
     "output_type": "stream",
     "text": [
      "\n",
      "----------------------------------------------------------------------------------------------------------------------------------\n",
      "| arithmetic_mean_loss: 0.31485 | harmonic_mean_loss: 1.09476 | prediction_mean_pearson: 0.30750 | entropy_mean_pearson: 0.06658 |\n",
      "----------------------------------------------------------------------------------------------------------------------------------\n",
      "\n",
      "starting epoch 127\n"
     ]
    },
    {
     "data": {
      "application/vnd.jupyter.widget-view+json": {
       "model_id": "",
       "version_major": 2,
       "version_minor": 0
      },
      "text/plain": [
       "Validating: 0it [00:00, ?it/s]"
      ]
     },
     "metadata": {},
     "output_type": "display_data"
    },
    {
     "name": "stdout",
     "output_type": "stream",
     "text": [
      "\n",
      "----------------------------------------------------------------------------------------------------------------------------------\n",
      "| arithmetic_mean_loss: 0.31384 | harmonic_mean_loss: 1.09082 | prediction_mean_pearson: 0.31425 | entropy_mean_pearson: 0.06650 |\n",
      "----------------------------------------------------------------------------------------------------------------------------------\n",
      "\n",
      "starting epoch 128\n"
     ]
    },
    {
     "data": {
      "application/vnd.jupyter.widget-view+json": {
       "model_id": "",
       "version_major": 2,
       "version_minor": 0
      },
      "text/plain": [
       "Validating: 0it [00:00, ?it/s]"
      ]
     },
     "metadata": {},
     "output_type": "display_data"
    },
    {
     "name": "stdout",
     "output_type": "stream",
     "text": [
      "\n",
      "----------------------------------------------------------------------------------------------------------------------------------\n",
      "| arithmetic_mean_loss: 0.31420 | harmonic_mean_loss: 1.09184 | prediction_mean_pearson: 0.31260 | entropy_mean_pearson: 0.06582 |\n",
      "----------------------------------------------------------------------------------------------------------------------------------\n",
      "\n",
      "starting epoch 129\n"
     ]
    },
    {
     "data": {
      "application/vnd.jupyter.widget-view+json": {
       "model_id": "",
       "version_major": 2,
       "version_minor": 0
      },
      "text/plain": [
       "Validating: 0it [00:00, ?it/s]"
      ]
     },
     "metadata": {},
     "output_type": "display_data"
    },
    {
     "name": "stdout",
     "output_type": "stream",
     "text": [
      "\n",
      "----------------------------------------------------------------------------------------------------------------------------------\n",
      "| arithmetic_mean_loss: 0.31566 | harmonic_mean_loss: 1.09631 | prediction_mean_pearson: 0.30892 | entropy_mean_pearson: 0.06240 |\n",
      "----------------------------------------------------------------------------------------------------------------------------------\n",
      "\n",
      "starting epoch 130\n"
     ]
    },
    {
     "data": {
      "application/vnd.jupyter.widget-view+json": {
       "model_id": "",
       "version_major": 2,
       "version_minor": 0
      },
      "text/plain": [
       "Validating: 0it [00:00, ?it/s]"
      ]
     },
     "metadata": {},
     "output_type": "display_data"
    },
    {
     "name": "stdout",
     "output_type": "stream",
     "text": [
      "\n",
      "----------------------------------------------------------------------------------------------------------------------------------\n",
      "| arithmetic_mean_loss: 0.31567 | harmonic_mean_loss: 1.09824 | prediction_mean_pearson: 0.30884 | entropy_mean_pearson: 0.07319 |\n",
      "----------------------------------------------------------------------------------------------------------------------------------\n",
      "\n",
      "starting epoch 131\n"
     ]
    },
    {
     "data": {
      "application/vnd.jupyter.widget-view+json": {
       "model_id": "",
       "version_major": 2,
       "version_minor": 0
      },
      "text/plain": [
       "Validating: 0it [00:00, ?it/s]"
      ]
     },
     "metadata": {},
     "output_type": "display_data"
    },
    {
     "name": "stdout",
     "output_type": "stream",
     "text": [
      "\n",
      "----------------------------------------------------------------------------------------------------------------------------------\n",
      "| arithmetic_mean_loss: 0.31838 | harmonic_mean_loss: 1.10657 | prediction_mean_pearson: 0.30256 | entropy_mean_pearson: 0.06887 |\n",
      "----------------------------------------------------------------------------------------------------------------------------------\n",
      "\n",
      "starting epoch 132\n"
     ]
    },
    {
     "data": {
      "application/vnd.jupyter.widget-view+json": {
       "model_id": "",
       "version_major": 2,
       "version_minor": 0
      },
      "text/plain": [
       "Validating: 0it [00:00, ?it/s]"
      ]
     },
     "metadata": {},
     "output_type": "display_data"
    },
    {
     "name": "stdout",
     "output_type": "stream",
     "text": [
      "\n",
      "----------------------------------------------------------------------------------------------------------------------------------\n",
      "| arithmetic_mean_loss: 0.31694 | harmonic_mean_loss: 1.10186 | prediction_mean_pearson: 0.30755 | entropy_mean_pearson: 0.07282 |\n",
      "----------------------------------------------------------------------------------------------------------------------------------\n",
      "\n",
      "starting epoch 133\n"
     ]
    },
    {
     "data": {
      "application/vnd.jupyter.widget-view+json": {
       "model_id": "",
       "version_major": 2,
       "version_minor": 0
      },
      "text/plain": [
       "Validating: 0it [00:00, ?it/s]"
      ]
     },
     "metadata": {},
     "output_type": "display_data"
    },
    {
     "name": "stdout",
     "output_type": "stream",
     "text": [
      "\n",
      "----------------------------------------------------------------------------------------------------------------------------------\n",
      "| arithmetic_mean_loss: 0.31481 | harmonic_mean_loss: 1.09516 | prediction_mean_pearson: 0.31114 | entropy_mean_pearson: 0.06755 |\n",
      "----------------------------------------------------------------------------------------------------------------------------------\n",
      "\n",
      "starting epoch 134\n"
     ]
    },
    {
     "data": {
      "application/vnd.jupyter.widget-view+json": {
       "model_id": "",
       "version_major": 2,
       "version_minor": 0
      },
      "text/plain": [
       "Validating: 0it [00:00, ?it/s]"
      ]
     },
     "metadata": {},
     "output_type": "display_data"
    },
    {
     "name": "stdout",
     "output_type": "stream",
     "text": [
      "\n",
      "----------------------------------------------------------------------------------------------------------------------------------\n",
      "| arithmetic_mean_loss: 0.31504 | harmonic_mean_loss: 1.09587 | prediction_mean_pearson: 0.30617 | entropy_mean_pearson: 0.06616 |\n",
      "----------------------------------------------------------------------------------------------------------------------------------\n",
      "\n",
      "starting epoch 135\n"
     ]
    },
    {
     "data": {
      "application/vnd.jupyter.widget-view+json": {
       "model_id": "",
       "version_major": 2,
       "version_minor": 0
      },
      "text/plain": [
       "Validating: 0it [00:00, ?it/s]"
      ]
     },
     "metadata": {},
     "output_type": "display_data"
    },
    {
     "name": "stdout",
     "output_type": "stream",
     "text": [
      "\n",
      "----------------------------------------------------------------------------------------------------------------------------------\n",
      "| arithmetic_mean_loss: 0.31459 | harmonic_mean_loss: 1.09420 | prediction_mean_pearson: 0.30995 | entropy_mean_pearson: 0.07009 |\n",
      "----------------------------------------------------------------------------------------------------------------------------------\n",
      "\n",
      "starting epoch 136\n"
     ]
    },
    {
     "data": {
      "application/vnd.jupyter.widget-view+json": {
       "model_id": "",
       "version_major": 2,
       "version_minor": 0
      },
      "text/plain": [
       "Validating: 0it [00:00, ?it/s]"
      ]
     },
     "metadata": {},
     "output_type": "display_data"
    },
    {
     "name": "stdout",
     "output_type": "stream",
     "text": [
      "\n",
      "----------------------------------------------------------------------------------------------------------------------------------\n",
      "| arithmetic_mean_loss: 0.31483 | harmonic_mean_loss: 1.09513 | prediction_mean_pearson: 0.30756 | entropy_mean_pearson: 0.06544 |\n",
      "----------------------------------------------------------------------------------------------------------------------------------\n",
      "\n",
      "starting epoch 137\n"
     ]
    },
    {
     "data": {
      "application/vnd.jupyter.widget-view+json": {
       "model_id": "",
       "version_major": 2,
       "version_minor": 0
      },
      "text/plain": [
       "Validating: 0it [00:00, ?it/s]"
      ]
     },
     "metadata": {},
     "output_type": "display_data"
    },
    {
     "name": "stdout",
     "output_type": "stream",
     "text": [
      "\n",
      "----------------------------------------------------------------------------------------------------------------------------------\n",
      "| arithmetic_mean_loss: 0.31790 | harmonic_mean_loss: 1.10548 | prediction_mean_pearson: 0.30727 | entropy_mean_pearson: 0.07015 |\n",
      "----------------------------------------------------------------------------------------------------------------------------------\n",
      "\n",
      "starting epoch 138\n"
     ]
    },
    {
     "data": {
      "application/vnd.jupyter.widget-view+json": {
       "model_id": "",
       "version_major": 2,
       "version_minor": 0
      },
      "text/plain": [
       "Validating: 0it [00:00, ?it/s]"
      ]
     },
     "metadata": {},
     "output_type": "display_data"
    },
    {
     "name": "stdout",
     "output_type": "stream",
     "text": [
      "\n",
      "----------------------------------------------------------------------------------------------------------------------------------\n",
      "| arithmetic_mean_loss: 0.31461 | harmonic_mean_loss: 1.09452 | prediction_mean_pearson: 0.30941 | entropy_mean_pearson: 0.06761 |\n",
      "----------------------------------------------------------------------------------------------------------------------------------\n",
      "\n",
      "starting epoch 139\n"
     ]
    },
    {
     "data": {
      "application/vnd.jupyter.widget-view+json": {
       "model_id": "",
       "version_major": 2,
       "version_minor": 0
      },
      "text/plain": [
       "Validating: 0it [00:00, ?it/s]"
      ]
     },
     "metadata": {},
     "output_type": "display_data"
    },
    {
     "name": "stdout",
     "output_type": "stream",
     "text": [
      "\n",
      "----------------------------------------------------------------------------------------------------------------------------------\n",
      "| arithmetic_mean_loss: 0.31577 | harmonic_mean_loss: 1.09826 | prediction_mean_pearson: 0.31188 | entropy_mean_pearson: 0.07477 |\n",
      "----------------------------------------------------------------------------------------------------------------------------------\n",
      "\n",
      "starting epoch 140\n"
     ]
    },
    {
     "data": {
      "application/vnd.jupyter.widget-view+json": {
       "model_id": "",
       "version_major": 2,
       "version_minor": 0
      },
      "text/plain": [
       "Validating: 0it [00:00, ?it/s]"
      ]
     },
     "metadata": {},
     "output_type": "display_data"
    },
    {
     "name": "stdout",
     "output_type": "stream",
     "text": [
      "\n",
      "----------------------------------------------------------------------------------------------------------------------------------\n",
      "| arithmetic_mean_loss: 0.31455 | harmonic_mean_loss: 1.09380 | prediction_mean_pearson: 0.30994 | entropy_mean_pearson: 0.06809 |\n",
      "----------------------------------------------------------------------------------------------------------------------------------\n",
      "\n",
      "starting epoch 141\n"
     ]
    },
    {
     "data": {
      "application/vnd.jupyter.widget-view+json": {
       "model_id": "",
       "version_major": 2,
       "version_minor": 0
      },
      "text/plain": [
       "Validating: 0it [00:00, ?it/s]"
      ]
     },
     "metadata": {},
     "output_type": "display_data"
    },
    {
     "name": "stdout",
     "output_type": "stream",
     "text": [
      "\n",
      "----------------------------------------------------------------------------------------------------------------------------------\n",
      "| arithmetic_mean_loss: 0.31992 | harmonic_mean_loss: 1.11301 | prediction_mean_pearson: 0.30664 | entropy_mean_pearson: 0.06394 |\n",
      "----------------------------------------------------------------------------------------------------------------------------------\n",
      "\n",
      "starting epoch 142\n"
     ]
    },
    {
     "data": {
      "application/vnd.jupyter.widget-view+json": {
       "model_id": "",
       "version_major": 2,
       "version_minor": 0
      },
      "text/plain": [
       "Validating: 0it [00:00, ?it/s]"
      ]
     },
     "metadata": {},
     "output_type": "display_data"
    },
    {
     "name": "stdout",
     "output_type": "stream",
     "text": [
      "\n",
      "----------------------------------------------------------------------------------------------------------------------------------\n",
      "| arithmetic_mean_loss: 0.31553 | harmonic_mean_loss: 1.09830 | prediction_mean_pearson: 0.30564 | entropy_mean_pearson: 0.06371 |\n",
      "----------------------------------------------------------------------------------------------------------------------------------\n",
      "\n",
      "starting epoch 143\n"
     ]
    },
    {
     "data": {
      "application/vnd.jupyter.widget-view+json": {
       "model_id": "",
       "version_major": 2,
       "version_minor": 0
      },
      "text/plain": [
       "Validating: 0it [00:00, ?it/s]"
      ]
     },
     "metadata": {},
     "output_type": "display_data"
    },
    {
     "name": "stdout",
     "output_type": "stream",
     "text": [
      "\n",
      "----------------------------------------------------------------------------------------------------------------------------------\n",
      "| arithmetic_mean_loss: 0.31418 | harmonic_mean_loss: 1.09310 | prediction_mean_pearson: 0.31002 | entropy_mean_pearson: 0.07468 |\n",
      "----------------------------------------------------------------------------------------------------------------------------------\n",
      "\n",
      "starting epoch 144\n"
     ]
    },
    {
     "data": {
      "application/vnd.jupyter.widget-view+json": {
       "model_id": "",
       "version_major": 2,
       "version_minor": 0
      },
      "text/plain": [
       "Validating: 0it [00:00, ?it/s]"
      ]
     },
     "metadata": {},
     "output_type": "display_data"
    },
    {
     "name": "stdout",
     "output_type": "stream",
     "text": [
      "\n",
      "----------------------------------------------------------------------------------------------------------------------------------\n",
      "| arithmetic_mean_loss: 0.32148 | harmonic_mean_loss: 1.11587 | prediction_mean_pearson: 0.30297 | entropy_mean_pearson: 0.06932 |\n",
      "----------------------------------------------------------------------------------------------------------------------------------\n",
      "\n",
      "starting epoch 145\n"
     ]
    },
    {
     "data": {
      "application/vnd.jupyter.widget-view+json": {
       "model_id": "",
       "version_major": 2,
       "version_minor": 0
      },
      "text/plain": [
       "Validating: 0it [00:00, ?it/s]"
      ]
     },
     "metadata": {},
     "output_type": "display_data"
    },
    {
     "name": "stdout",
     "output_type": "stream",
     "text": [
      "\n",
      "----------------------------------------------------------------------------------------------------------------------------------\n",
      "| arithmetic_mean_loss: 0.31746 | harmonic_mean_loss: 1.10473 | prediction_mean_pearson: 0.30229 | entropy_mean_pearson: 0.06951 |\n",
      "----------------------------------------------------------------------------------------------------------------------------------\n",
      "\n",
      "starting epoch 146\n"
     ]
    },
    {
     "data": {
      "application/vnd.jupyter.widget-view+json": {
       "model_id": "",
       "version_major": 2,
       "version_minor": 0
      },
      "text/plain": [
       "Validating: 0it [00:00, ?it/s]"
      ]
     },
     "metadata": {},
     "output_type": "display_data"
    },
    {
     "name": "stdout",
     "output_type": "stream",
     "text": [
      "\n",
      "----------------------------------------------------------------------------------------------------------------------------------\n",
      "| arithmetic_mean_loss: 0.31711 | harmonic_mean_loss: 1.10440 | prediction_mean_pearson: 0.30275 | entropy_mean_pearson: 0.06782 |\n",
      "----------------------------------------------------------------------------------------------------------------------------------\n",
      "\n",
      "starting epoch 147\n"
     ]
    },
    {
     "data": {
      "application/vnd.jupyter.widget-view+json": {
       "model_id": "",
       "version_major": 2,
       "version_minor": 0
      },
      "text/plain": [
       "Validating: 0it [00:00, ?it/s]"
      ]
     },
     "metadata": {},
     "output_type": "display_data"
    },
    {
     "name": "stdout",
     "output_type": "stream",
     "text": [
      "\n",
      "----------------------------------------------------------------------------------------------------------------------------------\n",
      "| arithmetic_mean_loss: 0.31467 | harmonic_mean_loss: 1.09508 | prediction_mean_pearson: 0.30824 | entropy_mean_pearson: 0.06438 |\n",
      "----------------------------------------------------------------------------------------------------------------------------------\n",
      "\n",
      "starting epoch 148\n"
     ]
    },
    {
     "data": {
      "application/vnd.jupyter.widget-view+json": {
       "model_id": "",
       "version_major": 2,
       "version_minor": 0
      },
      "text/plain": [
       "Validating: 0it [00:00, ?it/s]"
      ]
     },
     "metadata": {},
     "output_type": "display_data"
    },
    {
     "name": "stdout",
     "output_type": "stream",
     "text": [
      "\n",
      "----------------------------------------------------------------------------------------------------------------------------------\n",
      "| arithmetic_mean_loss: 0.31418 | harmonic_mean_loss: 1.09340 | prediction_mean_pearson: 0.31244 | entropy_mean_pearson: 0.06848 |\n",
      "----------------------------------------------------------------------------------------------------------------------------------\n",
      "\n",
      "starting epoch 149\n"
     ]
    },
    {
     "data": {
      "application/vnd.jupyter.widget-view+json": {
       "model_id": "",
       "version_major": 2,
       "version_minor": 0
      },
      "text/plain": [
       "Validating: 0it [00:00, ?it/s]"
      ]
     },
     "metadata": {},
     "output_type": "display_data"
    },
    {
     "name": "stdout",
     "output_type": "stream",
     "text": [
      "\n",
      "----------------------------------------------------------------------------------------------------------------------------------\n",
      "| arithmetic_mean_loss: 0.31416 | harmonic_mean_loss: 1.09396 | prediction_mean_pearson: 0.31275 | entropy_mean_pearson: 0.07180 |\n",
      "----------------------------------------------------------------------------------------------------------------------------------\n",
      "\n",
      "starting epoch 150\n"
     ]
    },
    {
     "data": {
      "application/vnd.jupyter.widget-view+json": {
       "model_id": "",
       "version_major": 2,
       "version_minor": 0
      },
      "text/plain": [
       "Validating: 0it [00:00, ?it/s]"
      ]
     },
     "metadata": {},
     "output_type": "display_data"
    },
    {
     "name": "stdout",
     "output_type": "stream",
     "text": [
      "\n",
      "----------------------------------------------------------------------------------------------------------------------------------\n",
      "| arithmetic_mean_loss: 0.32783 | harmonic_mean_loss: 1.14311 | prediction_mean_pearson: 0.29701 | entropy_mean_pearson: 0.06206 |\n",
      "----------------------------------------------------------------------------------------------------------------------------------\n",
      "\n",
      "starting epoch 151\n"
     ]
    },
    {
     "data": {
      "application/vnd.jupyter.widget-view+json": {
       "model_id": "",
       "version_major": 2,
       "version_minor": 0
      },
      "text/plain": [
       "Validating: 0it [00:00, ?it/s]"
      ]
     },
     "metadata": {},
     "output_type": "display_data"
    },
    {
     "name": "stdout",
     "output_type": "stream",
     "text": [
      "\n",
      "----------------------------------------------------------------------------------------------------------------------------------\n",
      "| arithmetic_mean_loss: 0.32023 | harmonic_mean_loss: 1.11296 | prediction_mean_pearson: 0.30709 | entropy_mean_pearson: 0.06414 |\n",
      "----------------------------------------------------------------------------------------------------------------------------------\n",
      "\n",
      "starting epoch 152\n"
     ]
    },
    {
     "data": {
      "application/vnd.jupyter.widget-view+json": {
       "model_id": "",
       "version_major": 2,
       "version_minor": 0
      },
      "text/plain": [
       "Validating: 0it [00:00, ?it/s]"
      ]
     },
     "metadata": {},
     "output_type": "display_data"
    },
    {
     "name": "stdout",
     "output_type": "stream",
     "text": [
      "\n",
      "----------------------------------------------------------------------------------------------------------------------------------\n",
      "| arithmetic_mean_loss: 0.31436 | harmonic_mean_loss: 1.09407 | prediction_mean_pearson: 0.30999 | entropy_mean_pearson: 0.06871 |\n",
      "----------------------------------------------------------------------------------------------------------------------------------\n",
      "\n",
      "starting epoch 153\n"
     ]
    },
    {
     "data": {
      "application/vnd.jupyter.widget-view+json": {
       "model_id": "",
       "version_major": 2,
       "version_minor": 0
      },
      "text/plain": [
       "Validating: 0it [00:00, ?it/s]"
      ]
     },
     "metadata": {},
     "output_type": "display_data"
    },
    {
     "name": "stdout",
     "output_type": "stream",
     "text": [
      "\n",
      "----------------------------------------------------------------------------------------------------------------------------------\n",
      "| arithmetic_mean_loss: 0.31630 | harmonic_mean_loss: 1.10067 | prediction_mean_pearson: 0.30637 | entropy_mean_pearson: 0.06315 |\n",
      "----------------------------------------------------------------------------------------------------------------------------------\n",
      "\n",
      "starting epoch 154\n"
     ]
    },
    {
     "data": {
      "application/vnd.jupyter.widget-view+json": {
       "model_id": "",
       "version_major": 2,
       "version_minor": 0
      },
      "text/plain": [
       "Validating: 0it [00:00, ?it/s]"
      ]
     },
     "metadata": {},
     "output_type": "display_data"
    },
    {
     "name": "stdout",
     "output_type": "stream",
     "text": [
      "\n",
      "----------------------------------------------------------------------------------------------------------------------------------\n",
      "| arithmetic_mean_loss: 0.31733 | harmonic_mean_loss: 1.10448 | prediction_mean_pearson: 0.30186 | entropy_mean_pearson: 0.06989 |\n",
      "----------------------------------------------------------------------------------------------------------------------------------\n",
      "\n",
      "starting epoch 155\n"
     ]
    },
    {
     "data": {
      "application/vnd.jupyter.widget-view+json": {
       "model_id": "",
       "version_major": 2,
       "version_minor": 0
      },
      "text/plain": [
       "Validating: 0it [00:00, ?it/s]"
      ]
     },
     "metadata": {},
     "output_type": "display_data"
    },
    {
     "name": "stdout",
     "output_type": "stream",
     "text": [
      "\n",
      "----------------------------------------------------------------------------------------------------------------------------------\n",
      "| arithmetic_mean_loss: 0.32213 | harmonic_mean_loss: 1.12510 | prediction_mean_pearson: 0.30660 | entropy_mean_pearson: 0.06939 |\n",
      "----------------------------------------------------------------------------------------------------------------------------------\n",
      "\n",
      "starting epoch 156\n"
     ]
    },
    {
     "data": {
      "application/vnd.jupyter.widget-view+json": {
       "model_id": "",
       "version_major": 2,
       "version_minor": 0
      },
      "text/plain": [
       "Validating: 0it [00:00, ?it/s]"
      ]
     },
     "metadata": {},
     "output_type": "display_data"
    },
    {
     "name": "stdout",
     "output_type": "stream",
     "text": [
      "\n",
      "----------------------------------------------------------------------------------------------------------------------------------\n",
      "| arithmetic_mean_loss: 0.31603 | harmonic_mean_loss: 1.09995 | prediction_mean_pearson: 0.30108 | entropy_mean_pearson: 0.06643 |\n",
      "----------------------------------------------------------------------------------------------------------------------------------\n",
      "\n",
      "starting epoch 157\n"
     ]
    },
    {
     "data": {
      "application/vnd.jupyter.widget-view+json": {
       "model_id": "",
       "version_major": 2,
       "version_minor": 0
      },
      "text/plain": [
       "Validating: 0it [00:00, ?it/s]"
      ]
     },
     "metadata": {},
     "output_type": "display_data"
    },
    {
     "name": "stdout",
     "output_type": "stream",
     "text": [
      "\n",
      "----------------------------------------------------------------------------------------------------------------------------------\n",
      "| arithmetic_mean_loss: 0.31871 | harmonic_mean_loss: 1.10602 | prediction_mean_pearson: 0.30440 | entropy_mean_pearson: 0.06595 |\n",
      "----------------------------------------------------------------------------------------------------------------------------------\n",
      "\n",
      "starting epoch 158\n"
     ]
    },
    {
     "data": {
      "application/vnd.jupyter.widget-view+json": {
       "model_id": "",
       "version_major": 2,
       "version_minor": 0
      },
      "text/plain": [
       "Validating: 0it [00:00, ?it/s]"
      ]
     },
     "metadata": {},
     "output_type": "display_data"
    },
    {
     "name": "stdout",
     "output_type": "stream",
     "text": [
      "\n",
      "----------------------------------------------------------------------------------------------------------------------------------\n",
      "| arithmetic_mean_loss: 0.31627 | harmonic_mean_loss: 1.10018 | prediction_mean_pearson: 0.30265 | entropy_mean_pearson: 0.06814 |\n",
      "----------------------------------------------------------------------------------------------------------------------------------\n",
      "\n",
      "starting epoch 159\n"
     ]
    },
    {
     "data": {
      "application/vnd.jupyter.widget-view+json": {
       "model_id": "",
       "version_major": 2,
       "version_minor": 0
      },
      "text/plain": [
       "Validating: 0it [00:00, ?it/s]"
      ]
     },
     "metadata": {},
     "output_type": "display_data"
    },
    {
     "name": "stdout",
     "output_type": "stream",
     "text": [
      "\n",
      "----------------------------------------------------------------------------------------------------------------------------------\n",
      "| arithmetic_mean_loss: 0.31421 | harmonic_mean_loss: 1.09270 | prediction_mean_pearson: 0.31125 | entropy_mean_pearson: 0.06763 |\n",
      "----------------------------------------------------------------------------------------------------------------------------------\n",
      "\n",
      "starting epoch 160\n"
     ]
    },
    {
     "data": {
      "application/vnd.jupyter.widget-view+json": {
       "model_id": "",
       "version_major": 2,
       "version_minor": 0
      },
      "text/plain": [
       "Validating: 0it [00:00, ?it/s]"
      ]
     },
     "metadata": {},
     "output_type": "display_data"
    },
    {
     "name": "stdout",
     "output_type": "stream",
     "text": [
      "\n",
      "----------------------------------------------------------------------------------------------------------------------------------\n",
      "| arithmetic_mean_loss: 0.31536 | harmonic_mean_loss: 1.09630 | prediction_mean_pearson: 0.30522 | entropy_mean_pearson: 0.06565 |\n",
      "----------------------------------------------------------------------------------------------------------------------------------\n",
      "\n",
      "starting epoch 161\n"
     ]
    },
    {
     "data": {
      "application/vnd.jupyter.widget-view+json": {
       "model_id": "",
       "version_major": 2,
       "version_minor": 0
      },
      "text/plain": [
       "Validating: 0it [00:00, ?it/s]"
      ]
     },
     "metadata": {},
     "output_type": "display_data"
    },
    {
     "name": "stdout",
     "output_type": "stream",
     "text": [
      "\n",
      "----------------------------------------------------------------------------------------------------------------------------------\n",
      "| arithmetic_mean_loss: 0.31693 | harmonic_mean_loss: 1.10124 | prediction_mean_pearson: 0.30993 | entropy_mean_pearson: 0.06032 |\n",
      "----------------------------------------------------------------------------------------------------------------------------------\n",
      "\n",
      "starting epoch 162\n"
     ]
    },
    {
     "data": {
      "application/vnd.jupyter.widget-view+json": {
       "model_id": "",
       "version_major": 2,
       "version_minor": 0
      },
      "text/plain": [
       "Validating: 0it [00:00, ?it/s]"
      ]
     },
     "metadata": {},
     "output_type": "display_data"
    },
    {
     "name": "stdout",
     "output_type": "stream",
     "text": [
      "\n",
      "----------------------------------------------------------------------------------------------------------------------------------\n",
      "| arithmetic_mean_loss: 0.31668 | harmonic_mean_loss: 1.10268 | prediction_mean_pearson: 0.30286 | entropy_mean_pearson: 0.06211 |\n",
      "----------------------------------------------------------------------------------------------------------------------------------\n",
      "\n",
      "starting epoch 163\n"
     ]
    },
    {
     "data": {
      "application/vnd.jupyter.widget-view+json": {
       "model_id": "",
       "version_major": 2,
       "version_minor": 0
      },
      "text/plain": [
       "Validating: 0it [00:00, ?it/s]"
      ]
     },
     "metadata": {},
     "output_type": "display_data"
    },
    {
     "name": "stdout",
     "output_type": "stream",
     "text": [
      "\n",
      "----------------------------------------------------------------------------------------------------------------------------------\n",
      "| arithmetic_mean_loss: 0.33109 | harmonic_mean_loss: 1.15864 | prediction_mean_pearson: 0.29635 | entropy_mean_pearson: 0.06973 |\n",
      "----------------------------------------------------------------------------------------------------------------------------------\n",
      "\n",
      "starting epoch 164\n"
     ]
    },
    {
     "data": {
      "application/vnd.jupyter.widget-view+json": {
       "model_id": "",
       "version_major": 2,
       "version_minor": 0
      },
      "text/plain": [
       "Validating: 0it [00:00, ?it/s]"
      ]
     },
     "metadata": {},
     "output_type": "display_data"
    },
    {
     "name": "stdout",
     "output_type": "stream",
     "text": [
      "\n",
      "----------------------------------------------------------------------------------------------------------------------------------\n",
      "| arithmetic_mean_loss: 0.32176 | harmonic_mean_loss: 1.11528 | prediction_mean_pearson: 0.30161 | entropy_mean_pearson: 0.05675 |\n",
      "----------------------------------------------------------------------------------------------------------------------------------\n",
      "\n",
      "starting epoch 165\n"
     ]
    },
    {
     "data": {
      "application/vnd.jupyter.widget-view+json": {
       "model_id": "",
       "version_major": 2,
       "version_minor": 0
      },
      "text/plain": [
       "Validating: 0it [00:00, ?it/s]"
      ]
     },
     "metadata": {},
     "output_type": "display_data"
    },
    {
     "name": "stdout",
     "output_type": "stream",
     "text": [
      "\n",
      "----------------------------------------------------------------------------------------------------------------------------------\n",
      "| arithmetic_mean_loss: 0.31816 | harmonic_mean_loss: 1.10391 | prediction_mean_pearson: 0.30454 | entropy_mean_pearson: 0.06315 |\n",
      "----------------------------------------------------------------------------------------------------------------------------------\n",
      "\n",
      "starting epoch 166\n"
     ]
    },
    {
     "data": {
      "application/vnd.jupyter.widget-view+json": {
       "model_id": "",
       "version_major": 2,
       "version_minor": 0
      },
      "text/plain": [
       "Validating: 0it [00:00, ?it/s]"
      ]
     },
     "metadata": {},
     "output_type": "display_data"
    },
    {
     "name": "stdout",
     "output_type": "stream",
     "text": [
      "\n",
      "----------------------------------------------------------------------------------------------------------------------------------\n",
      "| arithmetic_mean_loss: 0.31561 | harmonic_mean_loss: 1.09709 | prediction_mean_pearson: 0.30570 | entropy_mean_pearson: 0.06749 |\n",
      "----------------------------------------------------------------------------------------------------------------------------------\n",
      "\n",
      "starting epoch 167\n"
     ]
    },
    {
     "data": {
      "application/vnd.jupyter.widget-view+json": {
       "model_id": "",
       "version_major": 2,
       "version_minor": 0
      },
      "text/plain": [
       "Validating: 0it [00:00, ?it/s]"
      ]
     },
     "metadata": {},
     "output_type": "display_data"
    },
    {
     "name": "stdout",
     "output_type": "stream",
     "text": [
      "\n",
      "----------------------------------------------------------------------------------------------------------------------------------\n",
      "| arithmetic_mean_loss: 0.31573 | harmonic_mean_loss: 1.09759 | prediction_mean_pearson: 0.30600 | entropy_mean_pearson: 0.06289 |\n",
      "----------------------------------------------------------------------------------------------------------------------------------\n",
      "\n",
      "starting epoch 168\n"
     ]
    },
    {
     "data": {
      "application/vnd.jupyter.widget-view+json": {
       "model_id": "",
       "version_major": 2,
       "version_minor": 0
      },
      "text/plain": [
       "Validating: 0it [00:00, ?it/s]"
      ]
     },
     "metadata": {},
     "output_type": "display_data"
    },
    {
     "name": "stdout",
     "output_type": "stream",
     "text": [
      "\n",
      "----------------------------------------------------------------------------------------------------------------------------------\n",
      "| arithmetic_mean_loss: 0.31547 | harmonic_mean_loss: 1.09738 | prediction_mean_pearson: 0.30402 | entropy_mean_pearson: 0.07012 |\n",
      "----------------------------------------------------------------------------------------------------------------------------------\n",
      "\n",
      "starting epoch 169\n"
     ]
    },
    {
     "data": {
      "application/vnd.jupyter.widget-view+json": {
       "model_id": "",
       "version_major": 2,
       "version_minor": 0
      },
      "text/plain": [
       "Validating: 0it [00:00, ?it/s]"
      ]
     },
     "metadata": {},
     "output_type": "display_data"
    },
    {
     "name": "stdout",
     "output_type": "stream",
     "text": [
      "\n",
      "----------------------------------------------------------------------------------------------------------------------------------\n",
      "| arithmetic_mean_loss: 0.31538 | harmonic_mean_loss: 1.09670 | prediction_mean_pearson: 0.30500 | entropy_mean_pearson: 0.06724 |\n",
      "----------------------------------------------------------------------------------------------------------------------------------\n",
      "\n",
      "starting epoch 170\n"
     ]
    },
    {
     "data": {
      "application/vnd.jupyter.widget-view+json": {
       "model_id": "",
       "version_major": 2,
       "version_minor": 0
      },
      "text/plain": [
       "Validating: 0it [00:00, ?it/s]"
      ]
     },
     "metadata": {},
     "output_type": "display_data"
    },
    {
     "name": "stdout",
     "output_type": "stream",
     "text": [
      "\n",
      "----------------------------------------------------------------------------------------------------------------------------------\n",
      "| arithmetic_mean_loss: 0.30884 | harmonic_mean_loss: 1.07339 | prediction_mean_pearson: 0.33567 | entropy_mean_pearson: 0.07840 |\n",
      "----------------------------------------------------------------------------------------------------------------------------------\n",
      "\n",
      "starting epoch 171\n"
     ]
    },
    {
     "data": {
      "application/vnd.jupyter.widget-view+json": {
       "model_id": "",
       "version_major": 2,
       "version_minor": 0
      },
      "text/plain": [
       "Validating: 0it [00:00, ?it/s]"
      ]
     },
     "metadata": {},
     "output_type": "display_data"
    },
    {
     "name": "stdout",
     "output_type": "stream",
     "text": [
      "\n",
      "----------------------------------------------------------------------------------------------------------------------------------\n",
      "| arithmetic_mean_loss: 0.30747 | harmonic_mean_loss: 1.06812 | prediction_mean_pearson: 0.35012 | entropy_mean_pearson: 0.08616 |\n",
      "----------------------------------------------------------------------------------------------------------------------------------\n",
      "\n",
      "starting epoch 172\n"
     ]
    },
    {
     "data": {
      "application/vnd.jupyter.widget-view+json": {
       "model_id": "",
       "version_major": 2,
       "version_minor": 0
      },
      "text/plain": [
       "Validating: 0it [00:00, ?it/s]"
      ]
     },
     "metadata": {},
     "output_type": "display_data"
    },
    {
     "name": "stdout",
     "output_type": "stream",
     "text": [
      "\n",
      "----------------------------------------------------------------------------------------------------------------------------------\n",
      "| arithmetic_mean_loss: 0.30379 | harmonic_mean_loss: 1.05409 | prediction_mean_pearson: 0.35852 | entropy_mean_pearson: 0.08785 |\n",
      "----------------------------------------------------------------------------------------------------------------------------------\n",
      "\n",
      "starting epoch 173\n"
     ]
    },
    {
     "data": {
      "application/vnd.jupyter.widget-view+json": {
       "model_id": "",
       "version_major": 2,
       "version_minor": 0
      },
      "text/plain": [
       "Validating: 0it [00:00, ?it/s]"
      ]
     },
     "metadata": {},
     "output_type": "display_data"
    },
    {
     "name": "stdout",
     "output_type": "stream",
     "text": [
      "\n",
      "----------------------------------------------------------------------------------------------------------------------------------\n",
      "| arithmetic_mean_loss: 0.30876 | harmonic_mean_loss: 1.07081 | prediction_mean_pearson: 0.36454 | entropy_mean_pearson: 0.09074 |\n",
      "----------------------------------------------------------------------------------------------------------------------------------\n",
      "\n",
      "starting epoch 174\n"
     ]
    },
    {
     "data": {
      "application/vnd.jupyter.widget-view+json": {
       "model_id": "",
       "version_major": 2,
       "version_minor": 0
      },
      "text/plain": [
       "Validating: 0it [00:00, ?it/s]"
      ]
     },
     "metadata": {},
     "output_type": "display_data"
    },
    {
     "name": "stdout",
     "output_type": "stream",
     "text": [
      "\n",
      "----------------------------------------------------------------------------------------------------------------------------------\n",
      "| arithmetic_mean_loss: 0.30303 | harmonic_mean_loss: 1.05143 | prediction_mean_pearson: 0.36532 | entropy_mean_pearson: 0.08921 |\n",
      "----------------------------------------------------------------------------------------------------------------------------------\n",
      "\n",
      "starting epoch 175\n"
     ]
    },
    {
     "data": {
      "application/vnd.jupyter.widget-view+json": {
       "model_id": "",
       "version_major": 2,
       "version_minor": 0
      },
      "text/plain": [
       "Validating: 0it [00:00, ?it/s]"
      ]
     },
     "metadata": {},
     "output_type": "display_data"
    },
    {
     "name": "stdout",
     "output_type": "stream",
     "text": [
      "\n",
      "----------------------------------------------------------------------------------------------------------------------------------\n",
      "| arithmetic_mean_loss: 0.31114 | harmonic_mean_loss: 1.07811 | prediction_mean_pearson: 0.36578 | entropy_mean_pearson: 0.08456 |\n",
      "----------------------------------------------------------------------------------------------------------------------------------\n",
      "\n",
      "starting epoch 176\n"
     ]
    },
    {
     "data": {
      "application/vnd.jupyter.widget-view+json": {
       "model_id": "",
       "version_major": 2,
       "version_minor": 0
      },
      "text/plain": [
       "Validating: 0it [00:00, ?it/s]"
      ]
     },
     "metadata": {},
     "output_type": "display_data"
    },
    {
     "name": "stdout",
     "output_type": "stream",
     "text": [
      "\n",
      "----------------------------------------------------------------------------------------------------------------------------------\n",
      "| arithmetic_mean_loss: 0.30663 | harmonic_mean_loss: 1.06528 | prediction_mean_pearson: 0.36501 | entropy_mean_pearson: 0.09042 |\n",
      "----------------------------------------------------------------------------------------------------------------------------------\n",
      "\n",
      "starting epoch 177\n"
     ]
    },
    {
     "data": {
      "application/vnd.jupyter.widget-view+json": {
       "model_id": "",
       "version_major": 2,
       "version_minor": 0
      },
      "text/plain": [
       "Validating: 0it [00:00, ?it/s]"
      ]
     },
     "metadata": {},
     "output_type": "display_data"
    },
    {
     "name": "stdout",
     "output_type": "stream",
     "text": [
      "\n",
      "----------------------------------------------------------------------------------------------------------------------------------\n",
      "| arithmetic_mean_loss: 0.30762 | harmonic_mean_loss: 1.06791 | prediction_mean_pearson: 0.37350 | entropy_mean_pearson: 0.09284 |\n",
      "----------------------------------------------------------------------------------------------------------------------------------\n",
      "\n",
      "starting epoch 178\n"
     ]
    },
    {
     "data": {
      "application/vnd.jupyter.widget-view+json": {
       "model_id": "",
       "version_major": 2,
       "version_minor": 0
      },
      "text/plain": [
       "Validating: 0it [00:00, ?it/s]"
      ]
     },
     "metadata": {},
     "output_type": "display_data"
    },
    {
     "name": "stdout",
     "output_type": "stream",
     "text": [
      "\n",
      "----------------------------------------------------------------------------------------------------------------------------------\n",
      "| arithmetic_mean_loss: 0.30520 | harmonic_mean_loss: 1.05897 | prediction_mean_pearson: 0.37124 | entropy_mean_pearson: 0.08862 |\n",
      "----------------------------------------------------------------------------------------------------------------------------------\n",
      "\n",
      "starting epoch 179\n"
     ]
    },
    {
     "data": {
      "application/vnd.jupyter.widget-view+json": {
       "model_id": "",
       "version_major": 2,
       "version_minor": 0
      },
      "text/plain": [
       "Validating: 0it [00:00, ?it/s]"
      ]
     },
     "metadata": {},
     "output_type": "display_data"
    },
    {
     "name": "stdout",
     "output_type": "stream",
     "text": [
      "\n",
      "----------------------------------------------------------------------------------------------------------------------------------\n",
      "| arithmetic_mean_loss: 0.30344 | harmonic_mean_loss: 1.05426 | prediction_mean_pearson: 0.37908 | entropy_mean_pearson: 0.09287 |\n",
      "----------------------------------------------------------------------------------------------------------------------------------\n",
      "\n",
      "starting epoch 180\n"
     ]
    },
    {
     "data": {
      "application/vnd.jupyter.widget-view+json": {
       "model_id": "",
       "version_major": 2,
       "version_minor": 0
      },
      "text/plain": [
       "Validating: 0it [00:00, ?it/s]"
      ]
     },
     "metadata": {},
     "output_type": "display_data"
    },
    {
     "name": "stdout",
     "output_type": "stream",
     "text": [
      "\n",
      "----------------------------------------------------------------------------------------------------------------------------------\n",
      "| arithmetic_mean_loss: 0.30426 | harmonic_mean_loss: 1.05530 | prediction_mean_pearson: 0.37083 | entropy_mean_pearson: 0.08861 |\n",
      "----------------------------------------------------------------------------------------------------------------------------------\n",
      "\n",
      "starting epoch 181\n"
     ]
    },
    {
     "data": {
      "application/vnd.jupyter.widget-view+json": {
       "model_id": "",
       "version_major": 2,
       "version_minor": 0
      },
      "text/plain": [
       "Validating: 0it [00:00, ?it/s]"
      ]
     },
     "metadata": {},
     "output_type": "display_data"
    },
    {
     "name": "stdout",
     "output_type": "stream",
     "text": [
      "\n",
      "----------------------------------------------------------------------------------------------------------------------------------\n",
      "| arithmetic_mean_loss: 0.30304 | harmonic_mean_loss: 1.05136 | prediction_mean_pearson: 0.38145 | entropy_mean_pearson: 0.09382 |\n",
      "----------------------------------------------------------------------------------------------------------------------------------\n",
      "\n",
      "starting epoch 182\n"
     ]
    },
    {
     "data": {
      "application/vnd.jupyter.widget-view+json": {
       "model_id": "",
       "version_major": 2,
       "version_minor": 0
      },
      "text/plain": [
       "Validating: 0it [00:00, ?it/s]"
      ]
     },
     "metadata": {},
     "output_type": "display_data"
    },
    {
     "name": "stdout",
     "output_type": "stream",
     "text": [
      "\n",
      "----------------------------------------------------------------------------------------------------------------------------------\n",
      "| arithmetic_mean_loss: 0.30308 | harmonic_mean_loss: 1.05088 | prediction_mean_pearson: 0.38178 | entropy_mean_pearson: 0.10081 |\n",
      "----------------------------------------------------------------------------------------------------------------------------------\n",
      "\n",
      "starting epoch 183\n"
     ]
    },
    {
     "data": {
      "application/vnd.jupyter.widget-view+json": {
       "model_id": "",
       "version_major": 2,
       "version_minor": 0
      },
      "text/plain": [
       "Validating: 0it [00:00, ?it/s]"
      ]
     },
     "metadata": {},
     "output_type": "display_data"
    },
    {
     "name": "stdout",
     "output_type": "stream",
     "text": [
      "\n",
      "----------------------------------------------------------------------------------------------------------------------------------\n",
      "| arithmetic_mean_loss: 0.30162 | harmonic_mean_loss: 1.04628 | prediction_mean_pearson: 0.38758 | entropy_mean_pearson: 0.10021 |\n",
      "----------------------------------------------------------------------------------------------------------------------------------\n",
      "\n",
      "starting epoch 184\n"
     ]
    },
    {
     "data": {
      "application/vnd.jupyter.widget-view+json": {
       "model_id": "",
       "version_major": 2,
       "version_minor": 0
      },
      "text/plain": [
       "Validating: 0it [00:00, ?it/s]"
      ]
     },
     "metadata": {},
     "output_type": "display_data"
    },
    {
     "name": "stdout",
     "output_type": "stream",
     "text": [
      "\n",
      "----------------------------------------------------------------------------------------------------------------------------------\n",
      "| arithmetic_mean_loss: 0.30109 | harmonic_mean_loss: 1.04578 | prediction_mean_pearson: 0.39068 | entropy_mean_pearson: 0.10271 |\n",
      "----------------------------------------------------------------------------------------------------------------------------------\n",
      "\n",
      "starting epoch 185\n"
     ]
    },
    {
     "data": {
      "application/vnd.jupyter.widget-view+json": {
       "model_id": "",
       "version_major": 2,
       "version_minor": 0
      },
      "text/plain": [
       "Validating: 0it [00:00, ?it/s]"
      ]
     },
     "metadata": {},
     "output_type": "display_data"
    },
    {
     "name": "stdout",
     "output_type": "stream",
     "text": [
      "\n",
      "----------------------------------------------------------------------------------------------------------------------------------\n",
      "| arithmetic_mean_loss: 0.30526 | harmonic_mean_loss: 1.06009 | prediction_mean_pearson: 0.38521 | entropy_mean_pearson: 0.10238 |\n",
      "----------------------------------------------------------------------------------------------------------------------------------\n",
      "\n",
      "starting epoch 186\n"
     ]
    },
    {
     "data": {
      "application/vnd.jupyter.widget-view+json": {
       "model_id": "",
       "version_major": 2,
       "version_minor": 0
      },
      "text/plain": [
       "Validating: 0it [00:00, ?it/s]"
      ]
     },
     "metadata": {},
     "output_type": "display_data"
    },
    {
     "name": "stdout",
     "output_type": "stream",
     "text": [
      "\n",
      "----------------------------------------------------------------------------------------------------------------------------------\n",
      "| arithmetic_mean_loss: 0.30063 | harmonic_mean_loss: 1.04179 | prediction_mean_pearson: 0.39554 | entropy_mean_pearson: 0.10849 |\n",
      "----------------------------------------------------------------------------------------------------------------------------------\n",
      "\n",
      "starting epoch 187\n"
     ]
    },
    {
     "data": {
      "application/vnd.jupyter.widget-view+json": {
       "model_id": "",
       "version_major": 2,
       "version_minor": 0
      },
      "text/plain": [
       "Validating: 0it [00:00, ?it/s]"
      ]
     },
     "metadata": {},
     "output_type": "display_data"
    },
    {
     "name": "stdout",
     "output_type": "stream",
     "text": [
      "\n",
      "----------------------------------------------------------------------------------------------------------------------------------\n",
      "| arithmetic_mean_loss: 0.30508 | harmonic_mean_loss: 1.05508 | prediction_mean_pearson: 0.40146 | entropy_mean_pearson: 0.11674 |\n",
      "----------------------------------------------------------------------------------------------------------------------------------\n",
      "\n",
      "starting epoch 188\n"
     ]
    },
    {
     "data": {
      "application/vnd.jupyter.widget-view+json": {
       "model_id": "",
       "version_major": 2,
       "version_minor": 0
      },
      "text/plain": [
       "Validating: 0it [00:00, ?it/s]"
      ]
     },
     "metadata": {},
     "output_type": "display_data"
    },
    {
     "name": "stdout",
     "output_type": "stream",
     "text": [
      "\n",
      "----------------------------------------------------------------------------------------------------------------------------------\n",
      "| arithmetic_mean_loss: 0.30121 | harmonic_mean_loss: 1.04458 | prediction_mean_pearson: 0.40989 | entropy_mean_pearson: 0.11639 |\n",
      "----------------------------------------------------------------------------------------------------------------------------------\n",
      "\n",
      "starting epoch 189\n"
     ]
    },
    {
     "data": {
      "application/vnd.jupyter.widget-view+json": {
       "model_id": "",
       "version_major": 2,
       "version_minor": 0
      },
      "text/plain": [
       "Validating: 0it [00:00, ?it/s]"
      ]
     },
     "metadata": {},
     "output_type": "display_data"
    },
    {
     "name": "stdout",
     "output_type": "stream",
     "text": [
      "\n",
      "----------------------------------------------------------------------------------------------------------------------------------\n",
      "| arithmetic_mean_loss: 0.33794 | harmonic_mean_loss: 1.18468 | prediction_mean_pearson: 0.36635 | entropy_mean_pearson: 0.10336 |\n",
      "----------------------------------------------------------------------------------------------------------------------------------\n",
      "\n",
      "starting epoch 190\n"
     ]
    },
    {
     "data": {
      "application/vnd.jupyter.widget-view+json": {
       "model_id": "",
       "version_major": 2,
       "version_minor": 0
      },
      "text/plain": [
       "Validating: 0it [00:00, ?it/s]"
      ]
     },
     "metadata": {},
     "output_type": "display_data"
    },
    {
     "name": "stdout",
     "output_type": "stream",
     "text": [
      "\n",
      "----------------------------------------------------------------------------------------------------------------------------------\n",
      "| arithmetic_mean_loss: 0.30023 | harmonic_mean_loss: 1.04442 | prediction_mean_pearson: 0.41420 | entropy_mean_pearson: 0.12151 |\n",
      "----------------------------------------------------------------------------------------------------------------------------------\n",
      "\n",
      "starting epoch 191\n"
     ]
    },
    {
     "data": {
      "application/vnd.jupyter.widget-view+json": {
       "model_id": "",
       "version_major": 2,
       "version_minor": 0
      },
      "text/plain": [
       "Validating: 0it [00:00, ?it/s]"
      ]
     },
     "metadata": {},
     "output_type": "display_data"
    },
    {
     "name": "stdout",
     "output_type": "stream",
     "text": [
      "\n",
      "----------------------------------------------------------------------------------------------------------------------------------\n",
      "| arithmetic_mean_loss: 0.30279 | harmonic_mean_loss: 1.05005 | prediction_mean_pearson: 0.41172 | entropy_mean_pearson: 0.11921 |\n",
      "----------------------------------------------------------------------------------------------------------------------------------\n",
      "\n",
      "starting epoch 192\n"
     ]
    },
    {
     "data": {
      "application/vnd.jupyter.widget-view+json": {
       "model_id": "",
       "version_major": 2,
       "version_minor": 0
      },
      "text/plain": [
       "Validating: 0it [00:00, ?it/s]"
      ]
     },
     "metadata": {},
     "output_type": "display_data"
    },
    {
     "name": "stdout",
     "output_type": "stream",
     "text": [
      "\n",
      "----------------------------------------------------------------------------------------------------------------------------------\n",
      "| arithmetic_mean_loss: 0.32112 | harmonic_mean_loss: 1.11813 | prediction_mean_pearson: 0.40149 | entropy_mean_pearson: 0.12086 |\n",
      "----------------------------------------------------------------------------------------------------------------------------------\n",
      "\n",
      "starting epoch 193\n"
     ]
    },
    {
     "data": {
      "application/vnd.jupyter.widget-view+json": {
       "model_id": "",
       "version_major": 2,
       "version_minor": 0
      },
      "text/plain": [
       "Validating: 0it [00:00, ?it/s]"
      ]
     },
     "metadata": {},
     "output_type": "display_data"
    },
    {
     "name": "stdout",
     "output_type": "stream",
     "text": [
      "\n",
      "----------------------------------------------------------------------------------------------------------------------------------\n",
      "| arithmetic_mean_loss: 0.30720 | harmonic_mean_loss: 1.06793 | prediction_mean_pearson: 0.41654 | entropy_mean_pearson: 0.12679 |\n",
      "----------------------------------------------------------------------------------------------------------------------------------\n",
      "\n",
      "starting epoch 194\n"
     ]
    },
    {
     "data": {
      "application/vnd.jupyter.widget-view+json": {
       "model_id": "",
       "version_major": 2,
       "version_minor": 0
      },
      "text/plain": [
       "Validating: 0it [00:00, ?it/s]"
      ]
     },
     "metadata": {},
     "output_type": "display_data"
    },
    {
     "name": "stdout",
     "output_type": "stream",
     "text": [
      "\n",
      "----------------------------------------------------------------------------------------------------------------------------------\n",
      "| arithmetic_mean_loss: 0.30119 | harmonic_mean_loss: 1.04787 | prediction_mean_pearson: 0.41655 | entropy_mean_pearson: 0.12617 |\n",
      "----------------------------------------------------------------------------------------------------------------------------------\n",
      "\n",
      "starting epoch 195\n"
     ]
    },
    {
     "data": {
      "application/vnd.jupyter.widget-view+json": {
       "model_id": "",
       "version_major": 2,
       "version_minor": 0
      },
      "text/plain": [
       "Validating: 0it [00:00, ?it/s]"
      ]
     },
     "metadata": {},
     "output_type": "display_data"
    },
    {
     "name": "stdout",
     "output_type": "stream",
     "text": [
      "\n",
      "----------------------------------------------------------------------------------------------------------------------------------\n",
      "| arithmetic_mean_loss: 0.34604 | harmonic_mean_loss: 1.20428 | prediction_mean_pearson: 0.40520 | entropy_mean_pearson: 0.12830 |\n",
      "----------------------------------------------------------------------------------------------------------------------------------\n",
      "\n",
      "starting epoch 196\n"
     ]
    },
    {
     "data": {
      "application/vnd.jupyter.widget-view+json": {
       "model_id": "",
       "version_major": 2,
       "version_minor": 0
      },
      "text/plain": [
       "Validating: 0it [00:00, ?it/s]"
      ]
     },
     "metadata": {},
     "output_type": "display_data"
    },
    {
     "name": "stdout",
     "output_type": "stream",
     "text": [
      "\n",
      "----------------------------------------------------------------------------------------------------------------------------------\n",
      "| arithmetic_mean_loss: 0.32188 | harmonic_mean_loss: 1.12443 | prediction_mean_pearson: 0.38102 | entropy_mean_pearson: 0.12884 |\n",
      "----------------------------------------------------------------------------------------------------------------------------------\n",
      "\n",
      "starting epoch 197\n"
     ]
    },
    {
     "data": {
      "application/vnd.jupyter.widget-view+json": {
       "model_id": "",
       "version_major": 2,
       "version_minor": 0
      },
      "text/plain": [
       "Validating: 0it [00:00, ?it/s]"
      ]
     },
     "metadata": {},
     "output_type": "display_data"
    },
    {
     "name": "stdout",
     "output_type": "stream",
     "text": [
      "\n",
      "----------------------------------------------------------------------------------------------------------------------------------\n",
      "| arithmetic_mean_loss: 0.32029 | harmonic_mean_loss: 1.12358 | prediction_mean_pearson: 0.40831 | entropy_mean_pearson: 0.12547 |\n",
      "----------------------------------------------------------------------------------------------------------------------------------\n",
      "\n",
      "starting epoch 198\n"
     ]
    },
    {
     "data": {
      "application/vnd.jupyter.widget-view+json": {
       "model_id": "",
       "version_major": 2,
       "version_minor": 0
      },
      "text/plain": [
       "Validating: 0it [00:00, ?it/s]"
      ]
     },
     "metadata": {},
     "output_type": "display_data"
    },
    {
     "name": "stdout",
     "output_type": "stream",
     "text": [
      "\n",
      "----------------------------------------------------------------------------------------------------------------------------------\n",
      "| arithmetic_mean_loss: 0.30813 | harmonic_mean_loss: 1.07508 | prediction_mean_pearson: 0.40986 | entropy_mean_pearson: 0.12539 |\n",
      "----------------------------------------------------------------------------------------------------------------------------------\n",
      "\n",
      "starting epoch 199\n"
     ]
    },
    {
     "data": {
      "application/vnd.jupyter.widget-view+json": {
       "model_id": "",
       "version_major": 2,
       "version_minor": 0
      },
      "text/plain": [
       "Validating: 0it [00:00, ?it/s]"
      ]
     },
     "metadata": {},
     "output_type": "display_data"
    },
    {
     "name": "stdout",
     "output_type": "stream",
     "text": [
      "\n",
      "----------------------------------------------------------------------------------------------------------------------------------\n",
      "| arithmetic_mean_loss: 0.32279 | harmonic_mean_loss: 1.12502 | prediction_mean_pearson: 0.40149 | entropy_mean_pearson: 0.11701 |\n",
      "----------------------------------------------------------------------------------------------------------------------------------\n",
      "\n",
      "starting epoch 200\n"
     ]
    },
    {
     "data": {
      "application/vnd.jupyter.widget-view+json": {
       "model_id": "",
       "version_major": 2,
       "version_minor": 0
      },
      "text/plain": [
       "Validating: 0it [00:00, ?it/s]"
      ]
     },
     "metadata": {},
     "output_type": "display_data"
    },
    {
     "name": "stdout",
     "output_type": "stream",
     "text": [
      "\n",
      "----------------------------------------------------------------------------------------------------------------------------------\n",
      "| arithmetic_mean_loss: 0.30513 | harmonic_mean_loss: 1.06185 | prediction_mean_pearson: 0.39861 | entropy_mean_pearson: 0.12228 |\n",
      "----------------------------------------------------------------------------------------------------------------------------------\n",
      "\n",
      "starting epoch 201\n"
     ]
    },
    {
     "data": {
      "application/vnd.jupyter.widget-view+json": {
       "model_id": "",
       "version_major": 2,
       "version_minor": 0
      },
      "text/plain": [
       "Validating: 0it [00:00, ?it/s]"
      ]
     },
     "metadata": {},
     "output_type": "display_data"
    },
    {
     "name": "stdout",
     "output_type": "stream",
     "text": [
      "\n",
      "----------------------------------------------------------------------------------------------------------------------------------\n",
      "| arithmetic_mean_loss: 0.31822 | harmonic_mean_loss: 1.10773 | prediction_mean_pearson: 0.41234 | entropy_mean_pearson: 0.13062 |\n",
      "----------------------------------------------------------------------------------------------------------------------------------\n",
      "\n",
      "starting epoch 202\n"
     ]
    },
    {
     "data": {
      "application/vnd.jupyter.widget-view+json": {
       "model_id": "",
       "version_major": 2,
       "version_minor": 0
      },
      "text/plain": [
       "Validating: 0it [00:00, ?it/s]"
      ]
     },
     "metadata": {},
     "output_type": "display_data"
    },
    {
     "name": "stdout",
     "output_type": "stream",
     "text": [
      "\n",
      "----------------------------------------------------------------------------------------------------------------------------------\n",
      "| arithmetic_mean_loss: 0.31420 | harmonic_mean_loss: 1.09432 | prediction_mean_pearson: 0.39160 | entropy_mean_pearson: 0.11804 |\n",
      "----------------------------------------------------------------------------------------------------------------------------------\n",
      "\n",
      "starting epoch 203\n"
     ]
    },
    {
     "data": {
      "application/vnd.jupyter.widget-view+json": {
       "model_id": "",
       "version_major": 2,
       "version_minor": 0
      },
      "text/plain": [
       "Validating: 0it [00:00, ?it/s]"
      ]
     },
     "metadata": {},
     "output_type": "display_data"
    },
    {
     "name": "stdout",
     "output_type": "stream",
     "text": [
      "\n",
      "----------------------------------------------------------------------------------------------------------------------------------\n",
      "| arithmetic_mean_loss: 0.36275 | harmonic_mean_loss: 1.27494 | prediction_mean_pearson: 0.40189 | entropy_mean_pearson: 0.13204 |\n",
      "----------------------------------------------------------------------------------------------------------------------------------\n",
      "\n",
      "starting epoch 204\n"
     ]
    },
    {
     "data": {
      "application/vnd.jupyter.widget-view+json": {
       "model_id": "",
       "version_major": 2,
       "version_minor": 0
      },
      "text/plain": [
       "Validating: 0it [00:00, ?it/s]"
      ]
     },
     "metadata": {},
     "output_type": "display_data"
    },
    {
     "name": "stdout",
     "output_type": "stream",
     "text": [
      "\n",
      "----------------------------------------------------------------------------------------------------------------------------------\n",
      "| arithmetic_mean_loss: 0.31098 | harmonic_mean_loss: 1.08443 | prediction_mean_pearson: 0.42389 | entropy_mean_pearson: 0.12997 |\n",
      "----------------------------------------------------------------------------------------------------------------------------------\n",
      "\n",
      "starting epoch 205\n"
     ]
    },
    {
     "data": {
      "application/vnd.jupyter.widget-view+json": {
       "model_id": "",
       "version_major": 2,
       "version_minor": 0
      },
      "text/plain": [
       "Validating: 0it [00:00, ?it/s]"
      ]
     },
     "metadata": {},
     "output_type": "display_data"
    },
    {
     "name": "stdout",
     "output_type": "stream",
     "text": [
      "\n",
      "----------------------------------------------------------------------------------------------------------------------------------\n",
      "| arithmetic_mean_loss: 0.30803 | harmonic_mean_loss: 1.07227 | prediction_mean_pearson: 0.41515 | entropy_mean_pearson: 0.13391 |\n",
      "----------------------------------------------------------------------------------------------------------------------------------\n",
      "\n",
      "starting epoch 206\n"
     ]
    },
    {
     "data": {
      "application/vnd.jupyter.widget-view+json": {
       "model_id": "",
       "version_major": 2,
       "version_minor": 0
      },
      "text/plain": [
       "Validating: 0it [00:00, ?it/s]"
      ]
     },
     "metadata": {},
     "output_type": "display_data"
    },
    {
     "name": "stdout",
     "output_type": "stream",
     "text": [
      "\n",
      "----------------------------------------------------------------------------------------------------------------------------------\n",
      "| arithmetic_mean_loss: 0.32515 | harmonic_mean_loss: 1.13285 | prediction_mean_pearson: 0.40803 | entropy_mean_pearson: 0.13471 |\n",
      "----------------------------------------------------------------------------------------------------------------------------------\n",
      "\n",
      "starting epoch 207\n"
     ]
    },
    {
     "data": {
      "application/vnd.jupyter.widget-view+json": {
       "model_id": "",
       "version_major": 2,
       "version_minor": 0
      },
      "text/plain": [
       "Validating: 0it [00:00, ?it/s]"
      ]
     },
     "metadata": {},
     "output_type": "display_data"
    },
    {
     "name": "stdout",
     "output_type": "stream",
     "text": [
      "\n",
      "----------------------------------------------------------------------------------------------------------------------------------\n",
      "| arithmetic_mean_loss: 0.30506 | harmonic_mean_loss: 1.06297 | prediction_mean_pearson: 0.41118 | entropy_mean_pearson: 0.13096 |\n",
      "----------------------------------------------------------------------------------------------------------------------------------\n",
      "\n",
      "starting epoch 208\n"
     ]
    },
    {
     "data": {
      "application/vnd.jupyter.widget-view+json": {
       "model_id": "",
       "version_major": 2,
       "version_minor": 0
      },
      "text/plain": [
       "Validating: 0it [00:00, ?it/s]"
      ]
     },
     "metadata": {},
     "output_type": "display_data"
    },
    {
     "name": "stdout",
     "output_type": "stream",
     "text": [
      "\n",
      "----------------------------------------------------------------------------------------------------------------------------------\n",
      "| arithmetic_mean_loss: 0.30936 | harmonic_mean_loss: 1.07290 | prediction_mean_pearson: 0.41865 | entropy_mean_pearson: 0.12881 |\n",
      "----------------------------------------------------------------------------------------------------------------------------------\n",
      "\n",
      "starting epoch 209\n"
     ]
    },
    {
     "data": {
      "application/vnd.jupyter.widget-view+json": {
       "model_id": "",
       "version_major": 2,
       "version_minor": 0
      },
      "text/plain": [
       "Validating: 0it [00:00, ?it/s]"
      ]
     },
     "metadata": {},
     "output_type": "display_data"
    },
    {
     "name": "stdout",
     "output_type": "stream",
     "text": [
      "\n",
      "----------------------------------------------------------------------------------------------------------------------------------\n",
      "| arithmetic_mean_loss: 0.30948 | harmonic_mean_loss: 1.07814 | prediction_mean_pearson: 0.40380 | entropy_mean_pearson: 0.11888 |\n",
      "----------------------------------------------------------------------------------------------------------------------------------\n",
      "\n",
      "starting epoch 210\n"
     ]
    },
    {
     "data": {
      "application/vnd.jupyter.widget-view+json": {
       "model_id": "",
       "version_major": 2,
       "version_minor": 0
      },
      "text/plain": [
       "Validating: 0it [00:00, ?it/s]"
      ]
     },
     "metadata": {},
     "output_type": "display_data"
    },
    {
     "name": "stdout",
     "output_type": "stream",
     "text": [
      "\n",
      "----------------------------------------------------------------------------------------------------------------------------------\n",
      "| arithmetic_mean_loss: 0.30976 | harmonic_mean_loss: 1.08157 | prediction_mean_pearson: 0.41406 | entropy_mean_pearson: 0.12848 |\n",
      "----------------------------------------------------------------------------------------------------------------------------------\n",
      "\n",
      "starting epoch 211\n"
     ]
    },
    {
     "data": {
      "application/vnd.jupyter.widget-view+json": {
       "model_id": "",
       "version_major": 2,
       "version_minor": 0
      },
      "text/plain": [
       "Validating: 0it [00:00, ?it/s]"
      ]
     },
     "metadata": {},
     "output_type": "display_data"
    },
    {
     "name": "stdout",
     "output_type": "stream",
     "text": [
      "\n",
      "----------------------------------------------------------------------------------------------------------------------------------\n",
      "| arithmetic_mean_loss: 0.30832 | harmonic_mean_loss: 1.07232 | prediction_mean_pearson: 0.41831 | entropy_mean_pearson: 0.13271 |\n",
      "----------------------------------------------------------------------------------------------------------------------------------\n",
      "\n",
      "starting epoch 212\n"
     ]
    },
    {
     "data": {
      "application/vnd.jupyter.widget-view+json": {
       "model_id": "",
       "version_major": 2,
       "version_minor": 0
      },
      "text/plain": [
       "Validating: 0it [00:00, ?it/s]"
      ]
     },
     "metadata": {},
     "output_type": "display_data"
    },
    {
     "name": "stdout",
     "output_type": "stream",
     "text": [
      "\n",
      "----------------------------------------------------------------------------------------------------------------------------------\n",
      "| arithmetic_mean_loss: 0.30534 | harmonic_mean_loss: 1.05836 | prediction_mean_pearson: 0.41060 | entropy_mean_pearson: 0.12464 |\n",
      "----------------------------------------------------------------------------------------------------------------------------------\n",
      "\n",
      "starting epoch 213\n"
     ]
    },
    {
     "data": {
      "application/vnd.jupyter.widget-view+json": {
       "model_id": "",
       "version_major": 2,
       "version_minor": 0
      },
      "text/plain": [
       "Validating: 0it [00:00, ?it/s]"
      ]
     },
     "metadata": {},
     "output_type": "display_data"
    },
    {
     "name": "stdout",
     "output_type": "stream",
     "text": [
      "\n",
      "----------------------------------------------------------------------------------------------------------------------------------\n",
      "| arithmetic_mean_loss: 0.32029 | harmonic_mean_loss: 1.11718 | prediction_mean_pearson: 0.39920 | entropy_mean_pearson: 0.12418 |\n",
      "----------------------------------------------------------------------------------------------------------------------------------\n",
      "\n",
      "starting epoch 214\n"
     ]
    },
    {
     "data": {
      "application/vnd.jupyter.widget-view+json": {
       "model_id": "",
       "version_major": 2,
       "version_minor": 0
      },
      "text/plain": [
       "Validating: 0it [00:00, ?it/s]"
      ]
     },
     "metadata": {},
     "output_type": "display_data"
    },
    {
     "name": "stdout",
     "output_type": "stream",
     "text": [
      "\n",
      "----------------------------------------------------------------------------------------------------------------------------------\n",
      "| arithmetic_mean_loss: 0.30940 | harmonic_mean_loss: 1.07771 | prediction_mean_pearson: 0.41597 | entropy_mean_pearson: 0.13379 |\n",
      "----------------------------------------------------------------------------------------------------------------------------------\n",
      "\n",
      "starting epoch 215\n"
     ]
    },
    {
     "data": {
      "application/vnd.jupyter.widget-view+json": {
       "model_id": "",
       "version_major": 2,
       "version_minor": 0
      },
      "text/plain": [
       "Validating: 0it [00:00, ?it/s]"
      ]
     },
     "metadata": {},
     "output_type": "display_data"
    },
    {
     "name": "stdout",
     "output_type": "stream",
     "text": [
      "\n",
      "----------------------------------------------------------------------------------------------------------------------------------\n",
      "| arithmetic_mean_loss: 0.30598 | harmonic_mean_loss: 1.06411 | prediction_mean_pearson: 0.41940 | entropy_mean_pearson: 0.13314 |\n",
      "----------------------------------------------------------------------------------------------------------------------------------\n",
      "\n",
      "starting epoch 216\n"
     ]
    },
    {
     "data": {
      "application/vnd.jupyter.widget-view+json": {
       "model_id": "",
       "version_major": 2,
       "version_minor": 0
      },
      "text/plain": [
       "Validating: 0it [00:00, ?it/s]"
      ]
     },
     "metadata": {},
     "output_type": "display_data"
    },
    {
     "name": "stdout",
     "output_type": "stream",
     "text": [
      "\n",
      "----------------------------------------------------------------------------------------------------------------------------------\n",
      "| arithmetic_mean_loss: 0.31360 | harmonic_mean_loss: 1.09333 | prediction_mean_pearson: 0.41068 | entropy_mean_pearson: 0.12922 |\n",
      "----------------------------------------------------------------------------------------------------------------------------------\n",
      "\n",
      "starting epoch 217\n"
     ]
    },
    {
     "data": {
      "application/vnd.jupyter.widget-view+json": {
       "model_id": "",
       "version_major": 2,
       "version_minor": 0
      },
      "text/plain": [
       "Validating: 0it [00:00, ?it/s]"
      ]
     },
     "metadata": {},
     "output_type": "display_data"
    },
    {
     "name": "stdout",
     "output_type": "stream",
     "text": [
      "\n",
      "----------------------------------------------------------------------------------------------------------------------------------\n",
      "| arithmetic_mean_loss: 0.31079 | harmonic_mean_loss: 1.08233 | prediction_mean_pearson: 0.42161 | entropy_mean_pearson: 0.13372 |\n",
      "----------------------------------------------------------------------------------------------------------------------------------\n",
      "\n",
      "starting epoch 218\n"
     ]
    },
    {
     "data": {
      "application/vnd.jupyter.widget-view+json": {
       "model_id": "",
       "version_major": 2,
       "version_minor": 0
      },
      "text/plain": [
       "Validating: 0it [00:00, ?it/s]"
      ]
     },
     "metadata": {},
     "output_type": "display_data"
    },
    {
     "name": "stdout",
     "output_type": "stream",
     "text": [
      "\n",
      "----------------------------------------------------------------------------------------------------------------------------------\n",
      "| arithmetic_mean_loss: 0.33675 | harmonic_mean_loss: 1.18065 | prediction_mean_pearson: 0.41597 | entropy_mean_pearson: 0.13814 |\n",
      "----------------------------------------------------------------------------------------------------------------------------------\n",
      "\n",
      "starting epoch 219\n"
     ]
    },
    {
     "data": {
      "application/vnd.jupyter.widget-view+json": {
       "model_id": "",
       "version_major": 2,
       "version_minor": 0
      },
      "text/plain": [
       "Validating: 0it [00:00, ?it/s]"
      ]
     },
     "metadata": {},
     "output_type": "display_data"
    },
    {
     "name": "stdout",
     "output_type": "stream",
     "text": [
      "\n",
      "----------------------------------------------------------------------------------------------------------------------------------\n",
      "| arithmetic_mean_loss: 0.30501 | harmonic_mean_loss: 1.06031 | prediction_mean_pearson: 0.41152 | entropy_mean_pearson: 0.13143 |\n",
      "----------------------------------------------------------------------------------------------------------------------------------\n",
      "\n",
      "starting epoch 220\n"
     ]
    },
    {
     "data": {
      "application/vnd.jupyter.widget-view+json": {
       "model_id": "",
       "version_major": 2,
       "version_minor": 0
      },
      "text/plain": [
       "Validating: 0it [00:00, ?it/s]"
      ]
     },
     "metadata": {},
     "output_type": "display_data"
    },
    {
     "name": "stdout",
     "output_type": "stream",
     "text": [
      "\n",
      "----------------------------------------------------------------------------------------------------------------------------------\n",
      "| arithmetic_mean_loss: 0.32520 | harmonic_mean_loss: 1.13163 | prediction_mean_pearson: 0.40675 | entropy_mean_pearson: 0.13142 |\n",
      "----------------------------------------------------------------------------------------------------------------------------------\n",
      "\n",
      "starting epoch 221\n"
     ]
    },
    {
     "data": {
      "application/vnd.jupyter.widget-view+json": {
       "model_id": "",
       "version_major": 2,
       "version_minor": 0
      },
      "text/plain": [
       "Validating: 0it [00:00, ?it/s]"
      ]
     },
     "metadata": {},
     "output_type": "display_data"
    },
    {
     "name": "stdout",
     "output_type": "stream",
     "text": [
      "\n",
      "----------------------------------------------------------------------------------------------------------------------------------\n",
      "| arithmetic_mean_loss: 0.30537 | harmonic_mean_loss: 1.06012 | prediction_mean_pearson: 0.41517 | entropy_mean_pearson: 0.14028 |\n",
      "----------------------------------------------------------------------------------------------------------------------------------\n",
      "\n",
      "starting epoch 222\n"
     ]
    },
    {
     "data": {
      "application/vnd.jupyter.widget-view+json": {
       "model_id": "",
       "version_major": 2,
       "version_minor": 0
      },
      "text/plain": [
       "Validating: 0it [00:00, ?it/s]"
      ]
     },
     "metadata": {},
     "output_type": "display_data"
    },
    {
     "name": "stdout",
     "output_type": "stream",
     "text": [
      "\n",
      "----------------------------------------------------------------------------------------------------------------------------------\n",
      "| arithmetic_mean_loss: 0.31551 | harmonic_mean_loss: 1.09882 | prediction_mean_pearson: 0.41390 | entropy_mean_pearson: 0.13846 |\n",
      "----------------------------------------------------------------------------------------------------------------------------------\n",
      "\n",
      "starting epoch 223\n"
     ]
    },
    {
     "data": {
      "application/vnd.jupyter.widget-view+json": {
       "model_id": "",
       "version_major": 2,
       "version_minor": 0
      },
      "text/plain": [
       "Validating: 0it [00:00, ?it/s]"
      ]
     },
     "metadata": {},
     "output_type": "display_data"
    },
    {
     "name": "stdout",
     "output_type": "stream",
     "text": [
      "\n",
      "----------------------------------------------------------------------------------------------------------------------------------\n",
      "| arithmetic_mean_loss: 0.31659 | harmonic_mean_loss: 1.10433 | prediction_mean_pearson: 0.42591 | entropy_mean_pearson: 0.13825 |\n",
      "----------------------------------------------------------------------------------------------------------------------------------\n",
      "\n",
      "starting epoch 224\n"
     ]
    },
    {
     "data": {
      "application/vnd.jupyter.widget-view+json": {
       "model_id": "",
       "version_major": 2,
       "version_minor": 0
      },
      "text/plain": [
       "Validating: 0it [00:00, ?it/s]"
      ]
     },
     "metadata": {},
     "output_type": "display_data"
    },
    {
     "name": "stdout",
     "output_type": "stream",
     "text": [
      "\n",
      "----------------------------------------------------------------------------------------------------------------------------------\n",
      "| arithmetic_mean_loss: 0.31171 | harmonic_mean_loss: 1.08515 | prediction_mean_pearson: 0.41056 | entropy_mean_pearson: 0.13078 |\n",
      "----------------------------------------------------------------------------------------------------------------------------------\n",
      "\n",
      "starting epoch 225\n"
     ]
    },
    {
     "data": {
      "application/vnd.jupyter.widget-view+json": {
       "model_id": "",
       "version_major": 2,
       "version_minor": 0
      },
      "text/plain": [
       "Validating: 0it [00:00, ?it/s]"
      ]
     },
     "metadata": {},
     "output_type": "display_data"
    },
    {
     "name": "stdout",
     "output_type": "stream",
     "text": [
      "\n",
      "----------------------------------------------------------------------------------------------------------------------------------\n",
      "| arithmetic_mean_loss: 0.31336 | harmonic_mean_loss: 1.09152 | prediction_mean_pearson: 0.41556 | entropy_mean_pearson: 0.11842 |\n",
      "----------------------------------------------------------------------------------------------------------------------------------\n",
      "\n",
      "starting epoch 226\n"
     ]
    },
    {
     "data": {
      "application/vnd.jupyter.widget-view+json": {
       "model_id": "",
       "version_major": 2,
       "version_minor": 0
      },
      "text/plain": [
       "Validating: 0it [00:00, ?it/s]"
      ]
     },
     "metadata": {},
     "output_type": "display_data"
    },
    {
     "name": "stdout",
     "output_type": "stream",
     "text": [
      "\n",
      "----------------------------------------------------------------------------------------------------------------------------------\n",
      "| arithmetic_mean_loss: 0.32405 | harmonic_mean_loss: 1.12590 | prediction_mean_pearson: 0.41558 | entropy_mean_pearson: 0.14466 |\n",
      "----------------------------------------------------------------------------------------------------------------------------------\n",
      "\n",
      "starting epoch 227\n"
     ]
    },
    {
     "data": {
      "application/vnd.jupyter.widget-view+json": {
       "model_id": "",
       "version_major": 2,
       "version_minor": 0
      },
      "text/plain": [
       "Validating: 0it [00:00, ?it/s]"
      ]
     },
     "metadata": {},
     "output_type": "display_data"
    },
    {
     "name": "stdout",
     "output_type": "stream",
     "text": [
      "\n",
      "----------------------------------------------------------------------------------------------------------------------------------\n",
      "| arithmetic_mean_loss: 0.30823 | harmonic_mean_loss: 1.07188 | prediction_mean_pearson: 0.41369 | entropy_mean_pearson: 0.13088 |\n",
      "----------------------------------------------------------------------------------------------------------------------------------\n",
      "\n",
      "starting epoch 228\n"
     ]
    },
    {
     "data": {
      "application/vnd.jupyter.widget-view+json": {
       "model_id": "",
       "version_major": 2,
       "version_minor": 0
      },
      "text/plain": [
       "Validating: 0it [00:00, ?it/s]"
      ]
     },
     "metadata": {},
     "output_type": "display_data"
    },
    {
     "name": "stdout",
     "output_type": "stream",
     "text": [
      "\n",
      "----------------------------------------------------------------------------------------------------------------------------------\n",
      "| arithmetic_mean_loss: 0.31052 | harmonic_mean_loss: 1.08187 | prediction_mean_pearson: 0.41621 | entropy_mean_pearson: 0.12558 |\n",
      "----------------------------------------------------------------------------------------------------------------------------------\n",
      "\n",
      "starting epoch 229\n"
     ]
    },
    {
     "data": {
      "application/vnd.jupyter.widget-view+json": {
       "model_id": "",
       "version_major": 2,
       "version_minor": 0
      },
      "text/plain": [
       "Validating: 0it [00:00, ?it/s]"
      ]
     },
     "metadata": {},
     "output_type": "display_data"
    },
    {
     "name": "stdout",
     "output_type": "stream",
     "text": [
      "\n",
      "----------------------------------------------------------------------------------------------------------------------------------\n",
      "| arithmetic_mean_loss: 0.30915 | harmonic_mean_loss: 1.07436 | prediction_mean_pearson: 0.40624 | entropy_mean_pearson: 0.11834 |\n",
      "----------------------------------------------------------------------------------------------------------------------------------\n",
      "\n",
      "starting epoch 230\n"
     ]
    },
    {
     "data": {
      "application/vnd.jupyter.widget-view+json": {
       "model_id": "",
       "version_major": 2,
       "version_minor": 0
      },
      "text/plain": [
       "Validating: 0it [00:00, ?it/s]"
      ]
     },
     "metadata": {},
     "output_type": "display_data"
    },
    {
     "name": "stdout",
     "output_type": "stream",
     "text": [
      "\n",
      "----------------------------------------------------------------------------------------------------------------------------------\n",
      "| arithmetic_mean_loss: 0.30745 | harmonic_mean_loss: 1.06663 | prediction_mean_pearson: 0.42326 | entropy_mean_pearson: 0.13858 |\n",
      "----------------------------------------------------------------------------------------------------------------------------------\n",
      "\n",
      "starting epoch 231\n"
     ]
    },
    {
     "data": {
      "application/vnd.jupyter.widget-view+json": {
       "model_id": "",
       "version_major": 2,
       "version_minor": 0
      },
      "text/plain": [
       "Validating: 0it [00:00, ?it/s]"
      ]
     },
     "metadata": {},
     "output_type": "display_data"
    },
    {
     "name": "stdout",
     "output_type": "stream",
     "text": [
      "\n",
      "----------------------------------------------------------------------------------------------------------------------------------\n",
      "| arithmetic_mean_loss: 0.30402 | harmonic_mean_loss: 1.05825 | prediction_mean_pearson: 0.42832 | entropy_mean_pearson: 0.13715 |\n",
      "----------------------------------------------------------------------------------------------------------------------------------\n",
      "\n",
      "starting epoch 232\n"
     ]
    },
    {
     "data": {
      "application/vnd.jupyter.widget-view+json": {
       "model_id": "",
       "version_major": 2,
       "version_minor": 0
      },
      "text/plain": [
       "Validating: 0it [00:00, ?it/s]"
      ]
     },
     "metadata": {},
     "output_type": "display_data"
    },
    {
     "name": "stdout",
     "output_type": "stream",
     "text": [
      "\n",
      "----------------------------------------------------------------------------------------------------------------------------------\n",
      "| arithmetic_mean_loss: 0.34527 | harmonic_mean_loss: 1.20972 | prediction_mean_pearson: 0.41675 | entropy_mean_pearson: 0.12977 |\n",
      "----------------------------------------------------------------------------------------------------------------------------------\n",
      "\n",
      "starting epoch 233\n"
     ]
    },
    {
     "data": {
      "application/vnd.jupyter.widget-view+json": {
       "model_id": "",
       "version_major": 2,
       "version_minor": 0
      },
      "text/plain": [
       "Validating: 0it [00:00, ?it/s]"
      ]
     },
     "metadata": {},
     "output_type": "display_data"
    },
    {
     "name": "stdout",
     "output_type": "stream",
     "text": [
      "\n",
      "----------------------------------------------------------------------------------------------------------------------------------\n",
      "| arithmetic_mean_loss: 0.31523 | harmonic_mean_loss: 1.10558 | prediction_mean_pearson: 0.41427 | entropy_mean_pearson: 0.12738 |\n",
      "----------------------------------------------------------------------------------------------------------------------------------\n",
      "\n",
      "starting epoch 234\n"
     ]
    },
    {
     "data": {
      "application/vnd.jupyter.widget-view+json": {
       "model_id": "",
       "version_major": 2,
       "version_minor": 0
      },
      "text/plain": [
       "Validating: 0it [00:00, ?it/s]"
      ]
     },
     "metadata": {},
     "output_type": "display_data"
    },
    {
     "name": "stdout",
     "output_type": "stream",
     "text": [
      "\n",
      "----------------------------------------------------------------------------------------------------------------------------------\n",
      "| arithmetic_mean_loss: 0.30532 | harmonic_mean_loss: 1.06205 | prediction_mean_pearson: 0.42034 | entropy_mean_pearson: 0.13635 |\n",
      "----------------------------------------------------------------------------------------------------------------------------------\n",
      "\n",
      "starting epoch 235\n"
     ]
    },
    {
     "data": {
      "application/vnd.jupyter.widget-view+json": {
       "model_id": "",
       "version_major": 2,
       "version_minor": 0
      },
      "text/plain": [
       "Validating: 0it [00:00, ?it/s]"
      ]
     },
     "metadata": {},
     "output_type": "display_data"
    },
    {
     "name": "stdout",
     "output_type": "stream",
     "text": [
      "\n",
      "----------------------------------------------------------------------------------------------------------------------------------\n",
      "| arithmetic_mean_loss: 0.31305 | harmonic_mean_loss: 1.08837 | prediction_mean_pearson: 0.41731 | entropy_mean_pearson: 0.12893 |\n",
      "----------------------------------------------------------------------------------------------------------------------------------\n",
      "\n",
      "starting epoch 236\n"
     ]
    },
    {
     "data": {
      "application/vnd.jupyter.widget-view+json": {
       "model_id": "",
       "version_major": 2,
       "version_minor": 0
      },
      "text/plain": [
       "Validating: 0it [00:00, ?it/s]"
      ]
     },
     "metadata": {},
     "output_type": "display_data"
    },
    {
     "name": "stdout",
     "output_type": "stream",
     "text": [
      "\n",
      "----------------------------------------------------------------------------------------------------------------------------------\n",
      "| arithmetic_mean_loss: 0.31187 | harmonic_mean_loss: 1.08666 | prediction_mean_pearson: 0.42772 | entropy_mean_pearson: 0.12360 |\n",
      "----------------------------------------------------------------------------------------------------------------------------------\n",
      "\n",
      "starting epoch 237\n"
     ]
    },
    {
     "data": {
      "application/vnd.jupyter.widget-view+json": {
       "model_id": "",
       "version_major": 2,
       "version_minor": 0
      },
      "text/plain": [
       "Validating: 0it [00:00, ?it/s]"
      ]
     },
     "metadata": {},
     "output_type": "display_data"
    },
    {
     "name": "stdout",
     "output_type": "stream",
     "text": [
      "\n",
      "----------------------------------------------------------------------------------------------------------------------------------\n",
      "| arithmetic_mean_loss: 0.30969 | harmonic_mean_loss: 1.07601 | prediction_mean_pearson: 0.41378 | entropy_mean_pearson: 0.11891 |\n",
      "----------------------------------------------------------------------------------------------------------------------------------\n",
      "\n",
      "starting epoch 238\n"
     ]
    },
    {
     "data": {
      "application/vnd.jupyter.widget-view+json": {
       "model_id": "",
       "version_major": 2,
       "version_minor": 0
      },
      "text/plain": [
       "Validating: 0it [00:00, ?it/s]"
      ]
     },
     "metadata": {},
     "output_type": "display_data"
    },
    {
     "name": "stdout",
     "output_type": "stream",
     "text": [
      "\n",
      "----------------------------------------------------------------------------------------------------------------------------------\n",
      "| arithmetic_mean_loss: 0.30584 | harmonic_mean_loss: 1.06109 | prediction_mean_pearson: 0.42038 | entropy_mean_pearson: 0.12920 |\n",
      "----------------------------------------------------------------------------------------------------------------------------------\n",
      "\n",
      "starting epoch 239\n"
     ]
    },
    {
     "data": {
      "application/vnd.jupyter.widget-view+json": {
       "model_id": "",
       "version_major": 2,
       "version_minor": 0
      },
      "text/plain": [
       "Validating: 0it [00:00, ?it/s]"
      ]
     },
     "metadata": {},
     "output_type": "display_data"
    },
    {
     "name": "stdout",
     "output_type": "stream",
     "text": [
      "\n",
      "----------------------------------------------------------------------------------------------------------------------------------\n",
      "| arithmetic_mean_loss: 0.31236 | harmonic_mean_loss: 1.08535 | prediction_mean_pearson: 0.42157 | entropy_mean_pearson: 0.12143 |\n",
      "----------------------------------------------------------------------------------------------------------------------------------\n",
      "\n",
      "starting epoch 240\n"
     ]
    },
    {
     "data": {
      "application/vnd.jupyter.widget-view+json": {
       "model_id": "",
       "version_major": 2,
       "version_minor": 0
      },
      "text/plain": [
       "Validating: 0it [00:00, ?it/s]"
      ]
     },
     "metadata": {},
     "output_type": "display_data"
    },
    {
     "name": "stdout",
     "output_type": "stream",
     "text": [
      "\n",
      "----------------------------------------------------------------------------------------------------------------------------------\n",
      "| arithmetic_mean_loss: 0.35074 | harmonic_mean_loss: 1.22424 | prediction_mean_pearson: 0.41050 | entropy_mean_pearson: 0.12509 |\n",
      "----------------------------------------------------------------------------------------------------------------------------------\n",
      "\n",
      "starting epoch 241\n"
     ]
    },
    {
     "data": {
      "application/vnd.jupyter.widget-view+json": {
       "model_id": "",
       "version_major": 2,
       "version_minor": 0
      },
      "text/plain": [
       "Validating: 0it [00:00, ?it/s]"
      ]
     },
     "metadata": {},
     "output_type": "display_data"
    },
    {
     "name": "stdout",
     "output_type": "stream",
     "text": [
      "\n",
      "----------------------------------------------------------------------------------------------------------------------------------\n",
      "| arithmetic_mean_loss: 0.30611 | harmonic_mean_loss: 1.06320 | prediction_mean_pearson: 0.42466 | entropy_mean_pearson: 0.12204 |\n",
      "----------------------------------------------------------------------------------------------------------------------------------\n",
      "\n",
      "starting epoch 242\n"
     ]
    },
    {
     "data": {
      "application/vnd.jupyter.widget-view+json": {
       "model_id": "",
       "version_major": 2,
       "version_minor": 0
      },
      "text/plain": [
       "Validating: 0it [00:00, ?it/s]"
      ]
     },
     "metadata": {},
     "output_type": "display_data"
    },
    {
     "name": "stdout",
     "output_type": "stream",
     "text": [
      "\n",
      "----------------------------------------------------------------------------------------------------------------------------------\n",
      "| arithmetic_mean_loss: 0.31599 | harmonic_mean_loss: 1.09775 | prediction_mean_pearson: 0.41924 | entropy_mean_pearson: 0.12381 |\n",
      "----------------------------------------------------------------------------------------------------------------------------------\n",
      "\n",
      "starting epoch 243\n"
     ]
    },
    {
     "data": {
      "application/vnd.jupyter.widget-view+json": {
       "model_id": "",
       "version_major": 2,
       "version_minor": 0
      },
      "text/plain": [
       "Validating: 0it [00:00, ?it/s]"
      ]
     },
     "metadata": {},
     "output_type": "display_data"
    },
    {
     "name": "stdout",
     "output_type": "stream",
     "text": [
      "\n",
      "----------------------------------------------------------------------------------------------------------------------------------\n",
      "| arithmetic_mean_loss: 0.30676 | harmonic_mean_loss: 1.06649 | prediction_mean_pearson: 0.42526 | entropy_mean_pearson: 0.12883 |\n",
      "----------------------------------------------------------------------------------------------------------------------------------\n",
      "\n",
      "starting epoch 244\n"
     ]
    },
    {
     "data": {
      "application/vnd.jupyter.widget-view+json": {
       "model_id": "",
       "version_major": 2,
       "version_minor": 0
      },
      "text/plain": [
       "Validating: 0it [00:00, ?it/s]"
      ]
     },
     "metadata": {},
     "output_type": "display_data"
    },
    {
     "name": "stdout",
     "output_type": "stream",
     "text": [
      "\n",
      "----------------------------------------------------------------------------------------------------------------------------------\n",
      "| arithmetic_mean_loss: 0.31139 | harmonic_mean_loss: 1.08350 | prediction_mean_pearson: 0.42745 | entropy_mean_pearson: 0.10859 |\n",
      "----------------------------------------------------------------------------------------------------------------------------------\n",
      "\n",
      "starting epoch 245\n"
     ]
    },
    {
     "data": {
      "application/vnd.jupyter.widget-view+json": {
       "model_id": "",
       "version_major": 2,
       "version_minor": 0
      },
      "text/plain": [
       "Validating: 0it [00:00, ?it/s]"
      ]
     },
     "metadata": {},
     "output_type": "display_data"
    },
    {
     "name": "stdout",
     "output_type": "stream",
     "text": [
      "\n",
      "----------------------------------------------------------------------------------------------------------------------------------\n",
      "| arithmetic_mean_loss: 0.30592 | harmonic_mean_loss: 1.06516 | prediction_mean_pearson: 0.42793 | entropy_mean_pearson: 0.12553 |\n",
      "----------------------------------------------------------------------------------------------------------------------------------\n",
      "\n",
      "starting epoch 246\n"
     ]
    },
    {
     "data": {
      "application/vnd.jupyter.widget-view+json": {
       "model_id": "",
       "version_major": 2,
       "version_minor": 0
      },
      "text/plain": [
       "Validating: 0it [00:00, ?it/s]"
      ]
     },
     "metadata": {},
     "output_type": "display_data"
    },
    {
     "name": "stdout",
     "output_type": "stream",
     "text": [
      "\n",
      "----------------------------------------------------------------------------------------------------------------------------------\n",
      "| arithmetic_mean_loss: 0.30849 | harmonic_mean_loss: 1.07157 | prediction_mean_pearson: 0.42439 | entropy_mean_pearson: 0.11413 |\n",
      "----------------------------------------------------------------------------------------------------------------------------------\n",
      "\n",
      "starting epoch 247\n"
     ]
    },
    {
     "data": {
      "application/vnd.jupyter.widget-view+json": {
       "model_id": "",
       "version_major": 2,
       "version_minor": 0
      },
      "text/plain": [
       "Validating: 0it [00:00, ?it/s]"
      ]
     },
     "metadata": {},
     "output_type": "display_data"
    },
    {
     "name": "stdout",
     "output_type": "stream",
     "text": [
      "\n",
      "----------------------------------------------------------------------------------------------------------------------------------\n",
      "| arithmetic_mean_loss: 0.31590 | harmonic_mean_loss: 1.09718 | prediction_mean_pearson: 0.42119 | entropy_mean_pearson: 0.12860 |\n",
      "----------------------------------------------------------------------------------------------------------------------------------\n",
      "\n",
      "starting epoch 248\n"
     ]
    },
    {
     "data": {
      "application/vnd.jupyter.widget-view+json": {
       "model_id": "",
       "version_major": 2,
       "version_minor": 0
      },
      "text/plain": [
       "Validating: 0it [00:00, ?it/s]"
      ]
     },
     "metadata": {},
     "output_type": "display_data"
    },
    {
     "name": "stdout",
     "output_type": "stream",
     "text": [
      "\n",
      "----------------------------------------------------------------------------------------------------------------------------------\n",
      "| arithmetic_mean_loss: 0.31105 | harmonic_mean_loss: 1.08043 | prediction_mean_pearson: 0.41848 | entropy_mean_pearson: 0.12116 |\n",
      "----------------------------------------------------------------------------------------------------------------------------------\n",
      "\n",
      "starting epoch 249\n"
     ]
    },
    {
     "data": {
      "application/vnd.jupyter.widget-view+json": {
       "model_id": "",
       "version_major": 2,
       "version_minor": 0
      },
      "text/plain": [
       "Validating: 0it [00:00, ?it/s]"
      ]
     },
     "metadata": {},
     "output_type": "display_data"
    },
    {
     "name": "stdout",
     "output_type": "stream",
     "text": [
      "\n",
      "----------------------------------------------------------------------------------------------------------------------------------\n",
      "| arithmetic_mean_loss: 0.31422 | harmonic_mean_loss: 1.09508 | prediction_mean_pearson: 0.40777 | entropy_mean_pearson: 0.12112 |\n",
      "----------------------------------------------------------------------------------------------------------------------------------\n",
      "\n",
      "starting epoch 250\n"
     ]
    },
    {
     "data": {
      "application/vnd.jupyter.widget-view+json": {
       "model_id": "",
       "version_major": 2,
       "version_minor": 0
      },
      "text/plain": [
       "Validating: 0it [00:00, ?it/s]"
      ]
     },
     "metadata": {},
     "output_type": "display_data"
    },
    {
     "name": "stdout",
     "output_type": "stream",
     "text": [
      "\n",
      "----------------------------------------------------------------------------------------------------------------------------------\n",
      "| arithmetic_mean_loss: 0.31651 | harmonic_mean_loss: 1.09671 | prediction_mean_pearson: 0.42150 | entropy_mean_pearson: 0.12882 |\n",
      "----------------------------------------------------------------------------------------------------------------------------------\n",
      "\n",
      "starting epoch 251\n"
     ]
    },
    {
     "data": {
      "application/vnd.jupyter.widget-view+json": {
       "model_id": "",
       "version_major": 2,
       "version_minor": 0
      },
      "text/plain": [
       "Validating: 0it [00:00, ?it/s]"
      ]
     },
     "metadata": {},
     "output_type": "display_data"
    },
    {
     "name": "stdout",
     "output_type": "stream",
     "text": [
      "\n",
      "----------------------------------------------------------------------------------------------------------------------------------\n",
      "| arithmetic_mean_loss: 0.31919 | harmonic_mean_loss: 1.10769 | prediction_mean_pearson: 0.42219 | entropy_mean_pearson: 0.12243 |\n",
      "----------------------------------------------------------------------------------------------------------------------------------\n",
      "\n",
      "starting epoch 252\n"
     ]
    },
    {
     "data": {
      "application/vnd.jupyter.widget-view+json": {
       "model_id": "",
       "version_major": 2,
       "version_minor": 0
      },
      "text/plain": [
       "Validating: 0it [00:00, ?it/s]"
      ]
     },
     "metadata": {},
     "output_type": "display_data"
    },
    {
     "name": "stdout",
     "output_type": "stream",
     "text": [
      "\n",
      "----------------------------------------------------------------------------------------------------------------------------------\n",
      "| arithmetic_mean_loss: 0.31091 | harmonic_mean_loss: 1.07974 | prediction_mean_pearson: 0.42149 | entropy_mean_pearson: 0.11972 |\n",
      "----------------------------------------------------------------------------------------------------------------------------------\n",
      "\n",
      "starting epoch 253\n"
     ]
    },
    {
     "data": {
      "application/vnd.jupyter.widget-view+json": {
       "model_id": "",
       "version_major": 2,
       "version_minor": 0
      },
      "text/plain": [
       "Validating: 0it [00:00, ?it/s]"
      ]
     },
     "metadata": {},
     "output_type": "display_data"
    },
    {
     "name": "stdout",
     "output_type": "stream",
     "text": [
      "\n",
      "----------------------------------------------------------------------------------------------------------------------------------\n",
      "| arithmetic_mean_loss: 0.30837 | harmonic_mean_loss: 1.07202 | prediction_mean_pearson: 0.41990 | entropy_mean_pearson: 0.13222 |\n",
      "----------------------------------------------------------------------------------------------------------------------------------\n",
      "\n",
      "starting epoch 254\n"
     ]
    },
    {
     "data": {
      "application/vnd.jupyter.widget-view+json": {
       "model_id": "",
       "version_major": 2,
       "version_minor": 0
      },
      "text/plain": [
       "Validating: 0it [00:00, ?it/s]"
      ]
     },
     "metadata": {},
     "output_type": "display_data"
    },
    {
     "name": "stdout",
     "output_type": "stream",
     "text": [
      "\n",
      "----------------------------------------------------------------------------------------------------------------------------------\n",
      "| arithmetic_mean_loss: 0.31641 | harmonic_mean_loss: 1.09575 | prediction_mean_pearson: 0.41765 | entropy_mean_pearson: 0.11931 |\n",
      "----------------------------------------------------------------------------------------------------------------------------------\n",
      "\n",
      "starting epoch 255\n"
     ]
    },
    {
     "data": {
      "application/vnd.jupyter.widget-view+json": {
       "model_id": "",
       "version_major": 2,
       "version_minor": 0
      },
      "text/plain": [
       "Validating: 0it [00:00, ?it/s]"
      ]
     },
     "metadata": {},
     "output_type": "display_data"
    },
    {
     "name": "stdout",
     "output_type": "stream",
     "text": [
      "\n",
      "----------------------------------------------------------------------------------------------------------------------------------\n",
      "| arithmetic_mean_loss: 0.33334 | harmonic_mean_loss: 1.16198 | prediction_mean_pearson: 0.41758 | entropy_mean_pearson: 0.11797 |\n",
      "----------------------------------------------------------------------------------------------------------------------------------\n",
      "\n",
      "starting epoch 256\n"
     ]
    },
    {
     "data": {
      "application/vnd.jupyter.widget-view+json": {
       "model_id": "",
       "version_major": 2,
       "version_minor": 0
      },
      "text/plain": [
       "Validating: 0it [00:00, ?it/s]"
      ]
     },
     "metadata": {},
     "output_type": "display_data"
    },
    {
     "name": "stdout",
     "output_type": "stream",
     "text": [
      "\n",
      "----------------------------------------------------------------------------------------------------------------------------------\n",
      "| arithmetic_mean_loss: 0.31033 | harmonic_mean_loss: 1.08007 | prediction_mean_pearson: 0.42004 | entropy_mean_pearson: 0.12074 |\n",
      "----------------------------------------------------------------------------------------------------------------------------------\n",
      "\n",
      "starting epoch 257\n"
     ]
    },
    {
     "data": {
      "application/vnd.jupyter.widget-view+json": {
       "model_id": "",
       "version_major": 2,
       "version_minor": 0
      },
      "text/plain": [
       "Validating: 0it [00:00, ?it/s]"
      ]
     },
     "metadata": {},
     "output_type": "display_data"
    },
    {
     "name": "stdout",
     "output_type": "stream",
     "text": [
      "\n",
      "----------------------------------------------------------------------------------------------------------------------------------\n",
      "| arithmetic_mean_loss: 0.31386 | harmonic_mean_loss: 1.09991 | prediction_mean_pearson: 0.42543 | entropy_mean_pearson: 0.11708 |\n",
      "----------------------------------------------------------------------------------------------------------------------------------\n",
      "\n",
      "starting epoch 258\n"
     ]
    },
    {
     "data": {
      "application/vnd.jupyter.widget-view+json": {
       "model_id": "",
       "version_major": 2,
       "version_minor": 0
      },
      "text/plain": [
       "Validating: 0it [00:00, ?it/s]"
      ]
     },
     "metadata": {},
     "output_type": "display_data"
    },
    {
     "name": "stdout",
     "output_type": "stream",
     "text": [
      "\n",
      "----------------------------------------------------------------------------------------------------------------------------------\n",
      "| arithmetic_mean_loss: 0.35044 | harmonic_mean_loss: 1.21725 | prediction_mean_pearson: 0.41530 | entropy_mean_pearson: 0.12595 |\n",
      "----------------------------------------------------------------------------------------------------------------------------------\n",
      "\n",
      "starting epoch 259\n"
     ]
    },
    {
     "data": {
      "application/vnd.jupyter.widget-view+json": {
       "model_id": "",
       "version_major": 2,
       "version_minor": 0
      },
      "text/plain": [
       "Validating: 0it [00:00, ?it/s]"
      ]
     },
     "metadata": {},
     "output_type": "display_data"
    },
    {
     "name": "stdout",
     "output_type": "stream",
     "text": [
      "\n",
      "----------------------------------------------------------------------------------------------------------------------------------\n",
      "| arithmetic_mean_loss: 0.31417 | harmonic_mean_loss: 1.08826 | prediction_mean_pearson: 0.41602 | entropy_mean_pearson: 0.11275 |\n",
      "----------------------------------------------------------------------------------------------------------------------------------\n",
      "\n",
      "starting epoch 260\n"
     ]
    },
    {
     "data": {
      "application/vnd.jupyter.widget-view+json": {
       "model_id": "",
       "version_major": 2,
       "version_minor": 0
      },
      "text/plain": [
       "Validating: 0it [00:00, ?it/s]"
      ]
     },
     "metadata": {},
     "output_type": "display_data"
    },
    {
     "name": "stdout",
     "output_type": "stream",
     "text": [
      "\n",
      "----------------------------------------------------------------------------------------------------------------------------------\n",
      "| arithmetic_mean_loss: 0.30918 | harmonic_mean_loss: 1.07270 | prediction_mean_pearson: 0.42434 | entropy_mean_pearson: 0.12179 |\n",
      "----------------------------------------------------------------------------------------------------------------------------------\n",
      "\n",
      "starting epoch 261\n"
     ]
    },
    {
     "data": {
      "application/vnd.jupyter.widget-view+json": {
       "model_id": "",
       "version_major": 2,
       "version_minor": 0
      },
      "text/plain": [
       "Validating: 0it [00:00, ?it/s]"
      ]
     },
     "metadata": {},
     "output_type": "display_data"
    },
    {
     "name": "stdout",
     "output_type": "stream",
     "text": [
      "\n",
      "----------------------------------------------------------------------------------------------------------------------------------\n",
      "| arithmetic_mean_loss: 0.31391 | harmonic_mean_loss: 1.08748 | prediction_mean_pearson: 0.41713 | entropy_mean_pearson: 0.11868 |\n",
      "----------------------------------------------------------------------------------------------------------------------------------\n",
      "\n",
      "starting epoch 262\n"
     ]
    },
    {
     "data": {
      "application/vnd.jupyter.widget-view+json": {
       "model_id": "",
       "version_major": 2,
       "version_minor": 0
      },
      "text/plain": [
       "Validating: 0it [00:00, ?it/s]"
      ]
     },
     "metadata": {},
     "output_type": "display_data"
    },
    {
     "name": "stdout",
     "output_type": "stream",
     "text": [
      "\n",
      "----------------------------------------------------------------------------------------------------------------------------------\n",
      "| arithmetic_mean_loss: 0.31658 | harmonic_mean_loss: 1.09713 | prediction_mean_pearson: 0.42153 | entropy_mean_pearson: 0.12158 |\n",
      "----------------------------------------------------------------------------------------------------------------------------------\n",
      "\n",
      "starting epoch 263\n"
     ]
    },
    {
     "data": {
      "application/vnd.jupyter.widget-view+json": {
       "model_id": "",
       "version_major": 2,
       "version_minor": 0
      },
      "text/plain": [
       "Validating: 0it [00:00, ?it/s]"
      ]
     },
     "metadata": {},
     "output_type": "display_data"
    },
    {
     "name": "stdout",
     "output_type": "stream",
     "text": [
      "\n",
      "----------------------------------------------------------------------------------------------------------------------------------\n",
      "| arithmetic_mean_loss: 0.33981 | harmonic_mean_loss: 1.18070 | prediction_mean_pearson: 0.41559 | entropy_mean_pearson: 0.11432 |\n",
      "----------------------------------------------------------------------------------------------------------------------------------\n",
      "\n",
      "starting epoch 264\n"
     ]
    },
    {
     "data": {
      "application/vnd.jupyter.widget-view+json": {
       "model_id": "",
       "version_major": 2,
       "version_minor": 0
      },
      "text/plain": [
       "Validating: 0it [00:00, ?it/s]"
      ]
     },
     "metadata": {},
     "output_type": "display_data"
    },
    {
     "name": "stdout",
     "output_type": "stream",
     "text": [
      "\n",
      "----------------------------------------------------------------------------------------------------------------------------------\n",
      "| arithmetic_mean_loss: 0.31634 | harmonic_mean_loss: 1.09501 | prediction_mean_pearson: 0.42415 | entropy_mean_pearson: 0.11508 |\n",
      "----------------------------------------------------------------------------------------------------------------------------------\n",
      "\n",
      "starting epoch 265\n"
     ]
    },
    {
     "data": {
      "application/vnd.jupyter.widget-view+json": {
       "model_id": "",
       "version_major": 2,
       "version_minor": 0
      },
      "text/plain": [
       "Validating: 0it [00:00, ?it/s]"
      ]
     },
     "metadata": {},
     "output_type": "display_data"
    },
    {
     "name": "stdout",
     "output_type": "stream",
     "text": [
      "\n",
      "----------------------------------------------------------------------------------------------------------------------------------\n",
      "| arithmetic_mean_loss: 0.31552 | harmonic_mean_loss: 1.09194 | prediction_mean_pearson: 0.42050 | entropy_mean_pearson: 0.11384 |\n",
      "----------------------------------------------------------------------------------------------------------------------------------\n",
      "\n",
      "starting epoch 266\n"
     ]
    },
    {
     "data": {
      "application/vnd.jupyter.widget-view+json": {
       "model_id": "",
       "version_major": 2,
       "version_minor": 0
      },
      "text/plain": [
       "Validating: 0it [00:00, ?it/s]"
      ]
     },
     "metadata": {},
     "output_type": "display_data"
    },
    {
     "name": "stdout",
     "output_type": "stream",
     "text": [
      "\n",
      "----------------------------------------------------------------------------------------------------------------------------------\n",
      "| arithmetic_mean_loss: 0.30757 | harmonic_mean_loss: 1.06494 | prediction_mean_pearson: 0.42371 | entropy_mean_pearson: 0.11867 |\n",
      "----------------------------------------------------------------------------------------------------------------------------------\n",
      "\n",
      "starting epoch 267\n"
     ]
    },
    {
     "data": {
      "application/vnd.jupyter.widget-view+json": {
       "model_id": "",
       "version_major": 2,
       "version_minor": 0
      },
      "text/plain": [
       "Validating: 0it [00:00, ?it/s]"
      ]
     },
     "metadata": {},
     "output_type": "display_data"
    },
    {
     "name": "stdout",
     "output_type": "stream",
     "text": [
      "\n",
      "----------------------------------------------------------------------------------------------------------------------------------\n",
      "| arithmetic_mean_loss: 0.31128 | harmonic_mean_loss: 1.08196 | prediction_mean_pearson: 0.42721 | entropy_mean_pearson: 0.11508 |\n",
      "----------------------------------------------------------------------------------------------------------------------------------\n",
      "\n",
      "starting epoch 268\n"
     ]
    },
    {
     "data": {
      "application/vnd.jupyter.widget-view+json": {
       "model_id": "",
       "version_major": 2,
       "version_minor": 0
      },
      "text/plain": [
       "Validating: 0it [00:00, ?it/s]"
      ]
     },
     "metadata": {},
     "output_type": "display_data"
    },
    {
     "name": "stdout",
     "output_type": "stream",
     "text": [
      "\n",
      "----------------------------------------------------------------------------------------------------------------------------------\n",
      "| arithmetic_mean_loss: 0.31491 | harmonic_mean_loss: 1.09025 | prediction_mean_pearson: 0.41689 | entropy_mean_pearson: 0.11512 |\n",
      "----------------------------------------------------------------------------------------------------------------------------------\n",
      "\n",
      "starting epoch 269\n"
     ]
    },
    {
     "data": {
      "application/vnd.jupyter.widget-view+json": {
       "model_id": "",
       "version_major": 2,
       "version_minor": 0
      },
      "text/plain": [
       "Validating: 0it [00:00, ?it/s]"
      ]
     },
     "metadata": {},
     "output_type": "display_data"
    },
    {
     "name": "stdout",
     "output_type": "stream",
     "text": [
      "\n",
      "----------------------------------------------------------------------------------------------------------------------------------\n",
      "| arithmetic_mean_loss: 0.31179 | harmonic_mean_loss: 1.08060 | prediction_mean_pearson: 0.41837 | entropy_mean_pearson: 0.10778 |\n",
      "----------------------------------------------------------------------------------------------------------------------------------\n",
      "\n",
      "starting epoch 270\n"
     ]
    },
    {
     "data": {
      "application/vnd.jupyter.widget-view+json": {
       "model_id": "",
       "version_major": 2,
       "version_minor": 0
      },
      "text/plain": [
       "Validating: 0it [00:00, ?it/s]"
      ]
     },
     "metadata": {},
     "output_type": "display_data"
    },
    {
     "name": "stdout",
     "output_type": "stream",
     "text": [
      "\n",
      "----------------------------------------------------------------------------------------------------------------------------------\n",
      "| arithmetic_mean_loss: 0.30920 | harmonic_mean_loss: 1.07530 | prediction_mean_pearson: 0.42514 | entropy_mean_pearson: 0.12089 |\n",
      "----------------------------------------------------------------------------------------------------------------------------------\n",
      "\n",
      "starting epoch 271\n"
     ]
    },
    {
     "data": {
      "application/vnd.jupyter.widget-view+json": {
       "model_id": "",
       "version_major": 2,
       "version_minor": 0
      },
      "text/plain": [
       "Validating: 0it [00:00, ?it/s]"
      ]
     },
     "metadata": {},
     "output_type": "display_data"
    },
    {
     "name": "stdout",
     "output_type": "stream",
     "text": [
      "\n",
      "----------------------------------------------------------------------------------------------------------------------------------\n",
      "| arithmetic_mean_loss: 0.30906 | harmonic_mean_loss: 1.07077 | prediction_mean_pearson: 0.42222 | entropy_mean_pearson: 0.10918 |\n",
      "----------------------------------------------------------------------------------------------------------------------------------\n",
      "\n",
      "starting epoch 272\n"
     ]
    },
    {
     "data": {
      "application/vnd.jupyter.widget-view+json": {
       "model_id": "",
       "version_major": 2,
       "version_minor": 0
      },
      "text/plain": [
       "Validating: 0it [00:00, ?it/s]"
      ]
     },
     "metadata": {},
     "output_type": "display_data"
    },
    {
     "name": "stdout",
     "output_type": "stream",
     "text": [
      "\n",
      "----------------------------------------------------------------------------------------------------------------------------------\n",
      "| arithmetic_mean_loss: 0.32903 | harmonic_mean_loss: 1.13866 | prediction_mean_pearson: 0.40731 | entropy_mean_pearson: 0.10032 |\n",
      "----------------------------------------------------------------------------------------------------------------------------------\n",
      "\n",
      "starting epoch 273\n"
     ]
    },
    {
     "data": {
      "application/vnd.jupyter.widget-view+json": {
       "model_id": "",
       "version_major": 2,
       "version_minor": 0
      },
      "text/plain": [
       "Validating: 0it [00:00, ?it/s]"
      ]
     },
     "metadata": {},
     "output_type": "display_data"
    },
    {
     "name": "stdout",
     "output_type": "stream",
     "text": [
      "\n",
      "----------------------------------------------------------------------------------------------------------------------------------\n",
      "| arithmetic_mean_loss: 0.30957 | harmonic_mean_loss: 1.07432 | prediction_mean_pearson: 0.42239 | entropy_mean_pearson: 0.10406 |\n",
      "----------------------------------------------------------------------------------------------------------------------------------\n",
      "\n",
      "starting epoch 274\n"
     ]
    },
    {
     "data": {
      "application/vnd.jupyter.widget-view+json": {
       "model_id": "",
       "version_major": 2,
       "version_minor": 0
      },
      "text/plain": [
       "Validating: 0it [00:00, ?it/s]"
      ]
     },
     "metadata": {},
     "output_type": "display_data"
    },
    {
     "name": "stdout",
     "output_type": "stream",
     "text": [
      "\n",
      "----------------------------------------------------------------------------------------------------------------------------------\n",
      "| arithmetic_mean_loss: 0.31413 | harmonic_mean_loss: 1.08929 | prediction_mean_pearson: 0.42916 | entropy_mean_pearson: 0.11020 |\n",
      "----------------------------------------------------------------------------------------------------------------------------------\n",
      "\n",
      "starting epoch 275\n"
     ]
    },
    {
     "data": {
      "application/vnd.jupyter.widget-view+json": {
       "model_id": "",
       "version_major": 2,
       "version_minor": 0
      },
      "text/plain": [
       "Validating: 0it [00:00, ?it/s]"
      ]
     },
     "metadata": {},
     "output_type": "display_data"
    },
    {
     "name": "stdout",
     "output_type": "stream",
     "text": [
      "\n",
      "----------------------------------------------------------------------------------------------------------------------------------\n",
      "| arithmetic_mean_loss: 0.33068 | harmonic_mean_loss: 1.13861 | prediction_mean_pearson: 0.41878 | entropy_mean_pearson: 0.11368 |\n",
      "----------------------------------------------------------------------------------------------------------------------------------\n",
      "\n",
      "starting epoch 276\n"
     ]
    },
    {
     "data": {
      "application/vnd.jupyter.widget-view+json": {
       "model_id": "",
       "version_major": 2,
       "version_minor": 0
      },
      "text/plain": [
       "Validating: 0it [00:00, ?it/s]"
      ]
     },
     "metadata": {},
     "output_type": "display_data"
    },
    {
     "name": "stdout",
     "output_type": "stream",
     "text": [
      "\n",
      "----------------------------------------------------------------------------------------------------------------------------------\n",
      "| arithmetic_mean_loss: 0.32339 | harmonic_mean_loss: 1.11817 | prediction_mean_pearson: 0.41510 | entropy_mean_pearson: 0.10870 |\n",
      "----------------------------------------------------------------------------------------------------------------------------------\n",
      "\n",
      "starting epoch 277\n"
     ]
    },
    {
     "data": {
      "application/vnd.jupyter.widget-view+json": {
       "model_id": "",
       "version_major": 2,
       "version_minor": 0
      },
      "text/plain": [
       "Validating: 0it [00:00, ?it/s]"
      ]
     },
     "metadata": {},
     "output_type": "display_data"
    },
    {
     "name": "stdout",
     "output_type": "stream",
     "text": [
      "\n",
      "----------------------------------------------------------------------------------------------------------------------------------\n",
      "| arithmetic_mean_loss: 0.31251 | harmonic_mean_loss: 1.09113 | prediction_mean_pearson: 0.42744 | entropy_mean_pearson: 0.11129 |\n",
      "----------------------------------------------------------------------------------------------------------------------------------\n",
      "\n",
      "starting epoch 278\n"
     ]
    },
    {
     "data": {
      "application/vnd.jupyter.widget-view+json": {
       "model_id": "",
       "version_major": 2,
       "version_minor": 0
      },
      "text/plain": [
       "Validating: 0it [00:00, ?it/s]"
      ]
     },
     "metadata": {},
     "output_type": "display_data"
    },
    {
     "name": "stdout",
     "output_type": "stream",
     "text": [
      "\n",
      "----------------------------------------------------------------------------------------------------------------------------------\n",
      "| arithmetic_mean_loss: 0.31478 | harmonic_mean_loss: 1.08721 | prediction_mean_pearson: 0.41951 | entropy_mean_pearson: 0.10956 |\n",
      "----------------------------------------------------------------------------------------------------------------------------------\n",
      "\n",
      "starting epoch 279\n"
     ]
    },
    {
     "data": {
      "application/vnd.jupyter.widget-view+json": {
       "model_id": "",
       "version_major": 2,
       "version_minor": 0
      },
      "text/plain": [
       "Validating: 0it [00:00, ?it/s]"
      ]
     },
     "metadata": {},
     "output_type": "display_data"
    },
    {
     "name": "stdout",
     "output_type": "stream",
     "text": [
      "\n",
      "----------------------------------------------------------------------------------------------------------------------------------\n",
      "| arithmetic_mean_loss: 0.30722 | harmonic_mean_loss: 1.06522 | prediction_mean_pearson: 0.43325 | entropy_mean_pearson: 0.11498 |\n",
      "----------------------------------------------------------------------------------------------------------------------------------\n",
      "\n"
     ]
    }
   ],
   "source": [
    "data_module, model_module, graph_module, model, trainer, args = main(args)"
   ]
  },
  {
   "cell_type": "markdown",
   "metadata": {},
   "source": [
    "## Plot"
   ]
  },
  {
   "cell_type": "code",
   "execution_count": 16,
   "metadata": {},
   "outputs": [],
   "source": [
    "import os\n",
    "import random\n",
    "from tqdm import tqdm\n",
    "import argparse\n",
    "import numpy as np\n",
    "import pandas as pd\n",
    "import torch\n",
    "import torch.nn as nn\n",
    "import torch.nn.functional as F\n",
    "from torch.utils.data import (random_split, \n",
    "                              DataLoader, TensorDataset)\n",
    "from torch.distributions.categorical import Categorical\n",
    "import matplotlib.pyplot as plt\n",
    "from torchsummary import summary\n",
    "from functools import partial\n",
    "import pytorch_lightning as pl\n",
    "from pytorch_lightning.metrics import functional\n",
    "from pytorch_lightning.callbacks import LearningRateMonitor\n",
    "from pytorch_lightning.loggers import TensorBoardLogger\n",
    "import time\n",
    "import scipy.stats as stats\n",
    "import seaborn as sns\n",
    "import arviz as az"
   ]
  },
  {
   "cell_type": "code",
   "execution_count": 17,
   "metadata": {},
   "outputs": [
    {
     "name": "stdout",
     "output_type": "stream",
     "text": [
      "Padding sequences and converting to one-hot tensors...\n",
      "10000/27719 sequences padded and tokenized...\n",
      "20000/27719 sequences padded and tokenized...\n"
     ]
    }
   ],
   "source": [
    "def Shannon_entropy(x):\n",
    "    p_c = nn.Softmax(dim=1)(x)\n",
    "    return torch.sum(- p_c * torch.log(p_c), axis=1)\n",
    "\n",
    "def entropy(X):\n",
    "    p_c = F.softmax(torch.tensor(X, dtype=torch.float64), dim=1).numpy()\n",
    "    shannon = np.sum(- p_c * np.log(p_c), axis=1)\n",
    "    return 1 - shannon / np.log(X.shape[1])\n",
    "\n",
    "def get_predictions(model, datamodule, dataset='val'):\n",
    "    if dataset=='train':\n",
    "        data_generator = datamodule.train_dataloader()\n",
    "    elif dataset=='val':\n",
    "        data_generator = datamodule.val_dataloader()\n",
    "    elif dataset=='test':\n",
    "        data_generator = datamodule.test_dataloader()\n",
    "    model.eval()\n",
    "    truths = []\n",
    "    preds = []\n",
    "    if next(model.parameters()).is_cuda:\n",
    "        for local_batch, local_targets in data_generator:\n",
    "            preds.append(model(local_batch.cuda()).cpu().detach().numpy())\n",
    "            truths.append(local_targets.numpy())\n",
    "    else:\n",
    "        for local_batch, local_targets in data_generator:\n",
    "            preds.append(model(local_batch).detach().numpy())\n",
    "            truths.append(local_targets.numpy())\n",
    "    preds_array = np.concatenate(preds, axis=0)\n",
    "    truths_array = np.concatenate(truths, axis=0)\n",
    "    '''\n",
    "    #Unscale:\n",
    "    if datamodule.rescale is not None:\n",
    "        a, b = datamodule.rescale\n",
    "        mins, maxs = datamodule.activity_mins.numpy(), datamodule.activity_maxs.numpy()\n",
    "        truths_array = (truths_array - a) * (maxs - mins) / (b - a) + mins \n",
    "        preds_array = (preds_array - a) * (maxs - mins) / (b - a) + mins \n",
    "    #Unnormalize:\n",
    "    if datamodule.normalize:\n",
    "        stds = datamodule.activity_stds.numpy()\n",
    "        means = datamodule.activity_means.numpy()\n",
    "        truths_array = truths_array * stds + means\n",
    "        preds_array = preds_array * stds + means\n",
    "    '''\n",
    "    return truths_array, preds_array\n",
    "\n",
    "def get_scatterplots(truths_array, preds_array):\n",
    "    fig = plt.figure(figsize=(20,6))\n",
    "    celltypes = ['K562', 'HepG2', 'SKNSH']\n",
    "    pearsons = []\n",
    "    spearmans = []\n",
    "    for dim in range(3):\n",
    "        plt.subplot(1, 3, dim+1)\n",
    "        pearson = stats.pearsonr(truths_array[:,dim], preds_array[:,dim])[0]\n",
    "        pearsons.append(pearson)\n",
    "        spearman = stats.spearmanr(truths_array[:,dim], preds_array[:,dim])[0]\n",
    "        spearmans.append(spearman)\n",
    "        sns.scatterplot(x=truths_array[:,dim], y=preds_array[:,dim], color='C'+str(dim))\n",
    "        plt.xlabel('True values')\n",
    "        plt.ylabel('Predicted values')\n",
    "        lim_min = min( (truths_array[:,dim]).min(), (preds_array[:,dim]).min() ) - 0.1\n",
    "        lim_max = max( (truths_array[:,dim]).max(), (preds_array[:,dim]).max() ) + 0.1\n",
    "        plt.plot([lim_min, lim_max], [lim_min, lim_max], linestyle='dashed', color='gray', alpha=0.75)\n",
    "        plt.xlim(lim_min, lim_max)\n",
    "        plt.ylim(lim_min, lim_max)\n",
    "        plt.gca().set_aspect('equal', adjustable='datalim')\n",
    "        plt.title(f'{celltypes[dim]} | Spearman {round(spearman, 2)}, Pearson {round(pearson, 2)}')\n",
    "    plt.draw()\n",
    "    print('')\n",
    "    print('----------------------------------------------')\n",
    "    print(f'Pearsons: {pearsons}, average: {round(np.mean(pearsons), 2)}')\n",
    "    print(f'Spearmans: {spearmans}, average: {round(np.mean(pearsons), 2)}')\n",
    "    print('----------------------------------------------')\n",
    "\n",
    "def get_specificity_corr(truths_array, preds_array, specificity_fn):\n",
    "    fig = plt.figure(figsize=(6,6))\n",
    "    specificity_truths = specificity_fn(truths_array)\n",
    "    specificity_preds = specificity_fn(preds_array)\n",
    "    specificity_pearson = stats.pearsonr(specificity_truths, specificity_preds)[0]\n",
    "    specificity_spearman = stats.spearmanr(specificity_truths, specificity_preds)[0]\n",
    "    sns.scatterplot(x=specificity_truths, y=specificity_preds, color='C6')\n",
    "    plt.plot([0, 1], [0, 1], linestyle='dashed', color='gray', alpha=0.75)\n",
    "    plt.xlabel('True')\n",
    "    plt.ylabel('Predicted')\n",
    "    plt.title(f'Specificity | Spearman {round(specificity_spearman, 2)}, Pearson {round(specificity_pearson, 2)}')\n",
    "    plt.draw()\n",
    "    \n",
    "datamodule = boda.data.BODA2_DataModule(datafile_path='gs://syrgoth/data/BODA.MPRA.txt',\n",
    "                     sequence_column='nt.sequence',\n",
    "                     activity_columns=['K562', 'HepG2.neon', 'SKNSH'],\n",
    "                     valid_pct=5,\n",
    "                     test_pct=5,\n",
    "                     batch_size=32,\n",
    "                     padded_seq_len=600, \n",
    "                     num_workers=1)\n",
    "datamodule.setup()\n"
   ]
  },
  {
   "cell_type": "code",
   "execution_count": 18,
   "metadata": {},
   "outputs": [
    {
     "name": "stdout",
     "output_type": "stream",
     "text": [
      "\n",
      "----------------------------------------------\n",
      "Pearsons: [0.9287397816271881, 0.8999154172579887, 0.9136118523354452], average: 0.91\n",
      "Spearmans: [0.8698807921748499, 0.8541109424841407, 0.8474066499026133], average: 0.91\n",
      "----------------------------------------------\n",
      "\n",
      "----------------------------------------------\n",
      "Pearsons: [0.3616888086847422, 0.3591845374546478, 0.3915698087928769], average: 0.37\n",
      "Spearmans: [0.31014142052517707, 0.3096742871632794, 0.33409043708390546], average: 0.37\n",
      "----------------------------------------------\n"
     ]
    },
    {
     "data": {
      "image/png": "[encoded data removed]",
      "text/plain": [
       "<Figure size 1440x432 with 3 Axes>"
      ]
     },
     "metadata": {
      "needs_background": "light"
     },
     "output_type": "display_data"
    },
    {
     "data": {
      "image/png": "[encoded data removed]",
      "text/plain": [
       "<Figure size 1440x432 with 3 Axes>"
      ]
     },
     "metadata": {
      "needs_background": "light"
     },
     "output_type": "display_data"
    },
    {
     "data": {
      "image/png": "[encoded data removed]",
      "text/plain": [
       "<Figure size 432x432 with 1 Axes>"
      ]
     },
     "metadata": {
      "needs_background": "light"
     },
     "output_type": "display_data"
    },
    {
     "data": {
      "image/png": "[encoded data removed]",
      "text/plain": [
       "<Figure size 432x432 with 1 Axes>"
      ]
     },
     "metadata": {
      "needs_background": "light"
     },
     "output_type": "display_data"
    }
   ],
   "source": [
    "train_truths, train_preds = get_predictions(model, datamodule, dataset='train')\n",
    "val_truths, val_preds = get_predictions(model, datamodule, dataset='val')\n",
    "get_scatterplots(train_truths, train_preds)\n",
    "get_scatterplots(val_truths, val_preds)\n",
    "get_specificity_corr(torch.tensor(train_truths), torch.tensor(train_preds), specificity_fn=boda.graph.utils.Shannon_entropy)\n",
    "get_specificity_corr(torch.tensor(val_truths), torch.tensor(val_preds), specificity_fn=boda.graph.utils.Shannon_entropy)"
   ]
  },
  {
   "cell_type": "code",
   "execution_count": 19,
   "metadata": {},
   "outputs": [
    {
     "name": "stderr",
     "output_type": "stream",
     "text": [
      "/opt/conda/lib/python3.7/site-packages/seaborn/_decorators.py:43: FutureWarning: Pass the following variables as keyword args: x, y, hue. From version 0.12, the only valid positional argument will be `data`, and passing other arguments without an explicit keyword will result in an error or misinterpretation.\n",
      "  FutureWarning\n"
     ]
    },
    {
     "data": {
      "image/png": "[encoded data removed]",
      "text/plain": [
       "<Figure size 432x288 with 1 Axes>"
      ]
     },
     "metadata": {
      "needs_background": "light"
     },
     "output_type": "display_data"
    },
    {
     "name": "stderr",
     "output_type": "stream",
     "text": [
      "/opt/conda/lib/python3.7/site-packages/seaborn/_decorators.py:43: FutureWarning: Pass the following variables as keyword args: x, y. From version 0.12, the only valid positional argument will be `data`, and passing other arguments without an explicit keyword will result in an error or misinterpretation.\n",
      "  FutureWarning\n"
     ]
    },
    {
     "data": {
      "image/png": "[encoded data removed]",
      "text/plain": [
       "<Figure size 432x288 with 1 Axes>"
      ]
     },
     "metadata": {
      "needs_background": "light"
     },
     "output_type": "display_data"
    }
   ],
   "source": [
    "tt_entropy = boda.graph.utils.Shannon_entropy(torch.tensor(train_truths)).numpy()\n",
    "tp_entropy = boda.graph.utils.Shannon_entropy(torch.tensor(train_preds)).numpy()\n",
    "\n",
    "sns.scatterplot(tt_entropy, tp_entropy, train_truths.max(axis=1))\n",
    "plt.show()\n",
    "sns.scatterplot(train_truths.max(axis=1), tt_entropy)\n",
    "plt.show()"
   ]
  },
  {
   "cell_type": "code",
   "execution_count": 20,
   "metadata": {},
   "outputs": [
    {
     "name": "stderr",
     "output_type": "stream",
     "text": [
      "/opt/conda/lib/python3.7/site-packages/seaborn/_decorators.py:43: FutureWarning: Pass the following variables as keyword args: x, y, hue. From version 0.12, the only valid positional argument will be `data`, and passing other arguments without an explicit keyword will result in an error or misinterpretation.\n",
      "  FutureWarning\n"
     ]
    },
    {
     "data": {
      "image/png": "[encoded data removed]",
      "text/plain": [
       "<Figure size 432x288 with 1 Axes>"
      ]
     },
     "metadata": {
      "needs_background": "light"
     },
     "output_type": "display_data"
    },
    {
     "name": "stderr",
     "output_type": "stream",
     "text": [
      "/opt/conda/lib/python3.7/site-packages/seaborn/_decorators.py:43: FutureWarning: Pass the following variables as keyword args: x, y. From version 0.12, the only valid positional argument will be `data`, and passing other arguments without an explicit keyword will result in an error or misinterpretation.\n",
      "  FutureWarning\n"
     ]
    },
    {
     "data": {
      "image/png": "[encoded data removed]",
      "text/plain": [
       "<Figure size 432x288 with 1 Axes>"
      ]
     },
     "metadata": {
      "needs_background": "light"
     },
     "output_type": "display_data"
    }
   ],
   "source": [
    "vt_entropy = boda.graph.utils.Shannon_entropy(torch.tensor(val_truths)).numpy()\n",
    "vp_entropy = boda.graph.utils.Shannon_entropy(torch.tensor(val_preds)).numpy()\n",
    "\n",
    "sns.scatterplot(vt_entropy, vp_entropy, val_truths.max(axis=1))\n",
    "plt.show()\n",
    "sns.scatterplot(val_truths.max(axis=1), vt_entropy)\n",
    "plt.show()"
   ]
  },
  {
   "cell_type": "code",
   "execution_count": null,
   "metadata": {},
   "outputs": [],
   "source": []
  }
 ],
 "metadata": {
  "kernelspec": {
   "display_name": "Python 3",
   "language": "python",
   "name": "python3"
  },
  "language_info": {
   "codemirror_mode": {
    "name": "ipython",
    "version": 3
   },
   "file_extension": ".py",
   "mimetype": "text/x-python",
   "name": "python",
   "nbconvert_exporter": "python",
   "pygments_lexer": "ipython3",
   "version": "3.7.10"
  }
 },
 "nbformat": 4,
 "nbformat_minor": 4
}
