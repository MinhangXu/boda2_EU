{
 "cells": [
  {
   "cell_type": "code",
   "execution_count": 1,
   "id": "indie-century",
   "metadata": {},
   "outputs": [
    {
     "data": {
      "text/html": [
       "<style>.container { width:98% !important; }</style>"
      ],
      "text/plain": [
       "<IPython.core.display.HTML object>"
      ]
     },
     "metadata": {},
     "output_type": "display_data"
    }
   ],
   "source": [
    "import sys\n",
    "import os\n",
    "import subprocess\n",
    "import tarfile\n",
    "import shutil\n",
    "import math\n",
    "import time\n",
    "import random\n",
    "import tempfile\n",
    "from functools import partial\n",
    "from tqdm import tqdm\n",
    "from tqdm.auto import tqdm\n",
    "tqdm.pandas()\n",
    "\n",
    "import numpy as np\n",
    "import torch\n",
    "import torch.nn as nn\n",
    "import torch.nn.functional as F\n",
    "from torch.utils.data import (random_split, DataLoader, TensorDataset, ConcatDataset)\n",
    "import pandas as pd\n",
    "import matplotlib.pyplot as plt\n",
    "import seaborn as sns\n",
    "from mpl_toolkits import mplot3d\n",
    "from Bio import motifs\n",
    "\n",
    "import boda\n",
    "from boda.generator.parameters import StraightThroughParameters\n",
    "from boda.generator import FastSeqProp\n",
    "from boda.generator.plot_tools import matrix_to_dms, ppm_to_IC, ppm_to_pwm\n",
    "from boda.model.mpra_basset import MPRA_Basset\n",
    "from boda.common import constants, utils\n",
    "\n",
    "boda_src = os.path.join( os.path.dirname( os.path.dirname( os.getcwd() ) ), 'src' )\n",
    "sys.path.insert(0, boda_src)\n",
    "\n",
    "from IPython.core.display import display, HTML\n",
    "display(HTML(\"<style>.container { width:98% !important; }</style>\"))\n",
    "\n",
    "from main import unpack_artifact, model_fn\n",
    "from pymeme import streme, parse_streme_output"
   ]
  },
  {
   "cell_type": "code",
   "execution_count": 7,
   "id": "protecting-cheese",
   "metadata": {},
   "outputs": [],
   "source": [
    "def get_specific_sequences(in_df, fitness_threshold=4.0, bias_cell=0):\n",
    "    col_name_dict = {'0':'OverMaxB_K562', '1': 'OverMaxB_HepG2', '2': 'OverMaxB_SKNSH'}\n",
    "    col_name = col_name_dict[str(bias_cell)]\n",
    "    return in_df[in_df[col_name] >= fitness_threshold].reset_index(drop=True)\n",
    "\n",
    "def contains_restriction(sequence):\n",
    "    if 'GCGATCGC' in sequence:\n",
    "        idx = sequence.find('GCGATCGC')\n",
    "        return idx, True\n",
    "    elif sequence[:7] == 'CGATCGC':\n",
    "        idx = -1\n",
    "        return idx, True\n",
    "    elif sequence[-7:] == 'GCGATCG':\n",
    "        idx = 193\n",
    "        return idx, True\n",
    "    else:\n",
    "        return 200, False"
   ]
  },
  {
   "cell_type": "code",
   "execution_count": 3,
   "id": "hourly-dialogue",
   "metadata": {},
   "outputs": [
    {
     "data": {
      "application/vnd.jupyter.widget-view+json": {
       "model_id": "c4ca5b99d6a74b3f9517e7857529e808",
       "version_major": 2,
       "version_minor": 0
      },
      "text/plain": [
       "  0%|          | 0/62 [00:00<?, ?it/s]"
      ]
     },
     "metadata": {},
     "output_type": "display_data"
    }
   ],
   "source": [
    "k562_specific_dfs = []\n",
    "hepg2_specific_dfs = []\n",
    "sknsh_specific_dfs = []\n",
    "\n",
    "root_dir = 'pred_chunks'\n",
    "for subdir, dirs, files in os.walk(root_dir):\n",
    "    for file in tqdm(files):\n",
    "        file_path = os.path.join(root_dir, file)\n",
    "        in_df = pd.read_csv(file_path, sep='\\t')\n",
    "        k562_specific_dfs.append(get_specific_sequences(in_df, bias_cell=0))\n",
    "        hepg2_specific_dfs.append(get_specific_sequences(in_df, bias_cell=1))\n",
    "        sknsh_specific_dfs.append(get_specific_sequences(in_df, fitness_threshold=3.0, bias_cell=2))"
   ]
  },
  {
   "cell_type": "code",
   "execution_count": 4,
   "id": "prime-chocolate",
   "metadata": {},
   "outputs": [
    {
     "name": "stdout",
     "output_type": "stream",
     "text": [
      "Copying gs://syrgoth/boda_library_design_202112/BODA_asiSI_sequences.txt...\n",
      "/ [1 files][  8.7 KiB/  8.7 KiB]                                                \n",
      "Operation completed over 1 objects/8.7 KiB.                                      \n",
      "Copying gs://syrgoth/boda_library_design_202112/boda_design__round_1__20211214.fa...\n",
      "- [1 files][ 27.7 MiB/ 27.7 MiB]                                                \n",
      "Operation completed over 1 objects/27.7 MiB.                                     \n"
     ]
    }
   ],
   "source": [
    "! gsutil cp gs://syrgoth/boda_library_design_202112/BODA_asiSI_sequences.txt ./\n",
    "! gsutil cp gs://syrgoth/boda_library_design_202112/boda_design__round_1__20211214.fa ./\n",
    "\n",
    "with open('BODA_asiSI_sequences.txt', 'r') as f:\n",
    "    lines = f.readlines()\n",
    "    \n",
    "sequence_IDs = []\n",
    "for line in lines:\n",
    "    sequence_IDs.append(line.split()[1])\n",
    "sequence_IDs = [sequence_ID for sequence_ID in sequence_IDs if 'gw' in sequence_ID]\n",
    "    \n",
    "fasta_file_name = 'boda_design__round_1__20211214.fa'\n",
    "fasta_dict = {}\n",
    "with open(fasta_file_name, 'r') as f:\n",
    "    for line in f:\n",
    "        line_str = str(line)\n",
    "        if line_str[0] == '>':\n",
    "            my_id = line_str.lstrip('>').rstrip('\\n')\n",
    "            fasta_dict[my_id] = ''\n",
    "        else:\n",
    "            fasta_dict[my_id] += line_str.rstrip('\\n')\n",
    "            \n",
    "sequences = []\n",
    "for sequence_ID in sequence_IDs:\n",
    "    sequences.append(fasta_dict[sequence_ID])"
   ]
  },
  {
   "cell_type": "code",
   "execution_count": 8,
   "id": "suitable-chemical",
   "metadata": {},
   "outputs": [
    {
     "name": "stdout",
     "output_type": "stream",
     "text": [
      "(65, True)\n",
      "(15, True)\n"
     ]
    }
   ],
   "source": [
    "for sequence in sequences:\n",
    "    print(contains_restriction(sequence))"
   ]
  },
  {
   "cell_type": "code",
   "execution_count": 22,
   "id": "included-colon",
   "metadata": {},
   "outputs": [],
   "source": [
    "k562_specific_df = pd.concat(k562_specific_dfs, ignore_index=True)\n",
    "# hepg2_specific_df = pd.concat(hepg2_specific_dfs, ignore_index=True)\n",
    "# sknsh_specific_df = pd.concat(sknsh_specific_dfs, ignore_index=True)\n",
    "\n",
    "k562_specific_df.sort_values(by='OverMaxB_K562', ascending=False, inplace=True, ignore_index=True)\n",
    "# hepg2_specific_df.sort_values(by='OverMaxB_HepG2', ascending=False, inplace=True, ignore_index=True)\n",
    "# sknsh_specific_df.sort_values(by='OverMaxB_SKNSH', ascending=False, inplace=True, ignore_index=True)\n",
    "\n",
    "k562_specific_df = k562_specific_df[~k562_specific_df['nt_sequence'].str.contains(\"N\")].reset_index(drop=True)\n",
    "# hepg2_specific_df = hepg2_specific_df[~hepg2_specific_df['nt_sequence'].str.contains(\"N\")].reset_index(drop=True)\n",
    "# sknsh_specific_df = sknsh_specific_df[~sknsh_specific_df['nt_sequence'].str.contains(\"N\")].reset_index(drop=True)\n",
    "\n",
    "k562_specific_df = k562_specific_df[k562_specific_df['K562_pred'] > 1].reset_index(drop=True)\n",
    "# hepg2_specific_df = hepg2_specific_df[hepg2_specific_df['HepG2_pred'] > 1].reset_index(drop=True)\n",
    "# sknsh_specific_df = sknsh_specific_df[sknsh_specific_df['SKNSH_pred'] > 1].reset_index(drop=True)\n",
    "\n",
    "k562_out_df = k562_specific_df[:4010]\n",
    "# hepg2_out_df = hepg2_specific_df[:4000]\n",
    "# sknsh_out_df = sknsh_specific_df[:4000]"
   ]
  },
  {
   "cell_type": "code",
   "execution_count": 11,
   "id": "legendary-protection",
   "metadata": {},
   "outputs": [],
   "source": [
    "rootdir = 'top_sequences_files'\n",
    "fasta_file_names = ['rc__hepg2__gw__track_000__round_0__20211210_203441__37997823.fa',\n",
    "             'rc__k562__gw__track_000__round_0__20211210_203441__47591334.fa',\n",
    "             'rc__sknsh__gw__track_000__round_0__20211210_203441__82237643.fa']\n",
    "\n",
    "fasta_dict = {}\n",
    "for fasta_file_name in fasta_file_names:\n",
    "    fasta_file_path = os.path.join(rootdir, fasta_file_name)\n",
    "    with open(fasta_file_path, 'r') as f:\n",
    "        for line in f:\n",
    "            line_str = str(line)\n",
    "            if line_str[0] == '>':\n",
    "                my_id = line_str.lstrip('>').rstrip('\\n')\n",
    "                fasta_dict[my_id] = ''\n",
    "            else:\n",
    "                fasta_dict[my_id] += line_str.rstrip('\\n')"
   ]
  },
  {
   "cell_type": "code",
   "execution_count": 18,
   "id": "curious-seminar",
   "metadata": {},
   "outputs": [],
   "source": [
    "sequence_coords = []\n",
    "for sequence in sequences:\n",
    "    sequence_coords.append(list(fasta_dict.keys())[list(fasta_dict.values()).index(sequence)]) "
   ]
  },
  {
   "cell_type": "code",
   "execution_count": 19,
   "id": "arbitrary-cowboy",
   "metadata": {},
   "outputs": [
    {
     "name": "stdout",
     "output_type": "stream",
     "text": [
      "['20211210_203441__47591334__2418::gw__k562__0', '20211210_203441__47591334__3234::gw__k562__0']\n",
      "['chr16:88455900-88456100', 'chr16:88455950-88456150']\n"
     ]
    }
   ],
   "source": [
    "print(sequence_IDs)\n",
    "print(sequence_coords)"
   ]
  },
  {
   "cell_type": "code",
   "execution_count": 20,
   "id": "rental-weight",
   "metadata": {},
   "outputs": [],
   "source": [
    "already_proposed = list(fasta_dict.keys())"
   ]
  },
  {
   "cell_type": "code",
   "execution_count": 25,
   "id": "suburban-primary",
   "metadata": {},
   "outputs": [
    {
     "name": "stdout",
     "output_type": "stream",
     "text": [
      "4000\n",
      "10\n"
     ]
    }
   ],
   "source": [
    "count = 0\n",
    "not_count = 0\n",
    "for ID in k562_out_df['ID']:\n",
    "    if ID in already_proposed:\n",
    "        count += 1\n",
    "    else:\n",
    "        not_count += 1\n",
    "print(count)\n",
    "print(not_count)"
   ]
  },
  {
   "cell_type": "code",
   "execution_count": 26,
   "id": "preliminary-preparation",
   "metadata": {},
   "outputs": [
    {
     "data": {
      "text/html": [
       "<div>\n",
       "<style scoped>\n",
       "    .dataframe tbody tr th:only-of-type {\n",
       "        vertical-align: middle;\n",
       "    }\n",
       "\n",
       "    .dataframe tbody tr th {\n",
       "        vertical-align: top;\n",
       "    }\n",
       "\n",
       "    .dataframe thead th {\n",
       "        text-align: right;\n",
       "    }\n",
       "</style>\n",
       "<table border=\"1\" class=\"dataframe\">\n",
       "  <thead>\n",
       "    <tr style=\"text-align: right;\">\n",
       "      <th></th>\n",
       "      <th>ID</th>\n",
       "      <th>nt_sequence</th>\n",
       "      <th>seq_len</th>\n",
       "      <th>K562_pred</th>\n",
       "      <th>HepG2_pred</th>\n",
       "      <th>SKNSH_pred</th>\n",
       "      <th>OverMaxB_K562</th>\n",
       "      <th>OverMaxB_HepG2</th>\n",
       "      <th>OverMaxB_SKNSH</th>\n",
       "    </tr>\n",
       "  </thead>\n",
       "  <tbody>\n",
       "    <tr>\n",
       "      <th>4000</th>\n",
       "      <td>chr10:82311000-82311200</td>\n",
       "      <td>ATTACTGATGAGGTATTACTCTCTGAGTTGCTCTAAGATTGAGCCA...</td>\n",
       "      <td>200</td>\n",
       "      <td>4.816442</td>\n",
       "      <td>0.682662</td>\n",
       "      <td>0.713479</td>\n",
       "      <td>4.584804</td>\n",
       "      <td>-4.630955</td>\n",
       "      <td>-4.584804</td>\n",
       "    </tr>\n",
       "    <tr>\n",
       "      <th>4001</th>\n",
       "      <td>chr3:84759100-84759300</td>\n",
       "      <td>GCAGCTGGAAGAGCCTGATAAGCATTCCCAGTCTCCAATGTGAACC...</td>\n",
       "      <td>200</td>\n",
       "      <td>3.381837</td>\n",
       "      <td>-0.115028</td>\n",
       "      <td>-0.146358</td>\n",
       "      <td>4.584784</td>\n",
       "      <td>-4.584784</td>\n",
       "      <td>-4.651821</td>\n",
       "    </tr>\n",
       "    <tr>\n",
       "      <th>4002</th>\n",
       "      <td>chr2:112069700-112069900</td>\n",
       "      <td>CTGTGTCAAACGGTAGTTCTCTTTTCAGCTCTTTGAGGAATTGCCA...</td>\n",
       "      <td>200</td>\n",
       "      <td>3.298926</td>\n",
       "      <td>-0.155040</td>\n",
       "      <td>-0.322825</td>\n",
       "      <td>4.584747</td>\n",
       "      <td>-4.584747</td>\n",
       "      <td>-4.965850</td>\n",
       "    </tr>\n",
       "    <tr>\n",
       "      <th>4003</th>\n",
       "      <td>chr6:36960600-36960800</td>\n",
       "      <td>GCCCTTTCCCTCTGGATCCTGCCACCCCTCCCTCTCCCTCCACCCC...</td>\n",
       "      <td>200</td>\n",
       "      <td>7.363471</td>\n",
       "      <td>2.836771</td>\n",
       "      <td>2.551322</td>\n",
       "      <td>4.584681</td>\n",
       "      <td>-4.584681</td>\n",
       "      <td>-4.889494</td>\n",
       "    </tr>\n",
       "    <tr>\n",
       "      <th>4004</th>\n",
       "      <td>chr9:34975700-34975900</td>\n",
       "      <td>TTTTTTTTTAACTAAAATACATTTTTAGCACAGCCTAACACAGAAG...</td>\n",
       "      <td>200</td>\n",
       "      <td>3.433438</td>\n",
       "      <td>-0.144171</td>\n",
       "      <td>-0.089544</td>\n",
       "      <td>4.584382</td>\n",
       "      <td>-4.700415</td>\n",
       "      <td>-4.584382</td>\n",
       "    </tr>\n",
       "    <tr>\n",
       "      <th>4005</th>\n",
       "      <td>chr17:54436400-54436600</td>\n",
       "      <td>AATGGGTGGGTGTGGTTACAGCTTCAGCAGACTTAAACATCCCTGC...</td>\n",
       "      <td>200</td>\n",
       "      <td>4.725089</td>\n",
       "      <td>0.652705</td>\n",
       "      <td>0.447912</td>\n",
       "      <td>4.584150</td>\n",
       "      <td>-4.584150</td>\n",
       "      <td>-4.907268</td>\n",
       "    </tr>\n",
       "    <tr>\n",
       "      <th>4006</th>\n",
       "      <td>chr8:105704600-105704800</td>\n",
       "      <td>GATAGAAAGAAAATAAGTAGCGGGTGTGTTGCATTTAATTATGGAA...</td>\n",
       "      <td>200</td>\n",
       "      <td>3.623678</td>\n",
       "      <td>0.006606</td>\n",
       "      <td>-0.136017</td>\n",
       "      <td>4.583804</td>\n",
       "      <td>-4.583804</td>\n",
       "      <td>-4.878712</td>\n",
       "    </tr>\n",
       "    <tr>\n",
       "      <th>4007</th>\n",
       "      <td>chrX:71450750-71450950</td>\n",
       "      <td>CTGGCACACAAAAAGTATTAAGAAAATGTCTTATGAATAAATAAGT...</td>\n",
       "      <td>200</td>\n",
       "      <td>4.207224</td>\n",
       "      <td>0.233571</td>\n",
       "      <td>0.328591</td>\n",
       "      <td>4.583682</td>\n",
       "      <td>-4.750466</td>\n",
       "      <td>-4.583682</td>\n",
       "    </tr>\n",
       "    <tr>\n",
       "      <th>4008</th>\n",
       "      <td>chr6:156854850-156855050</td>\n",
       "      <td>ATAATTAAAACAAAAATATGATCATAAGAATAAATGAACAAAATGT...</td>\n",
       "      <td>200</td>\n",
       "      <td>4.363891</td>\n",
       "      <td>0.422825</td>\n",
       "      <td>0.265513</td>\n",
       "      <td>4.583530</td>\n",
       "      <td>-4.583530</td>\n",
       "      <td>-4.852461</td>\n",
       "    </tr>\n",
       "    <tr>\n",
       "      <th>4009</th>\n",
       "      <td>chr6:168235700-168235900</td>\n",
       "      <td>AGGGGAGGAGGAGCACATGTGATAACTAGGGGAGGAGGAGCATGGT...</td>\n",
       "      <td>200</td>\n",
       "      <td>7.458227</td>\n",
       "      <td>2.927886</td>\n",
       "      <td>2.583333</td>\n",
       "      <td>4.583274</td>\n",
       "      <td>-4.583274</td>\n",
       "      <td>-4.949840</td>\n",
       "    </tr>\n",
       "  </tbody>\n",
       "</table>\n",
       "</div>"
      ],
      "text/plain": [
       "                            ID  \\\n",
       "4000   chr10:82311000-82311200   \n",
       "4001    chr3:84759100-84759300   \n",
       "4002  chr2:112069700-112069900   \n",
       "4003    chr6:36960600-36960800   \n",
       "4004    chr9:34975700-34975900   \n",
       "4005   chr17:54436400-54436600   \n",
       "4006  chr8:105704600-105704800   \n",
       "4007    chrX:71450750-71450950   \n",
       "4008  chr6:156854850-156855050   \n",
       "4009  chr6:168235700-168235900   \n",
       "\n",
       "                                            nt_sequence  seq_len  K562_pred  \\\n",
       "4000  ATTACTGATGAGGTATTACTCTCTGAGTTGCTCTAAGATTGAGCCA...      200   4.816442   \n",
       "4001  GCAGCTGGAAGAGCCTGATAAGCATTCCCAGTCTCCAATGTGAACC...      200   3.381837   \n",
       "4002  CTGTGTCAAACGGTAGTTCTCTTTTCAGCTCTTTGAGGAATTGCCA...      200   3.298926   \n",
       "4003  GCCCTTTCCCTCTGGATCCTGCCACCCCTCCCTCTCCCTCCACCCC...      200   7.363471   \n",
       "4004  TTTTTTTTTAACTAAAATACATTTTTAGCACAGCCTAACACAGAAG...      200   3.433438   \n",
       "4005  AATGGGTGGGTGTGGTTACAGCTTCAGCAGACTTAAACATCCCTGC...      200   4.725089   \n",
       "4006  GATAGAAAGAAAATAAGTAGCGGGTGTGTTGCATTTAATTATGGAA...      200   3.623678   \n",
       "4007  CTGGCACACAAAAAGTATTAAGAAAATGTCTTATGAATAAATAAGT...      200   4.207224   \n",
       "4008  ATAATTAAAACAAAAATATGATCATAAGAATAAATGAACAAAATGT...      200   4.363891   \n",
       "4009  AGGGGAGGAGGAGCACATGTGATAACTAGGGGAGGAGGAGCATGGT...      200   7.458227   \n",
       "\n",
       "      HepG2_pred  SKNSH_pred  OverMaxB_K562  OverMaxB_HepG2  OverMaxB_SKNSH  \n",
       "4000    0.682662    0.713479       4.584804       -4.630955       -4.584804  \n",
       "4001   -0.115028   -0.146358       4.584784       -4.584784       -4.651821  \n",
       "4002   -0.155040   -0.322825       4.584747       -4.584747       -4.965850  \n",
       "4003    2.836771    2.551322       4.584681       -4.584681       -4.889494  \n",
       "4004   -0.144171   -0.089544       4.584382       -4.700415       -4.584382  \n",
       "4005    0.652705    0.447912       4.584150       -4.584150       -4.907268  \n",
       "4006    0.006606   -0.136017       4.583804       -4.583804       -4.878712  \n",
       "4007    0.233571    0.328591       4.583682       -4.750466       -4.583682  \n",
       "4008    0.422825    0.265513       4.583530       -4.583530       -4.852461  \n",
       "4009    2.927886    2.583333       4.583274       -4.583274       -4.949840  "
      ]
     },
     "execution_count": 26,
     "metadata": {},
     "output_type": "execute_result"
    }
   ],
   "source": [
    "k562_out_df[4000:]"
   ]
  },
  {
   "cell_type": "code",
   "execution_count": 38,
   "id": "classical-tulsa",
   "metadata": {},
   "outputs": [],
   "source": [
    "new_proposals = k562_out_df.iloc[4001:4003]['nt_sequence']\n",
    "new_proposals_IDs = k562_out_df.iloc[4001:4003]['ID']\n",
    "\n",
    "new_proposals_dict = dict(zip(new_proposals_IDs, new_proposals))"
   ]
  },
  {
   "cell_type": "code",
   "execution_count": 41,
   "id": "indirect-correction",
   "metadata": {},
   "outputs": [
    {
     "name": "stdout",
     "output_type": "stream",
     "text": [
      "chr3:84759100-84759300\n",
      "(200, False)\n",
      "chr2:112069700-112069900\n",
      "(200, False)\n"
     ]
    }
   ],
   "source": [
    "for proposal_ID, proposal_seq in new_proposals_dict.items():\n",
    "    print(proposal_ID)\n",
    "    print(contains_restriction(proposal_seq))    "
   ]
  },
  {
   "cell_type": "code",
   "execution_count": 46,
   "id": "casual-andorra",
   "metadata": {},
   "outputs": [],
   "source": [
    "asiSI_file_name = 'BODA_asiSI_gw_sequence_proposals.fa'\n",
    "with open(asiSI_file_name, 'w') as ofile:\n",
    "    for ID, sequence_str in new_proposals_dict.items():\n",
    "        ofile.write(\">\" + ID + \"\\n\" + sequence_str + \"\\n\")"
   ]
  },
  {
   "cell_type": "code",
   "execution_count": 45,
   "id": "interested-stockholm",
   "metadata": {},
   "outputs": [],
   "source": [
    "asiSI_file_name = 'BODA_asiSI_gw_sequence_replacements.fa'\n",
    "with open(asiSI_file_name, 'w') as ofile:\n",
    "    for seq_idx, sequence_str in enumerate(new_proposals_dict.values()):\n",
    "        ID = sequence_IDs[seq_idx]\n",
    "        ofile.write(\">\" + ID + \"\\n\" + sequence_str + \"\\n\")"
   ]
  },
  {
   "cell_type": "code",
   "execution_count": null,
   "id": "important-scratch",
   "metadata": {},
   "outputs": [],
   "source": []
  }
 ],
 "metadata": {
  "kernelspec": {
   "display_name": "Python 3",
   "language": "python",
   "name": "python3"
  },
  "language_info": {
   "codemirror_mode": {
    "name": "ipython",
    "version": 3
   },
   "file_extension": ".py",
   "mimetype": "text/x-python",
   "name": "python",
   "nbconvert_exporter": "python",
   "pygments_lexer": "ipython3",
   "version": "3.7.10"
  }
 },
 "nbformat": 4,
 "nbformat_minor": 5
}
