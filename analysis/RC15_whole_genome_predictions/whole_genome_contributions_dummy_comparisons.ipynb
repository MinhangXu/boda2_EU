{
 "cells": [
  {
   "cell_type": "code",
   "execution_count": 1,
   "id": "exempt-coupon",
   "metadata": {},
   "outputs": [
    {
     "data": {
      "text/html": [
       "<style>.container { width:98% !important; }</style>"
      ],
      "text/plain": [
       "<IPython.core.display.HTML object>"
      ]
     },
     "metadata": {},
     "output_type": "display_data"
    }
   ],
   "source": [
    "import sys\n",
    "import os\n",
    "import subprocess\n",
    "import tarfile\n",
    "import shutil\n",
    "import random\n",
    "from functools import partial\n",
    "from tqdm import tqdm\n",
    "from tqdm.auto import tqdm\n",
    "tqdm.pandas()\n",
    "\n",
    "import numpy as np\n",
    "import torch\n",
    "import torch.nn as nn\n",
    "import torch.nn.functional as F\n",
    "from torch.utils.data import (random_split, DataLoader, TensorDataset, ConcatDataset)\n",
    "import pandas as pd\n",
    "import matplotlib.pyplot as plt\n",
    "import seaborn as sns\n",
    "from mpl_toolkits import mplot3d\n",
    "from Bio import motifs\n",
    "import pickle\n",
    "from datetime import datetime\n",
    "import scipy.stats as stats\n",
    "import math\n",
    "\n",
    "import boda\n",
    "from boda.common import constants, utils\n",
    "\n",
    "boda_src = os.path.join( os.path.dirname( os.path.dirname( os.getcwd() ) ), 'src' )\n",
    "sys.path.insert(0, boda_src)\n",
    "\n",
    "from main import unpack_artifact, model_fn\n",
    "from pymeme import streme, parse_streme_output\n",
    "\n",
    "from torch.distributions.categorical import Categorical\n",
    "from boda.generator.plot_tools import matrix_to_dms, ppm_to_IC, ppm_to_pwm, counts_to_ppm\n",
    "\n",
    "from IPython.core.display import display, HTML\n",
    "display(HTML(\"<style>.container { width:98% !important; }</style>\"))"
   ]
  },
  {
   "cell_type": "markdown",
   "id": "finished-custody",
   "metadata": {},
   "source": [
    "### Get reference scores"
   ]
  },
  {
   "cell_type": "code",
   "execution_count": 2,
   "id": "protected-collapse",
   "metadata": {},
   "outputs": [
    {
     "name": "stdout",
     "output_type": "stream",
     "text": [
      "Requirement already satisfied: h5py in /opt/conda/lib/python3.7/site-packages (3.7.0)\n",
      "Requirement already satisfied: numpy>=1.14.5 in /opt/conda/lib/python3.7/site-packages (from h5py) (1.19.2)\n",
      "\u001b[33mWARNING: You are using pip version 20.2.3; however, version 22.3.1 is available.\n",
      "You should consider upgrading via the '/opt/conda/bin/python3.7 -m pip install --upgrade pip' command.\u001b[0m\n"
     ]
    }
   ],
   "source": [
    "!pip install h5py"
   ]
  },
  {
   "cell_type": "code",
   "execution_count": 4,
   "id": "innovative-folks",
   "metadata": {},
   "outputs": [
    {
     "name": "stdout",
     "output_type": "stream",
     "text": [
      "chr9:13262450-13262650 chr9:13572350-13572550\n"
     ]
    },
    {
     "data": {
      "text/plain": [
       "(6199, 4, 200, 3)"
      ]
     },
     "execution_count": 4,
     "metadata": {},
     "output_type": "execute_result"
    }
   ],
   "source": [
    "import h5py\n",
    "\n",
    "f = h5py.File('contrib_test_2_v2.h5', 'r')\n",
    "\n",
    "locations = f['locations'][:]\n",
    "scores    = f['contribution_scores'][:]\n",
    "\n",
    "# score axis names: ['windows', 'tokens', 'length', 'cells']\n",
    "\n",
    "start = f'chr{locations[0][0] + 1}:{locations[0][1]}-{locations[0][2]}'\n",
    "stop = f'chr{locations[-1][0] + 1}:{locations[-1][1]}-{locations[-1][2]}'\n",
    "    \n",
    "print(start, stop)\n",
    "scores.shape"
   ]
  },
  {
   "cell_type": "markdown",
   "id": "moral-iceland",
   "metadata": {},
   "source": [
    "### Get model and batch of sequences"
   ]
  },
  {
   "cell_type": "code",
   "execution_count": 6,
   "id": "olive-pendant",
   "metadata": {},
   "outputs": [
    {
     "name": "stdout",
     "output_type": "stream",
     "text": [
      "Loaded model from 20211113_021200 in eval mode\n",
      "\n"
     ]
    }
   ],
   "source": [
    "# if os.path.isdir('./artifacts'):\n",
    "#     shutil.rmtree('./artifacts')\n",
    "# hpo_rec = 'gs://syrgoth/aip_ui_test/model_artifacts__20211113_021200__287348.tar.gz'\n",
    "# unpack_artifact(hpo_rec)\n",
    "\n",
    "model_dir = './artifacts'\n",
    "model = model_fn(model_dir)\n",
    "#model.cuda()\n",
    "model.eval()\n",
    "print('')"
   ]
  },
  {
   "cell_type": "code",
   "execution_count": 7,
   "id": "hawaiian-bryan",
   "metadata": {},
   "outputs": [],
   "source": [
    "def dna2tensor_approx(sequence_str, vocab_list=constants.STANDARD_NT):\n",
    "    seq_tensor = np.zeros((len(vocab_list), len(sequence_str)))\n",
    "    for letterIdx, letter in enumerate(sequence_str):\n",
    "        try:\n",
    "            seq_tensor[vocab_list.index(letter), letterIdx] = 1\n",
    "        except:\n",
    "            seq_tensor[:, letterIdx] = 0.25\n",
    "    seq_tensor = torch.Tensor(seq_tensor)\n",
    "    return seq_tensor\n",
    "\n",
    "def df_to_onehot_tensor(in_df, seq_column='nt_sequence'):\n",
    "    onehot_sequences = torch.stack([dna2tensor_approx(subsequence) \\\n",
    "                                for subsequence in tqdm(in_df[seq_column])])\n",
    "    return onehot_sequences"
   ]
  },
  {
   "cell_type": "code",
   "execution_count": 8,
   "id": "textile-lesbian",
   "metadata": {},
   "outputs": [
    {
     "data": {
      "text/html": [
       "<div>\n",
       "<style scoped>\n",
       "    .dataframe tbody tr th:only-of-type {\n",
       "        vertical-align: middle;\n",
       "    }\n",
       "\n",
       "    .dataframe tbody tr th {\n",
       "        vertical-align: top;\n",
       "    }\n",
       "\n",
       "    .dataframe thead th {\n",
       "        text-align: right;\n",
       "    }\n",
       "</style>\n",
       "<table border=\"1\" class=\"dataframe\">\n",
       "  <thead>\n",
       "    <tr style=\"text-align: right;\">\n",
       "      <th></th>\n",
       "      <th>ID</th>\n",
       "      <th>nt_sequence</th>\n",
       "      <th>seq_len</th>\n",
       "    </tr>\n",
       "  </thead>\n",
       "  <tbody>\n",
       "    <tr>\n",
       "      <th>0</th>\n",
       "      <td>chr1:0-200</td>\n",
       "      <td>NNNNNNNNNNNNNNNNNNNNNNNNNNNNNNNNNNNNNNNNNNNNNN...</td>\n",
       "      <td>200</td>\n",
       "    </tr>\n",
       "    <tr>\n",
       "      <th>1</th>\n",
       "      <td>chr9:7468300-7468500</td>\n",
       "      <td>CTGGAGGAATCAGTTTATTTGTTGTGAATGCTTTCGAGATGGGATT...</td>\n",
       "      <td>200</td>\n",
       "    </tr>\n",
       "    <tr>\n",
       "      <th>2</th>\n",
       "      <td>chr9:7468350-7468550</td>\n",
       "      <td>AAACCTATTAATTCAGCTATTATTTATTGAGTGGCTGCTATGTGTG...</td>\n",
       "      <td>200</td>\n",
       "    </tr>\n",
       "    <tr>\n",
       "      <th>3</th>\n",
       "      <td>chr9:7468400-7468600</td>\n",
       "      <td>GCTGTGAAAAAAAACAGTGAAGCGGGCTCAGTCCCTATTCTCAGCA...</td>\n",
       "      <td>200</td>\n",
       "    </tr>\n",
       "    <tr>\n",
       "      <th>4</th>\n",
       "      <td>chr9:7468450-7468650</td>\n",
       "      <td>GTGGTCTAGAAGGAGAGAGAGATTTTTGGAAGAGGTCATCCAAATT...</td>\n",
       "      <td>200</td>\n",
       "    </tr>\n",
       "    <tr>\n",
       "      <th>...</th>\n",
       "      <td>...</td>\n",
       "      <td>...</td>\n",
       "      <td>...</td>\n",
       "    </tr>\n",
       "    <tr>\n",
       "      <th>999995</th>\n",
       "      <td>chr9:57468000-57468200</td>\n",
       "      <td>NNNNNNNNNNNNNNNNNNNNNNNNNNNNNNNNNNNNNNNNNNNNNN...</td>\n",
       "      <td>200</td>\n",
       "    </tr>\n",
       "    <tr>\n",
       "      <th>999996</th>\n",
       "      <td>chr9:57468050-57468250</td>\n",
       "      <td>NNNNNNNNNNNNNNNNNNNNNNNNNNNNNNNNNNNNNNNNNNNNNN...</td>\n",
       "      <td>200</td>\n",
       "    </tr>\n",
       "    <tr>\n",
       "      <th>999997</th>\n",
       "      <td>chr9:57468100-57468300</td>\n",
       "      <td>NNNNNNNNNNNNNNNNNNNNNNNNNNNNNNNNNNNNNNNNNNNNNN...</td>\n",
       "      <td>200</td>\n",
       "    </tr>\n",
       "    <tr>\n",
       "      <th>999998</th>\n",
       "      <td>chr9:57468150-57468350</td>\n",
       "      <td>NNNNNNNNNNNNNNNNNNNNNNNNNNNNNNNNNNNNNNNNNNNNNN...</td>\n",
       "      <td>200</td>\n",
       "    </tr>\n",
       "    <tr>\n",
       "      <th>999999</th>\n",
       "      <td>chr9:57468200-57468400</td>\n",
       "      <td>NNNNNNNNNNNNNNNNNNNNNNNNNNNNNNNNNNNNNNNNNNNNNN...</td>\n",
       "      <td>200</td>\n",
       "    </tr>\n",
       "  </tbody>\n",
       "</table>\n",
       "<p>1000000 rows × 3 columns</p>\n",
       "</div>"
      ],
      "text/plain": [
       "                            ID  \\\n",
       "0                   chr1:0-200   \n",
       "1         chr9:7468300-7468500   \n",
       "2         chr9:7468350-7468550   \n",
       "3         chr9:7468400-7468600   \n",
       "4         chr9:7468450-7468650   \n",
       "...                        ...   \n",
       "999995  chr9:57468000-57468200   \n",
       "999996  chr9:57468050-57468250   \n",
       "999997  chr9:57468100-57468300   \n",
       "999998  chr9:57468150-57468350   \n",
       "999999  chr9:57468200-57468400   \n",
       "\n",
       "                                              nt_sequence  seq_len  \n",
       "0       NNNNNNNNNNNNNNNNNNNNNNNNNNNNNNNNNNNNNNNNNNNNNN...      200  \n",
       "1       CTGGAGGAATCAGTTTATTTGTTGTGAATGCTTTCGAGATGGGATT...      200  \n",
       "2       AAACCTATTAATTCAGCTATTATTTATTGAGTGGCTGCTATGTGTG...      200  \n",
       "3       GCTGTGAAAAAAAACAGTGAAGCGGGCTCAGTCCCTATTCTCAGCA...      200  \n",
       "4       GTGGTCTAGAAGGAGAGAGAGATTTTTGGAAGAGGTCATCCAAATT...      200  \n",
       "...                                                   ...      ...  \n",
       "999995  NNNNNNNNNNNNNNNNNNNNNNNNNNNNNNNNNNNNNNNNNNNNNN...      200  \n",
       "999996  NNNNNNNNNNNNNNNNNNNNNNNNNNNNNNNNNNNNNNNNNNNNNN...      200  \n",
       "999997  NNNNNNNNNNNNNNNNNNNNNNNNNNNNNNNNNNNNNNNNNNNNNN...      200  \n",
       "999998  NNNNNNNNNNNNNNNNNNNNNNNNNNNNNNNNNNNNNNNNNNNNNN...      200  \n",
       "999999  NNNNNNNNNNNNNNNNNNNNNNNNNNNNNNNNNNNNNNNNNNNNNN...      200  \n",
       "\n",
       "[1000000 rows x 3 columns]"
      ]
     },
     "execution_count": 8,
     "metadata": {},
     "output_type": "execute_result"
    }
   ],
   "source": [
    "chunk_idx = 35\n",
    "chunk_name = 'chunk_' + str(chunk_idx).zfill(2)\n",
    "#print(chunk_name)\n",
    "chunk_path = 'df_chunks/' + chunk_name + '.txt'\n",
    "\n",
    "line_dict = {} \n",
    "with open(chunk_path, 'r') as f:\n",
    "    for line in f:\n",
    "        ID, sequence = line.lstrip('>::').rstrip('\\n').split('\\t')\n",
    "        line_dict[ID] = sequence.upper()\n",
    "temp_df = pd.DataFrame(line_dict.items(), columns=['ID', 'nt_sequence'])\n",
    "temp_df['seq_len'] = temp_df.apply(lambda x: len(x['nt_sequence']), axis=1)\n",
    "\n",
    "temp_df"
   ]
  },
  {
   "cell_type": "code",
   "execution_count": 41,
   "id": "altered-indian",
   "metadata": {},
   "outputs": [
    {
     "data": {
      "application/vnd.jupyter.widget-view+json": {
       "model_id": "229a4ca571db4079859c0ead3ec5aed1",
       "version_major": 2,
       "version_minor": 0
      },
      "text/plain": [
       "  0%|          | 0/6199 [00:00<?, ?it/s]"
      ]
     },
     "metadata": {},
     "output_type": "display_data"
    },
    {
     "data": {
      "text/plain": [
       "(115884, 122082)"
      ]
     },
     "execution_count": 41,
     "metadata": {},
     "output_type": "execute_result"
    }
   ],
   "source": [
    "start_idx, stop_idx = temp_df[temp_df['ID'] == start].index.item(), temp_df[temp_df['ID'] == stop].index.item()\n",
    "\n",
    "batch_df = temp_df[start_idx : stop_idx + 1].reset_index(drop=True)\n",
    "\n",
    "example_batch = df_to_onehot_tensor(batch_df)\n",
    "\n",
    "start_idx, stop_idx"
   ]
  },
  {
   "cell_type": "code",
   "execution_count": 42,
   "id": "romance-rogers",
   "metadata": {},
   "outputs": [
    {
     "data": {
      "text/html": [
       "<div>\n",
       "<style scoped>\n",
       "    .dataframe tbody tr th:only-of-type {\n",
       "        vertical-align: middle;\n",
       "    }\n",
       "\n",
       "    .dataframe tbody tr th {\n",
       "        vertical-align: top;\n",
       "    }\n",
       "\n",
       "    .dataframe thead th {\n",
       "        text-align: right;\n",
       "    }\n",
       "</style>\n",
       "<table border=\"1\" class=\"dataframe\">\n",
       "  <thead>\n",
       "    <tr style=\"text-align: right;\">\n",
       "      <th></th>\n",
       "      <th>ID</th>\n",
       "      <th>nt_sequence</th>\n",
       "      <th>seq_len</th>\n",
       "    </tr>\n",
       "  </thead>\n",
       "  <tbody>\n",
       "    <tr>\n",
       "      <th>0</th>\n",
       "      <td>chr9:13262450-13262650</td>\n",
       "      <td>AAAAAAATAATAATAAAAATTAAAAAGAGTTCTCTTCATAGGAGGA...</td>\n",
       "      <td>200</td>\n",
       "    </tr>\n",
       "    <tr>\n",
       "      <th>1</th>\n",
       "      <td>chr9:13262500-13262700</td>\n",
       "      <td>AATGTTCTTTCTTCAAACTCTACTAGAAAAATTCAGCCAAGTATAC...</td>\n",
       "      <td>200</td>\n",
       "    </tr>\n",
       "    <tr>\n",
       "      <th>2</th>\n",
       "      <td>chr9:13262550-13262750</td>\n",
       "      <td>TAAAACTTTAATGTACCACTAAAAAAACAGAAATAGAGTCTATATA...</td>\n",
       "      <td>200</td>\n",
       "    </tr>\n",
       "    <tr>\n",
       "      <th>3</th>\n",
       "      <td>chr9:13262600-13262800</td>\n",
       "      <td>ATACACCAAGATGAAAAAAAGATGAACAAAAAATACTCTAGCAATC...</td>\n",
       "      <td>200</td>\n",
       "    </tr>\n",
       "    <tr>\n",
       "      <th>4</th>\n",
       "      <td>chr9:13262650-13262850</td>\n",
       "      <td>AGAGGTTAGGAATGAGAAAAAAAGGAAAAAGGAGAAGCCATAGTAA...</td>\n",
       "      <td>200</td>\n",
       "    </tr>\n",
       "    <tr>\n",
       "      <th>...</th>\n",
       "      <td>...</td>\n",
       "      <td>...</td>\n",
       "      <td>...</td>\n",
       "    </tr>\n",
       "    <tr>\n",
       "      <th>6194</th>\n",
       "      <td>chr9:13572150-13572350</td>\n",
       "      <td>AGTCCTTTAGCCTCTCTGAAACTTGGGTTTCTCATCTGCAAAATGG...</td>\n",
       "      <td>200</td>\n",
       "    </tr>\n",
       "    <tr>\n",
       "      <th>6195</th>\n",
       "      <td>chr9:13572200-13572400</td>\n",
       "      <td>GAAATTATATTGACTCTTGCCAATTCACAGGCTTGTTGTAAGGAAC...</td>\n",
       "      <td>200</td>\n",
       "    </tr>\n",
       "    <tr>\n",
       "      <th>6196</th>\n",
       "      <td>chr9:13572250-13572450</td>\n",
       "      <td>TAATCTTTATTAACTTTAGATCACTATACAAATGTTCATTATTATA...</td>\n",
       "      <td>200</td>\n",
       "    </tr>\n",
       "    <tr>\n",
       "      <th>6197</th>\n",
       "      <td>chr9:13572300-13572500</td>\n",
       "      <td>TTATTTGTGTTACTGCTTTGTAAACCACACAAGGCTATATGATTGC...</td>\n",
       "      <td>200</td>\n",
       "    </tr>\n",
       "    <tr>\n",
       "      <th>6198</th>\n",
       "      <td>chr9:13572350-13572550</td>\n",
       "      <td>TATAATAATTATTATTTACATTAGAATTGTGTTGGCAATGCCTTAC...</td>\n",
       "      <td>200</td>\n",
       "    </tr>\n",
       "  </tbody>\n",
       "</table>\n",
       "<p>6199 rows × 3 columns</p>\n",
       "</div>"
      ],
      "text/plain": [
       "                          ID  \\\n",
       "0     chr9:13262450-13262650   \n",
       "1     chr9:13262500-13262700   \n",
       "2     chr9:13262550-13262750   \n",
       "3     chr9:13262600-13262800   \n",
       "4     chr9:13262650-13262850   \n",
       "...                      ...   \n",
       "6194  chr9:13572150-13572350   \n",
       "6195  chr9:13572200-13572400   \n",
       "6196  chr9:13572250-13572450   \n",
       "6197  chr9:13572300-13572500   \n",
       "6198  chr9:13572350-13572550   \n",
       "\n",
       "                                            nt_sequence  seq_len  \n",
       "0     AAAAAAATAATAATAAAAATTAAAAAGAGTTCTCTTCATAGGAGGA...      200  \n",
       "1     AATGTTCTTTCTTCAAACTCTACTAGAAAAATTCAGCCAAGTATAC...      200  \n",
       "2     TAAAACTTTAATGTACCACTAAAAAAACAGAAATAGAGTCTATATA...      200  \n",
       "3     ATACACCAAGATGAAAAAAAGATGAACAAAAAATACTCTAGCAATC...      200  \n",
       "4     AGAGGTTAGGAATGAGAAAAAAAGGAAAAAGGAGAAGCCATAGTAA...      200  \n",
       "...                                                 ...      ...  \n",
       "6194  AGTCCTTTAGCCTCTCTGAAACTTGGGTTTCTCATCTGCAAAATGG...      200  \n",
       "6195  GAAATTATATTGACTCTTGCCAATTCACAGGCTTGTTGTAAGGAAC...      200  \n",
       "6196  TAATCTTTATTAACTTTAGATCACTATACAAATGTTCATTATTATA...      200  \n",
       "6197  TTATTTGTGTTACTGCTTTGTAAACCACACAAGGCTATATGATTGC...      200  \n",
       "6198  TATAATAATTATTATTTACATTAGAATTGTGTTGGCAATGCCTTAC...      200  \n",
       "\n",
       "[6199 rows x 3 columns]"
      ]
     },
     "execution_count": 42,
     "metadata": {},
     "output_type": "execute_result"
    }
   ],
   "source": [
    "batch_df"
   ]
  },
  {
   "cell_type": "code",
   "execution_count": 31,
   "id": "editorial-bidder",
   "metadata": {},
   "outputs": [
    {
     "data": {
      "text/plain": [
       "torch.Size([6199, 4, 200])"
      ]
     },
     "execution_count": 31,
     "metadata": {},
     "output_type": "execute_result"
    }
   ],
   "source": [
    "#example_batch = example_batch[:500, ...]\n",
    "example_batch.shape"
   ]
  },
  {
   "cell_type": "markdown",
   "id": "active-appearance",
   "metadata": {},
   "source": [
    "### Function drafts"
   ]
  },
  {
   "cell_type": "code",
   "execution_count": 49,
   "id": "technical-malpractice",
   "metadata": {},
   "outputs": [],
   "source": [
    "class mpra_predictor(nn.Module):\n",
    "    def __init__(self,\n",
    "                 model,\n",
    "                 pred_idx=0,\n",
    "                 ini_in_len=200,\n",
    "                 model_in_len=600,\n",
    "                 cat_axis=-1,\n",
    "                 dual_pred=False):\n",
    "        super().__init__()\n",
    "        self.model = model\n",
    "        self.pred_idx = pred_idx\n",
    "        self.ini_in_len = ini_in_len \n",
    "        self.model_in_len = model_in_len\n",
    "        self.cat_axis = cat_axis  \n",
    "        self.dual_pred = dual_pred\n",
    "        \n",
    "        try: self.model.eval()\n",
    "        except: pass\n",
    "        \n",
    "        self.register_flanks()\n",
    "    \n",
    "    def forward(self, x):\n",
    "        pieces = [self.left_flank.repeat(x.shape[0], 1, 1), x, self.right_flank.repeat(x.shape[0], 1, 1)]\n",
    "        in_tensor = torch.cat( pieces, axis=self.cat_axis)\n",
    "        if self.dual_pred:\n",
    "            dual_tensor = utils.reverse_complement_onehot(in_tensor)\n",
    "            out_tensor = self.model(in_tensor)[:, self.pred_idx] + self.model(dual_tensor)[:, self.pred_idx]\n",
    "            out_tensor = out_tensor / 2.0\n",
    "        else:\n",
    "            out_tensor = self.model(in_tensor)[:, self.pred_idx]\n",
    "        return out_tensor\n",
    "    \n",
    "    def register_flanks(self):\n",
    "        missing_len = self.model_in_len - self.ini_in_len\n",
    "        left_idx = - missing_len//2 + missing_len%2\n",
    "        right_idx = missing_len//2 + missing_len%2\n",
    "        left_flank = utils.dna2tensor(constants.MPRA_UPSTREAM[left_idx:]).unsqueeze(0)\n",
    "        right_flank = utils.dna2tensor(constants.MPRA_DOWNSTREAM[:right_idx]).unsqueeze(0)         \n",
    "        self.register_buffer('left_flank', left_flank)\n",
    "        self.register_buffer('right_flank', right_flank) \n",
    "        \n",
    "\n",
    "def isg_contributions(sequences,\n",
    "                      predictor,\n",
    "                      num_steps=50,\n",
    "                      num_samples=20,\n",
    "                      eval_batch_size=1024,\n",
    "                      theta_factor=15,\n",
    "                      adaptive_sampling=False,\n",
    "                      adaptive_spacing=False\n",
    "                     ):\n",
    "    \n",
    "    batch_size = eval_batch_size // num_samples\n",
    "    temp_dataset = TensorDataset(sequences)\n",
    "    temp_dataloader = DataLoader(temp_dataset, batch_size=batch_size, shuffle=False, num_workers=2)\n",
    "    \n",
    "    if adaptive_sampling:\n",
    "        if num_steps == 100: \n",
    "            sample_ns = np.flip((np.arange(0, num_steps)**0.615).astype(int)).clip(min=2)\n",
    "        elif num_steps == 50:\n",
    "            sample_ns = np.flip((np.arange(0, num_steps)**0.77).astype(int)).clip(min=2)\n",
    "        else:\n",
    "            print('Not possible to do adaptive sampling with this num_steps yet')\n",
    "    else:\n",
    "        sample_ns = [num_samples for i in range(0, num_steps + 1)]\n",
    "        \n",
    "    if adaptive_spacing:\n",
    "        slope_coefficients = 1 / np.flip(20**(np.linspace(0, 1, num_steps)))\n",
    "        slope_coefficients = slope_coefficients / slope_coefficients.max()\n",
    "    else:\n",
    "        slope_coefficients = [i / num_steps for i in range(1, num_steps + 1)]\n",
    "    \n",
    "    all_salient_maps = []\n",
    "    all_gradients = []\n",
    "    for local_batch in tqdm(temp_dataloader):\n",
    "        target_thetas = (theta_factor * local_batch[0].cuda()).requires_grad_()\n",
    "        line_gradients = []\n",
    "        for i in range(0, num_steps):\n",
    "            point_thetas = slope_coefficients[i] * target_thetas\n",
    "            num_samples = sample_ns[i]\n",
    "            point_distributions = F.softmax(point_thetas, dim=-2)\n",
    "            nucleotide_probs = Categorical(torch.transpose(point_distributions, -2, -1))\n",
    "            sampled_idxs = nucleotide_probs.sample((num_samples, ))\n",
    "            sampled_nucleotides_T = F.one_hot(sampled_idxs, num_classes=4)\n",
    "            sampled_nucleotides = torch.transpose(sampled_nucleotides_T, -2, -1)\n",
    "            distribution_repeater = point_distributions.repeat(num_samples, *[1, 1, 1])\n",
    "            sampled_nucleotides = sampled_nucleotides - distribution_repeater.detach() + distribution_repeater \n",
    "            samples = sampled_nucleotides.flatten(0,1)\n",
    "            preds = predictor(samples)\n",
    "            point_predictions = preds.unflatten(0, (num_samples, target_thetas.shape[0])).mean(dim=0)\n",
    "            point_gradients = torch.autograd.grad(point_predictions.sum(), inputs=point_thetas, retain_graph=True)[0]\n",
    "            line_gradients.append(point_gradients)\n",
    "            \n",
    "        gradients = torch.stack(line_gradients).mean(dim=0).detach()\n",
    "        all_salient_maps.append(gradients * target_thetas.detach())\n",
    "        all_gradients.append(gradients)\n",
    "        \n",
    "    return theta_factor * torch.cat(all_gradients).cpu()\n",
    "    # return torch.cat(all_salient_maps).cpu(), theta_factor * torch.cat(all_gradients).cpu()\n",
    "\n",
    "\n",
    "def batch_to_contributions(onehot_sequences,\n",
    "                           model,\n",
    "                           model_output_len=3,\n",
    "                           seq_len=200,\n",
    "                           num_steps=50,\n",
    "                           num_samples=20,\n",
    "                           theta_factor=15,\n",
    "                           eval_batch_size=1040,\n",
    "                           adaptive_sampling=False,\n",
    "                           adaptive_spacing=False):\n",
    "    \n",
    "    extended_contributions = []\n",
    "    for i in range(model_output_len):\n",
    "        predictor = mpra_predictor(model=model, pred_idx=i, ini_in_len=seq_len).cuda()\n",
    "        extended_contributions.append(isg_contributions(onehot_sequences, predictor,\n",
    "                                                        num_steps = num_steps,\n",
    "                                                        num_samples=num_samples,\n",
    "                                                        theta_factor=theta_factor,\n",
    "                                                        eval_batch_size=eval_batch_size,\n",
    "                                                        adaptive_sampling=adaptive_sampling,\n",
    "                                                        adaptive_spacing=adaptive_spacing\n",
    "                                                       ))\n",
    "        \n",
    "    #return torch.stack(extended_contributions, dim=-1)    \n",
    "    return torch.stack(extended_contributions)  "
   ]
  },
  {
   "cell_type": "code",
   "execution_count": 79,
   "id": "designing-delta",
   "metadata": {},
   "outputs": [
    {
     "name": "stdout",
     "output_type": "stream",
     "text": [
      "CPU times: user 7.53 ms, sys: 8.01 ms, total: 15.5 ms\n",
      "Wall time: 13.6 ms\n"
     ]
    }
   ],
   "source": [
    "%%time\n",
    "torch.manual_seed(321)\n",
    "np.random.seed(321)\n",
    "\n",
    "random_idxs = np.random.choice(batch_df[~batch_df['nt_sequence'].str.contains('N')].index.tolist(), size=1000, replace=False)\n",
    "test_batch = example_batch[random_idxs, ...]\n",
    "test_scores = scores[random_idxs, ...]\n",
    "\n",
    "result_dict = {}\n",
    "\n",
    "# #--- Adaptive spacing\n",
    "# n_steps   = 50\n",
    "# n_samples = 20\n",
    "# adaptive_sampling = False\n",
    "# adaptive_spacing  = True\n",
    "\n",
    "# out_contributions = batch_to_contributions(onehot_sequences=test_batch,\n",
    "#                                            model=model,\n",
    "#                                            num_steps=n_steps,\n",
    "#                                            num_samples=n_samples,\n",
    "#                                            adaptive_sampling=adaptive_sampling,\n",
    "#                                            adaptive_spacing=adaptive_spacing)\n",
    "# result_dict['Adaptive spacing'] = out_contributions"
   ]
  },
  {
   "cell_type": "code",
   "execution_count": 80,
   "id": "approved-memorial",
   "metadata": {},
   "outputs": [
    {
     "data": {
      "application/vnd.jupyter.widget-view+json": {
       "model_id": "a392d2fdc5a0495a8454a8f60610a8a7",
       "version_major": 2,
       "version_minor": 0
      },
      "text/plain": [
       "  0%|          | 0/20 [00:00<?, ?it/s]"
      ]
     },
     "metadata": {},
     "output_type": "display_data"
    },
    {
     "data": {
      "application/vnd.jupyter.widget-view+json": {
       "model_id": "53398d2b29c34a48888df66d66d729d3",
       "version_major": 2,
       "version_minor": 0
      },
      "text/plain": [
       "  0%|          | 0/20 [00:00<?, ?it/s]"
      ]
     },
     "metadata": {},
     "output_type": "display_data"
    },
    {
     "data": {
      "application/vnd.jupyter.widget-view+json": {
       "model_id": "3387e846c7404fe88e0d84e66256b3a5",
       "version_major": 2,
       "version_minor": 0
      },
      "text/plain": [
       "  0%|          | 0/20 [00:00<?, ?it/s]"
      ]
     },
     "metadata": {},
     "output_type": "display_data"
    },
    {
     "name": "stdout",
     "output_type": "stream",
     "text": [
      "CPU times: user 4min 54s, sys: 1.06 s, total: 4min 55s\n",
      "Wall time: 4min 55s\n"
     ]
    }
   ],
   "source": [
    "%%time\n",
    "\n",
    "#--- Standard medium quality\n",
    "n_steps   = 50\n",
    "n_samples = 20\n",
    "adaptive_sampling = False\n",
    "adaptive_spacing  = False\n",
    "\n",
    "out_contributions = batch_to_contributions(onehot_sequences=test_batch,\n",
    "                                           model=model,\n",
    "                                           num_steps=n_steps,\n",
    "                                           num_samples=n_samples,\n",
    "                                           adaptive_sampling=adaptive_sampling,\n",
    "                                           adaptive_spacing=adaptive_spacing)\n",
    "result_dict['Standard medium quality'] = out_contributions"
   ]
  },
  {
   "cell_type": "code",
   "execution_count": 81,
   "id": "rolled-macro",
   "metadata": {},
   "outputs": [
    {
     "data": {
      "application/vnd.jupyter.widget-view+json": {
       "model_id": "add4898424bb4c189c7651d0dfa664b5",
       "version_major": 2,
       "version_minor": 0
      },
      "text/plain": [
       "  0%|          | 0/20 [00:00<?, ?it/s]"
      ]
     },
     "metadata": {},
     "output_type": "display_data"
    },
    {
     "data": {
      "application/vnd.jupyter.widget-view+json": {
       "model_id": "d0cc24ad4a194eedb25ce519936cd467",
       "version_major": 2,
       "version_minor": 0
      },
      "text/plain": [
       "  0%|          | 0/20 [00:00<?, ?it/s]"
      ]
     },
     "metadata": {},
     "output_type": "display_data"
    },
    {
     "data": {
      "application/vnd.jupyter.widget-view+json": {
       "model_id": "8d944298e2d24eadabb3971bea1f997e",
       "version_major": 2,
       "version_minor": 0
      },
      "text/plain": [
       "  0%|          | 0/20 [00:00<?, ?it/s]"
      ]
     },
     "metadata": {},
     "output_type": "display_data"
    },
    {
     "name": "stdout",
     "output_type": "stream",
     "text": [
      "CPU times: user 4min 58s, sys: 1.19 s, total: 4min 59s\n",
      "Wall time: 4min 58s\n"
     ]
    }
   ],
   "source": [
    "%%time\n",
    "\n",
    "#--- Adaptive sampling (Needs re-batching)\n",
    "n_steps   = 100\n",
    "n_samples = 20                 # Not used in this option\n",
    "adaptive_sampling = True\n",
    "adaptive_spacing  = False\n",
    "\n",
    "out_contributions = batch_to_contributions(onehot_sequences=test_batch,\n",
    "                                           model=model,\n",
    "                                           num_steps=n_steps,\n",
    "                                           num_samples=n_samples,\n",
    "                                           adaptive_sampling=adaptive_sampling,\n",
    "                                           adaptive_spacing=adaptive_spacing)\n",
    "result_dict['Adaptive sampling'] = out_contributions"
   ]
  },
  {
   "cell_type": "code",
   "execution_count": 82,
   "id": "abstract-crisis",
   "metadata": {},
   "outputs": [
    {
     "data": {
      "application/vnd.jupyter.widget-view+json": {
       "model_id": "2430869b7a204661b181b079c301d4b5",
       "version_major": 2,
       "version_minor": 0
      },
      "text/plain": [
       "  0%|          | 0/20 [00:00<?, ?it/s]"
      ]
     },
     "metadata": {},
     "output_type": "display_data"
    },
    {
     "data": {
      "application/vnd.jupyter.widget-view+json": {
       "model_id": "5f2c21de16324c8488ba9e551c3af460",
       "version_major": 2,
       "version_minor": 0
      },
      "text/plain": [
       "  0%|          | 0/20 [00:00<?, ?it/s]"
      ]
     },
     "metadata": {},
     "output_type": "display_data"
    },
    {
     "data": {
      "application/vnd.jupyter.widget-view+json": {
       "model_id": "5f493ab5a176436fb9b71ac97208cfbe",
       "version_major": 2,
       "version_minor": 0
      },
      "text/plain": [
       "  0%|          | 0/20 [00:00<?, ?it/s]"
      ]
     },
     "metadata": {},
     "output_type": "display_data"
    },
    {
     "name": "stdout",
     "output_type": "stream",
     "text": [
      "CPU times: user 9min 48s, sys: 1.25 s, total: 9min 49s\n",
      "Wall time: 9min 48s\n"
     ]
    }
   ],
   "source": [
    "%%time\n",
    "\n",
    "#--- High quality rerun\n",
    "n_steps   = 100\n",
    "n_samples = 20             \n",
    "adaptive_sampling = False\n",
    "adaptive_spacing  = False\n",
    "\n",
    "out_contributions = batch_to_contributions(onehot_sequences=test_batch,\n",
    "                                           model=model,\n",
    "                                           num_steps=n_steps,\n",
    "                                           num_samples=n_samples,\n",
    "                                           adaptive_sampling=adaptive_sampling,\n",
    "                                           adaptive_spacing=adaptive_spacing)\n",
    "result_dict['High quality rerun'] = out_contributions"
   ]
  },
  {
   "cell_type": "code",
   "execution_count": 83,
   "id": "twelve-petersburg",
   "metadata": {},
   "outputs": [
    {
     "data": {
      "application/vnd.jupyter.widget-view+json": {
       "model_id": "8c24bb2f999f484380d2b6ef3994db46",
       "version_major": 2,
       "version_minor": 0
      },
      "text/plain": [
       "  0%|          | 0/20 [00:00<?, ?it/s]"
      ]
     },
     "metadata": {},
     "output_type": "display_data"
    },
    {
     "data": {
      "application/vnd.jupyter.widget-view+json": {
       "model_id": "08f36ce205254238829ad32d52caa421",
       "version_major": 2,
       "version_minor": 0
      },
      "text/plain": [
       "  0%|          | 0/20 [00:00<?, ?it/s]"
      ]
     },
     "metadata": {},
     "output_type": "display_data"
    },
    {
     "data": {
      "application/vnd.jupyter.widget-view+json": {
       "model_id": "56fb38f6c0844c3b8dd6796f2ed0169d",
       "version_major": 2,
       "version_minor": 0
      },
      "text/plain": [
       "  0%|          | 0/20 [00:00<?, ?it/s]"
      ]
     },
     "metadata": {},
     "output_type": "display_data"
    },
    {
     "name": "stdout",
     "output_type": "stream",
     "text": [
      "CPU times: user 2min 42s, sys: 1.01 s, total: 2min 43s\n",
      "Wall time: 2min 42s\n"
     ]
    }
   ],
   "source": [
    "%%time\n",
    "\n",
    "#--- Adaptive sampling half\n",
    "n_steps   = 50\n",
    "n_samples = 20                 # Not used in this option\n",
    "adaptive_sampling = True\n",
    "adaptive_spacing  = False\n",
    "\n",
    "out_contributions = batch_to_contributions(onehot_sequences=test_batch,\n",
    "                                           model=model,\n",
    "                                           num_steps=n_steps,\n",
    "                                           num_samples=n_samples,\n",
    "                                           adaptive_sampling=adaptive_sampling,\n",
    "                                           adaptive_spacing=adaptive_spacing)\n",
    "result_dict['Adaptive sampling half'] = out_contributions"
   ]
  },
  {
   "cell_type": "code",
   "execution_count": 113,
   "id": "everyday-zoning",
   "metadata": {},
   "outputs": [
    {
     "name": "stdout",
     "output_type": "stream",
     "text": [
      "Standard medium quality 0.91\n",
      "Adaptive sampling 0.93\n",
      "High quality rerun 0.94\n",
      "Adaptive sampling half 0.91\n"
     ]
    }
   ],
   "source": [
    "for key in result_dict.keys():\n",
    "    x = result_dict[key].flatten().numpy()\n",
    "    y = torch.Tensor(test_scores).permute(3, 0, 1, 2).flatten().numpy()\n",
    "    pearson = np.round(np.corrcoef(x,y)[0,1], 2)\n",
    "    print(key, pearson)"
   ]
  },
  {
   "cell_type": "code",
   "execution_count": 66,
   "id": "interstate-notion",
   "metadata": {},
   "outputs": [
    {
     "data": {
      "application/vnd.jupyter.widget-view+json": {
       "model_id": "6462ddea545f46e3b7199fcfff77aac2",
       "version_major": 2,
       "version_minor": 0
      },
      "text/plain": [
       "  0%|          | 0/10 [00:00<?, ?it/s]"
      ]
     },
     "metadata": {},
     "output_type": "display_data"
    },
    {
     "data": {
      "application/vnd.jupyter.widget-view+json": {
       "model_id": "aaefbfa50ab44df4b0f4b10442385f68",
       "version_major": 2,
       "version_minor": 0
      },
      "text/plain": [
       "  0%|          | 0/10 [00:00<?, ?it/s]"
      ]
     },
     "metadata": {},
     "output_type": "display_data"
    },
    {
     "data": {
      "application/vnd.jupyter.widget-view+json": {
       "model_id": "9cabb880f5094dba8638d093f043f3eb",
       "version_major": 2,
       "version_minor": 0
      },
      "text/plain": [
       "  0%|          | 0/10 [00:00<?, ?it/s]"
      ]
     },
     "metadata": {},
     "output_type": "display_data"
    },
    {
     "data": {
      "application/vnd.jupyter.widget-view+json": {
       "model_id": "b3de0cc95a8e46a98527b9f5f80a29a7",
       "version_major": 2,
       "version_minor": 0
      },
      "text/plain": [
       "  0%|          | 0/10 [00:00<?, ?it/s]"
      ]
     },
     "metadata": {},
     "output_type": "display_data"
    },
    {
     "data": {
      "application/vnd.jupyter.widget-view+json": {
       "model_id": "e2b0187b75434c8e8b08fee17b364e9e",
       "version_major": 2,
       "version_minor": 0
      },
      "text/plain": [
       "  0%|          | 0/10 [00:00<?, ?it/s]"
      ]
     },
     "metadata": {},
     "output_type": "display_data"
    },
    {
     "data": {
      "application/vnd.jupyter.widget-view+json": {
       "model_id": "d4c41943625645229dc6ff760f68586a",
       "version_major": 2,
       "version_minor": 0
      },
      "text/plain": [
       "  0%|          | 0/10 [00:00<?, ?it/s]"
      ]
     },
     "metadata": {},
     "output_type": "display_data"
    },
    {
     "data": {
      "application/vnd.jupyter.widget-view+json": {
       "model_id": "22b5d7ef839f42839865762d97f56e57",
       "version_major": 2,
       "version_minor": 0
      },
      "text/plain": [
       "  0%|          | 0/10 [00:00<?, ?it/s]"
      ]
     },
     "metadata": {},
     "output_type": "display_data"
    },
    {
     "data": {
      "application/vnd.jupyter.widget-view+json": {
       "model_id": "33fbc07737bc448586517645e089157f",
       "version_major": 2,
       "version_minor": 0
      },
      "text/plain": [
       "  0%|          | 0/10 [00:00<?, ?it/s]"
      ]
     },
     "metadata": {},
     "output_type": "display_data"
    },
    {
     "data": {
      "application/vnd.jupyter.widget-view+json": {
       "model_id": "e86c40639b5644c680818b6c9a70583e",
       "version_major": 2,
       "version_minor": 0
      },
      "text/plain": [
       "  0%|          | 0/10 [00:00<?, ?it/s]"
      ]
     },
     "metadata": {},
     "output_type": "display_data"
    }
   ],
   "source": [
    "torch.manual_seed(88)\n",
    "np.random.seed(88)\n",
    "\n",
    "result_dict_2 = {}\n",
    "\n",
    "#--- Standard medium quality\n",
    "n_steps   = 50\n",
    "n_samples = 20\n",
    "adaptive_sampling = False\n",
    "adaptive_spacing  = False\n",
    "\n",
    "out_contributions = batch_to_contributions(onehot_sequences=test_batch,\n",
    "                                           model=model,\n",
    "                                           num_steps=n_steps,\n",
    "                                           num_samples=n_samples,\n",
    "                                           adaptive_sampling=adaptive_sampling,\n",
    "                                           adaptive_spacing=adaptive_spacing)\n",
    "result_dict_2['Standard medium quality'] = out_contributions\n",
    "\n",
    "\n",
    "#--- Adaptive spacing\n",
    "n_steps   = 50\n",
    "n_samples = 20\n",
    "adaptive_sampling = False\n",
    "adaptive_spacing  = True\n",
    "\n",
    "out_contributions = batch_to_contributions(onehot_sequences=test_batch,\n",
    "                                           model=model,\n",
    "                                           num_steps=n_steps,\n",
    "                                           num_samples=n_samples,\n",
    "                                           adaptive_sampling=adaptive_sampling,\n",
    "                                           adaptive_spacing=adaptive_spacing)\n",
    "result_dict_2['Adaptive spacing'] = out_contributions\n",
    "\n",
    "\n",
    "#--- Adaptive sampling (Needs re-batching)\n",
    "n_steps   = 100\n",
    "n_samples = 20                 # Not used in this option\n",
    "adaptive_sampling = True\n",
    "adaptive_spacing  = False\n",
    "\n",
    "out_contributions = batch_to_contributions(onehot_sequences=test_batch,\n",
    "                                           model=model,\n",
    "                                           num_steps=n_steps,\n",
    "                                           num_samples=n_samples,\n",
    "                                           adaptive_sampling=adaptive_sampling,\n",
    "                                           adaptive_spacing=adaptive_spacing)\n",
    "result_dict_2['Adaptive sampling'] = out_contributions"
   ]
  },
  {
   "cell_type": "code",
   "execution_count": 67,
   "id": "hired-melbourne",
   "metadata": {},
   "outputs": [
    {
     "name": "stdout",
     "output_type": "stream",
     "text": [
      "Standard medium quality 0.91\n",
      "Adaptive spacing 0.91\n",
      "Adaptive sampling 0.93\n"
     ]
    }
   ],
   "source": [
    "for key in result_dict_2.keys():\n",
    "    x = result_dict_2[key].flatten().numpy()\n",
    "    y = torch.Tensor(test_scores).permute(3, 0, 1, 2).flatten().numpy()\n",
    "    pearson = np.round(np.corrcoef(x,y)[0,1], 2)\n",
    "    print(key, pearson)"
   ]
  },
  {
   "cell_type": "code",
   "execution_count": 68,
   "id": "adapted-california",
   "metadata": {},
   "outputs": [
    {
     "data": {
      "application/vnd.jupyter.widget-view+json": {
       "model_id": "7ae2c6a7bfdc4a0ab3727e0a989fe364",
       "version_major": 2,
       "version_minor": 0
      },
      "text/plain": [
       "  0%|          | 0/10 [00:00<?, ?it/s]"
      ]
     },
     "metadata": {},
     "output_type": "display_data"
    },
    {
     "data": {
      "application/vnd.jupyter.widget-view+json": {
       "model_id": "f252fe97aed74308900d19643e093318",
       "version_major": 2,
       "version_minor": 0
      },
      "text/plain": [
       "  0%|          | 0/10 [00:00<?, ?it/s]"
      ]
     },
     "metadata": {},
     "output_type": "display_data"
    },
    {
     "data": {
      "application/vnd.jupyter.widget-view+json": {
       "model_id": "6a556a1c4e7d43628bdd1f156ff57619",
       "version_major": 2,
       "version_minor": 0
      },
      "text/plain": [
       "  0%|          | 0/10 [00:00<?, ?it/s]"
      ]
     },
     "metadata": {},
     "output_type": "display_data"
    },
    {
     "name": "stdout",
     "output_type": "stream",
     "text": [
      "CPU times: user 2min 26s, sys: 685 ms, total: 2min 27s\n",
      "Wall time: 2min 27s\n"
     ]
    }
   ],
   "source": [
    "%%time\n",
    "\n",
    "#--- Standard medium quality\n",
    "n_steps   = 50\n",
    "n_samples = 20\n",
    "adaptive_sampling = False\n",
    "adaptive_spacing  = False\n",
    "\n",
    "out_contributions = batch_to_contributions(onehot_sequences=test_batch,\n",
    "                                           model=model,\n",
    "                                           num_steps=n_steps,\n",
    "                                           num_samples=n_samples,\n",
    "                                           adaptive_sampling=adaptive_sampling,\n",
    "                                           adaptive_spacing=adaptive_spacing)"
   ]
  },
  {
   "cell_type": "code",
   "execution_count": 69,
   "id": "serious-source",
   "metadata": {},
   "outputs": [
    {
     "data": {
      "application/vnd.jupyter.widget-view+json": {
       "model_id": "89b04bcfb3c741138a00fc73cce69829",
       "version_major": 2,
       "version_minor": 0
      },
      "text/plain": [
       "  0%|          | 0/10 [00:00<?, ?it/s]"
      ]
     },
     "metadata": {},
     "output_type": "display_data"
    },
    {
     "data": {
      "application/vnd.jupyter.widget-view+json": {
       "model_id": "2d89de5408044eadb0ff062e78635152",
       "version_major": 2,
       "version_minor": 0
      },
      "text/plain": [
       "  0%|          | 0/10 [00:00<?, ?it/s]"
      ]
     },
     "metadata": {},
     "output_type": "display_data"
    },
    {
     "data": {
      "application/vnd.jupyter.widget-view+json": {
       "model_id": "516e597bfd1c4be5ab986b04c6a516f1",
       "version_major": 2,
       "version_minor": 0
      },
      "text/plain": [
       "  0%|          | 0/10 [00:00<?, ?it/s]"
      ]
     },
     "metadata": {},
     "output_type": "display_data"
    },
    {
     "name": "stdout",
     "output_type": "stream",
     "text": [
      "CPU times: user 2min 26s, sys: 709 ms, total: 2min 27s\n",
      "Wall time: 2min 27s\n"
     ]
    }
   ],
   "source": [
    "%%time\n",
    "\n",
    "#--- Adaptive spacing\n",
    "n_steps   = 50\n",
    "n_samples = 20\n",
    "adaptive_sampling = False\n",
    "adaptive_spacing  = True\n",
    "\n",
    "out_contributions = batch_to_contributions(onehot_sequences=test_batch,\n",
    "                                           model=model,\n",
    "                                           num_steps=n_steps,\n",
    "                                           num_samples=n_samples,\n",
    "                                           adaptive_sampling=adaptive_sampling,\n",
    "                                           adaptive_spacing=adaptive_spacing)"
   ]
  },
  {
   "cell_type": "code",
   "execution_count": 114,
   "id": "medical-turner",
   "metadata": {
    "scrolled": false
   },
   "outputs": [
    {
     "name": "stdout",
     "output_type": "stream",
     "text": [
      "Standard medium quality 0.93\n"
     ]
    },
    {
     "data": {
      "image/png": "[encoded data removed]",
      "text/plain": [
       "<Figure size 432x288 with 1 Axes>"
      ]
     },
     "metadata": {
      "needs_background": "light"
     },
     "output_type": "display_data"
    },
    {
     "name": "stdout",
     "output_type": "stream",
     "text": [
      "Adaptive sampling 0.95\n"
     ]
    },
    {
     "data": {
      "image/png": "[encoded data removed]",
      "text/plain": [
       "<Figure size 432x288 with 1 Axes>"
      ]
     },
     "metadata": {
      "needs_background": "light"
     },
     "output_type": "display_data"
    },
    {
     "name": "stdout",
     "output_type": "stream",
     "text": [
      "High quality rerun 0.95\n"
     ]
    },
    {
     "data": {
      "image/png": "[encoded data removed]",
      "text/plain": [
       "<Figure size 432x288 with 1 Axes>"
      ]
     },
     "metadata": {
      "needs_background": "light"
     },
     "output_type": "display_data"
    },
    {
     "name": "stdout",
     "output_type": "stream",
     "text": [
      "Adaptive sampling half 0.93\n"
     ]
    },
    {
     "data": {
      "image/png": "[encoded data removed]",
      "text/plain": [
       "<Figure size 432x288 with 1 Axes>"
      ]
     },
     "metadata": {
      "needs_background": "light"
     },
     "output_type": "display_data"
    }
   ],
   "source": [
    "y = torch.Tensor(test_scores).permute(3, 0, 1, 2) * test_batch.repeat(3,1,1,1)\n",
    "y = y.sum(dim=2).flatten().numpy()\n",
    "for key in result_dict.keys():\n",
    "    x = result_dict[key] * test_batch.repeat(3,1,1,1)\n",
    "    x = x.sum(dim=2).flatten().numpy()\n",
    "    pearson = np.round(np.corrcoef(x,y)[0,1], 2)\n",
    "    print(key, pearson)\n",
    "    \n",
    "    plt.scatter(x=x, y=y, alpha=0.25, marker='.')\n",
    "    plt.plot([-0.5, 1], [-0.5, 1])\n",
    "    plt.axis('equal')\n",
    "    plt.xlabel('High quality original')\n",
    "    plt.ylabel(key)\n",
    "    plt.title(f'Pearson {pearson}')\n",
    "    plt.show()\n",
    "\n",
    "# print('')\n",
    "# for key in result_dict_2.keys():\n",
    "#     x = result_dict_2[key] * test_batch.repeat(3,1,1,1)\n",
    "#     x = x.sum(dim=2).flatten().numpy()\n",
    "#     pearson = np.round(np.corrcoef(x,y)[0,1], 2)\n",
    "#     print(key, pearson)\n",
    "#     plt.scatter(x=x, y=y, alpha=0.25, marker='.')\n",
    "#     plt.plot([-0.5, 1], [-0.5, 1])\n",
    "#     plt.axis('equal')\n",
    "#     plt.xlabel('High quality original')\n",
    "#     plt.ylabel(key)\n",
    "#     plt.title(f'Pearson {pearson}')\n",
    "#     plt.show()"
   ]
  },
  {
   "cell_type": "code",
   "execution_count": null,
   "id": "adult-guinea",
   "metadata": {},
   "outputs": [],
   "source": [
    "y = torch.Tensor(test_scores).permute(3, 0, 1, 2)\n",
    "y = y.flatten().numpy()\n",
    "for key in result_dict.keys():\n",
    "    x = result_dict[key]\n",
    "    x = x.flatten().numpy()\n",
    "    pearson = np.round(np.corrcoef(x,y)[0,1], 2)\n",
    "    print(key, pearson)\n",
    "    \n",
    "    plt.scatter(x=x, y=y, alpha=0.25, marker='.')\n",
    "    plt.plot([0, 1], [0, 1])\n",
    "    plt.axis('equal')\n",
    "    plt.xlabel('High quality original')\n",
    "    plt.ylabel(key)\n",
    "    plt.title(f'Pearson {pearson}')\n",
    "    plt.show()\n",
    "\n",
    "print('')\n",
    "for key in result_dict_2.keys():\n",
    "    x = result_dict_2[key] * test_batch.repeat(3,1,1,1)\n",
    "    x = x.flatten().numpy()\n",
    "    pearson = np.round(np.corrcoef(x,y)[0,1], 2)\n",
    "    print(key, pearson)\n",
    "    plt.scatter(x=x, y=y, alpha=0.25, marker='.')\n",
    "    plt.plot([0, 1], [0, 1])\n",
    "    plt.axis('equal')\n",
    "    plt.xlabel('High quality original')\n",
    "    plt.ylabel(key)\n",
    "    plt.title(f'Pearson {pearson}')\n",
    "    plt.show()"
   ]
  },
  {
   "cell_type": "code",
   "execution_count": 76,
   "id": "handled-finger",
   "metadata": {},
   "outputs": [
    {
     "data": {
      "text/plain": [
       "torch.Size([3, 500, 4, 200])"
      ]
     },
     "execution_count": 76,
     "metadata": {},
     "output_type": "execute_result"
    }
   ],
   "source": [
    "torch.Tensor(test_scores).permute(3, 0, 1, 2).shape"
   ]
  },
  {
   "cell_type": "code",
   "execution_count": 91,
   "id": "prostate-copper",
   "metadata": {},
   "outputs": [],
   "source": [
    "def isg_contributions(sequences,\n",
    "                      predictor,\n",
    "                      num_steps=50,\n",
    "                      max_samples=20,\n",
    "                      eval_batch_size=1024,\n",
    "                      theta_factor=15,\n",
    "                      adaptive_sampling=False\n",
    "                     ):\n",
    "    \n",
    "    batch_size = eval_batch_size // (max_samples - 3)\n",
    "    temp_dataset = TensorDataset(sequences)\n",
    "    temp_dataloader = DataLoader(temp_dataset, batch_size=batch_size, shuffle=False, num_workers=2)\n",
    "    \n",
    "    slope_coefficients = [i / num_steps for i in range(1, num_steps + 1)]\n",
    "    if adaptive_sampling:\n",
    "        sneaky_exponent = np.log(max_samples - 3) / np.log(num_steps)\n",
    "        sample_ns = np.flip((np.arange(0, num_steps)**sneaky_exponent).astype(int)).clip(min=2)\n",
    "    else:\n",
    "        sample_ns = [max_samples for i in range(0, num_steps + 1)]       \n",
    "      \n",
    "    all_salient_maps = []\n",
    "    all_gradients = []\n",
    "    for local_batch in tqdm(temp_dataloader):\n",
    "        target_thetas = (theta_factor * local_batch[0].cuda()).requires_grad_()\n",
    "        line_gradients = []\n",
    "        for i in range(0, num_steps):\n",
    "            point_thetas = slope_coefficients[i] * target_thetas\n",
    "            num_samples = sample_ns[i]\n",
    "            point_distributions = F.softmax(point_thetas, dim=-2)\n",
    "            nucleotide_probs = Categorical(torch.transpose(point_distributions, -2, -1))\n",
    "            sampled_idxs = nucleotide_probs.sample((num_samples, ))\n",
    "            sampled_nucleotides_T = F.one_hot(sampled_idxs, num_classes=4)\n",
    "            sampled_nucleotides = torch.transpose(sampled_nucleotides_T, -2, -1)\n",
    "            distribution_repeater = point_distributions.repeat(num_samples, *[1, 1, 1])\n",
    "            sampled_nucleotides = sampled_nucleotides - distribution_repeater.detach() + distribution_repeater \n",
    "            samples = sampled_nucleotides.flatten(0,1)\n",
    "            preds = predictor(samples)\n",
    "            point_predictions = preds.unflatten(0, (num_samples, target_thetas.shape[0])).mean(dim=0)\n",
    "            point_gradients = torch.autograd.grad(point_predictions.sum(), inputs=point_thetas, retain_graph=True)[0]\n",
    "            line_gradients.append(point_gradients)\n",
    "            \n",
    "        gradients = torch.stack(line_gradients).mean(dim=0).detach()\n",
    "        all_salient_maps.append(gradients * target_thetas.detach())\n",
    "        all_gradients.append(gradients)\n",
    "        \n",
    "    return theta_factor * torch.cat(all_gradients).cpu()\n",
    "\n",
    "\n",
    "def batch_to_contributions(onehot_sequences,\n",
    "                           model,\n",
    "                           model_output_len=3,\n",
    "                           seq_len=200,\n",
    "                           num_steps=50,\n",
    "                           max_samples=20,\n",
    "                           theta_factor=15,\n",
    "                           eval_batch_size=1040,\n",
    "                           adaptive_sampling=False):\n",
    "    \n",
    "    extended_contributions = []\n",
    "    for i in range(model_output_len):\n",
    "        predictor = mpra_predictor(model=model, pred_idx=i, ini_in_len=seq_len).cuda()\n",
    "        extended_contributions.append(isg_contributions(onehot_sequences, predictor,\n",
    "                                                        num_steps = num_steps,\n",
    "                                                        max_samples=max_samples,\n",
    "                                                        theta_factor=theta_factor,\n",
    "                                                        eval_batch_size=eval_batch_size,\n",
    "                                                        adaptive_sampling=adaptive_sampling\n",
    "                                                       ))\n",
    "        \n",
    "    return torch.stack(extended_contributions, dim=-1) "
   ]
  },
  {
   "cell_type": "code",
   "execution_count": 112,
   "id": "confirmed-collective",
   "metadata": {},
   "outputs": [
    {
     "data": {
      "application/vnd.jupyter.widget-view+json": {
       "model_id": "69bdddc6187c465998ec0297909eb3d9",
       "version_major": 2,
       "version_minor": 0
      },
      "text/plain": [
       "  0%|          | 0/1 [00:00<?, ?it/s]"
      ]
     },
     "metadata": {},
     "output_type": "display_data"
    },
    {
     "data": {
      "application/vnd.jupyter.widget-view+json": {
       "model_id": "4e47617a84e749968e96ad0b20fd9b1d",
       "version_major": 2,
       "version_minor": 0
      },
      "text/plain": [
       "  0%|          | 0/1 [00:00<?, ?it/s]"
      ]
     },
     "metadata": {},
     "output_type": "display_data"
    },
    {
     "data": {
      "application/vnd.jupyter.widget-view+json": {
       "model_id": "6e59fe0b27c649a5bc5959cc69d9dbe3",
       "version_major": 2,
       "version_minor": 0
      },
      "text/plain": [
       "  0%|          | 0/1 [00:00<?, ?it/s]"
      ]
     },
     "metadata": {},
     "output_type": "display_data"
    },
    {
     "name": "stdout",
     "output_type": "stream",
     "text": [
      "CPU times: user 6.47 s, sys: 692 ms, total: 7.16 s\n",
      "Wall time: 7.14 s\n"
     ]
    }
   ],
   "source": [
    "%%time\n",
    "\n",
    "#--- Adaptive sampling\n",
    "n_steps   = 100\n",
    "n_samples = 20\n",
    "adaptive_sampling = True\n",
    "\n",
    "out_contributions = batch_to_contributions(onehot_sequences=test_batch[:20,...],\n",
    "                                           model=model,\n",
    "                                           num_steps=n_steps,\n",
    "                                           max_samples=n_samples,\n",
    "                                           adaptive_sampling=adaptive_sampling)"
   ]
  },
  {
   "cell_type": "code",
   "execution_count": 110,
   "id": "polyphonic-scroll",
   "metadata": {},
   "outputs": [
    {
     "data": {
      "text/plain": [
       "0.92"
      ]
     },
     "execution_count": 110,
     "metadata": {},
     "output_type": "execute_result"
    }
   ],
   "source": [
    "x = out_contributions.flatten().numpy()\n",
    "y = torch.Tensor(test_scores)[:20,...].flatten().numpy()\n",
    "np.round(np.corrcoef(x,y)[0,1], 2)"
   ]
  },
  {
   "cell_type": "code",
   "execution_count": 106,
   "id": "dietary-paradise",
   "metadata": {},
   "outputs": [
    {
     "data": {
      "text/plain": [
       "(torch.Size([20, 4, 200, 3]), torch.Size([1000, 4, 200, 3]))"
      ]
     },
     "execution_count": 106,
     "metadata": {},
     "output_type": "execute_result"
    }
   ],
   "source": [
    "out_contributions.shape, torch.Tensor(test_scores).shape"
   ]
  },
  {
   "cell_type": "code",
   "execution_count": null,
   "id": "described-oriental",
   "metadata": {},
   "outputs": [],
   "source": []
  }
 ],
 "metadata": {
  "kernelspec": {
   "display_name": "Python 3",
   "language": "python",
   "name": "python3"
  },
  "language_info": {
   "codemirror_mode": {
    "name": "ipython",
    "version": 3
   },
   "file_extension": ".py",
   "mimetype": "text/x-python",
   "name": "python",
   "nbconvert_exporter": "python",
   "pygments_lexer": "ipython3",
   "version": "3.7.10"
  }
 },
 "nbformat": 4,
 "nbformat_minor": 5
}
