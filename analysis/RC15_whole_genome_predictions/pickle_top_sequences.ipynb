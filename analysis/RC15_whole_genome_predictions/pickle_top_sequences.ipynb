{
 "cells": [
  {
   "cell_type": "code",
   "execution_count": 1,
   "id": "flexible-costa",
   "metadata": {},
   "outputs": [
    {
     "data": {
      "text/html": [
       "<style>.container { width:98% !important; }</style>"
      ],
      "text/plain": [
       "<IPython.core.display.HTML object>"
      ]
     },
     "metadata": {},
     "output_type": "display_data"
    }
   ],
   "source": [
    "import sys\n",
    "import os\n",
    "import subprocess\n",
    "import tarfile\n",
    "import shutil\n",
    "import math\n",
    "import time\n",
    "import random\n",
    "import tempfile\n",
    "\n",
    "import numpy as np\n",
    "import torch\n",
    "import torch.nn as nn\n",
    "import torch.nn.functional as F\n",
    "import pandas as pd\n",
    "import matplotlib.pyplot as plt\n",
    "import seaborn as sns\n",
    "from mpl_toolkits import mplot3d\n",
    "from Bio import motifs\n",
    "import pickle\n",
    "from datetime import datetime\n",
    "from tqdm import tqdm\n",
    "\n",
    "import boda\n",
    "from boda.generator.parameters import StraightThroughParameters\n",
    "from boda.generator import AdaLead\n",
    "from boda.generator.energy import OverMaxEnergy, StremePenalty\n",
    "from boda.common import constants, utils\n",
    "from boda.generator.plot_tools import matrix_to_dms, ppm_to_IC, ppm_to_pwm\n",
    "\n",
    "boda_src = os.path.join( os.path.dirname( os.path.dirname( os.getcwd() ) ), 'src' )\n",
    "sys.path.insert(0, boda_src)\n",
    "\n",
    "from main import unpack_artifact, model_fn\n",
    "from pymeme import streme, parse_streme_output\n",
    "\n",
    "from IPython.core.display import display, HTML\n",
    "display(HTML(\"<style>.container { width:98% !important; }</style>\"))"
   ]
  },
  {
   "cell_type": "code",
   "execution_count": 2,
   "id": "vertical-energy",
   "metadata": {},
   "outputs": [],
   "source": [
    "def fasta_to_tensor(file_name):\n",
    "    fasta_dict = {}\n",
    "    with open(file_name, 'r') as f:\n",
    "        for line in f:\n",
    "            line_str = str(line)\n",
    "            if line_str[0] == '>':\n",
    "                my_id = line_str.lstrip('>').rstrip('\\n')\n",
    "                fasta_dict[my_id] = ''\n",
    "            else:\n",
    "                fasta_dict[my_id] += line_str.rstrip('\\n')\n",
    "    seq_tensors = []\n",
    "    for sequence in list(fasta_dict.values()):\n",
    "        seq_tensors.append(utils.dna2tensor(sequence))\n",
    "    return torch.stack(seq_tensors, dim=0)"
   ]
  },
  {
   "cell_type": "code",
   "execution_count": 15,
   "id": "structural-technician",
   "metadata": {},
   "outputs": [
    {
     "name": "stdout",
     "output_type": "stream",
     "text": [
      "rc__sknsh__gw__track_000__round_0__20211210_203441__82237643.pt\n",
      "rc__hepg2__gw__track_000__round_0__20211210_203441__37997823.pt\n",
      "rc__k562__gw__track_000__round_0__20211210_203441__47591334.pt\n"
     ]
    }
   ],
   "source": [
    "rootdir = 'top_sequences_files'\n",
    "save_path = 'gs://syrgoth/boda_library_design_202112/pickles'\n",
    "args = {'model': 'gs://syrgoth/aip_ui_test/model_artifacts__20211113_021200__287348.tar.gz',\n",
    "       'step_size': 50}\n",
    "\n",
    "for subdir, dirs, files in os.walk(rootdir):\n",
    "    for file in files:\n",
    "        if file.endswith(\".fa\"):\n",
    "            file_name = os.path.basename(file).rstrip('.fa') + '.pt'\n",
    "            filepath = os.path.join(rootdir, file)\n",
    "            save_dict = {}\n",
    "            proposals_dict = {}\n",
    "            name_parts = file_name.split('__') \n",
    "            save_dict['args'] = args\n",
    "            save_dict['timestamp'] = name_parts[-2]\n",
    "            save_dict['random_tag'] = name_parts[-1]\n",
    "            proposals_dict['proposals'] = fasta_to_tensor(filepath)\n",
    "            save_dict['proposals'] = [proposals_dict]\n",
    "            with tempfile.TemporaryDirectory() as tmpdir:\n",
    "                print(file_name)\n",
    "                temp_loc = os.path.join(tmpdir, file_name)                           \n",
    "                torch.save(save_dict, temp_loc)\n",
    "                cloud_target = os.path.join(save_path, file_name)\n",
    "                subprocess.check_call(\n",
    "                    ['gsutil', 'cp', temp_loc, cloud_target]\n",
    "                )"
   ]
  },
  {
   "cell_type": "code",
   "execution_count": 13,
   "id": "connected-court",
   "metadata": {},
   "outputs": [
    {
     "data": {
      "text/plain": [
       "{'args': {'model': 'gs://syrgoth/aip_ui_test/model_artifacts__20211113_021200__287348.tar.gz',\n",
       "  'step_size': 50},\n",
       " 'timestamp': '20211210_203441',\n",
       " 'random_tag': '47591334.pt',\n",
       " 'proposals': [{'proposals': tensor([[[0., 0., 0.,  ..., 0., 1., 0.],\n",
       "            [0., 0., 0.,  ..., 0., 0., 0.],\n",
       "            [1., 1., 0.,  ..., 0., 0., 0.],\n",
       "            [0., 0., 1.,  ..., 1., 0., 1.]],\n",
       "   \n",
       "           [[0., 0., 0.,  ..., 0., 0., 0.],\n",
       "            [0., 1., 1.,  ..., 0., 0., 1.],\n",
       "            [1., 0., 0.,  ..., 0., 0., 0.],\n",
       "            [0., 0., 0.,  ..., 1., 1., 0.]],\n",
       "   \n",
       "           [[1., 0., 1.,  ..., 0., 1., 1.],\n",
       "            [0., 0., 0.,  ..., 0., 0., 0.],\n",
       "            [0., 0., 0.,  ..., 0., 0., 0.],\n",
       "            [0., 1., 0.,  ..., 1., 0., 0.]],\n",
       "   \n",
       "           ...,\n",
       "   \n",
       "           [[0., 1., 0.,  ..., 0., 1., 0.],\n",
       "            [0., 0., 1.,  ..., 0., 0., 0.],\n",
       "            [0., 0., 0.,  ..., 0., 0., 1.],\n",
       "            [1., 0., 0.,  ..., 1., 0., 0.]],\n",
       "   \n",
       "           [[0., 0., 0.,  ..., 1., 1., 0.],\n",
       "            [0., 0., 1.,  ..., 0., 0., 0.],\n",
       "            [0., 0., 0.,  ..., 0., 0., 0.],\n",
       "            [1., 1., 0.,  ..., 0., 0., 1.]],\n",
       "   \n",
       "           [[0., 1., 0.,  ..., 1., 0., 0.],\n",
       "            [1., 0., 0.,  ..., 0., 0., 0.],\n",
       "            [0., 0., 0.,  ..., 0., 1., 1.],\n",
       "            [0., 0., 1.,  ..., 0., 0., 0.]]])}]}"
      ]
     },
     "execution_count": 13,
     "metadata": {},
     "output_type": "execute_result"
    }
   ],
   "source": [
    "save_dict"
   ]
  },
  {
   "cell_type": "markdown",
   "id": "compliant-skiing",
   "metadata": {},
   "source": [
    "### Copy fasta files to bucket"
   ]
  },
  {
   "cell_type": "code",
   "execution_count": 5,
   "id": "characteristic-backing",
   "metadata": {},
   "outputs": [
    {
     "name": "stderr",
     "output_type": "stream",
     "text": [
      "100%|██████████| 6/6 [00:07<00:00,  1.32s/it]\n",
      "0it [00:00, ?it/s]\n"
     ]
    }
   ],
   "source": [
    "root_dir = 'top_sequences_files'\n",
    "target_dir = 'gs://syrgoth/chunked_genome/top_sequences'\n",
    "\n",
    "for subdir, dirs, files in os.walk(root_dir):\n",
    "    for file in tqdm(files):\n",
    "        origin_path = os.path.join(root_dir, file)\n",
    "        target_path = os.path.join(target_dir, file)\n",
    "        subprocess.check_call(['gsutil', 'cp', origin_path, target_path])"
   ]
  },
  {
   "cell_type": "code",
   "execution_count": null,
   "id": "verbal-climb",
   "metadata": {},
   "outputs": [],
   "source": []
  }
 ],
 "metadata": {
  "kernelspec": {
   "display_name": "Python 3",
   "language": "python",
   "name": "python3"
  },
  "language_info": {
   "codemirror_mode": {
    "name": "ipython",
    "version": 3
   },
   "file_extension": ".py",
   "mimetype": "text/x-python",
   "name": "python",
   "nbconvert_exporter": "python",
   "pygments_lexer": "ipython3",
   "version": "3.7.10"
  }
 },
 "nbformat": 4,
 "nbformat_minor": 5
}
