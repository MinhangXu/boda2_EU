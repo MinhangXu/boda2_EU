{
 "cells": [
  {
   "cell_type": "code",
   "execution_count": 1,
   "metadata": {},
   "outputs": [],
   "source": [
    "import sys\n",
    "import os\n",
    "import subprocess\n",
    "import tarfile\n",
    "import shutil\n",
    "\n",
    "import numpy as np\n",
    "import torch\n",
    "import torch.nn as nn\n",
    "import pandas as pd\n",
    "import matplotlib.pyplot as plt\n",
    "import seaborn as sns\n",
    "from mpl_toolkits import mplot3d\n",
<<<<<<< Updated upstream
    "\n",
    "import boda\n",
=======
    "from Bio import motifs\n",
    "\n",
    "import boda\n",
    "from boda.common import constants\n",
>>>>>>> Stashed changes
    "from boda.generator.parameters import StraightThroughParameters\n",
    "from boda.generator import FastSeqProp\n",
    "from boda.model.mpra_basset import MPRA_Basset\n",
    "\n",
    "boda_src = os.path.join( os.path.dirname( os.path.dirname( os.getcwd() ) ), 'src' )\n",
    "sys.path.insert(0, boda_src)\n",
    "\n",
<<<<<<< Updated upstream
    "from main import unpack_artifact, model_fn"
=======
    "from main import unpack_artifact, model_fn\n",
    "from pymeme import streme, parse_streme_output"
   ]
  },
  {
   "cell_type": "code",
   "execution_count": 3,
   "metadata": {},
   "outputs": [
    {
     "name": "stdout",
     "output_type": "stream",
     "text": [
      "Loaded model from 20210623_102310 in eval mode\n"
     ]
    }
   ],
   "source": [
    "#----------------------- HPO model -----------------------\n",
    "\n",
    "# if os.path.isdir('./artifacts'):\n",
    "#     shutil.rmtree('./artifacts')\n",
    "# hpo_rec = 'gs://syrgoth/aip_ui_test/model_artifacts__20210623_102310__205717.tar.gz'\n",
    "# unpack_artifact(hpo_rec)\n",
    "\n",
    "model_dir = './artifacts'\n",
    "hpo_model = model_fn(model_dir)\n",
    "# hpo_model.cuda()\n",
    "# hpo_model.eval()"
>>>>>>> Stashed changes
   ]
  },
  {
   "cell_type": "code",
   "execution_count": 2,
   "metadata": {},
   "outputs": [
    {
     "data": {
      "text/plain": [
       "<All keys matched successfully>"
      ]
     },
     "execution_count": 2,
     "metadata": {},
     "output_type": "execute_result"
    }
   ],
   "source": [
    "#----------------------- Artisanal model -----------------------\n",
    "\n",
    "#! gsutil cp gs://syrgoth/checkpoints/manual_checkpoint_multioutput_lasthidden250_L1.ckpt ./\n",
    "\n",
    "artisan_model = MPRA_Basset(extra_hidden_size = 250)\n",
    "checkpoint = torch.load('manual_checkpoint_multioutput_lasthidden250_L1.ckpt')\n",
    "artisan_model.load_state_dict(checkpoint['state_dict'])"
   ]
  },
  {
   "cell_type": "code",
   "execution_count": 3,
   "metadata": {},
   "outputs": [],
   "source": [
<<<<<<< Updated upstream
    "#----------------------- HPO model -----------------------\n",
    "\n",
    "if os.path.isdir('./artifacts'):\n",
    "    shutil.rmtree('./artifacts')\n",
    "hpo_rec = 'gs://syrgoth/aip_ui_test/model_artifacts__20210623_102310__205717.tar.gz'\n",
    "unpack_artifact(hpo_rec)\n",
    "\n",
    "model_dir = './artifacts'\n",
    "hpo_model = model_fn(model_dir)\n",
    "hpo_model.eval()"
   ]
  },
  {
   "cell_type": "code",
   "execution_count": null,
   "metadata": {},
   "outputs": [],
   "source": [
    "#----------------------- Artisanal model -----------------------\n",
    "\n",
    "! gsutil cp gs://syrgoth/checkpoints/manual_checkpoint_multioutput_lasthidden250_L1.ckpt ./\n",
    "\n",
    "artisan_model = MPRA_Basset(extra_hidden_size = 250)\n",
    "checkpoint = torch.load('manual_checkpoint_multioutput_lasthidden250_L1.ckpt')\n",
    "artisan_model.load_state_dict(checkpoint['state_dict'])\n",
    "artisan_model.eval()"
   ]
  },
  {
   "cell_type": "code",
   "execution_count": null,
   "metadata": {},
   "outputs": [],
   "source": [
    "left_flank = boda.common.utils.dna2tensor( \n",
    "    boda.common.constants.MPRA_UPSTREAM[-200:] \n",
    ").unsqueeze(0)\n",
    "\n",
    "right_flank= boda.common.utils.dna2tensor( \n",
    "    boda.common.constants.MPRA_DOWNSTREAM[:200] \n",
    ").unsqueeze(0)"
   ]
  },
  {
   "cell_type": "code",
   "execution_count": null,
   "metadata": {},
   "outputs": [],
   "source": [
    "def castro_reward(x):\n",
    "    return torch.exp(-x) - x - 1\n",
    "\n",
=======
    "left_flank = boda.common.utils.dna2tensor( \n",
    "    boda.common.constants.MPRA_UPSTREAM[-200:] \n",
    ").unsqueeze(0)\n",
    "\n",
    "right_flank= boda.common.utils.dna2tensor( \n",
    "    boda.common.constants.MPRA_DOWNSTREAM[:200] \n",
    ").unsqueeze(0)"
   ]
  },
  {
   "cell_type": "code",
   "execution_count": 4,
   "metadata": {},
   "outputs": [],
   "source": [
    "def batch2fasta(batch, file_name):\n",
    "    with open(file_name, 'w') as ofile:\n",
    "        batch_size = batch.shape[0]\n",
    "        #seq_list = []\n",
    "        for seq_idx in range(batch_size):\n",
    "            seq_name = 'sequence_' + str(seq_idx)\n",
    "            seq_tensor = batch[seq_idx, :, :]\n",
    "            idxs = torch.argmax(seq_tensor, dim=0).numpy()\n",
    "            sequence_str = ''\n",
    "            for idx in idxs:\n",
    "                sequence_str += constants.STANDARD_NT[idx]\n",
    "            #seq_list.append(sequence_str)\n",
    "            ofile.write(\">\" + seq_name + \"\\n\" + sequence_str + \"\\n\")\n",
    "\n",
    "def castro_reward(x):\n",
    "    return torch.exp(-x) - x - 1\n",
    "\n",
>>>>>>> Stashed changes
    "def basic_reward(x):\n",
    "    return x\n",
    "\n",
    "def k562_score(x):\n",
    "    return -castro_reward(x[:,0]) + 0.5 * (castro_reward( x[:,1]) + castro_reward( x[:,2]))\n",
    "# def k562_score(x):\n",
    "#     return x[:,0] - torch.mean(x[:,1:], axis=1) \n",
    "def k562_specific(x):\n",
    "    scores = k562_score(x)\n",
    "    return torch.mean(-scores)\n",
    "\n",
    "def hepg2_score(x):\n",
    "    return -castro_reward(x[:,1]) + 0.5 * (castro_reward( x[:,2]) + castro_reward( x[:,0]))\n",
    "# def hepg2_score(x):\n",
    "#     return x[:,1] - torch.mean(x[:, np.r_[0,2]], axis=1)\n",
    "def hepg2_specific(x):\n",
    "    scores = hepg2_score(x)\n",
    "    return torch.mean(- scores)\n",
<<<<<<< Updated upstream
    "\n",
    "class mpra_energy(nn.Module):\n",
    "    def __init__(self,\n",
    "                 predictor,\n",
    "                 loss_fn,\n",
    "                 **kwrags):\n",
    "        super().__init__()\n",
    "        self.predictor = predictor\n",
    "        self.loss_fn = loss_fn\n",
    "\n",
    "        try: self.predictor.eval()\n",
    "        except: pass\n",
    "               \n",
    "    def forward(self, x):\n",
    "        preds = self.predictor(x)\n",
    "        return self.loss_fn(preds)"
   ]
  },
  {
   "cell_type": "code",
   "execution_count": null,
   "metadata": {},
   "outputs": [],
   "source": [
    "#Comparing entropy distributions between Affine and No-Affine\n",
    "\n",
    "batch_size = 50\n",
    "sample_takes = 10\n",
    "n_samples = 10\n",
    "num_steps = 300\n",
    "scheduler = False\n",
    "\n",
    "loss_fn = hepg2_specific\n",
    "model = artisan_model #hpo_model or artisan_model\n",
    "\n",
    "energy = mpra_energy(predictor=model,\n",
    "                     loss_fn=loss_fn)\n",
    "\n",
    "#--------------------- Affine ------------------------\n",
    "theta_ini = torch.randn(batch_size, 4, 200)\n",
    "params = StraightThroughParameters(data=theta_ini,\n",
    "                                   left_flank=left_flank,\n",
    "                                   right_flank=right_flank,\n",
    "                                   n_samples=n_samples,\n",
    "                                   affine=True)\n",
    "generator = FastSeqProp(energy_fn=energy,\n",
    "                        params=params)\n",
    "generator.cuda()\n",
    "generator.run(steps=num_steps,\n",
    "              learning_rate=0.5,\n",
    "              step_print=20,\n",
    "              lr_scheduler=scheduler)\n",
    "\n",
    "entropies_affine = []\n",
    "for i in range(sample_takes):\n",
    "    preds = energy.predictor(params())\n",
    "    entropies_affine += list(boda.graph.utils.shannon_entropy(preds).detach().cpu().numpy())\n",
    "\n",
    "#--------------------- No Affine ------------------------\n",
    "theta_ini = torch.randn(batch_size, 4, 200)\n",
    "params = StraightThroughParameters(data=theta_ini,\n",
    "                                   left_flank=left_flank,\n",
    "                                   right_flank=right_flank,\n",
    "                                   n_samples=n_samples,\n",
    "                                   affine=False)\n",
    "generator = FastSeqProp(energy_fn=energy,\n",
    "                        params=params)\n",
    "generator.cuda()\n",
    "generator.run(steps=num_steps,\n",
    "              learning_rate=0.05,\n",
    "              step_print=20,\n",
    "              lr_scheduler=scheduler)\n",
    "\n",
    "entropies_no_affine = []\n",
    "for i in range(sample_takes):\n",
    "    preds = energy.predictor(params())\n",
    "    entropies_no_affine += list(boda.graph.utils.shannon_entropy(preds).detach().cpu().numpy())\n",
    "\n",
    "df_1 = pd.DataFrame(entropies_affine, columns=['entropy'])\n",
    "df_1['type'] = 'Affine'\n",
    "df_2 = pd.DataFrame(entropies_no_affine, columns=['entropy'])\n",
    "df_2['type'] = 'No affine'\n",
    "df = pd.concat([df_1, df_2])\n",
    "\n",
    "sns.displot(data=df, x='entropy', hue='type', kind='kde', fill=True, height=7, aspect=10/6)\n",
    "plt.xlim(0, 1.2)\n",
    "plt.show()"
   ]
  },
  {
   "cell_type": "code",
   "execution_count": null,
   "metadata": {},
   "outputs": [],
   "source": [
    "params.rebatch(preds)"
=======
    "\n",
    "class mpra_energy(nn.Module):\n",
    "    def __init__(self,\n",
    "                 predictor,\n",
    "                 loss_fn,\n",
    "                 **kwrags):\n",
    "        super().__init__()\n",
    "        self.predictor = predictor\n",
    "        self.loss_fn = loss_fn\n",
    "\n",
    "        try: self.predictor.eval()\n",
    "        except: pass\n",
    "               \n",
    "    def forward(self, x):\n",
    "        preds = self.predictor(x)\n",
    "        return self.loss_fn(preds)"
>>>>>>> Stashed changes
   ]
  },
  {
   "cell_type": "markdown",
   "metadata": {},
   "source": [
    "### Comparing entropy distributions between Affine and No-Affine"
   ]
  },
  {
   "cell_type": "code",
   "execution_count": 24,
   "metadata": {},
   "outputs": [
    {
     "name": "stderr",
     "output_type": "stream",
     "text": [
      "Steps: 100%|██████████| 300/300 [00:15<00:00, 19.44it/s, Loss=-6.4, LR=0.5] \n"
     ]
    },
    {
     "data": {
      "image/png": "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\n",
      "text/plain": [
       "<Figure size 432x288 with 1 Axes>"
      ]
     },
     "metadata": {
      "needs_background": "light"
     },
     "output_type": "display_data"
    },
    {
     "name": "stderr",
     "output_type": "stream",
     "text": [
      "Steps: 100%|██████████| 300/300 [00:15<00:00, 19.54it/s, Loss=-4.93, LR=0.05]\n"
     ]
    },
    {
     "data": {
      "image/png": "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\n",
      "text/plain": [
       "<Figure size 432x288 with 1 Axes>"
      ]
     },
     "metadata": {
      "needs_background": "light"
     },
     "output_type": "display_data"
    },
    {
     "data": {
      "image/png": "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\n",
      "text/plain": [
       "<Figure size 921.375x504 with 1 Axes>"
      ]
     },
     "metadata": {
      "needs_background": "light"
     },
     "output_type": "display_data"
    }
   ],
   "source": [
    "batch_size = 50\n",
    "sample_takes = 10\n",
    "n_samples = 10\n",
    "num_steps = 300\n",
    "scheduler = False\n",
    "\n",
    "loss_fn = hepg2_specific\n",
    "model = artisan_model #hpo_model or artisan_model\n",
    "\n",
    "energy = mpra_energy(predictor=model,\n",
    "                     loss_fn=loss_fn)\n",
    "\n",
    "#--------------------- Affine ------------------------\n",
    "theta_ini = torch.randn(batch_size, 4, 200)\n",
    "params = StraightThroughParameters(data=theta_ini,\n",
    "                                   left_flank=left_flank,\n",
    "                                   right_flank=right_flank,\n",
    "                                   n_samples=n_samples,\n",
    "                                   affine=True)\n",
    "generator = FastSeqProp(energy_fn=energy,\n",
    "                        params=params)\n",
    "generator.cuda()\n",
    "generator.run(steps=num_steps,\n",
    "              learning_rate=0.5,\n",
    "              step_print=20,\n",
    "              lr_scheduler=scheduler)\n",
    "\n",
    "entropies_affine = []\n",
    "for i in range(sample_takes):\n",
    "    preds = energy.predictor(params())\n",
    "    entropies_affine += list(boda.graph.utils.shannon_entropy(preds).detach().cpu().numpy())\n",
    "\n",
    "#--------------------- No Affine ------------------------\n",
    "theta_ini = torch.randn(batch_size, 4, 200)\n",
    "params = StraightThroughParameters(data=theta_ini,\n",
    "                                   left_flank=left_flank,\n",
    "                                   right_flank=right_flank,\n",
    "                                   n_samples=n_samples,\n",
    "                                   affine=False)\n",
    "generator = FastSeqProp(energy_fn=energy,\n",
    "                        params=params)\n",
    "generator.cuda()\n",
    "generator.run(steps=num_steps,\n",
    "              learning_rate=0.05,\n",
    "              step_print=20,\n",
    "              lr_scheduler=scheduler)\n",
    "\n",
    "entropies_no_affine = []\n",
    "for i in range(sample_takes):\n",
    "    preds = energy.predictor(params())\n",
    "    entropies_no_affine += list(boda.graph.utils.shannon_entropy(preds).detach().cpu().numpy())\n",
    "\n",
    "df_1 = pd.DataFrame(entropies_affine, columns=['entropy'])\n",
    "df_1['type'] = 'Affine'\n",
    "df_2 = pd.DataFrame(entropies_no_affine, columns=['entropy'])\n",
    "df_2['type'] = 'No affine'\n",
    "df = pd.concat([df_1, df_2])\n",
    "\n",
    "sns.displot(data=df, x='entropy', hue='type', kind='kde', fill=True, height=7, aspect=10/6)\n",
    "plt.xlim(0, 1.2)\n",
    "plt.show()"
   ]
  },
  {
   "cell_type": "code",
   "execution_count": 36,
   "metadata": {},
   "outputs": [
    {
     "data": {
      "text/plain": [
       "tensor([[ 4.9816, -0.3656, -0.4134],\n",
       "        [ 5.1184, -0.4193, -0.5179],\n",
       "        [ 4.1697, -0.7225, -0.8149],\n",
       "        [ 4.7744, -0.6265, -0.6406],\n",
       "        [ 4.9375, -0.2587, -0.3952],\n",
       "        [ 5.1311, -0.3217, -0.3960],\n",
       "        [ 5.5996, -0.3825, -0.4604],\n",
       "        [ 3.9447, -0.7924, -0.7919],\n",
       "        [ 5.1698, -0.5802, -0.6562],\n",
       "        [ 4.9434, -0.3764, -0.4985],\n",
       "        [ 4.6666, -0.4180, -0.4804],\n",
       "        [ 5.0575, -0.3697, -0.4258],\n",
       "        [ 3.9766, -0.6721, -0.6748],\n",
       "        [ 5.1934, -0.6176, -0.5856],\n",
       "        [ 4.5846, -0.6966, -0.7356],\n",
       "        [ 5.3142, -0.3888, -0.5190],\n",
       "        [ 5.2601, -0.4681, -0.4669],\n",
       "        [ 5.2829, -0.4747, -0.6333],\n",
       "        [ 4.8750, -0.4506, -0.5419],\n",
       "        [ 4.7481, -0.6507, -0.7647],\n",
       "        [ 4.8330, -0.3696, -0.5197],\n",
       "        [ 4.6438, -0.5570, -0.6617],\n",
       "        [ 4.9787, -0.5943, -0.6383],\n",
       "        [ 5.3002, -0.2278, -0.4012],\n",
       "        [ 5.2790, -0.4932, -0.5335],\n",
       "        [ 4.3963, -0.5311, -0.6046],\n",
       "        [ 5.0863, -0.4969, -0.6169],\n",
       "        [ 4.9030, -0.3363, -0.3831],\n",
       "        [ 4.9354, -0.4765, -0.5104],\n",
       "        [ 5.0133, -0.3758, -0.4420],\n",
       "        [ 4.6349, -0.4223, -0.5765],\n",
       "        [ 5.3552, -0.1534, -0.3065],\n",
       "        [ 4.3278, -0.7093, -0.8024],\n",
       "        [ 5.1600, -0.6360, -0.6091],\n",
       "        [ 5.3519, -0.3848, -0.4173],\n",
       "        [ 4.5825, -0.5407, -0.6305],\n",
       "        [ 5.1354, -0.4206, -0.5038],\n",
       "        [ 4.8769, -0.4629, -0.5691],\n",
       "        [ 5.1020, -0.7603, -0.8257],\n",
       "        [ 5.1056, -0.6547, -0.6577],\n",
       "        [ 4.9068, -0.2181, -0.3120],\n",
       "        [ 5.1319, -0.0315, -0.1424],\n",
       "        [ 4.7745, -0.6109, -0.6047],\n",
       "        [ 4.8362, -0.3346, -0.3919],\n",
       "        [ 3.9739, -0.3793, -0.4688],\n",
       "        [ 5.5604, -0.4385, -0.5067],\n",
       "        [ 5.2690, -0.3471, -0.4951],\n",
       "        [ 5.2553, -0.2929, -0.4344],\n",
       "        [ 4.8747, -0.4095, -0.5636],\n",
       "        [ 4.2188, -0.5866, -0.6668]], device='cuda:0', grad_fn=<MeanBackward1>)"
      ]
     },
     "execution_count": 36,
     "metadata": {},
     "output_type": "execute_result"
    }
   ],
   "source": [
    "params.preds.unflatten(0, (n_samples, batch_size)).mean(dim=0)"
   ]
  },
  {
   "cell_type": "markdown",
   "metadata": {},
   "source": [
    "### Generating multiple mini-batches"
   ]
  },
  {
   "cell_type": "code",
   "execution_count": 5,
   "metadata": {},
   "outputs": [
    {
     "name": "stderr",
     "output_type": "stream",
     "text": [
      "Steps:   0%|          | 0/300 [00:00<?, ?it/s]/opt/conda/lib/python3.7/site-packages/torch/nn/functional.py:652: UserWarning: Named tensors and all their associated APIs are an experimental feature and subject to change. Please do not use them for anything important until they are released as stable. (Triggered internally at  /pytorch/c10/core/TensorImpl.h:1156.)\n",
      "  return torch.max_pool1d(input, kernel_size, stride, padding, dilation, ceil_mode)\n",
      "Steps: 100%|██████████| 300/300 [00:32<00:00,  9.36it/s, Loss=-7.18, LR=1e-6]   \n",
      "Steps: 100%|██████████| 300/300 [00:30<00:00,  9.95it/s, Loss=-7.28, LR=1e-6]   \n",
      "Steps: 100%|██████████| 300/300 [00:30<00:00,  9.97it/s, Loss=-7.25, LR=1e-6]   \n",
      "Steps: 100%|██████████| 300/300 [00:30<00:00,  9.95it/s, Loss=-7.17, LR=1e-6]   \n",
      "Steps: 100%|██████████| 300/300 [00:30<00:00,  9.96it/s, Loss=-7.18, LR=1e-6]   \n",
      "Steps: 100%|██████████| 300/300 [00:30<00:00,  9.97it/s, Loss=-7.13, LR=1e-6]  \n",
      "Steps: 100%|██████████| 300/300 [00:29<00:00, 10.00it/s, Loss=-7.27, LR=1e-6]   \n",
      "Steps: 100%|██████████| 300/300 [00:29<00:00, 10.01it/s, Loss=-7.26, LR=1e-6]   \n",
      "Steps: 100%|██████████| 300/300 [00:29<00:00, 10.03it/s, Loss=-7.22, LR=1e-6]   \n",
      "Steps: 100%|██████████| 300/300 [00:29<00:00, 10.04it/s, Loss=-7.21, LR=1e-6]   \n",
      "Steps: 100%|██████████| 300/300 [00:29<00:00, 10.05it/s, Loss=-7.21, LR=1e-6]   \n",
      "Steps: 100%|██████████| 300/300 [00:29<00:00, 10.05it/s, Loss=-7.26, LR=1e-6]  \n",
      "Steps: 100%|██████████| 300/300 [00:29<00:00, 10.05it/s, Loss=-7.31, LR=1e-6]   \n",
      "Steps: 100%|██████████| 300/300 [00:29<00:00, 10.05it/s, Loss=-7.26, LR=1e-6]   \n",
      "Steps: 100%|██████████| 300/300 [00:29<00:00, 10.05it/s, Loss=-7.22, LR=1e-6]  \n",
      "Steps: 100%|██████████| 300/300 [00:29<00:00, 10.05it/s, Loss=-7.15, LR=1e-6]   \n",
      "Steps: 100%|██████████| 300/300 [00:29<00:00, 10.04it/s, Loss=-7.24, LR=1e-6]   \n",
      "Steps: 100%|██████████| 300/300 [00:29<00:00, 10.05it/s, Loss=-7.2, LR=1e-6]    \n",
      "Steps: 100%|██████████| 300/300 [00:29<00:00, 10.05it/s, Loss=-7.23, LR=1e-6]   \n",
      "Steps: 100%|██████████| 300/300 [00:29<00:00, 10.04it/s, Loss=-7.15, LR=1e-6]   "
     ]
    },
    {
     "name": "stdout",
     "output_type": "stream",
     "text": [
      "CPU times: user 10min, sys: 1.86 s, total: 10min 2s\n",
      "Wall time: 10min 1s\n"
     ]
    },
    {
     "name": "stderr",
     "output_type": "stream",
     "text": [
      "\n"
     ]
    }
   ],
   "source": [
    "%%time\n",
    "#------------------ Choose settings ------------------\n",
    "affine_trans = False\n",
    "iterations = 20\n",
    "\n",
    "batch_size = 50\n",
    "#sample_takes = 10\n",
    "n_samples = 20\n",
    "num_steps = 300\n",
    "scheduler = True\n",
    "loss_plots = False\n",
    "\n",
    "loss_fn = k562_specific\n",
    "model = artisan_model     #hpo_model or artisan_model\n",
    "\n",
    "#------------------ Optimization run ------------------\n",
    "energy = mpra_energy(predictor=model,\n",
    "                     loss_fn=loss_fn)\n",
    "\n",
    "distributions = []\n",
    "sequence_samples = []\n",
    "predictions = []\n",
    "entropies = []\n",
    "for iteration in range(iterations):\n",
    "    theta_ini = torch.randn(batch_size, 4, 200)\n",
    "    params = StraightThroughParameters(data=theta_ini,\n",
    "                                       left_flank=left_flank,\n",
    "                                       right_flank=right_flank,\n",
    "                                       n_samples=n_samples,\n",
    "                                       affine=affine_trans)\n",
    "    generator = FastSeqProp(energy_fn=energy,\n",
    "                            params=params)\n",
    "    generator.cuda()\n",
    "    generator.run(steps=num_steps,\n",
    "                  learning_rate=0.5,\n",
    "                  step_print=20,\n",
    "                  lr_scheduler=scheduler,\n",
    "                  create_plot=loss_plots)\n",
    "       \n",
    "    samples = params()\n",
    "    preds = energy.predictor(samples)\n",
    "    \n",
    "    distributions.append(params.get_probs().detach().cpu())    \n",
    "    sequence_samples.append(samples.detach().cpu().unflatten(0, (n_samples, batch_size)))\n",
    "    predictions.append(preds.detach().cpu().unflatten(0, (n_samples, batch_size)))\n",
    "    entropies.append(boda.graph.utils.shannon_entropy(preds).detach().cpu().unflatten(0, (n_samples, batch_size)))\n",
    "\n",
    "entropy_tensor = torch.cat(entropies, dim=1)\n",
    "prediction_tensor = torch.cat(predictions, dim=1)\n",
    "sequences_tensor = torch.cat(sequence_samples, dim=1)\n",
    "distributions_tensor = torch.cat(distributions, dim=0)"
   ]
  },
  {
   "cell_type": "code",
   "execution_count": 9,
   "metadata": {},
   "outputs": [
    {
     "data": {
      "image/png": "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\n",
      "text/plain": [
       "<Figure size 600x360 with 1 Axes>"
      ]
     },
     "metadata": {
      "needs_background": "light"
     },
     "output_type": "display_data"
    },
    {
     "data": {
      "image/png": "iVBORw0KGgoAAAANSUhEUgAAAk0AAAIuCAYAAACimjysAAAAOXRFWHRTb2Z0d2FyZQBNYXRwbG90bGliIHZlcnNpb24zLjMuNCwgaHR0cHM6Ly9tYXRwbG90bGliLm9yZy8QVMy6AAAACXBIWXMAAAsTAAALEwEAmpwYAADQrUlEQVR4nOy9d5hkV3nn/72Vc+zqONOTk0ajOBLKKKCAEEhC+AcPBttgsFmMvWAvsJjdNWtjsMEY22uWtcEBG3vttQQSAgVQRhrFYVBAE3tCT+iZrq5c1RXvvb8/as7pWzXV3RVuVd1T/X6eR4/QIFWfvnXvOd/7hu8rqaoKgiAIgiAIYmlM/V4AQRAEQRCECJBoIgiCIAiCaAISTQRBEARBEE1AookgCIIgCKIJSDQRBEEQBEE0AYkmgiAIgiCIJrAs8/+THwFBEARBEL1G6vcCGkGRJoIgCIIgiCYg0UQQBEEQBNEEJJoIgiAIgiCagEQTQRAEQRBEE5BoIgiCIAiCaAISTQRBEARBEE1AookgCIIgCKIJSDQRBEEQBEE0AYkmgiAIgiCIJiDRRBAEQRAE0QQkmgiCIAiCIJqARBNBEARBEEQTkGgiCIIgCIJoAhJNBEEQBEEQTUCiiSAIgiAIoglINBEEQRAEQTQBiSaCIAiCIIgmINFEEARBEATRBCSaCIIgCIIgmoBEE0EQBEEQRBOQaCIIgiAIgmgCEk0EQRAEQRBNQKKJIAiCIAiiCUg0EQRBEARBNAGJJoIgCIIgiCYg0UQQBEEQBNEEJJoIgiAIgiCagEQTQRAEQRBEE5BoIgiCIAiCaAISTQRBEARBEE1AookgCIIgCKIJSDQRBEEQBEE0AYkmgiAIgiCIJiDRRBAEQRAE0QQkmgiCIAiCIJqARBNBEARBEEQTkGgiCIIgCIJoAhJNBEEQBEEQTUCiiSAIgiAIoglINBEEQRAEQTQBiSaCIAiCIIgmINFEEARBEATRBCSaCIIgCIIgmoBEE0EQBEEQRBOQaCIIgiAIgmgCEk0EQRAEQRBNQKKJIAiCIAiiCUg0EQRBEARBNAGJJoIgCIIgiCYg0UQQBEEQBNEEJJoIgiAIgiCagEQTQRAEQRBEE5BoIgiCIAiCaAISTQRBEARBEE1AookgCIIgCKIJSDQRBEEQBEE0AYkmgiAIgiCIJiDRRBAEQRAE0QQkmgiCIAiCIJqARBNBEARBEEQTkGgiCIIgCIJoAhJNBEEQBEEQTUCiiSAIgiAIoglINBEEQRAEQTQBiSaCIAiCIIgmINFEEARBEATRBCSaCIIgCIIgmoBEE0EQBEEQRBOQaCIIgiAIgmgCEk0EQRAEQRBNQKKJIAiCIAiiCUg0EQRBEARBNAGJJoIgCIIgiCYg0UQQBEEQBNEEJJoIgiAIgiCagEQTQRAEQRBEE5BoIgiCIAiCaAISTQRBEARBEE1AookgCIIgCKIJSDQRBEEQBEE0AYkmgiAIgiCIJiDRRBAEQRAE0QQkmgiCIAiCIJqARBNBEARBEEQTkGgiCKKnqKoKRVGgqmq/l0IQBNESln4vgCCIwUVVVf6Xoij8r2KxCEmSYLFYYDab+V+SJEGSpH4vmyAIoiHSMm979CpIEERTLCaQtDBBxEQT+3fZn5OQIgjiLIZ86Ek0EQTRMq0IpHrBo6oqSqVSwz9nf19MSFksFphMJhJSBDH4GPIBJ9FEEMSSLCaQ9u/fjy1btgBYXCAt9nmNRNNi/y77u6IoyOVyyOVyGB0dJSFFEIONIR9mqmkiCILTbARJkiQkEgmYTN3tJdGKMZPJhEqlgvn5eUiShEqlUiO+KCJFEES3IdFEECuUVgSSkYSHdk1MtLGIFAkpgiC6CYkmglgBiCqQmqU+IgWQkCIIQn9INBHEgDHoAqlZSEgRBKE3JJoIQmBIILUGCSmCIDqBRBNBCAIJpO5AQoogiGYh0UQQBoQEUn8hIUUQRCNINBFEn6kXSMViEclkEuFwmP87JJD6TytCKhqNYnx8nIQUQQwYJJoIooc0E0EqFos4efIkIpFIn1ZJNMtiQmp6ehrDw8PLRqS67XNFEIS+kGgiiC7RSCCxf2Y0iiDRQSo2Wg+pdlJ79P0ThHEh0UQQOtCsQAKaE0XLjDciBKPTGikSUgRhDEg0EUSL6C2QVgKqqiKbzSKdTiOZTCKfz8Pj8cDr9cLn88Futzf9OYMCCSmCEA8STQSxBP0QSKIXC6uqivn5eaTTaaRSKaRSKVQqFbjdbvj9foyOjsJsNiOXyyGTyeDkyZMoFotwOp1cRHm9XthstoafL/r1WQoSUgRhbEg0EcRZjBRBEiWioqoqCoUCUqkUF0mlUgkulws+nw9DQ0NYv359jQBSVZX/O6zYnX1OJpNBIpHAsWPHUKlU4HK5aoTUSoSEFEEYBxJNxIrESAKpHiNHUorFIhdI8/PzeO655+B0OuHz+RAIBLBmzZqmU21aJEmC0+mE0+nE8PAwgIWIVSaTQTQaxeHDh1EsFmE2m2G1WuHz+eDxeGA2m/X+NTuiF4KXhBRB9AcSTcTAY2SBtBhGiDSVy2WeXmMiyWazwefzwe/3w+Fw4Oqrr+6ayJMkCW63G263G6OjowCq/kexWAxmsxmnT59GJpOBqqrweDw8GuXxeAzzPfYSElIE0X1INBEDxVIC6eDBgxgeHkYgEABgHIFkBCqVSk0NUi6Xg8Vi4QJpdHQULperRiAdPny451ExSZJgs9kwPj7O/0xRFF5kfvLkSWSzWUiSBK/Xy1N7LpdrRX7fywmpgwcPIhAIIBAIkJAiiCYg0UQIS6sRJGYiaeT0F9D99cmyjEwmwwVSNpuFyWSCz+eDz+fDhg0b4PF4DH+dGNq1M9jvmMlkcOzYMeRyOZjNZh6N8vl8cDqdXfkdVVU19LXTCilFUWrE0WIRKSamSEgRKx0STYQQ6JViM0Laqxn0WieLwjCBlMlkAIALhzVr1sDr9Q7cQWg2m3kEhVEul7mQmpqaQj6fh9VqrSk0dzgchhY83aKd1B4JKWIlQqKJMBzdqkGSJEkY0dQOqqoil8vV1CEpigKPxwO/34+JiQn4fD7DFU73CqvVilAohFAoxP+sVCohk8kgnU7j9OnTyOfzsNvtNRGpdgrbRWGpqFgrQspkMvG0HgkpYpAh0UT0FRGLtLtNM+JOVVXk83kukBp5IW3evBkWCz3iS2Gz2RAOh/lwZGaHkE6neY1UqVSCw+GoEVJWq3XRzzR6eq4TSEgRKx3aUYme0W+BJGqkSVVV3urP/iqVSnA6nfD7/Q29kIj2kCQJdrsdkUjkHA+pdDq9pIeUiAJVD4G3lJAql8skpIiBQrynnBCCfgukRogimkqlEkqlEg4dOoRUKoV8Pg+HwwG/349AIIDJyUk4HI5+L7Mv9OP703pIjYyM8HUw13PmIaUoCrdIqFQqkGVZiFRoN6Ji7DO1vz8JKWIQINFEdAzbDJk4MoJAEoVyuVzT6j8/Pw+LxYJyuQyPx4OJiYkVW5y8GEa4FloPqbGxMQDV+z+XyyGZTKJcLmPPnj2G95DqpQglIUUMAiSaiJbQCqRyuYxCoQCHwyGEQOp3pKlSqZzT6q/1QhoZGYHL5UKlUsGePXu4oSMhBiaTCV6vF06nE9FoFJdccglkWUYul0M6ncaJEyeQy+W4hxQTUm63u29CsN/1V60KqWKxyJsZSEgR/YBEE7Eoy0WQMpkMpqencf755wuxefXycFAUhRcTs1Z/SZK4QFq/fj3cbnfD62aESAqhD8wbSushValUuBlnrz2kRGApIfXaa6/hkksuoYgU0TdINBEA2kuxmUymvr+ptko3Ik1aLyQmlFRV5Yfl5ORky15IItReEY1Z7pmwWCyLekixGqleeUiJ8vzWe0QBlNoj+gOJphWIXjVI/U53tYoe69V6IbEoEvNC8vl8GB8fx9atW4UoACaMw2IeUul0GplMBjMzMygWi7Db7TVCqlMPKZGe33qoRoroBySaBpxuFmmLKJpaod4LKZ1Oo1wucy+k4eFhbNq0SfdWcxHe/InuY7PZMDQ0hKGhIQAL1hOsLu748eMol8steUg1YpDuNxJSRLch0TRA9LqLTTTRBCz9Zl0oFGoEUrFY5F5I4XC4p15Iol1XYoFufXeSJMHhcMDhcNR4SOXzeWQyGcTj8RoPKSaklvKQEiU91wkkpAg9IdEkKEZo8xdts9WKvFKpVGMWaSQvJNGuK3EuvfoOJUmCy+WCy+VqykOKRaM8Hs+KTiGTkCLahUSTABhBIDWCTUk3OswLKRaLoVwu48iRI7BarfD7/fD7/RgfHzdct5IokaaVEKkQjaU8pNLpNGZmZpDNZqGqKsrlMmZnZxEOhxft5jQK3X4mOhFSZrOZnoMVAokmg2FUgdQII24SS3khsWLbdevWGXLtxGBgRCHJPKS8Xi//M1mW8eqrr0JRFBw/ftxwHlL19OO6kpAi6iHR1Ee0AkmWZWQyGbjdbkMKpEb0u6ZJUZQagbScF9KxY8eE2MiMvj5iMGAH/Pj4OE9Fs5eOTCaDo0ePcod6Jrj66SFlFDG6nJAql8s1/36pVILf7ychNSCQaOoRy0WQFEXB66+/jiuuuMKQAqkRvRRNLL2gLdRWVRVerxd+v78tLyQjI0p6rtfQddEf7SFusVgQDAYRDAb5ny3mIaXt2LPb7V0XA0YRTY1YTEgVi0Xs378fO3bs4H/GxBNFpMSERFMXaCfFxgSISA9Pt0QT80JiPkjpdBqyLPNW//HxcWzZsqXlVv9+R8YIfTD6MyLSc9zM87CUhxSrkar3kPL5fD3rNDUq9Wk7oHFEioSUWJBo6hA9jSJFRA+zyHw+XzO0tlwuw+VycS+kjRs3tuw90whRRJOo9wIhHu0KvMU8pNhzzDyknE5nTY1UJ8+xSGKUUb/mZlN7JKSMC4mmFhCpSLsXsDEqrVAoFGoEUqFQ4F5IrEh7pb+hEoRoaD2khoeHAdS+EMViMRw9erQlD6l6BkE0NYKElFiQaFoEEkjNsZRoYl5ITCTNz89z92K/34/Vq1f31AtJFIsEUaDNujEiHe7dXKvWQ2p0dJT/vFwuh0wmg9nZWUxNTUFVVbjdbi6kFvOQEum6MtpdMwkp40KiCSSQ2kWb7qpUKjUCKZfL8WJRv9+PsbGxvnshiZKeI4he0WshIkkSPB4PPB5PQw+pU6dOIZvN8n+PpfZYV7FoYkDPNZOQMgYrTjSRQOocWZa5OMrn89i1axdMJhP8fj98Ph82btxoKH8XonuIeJARxkLrITUxMQGgusdks1mk02nuIQVUxcHMzAx8Ph9cLpfh771uPx8kpHrPQIsmEkido/VCYt0yWi8km80mjE0CRZqIXiCSkDTqWs1mM3fsZ6TTaRw6dIi7+ms9pFhqr9/R7HpUVe353khCqrsMjGgigdQ5qqoim80u6oW0atUqeL3emodxenqaridBEF3HYrHAZrNhcnKS/xkbkZTJZHDmzBkUCgVeFsCEVC88pBbDKKK0VSGlFVEkpGoRUjQtJZDm5+cxNTWFCy64AAAJpMVg10orkPTwQjIyFGkiiFqMcqg3Q6O1Wq1WhMNhhMNh/mfFYpGbcZ46dQqFQoE3oLCoVK86dBVFMez1XUpIlUol/OxnP8Mll1wCoHqOkpCqYvgTsdUIkslkMvSN2g9UVUWhUOACqZteSEaGRBPRC0QSIiLR7HW12+2w2+01HlKFQgGZTAbJZLIrHlKdrtko1Asps9lcI6S0rFQhZTjRpKpqRyk2JppWMsVisUYg1XshrV27Fna7vd/LJAiiz4h0qHfSvu90OuF0Ohf1kDpy5AiPtGuFVCPrg16sud80OnMXi0hpWQlCynCiqVgs8i+knRqklSaa2DgDJpDm5+dht9t5EeXq1av7mtM3EhRpEh/6/lYuerfv13tIKYqC+fl5pNNpnDlzBocOHarxkPL5fPB4PC2dR6KKJkVRmppgsZyQeuc734lnnnlGyGuwGIYTTe24TGsR/WBc6iFr5IVksVi4QDKCF5KREf3eIKoY/f4W7aCktVYxmUzcQ4qhKAqy2SwymQxOnjxZ4yHFolFut3tRgSHavcBoZ92NhFQ2m9V1XUbAcKKpUzoVXf1EO7SXeSExgZTNZmEymXirP3khEQSxkuiHAGF7rs/na+ghNT09jVwuB7PZzL2mtB5SK0k0LfY5g8bAiSYRR2UwL6RSqYRf/OIXyGQykCSJt/qvXbu25bAwcS4UaSIIcTHKs9vIQ6pSqfCOPa2HFGvfz+fzcDgcwgio5dJzK5mBFE1GebgaofVCYpEkRVF4SHh8fByBQKDjAkSiMUa+N0RDlAOg14gaXTA6Rr6uFosFwWAQwWCQ/1mpVMKxY8eQy+Vw8OBBFAoF2Gw2Ho3y+XyGbcjR41ob+fvqhIEUTUahkRdSpVLhXkijo6PYvHkz90J6+eWX4fP5SDB1CSPdGwRBtIZoh7DNZoPb7YbT6cSqVasAVBudmBnnyZMnUSwWz7E+6JWH1FLoGWkS6TtrBsOJJqNHihaj3gspnU6jVCrB5XLB5/MhEoks64Uk6u8uCnR99YeuJ9ErRBNNwLlrttvtiEQiiEQi/P9nHlKJRALHjh1DpVKB0+msMePstckw1TQtjuFEkyhovZDS6TTy+Tz3QgoGg215IYlYjyUag/gQGx1VVZHL5ZBMJpFMJrn7vNVq5UOejZyqaBURD3cREPG6Ljd7bjEPqfn5eWQyGczNzdV4SDEhpYeH1HLrFu1a9woSTU2g9UJKp9PI5XLcC8nn82HVqlW6FPlRJKS70CbQG0qlElKpFBdJpVIJbrcbgUAAExMT2Lp1K2RZ5nPD0uk0Tpw4UeNSzw4HKkYlRKbd1n232w23272sh5TH4+HRKD2bhfRIzw2q8CLRVEelUqkxi6z3QhodHeXtpHojqmgS5eEQ9foaGUVRaqJI2WwWZrMZgUAAgUAAq1evhsPhqPlvVFWFLMuw2WwYGhqqGXfBagBPnTpVY7PB/qJI7MpFlH1Gi15rXspDKp1O13hI1VsftCN+9Fi3LMsDNbuUMXi/UQvIsoxMJsMFUr+9kERMz4nsRUK0TrFY5AIpk8ngpZdegtfrRSAQ6NgaQ/uGPT4+DmDhJSadTuP06dPIZrN8I2ZCymiNE/Q8dAcRr2s316x9oWCwMy2TyfDOPeYhxaK3zbz06xFpKpVKhihq15sVI5qYKmcCKZPJAIChvJBENOYUaROjSFNrKIqCdDrNRVIul4PNZkMgEEAoFEIsFsNb3vKWrooWi8WCUCiEUCgEAJiZmeGjgqLRKKampgCAHwp+v59c8QcUEk3Lo43yMtiLRyaTQTQaRT6fh8Vi4YLL6/WeU16ix7pLpRJFmkRB64XE6pCYF5Lf78eqVau6XkjXDiIe6iKtWaS19hrWxcMEUiqVgqIo8Pl8CAQCDaOuTLD0EkmSYLVaMTo6yus92Nt1Op3G1NQU8vk87HZ7TVqvGxPsid5Coqk96l88gKqgYc/M6dOnuYcUE1GyLOsimijS1ANa/aLYtGomkFgd0qFDhxp6IRkZEQ91EddMLLx9MpHEHIsDgQCGh4exadOmZZ+Zfh8GjEZv14VCAel0GvF4HEePHuUvTSwa1c20uxEOykFExOtq1DXbbDaEw2GEw2H+Z8xDKp1OIxaLoVgsIpfLte0hVS6XSTT1G/Y2rC3U1nohDQ0NYf369di9ezcuuOAC4TpvRBQgIq1ZpLXqCWv5Zx1t6XQaAOD3+xEIBLB169aBS2k5HA44HA7exq0tmmW1HqzBgwmpQdzgBwmjCpClUBRFmDVrPaS8Xi9yuRxGR0eRTqdrPKRcLleNkFrs5YoiTX2AeSExkcS8kFjKYM2aNQ29XUQ9HEWsaQLE8T4S9b5olXK5zFNsyWQSxWIRLpcLgUAA4+Pj2Lp1q26paVGup7Zolrkza61EmOUB88Lx+/19r3EkxGc5nyajwgrBmYfUyMgIgIUO13Q6jWg0isOHD9d4SDHrA7PZjHK5PJBpccOJptnZWUxPT2N+fp7nWP1+PyYmJpr2QjKZTFAUxXA1S8shcvfcsv/ez34Gy8c/jso3vgH10kt7sLKVgaqqyGQyXCRlMhk+UDQQCHAPMeJcGlke5HK5mhZubTctM+Bcbg8SMSIiAiJeVxHXDCwu9rQdrmNjYwAWbEcymQxmZmbw5JNP4u///u+xdu1aZLNZ7N69Gzt27BiYqJPhRJPb7cbmzZs78kISNaIg4rqbXnMuB9PPfw6kUl1f02KIeH3rYdFXVotULpd5B+jk5CQZQnaAJEncC6fe8iCVSmFmZgaFQoGXA/j9fkM2lAwqIkZtRBZNza7bZDJxbygWyf7VX/1V3HvvvfjXf/1XfOMb38Brr70Gq9WKnTt34q/+6q/auiaSJH0KwEcAqABeB/AhVVULLX9QhxhSNMmy3NFnsEiTaIh4qDe9ZnawdPjdriS0Lf/MR8xms/Eo0tq1awfm7c2o1HceaRtPmDMzUGt5INozLAoiChAR1wx07tPkcrmwZcsWnH/++fibv/kbAEAul8O+ffvaFUwTAH4HwHmqquYlSfp/AN4H4B/bXmSbGE406YGI4gMQc92tiiZJUdCv39DI17e+5T+Xy+GFF17gB/H69evh8XiE3IAHCUmS4HK54HK5eHpCa5I7NTXFPeC0heYidO8aHREFiIhrBvRZd7FYrHmpc7vduLSz0gwLAKckSWUALgCnOlpgB4swFHpZzosYaRJx3SJFmowkmmRZ5h2gTCQ5nU4EAgFEIhHE43FcddVV/V4m0QT1lgexWAzRaBRutxuxWAxHjhyp8Ynz+Xw9nTRA9I+VLJr0LARXVfWkJEl/BmAaQB7Aj1VV/bEuH94ihhNNemCkw7EVRFy3SKKpX7COE5ZmS52t62JptkY1fAcOHOjXcg2NCM+HJEmwWCwYHh4+x/IglUpxywOr1VpTZE6p1qXRY7RHrxFVNBltjIokSUEAdwJYByAJ4D8kSfqAqqrf1eUHtMBAiiYRIzYAiaZu06vrWy6XeQSJWWW43W4EAgGMjo5iy5YtVDzcAUY/hBodlI3mhJVKJS6ip6enUalU4Ha7uYjqtuWBaHuNiIgqmvRYd6VS0fNF4G0AjqiqGgUASZK+B+AqACSa9EBE8QGIue6mH6wBFU1sZI92iK225b8VqwxiZWGz2biZIFBrQqq1PNAacDbypVspiChARDK31KLHunU2t5wGcIUkSS5U03M3AXhFrw9vhYEUTRRp6h0iRZr0oFQqcYHEWv49Hg8CgQC1/BMdobU8mJiYAFCNWrLRFjMzMygWi3A6nVxIdWJ5IJoIEW29gJg2CYA+6y6VSnrWNL0oSdK9AH4GoAJgD4C/1eXDW2QgRZOI4gMQU+yJJJpavS8UReHGkclkEtlsFlarlRf9LuZIv1IQ7QDrFXoe7lartWZGmNaR+cyZMzh48CAkSaoZTjxoI3EYooom0dYM6FcIrmednqqqfwDgD3T7wDYZSNEkovgABtsRXGVvLQYWTdqW/1QqBVmW4fV6EQgEqOWfMASNHJkrlQqfWH/o0CE+fJlFoxazPBDtQBdtvYCYawaMVwhuJAwnmvS4wUSNNIm6blEiTVpkWebGkazl3+FwIBAIYGhoCBs2bBjIuUl6I+L9OmhYLBYEg0EEg0EAtYPNtZYHWgNOl8vV51WvDEQVTXpFmjwej04rMg6GE016IHKkSbRDSIT0HHNxjsViyGazeP755wGAD37udGwPQWjp90EpSdI5g1ZZqjmdTuPIkSOYn5+HxWJBoVDA3Nwc/H6/4V8S+n1d20HENQP6FIKXy+WBLF8YSNEkovgAqmJPtHUbUTRVKpWa+WxsXpjX64XNZsNll11GDs3EioJ14fn9fqxevRpAdazF66+/jmQyyS0PPB4Pj0a53W5DFTGLKEBEXDNgvEJwIzGQJ4fIkSbR1t2yaNL592Mt/0wkpdNpfkAEAgGMj4/zlv9KpYJYLCaMYBJ1wyXEwGazwW63Y+PGjQAWptWn02kcP34c2WwWFoulxoCzn5EDEZ8HEdcMGM8R3EiIcXq0iKiRJhHX3etIE2v5ZyKpVCpx48hVq1bB5/Mt+oYk4vUlxEOUg7J+ndpp9fWWB8w7qlQqweVycSHl8Xh6ZtQqynWtR8Q16+XTROk5QRA50iTaod7ywN4WRJO25T+VSiGTycBqtfIo0uTkZEsPpUibl0hrJQaXpSwPZmZmkMlkaiwP/H5/18xcRRVNIqJHek5vywGjMJCiSUTxAYi5bj0jTazln0WRWMu/3+/H2rVrdRkrIdL1pUPiXET6/oxOO/fXUpYHqVQKs7OzyOfzcDqdXER5vV5dUuL0PPQOvQrBKT3XA/R4KEwmE8rlsg6r6S0iRsjaFU3alv9UKoVcLge73Q6/349QKIR169bp/pYioig1Mv06wIx+cIp0j+lxLRezPEilUohGo5iamoKqqvwFyOfzUbeqwdGrEJwiTYIg6uEo4rqbWbOqqsgXi7ADmJ2ZwQFNy7/f78fGjRvhdrtpE9VA10JsRPj+urXXaC0PRkdHAVRfkljDBrM8sNlsNUXmy0UlKNLUOww4sNcwDKRoEjFiAwyOaNK2/KdSKeTzebisVlwBwON09q3lX7QNV4R7QYQ19hpRrkkvRQgbYu33+/mfFYtFpNNpJBIJHDt2jFseMBFVb3lAoql3GHBgr2EYWNEkysalRUTRBFRrkU6cONGw5X9sbKw6C+vs7+Wy2yEL0vLfT+hwEBv6/pbHbrcjEokgEokAWLA8SKVSDS0PZFmm69pD9BBNVNMkCCL6HQFiiL1SqVRjHJnNZuFwODA2NoZVq1YtPnWdPYAGGaMiAka/FwixMVrkRmt5wCiVSkin0/yvV199tSYa5fV6DWXAOUiQI3hjBlY0iXjgGE3sKYqCbDbLBVImk4HFYkEgEEAgEMDq1asxOzsLk8mEVatWLft5qtlMookgiKax2WwYGhrC0NAQMpkMtmzZAlmWkUqlMDMzgwMHDsBkMnHLA5/P1zXLg3YQ8RwC9Fk3ped6hF7dc0YSH83Sb7HHOl6YSJJlGR6PB4FAYMmW/6bXbDbr7gg+qBhl0ydax2gRnMUQZZ1aTCYTHA4H3G43xsfHAVRrKFkk6vTp0ygUCnA6nTwa5fP5embASSxAPk0C0W/x0S69XLeiKLzlP5lMIpfLwWazIRAItNTy39KaKdLUEiLew4Q4iHZ/LbZei8WCUCiEUCjE/718Po90Ol1jeaCNRvXK8kA0UcrQY90kmgSCIk21sE1E29GmKAp8Ph8CgUBHLf8tpRTNZqBSaflnEATRHUQ61JuNjEmSBJfLBZfLVWN5kMlkkE6ncfjwYeTzedhstppolN5Fy6KJUr2h9JxArHTRxFr+mUian5+H0+lEIBDA8PAwNm3apFvLP0WauoOo0VJCnLSXKOtkdLJes9nMazEZhUKBWx4cPXoUiqLA4/Hwbr1OveNEu756Q5GmHtLpgSHqgdOO2FNVlbfpspZ/ALzlf+vWrdWW/y49vC1da4ulpdlzBFGPiM81oQ96ixCHwwGHw4Hh4WEAC40v6XQax44dQy6Xg8Vi4dEov9/fkggQWTTp8ZzJsjyQtWSGFE2dMsiRpnK5XDOfrVgswu12w+/3Y3x8HFu3bu3pjUqRJoIQE9EO9W6vV9uFx7qBmeVBKpXCiRMnUC6X4Xa7uYhaah6maNe3GwyiHcRAiiZRI03169a2/KdSKWQyGe6sGwgEsGrVKjgcjj6umERTtxBhs6XZc40R6bAUZZ1Af66r1vKArSGXyyGdTuPkyZPIZrNcbLGIlN1u5/uiSNeXode6RTyDm4FEk4Eol8solUrYv38/UqkUyuUyH3I5OTlpSCO3lq61yUSiqQVEuIdFWCPRGPruWkeSJHg8Hng8nnMsD5h3VLFYhNPphNvtRqVSES5NJarY6xUDKZpESM8t1vJfqVQQDAabbvnvNxRp6g6DuGmxLs54PI5sNsvfzgdx1IIIiHg4GnG9i1kexGIxlEol7NmzBwDg9Xr5Pd/NOtNO0eO+GGRBTqKpB6iqikKhwAVSfcv/hg0b4PF4AADPP/88L0wUgZYeLhJNLSH6xqMoCjKZDBKJBBKJBHK5HFwuFwKBADweD1KpFKanpyHLMo+oGv1AaQZVVQ0XESZ6B7M8kCQJiUQCF1xwAbc8SKVSmJqawvz8PBwOR01arx9DzBuhx7BeoHodRH6OF8MY35LO9Ds9x8K1TCDlcjne8h+JRLBx48aBebtuxaeJxqgMNqxJIZlMIpFIoFKpwOv1IhgMYtOmTbyFW1VVlEqlmq6lTCaDZDKJQ4cOIZ/Pc3G1XLEt0T4iRppEQiue6y0PVFVFsVhEOp1GLBbDkSNHuOUBE1GdWh7osW7iXAwpmjoVPb2MNKmqivn5eX5Y1Lf8j4yM9Mx9th+0HGkyUATQyIhwv8iyjDNnziCbzSKVSkGSJAQCAQSDQUxOTjY9rNNkMvEoE7DwTKVSKZw8eRKZTAZWqxV+vx+VSqXvzQ8E0QxLiVJJkha1PEilUtzywGq11kSjelGyQYXgS2NI0dQp3TxwyuVyjbN2oVDgb8X9aPk3AlTT1B2MtOmoqspTbclkEtlsFoVCAfl8HqOjo9iyZYtu970kSXC73TXzxUqlEm/7npubw5kzZ3h62+/3G0pIiRLBEWWdotLq9dVaHjC0lgfT09OoVCrcYsbn83UlCqsoCkWalmAgRZNeqKrKW/6TyaQhW/77DRWCd4d+H2bMVZ6JpGKxCI/Hg2AwiPXr18Pj8WD37t1Yu3Zt0xGlTrDZbIhEIiiVSgCA0dFRfpicPn26xq+MpfT6fQ2NDomm7qLH9V3M8oBFYestD/x+f8fPox7rFq1jsBVINGkoFos8ipRMJlEul+HxeBAIBAzb8t9vSDR1j15GmorFIi/YTiaTAKop5mAwuOjLQT8PXLPZjGAwiGAwCGDhMEkmk5ienubdqOwFhybdE72mG6JUa3kwMTEBoJr9SKfTSKfTNZYHLBrl9Xpbuvf1KAQf1BEqwAoWTdriU5ZusFqtvFhvzZo1PXmDFh0STeLBBAYTSZlMBjabjTcq6DmbsFdoDxPm5lwoFJBKpfikewD8bTwQCHRtUxclgiPKOkWlV9fXarUiHA4jHA7zn8sGtJ85cwaHDh0CAJ768/l8S3ao6lEIXiqVBqbZqR6xdsYOqG/5Z23OgUCApxtoA2mdVkUTzZ5rDj3vRUVReKotkUggn8/zCOqaNWs6iqD2uu6qlYOIFdqOjIwAqO1qPXnyZE0k2e/3D3TDBtF7+iVKmeWBy+XC2NgYgGq6jEWjWIeqw+Hg0Sit5YEe6ybR1GP0yKdWKhUcOXKEG0c6HA4EAgEMDQ1hw4YNA/uF9hpyBO8e7QqSUqnE2/6TySRkWebRlW3btgnvg9Tu2utNCLXdSkeOHOHWIOxaDXo6niJN3cVI17dROrtQKDS0PLBarZBluaP1l0olSs8ZFW17MosiAQs51c2bN9MbZBcRMT1npM2sU1gonkWR0ul0zQYpirN8P9B2K61evbrGhHZmZgYHDhzgdggsGtXMy5aRuh6J/mHkfUaSJDidTjidTh6JZSUrp0+fRiaTwcsvv8ytPlp176eaJgNRqVS4OEomk8jn87xrZnR0FJs3b4bFYsGuXbt4oRzRPUQTTSIP0gQWd9kOBoOYmJjAeeedN9DRkW6iPUhYWoNZjDRyLw8EAnA4HA3vJRHuL5GfAxHQy1m7V7AXhEqlArPZjI0bN3IDTq3lgcfj4SLK7XY33G9INPUJ1vLPBFI6na558xsfH1900yJ6Q8ui6WzLOLE07LpWKhWeZkskEiiXy/D5fOe4bBPdwWq11rR8axtIDh482NC9XJRIE4mm7iKqs7Z23Xa7HZFIBJFIBED1/s/lckin0zh+/Diy2SwsFguP2Hq9XjidTqpp6jWnT5/G0aNHUSqVuK38qlWr4PP5WroJRd0URFp3y6Kpz47g/R6xsxws1ZZKpfDzn/8cFoulLZdtojss5V5+4sQJZLNZPj7GYrHA7/cL14lI6INI+7iWpdZtMpng9Xrh9XrPsTxIpVK4//778b//9//G+Pg4FEXBrl27cMkllwyUn6Ehn2a/348LLrigowNC1DSMaOtuZZ2qAbrnjHRd6122M5kMHA4HgsEgnE4nNm/ezA9nwpg0ci9nLd7xeBxHjx6FoihcaBnJvVykfUZERL2+raYVtZYHv/Ebv4Ff//Vfx3333Yfvfve7+Kd/+id88pOfhNlsxjXXXIOvfvWrba1JkqQAgG8DOB+ACuDDqqo+39aHdYghRZPT6YTc4eHK5s+JFh4Vbd2i1TQB/SvUZS7bLNXWyGWbbVa5XE6Ye4CoxWKxwOVy8ZlirN27kXt5IBDo62BWURBprQxRRVOnaUWz2Yzx8XGcd955+MY3vgEAyGaz2LdvXyfL+ksAj6iq+h5JkmwAXJ18WCcYUjTpcaMZPQ2zGCKuWyTR1Mvrq3XZTqVSUFWVu2xPTEwYJuJA6Ev9YbmUezkbzNov93JRDnURBYiIawb0cwTX1jR5PB7s3Lmzrc+SJMkH4DoAvwYAqqqWAPStONaQokkPWMRGNEQTTSaTSTjR1A30dtkWcbMlmsMo7uUiHeoirZUh4poB/RzBdbxn1wOIAvgHSZIuBLAbwH9WVTWn1w9ohYEVTaKJD4aI6xZJNAH6hPq76bKt5zq7iYgHglEh9/LBg0STbqLJAuASAL+tquqLkiT9JYD/CuC/6/UDWl3MQCJqpKmlyI0BEM0RvF1R2muXbRE3W6KKHoflUu7lhw8fxvz8fMfu5SId6iKtlSGq5YCiKB2nhyuVip6dvicAnFBV9cWz/3wvqqKpLwysaBIxYgNU1y2S2BNt9lwzG69RXLZFuH/7MXtuJdKsezmLRLXi3iwCIoomPcRHP9Ar0qSX1YaqqqclSTouSdIWVVX3A7gJwJu6fHgbDKxoEjXSJJrYG4TuOXLZFgvRDs9uoId7uUiREBFFk4hrBvQrBNf5xfK3AfzL2c65wwA+pOeHt8LAiibRxAdDtHWLJpokSUKlUkE0GuXpNmZGaCSX7X7/fKJ9+nVYtupeLtI+I6IAEUmUatFj3cViUVfRpKrqzwG0136nM4YUTXo8HBRp6g0iOILn83kukOLxOF577TWEQiHDu2yLdB8QxmM59/JEIgGz2YxCocD/PSO7l4somkRbM6DPuiuVCpxOp04rMhbGfUI6RDTxwRBN7LX0cPUg0sRctplIymazsNvtCAaDGB0dRaFQwNatW+Fy9c0bjSD6Qr17+fT0NEwmE2w2G+LxOI4cOQIAfBirkdzLRRt+C4grmvS41qVSybAvo50ysKJJNPHBEFXsNUUXRJMsy0gmk025bAPA9PS0rj+/W4i42RJVRDosLRYLhoeHG7qXz8zMoFQqGcK9XEREug+06JGeqze3HCQGVjSJKj5EXXczqDqIJj1ctkW5vqKskxCTRoe6Ud3LRRQgIq4Z0GfdXSgENwwDK5oo0mRAWhRNertsAwN+fXuMiAcCsUAzhyO5l7ePiGsGoMvsU53NLQ3FwIomUQ9H0cwtW2IZ0dQLl21RNjFR1kmci6iHZbM0ci9nVgfdci8X8ZqK3D1HkabFGVjRJHKkScR1N0WdaGrksu3z+RAMBrviss0QRZSKsE4R1kg0Ri8hYrFYEA6HEQ6HAZB7OUPENQPdGdg7SBhSNOlxo4kaaRJ13cuhqirKigKzLOONN97gLtuBQKCnLtuDen0Jwig0415uNpt5Sm/Q3MsZInb8AYacPWcoDCma9EDkSNMgHOqNXLa3JBKYkOW+umyLsokNyn2wEhElwtCrdS7nXn7s2DEoirKse7kI11SLiGsG9Fk3iSYBETXNJephWalUeKotkUigXC7zVBtz2bY8+SQkVUUwEAD6uJmIeH2JKvTdDQatupeLGLURVTTpUQheqVRINImGyWSCbIA5Z60iSoRM67KdzWbxyiuv8FTboi7brDVZloE+OQ+LsomJss5+QNdGH4x0qC/nXp5KpaAoCqxWqxDu5YCxrm8rUKRpaYx913WAyWRCuVzu9zJaxoiRpuVcthOJBK644orlP8ggoslo13cxRFknUYsoh6WR11nvXp5IJHDmzBl4PB7uXs482ozmXs4w8vVdCioEX5qBFU0iHY5ajLDuVl22m37AtKKpj/T7+hIE0Rqqqi7qXs4KzI3mXi6qaNKrEJzGqPQQ6p7r7br1cNluCgOIJlE2MVHvX0IcRDrUO3EvZ3VRvXIvX2rNIkDpuaUxpGjSA1Fqg+rp9mHZyGXbarUiGAy27bLdNAYQTQBFmojuIuphKTrLuZcfOnQIkiTxSJTf7+/qwS5i8Tqgz/1LheACImr3nN61WFqX7WQyifn5ebjdbgSDQd1ctpvGAKKJIjgEUUUkcdfuWpdyLz9x4kRX3Mu1axbREVyP358iTQIi6jiSTg/1pVy2t27d2lWX7eU+V2WiqVLR/ec3iyiHhAjrFGGNxNKI8h2K5F6u95p7jR7nJo1R6QOdioeVkJ5TVRX5fJ6n2vrpst0UBog0AeKk50RZJ1GLKIelSPdXt65pM+7lJpOJR6JacS8X5T7oBtQ9JyCipmGWWncjl22Xy8ULtvvlsg00uUEYQDSJel8YlVavpaIoSCaTSKfTuqdDiNYQ6VA3gns5KzBfzr2812s2KiKmJpthYEWTqJEmbVqxGZdtIzyUTQsRg4gmERBlncvB7CsSiQTi8TgqlQp8Ph/sdjtPh7jdbgQCAUO0iRPGpJ8CpFX3co/HwwXDSr2XB/nFdGBFk4gRhUKhgEQigVgshmg0CkmSlnfZNgAiiSZAnAdalHVq0Qr9eDwOWZYRCAQQCoWwevVq2O12qKqKUqnE75v5+XkkEgkcPXqUR0+ZiKr3BBMBUSIMoqwTMNZal3Mvz2azsFqtKBaLiMViQriXazHKdTYq4nyTLWL07jlVVZHNZnkUibls22w2uFwu7Nixo6eeIp3QqmiSFAX9kgOibAiirLNSqSAajSIejyORSEBVVS6S1qxZs2xNndb5edWqVTV1etPT08jlcnA4HFxEGfmZJlYm9e7lQNX7bvfu3dy9HAB8Pp9h3cu1iPiy1ksGVjQZrXuuWZdtFmUSRTABYkWaRIpAGnGd5XKZR5FisRhyuRzC4TBCoRDWr1/fcfGnJElwuVxwuVyYmJjghbmJRAInTpxAPB6HzWZDsVjsuLtppWOk6M1yiLRWALDb7bBardi0aRMA47uX6wnbtwbl96lnoEVTP99Kmcs2E0rNumyLdKgzRBJNgDHFiFEplUpcJCWTSUiShGAwiHA4jPn5eWzZsgVut7trP19bmDs+Po5jx47BZDLBYrHg1KlTNeasgUAAPp+v7yJKlANelHUCYq2Vod1njO5erl2zXhM5BhXDiqZOxUMvxYfWZZt1BrEHYGhoCBs3bmw6p02iqbuI8jD3a51M7DORxDb7Rm7xJ0+e7MsabTYbRkZGeHcTW/Pp06dx8OBBWCwWns7r1+FD6IuoRpGLsZR7+ezsbM/dyxl6iSbRzrBWMKxo6pRuRpqWctmenJzsKGXQ7whZO4gkmgBxHuherJOlvuLxOFKpFCwWC4LBIEZGRrBlyxYhBIfdbsfo6ChGR0cBLBi8ssOHeZexw0eE36kXiBS9EWmtjFbX20/3coaiKAMlTrvBwIomPSM2vXTZpkhTdxHx+uoJK7JmIslmsyEUCmFsbAzbtm0biA3TZrNheHgYw8PDAKrPbyqVwtzcHA4fPsy7Utnho3dnk4gHvNER8ZntdM29dC/XrrnTe3fQ7/+BFU3tRmz67bIt4qEummgSAT3uA3Yvs862dDoNu92OUCikmxmqCPeqzWZDJBJBJBIBsGBWqO1s0oqoQXUyrke0w02ktXaDRu7l+XweqVSKu5ebzWbeodfOvaxHpGmQR6gAAyyamj10jOayPciiSWXXkdJzXYH5xTCRlMlk4HA4EAqFOk4bN0LUQ6zerJClQRKJBI4dO8abNpiQWikiysiIJvCA7j8f2k7TTt3LGXpc51KpNNDPzECLpkYs5rIdCAQM4bItak1TUxgk0jQoook1IMTjccTjcWSzWbhcLoRCIaxduxZer1e4g6Yf1KdBZFnmIur48eOQZblGRC33Fi3KAS/KOgGx1sroxz5T/0IgyzIymQxSqRR3L2dWB/Xu5WzNJJqWZmBFE4MVuiYSCaRSqZp6BiO6bIt6qFN6Tl8Wm2WVzWa5SMrlcnC73QiFQtiwYYOQ7tmt0otnw2w2IxQKIRQKAVjw2GFeUaymke0jRttDmkUkISLSWgHjRLO1TRDA4u7l7KXAYrF0HI0ulUqUnusH7TwgjVy233jjDaG6gUQUTU0biRpANAHG2dCWQ1EUpNNpLpLm5+fh8XgQCoUMERXtF73+nes9dtj3kkgkcOrUKZTLZXi9Xu4VReiPaKIJMOYL2mLu5alUCrFYDPF4HKVSCQcOHGjbvZxEk4FZzmU7m81i586d/V5mS4gomoAWI019TD8a+fqy+rp4PM4jGqFQCMFgEFu2bOlKizHROiaTqebtXVsXuW/fPqRSKRw6dAhDQ0NN1ZH0C5GEiEhrBcRar91u592mmUwG09PTiEQibbuXVyoVEk1GYSmX7fHxcTidzpp/X5SbVouRD/XFaHn2nCz3dfacUa6v1u8rHo+jWCxyK4vR0VE4HA6sXr2638sklqF+gOurr76K0dFR5PN5HDhwAMVikfu4BQIBXS1KOkGkg100FEUR8toqisK92rTu5czqgLmX2+12fs/XG8hSTVOf0KbamMs2G5fQqsu2SIhaCE7pueVRFIVHRePxOG9CCIVC2L59e43oP3bsmJCbLlF9HrxeLyKRCCYnJ/lelkwmcejQIV6My0QURRCXRzSBJ6qDeaPrzO5nr9db416uNZCVJAnpdBozMzMYHx+nSFM/OHbsGObm5nRx2RYJI0VCmkUk0dTL68vSx8wCoFKpwO/3c5+kpWoFRDogiFrqDx7tocP8ddjcMWZSyGxOejm8VSQhItJaAfHWy2jWp8nhcNS48FcqFbz22mt46KGH8M1vfhOnTp3Chz/8YVx99dW45pprsHnz5o6uhyRJZgCvADipquodbX+QDhhWNK1du3ZFpiZINIkLs7NgIkmWZQQCAe6T1GqXlWj3AdEc9XPHWEdTMpnE0aNHkcvl4HQ6uYhaCV2RyyGaCBFtvYx2122xWHDJJZfgkksuwfPPP497770XH/3oR/Hcc8/h85//PDKZDB599NFOlvafAewF4OvkQ/TAsKJppUKiqbvoeX0rlQpPtSUSCaiqykXS2rVrBzpEDVA0TC+0HU0TExPc6TmZTGJ6eprXkGhFlB5Rd5EOdpHWCoi3XoZePk0OhwOXXXYZLrvsMnzyk5/s6PMkSVoF4B0A/hjA73b0YTpgWNGk1w0n2s0r0loZoommdimXyzUiiXl+hUIhrF+/XtfiR1HEswhr7DWd7jlap+fx8XGoqsprSJi3js1m46OdVkLpgmj7uGjrZegxRqULlgN/AeAzALx6fmi7GFY06QErqja6N5PoiCSagOYP+lKpxEVSMpnkrebhcHhgGxEI4yFJEpxOJ5xOJx+XwUTUqVOnkMlkYLVauYjy+XxNHXwiHewirRUQb70MvSJNeokmSZLuADCrqupuSZKu1+VDO2Sgd31R3tZFp9mHzAiz55a6J5ilBRNJzBk6Eolg06ZNJJIIw1BfiFssFpFMJnHmzBkcPHiwZsh4fUs4g/bG7iGqaDLgwN6rAbxLkqTbATgA+CRJ+q6qqh/Q6we0ykCfAiK274uIJEnNXWcDRJq0G1mhUOCptlQqBYvFglAoZAj3+Kav6QpDhIO+Hwem3W7HyMgIRkZGAFTf9pPJJKLRKA4dOgSz2cw97fx+P7+3RTnYRRMhoq2Xoce69RRNqqp+DsDnAOBspOm/9FMwAQMumijS1BtEGdibz+e5SDp9+jRsNhtCoRDGx8exbdu2ga8LIVYONpuNuzwD1YMsmUwiFovh8OHDkCQJxWIR8Xgcfr/f8FFU0USIqOaWNLB3eYz9pHQIRZp6Q8s1TT34TlgHEpvblslkYLfbYbPZ4PV6sX37dhJJgiLiYdRvrFYrIpEIIpEIgKqIeuWVV5BIJHDkyBEAqIlEGe3QE000iWpuyRzBO0Hn9BxHVdWnADzVyWdIkuQDcBGADIDy2b8qZ/8uA8ipqppc6jMMK5r0eEAo0tQ7+l0IzrxumEjKZrNwOBwIhUJYs2YN7zCanZ1FKpUy/IZG9664iHDAW61WWCwWbNy4EUDVPiOVSiGZTOLYsWNQVZWP9AkEAn0XUSJcUy2irZehV6TJ5XLptCLd2QLg/wI4CWAcwAiAAwCsAIIAHgWwZPrPsKJJDyjS1BvamT3XKcxVWSuS2GiKdevWwev1Nnz4SYwQxLlYLBaEw2GEw2EAVTd7JqKOHz8OWZZrRFSvPchEe2ZFFU16pBXL5XLLRr69QlXVlwFMAIAkSdcA+A1VVX+llc8YaNFEB2Rv6IXlAJvfxURSLpeDx+NBMBjEhg0bmnZNFuWeEHHDJQYH1jkaCoUAVEVUOp1GMpnEyZMnUalU4PV6eYdeLw5Jo0eHtYgqmvRIK5bL5b5HJpdCkiRJrR4CYQDS2T8zq6ra1ME00KKJIk29oRuiSVVVpNNpbgEwPz8Pr9eLYDCITZs29Ww+Vz8RQdwR5yLqgbkUZrMZweDC5HtFUbiIevPNN1Eul2tE1FJzFdtBtGdB1HvAaD5NeiNJkgXVUSzxs39nN5ZFkiRFbeJGG3jRJNrDJiJ6iCa2CTORVCgU4PV6EQqFsGXLFt0mwYsSaSIII8OMXgOBANauXQtFUZDJZJBMJrF//34Ui0V4PJ4aEdXJ8yuaCBFtvQy9fJoMHGk6H8CHJUmaBnAZgNWSJP0OADcAuyRJL6qq+vBSHzDQoklkrxuRHrp2fJoURUEqleIWAMViET6fD6FQCNu2betaIaEookmE716ENRK9wWQywe/3w+/3Y82aNVAUBdlsFslkEgcPHkShUIDb7eYiyul0tnT/iLQfAuKtl6FXpMmoNU0A8gCOAygA2IVqes6GavecB8Cy5nwDL5pEOCDrYesW5aFr5jorioJkKoUxACenp3H4hRe4SBofH4fT6ezNYgVChHtXhDX2GpGe3W5hMpng8/ng8/kwOTnJaxKTySSmpqYwPz9fI6KWiySLdk1FWy9DL3NLo0aaVFXdD+Cr2j+TJMkGQFJVtdjMZxhWNOlxw4la0ySa2Gu0XlmWkUwmeSSpUqnA7/NhDMDI0BBGr7rKMGs1IiJuuASxGJIkwev1wuv1YvXq1bz7NZlM4siRI8jlcnC5XFxE1dcsiiZC9Ehz9QMDjlHRFUmSbgCwFcA/q6qalSTpnQC+BmCVJEl/A+B/qKqaWeozDCua9ECUA7Ie0dYtSRJkWcbc3BwXSYqiwO/3IxQKYXJykodrVUmCRZLQr0EqIm28It0DBNEKkiTB4/HA4/Fg1apV3GeN+URls1k4nU4uokR7+RVN5DEGvRAcwFUAgmcF02YAHwHwt6qq/pkkSX8L4GOoi0TVM9CiSdRIkwjrrlQqvGh7dnYWsiyjXC4jFAph7dq1iz80ZnNfZ88BJEZERoTvTtQDs59IkgS32w23242JiQnu6M98onK5HF5//XXewefxeAwdyRH1HtDLp8nAoskEIH32f18BIAfgx2f/eRrAssVYJJoMiBEjTeVymYukRCIBSZL4Bub1epHP57Fhw4blP8hs7skYlcUw4rUlWkPEw4hoDUmS4HK54HK5MD4+jlwuh82bNyOVSuHkyZPIZDKw2Ww8EsUc/42CqKJJL58mA4umJICtkiS5AFyP6tiU187+fx5Ux6ssyUCLJlEPSCOsu1QqcYGUTCZhMpkQDAYRDoexcePGmvlEs7OzzYtTA0SaRMAI9wBBGAkmosbGxgAAhUIByWQSMzMz2L9/P6xWK7dB8Pl8MJuXbYTqGqLOnlsBA3v/HsAXAZwC8DKAzwGAJEkRAF4Ary73AQMtmijS1Dxs4jkTScwReHh4GJs3b9ZvA+qzaCIxQvQCEaMMouFwODA6OorR0VEA1T0smUxidnYWhw4dgtls5iLK7/f3VESJGmnSqxDcqJYDqqrmAHzq7F9akgA+g6oVwZIMtGgS9YDshSlnoVDgI0nS6TQsFgtCoRBGRkawZcuWljaYlq4ziaamEGHDFWGNxMrBbrdjZGQEIyMjAKoRj2Qyibm5OUxNTdUYcvr9/ppoud6IKpoGvRBckqQrAGxHNQ2noOrPVARQAeAAsBvAzFKfYVjRpJf7syxgKqgbppz5fL5GJNlsNoRCIUxMTOC8887r6O2iVdGkx8DelYAI4o4gjIrNZsPw8DCGh4cBVCMgzAblyJEjkCQJfr+fCyk9RZQeBdX9YAUUgp8P4J2oFoNLAKyoFn9PArgIwIcAfGepDzCsaNIDUceodBoNYZ0nTCRlMhk4HA4Eg0GsXr0aPp9P13w7RZpWLq1cS9ZWHovFkMlk4Pf7EQwGjVz/QAwQVqsVkUgEkUgEQLUDOJlMcpsDVVVrRFQn96XIkaZBLgRXVfXbAL7N/lmSpA2o2gxMAvg8gPuX+4yBF00roaaJGcWx7rZMJgOXy4VgMIg1a9Z0vbOERJP+iLjhNqJQKCAWi/EIp9PpRCgUQjAYRDqdxvHjx6GqKu+CCgQCfS3gJVYOFosFQ0NDGBoaAlAVUalUCslkEtPT09xrjomoVoTASi8EN6pokiTJhGrB93kAfgPVyNO3AfxXVVWbOpgGWjSJckDWs9y62UgCJpKy2SzcbjeCwSDWrVsHr9fb00O3petsMgGVSncXNCCIeO+yrst4PI5kMgmr1YpwOIzJyUku3lVVRalUqjmstGkTVnsSDAbh9/uFPHwI8bBYLAiHwwiHwwCqUw2YiDpx4gRkWYbP5+P35lLCQNRIk17pOQNHj28G8AcAIgD+DMBvoVrTZJUkSVJVddnDydCiqVPRI2qkqX7dqqoik8nw7rZcLgePx4NQKIQNGzbA4/H09QGlSNPKRZZlRKNRxGIxJBIJmEwmhEIhjI6OYuvWrU0Jnvo3flbAOzs7i4MHD8Jms3FPMPruiF7BOohDoRCA6r2eTqeRTCZx6tQplMvlGhGl7RgTVTQBnUe5FUUxcrT44wA2AXgSwC0A7kK1ILwCICJJ0n9SVXVJ2wFDi6ZOEfmAZMMtE4kE5ufn4fV6EQqFsGnTpnPmMvWblq6zxdJ30SQCRr13FUVBMplELBbD7OwskskkhoaGGvp3tUt9AW+hUEAikcCJEye4OMvn8w1nlBFEtzCbzVy8A9VngYmovXv3olQqwev1IhAIoFwur9j7UpIkI//uv4Vqes4KwIxqMbgZgArAB+DIch8w0KJJlEgTe/i0Pkm5XA5jY2PYunUrnE6nkW/Clg54tc+O4ICYaa9+oaoqUqkU4vE4YrEYyuUyAoEAQqEQwuEw1q5dC7/f39U1OBwOjI2NYWxsDFNTU3A4HACAo0eP8qgrO8ycTmdX1zIo0DPQOVoLA6C6j2cyGf6ym0wma2qijL6P64XB763rADyjquqJ+v9DkqT/DuA4FsasNGSgRZOR39bZQRSPx1EqleDz+RAKhbBt2zYcP34c4XCYpyuMDqXn9Kdfmyurl2PF2/Pz8/D7/QiHw9ixYwcXLAAwNzfXlzXa7XYMDQ3xGWW5XA7xeBwHDhxAsViE1+vlIsqoJnvE4GEymeD3++H3+1EoFDAyMgKTyYRkMolDhw4hn8/D4/FwEeVyuQwnooy2ni7wLgBXSpL0B6qqxtkfSpL0RVTTdf+63AcMtGgySqSJFRSySBLLhYdCoXMOIkCcg50hkmgSiV7cA8yeIhaLIRaLIZvNwuPxIBwOY8uWLYbf2CVJgsfjgcfjweTkJH/bTyQSePPNN1GpVLi1Qadt5IOEyDU3IsC653w+H3w+HyYnJ/kLSTKZxOHDhzE/Pw+3281FlBFSzZ3uOUY+t84Wer9PkqT7APw3SZL+CEAK1dEqowDuUlX11HKfM9CiqV/iQ5Zl3g0Uj8chyzIvFly9evWyb78i+kuJIppEE6TdgLnBx2IxpNNpOBwOhMNhQzQVdIr2bX/t2rX8hSWRSGB6eprsDYie0EiUSpIEr9cLr9eL1atX8yhpMpnkqWaXy8VFlMjPohHXraqqKkmSWVXVeyRJehDVsSlXADgK4JdUVV12WC9gcNEkSvdcpVJBIpHgfymKwjfmNWvWtOxZ0Q1H8G7SUks4iaam0HOdpVIJiUQCsViM2wCEQqGuGJ0ajfoOKK29weHDh2uKewf9WmihSFN3aaZ1XxslXbVqFTd/ZT5R2WwWTqeTi6heWMmsgHviFkmS3AD+AsA/AjgM4J8AbJMkyQ7gRVVVS0t9gKFFU6d064Asl8s1Iom9vYZCIaxdu7ZjYy9RDnYtNEbFODARzyKdzAagnbmCSyHiBruYvcHp06dx4MCBGnuDXvudEYNDO6JUkiS43W643W5er5fP57lPVDabhd1urxFReot80c6dNng3gNWozpx7DoAbwBcBlM7+79sBLFmsOdCiSa9IE3tTZ4Z9kiQhGAwiFAph/fr1utdJiCaaRKppEu3aNoPWBiAej0NRFH5/btiwoauDSUVnKXsDrbN+MBg0ZH1Xu4gUaRLxedXDEVySJLhcLrhcLoyPjwMAF1GnTp1CJpOBzWbjIqrTSKke11mA7+o7AN5kReCSJL0XwN0AsgD+p6qqy3a3DPRu2u4ByVyNWduoyWRCMBhEJBLBpk2bun4IiZaea9kRnETTsix1oKmqinQ6zYu3y+Uy73BrJx3cCSJcy1bQ2htoZziywt1BsTcQTTSJslZGt9bsdDrhdDoxNjYGACgWi0gkEjxSarVaa0RUK1FlPdZcqVSM3mzxLQB3AohLknQNqmm6/4xq9OlvJUn6JVVVs0t9wECLpmYjTcVikacyUqkULBYLgsEghoeHsXnz5p4Xi4pWCC5SpEkk2DVlBaNMJM3Pz8Pn8zW0ASD0Q/umz2pO2PgiZm/g8/m4iDLqvC2i9/RK6NntdoyOjmJ0dBRA9SxjbvqHDh2C2WzmIsrv9y95lg36sN6zFFAt/AaAXwbwfwDcp6qqLEnSL6NqdrkkAy2aFjvMWfcQE0msjoGZSfa7o0aUaAijZdFULnd3QUsgyrUtFovIZrN49dVXkclk+Ngco9oArAS03U9ae4N4PI6TJ09ClmX4/X5UKhVUKhVDp0VFit6ItFZGv9Zst9sxMjKCkZERAAs1e3Nzc5iamqox5PT7/TX3qF7Deo1836M6Z26LJElHUPVl+ohmUK8N1VqnJTH0b9cpLNI0Pz/Pa5LS6TRsNhtCoRAmJiZw3nnnGa5jZqDTc2YzUCx2d0FLYFTRVCwWeU1SKpXiwr0fA5iJ5tDaG6xbt47bG8zOzuLVV1+Fqqo8CrXcW34/EOWeItHUPvU1e+VyuWY4NgBdzTZLpZLRI01/DeAbADIApgE8AwCSJK0DEIfooqmdL1Bbh8B8aPbu3cs9kkRoKzbqwb4YlJ5rnXK5zO/RZDLJJ6wzIZ9Op3Hy5En4fL5+L5VoEmZvYLfbcemll3J7A/aWbyR7A5H2F6MIkFYw6pqtVisikQgikQiABQuOZDKJI0eOIJ/P4+DBg1xItVqfZHTRpKrqdyVJegrAuKqqL2n+LwnAb2miTotiaNHUDNoxColEgne8sPb/bDaLSy+9tN/LbIlBrmlS+2w50E/DU+aVlEgkAGBJGwAjbrhEazSyN9AW7drtdi6i+mFkKMo9ZlQBshSirFl7j+bzeRw4cAChUIh7RSmKUjM/bzlBJEBNE87OnTtR92eHm/3vhRNNrBiTiaRsNgu3241gMNgwlSHCjVvPwKfnVkCkic0XZMXbsiwjGAwiHA43bVMhknDuFd2+JtLp0zA/9RQsTz4JZWICpf/xP3T7bJvNVlNvks/nuVN5Npvtqb2BSPeWKAJEi6hrNpvNCIfDCIfDABZGgDGvKFmW4fP5uIiqn25RLpeN3j3XMYYXTaqq8mLLRCLBp5ozDxqRreYXg9Jz3aNb9wqzAWApt2KxyA1PmxmdIyL9eu50/bm5HMzPPQfLk0/C/OSTML/5JgBACYWgvu99+v2cBrD28fHxce4GnUgkuL2BdvCw3h2SIh7qIiHi9W205npHfVmWkU6nuVcUm6MKVF8KSqUSiaZ+Mj09jaNHj3KRtGnTJkMMNew2oommlhiQSJPWBiAejyOXy/EhzNu3b+/Yw2fQ7/G+Icsw/fznCyLpxRchlUpQ7XbIV16J4nvfi8oNN0C54IKqp1iP0LpB19sb7Nu3D6VSacXaG4goQADxnuFmRr9o6/LYf5PJZPDcc8/hz//8zxGNRuFwOPCd73wHb33rW7F27doerLy3GFo0TUxMYHx8XLibr1NEE00tfT8Ci6Z8Ps/TbZlMBm63G+FwuGtiXoR7QIQ1SkeOcJFkefppSMkkAEDesQPlj30MlRtugHzllYDL1d+Famhkb5BOp5FIJLi9gXbwcKtt3iIJEZHWKjLt+DSxDtLbb78dt99+O5599ln87d/+LWZnZ/GJT3wCx48fx7XXXou//uu/bnk9kiStRnUu3CgABcDfqqr6ly1/kM4YWjSZzWbIgh6wndCrQcN9oc+O4K3ATE9jsRhSqRTsdjvC4TDZABidRAKWZ56piqQnnoDp6FEAgDIxgcodd1RF0vXXQz3bQSQCWn8drb1BPB7H0aNHIUkSF1HN2BuIJEREWitDhJeJevS4zoqiYGJiAp/+9Kfx6U9/GrIs4+jZ568NKgB+T1XVn0mS5AWwW5Kkn6iq+mZHi+wQQ4sm0R4UvRAt0tQSBh7YywYxsw43i8XSNz+vgb4H9KZUgvnFF6si6cknYdqzB5KiQPV4IF97LUof/zjkG2+EsmkTMCB7Sn2tCfPfYfYGbKoBGzxsdJuVpRBRNImIoii6O4KbzWZs2LChrc9SVXUGwMzZ/52RJGkvgAkAJJqIWgb6wDRQeo7ZADB3eAB8xmA/xucQTaKqML35JsxPPFFNuz33HKT5eahmM5RLL0Xp05+GfOONkHfuBAa8KJVR77/DZpKxwa719gYiCRGR1soQbb2Afo7g3ai3kyRpLYCLAbyo+4e3CIkmAzLwoqlPqUdmA1AsFvHSSy+hUqlwG4B169YNfNeHyEinT8P85JNY84MfwPfyy7DMzgIAlI0bUf7lX4Z8442oXHMN4Pf3eaXGoH4mWb29gd1uR6VSwfz8PJxOp6EPeRH3QhHX3Ewh+HJ0w6dJkiQPgPsAfFJV1bSuH94GK0I0ifamMvCiqUeRJmZXwTrcCoUC/H4/TCYTLrzwQkPbAIh0v3aFXA7mZ5+tRpKeeopbAVgCARSvuQaV225D5YYboK5e3d91CkK9vUE0GsX09DQOHTqEQqEAj8fTNXsDPVjxz0MP0GNgr96RJkmSrKgKpn9RVfV7un1wBwy8aGICRKSHbqALwbsomrTu8LFYDLlcDl6vF+FwGNu2bYPrbHfUrl27DC2YGAMrnBshyzDt2VNrBVAuV60ArroKxfe9D5UbbsABpxOhoSFey0O0jiRJcDqdcLvd2LZtG3+50Nob+P1+3pnXb3sD0fZvQEyRp8d11tPcUqou5u8A7FVV9c91+VAdWDGiSSREXHPT6Cya6ucMut3uFeXpJTLS4cM8klRjBXDBBSh//OMLVgBaz6tDh/qy1kFDe0BKkgSfzwefz4c1a9bwNHYikcCJEyf4KI127Q30XKsoiLh/d6MQvEOuBvBBAK9LkvTzs3/2+6qqPqTXD2iHgRdNLGojUlHvIIsmtUPRVCqVeLotmUxyG4A1a9bA5/MJt7kuxkDeA/E4TE89Benxx2F77DGYjh0DILYVgMgs9qyYTKYaA0NZlpFMJpFIJLi9gXbwcLf3VhFFk4gYrRBcVdVnUR2kaygMLZr0eFBEPHxEXHPTtCiaKpUKjyQlk0mYTCaEw2GMj49j27ZtQrdSDzzFIqQXXoDp8cdheuIJSLt3Q1JVqF4vKtdei9InPoHKjTdC3bixaSuAgX0uekwr17F+HhmzN4hGozh06FDX7Q1EFE2irRfQpxC8VCrB6/XqtCJjYmjRpAci1geZTKbBPRyWEU3srZZFk1RVRSgUQiQSwaZNm3qeGugXImy656xRVSH94hcwPf44pCeegOmnP+VWAOpll0H+/d+HctNNUHbuRKmDg1CEa2N0OhEiy9kbOBwOLqL0SJGLJppE3bv1KASvVCoD34U88CeQiKJJkiTh1tw0daKJjYdg40kqlQoCgQDZAECMzdd0+jRMP/pRNZr05JOQTp8GACibN0P51V+FcuONUK67rtYKQFWBUqlPKyb0RmtvoKoqCoUCdyrP5XJwu91cRBnd3kAPRBN5DKOl54zKwIsmEVNdIq65ac6OUTl69ChisRi3AQiFQoa3ASAAZLMwPfsspMcfx5aHHoJzagoAoA4NQbnhhmok6cYbgcnJPi+UWIpuHeysM29iYgITExO8ozWRSNTYG4RCIQSDwaaed9FEiGjrZejl0zToL7okmgyIiGteDFVVMT8/z9Ntw6dOYZ0sw2Kx1NgAELUYZtOVZUi7d1cjSY8/DkljBZC/6CKk3/c+ON75TqgXXFAVxIQQ9OpglyQJHo8HHo8Hq1evhqIoyGaziMfjePPNN1GpVODz+XgkqtGBK5oIEW29DL18mgb9xXfgRZOo6TkRRRPbLAqFAk+3pdNpuFwuhMNhbNiwAf61awEAq8bH6ZBdhr7dA1NTMD3xRFUoPfUUtwJQLroI8u/8DpQbb4R61VWYOnoUIyMjsJNnEtEkJpOJ2xusXbu2xt7g+PHjUFW1ZvCwxWIRToSItl6GXoXglJ4THBEFiGhCr1QqoVwu480330QqlYLVal3UBkBi7cmyTKLJKMTjMD355EKX29mp5OqqVVDuvLOacrvhBoCsAJZFlL3GKAd7vb1BpVJBKpVCPB7HkSNHIEkSbDYbLBaLLj5CvcAo17ZVqBC8OQwtmvS48UQTIIDxhV6lUkEikUAsFkMikeDXeGRkZHkbAK1oGvCHqxO6eg8Ui5Cef35BJP3sZ9wKQHnrW6H85/8M9aaboG7a1LQVAEHogcViOcfe4OjRo0ilUnjllVdgtVoRDAYRCoXg9XoNKU70EB/9gArBm8PQokkPROxEM9pGwGwA4vE44vE4FEVBKBRCOBzGxo0bYbFY8MILLyAYDC6/WWhFE9EbNFYApscfh/TsswtWAJdfDvnzn4dy001QL7sMWCGWDisdUaIhVqsVXq8Xdrsdk5OTKBaLiMfjOHHiBDKZDJxOp672BnqgR5qrHxh1YK/RGPgdcqA9j7qE1gYgHo+jXC4jEAggFAphzZo1DR+KpiMjJJp6w6lTXCSZnnwS0pkzADRWADfdVLUC8Pn6vNDBQhQxIip2ux1jY2MYGxuDqqrI5/PcqZzZG7DOPKd2/E4PEfUeMOLAXiOyIkSTaJGmXqOqKrLZLC/eLhQK8Pl8CIfD2LFjR1NTz0k06UvL6blstmomyYTS3r0AADUSqbUCWL26SytuHlVVIZ/toCT6g0gH+2JrlSQJLpcLLpfrHHuDAwcOoFgswuv18khUr7q6RLq2WshyoDkGftcyen1QP2BvaEwkZbNZeDwehMNhbNu2rS0Dumavs2oQ0STqxsapVBasAJ54YsEKwOGAevXVqHzwg9WU244dXS24b/bZKpfLiMVimJubQzKZhCRJkCSJRwX8fr+QdSCiItL93+xaG9kbZDIZJBIJbm+gHTzcrcNdpGurRY9IU7lcJssB0RGxpqkbMJdeZgPgdDoRCoWwYcMGeDyejh9ykSJNbK1G3tgajSjB4cMLKbennoKUSgEAlIsvXrACuPpqoInIYLdhreRzc3OIxWIAgHA4jImJCWzbtg2VSgWVSgXJZBKzs7M4ePAgHA4HQqEQQqHQosLd6C9ARr+vRKTda2oymeD3++H3+7F27VrIsox0Oo14PI7p6ekae4NAIKDb4GFR7wEqBG8OQ4smvbrnjL7RdoNSqcQLt5PJJKxWK0KhEFavXg2fz6f7W33Toon9XErPLYs5mYTpvvsWCriPHQMAqKtXQ7n77gUrgKGhvqxP+3xqTUzn5uaQz+fh9/sxNDSEtWvX1rzVs/ukfobZ/Pw8EokEpqamkM/n4fP5eCRK+9+LeCAZDZEOdr260cxm8zn2BqzB5fDhwzCbzbx2s5M9UqRrq4UKwZvD0KJJD1ZKpKmRDUAoFMLIyAi2bNmi21vUYogYaTIcxSKkXbtgevxxuB5/HG/5+c+rVgA+X9UK4FOfqloBbNxoCCsAWZYRj8cxMzODVCoFp9OJoaEhbNmyBS6Xq+UNWFufwlIrsViMmx6GQiEUi0VjfndE1+jW922xWDA0NIShsy8dpVIJyWQSZ86cwYEDB2Cz2bjIasXeQFTRpFchONU0Cc6gRpoURUEymeQdboqiIBgM1tgA9BISTW2gqpDeeKPWCiCfh2qxQLnsMkx/6EMY++AHDWMFUJ9yy+fzCIfDWL16Nc477zxdo5fa1ApQfYNNJpOIRqPYt28f75JaKpXXD0Q5MEVZJ6MXa7XZbBgeHsbw8DCAaklDIpGosTdgkc+lXgpEtRzQ456gmqYBwGQyQR6AVJCqqtwGIBaLoVwuw+/3c+ftfodEm37YDCCa+srJkwsjSrRWAFu2QP7Qh6DedBOUa69F2enE9J49GL388r4tdbmU29TUFCKRCE93dBOWykskEhgeHobNZkM8HudDYBdL5RGNEUk09WutDoejob3B4cOHMT8/D4/HwyNRWnsDUc0t9XBcp/ScAeg0KmCYqEKLqKrK0xPxeBzz8/Mt2wD0mqbSoGdFkyTL6Ne30tN7IpOptQLYtw9AnRXATTcBq1bVrrFS6c366mBdbrFYDMlkEk6nE+FwuO2UW7dgqbxVq1adk8oDwF2ju1G/R/QWIwi8RvYG2Wy2ob0B+/dFQ4/rXKlUul4K0m8ML5o6RSSfJvZWH4/HkcvlMDU1hVAoZLgDqxEiRZq6Kpq0VgCPP161AqhUqlYA11yDylljSfX885e1AuiFsFusy218fHz5kTgGoVEqL5FI4PTp0zhw4EBTXXl6YYQDvhlEWSdgzLVKkgSv1wuv14vJyUku3OPxOGZnZ1EulyHLctftDfREr7SiCHtGJwy8aDJypKneBsDhcCAcDmP9+vXIZrO48MILDbdZLEbT15nV5gxKek5VIU1NLUSSnn4aUioFVZKgXnQR5E9+smoFcNVVhrACWCrlZoQ0rx5Yrdaa2pT5+XlK5QmMEUVTPVrh7vF4kE6nEQwGkUgkauwNQqEQ/H6/IaMxoqYVe83AiyYjRZrK5TIXSclkkg+nbGQDINrNu6IKwWMxmJ58ciGaND0NAFAnJ6G8+91Qbryxr1YA9YiScusW9ak85tWzklN5IggRhkhrBarrNZvNPLoJLNgbxGIxTE1N1dgfGOW+E+0694uBF039jDQxGwDml8QckJuxAWBWCS2/kSQS1XliPX6TEU00tYTGCsD0xBOQ9uxZsAK4/noov/d7VSuADRt0swLo5L7Vptzi8ThUVRUu5dYtTCYTAoEAAoEAAP1TeXTw6I9RMwWL0egeaGRvoL3vbDYbj37qYTbcD0T7ntpl4EVTLyNNzAaARZMURUEgEEA4HMaGDRtasgFo99C0fOpTMD32GJRbboHy9rdDuflm4OwB0U1EEk3AMg+4otRaATz3HLcCUC+/HPJ/+2/VuqSdOw1hBQBUU1Bzc3M9Tbn1a2PX8+dqU3msQ2olpPJES8WIJCKaEc42mw0jIyMYGRkBAOTzeSSTSUxPTyObzcLlcvFIlGjRYJHW2g7G2PG7SDcjTcwGgImkYrHIRdLk5GRHh1W761buuQcAYHr0UZj/9V+hms1Qr7yyKqDe/nao27Z1xRhRpNlzDdd68uTCiJInn4Q0OwsAULZuhfzhD3MrAHi9PVvjUhgl5dbrt8tu/jxth9Sgp/JEioiJtFagvfU6nU44nU5ub8Dc8evtDUKhkCE7p1cShhdNnYoePSNNbIq2tsON2QBs3769xqujU9oWTe98J5R3vhOQZUgvvQTTww/D9MgjsHz+88DnP1+tuzkroJS3vhXQac0ijVGRJKlqBfDEE9UC7ieeWLACGB5esAK48cZzrAB6ifZ6LpZyGxsbW/Ept27RTipPtANeBES7pp12oUmSBLfbDbfbjVWrVtXYG+zfvx/FYhE+n49HovSKJIt0jfuJ4UVTp3QquljnTSwWQyaTgdvtRjgcxubNm7v6Rt+x2DsbYZKvvBLyH/4hcOIETI88Uv3rn/8Z5r/5G6hOZ7Um5+1vh3LbbcDkZNs/zvDpuUoF0iuvwPT44zjvBz+A9xe/qFoBOJ1VK4Bf+7Vql1sTVgC9QpZlTE9PD1SXm6qqUFUVsixDkiRIkiSM4Gsmlef1eg3TeLIUIgkRkdYK6L/eRvYG6XQaiUQCJ0+ehCzL8Pv9CIVCCAQCbU+DWCk1SZ0y8KKpVfFRLBa5SEqlUvxtct26dS3NH+oU3dOKq1ZB+chHoHzkI0ChAOmnP4Xp4YdhPvsXACjbt3MBpV5xRUv1OoYTTUtYAZi2bEHht34L5ttug3rllYawAgAWuivn5uaQTCZRKBSgqqrQXW7snmDPIPu7diZkpVKByWTif4nAYqm8aDSKTCaD3bt3D0wqr9+IKJq6aSmgjYCuW7cOsiwjlUohkUjg6NGjkCQJgUAAwWCwp/YGsiwb0kpBbwZeNC13mLODKh6PI5FIcBuAiYkJ3edptUJXu/4cDqg33wz55pshf+1rkA4cqKbxHn4Y5r/4C1j+7M+gBoNQ3va2qoi65ZZl2+cNIZrm5mqtAM7WoXArgJtugnL99fjFiRPYtGkT3G63/mtogcWMJcfGxrB161a8+OKLWLNmTV/X2A5aocQiSwwWXWKRMkVRIMsy/7ssy/zQESkKxQ4yp9OJfD6Pbdu29c1gsxlEEyIirbXX17be3oDNaZybm6uxNwiFQvB6vV17pkqlkrAR8FYYeNFUH2mSZRmJRAKxWAyJRAIAEAqFEIlEsHnzZsMo5Z5ZJUgS1C1bIG/ZAvmTnwTS6aroePjhajH5f/xH1ajxLW+Bcttt1WLyCy44p5i8ZdGkRwqjUKhaAZyd5Sb9/OdVKwC/v5p2/PSnqyNK1q+vWa908mTfQtGsyy0Wi2F+fn7RlJtIofJmRNJih4g2usT+eyaiAPA0nihRKPa7G70rTyTRJEK6U0u/ry2b0xiJRAAs2BucOnUKmUwGdrud10PpaW9QLpcHqsN0MQZeNKmqimKxiEOHDiEej6NSqSAYDHLnbaN+ySaTqT8Hp88H5e67odx9d7X1fs+ehWLyL3wB+MIXoE5MQLn11moU6oYbAI+n+c/vZPacokB6/fUFkfTss5AKhaoVwFveAvm///eqFcClly6ZWuzlhlafcnM4HBgaGlq2Js7oBxoTR6wZgq13OZG0FEwUsReX+ihUqVRCoVCAoii6DBftFSupK69bGP150NJv0VRPI3sD5lSutTdgz3S7ay+VSoY9T/XE8KKpHXM5NrwzFouhUCigXC7D7XZj9erVsNvtXVqpvhhi/IvJBPXSSyFfeink//bfgDNnYHr00Wox+b33wvz3fw/VZoN67bUYuuwyKG9/O3B2dMWitJqeO3FiwQrgqacWrAC2bYP867/ethVAt64tS7mx+29QutwaRZNGRkYwPT2N48ePw+PxIBwOIxwO6/aMSZKEQqHAR75UKhUEAgG4XC6eygOqYssoqbxmDp1uG2zqtU6jINJaAeOvl9kbjI+P14xVKhaLeOmll/jg4WAw2JK9AaXnBIG97bLibfbmGwqFsH37dpjNZrz66qsYGxvr91JbQlsoaxhGRqD8yq9A+ZVfAUqlamrskUdgevhhjD7+OPAnfwJl06aFYvJrrgHqH6LlRFMmA9MzzywUcO/fDwBQR0aq40mYFcDERNu/ht6CdLGUW6deXf1ksQJuYCGa5PP5cP755/OW6Lm5Obz++utQFIVHcwOBQEtiRhuZS6fTcLvdGBoawvnnn1+zgbNoE/sLELOgHDB+Kq/fGF2E1CPSepm9gd1uRzQaxSWXXIJMJoNEIoF9+/ahVCrx+y8QCCy5n5FoMjD5fJ57JbGNNRQK8eJe7Q1bqVSMJz6awBCRpqWw2aBefz3k66+H/Cd/guNPP43grl0I7toF8//5P7D81V9B9XqrIue226qWBqOj54qmSgXSyy8vFG+//HKtFcCHPlRNuZ1/vq4jSjqh3ZSb0WmmNqkR2pbodevWoVKpIB6P48yZM9i/fz833hwaGjrHy4wZxDL/KaBaY8gaMZqphWJrHoSC8l6l8kQ62EVaKyDeeoEFh3j2MuTz+bBmzZoae4MTJ05AlmXemVdvb0A1TQai3gbAbrcjHA5jzZo1NfUUjTC8+FgE0dZdmZxEetMmeD73OSCXq3axna2FMt9/PwBAueQSKJdeCgCQHn4Ylv/7f6tWAOl0tdj8kksgf+pTVZF05ZVAF1OprVzbRim3UCg0kCk3Rie1SRaLpSZywsL/+/bt48Z8ZrMZhUIB8/Pz3CB29erVbb+pGqWgXO8Ds1upPJEOdpH2QUCsa8tYbM2N7A2SyWSNvQE7n8fGxijSZASOHDmCmZmZtm0Aejl7Tk8MmZ5bghqR53ZDueMOKHfcUfVLeuYZmL/1LZiefhrmn/0MAGD553+G6nZDvfxyVN7/fii33w6Ew71f6yIMYsoNWCjgVlW1YcpN781ekiQ4nU54PB4Ui0UUi0Wk02mYzWaUy2XY7XZ4PB54PB7d3lKXKyg3Yi1Us6zUVJ5IIqRTR/B+0Gxjhdls5rWLQFXE79mzB/fffz9+9rOfoVAo4Etf+hJuuukmXHrppW0bbRoZw/9G69atw2SHTtUi0rfuuTapESKFAqTnnuNdbqaf/xwAqlYA110H8zPPQLngAkjT09U5bz/9KdSrrlqYj7dlS1fm42nXWs9iKbdGKV+RaDfl1in5fJ6Lznw+j0AggKGhIaxbt65mI2WF3lNTU1ychsNhhEIhXUVUfRRKWw8lqojqJJUnUjREpLUC4g1DBtq/xlarFZdffjkuv/xyvPTSS/j7v/97rF27Ft/61rfwm7/5m7jwwgvxne98p601SZJ0G4C/BGAG8G1VVf+krQ/SGcOLppWKUOk5RYF97164d+2CdfduSM89V7UCsFqhvuUtqPzBH1RTbpdcAhw/DvO2bZA/8Qko738/pBdfXLA0+NzngM99DuratVDe/nbIb3871Ouu64pjt6Io3K+LUm6dI8syT6Enk0meQmd1XovhcDgwMTGBiYkJfujPzc3h2LFjkCSJ10Lp5cbfKAqlZ0F5Pw/4VlJ5IiGiaBJpvYA+0TE2sP79738/3v/+9wMAotFoW5919kXmGwBuBnACwMuSJP1AVdU3O1qkDhheNIl28+mF4UXT8eM1VgBrzj4cyrZtkD/ykQUrgHoPJ20huMUC9eqrIV99NeQvfhGYnq5aGjz8MEz/+I8wf/ObUF2u6gDds8aanQzQZSm3ubk5RKNRfiAPUsqtV9Ek7fBqZgcQDAa5SWw7orP+0C+VSojFYpienkYmk4HH48HQ0BDC4bBu39dyBeWVSgUAhCsoB5ZO5aVSKeRyOf69GTmVJ5oIEW29gD7RsUqlcs59xAw2W+Wll14CgEOqqh4GAEmS/g3AnQBINBGNMZxoSqdheuaZaofb44/DdOAAgLNWAG97G+YuuQS5t7wFE5dfvvTnLGU5MDkJ5aMfhfLRjwL5fPXnsfEuP/oRAEDZsWPBmfwtb1n4vAYslnILBAKYmJjgeXnR6Fc0iV1P1pDBhldv3769JT+XZrHZbBgbG8PY2FiN/9prr70GRVEQCoUQDofh9/t1EzNGKSjXm/pU3oEDB+B0OpHNZmtSeeFwuKujNtpBNBEi2noBfdasp+XAyZMnAeC45o9OAHiLLh/eISSaDErfa5rK5aoVAHPffumlqou30wn12mtR+fVfr6bctm8HJAm5kydRLpeX/9xmx6g4nVXX8VtvBb7+dUj79i0IqD//c1i++lWooRCUm2/m8/GUQKCpLrd9+/Z1eHF6T68LuNnPTKfT51zP8fFxbN26tacHq7YVWmtrMDMzg3379sHlcvEC1Xpbg3Zpp6BcpAPT6/Wek8qbmZnB/v37a1J5S6VXe4FI1xQQb71A84XgS6GnaFrk7DNEFIFEk0HpefecqkI6eHDBVPLppyFlMgtWAL/7u0taAbQ8e66Vgb2SBHXbNsjbtkH+3d8FkkmYHnsMpocfhvToo7D++79DNZmQ2rYN8vXXI/COd2Dy6qthW8SyQIQNjQkklh7qVQF3sVjkIimbzcLr9SIcDuPCCy80VApzMVuDvXv3olQqIRgM8qiiXvMkmykor1Qq/M+NFK1phPYeWq4rz+/3c4PDXqfyDBVxbwIRRZMea2bdsHqwqlqGsVr7RwBO6fLhHUKiyaD0JD0XjVb9lJix5IkTAFAtxP7//r+qMeVb39qUFUDTD5xm9lw7lMtlxItFzG3bhuTYGBwf+xhWnT6NoRdfhO+JJxD4xjeAb3wD6qpVPI2nXH894HbXfI7RNuJGKTev14sXXniBd56FQiHdB0ozD6q5uTkkEgmYTCaEw2GsXbtW12Ge3YS5GrvdbkxOTvKh3HNzczh48CBsNhuvhdLLfFQbhSoWi7xWbn5+HhMTE1xAGdWhfKn7f6muPFag3+tUngj3IWOliqZSqaSbxcBll10GAJskSVoH4CSA9wF4vy4f3iEkmgxKV0RTPr9gBfDEEwtWAIEAlOuvh/LZz1ZHlGzY0L31thhp0nZULdnl9s53ogwAMzML8/H+7d9g/va3odrtUN/6Vshnx7sYpV5suQLu7du3Q1EUJJNJzM3NYWpqiguAoaGhttMmzFGfeVAFAgGEw+Fz7ABExWw282sELPy+hw4dqvHcCoVCbf2+qqpyoRmPx7l3zcaNG7k9hdELyls5JLUF+uvXrz8nled0Orm1QTdSeaKJEBEtB/SIjFYqFd2i0Wefy08AeBRVy4G/V1X1F7p8eIeIv0MOKLqk5xQF0muvLUSSdu1asAK44ooFK4BLL12yoLpZ9BJNjYwlw+Fwc11uY2NQfu3XoPzar1Xn4z37LJ+PZ/3Up4BPfQqb1q9H+eabIb373VCvugroUbqhnQJuk8lU0ybO/I/279+PYrHYVBqKRV5isRgSiQQXXhs3bhR67EuzOJ1OrFq1ikdNWN3b0aNHeWSNRU0WuxalUolHk3K5HL8n165d21B4DWpBOdD7VJ5ooklEc0ujFYIDgKqqDwF4SLcP1AnDiya9bj7RHjyTycQLTVuizgpAYlYA550H+aMfrVoBXHPNuVYAHdJJpKlSqfDIRyKR0M9Y0maDeuONkG+8EfJXvgJMTcH88MOo3HcfPP/wD5D+5m+qhptve1s1lXfrrcDwcHs/axH0LuB2Op1YvXo1Vq9ezUcasDSU3W7naShVVbnw1Nb4bNy4UfcUn0iYTCY+wR1YGNF07NixmhquUCiEQqHAryETV+vWrWs5bWlEh3K99sOlUnnT09MAwEV/J6k8kfZu0c4aQB+hx4b7DjqGF016wA50kW7kpkVIOg3T008vWAEcPAgAUEdHq2LgppuqKbfxcWOs9+zBUcjlcOzQoZqU2+joaHe7sjZsgPyJT+DYbbfBZzJh9I03qh15jz4K8333VYved+5csDS46CKgDXNDoDcO3NqRBpVKBTMzM5iZmcHBgwd5t9n4+DhGRkaEi2b0Crvdzm0NisUiTp48iaNHj+LNN9+E2WxGMBjE+vXrEQqFumpr0GuH8m7th4sZbJ46dQqZTAZOp7NmVt4gItpZA+iTUtQ70mRUVoRoYvPnRDo4mhEh5i99CeY//uOqFYDLBeXaa1H56EerKbfzzuvqKJJ6llsv626aO3MGVwBIJxK8cLfXD5okSVDdbijveheUd72r2jn46qsLA4a/+EVY/uiPqsLz1lurxeQ33QR4ved8Vr88k7S+RbFYjPsWbdq0CX6/H6qqck+lo0ePwul08jqfbngqiQi7hiyaBID7Tnm9Xm5rMDs7i4MHD8LlcvFInl7XsNsO5f1msVTewYMHa1J5wWBwIOrpAHFFU6dr1rOmycgMxl26DCIO7W1GNCk7dwK/93tVkXTFFQ2tAHpF/XobpdzC4TA2bdkCABgOhyGPjfVrubXXVpKgXnQR5Isugvy5z1W7Cn/842ot1AMPwPyd71TrwK65pjre5bbboGzc2FMHbmDBITsWiyGTyfBU0gUXXNBws4pEIohEIrwlf25uDr/4xS9QqVS4MWQgEBDuIO6EcrnMr2E6nV7SUsFqtWJkZAQjIyM1DuhvvvkmSqVSzTXshq0BsJDKYzVRehWU9+Ngb5TKS6VSSCQSuqby+o2IokmPoEK5XCbRNCgYpVuqFZpZs3rLLZBvuaVHK1qefD6PQ2dTboqiIBwON0y5qSZTaz5NOrPstY1EoPzyL0P55V8GKhXg+edhPmusafnMZ2D5zGegbNiAyi23QLntNsjXXAOpS/PxWOdgPB7ndTWTk5MtzWLTtuSvWbMGlUoFiUQCZ86cwf79+3kEZWhoSDefFaOgqiqy2Swv4lZVFeFwGKtWrYLP52vpGno8Hng8HqxZs4YX10ejUV5PxlKlehbXD3JBeX192WKpPNFeeEUUTUYsBDcqK0Y0ifbgiRAd4ym3uTmk02mYzWaMjIwsn3Izm/sumpaDR5EkCcoVV6B8xRXA//yfME1Pw/zoo7A8+iis//APkL75TahuN+QbbqhGoG69FWoH9WPa4mNte/yaNWt0MxW0WCw1UahcLoe5uTm88cYbqFQqfCafz+cT7iAGaqOcbNzL0NCQrgadjWwNWEE+SzuxgnK90k56FpQb8WCvT+XNz88jkUigUCjgpZdeEiqVZ7RruxyKonQcLSXRNED0fSRJGxgxOrZoym3TJpRKJZw+fRpjzaTczOblx6h0mfpr23QB99q1kH/zNyH/5m8C8/MwPfMMzI88AvMjj8Dywx9WP+OCCyDfdltVRO3cuaSdg7YDjtkBhMNhbNiwobPOwSbRRlDWrl3L63hOnTqFvXv3csExNDRk2A1RK/xisRgXfr0c96LtamTeWrFYDEeOHIHFYkEoFMLQ0JCuhqFGKCjvFtro6MzMDC699FKkUqkag02jpvKMtm83gx6F4OVy2dCDn/XC8KJJr7ZYo0dt6jGCaNKa+GlTbiMjI+ccRslksvn1GiDSpLUBaLuA2+WqdtrddhvKqgrpzTerAurRR2H52tdg/cpXoA4NQX7b26oi6m1vgxoI1ETomB0AM0fstx1A/XgSltpiQ3K1Uah+vk0zcTc3N4dUKsVTjOeff37fU4z13lpsNM3Ro0eRzWbh8/l4FEovIdpqQbkRI01L0Wwqb5C78rqJXmNUjPpipSeGF016QJGm5tEe6PPz8/D5fBgaGlo25dbSevskmrTiKBqNwul08jf/jgu4JQnq9u2obN+Oyu/9HpBIwPzYYzA/8ghMP/4xLP/2b1DNZiTPOw/z11wDx+23Y9sVV8DZ52GoSyFJErxeL7xeL9atW1cdYROP48SJEzVF1OFwuOubpbaYfW5ujhezj42N9Xx4cKvY7XaMj49jfHwc2iHIx48f5zVW4XAYfr+/K1EoADUpvGg0ilwuh0qlUlMTJRKNUnnxeBwHDhxAsVjsaypPJDHK0MuniUTTgCBCfVA9vVqz9o29PuXWSnqopQfObG579lwrLJZyGx0dhcViwfT0NLLZLK8bCofDukR6VFVF1mLB3M6diK1bB+UjH8HEyZMY2b0bvqeeQvCb3wS++U0oq1cvpPGuuw4wsIACzu0mY+36r776KgDwKFQrRepLIcsyt01IJBLcNmH79u3C2iZIkgS/3w+/389HksTjcZw8eZKnQ5mI0ut3ZHVyc3NzKBQKCAaD2LJlC1wu10AUlGtTeSw92s9Unmgv6IB+6TkSTQOCEVJdrdKtNbeScmuFllKgXYw0NePAbTKZuKGhdmDt4cOHYbPZEIlEMDQ01FKYv1QqcfGZyWTg8XgQDoexY8eOhXTRe96DIgDp1KmqoeYjj8Dyr/8K67e+BdXhgPLWt3IRpU5O6nxl9IWZZ/p8Pqxfv57bIUxPTyOTyfAUVDgcbqnOQRtNYm39w8PD2Lx5s3CHeTM0sjXQWkNox+Q0+/uzaFY0GkUsFoPFYqlx2K/HCA7letIolcfq9CiV1xi9uueopmlAEDHSpKdoajfl1jV0FE2dOnBrN9hNmzbxLqi9e/eiVCrx6Inf7z8n3cHSLLFYDJIkIRwOY/Xq1cvW+6jj45A/9CHIH/oQUCzC9NOf8loo26OPAp/6FJRt2xaiUFdcARi8W8hms3Ehyg7tubk5TE9Pc6uERoXQ9YXwbBTMtm3bVtyBVl+UzyJts7OzOHDgQM2YnPrBuKxJg3Wysme8ma7LQS4oB84Vpt1O5YmanjPSwF4jY+ydWCdWWqRJm3JLJpPcQ6bjWW5L0Kuapm47cGu7oNh1nJmZwb59++B0OmGz2VAqlZDP52sGCbf9hmW3V8fdvO1tKH/1q5AOHlzoxvtf/wvWr38daiBQLSa/9VbIN98MRCJt/369QJuC2rBhAx92e+TIEeRyObjdblgsFuTzeZTLZZqLtwhms5lbQwALLz9sWLPb7YbJZEI+n+eO8K36T9XTTEE5pfKWRrSzBtAv0tTvJoxesGJE0yBHmljKjb1p6pVya4WWRFOL5pbalFsvHbhNJhPMZjMsFgskSUKxWIQsyyiXy7BYLHC5XFwA6IIkQd28GZXNm1H5nd8B0mmYn3xyoSPv3nurvlGXXVaNQt16K9QLL+zpuJx2sFgscDgccDgcyOVyyOfzsFgsvHDUbrfDbrcLdwD3GofDAbfbjfn5eRQKBczPz8NqtfJaEovFovs1XM6hnP3vTh3K+wWl8qpQIXjzGF406XEgitg9t1xKkaWR6lNuF198cV9uXD0jTf2a5wYs1NTEYjEUi0UEAgHum6SNghSLRczNzWFqagrz8/MIBoOIRCIIBoP6HRw+H+Q774R8552AokB69VUehbL+0R/B9od/CGVsDMqtt1ZF1A03AB6PPj+7Q7TFx/l8ntsqLHcdWVG+nqaQIsOidHNzc8jlcggEAohEIudE5QqFAuLxOI/msf0gFArpWmcyyA7lgD6pPBHTc1QI3jwrYlcahJqmfqTcWqFT0dRMAXc3YCNFtB1a4XCYdxctht1ux8TEBCYmJqAoChKJBObm5nDgwAE4nU5eTK5buNpkgnrxxahcfDEqn/scMDsL849/DPOjj8L8ve/B8o//CNVmg3LNNQvF5Bs26POzm0BbUB+Px2uKj5caK1J/HdlnMFNIZqyp52gSI8O8sVgRNwAMDQ1h/fr1Sz7nDoejxtaARZ61M9309tfS06F8Mfr5smu0rrxuQmNUmmdFiCYRa5qA6k04NTXVt5RbK7SUTjwrmpYzl+wG7FBiBdzM76eTDi1W6BwOh/nbaTQaxeuvv949Q8jhYcgf+ADkD3wAKJdhev75hWLyz3wG+MxnoGzaVK2Duu02KFdfDei8obEoEYt2sqjcunXr2ooS1adKWLTq0KFDPJrHTCEHqfaJFXyzFyK3241IJNL22BdJkhAIBBAIBHhNmdZfi7m8h8NhXWtQBr2gvNlUnmgv6IA+6bmVUgguLXPQGUJplEqljkTP0aNHYbVaMTExoeOq9Eebcstms5BlGVu2bOmJeWCnFItFvP7669i5c2fD/1+bcnNccgmUbdtQ+Od/BrAQzu6WUKqfbN+tQ2Opn82sCHw+HyKRSFfTT9LRozyNZ3rmGUjFIlSPB/KNN1ajULfcAjQz7qYOrV1FPB6H2WzmgrDb0U42moT9bJvNVhOFEo1CoYBoNIq5uTkUi0UeCWrFWqAdFntpCIfDXf3ZjQrKASybylMUBT/72c8W3VeMAntZYs7vDodDqFl5r7/+OjZu3NhR3da1116L3bt36/lCY8jQsrG/SZ0waqRpqZSb1WrF66+/3twsNwPQ6BovVsCtms3A2ZEO3UDb8h6PxwFAl86idrBarRgdHcXo6GiN6Dhy5AisVmtXDn517VpUPvYxVD72MSCXg/npp2FiHXk/+AEAQLnoogVLg0svrRbnN6C+poZ1DK5du7anB0H9aBL2gsE6ybR+RkaMQtX7o7Hvfrk0sN5oXd7ZrMFEIoEzZ85g//79PD3dqk/ZcrRbUC7KuBeWynM4HIhGo7j44otrUnksShUKhfo+gqgRel1n0aKH7bAiRJNRapoadbmFQqGGKbdyuWyINTdLK/PcJLMZqs6/G5vvxQ53Zq7YkR2AzmjTJhs3bjzn4O9KtMHthnz77ZBvv706H++NNxa68b7yFVj/5E+q8/FuuQXybbehcuONSJtM/HBnqcd169bpOmy2U7TWEFqvp4MHD3I/I70P/lZZLMrYa8G5FBaL5Rxbg7m5Oezbt6+mEULvlGizBeUi7YHAgvioT+WVSiU+K4+JUyN15enh07RSMMaT22X6+fCxgzEWi9V0tSzX5WbU6Fg92ijS/Pw8pqamatI1jQ5Z1WLpeIyKdpI8Kzw24uG+FPUHfzwe52/8rK5F19SsJEHdsQOVHTtQ+fSngVgM5sceg/TQQzA/9BDs//qvsJrNkC+8EPZbbsHau+6C+fzzDW9pwNKE4XAYwMLBzwxKe5n6YvVs2jrEZgxPjYLL5cLk5CQmJyd5g0MsFsPhw4d5YX44HNY1HduooLxcLiOZTCIajcJisaBcLgtRC7VYxMZms/XUYFOvdRPnsiJqmk6dOoVisYh169bpuKrG1KfctLUXrWw0sizj5ZdfxhVXXNHlFbfGUnYA7M06Go0in88jFAohEomc46Ztf+tbgUAAxQceaOlns5qBWCyGQqHA34JFqBloBVZ3wtJiQLWDKhKJ6HJYaefGsQ6tcCCAsWPH4P3pT2F55BGY3ngDAKCsWcM9oZS3vhUQbObbYvPrhoaGdJntpu2cZLMbde+cNAiFQoE/f9pUrV62Btr9I5vNIhAIcDd+9uKr3W+MKKJKpRLefPNNXHTRRU3/N9quvEQi0ZdU3u7du3HhhRd2tI9ee+212LNnj57rNaSKWxGiaWZmBvl8HuvXr9dxVVUWS7kNDQ115NmjKApefPFFXHnllTqvuDWW80zS/l0LO6yi0ShSqRS8Xi+PnLhvuQVwuVD84Q+X/NnaA4/VfC02RmKQWcyrJxgMNp0yqS+G93q9PDrTKJIlnTgB86OPVmuhnnoK0vw8VKcTyvXXL1garFql82/aXdgbPruW7RZB13cNdsWjy+AsNkYoHA63dNDn83lEo1FEo1HIsoxwOIxIJLLo0Od2C8p7RbFYxL59+3DhhRe2/RkslRePx3tmsPnKK6/gkksuafv6qaqK6667Dj//+c/1XBaJpnbpVDSdOXMGmUwGGzdu1GU92pRbNpvlb1xDQ0O6pVJUVcXzzz+Pq666SpfPa/Vn6+nAzSIbLG1xySc/CYvTicKPflSzCWgHlrLOnnYGlg4yLC0ZjUb5rDYW2dBGTuqjVaqqtm99UCjA9MwzVU+oRx6B6ejR6lq2b18oJr/8csPPx6uHFUGzqLDL5eJRKG2USHv/sjqvdqLHgwwb2ByLxWoGVtd3qNYPE7Zarbymqp3In7agnImofjqUFwoFHDhwABdccIEun6dN5cXj8a6l8l5++WXs3Lmz7XuZRNMChhBNnRZFz87OIpVKYdOmTW3993ql3Fpl165dPRFNnQ69bRXrzTejXCrhZ1//OkqlEpxOJxRFQT6fr9ls9UifDDpMZM7NzaFcLsPpdPKN1uPx8PtUt7ooVYW0fz8vJjft2gWpUoEaDFbn4912W3U+3tn6IlFoJNgdDge/L7WRUqM0FhgVrWCPxWKQZbnmWrKC+HA4rGtavVFBOYAa8dRtEZXP53Ho0CHs2LGjK5/frVTeSy+9hMsvv7ztda0k0STWq2GbtNo9p21ZX67LTVT65cCtqioUkwnq2Tbj+tZii8UCm81GB1MT1EcC2XfG/pnNztP1fpUkqFu3orJ1Kyqf/CSQSsH8+ONVEfXjH8PyH/8B1WSCcvnlC/PxduwwfDG5JEkwm808QlF/XbVdocTSSJIEm83G5+GVy2X+fEuSxOc3shmOerGcQzkAvud0Kwqlh0nkUojWlTeIrAjR1Ewn2mIpt4suumggCjp7HU3SwuwA2LXdWSrBDpzjeMzeoqLRKKampmrGkRjd3LNXsKgnq/NiKaXzzz9/0TTIsWPHYDaba6KjuuH3Q373uyG/+92AosD0s59VU3iPPALbF74AfOELUCYmqoXkt90G+frrgUV+fqXS2wyfdmxLLBaDzWZDJBLBtm3bzkkbs8jJa6+91j2Xd4FhkTqWgpckiY/R0d5vWhNI1t3InN5bqdFrhn44lPe6C80oXXndFotGYkWk5xKJBGZmZnDeeefxP+tXyq0VOknPtVvArQdaOwAWQmaHjMfjgePuu4F4HMVnnlly/ax9OxqNAtC3g0wUFiteZl1FzW702gG6hUKBFy93s1Zs5tVZ7Pr2QRR+tg+b9/8IV+Ufh8VuhnLttQvF5OvWIZMB/umfzNi71wSXC/iVX6ng/PO7s/WUy+Ua132/388d2lspqmd7RzNF9YOKtr4uHo/D5XK1/JKj9dhKJBKw2Wx8r+jmvMHlUnntPhOZTAYnTpzAtm3b9Fpq2yyWyguHw+cU2neanisUCrjjjjvw4osv6rF0hiE3+RUhmpLJJE6cOIHVq1fX5Nn16HLrJq2KpsUKuLstkoBqpI51EObz+RpTvPo3HPs990A6fRqF555r+vNZBxmzM+jFod8vut0mL8tyTZs8GyujZ0QvlQLuvdcMr7fqUjBzQsYFys9x3Yl/q9ZCHTgAAFC2bMFfj/4RdtuuQGR7BKrJhGRSwuc/X8boaOfr0NYqsVQ7+10X69Bq9fPPsW84e+jr8flGo5EtABOdejyHbB+JxWKYn5+H3+/H0NBQV8cOAY0LyoHWo1DpdBqnTp3C1q1bu7XUtlmqK+/111/vSDSl02m8973vxbPPPqvjio0pmgY6PccewJmZGaRSKd5BdOGFF66IlFs3xQQ7eNnBrh0Bs9wbomo2t2xuabPZ+BR39rOZEaS2SFdUvyZtNIkZMnYyRHgptKk6bVrl1VdfBQDe9t2JSWgsJkFRAI+n+s9jq8w4mLwUV/7JRSj/yZ9AmpqqiqeHH8FPnrDjBKJQH4/D4Xdg3UZg5g0PRkeDbf3selHIIiA7duzQ/bmXJAk+nw8+nw/r16/nXWTT09PcBZxFoUSt02tkC7BmzZquiEKn04lVq1Zh1apVPFLC5rlpB2Pr/bObdShfrqDcyCaRS6Xy5ufnceDAAV4v1eo+Wi6Xhb2/W0XME2YRFku5TU5O4vTp013raOgl/SzgzuVy/C1Q67S8cePG1moRzGagA0fw+kOftYMfO3aMuxZHIhFDF0LWpyWYB1V9PU23kSQJHo8HHo8H69at44f+0aNH205fAdWv+PRpCaUSEAiosFgArbWWumEDKh//OGbu/i1MvcMCZzkNTy6KbGweb7xsRvjOd8F+iadaB3XbbVAuvnjR+XjA4unHbojOpbDZbBgbG8PY2FhNQ8n09PQ5aWqjHq6L2QJs3769px2tjYqetYK0W2nR5QrKtaNS6l9OjSyatLBZeW63G6tXr8aLL76ISCRyzqy8ZgVqqVRaMalpIUTTYl+YdlPSptxGRkawZcsWftPncjlhu176WcDNajdisRhSqRRcLhfC4TDOO++8zjZPsxnQaayN9k1/w4YNvKB/7969KJfLPGpihIJdtjY22Z55ULUsOruI9tCvL8xfbqZbIgGcOiXBbgdeeUXCm29KyGSq1/zyyxV89KMV/u/OzQGvvWbC9LSENesknD4dQMIdQCkAONR5jN3zAeCJH8Hy5S/D+qUvQR0e5vPx5Jtugur11jz7TEjXFx73E0mS4Pf74ff7sWHDBp5iPnLkSM1IJSNESBczozXSnLx6QZrJZBCLxXhxPjMqbaXWrxlaKShnESnRkCSpYVfeyZMnkclk4HK5eEF5o2efRJOB0dbOaLvclkq5iTLHDThXJJ04cYKH9nsRTWL1GfF4nG9E4+Pj+lotdBhpWgrtPLdKpYJYLIbjx48jk8m0HTVpF1Yoy64ni3z2erJ9u9S/6WtnupXL5ZoxOdPTJvzv/21BLgckkxLSaeCWWxSk0ypmZ6s1TqxG6fBhCb/92zbMzwPFYvXfv/pqGbt3m5DNSiha3fjHkc/g1x/7PZjiczD/5CdVS4MHH4Tlu9+FYjYjuWMHytddh+A734nJnTthFWDD1qaYmaP23Nwc725kUaheNTowZ/NoNIpCoYBQKISxsTFs27bN8Ae/9mVp3bp1KJfLvOFn3759/AVPrzpARqMoFEvlsTS32WxGpVIxhEN5uyzXlRcIBBAKhRAIBLitxEpJzwlRCD43N4cTJ07w7gr2dtZsiLtQKOAXv/gFLr300h6stnUWK+DO5/M4ffo0f5MeHh5u2zl3MeqdfHvRCWT70IdgeuUVFF5/vSuf3wht1CQej/MZYZFIRNffU5smYgXr3ZgS329YKjwajSKdTuPf/30z9u8PIRq1o1AwIZsF3vWuCl55xYx4vJqm++xny9i+XcVf/qUFc3MSRkdVqCqwd68JpZIKRQF8PuCii1QkEsBnPlPB+edn+cEuF4tYdeIERl55Be4nn4TpzTcBAMq6dQvz8a69Vrj5eMC5o1m6UQC9mC0A60gdFBqVEmgnC+j1HLKXzNnZ2RrLinA4DLPZ3FFBeS9RVRWvvPIKLrvssqb+fW1X3k9/+lP83d/9HS6++GLMzs7iBz/4gZ77nCGVuxCiaXZ2FpVKpe0bvlgs4vXXX8fOnTu7sLrWaSflVl+MyQ78Vt9KtcWV8Xi8q8WVi2H9zGdg2rMHxZ/8pOs/azHY4dGpnYHW6ycej/Oaqm63TBuFffskHDsm4WtfA06eVAHISCatyGatsNlUmM1VwaSq1cLwoSEVyaQEkwm48EIFkYiK06clyDKwYYMKv1+BLBdx+LCMG26Yxk03ZRqOiQEAaXp6YbTL009DyuehulyQb7ihWgd1221Qx8f7c2E6QM97Sg9bANGpb1rRvni3cz0TiQQfY7RUE4oRHMqbQZZl7Nmzp+3z8dSpU/inf/on3HvvvbDb7di6dStuueUW3HzzzVizZk0nS5MkSfoqgHcCKAGYAvAhVVWTnXxopwghmiqVCs8bt0O5XMaePXs6aqnslKUKuLV/b4ZyucwP/Hw+z+t22DTwevrVxisKrdoZ1EcFlrJXGFQyGeBf/sWMhx4yIxgEXnjBhESiWqttMqnIZKSzZWsSrNaq8V2pJMHhUBEOA9Eo4HZLOO88GZkMcP75WZw8KSMUmofFYkMi4cXnP6/i8subfC7yeZiefnpBRE1PAwCUHTsW5uNddlk1NSwYLHrJnt/lopfdtgUQnVbsUYCqqGD7QyaTaXtAs7agnJ0FixWU95JKpYLXXnsNl1xySduf8corr+C73/0uvv3tb2Pv3r348Y9/jP379+Ob3/xmJ0uTJEm6BcATqqpWJEn6UwBQVfWznXxop6wI0VSpVLB792685S1v0XFVS9OrAm5WwDk7O4t0Os0FkSRJ3NSskzerlQZ7K41Go0gmk/B4PIhEIrBardzjpB/1J0bizBng93/fhqefNqFUAuJxCUttI2azCkkCKhUJFouCdevKiEYtyOVMsFgUDA8XcdFFRQQCdiQSdqgq8I53yPjAB+T2pq+oKqS9exfm4z3/PCRZhhoOL8zHe9vbgFCo7WvQLxark/N4PMhmszW2AMPDw4bu0jMC2qie1ojX7/dzc91SqaR7Q0l9Qbn2fOi1iCqXy3jjjTdw8cUXt/0Zu3btwv3339+pSKqn5kJLknQ3gPeoqvrLev6QVlkRr8Wtzp5rh2ZEUjc2L9Y15HK5MDc3h9OnT2N2dhYA4Ha7MTk5yQ99YnnY9fT5fIhGozh9+jT27dsHALDb7RgbG8PIyIih7Qz0JJ8HpqYkmM2AzQb84hcSvvhFK44fr9YtNfNYyfLCfa8oEorFIkwmFVarGRddlEckYkM06sP27Qr+x/8owWbrUM9IEtTzzkPlvPNQ+d3fBRKJhfl4P/kJLP/+79X5eFdcAfnWW6vO5Nu3G34+HlDdy1gXEzNSPHbsGJ+pFg6HMTo6qmvtziCjbXaYn5/HzMwMv6as+3FycrIntgZLeUN1U0ApitLx55dKpV6cMR8G8O/d/iHLIUSkSZZlVCqV5f/FRVBVFc8//3zbI0mW+tx+OXA3mkHGapPYpPtsNsuLFC0WCyKRCIaHhwfC2FNv6u0rGnnqMMuAaDRqODuDbpBIAF/8ohWzsxKiUeD4cRPyeWBuTmqj+VGFyQSoKhAIAOFwNQK1aVMexWIRuZwMl8uCb30r3d00pyzDtHt3VUA98ghMZw09ldWruYBS3vrWWlMpg7CYLQCrp1nM+2sxi4iVjtbjbW5ujhdyRyIR2O12view0gZmjhwOh+Hz+bouZPRwKG+GQqGAAwcO4IILLmj7M37yk59g165d+LM/+7OW/9u3ve1tOH369Dl//otf/OIuVVUfAABJkj4PYCeAd6t9boVfEaIJ6GyOG6OfnklaX5JYLNayLwkrJJ+dnYWqqhgaGsLw8PBAdc20Sn3nIPPNCYVCy741MTsDVufQazuDXvB3f2fGM8+YMT6u4sEHzchkqk7f7W5ZFgtgs1Vrmj772RL++Z+tWLWqmro7c0bCjh3z+I3fOIx4PA6r1doTk1JpZgams3VQ5ieegJTLQXU4oFx33cJ8vM6KWTui3hZgufpFLY1c5lkH2UqtbaovjGfp96GhoWWFer1vndvt5iKqm6af3S4on5+fx9TUVEfmzz/60Y/w2muv4Utf+lLbn9EACQAkSfpVAB8DcJOqqvN6/oB2ING0DHoWcLdK/aHu8Xj4od5JtIgVPs/OzvKNeHh4eGAjJoxuzQnrlZ1BNzl+XMKXv2zB8eMSLr5YwWc/W8Ff/IUF09PVTrfvf9/MjSrbQZIWarBHR1V8+ctl/OIXEn76UzNMJiASUfHVr5a4l1O9ESj7nvQ2LqyhWITp2WcXaqGmpgAAyrZtC1GoK64AupiG6JYtQLfnGRoZWZYRi8UwOzuLTCaDQCCA4eHhjmaOamcaxmIxVCoVXqDf7VmmeheU53I5HD16FNu3b297Tffffz+mpqbwhS98oe3PaIAkSdJtAP4cwFtVVY3q+eHtQqKpjn5Gk7SGd/F4HJIkdX34Zzc2FCPBOolisVjPJtLrZWfQK1Ip4M477ZiZqbp5x2LViJCisMhS52s2m6vCyWQCVq1S8IUvVPDud8s4ckRCsQisXatisYBSfVqKvTwMDQ11tY5COnRoIY337LOQymVUPvABlP7mb3T9OfXRj24MUNbCzAqZKK1UKjxqPShRqF6/GGpFaTKZ5LM4Wb1pt9CjoDybzWJ6ehrnnXde2+v4f//v/+H06dP4/Oc/3/ZnNECSJOkQADuA2Nk/e0FV1Y/p+UNaZcWLpuVEkvbv3aBQKPD2V2YHwNpfe128zTbv2dlZJBIJeDweDA8PG2LMQ7OwWi52ILA6BFbc3WvR0qqdQT947DETfuu3bIhEVBw9KiGR0P8aORzV9JwsAxs3KrjvvhImJlrfXtj3y+aiAT0SpZkMzE8+CXV0FIoO1iX1tgDttrHrQaVS4QOOWX0kE20i1T9qvewURelrCcL8/Dx/WWO2BkNDQ20Nw22F5VJ5je6tdDqNkydPYtu2bW3/3H/5l39BJpPBpz/96bY/owHGe8PECumeq2epAu5eRJO0RmtWqxXhcBgbNmzoeySCdeaEQqGaIsmjR4+eUyRpJFh9kbbWYGhoCBdeeGHf02Pa0RnMzuDMmTPYv38/r6dgY3L6SalU7ZJLp7tz/zmd1cjVxISKf/zH9gQTUH1GvV4vvF4v1q9fz0Xp1NQU9zBih5OutWVeL+R3vaujj6g3qA2Hw1i7dm3fbQFYk0gkEqlJO73xxhuoVCo1Lx1GEfrAgoCub3bp9WDhRrhcLrhcLqxevZq/jMZiMRw+fBgWi4VHu/X+7hcbNsyElHZOHhNSqqp2/L2Wy+W+77W9QohIk6IoKJfLbf/3qqpi165d3Kep1wXc2rcONrenKxt7F2GeJdFoFKqq8k68fsxQq68nYIOajbixL4ZWlLIxOezg6mbhs6oCu3aZ8PTTJphMwObNCl5/3YSvfc3arXGAGBlRcd11Mm69VcHdd8tdm3KiTXMlEgk4HI6+1u2w7iv2HTNPJb1HIXUT1qU7NzdX80LSL0dxVVV5NJylMlkhd79fPJqlWCzy7AIb3MxEVDd/h8WiUGxCxKZNm9reO//2b/8WLpcL/+k//Se9lgsYNNI0sKKpvoD7wIEDSCaTPSl61toBpFIpOBwO/rY2CK2/pVKJd+IVi0V+EPTqmoqcQliMQqHARWk37QxeftmEf/onM0ZGVOzbp+LJJ81IJgHAhG7sUZIEXHWVgvvuK8Lr1f3jl4QJ67m5OS6su32f1tdf+Xw+3lUpSop7MbSpb9bB24vUdyMD3+Hh4YFwONdancTjcQCo6Yru5jWdm5vDmTNnkMlksGbNGoTD4bYLyv/6r/8aIyMj+PCHP6znMkk0tUszoqmZAm52o8zOziKbzSIUCmF4eBiBQKCjm5NtJiyaNIiFlYtR33qvV23GYsWqXe+gMgDdtDP4ylcU7N9fgqLk8IMfjKBQ6O7beTisYvfuAiKRrv6YZWHt4uyaMnsJPer1OrEFEBl2Tefm5nRvsiiXy3yvzufzfK9eCddU27jCInvhcLjjl0O2r5w5cwa5XI4HEPx+f02AoZ2C8q9//etYt24dPvjBD3a0xjoM+UULK5o6LeBWFIV3jaXT6Za7xkqlEo98pNNpeDwevmEMQuSjHRYbZjk0NNTUYb+S26IXYzE7g2YjbKqqIpVK4eTJOfyf/+PG97+/CrmcBYoioVJpZU+S0Op2YLEAjzxSxJVXdteNv1XYNWERE1YL02ynk9YWIBqNwmQy8f9+pfqe6WHnUSgUMDs72/FQ8kFBj5dxNqeUdRGy4vjlvpNWC8q/8pWv4Pzzz8d73/ve9n/hczHkly6UaOqWAzerhThz5gySySR8Ph/vGmM3B9toY7EYD6Nq3WFX4kO9FI3qOYaHh8/xLiIDvtbQevgwk9L6g0XbmXX8eBF79qzGQw+N4tAhO2QZKBRaNajU3tvN/Yd+v4qf/KSI7dsNsYUsCRuIG41GUSwWG96DjWwBWBH/SimAbYVGxrH1dTtMfM7OzmJubg5ms5nvESv1JWkpWJej1tZAO1OUUSqVMDs7i9nZWVQqFS6UPB5P2z97OYfyL3/5y7j88svx7ne/u6PfsQ5DHqpCiKYHH3wQpVIJ119/PX+77lYBNxNHZ86c4QW6kiShUqnwYbj9sAMQHe2beaVSgcViQblcrokmDUK9Vy/R2hlks1lks24cOOCAJJmwc6cd6XQEn/pUEKdPV72Q2vdbal40SRJwySUKHn64CBGDLizayUaRsAiptiZqUDzMekX9iCJFUWA2m1EqleB2uzEyMiJUIbdRYA1Gc3NzyOfzsFqtqFQqXHx2a0ZmfRQqFovh4x//ON773vfiIx/5iJ4/ypCiSYjKxLGxMXznO9/BF77wBZx//vm488478ba3vU33zi3tBPFkMgmbzQaPx8NNJ8vlMm/ZJJonn88jHo8jkUhAlmX4/X6YzWbkcjmUSiWUSiWUy2U4HA6K2DWJoijIZDJIp9NIJgt46aVJPP30MJzOMkZHU3jzTSeeecaHuTn2cqGe/aud68v+u+UFk8dTLfwWUTAB1fqkfD6P+fl5mM1mHkXOZDLIZDKw2+18X6B7tTkURUGpVEKxWIQsy3C73bDb7SgUCpifn0c8HuezHkUvlu81sizzdn+Px1MzLw8ATxnrea9KkoTZ2Vk88MADePDBB5HP53H55Zfjiiuu0O1nGBkhIk0MRVHwwgsv4L777sNPfvITbNq0CXfffTduueWWtkOPWrXO7ACYuWR9HQ7zBIlGo7BarRgeHsbw8DCF5+vQis94PM5brRvVjLDiRFacHwwGeXE+vc3XwgqO2Zsl8yR6/PEhPPSQBadOVUeehMMqbLYSHn/cimIRmJ83Q1G6fy2tVmDNGhWPPdb/wu9maZRGZvVJ9SkilnKKRqPI5XLcOmSQ5g3qBSvkZtdqsaab+ikIZrOZ10Kt1FqmxWDpzDNnzvABw41KHoAF0+RYLMZtDTrJkqiqipMnT+L+++/Hgw8+CAC46667cM8992DNmjXd+p4M+eULJZq0KIqCPXv24D/+4z/w6KOPYnJyEu9617tw++23w+/3L/rfNbK7b5QXXo75+XkuoCRJ4gJqpebiWV2I9kBfTHwuBiskn52dRTKZhNfr5bVlK/FQqk9rmEwmXsPkcrkgSRLyeeBP/9SCF180IZ0GnE4gnZYwOipj924LUqn2B+y2giQBn/hEBZ/7XBlLPH6GgI0OikajSKfTbdkC1L8YsH1kJdfjaG0zWC1NJBJpKSqnfTFgExLYYb8So1BsD2AGnk6nE8PDwy2lM5kwZSKKjedarh5XVVUcOXIEDzzwAH74wx/C4XDg7rvvxj333IPx8fFeCFoSTd1CURS88cYbuPfee/HQQw8hEongzjvvxB133IFAIIBXXnkFhw4dwpYtW7piB6Dt+lAUpa/Gj72CdXWxQ8NisdREkzp9oOo3C4fDwTeLQY7sMT8qdqB7vV4u6httkuUy8Lu/a8Xp0xJisWoKLZ2u1jClUkAs1pto3R/+YQm/+7syjBoYKBaL/EBnA4D1tAVgDQ1MMGgHDA9ytIQVckejUd0NWru9xxiVegNPNs6q2S7k5WCd33Nzc8hkMnC73di1axduv/12rF69GgcOHMADDzyAhx56CIFAAO9+97tx9913Y3h4uNfX3JBf8ECIJi2qquKFF17AX/zFX+CJJ56AxWLBmjVr8J73vAcf/vCHu/4WyIwfz5w5g3K5zAXUIISa698CtanMbr8FartsWGSv2+7ZvULbQciMLVs5cP/u78z4wQ/MsNlUJBISnM6qcNq/34RMpvv3XCQCPPhgATt2GGe76KctQKvCVyRYowxLZzqdTn5du/0yw6LZsViMj8xpNZptVOqj7I06uLuBqqqIRqP44z/+Yzz33HOYm5uD1+vFPffcg0996lMYGxvr2s9uAkMemAMlmh5//HH8wR/8AVRVxc0334xbb70VoVAI3//+9/GDH/wANpsN73rXu3DnnXdidHS06yKm3qAtHA5jZGSkad+SfqP1szFSvUF9GoCZtIlSnFvvvcRSO+12EMZiwF//tRm5nAkul4pcDvjxj804dKj7USaXC7DbgZdfLmBsrL/bRb1PmBFsAepTrGazWbhoiaIoXASyA51d136JlVbqJo1KvdN5L+s5FUXBq6++ivvvvx+PPfYY1qxZg3vuuQfXX3899uzZg0ceeQTPPfcc1q1bh29/+9sYGhrq6noWwZAPx0CJpjNnzvBhiPWoqorp6Wncd999uP/++6EoCu644w7cfffdWLVqVdc3r0Zu5CMjI4YL37M2djYXyeg1BcyTaHZ2dsmC037T7SLiuTngtddMKBSA++4z4/Rp4KmnevN9fexjFXzta+3PhuyE+oJjvRzpu0W9e7h2wLCR1lupVPh+xZ6rSCRi2AaNfD7P961iscivayAQMFQUailX7m7vV4qi4JVXXsH999+PJ554Alu2bME999yDd7zjHfA2mHGkqioOHjyIDRs29OsaGmcD1zBQoqlZVFXFzMwMvve97+F73/se5ufncccdd+DOO+/E+vXre3LzduJGrieNio1ZNEmUyA2DvRHPzs7yuV9sRlWvH3ptemhubg4AeB1NN6/r7Czw+79vw3PPmTA93d3vjmno3/iNCr761d6JJjY8ms2Ua6fg2AjIsoxEIsE9oVwuF4/g9GOqAKv7mp2dRblcrjFFFO26sihUIpHoOJLbKe26cuuBLMt4/vnn8cADD+CZZ57BBRdcgPe85z247bbbRChtMORNtyJFUz2zs7P4/ve/j/vuuw+JRAK333477rzzTmzZsqUnAqrXuexGbr2DZtq5WO1FJBLp2u/IDkGWxujHRPhiEfjkJ6146CEzYrFODC2XxmpVYTKpqFQkvO99SfzlX6pd24Trv0u73b6oLYCoMJHNoiWKovB7p5uHq7buS5IkXoMpwIHaNP2YOtANV+5mKZfLeO655/D9738fzz//PHbu3In3vOc9uPnmm0Ub8UWiSQRisRgeeOABfO9738OpU6dw66234u6778Z5553X9SiQ1o1cz64JPeZCiUx9UTDr8tHDIkJrtcDSLf1OY7zxhoT3vteG6WkTFJ3HvklS1Y8JAFQVcDhU/OM/TmN4+AQvYo9EIh2PFlrMFmCl2E+wtOPc3Byy2SxPk3f6+2t9qebm5vgsw0ZeP4NIN+dbsi7q2dlZqKqKSCTSNVfuekqlEp566ik88MADeOmll3D11VfjnnvuwQ033CDy92rIg4lE0xKkUik8+OCDuO+++3DkyBHcfPPNuPPOO3HRRRf1REBlMhneMeZwOFoaN9DNCeSiwwrJZ2dneXqn2Q7HejNEbRu0kYa17t0r4bd+y4rXXjMhn9dn7zGbAZ8P+O3fLuOJJ8xwOlX81/9awRVXVJUZq9eIRqPIZDLw+/3c/6iZg77btgCiUt96b7VaeaStmQOZ/M8ao6pqTRSK2dGwztVm9njm1zc7O9vz2XmFQgGPP/447r//frz66qu47rrr8Eu/9Eu49tprDVl/2gaGfOhJNDVJJpPBQw89hPvuuw979+7FjTfeiDvvvBOXXXZZTzae5dzI2URstgGoqsqjSTRQeHHqOxxZIbn2oGZigAlQls40+tiHUgm4/34zvvY1M954o/N79LbbZHzucxXs3Ll8+Ip5zbAOQRbRGBoa4ikCds+yqAezBWDmnURjWNFzNBpFuVxueNCT037rsIG4bIyWy+XiL0Tae7ZZV+5ukMvl8OMf/xgPPPAA9u7di5tuugn33HMPrrrqqkEUwIY8tEg0tUE+n8ejjz6Ke++9Fz//+c9x3XXX4c4778SVV17Zk0NU+3YjyzLMZjPK5TL3gxl0A8huoW0BTiaTsFgsUBSFF8frkXbqNdEo8LGP2bBnj4QzZ9o7LJ1O4KGHCrj88va3A216tFwuw2KxoFQq8agHDWxtD5bGZAe92WwG29N7WXA8aNTXmJVKJX7Pejyeng4ZzmQyePjhh/GDH/wAU1NTuOWWW/BLv/RL2Llz56ALYEPetCSaOqRYLOKxxx7Dvffei5dffhlXXnkl7rrrLlxzzTW6P1DaBzkWi0GW5ZqBoiyPPuhu5N2A+b4wjx+73Q63241KpYJ0Os07m0Q83A8dkvBXf2XB00+bkEpJGB5WcdllCrZvV/DEEybMz0uYmZFgtQK33y7jggtUpNPABRcoMJuBjRvVjgbw1tsC+Hw+WK1WPhjX6O3sRkY7zklVVb4fpFIpPnan375qIlLvyu1yueB0OlEqlbiLdjdfUJPJJH70ox/hgQcewKlTp/D2t78d73nPe3DhhReupGfEkDcsiSYdKZfLeOqpp3Dvvffiueeew86dO3HnnXfi+uuvb7trgbkLs1l5jULGDG3HxqC5kXeDek8qrWeONtTNxCqrL7NYLDyNJFr3VrEIVCroSAQ1Q7O2APXGiR6Phxd8iyZOe4G21lE7YDgSiZyzHxSLRV5jxhy0jexh1W+a7WTWlkLEYjEoiqJLKcTc3Bx++MMf4oEHHkA8Hsc73vEOvOc978H27dtX6v5tyF+aRFOXqFQqePbZZ3HvvffiqaeewgUXXIC77roLN91005LFm3oUJwLn1upQqL62hoZ1EbLDvBVhmc/neapJlmV+aPWindio6GELwAQB+wy9Z5mJCouCzs7OIpFI8K7aVmrqmCBg3kWNasxWInq4crfbdKOqKs6cOYMHH3wQDzzwAPL5PN75znfiPe95DzZt2rRi92kNhrwAJJp6gCzLeOGFF3Dvvffi8ccfx5YtW3DXXXfhlltugdvtRjabxU9/+lOsW7dO9zZY9vNFcCPvBmxTjEajSKVSuo/WYMZ10WiUj8pZKR1f3bYF0I7L0dPOQATYtZ2dnUUmk9HVALf+xUyW5RXVNNJNV+5G9i4WiwW5XA5XXnklTCYTTp06hfvvvx8PPvggZFnGXXfdhXvuuQfr1q0b+GvfIoa8GCSaeoyiKNi9eze+9a1v4Uc/+hGcTidUVcVVV12FL33pS10PnRvJjbxb1I9UYDUzrUTq2qFeRPj9fu5IPijXtl+2AJ3aGYgAG/bNRqywKGi3hQwbRcSm3jPxa9TRSe3QL1fuUqmEPXv24Mtf/jL2798PAHC73fjgBz+ID37wg5iYmCChtDiGvDDCiqZPf/rTePDBB2Gz2bBhwwb8wz/8AwKBQL+XtSSnTp3CV77yFTzzzDNYtWoVbr31Vqxbtw67du3Cww8/jNHRUbzrXe/CHXfcgWAw2PX19Guytt5oU0PMx6bfwzu1heXxeBxut5t3iYl0EBnRFqA+FShyqimfz9cUcrNr2y/PL+2Q7lgsZohnqV366crN5rY98MAD+NGPfgSfz4e77roL69atw0svvYTHHnsMVqsV73jHO/Bf/st/EUo4ff3rX8e3v/1tSJKEHTt24B/+4R+6VdtpyIsirGj68Y9/jBtvvBEWiwWf/exnAQB/+qd/2udVLU08Hscrr7yC66677pybTFVV7N27F/feey9++MMfIhAI4M4778Qdd9yBoaGhrj9U3XIj7xYivR0z4cEKyZnPVqPiXSPAxDTrJGQpTaN2Dmpn/Kmq2ladWq8Q7V5gKVJt1LbbI0g6oZErd6+6idke/sADD+Dhhx9GJBLBPffcg7vuuuv/b+/Oo5o+8/2Bv4OAxbqCmCpItVpEUatS3AZcWcqaEMLtzNSrXdR75l5b57TTM/V65rYzTlvv1Gl1tK2316nT29UhhIRNBHHFihYXLF2sVXEEgQCy7yTf3x/+vhlErUGTfBPyfp3Tc1q05jHL9/vO83yez4PRo0ff8vsNBgOKi4sRGxtr87FZS0VFBcLCwvDtt9/Cy8sL//Iv/4LY2Fg8/fTTtng4x/rw/n9OG5p6S09Ph0ajwaeffir1UKxCEAT8+OOP0Gg0yMzMxAMPPICEhAQoFArI5XK7BKje3ci9vLwk76Uj1mGIF3Bxx4qvr6/TFbc72uwCcGtbAGfdaSXuiBR3jDlCO4OBMuso1geKPaGsXR94r3q3XXBzc7NrV26TyYSvv/4a6enpyM/PR0BAAFQqFRITE+2yWmBvFRUVmD9/PkpKSsyzZy+88AKioqJs8XAOeVEfEKEpISEBTz75JFasWCH1UKxOEARcuXIFaWlpSE9Ph0wmQ0JCApRKpd3Ww+/WjdxW+u746V0g74jfyu+FeJMXay3EolR7FORa2hbAWfWdMbNnO4OBXt/W9wQCAObPpq3fP1J35RbrUvV6PQoKCvDoo48iOTkZcXFxGD58uM0fX2rbtm3Dxo0b4eXlhaioKFtOVjjkRcihQ1NERASqqqpu+fnrr78OhUJh/vfi4mJotdoBcaH/KYIg4Nq1a0hLS4NWq0VnZyfi4+OhUCjstvOi77c6ax18K+rs7DRfiF2tt4wtd0wB1mkL4Kx6L4vZqp2BK++k7NvzbOTIkRg9erTVCvXF2e/q6mrU1dXZffbbaDTixIkT0Ol0OHz4MKZPn47k5GTExsY6Xa3X/aivr0dycjL27NmDkSNHIiUlBWq12lYTFg75oXHo0HQ3H330EXbu3ImCggKXeuMCNy4iBoMBWq0W6enpaGhoQGxsLBQKBQIDA+1ykRbrB2pqamAyme6pfqBvbx52Mb7BGr15ANu3BXBW1mpncLueXWJDWVclvnfFA4bvNZz37cpt7zrLnp4eHDt2DDqdDseOHcOcOXOQkpKCyMjIAf8l405SU1ORm5uLv/71rwCA//u//0NRURHee+89WzycQ178nTY05ebm4sUXX8Thw4fh6+sr9XAkV1dXB51OB61Wi6qqKkRHRyMpKQlTp061ywzNnbqR326nSu/zshobG81n5rEL9O31pws0cCMQiHU99mwL4KzErvu9l9LE92Pfm3Pf3YTO3B3eXsSeUDU1Nejp6fnJgCr1jt6uri4cOXIEOp0OJ0+exIIFC5CcnIxly5bxPE8AJ06cwLPPPouvvvoKXl5eePrpp/H444/j+eeft8XDOeTFymlD0+TJk803BACYP38+du7cKfGoHENDQwMyMjKg1WpRVlaGyMhIJCUlYebMmXa58NyuG/mIESPQ1taGuro688nsvJHfm95LpADMReRiU71BgwaZ65NcbQb2ft1pCdPT0xMNDQ3mc8gceTehIxP7bfXtni2TyVBXV3fPXbnvR0dHBw4ePAidTofTp09j0aJFSElJwaJFi5yqUN9eXn31VezZswfu7u6YPXs2du3aZasaU4e8MThtaCLLNDc3Izs7G2lpaTh//jyWL18OhUJh8xOyTSYTGhsbb9r+CwA+Pj7w8/NjWLpP4jfyqqoq1NXVQRAEDBo0CGPGjMFDDz3kdDsKHY24U+zatWtoaGgAAHh4eEAul0Mul7v00rE19PT0oLa2FhUVFWhuboZMJsMDDzwAuVxul52kbW1tyM/Ph16vxzfffIOlS5dCrVbjZz/7mUsvWzsYh/yAMTS5kLa2NuTm5iItLQ3nzp3DokWLoFQqMX/+fKtcKMQZptraWrS0tNzStbnvOU8DsRu5Ld2tLYD4LV48Lsfe39idXd8ZUm9v75uO1+jq6jLXh7W2tpp7FvH9a5m7deUWl5Vra2vR0dFhfn9b6/3b3NyMffv2Qa/X48KFC4iKioJarcbcuXP5+jkmhiZyHJ2dncjPz0dqaipOnTqFhQsXQqlU4mc/+5nFSw7i1l/xQicIgrle4W7bjqWuXXAWYlsAsdje0rYAfbfbDxs2zLykxG/S/yQWhBsMBnPbBbGQuz/Pr6M3AJXKvXblNhqNN7Ub6b0k2p/aooaGBuTk5ECv16O8vBxPPPEEUlJSMGvWLF5nHB9DEzmmrq4uHDx4EGlpaTh27Bjmzp0LhUKBJUuW3HKBstbFrDdn60ZuS3eqqbmfjtGCIKCpqclcvCweO2KvvjaORAz6YhAVWw/cT9uMvsXh4p/pjEePWIO1u3L3fs3EnlA/9eWsrq4OWVlZ0Ov1qK2tRVxcHNRqNaZPn84lVefikC8WQxPdpKenB0ePHkVqaiqOHDmCWbNmITw8HNXV1di/fz/i4+MRGRlpsy7LjtiN3Nbs3Ragd2iQyWTmm5q1+hU5GjGIilvXbf2e6r17saurCz4+PubNEAP1pm3PrtziMmltbS22b9+OtrY2LFmyBF1dXcjNzUVLSwvi4+OhVqsxZcqUAfucuwCHfOEYmqwsNzcX69evh9FoxOrVq/HKK69IPaR+EzveijvwWlpaMG7cOPj5+UGlUiEyMtIufWjEb5i9u5GLhaLOPkPiKG0BOjs7zctT3d3dNy2fOPPNxmQymevnGhsbzcu/1mq2aKm+7QwGSp8sqT+bgiCgsrISWq0W+fn55td68uTJSElJQXx8PAICAmw+DltoaGjA6tWrUVpaCplMhg8//BALFiyQelhScMgLEEOTFRmNRgQGBiI/Px/+/v4IDQ3F559/jmnTpkk9tH5RqVQYPnw44uLiEBUVhREjRsBkMqG4uBipqanIy8vDpEmTkJiYiJiYGAwbNswu47J1N3Jbut0SjqO1BRB3NBkMBnOhs9TntvWHeIhz7/GLhfCOEABtsfRqT1J35RYEAVevXkV6ejqysrLg7u4OpVIJtVoNf39/yGQyXL58GdnZ2cjKykJsbCxeeOEFm4/L2latWoXw8HCsXr0aXV1daGtrw8iRI6UelhSk/9DeBkOTFR0/fhyvvfYa9u3bBwB48803AQAbNmyQclhWZzKZUFJSAo1Gg71792LcuHFQKBSIi4uz24fbGt3Ibc2Zi4XFmZqamhpzob4jzpD07uwtNk50lpkycRNFf4v87UnqekNBEHDx4kXo9XpkZ2fjwQcfhEqlgkqlwkMPPeQwz5O1NDU14bHHHsOlS5cG3N/tHjjkE8DQZEUajQa5ubnYtWsXAODjjz/GiRMnsGPHDolHZjuCIOCbb76BRqNBdnY2vL29oVAoEB8fj9GjR9tlDP3pRm5rd2sL4IzEQnKxI/kDDzxgvnFKsUwqLgvV1tZCJpOZ62ecuSarbzsDKd83Uu9sFQQB33//PfR6Pfbu3QsfHx+oVCokJSUN+NMfzp49i7Vr12LatGkoKSlBSEgItm3b5qrH8jA0DXSpqanYt2/fTaHp5MmT2L59u8Qjsw9BEPDDDz8gLS0NmZmZ8PLygkKhQEJCAuRyuV2+OYmhpbq6+ra9YGzhXtsCOKveoUVcJrVlaHG00GZrUsxQmkwm89Km2ENNLpfbbWnWZDKhtLQUOp0OeXl58PPzQ3JyMhITE+Ht7W3zx3cUxcXFmD9/Po4dO4Z58+Zh/fr1GD58ODZt2iT10KTgkBdPhiYrcpXlOUsIgoDLly8jLS0Ner0ebm5uSEhIgFKpxLhx4+wSJoxGo7lGp6WlBd7e3pDL5fddbO3stSnW1Hd5zFqBse9sx7Bhw8yzHY60PGhrtqyFs9Xnw1ImkwlnzpyBTqfD/v37MXnyZKhUKsTHx2PEiBE2f3xHVFVVhfnz56OsrAwAcPToUWzevBnZ2dnSDkwaDE0DXU9PDwIDA1FQUAA/Pz+Ehobis88+Q3BwsNRDk5QgCKioqEBaWhq0Wi26u7uRkJAAhUKBhx9+2G4Bqm838v58k7Z3WwBn1Hdpsr+F2GIhek1Njfkm7kyF6PZwv7supZiJ7c1oNOLkyZPQ6/U4ePAgpk2bBrVajZiYGEmW0x1ReHg4du3ahSlTpuC1115Da2sr3nrrLamHJQWGJleQk5ODX//61zAajXj22WexceNGqYfkUARBQHV1NbRaLbRaLZqamhAXFwelUonJkyfb7RuuJTUbjtIWwBmJIbWmpuYnt/yLLQ/EnkbiLArPzrs7S9sZSF3z19PTgy+//BI6nQ6FhYWYPXs21Go1oqKinLoOzVbOnj1r3jn3yCOPYPfu3Rg1apTUw5KCQ14AGJpIUjU1NdDpdNBqtaipqUFMTAwUCgWmTp1ql5tm391BgwcPhru7O9rb2+Hu7u5wbQGcUd/mkp6enubnWOyezef4/vRdMvbw8ICHhwc6OzsBwO67S7u7u3HkyBHo9XoUFRVh7ty5UKvVWL58ucstYdM9c8jQ5C71AMi1+fr6Ys2aNVizZg3q6+uRkZGBP/zhD7h69SoiIyORlJSEGTNm2Gx5RhAEGI1GCIJg/sdkMsFkMsHd3R2enp4O3x7AGchkMri5uZmfb/H1FH/O5bf7I5PJzO9V8XDsQYMGQfxSbDKZzO9zW30Z6ezsxMGDB6HT6XD69GmEhYXh5z//Od5//31+hmjA4EwTOaSmpiZkZWVBq9XiwoULWL58ORQKBUJCQu77BmtJWwCpOx47uzsdGOzj4wN3939+V7vXA3PJ8veoLdtgtLW1Yf/+/dDr9SgtLcWSJUugVqsRFhbGWj+6Xw55AWBoIofX1taGnJwcaDQafPPNN1i8eDGUSiXmzZtn8YW5d1sAQRB+8sDPO/3/9jpby1mJu7FqamrQ3Nzc75uzeHM3GAxob283F5Kzhuyf7vdsRmu0M2hpaUFeXh7S09Nx4cIFREREQK1WY/78+ZwxJGtyyA89QxM5lY6ODuTl5UGj0eDUqVMICwtDUlISFi5ceNMMhslkQlNTk03aAtzuFHe5XO6SRa1dXV3mmSLxcFpr7Mbqu9txxIgR5kJyV7sx26or953aGYwePfqWZoqNjY3IyclBRkYGrly5gieeeAJqtRpz5sxxudeD7Iahiciaurq6cODAAWg0GhQVFWHOnDnw8/PD119/jbKyMvz1r3+FXC63aVuA3juTxD5FUnUjt5e+s3ZiGLVV12JBENDQ0GAuJHem42julRRducXdokePHsWf/vQnLFiwAHK5HOfOnYPBYEBsbCxSUlIwffp0BiWyB4cMTSwEd0FXr17FypUrUVVVBTc3N6xduxbr16+Xelj95unpiRkzZuDKlSu4du0aTpw4AR8fHwiCgFmzZqG8vByPPvqoTWsrPD094e/vD39/f/Py0o8//ihJDxxbEZeExBkJT09P+Pr6YsaMGXbZCSWTyTBq1CiMGjXKPDtiMBhw5swZuLu7m0Obsy+V3q4r95gxYzBlyhS7hJTBgwfD09MTbW1tCAgIQFlZGUpLS9HU1ISwsDA8/vjjmDRpktMHJqPRiMcffxx+fn7IysqSejjkZDjT5IIqKytRWVmJOXPmoLm5GSEhIdDpdJg2bZrUQ+uXkpISvPTSS0hISEBCQgIeeeQRADcuiseOHYNGo8HBgwcRHBwMhUKByMhIu225Fut7qqur0draal62cpb6HJPJZJ7dqa+vNy8J9S3kllp7e/stR9iIheTOQOqu3IIgoKqqCnq9HhkZGejq6kJiYiLUajUmTZoEmUwGo9GIEydOIDMzE2fOnMHevXud4j18J2+//TaKi4vNm03IYTnkm4yhiaBQKLBu3TpERkZKPRSrM5lMOHnyJDQaDfLy8vDoo49CoVAgOjoaw4YNs8sY+tbnjBo1ytwp25G+tYtdzw0GA5qbm80zHc5y2HBXV5c5gHR0dJiD6vDhwx3qJt+34N3eM5KCIKC8vBw6nQ6ZmZmQyWRISkqCSqWyW4d+qZSXl2PVqlXYuHEj3n77bYYmx+aQb0SGJhdXVlaGRYsWobS0FMOHD5d6ODZlMplw9uxZpKamIjc3F+PHj0diYiJiY2MxcuRIu41ByhPk+3KWoNFffY+9GTlyJHx9fSUrJJe6K7cgCLh06RL0ej2ys7Ph5eWFpKQkJCcnY+zYsU79WveHWq3Ghg0b0NzcjC1btjA0OTaHfFMyNLmwlpYWLF68GBs3boRKpZJ6OHYlCAJKS0uh0WiQnZ2N0aNHQ6lUIi4uDj4+PnYbgy12Rd2NuKQl7v5ztiWt/hKXGmtqaszPs1hIbsulRnGXpbh0aO+u3IIg4Pz589Dr9cjJycGoUaOQnJyMpKQk+Pr6ukxQEmVlZSEnJwfvvfceDh06xNDk+BzyDcrQ5KK6u7sRHx+P6OhovPjii1IPR1LizUWj0SArKwtDhw5FYmIiEhISMGbMGLstmTQ3N6O6uhp1dXX97r9ztz9bLJ6uq6uDu7u7uc+Uqx1p0fu5qK2thYeHh1Wfi779vMSgZK8idZPJhG+//Rbp6enIy8vD2LFjoVKpoFAo7PZlwFFt2LABH3/8Mdzd3dHR0YGmpiaoVCp88sknUg+Nbo+hiRyDIAhYtWoVvL29sXXrVqmH41DEZQyNRgO9Xg9PT08kJCRAoVDYbRlD7PRcXV1t3q0m3tgt7UZ+u2364jLgQN2mfy+s0T5BDGFiV+4xY8ZgzJgxduscLy476/V65OfnY+LEiUhOTkZCQgJGjBhhlzE4G840OQWGJnIMhYWFCA8Pv+lMtzfeeAOxsbESj8yxCIKAf/zjH9BqtdDpdOjp6UF8fDySkpIwfvx4uy1vWNqNnA0h70/vRp2dnZ3mw5r71nfdb1duazCZTPjqq6+g0+lw8OBBBAUFITk5GbGxsXbb4ODMGJqcAkMTkbMSt2ZrtVpotVq0trYiLi4OCoXCvDXbHvp2IxcLyBsbG9He3m4+HsZZWhs4qp6eHnMhubiTcMiQIWhvb7+pBYOt68/6jun48ePQ6/U4cuQIZs2aBbVajejoaJfsRk8DnkNewBiaiO5BTU0N0tPTkZaWhuvXryMmJgYKhQJBQUE2DyticKqurkZnZydkMhnc3Nwgl8sHfDdyexJ3Oop1ZoMGDYLRaDS3YrBHz6ru7m4UFhZCp9Ph+PHjCA0NhVqtRkREhMvVo5HLYWgiGoiuX78OvV4PrVaLiooKREVFQalUWu24id6n2YtnhPVdouvu7jYvLQ2kbuT2dqeu3GKvqt5Lc3V1dfdUb3Y3nZ2dOHToEPR6Pb766iuEhYUhOTkZS5cuZT0auRKHvHAxNBFZUWNjI7KyspCWloaLFy8iIiICSqUSs2fP7leAEtsRiIXc/ambEZeWnLUbub3dT1fu1tZWcyE5AHOA6m9bgfb2dhQUFECn0+HcuXNYvHgxUlJSEBYW5lAd2InsyCEvVgxNRDbS0tKCnJwcpKWl4bvvvsOSJUugUCgwd+7c29bBiIXcNTU1aGxsxIgRI8wNGe+1bsZZupHbmy26cnd2dpoDVFdXlzms3unPbG1tRV5eHnQ6Hc6fP4/ly5cjOTkZCxYssFudFJEDY2giclXt7e3Iy8uDRqPBmTNnEBYWBqVSicDAQOj1enz99ddYsWIFvL294evri5EjR1p9VsjRupHbmz27couzfQaDAeXl5dBoNEhKSsKCBQuwf/9+6PV6lJWVISoqCikpKQgJCXGJ14CoHxiaiO7FQDuV/NKlS9iyZQv0ej1MJhNmzJiB+Ph4rFy50m69ffr2cZJiN5g9SN2VGwCqqqrw7rvvorCwEOfPn0dAQACefvpprF27dkAU7V+9ehUrV65EVVUV3NzcsHbtWqxfv17qYf2k4uJifPbZZzh+/Dj+9V//FfHx8QgICJB6WHQzhiaiezFQTiUvKirCSy+9BC8vLygUCnPDzMOHD0Oj0aCwsBAhISFQKBRYunSp3XZH2bIbuRSk7soN3NhdmZWVBb1ej4aGBsTFxUGtViMoKAinTp2CTqdDXl4e/P398dlnn9k1xFlbZWUlKisrMWfOHDQ3NyMkJAQ6nQ7Tpk2Temg3MRgMGDNmDM6fP49NmzYhKCgIERER+PTTT1FbW4vPP/9c6iHSzRiaiPprIJ1KXl9fD0EQ4O3tfdtfNxqNOHr0KNLS0nDw4EHMmDEDSqUSERERduvDY41u5FKQuiu3IAiorq5GRkYGMjIy0N7ejsTERKjVakyePPmOS60XL17EpEmT7DJGe1EoFFi3bh0iIyMlG4MgCJDJZCgoKMCePXtQUlKCuXPn4plnnsHUqVNx+fJlc6grLS3FypUrcfr0acnGS7fF0ETUX656KrnJZEJRURE0Gg3279+PwMBAKJVKREVF2XVJx9Ju5PbmCF25BUFARUUFdDodsrKyYDKZoFQqkZycjAkTJrjkTsWysjIsWrQIpaWlGD58uKRjKSgowB//+EcolUokJSXBaDSirq4Ojz/+OIB/Bqvdu3fjhx9+wOuvv866MsfikB8g7mV1MUOHDkVLSwsAICcnB+vXr0dBQQEOHDiAl19+GX5+fgCAdevWYfXq1QCAf/zjH1i9ejWuXr0KmUyGnJwcTJgwAU899RSKi4vh4eGBuXPn4n/+53+sesPKysrCmDFjEBISgkOHDlntz3UGbm5uWLhwIRYuXAiTyYTTp09Do9Fgy5YtePjhh6FQKBATE2Pzs8WGDBmCCRMmYMKECeb6oNLSUvM5bXK53K6zYI2Njaiurr6pDmvixIl2q8MSBAGXL1+GXq9HVlYWBg8eDJVKhc8//xzjxo1zyaAkamlpQXJyMrZu3Wr3wCQIAkwm003vg9/+9rf485//jMWLF5t/NnHiRPO/i7+/oKAAYWFhDExkEc40uRgxNBUUFGDt2rXIy8vDpEmT8Le//Q3FxcXYsWPHLf/PkiVLsHHjRkRGRqKlpQVubm4YMmQIcnJyEBMTAwD45S9/iUWLFuFXv/qV1cbKU8lvZTKZUFpaitTUVOTk5EAulyMxMRHx8fF3XPazhd470Xp6ejB69GjI5fJ+HXRrCZPJhIaGBlRXV9+04+9+2jD0lyAI+OGHH6DX65GdnY2RI0dCpVJBpVJhzJgxLh2URN3d3YiPj0d0dDRefPFFuz2uOFvUV11dHdasWYNXX30Vjz32GACgubkZ+/btw9ChQ/HEE08AAE6dOoVnn30WJSUldhszWcwhP1icaXJBR48exZo1a5CTk3PXeopvv/0WPT095vqE3ktDvQ/4nTt3LsrLy606zjfffBNvvvkmgH8esOnKgQm4MQM1c+ZMzJw5E3/4wx/w/fffQ6PRIDk5GSNGjDAHKF9fX5vezD09PeHv7w9/f39zN/ILFy5YpRv5nbpyT5kyxW6zASaTCd999x10Oh1yc3Mhl8uRnJyMvXv3YvTo0XYZg7MQBAHPPfccpk6davPAZDKZIAiCOTCL768LFy5g+/bt6O7uxr/9279h+PDh8PHxgcFgAABUVFTgl7/8Jdzc3ODh4WEOTXv27MHvfvc7/PDDD9i9ezdWrFiB4OBgm/4dyLlxpsnFeHh4YNiwYTh06BBmzpxp/vnf/vY3bNiwAb6+vggMDMQ777yD8ePHQ6fTYdeuXfD09MTly5cRERGBzZs33/Qtv7u7G/PmzcO2bdsQHh5uk3HzVPKfJggCLl68CI1Gg4yMDAwePBgJCQlQKBR46KGH7DYbcq/dyO+nK7e1mEwmnDt3Dunp6di/fz8efvhhqFQqJCYmYuTIkXYZgzMqLCxEeHg4ZsyYYQ61b7zxxk1fqu5VR0cHjEbjHWcwy8vL8d5776GkpATR0dEYPHgw/vKXv+CLL77ABx98gMDAQDz//PMA/jkrFRERgU2bNmHOnDkYO3YsvLy8MGXKFAQHB+O3v/0t/P3973vcZBUOOdPE0ORihgwZgmXLlmHSpEnYtm2b+ed1dXUYOnQoBg8ejJ07d+Lvf/87Dhw4AI1Gg+eeew5nzpxBQEAAnnzyScTGxuK5554z/79r1qzBgw8+iK1bt0rwN6K+BEHAlStXkJaWBp1OB0EQkJCQAKVSCX9/f7uFkLt1I7dFV+7+MplMKC4uhl6vR0FBAaZMmQKVSoW4uDjJC5ldXVlZGf785z8jNDQUK1euhCAIKCoqwkcffQSDwYB169Zh2bJl+M1vfoPCwkIUFRUBANavX4/HHnsMPT09KCwshEqlglKpBHCjOPzTTz/F73//e7S2tmLfvn2IiorC1KlTJfyb0h0wNJH0hg4dCoPBgIiICMTHx+M///M/b/k9RqMR3t7eaGxsRFFREV555RVzIfbHH3+MoqIivPvuuwCA3//+9zhz5gy0Wi0LKR2QIAiorKxEWloatFot2tvbER8fD4VCgUceecSu4aS+vh6VlZW4fv06gBtLjWPHjjXXQtkzzBUVFUGn0+HIkSOYOXMmVCoVYmJinLpfkrMzGAz405/+hC1btkAQBFy/fh27d+9GY2MjNm3ahPr6erz88suIiopCWFgYQkNDsXfvXly8eBEHDhzAf/zHfyAoKAj/+7//i5KSEuzYsQPvv/8+tFotxo4di5KSEvj5+eHnP/85VqxYccv1ymg0QiaT8TrmOBwyNLGmyQUNGTIEWVlZCA8Ph1wux3PPPYfKykqMHTsWAJCRkWH+5hUaGor6+nrU1NTA19cXBw4cMG/Z3bVrF/bt24eCggJeaByUTCbDuHHj8Pzzz2PdunUwGAxIT0/HSy+9hPr6esTGxkKhUGDKlCk2Cy0dHR2oqamBwWCAyWTC+PHj4eXlZT6QuK2tzebdyLu7u3Hs2DHodDp8+eWXCAkJQUpKCt5++227NRGln+bj44O3334bW7ZsgUwmg4+PD6ZNm4bU1FQ0Njbi448/xrhx49DQ0IBf//rXcHNzQ3NzMyZMmIDu7m7k5+cjKCgIEyZMwBdffAEA+NWvfoUnn3wS2dnZ+N3vfodHH330pscUBAGCIMDNzW1AdcIn2+FMk4vp3XLg6tWrWLRoEbZu3YqioiJkZGTA3d0d3t7eeP/99xEUFAQAyM/Px0svvQRBEBASEoIPPvgAnp6ecHd3x8MPP4xhw4YBAFQqFf7rv/5Lsr8b9U9dXR30ej20Wi0qKysRFRWFpKQkTJs27b5DcHt7O6qrq1FTUwOZTGZuNtm3v5MgCGhqaoLBYLipG7mvry/c3e/vO11XVxcOHz4MnU6Hr776CgsXLkRycjKWLl3q0I06XdkvfvELPPPMM/Dz88Pu3buRmZmJUaNGYfv27aiqqkJycjI2bdqE0NBQLFu2DMCN13njxo04cuQIwsLCkJmZiTfeeANqtfq2j2E0GhmQnINDzjQxNBERGhoakJmZCa1Wi8uXLyMyMhIKhQKzZs2yOECJXblra2vh7u7e767c1uhG3tHRgYKCAuj1epw5cwaLFy9GSkoKwsPD7zuEke2dPHkS8+fPh0KhQHh4OJYvX45Dhw6hpaUFL7zwAgIDA/H999+b+5Pt3LkTq1atglarxenTpxEcHAylUnnb9ht3ak9ADsshXyyGJiK6SXNzM3JycqDRaHD+/HksXboUSqUSoaGhNwWovl25H3jgAcjlcqt15Ra7kRsMBgwaNOiO3chbW1uRn58PnU6H7777DsuWLYNarcbChQs5o+Bkenp64OPjg8bGRvPPNBoN8vLy8O677+Kdd97BuXPn0NzcjAsXLmD27NnYsWMHfvzxR3z44YdQKpWIjo7mbNLAwNBERM6lvb0dubm5SEtLw9mzZxEeHo7Jkyfj7NmzOHnyJD744AMEBATYtB4JgLkbeWZmJj755BNERERg7Nix+PLLL3Hx4kVERUVBrVbfEuzI+SgUCvz7v/87oqOjAQBnz57F1q1bkZiYCJVKha+//hoXLlzAsmXLzK0gmpub8f7772PhwoUICwuTcPRkRQxNRANdQ0MDVq9ejdLSUshkMnz44YdYsGCB1MO6Lz09PThy5AhSU1ORm5uLBx98EMOHD8fUqVOhUqkQFhZml/PeGhoakJ2dDb1ej4aGBlRVVcHLywtPPvkk1Gq1uQZvIMjNzcX69ethNBqxevVqvPLKK1IPyW4OHz6Md999F3//+98B3DjoWizy7t1bDri12SUNKAxNRAPdqlWrEB4ejtWrV6OrqwttbW1O3RixoqICMTExCAsLQ3JyMhYtWgQPDw90d3fj4MGDSEtLQ2FhIUJDQ6FQKLBkyRKr7karra1FVlYW9Ho9rl+/jri4OKjVagQHB0Mmk6G+vh5ZWVnmlhdpaWlWe2ypGI1GBAYGIj8/H/7+/ggNDcXnn3+OadOmST00u+jq6sL48eNRXV19x9/D+iSX4JAvMEMTkZU0NTXhsccew6VLlwbMBb33luw7EZsIpqam4vDhw5g5cyaUSiWWL1/e78N8BUFAdXU1MjMzodfr0dbWhoSEBKjVagQGBt61q/hAmHE4fvw4XnvtNezbtw8AzEcJbdiwQcph2ZXJZLrlPceg5HIc8sXmdhIiK7l06RJ8fX3xzDPPoKSkBCEhIdi2bZvVD7G1J5lMdtcblbu7O5YsWYIlS5bAaDTi+PHjSEtLw6ZNmxAUFASlUomoqKg7Pg+CIODatWvQ6XTIzMyE0WiEUqnErl27MHHiRItvlAMhMAE3ZvfGjx9v/m9/f3+cOHFCwhHZn5ub2y3BiYGJHAFDE5GV9PT04PTp09i+fTvmzZuH9evXY/Pmzdi0aZPUQ7ObQYMGISwsDGFhYTCZTDh16hRSU1Px1ltvYeLEiUhMTERMTAyGDRuGK1euQK/XIzMzEx4eHkhKSsKnn35q16NeHNHtZv9d8flgQT85IoYmIivx9/eHv78/5s2bBwBQq9XYvHmzxKOSjpubG0JDQxEaGorNmzfj3Llz0Gg0iI6OhsFgQHBwMFQqFbRaLeRyuUsGg9vx9/fH1atXzf9dXl6OcePGSTgiIhKxponIisLDw7Fr1y5MmTIFr732GlpbW/HWW29JPSyHIggCysrKMHHiRKmH4pB6enoQGBiIgoIC+Pn5ITQ0FJ999hmCg4OlHhqRPTnktyjONBFZ0fbt2/HUU0+hq6sLjzzyCHbv3i31kByOTCZjYPoJ7u7u2LFjh7lJ47PPPsvAROQgONNEREREjsYhZ5pYaUdERERkAYYmIiIiIgswNBERERFZgKGJiIiIyAIMTUREREQWYGgiIiIisgBDE5GLe+eddxAcHIzp06fjF7/4BTo6OqQekk28/PLLCAoKwsyZM5GUlISGhgaph0REToahiciFVVRU4C9/+QuKi4tRWloKo9GIL774Quph2URkZCRKS0tx7tw5BAYG4s0335R6SETkZBiaiFxcT08P2tvb0dPTg7a2tgF7zllUVBTc3W8cgjB//nyUl5dLPCIicjYMTUQuzM/PD7/5zW8QEBCAsWPHYsSIEYiKipJ6WDb34YcfIiYmRuphEJGTYWgicmH19fXQ6/W4fPkyrl27htbWVnzyySdSD+ueRUREYPr06bf8o9frzb/n9ddfh7u7O5566ikJR0pEzogH9hK5sP3792PixInw9fUFAKhUKnz55ZdYsWKFxCO7N/v37//JX//oo4+QlZWFgoICyGQOebQVETkwzjQRubCAgAAUFRWhra0NgiCgoKAAU6dOlXpYNpGbm4v//u//RkZGBoYMGSL1cIjICckEQfipX//JXyQi5/fqq69iz549cHd3x+zZs7Fr1y4MHjxY6mFZ3eTJk9HZ2QkfHx8AN4rBd+7cKfGoiOgOHHIqmKGJiIiIHI1DhiYuzxERERFZgKGJiIiIyAIMTUREREQWYGgiIiIisgBDExEREZEFGJqIiIiILMDQRERERGQBhiYiIiIiCzA0EREREVmAoYmIiIjIAgxNRERERBZgaCIiIiKyAEMTERERkQUYmoiIiIgswNBEREREZAGGJiIiIiILMDQRERERWYChiYiIiMgCDE1EREREFmBoIiIiIrIAQxMRERGRBRiaiIiIiCzA0ERERERkAYYmIiIiIgswNBERERFZgKGJiIiIyAIMTUREREQWYGgiIiIisgBDExEREZEFGJqIiIiILMDQRERERGQBhiYiIiIiCzA0EREREVmAoYmIiIjIAgxNRERERBZgaCIiIiKyAEMTERERkQUYmoiIiIgswNBEREREZAGGJiIiIiILMDQRERERWYChiYiIiMgCDE1EREREFmBoIiIiIrIAQxMRERGRBRiaiIiIiCzA0ERERERkAYYmIiIiIgswNBERERFZgKGJiIiIyAIMTUREREQWYGgiIiIisgBDExEREZEFGJqIiIiILMDQRERERGQBhiYiIiIiC7jf5ddldhkFERERkYPjTBMRERGRBRiaiIiIiCzA0ERERERkAYYmIiIiIgswNBERERFZgKGJiIiIyAL/D1Tk/7aB6rseAAAAAElFTkSuQmCC\n",
      "text/plain": [
       "<Figure size 1080x720 with 1 Axes>"
      ]
     },
     "metadata": {
      "needs_background": "light"
     },
     "output_type": "display_data"
    }
   ],
   "source": [
    "#------------------ Select best sequences ------------------\n",
    "best_entropy_idxs = torch.argmin(entropy_tensor, dim=0)\n",
    "best_entropies = []\n",
    "best_predictions = []\n",
    "best_sequences = []\n",
    "for idx, best_idx in enumerate(best_entropy_idxs.tolist()):\n",
    "    best_entropies.append(entropy_tensor[best_idx, idx])\n",
    "    best_predictions.append(prediction_tensor[best_idx, idx, :])\n",
    "    best_sequences.append(sequences_tensor[best_idx, idx, :, 200:400])\n",
    "    \n",
    "best_entropies = torch.tensor(best_entropies)\n",
    "best_predictions = torch.stack(best_predictions, dim=0)\n",
    "best_sequences = torch.stack(best_sequences, dim=0)\n",
    "\n",
    "#------------------ Plot entropy distribution ------------------\n",
    "sns.displot(data=best_entropies, kind='kde', fill=True, height=5, aspect=10/6)\n",
    "plt.xlim(0, 1)\n",
    "plt.xlabel('Entropy')\n",
    "plt.show()\n",
    "\n",
    "#------------------ Plot activities in 3D ------------------\n",
    "xdata = best_predictions[:,0].cpu().detach().numpy()\n",
    "ydata = best_predictions[:,1].cpu().detach().numpy()\n",
    "zdata = best_predictions[:,2].cpu().detach().numpy()\n",
    "\n",
    "fig = plt.figure(figsize=(15, 10))\n",
    "ax = plt.axes(projection='3d')\n",
    "\n",
    "# Data for a three-dimensional line\n",
    "xAxisLine = ((-2, 8), (0, 0), (0,0))\n",
    "ax.plot(xAxisLine[0], xAxisLine[1], xAxisLine[2], 'r')\n",
    "yAxisLine = ((0, 0), (-2, 8), (0,0))\n",
    "ax.plot(yAxisLine[0], yAxisLine[1], yAxisLine[2], 'r')\n",
    "zAxisLine = ((0, 0), (0,0), (-2, 8))\n",
    "ax.plot(zAxisLine[0], zAxisLine[1], zAxisLine[2], 'r')\n",
    "\n",
    "ax.scatter3D(xdata, ydata, zdata, c='blue')\n",
    "ax.set_xlabel(\"K562\")\n",
    "ax.set_ylabel(\"HepG2\")\n",
    "ax.set_zlabel(\"SKNSH\")\n",
    "ax.view_init(15, -45)\n",
    "plt.show()"
   ]
  },
  {
   "cell_type": "code",
   "execution_count": 12,
   "metadata": {},
   "outputs": [],
   "source": [
    "file_name = 'k562_1000dist_castro.txt'\n",
    "batch2fasta(best_sequences, file_name)"
   ]
  },
  {
   "cell_type": "markdown",
   "metadata": {},
   "source": [
    "## Analyse with STREME"
   ]
  },
  {
   "cell_type": "code",
   "execution_count": 2,
   "metadata": {
    "scrolled": false
   },
   "outputs": [
    {
     "name": "stdout",
     "output_type": "stream",
     "text": [
      "********************************************************************************\n",
      "STREME - Sensitive, Thorough, Rapid, Enriched Motif Elicitation\n",
      "********************************************************************************\n",
      "MEME version 5.4.0 (Release date: Sat Aug 21 19:23:23 2021 -0700)\n",
      "\n",
      "For further information on how to interpret these results please access https://meme-suite.org/meme.\n",
      "To get a copy of the MEME Suite software please access https://meme-suite.org.\n",
      "\n",
      "********************************************************************************\n",
      "\n",
      "\n",
      "********************************************************************************\n",
      "REFERENCE\n",
      "********************************************************************************\n",
      "If you use this program in your research, please cite:\n",
      "\n",
      "Timothy L. Bailey,\n",
      "\"STREME: accurate and versatile sequence motif discovery\",\n",
      "Bioinformatics, Mar. 24, 2021.\n",
      "********************************************************************************\n",
      "\n",
      "\n",
      "ALPHABET= ACGT\n",
      "\n",
      "strands: + -\n",
      "\n",
      "Background letter frequencies\n",
      "A 0.253 C 0.247 G 0.247 T 0.253 \n",
      "\n",
      "MOTIF 1-AGAGATAAGGHG STREME-1\n",
      "letter-probability matrix: alength= 4 w= 12 nsites= 973 E= 1.4e-035\n",
      " 0.693660 0.088330 0.079975 0.138035\n",
      " 0.059519 0.256921 0.594702 0.088857\n",
      " 0.869458 0.027337 0.002424 0.100781\n",
      " 0.000044 0.000042 0.999871 0.000044\n",
      " 0.997490 0.000042 0.001233 0.001234\n",
      " 0.001235 0.000042 0.000042 0.998680\n",
      " 0.997490 0.000042 0.001233 0.001234\n",
      " 0.992726 0.000042 0.001233 0.005998\n",
      " 0.002426 0.017316 0.979024 0.001234\n",
      " 0.175492 0.041512 0.761507 0.021489\n",
      " 0.307017 0.213047 0.106049 0.373887\n",
      " 0.156509 0.072014 0.551944 0.219533\n",
      "\n",
      "MOTIF 2-SARCTGTCAA STREME-2\n",
      "letter-probability matrix: alength= 4 w= 10 nsites= 676 E= 4.5e-021\n",
      " 0.025660 0.554386 0.318692 0.101261\n",
      " 0.932801 0.014751 0.037622 0.014826\n",
      " 0.325317 0.182108 0.444582 0.047992\n",
      " 0.012905 0.689200 0.266026 0.031869\n",
      " 0.003735 0.003734 0.000065 0.992466\n",
      " 0.000067 0.000065 0.999801 0.000067\n",
      " 0.000067 0.005566 0.000065 0.994301\n",
      " 0.000067 0.999801 0.000065 0.000067\n",
      " 0.950763 0.001899 0.047271 0.000067\n",
      " 0.667974 0.170212 0.063276 0.098538\n",
      "\n",
      "MOTIF 3-AGATAASACH STREME-3\n",
      "letter-probability matrix: alength= 4 w= 10 nsites= 717 E= 8.2e-009\n",
      " 0.754792 0.093196 0.000078 0.151935\n",
      " 0.000080 0.000078 0.999763 0.000080\n",
      " 0.999765 0.000078 0.000078 0.000080\n",
      " 0.000080 0.000078 0.000078 0.999765\n",
      " 0.999765 0.000078 0.000078 0.000080\n",
      " 0.995396 0.000078 0.004447 0.000080\n",
      " 0.021985 0.429932 0.548004 0.000080\n",
      " 0.777384 0.024163 0.173517 0.024936\n",
      " 0.104354 0.627350 0.209703 0.058593\n",
      " 0.201659 0.379552 0.127887 0.290902\n",
      "\n",
      "MOTIF 4-CCTCGACGGS STREME-4\n",
      "letter-probability matrix: alength= 4 w= 10 nsites= 367 E= 6.7e-006\n",
      " 0.032650 0.912813 0.013326 0.041210\n",
      " 0.067231 0.710748 0.211229 0.010792\n",
      " 0.000123 0.000120 0.003494 0.996263\n",
      " 0.016993 0.976017 0.006867 0.000123\n",
      " 0.000123 0.028537 0.967843 0.003497\n",
      " 0.979393 0.020364 0.000120 0.000123\n",
      " 0.103575 0.770701 0.047505 0.078218\n",
      " 0.094205 0.027117 0.861677 0.017000\n",
      " 0.199794 0.102387 0.494555 0.203265\n",
      " 0.033871 0.500639 0.336518 0.128972\n",
      "\n",
      "MOTIF 5-AGATAAGG STREME-5\n",
      "letter-probability matrix: alength= 4 w= 8 nsites= 338 E= 6.3e-003\n",
      " 0.657757 0.098892 0.016689 0.226662\n",
      " 0.000598 0.000348 0.998713 0.000341\n",
      " 0.980097 0.006123 0.007356 0.006424\n",
      " 0.035193 0.000332 0.001608 0.962867\n",
      " 0.929374 0.000343 0.011220 0.059063\n",
      " 0.923758 0.038520 0.022721 0.015001\n",
      " 0.062809 0.030145 0.864939 0.042107\n",
      " 0.000341 0.146788 0.710329 0.142542\n",
      "\n",
      "MOTIF 6-MRCACGTGYK STREME-6\n",
      "letter-probability matrix: alength= 4 w= 10 nsites= 333 E= 1.0e-001\n",
      " 0.422372 0.228752 0.187861 0.161014\n",
      " 0.370133 0.146693 0.483051 0.000123\n",
      " 0.000123 0.999635 0.000120 0.000123\n",
      " 0.910756 0.000120 0.089001 0.000123\n",
      " 0.000123 0.693048 0.218666 0.088163\n",
      " 0.088163 0.218666 0.693048 0.000123\n",
      " 0.000123 0.089001 0.000120 0.910756\n",
      " 0.000123 0.000120 0.999635 0.000123\n",
      " 0.000123 0.483051 0.146693 0.370133\n",
      " 0.161014 0.187861 0.228752 0.422372\n",
      "\n",
      "MOTIF 7-VCVMATKBGB STREME-7\n",
      "letter-probability matrix: alength= 4 w= 10 nsites= 333 E= 4.7e-001\n",
      " 0.310065 0.197319 0.349903 0.142714\n",
      " 0.108721 0.518323 0.238384 0.134572\n",
      " 0.236855 0.308983 0.360519 0.093642\n",
      " 0.633534 0.366200 0.000131 0.000135\n",
      " 0.999602 0.000131 0.000131 0.000135\n",
      " 0.000135 0.000131 0.000131 0.999602\n",
      " 0.000135 0.000131 0.366200 0.633534\n",
      " 0.093642 0.360519 0.308983 0.236855\n",
      " 0.134572 0.238384 0.518323 0.108721\n",
      " 0.142714 0.349903 0.197319 0.310065\n",
      "\n",
      "MOTIF 8-RCTACTSS STREME-8\n",
      "letter-probability matrix: alength= 4 w= 8 nsites= 157 E= 1.7e+000\n",
      " 0.572766 0.051302 0.375596 0.000335\n",
      " 0.000335 0.698191 0.301138 0.000335\n",
      " 0.000335 0.000327 0.000327 0.999011\n",
      " 0.999011 0.000327 0.000327 0.000335\n",
      " 0.000335 0.800870 0.198459 0.000335\n",
      " 0.000335 0.297904 0.000327 0.701434\n",
      " 0.162327 0.533810 0.303527 0.000335\n",
      " 0.214830 0.496442 0.288392 0.000335\n",
      "\n",
      "MOTIF 9-TGACAGTT STREME-9\n",
      "letter-probability matrix: alength= 4 w= 8 nsites= 113 E= 3.7e+000\n",
      " 0.022229 0.013478 0.050437 0.913856\n",
      " 0.047784 0.006083 0.945469 0.000664\n",
      " 0.958127 0.037012 0.000647 0.004213\n",
      " 0.032192 0.940912 0.015193 0.011703\n",
      " 0.939914 0.013044 0.025023 0.022019\n",
      " 0.004161 0.016810 0.923804 0.055226\n",
      " 0.207664 0.016598 0.091706 0.684033\n",
      " 0.043812 0.086995 0.027603 0.841591\n",
      "\n",
      "MOTIF 10-CGCGCGYCG STREME-10\n",
      "letter-probability matrix: alength= 4 w= 9 nsites= 67 E= 5.0e+000\n",
      " 0.000699 0.844643 0.153959 0.000699\n",
      " 0.000699 0.000682 0.997920 0.000699\n",
      " 0.000699 0.844735 0.096424 0.058142\n",
      " 0.000699 0.050618 0.947984 0.000699\n",
      " 0.000699 0.825400 0.000682 0.173219\n",
      " 0.000699 0.104435 0.894166 0.000699\n",
      " 0.000699 0.376057 0.035392 0.587851\n",
      " 0.169763 0.828856 0.000682 0.000699\n",
      " 0.000699 0.000682 0.837336 0.161283\n",
      "\n",
      "********************************************************************************\n",
      "Stopped because 3 consecutive motifs exceeded the p-value threshold (0.05).\n",
      "********************************************************************************\n",
      "COMMAND:\tstreme --p /home/ubuntu/boda2/analysis/RC04_FastSeqProp_MotifPenalty/k562_1000dist_castro.txt --text\n",
      "********************************************************************************\n",
      "CPU:\t\t376587d8bb94\n",
      "********************************************************************************\n",
      "FINALTIME:\t31.66 seconds\n",
      "********************************************************************************\n",
      "\n"
     ]
    }
   ],
   "source": [
    "file_name = 'k562_1000dist_castro.txt'\n",
    "test_seq_file = '/home/ubuntu/boda2/analysis/RC04_FastSeqProp_MotifPenalty/' + file_name\n",
    "\n",
    "streme_results = streme(test_seq_file)\n",
    "for i, line in enumerate(streme_results['output'].decode(\"utf-8\").split('\\n')):\n",
    "    print(line)"
   ]
  },
  {
   "cell_type": "code",
   "execution_count": 3,
   "metadata": {
    "scrolled": false
   },
   "outputs": [
    {
     "name": "stdout",
     "output_type": "stream",
     "text": [
      "{'meta_data': {'alphabet': ['A', 'C', 'G', 'T'], 'frequencies': {'A': 0.253, 'C': 0.247, 'G': 0.247, 'T': 0.253}}, 'motif_results': [{'tag': 'AGAGATAAGGHG', 'summary': {'alength': 4, 'w': 12, 'nsites': 973, 'E': 1.4e-35}, 'ppm': array([[6.93660e-01, 5.95190e-02, 8.69458e-01, 4.40000e-05, 9.97490e-01,\n",
      "        1.23500e-03, 9.97490e-01, 9.92726e-01, 2.42600e-03, 1.75492e-01,\n",
      "        3.07017e-01, 1.56509e-01],\n",
      "       [8.83300e-02, 2.56921e-01, 2.73370e-02, 4.20000e-05, 4.20000e-05,\n",
      "        4.20000e-05, 4.20000e-05, 4.20000e-05, 1.73160e-02, 4.15120e-02,\n",
      "        2.13047e-01, 7.20140e-02],\n",
      "       [7.99750e-02, 5.94702e-01, 2.42400e-03, 9.99871e-01, 1.23300e-03,\n",
      "        4.20000e-05, 1.23300e-03, 1.23300e-03, 9.79024e-01, 7.61507e-01,\n",
      "        1.06049e-01, 5.51944e-01],\n",
      "       [1.38035e-01, 8.88570e-02, 1.00781e-01, 4.40000e-05, 1.23400e-03,\n",
      "        9.98680e-01, 1.23400e-03, 5.99800e-03, 1.23400e-03, 2.14890e-02,\n",
      "        3.73887e-01, 2.19533e-01]])}, {'tag': 'SARCTGTCAA', 'summary': {'alength': 4, 'w': 10, 'nsites': 676, 'E': 4.5e-21}, 'ppm': array([[2.56600e-02, 9.32801e-01, 3.25317e-01, 1.29050e-02, 3.73500e-03,\n",
      "        6.70000e-05, 6.70000e-05, 6.70000e-05, 9.50763e-01, 6.67974e-01],\n",
      "       [5.54386e-01, 1.47510e-02, 1.82108e-01, 6.89200e-01, 3.73400e-03,\n",
      "        6.50000e-05, 5.56600e-03, 9.99801e-01, 1.89900e-03, 1.70212e-01],\n",
      "       [3.18692e-01, 3.76220e-02, 4.44582e-01, 2.66026e-01, 6.50000e-05,\n",
      "        9.99801e-01, 6.50000e-05, 6.50000e-05, 4.72710e-02, 6.32760e-02],\n",
      "       [1.01261e-01, 1.48260e-02, 4.79920e-02, 3.18690e-02, 9.92466e-01,\n",
      "        6.70000e-05, 9.94301e-01, 6.70000e-05, 6.70000e-05, 9.85380e-02]])}, {'tag': 'AGATAASACH', 'summary': {'alength': 4, 'w': 10, 'nsites': 717, 'E': 8.2e-09}, 'ppm': array([[7.54792e-01, 8.00000e-05, 9.99765e-01, 8.00000e-05, 9.99765e-01,\n",
      "        9.95396e-01, 2.19850e-02, 7.77384e-01, 1.04354e-01, 2.01659e-01],\n",
      "       [9.31960e-02, 7.80000e-05, 7.80000e-05, 7.80000e-05, 7.80000e-05,\n",
      "        7.80000e-05, 4.29932e-01, 2.41630e-02, 6.27350e-01, 3.79552e-01],\n",
      "       [7.80000e-05, 9.99763e-01, 7.80000e-05, 7.80000e-05, 7.80000e-05,\n",
      "        4.44700e-03, 5.48004e-01, 1.73517e-01, 2.09703e-01, 1.27887e-01],\n",
      "       [1.51935e-01, 8.00000e-05, 8.00000e-05, 9.99765e-01, 8.00000e-05,\n",
      "        8.00000e-05, 8.00000e-05, 2.49360e-02, 5.85930e-02, 2.90902e-01]])}, {'tag': 'CCTCGACGGS', 'summary': {'alength': 4, 'w': 10, 'nsites': 367, 'E': 6.7e-06}, 'ppm': array([[3.26500e-02, 6.72310e-02, 1.23000e-04, 1.69930e-02, 1.23000e-04,\n",
      "        9.79393e-01, 1.03575e-01, 9.42050e-02, 1.99794e-01, 3.38710e-02],\n",
      "       [9.12813e-01, 7.10748e-01, 1.20000e-04, 9.76017e-01, 2.85370e-02,\n",
      "        2.03640e-02, 7.70701e-01, 2.71170e-02, 1.02387e-01, 5.00639e-01],\n",
      "       [1.33260e-02, 2.11229e-01, 3.49400e-03, 6.86700e-03, 9.67843e-01,\n",
      "        1.20000e-04, 4.75050e-02, 8.61677e-01, 4.94555e-01, 3.36518e-01],\n",
      "       [4.12100e-02, 1.07920e-02, 9.96263e-01, 1.23000e-04, 3.49700e-03,\n",
      "        1.23000e-04, 7.82180e-02, 1.70000e-02, 2.03265e-01, 1.28972e-01]])}, {'tag': 'AGATAAGG', 'summary': {'alength': 4, 'w': 8, 'nsites': 338, 'E': 0.0063}, 'ppm': array([[6.57757e-01, 5.98000e-04, 9.80097e-01, 3.51930e-02, 9.29374e-01,\n",
      "        9.23758e-01, 6.28090e-02, 3.41000e-04],\n",
      "       [9.88920e-02, 3.48000e-04, 6.12300e-03, 3.32000e-04, 3.43000e-04,\n",
      "        3.85200e-02, 3.01450e-02, 1.46788e-01],\n",
      "       [1.66890e-02, 9.98713e-01, 7.35600e-03, 1.60800e-03, 1.12200e-02,\n",
      "        2.27210e-02, 8.64939e-01, 7.10329e-01],\n",
      "       [2.26662e-01, 3.41000e-04, 6.42400e-03, 9.62867e-01, 5.90630e-02,\n",
      "        1.50010e-02, 4.21070e-02, 1.42542e-01]])}, {'tag': 'MRCACGTGYK', 'summary': {'alength': 4, 'w': 10, 'nsites': 333, 'E': 0.1}, 'ppm': array([[4.22372e-01, 3.70133e-01, 1.23000e-04, 9.10756e-01, 1.23000e-04,\n",
      "        8.81630e-02, 1.23000e-04, 1.23000e-04, 1.23000e-04, 1.61014e-01],\n",
      "       [2.28752e-01, 1.46693e-01, 9.99635e-01, 1.20000e-04, 6.93048e-01,\n",
      "        2.18666e-01, 8.90010e-02, 1.20000e-04, 4.83051e-01, 1.87861e-01],\n",
      "       [1.87861e-01, 4.83051e-01, 1.20000e-04, 8.90010e-02, 2.18666e-01,\n",
      "        6.93048e-01, 1.20000e-04, 9.99635e-01, 1.46693e-01, 2.28752e-01],\n",
      "       [1.61014e-01, 1.23000e-04, 1.23000e-04, 1.23000e-04, 8.81630e-02,\n",
      "        1.23000e-04, 9.10756e-01, 1.23000e-04, 3.70133e-01, 4.22372e-01]])}, {'tag': 'VCVMATKBGB', 'summary': {'alength': 4, 'w': 10, 'nsites': 333, 'E': 0.47}, 'ppm': array([[3.10065e-01, 1.08721e-01, 2.36855e-01, 6.33534e-01, 9.99602e-01,\n",
      "        1.35000e-04, 1.35000e-04, 9.36420e-02, 1.34572e-01, 1.42714e-01],\n",
      "       [1.97319e-01, 5.18323e-01, 3.08983e-01, 3.66200e-01, 1.31000e-04,\n",
      "        1.31000e-04, 1.31000e-04, 3.60519e-01, 2.38384e-01, 3.49903e-01],\n",
      "       [3.49903e-01, 2.38384e-01, 3.60519e-01, 1.31000e-04, 1.31000e-04,\n",
      "        1.31000e-04, 3.66200e-01, 3.08983e-01, 5.18323e-01, 1.97319e-01],\n",
      "       [1.42714e-01, 1.34572e-01, 9.36420e-02, 1.35000e-04, 1.35000e-04,\n",
      "        9.99602e-01, 6.33534e-01, 2.36855e-01, 1.08721e-01, 3.10065e-01]])}, {'tag': 'RCTACTSS', 'summary': {'alength': 4, 'w': 8, 'nsites': 157, 'E': 1.7}, 'ppm': array([[5.72766e-01, 3.35000e-04, 3.35000e-04, 9.99011e-01, 3.35000e-04,\n",
      "        3.35000e-04, 1.62327e-01, 2.14830e-01],\n",
      "       [5.13020e-02, 6.98191e-01, 3.27000e-04, 3.27000e-04, 8.00870e-01,\n",
      "        2.97904e-01, 5.33810e-01, 4.96442e-01],\n",
      "       [3.75596e-01, 3.01138e-01, 3.27000e-04, 3.27000e-04, 1.98459e-01,\n",
      "        3.27000e-04, 3.03527e-01, 2.88392e-01],\n",
      "       [3.35000e-04, 3.35000e-04, 9.99011e-01, 3.35000e-04, 3.35000e-04,\n",
      "        7.01434e-01, 3.35000e-04, 3.35000e-04]])}, {'tag': 'TGACAGTT', 'summary': {'alength': 4, 'w': 8, 'nsites': 113, 'E': 3.7}, 'ppm': array([[2.22290e-02, 4.77840e-02, 9.58127e-01, 3.21920e-02, 9.39914e-01,\n",
      "        4.16100e-03, 2.07664e-01, 4.38120e-02],\n",
      "       [1.34780e-02, 6.08300e-03, 3.70120e-02, 9.40912e-01, 1.30440e-02,\n",
      "        1.68100e-02, 1.65980e-02, 8.69950e-02],\n",
      "       [5.04370e-02, 9.45469e-01, 6.47000e-04, 1.51930e-02, 2.50230e-02,\n",
      "        9.23804e-01, 9.17060e-02, 2.76030e-02],\n",
      "       [9.13856e-01, 6.64000e-04, 4.21300e-03, 1.17030e-02, 2.20190e-02,\n",
      "        5.52260e-02, 6.84033e-01, 8.41591e-01]])}, {'tag': 'CGCGCGYCG', 'summary': {'alength': 4, 'w': 9, 'nsites': 67, 'E': 5}, 'ppm': array([[6.99000e-04, 6.99000e-04, 6.99000e-04, 6.99000e-04, 6.99000e-04,\n",
      "        6.99000e-04, 6.99000e-04, 1.69763e-01, 6.99000e-04],\n",
      "       [8.44643e-01, 6.82000e-04, 8.44735e-01, 5.06180e-02, 8.25400e-01,\n",
      "        1.04435e-01, 3.76057e-01, 8.28856e-01, 6.82000e-04],\n",
      "       [1.53959e-01, 9.97920e-01, 9.64240e-02, 9.47984e-01, 6.82000e-04,\n",
      "        8.94166e-01, 3.53920e-02, 6.82000e-04, 8.37336e-01],\n",
      "       [6.99000e-04, 6.99000e-04, 5.81420e-02, 6.99000e-04, 1.73219e-01,\n",
      "        6.99000e-04, 5.87851e-01, 6.99000e-04, 1.61283e-01]])}]}\n"
     ]
    }
   ],
   "source": [
    "parsed_output = parse_streme_output(streme_results['output'])\n",
    "print(parsed_output)"
   ]
  },
  {
   "cell_type": "code",
   "execution_count": 4,
   "metadata": {},
   "outputs": [
    {
     "ename": "ImportError",
     "evalue": "cannot import name 'matrix_to_dms' from 'boda.generator.plot_tools' (/home/ubuntu/boda2/boda/generator/plot_tools.py)",
     "output_type": "error",
     "traceback": [
      "\u001b[0;31m---------------------------------------------------------------------------\u001b[0m",
      "\u001b[0;31mImportError\u001b[0m                               Traceback (most recent call last)",
      "\u001b[0;32m<ipython-input-4-a22ef2d20cb9>\u001b[0m in \u001b[0;36m<module>\u001b[0;34m\u001b[0m\n\u001b[0;32m----> 1\u001b[0;31m \u001b[0;32mfrom\u001b[0m \u001b[0mboda\u001b[0m\u001b[0;34m.\u001b[0m\u001b[0mgenerator\u001b[0m\u001b[0;34m.\u001b[0m\u001b[0mplot_tools\u001b[0m \u001b[0;32mimport\u001b[0m \u001b[0mmatrix_to_dms\u001b[0m\u001b[0;34m,\u001b[0m \u001b[0mppm_to_IC\u001b[0m\u001b[0;34m\u001b[0m\u001b[0;34m\u001b[0m\u001b[0m\n\u001b[0m",
      "\u001b[0;31mImportError\u001b[0m: cannot import name 'matrix_to_dms' from 'boda.generator.plot_tools' (/home/ubuntu/boda2/boda/generator/plot_tools.py)"
     ]
    }
   ],
   "source": [
    "from boda.generator.plot_tools import matrix_to_dms, ppm_to_IC"
   ]
  },
  {
   "cell_type": "code",
   "execution_count": 16,
   "metadata": {},
   "outputs": [],
   "source": [
    "temp_tensor = ppm_to_IC(torch.tensor(parsed_output['motif_results'][0]['ppm']))"
   ]
  },
  {
   "cell_type": "code",
   "execution_count": 17,
   "metadata": {},
   "outputs": [
    {
     "data": {
      "text/plain": [
       "(<Figure size 327.6x180 with 1 Axes>,\n",
       " <AxesSubplot:xlabel='site', ylabel='height'>)"
      ]
     },
     "execution_count": 17,
     "metadata": {},
     "output_type": "execute_result"
    },
    {
     "data": {
      "image/png": "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\n",
      "text/plain": [
       "<Figure size 327.6x180 with 1 Axes>"
      ]
     },
     "metadata": {
      "needs_background": "light"
     },
     "output_type": "display_data"
    }
   ],
   "source": [
    "matrix_to_dms(ppm_to_IC(temp_tensor), y_max=2)"
   ]
  },
  {
   "cell_type": "code",
   "execution_count": null,
   "metadata": {},
   "outputs": [],
   "source": []
  }
 ],
 "metadata": {
  "kernelspec": {
   "display_name": "Python 3",
   "language": "python",
   "name": "python3"
  },
  "language_info": {
   "codemirror_mode": {
    "name": "ipython",
    "version": 3
   },
   "file_extension": ".py",
   "mimetype": "text/x-python",
   "name": "python",
   "nbconvert_exporter": "python",
   "pygments_lexer": "ipython3",
   "version": "3.7.10"
  }
 },
 "nbformat": 4,
 "nbformat_minor": 4
}
