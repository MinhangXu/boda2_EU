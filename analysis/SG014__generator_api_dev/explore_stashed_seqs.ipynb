{
 "cells": [
  {
   "cell_type": "code",
   "execution_count": 28,
   "id": "26293569-eec2-4ca4-b6ef-433ca04d530c",
   "metadata": {},
   "outputs": [],
   "source": [
    "import os\n",
    "import sys\n",
    "import re\n",
    "import time\n",
    "import yaml\n",
    "import shutil\n",
    "import argparse\n",
    "import tarfile\n",
    "import tempfile\n",
    "import random\n",
    "import subprocess\n",
    "import copy\n",
    "\n",
    "import numpy as np\n",
    "import pandas as pd\n",
    "\n",
    "import torch\n",
    "\n",
    "import boda\n",
    "from boda.common import utils\n",
    "from boda.common.utils import set_best, save_model, unpack_artifact, model_fn\n",
    "\n",
    "import hypertune\n",
    "\n",
    "import matplotlib.pyplot as plt\n",
    "import seaborn as sns\n"
   ]
  },
  {
   "cell_type": "code",
   "execution_count": 29,
   "id": "a708188a-8a27-495d-a85b-c9154f458b35",
   "metadata": {},
   "outputs": [],
   "source": [
    "# K562 seqs, clamped\n",
    "seq_fn = './test_seqs/sg__k562__sa__track_000_round_5__20211207_004203__632367.pt'\n",
    "# HepG2 seqs, clamped energies\n",
    "seq_fn = './sg__hepg2__sa__track_001_round_5__20211207_063610__124703.pt'\n",
    "seq_fn = '/test__20211214_053743__171287.pt'\n",
    "seq_fn = 'gs://syrgoth/boda_library_design_202112/extra_pickles_3/sg__hepg2__sa_rep__track_001__round_0__20211214_100033__420816.pt'"
   ]
  },
  {
   "cell_type": "code",
   "execution_count": 30,
   "id": "54979643-0d74-4499-8a3b-35c272098617",
   "metadata": {},
   "outputs": [
    {
     "data": {
      "text/plain": [
       "dict_keys(['proposals', 'args', 'timestamp', 'random_tag'])"
      ]
     },
     "execution_count": 30,
     "metadata": {},
     "output_type": "execute_result"
    }
   ],
   "source": [
    "if 'gs://' == seq_fn[:5]:\n",
    "    with tempfile.TemporaryDirectory() as tempdir:\n",
    "        temp_loc = os.path.join(tempdir, os.path.basename(seq_fn))\n",
    "        subprocess.check_call(['gsutil','cp',seq_fn, temp_loc])\n",
    "        load_seqs = torch.load(temp_loc)\n",
    "else:\n",
    "    load_seqs = torch.load(seq_fn)\n",
    "load_seqs.keys()"
   ]
  },
  {
   "cell_type": "code",
   "execution_count": 31,
   "id": "46825fbd-891e-426d-8a3d-9cebd3778acc",
   "metadata": {},
   "outputs": [],
   "source": [
    "proposal_sets = load_seqs['proposals']\n",
    "args          = load_seqs['args']\n",
    "timestamp     = load_seqs['timestamp']\n",
    "random_tag    = load_seqs['random_tag']"
   ]
  },
  {
   "cell_type": "code",
   "execution_count": 32,
   "id": "5daef46a-83eb-40cb-a88d-05bfe074838c",
   "metadata": {},
   "outputs": [
    {
     "name": "stdout",
     "output_type": "stream",
     "text": [
      "Loaded model from 20211113_021200 in eval mode\n"
     ]
    },
    {
     "name": "stderr",
     "output_type": "stream",
     "text": [
      "archive unpacked in ./\n"
     ]
    },
    {
     "data": {
      "text/plain": [
       "BassetBranched(\n",
       "  (pad1): ConstantPad1d(padding=(9, 9), value=0.0)\n",
       "  (conv1): Conv1dNorm(\n",
       "    (conv): Conv1d(4, 300, kernel_size=(19,), stride=(1,))\n",
       "    (bn_layer): BatchNorm1d(300, eps=1e-05, momentum=0.1, affine=True, track_running_stats=True)\n",
       "  )\n",
       "  (pad2): ConstantPad1d(padding=(5, 5), value=0.0)\n",
       "  (conv2): Conv1dNorm(\n",
       "    (conv): Conv1d(300, 200, kernel_size=(11,), stride=(1,))\n",
       "    (bn_layer): BatchNorm1d(200, eps=1e-05, momentum=0.1, affine=True, track_running_stats=True)\n",
       "  )\n",
       "  (pad3): ConstantPad1d(padding=(3, 3), value=0.0)\n",
       "  (conv3): Conv1dNorm(\n",
       "    (conv): Conv1d(200, 200, kernel_size=(7,), stride=(1,))\n",
       "    (bn_layer): BatchNorm1d(200, eps=1e-05, momentum=0.1, affine=True, track_running_stats=True)\n",
       "  )\n",
       "  (pad4): ConstantPad1d(padding=(1, 1), value=0.0)\n",
       "  (maxpool_3): MaxPool1d(kernel_size=3, stride=3, padding=0, dilation=1, ceil_mode=False)\n",
       "  (maxpool_4): MaxPool1d(kernel_size=4, stride=4, padding=0, dilation=1, ceil_mode=False)\n",
       "  (linear1): LinearNorm(\n",
       "    (linear): Linear(in_features=2600, out_features=1000, bias=True)\n",
       "    (bn_layer): BatchNorm1d(1000, eps=1e-05, momentum=0.1, affine=True, track_running_stats=True)\n",
       "  )\n",
       "  (branched): BranchedLinear(\n",
       "    (nonlin): ReLU()\n",
       "    (dropout): Dropout(p=0.5757068086404574, inplace=False)\n",
       "    (intake): RepeatLayer()\n",
       "    (branched_layer_1): GroupedLinear()\n",
       "    (branched_layer_2): GroupedLinear()\n",
       "    (branched_layer_3): GroupedLinear()\n",
       "  )\n",
       "  (output): GroupedLinear()\n",
       "  (nonlin): ReLU()\n",
       "  (dropout): Dropout(p=0.11625456877954289, inplace=False)\n",
       "  (criterion): L1KLmixed(\n",
       "    (MSE): L1Loss()\n",
       "    (KL): KLDivLoss()\n",
       "  )\n",
       ")"
      ]
     },
     "execution_count": 32,
     "metadata": {},
     "output_type": "execute_result"
    }
   ],
   "source": [
    "if os.path.isdir('./artifacts'):\n",
    "    shutil.rmtree('./artifacts')\n",
    "\n",
    "unpack_artifact(args['Energy Module args'].model_artifact)\n",
    "\n",
    "model_dir = './artifacts'\n",
    "\n",
    "my_model = model_fn(model_dir)\n",
    "my_model.cuda()"
   ]
  },
  {
   "cell_type": "code",
   "execution_count": 33,
   "id": "78335af0-ecff-446e-a462-a27a4f0dad44",
   "metadata": {},
   "outputs": [
    {
     "name": "stdout",
     "output_type": "stream",
     "text": [
      "Left flanking sequence shape: torch.Size([1, 4, 200])\n",
      "Right flanking sequence shape: torch.Size([1, 4, 200])\n"
     ]
    }
   ],
   "source": [
    "left_flank = boda.common.utils.dna2tensor( \n",
    "    boda.common.constants.MPRA_UPSTREAM[-200:] \n",
    ").unsqueeze(0)\n",
    "print(f'Left flanking sequence shape: {left_flank.shape}')\n",
    "\n",
    "right_flank= boda.common.utils.dna2tensor( \n",
    "    boda.common.constants.MPRA_DOWNSTREAM[:200] \n",
    ").unsqueeze(0)\n",
    "print(f'Right flanking sequence shape: {right_flank.shape}')\n",
    "\n",
    "def add_flanks(data, left_flank=left_flank, right_flank=right_flank):\n",
    "    bsz, n_chan, insert_len = data.shape\n",
    "    left_flank = left_flank.to(data.device).expand(bsz,-1,-1)\n",
    "    right_flank= right_flank.to(data.device).expand(bsz,-1,-1)\n",
    "    return torch.cat([left_flank, data, right_flank], dim=-1)\n",
    "    "
   ]
  },
  {
   "cell_type": "code",
   "execution_count": 34,
   "id": "5213611a-74c7-4f23-9994-6f175edecaec",
   "metadata": {},
   "outputs": [
    {
     "data": {
      "text/plain": [
       "tensor([[[0., 1., 0.,  ..., 0., 0., 0.],\n",
       "         [1., 0., 0.,  ..., 0., 1., 0.],\n",
       "         [0., 0., 1.,  ..., 0., 0., 0.],\n",
       "         [0., 0., 0.,  ..., 1., 0., 1.]],\n",
       "\n",
       "        [[0., 0., 1.,  ..., 0., 0., 0.],\n",
       "         [0., 1., 0.,  ..., 0., 0., 1.],\n",
       "         [1., 0., 0.,  ..., 0., 0., 0.],\n",
       "         [0., 0., 0.,  ..., 1., 1., 0.]],\n",
       "\n",
       "        [[0., 0., 1.,  ..., 0., 0., 0.],\n",
       "         [0., 1., 0.,  ..., 0., 1., 0.],\n",
       "         [1., 0., 0.,  ..., 1., 0., 0.],\n",
       "         [0., 0., 0.,  ..., 0., 0., 1.]],\n",
       "\n",
       "        ...,\n",
       "\n",
       "        [[0., 0., 0.,  ..., 1., 1., 0.],\n",
       "         [0., 1., 0.,  ..., 0., 0., 0.],\n",
       "         [0., 0., 1.,  ..., 0., 0., 0.],\n",
       "         [1., 0., 0.,  ..., 0., 0., 1.]],\n",
       "\n",
       "        [[0., 0., 0.,  ..., 0., 0., 0.],\n",
       "         [1., 0., 0.,  ..., 0., 1., 0.],\n",
       "         [0., 0., 0.,  ..., 0., 0., 0.],\n",
       "         [0., 1., 1.,  ..., 1., 0., 1.]],\n",
       "\n",
       "        [[0., 0., 0.,  ..., 1., 1., 0.],\n",
       "         [0., 1., 0.,  ..., 0., 0., 0.],\n",
       "         [1., 0., 0.,  ..., 0., 0., 0.],\n",
       "         [0., 0., 1.,  ..., 0., 0., 1.]]])"
      ]
     },
     "execution_count": 34,
     "metadata": {},
     "output_type": "execute_result"
    }
   ],
   "source": [
    "proposal_sets[0]['proposals']"
   ]
  },
  {
   "cell_type": "code",
   "execution_count": 35,
   "id": "5db15a25-580f-4d45-868c-f12165797cdf",
   "metadata": {},
   "outputs": [],
   "source": [
    "utils.batch2fasta(proposal_sets[0]['proposals'], '/'+os.path.basename(seq_fn.replace('.pt','.fa')))"
   ]
  },
  {
   "cell_type": "code",
   "execution_count": 36,
   "id": "5e7a9a4e-53e1-4e17-8c59-8ea4f9b92013",
   "metadata": {},
   "outputs": [
    {
     "data": {
      "image/png": "[encoded data removed]",
      "text/plain": [
       "<Figure size 432x288 with 1 Axes>"
      ]
     },
     "metadata": {
      "needs_background": "light"
     },
     "output_type": "display_data"
    }
   ],
   "source": [
    "for i in range(len(proposal_sets)):\n",
    "    with torch.no_grad():\n",
    "        preds = my_model(add_flanks(proposal_sets[i]['proposals']).cuda())\n",
    "        preds = pd.DataFrame(\n",
    "            {'predicted MPRA signal': preds.flatten().cpu().numpy(),\n",
    "             'cell type': ['K562','HepG2','SkNSh'] * preds.shape[0]}\n",
    "        )\n",
    "    sns.violinplot(data=preds, x='cell type', y='predicted MPRA signal')\n",
    "    plt.show()"
   ]
  },
  {
   "cell_type": "code",
   "execution_count": 12,
   "id": "6c921bb8-22d4-4553-adb2-b1059dfe4d8c",
   "metadata": {},
   "outputs": [],
   "source": [
    "pen_round = 3"
   ]
  },
  {
   "cell_type": "code",
   "execution_count": 13,
   "id": "4583e399-d8e5-4b60-8665-e6c8f12b4e15",
   "metadata": {},
   "outputs": [
    {
     "name": "stdout",
     "output_type": "stream",
     "text": [
      "********************************************************************************\n",
      "STREME - Sensitive, Thorough, Rapid, Enriched Motif Elicitation\n",
      "********************************************************************************\n",
      "MEME version 5.4.0 (Release date: Sat Aug 21 19:23:23 2021 -0700)\n",
      "\n",
      "For further information on how to interpret these results please access https://meme-suite.org/meme.\n",
      "To get a copy of the MEME Suite software please access https://meme-suite.org.\n",
      "\n",
      "********************************************************************************\n",
      "\n",
      "\n",
      "********************************************************************************\n",
      "REFERENCE\n",
      "********************************************************************************\n",
      "If you use this program in your research, please cite:\n",
      "\n",
      "Timothy L. Bailey,\n",
      "\"STREME: accurate and versatile sequence motif discovery\",\n",
      "Bioinformatics, Mar. 24, 2021.\n",
      "********************************************************************************\n",
      "\n",
      "\n",
      "ALPHABET= ACGT\n",
      "\n",
      "strands: + -\n",
      "\n",
      "Background letter frequencies\n",
      "A 0.259 C 0.241 G 0.241 T 0.259 \n",
      "\n",
      "MOTIF 1-RGTTAATNATTAACY STREME-1\n",
      "letter-probability matrix: alength= 4 w= 15 nsites= 957 E= 1.2e-044\n",
      " 0.336917 0.124774 0.397251 0.141058\n",
      " 0.038836 0.005251 0.936185 0.019728\n",
      " 0.007568 0.030147 0.011618 0.950668\n",
      " 0.026676 0.025516 0.009304 0.938504\n",
      " 0.995825 0.000619 0.002934 0.000622\n",
      " 0.959930 0.022620 0.001777 0.015673\n",
      " 0.080544 0.020883 0.001198 0.897375\n",
      " 0.185711 0.314289 0.314289 0.185711\n",
      " 0.897375 0.001198 0.020883 0.080544\n",
      " 0.015673 0.001777 0.022620 0.959930\n",
      " 0.000622 0.002934 0.000619 0.995825\n",
      " 0.938504 0.009304 0.025516 0.026676\n",
      " 0.950668 0.011618 0.030147 0.007568\n",
      " 0.019728 0.936185 0.005251 0.038836\n",
      " 0.141058 0.397251 0.124774 0.336917\n",
      "\n",
      "MOTIF 2-CAAAGTCCA STREME-2\n",
      "letter-probability matrix: alength= 4 w= 9 nsites= 34 E= 1.5e-001\n",
      " 0.001247 0.996346 0.001160 0.001247\n",
      " 0.996434 0.001160 0.001160 0.001247\n",
      " 0.996434 0.001160 0.001160 0.001247\n",
      " 0.996434 0.001160 0.001160 0.001247\n",
      " 0.001247 0.001160 0.996346 0.001247\n",
      " 0.001247 0.067916 0.001160 0.929678\n",
      " 0.001247 0.996346 0.001160 0.001247\n",
      " 0.101421 0.650619 0.134671 0.113288\n",
      " 0.659444 0.014998 0.134779 0.190779\n",
      "\n",
      "MOTIF 3-GTATGGATACW STREME-3\n",
      "letter-probability matrix: alength= 4 w= 11 nsites= 55 E= 9.2e-001\n",
      " 0.143250 0.000825 0.855039 0.000887\n",
      " 0.000887 0.000825 0.072025 0.926263\n",
      " 0.997464 0.000825 0.000825 0.000887\n",
      " 0.000887 0.048279 0.024552 0.926282\n",
      " 0.095795 0.000825 0.831312 0.072068\n",
      " 0.024614 0.024552 0.878766 0.072068\n",
      " 0.973737 0.000825 0.000825 0.024614\n",
      " 0.072068 0.261823 0.095752 0.570357\n",
      " 0.475429 0.214388 0.190661 0.119523\n",
      " 0.072068 0.807585 0.000825 0.119523\n",
      " 0.380521 0.024552 0.095733 0.499194\n",
      "\n",
      "MOTIF 4-CCGMAGCCT STREME-4\n",
      "letter-probability matrix: alength= 4 w= 9 nsites= 60 E= 1.6e+000\n",
      " 0.062207 0.852195 0.054691 0.030908\n",
      " 0.030908 0.967793 0.000626 0.000673\n",
      " 0.116325 0.072698 0.774275 0.036702\n",
      " 0.321186 0.597931 0.072741 0.008142\n",
      " 0.998075 0.000626 0.000626 0.000673\n",
      " 0.000673 0.000626 0.998028 0.000673\n",
      " 0.082515 0.811116 0.098227 0.008142\n",
      " 0.000673 0.936494 0.000626 0.062207\n",
      " 0.053936 0.000626 0.108770 0.836668\n",
      "\n",
      "MOTIF 5-AGCTTCGCCTGGTC STREME-5\n",
      "letter-probability matrix: alength= 4 w= 14 nsites= 27 E= 2.5e+000\n",
      " 0.664716 0.001153 0.200196 0.133935\n",
      " 0.034414 0.034327 0.863672 0.067588\n",
      " 0.034414 0.930019 0.034327 0.001240\n",
      " 0.200283 0.067501 0.001153 0.731064\n",
      " 0.034414 0.001153 0.001153 0.963280\n",
      " 0.001240 0.963193 0.034327 0.001240\n",
      " 0.067588 0.034327 0.896846 0.001240\n",
      " 0.167109 0.830498 0.001153 0.001240\n",
      " 0.100761 0.664629 0.133848 0.100761\n",
      " 0.001240 0.233370 0.034327 0.731064\n",
      " 0.067588 0.001153 0.830498 0.100761\n",
      " 0.100761 0.200196 0.598281 0.100761\n",
      " 0.233457 0.133848 0.133848 0.498847\n",
      " 0.200283 0.531934 0.167022 0.100761\n",
      "\n",
      "********************************************************************************\n",
      "Stopped because 3 consecutive motifs exceeded the p-value threshold (0.05).\n",
      "********************************************************************************\n",
      "COMMAND:\tstreme --p /tmp/tmpeetzzw_0 --text\n",
      "********************************************************************************\n",
      "CPU:\t\tc166803a2d70\n",
      "********************************************************************************\n",
      "FINALTIME:\t17.04 seconds\n",
      "********************************************************************************\n",
      "\n"
     ]
    }
   ],
   "source": [
    "print(proposal_sets[pen_round]['penalty']['streme_output']['output'].decode('utf-8'))"
   ]
  },
  {
   "cell_type": "code",
   "execution_count": 14,
   "id": "dd623107-34f5-4c1b-a12a-b2a3056aabab",
   "metadata": {},
   "outputs": [],
   "source": [
    "from boda.common import constants\n",
    "from boda.common.utils import align_to_alphabet\n",
    "from boda.generator.plot_tools import ppm_to_IC, matrix_to_dms\n",
    "from boda.common.pymeme import parse_streme_output\n",
    "\n",
    "def ppm_to_pcm(in_tensor, bkg=[0.25,0.25,0.25,0.25], contour_base=1.5):\n",
    "    argument = in_tensor.div(torch.tensor(bkg).unsqueeze(1))\n",
    "    motif = torch.log2(argument) #* contour_base ** torch.maximum(argument-1.9, torch.zeros_like(argument))\n",
    "    return motif\n",
    "\n",
    "def reverse_complement(in_tensor, alphabet=constants.STANDARD_NT):\n",
    "    rc_dict = {'A':'T', 'G':'C', 'T':'A', 'C':'G'}\n",
    "    reversed_alphabet = [rc_dict[nt] for nt in alphabet]\n",
    "    out_tensor = align_to_alphabet(in_tensor, in_order=alphabet,  out_order=reversed_alphabet)\n",
    "    out_tensor = torch.flip(out_tensor, dims=[1])\n",
    "    return out_tensor\n",
    "\n",
    "def show_streme_motifs(parsed_output, plot_type=ppm_to_IC):\n",
    "    motif_dict = parsed_output['motif_results']\n",
    "    results_alphabet = parsed_output['meta_data']['alphabet']\n",
    "    for motif_idx in range(len(motif_dict)):\n",
    "        motif_ppm = torch.tensor((motif_dict[motif_idx]['ppm']))\n",
    "        motif_ppm_rc = reverse_complement(motif_ppm)\n",
    "        print(motif_dict[motif_idx]['summary'])\n",
    "        matrix_to_dms(plot_type(motif_ppm), y_max=3)\n",
    "        plt.show()\n",
    "        matrix_to_dms(plot_type(motif_ppm_rc), y_max=3)\n",
    "        plt.show()"
   ]
  },
  {
   "cell_type": "code",
   "execution_count": 15,
   "id": "9b35f871-cf3c-4dde-9ad6-021b433310a4",
   "metadata": {},
   "outputs": [
    {
     "name": "stdout",
     "output_type": "stream",
     "text": [
      "{'alength': 4, 'w': 15, 'nsites': 957, 'E': 1.2e-44}\n"
     ]
    },
    {
     "data": {
      "image/png": "[encoded data removed]",
      "text/plain": [
       "<Figure size 322.56x90 with 1 Axes>"
      ]
     },
     "metadata": {
      "needs_background": "light"
     },
     "output_type": "display_data"
    },
    {
     "data": {
      "image/png": "[encoded data removed]",
      "text/plain": [
       "<Figure size 322.56x90 with 1 Axes>"
      ]
     },
     "metadata": {
      "needs_background": "light"
     },
     "output_type": "display_data"
    },
    {
     "name": "stdout",
     "output_type": "stream",
     "text": [
      "{'alength': 4, 'w': 9, 'nsites': 34, 'E': 0.15}\n"
     ]
    },
    {
     "data": {
      "image/png": "[encoded data removed]",
      "text/plain": [
       "<Figure size 201.6x90 with 1 Axes>"
      ]
     },
     "metadata": {
      "needs_background": "light"
     },
     "output_type": "display_data"
    },
    {
     "data": {
      "image/png": "[encoded data removed]",
      "text/plain": [
       "<Figure size 201.6x90 with 1 Axes>"
      ]
     },
     "metadata": {
      "needs_background": "light"
     },
     "output_type": "display_data"
    },
    {
     "name": "stdout",
     "output_type": "stream",
     "text": [
      "{'alength': 4, 'w': 11, 'nsites': 55, 'E': 0.92}\n"
     ]
    },
    {
     "data": {
      "image/png": "[encoded data removed]",
      "text/plain": [
       "<Figure size 241.92x90 with 1 Axes>"
      ]
     },
     "metadata": {
      "needs_background": "light"
     },
     "output_type": "display_data"
    },
    {
     "data": {
      "image/png": "[encoded data removed]",
      "text/plain": [
       "<Figure size 241.92x90 with 1 Axes>"
      ]
     },
     "metadata": {
      "needs_background": "light"
     },
     "output_type": "display_data"
    },
    {
     "name": "stdout",
     "output_type": "stream",
     "text": [
      "{'alength': 4, 'w': 9, 'nsites': 60, 'E': 1.6}\n"
     ]
    },
    {
     "data": {
      "image/png": "[encoded data removed]",
      "text/plain": [
       "<Figure size 201.6x90 with 1 Axes>"
      ]
     },
     "metadata": {
      "needs_background": "light"
     },
     "output_type": "display_data"
    },
    {
     "data": {
      "image/png": "[encoded data removed]",
      "text/plain": [
       "<Figure size 201.6x90 with 1 Axes>"
      ]
     },
     "metadata": {
      "needs_background": "light"
     },
     "output_type": "display_data"
    },
    {
     "name": "stdout",
     "output_type": "stream",
     "text": [
      "{'alength': 4, 'w': 14, 'nsites': 27, 'E': 2.5}\n"
     ]
    },
    {
     "data": {
      "image/png": "[encoded data removed]",
      "text/plain": [
       "<Figure size 302.4x90 with 1 Axes>"
      ]
     },
     "metadata": {
      "needs_background": "light"
     },
     "output_type": "display_data"
    },
    {
     "data": {
      "image/png": "[encoded data removed]",
      "text/plain": [
       "<Figure size 302.4x90 with 1 Axes>"
      ]
     },
     "metadata": {
      "needs_background": "light"
     },
     "output_type": "display_data"
    }
   ],
   "source": [
    "show_streme_motifs(\n",
    "    parse_streme_output(proposal_sets[pen_round]['penalty']['streme_output']['output']),\n",
    "    plot_type=ppm_to_IC\n",
    ")\n",
    "\n"
   ]
  },
  {
   "cell_type": "code",
   "execution_count": 16,
   "id": "fd0bb904-dfcd-4a60-9a86-f1cc27cf8cc6",
   "metadata": {},
   "outputs": [
    {
     "data": {
      "text/plain": [
       "tensor([[  0.3415,  -2.9714,  -6.6914,  -3.2704,   1.9860],\n",
       "        [ -2.6058,  -5.8266,  -3.3003,  -2.4232, -13.1767],\n",
       "        [  1.2220,   1.9347,  -3.5924,  -5.3815,  -5.1196],\n",
       "        [ -2.0831,  -4.9672,   1.9282,   1.8820,  -6.6920]], device='cuda:0')"
      ]
     },
     "execution_count": 16,
     "metadata": {},
     "output_type": "execute_result"
    }
   ],
   "source": [
    "proposal_sets[pen_round]['penalty']['filters'][0][:,:5]"
   ]
  }
 ],
 "metadata": {
  "kernelspec": {
   "display_name": "Python 3",
   "language": "python",
   "name": "python3"
  },
  "language_info": {
   "codemirror_mode": {
    "name": "ipython",
    "version": 3
   },
   "file_extension": ".py",
   "mimetype": "text/x-python",
   "name": "python",
   "nbconvert_exporter": "python",
   "pygments_lexer": "ipython3",
   "version": "3.7.12"
  }
 },
 "nbformat": 4,
 "nbformat_minor": 5
}
