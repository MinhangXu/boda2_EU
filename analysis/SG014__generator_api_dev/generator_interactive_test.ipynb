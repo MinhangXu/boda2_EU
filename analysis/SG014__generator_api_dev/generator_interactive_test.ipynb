{
 "cells": [
  {
   "cell_type": "code",
   "execution_count": 1,
   "id": "flush-deputy",
   "metadata": {},
   "outputs": [],
   "source": [
    "import os\n",
    "import sys\n",
    "import re\n",
    "import time\n",
    "import yaml\n",
    "import shutil\n",
    "import argparse\n",
    "import tarfile\n",
    "import tempfile\n",
    "import random\n",
    "import subprocess\n",
    "import copy\n",
    "\n",
    "import torch\n",
    "\n",
    "import boda\n",
    "from boda.common import utils\n",
    "from boda.common.utils import set_best, save_model, unpack_artifact, model_fn\n",
    "\n",
    "import hypertune\n",
    "\n",
    "import matplotlib.pyplot as plt\n",
    "import seaborn as sns\n"
   ]
  },
  {
   "cell_type": "code",
   "execution_count": 2,
   "id": "opponent-temple",
   "metadata": {},
   "outputs": [],
   "source": [
    "def save_proposals(proposals, args):\n",
    "    save_dict = {\n",
    "        'proposals': proposals,\n",
    "        #'args'     : args,\n",
    "        'timestamp'    : time.strftime(\"%Y%m%d_%H%M%S\"),\n",
    "        'random_tag'   : random.randint(100000,999999)\n",
    "    }\n",
    "    filename = f'proposals__{save_dict[\"timestamp\"]}__{save_dict[\"random_tag\"]}.pt'\n",
    "    torch.save(save_dict, filename)\n",
    "        \n",
    "    if 'gs://' in args['Main args'].proposal_path:\n",
    "        clound_target = os.path.join(args['Main args'].proposal_path,filename)\n",
    "        subprocess.check_call(\n",
    "            ['gsutil', 'cp', filename, clound_target]\n",
    "        )\n",
    "    else:\n",
    "        os.makedirs(args['Main args'].proposal_path, exist_ok=True)\n",
    "        shutil.copy(filename, args['Main args'].proposal_path)\n",
    "    \n",
    "    final_loc = os.path.join(args['Main args'].proposal_path,filename)\n",
    "    print(f'Proposals deposited at:\\n\\t{final_loc}', file=sys.stderr)\n"
   ]
  },
  {
   "cell_type": "code",
   "execution_count": 3,
   "id": "serial-banking",
   "metadata": {},
   "outputs": [],
   "source": [
    "def main(args):\n",
    "    \n",
    "    args_copy = copy.copy(args)\n",
    "    \n",
    "    params_module     = getattr(boda.generator.parameters, args['Main args'].params_module)\n",
    "    energy_module    = getattr(boda.generator.energy    , args['Main args'].energy_module)\n",
    "    generator_module = getattr(boda.generator           , args['Main args'].generator_module)\n",
    "    \n",
    "    params_args     = vars(params_module.process_args(args))\n",
    "    energy_args    = vars(energy_module.process_args(args))\n",
    "    generator_args = generator_module.process_args(args)\n",
    "    generator_constructor_args, generator_runtime_args = [ vars(arg_subset) for arg_subset in generator_args ]\n",
    "    \n",
    "    params    = params_module(**params_args)\n",
    "    energy    = energy_module(**energy_args)\n",
    "    \n",
    "    if args['Main args'].penalty_module is not None:\n",
    "        penalty_module = getattr(boda.generator.energy, args['Main args'].penalty_module)\n",
    "        energy.__class__ = type(\n",
    "            'energy_module',\n",
    "            (energy_module, penalty_module),\n",
    "            vars(penalty_module.process_args(args))\n",
    "        )\n",
    "    else:\n",
    "        penalty_module = None\n",
    "    current_penalty = None\n",
    "\n",
    "    generator_constructor_args['params']    = params\n",
    "    generator_constructor_args['energy_fn'] = energy\n",
    "    generator = generator_module(**generator_constructor_args)\n",
    "    \n",
    "    proposal_sets = []\n",
    "    for get_n in args['Main args'].n_proposals:\n",
    "        generator_runtime_args['n_proposals'] = get_n\n",
    "        proposal = generator.generate(**generator_runtime_args)\n",
    "        proposal['penalty'] = current_penalty\n",
    "        proposal_sets.append(proposal)\n",
    "        \n",
    "        sns.histplot(proposal['energies'].numpy())\n",
    "        plt.show()\n",
    "        \n",
    "        if args['Main args'].penalty_module is not None:\n",
    "            current_penalty = energy.update_penalty(proposal)\n",
    "            \n",
    "        if args['Main args'].reset_params:\n",
    "            generator.params = params_module(**params_args)\n",
    "    \n",
    "    save_proposals(proposal_sets, args_copy)\n",
    "    return params, energy, generator\n"
   ]
  },
  {
   "cell_type": "code",
   "execution_count": 4,
   "id": "geological-separation",
   "metadata": {},
   "outputs": [],
   "source": [
    "if False:\n",
    "    parser = argparse.ArgumentParser(description=\"BODA generator\", add_help=False)\n",
    "    group = parser.add_argument_group('Main args')\n",
    "    \n",
    "    group.add_argument('--params_module', type=str, required=True, help='')\n",
    "    group.add_argument('--energy_module', type=str, required=True, help='')    \n",
    "    group.add_argument('--generator_module', type=str, required=True, help='')\n",
    "    group.add_argument('--penalty_module', type=str, help='')\n",
    "    group.add_argument('--monitor', type=str, help='')\n",
    "    group.add_argument('--n_proposals', type=list, help='')\n",
    "    group.add_argument('--reset_params', type=utils.str2bool, default=True)\n",
    "    group.add_argument('--proposal_path', type=str)\n",
    "    \n",
    "    group.add_argument('--tolerate_unknown_args', type=utils.str2bool, default=False, help='Skips unknown command line args without exceptions. Useful for HPO, but high risk of silent errors.')\n",
    "    \n",
    "    known_args, leftover_args = parser.parse_known_args()\n",
    "    \n",
    "    Params    = getattr(boda.generator, known_args.params_module)\n",
    "    Energy    = getattr(boda.generator.energy, known_args.energy_module)\n",
    "    Generator = getattr(boda.generator, known_args.generator_module)\n",
    "    \n",
    "    parser = Params.add_params_specific_args(parser)\n",
    "    parser = Energy.add_energy_specific_args(parser)\n",
    "    parser = Generator.add_generator_constructor_specific_args(parser)\n",
    "    parser = Generator.add_generator_runtime_specific_args(parser)\n",
    "    \n",
    "    if known_args.penalty_module is not None:\n",
    "        Penalty = getattr(boda.generator.energy, known_args.penalty_module)\n",
    "        parser = Penalty.add_penalty_specific_args(parser)\n",
    "        \n",
    "    parser.add_argument('--help', '-h', action='help')\n",
    "    \n",
    "    if known_args.tolerate_unknown_args:\n",
    "        args, leftover_args = parser.parse_known_args()\n",
    "        print(\"Skipping unexpected args. Check leftovers for typos:\", file=sys.stderr)\n",
    "        print(leftover_args, file=sys.stderr)\n",
    "    else:\n",
    "        args = parser.parse_args()\n",
    "        \n",
    "    args = boda.common.utils.organize_args(parser, args)\n",
    "    \n",
    "    main(args)"
   ]
  },
  {
   "cell_type": "code",
   "execution_count": 5,
   "id": "adjacent-geology",
   "metadata": {},
   "outputs": [
    {
     "data": {
      "text/plain": [
       "'python /home/ubuntu/boda2/src/generate.py --params_module StraightThroughParameters --batch_size 500 --n_channels 4 --length 200 --energy_module OverMaxEnergy --model_artifact gs://syrgoth/aip_ui_test/model_artifacts__20211110_194934__672830.tar.gz --bias_cell 0 --bending_factor 0 --generator_module SimulatedAnnealing --n_positions 1 --a 1 --b 1 --gamma 1 --energy_threshold 1000.0 --max_attempts 20 --n_steps 100 --penalty_module StremePenalty --score_pct 0.3 --proposal_path ./test_seqs/ --n_proposals 500 500 500 500 500 '"
      ]
     },
     "execution_count": 5,
     "metadata": {},
     "output_type": "execute_result"
    }
   ],
   "source": [
    "cmd_str = '--params_module StraightThroughParameters ' +\\\n",
    "            '--batch_size 500 --n_channels 4 --length 200 ' +\\\n",
    "          '--energy_module OverMaxEnergy ' +\\\n",
    "            '--model_artifact gs://syrgoth/aip_ui_test/model_artifacts__20211110_194934__672830.tar.gz ' +\\\n",
    "            '--bias_cell 0 --bending_factor 0 ' +\\\n",
    "          '--generator_module SimulatedAnnealing ' +\\\n",
    "            '--n_positions 1 --a 1 --b 1 --gamma 1 ' +\\\n",
    "            '--energy_threshold 1000.0 --max_attempts 20 --n_steps 100 ' +\\\n",
    "          '--penalty_module StremePenalty ' +\\\n",
    "            '--score_pct 0.3 ' +\\\n",
    "          '--proposal_path ./test_seqs/ --n_proposals 500 500 500 500 500 '\n",
    "\n",
    "'python /home/ubuntu/boda2/src/generate.py ' + cmd_str"
   ]
  },
  {
   "cell_type": "code",
   "execution_count": 6,
   "id": "handy-intranet",
   "metadata": {},
   "outputs": [
    {
     "data": {
      "text/plain": [
       "'python /home/ubuntu/boda2/src/generate.py --params_module StraightThroughParameters --batch_size 500 --n_channels 4 --length 200 --energy_module OverMaxEnergy --model_artifact gs://syrgoth/aip_ui_test/model_artifacts__20211110_194934__672830.tar.gz --bias_cell 0 --bending_factor 0 --generator_module FastSeqProp --energy_threshold 1000.0 --max_attempts 20 --n_steps 100 --penalty_module StremePenalty --score_pct 0.3 --proposal_path ./test_seqs/ --n_proposals 500 500 500 500 500 '"
      ]
     },
     "execution_count": 6,
     "metadata": {},
     "output_type": "execute_result"
    }
   ],
   "source": [
    "cmd_str = '--params_module StraightThroughParameters ' +\\\n",
    "            '--batch_size 500 --n_channels 4 --length 200 ' +\\\n",
    "          '--energy_module OverMaxEnergy ' +\\\n",
    "            '--model_artifact gs://syrgoth/aip_ui_test/model_artifacts__20211110_194934__672830.tar.gz ' +\\\n",
    "            '--bias_cell 0 --bending_factor 0 ' +\\\n",
    "          '--generator_module FastSeqProp ' +\\\n",
    "            '--energy_threshold 1000.0 --max_attempts 20 --n_steps 100 ' +\\\n",
    "          '--penalty_module StremePenalty ' +\\\n",
    "            '--score_pct 0.3 ' +\\\n",
    "          '--proposal_path ./test_seqs/ --n_proposals 500 500 500 500 500 '\n",
    "\n",
    "'python /home/ubuntu/boda2/src/generate.py ' + cmd_str"
   ]
  },
  {
   "cell_type": "code",
   "execution_count": 7,
   "id": "numerical-arrow",
   "metadata": {},
   "outputs": [
    {
     "data": {
      "text/plain": [
       "_StoreAction(option_strings=['--tolerate_unknown_args'], dest='tolerate_unknown_args', nargs=None, const=None, default=False, type=<function str2bool at 0x7f5276cf64d0>, choices=None, help='Skips unknown command line args without exceptions. Useful for HPO, but high risk of silent errors.', metavar=None)"
      ]
     },
     "execution_count": 7,
     "metadata": {},
     "output_type": "execute_result"
    }
   ],
   "source": [
    "parser = argparse.ArgumentParser(description=\"BODA generator\", add_help=False)\n",
    "group = parser.add_argument_group('Main args')\n",
    "\n",
    "group.add_argument('--params_module', type=str, required=True, help='')\n",
    "group.add_argument('--energy_module', type=str, required=True, help='')    \n",
    "group.add_argument('--generator_module', type=str, required=True, help='')\n",
    "group.add_argument('--penalty_module', type=str, help='')\n",
    "group.add_argument('--monitor', type=str, help='')\n",
    "group.add_argument('--n_proposals', nargs='+', type=int, help='')\n",
    "group.add_argument('--reset_params', type=utils.str2bool, default=True)\n",
    "group.add_argument('--proposal_path', type=str)\n",
    "\n",
    "group.add_argument('--tolerate_unknown_args', type=utils.str2bool, default=False, help='Skips unknown command line args without exceptions. Useful for HPO, but high risk of silent errors.')"
   ]
  },
  {
   "cell_type": "code",
   "execution_count": 8,
   "id": "certain-reunion",
   "metadata": {},
   "outputs": [
    {
     "data": {
      "text/plain": [
       "Namespace(energy_module='OverMaxEnergy', generator_module='FastSeqProp', monitor=None, n_proposals=[500, 500, 500, 500, 500], params_module='StraightThroughParameters', penalty_module='StremePenalty', proposal_path='./test_seqs/', reset_params=True, tolerate_unknown_args=False)"
      ]
     },
     "execution_count": 8,
     "metadata": {},
     "output_type": "execute_result"
    }
   ],
   "source": [
    "known_args, leftover_args = parser.parse_known_args(\n",
    "    cmd_str.rstrip().split()\n",
    ")\n",
    "\n",
    "known_args"
   ]
  },
  {
   "cell_type": "code",
   "execution_count": 9,
   "id": "standing-teaching",
   "metadata": {},
   "outputs": [],
   "source": [
    "Params    = getattr(boda.generator, known_args.params_module)\n",
    "Energy    = getattr(boda.generator.energy, known_args.energy_module)\n",
    "Generator = getattr(boda.generator, known_args.generator_module)\n"
   ]
  },
  {
   "cell_type": "code",
   "execution_count": 10,
   "id": "plain-trouble",
   "metadata": {},
   "outputs": [],
   "source": [
    "parser = Params.add_params_specific_args(parser)\n",
    "parser = Energy.add_energy_specific_args(parser)\n",
    "parser = Generator.add_generator_specific_args(parser)\n"
   ]
  },
  {
   "cell_type": "code",
   "execution_count": 11,
   "id": "intimate-cholesterol",
   "metadata": {},
   "outputs": [],
   "source": [
    "if known_args.penalty_module is not None:\n",
    "    Penalty = getattr(boda.generator.energy, known_args.penalty_module)\n",
    "    parser = Penalty.add_penalty_specific_args(parser)\n"
   ]
  },
  {
   "cell_type": "code",
   "execution_count": 12,
   "id": "suitable-seven",
   "metadata": {},
   "outputs": [
    {
     "name": "stdout",
     "output_type": "stream",
     "text": [
      "Namespace(batch_dim=0, batch_size=500, bending_factor=0.0, bias_alpha=1.0, bias_cell=0, cat_axis=-1, energy_module='OverMaxEnergy', energy_threshold=1000.0, generator_module='FastSeqProp', init_seqs=None, learning_rate=0.5, left_flank='GTACGGGAGGTATTGGACAGGCCGCAATAAAATATCTTTATTTTCATTACATCTGTGTGTTGGTTTTTTGTGTGAATCGATAGTACTAACATACGCTCTCCATCAAAACAAAACGAAACAAAACAAACTAGCAAAATAGGCTGTCCCCAGTGCAAGTGCAGGTGCCAGAACATTTCTCTGGCCTAACTGGCCGCTTGACG', length=200, lr_scheduler=True, max_attempts=20, model_artifact='gs://syrgoth/aip_ui_test/model_artifacts__20211110_194934__672830.tar.gz', monitor=None, n_channels=4, n_proposals=[500, 500, 500, 500, 500], n_samples=1, n_steps=100, params_module='StraightThroughParameters', penalty_module='StremePenalty', proposal_path='./test_seqs/', reset_params=True, right_flank='CACTGCGGCTCCTGCGATCTAACTGGCCGGTACCTGAGCTCGCTAGCCTCGAGGATATCAAGATCTGGCCTCGGCGGCCAAGCTTAGACACTAGAGGGTATATAATGGAAGCTCGACTTCCAGCTTGGCAATCCGGTACTGTTGGTAAAGCCACCATGGTGAGCAAGGGCGAGGAGCTGTTCACCGGGGTGGTGCCCATC', score_pct=0.3, step_print=10, token_dim=-2, tolerate_unknown_args=False, use_affine=False)\n"
     ]
    }
   ],
   "source": [
    "parser.add_argument('--help', '-h', action='help')\n",
    "\n",
    "if known_args.tolerate_unknown_args:\n",
    "    args, leftover_args = parser.parse_known_args( \n",
    "        cmd_str.rstrip().split()\n",
    "    )\n",
    "    print(\"Skipping unexpected args. Check leftovers for typos:\", file=sys.stderr)\n",
    "    print(leftover_args, file=sys.stderr)\n",
    "else:\n",
    "    args = parser.parse_args(\n",
    "        cmd_str.rstrip().split()\n",
    "    )\n",
    "\n",
    "args = boda.common.utils.organize_args(parser, args)\n"
   ]
  },
  {
   "cell_type": "code",
   "execution_count": 13,
   "id": "contemporary-berry",
   "metadata": {},
   "outputs": [
    {
     "data": {
      "text/plain": [
       "{'positional arguments': Namespace(),\n",
       " 'optional arguments': Namespace(help=None),\n",
       " 'Main args': Namespace(energy_module='OverMaxEnergy', generator_module='FastSeqProp', monitor=None, n_proposals=[500, 500, 500, 500, 500], params_module='StraightThroughParameters', penalty_module='StremePenalty', proposal_path='./test_seqs/', reset_params=True, tolerate_unknown_args=False),\n",
       " 'Params Module args': Namespace(batch_dim=0, batch_size=500, cat_axis=-1, init_seqs=None, left_flank='GTACGGGAGGTATTGGACAGGCCGCAATAAAATATCTTTATTTTCATTACATCTGTGTGTTGGTTTTTTGTGTGAATCGATAGTACTAACATACGCTCTCCATCAAAACAAAACGAAACAAAACAAACTAGCAAAATAGGCTGTCCCCAGTGCAAGTGCAGGTGCCAGAACATTTCTCTGGCCTAACTGGCCGCTTGACG', length=200, n_channels=4, n_samples=1, right_flank='CACTGCGGCTCCTGCGATCTAACTGGCCGGTACCTGAGCTCGCTAGCCTCGAGGATATCAAGATCTGGCCTCGGCGGCCAAGCTTAGACACTAGAGGGTATATAATGGAAGCTCGACTTCCAGCTTGGCAATCCGGTACTGTTGGTAAAGCCACCATGGTGAGCAAGGGCGAGGAGCTGTTCACCGGGGTGGTGCCCATC', token_dim=-2, use_affine=False),\n",
       " 'Energy Module args': Namespace(bending_factor=0.0, bias_alpha=1.0, bias_cell=0, model_artifact='gs://syrgoth/aip_ui_test/model_artifacts__20211110_194934__672830.tar.gz'),\n",
       " 'Generator Constructor args': Namespace(),\n",
       " 'Generator Runtime args': Namespace(energy_threshold=1000.0, learning_rate=0.5, lr_scheduler=True, max_attempts=20, n_steps=100, step_print=10),\n",
       " 'Penalty Module args': Namespace(score_pct=0.3)}"
      ]
     },
     "execution_count": 13,
     "metadata": {},
     "output_type": "execute_result"
    }
   ],
   "source": [
    "args"
   ]
  },
  {
   "cell_type": "code",
   "execution_count": 14,
   "id": "aggregate-discrimination",
   "metadata": {
    "scrolled": false
   },
   "outputs": [
    {
     "name": "stdout",
     "output_type": "stream",
     "text": [
      "Loaded model from 20211110_194934 in eval mode\n"
     ]
    },
    {
     "name": "stderr",
     "output_type": "stream",
     "text": [
      "Steps:   0%|          | 0/100 [00:00<?, ?it/s]/opt/conda/lib/python3.7/site-packages/torch/nn/functional.py:652: UserWarning: Named tensors and all their associated APIs are an experimental feature and subject to change. Please do not use them for anything important until they are released as stable. (Triggered internally at  /pytorch/c10/core/TensorImpl.h:1156.)\n",
      "  return torch.max_pool1d(input, kernel_size, stride, padding, dilation, ceil_mode)\n",
      "Steps: 100%|██████████| 100/100 [00:07<00:00, 14.05it/s, Loss=-3.81, LR=1e-6] \n"
     ]
    },
    {
     "data": {
      "image/png": "[encoded data removed]",
      "text/plain": [
       "<Figure size 432x288 with 1 Axes>"
      ]
     },
     "metadata": {
      "needs_background": "light"
     },
     "output_type": "display_data"
    },
    {
     "name": "stderr",
     "output_type": "stream",
     "text": [
      "Steps: 100%|██████████| 100/100 [00:07<00:00, 14.16it/s, Loss=-3.91, LR=1e-6] \n"
     ]
    },
    {
     "data": {
      "image/png": "[encoded data removed]",
      "text/plain": [
       "<Figure size 432x288 with 1 Axes>"
      ]
     },
     "metadata": {
      "needs_background": "light"
     },
     "output_type": "display_data"
    },
    {
     "name": "stderr",
     "output_type": "stream",
     "text": [
      "Steps: 100%|██████████| 100/100 [00:07<00:00, 14.10it/s, Loss=-3.95, LR=1e-6] \n"
     ]
    },
    {
     "data": {
      "image/png": "[encoded data removed]",
      "text/plain": [
       "<Figure size 432x288 with 1 Axes>"
      ]
     },
     "metadata": {
      "needs_background": "light"
     },
     "output_type": "display_data"
    },
    {
     "name": "stderr",
     "output_type": "stream",
     "text": [
      "Steps: 100%|██████████| 100/100 [00:07<00:00, 14.11it/s, Loss=-3.93, LR=1e-6] \n"
     ]
    },
    {
     "data": {
      "image/png": "[encoded data removed]",
      "text/plain": [
       "<Figure size 432x288 with 1 Axes>"
      ]
     },
     "metadata": {
      "needs_background": "light"
     },
     "output_type": "display_data"
    },
    {
     "name": "stderr",
     "output_type": "stream",
     "text": [
      "Steps: 100%|██████████| 100/100 [00:07<00:00, 14.17it/s, Loss=-3.98, LR=1e-6] \n"
     ]
    },
    {
     "data": {
      "image/png": "[encoded data removed]",
      "text/plain": [
       "<Figure size 432x288 with 1 Axes>"
      ]
     },
     "metadata": {
      "needs_background": "light"
     },
     "output_type": "display_data"
    },
    {
     "name": "stderr",
     "output_type": "stream",
     "text": [
      "Proposals deposited at:\n",
      "\t./test_seqs/proposals__20211121_224534__498600.pt\n"
     ]
    }
   ],
   "source": [
    "params, energy, generator = main(args)"
   ]
  },
  {
   "cell_type": "code",
   "execution_count": 15,
   "id": "optical-raleigh",
   "metadata": {},
   "outputs": [
    {
     "data": {
      "text/plain": [
       "StraightThroughParameters(\n",
       "  (instance_norm): InstanceNorm1d(4, eps=1e-05, momentum=0.1, affine=False, track_running_stats=False)\n",
       ")"
      ]
     },
     "execution_count": 15,
     "metadata": {},
     "output_type": "execute_result"
    }
   ],
   "source": [
    "params.cuda()"
   ]
  },
  {
   "cell_type": "code",
   "execution_count": 16,
   "id": "about-placement",
   "metadata": {},
   "outputs": [
    {
     "data": {
      "text/plain": [
       "Parameter containing:\n",
       "tensor([[[-4.5233e+00,  7.1830e+00,  7.0502e+00,  ...,  4.1249e-01,\n",
       "          -5.6325e+00, -4.0610e+00],\n",
       "         [ 6.3954e+00, -4.3424e+00, -5.8592e+00,  ...,  1.8168e+00,\n",
       "          -4.6393e+00, -5.2591e+00],\n",
       "         [-4.6415e+00, -4.5533e+00, -5.4988e+00,  ..., -2.6912e+00,\n",
       "           6.6427e+00, -4.5960e+00],\n",
       "         [-6.6444e-01, -3.1718e+00, -3.1197e+00,  ...,  2.2158e+00,\n",
       "          -2.4349e+00,  8.7578e+00]],\n",
       "\n",
       "        [[-3.4789e+00, -2.7833e+00, -8.8430e-01,  ..., -1.0034e+00,\n",
       "          -6.7002e+00, -7.4037e+00],\n",
       "         [-2.2318e+00, -1.5818e+00, -1.3758e+00,  ..., -6.1746e+00,\n",
       "           9.5140e+00,  8.3534e+00],\n",
       "         [ 7.9686e+00, -3.6934e+00, -2.8491e+00,  ...,  8.1116e+00,\n",
       "          -7.3773e+00, -7.7298e+00],\n",
       "         [-3.0868e+00,  5.3206e+00,  5.6010e+00,  ..., -3.5685e+00,\n",
       "          -6.5531e+00, -7.1778e+00]],\n",
       "\n",
       "        [[-4.5148e+00, -3.7247e+00, -3.5370e+00,  ..., -5.1832e+00,\n",
       "           8.9906e-01, -2.5560e+00],\n",
       "         [-2.6017e+00,  7.2734e+00, -1.8973e+00,  ...,  9.0544e+00,\n",
       "          -4.8704e+00, -3.7634e+00],\n",
       "         [-4.6708e+00, -5.4237e+00, -4.9632e+00,  ..., -6.2008e+00,\n",
       "           4.3714e+00, -4.1578e+00],\n",
       "         [ 5.1556e+00, -4.3368e+00,  8.2258e+00,  ..., -6.1528e+00,\n",
       "          -4.7113e+00,  8.2456e+00]],\n",
       "\n",
       "        ...,\n",
       "\n",
       "        [[-2.0315e+00, -2.7484e-02, -1.1406e+00,  ..., -1.0769e+00,\n",
       "           1.6366e+00,  1.8295e+00],\n",
       "         [-2.8926e+00,  9.2003e-01,  4.9256e+00,  ...,  3.1531e+00,\n",
       "          -5.8756e-01, -1.1363e+00],\n",
       "         [ 6.5549e+00, -3.2444e+00, -3.6041e+00,  ..., -1.8422e+00,\n",
       "          -6.4450e-01,  5.2641e+00],\n",
       "         [-1.2228e+00,  1.5953e+00,  5.9147e-01,  ..., -3.2172e-01,\n",
       "          -5.5400e-01, -2.1515e+00]],\n",
       "\n",
       "        [[-3.2904e+00, -2.6524e+00, -2.9514e+00,  ...,  5.3564e-01,\n",
       "           1.7140e+00,  4.9200e+00],\n",
       "         [ 5.8005e-01, -6.0458e-01, -1.3489e+00,  ...,  2.0940e+00,\n",
       "           4.0879e+00, -2.0917e+00],\n",
       "         [-2.5950e-01, -4.2101e+00, -2.2991e+00,  ..., -5.7200e-01,\n",
       "          -1.0874e-01, -1.6798e+00],\n",
       "         [ 2.8278e+00,  4.9937e+00,  5.3506e+00,  ..., -1.1314e+00,\n",
       "           4.6671e-01,  6.8624e-03]],\n",
       "\n",
       "        [[-4.2023e+00, -3.6254e+00, -3.4640e+00,  ...,  3.8893e+00,\n",
       "          -4.9580e+00,  3.9973e+00],\n",
       "         [ 4.5892e-02,  8.6698e+00, -4.3692e+00,  ..., -2.4559e+00,\n",
       "          -1.6922e+00,  2.9387e-01],\n",
       "         [-1.8610e+00, -5.9838e+00, -5.9341e+00,  ..., -4.2495e+00,\n",
       "           9.2688e+00, -3.7915e+00],\n",
       "         [ 2.4394e+00, -2.2470e+00,  5.8998e+00,  ..., -1.2653e+00,\n",
       "          -1.7140e+00, -2.9348e+00]]], device='cuda:0', requires_grad=True)"
      ]
     },
     "execution_count": 16,
     "metadata": {},
     "output_type": "execute_result"
    }
   ],
   "source": [
    "params.theta"
   ]
  },
  {
   "cell_type": "code",
   "execution_count": 17,
   "id": "iraqi-texas",
   "metadata": {},
   "outputs": [],
   "source": [
    "#generator.temperature_schedule"
   ]
  }
 ],
 "metadata": {
  "kernelspec": {
   "display_name": "Python 3",
   "language": "python",
   "name": "python3"
  },
  "language_info": {
   "codemirror_mode": {
    "name": "ipython",
    "version": 3
   },
   "file_extension": ".py",
   "mimetype": "text/x-python",
   "name": "python",
   "nbconvert_exporter": "python",
   "pygments_lexer": "ipython3",
   "version": "3.7.10"
  }
 },
 "nbformat": 4,
 "nbformat_minor": 5
}
