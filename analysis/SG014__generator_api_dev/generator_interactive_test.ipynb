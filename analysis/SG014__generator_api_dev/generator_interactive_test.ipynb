{
 "cells": [
  {
   "cell_type": "code",
   "execution_count": 1,
   "id": "flush-deputy",
   "metadata": {},
   "outputs": [],
   "source": [
    "import os\n",
    "import sys\n",
    "import re\n",
    "import time\n",
    "import yaml\n",
    "import shutil\n",
    "import argparse\n",
    "import tarfile\n",
    "import tempfile\n",
    "import random\n",
    "import subprocess\n",
    "import copy\n",
    "\n",
    "import torch\n",
    "\n",
    "import boda\n",
    "from boda.common import utils\n",
    "from boda.common.utils import set_best, save_model, unpack_artifact, model_fn\n",
    "\n",
    "import hypertune\n",
    "\n",
    "import matplotlib.pyplot as plt\n",
    "import seaborn as sns\n"
   ]
  },
  {
   "cell_type": "code",
   "execution_count": 2,
   "id": "opponent-temple",
   "metadata": {},
   "outputs": [],
   "source": [
    "def save_proposals(proposals, args):\n",
    "    save_dict = {\n",
    "        'proposals': proposals,\n",
    "        #'args'     : args,\n",
    "        'timestamp'    : time.strftime(\"%Y%m%d_%H%M%S\"),\n",
    "        'random_tag'   : random.randint(100000,999999)\n",
    "    }\n",
    "    filename = f'proposals__{save_dict[\"timestamp\"]}__{save_dict[\"random_tag\"]}.pt'\n",
    "    torch.save(save_dict, filename)\n",
    "        \n",
    "    if 'gs://' in args['Main args'].proposal_path:\n",
    "        clound_target = os.path.join(args['Main args'].proposal_path,filename)\n",
    "        subprocess.check_call(\n",
    "            ['gsutil', 'cp', filename, clound_target]\n",
    "        )\n",
    "    else:\n",
    "        os.makedirs(args['Main args'].proposal_path, exist_ok=True)\n",
    "        shutil.copy(filename, args['Main args'].proposal_path)\n",
    "    \n",
    "    final_loc = os.path.join(args['Main args'].proposal_path,filename)\n",
    "    print(f'Proposals deposited at:\\n\\t{final_loc}', file=sys.stderr)\n"
   ]
  },
  {
   "cell_type": "code",
   "execution_count": 3,
   "id": "serial-banking",
   "metadata": {},
   "outputs": [],
   "source": [
    "def main(args):\n",
    "    \n",
    "    args_copy = copy.copy(args)\n",
    "    \n",
    "    params_module     = getattr(boda.generator.parameters, args['Main args'].params_module)\n",
    "    energy_module    = getattr(boda.generator.energy    , args['Main args'].energy_module)\n",
    "    generator_module = getattr(boda.generator           , args['Main args'].generator_module)\n",
    "    \n",
    "    params_args     = vars(params_module.process_args(args))\n",
    "    energy_args    = vars(energy_module.process_args(args))\n",
    "    generator_args = generator_module.process_args(args)\n",
    "    generator_constructor_args, generator_runtime_args = [ vars(arg_subset) for arg_subset in generator_args ]\n",
    "    \n",
    "    params    = params_module(**params_args)\n",
    "    energy    = energy_module(**energy_args)\n",
    "    \n",
    "    if args['Main args'].penalty_module is not None:\n",
    "        penalty_module = getattr(boda.generator.energy, args['Main args'].penalty_module)\n",
    "        energy.__class__ = type(\n",
    "            'energy_module',\n",
    "            (energy_module, penalty_module),\n",
    "            vars(penalty_module.process_args(args))\n",
    "        )\n",
    "    else:\n",
    "        penalty_module = None\n",
    "    current_penalty = None\n",
    "\n",
    "    generator_constructor_args['params']    = params\n",
    "    generator_constructor_args['energy_fn'] = energy\n",
    "    generator = generator_module(**generator_constructor_args)\n",
    "    \n",
    "    params.cuda()\n",
    "    energy.cuda()\n",
    "    \n",
    "    proposal_sets = []\n",
    "    for get_n in args['Main args'].n_proposals:\n",
    "        generator_runtime_args['n_proposals'] = get_n\n",
    "        proposal = generator.generate(**generator_runtime_args)\n",
    "        proposal['penalty'] = current_penalty\n",
    "        proposal_sets.append(proposal)\n",
    "        \n",
    "        sns.histplot(proposal['energies'].numpy())\n",
    "        plt.show()\n",
    "        \n",
    "        if args['Main args'].penalty_module is not None:\n",
    "            current_penalty = energy.update_penalty(proposal)\n",
    "            \n",
    "        if args['Main args'].reset_params:\n",
    "            generator.params = params_module(**params_args)\n",
    "            \n",
    "    save_proposals(proposal_sets, args_copy)\n",
    "    return params, energy, generator\n"
   ]
  },
  {
   "cell_type": "code",
   "execution_count": 4,
   "id": "geological-separation",
   "metadata": {},
   "outputs": [],
   "source": [
    "if False:\n",
    "    parser = argparse.ArgumentParser(description=\"BODA generator\", add_help=False)\n",
    "    group = parser.add_argument_group('Main args')\n",
    "    \n",
    "    group.add_argument('--params_module', type=str, required=True, help='')\n",
    "    group.add_argument('--energy_module', type=str, required=True, help='')    \n",
    "    group.add_argument('--generator_module', type=str, required=True, help='')\n",
    "    group.add_argument('--penalty_module', type=str, help='')\n",
    "    group.add_argument('--monitor', type=str, help='')\n",
    "    group.add_argument('--n_proposals', type=list, help='')\n",
    "    group.add_argument('--reset_params', type=utils.str2bool, default=True)\n",
    "    group.add_argument('--proposal_path', type=str)\n",
    "    \n",
    "    group.add_argument('--tolerate_unknown_args', type=utils.str2bool, default=False, help='Skips unknown command line args without exceptions. Useful for HPO, but high risk of silent errors.')\n",
    "    \n",
    "    known_args, leftover_args = parser.parse_known_args()\n",
    "    \n",
    "    Params    = getattr(boda.generator, known_args.params_module)\n",
    "    Energy    = getattr(boda.generator.energy, known_args.energy_module)\n",
    "    Generator = getattr(boda.generator, known_args.generator_module)\n",
    "    \n",
    "    parser = Params.add_params_specific_args(parser)\n",
    "    parser = Energy.add_energy_specific_args(parser)\n",
    "    parser = Generator.add_generator_constructor_specific_args(parser)\n",
    "    parser = Generator.add_generator_runtime_specific_args(parser)\n",
    "    \n",
    "    if known_args.penalty_module is not None:\n",
    "        Penalty = getattr(boda.generator.energy, known_args.penalty_module)\n",
    "        parser = Penalty.add_penalty_specific_args(parser)\n",
    "        \n",
    "    parser.add_argument('--help', '-h', action='help')\n",
    "    \n",
    "    if known_args.tolerate_unknown_args:\n",
    "        args, leftover_args = parser.parse_known_args()\n",
    "        print(\"Skipping unexpected args. Check leftovers for typos:\", file=sys.stderr)\n",
    "        print(leftover_args, file=sys.stderr)\n",
    "    else:\n",
    "        args = parser.parse_args()\n",
    "        \n",
    "    args = boda.common.utils.organize_args(parser, args)\n",
    "    \n",
    "    main(args)"
   ]
  },
  {
   "cell_type": "code",
   "execution_count": 5,
   "id": "boolean-defensive",
   "metadata": {},
   "outputs": [
    {
     "data": {
      "text/plain": [
       "'python /home/ubuntu/boda2/src/generate.py --params_module StraightThroughParameters --batch_size 500 --n_channels 4 --length 200 --energy_module OverMaxEnergy --model_artifact gs://syrgoth/aip_ui_test/model_artifacts__20211110_194934__672830.tar.gz --bias_cell 0 --bending_factor 0 --generator_module FastSeqProp --energy_threshold -2.0 --max_attempts 20 --n_steps 100 --penalty_module StremePenalty --score_pct 0.3 --proposal_path ./test_seqs/ --n_proposals 500 500 500 500 500 '"
      ]
     },
     "execution_count": 5,
     "metadata": {},
     "output_type": "execute_result"
    }
   ],
   "source": [
    "cmd_str = '--params_module StraightThroughParameters ' +\\\n",
    "            '--batch_size 500 --n_channels 4 --length 200 ' +\\\n",
    "          '--energy_module OverMaxEnergy ' +\\\n",
    "            '--model_artifact gs://syrgoth/aip_ui_test/model_artifacts__20211110_194934__672830.tar.gz ' +\\\n",
    "            '--bias_cell 0 --bending_factor 0 ' +\\\n",
    "          '--generator_module FastSeqProp ' +\\\n",
    "            '--energy_threshold -2.0 --max_attempts 20 --n_steps 100 ' +\\\n",
    "          '--penalty_module StremePenalty ' +\\\n",
    "            '--score_pct 0.3 ' +\\\n",
    "          '--proposal_path ./test_seqs/ --n_proposals 500 500 500 500 500 '\n",
    "\n",
    "'python /home/ubuntu/boda2/src/generate.py ' + cmd_str"
   ]
  },
  {
   "cell_type": "code",
   "execution_count": 6,
   "id": "adjacent-geology",
   "metadata": {},
   "outputs": [
    {
     "data": {
      "text/plain": [
       "'python /home/ubuntu/boda2/src/generate.py --params_module BasicParameters --batch_size 500 --n_channels 4 --length 200 --energy_module OverMaxEnergy --model_artifact gs://syrgoth/aip_ui_test/model_artifacts__20211110_194934__672830.tar.gz --bias_cell 0 --bending_factor 0 --generator_module SimulatedAnnealing --n_positions 1 --a 1 --b 1 --gamma 1 --energy_threshold 1000.0 --max_attempts 20 --n_steps 100 --penalty_module StremePenalty --score_pct 0.3 --proposal_path ./test_seqs/ --n_proposals 500 500 500 500 500 '"
      ]
     },
     "execution_count": 6,
     "metadata": {},
     "output_type": "execute_result"
    }
   ],
   "source": [
    "cmd_str = '--params_module BasicParameters ' +\\\n",
    "            '--batch_size 500 --n_channels 4 --length 200 ' +\\\n",
    "          '--energy_module OverMaxEnergy ' +\\\n",
    "            '--model_artifact gs://syrgoth/aip_ui_test/model_artifacts__20211110_194934__672830.tar.gz ' +\\\n",
    "            '--bias_cell 0 --bending_factor 0 ' +\\\n",
    "          '--generator_module SimulatedAnnealing ' +\\\n",
    "            '--n_positions 1 --a 1 --b 1 --gamma 1 ' +\\\n",
    "            '--energy_threshold 1000.0 --max_attempts 20 --n_steps 100 ' +\\\n",
    "          '--penalty_module StremePenalty ' +\\\n",
    "            '--score_pct 0.3 ' +\\\n",
    "          '--proposal_path ./test_seqs/ --n_proposals 500 500 500 500 500 '\n",
    "\n",
    "'python /home/ubuntu/boda2/src/generate.py ' + cmd_str"
   ]
  },
  {
   "cell_type": "code",
   "execution_count": 7,
   "id": "numerical-arrow",
   "metadata": {},
   "outputs": [
    {
     "data": {
      "text/plain": [
       "_StoreAction(option_strings=['--tolerate_unknown_args'], dest='tolerate_unknown_args', nargs=None, const=None, default=False, type=<function str2bool at 0x7f8bb8fb04d0>, choices=None, help='Skips unknown command line args without exceptions. Useful for HPO, but high risk of silent errors.', metavar=None)"
      ]
     },
     "execution_count": 7,
     "metadata": {},
     "output_type": "execute_result"
    }
   ],
   "source": [
    "parser = argparse.ArgumentParser(description=\"BODA generator\", add_help=False)\n",
    "group = parser.add_argument_group('Main args')\n",
    "\n",
    "group.add_argument('--params_module', type=str, required=True, help='')\n",
    "group.add_argument('--energy_module', type=str, required=True, help='')    \n",
    "group.add_argument('--generator_module', type=str, required=True, help='')\n",
    "group.add_argument('--penalty_module', type=str, help='')\n",
    "group.add_argument('--monitor', type=str, help='')\n",
    "group.add_argument('--n_proposals', nargs='+', type=int, help='')\n",
    "group.add_argument('--energy_threshold', type=float, default=float(\"Inf\"))\n",
    "group.add_argument('--max_attempts', type=int, default=10000)\n",
    "group.add_argument('--reset_params', type=utils.str2bool, default=True)\n",
    "group.add_argument('--proposal_path', type=str)\n",
    "\n",
    "group.add_argument('--tolerate_unknown_args', type=utils.str2bool, default=False, help='Skips unknown command line args without exceptions. Useful for HPO, but high risk of silent errors.')"
   ]
  },
  {
   "cell_type": "code",
   "execution_count": 8,
   "id": "certain-reunion",
   "metadata": {},
   "outputs": [
    {
     "data": {
      "text/plain": [
       "Namespace(energy_module='OverMaxEnergy', energy_threshold=1000.0, generator_module='SimulatedAnnealing', max_attempts=20, monitor=None, n_proposals=[500, 500, 500, 500, 500], params_module='BasicParameters', penalty_module='StremePenalty', proposal_path='./test_seqs/', reset_params=True, tolerate_unknown_args=False)"
      ]
     },
     "execution_count": 8,
     "metadata": {},
     "output_type": "execute_result"
    }
   ],
   "source": [
    "known_args, leftover_args = parser.parse_known_args(\n",
    "    cmd_str.rstrip().split()\n",
    ")\n",
    "\n",
    "known_args"
   ]
  },
  {
   "cell_type": "code",
   "execution_count": 9,
   "id": "standing-teaching",
   "metadata": {},
   "outputs": [],
   "source": [
    "Params    = getattr(boda.generator, known_args.params_module)\n",
    "Energy    = getattr(boda.generator.energy, known_args.energy_module)\n",
    "Generator = getattr(boda.generator, known_args.generator_module)\n"
   ]
  },
  {
   "cell_type": "code",
   "execution_count": 10,
   "id": "plain-trouble",
   "metadata": {},
   "outputs": [],
   "source": [
    "parser = Params.add_params_specific_args(parser)\n",
    "parser = Energy.add_energy_specific_args(parser)\n",
    "parser = Generator.add_generator_specific_args(parser)\n"
   ]
  },
  {
   "cell_type": "code",
   "execution_count": 11,
   "id": "intimate-cholesterol",
   "metadata": {},
   "outputs": [],
   "source": [
    "if known_args.penalty_module is not None:\n",
    "    Penalty = getattr(boda.generator.energy, known_args.penalty_module)\n",
    "    parser = Penalty.add_penalty_specific_args(parser)\n"
   ]
  },
  {
   "cell_type": "code",
   "execution_count": 12,
   "id": "suitable-seven",
   "metadata": {},
   "outputs": [
    {
     "name": "stdout",
     "output_type": "stream",
     "text": [
      "Namespace(a=1.0, b=1.0, batch_dim=0, batch_size=500, bending_factor=0.0, bias_alpha=1.0, bias_cell=0, cat_axis=-1, energy_module='OverMaxEnergy', energy_threshold=1000.0, gamma=1.0, generator_module='SimulatedAnnealing', init_seqs=None, keep_burnin=False, left_flank='GTACGGGAGGTATTGGACAGGCCGCAATAAAATATCTTTATTTTCATTACATCTGTGTGTTGGTTTTTTGTGTGAATCGATAGTACTAACATACGCTCTCCATCAAAACAAAACGAAACAAAACAAACTAGCAAAATAGGCTGTCCCCAGTGCAAGTGCAGGTGCCAGAACATTTCTCTGGCCTAACTGGCCGCTTGACG', length=200, max_attempts=20, model_artifact='gs://syrgoth/aip_ui_test/model_artifacts__20211110_194934__672830.tar.gz', monitor=None, n_burnin=0, n_channels=4, n_positions=1, n_proposals=[500, 500, 500, 500, 500], n_steps=100, params_module='BasicParameters', penalty_module='StremePenalty', proposal_path='./test_seqs/', reset_params=True, right_flank='CACTGCGGCTCCTGCGATCTAACTGGCCGGTACCTGAGCTCGCTAGCCTCGAGGATATCAAGATCTGGCCTCGGCGGCCAAGCTTAGACACTAGAGGGTATATAATGGAAGCTCGACTTCCAGCTTGGCAATCCGGTACTGTTGGTAAAGCCACCATGGTGAGCAAGGGCGAGGAGCTGTTCACCGGGGTGGTGCCCATC', score_pct=0.3, tolerate_unknown_args=False)\n"
     ]
    }
   ],
   "source": [
    "parser.add_argument('--help', '-h', action='help')\n",
    "\n",
    "if known_args.tolerate_unknown_args:\n",
    "    args, leftover_args = parser.parse_known_args( \n",
    "        cmd_str.rstrip().split()\n",
    "    )\n",
    "    print(\"Skipping unexpected args. Check leftovers for typos:\", file=sys.stderr)\n",
    "    print(leftover_args, file=sys.stderr)\n",
    "else:\n",
    "    args = parser.parse_args(\n",
    "        cmd_str.rstrip().split()\n",
    "    )\n",
    "\n",
    "args = boda.common.utils.organize_args(parser, args)\n"
   ]
  },
  {
   "cell_type": "code",
   "execution_count": 13,
   "id": "contemporary-berry",
   "metadata": {},
   "outputs": [
    {
     "data": {
      "text/plain": [
       "{'positional arguments': Namespace(),\n",
       " 'optional arguments': Namespace(help=None),\n",
       " 'Main args': Namespace(energy_module='OverMaxEnergy', energy_threshold=1000.0, generator_module='SimulatedAnnealing', max_attempts=20, monitor=None, n_proposals=[500, 500, 500, 500, 500], params_module='BasicParameters', penalty_module='StremePenalty', proposal_path='./test_seqs/', reset_params=True, tolerate_unknown_args=False),\n",
       " 'Params Module args': Namespace(batch_dim=0, batch_size=500, cat_axis=-1, init_seqs=None, left_flank='GTACGGGAGGTATTGGACAGGCCGCAATAAAATATCTTTATTTTCATTACATCTGTGTGTTGGTTTTTTGTGTGAATCGATAGTACTAACATACGCTCTCCATCAAAACAAAACGAAACAAAACAAACTAGCAAAATAGGCTGTCCCCAGTGCAAGTGCAGGTGCCAGAACATTTCTCTGGCCTAACTGGCCGCTTGACG', length=200, n_channels=4, right_flank='CACTGCGGCTCCTGCGATCTAACTGGCCGGTACCTGAGCTCGCTAGCCTCGAGGATATCAAGATCTGGCCTCGGCGGCCAAGCTTAGACACTAGAGGGTATATAATGGAAGCTCGACTTCCAGCTTGGCAATCCGGTACTGTTGGTAAAGCCACCATGGTGAGCAAGGGCGAGGAGCTGTTCACCGGGGTGGTGCCCATC'),\n",
       " 'Energy Module args': Namespace(bending_factor=0.0, bias_alpha=1.0, bias_cell=0, model_artifact='gs://syrgoth/aip_ui_test/model_artifacts__20211110_194934__672830.tar.gz'),\n",
       " 'Generator Constructor args': Namespace(a=1.0, b=1.0, gamma=1.0, n_positions=1),\n",
       " 'Generator Runtime args': Namespace(keep_burnin=False, n_burnin=0, n_steps=100),\n",
       " 'Penalty Module args': Namespace(score_pct=0.3)}"
      ]
     },
     "execution_count": 13,
     "metadata": {},
     "output_type": "execute_result"
    }
   ],
   "source": [
    "args"
   ]
  },
  {
   "cell_type": "code",
   "execution_count": 14,
   "id": "aggregate-discrimination",
   "metadata": {
    "scrolled": false
   },
   "outputs": [
    {
     "name": "stdout",
     "output_type": "stream",
     "text": [
      "Loaded model from 20211110_194934 in eval mode\n"
     ]
    },
    {
     "name": "stderr",
     "output_type": "stream",
     "text": [
      "collect samples\n",
      "  0%|          | 0/100 [00:00<?, ?it/s]/opt/conda/lib/python3.7/site-packages/torch/nn/functional.py:652: UserWarning: Named tensors and all their associated APIs are an experimental feature and subject to change. Please do not use them for anything important until they are released as stable. (Triggered internally at  /pytorch/c10/core/TensorImpl.h:1156.)\n",
      "  return torch.max_pool1d(input, kernel_size, stride, padding, dilation, ceil_mode)\n",
      "100%|██████████| 100/100 [00:03<00:00, 27.52it/s]\n"
     ]
    },
    {
     "data": {
      "image/png": "[encoded data removed]",
      "text/plain": [
       "<Figure size 432x288 with 1 Axes>"
      ]
     },
     "metadata": {
      "needs_background": "light"
     },
     "output_type": "display_data"
    },
    {
     "name": "stderr",
     "output_type": "stream",
     "text": [
      "collect samples\n",
      "100%|██████████| 100/100 [00:05<00:00, 17.67it/s]\n"
     ]
    },
    {
     "data": {
      "image/png": "[encoded data removed]",
      "text/plain": [
       "<Figure size 432x288 with 1 Axes>"
      ]
     },
     "metadata": {
      "needs_background": "light"
     },
     "output_type": "display_data"
    },
    {
     "name": "stderr",
     "output_type": "stream",
     "text": [
      "collect samples\n",
      "100%|██████████| 100/100 [00:05<00:00, 17.67it/s]\n"
     ]
    },
    {
     "data": {
      "image/png": "[encoded data removed]",
      "text/plain": [
       "<Figure size 432x288 with 1 Axes>"
      ]
     },
     "metadata": {
      "needs_background": "light"
     },
     "output_type": "display_data"
    },
    {
     "name": "stderr",
     "output_type": "stream",
     "text": [
      "collect samples\n",
      "100%|██████████| 100/100 [00:05<00:00, 17.71it/s]\n"
     ]
    },
    {
     "data": {
      "image/png": "[encoded data removed]",
      "text/plain": [
       "<Figure size 432x288 with 1 Axes>"
      ]
     },
     "metadata": {
      "needs_background": "light"
     },
     "output_type": "display_data"
    },
    {
     "name": "stderr",
     "output_type": "stream",
     "text": [
      "collect samples\n",
      "100%|██████████| 100/100 [00:05<00:00, 17.69it/s]\n"
     ]
    },
    {
     "data": {
      "image/png": "[encoded data removed]",
      "text/plain": [
       "<Figure size 432x288 with 1 Axes>"
      ]
     },
     "metadata": {
      "needs_background": "light"
     },
     "output_type": "display_data"
    },
    {
     "name": "stderr",
     "output_type": "stream",
     "text": [
      "Proposals deposited at:\n",
      "\t./test_seqs/proposals__20211122_202643__634347.pt\n"
     ]
    }
   ],
   "source": [
    "params, energy, generator = main(args)"
   ]
  }
 ],
 "metadata": {
  "kernelspec": {
   "display_name": "Python 3",
   "language": "python",
   "name": "python3"
  },
  "language_info": {
   "codemirror_mode": {
    "name": "ipython",
    "version": 3
   },
   "file_extension": ".py",
   "mimetype": "text/x-python",
   "name": "python",
   "nbconvert_exporter": "python",
   "pygments_lexer": "ipython3",
   "version": "3.7.10"
  }
 },
 "nbformat": 4,
 "nbformat_minor": 5
}
