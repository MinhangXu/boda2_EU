{
 "cells": [
  {
   "cell_type": "code",
   "execution_count": 1,
   "id": "medium-explorer",
   "metadata": {},
   "outputs": [
    {
     "name": "stdout",
     "output_type": "stream",
     "text": [
      "Requirement already satisfied: gpytorch in /opt/conda/lib/python3.7/site-packages (1.5.1)\n",
      "Requirement already satisfied: scikit-learn in /opt/conda/lib/python3.7/site-packages (from gpytorch) (0.23.2)\n",
      "Requirement already satisfied: scipy in /opt/conda/lib/python3.7/site-packages (from gpytorch) (1.6.0)\n",
      "Requirement already satisfied: torch>=1.8.1 in /opt/conda/lib/python3.7/site-packages (from gpytorch) (1.9.0)\n",
      "Requirement already satisfied: numpy>=1.13.3 in /opt/conda/lib/python3.7/site-packages (from scikit-learn->gpytorch) (1.19.2)\n",
      "Requirement already satisfied: joblib>=0.11 in /opt/conda/lib/python3.7/site-packages (from scikit-learn->gpytorch) (1.0.1)\n",
      "Requirement already satisfied: threadpoolctl>=2.0.0 in /opt/conda/lib/python3.7/site-packages (from scikit-learn->gpytorch) (2.1.0)\n",
      "Requirement already satisfied: typing-extensions in /opt/conda/lib/python3.7/site-packages (from torch>=1.8.1->gpytorch) (3.7.4.3)\n",
      "\u001b[33mWARNING: You are using pip version 20.2.3; however, version 21.2.4 is available.\n",
      "You should consider upgrading via the '/opt/conda/bin/python3.7 -m pip install --upgrade pip' command.\u001b[0m\n"
     ]
    }
   ],
   "source": [
    "! pip install gpytorch"
   ]
  },
  {
   "cell_type": "code",
   "execution_count": 2,
   "id": "cardiac-resident",
   "metadata": {},
   "outputs": [],
   "source": [
    "import sys\n",
    "import os\n",
    "import subprocess\n",
    "import tarfile\n",
    "import shutil\n",
    "import types\n",
    "import math\n",
    "import pickle\n",
    "\n",
    "import numpy as np\n",
    "import pandas as pd\n",
    "import torch\n",
    "import torch.nn as nn\n",
    "import torch.nn.functional as F\n",
    "import torch.distributions as dist\n",
    "from torch.autograd import grad\n",
    "import gpytorch\n",
    "\n",
    "import matplotlib.pyplot as plt\n",
    "import seaborn as sns\n",
    "\n",
    "from tqdm import tqdm\n",
    "\n",
    "import boda\n",
    "from boda.generator import plot_tools\n",
    "from boda.common import constants\n",
    "\n",
    "boda_src = os.path.join( os.path.dirname( os.path.dirname( os.getcwd() ) ), 'src' )\n",
    "sys.path.insert(0, boda_src)\n",
    "\n",
    "from main import unpack_artifact, model_fn\n",
    "\n",
    "from scipy import spatial\n",
    "from scipy.cluster import hierarchy\n"
   ]
  },
  {
   "cell_type": "code",
   "execution_count": 3,
   "id": "dated-metropolitan",
   "metadata": {},
   "outputs": [
    {
     "name": "stdout",
     "output_type": "stream",
     "text": [
      "Loaded model from 20210623_102310 in eval mode\n",
      "Left flanking sequence shape: torch.Size([1, 4, 200])\n",
      "Left flanking sequence shape: torch.Size([1, 4, 200])\n"
     ]
    }
   ],
   "source": [
    "if os.path.isdir('./artifacts'):\n",
    "    shutil.rmtree('./artifacts')\n",
    "\n",
    "hpo_rec = 'gs://syrgoth/aip_ui_test/model_artifacts__20210623_102310__205717.tar.gz'\n",
    "\n",
    "unpack_artifact(hpo_rec)\n",
    "\n",
    "model_dir = './artifacts'\n",
    "\n",
    "my_model = model_fn(model_dir)\n",
    "my_model.cuda()\n",
    "my_model.eval()\n",
    "\n",
    "left_flank = boda.common.utils.dna2tensor( \n",
    "    boda.common.constants.MPRA_UPSTREAM[-200:] \n",
    ").unsqueeze(0)\n",
    "print(f'Left flanking sequence shape: {left_flank.shape}')\n",
    "\n",
    "right_flank= boda.common.utils.dna2tensor( \n",
    "    boda.common.constants.MPRA_DOWNSTREAM[:200] \n",
    ").unsqueeze(0)\n",
    "print(f'Left flanking sequence shape: {right_flank.shape}')"
   ]
  },
  {
   "cell_type": "code",
   "execution_count": 4,
   "id": "laughing-emission",
   "metadata": {},
   "outputs": [],
   "source": [
    "class MyEnergy(torch.nn.Module):\n",
    "    \n",
    "    def __init__(self, model, left_flank, right_flank, bias_cell=None, bias_alpha=1.):\n",
    "        super().__init__()\n",
    "        \n",
    "        self.model = model\n",
    "        self.model.eval()\n",
    "        \n",
    "        self.register_buffer('left_flank', left_flank.to(model.device))\n",
    "        self.register_buffer('right_flank', right_flank.to(model.device))\n",
    "        \n",
    "        self.bias_cell = bias_cell\n",
    "        self.bias_alpha= bias_alpha\n",
    "        \n",
    "    def add_flanks(self, x):\n",
    "        try:\n",
    "            expand_left  = self.left_flank.expand(self.batch_size, -1, -1)\n",
    "            expand_right = self.right_flank.expand(self.batch_size, -1, -1)\n",
    "            return torch.cat([ expand_left, x, expand_right ], dim=-1)\n",
    "        except (AttributeError, RuntimeError) as e:\n",
    "            self.batch_size = x.shape[0]\n",
    "            return self.add_flanks(x)\n",
    "        \n",
    "    def forward(self, x):\n",
    "        hook = x.to(self.model.device)\n",
    "        \n",
    "        hook = self.add_flanks(hook)\n",
    "                \n",
    "        hook = self.model(hook)\n",
    "        \n",
    "        if self.bias_cell is not None:\n",
    "            hook = hook[...,[ x for x in range(hook.shape[-1]) if x != self.bias_cell]].max(-1).values \\\n",
    "                     - hook[...,self.bias_cell].mul(self.bias_alpha)\n",
    "        else:\n",
    "            hook = boda.graph.utils.shannon_entropy(hook)\n",
    "\n",
    "        return hook"
   ]
  },
  {
   "cell_type": "code",
   "execution_count": 5,
   "id": "binding-hostel",
   "metadata": {},
   "outputs": [],
   "source": [
    "my_energy = MyEnergy(my_model, left_flank, right_flank, bias_cell=None, bias_alpha=1.)"
   ]
  },
  {
   "cell_type": "code",
   "execution_count": null,
   "id": "coastal-nightlife",
   "metadata": {},
   "outputs": [],
   "source": [
    "data_module = getattr(boda.data, 'MPRA_DataModule')\n",
    "data = data_module(**vars(data_module.process_args(args)))"
   ]
  }
 ],
 "metadata": {
  "kernelspec": {
   "display_name": "Python 3",
   "language": "python",
   "name": "python3"
  },
  "language_info": {
   "codemirror_mode": {
    "name": "ipython",
    "version": 3
   },
   "file_extension": ".py",
   "mimetype": "text/x-python",
   "name": "python",
   "nbconvert_exporter": "python",
   "pygments_lexer": "ipython3",
   "version": "3.7.10"
  }
 },
 "nbformat": 4,
 "nbformat_minor": 5
}
