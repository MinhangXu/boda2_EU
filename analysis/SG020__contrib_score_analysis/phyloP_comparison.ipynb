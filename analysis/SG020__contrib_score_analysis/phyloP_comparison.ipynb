{
 "cells": [
  {
   "cell_type": "code",
   "execution_count": 1,
   "id": "f4692a06-8b84-4ffc-b6d1-9be843dd772e",
   "metadata": {},
   "outputs": [
    {
     "name": "stdout",
     "output_type": "stream",
     "text": [
      "--2023-01-17 20:51:59--  https://cgl.gi.ucsc.edu/data/cactus/241-mammalian-2020v2-hub/Homo_sapiens/241-mammalian-2020v2.bigWig\n",
      "Resolving cgl.gi.ucsc.edu (cgl.gi.ucsc.edu)... 128.114.198.31, 2607:f5f0:136:1::25\n",
      "Connecting to cgl.gi.ucsc.edu (cgl.gi.ucsc.edu)|128.114.198.31|:443... connected.\n",
      "HTTP request sent, awaiting response... 200 OK\n",
      "Length: 21888290307 (20G)\n",
      "Saving to: ‘241-mammalian-2020v2.bigWig’\n",
      "\n",
      "241-mammalian-2020v 100%[===================>]  20.38G  54.1MB/s    in 6m 26s  \n",
      "\n",
      "2023-01-17 20:58:26 (54.1 MB/s) - ‘241-mammalian-2020v2.bigWig’ saved [21888290307/21888290307]\n",
      "\n"
     ]
    }
   ],
   "source": [
    "!wget -nc https://cgl.gi.ucsc.edu/data/cactus/241-mammalian-2020v2-hub/Homo_sapiens/241-mammalian-2020v2.bigWig"
   ]
  },
  {
   "cell_type": "code",
   "execution_count": 2,
   "id": "229563e6-893d-44f1-bb17-d4e40ab63c1a",
   "metadata": {},
   "outputs": [
    {
     "name": "stdout",
     "output_type": "stream",
     "text": [
      "--2023-01-17 20:58:41--  http://hgdownload.soe.ucsc.edu/admin/exe/linux.x86_64/bigWigToBedGraph\n",
      "Resolving hgdownload.soe.ucsc.edu (hgdownload.soe.ucsc.edu)... 128.114.119.163\n",
      "Connecting to hgdownload.soe.ucsc.edu (hgdownload.soe.ucsc.edu)|128.114.119.163|:80... connected.\n",
      "HTTP request sent, awaiting response... 200 OK\n",
      "Length: 5579640 (5.3M)\n",
      "Saving to: ‘bigWigToBedGraph’\n",
      "\n",
      "bigWigToBedGraph    100%[===================>]   5.32M  12.3MB/s    in 0.4s    \n",
      "\n",
      "2023-01-17 20:58:42 (12.3 MB/s) - ‘bigWigToBedGraph’ saved [5579640/5579640]\n",
      "\n"
     ]
    }
   ],
   "source": [
    "!wget -nc http://hgdownload.soe.ucsc.edu/admin/exe/linux.x86_64/bigWigToBedGraph\n",
    "!chmod 744 bigWigToBedGraph"
   ]
  },
  {
   "cell_type": "code",
   "execution_count": 3,
   "id": "ba7e055c-4983-4653-861f-5e7fbbb97819",
   "metadata": {},
   "outputs": [
    {
     "name": "stdout",
     "output_type": "stream",
     "text": [
      "bigWigToBedGraph - Convert from bigWig to bedGraph format.\n",
      "usage:\n",
      "   bigWigToBedGraph in.bigWig out.bedGraph\n",
      "options:\n",
      "   -chrom=chr1 - if set restrict output to given chromosome\n",
      "   -start=N - if set, restrict output to only that over start\n",
      "   -end=N - if set, restict output to only that under end\n",
      "   -udcDir=/dir/to/cache - place to put cache for remote bigBed/bigWigs\n",
      "\n"
     ]
    }
   ],
   "source": [
    "! ./bigWigToBedGraph"
   ]
  },
  {
   "cell_type": "code",
   "execution_count": null,
   "id": "4b5b230c-51be-4450-a57e-05db4ed0468e",
   "metadata": {},
   "outputs": [],
   "source": [
    "!pip install pyBigWig"
   ]
  },
  {
   "cell_type": "code",
   "execution_count": 5,
   "id": "8470f332-f21f-47ec-996b-5cccdceb97d8",
   "metadata": {},
   "outputs": [],
   "source": [
    "import numpy as np\n",
    "import statsmodels.api as sm\n",
    "\n",
    "import pyBigWig"
   ]
  },
  {
   "cell_type": "code",
   "execution_count": 2,
   "id": "c2f88c37-8350-4318-91aa-8f104e78afcb",
   "metadata": {},
   "outputs": [],
   "source": [
    "bw = pyBigWig.open(\"241-mammalian-2020v2.bigWig\")"
   ]
  },
  {
   "cell_type": "code",
   "execution_count": 3,
   "id": "a883d5a9-c022-4c17-8f40-d343d15ea96f",
   "metadata": {},
   "outputs": [],
   "source": [
    "phyloP_values = np.full((sum([l for k,l in bw.chroms().items()]),), np.nan)\n",
    "last = 0\n",
    "\n",
    "for k, l in bw.chroms().items():\n",
    "    phyloP_values[last:last+l] = bw.values(k, 0, l, numpy=True)\n",
    "    last += l"
   ]
  },
  {
   "cell_type": "code",
   "execution_count": 4,
   "id": "540cb963-9d8a-4c48-9808-2fba891e42f2",
   "metadata": {},
   "outputs": [
    {
     "data": {
      "text/plain": [
       "0.07630374928974147"
      ]
     },
     "execution_count": 4,
     "metadata": {},
     "output_type": "execute_result"
    }
   ],
   "source": [
    "np.isnan( phyloP_values ).sum() / phyloP_values.shape[0]"
   ]
  },
  {
   "cell_type": "code",
   "execution_count": null,
   "id": "41612fc1-2ad5-4b7c-8900-7af1d375557c",
   "metadata": {},
   "outputs": [],
   "source": [
    "10**(-1 * np.abs(phyloP_values[ ~np.isnan(phyloP_values) ]) )"
   ]
  },
  {
   "cell_type": "code",
   "execution_count": null,
   "id": "c0d40c11-b2b8-476b-a08c-c9f2e37a23b9",
   "metadata": {},
   "outputs": [],
   "source": [
    "sm.stats.multitest.fdrcorrection()"
   ]
  },
  {
   "cell_type": "code",
   "execution_count": null,
   "id": "64318c42-2e3e-44b0-a68e-ff28b9ac13f6",
   "metadata": {},
   "outputs": [],
   "source": []
  }
 ],
 "metadata": {
  "kernelspec": {
   "display_name": "Python 3",
   "language": "python",
   "name": "python3"
  },
  "language_info": {
   "codemirror_mode": {
    "name": "ipython",
    "version": 3
   },
   "file_extension": ".py",
   "mimetype": "text/x-python",
   "name": "python",
   "nbconvert_exporter": "python",
   "pygments_lexer": "ipython3",
   "version": "3.7.12"
  }
 },
 "nbformat": 4,
 "nbformat_minor": 5
}
