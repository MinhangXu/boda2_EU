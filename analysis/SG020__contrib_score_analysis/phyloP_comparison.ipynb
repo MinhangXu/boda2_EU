{
 "cells": [
  {
   "cell_type": "code",
   "execution_count": 1,
   "id": "f4692a06-8b84-4ffc-b6d1-9be843dd772e",
   "metadata": {},
   "outputs": [
    {
     "name": "stdout",
     "output_type": "stream",
     "text": [
      "--2023-01-17 20:51:59--  https://cgl.gi.ucsc.edu/data/cactus/241-mammalian-2020v2-hub/Homo_sapiens/241-mammalian-2020v2.bigWig\n",
      "Resolving cgl.gi.ucsc.edu (cgl.gi.ucsc.edu)... 128.114.198.31, 2607:f5f0:136:1::25\n",
      "Connecting to cgl.gi.ucsc.edu (cgl.gi.ucsc.edu)|128.114.198.31|:443... connected.\n",
      "HTTP request sent, awaiting response... 200 OK\n",
      "Length: 21888290307 (20G)\n",
      "Saving to: ‘241-mammalian-2020v2.bigWig’\n",
      "\n",
      "241-mammalian-2020v 100%[===================>]  20.38G  54.1MB/s    in 6m 26s  \n",
      "\n",
      "2023-01-17 20:58:26 (54.1 MB/s) - ‘241-mammalian-2020v2.bigWig’ saved [21888290307/21888290307]\n",
      "\n"
     ]
    }
   ],
   "source": [
    "!wget -nc https://cgl.gi.ucsc.edu/data/cactus/241-mammalian-2020v2-hub/Homo_sapiens/241-mammalian-2020v2.bigWig"
   ]
  },
  {
   "cell_type": "code",
   "execution_count": 2,
   "id": "229563e6-893d-44f1-bb17-d4e40ab63c1a",
   "metadata": {},
   "outputs": [
    {
     "name": "stdout",
     "output_type": "stream",
     "text": [
      "--2023-01-17 20:58:41--  http://hgdownload.soe.ucsc.edu/admin/exe/linux.x86_64/bigWigToBedGraph\n",
      "Resolving hgdownload.soe.ucsc.edu (hgdownload.soe.ucsc.edu)... 128.114.119.163\n",
      "Connecting to hgdownload.soe.ucsc.edu (hgdownload.soe.ucsc.edu)|128.114.119.163|:80... connected.\n",
      "HTTP request sent, awaiting response... 200 OK\n",
      "Length: 5579640 (5.3M)\n",
      "Saving to: ‘bigWigToBedGraph’\n",
      "\n",
      "bigWigToBedGraph    100%[===================>]   5.32M  12.3MB/s    in 0.4s    \n",
      "\n",
      "2023-01-17 20:58:42 (12.3 MB/s) - ‘bigWigToBedGraph’ saved [5579640/5579640]\n",
      "\n"
     ]
    }
   ],
   "source": [
    "!wget -nc http://hgdownload.soe.ucsc.edu/admin/exe/linux.x86_64/bigWigToBedGraph\n",
    "!chmod 744 bigWigToBedGraph"
   ]
  },
  {
   "cell_type": "code",
   "execution_count": 3,
   "id": "ba7e055c-4983-4653-861f-5e7fbbb97819",
   "metadata": {},
   "outputs": [
    {
     "name": "stdout",
     "output_type": "stream",
     "text": [
      "bigWigToBedGraph - Convert from bigWig to bedGraph format.\n",
      "usage:\n",
      "   bigWigToBedGraph in.bigWig out.bedGraph\n",
      "options:\n",
      "   -chrom=chr1 - if set restrict output to given chromosome\n",
      "   -start=N - if set, restrict output to only that over start\n",
      "   -end=N - if set, restict output to only that under end\n",
      "   -udcDir=/dir/to/cache - place to put cache for remote bigBed/bigWigs\n",
      "\n"
     ]
    }
   ],
   "source": [
    "! ./bigWigToBedGraph"
   ]
  }
 ],
 "metadata": {
  "kernelspec": {
   "display_name": "Python 3",
   "language": "python",
   "name": "python3"
  },
  "language_info": {
   "codemirror_mode": {
    "name": "ipython",
    "version": 3
   },
   "file_extension": ".py",
   "mimetype": "text/x-python",
   "name": "python",
   "nbconvert_exporter": "python",
   "pygments_lexer": "ipython3",
   "version": "3.7.12"
  }
 },
 "nbformat": 4,
 "nbformat_minor": 5
}
