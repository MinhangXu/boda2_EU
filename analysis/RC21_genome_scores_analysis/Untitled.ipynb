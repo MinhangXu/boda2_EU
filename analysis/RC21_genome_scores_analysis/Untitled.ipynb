{
 "cells": [
  {
   "cell_type": "code",
   "execution_count": 1,
   "id": "analyzed-madness",
   "metadata": {},
   "outputs": [
    {
     "name": "stdout",
     "output_type": "stream",
     "text": [
      "Requirement already satisfied: h5py in /opt/conda/lib/python3.7/site-packages (3.8.0)\n",
      "Requirement already satisfied: numpy>=1.14.5 in /opt/conda/lib/python3.7/site-packages (from h5py) (1.19.2)\n",
      "\u001b[33mWARNING: You are using pip version 20.2.3; however, version 23.0.1 is available.\n",
      "You should consider upgrading via the '/opt/conda/bin/python3.7 -m pip install --upgrade pip' command.\u001b[0m\n"
     ]
    }
   ],
   "source": [
    "!pip install h5py"
   ]
  },
  {
   "cell_type": "code",
   "execution_count": 2,
   "id": "earned-legend",
   "metadata": {},
   "outputs": [],
   "source": [
    "#!wget -O - https://www.encodeproject.org/files/GRCh38_no_alt_analysis_set_GCA_000001405.15/@@download/GRCh38_no_alt_analysis_set_GCA_000001405.15.fasta.gz | gunzip -c > GRCh38_no_alt_analysis_set_GCA_000001405.15.fasta"
   ]
  },
  {
   "cell_type": "code",
   "execution_count": 3,
   "id": "oriented-dallas",
   "metadata": {},
   "outputs": [],
   "source": [
    "import h5py\n",
    "\n",
    "import torch\n",
    "import numpy as np\n",
    "import pandas as pd\n",
    "\n",
    "import boda"
   ]
  },
  {
   "cell_type": "code",
   "execution_count": 4,
   "id": "owned-loading",
   "metadata": {},
   "outputs": [
    {
     "name": "stdout",
     "output_type": "stream",
     "text": [
      "Copying gs://tewhey-public-data/contribution_scores_202212/raw/contrib_test_chunk_200_of_1000.h5...\n",
      "==> NOTE: You are downloading one or more large file(s), which would            \n",
      "run significantly faster if you enabled sliced object downloads. This\n",
      "feature is enabled by default but requires that compiled crcmod be\n",
      "installed (see \"gsutil help crcmod\").\n",
      "\n",
      "| [1 files][286.0 MiB/286.0 MiB]                                                \n",
      "Operation completed over 1 objects/286.0 MiB.                                    \n"
     ]
    }
   ],
   "source": [
    "!gsutil cp gs://tewhey-public-data/contribution_scores_202212/raw/contrib_test_chunk_200_of_1000.h5 ./"
   ]
  },
  {
   "cell_type": "code",
   "execution_count": null,
   "id": "resistant-heart",
   "metadata": {},
   "outputs": [
    {
     "name": "stderr",
     "output_type": "stream",
     "text": [
      "pre-reading fasta into memory\n",
      "100%|██████████| 44284892/44284892 [00:22<00:00, 1970280.28it/s]"
     ]
    }
   ],
   "source": [
    "fasta_dict = boda.data.Fasta( 'GRCh38_no_alt_analysis_set_GCA_000001405.15.fasta' )"
   ]
  },
  {
   "cell_type": "code",
   "execution_count": null,
   "id": "intellectual-demand",
   "metadata": {},
   "outputs": [],
   "source": []
  }
 ],
 "metadata": {
  "kernelspec": {
   "display_name": "Python 3",
   "language": "python",
   "name": "python3"
  },
  "language_info": {
   "codemirror_mode": {
    "name": "ipython",
    "version": 3
   },
   "file_extension": ".py",
   "mimetype": "text/x-python",
   "name": "python",
   "nbconvert_exporter": "python",
   "pygments_lexer": "ipython3",
   "version": "3.7.10"
  }
 },
 "nbformat": 4,
 "nbformat_minor": 5
}
