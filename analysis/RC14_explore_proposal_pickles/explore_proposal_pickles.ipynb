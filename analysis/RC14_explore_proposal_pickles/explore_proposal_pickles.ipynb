{
 "cells": [
  {
   "cell_type": "code",
   "execution_count": 1,
   "id": "infinite-tragedy",
   "metadata": {},
   "outputs": [
    {
     "data": {
      "text/html": [
       "<style>.container { width:98% !important; }</style>"
      ],
      "text/plain": [
       "<IPython.core.display.HTML object>"
      ]
     },
     "metadata": {},
     "output_type": "display_data"
    }
   ],
   "source": [
    "import sys\n",
    "import os\n",
    "import subprocess\n",
    "import tarfile\n",
    "import shutil\n",
    "import math\n",
    "import time\n",
    "import random\n",
    "import subprocess\n",
    "import tempfile\n",
    "\n",
    "import numpy as np\n",
    "import torch\n",
    "import torch.nn as nn\n",
    "import torch.nn.functional as F\n",
    "import pandas as pd\n",
    "import matplotlib.pyplot as plt\n",
    "import seaborn as sns\n",
    "from mpl_toolkits import mplot3d\n",
    "from Bio import motifs\n",
    "import pickle\n",
    "from datetime import datetime\n",
    "from tqdm import tqdm\n",
    "\n",
    "import boda\n",
    "from boda.generator.parameters import StraightThroughParameters\n",
    "from boda.generator import AdaLead\n",
    "from boda.generator.energy import OverMaxEnergy, StremePenalty\n",
    "from boda.common import constants, utils\n",
    "from boda.generator.plot_tools import matrix_to_dms, ppm_to_IC, ppm_to_pwm\n",
    "\n",
    "boda_src = os.path.join( os.path.dirname( os.path.dirname( os.getcwd() ) ), 'src' )\n",
    "sys.path.insert(0, boda_src)\n",
    "\n",
    "from main import unpack_artifact, model_fn\n",
    "from pymeme import streme, parse_streme_output\n",
    "\n",
    "from IPython.core.display import display, HTML\n",
    "display(HTML(\"<style>.container { width:98% !important; }</style>\"))"
   ]
  },
  {
   "cell_type": "code",
   "execution_count": 23,
   "id": "widespread-rally",
   "metadata": {
    "scrolled": true
   },
   "outputs": [
    {
     "data": {
      "text/plain": [
       "['gs://syrgoth/boda_library_design_202112/pickles/rc__hepg2__al__track_002__round_0__20211206_025443__72806280.pt',\n",
       " 'gs://syrgoth/boda_library_design_202112/pickles/rc__hepg2__al__track_002__round_1__20211206_025528__41332638.pt',\n",
       " 'gs://syrgoth/boda_library_design_202112/pickles/rc__hepg2__al__track_002__round_2__20211206_025555__20655304.pt',\n",
       " 'gs://syrgoth/boda_library_design_202112/pickles/rc__hepg2__al__track_002__round_3__20211206_025633__84440783.pt',\n",
       " 'gs://syrgoth/boda_library_design_202112/pickles/rc__hepg2__al__track_002__round_4__20211206_025708__20020621.pt',\n",
       " 'gs://syrgoth/boda_library_design_202112/pickles/rc__hepg2__al__track_002__round_5__20211206_025737__87493515.pt',\n",
       " 'gs://syrgoth/boda_library_design_202112/pickles/rc__hepg2__al__track_005__round_0__20211206_024503__33072627.pt',\n",
       " 'gs://syrgoth/boda_library_design_202112/pickles/rc__hepg2__al__track_009__round_0__20211208_015040__72147769.pt',\n",
       " 'gs://syrgoth/boda_library_design_202112/pickles/rc__hepg2__al__track_009__round_1__20211208_020816__55133248.pt',\n",
       " 'gs://syrgoth/boda_library_design_202112/pickles/rc__hepg2__al__track_009__round_2__20211208_022639__44591335.pt',\n",
       " 'gs://syrgoth/boda_library_design_202112/pickles/rc__hepg2__al__track_009__round_3__20211208_024513__37698702.pt',\n",
       " 'gs://syrgoth/boda_library_design_202112/pickles/rc__hepg2__al__track_009__round_4__20211208_030316__14438156.pt',\n",
       " 'gs://syrgoth/boda_library_design_202112/pickles/rc__hepg2__al__track_009__round_5__20211208_032239__17214778.pt',\n",
       " 'gs://syrgoth/boda_library_design_202112/pickles/rc__k562__al__track_001__round_0__20211206_025854__92323787.pt',\n",
       " 'gs://syrgoth/boda_library_design_202112/pickles/rc__k562__al__track_001__round_1__20211206_025934__90722511.pt',\n",
       " 'gs://syrgoth/boda_library_design_202112/pickles/rc__k562__al__track_001__round_2__20211206_030011__62156073.pt',\n",
       " 'gs://syrgoth/boda_library_design_202112/pickles/rc__k562__al__track_001__round_3__20211206_030049__12002023.pt',\n",
       " 'gs://syrgoth/boda_library_design_202112/pickles/rc__k562__al__track_001__round_4__20211206_030121__14176776.pt',\n",
       " 'gs://syrgoth/boda_library_design_202112/pickles/rc__k562__al__track_001__round_5__20211206_030151__45259191.pt',\n",
       " 'gs://syrgoth/boda_library_design_202112/pickles/rc__k562__al__track_006__round_0__20211206_221956__59439361.pt',\n",
       " 'gs://syrgoth/boda_library_design_202112/pickles/rc__k562__al__track_008__round_0__20211207_233624__81641919.pt',\n",
       " 'gs://syrgoth/boda_library_design_202112/pickles/rc__k562__al__track_008__round_1__20211207_235425__62927592.pt',\n",
       " 'gs://syrgoth/boda_library_design_202112/pickles/rc__k562__al__track_008__round_2__20211208_001204__58877652.pt',\n",
       " 'gs://syrgoth/boda_library_design_202112/pickles/rc__k562__al__track_008__round_3__20211208_002954__56294947.pt',\n",
       " 'gs://syrgoth/boda_library_design_202112/pickles/rc__k562__al__track_008__round_4__20211208_004744__21972583.pt',\n",
       " 'gs://syrgoth/boda_library_design_202112/pickles/rc__k562__al__track_008__round_5__20211208_010519__82733188.pt',\n",
       " 'gs://syrgoth/boda_library_design_202112/pickles/rc__sknsh__al__track_003__round_0__20211206_024916__65404111.pt',\n",
       " 'gs://syrgoth/boda_library_design_202112/pickles/rc__sknsh__al__track_003__round_1__20211206_025000__47760442.pt',\n",
       " 'gs://syrgoth/boda_library_design_202112/pickles/rc__sknsh__al__track_003__round_2__20211206_025057__13935544.pt',\n",
       " 'gs://syrgoth/boda_library_design_202112/pickles/rc__sknsh__al__track_003__round_3__20211206_025155__73114426.pt',\n",
       " 'gs://syrgoth/boda_library_design_202112/pickles/rc__sknsh__al__track_003__round_4__20211206_025248__57624260.pt',\n",
       " 'gs://syrgoth/boda_library_design_202112/pickles/rc__sknsh__al__track_003__round_5__20211206_025338__24126851.pt',\n",
       " 'gs://syrgoth/boda_library_design_202112/pickles/rc__sknsh__al__track_007__round_0__20211207_212124__46481152.pt',\n",
       " 'gs://syrgoth/boda_library_design_202112/pickles/sg__hepg2__fsp__track_001__round_5__20211207_194303__533151.pt',\n",
       " 'gs://syrgoth/boda_library_design_202112/pickles/sg__hepg2__fsp__track_002__round_5__20211207_200902__195921.pt',\n",
       " 'gs://syrgoth/boda_library_design_202112/pickles/sg__hepg2__fsp__track_003__round_5__20211207_203209__786583.pt',\n",
       " 'gs://syrgoth/boda_library_design_202112/pickles/sg__hepg2__fsp__track_004__round_5__20211207_205446__207383.pt',\n",
       " 'gs://syrgoth/boda_library_design_202112/pickles/sg__hepg2__fsp__track_005__round_5__20211207_211919__792228.pt',\n",
       " 'gs://syrgoth/boda_library_design_202112/pickles/sg__hepg2__sa__track_001__round_5__20211207_063610__124703.pt',\n",
       " 'gs://syrgoth/boda_library_design_202112/pickles/sg__hepg2__sa__track_002__round_5__20211207_073549__261982.pt',\n",
       " 'gs://syrgoth/boda_library_design_202112/pickles/sg__hepg2__sa__track_003__round_5__20211207_085512__472183.pt',\n",
       " 'gs://syrgoth/boda_library_design_202112/pickles/sg__hepg2__sa__track_004__round_5__20211207_100944__255626.pt',\n",
       " 'gs://syrgoth/boda_library_design_202112/pickles/sg__hepg2__sa__track_005__round_5__20211207_112927__175796.pt',\n",
       " 'gs://syrgoth/boda_library_design_202112/pickles/sg__k562__fsp__track_000__round_5__20211207_162628__741229.pt',\n",
       " 'gs://syrgoth/boda_library_design_202112/pickles/sg__k562__fsp__track_001__round_5__20211207_170244__856014.pt',\n",
       " 'gs://syrgoth/boda_library_design_202112/pickles/sg__k562__fsp__track_002__round_5__20211207_172959__492870.pt',\n",
       " 'gs://syrgoth/boda_library_design_202112/pickles/sg__k562__fsp__track_003__round_5__20211207_180211__453310.pt',\n",
       " 'gs://syrgoth/boda_library_design_202112/pickles/sg__k562__fsp__track_004__round_5__20211207_183543__233410.pt',\n",
       " 'gs://syrgoth/boda_library_design_202112/pickles/sg__k562__fsp__track_005__round_5__20211207_191100__280822.pt',\n",
       " 'gs://syrgoth/boda_library_design_202112/pickles/sg__k562__sa__track_000__round_5__20211207_041308__347059.pt',\n",
       " 'gs://syrgoth/boda_library_design_202112/pickles/sg__k562__sa__track_001__round_5__20211207_195336__853804.pt',\n",
       " 'gs://syrgoth/boda_library_design_202112/pickles/sg__k562__sa__track_002__round_5__20211207_205407__862697.pt',\n",
       " 'gs://syrgoth/boda_library_design_202112/pickles/sg__k562__sa__track_003__round_5__20211207_214935__668330.pt',\n",
       " 'gs://syrgoth/boda_library_design_202112/pickles/sg__k562__sa__track_004__round_5__20211207_224529__679056.pt',\n",
       " 'gs://syrgoth/boda_library_design_202112/pickles/sg__k562__sa__track_005__round_5__20211207_234119__367484.pt',\n",
       " 'gs://syrgoth/boda_library_design_202112/pickles/sg__sknsh__fsp__track_001__round_5__20211207_214224__766389.pt',\n",
       " 'gs://syrgoth/boda_library_design_202112/pickles/sg__sknsh__fsp__track_002__round_5__20211207_221310__629682.pt',\n",
       " 'gs://syrgoth/boda_library_design_202112/pickles/sg__sknsh__fsp__track_003__round_5__20211207_225941__260395.pt',\n",
       " 'gs://syrgoth/boda_library_design_202112/pickles/sg__sknsh__fsp__track_004__round_5__20211207_234113__348936.pt',\n",
       " 'gs://syrgoth/boda_library_design_202112/pickles/sg__sknsh__fsp__track_005__round_5__20211208_000235__894360.pt',\n",
       " 'gs://syrgoth/boda_library_design_202112/pickles/sg__sknsh__sa__track_001__round_5__20211207_141610__992334.pt',\n",
       " 'gs://syrgoth/boda_library_design_202112/pickles/sg__sknsh__sa__track_002__round_5__20211207_152258__777391.pt',\n",
       " 'gs://syrgoth/boda_library_design_202112/pickles/sg__sknsh__sa__track_003__round_5__20211207_163007__848589.pt',\n",
       " 'gs://syrgoth/boda_library_design_202112/pickles/sg__sknsh__sa__track_004__round_5__20211207_175000__383007.pt',\n",
       " 'gs://syrgoth/boda_library_design_202112/pickles/sg__sknsh__sa__track_005__round_5__20211207_185623__627393.pt']"
      ]
     },
     "execution_count": 23,
     "metadata": {},
     "output_type": "execute_result"
    }
   ],
   "source": [
    "all_pickle_paths = !gsutil ls $'gs://syrgoth/boda_library_design_202112/pickles'\n",
    "all_pickle_paths = all_pickle_paths[1:]\n",
    "all_pickle_paths"
   ]
  },
  {
   "cell_type": "code",
   "execution_count": 24,
   "id": "tribal-threat",
   "metadata": {},
   "outputs": [
    {
     "name": "stderr",
     "output_type": "stream",
     "text": [
      "100%|██████████| 65/65 [01:28<00:00,  1.36s/it]\n"
     ]
    }
   ],
   "source": [
    "all_proposal_dicts = {}\n",
    "for file_name in tqdm(all_pickle_paths):\n",
    "    with tempfile.TemporaryDirectory() as tmpdir:\n",
    "        temp_loc = os.path.join(tmpdir, os.path.basename(file_name)) \n",
    "        subprocess.check_call(['gsutil', 'cp', file_name, temp_loc])\n",
    "        all_proposal_dicts[os.path.basename(file_name).rstrip('.pt')] = torch.load(temp_loc)"
   ]
  },
  {
   "cell_type": "code",
   "execution_count": 20,
   "id": "noted-little",
   "metadata": {},
   "outputs": [
    {
     "name": "stdout",
     "output_type": "stream",
     "text": [
      "['sg', 'sknsh', 'sa', 'track_005', 'round_5', '20211207_185623', '627393']\n",
      "['sg', 'sknsh', 'sa', 'track_005', 'round_5', '20211207_185623', '627393']\n",
      "['sg', 'sknsh', 'sa', 'track_005', 'round_5', '20211207_185623', '627393']\n",
      "['sg', 'sknsh', 'sa', 'track_005', 'round_5', '20211207_185623', '627393']\n",
      "['sg', 'sknsh', 'sa', 'track_005', 'round_5', '20211207_185623', '627393']\n",
      "['sg', 'sknsh', 'sa', 'track_005', 'round_5', '20211207_185623', '627393']\n",
      "['sg', 'sknsh', 'sa', 'track_005', 'round_5', '20211207_185623', '627393']\n",
      "['sg', 'sknsh', 'sa', 'track_005', 'round_5', '20211207_185623', '627393']\n",
      "['sg', 'sknsh', 'sa', 'track_005', 'round_5', '20211207_185623', '627393']\n",
      "['sg', 'sknsh', 'sa', 'track_005', 'round_5', '20211207_185623', '627393']\n",
      "['sg', 'sknsh', 'sa', 'track_005', 'round_5', '20211207_185623', '627393']\n",
      "['sg', 'sknsh', 'sa', 'track_005', 'round_5', '20211207_185623', '627393']\n",
      "['sg', 'sknsh', 'sa', 'track_005', 'round_5', '20211207_185623', '627393']\n",
      "['sg', 'sknsh', 'sa', 'track_005', 'round_5', '20211207_185623', '627393']\n",
      "['sg', 'sknsh', 'sa', 'track_005', 'round_5', '20211207_185623', '627393']\n",
      "['sg', 'sknsh', 'sa', 'track_005', 'round_5', '20211207_185623', '627393']\n",
      "['sg', 'sknsh', 'sa', 'track_005', 'round_5', '20211207_185623', '627393']\n",
      "['sg', 'sknsh', 'sa', 'track_005', 'round_5', '20211207_185623', '627393']\n",
      "['sg', 'sknsh', 'sa', 'track_005', 'round_5', '20211207_185623', '627393']\n",
      "['sg', 'sknsh', 'sa', 'track_005', 'round_5', '20211207_185623', '627393']\n",
      "['sg', 'sknsh', 'sa', 'track_005', 'round_5', '20211207_185623', '627393']\n",
      "['sg', 'sknsh', 'sa', 'track_005', 'round_5', '20211207_185623', '627393']\n",
      "['sg', 'sknsh', 'sa', 'track_005', 'round_5', '20211207_185623', '627393']\n",
      "['sg', 'sknsh', 'sa', 'track_005', 'round_5', '20211207_185623', '627393']\n",
      "['sg', 'sknsh', 'sa', 'track_005', 'round_5', '20211207_185623', '627393']\n",
      "['sg', 'sknsh', 'sa', 'track_005', 'round_5', '20211207_185623', '627393']\n",
      "['sg', 'sknsh', 'sa', 'track_005', 'round_5', '20211207_185623', '627393']\n",
      "['sg', 'sknsh', 'sa', 'track_005', 'round_5', '20211207_185623', '627393']\n",
      "['sg', 'sknsh', 'sa', 'track_005', 'round_5', '20211207_185623', '627393']\n",
      "['sg', 'sknsh', 'sa', 'track_005', 'round_5', '20211207_185623', '627393']\n",
      "['sg', 'sknsh', 'sa', 'track_005', 'round_5', '20211207_185623', '627393']\n",
      "['sg', 'sknsh', 'sa', 'track_005', 'round_5', '20211207_185623', '627393']\n"
     ]
    }
   ],
   "source": [
    "for key in all_proposal_dicts.keys():\n",
    "    user, celltype, generator, track_num, round_num, _, _ = key.split('__')\n",
    "    if user == 'sg':\n",
    "        proposals_list = all_proposal_dicts[key]['proposals']\n",
    "        for round_num, proposal_round in enumerate(proposals_list):\n",
    "            print(round_num)"
   ]
  },
  {
   "cell_type": "code",
   "execution_count": 28,
   "id": "alleged-polyester",
   "metadata": {},
   "outputs": [
    {
     "data": {
      "text/plain": [
       "6"
      ]
     },
     "execution_count": 28,
     "metadata": {},
     "output_type": "execute_result"
    }
   ],
   "source": [
    "len(all_proposal_dicts[key]['proposals'])"
   ]
  },
  {
   "cell_type": "code",
   "execution_count": null,
   "id": "juvenile-health",
   "metadata": {},
   "outputs": [],
   "source": []
  }
 ],
 "metadata": {
  "kernelspec": {
   "display_name": "Python 3",
   "language": "python",
   "name": "python3"
  },
  "language_info": {
   "codemirror_mode": {
    "name": "ipython",
    "version": 3
   },
   "file_extension": ".py",
   "mimetype": "text/x-python",
   "name": "python",
   "nbconvert_exporter": "python",
   "pygments_lexer": "ipython3",
   "version": "3.7.10"
  }
 },
 "nbformat": 4,
 "nbformat_minor": 5
}
