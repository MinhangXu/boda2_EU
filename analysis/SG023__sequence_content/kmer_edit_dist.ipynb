{
 "cells": [
  {
   "cell_type": "code",
   "execution_count": 1,
   "id": "cc96e866-645e-4599-9105-8f2d729e419b",
   "metadata": {},
   "outputs": [],
   "source": [
    "import sys\n",
    "import os\n",
    "import shutil\n",
    "import gzip\n",
    "import csv\n",
    "import multiprocessing\n",
    "\n",
    "import tqdm.notebook as tqnb\n",
    "\n",
    "import torch\n",
    "import torch.nn as nn\n",
    "import torch.nn.functional as F\n",
    "from torch.utils.data import TensorDataset, DataLoader\n",
    "\n",
    "import numpy as np\n",
    "import pandas as pd\n",
    "\n",
    "import boda\n",
    "from boda.common.utils import KmerFilter, dna2tensor\n",
    "\n",
    "import matplotlib.pyplot as plt\n",
    "from scipy.stats import pearsonr, spearmanr"
   ]
  },
  {
   "cell_type": "code",
   "execution_count": 2,
   "id": "5b51829d-a4a5-434e-be84-bc4905441c28",
   "metadata": {},
   "outputs": [],
   "source": [
    "def pad_tensor_200(in_tensor):\n",
    "    out_tensor = torch.cat([\n",
    "        in_tensor,\n",
    "        torch.zeros((4,200-in_tensor.shape[1]), device=in_tensor.device)\n",
    "    ], dim=1)\n",
    "    return out_tensor"
   ]
  },
  {
   "cell_type": "code",
   "execution_count": 3,
   "id": "69da5abe-4a10-4386-ad2d-58d0eca97312",
   "metadata": {},
   "outputs": [],
   "source": [
    "seq_table = pd.read_table('boda_round_1_controls_20211215.seq', sep='\\t', header=None, names=['ID','sequence'])\n",
    "\n",
    "seq_tensor = torch.stack(\n",
    "    [ pad_tensor_200(dna2tensor(line['sequence'])) for i, line in seq_table.iterrows() ], \n",
    "    dim=0\n",
    ")\n",
    "\n",
    "seq_loader = DataLoader(TensorDataset(seq_tensor), batch_size=1024)"
   ]
  },
  {
   "cell_type": "code",
   "execution_count": 4,
   "id": "65976533-589e-47af-b6a1-82681b0c1066",
   "metadata": {},
   "outputs": [
    {
     "data": {
      "text/plain": [
       "KmerFilter()"
      ]
     },
     "execution_count": 4,
     "metadata": {},
     "output_type": "execute_result"
    }
   ],
   "source": [
    "kmer_7 = KmerFilter(7)\n",
    "kmer_7.cuda()"
   ]
  },
  {
   "cell_type": "code",
   "execution_count": 5,
   "id": "1721c6e2-e6fc-441a-9339-023bff03a41f",
   "metadata": {},
   "outputs": [
    {
     "data": {
      "application/vnd.jupyter.widget-view+json": {
       "model_id": "a2f0772c116c469db731690e70927145",
       "version_major": 2,
       "version_minor": 0
      },
      "text/plain": [
       "  0%|          | 0/118 [00:00<?, ?it/s]"
      ]
     },
     "metadata": {},
     "output_type": "display_data"
    }
   ],
   "source": [
    "kmer_7_content = torch.cat([ kmer_7(batch[0].cuda()).sum(dim=-1).cpu() for batch in tqnb.tqdm(seq_loader) ], dim=0)"
   ]
  },
  {
   "cell_type": "code",
   "execution_count": 6,
   "id": "bca95c64-b60b-44e5-b62a-9ea7d068da20",
   "metadata": {},
   "outputs": [
    {
     "data": {
      "application/vnd.jupyter.widget-view+json": {
       "model_id": "e9cfeb62423348aca1e7c00bc595753a",
       "version_major": 2,
       "version_minor": 0
      },
      "text/plain": [
       "  0%|          | 0/120056 [00:00<?, ?it/s]"
      ]
     },
     "metadata": {},
     "output_type": "display_data"
    }
   ],
   "source": [
    "kmer_7_content = kmer_7_content.cuda()\n",
    "\n",
    "section_size = torch.arange(kmer_7_content.shape[0]).flip(dims=[0])\n",
    "flat_idxer   = torch.cat([torch.tensor([0],dtype=torch.long),torch.cumsum(section_size,dim=0,dtype=torch.long)])\n",
    "\n",
    "cos_dist = torch.full((torch.arange(kmer_7_content.shape[0]).sum(),), fill_value=np.nan)\n",
    "\n",
    "with torch.no_grad():\n",
    "    for i in tqnb.tqdm(range(kmer_7_content.shape[0]-1)):\n",
    "        cos_dist[flat_idxer[i]:flat_idxer[i+1]] = (kmer_7_content[i] - kmer_7_content[i+1:]) \\\n",
    "          .clamp(min=0).sum(axis=1).cpu()"
   ]
  },
  {
   "cell_type": "code",
   "execution_count": 7,
   "id": "176cbbae-b8aa-4941-afff-be44d11ca3df",
   "metadata": {},
   "outputs": [],
   "source": [
    "torch.save({'condensed_distance': cos_dist}, 'kmer_7__condensed_edit_matrix.pt')"
   ]
  },
  {
   "cell_type": "code",
   "execution_count": 8,
   "id": "c96fbfd8-385a-49cd-98f0-5505ac6410f4",
   "metadata": {},
   "outputs": [
    {
     "data": {
      "text/plain": [
       "120057"
      ]
     },
     "execution_count": 8,
     "metadata": {},
     "output_type": "execute_result"
    }
   ],
   "source": [
    "kmer_7_content.shape[0]"
   ]
  },
  {
   "cell_type": "markdown",
   "id": "c7ce4ed7-7293-4d63-a36e-2adf73378089",
   "metadata": {},
   "source": [
    "## redo shuffled\n",
    "\n",
    "rerun this with a fresh kernel"
   ]
  },
  {
   "cell_type": "code",
   "execution_count": 1,
   "id": "d4b22d9c-f7f1-4957-9d5e-58257138898c",
   "metadata": {},
   "outputs": [],
   "source": [
    "import sys\n",
    "import os\n",
    "import shutil\n",
    "import gzip\n",
    "import csv\n",
    "import multiprocessing\n",
    "\n",
    "import tqdm.notebook as tqnb\n",
    "\n",
    "import torch\n",
    "import torch.nn as nn\n",
    "import torch.nn.functional as F\n",
    "from torch.utils.data import TensorDataset, DataLoader\n",
    "\n",
    "import numpy as np\n",
    "import pandas as pd\n",
    "\n",
    "import boda\n",
    "from boda.common.utils import KmerFilter, dna2tensor\n",
    "\n",
    "import matplotlib.pyplot as plt\n",
    "from scipy.stats import pearsonr, spearmanr"
   ]
  },
  {
   "cell_type": "code",
   "execution_count": 2,
   "id": "fa752a3f-83e3-41ab-a4bb-d4e62ce4bb91",
   "metadata": {},
   "outputs": [],
   "source": [
    "!awk 'BEGIN {OFS=\"\\t\";FS=\"\\t\"} {print \">\"$1\"\\n\"$2}' boda_round_1_controls_20211215.seq  > boda_round_1_controls_20211215.fa\n",
    "!fasta-dinucleotide-shuffle -f boda_round_1_controls_20211215.fa -t _shuffle -s 19890207 > boda_round_1_controls_20211215.shuffle_1.fa"
   ]
  },
  {
   "cell_type": "code",
   "execution_count": 3,
   "id": "b93784d8-8d55-4a9d-8d41-359933990b1c",
   "metadata": {},
   "outputs": [],
   "source": [
    "def pad_tensor_200(in_tensor):\n",
    "    out_tensor = torch.cat([\n",
    "        in_tensor,\n",
    "        torch.zeros((4,200-in_tensor.shape[1]), device=in_tensor.device)\n",
    "    ], dim=1)\n",
    "    return out_tensor"
   ]
  },
  {
   "cell_type": "code",
   "execution_count": 4,
   "id": "ac0e4af3-c9fd-46c6-b6fb-ed5a57ff46da",
   "metadata": {},
   "outputs": [],
   "source": [
    "seq_table = {'ID': [], 'sequence': []}\n",
    "\n",
    "with open('boda_round_1_controls_20211215.shuffle_1.fa', 'r') as f:\n",
    "    for i, line in enumerate(f):\n",
    "        if i % 2 == 0:\n",
    "            seq_table['ID'].append( line.rstrip().lstrip('>') )\n",
    "        else:\n",
    "            seq_table['sequence'].append( line.rstrip() )\n",
    "            \n",
    "seq_table = pd.DataFrame.from_dict(seq_table, orient='columns')\n",
    "\n",
    "seq_tensor = torch.stack(\n",
    "    [ pad_tensor_200(dna2tensor(line['sequence'])) for i, line in seq_table.iterrows() ], \n",
    "    dim=0\n",
    ")\n",
    "\n",
    "seq_loader = DataLoader(TensorDataset(seq_tensor), batch_size=1024)"
   ]
  },
  {
   "cell_type": "code",
   "execution_count": 5,
   "id": "06e89246-ec05-498e-949f-14295638fbd9",
   "metadata": {},
   "outputs": [
    {
     "data": {
      "text/plain": [
       "KmerFilter()"
      ]
     },
     "execution_count": 5,
     "metadata": {},
     "output_type": "execute_result"
    }
   ],
   "source": [
    "kmer_7 = KmerFilter(7)\n",
    "kmer_7.cuda()"
   ]
  },
  {
   "cell_type": "code",
   "execution_count": 6,
   "id": "b122b674-cb70-4892-9004-38afb23127c0",
   "metadata": {},
   "outputs": [
    {
     "data": {
      "application/vnd.jupyter.widget-view+json": {
       "model_id": "0bc88eb8210341d49deee0d1e0a3f5fd",
       "version_major": 2,
       "version_minor": 0
      },
      "text/plain": [
       "  0%|          | 0/118 [00:00<?, ?it/s]"
      ]
     },
     "metadata": {},
     "output_type": "display_data"
    }
   ],
   "source": [
    "kmer_7_content = torch.cat([ kmer_7(batch[0].cuda()).sum(dim=-1).cpu() for batch in tqnb.tqdm(seq_loader) ], dim=0)"
   ]
  },
  {
   "cell_type": "code",
   "execution_count": 7,
   "id": "ca046cb7-c770-4c13-bd2f-9df6aceb495c",
   "metadata": {},
   "outputs": [
    {
     "data": {
      "application/vnd.jupyter.widget-view+json": {
       "model_id": "7193c0819a294b4b8886f0456297f42a",
       "version_major": 2,
       "version_minor": 0
      },
      "text/plain": [
       "  0%|          | 0/120056 [00:00<?, ?it/s]"
      ]
     },
     "metadata": {},
     "output_type": "display_data"
    }
   ],
   "source": [
    "kmer_7_content = kmer_7_content.cuda()\n",
    "\n",
    "section_size = torch.arange(kmer_7_content.shape[0]).flip(dims=[0])\n",
    "flat_idxer   = torch.cat([torch.tensor([0],dtype=torch.long),torch.cumsum(section_size,dim=0,dtype=torch.long)])\n",
    "\n",
    "cos_dist = torch.full((torch.arange(kmer_7_content.shape[0]).sum(),), fill_value=np.nan)\n",
    "\n",
    "with torch.no_grad():\n",
    "    for i in tqnb.tqdm(range(kmer_7_content.shape[0]-1)):\n",
    "        cos_dist[flat_idxer[i]:flat_idxer[i+1]] = (kmer_7_content[i] - kmer_7_content[i+1:]) \\\n",
    "          .clamp(min=0).sum(axis=1).cpu()"
   ]
  },
  {
   "cell_type": "code",
   "execution_count": 8,
   "id": "cebe4676-c5d8-4bf1-8b82-7d1d1e6a1783",
   "metadata": {},
   "outputs": [],
   "source": [
    "torch.save({'condensed_distance': cos_dist}, 'kmer_7__condensed_edit_matrix.shuffle_1.pt')"
   ]
  },
  {
   "cell_type": "code",
   "execution_count": 9,
   "id": "234f4bc5-a494-4950-b31e-659c96d83f89",
   "metadata": {},
   "outputs": [
    {
     "data": {
      "text/plain": [
       "120057"
      ]
     },
     "execution_count": 9,
     "metadata": {},
     "output_type": "execute_result"
    }
   ],
   "source": [
    "kmer_7_content.shape[0]"
   ]
  }
 ],
 "metadata": {
  "kernelspec": {
   "display_name": "Python 3 (ipykernel)",
   "language": "python",
   "name": "python3"
  },
  "language_info": {
   "codemirror_mode": {
    "name": "ipython",
    "version": 3
   },
   "file_extension": ".py",
   "mimetype": "text/x-python",
   "name": "python",
   "nbconvert_exporter": "python",
   "pygments_lexer": "ipython3",
   "version": "3.7.12"
  }
 },
 "nbformat": 4,
 "nbformat_minor": 5
}
