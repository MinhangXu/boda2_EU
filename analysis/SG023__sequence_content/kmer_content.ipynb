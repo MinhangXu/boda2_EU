{
 "cells": [
  {
   "cell_type": "code",
   "execution_count": 1,
   "id": "17d16ca5-c81e-4af1-a975-6d4eca15a73d",
   "metadata": {},
   "outputs": [
    {
     "name": "stdout",
     "output_type": "stream",
     "text": [
      "Reading package lists... Done\n",
      "Building dependency tree       \n",
      "Reading state information... Done\n",
      "bedtools is already the newest version (2.27.1+dfsg-4ubuntu1).\n",
      "0 upgraded, 0 newly installed, 0 to remove and 34 not upgraded.\n"
     ]
    }
   ],
   "source": [
    "!apt-get install bedtools"
   ]
  },
  {
   "cell_type": "code",
   "execution_count": 19,
   "id": "cc96e866-645e-4599-9105-8f2d729e419b",
   "metadata": {},
   "outputs": [],
   "source": [
    "import sys\n",
    "import os\n",
    "import shutil\n",
    "import gzip\n",
    "import csv\n",
    "import multiprocessing\n",
    "\n",
    "import tqdm.notebook as tqnb\n",
    "\n",
    "import torch\n",
    "import torch.nn as nn\n",
    "import torch.nn.functional as F\n",
    "from torch.utils.data import TensorDataset, DataLoader\n",
    "\n",
    "import numpy as np\n",
    "import pandas as pd\n",
    "\n",
    "import boda\n",
    "from boda.common.utils import KmerFilter, dna2tensor\n",
    "\n",
    "import matplotlib.pyplot as plt\n",
    "from scipy.stats import pearsonr, spearmanr\n",
    "from scipy.spatial.distance import hamming\n",
    "from sklearn.neighbors import NearestNeighbors"
   ]
  },
  {
   "cell_type": "code",
   "execution_count": 3,
   "id": "8af24f11-f453-474f-b7f1-cfce005460d0",
   "metadata": {},
   "outputs": [
    {
     "name": "stdout",
     "output_type": "stream",
     "text": [
      "File ‘ncbiRefSeqCurated.txt.gz’ already there; not retrieving.\n",
      "\n"
     ]
    }
   ],
   "source": [
    "!wget -nc https://hgdownload.soe.ucsc.edu/goldenPath/hg38/database/ncbiRefSeqCurated.txt.gz"
   ]
  },
  {
   "cell_type": "code",
   "execution_count": 4,
   "id": "97fac042-1994-460f-a6d9-a66340e97bbe",
   "metadata": {},
   "outputs": [],
   "source": [
    "genes = pd.read_table(\n",
    "    'ncbiRefSeqCurated.txt.gz', sep='\\t', header=None, index_col=False,\n",
    "    names=[\n",
    "        'bin','name','chrom','strand','txStart','txEnd','cdsStart','cdsEnd',\n",
    "        'exonCount','exonStart','exonEnds','score','name2','cdsStartStat','cdsEndStat','exonFrames'\n",
    "    ]\n",
    ")\n",
    "\n",
    "genes_subset = genes.loc[ genes['name'].str.contains('NM_') & ~genes['chrom'].str.contains('_') ].drop_duplicates('name2')"
   ]
  },
  {
   "cell_type": "code",
   "execution_count": 5,
   "id": "f9e4a8d2-b0a7-4f68-9082-d936d00dfacc",
   "metadata": {},
   "outputs": [],
   "source": [
    "genes_subset.loc[genes_subset['strand'] == '+', 'promoterStart'] = genes_subset.loc[ genes_subset['strand'] == '+', 'txStart' ] - 200\n",
    "genes_subset.loc[genes_subset['strand'] == '-', 'promoterStart'] = genes_subset.loc[ genes_subset['strand'] == '-', 'txEnd' ]\n",
    "\n",
    "genes_subset.loc[genes_subset['strand'] == '+', 'promoterEnd'] = genes_subset.loc[ genes_subset['strand'] == '+', 'txStart' ]\n",
    "genes_subset.loc[genes_subset['strand'] == '-', 'promoterEnd'] = genes_subset.loc[ genes_subset['strand'] == '-', 'txEnd' ] + 200\n",
    "\n",
    "genes_subset.loc[:, ['promoterStart', 'promoterEnd']] = genes_subset.loc[:, ['promoterStart', 'promoterEnd']].astype(int)\n",
    "                                                                  \n",
    "genes_subset.loc[:, ['chrom', 'promoterStart', 'promoterEnd', 'name2']].to_csv('simple_tss.bed', sep='\\t',index=False,header=False, quoting=csv.QUOTE_NONE)"
   ]
  },
  {
   "cell_type": "code",
   "execution_count": 14,
   "id": "b6a1db0a-06ce-4cb5-a7cd-ffe7dd380a84",
   "metadata": {},
   "outputs": [
    {
     "name": "stdout",
     "output_type": "stream",
     "text": [
      "File ‘GRCh38_no_alt_analysis_set_GCA_000001405.15.fasta.gz’ already there; not retrieving.\n",
      "\n",
      "gzip: invalid option -- 'y'\n",
      "Try `gzip --help' for more information.\n"
     ]
    }
   ],
   "source": [
    "!wget -nc https://www.encodeproject.org/files/GRCh38_no_alt_analysis_set_GCA_000001405.15/@@download/GRCh38_no_alt_analysis_set_GCA_000001405.15.fasta.gz\n",
    "!gunzip GRCh38_no_alt_analysis_set_GCA_000001405.15.fasta.gz -y\n"
   ]
  },
  {
   "cell_type": "code",
   "execution_count": 7,
   "id": "a7cd3203-32bc-4060-8d6b-71bdf35bb5dc",
   "metadata": {},
   "outputs": [],
   "source": [
    "!bedtools getfasta -name -tab -fi GRCh38_no_alt_analysis_set_GCA_000001405.15.fasta -bed simple_tss.bed > tss_seq.txt\n",
    "tss_seq = pd.read_table('tss_seq.txt', sep='\\t', header=None, names=['ID', 'sequence'])\n",
    "tss_seq['ID'] = 'TSS::' + tss_seq['ID']\n",
    "tss_seq.loc[ tss_seq['sequence'].str.contains('N'), 'sequence' ] = [ x.replace('N','A') for x in tss_seq.loc[ tss_seq['sequence'].str.contains('N'), 'sequence' ]]"
   ]
  },
  {
   "cell_type": "code",
   "execution_count": 8,
   "id": "5b51829d-a4a5-434e-be84-bc4905441c28",
   "metadata": {},
   "outputs": [],
   "source": [
    "def pad_tensor_200(in_tensor):\n",
    "    out_tensor = torch.cat([\n",
    "        in_tensor,\n",
    "        torch.zeros((4,200-in_tensor.shape[1]), device=in_tensor.device)\n",
    "    ], dim=1)\n",
    "    return out_tensor"
   ]
  },
  {
   "cell_type": "code",
   "execution_count": 9,
   "id": "1a794b63-ca83-4c7a-ab42-7e085e27ec9a",
   "metadata": {},
   "outputs": [],
   "source": [
    "tss_tensor = torch.stack(\n",
    "    [ pad_tensor_200(dna2tensor(line['sequence'])) for i, line in tss_seq.iterrows() ], \n",
    "    dim=0\n",
    ")\n",
    "\n",
    "tss_loader = DataLoader(TensorDataset(tss_tensor), batch_size=1024)"
   ]
  },
  {
   "cell_type": "code",
   "execution_count": 10,
   "id": "69da5abe-4a10-4386-ad2d-58d0eca97312",
   "metadata": {},
   "outputs": [],
   "source": [
    "seq_table = pd.read_table('boda_round_1_controls_20211215.seq', sep='\\t', header=None, names=['ID','sequence'])\n",
    "\n",
    "seq_tensor = torch.stack(\n",
    "    [ pad_tensor_200(dna2tensor(line['sequence'])) for i, line in seq_table.iterrows() ], \n",
    "    dim=0\n",
    ")\n",
    "\n",
    "seq_loader = DataLoader(TensorDataset(seq_tensor), batch_size=1024)"
   ]
  },
  {
   "cell_type": "code",
   "execution_count": null,
   "id": "2e88453a-8351-4e1e-944b-e166e1a2e7ce",
   "metadata": {},
   "outputs": [],
   "source": [
    "all_seq = pd.concat([])"
   ]
  },
  {
   "cell_type": "code",
   "execution_count": 11,
   "id": "65976533-589e-47af-b6a1-82681b0c1066",
   "metadata": {},
   "outputs": [
    {
     "data": {
      "text/plain": [
       "KmerFilter()"
      ]
     },
     "execution_count": 11,
     "metadata": {},
     "output_type": "execute_result"
    }
   ],
   "source": [
    "kmer_7 = KmerFilter(7)\n",
    "kmer_7.cuda()"
   ]
  },
  {
   "cell_type": "code",
   "execution_count": 13,
   "id": "1721c6e2-e6fc-441a-9339-023bff03a41f",
   "metadata": {},
   "outputs": [
    {
     "data": {
      "application/vnd.jupyter.widget-view+json": {
       "model_id": "6299ca4b02ee4e17a109d3b3a7447087",
       "version_major": 2,
       "version_minor": 0
      },
      "text/plain": [
       "  0%|          | 0/118 [00:00<?, ?it/s]"
      ]
     },
     "metadata": {},
     "output_type": "display_data"
    },
    {
     "data": {
      "application/vnd.jupyter.widget-view+json": {
       "model_id": "e09e71f364b44df9beca20790164e7f7",
       "version_major": 2,
       "version_minor": 0
      },
      "text/plain": [
       "  0%|          | 0/19 [00:00<?, ?it/s]"
      ]
     },
     "metadata": {},
     "output_type": "display_data"
    }
   ],
   "source": [
    "kmer_7_content = torch.cat([ kmer_7(batch[0].cuda()).sum(dim=-1).cpu() for batch in tqnb.tqdm(seq_loader) ], dim=0)\n",
    "kmer_7_tss     = torch.cat([ kmer_7(batch[0].cuda()).sum(dim=-1).cpu() for batch in tqnb.tqdm(tss_loader) ], dim=0)"
   ]
  },
  {
   "cell_type": "code",
   "execution_count": 23,
   "id": "935cb37b-4ef6-4ee0-bb20-e5994b3a5dcd",
   "metadata": {},
   "outputs": [
    {
     "name": "stdout",
     "output_type": "stream",
     "text": [
      "Copying file://./kmer_7__content.pt [Content-Type=application/octet-stream]...\n",
      "==> NOTE: You are uploading one or more large file(s), which would run          \n",
      "significantly faster if you enable parallel composite uploads. This\n",
      "feature can be enabled by editing the\n",
      "\"parallel_composite_upload_threshold\" value in your .boto\n",
      "configuration file. However, note that if you do this large files will\n",
      "be uploaded as `composite objects\n",
      "<https://cloud.google.com/storage/docs/composite-objects>`_,which\n",
      "means that any user who downloads such objects will need to have a\n",
      "compiled crcmod installed (see \"gsutil help crcmod\"). This is because\n",
      "without a compiled crcmod, computing checksums on composite objects is\n",
      "so slow that gsutil disables downloads of composite objects.\n",
      "\n",
      "/ [1/1 files][  8.5 GiB/  8.5 GiB] 100% Done 142.7 MiB/s ETA 00:00:00           \n",
      "Operation completed over 1 objects/8.5 GiB.                                      \n"
     ]
    }
   ],
   "source": [
    "torch.save(\n",
    "    {\n",
    "        'boda': {'ID': list(seq_table['ID']), 'kmers': kmer_7_content},\n",
    "        'tss': {'ID': list(tss_seq['ID']), 'kmers': kmer_7_tss},\n",
    "    }, 'kmer_7__content.pt'\n",
    ")\n",
    "!gsutil -m cp -n ./kmer_7__content.pt gs://syrgoth/data/\n"
   ]
  },
  {
   "cell_type": "code",
   "execution_count": 20,
   "id": "72458e6f-f06e-4236-85da-5a7dcbe4d9da",
   "metadata": {},
   "outputs": [
    {
     "ename": "KeyboardInterrupt",
     "evalue": "",
     "output_type": "error",
     "traceback": [
      "\u001b[0;31m---------------------------------------------------------------------------\u001b[0m",
      "\u001b[0;31mKeyboardInterrupt\u001b[0m                         Traceback (most recent call last)",
      "\u001b[0;32m/tmp/ipykernel_835/4130129990.py\u001b[0m in \u001b[0;36m<module>\u001b[0;34m\u001b[0m\n\u001b[1;32m      1\u001b[0m \u001b[0mget_knn\u001b[0m \u001b[0;34m=\u001b[0m \u001b[0mNearestNeighbors\u001b[0m\u001b[0;34m(\u001b[0m\u001b[0mn_neighbors\u001b[0m\u001b[0;34m=\u001b[0m\u001b[0;36m5\u001b[0m\u001b[0;34m,\u001b[0m \u001b[0mradius\u001b[0m\u001b[0;34m=\u001b[0m\u001b[0;36m1.0\u001b[0m\u001b[0;34m,\u001b[0m \u001b[0malgorithm\u001b[0m\u001b[0;34m=\u001b[0m\u001b[0;34m'auto'\u001b[0m\u001b[0;34m,\u001b[0m \u001b[0mleaf_size\u001b[0m\u001b[0;34m=\u001b[0m\u001b[0;36m30\u001b[0m\u001b[0;34m,\u001b[0m \u001b[0mmetric\u001b[0m\u001b[0;34m=\u001b[0m\u001b[0mhamming\u001b[0m\u001b[0;34m)\u001b[0m\u001b[0;34m.\u001b[0m\u001b[0mfit\u001b[0m\u001b[0;34m(\u001b[0m\u001b[0mkmer_7_content\u001b[0m\u001b[0;34m.\u001b[0m\u001b[0mnumpy\u001b[0m\u001b[0;34m(\u001b[0m\u001b[0;34m)\u001b[0m\u001b[0;34m)\u001b[0m\u001b[0;34m\u001b[0m\u001b[0;34m\u001b[0m\u001b[0m\n\u001b[0;32m----> 2\u001b[0;31m \u001b[0mdistances\u001b[0m\u001b[0;34m,\u001b[0m \u001b[0mindices\u001b[0m \u001b[0;34m=\u001b[0m \u001b[0mget_knn\u001b[0m\u001b[0;34m.\u001b[0m\u001b[0mkneighbors\u001b[0m\u001b[0;34m(\u001b[0m\u001b[0mkmer_7_content\u001b[0m\u001b[0;34m.\u001b[0m\u001b[0mnumpy\u001b[0m\u001b[0;34m(\u001b[0m\u001b[0;34m)\u001b[0m\u001b[0;34m)\u001b[0m\u001b[0;34m\u001b[0m\u001b[0;34m\u001b[0m\u001b[0m\n\u001b[0m",
      "\u001b[0;32m/opt/conda/lib/python3.7/site-packages/sklearn/neighbors/_base.py\u001b[0m in \u001b[0;36mkneighbors\u001b[0;34m(self, X, n_neighbors, return_distance)\u001b[0m\n\u001b[1;32m    757\u001b[0m                     \u001b[0mmetric\u001b[0m\u001b[0;34m=\u001b[0m\u001b[0mself\u001b[0m\u001b[0;34m.\u001b[0m\u001b[0meffective_metric_\u001b[0m\u001b[0;34m,\u001b[0m\u001b[0;34m\u001b[0m\u001b[0;34m\u001b[0m\u001b[0m\n\u001b[1;32m    758\u001b[0m                     \u001b[0mn_jobs\u001b[0m\u001b[0;34m=\u001b[0m\u001b[0mn_jobs\u001b[0m\u001b[0;34m,\u001b[0m\u001b[0;34m\u001b[0m\u001b[0;34m\u001b[0m\u001b[0m\n\u001b[0;32m--> 759\u001b[0;31m                     \u001b[0;34m**\u001b[0m\u001b[0mkwds\u001b[0m\u001b[0;34m,\u001b[0m\u001b[0;34m\u001b[0m\u001b[0;34m\u001b[0m\u001b[0m\n\u001b[0m\u001b[1;32m    760\u001b[0m                 )\n\u001b[1;32m    761\u001b[0m             )\n",
      "\u001b[0;32m/opt/conda/lib/python3.7/site-packages/sklearn/metrics/pairwise.py\u001b[0m in \u001b[0;36mpairwise_distances_chunked\u001b[0;34m(X, Y, reduce_func, metric, n_jobs, working_memory, **kwds)\u001b[0m\n\u001b[1;32m   1715\u001b[0m         \u001b[0;32melse\u001b[0m\u001b[0;34m:\u001b[0m\u001b[0;34m\u001b[0m\u001b[0;34m\u001b[0m\u001b[0m\n\u001b[1;32m   1716\u001b[0m             \u001b[0mX_chunk\u001b[0m \u001b[0;34m=\u001b[0m \u001b[0mX\u001b[0m\u001b[0;34m[\u001b[0m\u001b[0msl\u001b[0m\u001b[0;34m]\u001b[0m\u001b[0;34m\u001b[0m\u001b[0;34m\u001b[0m\u001b[0m\n\u001b[0;32m-> 1717\u001b[0;31m         \u001b[0mD_chunk\u001b[0m \u001b[0;34m=\u001b[0m \u001b[0mpairwise_distances\u001b[0m\u001b[0;34m(\u001b[0m\u001b[0mX_chunk\u001b[0m\u001b[0;34m,\u001b[0m \u001b[0mY\u001b[0m\u001b[0;34m,\u001b[0m \u001b[0mmetric\u001b[0m\u001b[0;34m=\u001b[0m\u001b[0mmetric\u001b[0m\u001b[0;34m,\u001b[0m \u001b[0mn_jobs\u001b[0m\u001b[0;34m=\u001b[0m\u001b[0mn_jobs\u001b[0m\u001b[0;34m,\u001b[0m \u001b[0;34m**\u001b[0m\u001b[0mkwds\u001b[0m\u001b[0;34m)\u001b[0m\u001b[0;34m\u001b[0m\u001b[0;34m\u001b[0m\u001b[0m\n\u001b[0m\u001b[1;32m   1718\u001b[0m         if (X is Y or Y is None) and PAIRWISE_DISTANCE_FUNCTIONS.get(\n\u001b[1;32m   1719\u001b[0m             \u001b[0mmetric\u001b[0m\u001b[0;34m,\u001b[0m \u001b[0;32mNone\u001b[0m\u001b[0;34m\u001b[0m\u001b[0;34m\u001b[0m\u001b[0m\n",
      "\u001b[0;32m/opt/conda/lib/python3.7/site-packages/sklearn/metrics/pairwise.py\u001b[0m in \u001b[0;36mpairwise_distances\u001b[0;34m(X, Y, metric, n_jobs, force_all_finite, **kwds)\u001b[0m\n\u001b[1;32m   1887\u001b[0m         \u001b[0mfunc\u001b[0m \u001b[0;34m=\u001b[0m \u001b[0mpartial\u001b[0m\u001b[0;34m(\u001b[0m\u001b[0mdistance\u001b[0m\u001b[0;34m.\u001b[0m\u001b[0mcdist\u001b[0m\u001b[0;34m,\u001b[0m \u001b[0mmetric\u001b[0m\u001b[0;34m=\u001b[0m\u001b[0mmetric\u001b[0m\u001b[0;34m,\u001b[0m \u001b[0;34m**\u001b[0m\u001b[0mkwds\u001b[0m\u001b[0;34m)\u001b[0m\u001b[0;34m\u001b[0m\u001b[0;34m\u001b[0m\u001b[0m\n\u001b[1;32m   1888\u001b[0m \u001b[0;34m\u001b[0m\u001b[0m\n\u001b[0;32m-> 1889\u001b[0;31m     \u001b[0;32mreturn\u001b[0m \u001b[0m_parallel_pairwise\u001b[0m\u001b[0;34m(\u001b[0m\u001b[0mX\u001b[0m\u001b[0;34m,\u001b[0m \u001b[0mY\u001b[0m\u001b[0;34m,\u001b[0m \u001b[0mfunc\u001b[0m\u001b[0;34m,\u001b[0m \u001b[0mn_jobs\u001b[0m\u001b[0;34m,\u001b[0m \u001b[0;34m**\u001b[0m\u001b[0mkwds\u001b[0m\u001b[0;34m)\u001b[0m\u001b[0;34m\u001b[0m\u001b[0;34m\u001b[0m\u001b[0m\n\u001b[0m\u001b[1;32m   1890\u001b[0m \u001b[0;34m\u001b[0m\u001b[0m\n\u001b[1;32m   1891\u001b[0m \u001b[0;34m\u001b[0m\u001b[0m\n",
      "\u001b[0;32m/opt/conda/lib/python3.7/site-packages/sklearn/metrics/pairwise.py\u001b[0m in \u001b[0;36m_parallel_pairwise\u001b[0;34m(X, Y, func, n_jobs, **kwds)\u001b[0m\n\u001b[1;32m   1428\u001b[0m \u001b[0;34m\u001b[0m\u001b[0m\n\u001b[1;32m   1429\u001b[0m     \u001b[0;32mif\u001b[0m \u001b[0meffective_n_jobs\u001b[0m\u001b[0;34m(\u001b[0m\u001b[0mn_jobs\u001b[0m\u001b[0;34m)\u001b[0m \u001b[0;34m==\u001b[0m \u001b[0;36m1\u001b[0m\u001b[0;34m:\u001b[0m\u001b[0;34m\u001b[0m\u001b[0;34m\u001b[0m\u001b[0m\n\u001b[0;32m-> 1430\u001b[0;31m         \u001b[0;32mreturn\u001b[0m \u001b[0mfunc\u001b[0m\u001b[0;34m(\u001b[0m\u001b[0mX\u001b[0m\u001b[0;34m,\u001b[0m \u001b[0mY\u001b[0m\u001b[0;34m,\u001b[0m \u001b[0;34m**\u001b[0m\u001b[0mkwds\u001b[0m\u001b[0;34m)\u001b[0m\u001b[0;34m\u001b[0m\u001b[0;34m\u001b[0m\u001b[0m\n\u001b[0m\u001b[1;32m   1431\u001b[0m \u001b[0;34m\u001b[0m\u001b[0m\n\u001b[1;32m   1432\u001b[0m     \u001b[0;31m# enforce a threading backend to prevent data communication overhead\u001b[0m\u001b[0;34m\u001b[0m\u001b[0;34m\u001b[0m\u001b[0;34m\u001b[0m\u001b[0m\n",
      "\u001b[0;32m/opt/conda/lib/python3.7/site-packages/sklearn/metrics/pairwise.py\u001b[0m in \u001b[0;36m_pairwise_callable\u001b[0;34m(X, Y, metric, force_all_finite, **kwds)\u001b[0m\n\u001b[1;32m   1472\u001b[0m         \u001b[0miterator\u001b[0m \u001b[0;34m=\u001b[0m \u001b[0mitertools\u001b[0m\u001b[0;34m.\u001b[0m\u001b[0mproduct\u001b[0m\u001b[0;34m(\u001b[0m\u001b[0mrange\u001b[0m\u001b[0;34m(\u001b[0m\u001b[0mX\u001b[0m\u001b[0;34m.\u001b[0m\u001b[0mshape\u001b[0m\u001b[0;34m[\u001b[0m\u001b[0;36m0\u001b[0m\u001b[0;34m]\u001b[0m\u001b[0;34m)\u001b[0m\u001b[0;34m,\u001b[0m \u001b[0mrange\u001b[0m\u001b[0;34m(\u001b[0m\u001b[0mY\u001b[0m\u001b[0;34m.\u001b[0m\u001b[0mshape\u001b[0m\u001b[0;34m[\u001b[0m\u001b[0;36m0\u001b[0m\u001b[0;34m]\u001b[0m\u001b[0;34m)\u001b[0m\u001b[0;34m)\u001b[0m\u001b[0;34m\u001b[0m\u001b[0;34m\u001b[0m\u001b[0m\n\u001b[1;32m   1473\u001b[0m         \u001b[0;32mfor\u001b[0m \u001b[0mi\u001b[0m\u001b[0;34m,\u001b[0m \u001b[0mj\u001b[0m \u001b[0;32min\u001b[0m \u001b[0miterator\u001b[0m\u001b[0;34m:\u001b[0m\u001b[0;34m\u001b[0m\u001b[0;34m\u001b[0m\u001b[0m\n\u001b[0;32m-> 1474\u001b[0;31m             \u001b[0mout\u001b[0m\u001b[0;34m[\u001b[0m\u001b[0mi\u001b[0m\u001b[0;34m,\u001b[0m \u001b[0mj\u001b[0m\u001b[0;34m]\u001b[0m \u001b[0;34m=\u001b[0m \u001b[0mmetric\u001b[0m\u001b[0;34m(\u001b[0m\u001b[0mX\u001b[0m\u001b[0;34m[\u001b[0m\u001b[0mi\u001b[0m\u001b[0;34m]\u001b[0m\u001b[0;34m,\u001b[0m \u001b[0mY\u001b[0m\u001b[0;34m[\u001b[0m\u001b[0mj\u001b[0m\u001b[0;34m]\u001b[0m\u001b[0;34m,\u001b[0m \u001b[0;34m**\u001b[0m\u001b[0mkwds\u001b[0m\u001b[0;34m)\u001b[0m\u001b[0;34m\u001b[0m\u001b[0;34m\u001b[0m\u001b[0m\n\u001b[0m\u001b[1;32m   1475\u001b[0m \u001b[0;34m\u001b[0m\u001b[0m\n\u001b[1;32m   1476\u001b[0m     \u001b[0;32mreturn\u001b[0m \u001b[0mout\u001b[0m\u001b[0;34m\u001b[0m\u001b[0;34m\u001b[0m\u001b[0m\n",
      "\u001b[0;32m/opt/conda/lib/python3.7/site-packages/scipy/spatial/distance.py\u001b[0m in \u001b[0;36mhamming\u001b[0;34m(u, v, w)\u001b[0m\n\u001b[1;32m    799\u001b[0m     \u001b[0;32mif\u001b[0m \u001b[0mw\u001b[0m \u001b[0;32mis\u001b[0m \u001b[0;32mnot\u001b[0m \u001b[0;32mNone\u001b[0m\u001b[0;34m:\u001b[0m\u001b[0;34m\u001b[0m\u001b[0;34m\u001b[0m\u001b[0m\n\u001b[1;32m    800\u001b[0m         \u001b[0mw\u001b[0m \u001b[0;34m=\u001b[0m \u001b[0m_validate_weights\u001b[0m\u001b[0;34m(\u001b[0m\u001b[0mw\u001b[0m\u001b[0;34m)\u001b[0m\u001b[0;34m\u001b[0m\u001b[0;34m\u001b[0m\u001b[0m\n\u001b[0;32m--> 801\u001b[0;31m     \u001b[0;32mreturn\u001b[0m \u001b[0mnp\u001b[0m\u001b[0;34m.\u001b[0m\u001b[0maverage\u001b[0m\u001b[0;34m(\u001b[0m\u001b[0mu_ne_v\u001b[0m\u001b[0;34m,\u001b[0m \u001b[0mweights\u001b[0m\u001b[0;34m=\u001b[0m\u001b[0mw\u001b[0m\u001b[0;34m)\u001b[0m\u001b[0;34m\u001b[0m\u001b[0;34m\u001b[0m\u001b[0m\n\u001b[0m\u001b[1;32m    802\u001b[0m \u001b[0;34m\u001b[0m\u001b[0m\n\u001b[1;32m    803\u001b[0m \u001b[0;34m\u001b[0m\u001b[0m\n",
      "\u001b[0;32m<__array_function__ internals>\u001b[0m in \u001b[0;36maverage\u001b[0;34m(*args, **kwargs)\u001b[0m\n",
      "\u001b[0;32m/opt/conda/lib/python3.7/site-packages/numpy/lib/function_base.py\u001b[0m in \u001b[0;36maverage\u001b[0;34m(a, axis, weights, returned)\u001b[0m\n\u001b[1;32m    278\u001b[0m \u001b[0;34m\u001b[0m\u001b[0m\n\u001b[1;32m    279\u001b[0m \u001b[0;34m\u001b[0m\u001b[0m\n\u001b[0;32m--> 280\u001b[0;31m \u001b[0;34m@\u001b[0m\u001b[0marray_function_dispatch\u001b[0m\u001b[0;34m(\u001b[0m\u001b[0m_average_dispatcher\u001b[0m\u001b[0;34m)\u001b[0m\u001b[0;34m\u001b[0m\u001b[0;34m\u001b[0m\u001b[0m\n\u001b[0m\u001b[1;32m    281\u001b[0m \u001b[0;32mdef\u001b[0m \u001b[0maverage\u001b[0m\u001b[0;34m(\u001b[0m\u001b[0ma\u001b[0m\u001b[0;34m,\u001b[0m \u001b[0maxis\u001b[0m\u001b[0;34m=\u001b[0m\u001b[0;32mNone\u001b[0m\u001b[0;34m,\u001b[0m \u001b[0mweights\u001b[0m\u001b[0;34m=\u001b[0m\u001b[0;32mNone\u001b[0m\u001b[0;34m,\u001b[0m \u001b[0mreturned\u001b[0m\u001b[0;34m=\u001b[0m\u001b[0;32mFalse\u001b[0m\u001b[0;34m)\u001b[0m\u001b[0;34m:\u001b[0m\u001b[0;34m\u001b[0m\u001b[0;34m\u001b[0m\u001b[0m\n\u001b[1;32m    282\u001b[0m     \"\"\"\n",
      "\u001b[0;31mKeyboardInterrupt\u001b[0m: "
     ]
    }
   ],
   "source": [
    "get_knn = NearestNeighbors(n_neighbors=5, radius=1.0, algorithm='auto', leaf_size=30, metric=hamming).fit(kmer_7_content.numpy())\n",
    "distances, indices = get_knn.kneighbors(kmer_7_content.numpy())"
   ]
  },
  {
   "cell_type": "code",
   "execution_count": 6,
   "id": "bca95c64-b60b-44e5-b62a-9ea7d068da20",
   "metadata": {},
   "outputs": [
    {
     "data": {
      "application/vnd.jupyter.widget-view+json": {
       "model_id": "5d46bb5553fd4b32b762846b958564e4",
       "version_major": 2,
       "version_minor": 0
      },
      "text/plain": [
       "  0%|          | 0/120056 [00:00<?, ?it/s]"
      ]
     },
     "metadata": {},
     "output_type": "display_data"
    }
   ],
   "source": [
    "kmer_7_content = kmer_7_content.cuda()\n",
    "\n",
    "cos = nn.CosineSimilarity(dim=1, eps=1e-6)\n",
    "cos.cuda()\n",
    "\n",
    "section_size = torch.arange(kmer_7_content.shape[0]).flip(dims=[0])\n",
    "flat_idxer   = torch.cat([torch.tensor([0],dtype=torch.long),torch.cumsum(section_size,dim=0,dtype=torch.long)])\n",
    "\n",
    "cos_dist = torch.full((torch.arange(kmer_7_content.shape[0]).sum(),), fill_value=np.nan)\n",
    "\n",
    "with torch.no_grad():\n",
    "    for i in tqnb.tqdm(range(kmer_7_content.shape[0]-1)):\n",
    "        cos_dist[flat_idxer[i]:flat_idxer[i+1]] = 1 - cos(\n",
    "                          kmer_7_content[i][None,:].expand(kmer_7_content.shape[0]-i-1,-1), \n",
    "                          kmer_7_content[i+1:]\n",
    "                        ).cpu()"
   ]
  },
  {
   "cell_type": "code",
   "execution_count": 7,
   "id": "176cbbae-b8aa-4941-afff-be44d11ca3df",
   "metadata": {},
   "outputs": [],
   "source": [
    "torch.save({'condensed_distance': cos_dist}, 'kmer_7__condensed_distance_matrix.pt')"
   ]
  },
  {
   "cell_type": "code",
   "execution_count": 8,
   "id": "c96fbfd8-385a-49cd-98f0-5505ac6410f4",
   "metadata": {},
   "outputs": [
    {
     "data": {
      "text/plain": [
       "120057"
      ]
     },
     "execution_count": 8,
     "metadata": {},
     "output_type": "execute_result"
    }
   ],
   "source": [
    "kmer_7_content.shape[0]"
   ]
  },
  {
   "cell_type": "markdown",
   "id": "c7ce4ed7-7293-4d63-a36e-2adf73378089",
   "metadata": {},
   "source": [
    "## redo shuffled\n",
    "\n",
    "rerun this with a fresh kernel"
   ]
  },
  {
   "cell_type": "code",
   "execution_count": 1,
   "id": "d4b22d9c-f7f1-4957-9d5e-58257138898c",
   "metadata": {},
   "outputs": [],
   "source": [
    "import sys\n",
    "import os\n",
    "import shutil\n",
    "import gzip\n",
    "import csv\n",
    "import multiprocessing\n",
    "\n",
    "import tqdm.notebook as tqnb\n",
    "\n",
    "import torch\n",
    "import torch.nn as nn\n",
    "import torch.nn.functional as F\n",
    "from torch.utils.data import TensorDataset, DataLoader\n",
    "\n",
    "import numpy as np\n",
    "import pandas as pd\n",
    "\n",
    "import boda\n",
    "from boda.common.utils import KmerFilter, dna2tensor\n",
    "\n",
    "import matplotlib.pyplot as plt\n",
    "from scipy.stats import pearsonr, spearmanr"
   ]
  },
  {
   "cell_type": "code",
   "execution_count": 2,
   "id": "fa752a3f-83e3-41ab-a4bb-d4e62ce4bb91",
   "metadata": {},
   "outputs": [],
   "source": [
    "!awk 'BEGIN {OFS=\"\\t\";FS=\"\\t\"} {print \">\"$1\"\\n\"$2}' boda_round_1_controls_20211215.seq  > boda_round_1_controls_20211215.fa\n",
    "!fasta-dinucleotide-shuffle -f boda_round_1_controls_20211215.fa -t _shuffle -s 19890207 > boda_round_1_controls_20211215.shuffle_1.fa"
   ]
  },
  {
   "cell_type": "code",
   "execution_count": 3,
   "id": "b93784d8-8d55-4a9d-8d41-359933990b1c",
   "metadata": {},
   "outputs": [],
   "source": [
    "def pad_tensor_200(in_tensor):\n",
    "    out_tensor = torch.cat([\n",
    "        in_tensor,\n",
    "        torch.zeros((4,200-in_tensor.shape[1]), device=in_tensor.device)\n",
    "    ], dim=1)\n",
    "    return out_tensor"
   ]
  },
  {
   "cell_type": "code",
   "execution_count": 4,
   "id": "ac0e4af3-c9fd-46c6-b6fb-ed5a57ff46da",
   "metadata": {},
   "outputs": [],
   "source": [
    "seq_table = {'ID': [], 'sequence': []}\n",
    "\n",
    "with open('boda_round_1_controls_20211215.shuffle_1.fa', 'r') as f:\n",
    "    for i, line in enumerate(f):\n",
    "        if i % 2 == 0:\n",
    "            seq_table['ID'].append( line.rstrip().lstrip('>') )\n",
    "        else:\n",
    "            seq_table['sequence'].append( line.rstrip() )\n",
    "            \n",
    "seq_table = pd.DataFrame.from_dict(seq_table, orient='columns')\n",
    "\n",
    "seq_tensor = torch.stack(\n",
    "    [ pad_tensor_200(dna2tensor(line['sequence'])) for i, line in seq_table.iterrows() ], \n",
    "    dim=0\n",
    ")\n",
    "\n",
    "seq_loader = DataLoader(TensorDataset(seq_tensor), batch_size=1024)"
   ]
  },
  {
   "cell_type": "code",
   "execution_count": 5,
   "id": "06e89246-ec05-498e-949f-14295638fbd9",
   "metadata": {},
   "outputs": [
    {
     "data": {
      "text/plain": [
       "KmerFilter()"
      ]
     },
     "execution_count": 5,
     "metadata": {},
     "output_type": "execute_result"
    }
   ],
   "source": [
    "kmer_7 = KmerFilter(7)\n",
    "kmer_7.cuda()"
   ]
  },
  {
   "cell_type": "code",
   "execution_count": 6,
   "id": "b122b674-cb70-4892-9004-38afb23127c0",
   "metadata": {},
   "outputs": [
    {
     "data": {
      "application/vnd.jupyter.widget-view+json": {
       "model_id": "e857e19726734b1fa42c52e13a4231ee",
       "version_major": 2,
       "version_minor": 0
      },
      "text/plain": [
       "  0%|          | 0/118 [00:00<?, ?it/s]"
      ]
     },
     "metadata": {},
     "output_type": "display_data"
    }
   ],
   "source": [
    "kmer_7_content = torch.cat([ kmer_7(batch[0].cuda()).sum(dim=-1).cpu() for batch in tqnb.tqdm(seq_loader) ], dim=0)"
   ]
  },
  {
   "cell_type": "code",
   "execution_count": 7,
   "id": "6beffdf9-33a6-4efd-a3d1-203571c40807",
   "metadata": {},
   "outputs": [
    {
     "name": "stdout",
     "output_type": "stream",
     "text": [
      "Copying file://./kmer_7__content__shuffled.pt [Content-Type=application/octet-stream]...\n",
      "==> NOTE: You are uploading one or more large file(s), which would run          \n",
      "significantly faster if you enable parallel composite uploads. This\n",
      "feature can be enabled by editing the\n",
      "\"parallel_composite_upload_threshold\" value in your .boto\n",
      "configuration file. However, note that if you do this large files will\n",
      "be uploaded as `composite objects\n",
      "<https://cloud.google.com/storage/docs/composite-objects>`_,which\n",
      "means that any user who downloads such objects will need to have a\n",
      "compiled crcmod installed (see \"gsutil help crcmod\"). This is because\n",
      "without a compiled crcmod, computing checksums on composite objects is\n",
      "so slow that gsutil disables downloads of composite objects.\n",
      "\n",
      "/ [1/1 files][  7.3 GiB/  7.3 GiB] 100% Done 145.3 MiB/s ETA 00:00:00           \n",
      "Operation completed over 1 objects/7.3 GiB.                                      \n"
     ]
    }
   ],
   "source": [
    "torch.save(\n",
    "    {\n",
    "        'shuffled': {'ID': list(seq_table['ID']), 'kmers': kmer_7_content},\n",
    "    }, 'kmer_7__content__shuffled.pt'\n",
    ")\n",
    "!gsutil -m cp -n ./kmer_7__content__shuffled.pt gs://syrgoth/data/\n"
   ]
  },
  {
   "cell_type": "code",
   "execution_count": 7,
   "id": "ca046cb7-c770-4c13-bd2f-9df6aceb495c",
   "metadata": {},
   "outputs": [
    {
     "data": {
      "application/vnd.jupyter.widget-view+json": {
       "model_id": "79c69b7ffcd44fd7adbca49d428207e0",
       "version_major": 2,
       "version_minor": 0
      },
      "text/plain": [
       "  0%|          | 0/120056 [00:00<?, ?it/s]"
      ]
     },
     "metadata": {},
     "output_type": "display_data"
    }
   ],
   "source": [
    "kmer_7_content = kmer_7_content.cuda()\n",
    "\n",
    "cos = nn.CosineSimilarity(dim=1, eps=1e-6)\n",
    "cos.cuda()\n",
    "\n",
    "section_size = torch.arange(kmer_7_content.shape[0]).flip(dims=[0])\n",
    "flat_idxer   = torch.cat([torch.tensor([0],dtype=torch.long),torch.cumsum(section_size,dim=0,dtype=torch.long)])\n",
    "\n",
    "cos_dist = torch.full((torch.arange(kmer_7_content.shape[0]).sum(),), fill_value=np.nan)\n",
    "\n",
    "with torch.no_grad():\n",
    "    for i in tqnb.tqdm(range(kmer_7_content.shape[0]-1)):\n",
    "        cos_dist[flat_idxer[i]:flat_idxer[i+1]] = 1 - cos(\n",
    "                          kmer_7_content[i][None,:].expand(kmer_7_content.shape[0]-i-1,-1), \n",
    "                          kmer_7_content[i+1:]\n",
    "                        ).cpu()"
   ]
  },
  {
   "cell_type": "code",
   "execution_count": 8,
   "id": "cebe4676-c5d8-4bf1-8b82-7d1d1e6a1783",
   "metadata": {},
   "outputs": [],
   "source": [
    "torch.save({'condensed_distance': cos_dist}, 'kmer_7__condensed_distance_matrix.shuffle_1.pt')"
   ]
  },
  {
   "cell_type": "code",
   "execution_count": 9,
   "id": "234f4bc5-a494-4950-b31e-659c96d83f89",
   "metadata": {},
   "outputs": [
    {
     "data": {
      "text/plain": [
       "120057"
      ]
     },
     "execution_count": 9,
     "metadata": {},
     "output_type": "execute_result"
    }
   ],
   "source": [
    "kmer_7_content.shape[0]"
   ]
  }
 ],
 "metadata": {
  "kernelspec": {
   "display_name": "Python 3 (ipykernel)",
   "language": "python",
   "name": "python3"
  },
  "language_info": {
   "codemirror_mode": {
    "name": "ipython",
    "version": 3
   },
   "file_extension": ".py",
   "mimetype": "text/x-python",
   "name": "python",
   "nbconvert_exporter": "python",
   "pygments_lexer": "ipython3",
   "version": "3.7.12"
  }
 },
 "nbformat": 4,
 "nbformat_minor": 5
}
