{
 "cells": [
  {
   "cell_type": "code",
   "execution_count": 1,
   "id": "arbitrary-preserve",
   "metadata": {},
   "outputs": [
    {
     "data": {
      "text/html": [
       "<style>.container { width:98% !important; }</style>"
      ],
      "text/plain": [
       "<IPython.core.display.HTML object>"
      ]
     },
     "metadata": {},
     "output_type": "display_data"
    }
   ],
   "source": [
    "import sys\n",
    "import os\n",
    "import subprocess\n",
    "import tarfile\n",
    "import shutil\n",
    "import random\n",
    "from functools import partial\n",
    "from tqdm import tqdm\n",
    "from tqdm.auto import tqdm\n",
    "tqdm.pandas()\n",
    "\n",
    "import numpy as np\n",
    "import torch\n",
    "import torch.nn as nn\n",
    "import torch.nn.functional as F\n",
    "from torch.utils.data import (random_split, DataLoader, TensorDataset, ConcatDataset)\n",
    "import pandas as pd\n",
    "import matplotlib.pyplot as plt\n",
    "import seaborn as sns\n",
    "from mpl_toolkits import mplot3d\n",
    "from Bio import motifs\n",
    "import pickle\n",
    "from datetime import datetime\n",
    "import scipy.stats as stats\n",
    "import math\n",
    "\n",
    "import boda\n",
    "from boda.common import constants, utils\n",
    "\n",
    "boda_src = os.path.join( os.path.dirname( os.path.dirname( os.getcwd() ) ), 'src' )\n",
    "sys.path.insert(0, boda_src)\n",
    "\n",
    "from main import unpack_artifact, model_fn\n",
    "from pymeme import streme, parse_streme_output\n",
    "\n",
    "from torch.distributions.categorical import Categorical\n",
    "from boda.generator.plot_tools import matrix_to_dms, ppm_to_IC, ppm_to_pwm, counts_to_ppm\n",
    "\n",
    "from IPython.core.display import display, HTML\n",
    "display(HTML(\"<style>.container { width:98% !important; }</style>\"))"
   ]
  },
  {
   "cell_type": "code",
   "execution_count": 2,
   "id": "tamil-referral",
   "metadata": {},
   "outputs": [
    {
     "name": "stdout",
     "output_type": "stream",
     "text": [
      "Loaded model from 20211113_021200 in eval mode\n",
      "\n"
     ]
    },
    {
     "name": "stderr",
     "output_type": "stream",
     "text": [
      "archive unpacked in ./\n"
     ]
    }
   ],
   "source": [
    "if os.path.isdir('./artifacts'):\n",
    "    shutil.rmtree('./artifacts')\n",
    "hpo_rec = 'gs://syrgoth/aip_ui_test/model_artifacts__20211113_021200__287348.tar.gz'\n",
    "unpack_artifact(hpo_rec)\n",
    "\n",
    "model_dir = './artifacts'\n",
    "model = model_fn(model_dir)\n",
    "#model.cuda()\n",
    "model.eval()\n",
    "print('')"
   ]
  },
  {
   "cell_type": "code",
   "execution_count": 3,
   "id": "embedded-freeware",
   "metadata": {},
   "outputs": [],
   "source": [
    "class mpra_predictor(nn.Module):\n",
    "    def __init__(self,\n",
    "                 model,\n",
    "                 pred_idx=0,\n",
    "                 ini_in_len=200,\n",
    "                 model_in_len=600,\n",
    "                 cat_axis=-1):\n",
    "        super().__init__()\n",
    "        self.model = model\n",
    "        self.pred_idx = pred_idx\n",
    "        self.ini_in_len = ini_in_len \n",
    "        self.model_in_len = model_in_len\n",
    "        self.cat_axis = cat_axis       \n",
    "        \n",
    "        try: self.model.eval()\n",
    "        except: pass\n",
    "        \n",
    "        self.register_flanks()\n",
    "    \n",
    "    def forward(self, x):\n",
    "        pieces = [self.left_flank.repeat(x.shape[0], 1, 1), x, self.right_flank.repeat(x.shape[0], 1, 1)]\n",
    "        in_tensor = torch.cat( pieces, axis=self.cat_axis)\n",
    "        out_tensor = self.model(in_tensor)[:, self.pred_idx]\n",
    "        return out_tensor\n",
    "    \n",
    "    def register_flanks(self):\n",
    "        missing_len = self.model_in_len - self.ini_in_len\n",
    "        left_idx = - missing_len//2 + missing_len%2\n",
    "        right_idx = missing_len//2 + missing_len%2\n",
    "        left_flank = utils.dna2tensor(constants.MPRA_UPSTREAM[left_idx:]).unsqueeze(0)\n",
    "        right_flank = utils.dna2tensor(constants.MPRA_DOWNSTREAM[:right_idx]).unsqueeze(0)         \n",
    "        self.register_buffer('left_flank', left_flank)\n",
    "        self.register_buffer('right_flank', right_flank) \n",
    "\n",
    "        \n",
    "def df_to_onehot_tensor(in_df, seq_column='sequence'):\n",
    "    onehot_sequences = torch.stack([utils.dna2tensor(subsequence) \\\n",
    "                                for subsequence in tqdm(in_df[seq_column])])\n",
    "    return onehot_sequences\n",
    "\n",
    "def fasta_to_tensor(file_name):\n",
    "    fasta_dict = {}\n",
    "    with open(file_name, 'r') as f:\n",
    "        for line in f:\n",
    "            line_str = str(line)\n",
    "            if line_str[0] == '>':\n",
    "                my_id = line_str.lstrip('>').rstrip('\\n')\n",
    "                fasta_dict[my_id] = ''\n",
    "            else:\n",
    "                fasta_dict[my_id] += line_str.rstrip('\\n')\n",
    "    seq_tensors = []\n",
    "    for sequence in list(fasta_dict.values()):\n",
    "        seq_tensors.append(utils.dna2tensor(sequence))\n",
    "    return torch.stack(seq_tensors, dim=0)\n",
    "\n",
    "def dna2tensor_approx(sequence_str, vocab_list=constants.STANDARD_NT, N_value=0.25):\n",
    "    seq_tensor = np.zeros((len(vocab_list), len(sequence_str)))\n",
    "    for letterIdx, letter in enumerate(sequence_str):\n",
    "        try:\n",
    "            seq_tensor[vocab_list.index(letter), letterIdx] = 1\n",
    "        except:\n",
    "            seq_tensor[:, letterIdx] = N_value\n",
    "    seq_tensor = torch.Tensor(seq_tensor)\n",
    "    return seq_tensor\n",
    "\n",
    "def frame_print(string, marker='*', left_space=25):\n",
    "    left_spacer = left_space * ' '\n",
    "    string = marker + ' ' + string.upper() + ' ' + marker\n",
    "    n = len(string)\n",
    "    print('', flush=True)\n",
    "    print('', flush=True)\n",
    "    print(left_spacer + n * marker, flush=True)\n",
    "    print(left_spacer + string, flush=True)\n",
    "    print(left_spacer + n * marker, flush=True)\n",
    "    print('', flush=True)\n",
    "    print('', flush=True)\n",
    "    \n",
    "def decor_print(string):\n",
    "    decor = 15*'-'\n",
    "    print('', flush=True)\n",
    "    print(decor + ' ' + string + ' ' + decor, flush=True)\n",
    "    print('', flush=True)"
   ]
  },
  {
   "cell_type": "code",
   "execution_count": 4,
   "id": "designed-exercise",
   "metadata": {},
   "outputs": [],
   "source": [
    "def isg_contributions(sequences,\n",
    "                      predictor,\n",
    "                      num_steps=50,\n",
    "                      num_samples=20,\n",
    "                      eval_batch_size=1024,\n",
    "                      theta_factor=15):\n",
    "    \n",
    "    batch_size = eval_batch_size // num_samples\n",
    "    temp_dataset = TensorDataset(sequences)\n",
    "    temp_dataloader = DataLoader(temp_dataset, batch_size=batch_size, shuffle=False, num_workers=2)\n",
    "\n",
    "    all_salient_maps = []\n",
    "    for local_batch in tqdm(temp_dataloader):\n",
    "        target_thetas = (theta_factor * local_batch[0].cuda()).requires_grad_()\n",
    "        line_gradients = []\n",
    "        for i in range(0, num_steps + 1):\n",
    "            point_thetas = (i / num_steps * target_thetas)\n",
    "            point_distributions = F.softmax(point_thetas, dim=-2)\n",
    "\n",
    "            nucleotide_probs = Categorical(torch.transpose(point_distributions, -2, -1))\n",
    "            sampled_idxs = nucleotide_probs.sample((num_samples, ))\n",
    "            sampled_nucleotides_T = F.one_hot(sampled_idxs, num_classes=4)\n",
    "            sampled_nucleotides = torch.transpose(sampled_nucleotides_T, -2, -1)\n",
    "            distribution_repeater = point_distributions.repeat(num_samples, *[1 for i in range(3)])\n",
    "            sampled_nucleotides = sampled_nucleotides - distribution_repeater.detach() + distribution_repeater \n",
    "            samples = sampled_nucleotides.flatten(0,1)\n",
    "\n",
    "            preds = predictor(samples)\n",
    "            point_predictions = preds.unflatten(0, (num_samples, target_thetas.shape[0])).mean(dim=0)\n",
    "            point_gradients = torch.autograd.grad(point_predictions.sum(), inputs=point_thetas, retain_graph=True)[0]\n",
    "            line_gradients.append(point_gradients)\n",
    "            \n",
    "        gradients = torch.stack(line_gradients).mean(dim=0) \n",
    "        all_salient_maps.append(gradients * target_thetas)\n",
    "    return torch.cat(all_salient_maps)"
   ]
  },
  {
   "cell_type": "code",
   "execution_count": 5,
   "id": "binding-nebraska",
   "metadata": {},
   "outputs": [],
   "source": [
    "k562_predictor = mpra_predictor(model=model, pred_idx=0).cuda()"
   ]
  },
  {
   "cell_type": "code",
   "execution_count": 6,
   "id": "successful-framework",
   "metadata": {},
   "outputs": [
    {
     "name": "stdout",
     "output_type": "stream",
     "text": [
      "chrX:47,644,550-49,644,949\n"
     ]
    }
   ],
   "source": [
    "left_pad = 200\n",
    "right_pad = 200\n",
    "gata_chr = 'X'\n",
    "gata_locus_start = 47644750 - left_pad\n",
    "gata_locus_end = 49644750 + right_pad - 1\n",
    "gata_locus_coord = 'chr' + gata_chr + ':'+ f'{gata_locus_start:,}' + '-' + f'{gata_locus_end:,}'\n",
    "print(gata_locus_coord)"
   ]
  },
  {
   "cell_type": "code",
   "execution_count": 7,
   "id": "comparative-deputy",
   "metadata": {},
   "outputs": [
    {
     "name": "stdout",
     "output_type": "stream",
     "text": [
      "2000000 2000000\n"
     ]
    }
   ],
   "source": [
    "#! gsutil cp gs://syrgoth/data/locus_select/chrX-47,644,550-49,644,949.txt ./\n",
    "\n",
    "gata_locus_file = 'chrX-47,644,550-49,644,949.txt'\n",
    "gata_locus_str = ''\n",
    "with open(gata_locus_file) as f:\n",
    "    for line in f:\n",
    "        if line[0] != '>':\n",
    "            gata_locus_str += line.strip()\n",
    "            \n",
    "print(len(gata_locus_str[left_pad:-right_pad]), len(range(47644750, 49644750)))"
   ]
  },
  {
   "cell_type": "code",
   "execution_count": 8,
   "id": "specified-absence",
   "metadata": {},
   "outputs": [
    {
     "data": {
      "text/plain": [
       "torch.Size([4, 2000400])"
      ]
     },
     "execution_count": 8,
     "metadata": {},
     "output_type": "execute_result"
    }
   ],
   "source": [
    "gata_locus_tensor = dna2tensor_approx(gata_locus_str, N_value=0.)\n",
    "gata_locus_tensor.shape"
   ]
  },
  {
   "cell_type": "code",
   "execution_count": 9,
   "id": "extreme-constitution",
   "metadata": {},
   "outputs": [],
   "source": [
    "#create windows\n",
    "window_len = 200\n",
    "step_size = 10\n",
    "locus_tensor_windows = [gata_locus_tensor[:, start:start+window_len] for start in range(0, gata_locus_tensor.shape[1]-window_len+1, step_size)]\n",
    "locus_tensor_windows = torch.stack(locus_tensor_windows)"
   ]
  },
  {
   "cell_type": "code",
   "execution_count": 10,
   "id": "running-globe",
   "metadata": {},
   "outputs": [],
   "source": [
    "windows_coordinates = [f'chr{gata_chr}:{gata_locus_start + start}-{gata_locus_start + start + window_len-1}' for start in range(0, gata_locus_tensor.shape[1]-window_len+1, step_size)]"
   ]
  },
  {
   "cell_type": "code",
   "execution_count": 11,
   "id": "better-labor",
   "metadata": {},
   "outputs": [],
   "source": [
    "# chunk_example = locus_tensor_windows[:1020,...]\n",
    "# chunk_example.shape"
   ]
  },
  {
   "cell_type": "code",
   "execution_count": 12,
   "id": "together-fifty",
   "metadata": {},
   "outputs": [
    {
     "name": "stdout",
     "output_type": "stream",
     "text": [
      "Results will be saved at gata_locus/contributions_v1\n",
      "\n",
      "\n",
      "--------------- Processing chunk 1/20 ---------------\n",
      "\n"
     ]
    },
    {
     "data": {
      "application/vnd.jupyter.widget-view+json": {
       "model_id": "28a8f849b74f4d3f870b93fc6df091ee",
       "version_major": 2,
       "version_minor": 0
      },
      "text/plain": [
       "  0%|          | 0/193 [00:00<?, ?it/s]"
      ]
     },
     "metadata": {},
     "output_type": "display_data"
    },
    {
     "name": "stderr",
     "output_type": "stream",
     "text": [
      "/opt/conda/lib/python3.7/site-packages/torch/nn/functional.py:652: UserWarning: Named tensors and all their associated APIs are an experimental feature and subject to change. Please do not use them for anything important until they are released as stable. (Triggered internally at  /pytorch/c10/core/TensorImpl.h:1156.)\n",
      "  return torch.max_pool1d(input, kernel_size, stride, padding, dilation, ceil_mode)\n"
     ]
    },
    {
     "name": "stdout",
     "output_type": "stream",
     "text": [
      "Contributions saved in gata_locus/contributions_v1/gata_locus_contributions__k562__window_len_200__step_size_10__chrX:47644550-47744759.pt\n",
      "\n",
      "Chunk processing time: 0:16:38.812780\n",
      "\n",
      "Estimated time remaining: 5:16:17.442820\n",
      "\n",
      "\n",
      "--------------- Processing chunk 2/20 ---------------\n",
      "\n"
     ]
    },
    {
     "data": {
      "application/vnd.jupyter.widget-view+json": {
       "model_id": "1ce1e2bbadcb4c158aac35a05ac1e3c3",
       "version_major": 2,
       "version_minor": 0
      },
      "text/plain": [
       "  0%|          | 0/193 [00:00<?, ?it/s]"
      ]
     },
     "metadata": {},
     "output_type": "display_data"
    },
    {
     "name": "stdout",
     "output_type": "stream",
     "text": [
      "Contributions saved in gata_locus/contributions_v1/gata_locus_contributions__k562__window_len_200__step_size_10__chrX:47744570-47844779.pt\n",
      "\n",
      "Chunk processing time: 0:16:39.803341\n",
      "\n",
      "Estimated time remaining: 4:59:56.460138\n",
      "\n",
      "\n",
      "--------------- Processing chunk 3/20 ---------------\n",
      "\n"
     ]
    },
    {
     "data": {
      "application/vnd.jupyter.widget-view+json": {
       "model_id": "b7b4688863094da6b46b662d08932f16",
       "version_major": 2,
       "version_minor": 0
      },
      "text/plain": [
       "  0%|          | 0/193 [00:00<?, ?it/s]"
      ]
     },
     "metadata": {},
     "output_type": "display_data"
    },
    {
     "name": "stdout",
     "output_type": "stream",
     "text": [
      "Contributions saved in gata_locus/contributions_v1/gata_locus_contributions__k562__window_len_200__step_size_10__chrX:47844590-47944799.pt\n",
      "\n",
      "Chunk processing time: 0:16:41.040117\n",
      "\n",
      "Estimated time remaining: 4:43:37.681989\n",
      "\n",
      "\n",
      "--------------- Processing chunk 4/20 ---------------\n",
      "\n"
     ]
    },
    {
     "data": {
      "application/vnd.jupyter.widget-view+json": {
       "model_id": "cdbdd52ac7194707a89a0534c5f1730b",
       "version_major": 2,
       "version_minor": 0
      },
      "text/plain": [
       "  0%|          | 0/193 [00:00<?, ?it/s]"
      ]
     },
     "metadata": {},
     "output_type": "display_data"
    },
    {
     "name": "stdout",
     "output_type": "stream",
     "text": [
      "Contributions saved in gata_locus/contributions_v1/gata_locus_contributions__k562__window_len_200__step_size_10__chrX:47944610-48044819.pt\n",
      "\n",
      "Chunk processing time: 0:16:40.756049\n",
      "\n",
      "Estimated time remaining: 4:26:52.096784\n",
      "\n",
      "\n",
      "--------------- Processing chunk 5/20 ---------------\n",
      "\n"
     ]
    },
    {
     "data": {
      "application/vnd.jupyter.widget-view+json": {
       "model_id": "39fb8ab327f04306a6058de910e6c640",
       "version_major": 2,
       "version_minor": 0
      },
      "text/plain": [
       "  0%|          | 0/193 [00:00<?, ?it/s]"
      ]
     },
     "metadata": {},
     "output_type": "display_data"
    },
    {
     "name": "stdout",
     "output_type": "stream",
     "text": [
      "Contributions saved in gata_locus/contributions_v1/gata_locus_contributions__k562__window_len_200__step_size_10__chrX:48044630-48144839.pt\n",
      "\n",
      "Chunk processing time: 0:16:39.539755\n",
      "\n",
      "Estimated time remaining: 4:09:53.096325\n",
      "\n",
      "\n",
      "--------------- Processing chunk 6/20 ---------------\n",
      "\n"
     ]
    },
    {
     "data": {
      "application/vnd.jupyter.widget-view+json": {
       "model_id": "56aac003379a45c8a3981c4404e798aa",
       "version_major": 2,
       "version_minor": 0
      },
      "text/plain": [
       "  0%|          | 0/193 [00:00<?, ?it/s]"
      ]
     },
     "metadata": {},
     "output_type": "display_data"
    },
    {
     "name": "stdout",
     "output_type": "stream",
     "text": [
      "Contributions saved in gata_locus/contributions_v1/gata_locus_contributions__k562__window_len_200__step_size_10__chrX:48144650-48244859.pt\n",
      "\n",
      "Chunk processing time: 0:16:39.909640\n",
      "\n",
      "Estimated time remaining: 3:53:18.734960\n",
      "\n",
      "\n",
      "--------------- Processing chunk 7/20 ---------------\n",
      "\n"
     ]
    },
    {
     "data": {
      "application/vnd.jupyter.widget-view+json": {
       "model_id": "4b32a33ed1db4b4280ae560182cd8a69",
       "version_major": 2,
       "version_minor": 0
      },
      "text/plain": [
       "  0%|          | 0/193 [00:00<?, ?it/s]"
      ]
     },
     "metadata": {},
     "output_type": "display_data"
    },
    {
     "name": "stdout",
     "output_type": "stream",
     "text": [
      "Contributions saved in gata_locus/contributions_v1/gata_locus_contributions__k562__window_len_200__step_size_10__chrX:48244670-48344879.pt\n",
      "\n",
      "Chunk processing time: 0:16:40.100324\n",
      "\n",
      "Estimated time remaining: 3:36:41.304212\n",
      "\n",
      "\n",
      "--------------- Processing chunk 8/20 ---------------\n",
      "\n"
     ]
    },
    {
     "data": {
      "application/vnd.jupyter.widget-view+json": {
       "model_id": "bb0de3e3e9ad41ebad0f06119298ddc8",
       "version_major": 2,
       "version_minor": 0
      },
      "text/plain": [
       "  0%|          | 0/193 [00:00<?, ?it/s]"
      ]
     },
     "metadata": {},
     "output_type": "display_data"
    },
    {
     "name": "stdout",
     "output_type": "stream",
     "text": [
      "Contributions saved in gata_locus/contributions_v1/gata_locus_contributions__k562__window_len_200__step_size_10__chrX:48344690-48444899.pt\n",
      "\n",
      "Chunk processing time: 0:16:40.208348\n",
      "\n",
      "Estimated time remaining: 3:20:02.500176\n",
      "\n",
      "\n",
      "--------------- Processing chunk 9/20 ---------------\n",
      "\n"
     ]
    },
    {
     "data": {
      "application/vnd.jupyter.widget-view+json": {
       "model_id": "ab54edb4dd4745cc858f1817f0c7efbb",
       "version_major": 2,
       "version_minor": 0
      },
      "text/plain": [
       "  0%|          | 0/193 [00:00<?, ?it/s]"
      ]
     },
     "metadata": {},
     "output_type": "display_data"
    },
    {
     "name": "stdout",
     "output_type": "stream",
     "text": [
      "Contributions saved in gata_locus/contributions_v1/gata_locus_contributions__k562__window_len_200__step_size_10__chrX:48444710-48544919.pt\n",
      "\n",
      "Chunk processing time: 0:16:40.040334\n",
      "\n",
      "Estimated time remaining: 3:03:20.443674\n",
      "\n",
      "\n",
      "--------------- Processing chunk 10/20 ---------------\n",
      "\n"
     ]
    },
    {
     "data": {
      "application/vnd.jupyter.widget-view+json": {
       "model_id": "7c4b5f6dc3bd46cf8ada10b1a9cbe91c",
       "version_major": 2,
       "version_minor": 0
      },
      "text/plain": [
       "  0%|          | 0/193 [00:00<?, ?it/s]"
      ]
     },
     "metadata": {},
     "output_type": "display_data"
    },
    {
     "name": "stdout",
     "output_type": "stream",
     "text": [
      "Contributions saved in gata_locus/contributions_v1/gata_locus_contributions__k562__window_len_200__step_size_10__chrX:48544730-48644939.pt\n",
      "\n",
      "Chunk processing time: 0:16:40.055059\n",
      "\n",
      "Estimated time remaining: 2:46:40.550590\n",
      "\n",
      "\n",
      "--------------- Processing chunk 11/20 ---------------\n",
      "\n"
     ]
    },
    {
     "data": {
      "application/vnd.jupyter.widget-view+json": {
       "model_id": "472f4a7bf73f4f51adbd9a8fd1487853",
       "version_major": 2,
       "version_minor": 0
      },
      "text/plain": [
       "  0%|          | 0/193 [00:00<?, ?it/s]"
      ]
     },
     "metadata": {},
     "output_type": "display_data"
    },
    {
     "name": "stdout",
     "output_type": "stream",
     "text": [
      "Contributions saved in gata_locus/contributions_v1/gata_locus_contributions__k562__window_len_200__step_size_10__chrX:48644750-48744959.pt\n",
      "\n",
      "Chunk processing time: 0:16:40.276289\n",
      "\n",
      "Estimated time remaining: 2:30:02.486601\n",
      "\n",
      "\n",
      "--------------- Processing chunk 12/20 ---------------\n",
      "\n"
     ]
    },
    {
     "data": {
      "application/vnd.jupyter.widget-view+json": {
       "model_id": "8878b19856e94ca2b87a9daa4c5f2df2",
       "version_major": 2,
       "version_minor": 0
      },
      "text/plain": [
       "  0%|          | 0/193 [00:00<?, ?it/s]"
      ]
     },
     "metadata": {},
     "output_type": "display_data"
    },
    {
     "name": "stdout",
     "output_type": "stream",
     "text": [
      "Contributions saved in gata_locus/contributions_v1/gata_locus_contributions__k562__window_len_200__step_size_10__chrX:48744770-48844979.pt\n",
      "\n",
      "Chunk processing time: 0:16:41.664750\n",
      "\n",
      "Estimated time remaining: 2:13:33.318000\n",
      "\n",
      "\n",
      "--------------- Processing chunk 13/20 ---------------\n",
      "\n"
     ]
    },
    {
     "data": {
      "application/vnd.jupyter.widget-view+json": {
       "model_id": "4c4603bd81104cf689406c118db402ee",
       "version_major": 2,
       "version_minor": 0
      },
      "text/plain": [
       "  0%|          | 0/193 [00:00<?, ?it/s]"
      ]
     },
     "metadata": {},
     "output_type": "display_data"
    },
    {
     "name": "stdout",
     "output_type": "stream",
     "text": [
      "Contributions saved in gata_locus/contributions_v1/gata_locus_contributions__k562__window_len_200__step_size_10__chrX:48844790-48944999.pt\n",
      "\n",
      "Chunk processing time: 0:16:40.322156\n",
      "\n",
      "Estimated time remaining: 1:56:42.255092\n",
      "\n",
      "\n",
      "--------------- Processing chunk 14/20 ---------------\n",
      "\n"
     ]
    },
    {
     "data": {
      "application/vnd.jupyter.widget-view+json": {
       "model_id": "f61f39062c0b46afb2b4a324ce311da8",
       "version_major": 2,
       "version_minor": 0
      },
      "text/plain": [
       "  0%|          | 0/193 [00:00<?, ?it/s]"
      ]
     },
     "metadata": {},
     "output_type": "display_data"
    },
    {
     "name": "stdout",
     "output_type": "stream",
     "text": [
      "Contributions saved in gata_locus/contributions_v1/gata_locus_contributions__k562__window_len_200__step_size_10__chrX:48944810-49045019.pt\n",
      "\n",
      "Chunk processing time: 0:16:40.946123\n",
      "\n",
      "Estimated time remaining: 1:40:05.676738\n",
      "\n",
      "\n",
      "--------------- Processing chunk 15/20 ---------------\n",
      "\n"
     ]
    },
    {
     "data": {
      "application/vnd.jupyter.widget-view+json": {
       "model_id": "ba767da2667a4a8480bec33e17c4e57c",
       "version_major": 2,
       "version_minor": 0
      },
      "text/plain": [
       "  0%|          | 0/193 [00:00<?, ?it/s]"
      ]
     },
     "metadata": {},
     "output_type": "display_data"
    },
    {
     "name": "stdout",
     "output_type": "stream",
     "text": [
      "Contributions saved in gata_locus/contributions_v1/gata_locus_contributions__k562__window_len_200__step_size_10__chrX:49044830-49145039.pt\n",
      "\n",
      "Chunk processing time: 0:16:41.032199\n",
      "\n",
      "Estimated time remaining: 1:23:25.160995\n",
      "\n",
      "\n",
      "--------------- Processing chunk 16/20 ---------------\n",
      "\n"
     ]
    },
    {
     "data": {
      "application/vnd.jupyter.widget-view+json": {
       "model_id": "085b076d4d3e44808d88c3e322f6406d",
       "version_major": 2,
       "version_minor": 0
      },
      "text/plain": [
       "  0%|          | 0/193 [00:00<?, ?it/s]"
      ]
     },
     "metadata": {},
     "output_type": "display_data"
    },
    {
     "name": "stdout",
     "output_type": "stream",
     "text": [
      "Contributions saved in gata_locus/contributions_v1/gata_locus_contributions__k562__window_len_200__step_size_10__chrX:49144850-49245059.pt\n",
      "\n",
      "Chunk processing time: 0:16:40.327921\n",
      "\n",
      "Estimated time remaining: 1:06:41.311684\n",
      "\n",
      "\n",
      "--------------- Processing chunk 17/20 ---------------\n",
      "\n"
     ]
    },
    {
     "data": {
      "application/vnd.jupyter.widget-view+json": {
       "model_id": "0f0e79e40d2e430792c91bf93e5101d2",
       "version_major": 2,
       "version_minor": 0
      },
      "text/plain": [
       "  0%|          | 0/193 [00:00<?, ?it/s]"
      ]
     },
     "metadata": {},
     "output_type": "display_data"
    },
    {
     "name": "stdout",
     "output_type": "stream",
     "text": [
      "Contributions saved in gata_locus/contributions_v1/gata_locus_contributions__k562__window_len_200__step_size_10__chrX:49244870-49345079.pt\n",
      "\n",
      "Chunk processing time: 0:16:41.251796\n",
      "\n",
      "Estimated time remaining: 0:50:03.755388\n",
      "\n",
      "\n",
      "--------------- Processing chunk 18/20 ---------------\n",
      "\n"
     ]
    },
    {
     "data": {
      "application/vnd.jupyter.widget-view+json": {
       "model_id": "73a8d29abd8b44308987d963f0b2fb0b",
       "version_major": 2,
       "version_minor": 0
      },
      "text/plain": [
       "  0%|          | 0/193 [00:00<?, ?it/s]"
      ]
     },
     "metadata": {},
     "output_type": "display_data"
    },
    {
     "name": "stdout",
     "output_type": "stream",
     "text": [
      "Contributions saved in gata_locus/contributions_v1/gata_locus_contributions__k562__window_len_200__step_size_10__chrX:49344890-49445099.pt\n",
      "\n",
      "Chunk processing time: 0:16:41.229941\n",
      "\n",
      "Estimated time remaining: 0:33:22.459882\n",
      "\n",
      "\n",
      "--------------- Processing chunk 19/20 ---------------\n",
      "\n"
     ]
    },
    {
     "data": {
      "application/vnd.jupyter.widget-view+json": {
       "model_id": "9181f90b25ab453dac79375a6d775097",
       "version_major": 2,
       "version_minor": 0
      },
      "text/plain": [
       "  0%|          | 0/193 [00:00<?, ?it/s]"
      ]
     },
     "metadata": {},
     "output_type": "display_data"
    },
    {
     "name": "stdout",
     "output_type": "stream",
     "text": [
      "Contributions saved in gata_locus/contributions_v1/gata_locus_contributions__k562__window_len_200__step_size_10__chrX:49444910-49545119.pt\n",
      "\n",
      "Chunk processing time: 0:16:41.269630\n",
      "\n",
      "Estimated time remaining: 0:16:41.269630\n",
      "\n",
      "\n",
      "--------------- Processing chunk 20/20 ---------------\n",
      "\n"
     ]
    },
    {
     "data": {
      "application/vnd.jupyter.widget-view+json": {
       "model_id": "2ac97ad4392840a38d9c6c92bc6c68d3",
       "version_major": 2,
       "version_minor": 0
      },
      "text/plain": [
       "  0%|          | 0/192 [00:00<?, ?it/s]"
      ]
     },
     "metadata": {},
     "output_type": "display_data"
    },
    {
     "name": "stdout",
     "output_type": "stream",
     "text": [
      "Contributions saved in gata_locus/contributions_v1/gata_locus_contributions__k562__window_len_200__step_size_10__chrX:49544930-49644949.pt\n",
      "\n",
      "Chunk processing time: 0:16:38.597384\n",
      "\n",
      "Estimated time remaining: 0:00:00\n",
      "\n",
      "CPU times: user 5h 33min 17s, sys: 21.4 s, total: 5h 33min 39s\n",
      "Wall time: 5h 33min 27s\n"
     ]
    }
   ],
   "source": [
    "%%time\n",
    "data_tensor = locus_tensor_windows #locus_tensor_windows\n",
    "chunk_size = 10002 #10002 #204\n",
    "eval_batch_size = 1040\n",
    "\n",
    "cell_type = 'k562'\n",
    "targetdir = 'gata_locus/contributions_v1'\n",
    "\n",
    "print(f'Results will be saved at {targetdir}', flush=True)\n",
    "print('', flush=True)\n",
    "\n",
    "num_chunks = math.ceil(data_tensor.shape[0] / chunk_size)\n",
    "processed_chunks = 0\n",
    "for i in range(0, data_tensor.shape[0], chunk_size):\n",
    "    start_time = datetime.now()\n",
    "    \n",
    "    decor_print(f'Processing chunk {processed_chunks+1}/{num_chunks}')\n",
    "        \n",
    "    chunk = data_tensor[i:i+chunk_size, ...]    \n",
    "    \n",
    "    salient_maps = isg_contributions(chunk, k562_predictor, eval_batch_size=eval_batch_size)\n",
    "    coordinate_list = windows_coordinates[i:i+chunk.shape[0]]\n",
    "    \n",
    "    save_dict = {}\n",
    "    save_dict['window_contributions'] = salient_maps\n",
    "    save_dict['window_coordinates'] = coordinate_list\n",
    "    \n",
    "    first_coordinate = coordinate_list[0].split('-')[0]\n",
    "    last_coordinate = coordinate_list[-1].split('-')[1]\n",
    "    chunk_name = f'gata_locus_contributions__{cell_type}__window_len_{window_len}__step_size_{step_size}'\n",
    "    chunk_name += f'__{first_coordinate}-{last_coordinate}' + '.pt'\n",
    "    \n",
    "    save_path = os.path.join(targetdir, chunk_name)   \n",
    "    torch.save(save_dict, save_path)\n",
    "    \n",
    "    print(f'Contributions saved in {save_path}')\n",
    "    print('', flush=True)\n",
    "    \n",
    "    processed_chunks += 1\n",
    "    left_chunks = num_chunks - processed_chunks\n",
    "    end_time = datetime.now()\n",
    "    chunk_time = end_time - start_time\n",
    "    \n",
    "    print(f'Chunk processing time: {chunk_time}', flush=True)\n",
    "    print('', flush=True)\n",
    "    print(f'Estimated time remaining: {chunk_time*left_chunks}', flush=True)\n",
    "    print('', flush=True)"
   ]
  },
  {
   "cell_type": "code",
   "execution_count": null,
   "id": "operating-therapy",
   "metadata": {},
   "outputs": [],
   "source": []
  }
 ],
 "metadata": {
  "kernelspec": {
   "display_name": "Python 3",
   "language": "python",
   "name": "python3"
  },
  "language_info": {
   "codemirror_mode": {
    "name": "ipython",
    "version": 3
   },
   "file_extension": ".py",
   "mimetype": "text/x-python",
   "name": "python",
   "nbconvert_exporter": "python",
   "pygments_lexer": "ipython3",
   "version": "3.7.10"
  }
 },
 "nbformat": 4,
 "nbformat_minor": 5
}
