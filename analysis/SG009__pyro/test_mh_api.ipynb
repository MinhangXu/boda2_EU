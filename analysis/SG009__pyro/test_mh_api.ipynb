{
 "cells": [
  {
   "cell_type": "code",
   "execution_count": 1,
   "id": "unlike-complaint",
   "metadata": {},
   "outputs": [],
   "source": [
    "import sys\n",
    "import os\n",
    "import subprocess\n",
    "import tarfile\n",
    "import shutil\n",
    "import types\n",
    "import math\n",
    "import pickle\n",
    "\n",
    "import numpy as np\n",
    "import pandas as pd\n",
    "import torch\n",
    "import torch.nn as nn\n",
    "import torch.nn.functional as F\n",
    "import torch.distributions as dist\n",
    "from torch.autograd import grad\n",
    "\n",
    "import matplotlib as mp\n",
    "import matplotlib.pyplot as plt\n",
    "import seaborn as sns\n",
    "\n",
    "from tqdm import tqdm\n",
    "\n",
    "import boda\n",
    "from boda.generator import plot_tools\n",
    "from boda.common import constants\n",
    "\n",
    "boda_src = os.path.join( os.path.dirname( os.path.dirname( os.getcwd() ) ), 'src' )\n",
    "sys.path.insert(0, boda_src)\n",
    "\n",
    "from main import unpack_artifact, model_fn\n",
    "\n",
    "from scipy import spatial\n",
    "from scipy.cluster import hierarchy\n",
    "\n",
    "from boda.generator import BasicParameters, NaiveMH, SimulatedAnnealing\n",
    "from boda.generator.metropolis_hastings import PolynomialDecay\n",
    "from boda.generator.energy import OverMaxEnergy"
   ]
  },
  {
   "cell_type": "code",
   "execution_count": 2,
   "id": "protective-state",
   "metadata": {},
   "outputs": [
    {
     "name": "stdout",
     "output_type": "stream",
     "text": [
      "Loaded model from 20210623_102310 in eval mode\n",
      "Left flanking sequence shape: torch.Size([1, 4, 200])\n",
      "Left flanking sequence shape: torch.Size([1, 4, 200])\n"
     ]
    }
   ],
   "source": [
    "if os.path.isdir('./artifacts'):\n",
    "    shutil.rmtree('./artifacts')\n",
    "\n",
    "hpo_rec = 'gs://syrgoth/aip_ui_test/model_artifacts__20210623_102310__205717.tar.gz'\n",
    "\n",
    "unpack_artifact(hpo_rec)\n",
    "\n",
    "model_dir = './artifacts'\n",
    "\n",
    "my_model = model_fn(model_dir)\n",
    "my_model.cuda()\n",
    "my_model.eval()\n",
    "\n",
    "left_flank = boda.common.utils.dna2tensor( \n",
    "    boda.common.constants.MPRA_UPSTREAM[-200:] \n",
    ").unsqueeze(0)\n",
    "print(f'Left flanking sequence shape: {left_flank.shape}')\n",
    "\n",
    "right_flank= boda.common.utils.dna2tensor( \n",
    "    boda.common.constants.MPRA_DOWNSTREAM[:200] \n",
    ").unsqueeze(0)\n",
    "print(f'Left flanking sequence shape: {right_flank.shape}')"
   ]
  },
  {
   "cell_type": "code",
   "execution_count": 3,
   "id": "usual-envelope",
   "metadata": {},
   "outputs": [],
   "source": [
    "bsz = 512\n",
    "step_count = 1000\n",
    "test_insert = dist.OneHotCategorical(logits=torch.randn(bsz,200,4)).sample().permute(0,2,1)\n",
    "\n",
    "my_params = BasicParameters(\n",
    "    nn.Parameter(test_insert), \n",
    "    left_flank.expand(bsz, -1, -1), \n",
    "    right_flank.expand(bsz, -1, -1)\n",
    ")\n",
    "my_energy = OverMaxEnergy(my_model, bias_cell=0)"
   ]
  },
  {
   "cell_type": "code",
   "execution_count": 4,
   "id": "underlying-passion",
   "metadata": {},
   "outputs": [],
   "source": [
    "mcmc = NaiveMH(my_params, my_energy)"
   ]
  },
  {
   "cell_type": "code",
   "execution_count": null,
   "id": "disciplinary-shadow",
   "metadata": {},
   "outputs": [
    {
     "name": "stderr",
     "output_type": "stream",
     "text": [
      "\r",
      "  0%|          | 0/1000 [00:00<?, ?it/s]"
     ]
    },
    {
     "name": "stdout",
     "output_type": "stream",
     "text": [
      "burn in\n"
     ]
    },
    {
     "name": "stderr",
     "output_type": "stream",
     "text": [
      "/opt/conda/lib/python3.7/site-packages/torch/nn/functional.py:652: UserWarning: Named tensors and all their associated APIs are an experimental feature and subject to change. Please do not use them for anything important until they are released as stable. (Triggered internally at  /pytorch/c10/core/TensorImpl.h:1156.)\n",
      "  return torch.max_pool1d(input, kernel_size, stride, padding, dilation, ceil_mode)\n",
      " 91%|█████████ | 906/1000 [00:51<00:05, 17.64it/s]"
     ]
    }
   ],
   "source": [
    "samples = mcmc.collect_samples(n_samples=step_count, n_burnin=step_count)\n",
    "mcmc_run = samples['samples']"
   ]
  },
  {
   "cell_type": "code",
   "execution_count": null,
   "id": "mediterranean-concentrate",
   "metadata": {},
   "outputs": [],
   "source": [
    "mcmc_run['samples'].shape"
   ]
  },
  {
   "cell_type": "code",
   "execution_count": null,
   "id": "minimal-despite",
   "metadata": {},
   "outputs": [],
   "source": [
    "for i in range(test_insert.shape[0]):\n",
    "    plt.plot(torch.arange(step_count),mcmc_run['energies'][:,i])\n",
    "plt.show()\n",
    "\n",
    "plt.hist( mcmc_run['energies'][-1].flatten().numpy(), bins=50 )\n",
    "plt.show()"
   ]
  },
  {
   "cell_type": "code",
   "execution_count": null,
   "id": "conventional-stadium",
   "metadata": {},
   "outputs": [],
   "source": [
    "temp = PolynomialDecay(a=1, b=1, gamma=0.5001)\n",
    "mcmc = SimulatedAnnealing(my_params, my_energy, n_positions=1, temperature_schedule=temp)"
   ]
  },
  {
   "cell_type": "code",
   "execution_count": null,
   "id": "hollow-desire",
   "metadata": {},
   "outputs": [],
   "source": [
    "samples = mcmc.collect_samples(n_samples=step_count, n_burnin=0)\n",
    "mcmc_run = samples['samples']"
   ]
  },
  {
   "cell_type": "code",
   "execution_count": null,
   "id": "suspended-kruger",
   "metadata": {},
   "outputs": [],
   "source": [
    "mcmc_run['samples'].shape"
   ]
  },
  {
   "cell_type": "code",
   "execution_count": null,
   "id": "accessory-technician",
   "metadata": {},
   "outputs": [],
   "source": [
    "for i in range(test_insert.shape[0]):\n",
    "    plt.plot(torch.arange(step_count),mcmc_run['energies'][:,i])\n",
    "plt.show()\n",
    "\n",
    "plt.hist( mcmc_run['energies'][-1].flatten().numpy(), bins=50 )\n",
    "plt.show()"
   ]
  }
 ],
 "metadata": {
  "kernelspec": {
   "display_name": "Python 3",
   "language": "python",
   "name": "python3"
  },
  "language_info": {
   "codemirror_mode": {
    "name": "ipython",
    "version": 3
   },
   "file_extension": ".py",
   "mimetype": "text/x-python",
   "name": "python",
   "nbconvert_exporter": "python",
   "pygments_lexer": "ipython3",
   "version": "3.7.10"
  }
 },
 "nbformat": 4,
 "nbformat_minor": 5
}
