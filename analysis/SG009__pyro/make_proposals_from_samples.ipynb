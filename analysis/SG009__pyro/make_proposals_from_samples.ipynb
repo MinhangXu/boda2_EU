{
 "cells": [
  {
   "cell_type": "code",
   "execution_count": null,
   "id": "c639559b-c091-4416-9101-220ea2c21337",
   "metadata": {},
   "outputs": [],
   "source": [
    "import sys\n",
    "import os\n",
    "import subprocess\n",
    "import tarfile\n",
    "import shutil\n",
    "import types\n",
    "import math\n",
    "import pickle\n",
    "import time\n",
    "import tempfile\n",
    "import random\n",
    "\n",
    "import numpy as np\n",
    "import pandas as pd\n",
    "import torch\n",
    "import torch.nn as nn\n",
    "import torch.nn.functional as F\n",
    "\n",
    "import boda\n",
    "from boda.common import utils\n",
    "from boda.generator import plot_tools\n",
    "from boda.generator.parameters import BasicParameters\n",
    "\n",
    "boda_src = os.path.join( os.path.dirname( os.path.dirname( os.getcwd() ) ), 'src' )\n",
    "sys.path.insert(0, boda_src)\n",
    "\n",
    "from main import unpack_artifact, model_fn\n",
    "from pymeme import streme\n",
    "\n",
    "import matplotlib.pyplot as plt\n",
    "import seaborn as sns\n",
    "\n",
    "from tqdm import tqdm\n",
    "\n",
    "from statsmodels.graphics.tsaplots import plot_acf\n",
    "\n",
    "from scipy import spatial\n",
    "from scipy.cluster import hierarchy\n"
   ]
  },
  {
   "cell_type": "code",
   "execution_count": null,
   "id": "367b3dcc-cb94-4ef6-baab-54aab13ffd56",
   "metadata": {},
   "outputs": [
    {
     "name": "stderr",
     "output_type": "stream",
     "text": [
      "archive unpacked in ./\n"
     ]
    },
    {
     "name": "stdout",
     "output_type": "stream",
     "text": [
      "Loaded model from 20211113_021200 in eval mode\n",
      "Left flanking sequence shape: torch.Size([1, 4, 200])\n",
      "Left flanking sequence shape: torch.Size([1, 4, 200])\n"
     ]
    }
   ],
   "source": [
    "if os.path.isdir('./artifacts'):\n",
    "    shutil.rmtree('./artifacts')\n",
    "\n",
    "hpo_rec = 'gs://syrgoth/aip_ui_test/model_artifacts__20211113_021200__287348.tar.gz'\n",
    "\n",
    "unpack_artifact(hpo_rec)\n",
    "\n",
    "model_dir = './artifacts'\n",
    "\n",
    "my_model = model_fn(model_dir)\n",
    "my_model.cuda()\n",
    "my_model.eval()\n",
    "\n",
    "left_flank = boda.common.utils.dna2tensor( \n",
    "    boda.common.constants.MPRA_UPSTREAM[-200:] \n",
    ").unsqueeze(0)\n",
    "print(f'Left flanking sequence shape: {left_flank.shape}')\n",
    "\n",
    "right_flank= boda.common.utils.dna2tensor( \n",
    "    boda.common.constants.MPRA_DOWNSTREAM[:200] \n",
    ").unsqueeze(0)\n",
    "print(f'Left flanking sequence shape: {right_flank.shape}')"
   ]
  },
  {
   "cell_type": "code",
   "execution_count": null,
   "id": "0d9d0347-abe6-4754-a4b8-d67d07dd0120",
   "metadata": {},
   "outputs": [],
   "source": [
    "def run_model(model, x):\n",
    "    with torch.no_grad():\n",
    "        bsz = x.shape[0]\n",
    "        expander = [bsz, -1, -1]\n",
    "        passthrough = BasicParameters(\n",
    "            torch.randn_like(x), \n",
    "            left_flank = left_flank.expand(*expander), \n",
    "            right_flank = right_flank.expand(*expander)\n",
    "        )\n",
    "        passthrough.to(model.device)\n",
    "\n",
    "        return model( passthrough(x.to(model.device)) ).cpu()\n",
    "\n",
    "def gumsoft_sample(x, n_samples=50):\n",
    "    repeater   = [ -1 for i in range(len(x.shape)) ]\n",
    "    \n",
    "    hook = F.gumbel_softmax(\n",
    "        x.unsqueeze(0).expand(n_samples, *repeater), \n",
    "        tau=1, \n",
    "        hard=True, \n",
    "        eps=1e-10, \n",
    "        dim= -2\n",
    "    )\n",
    "    return hook\n",
    "\n",
    "def overmax(y_hat, bias_cell=0, a_min=-2., a_max=6.):\n",
    "    hook   = y_hat.clamp(a_min,a_max)\n",
    "    energy = hook[...,[ x for x in range(hook.shape[-1]) if x != bias_cell]].max(-1).values \\\n",
    "               - hook[...,bias_cell]\n",
    "    return energy\n",
    "    \n",
    "def filter_samples(x, y):\n",
    "    n_samples, bsz, *_ = x.shape\n",
    "    batch_slicer = torch.arange(bsz)\n",
    "    y = y.unflatten(0, (n_samples,bsz))\n",
    "    return {'sample': x[y.argmin(0),batch_slicer], 'energy': y[y.argmin(0),batch_slicer]}\n",
    "    \n",
    "def get_best_sample(model, x, n_samples=50, bias_cell=0, a_min=-2., a_max=6.):\n",
    "    sample = gumsoft_sample( x, n_samples=n_samples )\n",
    "    act_preds= run_model(model, sample.flatten(0,1))\n",
    "    energy   = overmax( act_preds, bias_cell=bias_cell, a_min=a_min, a_max=a_max )\n",
    "    results  = filter_samples(sample, energy)\n",
    "    return results\n",
    "\n",
    "def filter_trajectory(model, traj, threshold=-2, n_samples=50, bias_cell=0, a_min=-2., a_max=6.):\n",
    "    traj_len, *theta_shape = traj.shape\n",
    "    samples = torch.empty(0,*theta_shape, dtype=torch.float)\n",
    "    energies= torch.empty(0,theta_shape[0], dtype=torch.float)\n",
    "    mask    = torch.empty(0,theta_shape[0], dtype=torch.bool)\n",
    "    for i in tqdm(range(traj.shape[0])):\n",
    "        step = get_best_sample( model, traj[i], n_samples=n_samples, bias_cell=bias_cell, a_min=a_min, a_max=a_max )\n",
    "        mask = torch.cat([mask, step['energy'].le(threshold).unsqueeze(0)], dim=0)\n",
    "        energies= torch.cat([energies, step['energy'].unsqueeze(0)], dim=0)\n",
    "        samples = torch.cat([samples, step['sample'].unsqueeze(0)], dim=0)\n",
    "    return {'samples': samples, 'energies':energies, 'mask': mask}"
   ]
  },
  {
   "cell_type": "code",
   "execution_count": null,
   "id": "08cb05fc-801c-46b7-a874-0d96cd4db9aa",
   "metadata": {},
   "outputs": [],
   "source": [
    "def save_proposals(proposals, args):\n",
    "    save_dict = {\n",
    "        'proposals': proposals,\n",
    "        'args'     : args,\n",
    "        'timestamp'    : time.strftime(\"%Y%m%d_%H%M%S\"),\n",
    "        'random_tag'   : random.randint(100000,999999)\n",
    "    }\n",
    "    filename = f'{args[\"Main args\"].proposal_path}__{save_dict[\"timestamp\"]}__{save_dict[\"random_tag\"]}.pt'\n",
    "    \n",
    "    if 'gs://' in args['Main args'].proposal_path:\n",
    "        torch.save(save_dict, os.path.basename(filename))\n",
    "        subprocess.check_call(\n",
    "            ['gsutil', 'cp', os.path.basename(filename), filename]\n",
    "        )\n",
    "    else:\n",
    "        os.makedirs(os.path.dirname(filename), exist_ok=True)\n",
    "        torch.save(save_dict, filename)\n",
    "    \n",
    "    print(f'Proposals deposited at:\\n\\t{filename}', file=sys.stderr)\n",
    "\n",
    "def get_count_per_traj(pass_per, get_ct=500):\n",
    "    for val in range(pass_per.min().item(),pass_per.max().item()+1):\n",
    "        if pass_per.clamp(-1,val).sum() >= get_ct:\n",
    "            break\n",
    "            \n",
    "    ct_per_traj = pass_per.clamp(0,val)\n",
    "\n",
    "    remainder = max(0, ct_per_traj.sum().item() - get_ct)\n",
    "    \n",
    "    \n",
    "    for chop in range(remainder):\n",
    "        idx = ct_per_traj.argmax().item()\n",
    "        ct_per_traj[ idx ] = ct_per_traj[ idx ] - 1\n",
    "        \n",
    "    return ct_per_traj\n",
    "\n",
    "def down_sample_mask(mask, ct_per_traj):\n",
    "    mask_copy = mask.clone().detach()\n",
    "    \n",
    "    traj_len, n_traj = mask_copy.shape\n",
    "    for traj_id in range(n_traj):\n",
    "        pass_ids = mask[:, traj_id].nonzero().flatten()\n",
    "        kill_ids = pass_ids[ torch.randperm(pass_ids.numel()) ][ct_per_traj[traj_id]:]\n",
    "        mask_copy[kill_ids,traj_id] = False\n",
    "        \n",
    "    return mask_copy\n",
    "        \n",
    "def mcmc_stash_to_boda_pickle(mcmc_stash, pickle_tag, model, target_count=500,\n",
    "                              threshold=-2, n_samples=50, bias_cell=0, a_min=-2., a_max=6.):\n",
    "    \n",
    "    stash = torch.load(mcmc_stash)\n",
    "    \n",
    "    fil_traj = filter_trajectory(\n",
    "        model, stash['samples'], \n",
    "        threshold=threshold, n_samples=n_samples, bias_cell=bias_cell, a_min=a_min, a_max=a_max\n",
    "    )\n",
    "    \n",
    "    print(f'n samples above threshold: {fil_traj[\"mask\"].sum()}', file=sys.stderr)\n",
    "    \n",
    "    counts_per_trajectory = get_count_per_traj(fil_traj['mask'].sum(0), get_ct=target_count)\n",
    "    re_mask = down_sample_mask(fil_traj['mask'], counts_per_trajectory)\n",
    "    \n",
    "    print(f'removing {(fil_traj[\"mask\"]^re_mask).sum().item()} samples.', file=sys.stderr)\n",
    "    \n",
    "    proposals = fil_traj['samples'][re_mask]\n",
    "    \n",
    "    print(f'proposal shape: {proposals.shape}', file=sys.stderr)\n",
    "    \n",
    "    timestamp = time.strftime(\"%Y%m%d_%H%M%S\")\n",
    "    random_tag= random.randint(100000,999999)\n",
    "    \n",
    "    save_dict = {'proposals':[{'proposals':proposals}], 'timestamp':timestamp, 'random_tag':random_tag}\n",
    "    \n",
    "    filename = f'{pickle_tag}__{timestamp}__{random_tag}.pt'\n",
    "    \n",
    "    if 'gs://' in filename:\n",
    "        with tempfile.TemporaryDirectory() as tmpdirname:\n",
    "            temp_loc = os.path.join(tmpdirname, os.path.basename(filename))\n",
    "            torch.save(save_dict, temp_loc)\n",
    "            subprocess.check_call(\n",
    "                ['gsutil', 'cp', temp_loc, filename]\n",
    "            )\n",
    "    else:\n",
    "        if (os.path.dirname(filename) != '') and (os.path.dirname(filename) != '.'):\n",
    "            os.makedirs(os.path.dirname(filename), exist_ok=True)\n",
    "        torch.save(save_dict, filename)\n",
    "    \n",
    "    print(f'Proposals deposited at:\\n\\t{filename}', file=sys.stderr)"
   ]
  },
  {
   "cell_type": "markdown",
   "id": "55d554f9-9e0c-4971-9fb1-0e8e12ff5b55",
   "metadata": {},
   "source": [
    "# Dump to GS"
   ]
  },
  {
   "cell_type": "code",
   "execution_count": null,
   "id": "2f6cb13b-666f-429f-b055-d29e00f1be6c",
   "metadata": {},
   "outputs": [
    {
     "name": "stdout",
     "output_type": "stream",
     "text": [
      "transferring stash: k562_run_10.pt\n"
     ]
    },
    {
     "ename": "FileNotFoundError",
     "evalue": "[Errno 2] No such file or directory: 'k562_run_10.pt'",
     "output_type": "error",
     "traceback": [
      "\u001b[0;31m---------------------------------------------------------------------------\u001b[0m",
      "\u001b[0;31mFileNotFoundError\u001b[0m                         Traceback (most recent call last)",
      "\u001b[0;32m<ipython-input-5-47c1ea0a538c>\u001b[0m in \u001b[0;36m<module>\u001b[0;34m\u001b[0m\n\u001b[1;32m     17\u001b[0m         \u001b[0mremote_dump\u001b[0m \u001b[0;34m=\u001b[0m \u001b[0;34mf'gs://syrgoth/boda_library_design_202112/extra_pickles_3/sg__{cell}__hmc__track_{track_tag}__round_0'\u001b[0m\u001b[0;34m\u001b[0m\u001b[0;34m\u001b[0m\u001b[0m\n\u001b[1;32m     18\u001b[0m         \u001b[0mprint\u001b[0m\u001b[0;34m(\u001b[0m\u001b[0;34mf'transferring stash: {local_stash}'\u001b[0m\u001b[0;34m)\u001b[0m\u001b[0;34m\u001b[0m\u001b[0;34m\u001b[0m\u001b[0m\n\u001b[0;32m---> 19\u001b[0;31m         \u001b[0mmcmc_stash_to_boda_pickle\u001b[0m\u001b[0;34m(\u001b[0m\u001b[0mlocal_stash\u001b[0m\u001b[0;34m,\u001b[0m \u001b[0mremote_dump\u001b[0m\u001b[0;34m,\u001b[0m \u001b[0mmy_model\u001b[0m\u001b[0;34m,\u001b[0m \u001b[0mtarget_count\u001b[0m\u001b[0;34m=\u001b[0m\u001b[0;36m500\u001b[0m\u001b[0;34m,\u001b[0m \u001b[0mn_samples\u001b[0m\u001b[0;34m=\u001b[0m\u001b[0;36m100\u001b[0m\u001b[0;34m,\u001b[0m \u001b[0mthreshold\u001b[0m\u001b[0;34m=\u001b[0m\u001b[0mthresh\u001b[0m\u001b[0;34m,\u001b[0m \u001b[0mbias_cell\u001b[0m\u001b[0;34m=\u001b[0m\u001b[0mc_idx\u001b[0m\u001b[0;34m)\u001b[0m\u001b[0;34m\u001b[0m\u001b[0;34m\u001b[0m\u001b[0m\n\u001b[0m",
      "\u001b[0;32m<ipython-input-4-9d74de146eaa>\u001b[0m in \u001b[0;36mmcmc_stash_to_boda_pickle\u001b[0;34m(mcmc_stash, pickle_tag, model, target_count, threshold, n_samples, bias_cell, a_min, a_max)\u001b[0m\n\u001b[1;32m     49\u001b[0m                               threshold=-2, n_samples=50, bias_cell=0, a_min=-2., a_max=6.):\n\u001b[1;32m     50\u001b[0m \u001b[0;34m\u001b[0m\u001b[0m\n\u001b[0;32m---> 51\u001b[0;31m     \u001b[0mstash\u001b[0m \u001b[0;34m=\u001b[0m \u001b[0mtorch\u001b[0m\u001b[0;34m.\u001b[0m\u001b[0mload\u001b[0m\u001b[0;34m(\u001b[0m\u001b[0mmcmc_stash\u001b[0m\u001b[0;34m)\u001b[0m\u001b[0;34m\u001b[0m\u001b[0;34m\u001b[0m\u001b[0m\n\u001b[0m\u001b[1;32m     52\u001b[0m \u001b[0;34m\u001b[0m\u001b[0m\n\u001b[1;32m     53\u001b[0m     fil_traj = filter_trajectory(\n",
      "\u001b[0;32m/opt/conda/lib/python3.7/site-packages/torch/serialization.py\u001b[0m in \u001b[0;36mload\u001b[0;34m(f, map_location, pickle_module, **pickle_load_args)\u001b[0m\n\u001b[1;32m    592\u001b[0m         \u001b[0mpickle_load_args\u001b[0m\u001b[0;34m[\u001b[0m\u001b[0;34m'encoding'\u001b[0m\u001b[0;34m]\u001b[0m \u001b[0;34m=\u001b[0m \u001b[0;34m'utf-8'\u001b[0m\u001b[0;34m\u001b[0m\u001b[0;34m\u001b[0m\u001b[0m\n\u001b[1;32m    593\u001b[0m \u001b[0;34m\u001b[0m\u001b[0m\n\u001b[0;32m--> 594\u001b[0;31m     \u001b[0;32mwith\u001b[0m \u001b[0m_open_file_like\u001b[0m\u001b[0;34m(\u001b[0m\u001b[0mf\u001b[0m\u001b[0;34m,\u001b[0m \u001b[0;34m'rb'\u001b[0m\u001b[0;34m)\u001b[0m \u001b[0;32mas\u001b[0m \u001b[0mopened_file\u001b[0m\u001b[0;34m:\u001b[0m\u001b[0;34m\u001b[0m\u001b[0;34m\u001b[0m\u001b[0m\n\u001b[0m\u001b[1;32m    595\u001b[0m         \u001b[0;32mif\u001b[0m \u001b[0m_is_zipfile\u001b[0m\u001b[0;34m(\u001b[0m\u001b[0mopened_file\u001b[0m\u001b[0;34m)\u001b[0m\u001b[0;34m:\u001b[0m\u001b[0;34m\u001b[0m\u001b[0;34m\u001b[0m\u001b[0m\n\u001b[1;32m    596\u001b[0m             \u001b[0;31m# The zipfile reader is going to advance the current file position.\u001b[0m\u001b[0;34m\u001b[0m\u001b[0;34m\u001b[0m\u001b[0;34m\u001b[0m\u001b[0m\n",
      "\u001b[0;32m/opt/conda/lib/python3.7/site-packages/torch/serialization.py\u001b[0m in \u001b[0;36m_open_file_like\u001b[0;34m(name_or_buffer, mode)\u001b[0m\n\u001b[1;32m    228\u001b[0m \u001b[0;32mdef\u001b[0m \u001b[0m_open_file_like\u001b[0m\u001b[0;34m(\u001b[0m\u001b[0mname_or_buffer\u001b[0m\u001b[0;34m,\u001b[0m \u001b[0mmode\u001b[0m\u001b[0;34m)\u001b[0m\u001b[0;34m:\u001b[0m\u001b[0;34m\u001b[0m\u001b[0;34m\u001b[0m\u001b[0m\n\u001b[1;32m    229\u001b[0m     \u001b[0;32mif\u001b[0m \u001b[0m_is_path\u001b[0m\u001b[0;34m(\u001b[0m\u001b[0mname_or_buffer\u001b[0m\u001b[0;34m)\u001b[0m\u001b[0;34m:\u001b[0m\u001b[0;34m\u001b[0m\u001b[0;34m\u001b[0m\u001b[0m\n\u001b[0;32m--> 230\u001b[0;31m         \u001b[0;32mreturn\u001b[0m \u001b[0m_open_file\u001b[0m\u001b[0;34m(\u001b[0m\u001b[0mname_or_buffer\u001b[0m\u001b[0;34m,\u001b[0m \u001b[0mmode\u001b[0m\u001b[0;34m)\u001b[0m\u001b[0;34m\u001b[0m\u001b[0;34m\u001b[0m\u001b[0m\n\u001b[0m\u001b[1;32m    231\u001b[0m     \u001b[0;32melse\u001b[0m\u001b[0;34m:\u001b[0m\u001b[0;34m\u001b[0m\u001b[0;34m\u001b[0m\u001b[0m\n\u001b[1;32m    232\u001b[0m         \u001b[0;32mif\u001b[0m \u001b[0;34m'w'\u001b[0m \u001b[0;32min\u001b[0m \u001b[0mmode\u001b[0m\u001b[0;34m:\u001b[0m\u001b[0;34m\u001b[0m\u001b[0;34m\u001b[0m\u001b[0m\n",
      "\u001b[0;32m/opt/conda/lib/python3.7/site-packages/torch/serialization.py\u001b[0m in \u001b[0;36m__init__\u001b[0;34m(self, name, mode)\u001b[0m\n\u001b[1;32m    209\u001b[0m \u001b[0;32mclass\u001b[0m \u001b[0m_open_file\u001b[0m\u001b[0;34m(\u001b[0m\u001b[0m_opener\u001b[0m\u001b[0;34m)\u001b[0m\u001b[0;34m:\u001b[0m\u001b[0;34m\u001b[0m\u001b[0;34m\u001b[0m\u001b[0m\n\u001b[1;32m    210\u001b[0m     \u001b[0;32mdef\u001b[0m \u001b[0m__init__\u001b[0m\u001b[0;34m(\u001b[0m\u001b[0mself\u001b[0m\u001b[0;34m,\u001b[0m \u001b[0mname\u001b[0m\u001b[0;34m,\u001b[0m \u001b[0mmode\u001b[0m\u001b[0;34m)\u001b[0m\u001b[0;34m:\u001b[0m\u001b[0;34m\u001b[0m\u001b[0;34m\u001b[0m\u001b[0m\n\u001b[0;32m--> 211\u001b[0;31m         \u001b[0msuper\u001b[0m\u001b[0;34m(\u001b[0m\u001b[0m_open_file\u001b[0m\u001b[0;34m,\u001b[0m \u001b[0mself\u001b[0m\u001b[0;34m)\u001b[0m\u001b[0;34m.\u001b[0m\u001b[0m__init__\u001b[0m\u001b[0;34m(\u001b[0m\u001b[0mopen\u001b[0m\u001b[0;34m(\u001b[0m\u001b[0mname\u001b[0m\u001b[0;34m,\u001b[0m \u001b[0mmode\u001b[0m\u001b[0;34m)\u001b[0m\u001b[0;34m)\u001b[0m\u001b[0;34m\u001b[0m\u001b[0;34m\u001b[0m\u001b[0m\n\u001b[0m\u001b[1;32m    212\u001b[0m \u001b[0;34m\u001b[0m\u001b[0m\n\u001b[1;32m    213\u001b[0m     \u001b[0;32mdef\u001b[0m \u001b[0m__exit__\u001b[0m\u001b[0;34m(\u001b[0m\u001b[0mself\u001b[0m\u001b[0;34m,\u001b[0m \u001b[0;34m*\u001b[0m\u001b[0margs\u001b[0m\u001b[0;34m)\u001b[0m\u001b[0;34m:\u001b[0m\u001b[0;34m\u001b[0m\u001b[0;34m\u001b[0m\u001b[0m\n",
      "\u001b[0;31mFileNotFoundError\u001b[0m: [Errno 2] No such file or directory: 'k562_run_10.pt'"
     ]
    }
   ],
   "source": [
    "for cell, c_idx in zip(['k562', 'hepg2', 'sknsh'], [0,1,2]):\n",
    "    for i in range(10):\n",
    "        if i < 9:\n",
    "            track_tag = f'00{i+1}'\n",
    "        else:\n",
    "            track_tag = f'0{i+1}'\n",
    "        if 'k562' == cell:\n",
    "            n_samples = 10\n",
    "            thresh = -3.\n",
    "        elif 'hepg2' == cell:\n",
    "            n_samples = 50\n",
    "            thresh = -2\n",
    "        else:\n",
    "            n_samples = 100\n",
    "            thresh = -1.8\n",
    "        local_stash = f'{cell}_run_{i}.pt'\n",
    "        remote_dump = f'gs://syrgoth/boda_library_design_202112/pickles/sg__{cell}__hmc__track_{track_tag}__round_0'\n",
    "        print(f'transferring stash: {local_stash}')\n",
    "        mcmc_stash_to_boda_pickle(local_stash, remote_dump, my_model, target_count=500, n_samples=100, threshold=thresh, bias_cell=c_idx)\n"
   ]
  },
  {
   "cell_type": "code",
   "execution_count": 8,
   "id": "ca497f83-7ac2-4c29-a724-0b5757aeb51c",
   "metadata": {},
   "outputs": [
    {
     "name": "stderr",
     "output_type": "stream",
     "text": [
      "  0%|          | 2/1000 [00:00<01:08, 14.56it/s]"
     ]
    },
    {
     "name": "stdout",
     "output_type": "stream",
     "text": [
      "loading stash: hepg2_run_10.pt\n"
     ]
    },
    {
     "name": "stderr",
     "output_type": "stream",
     "text": [
      "100%|██████████| 1000/1000 [01:10<00:00, 14.11it/s]\n",
      "n samples above threshold: 321\n",
      "removing 0 samples.\n",
      "proposal shape: torch.Size([321, 4, 200])\n",
      "Proposals deposited at:\n",
      "\tgs://syrgoth/boda_library_design_202112/extra_pickles_3/sg__hepg2__hmc__track_011__round_0__20211213_141412__444669.pt\n",
      "  0%|          | 2/1000 [00:00<01:08, 14.53it/s]"
     ]
    },
    {
     "name": "stdout",
     "output_type": "stream",
     "text": [
      "loading stash: hepg2_run_11.pt\n"
     ]
    },
    {
     "name": "stderr",
     "output_type": "stream",
     "text": [
      "100%|██████████| 1000/1000 [01:10<00:00, 14.15it/s]\n",
      "n samples above threshold: 296\n",
      "removing 0 samples.\n",
      "proposal shape: torch.Size([296, 4, 200])\n",
      "Proposals deposited at:\n",
      "\tgs://syrgoth/boda_library_design_202112/extra_pickles_3/sg__hepg2__hmc__track_012__round_0__20211213_141525__841365.pt\n",
      "  0%|          | 2/1000 [00:00<01:09, 14.46it/s]"
     ]
    },
    {
     "name": "stdout",
     "output_type": "stream",
     "text": [
      "loading stash: hepg2_run_12.pt\n"
     ]
    },
    {
     "name": "stderr",
     "output_type": "stream",
     "text": [
      "100%|██████████| 1000/1000 [01:10<00:00, 14.18it/s]\n",
      "n samples above threshold: 342\n",
      "removing 0 samples.\n",
      "proposal shape: torch.Size([342, 4, 200])\n",
      "Proposals deposited at:\n",
      "\tgs://syrgoth/boda_library_design_202112/extra_pickles_3/sg__hepg2__hmc__track_013__round_0__20211213_141637__333762.pt\n",
      "  0%|          | 2/1000 [00:00<01:09, 14.44it/s]"
     ]
    },
    {
     "name": "stdout",
     "output_type": "stream",
     "text": [
      "loading stash: hepg2_run_13.pt\n"
     ]
    },
    {
     "name": "stderr",
     "output_type": "stream",
     "text": [
      "100%|██████████| 1000/1000 [01:10<00:00, 14.18it/s]\n",
      "n samples above threshold: 315\n",
      "removing 0 samples.\n",
      "proposal shape: torch.Size([315, 4, 200])\n",
      "Proposals deposited at:\n",
      "\tgs://syrgoth/boda_library_design_202112/extra_pickles_3/sg__hepg2__hmc__track_014__round_0__20211213_141749__270660.pt\n",
      "  0%|          | 2/1000 [00:00<01:08, 14.55it/s]"
     ]
    },
    {
     "name": "stdout",
     "output_type": "stream",
     "text": [
      "loading stash: hepg2_run_14.pt\n"
     ]
    },
    {
     "name": "stderr",
     "output_type": "stream",
     "text": [
      "100%|██████████| 1000/1000 [01:10<00:00, 14.18it/s]\n",
      "n samples above threshold: 332\n",
      "removing 0 samples.\n",
      "proposal shape: torch.Size([332, 4, 200])\n",
      "Proposals deposited at:\n",
      "\tgs://syrgoth/boda_library_design_202112/extra_pickles_3/sg__hepg2__hmc__track_015__round_0__20211213_141901__715602.pt\n",
      "  0%|          | 2/1000 [00:00<01:08, 14.58it/s]"
     ]
    },
    {
     "name": "stdout",
     "output_type": "stream",
     "text": [
      "loading stash: hepg2_run_15.pt\n"
     ]
    },
    {
     "name": "stderr",
     "output_type": "stream",
     "text": [
      "100%|██████████| 1000/1000 [01:09<00:00, 14.36it/s]\n",
      "n samples above threshold: 312\n",
      "removing 0 samples.\n",
      "proposal shape: torch.Size([312, 4, 200])\n",
      "Proposals deposited at:\n",
      "\tgs://syrgoth/boda_library_design_202112/extra_pickles_3/sg__hepg2__hmc__track_016__round_0__20211213_142013__546823.pt\n",
      "  0%|          | 2/1000 [00:00<01:07, 14.70it/s]"
     ]
    },
    {
     "name": "stdout",
     "output_type": "stream",
     "text": [
      "loading stash: sknsh_run_10.pt\n"
     ]
    },
    {
     "name": "stderr",
     "output_type": "stream",
     "text": [
      "100%|██████████| 1000/1000 [01:10<00:00, 14.17it/s]\n",
      "n samples above threshold: 277\n",
      "removing 0 samples.\n",
      "proposal shape: torch.Size([277, 4, 200])\n",
      "Proposals deposited at:\n",
      "\tgs://syrgoth/boda_library_design_202112/extra_pickles_3/sg__sknsh__hmc__track_011__round_0__20211213_142125__108786.pt\n",
      "  0%|          | 2/1000 [00:00<01:11, 14.02it/s]"
     ]
    },
    {
     "name": "stdout",
     "output_type": "stream",
     "text": [
      "loading stash: sknsh_run_11.pt\n"
     ]
    },
    {
     "name": "stderr",
     "output_type": "stream",
     "text": [
      "100%|██████████| 1000/1000 [01:10<00:00, 14.18it/s]\n",
      "n samples above threshold: 252\n",
      "removing 0 samples.\n",
      "proposal shape: torch.Size([252, 4, 200])\n",
      "Proposals deposited at:\n",
      "\tgs://syrgoth/boda_library_design_202112/extra_pickles_3/sg__sknsh__hmc__track_012__round_0__20211213_142237__606687.pt\n",
      "  0%|          | 2/1000 [00:00<01:08, 14.55it/s]"
     ]
    },
    {
     "name": "stdout",
     "output_type": "stream",
     "text": [
      "loading stash: sknsh_run_12.pt\n"
     ]
    },
    {
     "name": "stderr",
     "output_type": "stream",
     "text": [
      "100%|██████████| 1000/1000 [01:10<00:00, 14.13it/s]\n",
      "n samples above threshold: 254\n",
      "removing 0 samples.\n",
      "proposal shape: torch.Size([254, 4, 200])\n",
      "Proposals deposited at:\n",
      "\tgs://syrgoth/boda_library_design_202112/extra_pickles_3/sg__sknsh__hmc__track_013__round_0__20211213_142349__372431.pt\n",
      "  0%|          | 2/1000 [00:00<01:08, 14.61it/s]"
     ]
    },
    {
     "name": "stdout",
     "output_type": "stream",
     "text": [
      "loading stash: sknsh_run_13.pt\n"
     ]
    },
    {
     "name": "stderr",
     "output_type": "stream",
     "text": [
      "100%|██████████| 1000/1000 [01:10<00:00, 14.14it/s]\n",
      "n samples above threshold: 310\n",
      "removing 0 samples.\n",
      "proposal shape: torch.Size([310, 4, 200])\n",
      "Proposals deposited at:\n",
      "\tgs://syrgoth/boda_library_design_202112/extra_pickles_3/sg__sknsh__hmc__track_014__round_0__20211213_142502__650549.pt\n",
      "  0%|          | 2/1000 [00:00<01:09, 14.43it/s]"
     ]
    },
    {
     "name": "stdout",
     "output_type": "stream",
     "text": [
      "loading stash: sknsh_run_14.pt\n"
     ]
    },
    {
     "name": "stderr",
     "output_type": "stream",
     "text": [
      "100%|██████████| 1000/1000 [01:10<00:00, 14.16it/s]\n",
      "n samples above threshold: 297\n",
      "removing 0 samples.\n",
      "proposal shape: torch.Size([297, 4, 200])\n",
      "Proposals deposited at:\n",
      "\tgs://syrgoth/boda_library_design_202112/extra_pickles_3/sg__sknsh__hmc__track_015__round_0__20211213_142614__766736.pt\n",
      "  0%|          | 2/1000 [00:00<01:09, 14.40it/s]"
     ]
    },
    {
     "name": "stdout",
     "output_type": "stream",
     "text": [
      "loading stash: sknsh_run_15.pt\n"
     ]
    },
    {
     "name": "stderr",
     "output_type": "stream",
     "text": [
      "100%|██████████| 1000/1000 [01:10<00:00, 14.16it/s]\n",
      "n samples above threshold: 304\n",
      "removing 0 samples.\n",
      "proposal shape: torch.Size([304, 4, 200])\n",
      "Proposals deposited at:\n",
      "\tgs://syrgoth/boda_library_design_202112/extra_pickles_3/sg__sknsh__hmc__track_016__round_0__20211213_142726__100534.pt\n"
     ]
    }
   ],
   "source": [
    "for cell in ['hepg2', 'sknsh']:\n",
    "    for i in range(10,16):\n",
    "        if i < 9:\n",
    "            track_tag = f'00{i+1}'\n",
    "        else:\n",
    "            track_tag = f'0{i+1}'\n",
    "        if 'k562' == cell:\n",
    "            n_samples = 10\n",
    "            thresh = -3.\n",
    "        elif 'hepg2' == cell:\n",
    "            n_samples = 50\n",
    "            thresh = -2\n",
    "        else:\n",
    "            n_samples = 100\n",
    "            thresh = -2\n",
    "        local_stash = f'{cell}_run_{i}.pt'\n",
    "        remote_dump = f'gs://syrgoth/boda_library_design_202112/extra_pickles_3/sg__{cell}__hmc__track_{track_tag}__round_0'\n",
    "        print(f'loading stash: {local_stash}')\n",
    "        mcmc_stash_to_boda_pickle(local_stash, remote_dump, my_model, target_count=500, n_samples=100, threshold=thresh)\n"
   ]
  },
  {
   "cell_type": "markdown",
   "id": "7ff714cd-6413-47dc-a095-7550e3fbbed8",
   "metadata": {},
   "source": [
    "# Scan results"
   ]
  },
  {
   "cell_type": "code",
   "execution_count": 17,
   "id": "0b957bfd-a76e-4abc-a691-265e78bfd3ac",
   "metadata": {
    "collapsed": true,
    "jupyter": {
     "outputs_hidden": true
    },
    "tags": []
   },
   "outputs": [
    {
     "name": "stderr",
     "output_type": "stream",
     "text": [
      "  0%|          | 3/1000 [00:00<00:39, 24.94it/s]"
     ]
    },
    {
     "name": "stdout",
     "output_type": "stream",
     "text": [
      "k562 run 0:\n"
     ]
    },
    {
     "name": "stderr",
     "output_type": "stream",
     "text": [
      "100%|██████████| 1000/1000 [00:39<00:00, 25.18it/s]\n",
      "  0%|          | 3/1000 [00:00<00:35, 27.75it/s]"
     ]
    },
    {
     "name": "stdout",
     "output_type": "stream",
     "text": [
      "tensor([102, 124, 150, 204, 140,  82,  61, 110,  68,  77, 165, 117,  61, 157,\n",
      "        109, 151])\n",
      "tensor(1878)\n",
      "\n",
      "k562 run 1:\n"
     ]
    },
    {
     "name": "stderr",
     "output_type": "stream",
     "text": [
      "100%|██████████| 1000/1000 [00:39<00:00, 25.17it/s]\n",
      "  0%|          | 3/1000 [00:00<00:39, 25.02it/s]"
     ]
    },
    {
     "name": "stdout",
     "output_type": "stream",
     "text": [
      "tensor([160, 114, 166, 109, 114,  88, 146,  97, 106,  76, 138,  79, 210,  57,\n",
      "        129, 143])\n",
      "tensor(1932)\n",
      "\n",
      "k562 run 2:\n"
     ]
    },
    {
     "name": "stderr",
     "output_type": "stream",
     "text": [
      "100%|██████████| 1000/1000 [00:39<00:00, 25.34it/s]\n",
      "  0%|          | 3/1000 [00:00<00:35, 28.00it/s]"
     ]
    },
    {
     "name": "stdout",
     "output_type": "stream",
     "text": [
      "tensor([145,  96,  29, 151, 188,  56, 154, 218,  80, 107, 144, 100, 146, 135,\n",
      "         75, 101])\n",
      "tensor(1925)\n",
      "\n",
      "k562 run 3:\n"
     ]
    },
    {
     "name": "stderr",
     "output_type": "stream",
     "text": [
      "100%|██████████| 1000/1000 [00:39<00:00, 25.37it/s]\n",
      "  0%|          | 3/1000 [00:00<00:35, 28.17it/s]"
     ]
    },
    {
     "name": "stdout",
     "output_type": "stream",
     "text": [
      "tensor([ 65, 167,  76, 171, 190,  76, 149, 104,  90,  85, 142, 123, 144,  38,\n",
      "        118,  63])\n",
      "tensor(1801)\n",
      "\n",
      "k562 run 4:\n"
     ]
    },
    {
     "name": "stderr",
     "output_type": "stream",
     "text": [
      "100%|██████████| 1000/1000 [00:39<00:00, 25.38it/s]\n",
      "  0%|          | 3/1000 [00:00<00:35, 28.03it/s]"
     ]
    },
    {
     "name": "stdout",
     "output_type": "stream",
     "text": [
      "tensor([ 30, 158,  57, 179,  75, 205,  50,  21,  64, 118,   7, 410,  25,  93,\n",
      "        174, 132])\n",
      "tensor(1798)\n",
      "\n",
      "k562 run 5:\n"
     ]
    },
    {
     "name": "stderr",
     "output_type": "stream",
     "text": [
      "100%|██████████| 1000/1000 [00:40<00:00, 24.96it/s]\n",
      "  0%|          | 3/1000 [00:00<00:35, 27.99it/s]"
     ]
    },
    {
     "name": "stdout",
     "output_type": "stream",
     "text": [
      "tensor([ 76, 238, 217, 128, 190,  69, 129,  47,  39, 334,  82, 137,  81,  54,\n",
      "        153, 172])\n",
      "tensor(2146)\n",
      "\n",
      "k562 run 6:\n"
     ]
    },
    {
     "name": "stderr",
     "output_type": "stream",
     "text": [
      "100%|██████████| 1000/1000 [00:39<00:00, 25.43it/s]\n",
      "  0%|          | 3/1000 [00:00<00:35, 28.02it/s]"
     ]
    },
    {
     "name": "stdout",
     "output_type": "stream",
     "text": [
      "tensor([128, 124, 160, 152, 110,  74, 193,  91,  55, 245, 195, 158,  34, 238,\n",
      "        178,  90])\n",
      "tensor(2225)\n",
      "\n",
      "k562 run 7:\n"
     ]
    },
    {
     "name": "stderr",
     "output_type": "stream",
     "text": [
      "100%|██████████| 1000/1000 [00:39<00:00, 25.63it/s]\n",
      "  0%|          | 3/1000 [00:00<00:35, 28.13it/s]"
     ]
    },
    {
     "name": "stdout",
     "output_type": "stream",
     "text": [
      "tensor([ 80,  16, 106, 159,  84, 105, 106, 132, 123, 161,  32, 153,  50, 170,\n",
      "        241,  92])\n",
      "tensor(1810)\n",
      "\n",
      "k562 run 8:\n"
     ]
    },
    {
     "name": "stderr",
     "output_type": "stream",
     "text": [
      "100%|██████████| 1000/1000 [00:39<00:00, 25.37it/s]\n",
      "  0%|          | 3/1000 [00:00<00:35, 27.87it/s]"
     ]
    },
    {
     "name": "stdout",
     "output_type": "stream",
     "text": [
      "tensor([257, 103, 165,  55, 182, 127,  38,  48, 100,  65,  49,  73,  83,  88,\n",
      "         47, 131])\n",
      "tensor(1611)\n",
      "\n",
      "k562 run 9:\n"
     ]
    },
    {
     "name": "stderr",
     "output_type": "stream",
     "text": [
      "100%|██████████| 1000/1000 [00:40<00:00, 24.75it/s]\n",
      "  0%|          | 3/1000 [00:00<00:36, 27.62it/s]"
     ]
    },
    {
     "name": "stdout",
     "output_type": "stream",
     "text": [
      "tensor([134,  82, 157,  45, 112, 106,  72, 126, 260,  86,  65,  79, 115, 143,\n",
      "         99, 111])\n",
      "tensor(1792)\n",
      "\n",
      "hepg2 run 0:\n"
     ]
    },
    {
     "name": "stderr",
     "output_type": "stream",
     "text": [
      "100%|██████████| 1000/1000 [00:40<00:00, 24.84it/s]\n",
      "  0%|          | 3/1000 [00:00<00:35, 28.05it/s]"
     ]
    },
    {
     "name": "stdout",
     "output_type": "stream",
     "text": [
      "tensor([18,  9,  4, 20, 12, 16, 17, 10, 21, 10,  2, 10,  6, 23, 13, 19])\n",
      "tensor(210)\n",
      "\n",
      "hepg2 run 1:\n"
     ]
    },
    {
     "name": "stderr",
     "output_type": "stream",
     "text": [
      "100%|██████████| 1000/1000 [00:40<00:00, 24.72it/s]\n",
      "  0%|          | 3/1000 [00:00<00:47, 20.98it/s]"
     ]
    },
    {
     "name": "stdout",
     "output_type": "stream",
     "text": [
      "tensor([23, 36,  7, 16, 14, 17,  2, 17, 16,  5, 22, 10, 12, 10,  8, 13])\n",
      "tensor(228)\n",
      "\n",
      "hepg2 run 2:\n"
     ]
    },
    {
     "name": "stderr",
     "output_type": "stream",
     "text": [
      "100%|██████████| 1000/1000 [00:39<00:00, 25.52it/s]\n",
      "  0%|          | 3/1000 [00:00<00:36, 27.54it/s]"
     ]
    },
    {
     "name": "stdout",
     "output_type": "stream",
     "text": [
      "tensor([15,  6, 10, 10, 16, 12, 18, 15,  7, 12,  5,  8, 25, 12, 12,  3])\n",
      "tensor(186)\n",
      "\n",
      "hepg2 run 3:\n"
     ]
    },
    {
     "name": "stderr",
     "output_type": "stream",
     "text": [
      "100%|██████████| 1000/1000 [00:39<00:00, 25.50it/s]\n",
      "  0%|          | 3/1000 [00:00<00:47, 21.10it/s]"
     ]
    },
    {
     "name": "stdout",
     "output_type": "stream",
     "text": [
      "tensor([10, 12, 25, 15, 27, 14, 10, 21,  9,  6, 14, 12, 18,  9, 13, 19])\n",
      "tensor(234)\n",
      "\n",
      "hepg2 run 4:\n"
     ]
    },
    {
     "name": "stderr",
     "output_type": "stream",
     "text": [
      "100%|██████████| 1000/1000 [00:39<00:00, 25.14it/s]\n",
      "  0%|          | 3/1000 [00:00<00:36, 27.06it/s]"
     ]
    },
    {
     "name": "stdout",
     "output_type": "stream",
     "text": [
      "tensor([20, 18,  4, 12, 27, 11, 10, 17, 14, 24, 13,  8, 19,  8, 12, 13])\n",
      "tensor(230)\n",
      "\n",
      "hepg2 run 5:\n"
     ]
    },
    {
     "name": "stderr",
     "output_type": "stream",
     "text": [
      "100%|██████████| 1000/1000 [00:39<00:00, 25.42it/s]\n",
      "  0%|          | 3/1000 [00:00<00:35, 27.82it/s]"
     ]
    },
    {
     "name": "stdout",
     "output_type": "stream",
     "text": [
      "tensor([16, 16, 18, 10, 14, 12, 13,  6, 10, 10, 17, 16, 15, 20, 11,  9])\n",
      "tensor(213)\n",
      "\n",
      "hepg2 run 6:\n"
     ]
    },
    {
     "name": "stderr",
     "output_type": "stream",
     "text": [
      "100%|██████████| 1000/1000 [00:38<00:00, 26.19it/s]\n",
      "  0%|          | 3/1000 [00:00<00:35, 28.09it/s]"
     ]
    },
    {
     "name": "stdout",
     "output_type": "stream",
     "text": [
      "tensor([10, 10, 25, 31, 16, 17,  9, 10, 14, 11, 17, 11, 22,  9, 10, 10])\n",
      "tensor(232)\n",
      "\n",
      "hepg2 run 7:\n"
     ]
    },
    {
     "name": "stderr",
     "output_type": "stream",
     "text": [
      "100%|██████████| 1000/1000 [00:39<00:00, 25.42it/s]\n",
      "  0%|          | 3/1000 [00:00<00:35, 27.84it/s]"
     ]
    },
    {
     "name": "stdout",
     "output_type": "stream",
     "text": [
      "tensor([17, 24,  9, 12,  7, 14, 17, 23, 17, 20, 10, 16,  7, 25, 12, 21])\n",
      "tensor(251)\n",
      "\n",
      "hepg2 run 8:\n"
     ]
    },
    {
     "name": "stderr",
     "output_type": "stream",
     "text": [
      "100%|██████████| 1000/1000 [00:41<00:00, 24.09it/s]\n",
      "  0%|          | 3/1000 [00:00<00:35, 28.19it/s]"
     ]
    },
    {
     "name": "stdout",
     "output_type": "stream",
     "text": [
      "tensor([11,  7, 10,  7, 13, 24, 11, 20, 21, 22,  6,  9,  8,  9, 17, 13])\n",
      "tensor(208)\n",
      "\n",
      "hepg2 run 9:\n"
     ]
    },
    {
     "name": "stderr",
     "output_type": "stream",
     "text": [
      "100%|██████████| 1000/1000 [00:40<00:00, 24.75it/s]\n",
      "  0%|          | 3/1000 [00:00<00:35, 27.92it/s]"
     ]
    },
    {
     "name": "stdout",
     "output_type": "stream",
     "text": [
      "tensor([16, 28, 11, 15,  8,  4, 15, 21, 13,  9,  7, 18,  9, 14,  8, 22])\n",
      "tensor(218)\n",
      "\n",
      "sknsh run 0:\n"
     ]
    },
    {
     "name": "stderr",
     "output_type": "stream",
     "text": [
      "100%|██████████| 1000/1000 [00:38<00:00, 26.13it/s]\n",
      "  0%|          | 3/1000 [00:00<00:35, 27.94it/s]"
     ]
    },
    {
     "name": "stdout",
     "output_type": "stream",
     "text": [
      "tensor([19, 10,  6, 25, 21,  4, 13, 15, 12, 19, 12,  9, 35, 11, 15, 11])\n",
      "tensor(237)\n",
      "\n",
      "sknsh run 1:\n"
     ]
    },
    {
     "name": "stderr",
     "output_type": "stream",
     "text": [
      "100%|██████████| 1000/1000 [00:40<00:00, 24.73it/s]\n",
      "  0%|          | 3/1000 [00:00<00:35, 28.16it/s]"
     ]
    },
    {
     "name": "stdout",
     "output_type": "stream",
     "text": [
      "tensor([ 7, 13, 10, 10,  7,  5, 22,  6,  8, 23, 10, 13, 11, 16, 20, 15])\n",
      "tensor(196)\n",
      "\n",
      "sknsh run 2:\n"
     ]
    },
    {
     "name": "stderr",
     "output_type": "stream",
     "text": [
      "100%|██████████| 1000/1000 [00:39<00:00, 25.20it/s]\n",
      "  0%|          | 3/1000 [00:00<00:35, 27.99it/s]"
     ]
    },
    {
     "name": "stdout",
     "output_type": "stream",
     "text": [
      "tensor([35, 10, 12, 18, 20,  5, 17, 13, 17, 11, 11, 12, 15, 18,  8,  6])\n",
      "tensor(228)\n",
      "\n",
      "sknsh run 3:\n"
     ]
    },
    {
     "name": "stderr",
     "output_type": "stream",
     "text": [
      "100%|██████████| 1000/1000 [00:38<00:00, 25.66it/s]\n",
      "  0%|          | 3/1000 [00:00<00:35, 28.02it/s]"
     ]
    },
    {
     "name": "stdout",
     "output_type": "stream",
     "text": [
      "tensor([24, 27, 13, 22, 12, 27, 11, 10,  3, 10, 20,  8, 23, 19, 20, 28])\n",
      "tensor(277)\n",
      "\n",
      "sknsh run 4:\n"
     ]
    },
    {
     "name": "stderr",
     "output_type": "stream",
     "text": [
      "100%|██████████| 1000/1000 [00:38<00:00, 26.03it/s]\n",
      "  0%|          | 3/1000 [00:00<00:35, 27.82it/s]"
     ]
    },
    {
     "name": "stdout",
     "output_type": "stream",
     "text": [
      "tensor([23, 12, 18,  8,  7, 21, 10, 23, 21, 14,  9, 13, 20, 15,  7, 12])\n",
      "tensor(233)\n",
      "\n",
      "sknsh run 5:\n"
     ]
    },
    {
     "name": "stderr",
     "output_type": "stream",
     "text": [
      "100%|██████████| 1000/1000 [00:39<00:00, 25.31it/s]\n",
      "  0%|          | 3/1000 [00:00<00:39, 25.14it/s]"
     ]
    },
    {
     "name": "stdout",
     "output_type": "stream",
     "text": [
      "tensor([17,  7, 32, 10, 11, 19, 18, 29, 31, 15, 18,  6, 18, 14,  4, 10])\n",
      "tensor(259)\n",
      "\n",
      "sknsh run 6:\n"
     ]
    },
    {
     "name": "stderr",
     "output_type": "stream",
     "text": [
      "100%|██████████| 1000/1000 [00:39<00:00, 25.63it/s]\n",
      "  0%|          | 3/1000 [00:00<00:35, 28.04it/s]"
     ]
    },
    {
     "name": "stdout",
     "output_type": "stream",
     "text": [
      "tensor([19, 20, 22, 13,  7, 13,  6, 10,  7, 16,  4,  9, 25, 13,  5,  9])\n",
      "tensor(198)\n",
      "\n",
      "sknsh run 7:\n"
     ]
    },
    {
     "name": "stderr",
     "output_type": "stream",
     "text": [
      "100%|██████████| 1000/1000 [00:38<00:00, 26.09it/s]\n",
      "  0%|          | 3/1000 [00:00<00:35, 28.05it/s]"
     ]
    },
    {
     "name": "stdout",
     "output_type": "stream",
     "text": [
      "tensor([ 5,  5,  8, 11,  9, 14, 14, 20, 15, 11, 18, 23, 13, 15, 10, 14])\n",
      "tensor(205)\n",
      "\n",
      "sknsh run 8:\n"
     ]
    },
    {
     "name": "stderr",
     "output_type": "stream",
     "text": [
      "100%|██████████| 1000/1000 [00:39<00:00, 25.50it/s]\n",
      "  0%|          | 3/1000 [00:00<00:35, 27.99it/s]"
     ]
    },
    {
     "name": "stdout",
     "output_type": "stream",
     "text": [
      "tensor([16,  7,  3, 19,  7, 24, 20,  8,  6, 12,  8, 19, 12, 12, 12, 12])\n",
      "tensor(197)\n",
      "\n",
      "sknsh run 9:\n"
     ]
    },
    {
     "name": "stderr",
     "output_type": "stream",
     "text": [
      "100%|██████████| 1000/1000 [00:39<00:00, 25.63it/s]"
     ]
    },
    {
     "name": "stdout",
     "output_type": "stream",
     "text": [
      "tensor([20, 14,  8, 14, 16,  9, 11, 22, 13, 11,  8, 20,  9,  8,  7, 19])\n",
      "tensor(209)\n",
      "\n"
     ]
    },
    {
     "name": "stderr",
     "output_type": "stream",
     "text": [
      "\n"
     ]
    }
   ],
   "source": [
    "for cell in ['k562', 'hepg2', 'sknsh']:\n",
    "    for i in range(10):\n",
    "        stash = torch.load(f'{cell}_run_{i}.pt')\n",
    "        print(f'{cell} run {i}:')\n",
    "        fil_traj = filter_trajectory(my_model, stash['samples'])\n",
    "        print( fil_traj['mask'].sum(0) )\n",
    "        print( fil_traj['mask'].sum() )\n",
    "        print('')"
   ]
  },
  {
   "cell_type": "code",
   "execution_count": 122,
   "id": "f86e8c3b-e25c-4858-820c-d5fcf81df2f2",
   "metadata": {},
   "outputs": [
    {
     "name": "stderr",
     "output_type": "stream",
     "text": [
      "100%|██████████| 1000/1000 [00:39<00:00, 25.25it/s]\n",
      "n samples above threshold: 259\n",
      "removing 0 samples.\n",
      "proposal shape: torch.Size([259, 4, 200])\n",
      "Proposals deposited at:\n",
      "\ttest_drop__20211210_184006__996887.pt\n"
     ]
    }
   ],
   "source": [
    "mcmc_stash_to_boda_pickle('sknsh_run_5.pt', 'test_drop', my_model, target_count=500, n_samples=100)"
   ]
  },
  {
   "cell_type": "code",
   "execution_count": 123,
   "id": "4f33c837-90ae-4ef2-86ad-cec75eee3819",
   "metadata": {},
   "outputs": [],
   "source": [
    "check_me = torch.load('test_drop__20211210_184006__996887.pt')"
   ]
  },
  {
   "cell_type": "code",
   "execution_count": 124,
   "id": "9bbc1b8d-b8ed-4f2b-8aa2-0185d755ed1f",
   "metadata": {},
   "outputs": [
    {
     "data": {
      "text/plain": [
       "259"
      ]
     },
     "execution_count": 124,
     "metadata": {},
     "output_type": "execute_result"
    }
   ],
   "source": [
    "len( set( list( utils.batch2list( check_me['proposals'][0]['proposals'] ) ) ) )"
   ]
  },
  {
   "cell_type": "code",
   "execution_count": 18,
   "id": "1b87dc50-275f-4a9a-819d-99cd83c5bf67",
   "metadata": {},
   "outputs": [],
   "source": [
    "hold = torch.load('sknsh_run_5.pt')"
   ]
  },
  {
   "cell_type": "code",
   "execution_count": 19,
   "id": "096ba03f-2a48-4b87-bfb7-fd172a120d38",
   "metadata": {},
   "outputs": [
    {
     "name": "stderr",
     "output_type": "stream",
     "text": [
      "100%|██████████| 1000/1000 [00:39<00:00, 25.56it/s]\n"
     ]
    }
   ],
   "source": [
    "fil_traj = filter_trajectory(my_model, hold['samples'])"
   ]
  },
  {
   "cell_type": "code",
   "execution_count": 20,
   "id": "3541d7ef-374f-4c9c-931c-b5215f1ef02f",
   "metadata": {},
   "outputs": [
    {
     "name": "stdout",
     "output_type": "stream",
     "text": [
      "torch.Size([1000, 16, 4, 200])\n",
      "torch.Size([1000, 16])\n",
      "torch.Size([1000, 16])\n"
     ]
    }
   ],
   "source": [
    "print( fil_traj['samples'].shape )\n",
    "print( fil_traj['energies'].shape )\n",
    "print( fil_traj['mask'].shape )"
   ]
  },
  {
   "cell_type": "code",
   "execution_count": 21,
   "id": "f9c8dd6e-7cd4-49d9-a93a-7edf9e52cfe2",
   "metadata": {},
   "outputs": [
    {
     "data": {
      "text/plain": [
       "torch.Size([257, 4, 200])"
      ]
     },
     "execution_count": 21,
     "metadata": {},
     "output_type": "execute_result"
    }
   ],
   "source": [
    "fil_traj['samples'][ fil_traj['mask'] ].shape"
   ]
  },
  {
   "cell_type": "code",
   "execution_count": 75,
   "id": "39345d8e-e048-48b5-8cae-70fab45eac93",
   "metadata": {},
   "outputs": [
    {
     "name": "stdout",
     "output_type": "stream",
     "text": [
      "tensor([16, 10, 33,  9, 14, 16, 19, 24, 32, 11, 19,  3, 21, 13,  8,  9])\n",
      "tensor(257)\n"
     ]
    }
   ],
   "source": [
    "pass_per  = fil_traj['mask'].sum(0)\n",
    "total_pass= fil_traj['mask'].sum()\n",
    "\n",
    "print(pass_per)\n",
    "print(total_pass)"
   ]
  },
  {
   "cell_type": "code",
   "execution_count": 78,
   "id": "c1596a88-d176-4755-bfc2-d95d5c69b935",
   "metadata": {},
   "outputs": [
    {
     "data": {
      "text/plain": [
       "tensor([16, 10, 33,  9, 14, 16, 19, 24, 32, 11, 19,  3, 21, 13,  8,  9])"
      ]
     },
     "execution_count": 78,
     "metadata": {},
     "output_type": "execute_result"
    }
   ],
   "source": [
    "my_cts"
   ]
  },
  {
   "cell_type": "code",
   "execution_count": 82,
   "id": "15bdf9b2-5b48-4057-86a4-4226d798d206",
   "metadata": {},
   "outputs": [],
   "source": [
    "my_cts = get_count_per_traj(pass_per, get_ct=200)\n",
    "down_mask = down_sample_mask(fil_traj['mask'], my_cts)"
   ]
  },
  {
   "cell_type": "code",
   "execution_count": 83,
   "id": "37d62dcb-5d0f-4cc2-a4cc-8b0228c535fd",
   "metadata": {},
   "outputs": [
    {
     "data": {
      "text/plain": [
       "tensor(57)"
      ]
     },
     "execution_count": 83,
     "metadata": {},
     "output_type": "execute_result"
    }
   ],
   "source": [
    "(fil_traj['mask']^down_mask).sum()"
   ]
  },
  {
   "cell_type": "code",
   "execution_count": null,
   "id": "2cd9cedd-db18-4d55-b53a-d3179dec1eaa",
   "metadata": {},
   "outputs": [],
   "source": [
    "def down_sample_mask(mask, ct_per_traj):\n",
    "    mask_copy = mask.clone().detach()\n",
    "    \n",
    "    traj_len, n_traj = mask_copy.shape\n",
    "    for traj_id in range(n_traj):\n",
    "        pass_ids = mask[:, traj_id].nonzero().flatten()\n",
    "        kill_ids = pass_ids[ torch.randperm(pass_ids.numel()) ][ct_per_traj[traj_id]:]\n",
    "        mask_copy[kill_ids,traj_id] = False\n",
    "        \n",
    "    return mask_copy"
   ]
  },
  {
   "cell_type": "code",
   "execution_count": 55,
   "id": "4a778d9b-3a6c-4920-8ff0-07bd82962104",
   "metadata": {},
   "outputs": [
    {
     "data": {
      "text/plain": [
       "tensor([763, 827, 834, 765, 280, 764, 816, 547, 170])"
      ]
     },
     "execution_count": 55,
     "metadata": {},
     "output_type": "execute_result"
    }
   ],
   "source": [
    "pass_ids = fil_traj['mask'][:,0].nonzero().flatten()\n",
    "pass_ids[ torch.randperm(pass_ids.numel()) ][7:]"
   ]
  },
  {
   "cell_type": "code",
   "execution_count": 35,
   "id": "c5234894-8a3e-47f7-9e7b-ba1418bdba56",
   "metadata": {},
   "outputs": [
    {
     "name": "stdout",
     "output_type": "stream",
     "text": [
      "16\n"
     ]
    }
   ],
   "source": [
    "for val in range(pass_per.min().item(),pass_per.max().item()):\n",
    "    if pass_per.clamp(-1,val).sum() >= 200:\n",
    "        print(val)\n",
    "        break\n",
    "    \n",
    "    "
   ]
  },
  {
   "cell_type": "code",
   "execution_count": 14,
   "id": "8caa7c84-ee94-452d-8190-b3da9c7f8201",
   "metadata": {},
   "outputs": [
    {
     "data": {
      "image/png": "[encoded data removed]",
      "text/plain": [
       "<Figure size 432x288 with 1 Axes>"
      ]
     },
     "metadata": {
      "needs_background": "light"
     },
     "output_type": "display_data"
    },
    {
     "data": {
      "image/png": "[encoded data removed]",
      "text/plain": [
       "<Figure size 432x288 with 1 Axes>"
      ]
     },
     "metadata": {
      "needs_background": "light"
     },
     "output_type": "display_data"
    },
    {
     "data": {
      "image/png": "[encoded data removed]",
      "text/plain": [
       "<Figure size 432x288 with 1 Axes>"
      ]
     },
     "metadata": {
      "needs_background": "light"
     },
     "output_type": "display_data"
    },
    {
     "data": {
      "image/png": "[encoded data removed]",
      "text/plain": [
       "<Figure size 432x288 with 1 Axes>"
      ]
     },
     "metadata": {
      "needs_background": "light"
     },
     "output_type": "display_data"
    },
    {
     "data": {
      "image/png": "[encoded data removed]",
      "text/plain": [
       "<Figure size 432x288 with 1 Axes>"
      ]
     },
     "metadata": {
      "needs_background": "light"
     },
     "output_type": "display_data"
    },
    {
     "data": {
      "image/png": "[encoded data removed]",
      "text/plain": [
       "<Figure size 432x288 with 1 Axes>"
      ]
     },
     "metadata": {
      "needs_background": "light"
     },
     "output_type": "display_data"
    },
    {
     "data": {
      "image/png": "[encoded data removed]",
      "text/plain": [
       "<Figure size 432x288 with 1 Axes>"
      ]
     },
     "metadata": {
      "needs_background": "light"
     },
     "output_type": "display_data"
    },
    {
     "data": {
      "image/png": "[encoded data removed]",
      "text/plain": [
       "<Figure size 432x288 with 1 Axes>"
      ]
     },
     "metadata": {
      "needs_background": "light"
     },
     "output_type": "display_data"
    },
    {
     "data": {
      "image/png": "[encoded data removed]",
      "text/plain": [
       "<Figure size 432x288 with 1 Axes>"
      ]
     },
     "metadata": {
      "needs_background": "light"
     },
     "output_type": "display_data"
    },
    {
     "data": {
      "image/png": "[encoded data removed]",
      "text/plain": [
       "<Figure size 432x288 with 1 Axes>"
      ]
     },
     "metadata": {
      "needs_background": "light"
     },
     "output_type": "display_data"
    },
    {
     "data": {
      "image/png": "[encoded data removed]",
      "text/plain": [
       "<Figure size 432x288 with 1 Axes>"
      ]
     },
     "metadata": {
      "needs_background": "light"
     },
     "output_type": "display_data"
    },
    {
     "data": {
      "image/png": "[encoded data removed]",
      "text/plain": [
       "<Figure size 432x288 with 1 Axes>"
      ]
     },
     "metadata": {
      "needs_background": "light"
     },
     "output_type": "display_data"
    },
    {
     "data": {
      "image/png": "[encoded data removed]",
      "text/plain": [
       "<Figure size 432x288 with 1 Axes>"
      ]
     },
     "metadata": {
      "needs_background": "light"
     },
     "output_type": "display_data"
    },
    {
     "data": {
      "image/png": "[encoded data removed]",
      "text/plain": [
       "<Figure size 432x288 with 1 Axes>"
      ]
     },
     "metadata": {
      "needs_background": "light"
     },
     "output_type": "display_data"
    },
    {
     "data": {
      "image/png": "[encoded data removed]",
      "text/plain": [
       "<Figure size 432x288 with 1 Axes>"
      ]
     },
     "metadata": {
      "needs_background": "light"
     },
     "output_type": "display_data"
    },
    {
     "data": {
      "image/png": "[encoded data removed]",
      "text/plain": [
       "<Figure size 432x288 with 1 Axes>"
      ]
     },
     "metadata": {
      "needs_background": "light"
     },
     "output_type": "display_data"
    }
   ],
   "source": [
    "for i in range(16):\n",
    "    sns.histplot( fil_traj['energies'][:,i] )\n",
    "    plt.show()"
   ]
  }
 ],
 "metadata": {
  "kernelspec": {
   "display_name": "Python 3",
   "language": "python",
   "name": "python3"
  },
  "language_info": {
   "codemirror_mode": {
    "name": "ipython",
    "version": 3
   },
   "file_extension": ".py",
   "mimetype": "text/x-python",
   "name": "python",
   "nbconvert_exporter": "python",
   "pygments_lexer": "ipython3",
   "version": "3.7.12"
  }
 },
 "nbformat": 4,
 "nbformat_minor": 5
}
