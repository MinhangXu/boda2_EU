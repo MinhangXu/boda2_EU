{
 "cells": [
  {
   "cell_type": "code",
   "execution_count": 1,
   "id": "curious-absorption",
   "metadata": {},
   "outputs": [],
   "source": [
    "import sys\n",
    "import os\n",
    "import subprocess\n",
    "import tarfile\n",
    "import shutil\n",
    "\n",
    "import torch\n",
    "\n",
    "import boda\n",
    "\n",
    "boda_src = os.path.join( os.path.dirname( os.path.dirname( os.getcwd() ) ), 'src' )\n",
    "sys.path.insert(0, boda_src)\n",
    "\n",
    "from main import unpack_artifact, model_fn"
   ]
  },
  {
   "cell_type": "code",
   "execution_count": 2,
   "id": "painted-relaxation",
   "metadata": {},
   "outputs": [
    {
     "name": "stdout",
     "output_type": "stream",
     "text": [
      "Loaded model from 20210515_230601\n"
     ]
    }
   ],
   "source": [
    "unpack_artifact('gs://syrgoth/aip_ui_test/model_artifacts__20210515_230601__116249.tar.gz')\n",
    "\n",
    "model_dir = './artifacts'\n",
    "\n",
    "my_model = model_fn(model_dir)"
   ]
  },
  {
   "cell_type": "code",
   "execution_count": 3,
   "id": "advisory-color",
   "metadata": {},
   "outputs": [
    {
     "data": {
      "text/plain": [
       "BassetVL(\n",
       "  (pad1): ConstantPad1d(padding=[9, 9], value=0.0)\n",
       "  (conv1): Conv1dNorm(\n",
       "    (conv): Conv1d(4, 300, kernel_size=(19,), stride=(1,))\n",
       "    (bn_layer): BatchNorm1d(300, eps=1e-05, momentum=0.1, affine=True, track_running_stats=True)\n",
       "  )\n",
       "  (pad2): ConstantPad1d(padding=[5, 5], value=0.0)\n",
       "  (conv2): Conv1dNorm(\n",
       "    (conv): Conv1d(300, 200, kernel_size=(11,), stride=(1,))\n",
       "    (bn_layer): BatchNorm1d(200, eps=1e-05, momentum=0.1, affine=True, track_running_stats=True)\n",
       "  )\n",
       "  (pad3): ConstantPad1d(padding=[3, 3], value=0.0)\n",
       "  (conv3): Conv1dNorm(\n",
       "    (conv): Conv1d(200, 200, kernel_size=(7,), stride=(1,))\n",
       "    (bn_layer): BatchNorm1d(200, eps=1e-05, momentum=0.1, affine=True, track_running_stats=True)\n",
       "  )\n",
       "  (pad4): ConstantPad1d(padding=(1, 1), value=0.0)\n",
       "  (maxpool_3): MaxPool1d(kernel_size=3, stride=3, padding=0, dilation=1, ceil_mode=False)\n",
       "  (maxpool_4): MaxPool1d(kernel_size=4, stride=4, padding=0, dilation=1, ceil_mode=False)\n",
       "  (linear1): LinearNorm(\n",
       "    (linear): Linear(in_features=2600, out_features=1000, bias=True)\n",
       "    (bn_layer): BatchNorm1d(1000, eps=1e-05, momentum=0.1, affine=True, track_running_stats=True)\n",
       "  )\n",
       "  (linear2): LinearNorm(\n",
       "    (linear): Linear(in_features=1000, out_features=1000, bias=True)\n",
       "    (bn_layer): BatchNorm1d(1000, eps=1e-05, momentum=0.1, affine=True, track_running_stats=True)\n",
       "  )\n",
       "  (linear3): LinearNorm(\n",
       "    (linear): Linear(in_features=1000, out_features=1000, bias=True)\n",
       "    (bn_layer): BatchNorm1d(1000, eps=1e-05, momentum=0.1, affine=True, track_running_stats=True)\n",
       "  )\n",
       "  (output): Linear(in_features=1000, out_features=3, bias=True)\n",
       "  (nonlin): ReLU()\n",
       "  (dropout): Dropout(p=0.3, inplace=False)\n",
       "  (criterion): MSELoss()\n",
       ")"
      ]
     },
     "execution_count": 3,
     "metadata": {},
     "output_type": "execute_result"
    }
   ],
   "source": [
    "my_model"
   ]
  },
  {
   "cell_type": "code",
   "execution_count": 4,
   "id": "operating-canyon",
   "metadata": {},
   "outputs": [
    {
     "data": {
      "text/plain": [
       "tensor([[-0.0318, -0.1939, -0.1011],\n",
       "        [ 0.2486,  0.0610,  0.0991],\n",
       "        [ 1.4509,  1.1929,  1.0953],\n",
       "        [ 0.5921,  0.3522,  0.1272],\n",
       "        [ 0.0997,  0.1604,  0.0276],\n",
       "        [ 0.1442,  0.1161,  0.1263],\n",
       "        [ 1.4222,  1.1104,  1.1020],\n",
       "        [ 0.0826, -0.1162,  0.0049],\n",
       "        [ 1.0682,  0.8381,  0.5765],\n",
       "        [ 0.0326,  0.0901,  0.3959]], grad_fn=<AddmmBackward>)"
      ]
     },
     "execution_count": 4,
     "metadata": {},
     "output_type": "execute_result"
    }
   ],
   "source": [
    "my_model(torch.randn(10,4,600))"
   ]
  }
 ],
 "metadata": {
  "kernelspec": {
   "display_name": "Python 3",
   "language": "python",
   "name": "python3"
  },
  "language_info": {
   "codemirror_mode": {
    "name": "ipython",
    "version": 3
   },
   "file_extension": ".py",
   "mimetype": "text/x-python",
   "name": "python",
   "nbconvert_exporter": "python",
   "pygments_lexer": "ipython3",
   "version": "3.7.10"
  }
 },
 "nbformat": 4,
 "nbformat_minor": 5
}
