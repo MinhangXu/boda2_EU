{
 "cells": [
  {
   "cell_type": "code",
   "execution_count": 1,
   "id": "violent-target",
   "metadata": {},
   "outputs": [
    {
     "name": "stdout",
     "output_type": "stream",
     "text": [
      "python\n",
      "/home/ubuntu/boda2/src/main.py\n",
      "--data_module=MPRA_DataModule\n",
      "--datafile_path=gs://syrgoth/data/MPRA_UKBB_BODA.txt\n",
      "--synth_seed=102202\n",
      "--batch_size=1024\n",
      "--padded_seq_len=600\n",
      "--num_workers=1\n",
      "--model_module=BassetVL\n",
      "--n_outputs=3\n",
      "--linear_channels=1000\n",
      "--loss_criterion=MSELoss\n",
      "--graph_module=CNNTransferLearning\n",
      "--parent_weights=gs://syrgoth/my-model.epoch_5-step_19885.pkl\n",
      "--optimizer=Adam\n",
      "--amsgrad=True\n",
      "--gpus=1\n",
      "--min_epochs=50\n",
      "--precision=16\n",
      "--default_root_dir=/tmp/output/artifacts\n",
      "--artifact_path=gs://syrgoth/aip_ui_test\n",
      "--lr=6e-3\n",
      "--frozen_epochs=10\n",
      "--max_epochs=500\n",
      "--n_linear_layers=1\n",
      "--weight_decay=1e-7\n",
      "--beta1=9.999e-1\n",
      "--beta2=9e-1\n",
      "--checkpoint_monitor=arithmetic_mean_loss\n",
      "--monitor_goal=min\n",
      "--stopping_patience=20\n",
      "--scheduler=ReduceLROnPlateau\n",
      "--scheduler_mode=min\n",
      "--threshold=1e-2\n",
      "--patience=10\n",
      "--cooldown=10\n",
      "--min_lr=1e-8\n",
      "--scheduler_monitor=arithmetic_mean_loss\n"
     ]
    },
    {
     "data": {
      "text/plain": [
       "[None,\n",
       " None,\n",
       " None,\n",
       " None,\n",
       " None,\n",
       " None,\n",
       " None,\n",
       " None,\n",
       " None,\n",
       " None,\n",
       " None,\n",
       " None,\n",
       " None,\n",
       " None,\n",
       " None,\n",
       " None,\n",
       " None,\n",
       " None,\n",
       " None,\n",
       " None,\n",
       " None,\n",
       " None,\n",
       " None,\n",
       " None,\n",
       " None,\n",
       " None,\n",
       " None,\n",
       " None,\n",
       " None,\n",
       " None,\n",
       " None,\n",
       " None,\n",
       " None,\n",
       " None,\n",
       " None,\n",
       " None,\n",
       " None,\n",
       " None]"
      ]
     },
     "execution_count": 1,
     "metadata": {},
     "output_type": "execute_result"
    }
   ],
   "source": [
    "cmd_str = 'python /home/ubuntu/boda2/src/main.py --data_module=MPRA_DataModule --datafile_path=gs://syrgoth/data/MPRA_UKBB_BODA.txt --synth_seed=102202 --batch_size=1024 --padded_seq_len=600 --num_workers=1 --model_module=BassetVL --n_outputs=3 --linear_channels=1000 --loss_criterion=MSELoss --graph_module=CNNTransferLearning --parent_weights=gs://syrgoth/my-model.epoch_5-step_19885.pkl --optimizer=Adam --amsgrad=True --gpus=1 --min_epochs=50 --precision=16 --default_root_dir=/tmp/output/artifacts --artifact_path=gs://syrgoth/aip_ui_test --lr=6e-3 --frozen_epochs=10 --max_epochs=500 --n_linear_layers=1 --weight_decay=1e-7 --beta1=9.999e-1 --beta2=9e-1 --checkpoint_monitor=arithmetic_mean_loss --monitor_goal=min --stopping_patience=20 --scheduler=ReduceLROnPlateau --scheduler_mode=min --threshold=1e-2 --patience=10 --cooldown=10 --min_lr=1e-8 --scheduler_monitor=arithmetic_mean_loss'\n",
    "\n",
    "[ print(x) for x in cmd_str.split() ]"
   ]
  }
 ],
 "metadata": {
  "kernelspec": {
   "display_name": "Python 3",
   "language": "python",
   "name": "python3"
  },
  "language_info": {
   "codemirror_mode": {
    "name": "ipython",
    "version": 3
   },
   "file_extension": ".py",
   "mimetype": "text/x-python",
   "name": "python",
   "nbconvert_exporter": "python",
   "pygments_lexer": "ipython3",
   "version": "3.7.10"
  }
 },
 "nbformat": 4,
 "nbformat_minor": 5
}
