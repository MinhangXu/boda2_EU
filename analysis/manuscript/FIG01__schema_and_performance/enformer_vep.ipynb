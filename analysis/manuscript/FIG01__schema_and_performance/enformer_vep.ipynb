{
 "cells": [
  {
   "cell_type": "code",
   "execution_count": 1,
   "id": "90cf6cd5-6edf-4b76-8e38-c6cabe80c30e",
   "metadata": {},
   "outputs": [],
   "source": [
    "import numpy as np\n",
    "import pandas as pd\n",
    "\n",
    "from scipy.stats import pearsonr\n",
    "from sklearn.decomposition import PCA\n",
    "\n",
    "import matplotlib.pyplot as plt\n",
    "import seaborn as sns"
   ]
  },
  {
   "cell_type": "markdown",
   "id": "88dc7862-6176-4a46-b142-1d0453e3f9e8",
   "metadata": {},
   "source": [
    "## Read in data from GS storage\n",
    "\n",
    "- `enfo_data`: enformer skew predictions generated using `enformer-usage.ipynb`\n",
    "- `mpra_data`: MPRA measured skew and BODA model predicted skews\n",
    "- `enfo_metadata`: enformer output column metadata"
   ]
  },
  {
   "cell_type": "code",
   "execution_count": null,
   "id": "d5881c60-e1f3-4307-8c9b-45add05bc07d",
   "metadata": {},
   "outputs": [],
   "source": [
    "enfo_data = pd.read_table('gs://korvaz/mpra_model_manuscript/data/enformer__mpra_test_set_preds.csv', sep='\\t', header=0)\n",
    "mpra_data = pd.read_table('gs://korvaz/mpra_model_manuscript/data/boda2__single_variant_pairs__raw.txt', sep=' ', header=0)\n",
    "\n",
    "enfo_metadata = pd.read_table('gs://basenji_barnyard/data/human/targets.txt', header=0)"
   ]
  },
  {
   "cell_type": "markdown",
   "id": "4f6566a1-cfb2-40da-93fc-efb7a915c627",
   "metadata": {},
   "source": [
    "## Filter MPRA measurements\n",
    "\n",
    "Remove systematically noisy measurements by removing sequences with low oligo counts and near 0 effective activities"
   ]
  },
  {
   "cell_type": "code",
   "execution_count": null,
   "id": "33dc69ec-a2af-4f5d-8b6f-e81ef68b2f86",
   "metadata": {},
   "outputs": [],
   "source": [
    "plasmid_filter = np.logical_or(\n",
    "    (mpra_data.loc[:,['ctrl_mean_k562_ref']] >= 100), \n",
    "    (mpra_data.loc[:,['ctrl_mean_k562_alt']] >= 100)\n",
    ").values\n",
    "\n",
    "activity_filter = np.logical_or(\n",
    "    (mpra_data.loc[:,['K562_mean_alt']].abs() > 1), \n",
    "    (mpra_data.loc[:,['K562_mean_ref']].abs() > 1)\n",
    ").values\n",
    "\n",
    "mpra_data = mpra_data.loc[ plasmid_filter & activity_filter ]"
   ]
  },
  {
   "cell_type": "code",
   "execution_count": null,
   "id": "68146be8-b327-454a-bfe2-ab8982fbbcfb",
   "metadata": {},
   "outputs": [],
   "source": [
    "enfo_data.columns"
   ]
  },
  {
   "cell_type": "markdown",
   "id": "f1a2a4c5-e6fe-42c8-ad58-94196e19403a",
   "metadata": {},
   "source": [
    "## Build filters for Enformer predictions\n",
    "We want K562 related predictions"
   ]
  },
  {
   "cell_type": "code",
   "execution_count": null,
   "id": "7a043a56-1cfc-4980-8dea-dc2d92448524",
   "metadata": {},
   "outputs": [],
   "source": [
    "k562_idxs = [ rec['index'] for i, rec in enfo_metadata.iterrows() if 'K562' in rec['description'] ]\n",
    "k562_tags = [ tag for tag in enfo_data.columns[5:] if int(tag.split('_')[0]) in k562_idxs ]\n",
    "k562_flags= [ int(tag.split('_')[0]) in k562_idxs for tag in enfo_data.columns[5:] ]\n",
    "\n",
    "cage_tags = [ tag for tag in enfo_data.columns if 'CAGE' in tag ]"
   ]
  },
  {
   "cell_type": "code",
   "execution_count": null,
   "id": "0da9b9d4-22b9-45e2-a64a-b9916153e7fc",
   "metadata": {
    "scrolled": true,
    "tags": []
   },
   "outputs": [],
   "source": [
    "k562_tags"
   ]
  },
  {
   "cell_type": "code",
   "execution_count": null,
   "id": "3f2dae81-6bfa-4a49-bcc6-3655a2b72b59",
   "metadata": {
    "scrolled": true,
    "tags": []
   },
   "outputs": [],
   "source": [
    "cage_tags"
   ]
  },
  {
   "cell_type": "markdown",
   "id": "c6ffccd9-30bf-4897-b4a2-643a031a07fd",
   "metadata": {},
   "source": [
    "## Refine K562 features\n",
    "Based on the paper, use DNase and CAGE preds for VEP, and summarize using the first dim from PCA"
   ]
  },
  {
   "cell_type": "code",
   "execution_count": null,
   "id": "8b85ca89-949b-47d9-af8a-ec227b3d12e7",
   "metadata": {},
   "outputs": [],
   "source": [
    "strict_k562_filter = k562_tags[3:7] + k562_tags[-2:]"
   ]
  },
  {
   "cell_type": "code",
   "execution_count": null,
   "id": "8c255010-610c-4119-8eaa-3a61bc3b425b",
   "metadata": {},
   "outputs": [],
   "source": [
    "pca = PCA(n_components=2)\n",
    "enfo_pca = pca.fit_transform(enfo_data.loc[:, strict_k562_filter])\n",
    "for dim in range(enfo_pca.shape[1]):\n",
    "    enfo_data[f'PC_{dim}'] = enfo_pca[:,dim]\n",
    "    \n",
    "if pearsonr( enfo_data.loc[:, strict_k562_filter].mean(axis=1), enfo_data.loc[:, 'PC_0'] )[0] >= 0:\n",
    "    pass\n",
    "else:\n",
    "    enfo_data.loc[:, 'PC_0'] = enfo_data.loc[:, 'PC_0'] * -1"
   ]
  },
  {
   "cell_type": "code",
   "execution_count": null,
   "id": "620cfc09-4acb-4490-b3f1-c70aee6c8f80",
   "metadata": {},
   "outputs": [],
   "source": [
    "full_filter = list(enfo_data.columns[0:5]) + list(strict_k562_filter) + [f'PC_{dim}' for dim in range(enfo_pca.shape[1])]\n",
    "k562_dnase_flags = [ tag in full_filter for tag in enfo_data.columns ]"
   ]
  },
  {
   "cell_type": "code",
   "execution_count": null,
   "id": "935b16ec-e849-4e1d-8056-38398ce45a41",
   "metadata": {},
   "outputs": [],
   "source": [
    "full_filter"
   ]
  },
  {
   "cell_type": "markdown",
   "id": "07abf216-d6ac-425f-ba1b-f5ca3f7f24d4",
   "metadata": {},
   "source": [
    "## Merge Enformer predictions with MPRA measurements \\/ BODA predictions"
   ]
  },
  {
   "cell_type": "code",
   "execution_count": null,
   "id": "dae52f68-d8e6-4cbe-a19f-eaf806a4384e",
   "metadata": {},
   "outputs": [],
   "source": [
    "merged_data = pd.concat(\n",
    "    [\n",
    "        enfo_data.loc[:, k562_dnase_flags].set_index('id'), \n",
    "        mpra_data.loc[:,['IDs_ref','K562_mean_alt','K562_mean_ref','K562_pred_aggreg_alt','K562_pred_aggreg_ref']].set_index('IDs_ref')\n",
    "    ],axis=1,join='inner'\n",
    ")"
   ]
  },
  {
   "cell_type": "code",
   "execution_count": null,
   "id": "1c02f028-49e9-4dc5-a1d9-0e5d602d6d35",
   "metadata": {},
   "outputs": [],
   "source": [
    "merged_data"
   ]
  },
  {
   "cell_type": "markdown",
   "id": "33f492fe-4280-4a39-bd16-87c493babc47",
   "metadata": {},
   "source": [
    "## Plot skew: predictions (y axis) vs MPRA measured (x axis)"
   ]
  },
  {
   "cell_type": "code",
   "execution_count": null,
   "id": "183b54bd-91d7-4d58-881c-d977e4cd2878",
   "metadata": {},
   "outputs": [],
   "source": [
    "fig, axes = plt.subplots(1,2, figsize=[12,5])\n",
    "\n",
    "enfo_corr = pearsonr(\n",
    "    merged_data.loc[:,'K562_mean_alt'] - merged_data.loc[:,'K562_mean_ref'],\n",
    "    merged_data.loc[:,strict_k562_filter].mean(axis=1)\n",
    ")\n",
    "\n",
    "mpra_corr = pearsonr(\n",
    "    merged_data.loc[:,'K562_mean_alt'] - merged_data.loc[:,'K562_mean_ref'],\n",
    "    merged_data.loc[:,'K562_pred_aggreg_alt'] - merged_data.loc[:,'K562_pred_aggreg_ref']\n",
    ")\n",
    "\n",
    "\n",
    "sns.scatterplot( \n",
    "    x=merged_data.loc[:,'K562_mean_alt'] - merged_data.loc[:,'K562_mean_ref'],\n",
    "    y=merged_data.loc[:,strict_k562_filter].mean(axis=1),\n",
    "    ax=axes[0]\n",
    ")\n",
    "\n",
    "sns.scatterplot( \n",
    "    x=merged_data.loc[:,'K562_mean_alt'] - merged_data.loc[:,'K562_mean_ref'],\n",
    "    y=merged_data.loc[:,'K562_pred_aggreg_alt'] - merged_data.loc[:,'K562_pred_aggreg_ref'],\n",
    "    ax=axes[1]\n",
    ")\n",
    "\n",
    "axes[0].title.set_text(f'Enformer mean K562 features Pearsons R: {enfo_corr[0]:.4f}')\n",
    "axes[1].title.set_text(f'BODA K562 predictions Pearsons R: {mpra_corr[0]:.4f}')\n"
   ]
  },
  {
   "cell_type": "code",
   "execution_count": null,
   "id": "1d7ac09e-bca8-4190-9d6d-2bbddd679980",
   "metadata": {},
   "outputs": [],
   "source": [
    "fig, axes = plt.subplots(1,2, figsize=[12,5])\n",
    "\n",
    "enfo_corr = pearsonr(\n",
    "    merged_data.loc[:,'K562_mean_alt'] - merged_data.loc[:,'K562_mean_ref'],\n",
    "    merged_data.loc[:,'PC_0']\n",
    ")\n",
    "\n",
    "mpra_corr = pearsonr(\n",
    "    merged_data.loc[:,'K562_mean_alt'] - merged_data.loc[:,'K562_mean_ref'],\n",
    "    merged_data.loc[:,'K562_pred_aggreg_alt'] - merged_data.loc[:,'K562_pred_aggreg_ref']\n",
    ")\n",
    "\n",
    "\n",
    "sns.scatterplot( \n",
    "    x=merged_data.loc[:,'K562_mean_alt'] - merged_data.loc[:,'K562_mean_ref'],\n",
    "    y=merged_data.loc[:,'PC_0'],\n",
    "    ax=axes[0]\n",
    ")\n",
    "\n",
    "sns.scatterplot( \n",
    "    x=merged_data.loc[:,'K562_mean_alt'] - merged_data.loc[:,'K562_mean_ref'],\n",
    "    y=merged_data.loc[:,'K562_pred_aggreg_alt'] - merged_data.loc[:,'K562_pred_aggreg_ref'],\n",
    "    ax=axes[1]\n",
    ")\n",
    "\n",
    "axes[0].title.set_text(f'Enformer K562 features, first PC Pearsons R: {enfo_corr[0]:.4f}')\n",
    "axes[1].title.set_text(f'BODA K562 predictions Pearsons R: {mpra_corr[0]:.4f}')"
   ]
  }
 ],
 "metadata": {
  "kernelspec": {
   "display_name": "Python 3",
   "language": "python",
   "name": "python3"
  },
  "language_info": {
   "codemirror_mode": {
    "name": "ipython",
    "version": 3
   },
   "file_extension": ".py",
   "mimetype": "text/x-python",
   "name": "python",
   "nbconvert_exporter": "python",
   "pygments_lexer": "ipython3",
   "version": "3.7.12"
  }
 },
 "nbformat": 4,
 "nbformat_minor": 5
}
