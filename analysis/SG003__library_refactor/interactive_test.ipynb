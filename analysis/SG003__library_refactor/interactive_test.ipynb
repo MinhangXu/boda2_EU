{
 "cells": [
  {
   "cell_type": "code",
   "execution_count": 1,
   "metadata": {},
   "outputs": [],
   "source": [
    "import os\n",
    "import sys\n",
    "import time\n",
    "import yaml\n",
    "import shutil\n",
    "import argparse\n",
    "import tarfile\n",
    "import random\n",
    "import tempfile\n",
    "import subprocess\n",
    "\n",
    "import torch\n",
    "import pytorch_lightning as ptl\n",
    "from pytorch_lightning import Trainer\n",
    "\n",
    "import boda\n"
   ]
  },
  {
   "cell_type": "code",
   "execution_count": 2,
   "metadata": {},
   "outputs": [
    {
     "name": "stdout",
     "output_type": "stream",
     "text": [
      "1.7.1\n",
      "1.3.0\n"
     ]
    }
   ],
   "source": [
    "print(torch.__version__)\n",
    "print(ptl.__version__)"
   ]
  },
  {
   "cell_type": "code",
   "execution_count": 3,
   "metadata": {},
   "outputs": [],
   "source": [
    "def main(args):\n",
    "    data_module = getattr(boda.data, args['Main args'].data_module)\n",
    "    model_module= getattr(boda.model, args['Main args'].model_module)\n",
    "    graph_module= getattr(boda.graph, args['Main args'].graph_module)\n",
    "\n",
    "    data = data_module(**vars(data_module.process_args(args)))\n",
    "    model= model_module(**vars(model_module.process_args(args)))\n",
    "\n",
    "    model.__class__ = type(\n",
    "        'BODA_module',\n",
    "        (model_module,graph_module),\n",
    "        vars(graph_module.process_args(args))\n",
    "    )\n",
    "\n",
    "    os.makedirs('/tmp/output/artifacts', exist_ok=True)\n",
    "    trainer = Trainer.from_argparse_args(args['pl.Trainer'])\n",
    "    \n",
    "    trainer.fit(model, data)\n",
    "    \n",
    "    #_save_model(data_module, model_module, graph_module, \n",
    "    #            model, trainer, args)\n",
    "    \n",
    "    return data_module, model_module, graph_module, model, trainer, args"
   ]
  },
  {
   "cell_type": "code",
   "execution_count": 4,
   "metadata": {},
   "outputs": [],
   "source": [
    "def _save_model(data_module, model_module, graph_module, \n",
    "                model, trainer, args):\n",
    "    local_dir = args['pl.Trainer'].default_root_dir\n",
    "    save_dict = {\n",
    "        'data_module'  : data_module.__name__,\n",
    "        'data_hparams' : data_module.process_args(args),\n",
    "        'model_module' : model_module.__name__,\n",
    "        'model_hparams': model_module.process_args(args),\n",
    "        'graph_module' : graph_module.__name__,\n",
    "        'graph_hparams': graph_module.process_args(args),\n",
    "        'model_state_dict': model.state_dict(),\n",
    "        'timestamp'    : time.strftime(\"%Y%m%d_%H%M%S\"),\n",
    "        'random_tag'   : random.randint(100000,999999)\n",
    "    }\n",
    "    torch.save(save_dict, os.path.join(local_dir,'torch_checkpoint.pt'))\n",
    "    \n",
    "    filename=f'model_artifacts__{save_dict[\"timestamp\"]}__{save_dict[\"random_tag\"]}.tar.gz'\n",
    "    with tempfile.TemporaryDirectory() as tmpdirname:\n",
    "        tmpdirname = '/tmp/output'\n",
    "        with tarfile.open(os.path.join(tmpdirname,filename), 'w:gz') as tar:\n",
    "            tar.add(local_dir,arcname='artifacts')\n",
    "\n",
    "        if 'gs://' in args['Main args'].artifact_path:\n",
    "            clound_target = os.path.join(args['Main args'].artifact_path,filename)\n",
    "            subprocess.check_call(\n",
    "                ['gsutil', 'cp', os.path.join(tmpdirname,filename), clound_target]\n",
    "            )\n",
    "        else:\n",
    "            os.makedirs(args['Main args'].artifact_path, exist_ok=True)\n",
    "            shutil.copy(os.path.join(tmpdirname,filename), args['Main args'].artifact_path)\n"
   ]
  },
  {
   "cell_type": "code",
   "execution_count": 5,
   "metadata": {},
   "outputs": [],
   "source": [
    "def model_fn(model_dir):\n",
    "    checkpoint = torch.load(os.path.join(model_dir,'torch_checkpoint.pt'))\n",
    "    model_module = getattr(boda, checkpoint['model_module'])\n",
    "    model        = model_module(**checkpoint['model_hparams'])\n",
    "    model.load_state_dict(checkpoint['model_state_dict'])\n",
    "    print(f'Loaded model from {checkpoint[\"timestamp\"]}')\n",
    "    return model\n"
   ]
  },
  {
   "cell_type": "markdown",
   "metadata": {},
   "source": [
    "# Process runtime arguments"
   ]
  },
  {
   "cell_type": "markdown",
   "metadata": {},
   "source": [
    "## Command line args to use for testing"
   ]
  },
  {
   "cell_type": "code",
   "execution_count": 6,
   "metadata": {},
   "outputs": [
    {
     "data": {
      "text/plain": [
       "'python /home/ubuntu/boda2/src/main.py --data_module BODA2_DataModule --datafile_path gs://syrgoth/data/BODA.MPRA.txt --valid_pct  5 --test_pct  5 --batch_size  32 --padded_seq_len 600 --num_workers 1 --model_module Basset --n_outputs  3 --loss_criterion MSELoss --graph_module CNNBasicTraining --gpus 1 --min_epochs 5 --max_epochs 5 --default_root_dir /tmp/output/artifacts --artifact_path gs://haddath/sgosai/deposit_test '"
      ]
     },
     "execution_count": 6,
     "metadata": {},
     "output_type": "execute_result"
    }
   ],
   "source": [
    "cmd_str = '--data_module BODA2_DataModule ' +\\\n",
    "            '--datafile_path gs://syrgoth/data/BODA.MPRA.txt ' +\\\n",
    "            '--valid_pct 5 --test_pct 5 ' +\\\n",
    "            '--batch_size  32 --padded_seq_len 600 --num_workers 1 ' +\\\n",
    "          '--model_module Basset ' +\\\n",
    "            '--n_outputs  3 --loss_criterion MSELoss ' +\\\n",
    "          '--graph_module CNNBasicTraining ' +\\\n",
    "          '--gpus 1 --min_epochs 5 --max_epochs 5 --default_root_dir /tmp/output/artifacts ' +\\\n",
    "          '--artifact_path gs://haddath/sgosai/deposit_test '\n",
    "\n",
    "'python /home/ubuntu/boda2/src/main.py ' + cmd_str"
   ]
  },
  {
   "cell_type": "markdown",
   "metadata": {},
   "source": [
    "## Set base args for script\n",
    "\n",
    "Basic arguments to identify which submodules are used and where data will be saved"
   ]
  },
  {
   "cell_type": "code",
   "execution_count": 7,
   "metadata": {},
   "outputs": [
    {
     "data": {
      "text/plain": [
       "_StoreAction(option_strings=['--pretrained_weights'], dest='pretrained_weights', nargs=None, const=None, default=None, type=<class 'str'>, choices=None, help='Pretrained weights.', metavar=None)"
      ]
     },
     "execution_count": 7,
     "metadata": {},
     "output_type": "execute_result"
    }
   ],
   "source": [
    "parser = argparse.ArgumentParser(description=\"BODA trainer\", add_help=False)\n",
    "group = parser.add_argument_group('Main args')\n",
    "group.add_argument('--data_module', type=str, required=True, help='BODA data module to process dataset.')\n",
    "group.add_argument('--model_module',type=str, required=True, help='BODA model module to fit dataset.')\n",
    "group.add_argument('--graph_module',type=str, required=True, help='BODA graph module to define computations.')\n",
    "group.add_argument('--artifact_path', type=str, default='/opt/ml/checkpoints/', help='Path where model artifacts are deposited.')\n",
    "group.add_argument('--pretrained_weights', type=str, help='Pretrained weights.')\n",
    "\n"
   ]
  },
  {
   "cell_type": "code",
   "execution_count": 8,
   "metadata": {},
   "outputs": [],
   "source": [
    "known_args, leftover_args = parser.parse_known_args(\n",
    "    cmd_str.rstrip().split()\n",
    ")"
   ]
  },
  {
   "cell_type": "code",
   "execution_count": 9,
   "metadata": {},
   "outputs": [
    {
     "data": {
      "text/plain": [
       "Namespace(artifact_path='gs://haddath/sgosai/deposit_test', data_module='BODA2_DataModule', graph_module='CNNBasicTraining', model_module='Basset', pretrained_weights=None)"
      ]
     },
     "execution_count": 9,
     "metadata": {},
     "output_type": "execute_result"
    }
   ],
   "source": [
    "known_args"
   ]
  },
  {
   "cell_type": "markdown",
   "metadata": {},
   "source": [
    "## Extract first-order submodule args\n",
    "\n",
    "Get submodule specific arguments."
   ]
  },
  {
   "cell_type": "code",
   "execution_count": 10,
   "metadata": {},
   "outputs": [],
   "source": [
    "Data  = getattr(boda.data,  known_args.data_module)\n",
    "Model = getattr(boda.model, known_args.model_module)\n",
    "Graph = getattr(boda.graph, known_args.graph_module)\n",
    "\n",
    "parser = Data.add_data_specific_args(parser)\n",
    "parser = Model.add_model_specific_args(parser)\n",
    "parser = Graph.add_graph_specific_args(parser)\n",
    "\n",
    "known_args, leftover_args = parser.parse_known_args(\n",
    "    cmd_str.rstrip().split()\n",
    ")\n"
   ]
  },
  {
   "cell_type": "code",
   "execution_count": 11,
   "metadata": {},
   "outputs": [
    {
     "data": {
      "text/plain": [
       "Namespace(activity_columns=['K562', 'HepG2.neon', 'SKNSH'], artifact_path='gs://haddath/sgosai/deposit_test', batch_size=32, conv1_channels=300, conv1_kernel_size=19, conv2_channels=200, conv2_kernel_size=11, conv3_channels=200, conv3_kernel_size=7, data_module='BODA2_DataModule', datafile_path='gs://syrgoth/data/BODA.MPRA.txt', dropout_p=0.3, graph_module='CNNBasicTraining', linear1_channels=1000, linear2_channels=1000, loss_criterion='MSELoss', model_module='Basset', n_outputs=3, num_workers=1, optimizer='Adam', padded_seq_len=600, pretrained_weights=None, scheduler=None, scheduler_interval='epoch', scheduler_monitor=None, sequence_column='nt.sequence', test_pct=5.0, use_batch_norm=True, use_weight_norm=False, valid_pct=5.0)"
      ]
     },
     "execution_count": 11,
     "metadata": {},
     "output_type": "execute_result"
    }
   ],
   "source": [
    "known_args"
   ]
  },
  {
   "cell_type": "markdown",
   "metadata": {},
   "source": [
    "## Extract second-order submodule args\n",
    "\n",
    "Get another set of submodule specific arguments based preliminary choices. (i.e., optional arguments for optimizer of choice)"
   ]
  },
  {
   "cell_type": "code",
   "execution_count": 12,
   "metadata": {},
   "outputs": [],
   "source": [
    "parser = Data.add_conditional_args(parser, known_args)\n",
    "parser = Model.add_conditional_args(parser, known_args)\n",
    "parser = Graph.add_conditional_args(parser, known_args)\n",
    "\n",
    "parser = Trainer.add_argparse_args(parser)\n",
    "parser.add_argument('--help', '-h', action='help')\n",
    "args = parser.parse_args(\n",
    "    cmd_str.rstrip().split()\n",
    ")\n",
    "\n",
    "args = boda.common.utils.organize_args(parser, args)\n",
    "\n"
   ]
  },
  {
   "cell_type": "code",
   "execution_count": 13,
   "metadata": {},
   "outputs": [
    {
     "data": {
      "text/plain": [
       "{'positional arguments': Namespace(),\n",
       " 'optional arguments': Namespace(help=None),\n",
       " 'Main args': Namespace(artifact_path='gs://haddath/sgosai/deposit_test', data_module='BODA2_DataModule', graph_module='CNNBasicTraining', model_module='Basset', pretrained_weights=None),\n",
       " 'Data Module args': Namespace(activity_columns=['K562', 'HepG2.neon', 'SKNSH'], batch_size=32, datafile_path='gs://syrgoth/data/BODA.MPRA.txt', num_workers=1, padded_seq_len=600, sequence_column='nt.sequence', test_pct=5.0, valid_pct=5.0),\n",
       " 'Model Module args': Namespace(conv1_channels=300, conv1_kernel_size=19, conv2_channels=200, conv2_kernel_size=11, conv3_channels=200, conv3_kernel_size=7, dropout_p=0.3, linear1_channels=1000, linear2_channels=1000, loss_criterion='MSELoss', n_outputs=3, use_batch_norm=True, use_weight_norm=False),\n",
       " 'Graph Module args': Namespace(optimizer='Adam', scheduler=None, scheduler_interval='epoch', scheduler_monitor=None),\n",
       " 'Optimizer args': Namespace(amsgrad=False, beta1=0.9, beta2=0.999, eps=1e-08, lr=0.001, weight_decay=0.0),\n",
       " 'pl.Trainer': Namespace(accelerator=None, accumulate_grad_batches=1, amp_backend='native', amp_level='O2', auto_lr_find=False, auto_scale_batch_size=False, auto_select_gpus=False, benchmark=False, check_val_every_n_epoch=1, checkpoint_callback=True, default_root_dir='/tmp/output/artifacts', deterministic=False, distributed_backend=None, fast_dev_run=False, flush_logs_every_n_steps=100, gpus=1, gradient_clip_algorithm='norm', gradient_clip_val=0.0, limit_predict_batches=1.0, limit_test_batches=1.0, limit_train_batches=1.0, limit_val_batches=1.0, log_every_n_steps=50, log_gpu_memory=None, logger=True, max_epochs=5, max_steps=None, max_time=None, min_epochs=5, min_steps=None, move_metrics_to_cpu=False, multiple_trainloader_mode='max_size_cycle', num_nodes=1, num_processes=1, num_sanity_val_steps=2, overfit_batches=0.0, plugins=None, precision=32, prepare_data_per_node=True, process_position=0, profiler=None, progress_bar_refresh_rate=None, reload_dataloaders_every_epoch=False, replace_sampler_ddp=True, resume_from_checkpoint=None, stochastic_weight_avg=False, sync_batchnorm=False, terminate_on_nan=False, tpu_cores=None, track_grad_norm=-1, truncated_bptt_steps=None, val_check_interval=1.0, weights_save_path=None, weights_summary='top')}"
      ]
     },
     "execution_count": 13,
     "metadata": {},
     "output_type": "execute_result"
    }
   ],
   "source": [
    "args"
   ]
  },
  {
   "cell_type": "markdown",
   "metadata": {},
   "source": [
    "# Run training\n",
    "use modified `main` runner."
   ]
  },
  {
   "cell_type": "code",
   "execution_count": 14,
   "metadata": {
    "scrolled": false
   },
   "outputs": [
    {
     "name": "stderr",
     "output_type": "stream",
     "text": [
      "GPU available: True, used: True\n",
      "TPU available: False, using: 0 TPU cores\n"
     ]
    },
    {
     "name": "stdout",
     "output_type": "stream",
     "text": [
      "Padding sequences and converting to one-hot tensors...\n",
      "10000/27719 sequences padded and tokenized...\n",
      "20000/27719 sequences padded and tokenized...\n"
     ]
    },
    {
     "name": "stderr",
     "output_type": "stream",
     "text": [
      "LOCAL_RANK: 0 - CUDA_VISIBLE_DEVICES: [0]\n",
      "\n",
      "   | Name      | Type          | Params\n",
      "---------------------------------------------\n",
      "0  | pad1      | ConstantPad1d | 0     \n",
      "1  | conv1     | Conv1dNorm    | 23.7 K\n",
      "2  | pad2      | ConstantPad1d | 0     \n",
      "3  | conv2     | Conv1dNorm    | 660 K \n",
      "4  | pad3      | ConstantPad1d | 0     \n",
      "5  | conv3     | Conv1dNorm    | 280 K \n",
      "6  | pad4      | ConstantPad1d | 0     \n",
      "7  | maxpool_3 | MaxPool1d     | 0     \n",
      "8  | maxpool_4 | MaxPool1d     | 0     \n",
      "9  | linear1   | LinearNorm    | 2.6 M \n",
      "10 | linear2   | LinearNorm    | 1.0 M \n",
      "11 | output    | Linear        | 3.0 K \n",
      "12 | nonlin    | ReLU          | 0     \n",
      "13 | dropout   | Dropout       | 0     \n",
      "14 | criterion | MSELoss       | 0     \n",
      "---------------------------------------------\n",
      "4.6 M     Trainable params\n",
      "0         Non-trainable params\n",
      "4.6 M     Total params\n",
      "18.296    Total estimated model params size (MB)\n"
     ]
    },
    {
     "name": "stdout",
     "output_type": "stream",
     "text": [
      "Found 4573903 parameters\n"
     ]
    },
    {
     "data": {
      "application/vnd.jupyter.widget-view+json": {
       "model_id": "",
       "version_major": 2,
       "version_minor": 0
      },
      "text/plain": [
       "Validation sanity check: 0it [00:00, ?it/s]"
      ]
     },
     "metadata": {},
     "output_type": "display_data"
    },
    {
     "name": "stderr",
     "output_type": "stream",
     "text": [
      "/opt/conda/lib/python3.7/site-packages/pytorch_lightning/utilities/distributed.py:69: UserWarning: The dataloader, val dataloader 0, does not have many workers which may be a bottleneck. Consider increasing the value of the `num_workers` argument` (try 8 which is the number of cpus on this machine) in the `DataLoader` init to improve performance.\n",
      "  warnings.warn(*args, **kwargs)\n"
     ]
    },
    {
     "name": "stdout",
     "output_type": "stream",
     "text": [
      "\n",
      "------------------------------------------------------------------------------------------------------------------------------------\n",
      "| arithmetic_mean_loss: 3.16676 | harmonic_mean_loss: 2.87380 | prediction_mean_pearson: -0.04345 | entropy_mean_pearson: -0.03769 |\n",
      "------------------------------------------------------------------------------------------------------------------------------------\n",
      "\n"
     ]
    },
    {
     "name": "stderr",
     "output_type": "stream",
     "text": [
      "/opt/conda/lib/python3.7/site-packages/pytorch_lightning/utilities/distributed.py:69: UserWarning: The dataloader, train dataloader, does not have many workers which may be a bottleneck. Consider increasing the value of the `num_workers` argument` (try 8 which is the number of cpus on this machine) in the `DataLoader` init to improve performance.\n",
      "  warnings.warn(*args, **kwargs)\n"
     ]
    },
    {
     "data": {
      "application/vnd.jupyter.widget-view+json": {
       "model_id": "d9fc1b8dc9c14533aa3d263d85fd694b",
       "version_major": 2,
       "version_minor": 0
      },
      "text/plain": [
       "Training: 0it [00:00, ?it/s]"
      ]
     },
     "metadata": {},
     "output_type": "display_data"
    },
    {
     "data": {
      "application/vnd.jupyter.widget-view+json": {
       "model_id": "",
       "version_major": 2,
       "version_minor": 0
      },
      "text/plain": [
       "Validating: 0it [00:00, ?it/s]"
      ]
     },
     "metadata": {},
     "output_type": "display_data"
    },
    {
     "name": "stdout",
     "output_type": "stream",
     "text": [
      "\n",
      "----------------------------------------------------------------------------------------------------------------------------------\n",
      "| arithmetic_mean_loss: 1.30195 | harmonic_mean_loss: 1.24278 | prediction_mean_pearson: 0.37595 | entropy_mean_pearson: 0.14144 |\n",
      "----------------------------------------------------------------------------------------------------------------------------------\n",
      "\n"
     ]
    },
    {
     "data": {
      "application/vnd.jupyter.widget-view+json": {
       "model_id": "",
       "version_major": 2,
       "version_minor": 0
      },
      "text/plain": [
       "Validating: 0it [00:00, ?it/s]"
      ]
     },
     "metadata": {},
     "output_type": "display_data"
    },
    {
     "name": "stdout",
     "output_type": "stream",
     "text": [
      "\n",
      "----------------------------------------------------------------------------------------------------------------------------------\n",
      "| arithmetic_mean_loss: 1.21013 | harmonic_mean_loss: 1.14407 | prediction_mean_pearson: 0.34851 | entropy_mean_pearson: 0.16916 |\n",
      "----------------------------------------------------------------------------------------------------------------------------------\n",
      "\n"
     ]
    },
    {
     "data": {
      "application/vnd.jupyter.widget-view+json": {
       "model_id": "",
       "version_major": 2,
       "version_minor": 0
      },
      "text/plain": [
       "Validating: 0it [00:00, ?it/s]"
      ]
     },
     "metadata": {},
     "output_type": "display_data"
    },
    {
     "name": "stdout",
     "output_type": "stream",
     "text": [
      "\n",
      "----------------------------------------------------------------------------------------------------------------------------------\n",
      "| arithmetic_mean_loss: 1.17637 | harmonic_mean_loss: 1.11274 | prediction_mean_pearson: 0.44279 | entropy_mean_pearson: 0.21071 |\n",
      "----------------------------------------------------------------------------------------------------------------------------------\n",
      "\n"
     ]
    },
    {
     "data": {
      "application/vnd.jupyter.widget-view+json": {
       "model_id": "",
       "version_major": 2,
       "version_minor": 0
      },
      "text/plain": [
       "Validating: 0it [00:00, ?it/s]"
      ]
     },
     "metadata": {},
     "output_type": "display_data"
    },
    {
     "name": "stdout",
     "output_type": "stream",
     "text": [
      "\n",
      "----------------------------------------------------------------------------------------------------------------------------------\n",
      "| arithmetic_mean_loss: 1.54664 | harmonic_mean_loss: 1.44587 | prediction_mean_pearson: 0.42229 | entropy_mean_pearson: 0.20462 |\n",
      "----------------------------------------------------------------------------------------------------------------------------------\n",
      "\n"
     ]
    },
    {
     "data": {
      "application/vnd.jupyter.widget-view+json": {
       "model_id": "",
       "version_major": 2,
       "version_minor": 0
      },
      "text/plain": [
       "Validating: 0it [00:00, ?it/s]"
      ]
     },
     "metadata": {},
     "output_type": "display_data"
    },
    {
     "name": "stdout",
     "output_type": "stream",
     "text": [
      "\n",
      "----------------------------------------------------------------------------------------------------------------------------------\n",
      "| arithmetic_mean_loss: 9.84945 | harmonic_mean_loss: 9.02783 | prediction_mean_pearson: 0.37639 | entropy_mean_pearson: 0.17420 |\n",
      "----------------------------------------------------------------------------------------------------------------------------------\n",
      "\n"
     ]
    }
   ],
   "source": [
    "data_module, model_module, graph_module, model, trainer, args = main(args)"
   ]
  },
  {
   "cell_type": "code",
   "execution_count": 15,
   "metadata": {},
   "outputs": [],
   "source": [
    "_save_model(data_module, model_module, graph_module, \n",
    "            model, trainer, args)"
   ]
  }
 ],
 "metadata": {
  "kernelspec": {
   "display_name": "Python 3",
   "language": "python",
   "name": "python3"
  },
  "language_info": {
   "codemirror_mode": {
    "name": "ipython",
    "version": 3
   },
   "file_extension": ".py",
   "mimetype": "text/x-python",
   "name": "python",
   "nbconvert_exporter": "python",
   "pygments_lexer": "ipython3",
   "version": "3.7.10"
  }
 },
 "nbformat": 4,
 "nbformat_minor": 4
}
