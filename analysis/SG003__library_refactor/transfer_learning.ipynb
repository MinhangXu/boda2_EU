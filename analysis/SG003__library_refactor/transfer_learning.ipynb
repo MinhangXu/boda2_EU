{
 "cells": [
  {
   "cell_type": "code",
   "execution_count": 1,
   "metadata": {},
   "outputs": [],
   "source": [
    "import os\n",
    "import sys\n",
    "import time\n",
    "import yaml\n",
    "import shutil\n",
    "import argparse\n",
    "import tarfile\n",
    "import random\n",
    "import tempfile\n",
    "import subprocess\n",
    "\n",
    "import torch\n",
    "import pytorch_lightning as ptl\n",
    "from pytorch_lightning import Trainer\n",
    "\n",
    "import hypertune\n",
    "\n",
    "import boda\n"
   ]
  },
  {
   "cell_type": "code",
   "execution_count": 2,
   "metadata": {},
   "outputs": [
    {
     "name": "stdout",
     "output_type": "stream",
     "text": [
      "1.9.0+cu102\n",
      "1.3.0\n"
     ]
    }
   ],
   "source": [
    "print(torch.__version__)\n",
    "print(ptl.__version__)"
   ]
  },
  {
   "cell_type": "code",
   "execution_count": 3,
   "metadata": {},
   "outputs": [],
   "source": [
    "def main(args):\n",
    "    data_module = getattr(boda.data, args['Main args'].data_module)\n",
    "    model_module= getattr(boda.model, args['Main args'].model_module)\n",
    "    graph_module= getattr(boda.graph, args['Main args'].graph_module)\n",
    "\n",
    "    data = data_module(**vars(data_module.process_args(args)))\n",
    "    model= model_module(**vars(model_module.process_args(args)))\n",
    "\n",
    "    model.__class__ = type(\n",
    "        'BODA_module',\n",
    "        (model_module,graph_module),\n",
    "        vars(graph_module.process_args(args))\n",
    "    )\n",
    "\n",
    "    trainer = Trainer.from_argparse_args(args['pl.Trainer'])\n",
    "    os.makedirs(trainer.default_root_dir, exist_ok=True)\n",
    "    \n",
    "    trainer.fit(model, data)\n",
    "    \n",
    "    #_save_model(data_module, model_module, graph_module, \n",
    "    #            model, trainer, args)\n",
    "    \n",
    "    return data_module, model_module, graph_module, model, trainer, args"
   ]
  },
  {
   "cell_type": "code",
   "execution_count": 4,
   "metadata": {},
   "outputs": [],
   "source": [
    "def _save_model(data_module, model_module, graph_module, \n",
    "                model, trainer, args):\n",
    "    local_dir = args['pl.Trainer'].default_root_dir\n",
    "    save_dict = {\n",
    "        'data_module'  : data_module.__name__,\n",
    "        'data_hparams' : data_module.process_args(args),\n",
    "        'model_module' : model_module.__name__,\n",
    "        'model_hparams': model_module.process_args(args),\n",
    "        'graph_module' : graph_module.__name__,\n",
    "        'graph_hparams': graph_module.process_args(args),\n",
    "        'model_state_dict': model.state_dict(),\n",
    "        'timestamp'    : time.strftime(\"%Y%m%d_%H%M%S\"),\n",
    "        'random_tag'   : random.randint(100000,999999)\n",
    "    }\n",
    "    torch.save(save_dict, os.path.join(local_dir,'torch_checkpoint.pt'))\n",
    "    \n",
    "    filename=f'model_artifacts__{save_dict[\"timestamp\"]}__{save_dict[\"random_tag\"]}.tar.gz'\n",
    "    with tempfile.TemporaryDirectory() as tmpdirname:\n",
    "        tmpdirname = '/tmp/output'\n",
    "        with tarfile.open(os.path.join(tmpdirname,filename), 'w:gz') as tar:\n",
    "            tar.add(local_dir,arcname='artifacts')\n",
    "\n",
    "        if 'gs://' in args['Main args'].artifact_path:\n",
    "            clound_target = os.path.join(args['Main args'].artifact_path,filename)\n",
    "            subprocess.check_call(\n",
    "                ['gsutil', 'cp', os.path.join(tmpdirname,filename), clound_target]\n",
    "            )\n",
    "        else:\n",
    "            os.makedirs(args['Main args'].artifact_path, exist_ok=True)\n",
    "            shutil.copy(os.path.join(tmpdirname,filename), args['Main args'].artifact_path)\n"
   ]
  },
  {
   "cell_type": "code",
   "execution_count": 5,
   "metadata": {},
   "outputs": [],
   "source": [
    "def model_fn(model_dir):\n",
    "    checkpoint = torch.load(os.path.join(model_dir,'torch_checkpoint.pt'))\n",
    "    model_module = getattr(boda, checkpoint['model_module'])\n",
    "    model        = model_module(**checkpoint['model_hparams'])\n",
    "    model.load_state_dict(checkpoint['model_state_dict'])\n",
    "    print(f'Loaded model from {checkpoint[\"timestamp\"]}')\n",
    "    return model\n"
   ]
  },
  {
   "cell_type": "markdown",
   "metadata": {},
   "source": [
    "# Process runtime arguments"
   ]
  },
  {
   "cell_type": "markdown",
   "metadata": {},
   "source": [
    "## Command line args to use for testing"
   ]
  },
  {
   "cell_type": "code",
   "execution_count": 6,
   "metadata": {},
   "outputs": [],
   "source": [
    "basset_weights = 'gs://syrgoth/my-model.epoch_5-step_19885.pkl'\n",
    "old_data = 'gs://syrgoth/data/MPRA_UKBB_BODA.txt'\n",
    "new_data = 'gs://syrgoth/data/MPRA_ALL_v3.txt'\n",
    "local_stash = '/tmp/temp_model.pkl'"
   ]
  },
  {
   "cell_type": "code",
   "execution_count": 7,
   "metadata": {},
   "outputs": [
    {
     "data": {
      "text/plain": [
       "'python /home/ubuntu/boda2/src/main.py --data_module MPRA_DataModule --datafile_path  gs://syrgoth/data/MPRA_ALL_v3.txt --batch_size  1991 --padded_seq_len 600 --num_workers 1 --synth_seed 102202 --model_module BassetBranched --n_linear_layers 1 --linear_channels 1000 --linear_dropout_p 3.691822111811164e-1 --branched_dropout_p 3.163309575564524e-1 --n_branched_layers 3 --branched_channels 100 --n_outputs  3 --loss_criterion L1KLmixed --graph_module CNNTransferLearning --optimizer Adam --amsgrad True --lr 4.621469184528976e-4 --weight_decay 6.465866656156007e-5 --beta1 9.154886174667547e-1 --beta2 9.064388107548405e-1 --loss_criterion L1KLmixed --kl_scale 5.555669898051376 --parent_weights /tmp/temp_model.pkl --frozen_epochs 0 --gpus 1 --min_epochs 10 --max_epochs 10 --precision 16 --default_root_dir /tmp/output/artifacts --artifact_path gs://syrgoth/aip_ui_test '"
      ]
     },
     "execution_count": 7,
     "metadata": {},
     "output_type": "execute_result"
    }
   ],
   "source": [
    "cmd_str = '--data_module MPRA_DataModule ' +\\\n",
    "            '--datafile_path  gs://syrgoth/data/MPRA_ALL_v3.txt ' +\\\n",
    "            '--batch_size  1991 --padded_seq_len 600 --num_workers 1 ' +\\\n",
    "            '--synth_seed 102202 ' +\\\n",
    "          '--model_module BassetBranched ' +\\\n",
    "            '--n_linear_layers 1 --linear_channels 1000 --linear_dropout_p 3.691822111811164e-1 ' +\\\n",
    "            '--branched_dropout_p 3.163309575564524e-1 ' +\\\n",
    "            '--n_branched_layers 3 --branched_channels 100 --n_outputs  3 --loss_criterion L1KLmixed ' +\\\n",
    "          '--graph_module CNNTransferLearning ' +\\\n",
    "            '--optimizer Adam --amsgrad True ' +\\\n",
    "            '--lr 4.621469184528976e-4 --weight_decay 6.465866656156007e-5 ' +\\\n",
    "            '--beta1 9.154886174667547e-1 --beta2 9.064388107548405e-1 ' +\\\n",
    "            '--loss_criterion L1KLmixed --kl_scale 5.555669898051376 ' +\\\n",
    "            '--parent_weights /tmp/temp_model.pkl ' +\\\n",
    "            '--frozen_epochs 0 ' +\\\n",
    "          '--gpus 1 --min_epochs 10 --max_epochs 10 --precision 16 --default_root_dir /tmp/output/artifacts ' +\\\n",
    "          '--artifact_path gs://syrgoth/aip_ui_test '\n",
    "\n",
    "'python /home/ubuntu/boda2/src/main.py ' + cmd_str"
   ]
  },
  {
   "cell_type": "code",
   "execution_count": 8,
   "metadata": {},
   "outputs": [
    {
     "name": "stdout",
     "output_type": "stream",
     "text": [
      "--data_module=MPRA_DataModule\n",
      "--datafile_path=gs://syrgoth/data/MPRA_ALL_v3.txt\n",
      "--batch_size=1991\n",
      "--padded_seq_len=600\n",
      "--num_workers=1\n",
      "--synth_seed=102202\n",
      "--model_module=BassetBranched\n",
      "--n_linear_layers=1\n",
      "--linear_channels=1000\n",
      "--linear_dropout_p=3.691822111811164e-1\n",
      "--branched_dropout_p=3.163309575564524e-1\n",
      "--n_branched_layers=3\n",
      "--branched_channels=100\n",
      "--n_outputs=3\n",
      "--loss_criterion=L1KLmixed\n",
      "--graph_module=CNNTransferLearning\n",
      "--optimizer=Adam\n",
      "--amsgrad=True\n",
      "--lr=4.621469184528976e-4\n",
      "--weight_decay=6.465866656156007e-5\n",
      "--beta1=9.154886174667547e-1\n",
      "--beta2=9.064388107548405e-1\n",
      "--loss_criterion=L1KLmixed\n",
      "--kl_scale=5.555669898051376\n",
      "--parent_weights=/tmp/temp_model.pkl\n",
      "--frozen_epochs=0\n",
      "--gpus=1\n",
      "--min_epochs=10\n",
      "--max_epochs=10\n",
      "--precision=16\n",
      "--default_root_dir=/tmp/output/artifacts\n",
      "--artifact_path=gs://syrgoth/aip_ui_test\n"
     ]
    }
   ],
   "source": [
    "for i, value in enumerate(cmd_str.split()):\n",
    "    if i % 2:\n",
    "        print(\"=\"+value)\n",
    "    else:\n",
    "        print(value, end='')"
   ]
  },
  {
   "cell_type": "markdown",
   "metadata": {},
   "source": [
    "## Set base args for script\n",
    "\n",
    "Basic arguments to identify which submodules are used and where data will be saved"
   ]
  },
  {
   "cell_type": "code",
   "execution_count": 9,
   "metadata": {},
   "outputs": [
    {
     "data": {
      "text/plain": [
       "_StoreAction(option_strings=['--pretrained_weights'], dest='pretrained_weights', nargs=None, const=None, default=None, type=<class 'str'>, choices=None, help='Pretrained weights.', metavar=None)"
      ]
     },
     "execution_count": 9,
     "metadata": {},
     "output_type": "execute_result"
    }
   ],
   "source": [
    "parser = argparse.ArgumentParser(description=\"BODA trainer\", add_help=False)\n",
    "group = parser.add_argument_group('Main args')\n",
    "group.add_argument('--data_module', type=str, required=True, help='BODA data module to process dataset.')\n",
    "group.add_argument('--model_module',type=str, required=True, help='BODA model module to fit dataset.')\n",
    "group.add_argument('--graph_module',type=str, required=True, help='BODA graph module to define computations.')\n",
    "group.add_argument('--artifact_path', type=str, default='/opt/ml/checkpoints/', help='Path where model artifacts are deposited.')\n",
    "group.add_argument('--pretrained_weights', type=str, help='Pretrained weights.')\n",
    "\n"
   ]
  },
  {
   "cell_type": "code",
   "execution_count": 10,
   "metadata": {},
   "outputs": [],
   "source": [
    "known_args, leftover_args = parser.parse_known_args(\n",
    "    cmd_str.rstrip().split()\n",
    ")"
   ]
  },
  {
   "cell_type": "code",
   "execution_count": 11,
   "metadata": {},
   "outputs": [
    {
     "data": {
      "text/plain": [
       "Namespace(artifact_path='gs://syrgoth/aip_ui_test', data_module='MPRA_DataModule', graph_module='CNNTransferLearning', model_module='BassetBranched', pretrained_weights=None)"
      ]
     },
     "execution_count": 11,
     "metadata": {},
     "output_type": "execute_result"
    }
   ],
   "source": [
    "known_args"
   ]
  },
  {
   "cell_type": "markdown",
   "metadata": {},
   "source": [
    "## Extract first-order submodule args\n",
    "\n",
    "Get submodule specific arguments."
   ]
  },
  {
   "cell_type": "code",
   "execution_count": 12,
   "metadata": {},
   "outputs": [],
   "source": [
    "Data  = getattr(boda.data,  known_args.data_module)\n",
    "Model = getattr(boda.model, known_args.model_module)\n",
    "Graph = getattr(boda.graph, known_args.graph_module)\n",
    "\n",
    "parser = Data.add_data_specific_args(parser)\n",
    "parser = Model.add_model_specific_args(parser)\n",
    "parser = Graph.add_graph_specific_args(parser)\n",
    "\n",
    "known_args, leftover_args = parser.parse_known_args(\n",
    "    cmd_str.rstrip().split()\n",
    ")\n"
   ]
  },
  {
   "cell_type": "code",
   "execution_count": 13,
   "metadata": {},
   "outputs": [
    {
     "data": {
      "text/plain": [
       "Namespace(activity_columns=['K562_mean', 'HepG2_mean', 'SKNSH_mean'], artifact_path='gs://syrgoth/aip_ui_test', batch_size=1991, branched_activation='ReLU', branched_channels=100, branched_dropout_p=0.3163309575564524, chr_column='chr', conv1_channels=300, conv1_kernel_size=19, conv2_channels=200, conv2_kernel_size=11, conv3_channels=200, conv3_kernel_size=7, criterion_reduction='mean', data_module='MPRA_DataModule', data_project=['BODA', 'UKBB', 'GTEX'], datafile_path='gs://syrgoth/data/MPRA_ALL_v3.txt', exclude_chr_train=[''], frozen_epochs=0, graph_module='CNNTransferLearning', kl_scale=5.555669898051376, linear_activation='ReLU', linear_channels=1000, linear_dropout_p=0.3691822111811164, loss_criterion='L1KLmixed', model_module='BassetBranched', mse_scale=1.0, n_branched_layers=3, n_linear_layers=1, n_outputs=3, normalize=False, num_workers=1, optimizer='Adam', padded_seq_len=600, parent_weights='/tmp/temp_model.pkl', pretrained_weights=None, project_column='data_project', scheduler=None, scheduler_interval='epoch', scheduler_monitor=None, sequence_column='nt_sequence', std_multiple_cut=6.0, synth_chr='synth', synth_seed=102202, synth_test_pct=10.0, synth_val_pct=10.0, test_chrs=['7', '13'], up_cutoff_move=3.0, use_batch_norm=True, use_weight_norm=False, val_chrs=['17', '19', '21', 'X'])"
      ]
     },
     "execution_count": 13,
     "metadata": {},
     "output_type": "execute_result"
    }
   ],
   "source": [
    "known_args"
   ]
  },
  {
   "cell_type": "markdown",
   "metadata": {},
   "source": [
    "## Extract second-order submodule args\n",
    "\n",
    "Get another set of submodule specific arguments based preliminary choices. (i.e., optional arguments for optimizer of choice)"
   ]
  },
  {
   "cell_type": "code",
   "execution_count": 14,
   "metadata": {},
   "outputs": [],
   "source": [
    "parser = Data.add_conditional_args(parser, known_args)\n",
    "parser = Model.add_conditional_args(parser, known_args)\n",
    "parser = Graph.add_conditional_args(parser, known_args)\n",
    "\n",
    "parser = Trainer.add_argparse_args(parser)\n",
    "parser.add_argument('--help', '-h', action='help')\n",
    "args = parser.parse_args(\n",
    "    cmd_str.rstrip().split()\n",
    ")\n",
    "\n",
    "args = boda.common.utils.organize_args(parser, args)\n",
    "\n"
   ]
  },
  {
   "cell_type": "code",
   "execution_count": 15,
   "metadata": {},
   "outputs": [
    {
     "data": {
      "text/plain": [
       "{'positional arguments': Namespace(),\n",
       " 'optional arguments': Namespace(help=None),\n",
       " 'Main args': Namespace(artifact_path='gs://syrgoth/aip_ui_test', data_module='MPRA_DataModule', graph_module='CNNTransferLearning', model_module='BassetBranched', pretrained_weights=None),\n",
       " 'Data Module args': Namespace(activity_columns=['K562_mean', 'HepG2_mean', 'SKNSH_mean'], batch_size=1991, chr_column='chr', data_project=['BODA', 'UKBB', 'GTEX'], datafile_path='gs://syrgoth/data/MPRA_ALL_v3.txt', exclude_chr_train=[''], normalize=False, num_workers=1, padded_seq_len=600, project_column='data_project', sequence_column='nt_sequence', std_multiple_cut=6.0, synth_chr='synth', synth_seed=102202, synth_test_pct=10.0, synth_val_pct=10.0, test_chrs=['7', '13'], up_cutoff_move=3.0, val_chrs=['17', '19', '21', 'X']),\n",
       " 'Model Module args': Namespace(branched_activation='ReLU', branched_channels=100, branched_dropout_p=0.3163309575564524, conv1_channels=300, conv1_kernel_size=19, conv2_channels=200, conv2_kernel_size=11, conv3_channels=200, conv3_kernel_size=7, criterion_reduction='mean', kl_scale=5.555669898051376, linear_activation='ReLU', linear_channels=1000, linear_dropout_p=0.3691822111811164, loss_criterion='L1KLmixed', mse_scale=1.0, n_branched_layers=3, n_linear_layers=1, n_outputs=3, use_batch_norm=True, use_weight_norm=False),\n",
       " 'Graph Module args': Namespace(frozen_epochs=0, optimizer='Adam', parent_weights='/tmp/temp_model.pkl', scheduler=None, scheduler_interval='epoch', scheduler_monitor=None),\n",
       " 'Optimizer args': Namespace(amsgrad=True, beta1=0.9154886174667547, beta2=0.9064388107548405, eps=1e-08, lr=0.0004621469184528976, weight_decay=6.465866656156007e-05),\n",
       " 'pl.Trainer': Namespace(accelerator=None, accumulate_grad_batches=1, amp_backend='native', amp_level='O2', auto_lr_find=False, auto_scale_batch_size=False, auto_select_gpus=False, benchmark=False, check_val_every_n_epoch=1, checkpoint_callback=True, default_root_dir='/tmp/output/artifacts', deterministic=False, distributed_backend=None, fast_dev_run=False, flush_logs_every_n_steps=100, gpus=1, gradient_clip_algorithm='norm', gradient_clip_val=0.0, limit_predict_batches=1.0, limit_test_batches=1.0, limit_train_batches=1.0, limit_val_batches=1.0, log_every_n_steps=50, log_gpu_memory=None, logger=True, max_epochs=10, max_steps=None, max_time=None, min_epochs=10, min_steps=None, move_metrics_to_cpu=False, multiple_trainloader_mode='max_size_cycle', num_nodes=1, num_processes=1, num_sanity_val_steps=2, overfit_batches=0.0, plugins=None, precision=16, prepare_data_per_node=True, process_position=0, profiler=None, progress_bar_refresh_rate=None, reload_dataloaders_every_epoch=False, replace_sampler_ddp=True, resume_from_checkpoint=None, stochastic_weight_avg=False, sync_batchnorm=False, terminate_on_nan=False, tpu_cores=None, track_grad_norm=-1, truncated_bptt_steps=None, val_check_interval=1.0, weights_save_path=None, weights_summary='top')}"
      ]
     },
     "execution_count": 15,
     "metadata": {},
     "output_type": "execute_result"
    }
   ],
   "source": [
    "args"
   ]
  },
  {
   "cell_type": "markdown",
   "metadata": {},
   "source": [
    "# Run training\n",
    "use modified `main` runner."
   ]
  },
  {
   "cell_type": "code",
   "execution_count": 16,
   "metadata": {
    "scrolled": true
   },
   "outputs": [
    {
     "name": "stderr",
     "output_type": "stream",
     "text": [
      "GPU available: True, used: True\n",
      "TPU available: False, using: 0 TPU cores\n",
      "Using native 16bit precision.\n"
     ]
    },
    {
     "name": "stdout",
     "output_type": "stream",
     "text": [
      "--------------------------------------------------\n",
      "\n",
      "K562 | top cut value: 10.47, bottom cut value: -6.47\n",
      "HepG2 | top cut value: 9.67, bottom cut value: -5.75\n",
      "SKNSH | top cut value: 10.33, bottom cut value: -6.5\n",
      "\n",
      "Number of examples discarded from top: 0\n",
      "Number of examples discarded from bottom: 6\n",
      "\n",
      "Number of examples available: 792635\n",
      "\n",
      "--------------------------------------------------\n",
      "\n",
      "Padding sequences...\n",
      "Tokenizing sequences...\n",
      "Creating train/val/test datasets...\n",
      "--------------------------------------------------\n",
      "\n",
      "Number of examples in train: 625065 (78.86%)\n",
      "Number of examples in val:   101161 (12.76%)\n",
      "Number of examples in test:  66409 (8.38%)\n",
      "\n",
      "Excluded from train: 0 (0.0)%\n",
      "--------------------------------------------------\n"
     ]
    },
    {
     "name": "stderr",
     "output_type": "stream",
     "text": [
      "Key conv1.conv.weight successfully matched\n",
      "Key conv1.conv.bias successfully matched\n",
      "Key conv1.bn_layer.weight successfully matched\n",
      "Key conv1.bn_layer.bias successfully matched\n",
      "Key conv1.bn_layer.running_mean successfully matched\n",
      "Key conv1.bn_layer.running_var successfully matched\n",
      "Key conv1.bn_layer.num_batches_tracked successfully matched\n",
      "Key conv2.conv.weight successfully matched\n",
      "Key conv2.conv.bias successfully matched\n",
      "Key conv2.bn_layer.weight successfully matched\n",
      "Key conv2.bn_layer.bias successfully matched\n",
      "Key conv2.bn_layer.running_mean successfully matched\n",
      "Key conv2.bn_layer.running_var successfully matched\n",
      "Key conv2.bn_layer.num_batches_tracked successfully matched\n",
      "Key conv3.conv.weight successfully matched\n",
      "Key conv3.conv.bias successfully matched\n",
      "Key conv3.bn_layer.weight successfully matched\n",
      "Key conv3.bn_layer.bias successfully matched\n",
      "Key conv3.bn_layer.running_mean successfully matched\n",
      "Key conv3.bn_layer.running_var successfully matched\n",
      "Key conv3.bn_layer.num_batches_tracked successfully matched\n",
      "Key linear1.linear.weight successfully matched\n",
      "Key linear1.linear.bias successfully matched\n",
      "Key linear1.bn_layer.weight successfully matched\n",
      "Key linear1.bn_layer.bias successfully matched\n",
      "Key linear1.bn_layer.running_mean successfully matched\n",
      "Key linear1.bn_layer.running_var successfully matched\n",
      "Key linear1.bn_layer.num_batches_tracked successfully matched\n",
      "Key branched.branched_layer_1.weight successfully matched\n",
      "Key branched.branched_layer_1.bias successfully matched\n",
      "Key branched.branched_layer_2.weight successfully matched\n",
      "Key branched.branched_layer_2.bias successfully matched\n",
      "Key branched.branched_layer_3.weight successfully matched\n",
      "Key branched.branched_layer_3.bias successfully matched\n",
      "Key output.weight successfully matched\n",
      "Key output.bias successfully matched\n",
      "LOCAL_RANK: 0 - CUDA_VISIBLE_DEVICES: [0]\n",
      "\n",
      "   | Name      | Type           | Params\n",
      "----------------------------------------------\n",
      "0  | pad1      | ConstantPad1d  | 0     \n",
      "1  | conv1     | Conv1dNorm     | 23.7 K\n",
      "2  | pad2      | ConstantPad1d  | 0     \n",
      "3  | conv2     | Conv1dNorm     | 660 K \n",
      "4  | pad3      | ConstantPad1d  | 0     \n",
      "5  | conv3     | Conv1dNorm     | 280 K \n",
      "6  | pad4      | ConstantPad1d  | 0     \n",
      "7  | maxpool_3 | MaxPool1d      | 0     \n",
      "8  | maxpool_4 | MaxPool1d      | 0     \n",
      "9  | linear1   | LinearNorm     | 2.6 M \n",
      "10 | branched  | BranchedLinear | 360 K \n",
      "11 | output    | GroupedLinear  | 303   \n",
      "12 | nonlin    | ReLU           | 0     \n",
      "13 | dropout   | Dropout        | 0     \n",
      "14 | criterion | L1KLmixed      | 0     \n",
      "----------------------------------------------\n",
      "3.9 M     Trainable params\n",
      "0         Non-trainable params\n",
      "3.9 M     Total params\n",
      "15.716    Total estimated model params size (MB)\n"
     ]
    },
    {
     "name": "stdout",
     "output_type": "stream",
     "text": [
      "Found 3929103 parameters\n"
     ]
    },
    {
     "data": {
      "application/vnd.jupyter.widget-view+json": {
       "model_id": "",
       "version_major": 2,
       "version_minor": 0
      },
      "text/plain": [
       "Validation sanity check: 0it [00:00, ?it/s]"
      ]
     },
     "metadata": {},
     "output_type": "display_data"
    },
    {
     "name": "stderr",
     "output_type": "stream",
     "text": [
      "/opt/conda/lib/python3.7/site-packages/pytorch_lightning/utilities/distributed.py:69: UserWarning: The dataloader, val dataloader 0, does not have many workers which may be a bottleneck. Consider increasing the value of the `num_workers` argument` (try 8 which is the number of cpus on this machine) in the `DataLoader` init to improve performance.\n",
      "  warnings.warn(*args, **kwargs)\n",
      "/opt/conda/lib/python3.7/site-packages/torch/nn/functional.py:652: UserWarning: Named tensors and all their associated APIs are an experimental feature and subject to change. Please do not use them for anything important until they are released as stable. (Triggered internally at  /pytorch/c10/core/TensorImpl.h:1156.)\n",
      "  return torch.max_pool1d(input, kernel_size, stride, padding, dilation, ceil_mode)\n",
      "/opt/conda/lib/python3.7/site-packages/torch/nn/functional.py:2742: UserWarning: reduction: 'mean' divides the total loss by both the batch size and the support size.'batchmean' divides only by the batch size, and aligns with the KL div math definition.'mean' will be changed to behave the same as 'batchmean' in the next major release.\n",
      "  \"reduction: 'mean' divides the total loss by both the batch size and the support size.\"\n"
     ]
    },
    {
     "name": "stdout",
     "output_type": "stream",
     "text": [
      "\n",
      "--------------------------------------------------------------------------------------------------------------------------------------------------------\n",
      "| current_epoch: 0.00000 | arithmetic_mean_loss: 0.50375 | harmonic_mean_loss: 0.43654 | prediction_mean_spearman: 0.77823 | entropy_spearman: 0.50766 |\n",
      "--------------------------------------------------------------------------------------------------------------------------------------------------------\n",
      "\n"
     ]
    },
    {
     "name": "stderr",
     "output_type": "stream",
     "text": [
      "/opt/conda/lib/python3.7/site-packages/pytorch_lightning/utilities/distributed.py:69: UserWarning: The dataloader, train dataloader, does not have many workers which may be a bottleneck. Consider increasing the value of the `num_workers` argument` (try 8 which is the number of cpus on this machine) in the `DataLoader` init to improve performance.\n",
      "  warnings.warn(*args, **kwargs)\n"
     ]
    },
    {
     "data": {
      "application/vnd.jupyter.widget-view+json": {
       "model_id": "35101b96bd4d407f9c0f86008e1ac95f",
       "version_major": 2,
       "version_minor": 0
      },
      "text/plain": [
       "Training: 0it [00:00, ?it/s]"
      ]
     },
     "metadata": {},
     "output_type": "display_data"
    },
    {
     "name": "stdout",
     "output_type": "stream",
     "text": [
      "starting epoch 0\n"
     ]
    },
    {
     "data": {
      "application/vnd.jupyter.widget-view+json": {
       "model_id": "",
       "version_major": 2,
       "version_minor": 0
      },
      "text/plain": [
       "Validating: 0it [00:00, ?it/s]"
      ]
     },
     "metadata": {},
     "output_type": "display_data"
    },
    {
     "name": "stdout",
     "output_type": "stream",
     "text": [
      "\n",
      "--------------------------------------------------------------------------------------------------------------------------------------------------------\n",
      "| current_epoch: 0.00000 | arithmetic_mean_loss: 0.50983 | harmonic_mean_loss: 0.42794 | prediction_mean_spearman: 0.80991 | entropy_spearman: 0.51533 |\n",
      "--------------------------------------------------------------------------------------------------------------------------------------------------------\n",
      "\n",
      "starting epoch 1\n"
     ]
    },
    {
     "data": {
      "application/vnd.jupyter.widget-view+json": {
       "model_id": "",
       "version_major": 2,
       "version_minor": 0
      },
      "text/plain": [
       "Validating: 0it [00:00, ?it/s]"
      ]
     },
     "metadata": {},
     "output_type": "display_data"
    },
    {
     "name": "stdout",
     "output_type": "stream",
     "text": [
      "\n",
      "--------------------------------------------------------------------------------------------------------------------------------------------------------\n",
      "| current_epoch: 1.00000 | arithmetic_mean_loss: 0.50825 | harmonic_mean_loss: 0.42035 | prediction_mean_spearman: 0.80919 | entropy_spearman: 0.51008 |\n",
      "--------------------------------------------------------------------------------------------------------------------------------------------------------\n",
      "\n",
      "starting epoch 2\n"
     ]
    },
    {
     "data": {
      "application/vnd.jupyter.widget-view+json": {
       "model_id": "",
       "version_major": 2,
       "version_minor": 0
      },
      "text/plain": [
       "Validating: 0it [00:00, ?it/s]"
      ]
     },
     "metadata": {},
     "output_type": "display_data"
    },
    {
     "name": "stdout",
     "output_type": "stream",
     "text": [
      "\n",
      "--------------------------------------------------------------------------------------------------------------------------------------------------------\n",
      "| current_epoch: 2.00000 | arithmetic_mean_loss: 0.51222 | harmonic_mean_loss: 0.42052 | prediction_mean_spearman: 0.80786 | entropy_spearman: 0.51097 |\n",
      "--------------------------------------------------------------------------------------------------------------------------------------------------------\n",
      "\n",
      "starting epoch 3\n"
     ]
    },
    {
     "data": {
      "application/vnd.jupyter.widget-view+json": {
       "model_id": "",
       "version_major": 2,
       "version_minor": 0
      },
      "text/plain": [
       "Validating: 0it [00:00, ?it/s]"
      ]
     },
     "metadata": {},
     "output_type": "display_data"
    },
    {
     "name": "stdout",
     "output_type": "stream",
     "text": [
      "\n",
      "--------------------------------------------------------------------------------------------------------------------------------------------------------\n",
      "| current_epoch: 3.00000 | arithmetic_mean_loss: 0.51210 | harmonic_mean_loss: 0.42193 | prediction_mean_spearman: 0.80642 | entropy_spearman: 0.51042 |\n",
      "--------------------------------------------------------------------------------------------------------------------------------------------------------\n",
      "\n",
      "starting epoch 4\n"
     ]
    },
    {
     "data": {
      "application/vnd.jupyter.widget-view+json": {
       "model_id": "",
       "version_major": 2,
       "version_minor": 0
      },
      "text/plain": [
       "Validating: 0it [00:00, ?it/s]"
      ]
     },
     "metadata": {},
     "output_type": "display_data"
    },
    {
     "name": "stdout",
     "output_type": "stream",
     "text": [
      "\n",
      "--------------------------------------------------------------------------------------------------------------------------------------------------------\n",
      "| current_epoch: 4.00000 | arithmetic_mean_loss: 0.51816 | harmonic_mean_loss: 0.42398 | prediction_mean_spearman: 0.80587 | entropy_spearman: 0.50536 |\n",
      "--------------------------------------------------------------------------------------------------------------------------------------------------------\n",
      "\n",
      "starting epoch 5\n"
     ]
    },
    {
     "data": {
      "application/vnd.jupyter.widget-view+json": {
       "model_id": "",
       "version_major": 2,
       "version_minor": 0
      },
      "text/plain": [
       "Validating: 0it [00:00, ?it/s]"
      ]
     },
     "metadata": {},
     "output_type": "display_data"
    },
    {
     "name": "stdout",
     "output_type": "stream",
     "text": [
      "\n",
      "--------------------------------------------------------------------------------------------------------------------------------------------------------\n",
      "| current_epoch: 5.00000 | arithmetic_mean_loss: 0.51694 | harmonic_mean_loss: 0.42618 | prediction_mean_spearman: 0.80385 | entropy_spearman: 0.50908 |\n",
      "--------------------------------------------------------------------------------------------------------------------------------------------------------\n",
      "\n",
      "starting epoch 6\n"
     ]
    },
    {
     "data": {
      "application/vnd.jupyter.widget-view+json": {
       "model_id": "",
       "version_major": 2,
       "version_minor": 0
      },
      "text/plain": [
       "Validating: 0it [00:00, ?it/s]"
      ]
     },
     "metadata": {},
     "output_type": "display_data"
    },
    {
     "name": "stdout",
     "output_type": "stream",
     "text": [
      "\n",
      "--------------------------------------------------------------------------------------------------------------------------------------------------------\n",
      "| current_epoch: 6.00000 | arithmetic_mean_loss: 0.51939 | harmonic_mean_loss: 0.42559 | prediction_mean_spearman: 0.80307 | entropy_spearman: 0.50531 |\n",
      "--------------------------------------------------------------------------------------------------------------------------------------------------------\n",
      "\n",
      "starting epoch 7\n"
     ]
    },
    {
     "data": {
      "application/vnd.jupyter.widget-view+json": {
       "model_id": "",
       "version_major": 2,
       "version_minor": 0
      },
      "text/plain": [
       "Validating: 0it [00:00, ?it/s]"
      ]
     },
     "metadata": {},
     "output_type": "display_data"
    },
    {
     "name": "stdout",
     "output_type": "stream",
     "text": [
      "\n",
      "--------------------------------------------------------------------------------------------------------------------------------------------------------\n",
      "| current_epoch: 7.00000 | arithmetic_mean_loss: 0.52374 | harmonic_mean_loss: 0.42695 | prediction_mean_spearman: 0.80284 | entropy_spearman: 0.50442 |\n",
      "--------------------------------------------------------------------------------------------------------------------------------------------------------\n",
      "\n",
      "starting epoch 8\n"
     ]
    },
    {
     "data": {
      "application/vnd.jupyter.widget-view+json": {
       "model_id": "",
       "version_major": 2,
       "version_minor": 0
      },
      "text/plain": [
       "Validating: 0it [00:00, ?it/s]"
      ]
     },
     "metadata": {},
     "output_type": "display_data"
    },
    {
     "name": "stdout",
     "output_type": "stream",
     "text": [
      "\n",
      "--------------------------------------------------------------------------------------------------------------------------------------------------------\n",
      "| current_epoch: 8.00000 | arithmetic_mean_loss: 0.52303 | harmonic_mean_loss: 0.43784 | prediction_mean_spearman: 0.79989 | entropy_spearman: 0.50189 |\n",
      "--------------------------------------------------------------------------------------------------------------------------------------------------------\n",
      "\n",
      "starting epoch 9\n"
     ]
    },
    {
     "data": {
      "application/vnd.jupyter.widget-view+json": {
       "model_id": "",
       "version_major": 2,
       "version_minor": 0
      },
      "text/plain": [
       "Validating: 0it [00:00, ?it/s]"
      ]
     },
     "metadata": {},
     "output_type": "display_data"
    },
    {
     "name": "stdout",
     "output_type": "stream",
     "text": [
      "\n",
      "--------------------------------------------------------------------------------------------------------------------------------------------------------\n",
      "| current_epoch: 9.00000 | arithmetic_mean_loss: 0.52473 | harmonic_mean_loss: 0.42819 | prediction_mean_spearman: 0.80028 | entropy_spearman: 0.50071 |\n",
      "--------------------------------------------------------------------------------------------------------------------------------------------------------\n",
      "\n"
     ]
    }
   ],
   "source": [
    "data_module, model_module, graph_module, model, trainer, args = main(args)"
   ]
  }
 ],
 "metadata": {
  "kernelspec": {
   "display_name": "Python 3",
   "language": "python",
   "name": "python3"
  },
  "language_info": {
   "codemirror_mode": {
    "name": "ipython",
    "version": 3
   },
   "file_extension": ".py",
   "mimetype": "text/x-python",
   "name": "python",
   "nbconvert_exporter": "python",
   "pygments_lexer": "ipython3",
   "version": "3.7.10"
  }
 },
 "nbformat": 4,
 "nbformat_minor": 4
}
