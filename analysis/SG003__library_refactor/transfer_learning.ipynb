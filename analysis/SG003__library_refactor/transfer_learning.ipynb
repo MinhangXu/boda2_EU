{
 "cells": [
  {
   "cell_type": "code",
   "execution_count": 1,
   "metadata": {},
   "outputs": [],
   "source": [
    "import os\n",
    "import sys\n",
    "import time\n",
    "import yaml\n",
    "import shutil\n",
    "import argparse\n",
    "import tarfile\n",
    "import random\n",
    "import tempfile\n",
    "import subprocess\n",
    "\n",
    "import torch\n",
    "import pytorch_lightning as ptl\n",
    "from pytorch_lightning import Trainer\n",
    "\n",
    "import hypertune\n",
    "\n",
    "import boda\n"
   ]
  },
  {
   "cell_type": "code",
   "execution_count": 2,
   "metadata": {},
   "outputs": [
    {
     "name": "stdout",
     "output_type": "stream",
     "text": [
      "1.7.1\n",
      "1.3.0\n"
     ]
    }
   ],
   "source": [
    "print(torch.__version__)\n",
    "print(ptl.__version__)"
   ]
  },
  {
   "cell_type": "code",
   "execution_count": 3,
   "metadata": {},
   "outputs": [],
   "source": [
    "def main(args):\n",
    "    data_module = getattr(boda.data, args['Main args'].data_module)\n",
    "    model_module= getattr(boda.model, args['Main args'].model_module)\n",
    "    graph_module= getattr(boda.graph, args['Main args'].graph_module)\n",
    "\n",
    "    data = data_module(**vars(data_module.process_args(args)))\n",
    "    model= model_module(**vars(model_module.process_args(args)))\n",
    "\n",
    "    model.__class__ = type(\n",
    "        'BODA_module',\n",
    "        (model_module,graph_module),\n",
    "        vars(graph_module.process_args(args))\n",
    "    )\n",
    "\n",
    "    trainer = Trainer.from_argparse_args(args['pl.Trainer'])\n",
    "    os.makedirs(trainer.default_root_dir, exist_ok=True)\n",
    "    \n",
    "    trainer.fit(model, data)\n",
    "    \n",
    "    #_save_model(data_module, model_module, graph_module, \n",
    "    #            model, trainer, args)\n",
    "    \n",
    "    return data_module, model_module, graph_module, model, trainer, args"
   ]
  },
  {
   "cell_type": "code",
   "execution_count": 4,
   "metadata": {},
   "outputs": [],
   "source": [
    "def _save_model(data_module, model_module, graph_module, \n",
    "                model, trainer, args):\n",
    "    local_dir = args['pl.Trainer'].default_root_dir\n",
    "    save_dict = {\n",
    "        'data_module'  : data_module.__name__,\n",
    "        'data_hparams' : data_module.process_args(args),\n",
    "        'model_module' : model_module.__name__,\n",
    "        'model_hparams': model_module.process_args(args),\n",
    "        'graph_module' : graph_module.__name__,\n",
    "        'graph_hparams': graph_module.process_args(args),\n",
    "        'model_state_dict': model.state_dict(),\n",
    "        'timestamp'    : time.strftime(\"%Y%m%d_%H%M%S\"),\n",
    "        'random_tag'   : random.randint(100000,999999)\n",
    "    }\n",
    "    torch.save(save_dict, os.path.join(local_dir,'torch_checkpoint.pt'))\n",
    "    \n",
    "    filename=f'model_artifacts__{save_dict[\"timestamp\"]}__{save_dict[\"random_tag\"]}.tar.gz'\n",
    "    with tempfile.TemporaryDirectory() as tmpdirname:\n",
    "        tmpdirname = '/tmp/output'\n",
    "        with tarfile.open(os.path.join(tmpdirname,filename), 'w:gz') as tar:\n",
    "            tar.add(local_dir,arcname='artifacts')\n",
    "\n",
    "        if 'gs://' in args['Main args'].artifact_path:\n",
    "            clound_target = os.path.join(args['Main args'].artifact_path,filename)\n",
    "            subprocess.check_call(\n",
    "                ['gsutil', 'cp', os.path.join(tmpdirname,filename), clound_target]\n",
    "            )\n",
    "        else:\n",
    "            os.makedirs(args['Main args'].artifact_path, exist_ok=True)\n",
    "            shutil.copy(os.path.join(tmpdirname,filename), args['Main args'].artifact_path)\n"
   ]
  },
  {
   "cell_type": "code",
   "execution_count": 5,
   "metadata": {},
   "outputs": [],
   "source": [
    "def model_fn(model_dir):\n",
    "    checkpoint = torch.load(os.path.join(model_dir,'torch_checkpoint.pt'))\n",
    "    model_module = getattr(boda, checkpoint['model_module'])\n",
    "    model        = model_module(**checkpoint['model_hparams'])\n",
    "    model.load_state_dict(checkpoint['model_state_dict'])\n",
    "    print(f'Loaded model from {checkpoint[\"timestamp\"]}')\n",
    "    return model\n"
   ]
  },
  {
   "cell_type": "markdown",
   "metadata": {},
   "source": [
    "# Process runtime arguments"
   ]
  },
  {
   "cell_type": "markdown",
   "metadata": {},
   "source": [
    "## Command line args to use for testing"
   ]
  },
  {
   "cell_type": "code",
   "execution_count": 6,
   "metadata": {},
   "outputs": [
    {
     "data": {
      "text/plain": [
       "'python /home/ubuntu/boda2/src/main.py --data_module BODA2_DataModule --datafile_path  gs://syrgoth/data/BODA.MPRA.txt --valid_pct  5 --test_pct  5 --batch_size  1024 --padded_seq_len 600 --num_workers 1 --model_module BassetVL --n_linear_layers 3 --linear_channels 1000 --n_outputs  3 --loss_criterion MSELoss --graph_module CNNTransferLearning --optimizer AdamW --scheduler CosineAnnealingLR --scheduler_monitor harmonic_mean_loss --T_max 140 --eta_min 1e-6 --parent_weights gs://syrgoth/my-model.epoch_5-step_19885.pkl --frozen_epochs 120 --gpus 1 --min_epochs 140 --max_epochs 140 --precision 16 --default_root_dir /tmp/output/artifacts --artifact_path gs://syrgoth/aip_ui_test '"
      ]
     },
     "execution_count": 6,
     "metadata": {},
     "output_type": "execute_result"
    }
   ],
   "source": [
    "cmd_str = '--data_module BODA2_DataModule ' +\\\n",
    "            '--datafile_path  gs://syrgoth/data/BODA.MPRA.txt ' +\\\n",
    "            '--valid_pct  5 --test_pct  5 ' +\\\n",
    "            '--batch_size  1024 --padded_seq_len 600 --num_workers 1 ' +\\\n",
    "          '--model_module BassetVL ' +\\\n",
    "            '--n_linear_layers 3 --linear_channels 1000 ' +\\\n",
    "            '--n_outputs  3 --loss_criterion MSELoss ' +\\\n",
    "          '--graph_module CNNTransferLearning ' +\\\n",
    "            '--optimizer AdamW ' +\\\n",
    "            '--scheduler CosineAnnealingLR --scheduler_monitor harmonic_mean_loss ' +\\\n",
    "              '--T_max 140 --eta_min 1e-6 ' +\\\n",
    "            '--parent_weights gs://syrgoth/my-model.epoch_5-step_19885.pkl ' +\\\n",
    "            '--frozen_epochs 120 ' +\\\n",
    "          '--gpus 1 --min_epochs 140 --max_epochs 140 --precision 16 --default_root_dir /tmp/output/artifacts ' +\\\n",
    "          '--artifact_path gs://syrgoth/aip_ui_test '\n",
    "\n",
    "'python /home/ubuntu/boda2/src/main.py ' + cmd_str"
   ]
  },
  {
   "cell_type": "code",
   "execution_count": 7,
   "metadata": {},
   "outputs": [
    {
     "name": "stdout",
     "output_type": "stream",
     "text": [
      "--data_module=BODA2_DataModule\n",
      "--datafile_path=gs://syrgoth/data/BODA.MPRA.txt\n",
      "--valid_pct=5\n",
      "--test_pct=5\n",
      "--batch_size=1024\n",
      "--padded_seq_len=600\n",
      "--num_workers=1\n",
      "--model_module=BassetVL\n",
      "--n_linear_layers=3\n",
      "--linear_channels=1000\n",
      "--n_outputs=3\n",
      "--loss_criterion=MSELoss\n",
      "--graph_module=CNNTransferLearning\n",
      "--optimizer=AdamW\n",
      "--scheduler=CosineAnnealingLR\n",
      "--scheduler_monitor=harmonic_mean_loss\n",
      "--T_max=140\n",
      "--eta_min=1e-6\n",
      "--parent_weights=gs://syrgoth/my-model.epoch_5-step_19885.pkl\n",
      "--frozen_epochs=120\n",
      "--gpus=1\n",
      "--min_epochs=140\n",
      "--max_epochs=140\n",
      "--precision=16\n",
      "--default_root_dir=/tmp/output/artifacts\n",
      "--artifact_path=gs://syrgoth/aip_ui_test\n"
     ]
    }
   ],
   "source": [
    "for i, value in enumerate(cmd_str.split()):\n",
    "    if i % 2:\n",
    "        print(\"=\"+value)\n",
    "    else:\n",
    "        print(value, end='')"
   ]
  },
  {
   "cell_type": "markdown",
   "metadata": {},
   "source": [
    "## Set base args for script\n",
    "\n",
    "Basic arguments to identify which submodules are used and where data will be saved"
   ]
  },
  {
   "cell_type": "code",
   "execution_count": 8,
   "metadata": {},
   "outputs": [
    {
     "data": {
      "text/plain": [
       "_StoreAction(option_strings=['--pretrained_weights'], dest='pretrained_weights', nargs=None, const=None, default=None, type=<class 'str'>, choices=None, help='Pretrained weights.', metavar=None)"
      ]
     },
     "execution_count": 8,
     "metadata": {},
     "output_type": "execute_result"
    }
   ],
   "source": [
    "parser = argparse.ArgumentParser(description=\"BODA trainer\", add_help=False)\n",
    "group = parser.add_argument_group('Main args')\n",
    "group.add_argument('--data_module', type=str, required=True, help='BODA data module to process dataset.')\n",
    "group.add_argument('--model_module',type=str, required=True, help='BODA model module to fit dataset.')\n",
    "group.add_argument('--graph_module',type=str, required=True, help='BODA graph module to define computations.')\n",
    "group.add_argument('--artifact_path', type=str, default='/opt/ml/checkpoints/', help='Path where model artifacts are deposited.')\n",
    "group.add_argument('--pretrained_weights', type=str, help='Pretrained weights.')\n",
    "\n"
   ]
  },
  {
   "cell_type": "code",
   "execution_count": 9,
   "metadata": {},
   "outputs": [],
   "source": [
    "known_args, leftover_args = parser.parse_known_args(\n",
    "    cmd_str.rstrip().split()\n",
    ")"
   ]
  },
  {
   "cell_type": "code",
   "execution_count": 10,
   "metadata": {},
   "outputs": [
    {
     "data": {
      "text/plain": [
       "Namespace(artifact_path='gs://syrgoth/aip_ui_test', data_module='BODA2_DataModule', graph_module='CNNTransferLearning', model_module='BassetVL', pretrained_weights=None)"
      ]
     },
     "execution_count": 10,
     "metadata": {},
     "output_type": "execute_result"
    }
   ],
   "source": [
    "known_args"
   ]
  },
  {
   "cell_type": "markdown",
   "metadata": {},
   "source": [
    "## Extract first-order submodule args\n",
    "\n",
    "Get submodule specific arguments."
   ]
  },
  {
   "cell_type": "code",
   "execution_count": 11,
   "metadata": {},
   "outputs": [],
   "source": [
    "Data  = getattr(boda.data,  known_args.data_module)\n",
    "Model = getattr(boda.model, known_args.model_module)\n",
    "Graph = getattr(boda.graph, known_args.graph_module)\n",
    "\n",
    "parser = Data.add_data_specific_args(parser)\n",
    "parser = Model.add_model_specific_args(parser)\n",
    "parser = Graph.add_graph_specific_args(parser)\n",
    "\n",
    "known_args, leftover_args = parser.parse_known_args(\n",
    "    cmd_str.rstrip().split()\n",
    ")\n"
   ]
  },
  {
   "cell_type": "code",
   "execution_count": 12,
   "metadata": {},
   "outputs": [
    {
     "data": {
      "text/plain": [
       "Namespace(activity_columns=['K562', 'HepG2.neon', 'SKNSH'], artifact_path='gs://syrgoth/aip_ui_test', batch_size=1024, conv1_channels=300, conv1_kernel_size=19, conv2_channels=200, conv2_kernel_size=11, conv3_channels=200, conv3_kernel_size=7, data_module='BODA2_DataModule', datafile_path='gs://syrgoth/data/BODA.MPRA.txt', dropout_p=0.3, frozen_epochs=120, graph_module='CNNTransferLearning', linear_channels=1000, loss_criterion='MSELoss', model_module='BassetVL', n_linear_layers=3, n_outputs=3, num_workers=1, optimizer='AdamW', padded_seq_len=600, parent_weights='gs://syrgoth/my-model.epoch_5-step_19885.pkl', pretrained_weights=None, scheduler='CosineAnnealingLR', scheduler_interval='epoch', scheduler_monitor='harmonic_mean_loss', sequence_column='nt.sequence', test_pct=5.0, use_batch_norm=True, use_weight_norm=False, valid_pct=5.0)"
      ]
     },
     "execution_count": 12,
     "metadata": {},
     "output_type": "execute_result"
    }
   ],
   "source": [
    "known_args"
   ]
  },
  {
   "cell_type": "markdown",
   "metadata": {},
   "source": [
    "## Extract second-order submodule args\n",
    "\n",
    "Get another set of submodule specific arguments based preliminary choices. (i.e., optional arguments for optimizer of choice)"
   ]
  },
  {
   "cell_type": "code",
   "execution_count": 13,
   "metadata": {},
   "outputs": [],
   "source": [
    "parser = Data.add_conditional_args(parser, known_args)\n",
    "parser = Model.add_conditional_args(parser, known_args)\n",
    "parser = Graph.add_conditional_args(parser, known_args)\n",
    "\n",
    "parser = Trainer.add_argparse_args(parser)\n",
    "parser.add_argument('--help', '-h', action='help')\n",
    "args = parser.parse_args(\n",
    "    cmd_str.rstrip().split()\n",
    ")\n",
    "\n",
    "args = boda.common.utils.organize_args(parser, args)\n",
    "\n"
   ]
  },
  {
   "cell_type": "code",
   "execution_count": 14,
   "metadata": {},
   "outputs": [
    {
     "data": {
      "text/plain": [
       "{'positional arguments': Namespace(),\n",
       " 'optional arguments': Namespace(help=None),\n",
       " 'Main args': Namespace(artifact_path='gs://syrgoth/aip_ui_test', data_module='BODA2_DataModule', graph_module='CNNTransferLearning', model_module='BassetVL', pretrained_weights=None),\n",
       " 'Data Module args': Namespace(activity_columns=['K562', 'HepG2.neon', 'SKNSH'], batch_size=1024, datafile_path='gs://syrgoth/data/BODA.MPRA.txt', num_workers=1, padded_seq_len=600, sequence_column='nt.sequence', test_pct=5.0, valid_pct=5.0),\n",
       " 'Model Module args': Namespace(conv1_channels=300, conv1_kernel_size=19, conv2_channels=200, conv2_kernel_size=11, conv3_channels=200, conv3_kernel_size=7, dropout_p=0.3, linear_channels=1000, loss_criterion='MSELoss', n_linear_layers=3, n_outputs=3, use_batch_norm=True, use_weight_norm=False),\n",
       " 'Graph Module args': Namespace(frozen_epochs=120, optimizer='AdamW', parent_weights='gs://syrgoth/my-model.epoch_5-step_19885.pkl', scheduler='CosineAnnealingLR', scheduler_interval='epoch', scheduler_monitor='harmonic_mean_loss'),\n",
       " 'Optimizer args': Namespace(amsgrad=False, beta1=0.9, beta2=0.999, eps=1e-08, lr=0.001, weight_decay=0.0),\n",
       " 'LR Scheduler args': Namespace(T_max=140, eta_min=1e-06, last_epoch=-1),\n",
       " 'pl.Trainer': Namespace(accelerator=None, accumulate_grad_batches=1, amp_backend='native', amp_level='O2', auto_lr_find=False, auto_scale_batch_size=False, auto_select_gpus=False, benchmark=False, check_val_every_n_epoch=1, checkpoint_callback=True, default_root_dir='/tmp/output/artifacts', deterministic=False, distributed_backend=None, fast_dev_run=False, flush_logs_every_n_steps=100, gpus=1, gradient_clip_algorithm='norm', gradient_clip_val=0.0, limit_predict_batches=1.0, limit_test_batches=1.0, limit_train_batches=1.0, limit_val_batches=1.0, log_every_n_steps=50, log_gpu_memory=None, logger=True, max_epochs=140, max_steps=None, max_time=None, min_epochs=140, min_steps=None, move_metrics_to_cpu=False, multiple_trainloader_mode='max_size_cycle', num_nodes=1, num_processes=1, num_sanity_val_steps=2, overfit_batches=0.0, plugins=None, precision=16, prepare_data_per_node=True, process_position=0, profiler=None, progress_bar_refresh_rate=None, reload_dataloaders_every_epoch=False, replace_sampler_ddp=True, resume_from_checkpoint=None, stochastic_weight_avg=False, sync_batchnorm=False, terminate_on_nan=False, tpu_cores=None, track_grad_norm=-1, truncated_bptt_steps=None, val_check_interval=1.0, weights_save_path=None, weights_summary='top')}"
      ]
     },
     "execution_count": 14,
     "metadata": {},
     "output_type": "execute_result"
    }
   ],
   "source": [
    "args"
   ]
  },
  {
   "cell_type": "markdown",
   "metadata": {},
   "source": [
    "# Run training\n",
    "use modified `main` runner."
   ]
  },
  {
   "cell_type": "code",
   "execution_count": 15,
   "metadata": {
    "scrolled": true
   },
   "outputs": [
    {
     "name": "stderr",
     "output_type": "stream",
     "text": [
      "GPU available: True, used: True\n",
      "TPU available: False, using: 0 TPU cores\n",
      "Using native 16bit precision.\n"
     ]
    },
    {
     "name": "stdout",
     "output_type": "stream",
     "text": [
      "Padding sequences and converting to one-hot tensors...\n",
      "10000/27719 sequences padded and tokenized...\n",
      "20000/27719 sequences padded and tokenized...\n"
     ]
    },
    {
     "name": "stderr",
     "output_type": "stream",
     "text": [
      "Key conv1.conv.weight successfully matched\n",
      "Key conv1.conv.bias successfully matched\n",
      "Key conv1.bn_layer.weight successfully matched\n",
      "Key conv1.bn_layer.bias successfully matched\n",
      "Key conv1.bn_layer.running_mean successfully matched\n",
      "Key conv1.bn_layer.running_var successfully matched\n",
      "Key conv1.bn_layer.num_batches_tracked successfully matched\n",
      "Key conv2.conv.weight successfully matched\n",
      "Key conv2.conv.bias successfully matched\n",
      "Key conv2.bn_layer.weight successfully matched\n",
      "Key conv2.bn_layer.bias successfully matched\n",
      "Key conv2.bn_layer.running_mean successfully matched\n",
      "Key conv2.bn_layer.running_var successfully matched\n",
      "Key conv2.bn_layer.num_batches_tracked successfully matched\n",
      "Key conv3.conv.weight successfully matched\n",
      "Key conv3.conv.bias successfully matched\n",
      "Key conv3.bn_layer.weight successfully matched\n",
      "Key conv3.bn_layer.bias successfully matched\n",
      "Key conv3.bn_layer.running_mean successfully matched\n",
      "Key conv3.bn_layer.running_var successfully matched\n",
      "Key conv3.bn_layer.num_batches_tracked successfully matched\n",
      "Key linear1.linear.weight successfully matched\n",
      "Key linear1.linear.bias successfully matched\n",
      "Key linear1.bn_layer.weight successfully matched\n",
      "Key linear1.bn_layer.bias successfully matched\n",
      "Key linear1.bn_layer.running_mean successfully matched\n",
      "Key linear1.bn_layer.running_var successfully matched\n",
      "Key linear1.bn_layer.num_batches_tracked successfully matched\n",
      "Key linear2.linear.weight successfully matched\n",
      "Key linear2.linear.bias successfully matched\n",
      "Key linear2.bn_layer.weight successfully matched\n",
      "Key linear2.bn_layer.bias successfully matched\n",
      "Key linear2.bn_layer.running_mean successfully matched\n",
      "Key linear2.bn_layer.running_var successfully matched\n",
      "Key linear2.bn_layer.num_batches_tracked successfully matched\n",
      "Missing key in dict: linear3.linear.weight\n",
      "Missing key in dict: linear3.linear.bias\n",
      "Missing key in dict: linear3.bn_layer.weight\n",
      "Missing key in dict: linear3.bn_layer.bias\n",
      "Missing key in dict: linear3.bn_layer.running_mean\n",
      "Missing key in dict: linear3.bn_layer.running_var\n",
      "Missing key in dict: linear3.bn_layer.num_batches_tracked\n",
      "Size mismatch for key: output.weight, expected size torch.Size([3, 1000]), got torch.Size([280, 1000])\n",
      "Size mismatch for key: output.bias, expected size torch.Size([3]), got torch.Size([280])\n",
      "LOCAL_RANK: 0 - CUDA_VISIBLE_DEVICES: [0]\n",
      "\n",
      "   | Name      | Type          | Params\n",
      "---------------------------------------------\n",
      "0  | pad1      | ConstantPad1d | 0     \n",
      "1  | conv1     | Conv1dNorm    | 23.7 K\n",
      "2  | pad2      | ConstantPad1d | 0     \n",
      "3  | conv2     | Conv1dNorm    | 660 K \n",
      "4  | pad3      | ConstantPad1d | 0     \n",
      "5  | conv3     | Conv1dNorm    | 280 K \n",
      "6  | pad4      | ConstantPad1d | 0     \n",
      "7  | maxpool_3 | MaxPool1d     | 0     \n",
      "8  | maxpool_4 | MaxPool1d     | 0     \n",
      "9  | linear1   | LinearNorm    | 2.6 M \n",
      "10 | linear2   | LinearNorm    | 1.0 M \n",
      "11 | linear3   | LinearNorm    | 1.0 M \n",
      "12 | output    | Linear        | 3.0 K \n",
      "13 | nonlin    | ReLU          | 0     \n",
      "14 | dropout   | Dropout       | 0     \n",
      "15 | criterion | MSELoss       | 0     \n",
      "---------------------------------------------\n",
      "5.6 M     Trainable params\n",
      "0         Non-trainable params\n",
      "5.6 M     Total params\n",
      "22.308    Total estimated model params size (MB)\n"
     ]
    },
    {
     "name": "stdout",
     "output_type": "stream",
     "text": [
      "Found 5576903 parameters\n"
     ]
    },
    {
     "data": {
      "application/vnd.jupyter.widget-view+json": {
       "model_id": "",
       "version_major": 2,
       "version_minor": 0
      },
      "text/plain": [
       "Validation sanity check: 0it [00:00, ?it/s]"
      ]
     },
     "metadata": {},
     "output_type": "display_data"
    },
    {
     "name": "stderr",
     "output_type": "stream",
     "text": [
      "/opt/conda/lib/python3.7/site-packages/pytorch_lightning/utilities/distributed.py:69: UserWarning: The dataloader, val dataloader 0, does not have many workers which may be a bottleneck. Consider increasing the value of the `num_workers` argument` (try 8 which is the number of cpus on this machine) in the `DataLoader` init to improve performance.\n",
      "  warnings.warn(*args, **kwargs)\n"
     ]
    },
    {
     "name": "stdout",
     "output_type": "stream",
     "text": [
      "\n",
      "-----------------------------------------------------------------------------------------------------------------------------------\n",
      "| arithmetic_mean_loss: 1.44011 | harmonic_mean_loss: 1.36244 | prediction_mean_pearson: -0.03723 | entropy_mean_pearson: 0.06705 |\n",
      "-----------------------------------------------------------------------------------------------------------------------------------\n",
      "\n"
     ]
    },
    {
     "name": "stderr",
     "output_type": "stream",
     "text": [
      "/opt/conda/lib/python3.7/site-packages/pytorch_lightning/utilities/distributed.py:69: UserWarning: The dataloader, train dataloader, does not have many workers which may be a bottleneck. Consider increasing the value of the `num_workers` argument` (try 8 which is the number of cpus on this machine) in the `DataLoader` init to improve performance.\n",
      "  warnings.warn(*args, **kwargs)\n"
     ]
    },
    {
     "data": {
      "application/vnd.jupyter.widget-view+json": {
       "model_id": "e3e9a44c5e734aafac7ffc69ff1ffa48",
       "version_major": 2,
       "version_minor": 0
      },
      "text/plain": [
       "Training: 0it [00:00, ?it/s]"
      ]
     },
     "metadata": {},
     "output_type": "display_data"
    },
    {
     "name": "stdout",
     "output_type": "stream",
     "text": [
      "starting epoch 0\n"
     ]
    },
    {
     "data": {
      "application/vnd.jupyter.widget-view+json": {
       "model_id": "",
       "version_major": 2,
       "version_minor": 0
      },
      "text/plain": [
       "Validating: 0it [00:00, ?it/s]"
      ]
     },
     "metadata": {},
     "output_type": "display_data"
    },
    {
     "name": "stdout",
     "output_type": "stream",
     "text": [
      "\n",
      "----------------------------------------------------------------------------------------------------------------------------------\n",
      "| arithmetic_mean_loss: 1.39475 | harmonic_mean_loss: 1.32310 | prediction_mean_pearson: 0.20741 | entropy_mean_pearson: 0.02160 |\n",
      "----------------------------------------------------------------------------------------------------------------------------------\n",
      "\n",
      "starting epoch 1\n"
     ]
    },
    {
     "data": {
      "application/vnd.jupyter.widget-view+json": {
       "model_id": "",
       "version_major": 2,
       "version_minor": 0
      },
      "text/plain": [
       "Validating: 0it [00:00, ?it/s]"
      ]
     },
     "metadata": {},
     "output_type": "display_data"
    },
    {
     "name": "stdout",
     "output_type": "stream",
     "text": [
      "\n",
      "----------------------------------------------------------------------------------------------------------------------------------\n",
      "| arithmetic_mean_loss: 1.26223 | harmonic_mean_loss: 1.19828 | prediction_mean_pearson: 0.22030 | entropy_mean_pearson: 0.05326 |\n",
      "----------------------------------------------------------------------------------------------------------------------------------\n",
      "\n",
      "starting epoch 2\n"
     ]
    },
    {
     "data": {
      "application/vnd.jupyter.widget-view+json": {
       "model_id": "",
       "version_major": 2,
       "version_minor": 0
      },
      "text/plain": [
       "Validating: 0it [00:00, ?it/s]"
      ]
     },
     "metadata": {},
     "output_type": "display_data"
    },
    {
     "name": "stdout",
     "output_type": "stream",
     "text": [
      "\n",
      "----------------------------------------------------------------------------------------------------------------------------------\n",
      "| arithmetic_mean_loss: 1.23280 | harmonic_mean_loss: 1.17337 | prediction_mean_pearson: 0.23112 | entropy_mean_pearson: 0.10018 |\n",
      "----------------------------------------------------------------------------------------------------------------------------------\n",
      "\n",
      "starting epoch 3\n"
     ]
    },
    {
     "data": {
      "application/vnd.jupyter.widget-view+json": {
       "model_id": "",
       "version_major": 2,
       "version_minor": 0
      },
      "text/plain": [
       "Validating: 0it [00:00, ?it/s]"
      ]
     },
     "metadata": {},
     "output_type": "display_data"
    },
    {
     "name": "stdout",
     "output_type": "stream",
     "text": [
      "\n",
      "----------------------------------------------------------------------------------------------------------------------------------\n",
      "| arithmetic_mean_loss: 1.22519 | harmonic_mean_loss: 1.16474 | prediction_mean_pearson: 0.22602 | entropy_mean_pearson: 0.10644 |\n",
      "----------------------------------------------------------------------------------------------------------------------------------\n",
      "\n",
      "starting epoch 4\n"
     ]
    },
    {
     "data": {
      "application/vnd.jupyter.widget-view+json": {
       "model_id": "",
       "version_major": 2,
       "version_minor": 0
      },
      "text/plain": [
       "Validating: 0it [00:00, ?it/s]"
      ]
     },
     "metadata": {},
     "output_type": "display_data"
    },
    {
     "name": "stdout",
     "output_type": "stream",
     "text": [
      "\n",
      "----------------------------------------------------------------------------------------------------------------------------------\n",
      "| arithmetic_mean_loss: 1.20785 | harmonic_mean_loss: 1.14812 | prediction_mean_pearson: 0.23982 | entropy_mean_pearson: 0.10122 |\n",
      "----------------------------------------------------------------------------------------------------------------------------------\n",
      "\n",
      "starting epoch 5\n"
     ]
    },
    {
     "data": {
      "application/vnd.jupyter.widget-view+json": {
       "model_id": "",
       "version_major": 2,
       "version_minor": 0
      },
      "text/plain": [
       "Validating: 0it [00:00, ?it/s]"
      ]
     },
     "metadata": {},
     "output_type": "display_data"
    },
    {
     "name": "stdout",
     "output_type": "stream",
     "text": [
      "\n",
      "----------------------------------------------------------------------------------------------------------------------------------\n",
      "| arithmetic_mean_loss: 1.20297 | harmonic_mean_loss: 1.14542 | prediction_mean_pearson: 0.23893 | entropy_mean_pearson: 0.11650 |\n",
      "----------------------------------------------------------------------------------------------------------------------------------\n",
      "\n",
      "starting epoch 6\n"
     ]
    },
    {
     "data": {
      "application/vnd.jupyter.widget-view+json": {
       "model_id": "",
       "version_major": 2,
       "version_minor": 0
      },
      "text/plain": [
       "Validating: 0it [00:00, ?it/s]"
      ]
     },
     "metadata": {},
     "output_type": "display_data"
    },
    {
     "name": "stdout",
     "output_type": "stream",
     "text": [
      "\n",
      "----------------------------------------------------------------------------------------------------------------------------------\n",
      "| arithmetic_mean_loss: 1.22039 | harmonic_mean_loss: 1.16480 | prediction_mean_pearson: 0.23897 | entropy_mean_pearson: 0.14497 |\n",
      "----------------------------------------------------------------------------------------------------------------------------------\n",
      "\n",
      "starting epoch 7\n"
     ]
    },
    {
     "data": {
      "application/vnd.jupyter.widget-view+json": {
       "model_id": "",
       "version_major": 2,
       "version_minor": 0
      },
      "text/plain": [
       "Validating: 0it [00:00, ?it/s]"
      ]
     },
     "metadata": {},
     "output_type": "display_data"
    },
    {
     "name": "stdout",
     "output_type": "stream",
     "text": [
      "\n",
      "----------------------------------------------------------------------------------------------------------------------------------\n",
      "| arithmetic_mean_loss: 1.18245 | harmonic_mean_loss: 1.12561 | prediction_mean_pearson: 0.26708 | entropy_mean_pearson: 0.16530 |\n",
      "----------------------------------------------------------------------------------------------------------------------------------\n",
      "\n",
      "starting epoch 8\n"
     ]
    },
    {
     "data": {
      "application/vnd.jupyter.widget-view+json": {
       "model_id": "",
       "version_major": 2,
       "version_minor": 0
      },
      "text/plain": [
       "Validating: 0it [00:00, ?it/s]"
      ]
     },
     "metadata": {},
     "output_type": "display_data"
    },
    {
     "name": "stdout",
     "output_type": "stream",
     "text": [
      "\n",
      "----------------------------------------------------------------------------------------------------------------------------------\n",
      "| arithmetic_mean_loss: 1.20168 | harmonic_mean_loss: 1.14385 | prediction_mean_pearson: 0.24616 | entropy_mean_pearson: 0.13893 |\n",
      "----------------------------------------------------------------------------------------------------------------------------------\n",
      "\n",
      "starting epoch 9\n"
     ]
    },
    {
     "data": {
      "application/vnd.jupyter.widget-view+json": {
       "model_id": "",
       "version_major": 2,
       "version_minor": 0
      },
      "text/plain": [
       "Validating: 0it [00:00, ?it/s]"
      ]
     },
     "metadata": {},
     "output_type": "display_data"
    },
    {
     "name": "stdout",
     "output_type": "stream",
     "text": [
      "\n",
      "----------------------------------------------------------------------------------------------------------------------------------\n",
      "| arithmetic_mean_loss: 1.20562 | harmonic_mean_loss: 1.14890 | prediction_mean_pearson: 0.24596 | entropy_mean_pearson: 0.15346 |\n",
      "----------------------------------------------------------------------------------------------------------------------------------\n",
      "\n",
      "starting epoch 10\n"
     ]
    },
    {
     "data": {
      "application/vnd.jupyter.widget-view+json": {
       "model_id": "",
       "version_major": 2,
       "version_minor": 0
      },
      "text/plain": [
       "Validating: 0it [00:00, ?it/s]"
      ]
     },
     "metadata": {},
     "output_type": "display_data"
    },
    {
     "name": "stdout",
     "output_type": "stream",
     "text": [
      "\n",
      "----------------------------------------------------------------------------------------------------------------------------------\n",
      "| arithmetic_mean_loss: 1.19548 | harmonic_mean_loss: 1.13802 | prediction_mean_pearson: 0.25539 | entropy_mean_pearson: 0.15217 |\n",
      "----------------------------------------------------------------------------------------------------------------------------------\n",
      "\n",
      "starting epoch 11\n"
     ]
    },
    {
     "data": {
      "application/vnd.jupyter.widget-view+json": {
       "model_id": "",
       "version_major": 2,
       "version_minor": 0
      },
      "text/plain": [
       "Validating: 0it [00:00, ?it/s]"
      ]
     },
     "metadata": {},
     "output_type": "display_data"
    },
    {
     "name": "stdout",
     "output_type": "stream",
     "text": [
      "\n",
      "----------------------------------------------------------------------------------------------------------------------------------\n",
      "| arithmetic_mean_loss: 1.19454 | harmonic_mean_loss: 1.13648 | prediction_mean_pearson: 0.24689 | entropy_mean_pearson: 0.14256 |\n",
      "----------------------------------------------------------------------------------------------------------------------------------\n",
      "\n",
      "starting epoch 12\n"
     ]
    },
    {
     "data": {
      "application/vnd.jupyter.widget-view+json": {
       "model_id": "",
       "version_major": 2,
       "version_minor": 0
      },
      "text/plain": [
       "Validating: 0it [00:00, ?it/s]"
      ]
     },
     "metadata": {},
     "output_type": "display_data"
    },
    {
     "name": "stdout",
     "output_type": "stream",
     "text": [
      "\n",
      "----------------------------------------------------------------------------------------------------------------------------------\n",
      "| arithmetic_mean_loss: 1.19161 | harmonic_mean_loss: 1.13252 | prediction_mean_pearson: 0.25560 | entropy_mean_pearson: 0.14118 |\n",
      "----------------------------------------------------------------------------------------------------------------------------------\n",
      "\n",
      "starting epoch 13\n"
     ]
    },
    {
     "data": {
      "application/vnd.jupyter.widget-view+json": {
       "model_id": "",
       "version_major": 2,
       "version_minor": 0
      },
      "text/plain": [
       "Validating: 0it [00:00, ?it/s]"
      ]
     },
     "metadata": {},
     "output_type": "display_data"
    },
    {
     "name": "stdout",
     "output_type": "stream",
     "text": [
      "\n",
      "----------------------------------------------------------------------------------------------------------------------------------\n",
      "| arithmetic_mean_loss: 1.19339 | harmonic_mean_loss: 1.13434 | prediction_mean_pearson: 0.25074 | entropy_mean_pearson: 0.14851 |\n",
      "----------------------------------------------------------------------------------------------------------------------------------\n",
      "\n",
      "starting epoch 14\n"
     ]
    },
    {
     "data": {
      "application/vnd.jupyter.widget-view+json": {
       "model_id": "",
       "version_major": 2,
       "version_minor": 0
      },
      "text/plain": [
       "Validating: 0it [00:00, ?it/s]"
      ]
     },
     "metadata": {},
     "output_type": "display_data"
    },
    {
     "name": "stdout",
     "output_type": "stream",
     "text": [
      "\n",
      "----------------------------------------------------------------------------------------------------------------------------------\n",
      "| arithmetic_mean_loss: 1.19926 | harmonic_mean_loss: 1.13963 | prediction_mean_pearson: 0.24172 | entropy_mean_pearson: 0.14496 |\n",
      "----------------------------------------------------------------------------------------------------------------------------------\n",
      "\n",
      "starting epoch 15\n"
     ]
    },
    {
     "data": {
      "application/vnd.jupyter.widget-view+json": {
       "model_id": "",
       "version_major": 2,
       "version_minor": 0
      },
      "text/plain": [
       "Validating: 0it [00:00, ?it/s]"
      ]
     },
     "metadata": {},
     "output_type": "display_data"
    },
    {
     "name": "stdout",
     "output_type": "stream",
     "text": [
      "\n",
      "----------------------------------------------------------------------------------------------------------------------------------\n",
      "| arithmetic_mean_loss: 1.21506 | harmonic_mean_loss: 1.15693 | prediction_mean_pearson: 0.24083 | entropy_mean_pearson: 0.14880 |\n",
      "----------------------------------------------------------------------------------------------------------------------------------\n",
      "\n",
      "starting epoch 16\n"
     ]
    },
    {
     "data": {
      "application/vnd.jupyter.widget-view+json": {
       "model_id": "",
       "version_major": 2,
       "version_minor": 0
      },
      "text/plain": [
       "Validating: 0it [00:00, ?it/s]"
      ]
     },
     "metadata": {},
     "output_type": "display_data"
    },
    {
     "name": "stdout",
     "output_type": "stream",
     "text": [
      "\n",
      "----------------------------------------------------------------------------------------------------------------------------------\n",
      "| arithmetic_mean_loss: 1.21845 | harmonic_mean_loss: 1.15706 | prediction_mean_pearson: 0.23658 | entropy_mean_pearson: 0.13443 |\n",
      "----------------------------------------------------------------------------------------------------------------------------------\n",
      "\n",
      "starting epoch 17\n"
     ]
    },
    {
     "data": {
      "application/vnd.jupyter.widget-view+json": {
       "model_id": "",
       "version_major": 2,
       "version_minor": 0
      },
      "text/plain": [
       "Validating: 0it [00:00, ?it/s]"
      ]
     },
     "metadata": {},
     "output_type": "display_data"
    },
    {
     "name": "stdout",
     "output_type": "stream",
     "text": [
      "\n",
      "----------------------------------------------------------------------------------------------------------------------------------\n",
      "| arithmetic_mean_loss: 1.19651 | harmonic_mean_loss: 1.13936 | prediction_mean_pearson: 0.24851 | entropy_mean_pearson: 0.16449 |\n",
      "----------------------------------------------------------------------------------------------------------------------------------\n",
      "\n",
      "starting epoch 18\n"
     ]
    },
    {
     "data": {
      "application/vnd.jupyter.widget-view+json": {
       "model_id": "",
       "version_major": 2,
       "version_minor": 0
      },
      "text/plain": [
       "Validating: 0it [00:00, ?it/s]"
      ]
     },
     "metadata": {},
     "output_type": "display_data"
    },
    {
     "name": "stdout",
     "output_type": "stream",
     "text": [
      "\n",
      "----------------------------------------------------------------------------------------------------------------------------------\n",
      "| arithmetic_mean_loss: 1.20246 | harmonic_mean_loss: 1.14357 | prediction_mean_pearson: 0.24659 | entropy_mean_pearson: 0.14728 |\n",
      "----------------------------------------------------------------------------------------------------------------------------------\n",
      "\n",
      "starting epoch 19\n"
     ]
    },
    {
     "data": {
      "application/vnd.jupyter.widget-view+json": {
       "model_id": "",
       "version_major": 2,
       "version_minor": 0
      },
      "text/plain": [
       "Validating: 0it [00:00, ?it/s]"
      ]
     },
     "metadata": {},
     "output_type": "display_data"
    },
    {
     "name": "stdout",
     "output_type": "stream",
     "text": [
      "\n",
      "----------------------------------------------------------------------------------------------------------------------------------\n",
      "| arithmetic_mean_loss: 1.19805 | harmonic_mean_loss: 1.13912 | prediction_mean_pearson: 0.24695 | entropy_mean_pearson: 0.15008 |\n",
      "----------------------------------------------------------------------------------------------------------------------------------\n",
      "\n",
      "starting epoch 20\n"
     ]
    },
    {
     "data": {
      "application/vnd.jupyter.widget-view+json": {
       "model_id": "",
       "version_major": 2,
       "version_minor": 0
      },
      "text/plain": [
       "Validating: 0it [00:00, ?it/s]"
      ]
     },
     "metadata": {},
     "output_type": "display_data"
    },
    {
     "name": "stdout",
     "output_type": "stream",
     "text": [
      "\n",
      "----------------------------------------------------------------------------------------------------------------------------------\n",
      "| arithmetic_mean_loss: 1.19544 | harmonic_mean_loss: 1.13523 | prediction_mean_pearson: 0.25736 | entropy_mean_pearson: 0.14226 |\n",
      "----------------------------------------------------------------------------------------------------------------------------------\n",
      "\n",
      "starting epoch 21\n"
     ]
    },
    {
     "data": {
      "application/vnd.jupyter.widget-view+json": {
       "model_id": "",
       "version_major": 2,
       "version_minor": 0
      },
      "text/plain": [
       "Validating: 0it [00:00, ?it/s]"
      ]
     },
     "metadata": {},
     "output_type": "display_data"
    },
    {
     "name": "stdout",
     "output_type": "stream",
     "text": [
      "\n",
      "----------------------------------------------------------------------------------------------------------------------------------\n",
      "| arithmetic_mean_loss: 1.21739 | harmonic_mean_loss: 1.15541 | prediction_mean_pearson: 0.23829 | entropy_mean_pearson: 0.13428 |\n",
      "----------------------------------------------------------------------------------------------------------------------------------\n",
      "\n",
      "starting epoch 22\n"
     ]
    },
    {
     "data": {
      "application/vnd.jupyter.widget-view+json": {
       "model_id": "",
       "version_major": 2,
       "version_minor": 0
      },
      "text/plain": [
       "Validating: 0it [00:00, ?it/s]"
      ]
     },
     "metadata": {},
     "output_type": "display_data"
    },
    {
     "name": "stdout",
     "output_type": "stream",
     "text": [
      "\n",
      "----------------------------------------------------------------------------------------------------------------------------------\n",
      "| arithmetic_mean_loss: 1.19523 | harmonic_mean_loss: 1.13607 | prediction_mean_pearson: 0.23909 | entropy_mean_pearson: 0.15505 |\n",
      "----------------------------------------------------------------------------------------------------------------------------------\n",
      "\n",
      "starting epoch 23\n"
     ]
    },
    {
     "data": {
      "application/vnd.jupyter.widget-view+json": {
       "model_id": "",
       "version_major": 2,
       "version_minor": 0
      },
      "text/plain": [
       "Validating: 0it [00:00, ?it/s]"
      ]
     },
     "metadata": {},
     "output_type": "display_data"
    },
    {
     "name": "stdout",
     "output_type": "stream",
     "text": [
      "\n",
      "----------------------------------------------------------------------------------------------------------------------------------\n",
      "| arithmetic_mean_loss: 1.21962 | harmonic_mean_loss: 1.15991 | prediction_mean_pearson: 0.24756 | entropy_mean_pearson: 0.15552 |\n",
      "----------------------------------------------------------------------------------------------------------------------------------\n",
      "\n",
      "starting epoch 24\n"
     ]
    },
    {
     "data": {
      "application/vnd.jupyter.widget-view+json": {
       "model_id": "",
       "version_major": 2,
       "version_minor": 0
      },
      "text/plain": [
       "Validating: 0it [00:00, ?it/s]"
      ]
     },
     "metadata": {},
     "output_type": "display_data"
    },
    {
     "name": "stdout",
     "output_type": "stream",
     "text": [
      "\n",
      "----------------------------------------------------------------------------------------------------------------------------------\n",
      "| arithmetic_mean_loss: 1.20788 | harmonic_mean_loss: 1.15011 | prediction_mean_pearson: 0.24502 | entropy_mean_pearson: 0.17284 |\n",
      "----------------------------------------------------------------------------------------------------------------------------------\n",
      "\n",
      "starting epoch 25\n"
     ]
    },
    {
     "data": {
      "application/vnd.jupyter.widget-view+json": {
       "model_id": "",
       "version_major": 2,
       "version_minor": 0
      },
      "text/plain": [
       "Validating: 0it [00:00, ?it/s]"
      ]
     },
     "metadata": {},
     "output_type": "display_data"
    },
    {
     "name": "stdout",
     "output_type": "stream",
     "text": [
      "\n",
      "----------------------------------------------------------------------------------------------------------------------------------\n",
      "| arithmetic_mean_loss: 1.19712 | harmonic_mean_loss: 1.13792 | prediction_mean_pearson: 0.24531 | entropy_mean_pearson: 0.16028 |\n",
      "----------------------------------------------------------------------------------------------------------------------------------\n",
      "\n",
      "starting epoch 26\n"
     ]
    },
    {
     "data": {
      "application/vnd.jupyter.widget-view+json": {
       "model_id": "",
       "version_major": 2,
       "version_minor": 0
      },
      "text/plain": [
       "Validating: 0it [00:00, ?it/s]"
      ]
     },
     "metadata": {},
     "output_type": "display_data"
    },
    {
     "name": "stdout",
     "output_type": "stream",
     "text": [
      "\n",
      "----------------------------------------------------------------------------------------------------------------------------------\n",
      "| arithmetic_mean_loss: 1.20813 | harmonic_mean_loss: 1.15041 | prediction_mean_pearson: 0.24147 | entropy_mean_pearson: 0.17262 |\n",
      "----------------------------------------------------------------------------------------------------------------------------------\n",
      "\n",
      "starting epoch 27\n"
     ]
    },
    {
     "data": {
      "application/vnd.jupyter.widget-view+json": {
       "model_id": "",
       "version_major": 2,
       "version_minor": 0
      },
      "text/plain": [
       "Validating: 0it [00:00, ?it/s]"
      ]
     },
     "metadata": {},
     "output_type": "display_data"
    },
    {
     "name": "stdout",
     "output_type": "stream",
     "text": [
      "\n",
      "----------------------------------------------------------------------------------------------------------------------------------\n",
      "| arithmetic_mean_loss: 1.20512 | harmonic_mean_loss: 1.14722 | prediction_mean_pearson: 0.23966 | entropy_mean_pearson: 0.18737 |\n",
      "----------------------------------------------------------------------------------------------------------------------------------\n",
      "\n",
      "starting epoch 28\n"
     ]
    },
    {
     "data": {
      "application/vnd.jupyter.widget-view+json": {
       "model_id": "",
       "version_major": 2,
       "version_minor": 0
      },
      "text/plain": [
       "Validating: 0it [00:00, ?it/s]"
      ]
     },
     "metadata": {},
     "output_type": "display_data"
    },
    {
     "name": "stdout",
     "output_type": "stream",
     "text": [
      "\n",
      "----------------------------------------------------------------------------------------------------------------------------------\n",
      "| arithmetic_mean_loss: 1.20776 | harmonic_mean_loss: 1.14992 | prediction_mean_pearson: 0.23431 | entropy_mean_pearson: 0.16361 |\n",
      "----------------------------------------------------------------------------------------------------------------------------------\n",
      "\n",
      "starting epoch 29\n"
     ]
    },
    {
     "data": {
      "application/vnd.jupyter.widget-view+json": {
       "model_id": "",
       "version_major": 2,
       "version_minor": 0
      },
      "text/plain": [
       "Validating: 0it [00:00, ?it/s]"
      ]
     },
     "metadata": {},
     "output_type": "display_data"
    },
    {
     "name": "stdout",
     "output_type": "stream",
     "text": [
      "\n",
      "----------------------------------------------------------------------------------------------------------------------------------\n",
      "| arithmetic_mean_loss: 1.20589 | harmonic_mean_loss: 1.14604 | prediction_mean_pearson: 0.25307 | entropy_mean_pearson: 0.15541 |\n",
      "----------------------------------------------------------------------------------------------------------------------------------\n",
      "\n",
      "starting epoch 30\n"
     ]
    },
    {
     "data": {
      "application/vnd.jupyter.widget-view+json": {
       "model_id": "",
       "version_major": 2,
       "version_minor": 0
      },
      "text/plain": [
       "Validating: 0it [00:00, ?it/s]"
      ]
     },
     "metadata": {},
     "output_type": "display_data"
    },
    {
     "name": "stdout",
     "output_type": "stream",
     "text": [
      "\n",
      "----------------------------------------------------------------------------------------------------------------------------------\n",
      "| arithmetic_mean_loss: 1.22358 | harmonic_mean_loss: 1.16179 | prediction_mean_pearson: 0.24255 | entropy_mean_pearson: 0.15773 |\n",
      "----------------------------------------------------------------------------------------------------------------------------------\n",
      "\n",
      "starting epoch 31\n"
     ]
    },
    {
     "data": {
      "application/vnd.jupyter.widget-view+json": {
       "model_id": "",
       "version_major": 2,
       "version_minor": 0
      },
      "text/plain": [
       "Validating: 0it [00:00, ?it/s]"
      ]
     },
     "metadata": {},
     "output_type": "display_data"
    },
    {
     "name": "stdout",
     "output_type": "stream",
     "text": [
      "\n",
      "----------------------------------------------------------------------------------------------------------------------------------\n",
      "| arithmetic_mean_loss: 1.20299 | harmonic_mean_loss: 1.14302 | prediction_mean_pearson: 0.24587 | entropy_mean_pearson: 0.16528 |\n",
      "----------------------------------------------------------------------------------------------------------------------------------\n",
      "\n",
      "starting epoch 32\n"
     ]
    },
    {
     "data": {
      "application/vnd.jupyter.widget-view+json": {
       "model_id": "",
       "version_major": 2,
       "version_minor": 0
      },
      "text/plain": [
       "Validating: 0it [00:00, ?it/s]"
      ]
     },
     "metadata": {},
     "output_type": "display_data"
    },
    {
     "name": "stdout",
     "output_type": "stream",
     "text": [
      "\n",
      "----------------------------------------------------------------------------------------------------------------------------------\n",
      "| arithmetic_mean_loss: 1.21485 | harmonic_mean_loss: 1.15329 | prediction_mean_pearson: 0.23781 | entropy_mean_pearson: 0.17442 |\n",
      "----------------------------------------------------------------------------------------------------------------------------------\n",
      "\n",
      "starting epoch 33\n"
     ]
    },
    {
     "data": {
      "application/vnd.jupyter.widget-view+json": {
       "model_id": "",
       "version_major": 2,
       "version_minor": 0
      },
      "text/plain": [
       "Validating: 0it [00:00, ?it/s]"
      ]
     },
     "metadata": {},
     "output_type": "display_data"
    },
    {
     "name": "stdout",
     "output_type": "stream",
     "text": [
      "\n",
      "----------------------------------------------------------------------------------------------------------------------------------\n",
      "| arithmetic_mean_loss: 1.20452 | harmonic_mean_loss: 1.14726 | prediction_mean_pearson: 0.24237 | entropy_mean_pearson: 0.18151 |\n",
      "----------------------------------------------------------------------------------------------------------------------------------\n",
      "\n",
      "starting epoch 34\n"
     ]
    },
    {
     "data": {
      "application/vnd.jupyter.widget-view+json": {
       "model_id": "",
       "version_major": 2,
       "version_minor": 0
      },
      "text/plain": [
       "Validating: 0it [00:00, ?it/s]"
      ]
     },
     "metadata": {},
     "output_type": "display_data"
    },
    {
     "name": "stdout",
     "output_type": "stream",
     "text": [
      "\n",
      "----------------------------------------------------------------------------------------------------------------------------------\n",
      "| arithmetic_mean_loss: 1.21626 | harmonic_mean_loss: 1.15582 | prediction_mean_pearson: 0.24452 | entropy_mean_pearson: 0.16541 |\n",
      "----------------------------------------------------------------------------------------------------------------------------------\n",
      "\n",
      "starting epoch 35\n"
     ]
    },
    {
     "data": {
      "application/vnd.jupyter.widget-view+json": {
       "model_id": "",
       "version_major": 2,
       "version_minor": 0
      },
      "text/plain": [
       "Validating: 0it [00:00, ?it/s]"
      ]
     },
     "metadata": {},
     "output_type": "display_data"
    },
    {
     "name": "stdout",
     "output_type": "stream",
     "text": [
      "\n",
      "----------------------------------------------------------------------------------------------------------------------------------\n",
      "| arithmetic_mean_loss: 1.20497 | harmonic_mean_loss: 1.14344 | prediction_mean_pearson: 0.24319 | entropy_mean_pearson: 0.15205 |\n",
      "----------------------------------------------------------------------------------------------------------------------------------\n",
      "\n",
      "starting epoch 36\n"
     ]
    },
    {
     "data": {
      "application/vnd.jupyter.widget-view+json": {
       "model_id": "",
       "version_major": 2,
       "version_minor": 0
      },
      "text/plain": [
       "Validating: 0it [00:00, ?it/s]"
      ]
     },
     "metadata": {},
     "output_type": "display_data"
    },
    {
     "name": "stdout",
     "output_type": "stream",
     "text": [
      "\n",
      "----------------------------------------------------------------------------------------------------------------------------------\n",
      "| arithmetic_mean_loss: 1.20405 | harmonic_mean_loss: 1.14442 | prediction_mean_pearson: 0.25187 | entropy_mean_pearson: 0.16929 |\n",
      "----------------------------------------------------------------------------------------------------------------------------------\n",
      "\n",
      "starting epoch 37\n"
     ]
    },
    {
     "data": {
      "application/vnd.jupyter.widget-view+json": {
       "model_id": "",
       "version_major": 2,
       "version_minor": 0
      },
      "text/plain": [
       "Validating: 0it [00:00, ?it/s]"
      ]
     },
     "metadata": {},
     "output_type": "display_data"
    },
    {
     "name": "stdout",
     "output_type": "stream",
     "text": [
      "\n",
      "----------------------------------------------------------------------------------------------------------------------------------\n",
      "| arithmetic_mean_loss: 1.21388 | harmonic_mean_loss: 1.15721 | prediction_mean_pearson: 0.24398 | entropy_mean_pearson: 0.17837 |\n",
      "----------------------------------------------------------------------------------------------------------------------------------\n",
      "\n",
      "starting epoch 38\n"
     ]
    },
    {
     "data": {
      "application/vnd.jupyter.widget-view+json": {
       "model_id": "",
       "version_major": 2,
       "version_minor": 0
      },
      "text/plain": [
       "Validating: 0it [00:00, ?it/s]"
      ]
     },
     "metadata": {},
     "output_type": "display_data"
    },
    {
     "name": "stdout",
     "output_type": "stream",
     "text": [
      "\n",
      "----------------------------------------------------------------------------------------------------------------------------------\n",
      "| arithmetic_mean_loss: 1.21665 | harmonic_mean_loss: 1.15675 | prediction_mean_pearson: 0.23802 | entropy_mean_pearson: 0.16679 |\n",
      "----------------------------------------------------------------------------------------------------------------------------------\n",
      "\n",
      "starting epoch 39\n"
     ]
    },
    {
     "data": {
      "application/vnd.jupyter.widget-view+json": {
       "model_id": "",
       "version_major": 2,
       "version_minor": 0
      },
      "text/plain": [
       "Validating: 0it [00:00, ?it/s]"
      ]
     },
     "metadata": {},
     "output_type": "display_data"
    },
    {
     "name": "stdout",
     "output_type": "stream",
     "text": [
      "\n",
      "----------------------------------------------------------------------------------------------------------------------------------\n",
      "| arithmetic_mean_loss: 1.21778 | harmonic_mean_loss: 1.16049 | prediction_mean_pearson: 0.23994 | entropy_mean_pearson: 0.16901 |\n",
      "----------------------------------------------------------------------------------------------------------------------------------\n",
      "\n",
      "starting epoch 40\n"
     ]
    },
    {
     "data": {
      "application/vnd.jupyter.widget-view+json": {
       "model_id": "",
       "version_major": 2,
       "version_minor": 0
      },
      "text/plain": [
       "Validating: 0it [00:00, ?it/s]"
      ]
     },
     "metadata": {},
     "output_type": "display_data"
    },
    {
     "name": "stdout",
     "output_type": "stream",
     "text": [
      "\n",
      "----------------------------------------------------------------------------------------------------------------------------------\n",
      "| arithmetic_mean_loss: 1.19758 | harmonic_mean_loss: 1.13902 | prediction_mean_pearson: 0.25230 | entropy_mean_pearson: 0.16664 |\n",
      "----------------------------------------------------------------------------------------------------------------------------------\n",
      "\n",
      "starting epoch 41\n"
     ]
    },
    {
     "data": {
      "application/vnd.jupyter.widget-view+json": {
       "model_id": "",
       "version_major": 2,
       "version_minor": 0
      },
      "text/plain": [
       "Validating: 0it [00:00, ?it/s]"
      ]
     },
     "metadata": {},
     "output_type": "display_data"
    },
    {
     "name": "stdout",
     "output_type": "stream",
     "text": [
      "\n",
      "----------------------------------------------------------------------------------------------------------------------------------\n",
      "| arithmetic_mean_loss: 1.19818 | harmonic_mean_loss: 1.13935 | prediction_mean_pearson: 0.23956 | entropy_mean_pearson: 0.17358 |\n",
      "----------------------------------------------------------------------------------------------------------------------------------\n",
      "\n",
      "starting epoch 42\n"
     ]
    },
    {
     "data": {
      "application/vnd.jupyter.widget-view+json": {
       "model_id": "",
       "version_major": 2,
       "version_minor": 0
      },
      "text/plain": [
       "Validating: 0it [00:00, ?it/s]"
      ]
     },
     "metadata": {},
     "output_type": "display_data"
    },
    {
     "name": "stdout",
     "output_type": "stream",
     "text": [
      "\n",
      "----------------------------------------------------------------------------------------------------------------------------------\n",
      "| arithmetic_mean_loss: 1.21833 | harmonic_mean_loss: 1.15613 | prediction_mean_pearson: 0.23569 | entropy_mean_pearson: 0.16652 |\n",
      "----------------------------------------------------------------------------------------------------------------------------------\n",
      "\n",
      "starting epoch 43\n"
     ]
    },
    {
     "data": {
      "application/vnd.jupyter.widget-view+json": {
       "model_id": "",
       "version_major": 2,
       "version_minor": 0
      },
      "text/plain": [
       "Validating: 0it [00:00, ?it/s]"
      ]
     },
     "metadata": {},
     "output_type": "display_data"
    },
    {
     "name": "stdout",
     "output_type": "stream",
     "text": [
      "\n",
      "----------------------------------------------------------------------------------------------------------------------------------\n",
      "| arithmetic_mean_loss: 1.20676 | harmonic_mean_loss: 1.14852 | prediction_mean_pearson: 0.23421 | entropy_mean_pearson: 0.17058 |\n",
      "----------------------------------------------------------------------------------------------------------------------------------\n",
      "\n",
      "starting epoch 44\n"
     ]
    },
    {
     "data": {
      "application/vnd.jupyter.widget-view+json": {
       "model_id": "",
       "version_major": 2,
       "version_minor": 0
      },
      "text/plain": [
       "Validating: 0it [00:00, ?it/s]"
      ]
     },
     "metadata": {},
     "output_type": "display_data"
    },
    {
     "name": "stdout",
     "output_type": "stream",
     "text": [
      "\n",
      "----------------------------------------------------------------------------------------------------------------------------------\n",
      "| arithmetic_mean_loss: 1.21838 | harmonic_mean_loss: 1.15601 | prediction_mean_pearson: 0.24119 | entropy_mean_pearson: 0.15908 |\n",
      "----------------------------------------------------------------------------------------------------------------------------------\n",
      "\n",
      "starting epoch 45\n"
     ]
    },
    {
     "data": {
      "application/vnd.jupyter.widget-view+json": {
       "model_id": "",
       "version_major": 2,
       "version_minor": 0
      },
      "text/plain": [
       "Validating: 0it [00:00, ?it/s]"
      ]
     },
     "metadata": {},
     "output_type": "display_data"
    },
    {
     "name": "stdout",
     "output_type": "stream",
     "text": [
      "\n",
      "----------------------------------------------------------------------------------------------------------------------------------\n",
      "| arithmetic_mean_loss: 1.21753 | harmonic_mean_loss: 1.15871 | prediction_mean_pearson: 0.23954 | entropy_mean_pearson: 0.17893 |\n",
      "----------------------------------------------------------------------------------------------------------------------------------\n",
      "\n",
      "starting epoch 46\n"
     ]
    },
    {
     "data": {
      "application/vnd.jupyter.widget-view+json": {
       "model_id": "",
       "version_major": 2,
       "version_minor": 0
      },
      "text/plain": [
       "Validating: 0it [00:00, ?it/s]"
      ]
     },
     "metadata": {},
     "output_type": "display_data"
    },
    {
     "name": "stdout",
     "output_type": "stream",
     "text": [
      "\n",
      "----------------------------------------------------------------------------------------------------------------------------------\n",
      "| arithmetic_mean_loss: 1.21808 | harmonic_mean_loss: 1.16040 | prediction_mean_pearson: 0.24316 | entropy_mean_pearson: 0.17977 |\n",
      "----------------------------------------------------------------------------------------------------------------------------------\n",
      "\n",
      "starting epoch 47\n"
     ]
    },
    {
     "data": {
      "application/vnd.jupyter.widget-view+json": {
       "model_id": "",
       "version_major": 2,
       "version_minor": 0
      },
      "text/plain": [
       "Validating: 0it [00:00, ?it/s]"
      ]
     },
     "metadata": {},
     "output_type": "display_data"
    },
    {
     "name": "stdout",
     "output_type": "stream",
     "text": [
      "\n",
      "----------------------------------------------------------------------------------------------------------------------------------\n",
      "| arithmetic_mean_loss: 1.22121 | harmonic_mean_loss: 1.16158 | prediction_mean_pearson: 0.22927 | entropy_mean_pearson: 0.17375 |\n",
      "----------------------------------------------------------------------------------------------------------------------------------\n",
      "\n",
      "starting epoch 48\n"
     ]
    },
    {
     "data": {
      "application/vnd.jupyter.widget-view+json": {
       "model_id": "",
       "version_major": 2,
       "version_minor": 0
      },
      "text/plain": [
       "Validating: 0it [00:00, ?it/s]"
      ]
     },
     "metadata": {},
     "output_type": "display_data"
    },
    {
     "name": "stdout",
     "output_type": "stream",
     "text": [
      "\n",
      "----------------------------------------------------------------------------------------------------------------------------------\n",
      "| arithmetic_mean_loss: 1.21224 | harmonic_mean_loss: 1.15565 | prediction_mean_pearson: 0.24435 | entropy_mean_pearson: 0.18001 |\n",
      "----------------------------------------------------------------------------------------------------------------------------------\n",
      "\n",
      "starting epoch 49\n"
     ]
    },
    {
     "data": {
      "application/vnd.jupyter.widget-view+json": {
       "model_id": "",
       "version_major": 2,
       "version_minor": 0
      },
      "text/plain": [
       "Validating: 0it [00:00, ?it/s]"
      ]
     },
     "metadata": {},
     "output_type": "display_data"
    },
    {
     "name": "stdout",
     "output_type": "stream",
     "text": [
      "\n",
      "----------------------------------------------------------------------------------------------------------------------------------\n",
      "| arithmetic_mean_loss: 1.21383 | harmonic_mean_loss: 1.15356 | prediction_mean_pearson: 0.23736 | entropy_mean_pearson: 0.18169 |\n",
      "----------------------------------------------------------------------------------------------------------------------------------\n",
      "\n",
      "starting epoch 50\n"
     ]
    },
    {
     "data": {
      "application/vnd.jupyter.widget-view+json": {
       "model_id": "",
       "version_major": 2,
       "version_minor": 0
      },
      "text/plain": [
       "Validating: 0it [00:00, ?it/s]"
      ]
     },
     "metadata": {},
     "output_type": "display_data"
    },
    {
     "name": "stdout",
     "output_type": "stream",
     "text": [
      "\n",
      "----------------------------------------------------------------------------------------------------------------------------------\n",
      "| arithmetic_mean_loss: 1.20032 | harmonic_mean_loss: 1.14134 | prediction_mean_pearson: 0.25095 | entropy_mean_pearson: 0.18119 |\n",
      "----------------------------------------------------------------------------------------------------------------------------------\n",
      "\n",
      "starting epoch 51\n"
     ]
    },
    {
     "data": {
      "application/vnd.jupyter.widget-view+json": {
       "model_id": "",
       "version_major": 2,
       "version_minor": 0
      },
      "text/plain": [
       "Validating: 0it [00:00, ?it/s]"
      ]
     },
     "metadata": {},
     "output_type": "display_data"
    },
    {
     "name": "stdout",
     "output_type": "stream",
     "text": [
      "\n",
      "----------------------------------------------------------------------------------------------------------------------------------\n",
      "| arithmetic_mean_loss: 1.23604 | harmonic_mean_loss: 1.17772 | prediction_mean_pearson: 0.23666 | entropy_mean_pearson: 0.16308 |\n",
      "----------------------------------------------------------------------------------------------------------------------------------\n",
      "\n",
      "starting epoch 52\n"
     ]
    },
    {
     "data": {
      "application/vnd.jupyter.widget-view+json": {
       "model_id": "",
       "version_major": 2,
       "version_minor": 0
      },
      "text/plain": [
       "Validating: 0it [00:00, ?it/s]"
      ]
     },
     "metadata": {},
     "output_type": "display_data"
    },
    {
     "name": "stdout",
     "output_type": "stream",
     "text": [
      "\n",
      "----------------------------------------------------------------------------------------------------------------------------------\n",
      "| arithmetic_mean_loss: 1.20367 | harmonic_mean_loss: 1.14486 | prediction_mean_pearson: 0.25110 | entropy_mean_pearson: 0.17040 |\n",
      "----------------------------------------------------------------------------------------------------------------------------------\n",
      "\n",
      "starting epoch 53\n"
     ]
    },
    {
     "data": {
      "application/vnd.jupyter.widget-view+json": {
       "model_id": "",
       "version_major": 2,
       "version_minor": 0
      },
      "text/plain": [
       "Validating: 0it [00:00, ?it/s]"
      ]
     },
     "metadata": {},
     "output_type": "display_data"
    },
    {
     "name": "stdout",
     "output_type": "stream",
     "text": [
      "\n",
      "----------------------------------------------------------------------------------------------------------------------------------\n",
      "| arithmetic_mean_loss: 1.21157 | harmonic_mean_loss: 1.15257 | prediction_mean_pearson: 0.24599 | entropy_mean_pearson: 0.16843 |\n",
      "----------------------------------------------------------------------------------------------------------------------------------\n",
      "\n",
      "starting epoch 54\n"
     ]
    },
    {
     "data": {
      "application/vnd.jupyter.widget-view+json": {
       "model_id": "",
       "version_major": 2,
       "version_minor": 0
      },
      "text/plain": [
       "Validating: 0it [00:00, ?it/s]"
      ]
     },
     "metadata": {},
     "output_type": "display_data"
    },
    {
     "name": "stdout",
     "output_type": "stream",
     "text": [
      "\n",
      "----------------------------------------------------------------------------------------------------------------------------------\n",
      "| arithmetic_mean_loss: 1.20356 | harmonic_mean_loss: 1.14640 | prediction_mean_pearson: 0.24734 | entropy_mean_pearson: 0.17614 |\n",
      "----------------------------------------------------------------------------------------------------------------------------------\n",
      "\n",
      "starting epoch 55\n"
     ]
    },
    {
     "data": {
      "application/vnd.jupyter.widget-view+json": {
       "model_id": "",
       "version_major": 2,
       "version_minor": 0
      },
      "text/plain": [
       "Validating: 0it [00:00, ?it/s]"
      ]
     },
     "metadata": {},
     "output_type": "display_data"
    },
    {
     "name": "stdout",
     "output_type": "stream",
     "text": [
      "\n",
      "----------------------------------------------------------------------------------------------------------------------------------\n",
      "| arithmetic_mean_loss: 1.20576 | harmonic_mean_loss: 1.14781 | prediction_mean_pearson: 0.25126 | entropy_mean_pearson: 0.19955 |\n",
      "----------------------------------------------------------------------------------------------------------------------------------\n",
      "\n",
      "starting epoch 56\n"
     ]
    },
    {
     "data": {
      "application/vnd.jupyter.widget-view+json": {
       "model_id": "",
       "version_major": 2,
       "version_minor": 0
      },
      "text/plain": [
       "Validating: 0it [00:00, ?it/s]"
      ]
     },
     "metadata": {},
     "output_type": "display_data"
    },
    {
     "name": "stdout",
     "output_type": "stream",
     "text": [
      "\n",
      "----------------------------------------------------------------------------------------------------------------------------------\n",
      "| arithmetic_mean_loss: 1.22296 | harmonic_mean_loss: 1.16326 | prediction_mean_pearson: 0.24047 | entropy_mean_pearson: 0.17966 |\n",
      "----------------------------------------------------------------------------------------------------------------------------------\n",
      "\n",
      "starting epoch 57\n"
     ]
    },
    {
     "data": {
      "application/vnd.jupyter.widget-view+json": {
       "model_id": "",
       "version_major": 2,
       "version_minor": 0
      },
      "text/plain": [
       "Validating: 0it [00:00, ?it/s]"
      ]
     },
     "metadata": {},
     "output_type": "display_data"
    },
    {
     "name": "stdout",
     "output_type": "stream",
     "text": [
      "\n",
      "----------------------------------------------------------------------------------------------------------------------------------\n",
      "| arithmetic_mean_loss: 1.23327 | harmonic_mean_loss: 1.17178 | prediction_mean_pearson: 0.22594 | entropy_mean_pearson: 0.17101 |\n",
      "----------------------------------------------------------------------------------------------------------------------------------\n",
      "\n",
      "starting epoch 58\n"
     ]
    },
    {
     "data": {
      "application/vnd.jupyter.widget-view+json": {
       "model_id": "",
       "version_major": 2,
       "version_minor": 0
      },
      "text/plain": [
       "Validating: 0it [00:00, ?it/s]"
      ]
     },
     "metadata": {},
     "output_type": "display_data"
    },
    {
     "name": "stdout",
     "output_type": "stream",
     "text": [
      "\n",
      "----------------------------------------------------------------------------------------------------------------------------------\n",
      "| arithmetic_mean_loss: 1.22113 | harmonic_mean_loss: 1.16281 | prediction_mean_pearson: 0.22473 | entropy_mean_pearson: 0.17088 |\n",
      "----------------------------------------------------------------------------------------------------------------------------------\n",
      "\n",
      "starting epoch 59\n"
     ]
    },
    {
     "data": {
      "application/vnd.jupyter.widget-view+json": {
       "model_id": "",
       "version_major": 2,
       "version_minor": 0
      },
      "text/plain": [
       "Validating: 0it [00:00, ?it/s]"
      ]
     },
     "metadata": {},
     "output_type": "display_data"
    },
    {
     "name": "stdout",
     "output_type": "stream",
     "text": [
      "\n",
      "----------------------------------------------------------------------------------------------------------------------------------\n",
      "| arithmetic_mean_loss: 1.20754 | harmonic_mean_loss: 1.14872 | prediction_mean_pearson: 0.24828 | entropy_mean_pearson: 0.18952 |\n",
      "----------------------------------------------------------------------------------------------------------------------------------\n",
      "\n",
      "starting epoch 60\n"
     ]
    },
    {
     "data": {
      "application/vnd.jupyter.widget-view+json": {
       "model_id": "",
       "version_major": 2,
       "version_minor": 0
      },
      "text/plain": [
       "Validating: 0it [00:00, ?it/s]"
      ]
     },
     "metadata": {},
     "output_type": "display_data"
    },
    {
     "name": "stdout",
     "output_type": "stream",
     "text": [
      "\n",
      "----------------------------------------------------------------------------------------------------------------------------------\n",
      "| arithmetic_mean_loss: 1.21058 | harmonic_mean_loss: 1.15060 | prediction_mean_pearson: 0.23770 | entropy_mean_pearson: 0.18254 |\n",
      "----------------------------------------------------------------------------------------------------------------------------------\n",
      "\n",
      "starting epoch 61\n"
     ]
    },
    {
     "data": {
      "application/vnd.jupyter.widget-view+json": {
       "model_id": "",
       "version_major": 2,
       "version_minor": 0
      },
      "text/plain": [
       "Validating: 0it [00:00, ?it/s]"
      ]
     },
     "metadata": {},
     "output_type": "display_data"
    },
    {
     "name": "stdout",
     "output_type": "stream",
     "text": [
      "\n",
      "----------------------------------------------------------------------------------------------------------------------------------\n",
      "| arithmetic_mean_loss: 1.21609 | harmonic_mean_loss: 1.15601 | prediction_mean_pearson: 0.23671 | entropy_mean_pearson: 0.17919 |\n",
      "----------------------------------------------------------------------------------------------------------------------------------\n",
      "\n",
      "starting epoch 62\n"
     ]
    },
    {
     "data": {
      "application/vnd.jupyter.widget-view+json": {
       "model_id": "",
       "version_major": 2,
       "version_minor": 0
      },
      "text/plain": [
       "Validating: 0it [00:00, ?it/s]"
      ]
     },
     "metadata": {},
     "output_type": "display_data"
    },
    {
     "name": "stdout",
     "output_type": "stream",
     "text": [
      "\n",
      "----------------------------------------------------------------------------------------------------------------------------------\n",
      "| arithmetic_mean_loss: 1.21323 | harmonic_mean_loss: 1.15293 | prediction_mean_pearson: 0.24205 | entropy_mean_pearson: 0.18541 |\n",
      "----------------------------------------------------------------------------------------------------------------------------------\n",
      "\n",
      "starting epoch 63\n"
     ]
    },
    {
     "data": {
      "application/vnd.jupyter.widget-view+json": {
       "model_id": "",
       "version_major": 2,
       "version_minor": 0
      },
      "text/plain": [
       "Validating: 0it [00:00, ?it/s]"
      ]
     },
     "metadata": {},
     "output_type": "display_data"
    },
    {
     "name": "stdout",
     "output_type": "stream",
     "text": [
      "\n",
      "----------------------------------------------------------------------------------------------------------------------------------\n",
      "| arithmetic_mean_loss: 1.20858 | harmonic_mean_loss: 1.14955 | prediction_mean_pearson: 0.24512 | entropy_mean_pearson: 0.18450 |\n",
      "----------------------------------------------------------------------------------------------------------------------------------\n",
      "\n",
      "starting epoch 64\n"
     ]
    },
    {
     "data": {
      "application/vnd.jupyter.widget-view+json": {
       "model_id": "",
       "version_major": 2,
       "version_minor": 0
      },
      "text/plain": [
       "Validating: 0it [00:00, ?it/s]"
      ]
     },
     "metadata": {},
     "output_type": "display_data"
    },
    {
     "name": "stdout",
     "output_type": "stream",
     "text": [
      "\n",
      "----------------------------------------------------------------------------------------------------------------------------------\n",
      "| arithmetic_mean_loss: 1.22261 | harmonic_mean_loss: 1.16363 | prediction_mean_pearson: 0.23527 | entropy_mean_pearson: 0.18317 |\n",
      "----------------------------------------------------------------------------------------------------------------------------------\n",
      "\n",
      "starting epoch 65\n"
     ]
    },
    {
     "data": {
      "application/vnd.jupyter.widget-view+json": {
       "model_id": "",
       "version_major": 2,
       "version_minor": 0
      },
      "text/plain": [
       "Validating: 0it [00:00, ?it/s]"
      ]
     },
     "metadata": {},
     "output_type": "display_data"
    },
    {
     "name": "stdout",
     "output_type": "stream",
     "text": [
      "\n",
      "----------------------------------------------------------------------------------------------------------------------------------\n",
      "| arithmetic_mean_loss: 1.21105 | harmonic_mean_loss: 1.15352 | prediction_mean_pearson: 0.24117 | entropy_mean_pearson: 0.18702 |\n",
      "----------------------------------------------------------------------------------------------------------------------------------\n",
      "\n",
      "starting epoch 66\n"
     ]
    },
    {
     "data": {
      "application/vnd.jupyter.widget-view+json": {
       "model_id": "",
       "version_major": 2,
       "version_minor": 0
      },
      "text/plain": [
       "Validating: 0it [00:00, ?it/s]"
      ]
     },
     "metadata": {},
     "output_type": "display_data"
    },
    {
     "name": "stdout",
     "output_type": "stream",
     "text": [
      "\n",
      "----------------------------------------------------------------------------------------------------------------------------------\n",
      "| arithmetic_mean_loss: 1.21412 | harmonic_mean_loss: 1.15550 | prediction_mean_pearson: 0.24645 | entropy_mean_pearson: 0.18047 |\n",
      "----------------------------------------------------------------------------------------------------------------------------------\n",
      "\n",
      "starting epoch 67\n"
     ]
    },
    {
     "data": {
      "application/vnd.jupyter.widget-view+json": {
       "model_id": "",
       "version_major": 2,
       "version_minor": 0
      },
      "text/plain": [
       "Validating: 0it [00:00, ?it/s]"
      ]
     },
     "metadata": {},
     "output_type": "display_data"
    },
    {
     "name": "stdout",
     "output_type": "stream",
     "text": [
      "\n",
      "----------------------------------------------------------------------------------------------------------------------------------\n",
      "| arithmetic_mean_loss: 1.20587 | harmonic_mean_loss: 1.14742 | prediction_mean_pearson: 0.24153 | entropy_mean_pearson: 0.18470 |\n",
      "----------------------------------------------------------------------------------------------------------------------------------\n",
      "\n",
      "starting epoch 68\n"
     ]
    },
    {
     "data": {
      "application/vnd.jupyter.widget-view+json": {
       "model_id": "",
       "version_major": 2,
       "version_minor": 0
      },
      "text/plain": [
       "Validating: 0it [00:00, ?it/s]"
      ]
     },
     "metadata": {},
     "output_type": "display_data"
    },
    {
     "name": "stdout",
     "output_type": "stream",
     "text": [
      "\n",
      "----------------------------------------------------------------------------------------------------------------------------------\n",
      "| arithmetic_mean_loss: 1.22851 | harmonic_mean_loss: 1.16872 | prediction_mean_pearson: 0.23783 | entropy_mean_pearson: 0.18049 |\n",
      "----------------------------------------------------------------------------------------------------------------------------------\n",
      "\n",
      "starting epoch 69\n"
     ]
    },
    {
     "data": {
      "application/vnd.jupyter.widget-view+json": {
       "model_id": "",
       "version_major": 2,
       "version_minor": 0
      },
      "text/plain": [
       "Validating: 0it [00:00, ?it/s]"
      ]
     },
     "metadata": {},
     "output_type": "display_data"
    },
    {
     "name": "stdout",
     "output_type": "stream",
     "text": [
      "\n",
      "----------------------------------------------------------------------------------------------------------------------------------\n",
      "| arithmetic_mean_loss: 1.20813 | harmonic_mean_loss: 1.14913 | prediction_mean_pearson: 0.24608 | entropy_mean_pearson: 0.18353 |\n",
      "----------------------------------------------------------------------------------------------------------------------------------\n",
      "\n",
      "starting epoch 70\n"
     ]
    },
    {
     "data": {
      "application/vnd.jupyter.widget-view+json": {
       "model_id": "",
       "version_major": 2,
       "version_minor": 0
      },
      "text/plain": [
       "Validating: 0it [00:00, ?it/s]"
      ]
     },
     "metadata": {},
     "output_type": "display_data"
    },
    {
     "name": "stdout",
     "output_type": "stream",
     "text": [
      "\n",
      "----------------------------------------------------------------------------------------------------------------------------------\n",
      "| arithmetic_mean_loss: 1.20416 | harmonic_mean_loss: 1.14595 | prediction_mean_pearson: 0.25243 | entropy_mean_pearson: 0.18983 |\n",
      "----------------------------------------------------------------------------------------------------------------------------------\n",
      "\n",
      "starting epoch 71\n"
     ]
    },
    {
     "data": {
      "application/vnd.jupyter.widget-view+json": {
       "model_id": "",
       "version_major": 2,
       "version_minor": 0
      },
      "text/plain": [
       "Validating: 0it [00:00, ?it/s]"
      ]
     },
     "metadata": {},
     "output_type": "display_data"
    },
    {
     "name": "stdout",
     "output_type": "stream",
     "text": [
      "\n",
      "----------------------------------------------------------------------------------------------------------------------------------\n",
      "| arithmetic_mean_loss: 1.20473 | harmonic_mean_loss: 1.14508 | prediction_mean_pearson: 0.25100 | entropy_mean_pearson: 0.17797 |\n",
      "----------------------------------------------------------------------------------------------------------------------------------\n",
      "\n",
      "starting epoch 72\n"
     ]
    },
    {
     "data": {
      "application/vnd.jupyter.widget-view+json": {
       "model_id": "",
       "version_major": 2,
       "version_minor": 0
      },
      "text/plain": [
       "Validating: 0it [00:00, ?it/s]"
      ]
     },
     "metadata": {},
     "output_type": "display_data"
    },
    {
     "name": "stdout",
     "output_type": "stream",
     "text": [
      "\n",
      "----------------------------------------------------------------------------------------------------------------------------------\n",
      "| arithmetic_mean_loss: 1.23548 | harmonic_mean_loss: 1.17833 | prediction_mean_pearson: 0.24478 | entropy_mean_pearson: 0.19847 |\n",
      "----------------------------------------------------------------------------------------------------------------------------------\n",
      "\n",
      "starting epoch 73\n"
     ]
    },
    {
     "data": {
      "application/vnd.jupyter.widget-view+json": {
       "model_id": "",
       "version_major": 2,
       "version_minor": 0
      },
      "text/plain": [
       "Validating: 0it [00:00, ?it/s]"
      ]
     },
     "metadata": {},
     "output_type": "display_data"
    },
    {
     "name": "stdout",
     "output_type": "stream",
     "text": [
      "\n",
      "----------------------------------------------------------------------------------------------------------------------------------\n",
      "| arithmetic_mean_loss: 1.20909 | harmonic_mean_loss: 1.15126 | prediction_mean_pearson: 0.24237 | entropy_mean_pearson: 0.18259 |\n",
      "----------------------------------------------------------------------------------------------------------------------------------\n",
      "\n",
      "starting epoch 74\n"
     ]
    },
    {
     "data": {
      "application/vnd.jupyter.widget-view+json": {
       "model_id": "",
       "version_major": 2,
       "version_minor": 0
      },
      "text/plain": [
       "Validating: 0it [00:00, ?it/s]"
      ]
     },
     "metadata": {},
     "output_type": "display_data"
    },
    {
     "name": "stdout",
     "output_type": "stream",
     "text": [
      "\n",
      "----------------------------------------------------------------------------------------------------------------------------------\n",
      "| arithmetic_mean_loss: 1.21545 | harmonic_mean_loss: 1.15708 | prediction_mean_pearson: 0.24110 | entropy_mean_pearson: 0.19678 |\n",
      "----------------------------------------------------------------------------------------------------------------------------------\n",
      "\n",
      "starting epoch 75\n"
     ]
    },
    {
     "data": {
      "application/vnd.jupyter.widget-view+json": {
       "model_id": "",
       "version_major": 2,
       "version_minor": 0
      },
      "text/plain": [
       "Validating: 0it [00:00, ?it/s]"
      ]
     },
     "metadata": {},
     "output_type": "display_data"
    },
    {
     "name": "stdout",
     "output_type": "stream",
     "text": [
      "\n",
      "----------------------------------------------------------------------------------------------------------------------------------\n",
      "| arithmetic_mean_loss: 1.22246 | harmonic_mean_loss: 1.16173 | prediction_mean_pearson: 0.23719 | entropy_mean_pearson: 0.18200 |\n",
      "----------------------------------------------------------------------------------------------------------------------------------\n",
      "\n",
      "starting epoch 76\n"
     ]
    },
    {
     "data": {
      "application/vnd.jupyter.widget-view+json": {
       "model_id": "",
       "version_major": 2,
       "version_minor": 0
      },
      "text/plain": [
       "Validating: 0it [00:00, ?it/s]"
      ]
     },
     "metadata": {},
     "output_type": "display_data"
    },
    {
     "name": "stdout",
     "output_type": "stream",
     "text": [
      "\n",
      "----------------------------------------------------------------------------------------------------------------------------------\n",
      "| arithmetic_mean_loss: 1.20746 | harmonic_mean_loss: 1.14523 | prediction_mean_pearson: 0.24935 | entropy_mean_pearson: 0.19048 |\n",
      "----------------------------------------------------------------------------------------------------------------------------------\n",
      "\n",
      "starting epoch 77\n"
     ]
    },
    {
     "data": {
      "application/vnd.jupyter.widget-view+json": {
       "model_id": "",
       "version_major": 2,
       "version_minor": 0
      },
      "text/plain": [
       "Validating: 0it [00:00, ?it/s]"
      ]
     },
     "metadata": {},
     "output_type": "display_data"
    },
    {
     "name": "stdout",
     "output_type": "stream",
     "text": [
      "\n",
      "----------------------------------------------------------------------------------------------------------------------------------\n",
      "| arithmetic_mean_loss: 1.22216 | harmonic_mean_loss: 1.16236 | prediction_mean_pearson: 0.23363 | entropy_mean_pearson: 0.20020 |\n",
      "----------------------------------------------------------------------------------------------------------------------------------\n",
      "\n",
      "starting epoch 78\n"
     ]
    },
    {
     "data": {
      "application/vnd.jupyter.widget-view+json": {
       "model_id": "",
       "version_major": 2,
       "version_minor": 0
      },
      "text/plain": [
       "Validating: 0it [00:00, ?it/s]"
      ]
     },
     "metadata": {},
     "output_type": "display_data"
    },
    {
     "name": "stdout",
     "output_type": "stream",
     "text": [
      "\n",
      "----------------------------------------------------------------------------------------------------------------------------------\n",
      "| arithmetic_mean_loss: 1.23458 | harmonic_mean_loss: 1.17252 | prediction_mean_pearson: 0.23389 | entropy_mean_pearson: 0.18719 |\n",
      "----------------------------------------------------------------------------------------------------------------------------------\n",
      "\n",
      "starting epoch 79\n"
     ]
    },
    {
     "data": {
      "application/vnd.jupyter.widget-view+json": {
       "model_id": "",
       "version_major": 2,
       "version_minor": 0
      },
      "text/plain": [
       "Validating: 0it [00:00, ?it/s]"
      ]
     },
     "metadata": {},
     "output_type": "display_data"
    },
    {
     "name": "stdout",
     "output_type": "stream",
     "text": [
      "\n",
      "----------------------------------------------------------------------------------------------------------------------------------\n",
      "| arithmetic_mean_loss: 1.26295 | harmonic_mean_loss: 1.20349 | prediction_mean_pearson: 0.22769 | entropy_mean_pearson: 0.19486 |\n",
      "----------------------------------------------------------------------------------------------------------------------------------\n",
      "\n",
      "starting epoch 80\n"
     ]
    },
    {
     "data": {
      "application/vnd.jupyter.widget-view+json": {
       "model_id": "",
       "version_major": 2,
       "version_minor": 0
      },
      "text/plain": [
       "Validating: 0it [00:00, ?it/s]"
      ]
     },
     "metadata": {},
     "output_type": "display_data"
    },
    {
     "name": "stdout",
     "output_type": "stream",
     "text": [
      "\n",
      "----------------------------------------------------------------------------------------------------------------------------------\n",
      "| arithmetic_mean_loss: 1.20725 | harmonic_mean_loss: 1.14808 | prediction_mean_pearson: 0.24790 | entropy_mean_pearson: 0.18359 |\n",
      "----------------------------------------------------------------------------------------------------------------------------------\n",
      "\n",
      "starting epoch 81\n"
     ]
    },
    {
     "data": {
      "application/vnd.jupyter.widget-view+json": {
       "model_id": "",
       "version_major": 2,
       "version_minor": 0
      },
      "text/plain": [
       "Validating: 0it [00:00, ?it/s]"
      ]
     },
     "metadata": {},
     "output_type": "display_data"
    },
    {
     "name": "stdout",
     "output_type": "stream",
     "text": [
      "\n",
      "----------------------------------------------------------------------------------------------------------------------------------\n",
      "| arithmetic_mean_loss: 1.23057 | harmonic_mean_loss: 1.17016 | prediction_mean_pearson: 0.23226 | entropy_mean_pearson: 0.18196 |\n",
      "----------------------------------------------------------------------------------------------------------------------------------\n",
      "\n",
      "starting epoch 82\n"
     ]
    },
    {
     "data": {
      "application/vnd.jupyter.widget-view+json": {
       "model_id": "",
       "version_major": 2,
       "version_minor": 0
      },
      "text/plain": [
       "Validating: 0it [00:00, ?it/s]"
      ]
     },
     "metadata": {},
     "output_type": "display_data"
    },
    {
     "name": "stdout",
     "output_type": "stream",
     "text": [
      "\n",
      "----------------------------------------------------------------------------------------------------------------------------------\n",
      "| arithmetic_mean_loss: 1.21244 | harmonic_mean_loss: 1.15287 | prediction_mean_pearson: 0.24171 | entropy_mean_pearson: 0.19154 |\n",
      "----------------------------------------------------------------------------------------------------------------------------------\n",
      "\n",
      "starting epoch 83\n"
     ]
    },
    {
     "data": {
      "application/vnd.jupyter.widget-view+json": {
       "model_id": "",
       "version_major": 2,
       "version_minor": 0
      },
      "text/plain": [
       "Validating: 0it [00:00, ?it/s]"
      ]
     },
     "metadata": {},
     "output_type": "display_data"
    },
    {
     "name": "stdout",
     "output_type": "stream",
     "text": [
      "\n",
      "----------------------------------------------------------------------------------------------------------------------------------\n",
      "| arithmetic_mean_loss: 1.20517 | harmonic_mean_loss: 1.14609 | prediction_mean_pearson: 0.24702 | entropy_mean_pearson: 0.19208 |\n",
      "----------------------------------------------------------------------------------------------------------------------------------\n",
      "\n",
      "starting epoch 84\n"
     ]
    },
    {
     "data": {
      "application/vnd.jupyter.widget-view+json": {
       "model_id": "",
       "version_major": 2,
       "version_minor": 0
      },
      "text/plain": [
       "Validating: 0it [00:00, ?it/s]"
      ]
     },
     "metadata": {},
     "output_type": "display_data"
    },
    {
     "name": "stdout",
     "output_type": "stream",
     "text": [
      "\n",
      "----------------------------------------------------------------------------------------------------------------------------------\n",
      "| arithmetic_mean_loss: 1.21397 | harmonic_mean_loss: 1.15348 | prediction_mean_pearson: 0.23381 | entropy_mean_pearson: 0.18382 |\n",
      "----------------------------------------------------------------------------------------------------------------------------------\n",
      "\n",
      "starting epoch 85\n"
     ]
    },
    {
     "data": {
      "application/vnd.jupyter.widget-view+json": {
       "model_id": "",
       "version_major": 2,
       "version_minor": 0
      },
      "text/plain": [
       "Validating: 0it [00:00, ?it/s]"
      ]
     },
     "metadata": {},
     "output_type": "display_data"
    },
    {
     "name": "stdout",
     "output_type": "stream",
     "text": [
      "\n",
      "----------------------------------------------------------------------------------------------------------------------------------\n",
      "| arithmetic_mean_loss: 1.22205 | harmonic_mean_loss: 1.16352 | prediction_mean_pearson: 0.23280 | entropy_mean_pearson: 0.18811 |\n",
      "----------------------------------------------------------------------------------------------------------------------------------\n",
      "\n",
      "starting epoch 86\n"
     ]
    },
    {
     "data": {
      "application/vnd.jupyter.widget-view+json": {
       "model_id": "",
       "version_major": 2,
       "version_minor": 0
      },
      "text/plain": [
       "Validating: 0it [00:00, ?it/s]"
      ]
     },
     "metadata": {},
     "output_type": "display_data"
    },
    {
     "name": "stdout",
     "output_type": "stream",
     "text": [
      "\n",
      "----------------------------------------------------------------------------------------------------------------------------------\n",
      "| arithmetic_mean_loss: 1.22279 | harmonic_mean_loss: 1.16243 | prediction_mean_pearson: 0.23837 | entropy_mean_pearson: 0.18531 |\n",
      "----------------------------------------------------------------------------------------------------------------------------------\n",
      "\n",
      "starting epoch 87\n"
     ]
    },
    {
     "data": {
      "application/vnd.jupyter.widget-view+json": {
       "model_id": "",
       "version_major": 2,
       "version_minor": 0
      },
      "text/plain": [
       "Validating: 0it [00:00, ?it/s]"
      ]
     },
     "metadata": {},
     "output_type": "display_data"
    },
    {
     "name": "stdout",
     "output_type": "stream",
     "text": [
      "\n",
      "----------------------------------------------------------------------------------------------------------------------------------\n",
      "| arithmetic_mean_loss: 1.20862 | harmonic_mean_loss: 1.14944 | prediction_mean_pearson: 0.24691 | entropy_mean_pearson: 0.19184 |\n",
      "----------------------------------------------------------------------------------------------------------------------------------\n",
      "\n",
      "starting epoch 88\n"
     ]
    },
    {
     "data": {
      "application/vnd.jupyter.widget-view+json": {
       "model_id": "",
       "version_major": 2,
       "version_minor": 0
      },
      "text/plain": [
       "Validating: 0it [00:00, ?it/s]"
      ]
     },
     "metadata": {},
     "output_type": "display_data"
    },
    {
     "name": "stdout",
     "output_type": "stream",
     "text": [
      "\n",
      "----------------------------------------------------------------------------------------------------------------------------------\n",
      "| arithmetic_mean_loss: 1.22499 | harmonic_mean_loss: 1.16505 | prediction_mean_pearson: 0.23945 | entropy_mean_pearson: 0.18839 |\n",
      "----------------------------------------------------------------------------------------------------------------------------------\n",
      "\n",
      "starting epoch 89\n"
     ]
    },
    {
     "data": {
      "application/vnd.jupyter.widget-view+json": {
       "model_id": "",
       "version_major": 2,
       "version_minor": 0
      },
      "text/plain": [
       "Validating: 0it [00:00, ?it/s]"
      ]
     },
     "metadata": {},
     "output_type": "display_data"
    },
    {
     "name": "stdout",
     "output_type": "stream",
     "text": [
      "\n",
      "----------------------------------------------------------------------------------------------------------------------------------\n",
      "| arithmetic_mean_loss: 1.23512 | harmonic_mean_loss: 1.17447 | prediction_mean_pearson: 0.22987 | entropy_mean_pearson: 0.19735 |\n",
      "----------------------------------------------------------------------------------------------------------------------------------\n",
      "\n",
      "starting epoch 90\n"
     ]
    },
    {
     "data": {
      "application/vnd.jupyter.widget-view+json": {
       "model_id": "",
       "version_major": 2,
       "version_minor": 0
      },
      "text/plain": [
       "Validating: 0it [00:00, ?it/s]"
      ]
     },
     "metadata": {},
     "output_type": "display_data"
    },
    {
     "name": "stdout",
     "output_type": "stream",
     "text": [
      "\n",
      "----------------------------------------------------------------------------------------------------------------------------------\n",
      "| arithmetic_mean_loss: 1.22462 | harmonic_mean_loss: 1.16473 | prediction_mean_pearson: 0.23815 | entropy_mean_pearson: 0.17881 |\n",
      "----------------------------------------------------------------------------------------------------------------------------------\n",
      "\n",
      "starting epoch 91\n"
     ]
    },
    {
     "data": {
      "application/vnd.jupyter.widget-view+json": {
       "model_id": "",
       "version_major": 2,
       "version_minor": 0
      },
      "text/plain": [
       "Validating: 0it [00:00, ?it/s]"
      ]
     },
     "metadata": {},
     "output_type": "display_data"
    },
    {
     "name": "stdout",
     "output_type": "stream",
     "text": [
      "\n",
      "----------------------------------------------------------------------------------------------------------------------------------\n",
      "| arithmetic_mean_loss: 1.24562 | harmonic_mean_loss: 1.18091 | prediction_mean_pearson: 0.22416 | entropy_mean_pearson: 0.18951 |\n",
      "----------------------------------------------------------------------------------------------------------------------------------\n",
      "\n",
      "starting epoch 92\n"
     ]
    },
    {
     "data": {
      "application/vnd.jupyter.widget-view+json": {
       "model_id": "",
       "version_major": 2,
       "version_minor": 0
      },
      "text/plain": [
       "Validating: 0it [00:00, ?it/s]"
      ]
     },
     "metadata": {},
     "output_type": "display_data"
    },
    {
     "name": "stdout",
     "output_type": "stream",
     "text": [
      "\n",
      "----------------------------------------------------------------------------------------------------------------------------------\n",
      "| arithmetic_mean_loss: 1.22003 | harmonic_mean_loss: 1.16062 | prediction_mean_pearson: 0.23822 | entropy_mean_pearson: 0.19628 |\n",
      "----------------------------------------------------------------------------------------------------------------------------------\n",
      "\n",
      "starting epoch 93\n"
     ]
    },
    {
     "data": {
      "application/vnd.jupyter.widget-view+json": {
       "model_id": "",
       "version_major": 2,
       "version_minor": 0
      },
      "text/plain": [
       "Validating: 0it [00:00, ?it/s]"
      ]
     },
     "metadata": {},
     "output_type": "display_data"
    },
    {
     "name": "stdout",
     "output_type": "stream",
     "text": [
      "\n",
      "----------------------------------------------------------------------------------------------------------------------------------\n",
      "| arithmetic_mean_loss: 1.23450 | harmonic_mean_loss: 1.17446 | prediction_mean_pearson: 0.22881 | entropy_mean_pearson: 0.19995 |\n",
      "----------------------------------------------------------------------------------------------------------------------------------\n",
      "\n",
      "starting epoch 94\n"
     ]
    },
    {
     "data": {
      "application/vnd.jupyter.widget-view+json": {
       "model_id": "",
       "version_major": 2,
       "version_minor": 0
      },
      "text/plain": [
       "Validating: 0it [00:00, ?it/s]"
      ]
     },
     "metadata": {},
     "output_type": "display_data"
    },
    {
     "name": "stdout",
     "output_type": "stream",
     "text": [
      "\n",
      "----------------------------------------------------------------------------------------------------------------------------------\n",
      "| arithmetic_mean_loss: 1.22364 | harmonic_mean_loss: 1.16271 | prediction_mean_pearson: 0.23626 | entropy_mean_pearson: 0.18847 |\n",
      "----------------------------------------------------------------------------------------------------------------------------------\n",
      "\n",
      "starting epoch 95\n"
     ]
    },
    {
     "data": {
      "application/vnd.jupyter.widget-view+json": {
       "model_id": "",
       "version_major": 2,
       "version_minor": 0
      },
      "text/plain": [
       "Validating: 0it [00:00, ?it/s]"
      ]
     },
     "metadata": {},
     "output_type": "display_data"
    },
    {
     "name": "stdout",
     "output_type": "stream",
     "text": [
      "\n",
      "----------------------------------------------------------------------------------------------------------------------------------\n",
      "| arithmetic_mean_loss: 1.22875 | harmonic_mean_loss: 1.16786 | prediction_mean_pearson: 0.23008 | entropy_mean_pearson: 0.18226 |\n",
      "----------------------------------------------------------------------------------------------------------------------------------\n",
      "\n",
      "starting epoch 96\n"
     ]
    },
    {
     "data": {
      "application/vnd.jupyter.widget-view+json": {
       "model_id": "",
       "version_major": 2,
       "version_minor": 0
      },
      "text/plain": [
       "Validating: 0it [00:00, ?it/s]"
      ]
     },
     "metadata": {},
     "output_type": "display_data"
    },
    {
     "name": "stdout",
     "output_type": "stream",
     "text": [
      "\n",
      "----------------------------------------------------------------------------------------------------------------------------------\n",
      "| arithmetic_mean_loss: 1.22870 | harmonic_mean_loss: 1.16728 | prediction_mean_pearson: 0.22979 | entropy_mean_pearson: 0.19090 |\n",
      "----------------------------------------------------------------------------------------------------------------------------------\n",
      "\n",
      "starting epoch 97\n"
     ]
    },
    {
     "data": {
      "application/vnd.jupyter.widget-view+json": {
       "model_id": "",
       "version_major": 2,
       "version_minor": 0
      },
      "text/plain": [
       "Validating: 0it [00:00, ?it/s]"
      ]
     },
     "metadata": {},
     "output_type": "display_data"
    },
    {
     "name": "stdout",
     "output_type": "stream",
     "text": [
      "\n",
      "----------------------------------------------------------------------------------------------------------------------------------\n",
      "| arithmetic_mean_loss: 1.21626 | harmonic_mean_loss: 1.15784 | prediction_mean_pearson: 0.23417 | entropy_mean_pearson: 0.18993 |\n",
      "----------------------------------------------------------------------------------------------------------------------------------\n",
      "\n",
      "starting epoch 98\n"
     ]
    },
    {
     "data": {
      "application/vnd.jupyter.widget-view+json": {
       "model_id": "",
       "version_major": 2,
       "version_minor": 0
      },
      "text/plain": [
       "Validating: 0it [00:00, ?it/s]"
      ]
     },
     "metadata": {},
     "output_type": "display_data"
    },
    {
     "name": "stdout",
     "output_type": "stream",
     "text": [
      "\n",
      "----------------------------------------------------------------------------------------------------------------------------------\n",
      "| arithmetic_mean_loss: 1.21561 | harmonic_mean_loss: 1.15772 | prediction_mean_pearson: 0.23602 | entropy_mean_pearson: 0.19114 |\n",
      "----------------------------------------------------------------------------------------------------------------------------------\n",
      "\n",
      "starting epoch 99\n"
     ]
    },
    {
     "data": {
      "application/vnd.jupyter.widget-view+json": {
       "model_id": "",
       "version_major": 2,
       "version_minor": 0
      },
      "text/plain": [
       "Validating: 0it [00:00, ?it/s]"
      ]
     },
     "metadata": {},
     "output_type": "display_data"
    },
    {
     "name": "stdout",
     "output_type": "stream",
     "text": [
      "\n",
      "----------------------------------------------------------------------------------------------------------------------------------\n",
      "| arithmetic_mean_loss: 1.22534 | harmonic_mean_loss: 1.16563 | prediction_mean_pearson: 0.23492 | entropy_mean_pearson: 0.18329 |\n",
      "----------------------------------------------------------------------------------------------------------------------------------\n",
      "\n",
      "starting epoch 100\n"
     ]
    },
    {
     "data": {
      "application/vnd.jupyter.widget-view+json": {
       "model_id": "",
       "version_major": 2,
       "version_minor": 0
      },
      "text/plain": [
       "Validating: 0it [00:00, ?it/s]"
      ]
     },
     "metadata": {},
     "output_type": "display_data"
    },
    {
     "name": "stdout",
     "output_type": "stream",
     "text": [
      "\n",
      "----------------------------------------------------------------------------------------------------------------------------------\n",
      "| arithmetic_mean_loss: 1.21920 | harmonic_mean_loss: 1.15996 | prediction_mean_pearson: 0.23552 | entropy_mean_pearson: 0.19108 |\n",
      "----------------------------------------------------------------------------------------------------------------------------------\n",
      "\n",
      "starting epoch 101\n"
     ]
    },
    {
     "data": {
      "application/vnd.jupyter.widget-view+json": {
       "model_id": "",
       "version_major": 2,
       "version_minor": 0
      },
      "text/plain": [
       "Validating: 0it [00:00, ?it/s]"
      ]
     },
     "metadata": {},
     "output_type": "display_data"
    },
    {
     "name": "stdout",
     "output_type": "stream",
     "text": [
      "\n",
      "----------------------------------------------------------------------------------------------------------------------------------\n",
      "| arithmetic_mean_loss: 1.22401 | harmonic_mean_loss: 1.16471 | prediction_mean_pearson: 0.23349 | entropy_mean_pearson: 0.18409 |\n",
      "----------------------------------------------------------------------------------------------------------------------------------\n",
      "\n",
      "starting epoch 102\n"
     ]
    },
    {
     "data": {
      "application/vnd.jupyter.widget-view+json": {
       "model_id": "",
       "version_major": 2,
       "version_minor": 0
      },
      "text/plain": [
       "Validating: 0it [00:00, ?it/s]"
      ]
     },
     "metadata": {},
     "output_type": "display_data"
    },
    {
     "name": "stdout",
     "output_type": "stream",
     "text": [
      "\n",
      "----------------------------------------------------------------------------------------------------------------------------------\n",
      "| arithmetic_mean_loss: 1.22648 | harmonic_mean_loss: 1.16772 | prediction_mean_pearson: 0.23545 | entropy_mean_pearson: 0.19708 |\n",
      "----------------------------------------------------------------------------------------------------------------------------------\n",
      "\n",
      "starting epoch 103\n"
     ]
    },
    {
     "data": {
      "application/vnd.jupyter.widget-view+json": {
       "model_id": "",
       "version_major": 2,
       "version_minor": 0
      },
      "text/plain": [
       "Validating: 0it [00:00, ?it/s]"
      ]
     },
     "metadata": {},
     "output_type": "display_data"
    },
    {
     "name": "stdout",
     "output_type": "stream",
     "text": [
      "\n",
      "----------------------------------------------------------------------------------------------------------------------------------\n",
      "| arithmetic_mean_loss: 1.21601 | harmonic_mean_loss: 1.15728 | prediction_mean_pearson: 0.23621 | entropy_mean_pearson: 0.20131 |\n",
      "----------------------------------------------------------------------------------------------------------------------------------\n",
      "\n",
      "starting epoch 104\n"
     ]
    },
    {
     "data": {
      "application/vnd.jupyter.widget-view+json": {
       "model_id": "",
       "version_major": 2,
       "version_minor": 0
      },
      "text/plain": [
       "Validating: 0it [00:00, ?it/s]"
      ]
     },
     "metadata": {},
     "output_type": "display_data"
    },
    {
     "name": "stdout",
     "output_type": "stream",
     "text": [
      "\n",
      "----------------------------------------------------------------------------------------------------------------------------------\n",
      "| arithmetic_mean_loss: 1.22821 | harmonic_mean_loss: 1.16920 | prediction_mean_pearson: 0.22992 | entropy_mean_pearson: 0.19540 |\n",
      "----------------------------------------------------------------------------------------------------------------------------------\n",
      "\n",
      "starting epoch 105\n"
     ]
    },
    {
     "data": {
      "application/vnd.jupyter.widget-view+json": {
       "model_id": "",
       "version_major": 2,
       "version_minor": 0
      },
      "text/plain": [
       "Validating: 0it [00:00, ?it/s]"
      ]
     },
     "metadata": {},
     "output_type": "display_data"
    },
    {
     "name": "stdout",
     "output_type": "stream",
     "text": [
      "\n",
      "----------------------------------------------------------------------------------------------------------------------------------\n",
      "| arithmetic_mean_loss: 1.21757 | harmonic_mean_loss: 1.15879 | prediction_mean_pearson: 0.24139 | entropy_mean_pearson: 0.20260 |\n",
      "----------------------------------------------------------------------------------------------------------------------------------\n",
      "\n",
      "starting epoch 106\n"
     ]
    },
    {
     "data": {
      "application/vnd.jupyter.widget-view+json": {
       "model_id": "",
       "version_major": 2,
       "version_minor": 0
      },
      "text/plain": [
       "Validating: 0it [00:00, ?it/s]"
      ]
     },
     "metadata": {},
     "output_type": "display_data"
    },
    {
     "name": "stdout",
     "output_type": "stream",
     "text": [
      "\n",
      "----------------------------------------------------------------------------------------------------------------------------------\n",
      "| arithmetic_mean_loss: 1.21929 | harmonic_mean_loss: 1.16172 | prediction_mean_pearson: 0.23945 | entropy_mean_pearson: 0.20254 |\n",
      "----------------------------------------------------------------------------------------------------------------------------------\n",
      "\n",
      "starting epoch 107\n"
     ]
    },
    {
     "data": {
      "application/vnd.jupyter.widget-view+json": {
       "model_id": "",
       "version_major": 2,
       "version_minor": 0
      },
      "text/plain": [
       "Validating: 0it [00:00, ?it/s]"
      ]
     },
     "metadata": {},
     "output_type": "display_data"
    },
    {
     "name": "stdout",
     "output_type": "stream",
     "text": [
      "\n",
      "----------------------------------------------------------------------------------------------------------------------------------\n",
      "| arithmetic_mean_loss: 1.22388 | harmonic_mean_loss: 1.16296 | prediction_mean_pearson: 0.23031 | entropy_mean_pearson: 0.19139 |\n",
      "----------------------------------------------------------------------------------------------------------------------------------\n",
      "\n",
      "starting epoch 108\n"
     ]
    },
    {
     "data": {
      "application/vnd.jupyter.widget-view+json": {
       "model_id": "",
       "version_major": 2,
       "version_minor": 0
      },
      "text/plain": [
       "Validating: 0it [00:00, ?it/s]"
      ]
     },
     "metadata": {},
     "output_type": "display_data"
    },
    {
     "name": "stdout",
     "output_type": "stream",
     "text": [
      "\n",
      "----------------------------------------------------------------------------------------------------------------------------------\n",
      "| arithmetic_mean_loss: 1.23315 | harmonic_mean_loss: 1.17275 | prediction_mean_pearson: 0.23484 | entropy_mean_pearson: 0.20036 |\n",
      "----------------------------------------------------------------------------------------------------------------------------------\n",
      "\n",
      "starting epoch 109\n"
     ]
    },
    {
     "data": {
      "application/vnd.jupyter.widget-view+json": {
       "model_id": "",
       "version_major": 2,
       "version_minor": 0
      },
      "text/plain": [
       "Validating: 0it [00:00, ?it/s]"
      ]
     },
     "metadata": {},
     "output_type": "display_data"
    },
    {
     "name": "stdout",
     "output_type": "stream",
     "text": [
      "\n",
      "----------------------------------------------------------------------------------------------------------------------------------\n",
      "| arithmetic_mean_loss: 1.22935 | harmonic_mean_loss: 1.16842 | prediction_mean_pearson: 0.23122 | entropy_mean_pearson: 0.19944 |\n",
      "----------------------------------------------------------------------------------------------------------------------------------\n",
      "\n",
      "starting epoch 110\n"
     ]
    },
    {
     "data": {
      "application/vnd.jupyter.widget-view+json": {
       "model_id": "",
       "version_major": 2,
       "version_minor": 0
      },
      "text/plain": [
       "Validating: 0it [00:00, ?it/s]"
      ]
     },
     "metadata": {},
     "output_type": "display_data"
    },
    {
     "name": "stdout",
     "output_type": "stream",
     "text": [
      "\n",
      "----------------------------------------------------------------------------------------------------------------------------------\n",
      "| arithmetic_mean_loss: 1.22549 | harmonic_mean_loss: 1.16482 | prediction_mean_pearson: 0.22741 | entropy_mean_pearson: 0.18887 |\n",
      "----------------------------------------------------------------------------------------------------------------------------------\n",
      "\n",
      "starting epoch 111\n"
     ]
    },
    {
     "data": {
      "application/vnd.jupyter.widget-view+json": {
       "model_id": "",
       "version_major": 2,
       "version_minor": 0
      },
      "text/plain": [
       "Validating: 0it [00:00, ?it/s]"
      ]
     },
     "metadata": {},
     "output_type": "display_data"
    },
    {
     "name": "stdout",
     "output_type": "stream",
     "text": [
      "\n",
      "----------------------------------------------------------------------------------------------------------------------------------\n",
      "| arithmetic_mean_loss: 1.21902 | harmonic_mean_loss: 1.15801 | prediction_mean_pearson: 0.23901 | entropy_mean_pearson: 0.19102 |\n",
      "----------------------------------------------------------------------------------------------------------------------------------\n",
      "\n",
      "starting epoch 112\n"
     ]
    },
    {
     "data": {
      "application/vnd.jupyter.widget-view+json": {
       "model_id": "",
       "version_major": 2,
       "version_minor": 0
      },
      "text/plain": [
       "Validating: 0it [00:00, ?it/s]"
      ]
     },
     "metadata": {},
     "output_type": "display_data"
    },
    {
     "name": "stdout",
     "output_type": "stream",
     "text": [
      "\n",
      "----------------------------------------------------------------------------------------------------------------------------------\n",
      "| arithmetic_mean_loss: 1.23761 | harmonic_mean_loss: 1.17748 | prediction_mean_pearson: 0.23042 | entropy_mean_pearson: 0.18958 |\n",
      "----------------------------------------------------------------------------------------------------------------------------------\n",
      "\n",
      "starting epoch 113\n"
     ]
    },
    {
     "data": {
      "application/vnd.jupyter.widget-view+json": {
       "model_id": "",
       "version_major": 2,
       "version_minor": 0
      },
      "text/plain": [
       "Validating: 0it [00:00, ?it/s]"
      ]
     },
     "metadata": {},
     "output_type": "display_data"
    },
    {
     "name": "stdout",
     "output_type": "stream",
     "text": [
      "\n",
      "----------------------------------------------------------------------------------------------------------------------------------\n",
      "| arithmetic_mean_loss: 1.21934 | harmonic_mean_loss: 1.15934 | prediction_mean_pearson: 0.23333 | entropy_mean_pearson: 0.20055 |\n",
      "----------------------------------------------------------------------------------------------------------------------------------\n",
      "\n",
      "starting epoch 114\n"
     ]
    },
    {
     "data": {
      "application/vnd.jupyter.widget-view+json": {
       "model_id": "",
       "version_major": 2,
       "version_minor": 0
      },
      "text/plain": [
       "Validating: 0it [00:00, ?it/s]"
      ]
     },
     "metadata": {},
     "output_type": "display_data"
    },
    {
     "name": "stdout",
     "output_type": "stream",
     "text": [
      "\n",
      "----------------------------------------------------------------------------------------------------------------------------------\n",
      "| arithmetic_mean_loss: 1.24079 | harmonic_mean_loss: 1.18308 | prediction_mean_pearson: 0.21764 | entropy_mean_pearson: 0.20500 |\n",
      "----------------------------------------------------------------------------------------------------------------------------------\n",
      "\n",
      "starting epoch 115\n"
     ]
    },
    {
     "data": {
      "application/vnd.jupyter.widget-view+json": {
       "model_id": "",
       "version_major": 2,
       "version_minor": 0
      },
      "text/plain": [
       "Validating: 0it [00:00, ?it/s]"
      ]
     },
     "metadata": {},
     "output_type": "display_data"
    },
    {
     "name": "stdout",
     "output_type": "stream",
     "text": [
      "\n",
      "----------------------------------------------------------------------------------------------------------------------------------\n",
      "| arithmetic_mean_loss: 1.21937 | harmonic_mean_loss: 1.15842 | prediction_mean_pearson: 0.22972 | entropy_mean_pearson: 0.20185 |\n",
      "----------------------------------------------------------------------------------------------------------------------------------\n",
      "\n",
      "starting epoch 116\n"
     ]
    },
    {
     "data": {
      "application/vnd.jupyter.widget-view+json": {
       "model_id": "",
       "version_major": 2,
       "version_minor": 0
      },
      "text/plain": [
       "Validating: 0it [00:00, ?it/s]"
      ]
     },
     "metadata": {},
     "output_type": "display_data"
    },
    {
     "name": "stdout",
     "output_type": "stream",
     "text": [
      "\n",
      "----------------------------------------------------------------------------------------------------------------------------------\n",
      "| arithmetic_mean_loss: 1.23088 | harmonic_mean_loss: 1.17069 | prediction_mean_pearson: 0.23465 | entropy_mean_pearson: 0.18679 |\n",
      "----------------------------------------------------------------------------------------------------------------------------------\n",
      "\n",
      "starting epoch 117\n"
     ]
    },
    {
     "data": {
      "application/vnd.jupyter.widget-view+json": {
       "model_id": "",
       "version_major": 2,
       "version_minor": 0
      },
      "text/plain": [
       "Validating: 0it [00:00, ?it/s]"
      ]
     },
     "metadata": {},
     "output_type": "display_data"
    },
    {
     "name": "stdout",
     "output_type": "stream",
     "text": [
      "\n",
      "----------------------------------------------------------------------------------------------------------------------------------\n",
      "| arithmetic_mean_loss: 1.23325 | harmonic_mean_loss: 1.17247 | prediction_mean_pearson: 0.22890 | entropy_mean_pearson: 0.20517 |\n",
      "----------------------------------------------------------------------------------------------------------------------------------\n",
      "\n",
      "starting epoch 118\n"
     ]
    },
    {
     "data": {
      "application/vnd.jupyter.widget-view+json": {
       "model_id": "",
       "version_major": 2,
       "version_minor": 0
      },
      "text/plain": [
       "Validating: 0it [00:00, ?it/s]"
      ]
     },
     "metadata": {},
     "output_type": "display_data"
    },
    {
     "name": "stdout",
     "output_type": "stream",
     "text": [
      "\n",
      "----------------------------------------------------------------------------------------------------------------------------------\n",
      "| arithmetic_mean_loss: 1.27169 | harmonic_mean_loss: 1.20997 | prediction_mean_pearson: 0.21979 | entropy_mean_pearson: 0.18883 |\n",
      "----------------------------------------------------------------------------------------------------------------------------------\n",
      "\n",
      "starting epoch 119\n"
     ]
    },
    {
     "data": {
      "application/vnd.jupyter.widget-view+json": {
       "model_id": "",
       "version_major": 2,
       "version_minor": 0
      },
      "text/plain": [
       "Validating: 0it [00:00, ?it/s]"
      ]
     },
     "metadata": {},
     "output_type": "display_data"
    },
    {
     "name": "stdout",
     "output_type": "stream",
     "text": [
      "\n",
      "----------------------------------------------------------------------------------------------------------------------------------\n",
      "| arithmetic_mean_loss: 1.27763 | harmonic_mean_loss: 1.21341 | prediction_mean_pearson: 0.21414 | entropy_mean_pearson: 0.18312 |\n",
      "----------------------------------------------------------------------------------------------------------------------------------\n",
      "\n",
      "starting epoch 120\n"
     ]
    },
    {
     "data": {
      "application/vnd.jupyter.widget-view+json": {
       "model_id": "",
       "version_major": 2,
       "version_minor": 0
      },
      "text/plain": [
       "Validating: 0it [00:00, ?it/s]"
      ]
     },
     "metadata": {},
     "output_type": "display_data"
    },
    {
     "name": "stdout",
     "output_type": "stream",
     "text": [
      "\n",
      "----------------------------------------------------------------------------------------------------------------------------------\n",
      "| arithmetic_mean_loss: 1.22679 | harmonic_mean_loss: 1.16660 | prediction_mean_pearson: 0.25266 | entropy_mean_pearson: 0.20610 |\n",
      "----------------------------------------------------------------------------------------------------------------------------------\n",
      "\n",
      "starting epoch 121\n"
     ]
    },
    {
     "data": {
      "application/vnd.jupyter.widget-view+json": {
       "model_id": "",
       "version_major": 2,
       "version_minor": 0
      },
      "text/plain": [
       "Validating: 0it [00:00, ?it/s]"
      ]
     },
     "metadata": {},
     "output_type": "display_data"
    },
    {
     "name": "stdout",
     "output_type": "stream",
     "text": [
      "\n",
      "----------------------------------------------------------------------------------------------------------------------------------\n",
      "| arithmetic_mean_loss: 1.20180 | harmonic_mean_loss: 1.14559 | prediction_mean_pearson: 0.29029 | entropy_mean_pearson: 0.21996 |\n",
      "----------------------------------------------------------------------------------------------------------------------------------\n",
      "\n",
      "starting epoch 122\n"
     ]
    },
    {
     "data": {
      "application/vnd.jupyter.widget-view+json": {
       "model_id": "",
       "version_major": 2,
       "version_minor": 0
      },
      "text/plain": [
       "Validating: 0it [00:00, ?it/s]"
      ]
     },
     "metadata": {},
     "output_type": "display_data"
    },
    {
     "name": "stdout",
     "output_type": "stream",
     "text": [
      "\n",
      "----------------------------------------------------------------------------------------------------------------------------------\n",
      "| arithmetic_mean_loss: 1.18542 | harmonic_mean_loss: 1.12886 | prediction_mean_pearson: 0.29087 | entropy_mean_pearson: 0.21417 |\n",
      "----------------------------------------------------------------------------------------------------------------------------------\n",
      "\n",
      "starting epoch 123\n"
     ]
    },
    {
     "data": {
      "application/vnd.jupyter.widget-view+json": {
       "model_id": "",
       "version_major": 2,
       "version_minor": 0
      },
      "text/plain": [
       "Validating: 0it [00:00, ?it/s]"
      ]
     },
     "metadata": {},
     "output_type": "display_data"
    },
    {
     "name": "stdout",
     "output_type": "stream",
     "text": [
      "\n",
      "----------------------------------------------------------------------------------------------------------------------------------\n",
      "| arithmetic_mean_loss: 1.20632 | harmonic_mean_loss: 1.15037 | prediction_mean_pearson: 0.28915 | entropy_mean_pearson: 0.22111 |\n",
      "----------------------------------------------------------------------------------------------------------------------------------\n",
      "\n",
      "starting epoch 124\n"
     ]
    },
    {
     "data": {
      "application/vnd.jupyter.widget-view+json": {
       "model_id": "",
       "version_major": 2,
       "version_minor": 0
      },
      "text/plain": [
       "Validating: 0it [00:00, ?it/s]"
      ]
     },
     "metadata": {},
     "output_type": "display_data"
    },
    {
     "name": "stdout",
     "output_type": "stream",
     "text": [
      "\n",
      "----------------------------------------------------------------------------------------------------------------------------------\n",
      "| arithmetic_mean_loss: 1.22349 | harmonic_mean_loss: 1.16559 | prediction_mean_pearson: 0.29626 | entropy_mean_pearson: 0.22081 |\n",
      "----------------------------------------------------------------------------------------------------------------------------------\n",
      "\n",
      "starting epoch 125\n"
     ]
    },
    {
     "data": {
      "application/vnd.jupyter.widget-view+json": {
       "model_id": "",
       "version_major": 2,
       "version_minor": 0
      },
      "text/plain": [
       "Validating: 0it [00:00, ?it/s]"
      ]
     },
     "metadata": {},
     "output_type": "display_data"
    },
    {
     "name": "stdout",
     "output_type": "stream",
     "text": [
      "\n",
      "----------------------------------------------------------------------------------------------------------------------------------\n",
      "| arithmetic_mean_loss: 1.20890 | harmonic_mean_loss: 1.15389 | prediction_mean_pearson: 0.29162 | entropy_mean_pearson: 0.21536 |\n",
      "----------------------------------------------------------------------------------------------------------------------------------\n",
      "\n",
      "starting epoch 126\n"
     ]
    },
    {
     "data": {
      "application/vnd.jupyter.widget-view+json": {
       "model_id": "",
       "version_major": 2,
       "version_minor": 0
      },
      "text/plain": [
       "Validating: 0it [00:00, ?it/s]"
      ]
     },
     "metadata": {},
     "output_type": "display_data"
    },
    {
     "name": "stdout",
     "output_type": "stream",
     "text": [
      "\n",
      "----------------------------------------------------------------------------------------------------------------------------------\n",
      "| arithmetic_mean_loss: 1.20908 | harmonic_mean_loss: 1.15022 | prediction_mean_pearson: 0.31428 | entropy_mean_pearson: 0.21440 |\n",
      "----------------------------------------------------------------------------------------------------------------------------------\n",
      "\n",
      "starting epoch 127\n"
     ]
    },
    {
     "data": {
      "application/vnd.jupyter.widget-view+json": {
       "model_id": "",
       "version_major": 2,
       "version_minor": 0
      },
      "text/plain": [
       "Validating: 0it [00:00, ?it/s]"
      ]
     },
     "metadata": {},
     "output_type": "display_data"
    },
    {
     "name": "stdout",
     "output_type": "stream",
     "text": [
      "\n",
      "----------------------------------------------------------------------------------------------------------------------------------\n",
      "| arithmetic_mean_loss: 1.21293 | harmonic_mean_loss: 1.15658 | prediction_mean_pearson: 0.29883 | entropy_mean_pearson: 0.21427 |\n",
      "----------------------------------------------------------------------------------------------------------------------------------\n",
      "\n",
      "starting epoch 128\n"
     ]
    },
    {
     "data": {
      "application/vnd.jupyter.widget-view+json": {
       "model_id": "",
       "version_major": 2,
       "version_minor": 0
      },
      "text/plain": [
       "Validating: 0it [00:00, ?it/s]"
      ]
     },
     "metadata": {},
     "output_type": "display_data"
    },
    {
     "name": "stdout",
     "output_type": "stream",
     "text": [
      "\n",
      "----------------------------------------------------------------------------------------------------------------------------------\n",
      "| arithmetic_mean_loss: 1.23161 | harmonic_mean_loss: 1.17377 | prediction_mean_pearson: 0.29323 | entropy_mean_pearson: 0.19925 |\n",
      "----------------------------------------------------------------------------------------------------------------------------------\n",
      "\n",
      "starting epoch 129\n"
     ]
    },
    {
     "data": {
      "application/vnd.jupyter.widget-view+json": {
       "model_id": "",
       "version_major": 2,
       "version_minor": 0
      },
      "text/plain": [
       "Validating: 0it [00:00, ?it/s]"
      ]
     },
     "metadata": {},
     "output_type": "display_data"
    },
    {
     "name": "stdout",
     "output_type": "stream",
     "text": [
      "\n",
      "----------------------------------------------------------------------------------------------------------------------------------\n",
      "| arithmetic_mean_loss: 1.20874 | harmonic_mean_loss: 1.15370 | prediction_mean_pearson: 0.31511 | entropy_mean_pearson: 0.23936 |\n",
      "----------------------------------------------------------------------------------------------------------------------------------\n",
      "\n",
      "starting epoch 130\n"
     ]
    },
    {
     "data": {
      "application/vnd.jupyter.widget-view+json": {
       "model_id": "",
       "version_major": 2,
       "version_minor": 0
      },
      "text/plain": [
       "Validating: 0it [00:00, ?it/s]"
      ]
     },
     "metadata": {},
     "output_type": "display_data"
    },
    {
     "name": "stdout",
     "output_type": "stream",
     "text": [
      "\n",
      "----------------------------------------------------------------------------------------------------------------------------------\n",
      "| arithmetic_mean_loss: 1.23807 | harmonic_mean_loss: 1.17979 | prediction_mean_pearson: 0.31845 | entropy_mean_pearson: 0.23184 |\n",
      "----------------------------------------------------------------------------------------------------------------------------------\n",
      "\n",
      "starting epoch 131\n"
     ]
    },
    {
     "data": {
      "application/vnd.jupyter.widget-view+json": {
       "model_id": "",
       "version_major": 2,
       "version_minor": 0
      },
      "text/plain": [
       "Validating: 0it [00:00, ?it/s]"
      ]
     },
     "metadata": {},
     "output_type": "display_data"
    },
    {
     "name": "stdout",
     "output_type": "stream",
     "text": [
      "\n",
      "----------------------------------------------------------------------------------------------------------------------------------\n",
      "| arithmetic_mean_loss: 1.24162 | harmonic_mean_loss: 1.18245 | prediction_mean_pearson: 0.30860 | entropy_mean_pearson: 0.22714 |\n",
      "----------------------------------------------------------------------------------------------------------------------------------\n",
      "\n",
      "starting epoch 132\n"
     ]
    },
    {
     "data": {
      "application/vnd.jupyter.widget-view+json": {
       "model_id": "",
       "version_major": 2,
       "version_minor": 0
      },
      "text/plain": [
       "Validating: 0it [00:00, ?it/s]"
      ]
     },
     "metadata": {},
     "output_type": "display_data"
    },
    {
     "name": "stdout",
     "output_type": "stream",
     "text": [
      "\n",
      "----------------------------------------------------------------------------------------------------------------------------------\n",
      "| arithmetic_mean_loss: 1.24897 | harmonic_mean_loss: 1.18809 | prediction_mean_pearson: 0.32292 | entropy_mean_pearson: 0.19006 |\n",
      "----------------------------------------------------------------------------------------------------------------------------------\n",
      "\n",
      "starting epoch 133\n"
     ]
    },
    {
     "data": {
      "application/vnd.jupyter.widget-view+json": {
       "model_id": "",
       "version_major": 2,
       "version_minor": 0
      },
      "text/plain": [
       "Validating: 0it [00:00, ?it/s]"
      ]
     },
     "metadata": {},
     "output_type": "display_data"
    },
    {
     "name": "stdout",
     "output_type": "stream",
     "text": [
      "\n",
      "----------------------------------------------------------------------------------------------------------------------------------\n",
      "| arithmetic_mean_loss: 1.24019 | harmonic_mean_loss: 1.17951 | prediction_mean_pearson: 0.31322 | entropy_mean_pearson: 0.19926 |\n",
      "----------------------------------------------------------------------------------------------------------------------------------\n",
      "\n",
      "starting epoch 134\n"
     ]
    },
    {
     "data": {
      "application/vnd.jupyter.widget-view+json": {
       "model_id": "",
       "version_major": 2,
       "version_minor": 0
      },
      "text/plain": [
       "Validating: 0it [00:00, ?it/s]"
      ]
     },
     "metadata": {},
     "output_type": "display_data"
    },
    {
     "name": "stdout",
     "output_type": "stream",
     "text": [
      "\n",
      "----------------------------------------------------------------------------------------------------------------------------------\n",
      "| arithmetic_mean_loss: 1.28188 | harmonic_mean_loss: 1.21918 | prediction_mean_pearson: 0.31676 | entropy_mean_pearson: 0.20754 |\n",
      "----------------------------------------------------------------------------------------------------------------------------------\n",
      "\n",
      "starting epoch 135\n"
     ]
    },
    {
     "data": {
      "application/vnd.jupyter.widget-view+json": {
       "model_id": "",
       "version_major": 2,
       "version_minor": 0
      },
      "text/plain": [
       "Validating: 0it [00:00, ?it/s]"
      ]
     },
     "metadata": {},
     "output_type": "display_data"
    },
    {
     "name": "stdout",
     "output_type": "stream",
     "text": [
      "\n",
      "----------------------------------------------------------------------------------------------------------------------------------\n",
      "| arithmetic_mean_loss: 1.24807 | harmonic_mean_loss: 1.18784 | prediction_mean_pearson: 0.31531 | entropy_mean_pearson: 0.21474 |\n",
      "----------------------------------------------------------------------------------------------------------------------------------\n",
      "\n",
      "starting epoch 136\n"
     ]
    },
    {
     "data": {
      "application/vnd.jupyter.widget-view+json": {
       "model_id": "",
       "version_major": 2,
       "version_minor": 0
      },
      "text/plain": [
       "Validating: 0it [00:00, ?it/s]"
      ]
     },
     "metadata": {},
     "output_type": "display_data"
    },
    {
     "name": "stdout",
     "output_type": "stream",
     "text": [
      "\n",
      "----------------------------------------------------------------------------------------------------------------------------------\n",
      "| arithmetic_mean_loss: 1.23526 | harmonic_mean_loss: 1.17477 | prediction_mean_pearson: 0.30385 | entropy_mean_pearson: 0.21911 |\n",
      "----------------------------------------------------------------------------------------------------------------------------------\n",
      "\n",
      "starting epoch 137\n"
     ]
    },
    {
     "data": {
      "application/vnd.jupyter.widget-view+json": {
       "model_id": "",
       "version_major": 2,
       "version_minor": 0
      },
      "text/plain": [
       "Validating: 0it [00:00, ?it/s]"
      ]
     },
     "metadata": {},
     "output_type": "display_data"
    },
    {
     "name": "stdout",
     "output_type": "stream",
     "text": [
      "\n",
      "----------------------------------------------------------------------------------------------------------------------------------\n",
      "| arithmetic_mean_loss: 1.22707 | harmonic_mean_loss: 1.16821 | prediction_mean_pearson: 0.33010 | entropy_mean_pearson: 0.23875 |\n",
      "----------------------------------------------------------------------------------------------------------------------------------\n",
      "\n",
      "starting epoch 138\n"
     ]
    },
    {
     "data": {
      "application/vnd.jupyter.widget-view+json": {
       "model_id": "",
       "version_major": 2,
       "version_minor": 0
      },
      "text/plain": [
       "Validating: 0it [00:00, ?it/s]"
      ]
     },
     "metadata": {},
     "output_type": "display_data"
    },
    {
     "name": "stdout",
     "output_type": "stream",
     "text": [
      "\n",
      "----------------------------------------------------------------------------------------------------------------------------------\n",
      "| arithmetic_mean_loss: 1.21678 | harmonic_mean_loss: 1.15890 | prediction_mean_pearson: 0.30747 | entropy_mean_pearson: 0.21516 |\n",
      "----------------------------------------------------------------------------------------------------------------------------------\n",
      "\n",
      "starting epoch 139\n"
     ]
    },
    {
     "data": {
      "application/vnd.jupyter.widget-view+json": {
       "model_id": "",
       "version_major": 2,
       "version_minor": 0
      },
      "text/plain": [
       "Validating: 0it [00:00, ?it/s]"
      ]
     },
     "metadata": {},
     "output_type": "display_data"
    },
    {
     "name": "stdout",
     "output_type": "stream",
     "text": [
      "\n",
      "----------------------------------------------------------------------------------------------------------------------------------\n",
      "| arithmetic_mean_loss: 1.23043 | harmonic_mean_loss: 1.17008 | prediction_mean_pearson: 0.32629 | entropy_mean_pearson: 0.21064 |\n",
      "----------------------------------------------------------------------------------------------------------------------------------\n",
      "\n"
     ]
    }
   ],
   "source": [
    "data_module, model_module, graph_module, model, trainer, args = main(args)"
   ]
  }
 ],
 "metadata": {
  "kernelspec": {
   "display_name": "Python 3",
   "language": "python",
   "name": "python3"
  },
  "language_info": {
   "codemirror_mode": {
    "name": "ipython",
    "version": 3
   },
   "file_extension": ".py",
   "mimetype": "text/x-python",
   "name": "python",
   "nbconvert_exporter": "python",
   "pygments_lexer": "ipython3",
   "version": "3.7.10"
  }
 },
 "nbformat": 4,
 "nbformat_minor": 4
}
