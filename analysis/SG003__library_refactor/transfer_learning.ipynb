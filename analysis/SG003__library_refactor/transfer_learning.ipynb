{
 "cells": [
  {
   "cell_type": "code",
   "execution_count": 1,
   "metadata": {},
   "outputs": [],
   "source": [
    "import os\n",
    "import sys\n",
    "import time\n",
    "import yaml\n",
    "import shutil\n",
    "import argparse\n",
    "import tarfile\n",
    "import random\n",
    "import tempfile\n",
    "import subprocess\n",
    "\n",
    "import torch\n",
    "import pytorch_lightning as ptl\n",
    "from pytorch_lightning import Trainer\n",
    "\n",
    "import hypertune\n",
    "\n",
    "import boda\n"
   ]
  },
  {
   "cell_type": "code",
   "execution_count": 2,
   "metadata": {},
   "outputs": [
    {
     "name": "stdout",
     "output_type": "stream",
     "text": [
      "1.7.1\n",
      "1.3.0\n"
     ]
    }
   ],
   "source": [
    "print(torch.__version__)\n",
    "print(ptl.__version__)"
   ]
  },
  {
   "cell_type": "code",
   "execution_count": 3,
   "metadata": {},
   "outputs": [],
   "source": [
    "def main(args):\n",
    "    data_module = getattr(boda.data, args['Main args'].data_module)\n",
    "    model_module= getattr(boda.model, args['Main args'].model_module)\n",
    "    graph_module= getattr(boda.graph, args['Main args'].graph_module)\n",
    "\n",
    "    data = data_module(**vars(data_module.process_args(args)))\n",
    "    model= model_module(**vars(model_module.process_args(args)))\n",
    "\n",
    "    model.__class__ = type(\n",
    "        'BODA_module',\n",
    "        (model_module,graph_module),\n",
    "        vars(graph_module.process_args(args))\n",
    "    )\n",
    "\n",
    "    trainer = Trainer.from_argparse_args(args['pl.Trainer'])\n",
    "    os.makedirs(trainer.default_root_dir, exist_ok=True)\n",
    "    \n",
    "    trainer.fit(model, data)\n",
    "    \n",
    "    #_save_model(data_module, model_module, graph_module, \n",
    "    #            model, trainer, args)\n",
    "    \n",
    "    return data_module, model_module, graph_module, model, trainer, args"
   ]
  },
  {
   "cell_type": "code",
   "execution_count": 4,
   "metadata": {},
   "outputs": [],
   "source": [
    "def _save_model(data_module, model_module, graph_module, \n",
    "                model, trainer, args):\n",
    "    local_dir = args['pl.Trainer'].default_root_dir\n",
    "    save_dict = {\n",
    "        'data_module'  : data_module.__name__,\n",
    "        'data_hparams' : data_module.process_args(args),\n",
    "        'model_module' : model_module.__name__,\n",
    "        'model_hparams': model_module.process_args(args),\n",
    "        'graph_module' : graph_module.__name__,\n",
    "        'graph_hparams': graph_module.process_args(args),\n",
    "        'model_state_dict': model.state_dict(),\n",
    "        'timestamp'    : time.strftime(\"%Y%m%d_%H%M%S\"),\n",
    "        'random_tag'   : random.randint(100000,999999)\n",
    "    }\n",
    "    torch.save(save_dict, os.path.join(local_dir,'torch_checkpoint.pt'))\n",
    "    \n",
    "    filename=f'model_artifacts__{save_dict[\"timestamp\"]}__{save_dict[\"random_tag\"]}.tar.gz'\n",
    "    with tempfile.TemporaryDirectory() as tmpdirname:\n",
    "        tmpdirname = '/tmp/output'\n",
    "        with tarfile.open(os.path.join(tmpdirname,filename), 'w:gz') as tar:\n",
    "            tar.add(local_dir,arcname='artifacts')\n",
    "\n",
    "        if 'gs://' in args['Main args'].artifact_path:\n",
    "            clound_target = os.path.join(args['Main args'].artifact_path,filename)\n",
    "            subprocess.check_call(\n",
    "                ['gsutil', 'cp', os.path.join(tmpdirname,filename), clound_target]\n",
    "            )\n",
    "        else:\n",
    "            os.makedirs(args['Main args'].artifact_path, exist_ok=True)\n",
    "            shutil.copy(os.path.join(tmpdirname,filename), args['Main args'].artifact_path)\n"
   ]
  },
  {
   "cell_type": "code",
   "execution_count": 5,
   "metadata": {},
   "outputs": [],
   "source": [
    "def model_fn(model_dir):\n",
    "    checkpoint = torch.load(os.path.join(model_dir,'torch_checkpoint.pt'))\n",
    "    model_module = getattr(boda, checkpoint['model_module'])\n",
    "    model        = model_module(**checkpoint['model_hparams'])\n",
    "    model.load_state_dict(checkpoint['model_state_dict'])\n",
    "    print(f'Loaded model from {checkpoint[\"timestamp\"]}')\n",
    "    return model\n"
   ]
  },
  {
   "cell_type": "markdown",
   "metadata": {},
   "source": [
    "# Process runtime arguments"
   ]
  },
  {
   "cell_type": "markdown",
   "metadata": {},
   "source": [
    "## Command line args to use for testing"
   ]
  },
  {
   "cell_type": "code",
   "execution_count": 6,
   "metadata": {},
   "outputs": [
    {
     "data": {
      "text/plain": [
       "'python /home/ubuntu/boda2/src/main.py --data_module BODA2_DataModule --datafile_path  gs://syrgoth/data/BODA.MPRA.txt --valid_pct  5 --test_pct  5 --batch_size  4096 --padded_seq_len 600 --num_workers 1 --model_module Basset --n_outputs  3 --loss_criterion MSELoss --graph_module CNNTransferLearning --optimizer AdamW --parent_weights gs://syrgoth/my-model.epoch_5-step_19885.pkl --frozen_epochs 120 --gpus 1 --min_epochs 140 --max_epochs 140 --precision 16 --default_root_dir /tmp/output/artifacts --artifact_path gs://syrgoth/aip_ui_test '"
      ]
     },
     "execution_count": 6,
     "metadata": {},
     "output_type": "execute_result"
    }
   ],
   "source": [
    "cmd_str = '--data_module BODA2_DataModule ' +\\\n",
    "            '--datafile_path  gs://syrgoth/data/BODA.MPRA.txt ' +\\\n",
    "            '--valid_pct  5 --test_pct  5 ' +\\\n",
    "            '--batch_size  4096 --padded_seq_len 600 --num_workers 1 ' +\\\n",
    "          '--model_module Basset ' +\\\n",
    "            '--n_outputs  3 --loss_criterion MSELoss ' +\\\n",
    "          '--graph_module CNNTransferLearning ' +\\\n",
    "            '--optimizer AdamW ' +\\\n",
    "            '--parent_weights gs://syrgoth/my-model.epoch_5-step_19885.pkl ' +\\\n",
    "            '--frozen_epochs 120 ' +\\\n",
    "          '--gpus 1 --min_epochs 140 --max_epochs 140 --precision 16 --default_root_dir /tmp/output/artifacts ' +\\\n",
    "          '--artifact_path gs://syrgoth/aip_ui_test '\n",
    "\n",
    "'python /home/ubuntu/boda2/src/main.py ' + cmd_str"
   ]
  },
  {
   "cell_type": "markdown",
   "metadata": {},
   "source": [
    "## Set base args for script\n",
    "\n",
    "Basic arguments to identify which submodules are used and where data will be saved"
   ]
  },
  {
   "cell_type": "code",
   "execution_count": 7,
   "metadata": {},
   "outputs": [
    {
     "data": {
      "text/plain": [
       "_StoreAction(option_strings=['--pretrained_weights'], dest='pretrained_weights', nargs=None, const=None, default=None, type=<class 'str'>, choices=None, help='Pretrained weights.', metavar=None)"
      ]
     },
     "execution_count": 7,
     "metadata": {},
     "output_type": "execute_result"
    }
   ],
   "source": [
    "parser = argparse.ArgumentParser(description=\"BODA trainer\", add_help=False)\n",
    "group = parser.add_argument_group('Main args')\n",
    "group.add_argument('--data_module', type=str, required=True, help='BODA data module to process dataset.')\n",
    "group.add_argument('--model_module',type=str, required=True, help='BODA model module to fit dataset.')\n",
    "group.add_argument('--graph_module',type=str, required=True, help='BODA graph module to define computations.')\n",
    "group.add_argument('--artifact_path', type=str, default='/opt/ml/checkpoints/', help='Path where model artifacts are deposited.')\n",
    "group.add_argument('--pretrained_weights', type=str, help='Pretrained weights.')\n",
    "\n"
   ]
  },
  {
   "cell_type": "code",
   "execution_count": 8,
   "metadata": {},
   "outputs": [],
   "source": [
    "known_args, leftover_args = parser.parse_known_args(\n",
    "    cmd_str.rstrip().split()\n",
    ")"
   ]
  },
  {
   "cell_type": "code",
   "execution_count": 9,
   "metadata": {},
   "outputs": [
    {
     "data": {
      "text/plain": [
       "Namespace(artifact_path='gs://syrgoth/aip_ui_test', data_module='BODA2_DataModule', graph_module='CNNTransferLearning', model_module='Basset', pretrained_weights=None)"
      ]
     },
     "execution_count": 9,
     "metadata": {},
     "output_type": "execute_result"
    }
   ],
   "source": [
    "known_args"
   ]
  },
  {
   "cell_type": "markdown",
   "metadata": {},
   "source": [
    "## Extract first-order submodule args\n",
    "\n",
    "Get submodule specific arguments."
   ]
  },
  {
   "cell_type": "code",
   "execution_count": 10,
   "metadata": {},
   "outputs": [],
   "source": [
    "Data  = getattr(boda.data,  known_args.data_module)\n",
    "Model = getattr(boda.model, known_args.model_module)\n",
    "Graph = getattr(boda.graph, known_args.graph_module)\n",
    "\n",
    "parser = Data.add_data_specific_args(parser)\n",
    "parser = Model.add_model_specific_args(parser)\n",
    "parser = Graph.add_graph_specific_args(parser)\n",
    "\n",
    "known_args, leftover_args = parser.parse_known_args(\n",
    "    cmd_str.rstrip().split()\n",
    ")\n"
   ]
  },
  {
   "cell_type": "code",
   "execution_count": 11,
   "metadata": {},
   "outputs": [
    {
     "data": {
      "text/plain": [
       "Namespace(activity_columns=['K562', 'HepG2.neon', 'SKNSH'], artifact_path='gs://syrgoth/aip_ui_test', batch_size=4096, conv1_channels=300, conv1_kernel_size=19, conv2_channels=200, conv2_kernel_size=11, conv3_channels=200, conv3_kernel_size=7, data_module='BODA2_DataModule', datafile_path='gs://syrgoth/data/BODA.MPRA.txt', dropout_p=0.3, frozen_epochs=120, graph_module='CNNTransferLearning', linear1_channels=1000, linear2_channels=1000, loss_criterion='MSELoss', model_module='Basset', n_outputs=3, num_workers=1, optimizer='AdamW', padded_seq_len=600, parent_weights='gs://syrgoth/my-model.epoch_5-step_19885.pkl', pretrained_weights=None, scheduler=None, scheduler_interval='epoch', scheduler_monitor=None, sequence_column='nt.sequence', test_pct=5.0, use_batch_norm=True, use_weight_norm=False, valid_pct=5.0)"
      ]
     },
     "execution_count": 11,
     "metadata": {},
     "output_type": "execute_result"
    }
   ],
   "source": [
    "known_args"
   ]
  },
  {
   "cell_type": "markdown",
   "metadata": {},
   "source": [
    "## Extract second-order submodule args\n",
    "\n",
    "Get another set of submodule specific arguments based preliminary choices. (i.e., optional arguments for optimizer of choice)"
   ]
  },
  {
   "cell_type": "code",
   "execution_count": 12,
   "metadata": {},
   "outputs": [],
   "source": [
    "parser = Data.add_conditional_args(parser, known_args)\n",
    "parser = Model.add_conditional_args(parser, known_args)\n",
    "parser = Graph.add_conditional_args(parser, known_args)\n",
    "\n",
    "parser = Trainer.add_argparse_args(parser)\n",
    "parser.add_argument('--help', '-h', action='help')\n",
    "args = parser.parse_args(\n",
    "    cmd_str.rstrip().split()\n",
    ")\n",
    "\n",
    "args = boda.common.utils.organize_args(parser, args)\n",
    "\n"
   ]
  },
  {
   "cell_type": "code",
   "execution_count": 13,
   "metadata": {},
   "outputs": [
    {
     "data": {
      "text/plain": [
       "{'positional arguments': Namespace(),\n",
       " 'optional arguments': Namespace(help=None),\n",
       " 'Main args': Namespace(artifact_path='gs://syrgoth/aip_ui_test', data_module='BODA2_DataModule', graph_module='CNNTransferLearning', model_module='Basset', pretrained_weights=None),\n",
       " 'Data Module args': Namespace(activity_columns=['K562', 'HepG2.neon', 'SKNSH'], batch_size=4096, datafile_path='gs://syrgoth/data/BODA.MPRA.txt', num_workers=1, padded_seq_len=600, sequence_column='nt.sequence', test_pct=5.0, valid_pct=5.0),\n",
       " 'Model Module args': Namespace(conv1_channels=300, conv1_kernel_size=19, conv2_channels=200, conv2_kernel_size=11, conv3_channels=200, conv3_kernel_size=7, dropout_p=0.3, linear1_channels=1000, linear2_channels=1000, loss_criterion='MSELoss', n_outputs=3, use_batch_norm=True, use_weight_norm=False),\n",
       " 'Graph Module args': Namespace(frozen_epochs=120, optimizer='AdamW', parent_weights='gs://syrgoth/my-model.epoch_5-step_19885.pkl', scheduler=None, scheduler_interval='epoch', scheduler_monitor=None),\n",
       " 'Optimizer args': Namespace(amsgrad=False, beta1=0.9, beta2=0.999, eps=1e-08, lr=0.001, weight_decay=0.0),\n",
       " 'pl.Trainer': Namespace(accelerator=None, accumulate_grad_batches=1, amp_backend='native', amp_level='O2', auto_lr_find=False, auto_scale_batch_size=False, auto_select_gpus=False, benchmark=False, check_val_every_n_epoch=1, checkpoint_callback=True, default_root_dir='/tmp/output/artifacts', deterministic=False, distributed_backend=None, fast_dev_run=False, flush_logs_every_n_steps=100, gpus=1, gradient_clip_algorithm='norm', gradient_clip_val=0.0, limit_predict_batches=1.0, limit_test_batches=1.0, limit_train_batches=1.0, limit_val_batches=1.0, log_every_n_steps=50, log_gpu_memory=None, logger=True, max_epochs=140, max_steps=None, max_time=None, min_epochs=140, min_steps=None, move_metrics_to_cpu=False, multiple_trainloader_mode='max_size_cycle', num_nodes=1, num_processes=1, num_sanity_val_steps=2, overfit_batches=0.0, plugins=None, precision=16, prepare_data_per_node=True, process_position=0, profiler=None, progress_bar_refresh_rate=None, reload_dataloaders_every_epoch=False, replace_sampler_ddp=True, resume_from_checkpoint=None, stochastic_weight_avg=False, sync_batchnorm=False, terminate_on_nan=False, tpu_cores=None, track_grad_norm=-1, truncated_bptt_steps=None, val_check_interval=1.0, weights_save_path=None, weights_summary='top')}"
      ]
     },
     "execution_count": 13,
     "metadata": {},
     "output_type": "execute_result"
    }
   ],
   "source": [
    "args"
   ]
  },
  {
   "cell_type": "markdown",
   "metadata": {},
   "source": [
    "# Run training\n",
    "use modified `main` runner."
   ]
  },
  {
   "cell_type": "code",
   "execution_count": 14,
   "metadata": {
    "scrolled": true
   },
   "outputs": [
    {
     "name": "stderr",
     "output_type": "stream",
     "text": [
      "GPU available: True, used: True\n",
      "TPU available: False, using: 0 TPU cores\n",
      "Using native 16bit precision.\n"
     ]
    },
    {
     "name": "stdout",
     "output_type": "stream",
     "text": [
      "Padding sequences and converting to one-hot tensors...\n",
      "10000/27719 sequences padded and tokenized...\n",
      "20000/27719 sequences padded and tokenized...\n"
     ]
    },
    {
     "name": "stderr",
     "output_type": "stream",
     "text": [
      "Key conv1.conv.weight successfully matched\n",
      "Key conv1.conv.bias successfully matched\n",
      "Key conv1.bn_layer.weight successfully matched\n",
      "Key conv1.bn_layer.bias successfully matched\n",
      "Key conv1.bn_layer.running_mean successfully matched\n",
      "Key conv1.bn_layer.running_var successfully matched\n",
      "Key conv1.bn_layer.num_batches_tracked successfully matched\n",
      "Key conv2.conv.weight successfully matched\n",
      "Key conv2.conv.bias successfully matched\n",
      "Key conv2.bn_layer.weight successfully matched\n",
      "Key conv2.bn_layer.bias successfully matched\n",
      "Key conv2.bn_layer.running_mean successfully matched\n",
      "Key conv2.bn_layer.running_var successfully matched\n",
      "Key conv2.bn_layer.num_batches_tracked successfully matched\n",
      "Key conv3.conv.weight successfully matched\n",
      "Key conv3.conv.bias successfully matched\n",
      "Key conv3.bn_layer.weight successfully matched\n",
      "Key conv3.bn_layer.bias successfully matched\n",
      "Key conv3.bn_layer.running_mean successfully matched\n",
      "Key conv3.bn_layer.running_var successfully matched\n",
      "Key conv3.bn_layer.num_batches_tracked successfully matched\n",
      "Key linear1.linear.weight successfully matched\n",
      "Key linear1.linear.bias successfully matched\n",
      "Key linear1.bn_layer.weight successfully matched\n",
      "Key linear1.bn_layer.bias successfully matched\n",
      "Key linear1.bn_layer.running_mean successfully matched\n",
      "Key linear1.bn_layer.running_var successfully matched\n",
      "Key linear1.bn_layer.num_batches_tracked successfully matched\n",
      "Key linear2.linear.weight successfully matched\n",
      "Key linear2.linear.bias successfully matched\n",
      "Key linear2.bn_layer.weight successfully matched\n",
      "Key linear2.bn_layer.bias successfully matched\n",
      "Key linear2.bn_layer.running_mean successfully matched\n",
      "Key linear2.bn_layer.running_var successfully matched\n",
      "Key linear2.bn_layer.num_batches_tracked successfully matched\n",
      "Size mismatch for key: output.weight, expected size torch.Size([3, 1000]), got torch.Size([280, 1000])\n",
      "Size mismatch for key: output.bias, expected size torch.Size([3]), got torch.Size([280])\n",
      "LOCAL_RANK: 0 - CUDA_VISIBLE_DEVICES: [0]\n",
      "\n",
      "   | Name      | Type          | Params\n",
      "---------------------------------------------\n",
      "0  | pad1      | ConstantPad1d | 0     \n",
      "1  | conv1     | Conv1dNorm    | 23.7 K\n",
      "2  | pad2      | ConstantPad1d | 0     \n",
      "3  | conv2     | Conv1dNorm    | 660 K \n",
      "4  | pad3      | ConstantPad1d | 0     \n",
      "5  | conv3     | Conv1dNorm    | 280 K \n",
      "6  | pad4      | ConstantPad1d | 0     \n",
      "7  | maxpool_3 | MaxPool1d     | 0     \n",
      "8  | maxpool_4 | MaxPool1d     | 0     \n",
      "9  | linear1   | LinearNorm    | 2.6 M \n",
      "10 | linear2   | LinearNorm    | 1.0 M \n",
      "11 | output    | Linear        | 3.0 K \n",
      "12 | nonlin    | ReLU          | 0     \n",
      "13 | dropout   | Dropout       | 0     \n",
      "14 | criterion | MSELoss       | 0     \n",
      "---------------------------------------------\n",
      "4.6 M     Trainable params\n",
      "0         Non-trainable params\n",
      "4.6 M     Total params\n",
      "18.296    Total estimated model params size (MB)\n"
     ]
    },
    {
     "name": "stdout",
     "output_type": "stream",
     "text": [
      "Found 4573903 parameters\n"
     ]
    },
    {
     "data": {
      "application/vnd.jupyter.widget-view+json": {
       "model_id": "",
       "version_major": 2,
       "version_minor": 0
      },
      "text/plain": [
       "Validation sanity check: 0it [00:00, ?it/s]"
      ]
     },
     "metadata": {},
     "output_type": "display_data"
    },
    {
     "name": "stderr",
     "output_type": "stream",
     "text": [
      "/opt/conda/lib/python3.7/site-packages/pytorch_lightning/utilities/distributed.py:69: UserWarning: The dataloader, val dataloader 0, does not have many workers which may be a bottleneck. Consider increasing the value of the `num_workers` argument` (try 8 which is the number of cpus on this machine) in the `DataLoader` init to improve performance.\n",
      "  warnings.warn(*args, **kwargs)\n"
     ]
    },
    {
     "name": "stdout",
     "output_type": "stream",
     "text": [
      "\n",
      "-----------------------------------------------------------------------------------------------------------------------------------\n",
      "| arithmetic_mean_loss: 1.51637 | harmonic_mean_loss: 1.43680 | prediction_mean_pearson: 0.05918 | entropy_mean_pearson: -0.00628 |\n",
      "-----------------------------------------------------------------------------------------------------------------------------------\n",
      "\n"
     ]
    },
    {
     "name": "stderr",
     "output_type": "stream",
     "text": [
      "/opt/conda/lib/python3.7/site-packages/pytorch_lightning/utilities/distributed.py:69: UserWarning: The dataloader, train dataloader, does not have many workers which may be a bottleneck. Consider increasing the value of the `num_workers` argument` (try 8 which is the number of cpus on this machine) in the `DataLoader` init to improve performance.\n",
      "  warnings.warn(*args, **kwargs)\n"
     ]
    },
    {
     "data": {
      "application/vnd.jupyter.widget-view+json": {
       "model_id": "9413c3e1b19541ce83d7244ff942c230",
       "version_major": 2,
       "version_minor": 0
      },
      "text/plain": [
       "Training: 0it [00:00, ?it/s]"
      ]
     },
     "metadata": {},
     "output_type": "display_data"
    },
    {
     "name": "stdout",
     "output_type": "stream",
     "text": [
      "starting epoch 0\n"
     ]
    },
    {
     "data": {
      "application/vnd.jupyter.widget-view+json": {
       "model_id": "",
       "version_major": 2,
       "version_minor": 0
      },
      "text/plain": [
       "Validating: 0it [00:00, ?it/s]"
      ]
     },
     "metadata": {},
     "output_type": "display_data"
    },
    {
     "name": "stdout",
     "output_type": "stream",
     "text": [
      "\n",
      "----------------------------------------------------------------------------------------------------------------------------------\n",
      "| arithmetic_mean_loss: 1.43346 | harmonic_mean_loss: 1.35362 | prediction_mean_pearson: 0.09818 | entropy_mean_pearson: 0.00741 |\n",
      "----------------------------------------------------------------------------------------------------------------------------------\n",
      "\n",
      "starting epoch 1\n"
     ]
    },
    {
     "data": {
      "application/vnd.jupyter.widget-view+json": {
       "model_id": "",
       "version_major": 2,
       "version_minor": 0
      },
      "text/plain": [
       "Validating: 0it [00:00, ?it/s]"
      ]
     },
     "metadata": {},
     "output_type": "display_data"
    },
    {
     "name": "stdout",
     "output_type": "stream",
     "text": [
      "\n",
      "----------------------------------------------------------------------------------------------------------------------------------\n",
      "| arithmetic_mean_loss: 1.34976 | harmonic_mean_loss: 1.27468 | prediction_mean_pearson: 0.07254 | entropy_mean_pearson: 0.00625 |\n",
      "----------------------------------------------------------------------------------------------------------------------------------\n",
      "\n",
      "starting epoch 2\n"
     ]
    },
    {
     "data": {
      "application/vnd.jupyter.widget-view+json": {
       "model_id": "",
       "version_major": 2,
       "version_minor": 0
      },
      "text/plain": [
       "Validating: 0it [00:00, ?it/s]"
      ]
     },
     "metadata": {},
     "output_type": "display_data"
    },
    {
     "name": "stdout",
     "output_type": "stream",
     "text": [
      "\n",
      "----------------------------------------------------------------------------------------------------------------------------------\n",
      "| arithmetic_mean_loss: 1.33032 | harmonic_mean_loss: 1.25972 | prediction_mean_pearson: 0.05970 | entropy_mean_pearson: 0.00960 |\n",
      "----------------------------------------------------------------------------------------------------------------------------------\n",
      "\n",
      "starting epoch 3\n"
     ]
    },
    {
     "data": {
      "application/vnd.jupyter.widget-view+json": {
       "model_id": "",
       "version_major": 2,
       "version_minor": 0
      },
      "text/plain": [
       "Validating: 0it [00:00, ?it/s]"
      ]
     },
     "metadata": {},
     "output_type": "display_data"
    },
    {
     "name": "stdout",
     "output_type": "stream",
     "text": [
      "\n",
      "----------------------------------------------------------------------------------------------------------------------------------\n",
      "| arithmetic_mean_loss: 1.32707 | harmonic_mean_loss: 1.25683 | prediction_mean_pearson: 0.07131 | entropy_mean_pearson: 0.01155 |\n",
      "----------------------------------------------------------------------------------------------------------------------------------\n",
      "\n",
      "starting epoch 4\n"
     ]
    },
    {
     "data": {
      "application/vnd.jupyter.widget-view+json": {
       "model_id": "",
       "version_major": 2,
       "version_minor": 0
      },
      "text/plain": [
       "Validating: 0it [00:00, ?it/s]"
      ]
     },
     "metadata": {},
     "output_type": "display_data"
    },
    {
     "name": "stdout",
     "output_type": "stream",
     "text": [
      "\n",
      "----------------------------------------------------------------------------------------------------------------------------------\n",
      "| arithmetic_mean_loss: 1.32444 | harmonic_mean_loss: 1.25455 | prediction_mean_pearson: 0.09272 | entropy_mean_pearson: 0.00746 |\n",
      "----------------------------------------------------------------------------------------------------------------------------------\n",
      "\n",
      "starting epoch 5\n"
     ]
    },
    {
     "data": {
      "application/vnd.jupyter.widget-view+json": {
       "model_id": "",
       "version_major": 2,
       "version_minor": 0
      },
      "text/plain": [
       "Validating: 0it [00:00, ?it/s]"
      ]
     },
     "metadata": {},
     "output_type": "display_data"
    },
    {
     "name": "stdout",
     "output_type": "stream",
     "text": [
      "\n",
      "----------------------------------------------------------------------------------------------------------------------------------\n",
      "| arithmetic_mean_loss: 1.32315 | harmonic_mean_loss: 1.25372 | prediction_mean_pearson: 0.11189 | entropy_mean_pearson: 0.01157 |\n",
      "----------------------------------------------------------------------------------------------------------------------------------\n",
      "\n",
      "starting epoch 6\n"
     ]
    },
    {
     "data": {
      "application/vnd.jupyter.widget-view+json": {
       "model_id": "",
       "version_major": 2,
       "version_minor": 0
      },
      "text/plain": [
       "Validating: 0it [00:00, ?it/s]"
      ]
     },
     "metadata": {},
     "output_type": "display_data"
    },
    {
     "name": "stdout",
     "output_type": "stream",
     "text": [
      "\n",
      "----------------------------------------------------------------------------------------------------------------------------------\n",
      "| arithmetic_mean_loss: 1.32047 | harmonic_mean_loss: 1.25071 | prediction_mean_pearson: 0.12321 | entropy_mean_pearson: 0.01643 |\n",
      "----------------------------------------------------------------------------------------------------------------------------------\n",
      "\n",
      "starting epoch 7\n"
     ]
    },
    {
     "data": {
      "application/vnd.jupyter.widget-view+json": {
       "model_id": "",
       "version_major": 2,
       "version_minor": 0
      },
      "text/plain": [
       "Validating: 0it [00:00, ?it/s]"
      ]
     },
     "metadata": {},
     "output_type": "display_data"
    },
    {
     "name": "stdout",
     "output_type": "stream",
     "text": [
      "\n",
      "----------------------------------------------------------------------------------------------------------------------------------\n",
      "| arithmetic_mean_loss: 1.31638 | harmonic_mean_loss: 1.24619 | prediction_mean_pearson: 0.12978 | entropy_mean_pearson: 0.00850 |\n",
      "----------------------------------------------------------------------------------------------------------------------------------\n",
      "\n",
      "starting epoch 8\n"
     ]
    },
    {
     "data": {
      "application/vnd.jupyter.widget-view+json": {
       "model_id": "",
       "version_major": 2,
       "version_minor": 0
      },
      "text/plain": [
       "Validating: 0it [00:00, ?it/s]"
      ]
     },
     "metadata": {},
     "output_type": "display_data"
    },
    {
     "name": "stdout",
     "output_type": "stream",
     "text": [
      "\n",
      "----------------------------------------------------------------------------------------------------------------------------------\n",
      "| arithmetic_mean_loss: 1.31295 | harmonic_mean_loss: 1.24283 | prediction_mean_pearson: 0.13715 | entropy_mean_pearson: 0.00858 |\n",
      "----------------------------------------------------------------------------------------------------------------------------------\n",
      "\n",
      "starting epoch 9\n"
     ]
    },
    {
     "data": {
      "application/vnd.jupyter.widget-view+json": {
       "model_id": "",
       "version_major": 2,
       "version_minor": 0
      },
      "text/plain": [
       "Validating: 0it [00:00, ?it/s]"
      ]
     },
     "metadata": {},
     "output_type": "display_data"
    },
    {
     "name": "stdout",
     "output_type": "stream",
     "text": [
      "\n",
      "----------------------------------------------------------------------------------------------------------------------------------\n",
      "| arithmetic_mean_loss: 1.31027 | harmonic_mean_loss: 1.24040 | prediction_mean_pearson: 0.14571 | entropy_mean_pearson: 0.00809 |\n",
      "----------------------------------------------------------------------------------------------------------------------------------\n",
      "\n",
      "starting epoch 10\n"
     ]
    },
    {
     "data": {
      "application/vnd.jupyter.widget-view+json": {
       "model_id": "",
       "version_major": 2,
       "version_minor": 0
      },
      "text/plain": [
       "Validating: 0it [00:00, ?it/s]"
      ]
     },
     "metadata": {},
     "output_type": "display_data"
    },
    {
     "name": "stdout",
     "output_type": "stream",
     "text": [
      "\n",
      "----------------------------------------------------------------------------------------------------------------------------------\n",
      "| arithmetic_mean_loss: 1.30883 | harmonic_mean_loss: 1.23933 | prediction_mean_pearson: 0.15455 | entropy_mean_pearson: 0.00843 |\n",
      "----------------------------------------------------------------------------------------------------------------------------------\n",
      "\n",
      "starting epoch 11\n"
     ]
    },
    {
     "data": {
      "application/vnd.jupyter.widget-view+json": {
       "model_id": "",
       "version_major": 2,
       "version_minor": 0
      },
      "text/plain": [
       "Validating: 0it [00:00, ?it/s]"
      ]
     },
     "metadata": {},
     "output_type": "display_data"
    },
    {
     "name": "stdout",
     "output_type": "stream",
     "text": [
      "\n",
      "----------------------------------------------------------------------------------------------------------------------------------\n",
      "| arithmetic_mean_loss: 1.30680 | harmonic_mean_loss: 1.23748 | prediction_mean_pearson: 0.15970 | entropy_mean_pearson: 0.01404 |\n",
      "----------------------------------------------------------------------------------------------------------------------------------\n",
      "\n",
      "starting epoch 12\n"
     ]
    },
    {
     "data": {
      "application/vnd.jupyter.widget-view+json": {
       "model_id": "",
       "version_major": 2,
       "version_minor": 0
      },
      "text/plain": [
       "Validating: 0it [00:00, ?it/s]"
      ]
     },
     "metadata": {},
     "output_type": "display_data"
    },
    {
     "name": "stdout",
     "output_type": "stream",
     "text": [
      "\n",
      "----------------------------------------------------------------------------------------------------------------------------------\n",
      "| arithmetic_mean_loss: 1.30450 | harmonic_mean_loss: 1.23508 | prediction_mean_pearson: 0.16475 | entropy_mean_pearson: 0.01154 |\n",
      "----------------------------------------------------------------------------------------------------------------------------------\n",
      "\n",
      "starting epoch 13\n"
     ]
    },
    {
     "data": {
      "application/vnd.jupyter.widget-view+json": {
       "model_id": "",
       "version_major": 2,
       "version_minor": 0
      },
      "text/plain": [
       "Validating: 0it [00:00, ?it/s]"
      ]
     },
     "metadata": {},
     "output_type": "display_data"
    },
    {
     "name": "stdout",
     "output_type": "stream",
     "text": [
      "\n",
      "----------------------------------------------------------------------------------------------------------------------------------\n",
      "| arithmetic_mean_loss: 1.30209 | harmonic_mean_loss: 1.23265 | prediction_mean_pearson: 0.16796 | entropy_mean_pearson: 0.01181 |\n",
      "----------------------------------------------------------------------------------------------------------------------------------\n",
      "\n",
      "starting epoch 14\n"
     ]
    },
    {
     "data": {
      "application/vnd.jupyter.widget-view+json": {
       "model_id": "",
       "version_major": 2,
       "version_minor": 0
      },
      "text/plain": [
       "Validating: 0it [00:00, ?it/s]"
      ]
     },
     "metadata": {},
     "output_type": "display_data"
    },
    {
     "name": "stdout",
     "output_type": "stream",
     "text": [
      "\n",
      "----------------------------------------------------------------------------------------------------------------------------------\n",
      "| arithmetic_mean_loss: 1.30113 | harmonic_mean_loss: 1.23180 | prediction_mean_pearson: 0.17455 | entropy_mean_pearson: 0.00809 |\n",
      "----------------------------------------------------------------------------------------------------------------------------------\n",
      "\n",
      "starting epoch 15\n"
     ]
    },
    {
     "data": {
      "application/vnd.jupyter.widget-view+json": {
       "model_id": "",
       "version_major": 2,
       "version_minor": 0
      },
      "text/plain": [
       "Validating: 0it [00:00, ?it/s]"
      ]
     },
     "metadata": {},
     "output_type": "display_data"
    },
    {
     "name": "stdout",
     "output_type": "stream",
     "text": [
      "\n",
      "----------------------------------------------------------------------------------------------------------------------------------\n",
      "| arithmetic_mean_loss: 1.29993 | harmonic_mean_loss: 1.23065 | prediction_mean_pearson: 0.17948 | entropy_mean_pearson: 0.02172 |\n",
      "----------------------------------------------------------------------------------------------------------------------------------\n",
      "\n",
      "starting epoch 16\n"
     ]
    },
    {
     "data": {
      "application/vnd.jupyter.widget-view+json": {
       "model_id": "",
       "version_major": 2,
       "version_minor": 0
      },
      "text/plain": [
       "Validating: 0it [00:00, ?it/s]"
      ]
     },
     "metadata": {},
     "output_type": "display_data"
    },
    {
     "name": "stdout",
     "output_type": "stream",
     "text": [
      "\n",
      "----------------------------------------------------------------------------------------------------------------------------------\n",
      "| arithmetic_mean_loss: 1.29714 | harmonic_mean_loss: 1.22800 | prediction_mean_pearson: 0.18204 | entropy_mean_pearson: 0.02105 |\n",
      "----------------------------------------------------------------------------------------------------------------------------------\n",
      "\n",
      "starting epoch 17\n"
     ]
    },
    {
     "data": {
      "application/vnd.jupyter.widget-view+json": {
       "model_id": "",
       "version_major": 2,
       "version_minor": 0
      },
      "text/plain": [
       "Validating: 0it [00:00, ?it/s]"
      ]
     },
     "metadata": {},
     "output_type": "display_data"
    },
    {
     "name": "stdout",
     "output_type": "stream",
     "text": [
      "\n",
      "----------------------------------------------------------------------------------------------------------------------------------\n",
      "| arithmetic_mean_loss: 1.29487 | harmonic_mean_loss: 1.22598 | prediction_mean_pearson: 0.18334 | entropy_mean_pearson: 0.02358 |\n",
      "----------------------------------------------------------------------------------------------------------------------------------\n",
      "\n",
      "starting epoch 18\n"
     ]
    },
    {
     "data": {
      "application/vnd.jupyter.widget-view+json": {
       "model_id": "",
       "version_major": 2,
       "version_minor": 0
      },
      "text/plain": [
       "Validating: 0it [00:00, ?it/s]"
      ]
     },
     "metadata": {},
     "output_type": "display_data"
    },
    {
     "name": "stdout",
     "output_type": "stream",
     "text": [
      "\n",
      "----------------------------------------------------------------------------------------------------------------------------------\n",
      "| arithmetic_mean_loss: 1.29323 | harmonic_mean_loss: 1.22447 | prediction_mean_pearson: 0.18605 | entropy_mean_pearson: 0.02216 |\n",
      "----------------------------------------------------------------------------------------------------------------------------------\n",
      "\n",
      "starting epoch 19\n"
     ]
    },
    {
     "data": {
      "application/vnd.jupyter.widget-view+json": {
       "model_id": "",
       "version_major": 2,
       "version_minor": 0
      },
      "text/plain": [
       "Validating: 0it [00:00, ?it/s]"
      ]
     },
     "metadata": {},
     "output_type": "display_data"
    },
    {
     "name": "stdout",
     "output_type": "stream",
     "text": [
      "\n",
      "----------------------------------------------------------------------------------------------------------------------------------\n",
      "| arithmetic_mean_loss: 1.29245 | harmonic_mean_loss: 1.22386 | prediction_mean_pearson: 0.19051 | entropy_mean_pearson: 0.02391 |\n",
      "----------------------------------------------------------------------------------------------------------------------------------\n",
      "\n",
      "starting epoch 20\n"
     ]
    },
    {
     "data": {
      "application/vnd.jupyter.widget-view+json": {
       "model_id": "",
       "version_major": 2,
       "version_minor": 0
      },
      "text/plain": [
       "Validating: 0it [00:00, ?it/s]"
      ]
     },
     "metadata": {},
     "output_type": "display_data"
    },
    {
     "name": "stdout",
     "output_type": "stream",
     "text": [
      "\n",
      "----------------------------------------------------------------------------------------------------------------------------------\n",
      "| arithmetic_mean_loss: 1.29134 | harmonic_mean_loss: 1.22282 | prediction_mean_pearson: 0.19342 | entropy_mean_pearson: 0.02791 |\n",
      "----------------------------------------------------------------------------------------------------------------------------------\n",
      "\n",
      "starting epoch 21\n"
     ]
    },
    {
     "data": {
      "application/vnd.jupyter.widget-view+json": {
       "model_id": "",
       "version_major": 2,
       "version_minor": 0
      },
      "text/plain": [
       "Validating: 0it [00:00, ?it/s]"
      ]
     },
     "metadata": {},
     "output_type": "display_data"
    },
    {
     "name": "stdout",
     "output_type": "stream",
     "text": [
      "\n",
      "----------------------------------------------------------------------------------------------------------------------------------\n",
      "| arithmetic_mean_loss: 1.29073 | harmonic_mean_loss: 1.22220 | prediction_mean_pearson: 0.19746 | entropy_mean_pearson: 0.02538 |\n",
      "----------------------------------------------------------------------------------------------------------------------------------\n",
      "\n",
      "starting epoch 22\n"
     ]
    },
    {
     "data": {
      "application/vnd.jupyter.widget-view+json": {
       "model_id": "",
       "version_major": 2,
       "version_minor": 0
      },
      "text/plain": [
       "Validating: 0it [00:00, ?it/s]"
      ]
     },
     "metadata": {},
     "output_type": "display_data"
    },
    {
     "name": "stdout",
     "output_type": "stream",
     "text": [
      "\n",
      "----------------------------------------------------------------------------------------------------------------------------------\n",
      "| arithmetic_mean_loss: 1.28837 | harmonic_mean_loss: 1.21992 | prediction_mean_pearson: 0.19809 | entropy_mean_pearson: 0.02070 |\n",
      "----------------------------------------------------------------------------------------------------------------------------------\n",
      "\n",
      "starting epoch 23\n"
     ]
    },
    {
     "data": {
      "application/vnd.jupyter.widget-view+json": {
       "model_id": "",
       "version_major": 2,
       "version_minor": 0
      },
      "text/plain": [
       "Validating: 0it [00:00, ?it/s]"
      ]
     },
     "metadata": {},
     "output_type": "display_data"
    },
    {
     "name": "stdout",
     "output_type": "stream",
     "text": [
      "\n",
      "----------------------------------------------------------------------------------------------------------------------------------\n",
      "| arithmetic_mean_loss: 1.28651 | harmonic_mean_loss: 1.21829 | prediction_mean_pearson: 0.19885 | entropy_mean_pearson: 0.02491 |\n",
      "----------------------------------------------------------------------------------------------------------------------------------\n",
      "\n",
      "starting epoch 24\n"
     ]
    },
    {
     "data": {
      "application/vnd.jupyter.widget-view+json": {
       "model_id": "",
       "version_major": 2,
       "version_minor": 0
      },
      "text/plain": [
       "Validating: 0it [00:00, ?it/s]"
      ]
     },
     "metadata": {},
     "output_type": "display_data"
    },
    {
     "name": "stdout",
     "output_type": "stream",
     "text": [
      "\n",
      "----------------------------------------------------------------------------------------------------------------------------------\n",
      "| arithmetic_mean_loss: 1.28590 | harmonic_mean_loss: 1.21793 | prediction_mean_pearson: 0.20005 | entropy_mean_pearson: 0.02603 |\n",
      "----------------------------------------------------------------------------------------------------------------------------------\n",
      "\n",
      "starting epoch 25\n"
     ]
    },
    {
     "data": {
      "application/vnd.jupyter.widget-view+json": {
       "model_id": "",
       "version_major": 2,
       "version_minor": 0
      },
      "text/plain": [
       "Validating: 0it [00:00, ?it/s]"
      ]
     },
     "metadata": {},
     "output_type": "display_data"
    },
    {
     "name": "stdout",
     "output_type": "stream",
     "text": [
      "\n",
      "----------------------------------------------------------------------------------------------------------------------------------\n",
      "| arithmetic_mean_loss: 1.28537 | harmonic_mean_loss: 1.21754 | prediction_mean_pearson: 0.20187 | entropy_mean_pearson: 0.02879 |\n",
      "----------------------------------------------------------------------------------------------------------------------------------\n",
      "\n",
      "starting epoch 26\n"
     ]
    },
    {
     "data": {
      "application/vnd.jupyter.widget-view+json": {
       "model_id": "",
       "version_major": 2,
       "version_minor": 0
      },
      "text/plain": [
       "Validating: 0it [00:00, ?it/s]"
      ]
     },
     "metadata": {},
     "output_type": "display_data"
    },
    {
     "name": "stdout",
     "output_type": "stream",
     "text": [
      "\n",
      "----------------------------------------------------------------------------------------------------------------------------------\n",
      "| arithmetic_mean_loss: 1.28474 | harmonic_mean_loss: 1.21689 | prediction_mean_pearson: 0.20375 | entropy_mean_pearson: 0.02700 |\n",
      "----------------------------------------------------------------------------------------------------------------------------------\n",
      "\n",
      "starting epoch 27\n"
     ]
    },
    {
     "data": {
      "application/vnd.jupyter.widget-view+json": {
       "model_id": "",
       "version_major": 2,
       "version_minor": 0
      },
      "text/plain": [
       "Validating: 0it [00:00, ?it/s]"
      ]
     },
     "metadata": {},
     "output_type": "display_data"
    },
    {
     "name": "stdout",
     "output_type": "stream",
     "text": [
      "\n",
      "----------------------------------------------------------------------------------------------------------------------------------\n",
      "| arithmetic_mean_loss: 1.28352 | harmonic_mean_loss: 1.21563 | prediction_mean_pearson: 0.20414 | entropy_mean_pearson: 0.02778 |\n",
      "----------------------------------------------------------------------------------------------------------------------------------\n",
      "\n",
      "starting epoch 28\n"
     ]
    },
    {
     "data": {
      "application/vnd.jupyter.widget-view+json": {
       "model_id": "",
       "version_major": 2,
       "version_minor": 0
      },
      "text/plain": [
       "Validating: 0it [00:00, ?it/s]"
      ]
     },
     "metadata": {},
     "output_type": "display_data"
    },
    {
     "name": "stdout",
     "output_type": "stream",
     "text": [
      "\n",
      "----------------------------------------------------------------------------------------------------------------------------------\n",
      "| arithmetic_mean_loss: 1.28229 | harmonic_mean_loss: 1.21451 | prediction_mean_pearson: 0.20519 | entropy_mean_pearson: 0.03217 |\n",
      "----------------------------------------------------------------------------------------------------------------------------------\n",
      "\n",
      "starting epoch 29\n"
     ]
    },
    {
     "data": {
      "application/vnd.jupyter.widget-view+json": {
       "model_id": "",
       "version_major": 2,
       "version_minor": 0
      },
      "text/plain": [
       "Validating: 0it [00:00, ?it/s]"
      ]
     },
     "metadata": {},
     "output_type": "display_data"
    },
    {
     "name": "stdout",
     "output_type": "stream",
     "text": [
      "\n",
      "----------------------------------------------------------------------------------------------------------------------------------\n",
      "| arithmetic_mean_loss: 1.28189 | harmonic_mean_loss: 1.21426 | prediction_mean_pearson: 0.20777 | entropy_mean_pearson: 0.03457 |\n",
      "----------------------------------------------------------------------------------------------------------------------------------\n",
      "\n",
      "starting epoch 30\n"
     ]
    },
    {
     "data": {
      "application/vnd.jupyter.widget-view+json": {
       "model_id": "",
       "version_major": 2,
       "version_minor": 0
      },
      "text/plain": [
       "Validating: 0it [00:00, ?it/s]"
      ]
     },
     "metadata": {},
     "output_type": "display_data"
    },
    {
     "name": "stdout",
     "output_type": "stream",
     "text": [
      "\n",
      "----------------------------------------------------------------------------------------------------------------------------------\n",
      "| arithmetic_mean_loss: 1.28222 | harmonic_mean_loss: 1.21473 | prediction_mean_pearson: 0.20995 | entropy_mean_pearson: 0.03482 |\n",
      "----------------------------------------------------------------------------------------------------------------------------------\n",
      "\n",
      "starting epoch 31\n"
     ]
    },
    {
     "data": {
      "application/vnd.jupyter.widget-view+json": {
       "model_id": "",
       "version_major": 2,
       "version_minor": 0
      },
      "text/plain": [
       "Validating: 0it [00:00, ?it/s]"
      ]
     },
     "metadata": {},
     "output_type": "display_data"
    },
    {
     "name": "stdout",
     "output_type": "stream",
     "text": [
      "\n",
      "----------------------------------------------------------------------------------------------------------------------------------\n",
      "| arithmetic_mean_loss: 1.27989 | harmonic_mean_loss: 1.21227 | prediction_mean_pearson: 0.21033 | entropy_mean_pearson: 0.03218 |\n",
      "----------------------------------------------------------------------------------------------------------------------------------\n",
      "\n",
      "starting epoch 32\n"
     ]
    },
    {
     "data": {
      "application/vnd.jupyter.widget-view+json": {
       "model_id": "",
       "version_major": 2,
       "version_minor": 0
      },
      "text/plain": [
       "Validating: 0it [00:00, ?it/s]"
      ]
     },
     "metadata": {},
     "output_type": "display_data"
    },
    {
     "name": "stdout",
     "output_type": "stream",
     "text": [
      "\n",
      "----------------------------------------------------------------------------------------------------------------------------------\n",
      "| arithmetic_mean_loss: 1.27843 | harmonic_mean_loss: 1.21107 | prediction_mean_pearson: 0.20954 | entropy_mean_pearson: 0.03319 |\n",
      "----------------------------------------------------------------------------------------------------------------------------------\n",
      "\n",
      "starting epoch 33\n"
     ]
    },
    {
     "data": {
      "application/vnd.jupyter.widget-view+json": {
       "model_id": "",
       "version_major": 2,
       "version_minor": 0
      },
      "text/plain": [
       "Validating: 0it [00:00, ?it/s]"
      ]
     },
     "metadata": {},
     "output_type": "display_data"
    },
    {
     "name": "stdout",
     "output_type": "stream",
     "text": [
      "\n",
      "----------------------------------------------------------------------------------------------------------------------------------\n",
      "| arithmetic_mean_loss: 1.27845 | harmonic_mean_loss: 1.21124 | prediction_mean_pearson: 0.21163 | entropy_mean_pearson: 0.03583 |\n",
      "----------------------------------------------------------------------------------------------------------------------------------\n",
      "\n",
      "starting epoch 34\n"
     ]
    },
    {
     "data": {
      "application/vnd.jupyter.widget-view+json": {
       "model_id": "",
       "version_major": 2,
       "version_minor": 0
      },
      "text/plain": [
       "Validating: 0it [00:00, ?it/s]"
      ]
     },
     "metadata": {},
     "output_type": "display_data"
    },
    {
     "name": "stdout",
     "output_type": "stream",
     "text": [
      "\n",
      "----------------------------------------------------------------------------------------------------------------------------------\n",
      "| arithmetic_mean_loss: 1.27837 | harmonic_mean_loss: 1.21128 | prediction_mean_pearson: 0.21249 | entropy_mean_pearson: 0.03280 |\n",
      "----------------------------------------------------------------------------------------------------------------------------------\n",
      "\n",
      "starting epoch 35\n"
     ]
    },
    {
     "data": {
      "application/vnd.jupyter.widget-view+json": {
       "model_id": "",
       "version_major": 2,
       "version_minor": 0
      },
      "text/plain": [
       "Validating: 0it [00:00, ?it/s]"
      ]
     },
     "metadata": {},
     "output_type": "display_data"
    },
    {
     "name": "stdout",
     "output_type": "stream",
     "text": [
      "\n",
      "----------------------------------------------------------------------------------------------------------------------------------\n",
      "| arithmetic_mean_loss: 1.27678 | harmonic_mean_loss: 1.20966 | prediction_mean_pearson: 0.21349 | entropy_mean_pearson: 0.03603 |\n",
      "----------------------------------------------------------------------------------------------------------------------------------\n",
      "\n",
      "starting epoch 36\n"
     ]
    },
    {
     "data": {
      "application/vnd.jupyter.widget-view+json": {
       "model_id": "",
       "version_major": 2,
       "version_minor": 0
      },
      "text/plain": [
       "Validating: 0it [00:00, ?it/s]"
      ]
     },
     "metadata": {},
     "output_type": "display_data"
    },
    {
     "name": "stdout",
     "output_type": "stream",
     "text": [
      "\n",
      "----------------------------------------------------------------------------------------------------------------------------------\n",
      "| arithmetic_mean_loss: 1.27601 | harmonic_mean_loss: 1.20889 | prediction_mean_pearson: 0.21597 | entropy_mean_pearson: 0.03120 |\n",
      "----------------------------------------------------------------------------------------------------------------------------------\n",
      "\n",
      "starting epoch 37\n"
     ]
    },
    {
     "data": {
      "application/vnd.jupyter.widget-view+json": {
       "model_id": "",
       "version_major": 2,
       "version_minor": 0
      },
      "text/plain": [
       "Validating: 0it [00:00, ?it/s]"
      ]
     },
     "metadata": {},
     "output_type": "display_data"
    },
    {
     "name": "stdout",
     "output_type": "stream",
     "text": [
      "\n",
      "----------------------------------------------------------------------------------------------------------------------------------\n",
      "| arithmetic_mean_loss: 1.27588 | harmonic_mean_loss: 1.20885 | prediction_mean_pearson: 0.21820 | entropy_mean_pearson: 0.03221 |\n",
      "----------------------------------------------------------------------------------------------------------------------------------\n",
      "\n",
      "starting epoch 38\n"
     ]
    },
    {
     "data": {
      "application/vnd.jupyter.widget-view+json": {
       "model_id": "",
       "version_major": 2,
       "version_minor": 0
      },
      "text/plain": [
       "Validating: 0it [00:00, ?it/s]"
      ]
     },
     "metadata": {},
     "output_type": "display_data"
    },
    {
     "name": "stdout",
     "output_type": "stream",
     "text": [
      "\n",
      "----------------------------------------------------------------------------------------------------------------------------------\n",
      "| arithmetic_mean_loss: 1.27419 | harmonic_mean_loss: 1.20726 | prediction_mean_pearson: 0.21848 | entropy_mean_pearson: 0.03656 |\n",
      "----------------------------------------------------------------------------------------------------------------------------------\n",
      "\n",
      "starting epoch 39\n"
     ]
    },
    {
     "data": {
      "application/vnd.jupyter.widget-view+json": {
       "model_id": "",
       "version_major": 2,
       "version_minor": 0
      },
      "text/plain": [
       "Validating: 0it [00:00, ?it/s]"
      ]
     },
     "metadata": {},
     "output_type": "display_data"
    },
    {
     "name": "stdout",
     "output_type": "stream",
     "text": [
      "\n",
      "----------------------------------------------------------------------------------------------------------------------------------\n",
      "| arithmetic_mean_loss: 1.27345 | harmonic_mean_loss: 1.20665 | prediction_mean_pearson: 0.21955 | entropy_mean_pearson: 0.03675 |\n",
      "----------------------------------------------------------------------------------------------------------------------------------\n",
      "\n",
      "starting epoch 40\n"
     ]
    },
    {
     "data": {
      "application/vnd.jupyter.widget-view+json": {
       "model_id": "",
       "version_major": 2,
       "version_minor": 0
      },
      "text/plain": [
       "Validating: 0it [00:00, ?it/s]"
      ]
     },
     "metadata": {},
     "output_type": "display_data"
    },
    {
     "name": "stdout",
     "output_type": "stream",
     "text": [
      "\n",
      "----------------------------------------------------------------------------------------------------------------------------------\n",
      "| arithmetic_mean_loss: 1.27288 | harmonic_mean_loss: 1.20609 | prediction_mean_pearson: 0.22037 | entropy_mean_pearson: 0.03976 |\n",
      "----------------------------------------------------------------------------------------------------------------------------------\n",
      "\n",
      "starting epoch 41\n"
     ]
    },
    {
     "data": {
      "application/vnd.jupyter.widget-view+json": {
       "model_id": "",
       "version_major": 2,
       "version_minor": 0
      },
      "text/plain": [
       "Validating: 0it [00:00, ?it/s]"
      ]
     },
     "metadata": {},
     "output_type": "display_data"
    },
    {
     "name": "stdout",
     "output_type": "stream",
     "text": [
      "\n",
      "----------------------------------------------------------------------------------------------------------------------------------\n",
      "| arithmetic_mean_loss: 1.27200 | harmonic_mean_loss: 1.20530 | prediction_mean_pearson: 0.22049 | entropy_mean_pearson: 0.04378 |\n",
      "----------------------------------------------------------------------------------------------------------------------------------\n",
      "\n",
      "starting epoch 42\n"
     ]
    },
    {
     "data": {
      "application/vnd.jupyter.widget-view+json": {
       "model_id": "",
       "version_major": 2,
       "version_minor": 0
      },
      "text/plain": [
       "Validating: 0it [00:00, ?it/s]"
      ]
     },
     "metadata": {},
     "output_type": "display_data"
    },
    {
     "name": "stdout",
     "output_type": "stream",
     "text": [
      "\n",
      "----------------------------------------------------------------------------------------------------------------------------------\n",
      "| arithmetic_mean_loss: 1.27223 | harmonic_mean_loss: 1.20570 | prediction_mean_pearson: 0.22180 | entropy_mean_pearson: 0.04533 |\n",
      "----------------------------------------------------------------------------------------------------------------------------------\n",
      "\n",
      "starting epoch 43\n"
     ]
    },
    {
     "data": {
      "application/vnd.jupyter.widget-view+json": {
       "model_id": "",
       "version_major": 2,
       "version_minor": 0
      },
      "text/plain": [
       "Validating: 0it [00:00, ?it/s]"
      ]
     },
     "metadata": {},
     "output_type": "display_data"
    },
    {
     "name": "stdout",
     "output_type": "stream",
     "text": [
      "\n",
      "----------------------------------------------------------------------------------------------------------------------------------\n",
      "| arithmetic_mean_loss: 1.27220 | harmonic_mean_loss: 1.20576 | prediction_mean_pearson: 0.22317 | entropy_mean_pearson: 0.05157 |\n",
      "----------------------------------------------------------------------------------------------------------------------------------\n",
      "\n",
      "starting epoch 44\n"
     ]
    },
    {
     "data": {
      "application/vnd.jupyter.widget-view+json": {
       "model_id": "",
       "version_major": 2,
       "version_minor": 0
      },
      "text/plain": [
       "Validating: 0it [00:00, ?it/s]"
      ]
     },
     "metadata": {},
     "output_type": "display_data"
    },
    {
     "name": "stdout",
     "output_type": "stream",
     "text": [
      "\n",
      "----------------------------------------------------------------------------------------------------------------------------------\n",
      "| arithmetic_mean_loss: 1.27151 | harmonic_mean_loss: 1.20484 | prediction_mean_pearson: 0.22304 | entropy_mean_pearson: 0.04619 |\n",
      "----------------------------------------------------------------------------------------------------------------------------------\n",
      "\n",
      "starting epoch 45\n"
     ]
    },
    {
     "data": {
      "application/vnd.jupyter.widget-view+json": {
       "model_id": "",
       "version_major": 2,
       "version_minor": 0
      },
      "text/plain": [
       "Validating: 0it [00:00, ?it/s]"
      ]
     },
     "metadata": {},
     "output_type": "display_data"
    },
    {
     "name": "stdout",
     "output_type": "stream",
     "text": [
      "\n",
      "----------------------------------------------------------------------------------------------------------------------------------\n",
      "| arithmetic_mean_loss: 1.27068 | harmonic_mean_loss: 1.20423 | prediction_mean_pearson: 0.22232 | entropy_mean_pearson: 0.05113 |\n",
      "----------------------------------------------------------------------------------------------------------------------------------\n",
      "\n",
      "starting epoch 46\n"
     ]
    },
    {
     "data": {
      "application/vnd.jupyter.widget-view+json": {
       "model_id": "",
       "version_major": 2,
       "version_minor": 0
      },
      "text/plain": [
       "Validating: 0it [00:00, ?it/s]"
      ]
     },
     "metadata": {},
     "output_type": "display_data"
    },
    {
     "name": "stdout",
     "output_type": "stream",
     "text": [
      "\n",
      "----------------------------------------------------------------------------------------------------------------------------------\n",
      "| arithmetic_mean_loss: 1.27077 | harmonic_mean_loss: 1.20450 | prediction_mean_pearson: 0.22230 | entropy_mean_pearson: 0.04841 |\n",
      "----------------------------------------------------------------------------------------------------------------------------------\n",
      "\n",
      "starting epoch 47\n"
     ]
    },
    {
     "data": {
      "application/vnd.jupyter.widget-view+json": {
       "model_id": "",
       "version_major": 2,
       "version_minor": 0
      },
      "text/plain": [
       "Validating: 0it [00:00, ?it/s]"
      ]
     },
     "metadata": {},
     "output_type": "display_data"
    },
    {
     "name": "stdout",
     "output_type": "stream",
     "text": [
      "\n",
      "----------------------------------------------------------------------------------------------------------------------------------\n",
      "| arithmetic_mean_loss: 1.26941 | harmonic_mean_loss: 1.20311 | prediction_mean_pearson: 0.22272 | entropy_mean_pearson: 0.05501 |\n",
      "----------------------------------------------------------------------------------------------------------------------------------\n",
      "\n",
      "starting epoch 48\n"
     ]
    },
    {
     "data": {
      "application/vnd.jupyter.widget-view+json": {
       "model_id": "",
       "version_major": 2,
       "version_minor": 0
      },
      "text/plain": [
       "Validating: 0it [00:00, ?it/s]"
      ]
     },
     "metadata": {},
     "output_type": "display_data"
    },
    {
     "name": "stdout",
     "output_type": "stream",
     "text": [
      "\n",
      "----------------------------------------------------------------------------------------------------------------------------------\n",
      "| arithmetic_mean_loss: 1.26863 | harmonic_mean_loss: 1.20238 | prediction_mean_pearson: 0.22299 | entropy_mean_pearson: 0.05121 |\n",
      "----------------------------------------------------------------------------------------------------------------------------------\n",
      "\n",
      "starting epoch 49\n"
     ]
    },
    {
     "data": {
      "application/vnd.jupyter.widget-view+json": {
       "model_id": "",
       "version_major": 2,
       "version_minor": 0
      },
      "text/plain": [
       "Validating: 0it [00:00, ?it/s]"
      ]
     },
     "metadata": {},
     "output_type": "display_data"
    },
    {
     "name": "stdout",
     "output_type": "stream",
     "text": [
      "\n",
      "----------------------------------------------------------------------------------------------------------------------------------\n",
      "| arithmetic_mean_loss: 1.26837 | harmonic_mean_loss: 1.20217 | prediction_mean_pearson: 0.22559 | entropy_mean_pearson: 0.05616 |\n",
      "----------------------------------------------------------------------------------------------------------------------------------\n",
      "\n",
      "starting epoch 50\n"
     ]
    },
    {
     "data": {
      "application/vnd.jupyter.widget-view+json": {
       "model_id": "",
       "version_major": 2,
       "version_minor": 0
      },
      "text/plain": [
       "Validating: 0it [00:00, ?it/s]"
      ]
     },
     "metadata": {},
     "output_type": "display_data"
    },
    {
     "name": "stdout",
     "output_type": "stream",
     "text": [
      "\n",
      "----------------------------------------------------------------------------------------------------------------------------------\n",
      "| arithmetic_mean_loss: 1.26720 | harmonic_mean_loss: 1.20112 | prediction_mean_pearson: 0.22749 | entropy_mean_pearson: 0.05593 |\n",
      "----------------------------------------------------------------------------------------------------------------------------------\n",
      "\n",
      "starting epoch 51\n"
     ]
    },
    {
     "data": {
      "application/vnd.jupyter.widget-view+json": {
       "model_id": "",
       "version_major": 2,
       "version_minor": 0
      },
      "text/plain": [
       "Validating: 0it [00:00, ?it/s]"
      ]
     },
     "metadata": {},
     "output_type": "display_data"
    },
    {
     "name": "stdout",
     "output_type": "stream",
     "text": [
      "\n",
      "----------------------------------------------------------------------------------------------------------------------------------\n",
      "| arithmetic_mean_loss: 1.26630 | harmonic_mean_loss: 1.20023 | prediction_mean_pearson: 0.22802 | entropy_mean_pearson: 0.05152 |\n",
      "----------------------------------------------------------------------------------------------------------------------------------\n",
      "\n",
      "starting epoch 52\n"
     ]
    },
    {
     "data": {
      "application/vnd.jupyter.widget-view+json": {
       "model_id": "",
       "version_major": 2,
       "version_minor": 0
      },
      "text/plain": [
       "Validating: 0it [00:00, ?it/s]"
      ]
     },
     "metadata": {},
     "output_type": "display_data"
    },
    {
     "name": "stdout",
     "output_type": "stream",
     "text": [
      "\n",
      "----------------------------------------------------------------------------------------------------------------------------------\n",
      "| arithmetic_mean_loss: 1.26573 | harmonic_mean_loss: 1.19980 | prediction_mean_pearson: 0.22933 | entropy_mean_pearson: 0.05163 |\n",
      "----------------------------------------------------------------------------------------------------------------------------------\n",
      "\n",
      "starting epoch 53\n"
     ]
    },
    {
     "data": {
      "application/vnd.jupyter.widget-view+json": {
       "model_id": "",
       "version_major": 2,
       "version_minor": 0
      },
      "text/plain": [
       "Validating: 0it [00:00, ?it/s]"
      ]
     },
     "metadata": {},
     "output_type": "display_data"
    },
    {
     "name": "stdout",
     "output_type": "stream",
     "text": [
      "\n",
      "----------------------------------------------------------------------------------------------------------------------------------\n",
      "| arithmetic_mean_loss: 1.26566 | harmonic_mean_loss: 1.19986 | prediction_mean_pearson: 0.22974 | entropy_mean_pearson: 0.05714 |\n",
      "----------------------------------------------------------------------------------------------------------------------------------\n",
      "\n",
      "starting epoch 54\n"
     ]
    },
    {
     "data": {
      "application/vnd.jupyter.widget-view+json": {
       "model_id": "",
       "version_major": 2,
       "version_minor": 0
      },
      "text/plain": [
       "Validating: 0it [00:00, ?it/s]"
      ]
     },
     "metadata": {},
     "output_type": "display_data"
    },
    {
     "name": "stdout",
     "output_type": "stream",
     "text": [
      "\n",
      "----------------------------------------------------------------------------------------------------------------------------------\n",
      "| arithmetic_mean_loss: 1.26691 | harmonic_mean_loss: 1.20090 | prediction_mean_pearson: 0.23003 | entropy_mean_pearson: 0.05294 |\n",
      "----------------------------------------------------------------------------------------------------------------------------------\n",
      "\n",
      "starting epoch 55\n"
     ]
    },
    {
     "data": {
      "application/vnd.jupyter.widget-view+json": {
       "model_id": "",
       "version_major": 2,
       "version_minor": 0
      },
      "text/plain": [
       "Validating: 0it [00:00, ?it/s]"
      ]
     },
     "metadata": {},
     "output_type": "display_data"
    },
    {
     "name": "stdout",
     "output_type": "stream",
     "text": [
      "\n",
      "----------------------------------------------------------------------------------------------------------------------------------\n",
      "| arithmetic_mean_loss: 1.26614 | harmonic_mean_loss: 1.20002 | prediction_mean_pearson: 0.23000 | entropy_mean_pearson: 0.04761 |\n",
      "----------------------------------------------------------------------------------------------------------------------------------\n",
      "\n",
      "starting epoch 56\n"
     ]
    },
    {
     "data": {
      "application/vnd.jupyter.widget-view+json": {
       "model_id": "",
       "version_major": 2,
       "version_minor": 0
      },
      "text/plain": [
       "Validating: 0it [00:00, ?it/s]"
      ]
     },
     "metadata": {},
     "output_type": "display_data"
    },
    {
     "name": "stdout",
     "output_type": "stream",
     "text": [
      "\n",
      "----------------------------------------------------------------------------------------------------------------------------------\n",
      "| arithmetic_mean_loss: 1.26517 | harmonic_mean_loss: 1.19939 | prediction_mean_pearson: 0.22914 | entropy_mean_pearson: 0.05990 |\n",
      "----------------------------------------------------------------------------------------------------------------------------------\n",
      "\n",
      "starting epoch 57\n"
     ]
    },
    {
     "data": {
      "application/vnd.jupyter.widget-view+json": {
       "model_id": "",
       "version_major": 2,
       "version_minor": 0
      },
      "text/plain": [
       "Validating: 0it [00:00, ?it/s]"
      ]
     },
     "metadata": {},
     "output_type": "display_data"
    },
    {
     "name": "stdout",
     "output_type": "stream",
     "text": [
      "\n",
      "----------------------------------------------------------------------------------------------------------------------------------\n",
      "| arithmetic_mean_loss: 1.26558 | harmonic_mean_loss: 1.19992 | prediction_mean_pearson: 0.23015 | entropy_mean_pearson: 0.05430 |\n",
      "----------------------------------------------------------------------------------------------------------------------------------\n",
      "\n",
      "starting epoch 58\n"
     ]
    },
    {
     "data": {
      "application/vnd.jupyter.widget-view+json": {
       "model_id": "",
       "version_major": 2,
       "version_minor": 0
      },
      "text/plain": [
       "Validating: 0it [00:00, ?it/s]"
      ]
     },
     "metadata": {},
     "output_type": "display_data"
    },
    {
     "name": "stdout",
     "output_type": "stream",
     "text": [
      "\n",
      "----------------------------------------------------------------------------------------------------------------------------------\n",
      "| arithmetic_mean_loss: 1.26571 | harmonic_mean_loss: 1.19993 | prediction_mean_pearson: 0.23076 | entropy_mean_pearson: 0.05609 |\n",
      "----------------------------------------------------------------------------------------------------------------------------------\n",
      "\n",
      "starting epoch 59\n"
     ]
    },
    {
     "data": {
      "application/vnd.jupyter.widget-view+json": {
       "model_id": "",
       "version_major": 2,
       "version_minor": 0
      },
      "text/plain": [
       "Validating: 0it [00:00, ?it/s]"
      ]
     },
     "metadata": {},
     "output_type": "display_data"
    },
    {
     "name": "stdout",
     "output_type": "stream",
     "text": [
      "\n",
      "----------------------------------------------------------------------------------------------------------------------------------\n",
      "| arithmetic_mean_loss: 1.26462 | harmonic_mean_loss: 1.19880 | prediction_mean_pearson: 0.23073 | entropy_mean_pearson: 0.05433 |\n",
      "----------------------------------------------------------------------------------------------------------------------------------\n",
      "\n",
      "starting epoch 60\n"
     ]
    },
    {
     "data": {
      "application/vnd.jupyter.widget-view+json": {
       "model_id": "",
       "version_major": 2,
       "version_minor": 0
      },
      "text/plain": [
       "Validating: 0it [00:00, ?it/s]"
      ]
     },
     "metadata": {},
     "output_type": "display_data"
    },
    {
     "name": "stdout",
     "output_type": "stream",
     "text": [
      "\n",
      "----------------------------------------------------------------------------------------------------------------------------------\n",
      "| arithmetic_mean_loss: 1.26494 | harmonic_mean_loss: 1.19926 | prediction_mean_pearson: 0.23090 | entropy_mean_pearson: 0.05555 |\n",
      "----------------------------------------------------------------------------------------------------------------------------------\n",
      "\n",
      "starting epoch 61\n"
     ]
    },
    {
     "data": {
      "application/vnd.jupyter.widget-view+json": {
       "model_id": "",
       "version_major": 2,
       "version_minor": 0
      },
      "text/plain": [
       "Validating: 0it [00:00, ?it/s]"
      ]
     },
     "metadata": {},
     "output_type": "display_data"
    },
    {
     "name": "stdout",
     "output_type": "stream",
     "text": [
      "\n",
      "----------------------------------------------------------------------------------------------------------------------------------\n",
      "| arithmetic_mean_loss: 1.26519 | harmonic_mean_loss: 1.19954 | prediction_mean_pearson: 0.23094 | entropy_mean_pearson: 0.05870 |\n",
      "----------------------------------------------------------------------------------------------------------------------------------\n",
      "\n",
      "starting epoch 62\n"
     ]
    },
    {
     "data": {
      "application/vnd.jupyter.widget-view+json": {
       "model_id": "",
       "version_major": 2,
       "version_minor": 0
      },
      "text/plain": [
       "Validating: 0it [00:00, ?it/s]"
      ]
     },
     "metadata": {},
     "output_type": "display_data"
    },
    {
     "name": "stdout",
     "output_type": "stream",
     "text": [
      "\n",
      "----------------------------------------------------------------------------------------------------------------------------------\n",
      "| arithmetic_mean_loss: 1.26423 | harmonic_mean_loss: 1.19871 | prediction_mean_pearson: 0.23096 | entropy_mean_pearson: 0.06205 |\n",
      "----------------------------------------------------------------------------------------------------------------------------------\n",
      "\n",
      "starting epoch 63\n"
     ]
    },
    {
     "data": {
      "application/vnd.jupyter.widget-view+json": {
       "model_id": "",
       "version_major": 2,
       "version_minor": 0
      },
      "text/plain": [
       "Validating: 0it [00:00, ?it/s]"
      ]
     },
     "metadata": {},
     "output_type": "display_data"
    },
    {
     "name": "stdout",
     "output_type": "stream",
     "text": [
      "\n",
      "----------------------------------------------------------------------------------------------------------------------------------\n",
      "| arithmetic_mean_loss: 1.26380 | harmonic_mean_loss: 1.19832 | prediction_mean_pearson: 0.23067 | entropy_mean_pearson: 0.06395 |\n",
      "----------------------------------------------------------------------------------------------------------------------------------\n",
      "\n",
      "starting epoch 64\n"
     ]
    },
    {
     "data": {
      "application/vnd.jupyter.widget-view+json": {
       "model_id": "",
       "version_major": 2,
       "version_minor": 0
      },
      "text/plain": [
       "Validating: 0it [00:00, ?it/s]"
      ]
     },
     "metadata": {},
     "output_type": "display_data"
    },
    {
     "name": "stdout",
     "output_type": "stream",
     "text": [
      "\n",
      "----------------------------------------------------------------------------------------------------------------------------------\n",
      "| arithmetic_mean_loss: 1.26472 | harmonic_mean_loss: 1.19926 | prediction_mean_pearson: 0.23105 | entropy_mean_pearson: 0.06437 |\n",
      "----------------------------------------------------------------------------------------------------------------------------------\n",
      "\n",
      "starting epoch 65\n"
     ]
    },
    {
     "data": {
      "application/vnd.jupyter.widget-view+json": {
       "model_id": "",
       "version_major": 2,
       "version_minor": 0
      },
      "text/plain": [
       "Validating: 0it [00:00, ?it/s]"
      ]
     },
     "metadata": {},
     "output_type": "display_data"
    },
    {
     "name": "stdout",
     "output_type": "stream",
     "text": [
      "\n",
      "----------------------------------------------------------------------------------------------------------------------------------\n",
      "| arithmetic_mean_loss: 1.26463 | harmonic_mean_loss: 1.19886 | prediction_mean_pearson: 0.23165 | entropy_mean_pearson: 0.05550 |\n",
      "----------------------------------------------------------------------------------------------------------------------------------\n",
      "\n",
      "starting epoch 66\n"
     ]
    },
    {
     "data": {
      "application/vnd.jupyter.widget-view+json": {
       "model_id": "",
       "version_major": 2,
       "version_minor": 0
      },
      "text/plain": [
       "Validating: 0it [00:00, ?it/s]"
      ]
     },
     "metadata": {},
     "output_type": "display_data"
    },
    {
     "name": "stdout",
     "output_type": "stream",
     "text": [
      "\n",
      "----------------------------------------------------------------------------------------------------------------------------------\n",
      "| arithmetic_mean_loss: 1.26427 | harmonic_mean_loss: 1.19838 | prediction_mean_pearson: 0.23163 | entropy_mean_pearson: 0.05352 |\n",
      "----------------------------------------------------------------------------------------------------------------------------------\n",
      "\n",
      "starting epoch 67\n"
     ]
    },
    {
     "data": {
      "application/vnd.jupyter.widget-view+json": {
       "model_id": "",
       "version_major": 2,
       "version_minor": 0
      },
      "text/plain": [
       "Validating: 0it [00:00, ?it/s]"
      ]
     },
     "metadata": {},
     "output_type": "display_data"
    },
    {
     "name": "stdout",
     "output_type": "stream",
     "text": [
      "\n",
      "----------------------------------------------------------------------------------------------------------------------------------\n",
      "| arithmetic_mean_loss: 1.26288 | harmonic_mean_loss: 1.19725 | prediction_mean_pearson: 0.23210 | entropy_mean_pearson: 0.05754 |\n",
      "----------------------------------------------------------------------------------------------------------------------------------\n",
      "\n",
      "starting epoch 68\n"
     ]
    },
    {
     "data": {
      "application/vnd.jupyter.widget-view+json": {
       "model_id": "",
       "version_major": 2,
       "version_minor": 0
      },
      "text/plain": [
       "Validating: 0it [00:00, ?it/s]"
      ]
     },
     "metadata": {},
     "output_type": "display_data"
    },
    {
     "name": "stdout",
     "output_type": "stream",
     "text": [
      "\n",
      "----------------------------------------------------------------------------------------------------------------------------------\n",
      "| arithmetic_mean_loss: 1.26218 | harmonic_mean_loss: 1.19679 | prediction_mean_pearson: 0.23223 | entropy_mean_pearson: 0.06228 |\n",
      "----------------------------------------------------------------------------------------------------------------------------------\n",
      "\n",
      "starting epoch 69\n"
     ]
    },
    {
     "data": {
      "application/vnd.jupyter.widget-view+json": {
       "model_id": "",
       "version_major": 2,
       "version_minor": 0
      },
      "text/plain": [
       "Validating: 0it [00:00, ?it/s]"
      ]
     },
     "metadata": {},
     "output_type": "display_data"
    },
    {
     "name": "stdout",
     "output_type": "stream",
     "text": [
      "\n",
      "----------------------------------------------------------------------------------------------------------------------------------\n",
      "| arithmetic_mean_loss: 1.26257 | harmonic_mean_loss: 1.19722 | prediction_mean_pearson: 0.23290 | entropy_mean_pearson: 0.06103 |\n",
      "----------------------------------------------------------------------------------------------------------------------------------\n",
      "\n",
      "starting epoch 70\n"
     ]
    },
    {
     "data": {
      "application/vnd.jupyter.widget-view+json": {
       "model_id": "",
       "version_major": 2,
       "version_minor": 0
      },
      "text/plain": [
       "Validating: 0it [00:00, ?it/s]"
      ]
     },
     "metadata": {},
     "output_type": "display_data"
    },
    {
     "name": "stdout",
     "output_type": "stream",
     "text": [
      "\n",
      "----------------------------------------------------------------------------------------------------------------------------------\n",
      "| arithmetic_mean_loss: 1.26284 | harmonic_mean_loss: 1.19753 | prediction_mean_pearson: 0.23311 | entropy_mean_pearson: 0.06153 |\n",
      "----------------------------------------------------------------------------------------------------------------------------------\n",
      "\n",
      "starting epoch 71\n"
     ]
    },
    {
     "data": {
      "application/vnd.jupyter.widget-view+json": {
       "model_id": "",
       "version_major": 2,
       "version_minor": 0
      },
      "text/plain": [
       "Validating: 0it [00:00, ?it/s]"
      ]
     },
     "metadata": {},
     "output_type": "display_data"
    },
    {
     "name": "stdout",
     "output_type": "stream",
     "text": [
      "\n",
      "----------------------------------------------------------------------------------------------------------------------------------\n",
      "| arithmetic_mean_loss: 1.26245 | harmonic_mean_loss: 1.19722 | prediction_mean_pearson: 0.23236 | entropy_mean_pearson: 0.06220 |\n",
      "----------------------------------------------------------------------------------------------------------------------------------\n",
      "\n",
      "starting epoch 72\n"
     ]
    },
    {
     "data": {
      "application/vnd.jupyter.widget-view+json": {
       "model_id": "",
       "version_major": 2,
       "version_minor": 0
      },
      "text/plain": [
       "Validating: 0it [00:00, ?it/s]"
      ]
     },
     "metadata": {},
     "output_type": "display_data"
    },
    {
     "name": "stdout",
     "output_type": "stream",
     "text": [
      "\n",
      "----------------------------------------------------------------------------------------------------------------------------------\n",
      "| arithmetic_mean_loss: 1.26201 | harmonic_mean_loss: 1.19679 | prediction_mean_pearson: 0.23246 | entropy_mean_pearson: 0.06575 |\n",
      "----------------------------------------------------------------------------------------------------------------------------------\n",
      "\n",
      "starting epoch 73\n"
     ]
    },
    {
     "data": {
      "application/vnd.jupyter.widget-view+json": {
       "model_id": "",
       "version_major": 2,
       "version_minor": 0
      },
      "text/plain": [
       "Validating: 0it [00:00, ?it/s]"
      ]
     },
     "metadata": {},
     "output_type": "display_data"
    },
    {
     "name": "stdout",
     "output_type": "stream",
     "text": [
      "\n",
      "----------------------------------------------------------------------------------------------------------------------------------\n",
      "| arithmetic_mean_loss: 1.26221 | harmonic_mean_loss: 1.19711 | prediction_mean_pearson: 0.23328 | entropy_mean_pearson: 0.06677 |\n",
      "----------------------------------------------------------------------------------------------------------------------------------\n",
      "\n",
      "starting epoch 74\n"
     ]
    },
    {
     "data": {
      "application/vnd.jupyter.widget-view+json": {
       "model_id": "",
       "version_major": 2,
       "version_minor": 0
      },
      "text/plain": [
       "Validating: 0it [00:00, ?it/s]"
      ]
     },
     "metadata": {},
     "output_type": "display_data"
    },
    {
     "name": "stdout",
     "output_type": "stream",
     "text": [
      "\n",
      "----------------------------------------------------------------------------------------------------------------------------------\n",
      "| arithmetic_mean_loss: 1.26280 | harmonic_mean_loss: 1.19747 | prediction_mean_pearson: 0.23309 | entropy_mean_pearson: 0.05871 |\n",
      "----------------------------------------------------------------------------------------------------------------------------------\n",
      "\n",
      "starting epoch 75\n"
     ]
    },
    {
     "data": {
      "application/vnd.jupyter.widget-view+json": {
       "model_id": "",
       "version_major": 2,
       "version_minor": 0
      },
      "text/plain": [
       "Validating: 0it [00:00, ?it/s]"
      ]
     },
     "metadata": {},
     "output_type": "display_data"
    },
    {
     "name": "stdout",
     "output_type": "stream",
     "text": [
      "\n",
      "----------------------------------------------------------------------------------------------------------------------------------\n",
      "| arithmetic_mean_loss: 1.26138 | harmonic_mean_loss: 1.19603 | prediction_mean_pearson: 0.23388 | entropy_mean_pearson: 0.06338 |\n",
      "----------------------------------------------------------------------------------------------------------------------------------\n",
      "\n",
      "starting epoch 76\n"
     ]
    },
    {
     "data": {
      "application/vnd.jupyter.widget-view+json": {
       "model_id": "",
       "version_major": 2,
       "version_minor": 0
      },
      "text/plain": [
       "Validating: 0it [00:00, ?it/s]"
      ]
     },
     "metadata": {},
     "output_type": "display_data"
    },
    {
     "name": "stdout",
     "output_type": "stream",
     "text": [
      "\n",
      "----------------------------------------------------------------------------------------------------------------------------------\n",
      "| arithmetic_mean_loss: 1.26098 | harmonic_mean_loss: 1.19574 | prediction_mean_pearson: 0.23413 | entropy_mean_pearson: 0.06395 |\n",
      "----------------------------------------------------------------------------------------------------------------------------------\n",
      "\n",
      "starting epoch 77\n"
     ]
    },
    {
     "data": {
      "application/vnd.jupyter.widget-view+json": {
       "model_id": "",
       "version_major": 2,
       "version_minor": 0
      },
      "text/plain": [
       "Validating: 0it [00:00, ?it/s]"
      ]
     },
     "metadata": {},
     "output_type": "display_data"
    },
    {
     "name": "stdout",
     "output_type": "stream",
     "text": [
      "\n",
      "----------------------------------------------------------------------------------------------------------------------------------\n",
      "| arithmetic_mean_loss: 1.26144 | harmonic_mean_loss: 1.19628 | prediction_mean_pearson: 0.23462 | entropy_mean_pearson: 0.06616 |\n",
      "----------------------------------------------------------------------------------------------------------------------------------\n",
      "\n",
      "starting epoch 78\n"
     ]
    },
    {
     "data": {
      "application/vnd.jupyter.widget-view+json": {
       "model_id": "",
       "version_major": 2,
       "version_minor": 0
      },
      "text/plain": [
       "Validating: 0it [00:00, ?it/s]"
      ]
     },
     "metadata": {},
     "output_type": "display_data"
    },
    {
     "name": "stdout",
     "output_type": "stream",
     "text": [
      "\n",
      "----------------------------------------------------------------------------------------------------------------------------------\n",
      "| arithmetic_mean_loss: 1.26158 | harmonic_mean_loss: 1.19622 | prediction_mean_pearson: 0.23420 | entropy_mean_pearson: 0.05595 |\n",
      "----------------------------------------------------------------------------------------------------------------------------------\n",
      "\n",
      "starting epoch 79\n"
     ]
    },
    {
     "data": {
      "application/vnd.jupyter.widget-view+json": {
       "model_id": "",
       "version_major": 2,
       "version_minor": 0
      },
      "text/plain": [
       "Validating: 0it [00:00, ?it/s]"
      ]
     },
     "metadata": {},
     "output_type": "display_data"
    },
    {
     "name": "stdout",
     "output_type": "stream",
     "text": [
      "\n",
      "----------------------------------------------------------------------------------------------------------------------------------\n",
      "| arithmetic_mean_loss: 1.26075 | harmonic_mean_loss: 1.19549 | prediction_mean_pearson: 0.23376 | entropy_mean_pearson: 0.05776 |\n",
      "----------------------------------------------------------------------------------------------------------------------------------\n",
      "\n",
      "starting epoch 80\n"
     ]
    },
    {
     "data": {
      "application/vnd.jupyter.widget-view+json": {
       "model_id": "",
       "version_major": 2,
       "version_minor": 0
      },
      "text/plain": [
       "Validating: 0it [00:00, ?it/s]"
      ]
     },
     "metadata": {},
     "output_type": "display_data"
    },
    {
     "name": "stdout",
     "output_type": "stream",
     "text": [
      "\n",
      "----------------------------------------------------------------------------------------------------------------------------------\n",
      "| arithmetic_mean_loss: 1.26058 | harmonic_mean_loss: 1.19557 | prediction_mean_pearson: 0.23454 | entropy_mean_pearson: 0.06380 |\n",
      "----------------------------------------------------------------------------------------------------------------------------------\n",
      "\n",
      "starting epoch 81\n"
     ]
    },
    {
     "data": {
      "application/vnd.jupyter.widget-view+json": {
       "model_id": "",
       "version_major": 2,
       "version_minor": 0
      },
      "text/plain": [
       "Validating: 0it [00:00, ?it/s]"
      ]
     },
     "metadata": {},
     "output_type": "display_data"
    },
    {
     "name": "stdout",
     "output_type": "stream",
     "text": [
      "\n",
      "----------------------------------------------------------------------------------------------------------------------------------\n",
      "| arithmetic_mean_loss: 1.26058 | harmonic_mean_loss: 1.19568 | prediction_mean_pearson: 0.23513 | entropy_mean_pearson: 0.06537 |\n",
      "----------------------------------------------------------------------------------------------------------------------------------\n",
      "\n",
      "starting epoch 82\n"
     ]
    },
    {
     "data": {
      "application/vnd.jupyter.widget-view+json": {
       "model_id": "",
       "version_major": 2,
       "version_minor": 0
      },
      "text/plain": [
       "Validating: 0it [00:00, ?it/s]"
      ]
     },
     "metadata": {},
     "output_type": "display_data"
    },
    {
     "name": "stdout",
     "output_type": "stream",
     "text": [
      "\n",
      "----------------------------------------------------------------------------------------------------------------------------------\n",
      "| arithmetic_mean_loss: 1.26030 | harmonic_mean_loss: 1.19521 | prediction_mean_pearson: 0.23562 | entropy_mean_pearson: 0.06462 |\n",
      "----------------------------------------------------------------------------------------------------------------------------------\n",
      "\n",
      "starting epoch 83\n"
     ]
    },
    {
     "data": {
      "application/vnd.jupyter.widget-view+json": {
       "model_id": "",
       "version_major": 2,
       "version_minor": 0
      },
      "text/plain": [
       "Validating: 0it [00:00, ?it/s]"
      ]
     },
     "metadata": {},
     "output_type": "display_data"
    },
    {
     "name": "stdout",
     "output_type": "stream",
     "text": [
      "\n",
      "----------------------------------------------------------------------------------------------------------------------------------\n",
      "| arithmetic_mean_loss: 1.26003 | harmonic_mean_loss: 1.19486 | prediction_mean_pearson: 0.23604 | entropy_mean_pearson: 0.06034 |\n",
      "----------------------------------------------------------------------------------------------------------------------------------\n",
      "\n",
      "starting epoch 84\n"
     ]
    },
    {
     "data": {
      "application/vnd.jupyter.widget-view+json": {
       "model_id": "",
       "version_major": 2,
       "version_minor": 0
      },
      "text/plain": [
       "Validating: 0it [00:00, ?it/s]"
      ]
     },
     "metadata": {},
     "output_type": "display_data"
    },
    {
     "name": "stdout",
     "output_type": "stream",
     "text": [
      "\n",
      "----------------------------------------------------------------------------------------------------------------------------------\n",
      "| arithmetic_mean_loss: 1.25888 | harmonic_mean_loss: 1.19398 | prediction_mean_pearson: 0.23652 | entropy_mean_pearson: 0.06470 |\n",
      "----------------------------------------------------------------------------------------------------------------------------------\n",
      "\n",
      "starting epoch 85\n"
     ]
    },
    {
     "data": {
      "application/vnd.jupyter.widget-view+json": {
       "model_id": "",
       "version_major": 2,
       "version_minor": 0
      },
      "text/plain": [
       "Validating: 0it [00:00, ?it/s]"
      ]
     },
     "metadata": {},
     "output_type": "display_data"
    },
    {
     "name": "stdout",
     "output_type": "stream",
     "text": [
      "\n",
      "----------------------------------------------------------------------------------------------------------------------------------\n",
      "| arithmetic_mean_loss: 1.25902 | harmonic_mean_loss: 1.19412 | prediction_mean_pearson: 0.23757 | entropy_mean_pearson: 0.06593 |\n",
      "----------------------------------------------------------------------------------------------------------------------------------\n",
      "\n",
      "starting epoch 86\n"
     ]
    },
    {
     "data": {
      "application/vnd.jupyter.widget-view+json": {
       "model_id": "",
       "version_major": 2,
       "version_minor": 0
      },
      "text/plain": [
       "Validating: 0it [00:00, ?it/s]"
      ]
     },
     "metadata": {},
     "output_type": "display_data"
    },
    {
     "name": "stdout",
     "output_type": "stream",
     "text": [
      "\n",
      "----------------------------------------------------------------------------------------------------------------------------------\n",
      "| arithmetic_mean_loss: 1.25988 | harmonic_mean_loss: 1.19505 | prediction_mean_pearson: 0.23777 | entropy_mean_pearson: 0.06574 |\n",
      "----------------------------------------------------------------------------------------------------------------------------------\n",
      "\n",
      "starting epoch 87\n"
     ]
    },
    {
     "data": {
      "application/vnd.jupyter.widget-view+json": {
       "model_id": "",
       "version_major": 2,
       "version_minor": 0
      },
      "text/plain": [
       "Validating: 0it [00:00, ?it/s]"
      ]
     },
     "metadata": {},
     "output_type": "display_data"
    },
    {
     "name": "stdout",
     "output_type": "stream",
     "text": [
      "\n",
      "----------------------------------------------------------------------------------------------------------------------------------\n",
      "| arithmetic_mean_loss: 1.25977 | harmonic_mean_loss: 1.19472 | prediction_mean_pearson: 0.23699 | entropy_mean_pearson: 0.06289 |\n",
      "----------------------------------------------------------------------------------------------------------------------------------\n",
      "\n",
      "starting epoch 88\n"
     ]
    },
    {
     "data": {
      "application/vnd.jupyter.widget-view+json": {
       "model_id": "",
       "version_major": 2,
       "version_minor": 0
      },
      "text/plain": [
       "Validating: 0it [00:00, ?it/s]"
      ]
     },
     "metadata": {},
     "output_type": "display_data"
    },
    {
     "name": "stdout",
     "output_type": "stream",
     "text": [
      "\n",
      "----------------------------------------------------------------------------------------------------------------------------------\n",
      "| arithmetic_mean_loss: 1.25902 | harmonic_mean_loss: 1.19395 | prediction_mean_pearson: 0.23747 | entropy_mean_pearson: 0.06087 |\n",
      "----------------------------------------------------------------------------------------------------------------------------------\n",
      "\n",
      "starting epoch 89\n"
     ]
    },
    {
     "data": {
      "application/vnd.jupyter.widget-view+json": {
       "model_id": "",
       "version_major": 2,
       "version_minor": 0
      },
      "text/plain": [
       "Validating: 0it [00:00, ?it/s]"
      ]
     },
     "metadata": {},
     "output_type": "display_data"
    },
    {
     "name": "stdout",
     "output_type": "stream",
     "text": [
      "\n",
      "----------------------------------------------------------------------------------------------------------------------------------\n",
      "| arithmetic_mean_loss: 1.25860 | harmonic_mean_loss: 1.19395 | prediction_mean_pearson: 0.23821 | entropy_mean_pearson: 0.07062 |\n",
      "----------------------------------------------------------------------------------------------------------------------------------\n",
      "\n",
      "starting epoch 90\n"
     ]
    },
    {
     "data": {
      "application/vnd.jupyter.widget-view+json": {
       "model_id": "",
       "version_major": 2,
       "version_minor": 0
      },
      "text/plain": [
       "Validating: 0it [00:00, ?it/s]"
      ]
     },
     "metadata": {},
     "output_type": "display_data"
    },
    {
     "name": "stdout",
     "output_type": "stream",
     "text": [
      "\n",
      "----------------------------------------------------------------------------------------------------------------------------------\n",
      "| arithmetic_mean_loss: 1.25866 | harmonic_mean_loss: 1.19400 | prediction_mean_pearson: 0.23899 | entropy_mean_pearson: 0.06903 |\n",
      "----------------------------------------------------------------------------------------------------------------------------------\n",
      "\n",
      "starting epoch 91\n"
     ]
    },
    {
     "data": {
      "application/vnd.jupyter.widget-view+json": {
       "model_id": "",
       "version_major": 2,
       "version_minor": 0
      },
      "text/plain": [
       "Validating: 0it [00:00, ?it/s]"
      ]
     },
     "metadata": {},
     "output_type": "display_data"
    },
    {
     "name": "stdout",
     "output_type": "stream",
     "text": [
      "\n",
      "----------------------------------------------------------------------------------------------------------------------------------\n",
      "| arithmetic_mean_loss: 1.25788 | harmonic_mean_loss: 1.19309 | prediction_mean_pearson: 0.23896 | entropy_mean_pearson: 0.06942 |\n",
      "----------------------------------------------------------------------------------------------------------------------------------\n",
      "\n",
      "starting epoch 92\n"
     ]
    },
    {
     "data": {
      "application/vnd.jupyter.widget-view+json": {
       "model_id": "",
       "version_major": 2,
       "version_minor": 0
      },
      "text/plain": [
       "Validating: 0it [00:00, ?it/s]"
      ]
     },
     "metadata": {},
     "output_type": "display_data"
    },
    {
     "name": "stdout",
     "output_type": "stream",
     "text": [
      "\n",
      "----------------------------------------------------------------------------------------------------------------------------------\n",
      "| arithmetic_mean_loss: 1.25735 | harmonic_mean_loss: 1.19264 | prediction_mean_pearson: 0.23958 | entropy_mean_pearson: 0.06854 |\n",
      "----------------------------------------------------------------------------------------------------------------------------------\n",
      "\n",
      "starting epoch 93\n"
     ]
    },
    {
     "data": {
      "application/vnd.jupyter.widget-view+json": {
       "model_id": "",
       "version_major": 2,
       "version_minor": 0
      },
      "text/plain": [
       "Validating: 0it [00:00, ?it/s]"
      ]
     },
     "metadata": {},
     "output_type": "display_data"
    },
    {
     "name": "stdout",
     "output_type": "stream",
     "text": [
      "\n",
      "----------------------------------------------------------------------------------------------------------------------------------\n",
      "| arithmetic_mean_loss: 1.25685 | harmonic_mean_loss: 1.19229 | prediction_mean_pearson: 0.23995 | entropy_mean_pearson: 0.06915 |\n",
      "----------------------------------------------------------------------------------------------------------------------------------\n",
      "\n",
      "starting epoch 94\n"
     ]
    },
    {
     "data": {
      "application/vnd.jupyter.widget-view+json": {
       "model_id": "",
       "version_major": 2,
       "version_minor": 0
      },
      "text/plain": [
       "Validating: 0it [00:00, ?it/s]"
      ]
     },
     "metadata": {},
     "output_type": "display_data"
    },
    {
     "name": "stdout",
     "output_type": "stream",
     "text": [
      "\n",
      "----------------------------------------------------------------------------------------------------------------------------------\n",
      "| arithmetic_mean_loss: 1.25715 | harmonic_mean_loss: 1.19241 | prediction_mean_pearson: 0.24050 | entropy_mean_pearson: 0.06475 |\n",
      "----------------------------------------------------------------------------------------------------------------------------------\n",
      "\n",
      "starting epoch 95\n"
     ]
    },
    {
     "data": {
      "application/vnd.jupyter.widget-view+json": {
       "model_id": "",
       "version_major": 2,
       "version_minor": 0
      },
      "text/plain": [
       "Validating: 0it [00:00, ?it/s]"
      ]
     },
     "metadata": {},
     "output_type": "display_data"
    },
    {
     "name": "stdout",
     "output_type": "stream",
     "text": [
      "\n",
      "----------------------------------------------------------------------------------------------------------------------------------\n",
      "| arithmetic_mean_loss: 1.25668 | harmonic_mean_loss: 1.19199 | prediction_mean_pearson: 0.24068 | entropy_mean_pearson: 0.06583 |\n",
      "----------------------------------------------------------------------------------------------------------------------------------\n",
      "\n",
      "starting epoch 96\n"
     ]
    },
    {
     "data": {
      "application/vnd.jupyter.widget-view+json": {
       "model_id": "",
       "version_major": 2,
       "version_minor": 0
      },
      "text/plain": [
       "Validating: 0it [00:00, ?it/s]"
      ]
     },
     "metadata": {},
     "output_type": "display_data"
    },
    {
     "name": "stdout",
     "output_type": "stream",
     "text": [
      "\n",
      "----------------------------------------------------------------------------------------------------------------------------------\n",
      "| arithmetic_mean_loss: 1.25587 | harmonic_mean_loss: 1.19119 | prediction_mean_pearson: 0.24023 | entropy_mean_pearson: 0.06334 |\n",
      "----------------------------------------------------------------------------------------------------------------------------------\n",
      "\n",
      "starting epoch 97\n"
     ]
    },
    {
     "data": {
      "application/vnd.jupyter.widget-view+json": {
       "model_id": "",
       "version_major": 2,
       "version_minor": 0
      },
      "text/plain": [
       "Validating: 0it [00:00, ?it/s]"
      ]
     },
     "metadata": {},
     "output_type": "display_data"
    },
    {
     "name": "stdout",
     "output_type": "stream",
     "text": [
      "\n",
      "----------------------------------------------------------------------------------------------------------------------------------\n",
      "| arithmetic_mean_loss: 1.25566 | harmonic_mean_loss: 1.19096 | prediction_mean_pearson: 0.24113 | entropy_mean_pearson: 0.06774 |\n",
      "----------------------------------------------------------------------------------------------------------------------------------\n",
      "\n",
      "starting epoch 98\n"
     ]
    },
    {
     "data": {
      "application/vnd.jupyter.widget-view+json": {
       "model_id": "",
       "version_major": 2,
       "version_minor": 0
      },
      "text/plain": [
       "Validating: 0it [00:00, ?it/s]"
      ]
     },
     "metadata": {},
     "output_type": "display_data"
    },
    {
     "name": "stdout",
     "output_type": "stream",
     "text": [
      "\n",
      "----------------------------------------------------------------------------------------------------------------------------------\n",
      "| arithmetic_mean_loss: 1.25639 | harmonic_mean_loss: 1.19163 | prediction_mean_pearson: 0.24185 | entropy_mean_pearson: 0.06154 |\n",
      "----------------------------------------------------------------------------------------------------------------------------------\n",
      "\n",
      "starting epoch 99\n"
     ]
    },
    {
     "data": {
      "application/vnd.jupyter.widget-view+json": {
       "model_id": "",
       "version_major": 2,
       "version_minor": 0
      },
      "text/plain": [
       "Validating: 0it [00:00, ?it/s]"
      ]
     },
     "metadata": {},
     "output_type": "display_data"
    },
    {
     "name": "stdout",
     "output_type": "stream",
     "text": [
      "\n",
      "----------------------------------------------------------------------------------------------------------------------------------\n",
      "| arithmetic_mean_loss: 1.25599 | harmonic_mean_loss: 1.19115 | prediction_mean_pearson: 0.24154 | entropy_mean_pearson: 0.06177 |\n",
      "----------------------------------------------------------------------------------------------------------------------------------\n",
      "\n",
      "starting epoch 100\n"
     ]
    },
    {
     "data": {
      "application/vnd.jupyter.widget-view+json": {
       "model_id": "",
       "version_major": 2,
       "version_minor": 0
      },
      "text/plain": [
       "Validating: 0it [00:00, ?it/s]"
      ]
     },
     "metadata": {},
     "output_type": "display_data"
    },
    {
     "name": "stdout",
     "output_type": "stream",
     "text": [
      "\n",
      "----------------------------------------------------------------------------------------------------------------------------------\n",
      "| arithmetic_mean_loss: 1.25588 | harmonic_mean_loss: 1.19120 | prediction_mean_pearson: 0.24163 | entropy_mean_pearson: 0.06407 |\n",
      "----------------------------------------------------------------------------------------------------------------------------------\n",
      "\n",
      "starting epoch 101\n"
     ]
    },
    {
     "data": {
      "application/vnd.jupyter.widget-view+json": {
       "model_id": "",
       "version_major": 2,
       "version_minor": 0
      },
      "text/plain": [
       "Validating: 0it [00:00, ?it/s]"
      ]
     },
     "metadata": {},
     "output_type": "display_data"
    },
    {
     "name": "stdout",
     "output_type": "stream",
     "text": [
      "\n",
      "----------------------------------------------------------------------------------------------------------------------------------\n",
      "| arithmetic_mean_loss: 1.25492 | harmonic_mean_loss: 1.19027 | prediction_mean_pearson: 0.24195 | entropy_mean_pearson: 0.06879 |\n",
      "----------------------------------------------------------------------------------------------------------------------------------\n",
      "\n",
      "starting epoch 102\n"
     ]
    },
    {
     "data": {
      "application/vnd.jupyter.widget-view+json": {
       "model_id": "",
       "version_major": 2,
       "version_minor": 0
      },
      "text/plain": [
       "Validating: 0it [00:00, ?it/s]"
      ]
     },
     "metadata": {},
     "output_type": "display_data"
    },
    {
     "name": "stdout",
     "output_type": "stream",
     "text": [
      "\n",
      "----------------------------------------------------------------------------------------------------------------------------------\n",
      "| arithmetic_mean_loss: 1.25516 | harmonic_mean_loss: 1.19064 | prediction_mean_pearson: 0.24252 | entropy_mean_pearson: 0.07111 |\n",
      "----------------------------------------------------------------------------------------------------------------------------------\n",
      "\n",
      "starting epoch 103\n"
     ]
    },
    {
     "data": {
      "application/vnd.jupyter.widget-view+json": {
       "model_id": "",
       "version_major": 2,
       "version_minor": 0
      },
      "text/plain": [
       "Validating: 0it [00:00, ?it/s]"
      ]
     },
     "metadata": {},
     "output_type": "display_data"
    },
    {
     "name": "stdout",
     "output_type": "stream",
     "text": [
      "\n",
      "----------------------------------------------------------------------------------------------------------------------------------\n",
      "| arithmetic_mean_loss: 1.25557 | harmonic_mean_loss: 1.19103 | prediction_mean_pearson: 0.24246 | entropy_mean_pearson: 0.06821 |\n",
      "----------------------------------------------------------------------------------------------------------------------------------\n",
      "\n",
      "starting epoch 104\n"
     ]
    },
    {
     "data": {
      "application/vnd.jupyter.widget-view+json": {
       "model_id": "",
       "version_major": 2,
       "version_minor": 0
      },
      "text/plain": [
       "Validating: 0it [00:00, ?it/s]"
      ]
     },
     "metadata": {},
     "output_type": "display_data"
    },
    {
     "name": "stdout",
     "output_type": "stream",
     "text": [
      "\n",
      "----------------------------------------------------------------------------------------------------------------------------------\n",
      "| arithmetic_mean_loss: 1.25616 | harmonic_mean_loss: 1.19137 | prediction_mean_pearson: 0.24268 | entropy_mean_pearson: 0.05700 |\n",
      "----------------------------------------------------------------------------------------------------------------------------------\n",
      "\n",
      "starting epoch 105\n"
     ]
    },
    {
     "data": {
      "application/vnd.jupyter.widget-view+json": {
       "model_id": "",
       "version_major": 2,
       "version_minor": 0
      },
      "text/plain": [
       "Validating: 0it [00:00, ?it/s]"
      ]
     },
     "metadata": {},
     "output_type": "display_data"
    },
    {
     "name": "stdout",
     "output_type": "stream",
     "text": [
      "\n",
      "----------------------------------------------------------------------------------------------------------------------------------\n",
      "| arithmetic_mean_loss: 1.25455 | harmonic_mean_loss: 1.18987 | prediction_mean_pearson: 0.24316 | entropy_mean_pearson: 0.06049 |\n",
      "----------------------------------------------------------------------------------------------------------------------------------\n",
      "\n",
      "starting epoch 106\n"
     ]
    },
    {
     "data": {
      "application/vnd.jupyter.widget-view+json": {
       "model_id": "",
       "version_major": 2,
       "version_minor": 0
      },
      "text/plain": [
       "Validating: 0it [00:00, ?it/s]"
      ]
     },
     "metadata": {},
     "output_type": "display_data"
    },
    {
     "name": "stdout",
     "output_type": "stream",
     "text": [
      "\n",
      "----------------------------------------------------------------------------------------------------------------------------------\n",
      "| arithmetic_mean_loss: 1.25447 | harmonic_mean_loss: 1.19005 | prediction_mean_pearson: 0.24301 | entropy_mean_pearson: 0.06955 |\n",
      "----------------------------------------------------------------------------------------------------------------------------------\n",
      "\n",
      "starting epoch 107\n"
     ]
    },
    {
     "data": {
      "application/vnd.jupyter.widget-view+json": {
       "model_id": "",
       "version_major": 2,
       "version_minor": 0
      },
      "text/plain": [
       "Validating: 0it [00:00, ?it/s]"
      ]
     },
     "metadata": {},
     "output_type": "display_data"
    },
    {
     "name": "stdout",
     "output_type": "stream",
     "text": [
      "\n",
      "----------------------------------------------------------------------------------------------------------------------------------\n",
      "| arithmetic_mean_loss: 1.25474 | harmonic_mean_loss: 1.19034 | prediction_mean_pearson: 0.24273 | entropy_mean_pearson: 0.06757 |\n",
      "----------------------------------------------------------------------------------------------------------------------------------\n",
      "\n",
      "starting epoch 108\n"
     ]
    },
    {
     "data": {
      "application/vnd.jupyter.widget-view+json": {
       "model_id": "",
       "version_major": 2,
       "version_minor": 0
      },
      "text/plain": [
       "Validating: 0it [00:00, ?it/s]"
      ]
     },
     "metadata": {},
     "output_type": "display_data"
    },
    {
     "name": "stdout",
     "output_type": "stream",
     "text": [
      "\n",
      "----------------------------------------------------------------------------------------------------------------------------------\n",
      "| arithmetic_mean_loss: 1.25451 | harmonic_mean_loss: 1.19002 | prediction_mean_pearson: 0.24247 | entropy_mean_pearson: 0.06566 |\n",
      "----------------------------------------------------------------------------------------------------------------------------------\n",
      "\n",
      "starting epoch 109\n"
     ]
    },
    {
     "data": {
      "application/vnd.jupyter.widget-view+json": {
       "model_id": "",
       "version_major": 2,
       "version_minor": 0
      },
      "text/plain": [
       "Validating: 0it [00:00, ?it/s]"
      ]
     },
     "metadata": {},
     "output_type": "display_data"
    },
    {
     "name": "stdout",
     "output_type": "stream",
     "text": [
      "\n",
      "----------------------------------------------------------------------------------------------------------------------------------\n",
      "| arithmetic_mean_loss: 1.25438 | harmonic_mean_loss: 1.18985 | prediction_mean_pearson: 0.24272 | entropy_mean_pearson: 0.06937 |\n",
      "----------------------------------------------------------------------------------------------------------------------------------\n",
      "\n",
      "starting epoch 110\n"
     ]
    },
    {
     "data": {
      "application/vnd.jupyter.widget-view+json": {
       "model_id": "",
       "version_major": 2,
       "version_minor": 0
      },
      "text/plain": [
       "Validating: 0it [00:00, ?it/s]"
      ]
     },
     "metadata": {},
     "output_type": "display_data"
    },
    {
     "name": "stdout",
     "output_type": "stream",
     "text": [
      "\n",
      "----------------------------------------------------------------------------------------------------------------------------------\n",
      "| arithmetic_mean_loss: 1.25517 | harmonic_mean_loss: 1.19066 | prediction_mean_pearson: 0.24277 | entropy_mean_pearson: 0.06869 |\n",
      "----------------------------------------------------------------------------------------------------------------------------------\n",
      "\n",
      "starting epoch 111\n"
     ]
    },
    {
     "data": {
      "application/vnd.jupyter.widget-view+json": {
       "model_id": "",
       "version_major": 2,
       "version_minor": 0
      },
      "text/plain": [
       "Validating: 0it [00:00, ?it/s]"
      ]
     },
     "metadata": {},
     "output_type": "display_data"
    },
    {
     "name": "stdout",
     "output_type": "stream",
     "text": [
      "\n",
      "----------------------------------------------------------------------------------------------------------------------------------\n",
      "| arithmetic_mean_loss: 1.25451 | harmonic_mean_loss: 1.19007 | prediction_mean_pearson: 0.24171 | entropy_mean_pearson: 0.06659 |\n",
      "----------------------------------------------------------------------------------------------------------------------------------\n",
      "\n",
      "starting epoch 112\n"
     ]
    },
    {
     "data": {
      "application/vnd.jupyter.widget-view+json": {
       "model_id": "",
       "version_major": 2,
       "version_minor": 0
      },
      "text/plain": [
       "Validating: 0it [00:00, ?it/s]"
      ]
     },
     "metadata": {},
     "output_type": "display_data"
    },
    {
     "name": "stdout",
     "output_type": "stream",
     "text": [
      "\n",
      "----------------------------------------------------------------------------------------------------------------------------------\n",
      "| arithmetic_mean_loss: 1.25501 | harmonic_mean_loss: 1.19068 | prediction_mean_pearson: 0.24324 | entropy_mean_pearson: 0.07292 |\n",
      "----------------------------------------------------------------------------------------------------------------------------------\n",
      "\n",
      "starting epoch 113\n"
     ]
    },
    {
     "data": {
      "application/vnd.jupyter.widget-view+json": {
       "model_id": "",
       "version_major": 2,
       "version_minor": 0
      },
      "text/plain": [
       "Validating: 0it [00:00, ?it/s]"
      ]
     },
     "metadata": {},
     "output_type": "display_data"
    },
    {
     "name": "stdout",
     "output_type": "stream",
     "text": [
      "\n",
      "----------------------------------------------------------------------------------------------------------------------------------\n",
      "| arithmetic_mean_loss: 1.25521 | harmonic_mean_loss: 1.19066 | prediction_mean_pearson: 0.24302 | entropy_mean_pearson: 0.06467 |\n",
      "----------------------------------------------------------------------------------------------------------------------------------\n",
      "\n",
      "starting epoch 114\n"
     ]
    },
    {
     "data": {
      "application/vnd.jupyter.widget-view+json": {
       "model_id": "",
       "version_major": 2,
       "version_minor": 0
      },
      "text/plain": [
       "Validating: 0it [00:00, ?it/s]"
      ]
     },
     "metadata": {},
     "output_type": "display_data"
    },
    {
     "name": "stdout",
     "output_type": "stream",
     "text": [
      "\n",
      "----------------------------------------------------------------------------------------------------------------------------------\n",
      "| arithmetic_mean_loss: 1.25426 | harmonic_mean_loss: 1.18992 | prediction_mean_pearson: 0.24266 | entropy_mean_pearson: 0.06625 |\n",
      "----------------------------------------------------------------------------------------------------------------------------------\n",
      "\n",
      "starting epoch 115\n"
     ]
    },
    {
     "data": {
      "application/vnd.jupyter.widget-view+json": {
       "model_id": "",
       "version_major": 2,
       "version_minor": 0
      },
      "text/plain": [
       "Validating: 0it [00:00, ?it/s]"
      ]
     },
     "metadata": {},
     "output_type": "display_data"
    },
    {
     "name": "stdout",
     "output_type": "stream",
     "text": [
      "\n",
      "----------------------------------------------------------------------------------------------------------------------------------\n",
      "| arithmetic_mean_loss: 1.25442 | harmonic_mean_loss: 1.19023 | prediction_mean_pearson: 0.24231 | entropy_mean_pearson: 0.06829 |\n",
      "----------------------------------------------------------------------------------------------------------------------------------\n",
      "\n",
      "starting epoch 116\n"
     ]
    },
    {
     "data": {
      "application/vnd.jupyter.widget-view+json": {
       "model_id": "",
       "version_major": 2,
       "version_minor": 0
      },
      "text/plain": [
       "Validating: 0it [00:00, ?it/s]"
      ]
     },
     "metadata": {},
     "output_type": "display_data"
    },
    {
     "name": "stdout",
     "output_type": "stream",
     "text": [
      "\n",
      "----------------------------------------------------------------------------------------------------------------------------------\n",
      "| arithmetic_mean_loss: 1.25506 | harmonic_mean_loss: 1.19092 | prediction_mean_pearson: 0.24353 | entropy_mean_pearson: 0.07026 |\n",
      "----------------------------------------------------------------------------------------------------------------------------------\n",
      "\n",
      "starting epoch 117\n"
     ]
    },
    {
     "data": {
      "application/vnd.jupyter.widget-view+json": {
       "model_id": "",
       "version_major": 2,
       "version_minor": 0
      },
      "text/plain": [
       "Validating: 0it [00:00, ?it/s]"
      ]
     },
     "metadata": {},
     "output_type": "display_data"
    },
    {
     "name": "stdout",
     "output_type": "stream",
     "text": [
      "\n",
      "----------------------------------------------------------------------------------------------------------------------------------\n",
      "| arithmetic_mean_loss: 1.25411 | harmonic_mean_loss: 1.18985 | prediction_mean_pearson: 0.24443 | entropy_mean_pearson: 0.07016 |\n",
      "----------------------------------------------------------------------------------------------------------------------------------\n",
      "\n",
      "starting epoch 118\n"
     ]
    },
    {
     "data": {
      "application/vnd.jupyter.widget-view+json": {
       "model_id": "",
       "version_major": 2,
       "version_minor": 0
      },
      "text/plain": [
       "Validating: 0it [00:00, ?it/s]"
      ]
     },
     "metadata": {},
     "output_type": "display_data"
    },
    {
     "name": "stdout",
     "output_type": "stream",
     "text": [
      "\n",
      "----------------------------------------------------------------------------------------------------------------------------------\n",
      "| arithmetic_mean_loss: 1.25363 | harmonic_mean_loss: 1.18921 | prediction_mean_pearson: 0.24385 | entropy_mean_pearson: 0.06430 |\n",
      "----------------------------------------------------------------------------------------------------------------------------------\n",
      "\n",
      "starting epoch 119\n"
     ]
    },
    {
     "data": {
      "application/vnd.jupyter.widget-view+json": {
       "model_id": "",
       "version_major": 2,
       "version_minor": 0
      },
      "text/plain": [
       "Validating: 0it [00:00, ?it/s]"
      ]
     },
     "metadata": {},
     "output_type": "display_data"
    },
    {
     "name": "stdout",
     "output_type": "stream",
     "text": [
      "\n",
      "----------------------------------------------------------------------------------------------------------------------------------\n",
      "| arithmetic_mean_loss: 1.25407 | harmonic_mean_loss: 1.18973 | prediction_mean_pearson: 0.24375 | entropy_mean_pearson: 0.06950 |\n",
      "----------------------------------------------------------------------------------------------------------------------------------\n",
      "\n",
      "starting epoch 120\n"
     ]
    },
    {
     "data": {
      "application/vnd.jupyter.widget-view+json": {
       "model_id": "",
       "version_major": 2,
       "version_minor": 0
      },
      "text/plain": [
       "Validating: 0it [00:00, ?it/s]"
      ]
     },
     "metadata": {},
     "output_type": "display_data"
    },
    {
     "name": "stdout",
     "output_type": "stream",
     "text": [
      "\n",
      "----------------------------------------------------------------------------------------------------------------------------------\n",
      "| arithmetic_mean_loss: 1.28008 | harmonic_mean_loss: 1.21540 | prediction_mean_pearson: 0.27495 | entropy_mean_pearson: 0.10262 |\n",
      "----------------------------------------------------------------------------------------------------------------------------------\n",
      "\n",
      "starting epoch 121\n"
     ]
    },
    {
     "data": {
      "application/vnd.jupyter.widget-view+json": {
       "model_id": "",
       "version_major": 2,
       "version_minor": 0
      },
      "text/plain": [
       "Validating: 0it [00:00, ?it/s]"
      ]
     },
     "metadata": {},
     "output_type": "display_data"
    },
    {
     "name": "stdout",
     "output_type": "stream",
     "text": [
      "\n",
      "----------------------------------------------------------------------------------------------------------------------------------\n",
      "| arithmetic_mean_loss: 1.23738 | harmonic_mean_loss: 1.17470 | prediction_mean_pearson: 0.29493 | entropy_mean_pearson: 0.14031 |\n",
      "----------------------------------------------------------------------------------------------------------------------------------\n",
      "\n",
      "starting epoch 122\n"
     ]
    },
    {
     "data": {
      "application/vnd.jupyter.widget-view+json": {
       "model_id": "",
       "version_major": 2,
       "version_minor": 0
      },
      "text/plain": [
       "Validating: 0it [00:00, ?it/s]"
      ]
     },
     "metadata": {},
     "output_type": "display_data"
    },
    {
     "name": "stdout",
     "output_type": "stream",
     "text": [
      "\n",
      "----------------------------------------------------------------------------------------------------------------------------------\n",
      "| arithmetic_mean_loss: 1.22040 | harmonic_mean_loss: 1.15845 | prediction_mean_pearson: 0.31219 | entropy_mean_pearson: 0.14976 |\n",
      "----------------------------------------------------------------------------------------------------------------------------------\n",
      "\n",
      "starting epoch 123\n"
     ]
    },
    {
     "data": {
      "application/vnd.jupyter.widget-view+json": {
       "model_id": "",
       "version_major": 2,
       "version_minor": 0
      },
      "text/plain": [
       "Validating: 0it [00:00, ?it/s]"
      ]
     },
     "metadata": {},
     "output_type": "display_data"
    },
    {
     "name": "stdout",
     "output_type": "stream",
     "text": [
      "\n",
      "----------------------------------------------------------------------------------------------------------------------------------\n",
      "| arithmetic_mean_loss: 1.21096 | harmonic_mean_loss: 1.14891 | prediction_mean_pearson: 0.32538 | entropy_mean_pearson: 0.15843 |\n",
      "----------------------------------------------------------------------------------------------------------------------------------\n",
      "\n",
      "starting epoch 124\n"
     ]
    },
    {
     "data": {
      "application/vnd.jupyter.widget-view+json": {
       "model_id": "",
       "version_major": 2,
       "version_minor": 0
      },
      "text/plain": [
       "Validating: 0it [00:00, ?it/s]"
      ]
     },
     "metadata": {},
     "output_type": "display_data"
    },
    {
     "name": "stdout",
     "output_type": "stream",
     "text": [
      "\n",
      "----------------------------------------------------------------------------------------------------------------------------------\n",
      "| arithmetic_mean_loss: 1.20061 | harmonic_mean_loss: 1.13792 | prediction_mean_pearson: 0.33554 | entropy_mean_pearson: 0.16179 |\n",
      "----------------------------------------------------------------------------------------------------------------------------------\n",
      "\n",
      "starting epoch 125\n"
     ]
    },
    {
     "data": {
      "application/vnd.jupyter.widget-view+json": {
       "model_id": "",
       "version_major": 2,
       "version_minor": 0
      },
      "text/plain": [
       "Validating: 0it [00:00, ?it/s]"
      ]
     },
     "metadata": {},
     "output_type": "display_data"
    },
    {
     "name": "stdout",
     "output_type": "stream",
     "text": [
      "\n",
      "----------------------------------------------------------------------------------------------------------------------------------\n",
      "| arithmetic_mean_loss: 1.19465 | harmonic_mean_loss: 1.13237 | prediction_mean_pearson: 0.34626 | entropy_mean_pearson: 0.16324 |\n",
      "----------------------------------------------------------------------------------------------------------------------------------\n",
      "\n",
      "starting epoch 126\n"
     ]
    },
    {
     "data": {
      "application/vnd.jupyter.widget-view+json": {
       "model_id": "",
       "version_major": 2,
       "version_minor": 0
      },
      "text/plain": [
       "Validating: 0it [00:00, ?it/s]"
      ]
     },
     "metadata": {},
     "output_type": "display_data"
    },
    {
     "name": "stdout",
     "output_type": "stream",
     "text": [
      "\n",
      "----------------------------------------------------------------------------------------------------------------------------------\n",
      "| arithmetic_mean_loss: 1.17261 | harmonic_mean_loss: 1.11275 | prediction_mean_pearson: 0.35773 | entropy_mean_pearson: 0.16917 |\n",
      "----------------------------------------------------------------------------------------------------------------------------------\n",
      "\n",
      "starting epoch 127\n"
     ]
    },
    {
     "data": {
      "application/vnd.jupyter.widget-view+json": {
       "model_id": "",
       "version_major": 2,
       "version_minor": 0
      },
      "text/plain": [
       "Validating: 0it [00:00, ?it/s]"
      ]
     },
     "metadata": {},
     "output_type": "display_data"
    },
    {
     "name": "stdout",
     "output_type": "stream",
     "text": [
      "\n",
      "----------------------------------------------------------------------------------------------------------------------------------\n",
      "| arithmetic_mean_loss: 1.17612 | harmonic_mean_loss: 1.11653 | prediction_mean_pearson: 0.36447 | entropy_mean_pearson: 0.16810 |\n",
      "----------------------------------------------------------------------------------------------------------------------------------\n",
      "\n",
      "starting epoch 128\n"
     ]
    },
    {
     "data": {
      "application/vnd.jupyter.widget-view+json": {
       "model_id": "",
       "version_major": 2,
       "version_minor": 0
      },
      "text/plain": [
       "Validating: 0it [00:00, ?it/s]"
      ]
     },
     "metadata": {},
     "output_type": "display_data"
    },
    {
     "name": "stdout",
     "output_type": "stream",
     "text": [
      "\n",
      "----------------------------------------------------------------------------------------------------------------------------------\n",
      "| arithmetic_mean_loss: 1.21940 | harmonic_mean_loss: 1.15775 | prediction_mean_pearson: 0.36900 | entropy_mean_pearson: 0.17453 |\n",
      "----------------------------------------------------------------------------------------------------------------------------------\n",
      "\n",
      "starting epoch 129\n"
     ]
    },
    {
     "data": {
      "application/vnd.jupyter.widget-view+json": {
       "model_id": "",
       "version_major": 2,
       "version_minor": 0
      },
      "text/plain": [
       "Validating: 0it [00:00, ?it/s]"
      ]
     },
     "metadata": {},
     "output_type": "display_data"
    },
    {
     "name": "stdout",
     "output_type": "stream",
     "text": [
      "\n",
      "----------------------------------------------------------------------------------------------------------------------------------\n",
      "| arithmetic_mean_loss: 1.29734 | harmonic_mean_loss: 1.23050 | prediction_mean_pearson: 0.37063 | entropy_mean_pearson: 0.17898 |\n",
      "----------------------------------------------------------------------------------------------------------------------------------\n",
      "\n",
      "starting epoch 130\n"
     ]
    },
    {
     "data": {
      "application/vnd.jupyter.widget-view+json": {
       "model_id": "",
       "version_major": 2,
       "version_minor": 0
      },
      "text/plain": [
       "Validating: 0it [00:00, ?it/s]"
      ]
     },
     "metadata": {},
     "output_type": "display_data"
    },
    {
     "name": "stdout",
     "output_type": "stream",
     "text": [
      "\n",
      "----------------------------------------------------------------------------------------------------------------------------------\n",
      "| arithmetic_mean_loss: 1.30460 | harmonic_mean_loss: 1.24121 | prediction_mean_pearson: 0.37963 | entropy_mean_pearson: 0.18687 |\n",
      "----------------------------------------------------------------------------------------------------------------------------------\n",
      "\n",
      "starting epoch 131\n"
     ]
    },
    {
     "data": {
      "application/vnd.jupyter.widget-view+json": {
       "model_id": "",
       "version_major": 2,
       "version_minor": 0
      },
      "text/plain": [
       "Validating: 0it [00:00, ?it/s]"
      ]
     },
     "metadata": {},
     "output_type": "display_data"
    },
    {
     "name": "stdout",
     "output_type": "stream",
     "text": [
      "\n",
      "----------------------------------------------------------------------------------------------------------------------------------\n",
      "| arithmetic_mean_loss: 1.42731 | harmonic_mean_loss: 1.35340 | prediction_mean_pearson: 0.37786 | entropy_mean_pearson: 0.18457 |\n",
      "----------------------------------------------------------------------------------------------------------------------------------\n",
      "\n",
      "starting epoch 132\n"
     ]
    },
    {
     "data": {
      "application/vnd.jupyter.widget-view+json": {
       "model_id": "",
       "version_major": 2,
       "version_minor": 0
      },
      "text/plain": [
       "Validating: 0it [00:00, ?it/s]"
      ]
     },
     "metadata": {},
     "output_type": "display_data"
    },
    {
     "name": "stdout",
     "output_type": "stream",
     "text": [
      "\n",
      "----------------------------------------------------------------------------------------------------------------------------------\n",
      "| arithmetic_mean_loss: 1.38810 | harmonic_mean_loss: 1.31546 | prediction_mean_pearson: 0.37610 | entropy_mean_pearson: 0.18101 |\n",
      "----------------------------------------------------------------------------------------------------------------------------------\n",
      "\n",
      "starting epoch 133\n"
     ]
    },
    {
     "data": {
      "application/vnd.jupyter.widget-view+json": {
       "model_id": "",
       "version_major": 2,
       "version_minor": 0
      },
      "text/plain": [
       "Validating: 0it [00:00, ?it/s]"
      ]
     },
     "metadata": {},
     "output_type": "display_data"
    },
    {
     "name": "stdout",
     "output_type": "stream",
     "text": [
      "\n",
      "----------------------------------------------------------------------------------------------------------------------------------\n",
      "| arithmetic_mean_loss: 1.33864 | harmonic_mean_loss: 1.27076 | prediction_mean_pearson: 0.37732 | entropy_mean_pearson: 0.17480 |\n",
      "----------------------------------------------------------------------------------------------------------------------------------\n",
      "\n",
      "starting epoch 134\n"
     ]
    },
    {
     "data": {
      "application/vnd.jupyter.widget-view+json": {
       "model_id": "",
       "version_major": 2,
       "version_minor": 0
      },
      "text/plain": [
       "Validating: 0it [00:00, ?it/s]"
      ]
     },
     "metadata": {},
     "output_type": "display_data"
    },
    {
     "name": "stdout",
     "output_type": "stream",
     "text": [
      "\n",
      "----------------------------------------------------------------------------------------------------------------------------------\n",
      "| arithmetic_mean_loss: 1.50678 | harmonic_mean_loss: 1.42525 | prediction_mean_pearson: 0.36850 | entropy_mean_pearson: 0.17567 |\n",
      "----------------------------------------------------------------------------------------------------------------------------------\n",
      "\n",
      "starting epoch 135\n"
     ]
    },
    {
     "data": {
      "application/vnd.jupyter.widget-view+json": {
       "model_id": "",
       "version_major": 2,
       "version_minor": 0
      },
      "text/plain": [
       "Validating: 0it [00:00, ?it/s]"
      ]
     },
     "metadata": {},
     "output_type": "display_data"
    },
    {
     "name": "stdout",
     "output_type": "stream",
     "text": [
      "\n",
      "----------------------------------------------------------------------------------------------------------------------------------\n",
      "| arithmetic_mean_loss: 1.52236 | harmonic_mean_loss: 1.43787 | prediction_mean_pearson: 0.36897 | entropy_mean_pearson: 0.17880 |\n",
      "----------------------------------------------------------------------------------------------------------------------------------\n",
      "\n",
      "starting epoch 136\n"
     ]
    },
    {
     "data": {
      "application/vnd.jupyter.widget-view+json": {
       "model_id": "",
       "version_major": 2,
       "version_minor": 0
      },
      "text/plain": [
       "Validating: 0it [00:00, ?it/s]"
      ]
     },
     "metadata": {},
     "output_type": "display_data"
    },
    {
     "name": "stdout",
     "output_type": "stream",
     "text": [
      "\n",
      "----------------------------------------------------------------------------------------------------------------------------------\n",
      "| arithmetic_mean_loss: 1.53098 | harmonic_mean_loss: 1.44749 | prediction_mean_pearson: 0.37476 | entropy_mean_pearson: 0.17640 |\n",
      "----------------------------------------------------------------------------------------------------------------------------------\n",
      "\n",
      "starting epoch 137\n"
     ]
    },
    {
     "data": {
      "application/vnd.jupyter.widget-view+json": {
       "model_id": "",
       "version_major": 2,
       "version_minor": 0
      },
      "text/plain": [
       "Validating: 0it [00:00, ?it/s]"
      ]
     },
     "metadata": {},
     "output_type": "display_data"
    },
    {
     "name": "stdout",
     "output_type": "stream",
     "text": [
      "\n",
      "----------------------------------------------------------------------------------------------------------------------------------\n",
      "| arithmetic_mean_loss: 1.30708 | harmonic_mean_loss: 1.23771 | prediction_mean_pearson: 0.37503 | entropy_mean_pearson: 0.17055 |\n",
      "----------------------------------------------------------------------------------------------------------------------------------\n",
      "\n",
      "starting epoch 138\n"
     ]
    },
    {
     "data": {
      "application/vnd.jupyter.widget-view+json": {
       "model_id": "",
       "version_major": 2,
       "version_minor": 0
      },
      "text/plain": [
       "Validating: 0it [00:00, ?it/s]"
      ]
     },
     "metadata": {},
     "output_type": "display_data"
    },
    {
     "name": "stdout",
     "output_type": "stream",
     "text": [
      "\n",
      "----------------------------------------------------------------------------------------------------------------------------------\n",
      "| arithmetic_mean_loss: 1.32397 | harmonic_mean_loss: 1.25345 | prediction_mean_pearson: 0.36863 | entropy_mean_pearson: 0.16501 |\n",
      "----------------------------------------------------------------------------------------------------------------------------------\n",
      "\n",
      "starting epoch 139\n"
     ]
    },
    {
     "data": {
      "application/vnd.jupyter.widget-view+json": {
       "model_id": "",
       "version_major": 2,
       "version_minor": 0
      },
      "text/plain": [
       "Validating: 0it [00:00, ?it/s]"
      ]
     },
     "metadata": {},
     "output_type": "display_data"
    },
    {
     "name": "stdout",
     "output_type": "stream",
     "text": [
      "\n",
      "----------------------------------------------------------------------------------------------------------------------------------\n",
      "| arithmetic_mean_loss: 1.31912 | harmonic_mean_loss: 1.24900 | prediction_mean_pearson: 0.37170 | entropy_mean_pearson: 0.16397 |\n",
      "----------------------------------------------------------------------------------------------------------------------------------\n",
      "\n"
     ]
    }
   ],
   "source": [
    "data_module, model_module, graph_module, model, trainer, args = main(args)"
   ]
  }
 ],
 "metadata": {
  "kernelspec": {
   "display_name": "Python 3",
   "language": "python",
   "name": "python3"
  },
  "language_info": {
   "codemirror_mode": {
    "name": "ipython",
    "version": 3
   },
   "file_extension": ".py",
   "mimetype": "text/x-python",
   "name": "python",
   "nbconvert_exporter": "python",
   "pygments_lexer": "ipython3",
   "version": "3.7.10"
  }
 },
 "nbformat": 4,
 "nbformat_minor": 4
}
