{
 "cells": [
  {
   "cell_type": "code",
   "execution_count": 1,
   "id": "81c0091b-760c-489a-91f2-b1f639e83e57",
   "metadata": {},
   "outputs": [],
   "source": [
    "import shutil\n",
    "import os\n",
    "\n",
    "import torch\n",
    "import torch.nn as nn\n",
    "\n",
    "import boda"
   ]
  },
  {
   "cell_type": "markdown",
   "id": "9b654760-ed12-4729-86c1-ac2705f9d004",
   "metadata": {},
   "source": [
    "# Load models interactively\n",
    "\n",
    "This notebook describes how to load Malinois and use it for inference. It's important to remember that Malinois processes `(bsz, 4, 600)` tensors but was trained on 200-mers. Therefore you need to pad input sequences with 200 nucleotides on each side from the MPRA vector used to generate the data. This is done using the `FlankBuilder`."
   ]
  },
  {
   "cell_type": "markdown",
   "id": "7abcf9b1-4de4-4a7d-9f9f-5e1541e6ce65",
   "metadata": {},
   "source": [
    "# Get Malinois\n",
    "\n",
    "Can download directly from a Google Storage bucket you can access."
   ]
  },
  {
   "cell_type": "code",
   "execution_count": 2,
   "id": "d04f82f1-8cca-4c4d-b5e0-24ca18d4a039",
   "metadata": {},
   "outputs": [
    {
     "name": "stderr",
     "output_type": "stream",
     "text": [
      "Copying gs://tewhey-public-data/CODA_resources/malinois_artifacts__20211113_021200__287348.tar.gz...\n",
      "| [1 files][ 49.3 MiB/ 49.3 MiB]                                                \n",
      "Operation completed over 1 objects/49.3 MiB.                                     \n",
      "archive unpacked in ./\n"
     ]
    },
    {
     "name": "stdout",
     "output_type": "stream",
     "text": [
      "Loaded model from 20211113_021200 in eval mode\n"
     ]
    }
   ],
   "source": [
    "malinois_path = 'gs://tewhey-public-data/CODA_resources/malinois_artifacts__20211113_021200__287348.tar.gz'\n",
    "my_model = boda.common.utils.load_model(malinois_path)"
   ]
  },
  {
   "cell_type": "code",
   "execution_count": 3,
   "id": "d7b07fed-3442-4edf-a633-9fbc91f61972",
   "metadata": {
    "scrolled": true,
    "tags": []
   },
   "outputs": [],
   "source": [
    "input_len = torch.load('./artifacts/torch_checkpoint.pt')['model_hparams'].input_len\n"
   ]
  },
  {
   "cell_type": "markdown",
   "id": "0bbd2b0f-2e0e-4bfc-9860-d978e3a6c2e4",
   "metadata": {},
   "source": [
    "# Set flanks\n",
    "\n",
    "MPRA flanks are saved as constants in the `boda` repo. These need to be sized to (1, 4, 200) each and used to init `FlankBuilder`."
   ]
  },
  {
   "cell_type": "code",
   "execution_count": 4,
   "id": "79e324c2-8c15-4ef7-ac2f-1d50c05abaa9",
   "metadata": {},
   "outputs": [
    {
     "name": "stdout",
     "output_type": "stream",
     "text": [
      "left flank shape: torch.Size([1, 4, 200])\n",
      "right flank shape: torch.Size([1, 4, 200])\n"
     ]
    },
    {
     "data": {
      "text/plain": [
       "FlankBuilder()"
      ]
     },
     "execution_count": 4,
     "metadata": {},
     "output_type": "execute_result"
    }
   ],
   "source": [
    "left_pad_len = (input_len - 200) // 2\n",
    "right_pad_len= (input_len - 200) - left_pad_len\n",
    "\n",
    "left_flank = boda.common.utils.dna2tensor( \n",
    "    boda.common.constants.MPRA_UPSTREAM[-left_pad_len:] \n",
    ").unsqueeze(0)\n",
    "print(f'left flank shape: {left_flank.shape}')\n",
    "\n",
    "right_flank= boda.common.utils.dna2tensor( \n",
    "    boda.common.constants.MPRA_DOWNSTREAM[:right_pad_len] \n",
    ").unsqueeze(0)\n",
    "right_flank.shape\n",
    "print(f'right flank shape: {right_flank.shape}')\n",
    "\n",
    "flank_builder = boda.common.utils.FlankBuilder(\n",
    "    left_flank=left_flank,\n",
    "    right_flank=right_flank,\n",
    ")\n",
    "\n",
    "flank_builder.cuda()"
   ]
  },
  {
   "cell_type": "markdown",
   "id": "9041c756-f6f2-464c-b690-909c33af6d1a",
   "metadata": {},
   "source": [
    "# Example call\n",
    "\n",
    "Using `torch.no_grad()` so the computation graph isn't saved to memory. Since sequences are passed to the model as onehots in `torch.float32` format, we can use `torch.randn` to validate the model setup. Here a batch of 10 variable 200 nt (fake) sequences are being padded to 600 nt, then being passed to the model. Note, `my_model` and `flank_builder` have been set on the GPU using `.cuda()` calls. Therefore, the fake sequence also needs to be sent to `cuda`.\n",
    "\n",
    "Note: this fake sequence will result in pathological predictions, it's only an illustrative example."
   ]
  },
  {
   "cell_type": "code",
   "execution_count": 5,
   "id": "b7cc54ec-8709-478d-b804-bd0c58983a39",
   "metadata": {},
   "outputs": [
    {
     "name": "stdout",
     "output_type": "stream",
     "text": [
      "tensor([[-3.4321, -1.6530,  3.0183],\n",
      "        [-1.9178, -1.4821,  4.1295],\n",
      "        [-1.1529, -0.2439, 12.0388],\n",
      "        [-1.6435, -0.3880,  3.0986],\n",
      "        [ 2.6905,  0.0489,  7.6151],\n",
      "        [-0.2412, -1.0400,  3.9991],\n",
      "        [-2.1948, -0.6833,  5.3087],\n",
      "        [-0.8940, -0.0644,  9.7120],\n",
      "        [-1.0495, -1.0386,  6.9109],\n",
      "        [ 0.5872,  0.7307,  9.7070]], device='cuda:0')\n"
     ]
    }
   ],
   "source": [
    "placeholder = torch.randn((10,4,200)).cuda() # Simulate a batch_size x 4 nucleotide x 200 nt long sequence\n",
    "prepped_seq = flank_builder( placeholder )   # Need to add MPRA flanks\n",
    "\n",
    "with torch.no_grad():\n",
    "    print( my_model( prepped_seq ) )\n"
   ]
  },
  {
   "cell_type": "markdown",
   "id": "7352a969-29a1-46ba-a902-3033d7a361f2",
   "metadata": {},
   "source": [
    "# Run on MPRA data set\n",
    "\n",
    "We're focusing on sequences that are 200 nt long for simplicity. In the paper we padded smaller sequences with additional nucleotides from the flanks."
   ]
  },
  {
   "cell_type": "code",
   "execution_count": 6,
   "id": "1f08d4dc-0edf-41f6-ac99-0b9f1e1ddb2c",
   "metadata": {},
   "outputs": [],
   "source": [
    "import pandas as pd\n",
    "import numpy as np\n",
    "import csv\n",
    "from scipy.stats import pearsonr, spearmanr\n",
    "import tqdm.notebook as tqdm\n",
    "import matplotlib.pyplot as plt"
   ]
  },
  {
   "cell_type": "code",
   "execution_count": 7,
   "id": "f6e44b4b-fb30-41eb-86bd-b0c481ad8285",
   "metadata": {},
   "outputs": [
    {
     "name": "stdout",
     "output_type": "stream",
     "text": [
      "Copying gs://tewhey-public-data/CODA_resources/MPRA_ALL_HD_v2.txt...\n",
      "- [1 files][311.6 MiB/311.6 MiB]                                                \n",
      "Operation completed over 1 objects/311.6 MiB.                                    \n"
     ]
    },
    {
     "name": "stderr",
     "output_type": "stream",
     "text": [
      "/opt/conda/lib/python3.7/site-packages/IPython/core/interactiveshell.py:3553: DtypeWarning: Columns (6,10) have mixed types.Specify dtype option on import or set low_memory=False.\n",
      "  exec(code_obj, self.user_global_ns, self.user_ns)\n"
     ]
    }
   ],
   "source": [
    "!gsutil cp gs://tewhey-public-data/CODA_resources/MPRA_ALL_HD_v2.txt ./\n",
    "mpra_19 = pd.read_table('MPRA_ALL_HD_v2.txt', sep=' ', header=0)"
   ]
  },
  {
   "cell_type": "code",
   "execution_count": 8,
   "id": "a29c2452-e65f-406f-bb39-31cc72cd5d1c",
   "metadata": {},
   "outputs": [
    {
     "data": {
      "application/vnd.jupyter.widget-view+json": {
       "model_id": "a57a2af0e1154b70a5f4d39d1d72a83d",
       "version_major": 2,
       "version_minor": 0
      },
      "text/plain": [
       "  0%|          | 0/665326 [00:00<?, ?it/s]"
      ]
     },
     "metadata": {},
     "output_type": "display_data"
    }
   ],
   "source": [
    "pass_seq = mpra_19.loc[ mpra_19['nt_sequence'].str.len() == 200 ].reset_index(drop=True)\n",
    "\n",
    "seq_tensor  = torch.stack([ boda.common.utils.dna2tensor(x['nt_sequence']) for i, x in tqdm.tqdm(pass_seq.iterrows(), total=pass_seq.shape[0]) ], dim=0)\n",
    "seq_dataset = torch.utils.data.TensorDataset(seq_tensor)\n",
    "seq_loader  = torch.utils.data.DataLoader(seq_dataset, batch_size=128)"
   ]
  },
  {
   "cell_type": "code",
   "execution_count": 9,
   "id": "c1a73482-8afb-4aa2-a145-5448a0e9681a",
   "metadata": {},
   "outputs": [
    {
     "data": {
      "application/vnd.jupyter.widget-view+json": {
       "model_id": "3875a46d00b24a26ba27c9e514354824",
       "version_major": 2,
       "version_minor": 0
      },
      "text/plain": [
       "  0%|          | 0/5198 [00:00<?, ?it/s]"
      ]
     },
     "metadata": {},
     "output_type": "display_data"
    }
   ],
   "source": [
    "results = []\n",
    "\n",
    "with torch.no_grad():\n",
    "    for i, batch in enumerate(tqdm.tqdm(seq_loader)):\n",
    "        prepped_seq = flank_builder( batch[0].cuda() )\n",
    "        predictions = my_model( prepped_seq ) + \\\n",
    "                      my_model( prepped_seq.flip(dims=[1,2]) ) # Also\n",
    "        predictions = predictions.div(2.)\n",
    "        results.append(predictions.detach().cpu())\n",
    "                \n",
    "predictions = torch.cat(results, dim=0)"
   ]
  },
  {
   "cell_type": "code",
   "execution_count": 10,
   "id": "e0ea21a3-099a-49b7-bf25-d4e4cfe0f14e",
   "metadata": {},
   "outputs": [
    {
     "data": {
      "text/html": [
       "<div>\n",
       "<style scoped>\n",
       "    .dataframe tbody tr th:only-of-type {\n",
       "        vertical-align: middle;\n",
       "    }\n",
       "\n",
       "    .dataframe tbody tr th {\n",
       "        vertical-align: top;\n",
       "    }\n",
       "\n",
       "    .dataframe thead th {\n",
       "        text-align: right;\n",
       "    }\n",
       "</style>\n",
       "<table border=\"1\" class=\"dataframe\">\n",
       "  <thead>\n",
       "    <tr style=\"text-align: right;\">\n",
       "      <th></th>\n",
       "      <th>HepG2_mean</th>\n",
       "      <th>HepG2_std</th>\n",
       "      <th>ID_count</th>\n",
       "      <th>IDs</th>\n",
       "      <th>K562_mean</th>\n",
       "      <th>K562_std</th>\n",
       "      <th>OL</th>\n",
       "      <th>OL_count</th>\n",
       "      <th>SKNSH_mean</th>\n",
       "      <th>SKNSH_std</th>\n",
       "      <th>...</th>\n",
       "      <th>exp_mean_hepg2</th>\n",
       "      <th>exp_mean_k562</th>\n",
       "      <th>exp_mean_sknsh</th>\n",
       "      <th>lfcSE_hepg2</th>\n",
       "      <th>lfcSE_k562</th>\n",
       "      <th>lfcSE_sknsh</th>\n",
       "      <th>nt_sequence</th>\n",
       "      <th>K562_preds</th>\n",
       "      <th>HepG2_preds</th>\n",
       "      <th>SKNSH_preds</th>\n",
       "    </tr>\n",
       "  </thead>\n",
       "  <tbody>\n",
       "    <tr>\n",
       "      <th>0</th>\n",
       "      <td>0.936302</td>\n",
       "      <td>NaN</td>\n",
       "      <td>1</td>\n",
       "      <td>10:133978962:T:C:A:wC</td>\n",
       "      <td>1.138157</td>\n",
       "      <td>NaN</td>\n",
       "      <td>29</td>\n",
       "      <td>1.0</td>\n",
       "      <td>0.433954</td>\n",
       "      <td>NaN</td>\n",
       "      <td>...</td>\n",
       "      <td>3903.485478</td>\n",
       "      <td>4491.882102</td>\n",
       "      <td>2758.124172</td>\n",
       "      <td>0.070170</td>\n",
       "      <td>0.071954</td>\n",
       "      <td>0.099081</td>\n",
       "      <td>CGCTTGTTCTCCCACGTGGGGCTGGTTCAGTCATGTCTGGGGGTGA...</td>\n",
       "      <td>1.414011</td>\n",
       "      <td>1.322426</td>\n",
       "      <td>0.819247</td>\n",
       "    </tr>\n",
       "    <tr>\n",
       "      <th>1</th>\n",
       "      <td>-0.019441</td>\n",
       "      <td>0.181691</td>\n",
       "      <td>1</td>\n",
       "      <td>10:103714782:C:T:A:wC</td>\n",
       "      <td>-0.241691</td>\n",
       "      <td>0.116453</td>\n",
       "      <td>29,33</td>\n",
       "      <td>2.0</td>\n",
       "      <td>-0.383256</td>\n",
       "      <td>0.027153</td>\n",
       "      <td>...</td>\n",
       "      <td>438.217426</td>\n",
       "      <td>363.590834</td>\n",
       "      <td>307.232292</td>\n",
       "      <td>0.183618</td>\n",
       "      <td>0.149959</td>\n",
       "      <td>0.197220</td>\n",
       "      <td>CAGTTGAGCAGGTATGTCAGACTTTTATAAAATATCTCCCCCACTC...</td>\n",
       "      <td>-0.249855</td>\n",
       "      <td>-0.161317</td>\n",
       "      <td>-0.276066</td>\n",
       "    </tr>\n",
       "    <tr>\n",
       "      <th>2</th>\n",
       "      <td>2.198518</td>\n",
       "      <td>0.264541</td>\n",
       "      <td>1</td>\n",
       "      <td>10:1932535:G:A:R:wC</td>\n",
       "      <td>0.806424</td>\n",
       "      <td>0.155304</td>\n",
       "      <td>27,30,31</td>\n",
       "      <td>3.0</td>\n",
       "      <td>1.832190</td>\n",
       "      <td>0.163337</td>\n",
       "      <td>...</td>\n",
       "      <td>4911.621720</td>\n",
       "      <td>2131.653819</td>\n",
       "      <td>4157.073042</td>\n",
       "      <td>0.107208</td>\n",
       "      <td>0.103578</td>\n",
       "      <td>0.113405</td>\n",
       "      <td>CAGTTGAATCCATTTCATCAAAATTTATCGATTAAAATCAGTCCTA...</td>\n",
       "      <td>0.892995</td>\n",
       "      <td>1.522612</td>\n",
       "      <td>1.519431</td>\n",
       "    </tr>\n",
       "    <tr>\n",
       "      <th>3</th>\n",
       "      <td>2.151191</td>\n",
       "      <td>NaN</td>\n",
       "      <td>1</td>\n",
       "      <td>3:155535351:G:C:A:wC</td>\n",
       "      <td>2.617037</td>\n",
       "      <td>NaN</td>\n",
       "      <td>30</td>\n",
       "      <td>1.0</td>\n",
       "      <td>2.195686</td>\n",
       "      <td>NaN</td>\n",
       "      <td>...</td>\n",
       "      <td>701.519324</td>\n",
       "      <td>969.196210</td>\n",
       "      <td>722.443599</td>\n",
       "      <td>0.117329</td>\n",
       "      <td>0.129472</td>\n",
       "      <td>0.113711</td>\n",
       "      <td>CAGTTGAATCTTATCCTTCATTTTCTTTCTGACCTTATACTTACTT...</td>\n",
       "      <td>2.049520</td>\n",
       "      <td>2.146376</td>\n",
       "      <td>2.141627</td>\n",
       "    </tr>\n",
       "    <tr>\n",
       "      <th>4</th>\n",
       "      <td>2.528459</td>\n",
       "      <td>NaN</td>\n",
       "      <td>1</td>\n",
       "      <td>3:155535351:G:C:R:wC</td>\n",
       "      <td>2.816753</td>\n",
       "      <td>NaN</td>\n",
       "      <td>30</td>\n",
       "      <td>1.0</td>\n",
       "      <td>2.509255</td>\n",
       "      <td>NaN</td>\n",
       "      <td>...</td>\n",
       "      <td>963.142129</td>\n",
       "      <td>1176.035964</td>\n",
       "      <td>948.146039</td>\n",
       "      <td>0.130918</td>\n",
       "      <td>0.141325</td>\n",
       "      <td>0.091585</td>\n",
       "      <td>CAGTTGAATCTTATCCTTCATTTTCTTTCTGACCTTATACTTACTT...</td>\n",
       "      <td>2.269007</td>\n",
       "      <td>2.329491</td>\n",
       "      <td>2.307048</td>\n",
       "    </tr>\n",
       "    <tr>\n",
       "      <th>...</th>\n",
       "      <td>...</td>\n",
       "      <td>...</td>\n",
       "      <td>...</td>\n",
       "      <td>...</td>\n",
       "      <td>...</td>\n",
       "      <td>...</td>\n",
       "      <td>...</td>\n",
       "      <td>...</td>\n",
       "      <td>...</td>\n",
       "      <td>...</td>\n",
       "      <td>...</td>\n",
       "      <td>...</td>\n",
       "      <td>...</td>\n",
       "      <td>...</td>\n",
       "      <td>...</td>\n",
       "      <td>...</td>\n",
       "      <td>...</td>\n",
       "      <td>...</td>\n",
       "      <td>...</td>\n",
       "      <td>...</td>\n",
       "      <td>...</td>\n",
       "    </tr>\n",
       "    <tr>\n",
       "      <th>665321</th>\n",
       "      <td>-0.321885</td>\n",
       "      <td>NaN</td>\n",
       "      <td>1</td>\n",
       "      <td>10:15182849:NA:NA</td>\n",
       "      <td>-0.573023</td>\n",
       "      <td>NaN</td>\n",
       "      <td>NaN</td>\n",
       "      <td>NaN</td>\n",
       "      <td>-0.193369</td>\n",
       "      <td>NaN</td>\n",
       "      <td>...</td>\n",
       "      <td>211.399415</td>\n",
       "      <td>177.638087</td>\n",
       "      <td>231.025429</td>\n",
       "      <td>0.196973</td>\n",
       "      <td>0.172873</td>\n",
       "      <td>0.200871</td>\n",
       "      <td>CAGGGTGCCTGGGGGTTGGCTCCACAGACAGGGATGGCTGCCATCT...</td>\n",
       "      <td>-0.233415</td>\n",
       "      <td>-0.242785</td>\n",
       "      <td>-0.177466</td>\n",
       "    </tr>\n",
       "    <tr>\n",
       "      <th>665322</th>\n",
       "      <td>0.444297</td>\n",
       "      <td>NaN</td>\n",
       "      <td>1</td>\n",
       "      <td>2:197276159:NA:NA</td>\n",
       "      <td>-0.047592</td>\n",
       "      <td>NaN</td>\n",
       "      <td>NaN</td>\n",
       "      <td>NaN</td>\n",
       "      <td>0.319537</td>\n",
       "      <td>NaN</td>\n",
       "      <td>...</td>\n",
       "      <td>115.003293</td>\n",
       "      <td>81.351179</td>\n",
       "      <td>105.356335</td>\n",
       "      <td>0.265899</td>\n",
       "      <td>0.251303</td>\n",
       "      <td>0.275643</td>\n",
       "      <td>CAGGGTGCAGTGCTCTTCCTTTTTAGTGGGTGCTATCACTTCTAAA...</td>\n",
       "      <td>-0.004899</td>\n",
       "      <td>0.889780</td>\n",
       "      <td>-0.015843</td>\n",
       "    </tr>\n",
       "    <tr>\n",
       "      <th>665323</th>\n",
       "      <td>-0.088156</td>\n",
       "      <td>NaN</td>\n",
       "      <td>1</td>\n",
       "      <td>11:10712109:NA:NA</td>\n",
       "      <td>-0.217911</td>\n",
       "      <td>NaN</td>\n",
       "      <td>NaN</td>\n",
       "      <td>NaN</td>\n",
       "      <td>-0.106013</td>\n",
       "      <td>NaN</td>\n",
       "      <td>...</td>\n",
       "      <td>157.378913</td>\n",
       "      <td>143.499246</td>\n",
       "      <td>155.354492</td>\n",
       "      <td>0.226295</td>\n",
       "      <td>0.182207</td>\n",
       "      <td>0.231551</td>\n",
       "      <td>CAGGGTCATGGGCGTGAGTTACCTCTGCTAAGACTCTGAATTTGAA...</td>\n",
       "      <td>-0.280889</td>\n",
       "      <td>0.021142</td>\n",
       "      <td>-0.305690</td>\n",
       "    </tr>\n",
       "    <tr>\n",
       "      <th>665324</th>\n",
       "      <td>1.053338</td>\n",
       "      <td>NaN</td>\n",
       "      <td>1</td>\n",
       "      <td>sample_4_4_4_02__044:0559</td>\n",
       "      <td>1.276081</td>\n",
       "      <td>NaN</td>\n",
       "      <td>NaN</td>\n",
       "      <td>NaN</td>\n",
       "      <td>0.702644</td>\n",
       "      <td>NaN</td>\n",
       "      <td>...</td>\n",
       "      <td>170.042767</td>\n",
       "      <td>198.413252</td>\n",
       "      <td>133.212516</td>\n",
       "      <td>0.238876</td>\n",
       "      <td>0.170216</td>\n",
       "      <td>0.247984</td>\n",
       "      <td>CAGGGTCATAGGGGGAGTTATTCAAGCACTCTAGCTGACCGCTGTC...</td>\n",
       "      <td>1.967246</td>\n",
       "      <td>2.293525</td>\n",
       "      <td>2.475624</td>\n",
       "    </tr>\n",
       "    <tr>\n",
       "      <th>665325</th>\n",
       "      <td>0.099737</td>\n",
       "      <td>NaN</td>\n",
       "      <td>1</td>\n",
       "      <td>2:42731164:NA:NA</td>\n",
       "      <td>1.064113</td>\n",
       "      <td>NaN</td>\n",
       "      <td>NaN</td>\n",
       "      <td>NaN</td>\n",
       "      <td>0.525217</td>\n",
       "      <td>NaN</td>\n",
       "      <td>...</td>\n",
       "      <td>307.563325</td>\n",
       "      <td>601.067062</td>\n",
       "      <td>413.177230</td>\n",
       "      <td>0.161234</td>\n",
       "      <td>0.118288</td>\n",
       "      <td>0.171828</td>\n",
       "      <td>TTTTTTTTTTTTTTTTGAGATGGAGTTTCCCTCTTGTCACCCAGGC...</td>\n",
       "      <td>0.732537</td>\n",
       "      <td>0.516057</td>\n",
       "      <td>0.661903</td>\n",
       "    </tr>\n",
       "  </tbody>\n",
       "</table>\n",
       "<p>665326 rows × 26 columns</p>\n",
       "</div>"
      ],
      "text/plain": [
       "        HepG2_mean  HepG2_std  ID_count                        IDs  K562_mean  \\\n",
       "0         0.936302        NaN         1      10:133978962:T:C:A:wC   1.138157   \n",
       "1        -0.019441   0.181691         1      10:103714782:C:T:A:wC  -0.241691   \n",
       "2         2.198518   0.264541         1        10:1932535:G:A:R:wC   0.806424   \n",
       "3         2.151191        NaN         1       3:155535351:G:C:A:wC   2.617037   \n",
       "4         2.528459        NaN         1       3:155535351:G:C:R:wC   2.816753   \n",
       "...            ...        ...       ...                        ...        ...   \n",
       "665321   -0.321885        NaN         1          10:15182849:NA:NA  -0.573023   \n",
       "665322    0.444297        NaN         1          2:197276159:NA:NA  -0.047592   \n",
       "665323   -0.088156        NaN         1          11:10712109:NA:NA  -0.217911   \n",
       "665324    1.053338        NaN         1  sample_4_4_4_02__044:0559   1.276081   \n",
       "665325    0.099737        NaN         1           2:42731164:NA:NA   1.064113   \n",
       "\n",
       "        K562_std        OL  OL_count  SKNSH_mean  SKNSH_std  ...  \\\n",
       "0            NaN        29       1.0    0.433954        NaN  ...   \n",
       "1       0.116453     29,33       2.0   -0.383256   0.027153  ...   \n",
       "2       0.155304  27,30,31       3.0    1.832190   0.163337  ...   \n",
       "3            NaN        30       1.0    2.195686        NaN  ...   \n",
       "4            NaN        30       1.0    2.509255        NaN  ...   \n",
       "...          ...       ...       ...         ...        ...  ...   \n",
       "665321       NaN       NaN       NaN   -0.193369        NaN  ...   \n",
       "665322       NaN       NaN       NaN    0.319537        NaN  ...   \n",
       "665323       NaN       NaN       NaN   -0.106013        NaN  ...   \n",
       "665324       NaN       NaN       NaN    0.702644        NaN  ...   \n",
       "665325       NaN       NaN       NaN    0.525217        NaN  ...   \n",
       "\n",
       "       exp_mean_hepg2 exp_mean_k562  exp_mean_sknsh  lfcSE_hepg2  lfcSE_k562  \\\n",
       "0         3903.485478   4491.882102     2758.124172     0.070170    0.071954   \n",
       "1          438.217426    363.590834      307.232292     0.183618    0.149959   \n",
       "2         4911.621720   2131.653819     4157.073042     0.107208    0.103578   \n",
       "3          701.519324    969.196210      722.443599     0.117329    0.129472   \n",
       "4          963.142129   1176.035964      948.146039     0.130918    0.141325   \n",
       "...               ...           ...             ...          ...         ...   \n",
       "665321     211.399415    177.638087      231.025429     0.196973    0.172873   \n",
       "665322     115.003293     81.351179      105.356335     0.265899    0.251303   \n",
       "665323     157.378913    143.499246      155.354492     0.226295    0.182207   \n",
       "665324     170.042767    198.413252      133.212516     0.238876    0.170216   \n",
       "665325     307.563325    601.067062      413.177230     0.161234    0.118288   \n",
       "\n",
       "       lfcSE_sknsh                                        nt_sequence  \\\n",
       "0         0.099081  CGCTTGTTCTCCCACGTGGGGCTGGTTCAGTCATGTCTGGGGGTGA...   \n",
       "1         0.197220  CAGTTGAGCAGGTATGTCAGACTTTTATAAAATATCTCCCCCACTC...   \n",
       "2         0.113405  CAGTTGAATCCATTTCATCAAAATTTATCGATTAAAATCAGTCCTA...   \n",
       "3         0.113711  CAGTTGAATCTTATCCTTCATTTTCTTTCTGACCTTATACTTACTT...   \n",
       "4         0.091585  CAGTTGAATCTTATCCTTCATTTTCTTTCTGACCTTATACTTACTT...   \n",
       "...            ...                                                ...   \n",
       "665321    0.200871  CAGGGTGCCTGGGGGTTGGCTCCACAGACAGGGATGGCTGCCATCT...   \n",
       "665322    0.275643  CAGGGTGCAGTGCTCTTCCTTTTTAGTGGGTGCTATCACTTCTAAA...   \n",
       "665323    0.231551  CAGGGTCATGGGCGTGAGTTACCTCTGCTAAGACTCTGAATTTGAA...   \n",
       "665324    0.247984  CAGGGTCATAGGGGGAGTTATTCAAGCACTCTAGCTGACCGCTGTC...   \n",
       "665325    0.171828  TTTTTTTTTTTTTTTTGAGATGGAGTTTCCCTCTTGTCACCCAGGC...   \n",
       "\n",
       "        K562_preds  HepG2_preds  SKNSH_preds  \n",
       "0         1.414011     1.322426     0.819247  \n",
       "1        -0.249855    -0.161317    -0.276066  \n",
       "2         0.892995     1.522612     1.519431  \n",
       "3         2.049520     2.146376     2.141627  \n",
       "4         2.269007     2.329491     2.307048  \n",
       "...            ...          ...          ...  \n",
       "665321   -0.233415    -0.242785    -0.177466  \n",
       "665322   -0.004899     0.889780    -0.015843  \n",
       "665323   -0.280889     0.021142    -0.305690  \n",
       "665324    1.967246     2.293525     2.475624  \n",
       "665325    0.732537     0.516057     0.661903  \n",
       "\n",
       "[665326 rows x 26 columns]"
      ]
     },
     "execution_count": 10,
     "metadata": {},
     "output_type": "execute_result"
    }
   ],
   "source": [
    "pred_df     = pd.DataFrame( predictions.numpy(), columns=['K562_preds', 'HepG2_preds', 'SKNSH_preds'] )\n",
    "all_results = pd.concat([pass_seq, pred_df], axis=1)\n",
    "all_results"
   ]
  },
  {
   "cell_type": "markdown",
   "id": "5dc2b256-bc0c-4387-bf6f-5732d1330f2e",
   "metadata": {},
   "source": [
    "# Validation set performance\n",
    "Check performance on chromosomes 19, 21, and X (held-out for validation during hparam selection)."
   ]
  },
  {
   "cell_type": "code",
   "execution_count": 11,
   "id": "6482e844-48dd-4704-b4c6-9037e75d91e0",
   "metadata": {},
   "outputs": [],
   "source": [
    "chr_filter = (all_results['chr'] == 19) | \\\n",
    "             (all_results['chr'] == 21) | \\\n",
    "             (all_results['chr'] == '19') | \\\n",
    "             (all_results['chr'] == '21') | \\\n",
    "             (all_results['chr'] == 'X')\n",
    "\n",
    "val_results = all_results.loc[ chr_filter ]"
   ]
  },
  {
   "cell_type": "markdown",
   "id": "bcdbf374-5baf-41fc-8609-cd9eed570bbc",
   "metadata": {},
   "source": [
    "## Pearson's r"
   ]
  },
  {
   "cell_type": "code",
   "execution_count": 12,
   "id": "b59cea9d-dfa5-46d8-b871-7ba09db473b4",
   "metadata": {},
   "outputs": [
    {
     "name": "stdout",
     "output_type": "stream",
     "text": [
      "K562\n",
      "stat: 0.9152, pvalue: 0.0\n",
      "HepG2\n",
      "stat: 0.9131, pvalue: 0.0\n",
      "SKNSH\n",
      "stat: 0.9104, pvalue: 0.0\n"
     ]
    }
   ],
   "source": [
    "for cell in ['K562', 'HepG2', 'SKNSH']:\n",
    "    corr = pearsonr(val_results[f'{cell}_mean'], val_results[f'{cell}_preds'])\n",
    "    print(cell)\n",
    "    print(f'stat: {corr[0]:.4f}, pvalue: {corr[1]}')"
   ]
  },
  {
   "cell_type": "markdown",
   "id": "5df3e87d-1f39-4f3c-a9b0-92174faf98f2",
   "metadata": {},
   "source": [
    "## Spearman's rho"
   ]
  },
  {
   "cell_type": "code",
   "execution_count": 13,
   "id": "4641ddc2-5e3e-4d82-8278-2af16aca7a2b",
   "metadata": {},
   "outputs": [
    {
     "name": "stdout",
     "output_type": "stream",
     "text": [
      "K562\n",
      "stat: 0.8504, pvalue: 0.0\n",
      "HepG2\n",
      "stat: 0.8675, pvalue: 0.0\n",
      "SKNSH\n",
      "stat: 0.8661, pvalue: 0.0\n"
     ]
    }
   ],
   "source": [
    "for cell in ['K562', 'HepG2', 'SKNSH']:\n",
    "    corr = spearmanr(val_results[f'{cell}_mean'], val_results[f'{cell}_preds'])\n",
    "    print(cell)\n",
    "    print(f'stat: {corr[0]:.4f}, pvalue: {corr[1]}')"
   ]
  },
  {
   "cell_type": "markdown",
   "id": "0995d807-03c3-4dbc-b8f0-ed4e7c43281e",
   "metadata": {},
   "source": [
    "# Test set performance\n",
    "Check performance on chromosomes 7 and 13 (held-out for final testing, not used for model selection)."
   ]
  },
  {
   "cell_type": "code",
   "execution_count": 14,
   "id": "cb49832b-346f-49e6-80a1-fc16857d7ab3",
   "metadata": {},
   "outputs": [],
   "source": [
    "chr_filter = (all_results['chr'] == 7) | \\\n",
    "             (all_results['chr'] == 13) | \\\n",
    "             (all_results['chr'] == '7') | \\\n",
    "             (all_results['chr'] == '13')\n",
    "\n",
    "test_results = all_results.loc[ chr_filter ]"
   ]
  },
  {
   "cell_type": "markdown",
   "id": "433fb2ac-341d-459d-afb6-0aeb4a33cfb1",
   "metadata": {},
   "source": [
    "## Pearson's r"
   ]
  },
  {
   "cell_type": "code",
   "execution_count": 15,
   "id": "f06c671d-9258-47d4-87d7-fa7730574e8d",
   "metadata": {},
   "outputs": [
    {
     "name": "stdout",
     "output_type": "stream",
     "text": [
      "K562\n",
      "stat: 0.8821, pvalue: 0.0\n",
      "HepG2\n",
      "stat: 0.8856, pvalue: 0.0\n",
      "SKNSH\n",
      "stat: 0.8766, pvalue: 0.0\n"
     ]
    }
   ],
   "source": [
    "for cell in ['K562', 'HepG2', 'SKNSH']:\n",
    "    corr = pearsonr(test_results[f'{cell}_mean'], test_results[f'{cell}_preds'])\n",
    "    print(cell)\n",
    "    print(f'stat: {corr[0]:.4f}, pvalue: {corr[1]}')"
   ]
  },
  {
   "cell_type": "markdown",
   "id": "a26ce3a4-7080-487a-ba89-85ad91317a05",
   "metadata": {},
   "source": [
    "## Spearman's rho"
   ]
  },
  {
   "cell_type": "code",
   "execution_count": 16,
   "id": "f307e090-9688-42ac-aebb-4e9d20bf3dab",
   "metadata": {},
   "outputs": [
    {
     "name": "stdout",
     "output_type": "stream",
     "text": [
      "K562\n",
      "stat: 0.8198, pvalue: 0.0\n",
      "HepG2\n",
      "stat: 0.8381, pvalue: 0.0\n",
      "SKNSH\n",
      "stat: 0.8378, pvalue: 0.0\n"
     ]
    }
   ],
   "source": [
    "test_results = all_results.loc[ chr_filter ]\n",
    "\n",
    "for cell in ['K562', 'HepG2', 'SKNSH']:\n",
    "    corr = spearmanr(test_results[f'{cell}_mean'], test_results[f'{cell}_preds'])\n",
    "    print(cell)\n",
    "    print(f'stat: {corr[0]:.4f}, pvalue: {corr[1]}')"
   ]
  }
 ],
 "metadata": {
  "kernelspec": {
   "display_name": "Python [conda env:root] *",
   "language": "python",
   "name": "conda-root-py"
  },
  "language_info": {
   "codemirror_mode": {
    "name": "ipython",
    "version": 3
   },
   "file_extension": ".py",
   "mimetype": "text/x-python",
   "name": "python",
   "nbconvert_exporter": "python",
   "pygments_lexer": "ipython3",
   "version": "3.7.12"
  }
 },
 "nbformat": 4,
 "nbformat_minor": 5
}
