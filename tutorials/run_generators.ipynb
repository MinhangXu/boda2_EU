{
 "cells": [
  {
   "cell_type": "code",
   "execution_count": 1,
   "id": "bf80086f-a0e9-4b92-8672-8b52edfcb71e",
   "metadata": {},
   "outputs": [],
   "source": [
    "import shutil\n",
    "import os\n",
    "import csv\n",
    "import time\n",
    "import math\n",
    "\n",
    "import pandas as pd\n",
    "import numpy as np\n",
    "import scipy as sp\n",
    "from scipy import stats\n",
    "from scipy.stats import pearsonr\n",
    "import scipy.optimize\n",
    "\n",
    "\n",
    "import torch\n",
    "import torch.nn as nn\n",
    "import torch.nn.functional as F\n",
    "\n",
    "import boda\n",
    "\n",
    "import tqdm.notebook as tqdm\n",
    "\n",
    "import matplotlib as mpl\n",
    "import matplotlib.pyplot as plt\n",
    "from matplotlib import colors, cm\n",
    "import seaborn as sns\n",
    "import arviz as az\n",
    "\n",
    "mpl.rcParams['pdf.fonttype'] = 42"
   ]
  },
  {
   "cell_type": "markdown",
   "id": "133cb6ec-7d44-4109-a6dc-9ee096c3e2ec",
   "metadata": {},
   "source": [
    "# Sequence generation\n",
    "This library focuses on iterative optimization of sequences for cis-regulatory element (CRE) design. There are three components you need to set up a sequence design pipeline:\n",
    "\n",
    "- `Parameters`: Specify the subject to be optimized. For our manuscript this is typically a `(batch_size, 4, 200)` tensor, representing a 200nt oligo or a distribution over 200nt oligos.\n",
    "- `Energy`: An objective function accepts an input from `Parameters()` of size (batch_size,...) and yields a 1-D `(batch_size,)` output reflecting the goals of optimization. The convention here is that minimizing energy is the optimization goal.\n",
    "- `Generator`: An algorithm that accepts a `Parameter` and `Energy` class to generate proposals.\n",
    "\n",
    "While there is some interchangeability, all combinations of `Parameters`, `Energy`, and `Generator` classes are not valid. The minimal requirements of these classes are reflected in `ParamsBase` and `BaseEnergy` and overall compatibility with `boda2/src/generate.py`. Additionally every `Generator` should have a `.generate()` method that returns a dictionary of `{'samples': [], 'energies':[]}`."
   ]
  },
  {
   "cell_type": "markdown",
   "id": "a775c746-8ac8-4dc4-9d4d-302d16731915",
   "metadata": {},
   "source": [
    "## Load model\n",
    "Load a model to serve as an oracle for sequence generation. The default in this notebook is to download Malinois from our public GS bucket, but if you can use any model that accepts a 3-dim `(batch_size, 4, 600)` input to produce a 2-dim `(batch_size, n_features)` output. As an alternate example we provide the option to load a model trained using the `construct_new_model.ipynb` tutorial notebook. If you use this alternate, please ensure the model moduels are consistant between the two notebooks.\n",
    "\n",
    "If you're using models that handle drastically different shapes, you may need to do some work to make sure the Parameters are harmonized with your model inputs."
   ]
  },
  {
   "cell_type": "code",
   "execution_count": 2,
   "id": "1d8c044f-ae41-4632-8555-c220ef373250",
   "metadata": {},
   "outputs": [
    {
     "name": "stderr",
     "output_type": "stream",
     "text": [
      "Copying gs://tewhey-public-data/CODA_resources/malinois_artifacts__20211113_021200__287348.tar.gz...\n",
      "| [1 files][ 49.3 MiB/ 49.3 MiB]                                                \n",
      "Operation completed over 1 objects/49.3 MiB.                                     \n",
      "archive unpacked in ./\n"
     ]
    },
    {
     "name": "stdout",
     "output_type": "stream",
     "text": [
      "Loaded model from 20211113_021200 in eval mode\n"
     ]
    }
   ],
   "source": [
    "USE_MAL = True\n",
    "if USE_MAL:\n",
    "    malinois_path = 'gs://tewhey-public-data/CODA_resources/malinois_artifacts__20211113_021200__287348.tar.gz'\n",
    "    my_model = boda.common.utils.load_model(malinois_path)\n",
    "else:\n",
    "    model_module = boda.model.BassetBranched\n",
    "    my_model = model_module(\n",
    "        n_outputs=2, \n",
    "        n_linear_layers=1, linear_channels=1000,\n",
    "        linear_activation='ReLU', linear_dropout_p=0.12, \n",
    "        n_branched_layers=3, branched_channels=140, \n",
    "        branched_activation='ReLU', branched_dropout_p=0.56, \n",
    "        loss_criterion='L1KLmixed', loss_args={'beta':5.0}\n",
    "    )\n",
    "    my_model.load_state_dict(torch.load('example_new_model.pt'))"
   ]
  },
  {
   "cell_type": "code",
   "execution_count": 3,
   "id": "8111f94e-e0ba-4bcc-952a-2746d96d8cbb",
   "metadata": {},
   "outputs": [],
   "source": [
    "try:\n",
    "    input_len = torch.load('./artifacts/torch_checkpoint.pt')['model_hparams'].input_len\n",
    "except:\n",
    "    input_len = 600"
   ]
  },
  {
   "cell_type": "markdown",
   "id": "58f0ee54-c8ee-4246-8a70-3c8eec5ae1a5",
   "metadata": {},
   "source": [
    "# Fast SeqProp\n",
    "\n",
    "Fast SeqProp (Fast activation maximization for molecular sequence design by Johannes Linder and Georg Seeling) is an adaptation of the straight through estimator for fixed length, one-hot sequence design. We implment this using the:\n",
    "\n",
    "- `StraightThroughParameters` parameter class\n",
    "- `FastSeqProp` generator class\n",
    "\n",
    "which can be used in combination with many different `Energy` classes."
   ]
  },
  {
   "cell_type": "code",
   "execution_count": 4,
   "id": "345bc6c1-daed-48be-b184-e926e1caa532",
   "metadata": {
    "tags": []
   },
   "outputs": [
    {
     "data": {
      "text/plain": [
       "StraightThroughParameters(\n",
       "  (norm): InstanceNorm1d(4, eps=1e-05, momentum=0.1, affine=False, track_running_stats=False)\n",
       ")"
      ]
     },
     "execution_count": 4,
     "metadata": {},
     "output_type": "execute_result"
    }
   ],
   "source": [
    "logits = torch.randn(\n",
    "    256, 4, 200\n",
    ")\n",
    "\n",
    "left_flank = boda.common.utils.dna2tensor( \n",
    "    boda.common.constants.MPRA_UPSTREAM[-200:] \n",
    ").unsqueeze(0).expand(logits.shape[0], -1, -1)\n",
    "\n",
    "right_flank= boda.common.utils.dna2tensor( \n",
    "    boda.common.constants.MPRA_DOWNSTREAM[:200] \n",
    ").unsqueeze(0).expand(logits.shape[0], -1, -1)\n",
    "\n",
    "params = boda.generator.StraightThroughParameters(\n",
    "    data=logits, left_flank=left_flank, right_flank=right_flank, \n",
    "    n_samples=10, use_affine=False\n",
    ")\n",
    "params.cuda()"
   ]
  },
  {
   "cell_type": "code",
   "execution_count": 5,
   "id": "adb95be9-aa71-4d83-85e9-f5e67a854d78",
   "metadata": {},
   "outputs": [],
   "source": [
    "energy = boda.generator.MinGapEnergy(my_model, target_feature=0, a_min=-2., a_max=6.)"
   ]
  },
  {
   "cell_type": "code",
   "execution_count": 6,
   "id": "773af757-8184-45e4-8332-58d320cc61cc",
   "metadata": {},
   "outputs": [],
   "source": [
    "FSP = boda.generator.FastSeqProp(energy, params)"
   ]
  },
  {
   "cell_type": "markdown",
   "id": "ad43199d-d71c-4ea5-8bc6-79d6fa6a24bb",
   "metadata": {},
   "source": [
    "## Generate\n",
    "There are two options to design sequences. \n",
    "\n",
    "With `FastSeqProp` you can use the `run` method to optimize the distribution of the straight through estimator parameters stored in `params`. You can then use the `get_sample` method in `StraightThroughParameters` to collect an `(n_samples, batch_size, 4, 600` one-hot tensor that has collected `n_samples` from each optimized distribution.\n",
    "\n",
    "Alternatively, you can use the `generate` method to repeatedly execute `FastSeqProp` until the desired number of one-hot proposals are collected. At each iteration, the best sample per sequence distribution will be collected to represent that distribution at the end of optimization."
   ]
  },
  {
   "cell_type": "code",
   "execution_count": 7,
   "id": "355f1856-f31b-4619-84f6-7915c99a10eb",
   "metadata": {
    "scrolled": true,
    "tags": []
   },
   "outputs": [
    {
     "name": "stderr",
     "output_type": "stream",
     "text": [
      "Steps:   0%|                                            | 0/200 [00:00<?, ?it/s]Penalty not implemented\n",
      "Steps: 100%|█████████████| 200/200 [00:54<00:00,  3.65it/s, Loss=-5.79, LR=1e-6]\n"
     ]
    },
    {
     "data": {
      "image/png": "[encoded data removed]",
      "text/plain": [
       "<Figure size 640x480 with 1 Axes>"
      ]
     },
     "metadata": {},
     "output_type": "display_data"
    },
    {
     "data": {
      "text/plain": [
       "torch.Size([10, 256, 4, 200])"
      ]
     },
     "execution_count": 7,
     "metadata": {},
     "output_type": "execute_result"
    }
   ],
   "source": [
    "FSP.run(n_steps=200, lr_scheduler=True, create_plot=True)\n",
    "proposals = params.get_sample()\n",
    "proposals.shape"
   ]
  },
  {
   "cell_type": "code",
   "execution_count": 8,
   "id": "ee3288dc-1df2-45d3-980d-80a99b556343",
   "metadata": {},
   "outputs": [
    {
     "name": "stderr",
     "output_type": "stream",
     "text": [
      "Steps: 100%|█████████████| 200/200 [00:53<00:00,  3.76it/s, Loss=-6.05, LR=1e-6]\n",
      "Steps: 100%|█████████████| 200/200 [00:52<00:00,  3.77it/s, Loss=-5.82, LR=1e-6]\n",
      "Steps: 100%|█████████████| 200/200 [00:52<00:00,  3.78it/s, Loss=-5.73, LR=1e-6]\n",
      "Steps: 100%|█████████████| 200/200 [00:52<00:00,  3.78it/s, Loss=-5.75, LR=1e-6]"
     ]
    },
    {
     "name": "stdout",
     "output_type": "stream",
     "text": [
      "states\n",
      "\ttorch.Size([1000, 4, 200])\n",
      "proposals\n",
      "\ttorch.Size([1000, 4, 200])\n",
      "energies\n",
      "\ttorch.Size([1000])\n",
      "acceptance_rate\n",
      "\ttorch.Size([])\n"
     ]
    },
    {
     "name": "stderr",
     "output_type": "stream",
     "text": [
      "\n"
     ]
    }
   ],
   "source": [
    "proposals = FSP.generate(n_proposals=1000, n_steps=200, lr_scheduler=True)\n",
    "for k in proposals.keys():\n",
    "    print(k)\n",
    "    print(f\"\\t{proposals[k].shape}\")"
   ]
  },
  {
   "cell_type": "markdown",
   "id": "d2a37097-ab66-461d-9ceb-3f54a549c593",
   "metadata": {},
   "source": [
    "# Simulated Annealing\n",
    "\n",
    "Simulated Annealing is an adaptation of the Metropolis-Hastings MCMC algorithm for non-convex optimization. We implement this by combining the:\n",
    "\n",
    "- `BasicParameters` parameter class\n",
    "- `SimulatedAnnealing` generator class\n",
    "\n",
    "Again, this method can be combined with many different `Energy` classes, but for this example, we're reusing the one from above."
   ]
  },
  {
   "cell_type": "code",
   "execution_count": 9,
   "id": "73f8c69f-7435-48a6-879b-a3739e252ac4",
   "metadata": {},
   "outputs": [
    {
     "data": {
      "text/plain": [
       "BasicParameters()"
      ]
     },
     "execution_count": 9,
     "metadata": {},
     "output_type": "execute_result"
    }
   ],
   "source": [
    "params = boda.generator.BasicParameters(\n",
    "    data=logits, left_flank=left_flank, right_flank=right_flank\n",
    ")\n",
    "params.cuda()"
   ]
  },
  {
   "cell_type": "code",
   "execution_count": 10,
   "id": "d150123b-908d-4211-bbba-889e2db40fb9",
   "metadata": {},
   "outputs": [],
   "source": [
    "SA = boda.generator.SimulatedAnnealing(params, energy, n_positions=3, gamma=0.501)"
   ]
  },
  {
   "cell_type": "markdown",
   "id": "3243d7db-cc2c-403e-b379-ed703ba99c56",
   "metadata": {},
   "source": [
    "## Generate\n",
    "Again, there are two options to design sequences. \n",
    "\n",
    "With `FastSeqProp` you can use the `run` method to optimize the distribution of the straight through estimator parameters stored in `params`. You can then use the `get_sample` method in `StrightThroughParameters` to collect an `(n_samples, batch_size, 4, 600` one-hot tensor that has collected `n_samples` from each optimized distribution.\n",
    "\n",
    "Alternatively, you can use the `generate` method to repeatedly execute `FastSeqProp` until the desired number of one-hot proposales are collected. At each iteration, the best sample per sequence distribution will be collected to represent that distribution at the end of optimization.\n",
    "\n",
    "With `SimulatedAnnealing` you can use the `collect_samples` to optimize the batch of sequences housed in `BasicParameters` and return (them with the most recently computed energy values) the trajectory of sequences and energy values. We generate an illustrative plot of the sample trajectory.\n",
    "\n",
    "Alternatively, you can use the `generate` method in the same way as you would for `FastSeqProp` and will recieve a similarly formatted output."
   ]
  },
  {
   "cell_type": "code",
   "execution_count": 11,
   "id": "7e71df08-a189-4379-a6b0-56e4ac1143d0",
   "metadata": {
    "scrolled": true,
    "tags": []
   },
   "outputs": [
    {
     "name": "stderr",
     "output_type": "stream",
     "text": [
      "collect samples\n",
      "100%|███████████████████████████████████████| 2000/2000 [00:34<00:00, 58.69it/s]\n"
     ]
    },
    {
     "name": "stdout",
     "output_type": "stream",
     "text": [
      "states\n",
      "\ttorch.Size([2000, 256, 4, 200])\n",
      "energies\n",
      "\ttorch.Size([2000, 256])\n",
      "acceptances\n",
      "\ttorch.Size([2000, 256])\n"
     ]
    }
   ],
   "source": [
    "samples = SA.collect_samples(n_steps=2000, n_burnin=0)\n",
    "\n",
    "for k in samples['samples'].keys():\n",
    "    print(k)\n",
    "    if samples['samples'][k] is not None:\n",
    "        print(f\"\\t{samples['samples'][k].shape}\")\n",
    "    else:\n",
    "        print(\"\\tNone\")"
   ]
  },
  {
   "cell_type": "code",
   "execution_count": 12,
   "id": "d3e3024a-5c9d-4667-b6c7-6ff0b8287908",
   "metadata": {},
   "outputs": [],
   "source": [
    "A_col = (12, 128, 64)\n",
    "C_col = (56, 83, 164)\n",
    "G_col = (251, 177, 22)\n",
    "T_col = (237, 31, 36)\n",
    "nt_col = np.array([A_col, C_col, G_col, T_col])"
   ]
  },
  {
   "cell_type": "code",
   "execution_count": 13,
   "id": "ba202f58-0033-4d7b-9e24-04b9153a1d50",
   "metadata": {},
   "outputs": [
    {
     "name": "stdout",
     "output_type": "stream",
     "text": [
      "165\n"
     ]
    },
    {
     "data": {
      "image/png": "[encoded data removed]",
      "text/plain": [
       "<Figure size 640x480 with 2 Axes>"
      ]
     },
     "metadata": {},
     "output_type": "display_data"
    }
   ],
   "source": [
    "fig, ax = plt.subplots(2,1,sharex=True)\n",
    "\n",
    "seq_idx = np.random.choice(np.arange(256))\n",
    "print(seq_idx)\n",
    "ax[0].imshow(\n",
    "    np.concatenate(\n",
    "        [\n",
    "            nt_col[samples['samples']['states'][:,seq_idx,:,:].max(dim=1).indices]/255.,\n",
    "            #F.softmax(torch.tensor(FSP.param_hist[:,seq_idx,:,:]),dim=1).max(dim=1).values[:,:,np.newaxis]\n",
    "        ],\n",
    "        axis=-1\n",
    "    ).transpose(1,0,2)\n",
    "    \n",
    ")\n",
    "ax[0].set_aspect('auto')\n",
    "ax[0].set_ylabel('nucleotide position')\n",
    "\n",
    "sns.lineplot(\n",
    "    data=pd.DataFrame(\n",
    "    {'energy': samples['samples']['energies'].flatten(),\n",
    "    'step': np.repeat(np.arange(2000), 256)}\n",
    "    ), \n",
    "    x='step',\n",
    "    y='energy',\n",
    "    errorbar=\"pi\",\n",
    "    ax=ax[1]\n",
    ")\n",
    "\n",
    "\n",
    "plt.show()"
   ]
  },
  {
   "cell_type": "code",
   "execution_count": 14,
   "id": "c352dcec-2cc1-4553-a857-0372153ca11c",
   "metadata": {
    "scrolled": true,
    "tags": []
   },
   "outputs": [
    {
     "name": "stderr",
     "output_type": "stream",
     "text": [
      "collect samples\n",
      "100%|███████████████████████████████████████| 2000/2000 [00:32<00:00, 61.32it/s]\n",
      "collect samples\n"
     ]
    },
    {
     "name": "stdout",
     "output_type": "stream",
     "text": [
      "attempt 1 acceptance rate: 256/256\n"
     ]
    },
    {
     "name": "stderr",
     "output_type": "stream",
     "text": [
      "100%|███████████████████████████████████████| 2000/2000 [00:32<00:00, 61.52it/s]\n",
      "collect samples\n"
     ]
    },
    {
     "name": "stdout",
     "output_type": "stream",
     "text": [
      "attempt 2 acceptance rate: 256/256\n"
     ]
    },
    {
     "name": "stderr",
     "output_type": "stream",
     "text": [
      "100%|███████████████████████████████████████| 2000/2000 [00:32<00:00, 61.38it/s]\n",
      "collect samples\n"
     ]
    },
    {
     "name": "stdout",
     "output_type": "stream",
     "text": [
      "attempt 3 acceptance rate: 256/256\n"
     ]
    },
    {
     "name": "stderr",
     "output_type": "stream",
     "text": [
      "100%|███████████████████████████████████████| 2000/2000 [00:32<00:00, 61.36it/s]\n"
     ]
    },
    {
     "name": "stdout",
     "output_type": "stream",
     "text": [
      "attempt 4 acceptance rate: 256/256\n",
      "proposals\n",
      "\ttorch.Size([1000, 4, 200])\n",
      "energies\n",
      "\ttorch.Size([1000])\n",
      "acceptance_rate\n",
      "\ttorch.Size([0])\n"
     ]
    }
   ],
   "source": [
    "samples = SA.generate(n_proposals=1000, n_steps=2000, n_burnin=0)\n",
    "\n",
    "for k in samples.keys():\n",
    "    print(k)\n",
    "    print(f\"\\t{samples[k].shape}\")\n"
   ]
  },
  {
   "cell_type": "markdown",
   "id": "46031545-8382-4be8-8f84-0fac5ec84d53",
   "metadata": {},
   "source": [
    "# AdaLead\n",
    "SECTION UNDER CONSTRUCTION: \n",
    "- This example works, but it's not organized in the same way as the other algorithms. \n",
    "- Even though this works, the convention for AdaLead is to MAXIMIZE fitness, not MINIMIZE an objective, so need to do some retooling for usage consistancy."
   ]
  },
  {
   "cell_type": "code",
   "execution_count": 4,
   "id": "9c6820df-44b0-4497-8a1a-1bc52dff0b22",
   "metadata": {},
   "outputs": [
    {
     "name": "stderr",
     "output_type": "stream",
     "text": [
      "Proposal 1/5 (Attempt 1/10): 100%|█| 30/30 [00:14<00:00,  2.03it/s, Initial top \n",
      "Proposal 2/5 (Attempt 2/10): 100%|█| 30/30 [00:11<00:00,  2.68it/s, Initial top \n",
      "Proposal 3/5 (Attempt 3/10): 100%|█| 30/30 [00:11<00:00,  2.59it/s, Initial top \n",
      "Proposal 4/5 (Attempt 4/10): 100%|█| 30/30 [00:11<00:00,  2.58it/s, Initial top \n",
      "Proposal 5/5 (Attempt 5/10): 100%|█| 30/30 [00:11<00:00,  2.71it/s, Initial top "
     ]
    },
    {
     "name": "stdout",
     "output_type": "stream",
     "text": [
      "\n",
      "\n",
      "Proposed sequences:\n",
      "1 - TCGAGTCATGCCATAAGGCATCCTTTCACACCTTCGACGGCGCGCTAAGCCGCTGCAGACACGCTCCAAGCTGATAAGGACTACAGGCAGTAGCCTGCCCTTATCATAGCCAAACAGTCTTGGACCACACCTAACTGTCAATCTCCCAGAACCATCTGGAAGGTGTGATAAGGAGACCTAGCCATGGACCACAGCCCAGT\n",
      "2 - TCGAGGAGCACATGGCCGCGATAAGGTACTGTAACAGCGGTGCTGACTAATCGGTTCCCTTGCACTTATCTTGCTGGTTGCACATTCTTCGAAGCCGTCGAAGCATGTGCGGAGGTAGATAAGGCGTTGGAGGAAATTTAATGACGCTCACCTTCAATGAGGAGCTGTCAGATGTTCTAGATATGGCTAGTGAGCGCATC\n",
      "3 - CCTTAGCATCCAACCGTCAGTCACCTGTCGACGGCTAACCATAGACGTCTGTCAACTTAATAGCATGTTGGCGCCTACAATTAAGGAGGTGACAGCCAAGAAGGTGTCAAGTAGAGAAGTTCCTGTCAGCTAAAGTGACATTACTTATCAAGAGCCGTTGCCTCAAACTCTTATCTTCAAACTGCAGACGGTTTTCCCGC\n",
      "4 - TTGCGTGCACCTGTTTCCCGCCTTTTGGTGTTATCGGCTTGAAGCATCACACAACCGTATTAGTCACTCATCACTTTCTAGGGTGTGATAATGAGATATGACAGCAGATGTTAGTATGACATCCTTGTTGACAGTACCGTTACTCAGAAGCAGCTGTTTTTGGCGCGATAAGATAACAGCCCCCGCACGTCCGTCGAAGG\n",
      "5 - ACATCGTTGTCAAATACATGATTGACACCTTGCGGCTTCGACGGCCCGGCATCCAACACAGGTGTGCGTTGAGATAACGACACACTCGCCAACGGTTGGTGTGTGTTGTTCCATAGATAACGTCTCATTCGAAGAAACTGTCAGTCATAGCTAAGGTGTTTTCCCGCCACTCTTTCTGGGTGTGAAGGCGCTATCTGATA\n",
      "\n",
      "Predicted activities:\n",
      "1 - [ 7.872954  -2.3145657 -2.250175 ]\n",
      "2 - [ 6.604092  -2.1021895 -2.0369809]\n",
      "3 - [ 6.4452057 -2.3282628 -2.2220402]\n",
      "4 - [ 7.005341  -2.0325537 -2.1358078]\n",
      "5 - [ 6.6198487 -2.0880277 -2.1129498]\n",
      "\n",
      "Predicted MinGaps:\n",
      "1 - 10.123128890991211\n",
      "2 - 8.641073226928711\n",
      "3 - 8.667245864868164\n",
      "4 - 9.037895202636719\n",
      "5 - 8.707876205444336\n"
     ]
    },
    {
     "name": "stderr",
     "output_type": "stream",
     "text": [
      "\n"
     ]
    }
   ],
   "source": [
    "model = my_model\n",
    "\n",
    "#-------------------- Define fitness class --------------------\n",
    "class MinGap_fitness(nn.Module):\n",
    "    def __init__(self,\n",
    "                 model,\n",
    "                 bias_cell=0,\n",
    "                 bending_factor=1.0,\n",
    "                 a_min=-math.inf,\n",
    "                 a_max=math.inf):\n",
    "        super().__init__()\n",
    "        self.model = model\n",
    "        self.bias_cell = bias_cell\n",
    "        self.bending_factor = bending_factor\n",
    "        self.a_min = a_min\n",
    "        self.a_max = a_max     \n",
    "             \n",
    "        try: self.model.eval()\n",
    "        except: pass\n",
    "    \n",
    "    def forward(self, x):\n",
    "        preds = self.model(x).clamp(self.a_min, self.a_max)\n",
    "        return self.mingap(self.bend(preds))\n",
    "    \n",
    "    def bend(self, x):\n",
    "        return x - self.bending_factor * (torch.exp(-x) - 1)\n",
    "    \n",
    "    def mingap(self, x):\n",
    "        target = x[...,self.bias_cell]\n",
    "        non_target_max = x[...,[ i for i in range(x.shape[-1]) if i != self.bias_cell]].max(-1).values\n",
    "        return target - non_target_max\n",
    "\n",
    "#-------------------- Choose AdaLead settings --------------------\n",
    "bias_cell = 0\n",
    "score_pct = 0.0\n",
    "num_sequences_to_generate = 5\n",
    "mingap_threshold = 2\n",
    "max_attempts = 10\n",
    "\n",
    "num_generations = 30\n",
    "model_queries_per_batch = 800\n",
    "eval_batch_size = 20           \n",
    "sequences_batch_size = 20      \n",
    "rho = 2                        \n",
    "threshold = 0.25               \n",
    "recomb_rate = 0.1              \n",
    "mu = 1\n",
    "a_min = -2.0\n",
    "a_max = 6.0\n",
    "\n",
    "#-------------------- Create fitness instance --------------------\n",
    "fitness_fn = MinGap_fitness(model=model, bias_cell=bias_cell, a_min=a_min, a_max=a_max, bending_factor=0.0)\n",
    "\n",
    "#-------------------- Run AdaLead --------------------\n",
    "proposed_sequences = []\n",
    "proposed_sequences_mingaps = []\n",
    "predictions = []\n",
    "attempts = 1\n",
    "while (len(proposed_sequences) < num_sequences_to_generate) and (attempts <= max_attempts):\n",
    "    description_str = f'Proposal {len(proposed_sequences)+1}/{num_sequences_to_generate} (Attempt {attempts}/{max_attempts})'\n",
    "    generator = boda.generator.AdaLead(\n",
    "        model_queries_per_batch=model_queries_per_batch,\n",
    "        eval_batch_size=eval_batch_size,\n",
    "        sequences_batch_size=sequences_batch_size,\n",
    "        rho=rho,\n",
    "        threshold=threshold,\n",
    "        recomb_rate=recomb_rate, \n",
    "        mu=mu,\n",
    "        fitness_fn=fitness_fn\n",
    "    )\n",
    "    generator.cuda()\n",
    "    generator.run(num_iterations=num_generations, desc_str=description_str)\n",
    "    top_sequence = generator.new_seqs[0]\n",
    "    pred = fitness_fn.model(generator.pad(boda.common.utils.dna2tensor(top_sequence).view(1,4,200).cuda())).detach().cpu()\n",
    "    mingap = fitness_fn.mingap(pred).item()\n",
    "    if mingap >= mingap_threshold:\n",
    "        proposed_sequences.append(top_sequence)\n",
    "        proposed_sequences_mingaps.append(mingap)\n",
    "        predictions.append(pred)\n",
    "    else:\n",
    "        print(f'Proposal rejected. Fitness={mingap} < {mingap_threshold}', flush=True)\n",
    "    attempts += 1\n",
    "    \n",
    "predictions = torch.cat(predictions)\n",
    "print()\n",
    "print()\n",
    "\n",
    "print(f'Proposed sequences:')\n",
    "for seq_idx, seq in enumerate(proposed_sequences):\n",
    "    print(f'{seq_idx + 1} - {seq}')\n",
    "print()\n",
    "\n",
    "print(f'Predicted activities:')\n",
    "for seq_idx in range(predictions.shape[0]):\n",
    "    print(f'{seq_idx + 1} - {predictions[seq_idx, :].numpy()}')\n",
    "print()\n",
    "\n",
    "print(f'Predicted MinGaps:')\n",
    "for seq_idx, mingap in enumerate(proposed_sequences_mingaps):\n",
    "    print(f'{seq_idx + 1} - {mingap}')"
   ]
  },
  {
   "cell_type": "markdown",
   "id": "604044fc-1b13-41f1-b06d-aa40eec209d0",
   "metadata": {},
   "source": [
    "# Zero-order Markov sampling"
   ]
  },
  {
   "cell_type": "markdown",
   "id": "08f29e29-2285-4dcb-af34-1f184fbd5b11",
   "metadata": {},
   "source": [
    "Zero-order Markov sampling samples strings with a fixed probablility and retains a collection of the lowest energy elements that have been tested so far. Make sure n_proposals < logits.shape[0] * n_steps otherwise you won't collect enough samples to satify the n_proposals request. We implement this for the uniform case by by combining the:\n",
    "\n",
    "- `PassThroughParameters` parameter class\n",
    "- `ZeroOrderMarkov` generator class\n",
    "\n",
    "Like the others, this method can be combined with many different `Energy` classes, but for this example, we're reusing the one from above."
   ]
  },
  {
   "cell_type": "code",
   "execution_count": 15,
   "id": "40012572-53a1-47a3-87c0-6c5ee39a385a",
   "metadata": {},
   "outputs": [],
   "source": [
    "zom_bsz = logits.shape[0]\n",
    "params = boda.generator.parameters.PassThroughParameters(\n",
    "    data=logits, left_flank=left_flank, right_flank=right_flank, token_dim=1\n",
    ").cuda()"
   ]
  },
  {
   "cell_type": "code",
   "execution_count": 16,
   "id": "94997e82-f989-44ef-aeb8-0cde8b242a1e",
   "metadata": {},
   "outputs": [],
   "source": [
    "ZOM = boda.generator.ZeroOrderMarkov(params, energy)"
   ]
  },
  {
   "cell_type": "markdown",
   "id": "475cca7f-c371-42e9-824d-bc7bc8e08049",
   "metadata": {},
   "source": [
    "## Generate\n",
    "For this algorithm, there's only one option to design sequences. \n",
    "\n",
    "Use the `generate` method to get a dictionary of `{'samples': torch.tensor, 'energies': torch.tensor}`."
   ]
  },
  {
   "cell_type": "code",
   "execution_count": 17,
   "id": "05840457-38b3-4fd7-aed1-c84b29d32ea3",
   "metadata": {},
   "outputs": [
    {
     "name": "stderr",
     "output_type": "stream",
     "text": [
      "Steps: 100%|█████████████████| 1000/1000 [00:07<00:00, 127.67it/s, energy=-2.39]\n"
     ]
    }
   ],
   "source": [
    "n_steps = 1000\n",
    "log_step= 10\n",
    "zom_samples = ZOM.generate(n_proposals=1000, n_steps=n_steps, log_energy=True, log_step=log_step)\n"
   ]
  },
  {
   "cell_type": "code",
   "execution_count": 18,
   "id": "aa8a7ece-7626-4b0f-bae5-e5d2b846df3b",
   "metadata": {},
   "outputs": [
    {
     "data": {
      "image/png": "[encoded data removed]",
      "text/plain": [
       "<Figure size 640x480 with 1 Axes>"
      ]
     },
     "metadata": {},
     "output_type": "display_data"
    }
   ],
   "source": [
    "fig, ax = plt.subplots(1,1)\n",
    "\n",
    "timer = 'step'\n",
    "\n",
    "sns.lineplot(data=ZOM.energy_log, x=timer, y=\"energy\", errorbar=\"pi\", ax=ax)\n",
    "\n",
    "plt.show()"
   ]
  },
  {
   "cell_type": "code",
   "execution_count": 19,
   "id": "556eb119-5008-40f4-aea5-e0fe24e95dbc",
   "metadata": {},
   "outputs": [
    {
     "name": "stdout",
     "output_type": "stream",
     "text": [
      "proposals\n",
      "\ttorch.Size([1000, 4, 200])\n",
      "energies\n",
      "\ttorch.Size([1000])\n"
     ]
    }
   ],
   "source": [
    "for k in zom_samples.keys():\n",
    "    print(k)\n",
    "    print(f\"\\t{zom_samples[k].shape}\")\n"
   ]
  }
 ],
 "metadata": {
  "kernelspec": {
   "display_name": "Python 3 (ipykernel)",
   "language": "python",
   "name": "python3"
  },
  "language_info": {
   "codemirror_mode": {
    "name": "ipython",
    "version": 3
   },
   "file_extension": ".py",
   "mimetype": "text/x-python",
   "name": "python",
   "nbconvert_exporter": "python",
   "pygments_lexer": "ipython3",
   "version": "3.7.12"
  }
 },
 "nbformat": 4,
 "nbformat_minor": 5
}
